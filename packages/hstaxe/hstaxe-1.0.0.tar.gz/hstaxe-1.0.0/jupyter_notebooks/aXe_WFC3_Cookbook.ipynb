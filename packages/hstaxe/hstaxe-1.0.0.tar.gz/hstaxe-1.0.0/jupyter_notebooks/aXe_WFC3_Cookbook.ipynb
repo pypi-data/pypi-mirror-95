{
 "cells": [
  {
   "cell_type": "markdown",
   "metadata": {},
   "source": [
    "<h2>HSTaXe Installation</h2>"
   ]
  },
  {
   "cell_type": "markdown",
   "metadata": {},
   "source": [
    "<li>conda create --name hstaxe python=3 \n",
    "<li>conda activate hstaxe\n",
    "<li>git clone https://github.com/spacetelescope/hstaxe.git\n",
    "<li>conda install numpy astropy gsl cfitsio wcstools stwcs stsci.imagestats drizzle drizzlepac jupyter\n",
    "<li>cd hstaxe\n",
    "<li>python setup.py install"
   ]
  },
  {
   "cell_type": "markdown",
   "metadata": {},
   "source": [
    "<h2> Load a few Python modules"
   ]
  },
  {
   "cell_type": "code",
   "execution_count": null,
   "metadata": {},
   "outputs": [],
   "source": [
    "from astropy.io import fits\n",
    "import numpy as np\n",
    "import os, shutil\n",
    "import matplotlib.pyplot as plt\n",
    "%matplotlib inline\n",
    "\n",
    "from drizzlepac import astrodrizzle\n",
    "\n",
    "from hstaxe import axetasks\n",
    "\n",
    "\n"
   ]
  },
  {
   "cell_type": "markdown",
   "metadata": {},
   "source": [
    "We save the current working directory"
   ]
  },
  {
   "cell_type": "code",
   "execution_count": null,
   "metadata": {},
   "outputs": [],
   "source": [
    "cwd = os.getcwd()\n",
    "print(\"We are in %s\" % (cwd))"
   ]
  },
  {
   "cell_type": "markdown",
   "metadata": {},
   "source": [
    "<H2>Preparing the G141 data"
   ]
  },
  {
   "cell_type": "markdown",
   "metadata": {},
   "source": [
    "We will create a G141 subdirectory to copy all of the G141 files into. This where we will prepare the G141 data"
   ]
  },
  {
   "cell_type": "markdown",
   "metadata": {},
   "source": [
    "Creating the directory, removing any existing one"
   ]
  },
  {
   "cell_type": "code",
   "execution_count": null,
   "metadata": {},
   "outputs": [],
   "source": [
    "os.chdir(cwd)\n",
    "if os.path.isdir(\"G141\"):\n",
    "    shutil.rmtree(\"G141\")\n",
    "os.mkdir(\"G141\")"
   ]
  },
  {
   "cell_type": "markdown",
   "metadata": {},
   "source": [
    "Copying the G141 data (which we grab from our cookbook_data directory)"
   ]
  },
  {
   "cell_type": "code",
   "execution_count": null,
   "metadata": {},
   "outputs": [],
   "source": [
    "os.system(\"cp cookbook_data/G141/*flt.fits G141/\")\n",
    "os.system(\"cp cookbook_data/G141/G141.lis G141/\")"
   ]
  },
  {
   "cell_type": "markdown",
   "metadata": {},
   "source": [
    "We move into the G141 directory and check the content of the G141.lis file"
   ]
  },
  {
   "cell_type": "code",
   "execution_count": null,
   "metadata": {},
   "outputs": [],
   "source": [
    "os.chdir(cwd)\n",
    "os.chdir(\"G141\")\n",
    "!cat G141.lis"
   ]
  },
  {
   "cell_type": "markdown",
   "metadata": {},
   "source": [
    "We now create a G141 mosaic using the G141 data"
   ]
  },
  {
   "cell_type": "markdown",
   "metadata": {},
   "source": [
    "This mosaic will be used to set up the proper astrometry for each individual FLT files. We can only extract G141 spectra from FLT files which have been used to make this mosaic"
   ]
  },
  {
   "cell_type": "code",
   "execution_count": null,
   "metadata": {},
   "outputs": [],
   "source": [
    "astrodrizzle.AstroDrizzle(\"@G141.lis\",output=\"G141\",build=True)"
   ]
  },
  {
   "cell_type": "markdown",
   "metadata": {},
   "source": [
    "We now prepare the F140W Imaging data"
   ]
  },
  {
   "cell_type": "markdown",
   "metadata": {},
   "source": [
    "We already created a mosaic of all the G141 data for astrometric purposes, and we now create an F140W mosaic using the G141 mosaic as the astrometric reference frame. This will ensure that the G141 and F140W mosaics have pixels with the same RA and DEC. \n",
    "The process is similar to what we did with the G141 data and we do this in a F140W sub-directory. The F140W mosaic is generated with the same WCS as the G141 mosaic we already generated."
   ]
  },
  {
   "cell_type": "markdown",
   "metadata": {},
   "source": [
    "Creating the directory, removing any existing one"
   ]
  },
  {
   "cell_type": "code",
   "execution_count": null,
   "metadata": {},
   "outputs": [],
   "source": [
    "os.chdir(cwd)\n",
    "\n",
    "if os.path.isdir(\"F140W\"):\n",
    "    shutil.rmtree(\"F140W\")\n",
    "\n",
    "os.mkdir(\"F140W\")\n"
   ]
  },
  {
   "cell_type": "markdown",
   "metadata": {},
   "source": [
    "Copy the F140W data (which we grab from our cookbook_data directory)"
   ]
  },
  {
   "cell_type": "code",
   "execution_count": null,
   "metadata": {},
   "outputs": [],
   "source": [
    "os.system(\"cp cookbook_data/F140W/*flt.fits F140W/\")\n",
    "os.system(\"cp cookbook_data/F140W/F140W.lis F140W/\")"
   ]
  },
  {
   "cell_type": "markdown",
   "metadata": {},
   "source": [
    "We move into the F140W directory and check the content of the F140W.lis file"
   ]
  },
  {
   "cell_type": "code",
   "execution_count": null,
   "metadata": {},
   "outputs": [],
   "source": [
    "os.chdir(cwd)\n",
    "os.chdir(\"F140W\")\n",
    "!cat F140W.lis"
   ]
  },
  {
   "cell_type": "markdown",
   "metadata": {},
   "source": [
    "We create a F140W mosaic using the F140W data and the G141 mosaic as a reference"
   ]
  },
  {
   "cell_type": "code",
   "execution_count": null,
   "metadata": {},
   "outputs": [],
   "source": [
    "ref = \"../G141/G141_drz.fits[1]\"\n",
    "astrodrizzle.AstroDrizzle(\"@F140W.lis\",output=\"F140W\",in_memory=False,skysub=\"yes\",build=True,driz_cr_corr=True,driz_cr=True,final_wcs=True,driz_separate=True,driz_sep_wcs=True,driz_sep_refimage=ref,final_refimage=ref)"
   ]
  },
  {
   "cell_type": "markdown",
   "metadata": {},
   "source": [
    "The F140W and G141 should be aligned and bright objects should generate bright spectra in the expected position. We should see very liittle offset in the y-direction for WFC3 IR grism data"
   ]
  },
  {
   "cell_type": "code",
   "execution_count": null,
   "metadata": {
    "scrolled": true
   },
   "outputs": [],
   "source": [
    "plt.rcParams[\"figure.figsize\"] = (10,7)\n",
    "plt.subplot(1,2,1)\n",
    "d = fits.open(\"F140W_drz.fits\")[1].data\n",
    "im1 = plt.imshow(d,origin=\"lower\")\n",
    "im1.set_clim(0,.2)\n",
    "\n",
    "plt.subplot(1,2,2)\n",
    "d = fits.open(\"../G141/G141_drz.fits\")[1].data\n",
    "im1 = plt.imshow(d,origin=\"lower\")\n",
    "im1.set_clim(0,.2)"
   ]
  },
  {
   "cell_type": "markdown",
   "metadata": {},
   "source": [
    "We create an object catalog using sextractor"
   ]
  },
  {
   "cell_type": "markdown",
   "metadata": {},
   "source": [
    "This is one step that needs to be done carefully as several things can go wrong.\n",
    "- Make sure you set the magnitude zeropoint properly for the image you are using\n",
    "- One can generate a simple catalog using:\n",
    "\n",
    "    sex -c aXe.sex F140W_drz.fits[1] -DETECT_THRESH 5 -MAG_ZEROPOINT 26.4525\n",
    "    \n",
    "    \n",
    "- See aXe.param for the required parameters that aXe will be looking for\n",
    "- Check the resulting catalog to make sure that all objects have good magnitudes (i.e. no mag of 99.)\n",
    "- Edit cookbook.cat and rename column MAG_ISO with MAG_F1392, or you will get an \"aXeError: Catalogue: test.cat does not contain any magnitude column!\" error when running iolprep"
   ]
  },
  {
   "cell_type": "markdown",
   "metadata": {},
   "source": [
    "This catalog, when doing a simple extraction, will be used to compute the SED of each sources. These SEDs will be used to compute our contamination models. In this example, we used a single band, F140W, but we could have added information in other bands such as F125W for example. This requires running Sextractor in matched photometry mode, and the creation of a catalog where magnitudes in multiple bands are properly listed"
   ]
  },
  {
   "cell_type": "markdown",
   "metadata": {},
   "source": [
    "For simplicity, here, we copy an already generated catalog:"
   ]
  },
  {
   "cell_type": "code",
   "execution_count": null,
   "metadata": {},
   "outputs": [],
   "source": [
    "os.system(\"cp ../cookbook_data/cookbook.cat .\")\n",
    "!cat cookbook.cat"
   ]
  },
  {
   "cell_type": "markdown",
   "metadata": {},
   "source": [
    "We can now run aXe"
   ]
  },
  {
   "cell_type": "markdown",
   "metadata": {},
   "source": [
    "We start by setting up some necessary environment variables that point to the various aXe directories."
   ]
  },
  {
   "cell_type": "markdown",
   "metadata": {},
   "source": [
    "Create a directory called CONF and copy the WFC3 G141 IR Calibration files in there."
   ]
  },
  {
   "cell_type": "code",
   "execution_count": null,
   "metadata": {},
   "outputs": [],
   "source": [
    "os.chdir(cwd)\n",
    "\n",
    "if os.path.isdir(\"CONF\"):\n",
    "    shutil.rmtree(\"CONF\")\n",
    "os.mkdir(\"CONF\")\n",
    "\n",
    "os.system(\"cp cookbook_data/CONF/* CONF/\")"
   ]
  },
  {
   "cell_type": "markdown",
   "metadata": {},
   "source": [
    "Set up some work directories and environment variables required by aXe:"
   ]
  },
  {
   "cell_type": "code",
   "execution_count": null,
   "metadata": {},
   "outputs": [],
   "source": [
    "import os\n",
    "\n",
    "os.chdir(cwd)\n",
    "\n",
    "if os.path.isdir(\"DATA\"):\n",
    "    shutil.rmtree(\"DATA\")\n",
    "os.mkdir(\"DATA\")\n",
    "os.environ['AXE_IMAGE_PATH'] = './DATA/' \n",
    "print ('--> variable AXE_IMAGE_PATH   set to \"./DATA/\"')\n",
    "\n",
    "os.environ['AXE_CONFIG_PATH'] = './CONF/'\n",
    "print ('--> variable AXE_CONFIG_PATH  set to \"./CONF/\"')\n",
    "\n",
    "if os.path.isdir(\"OUTPUT\"):\n",
    "    shutil.rmtree(\"OUTPUT\")\n",
    "os.mkdir(\"OUTPUT\")\n",
    "os.environ['AXE_OUTPUT_PATH'] = './OUTPUT/'\n",
    "print ('--> variable AXE_OUTPUT_PATH  set to \"./OUTPUT/\"')\n",
    "\n",
    "print (\"Length of AXE_IMAGE_PATH is\",len(os.environ['AXE_IMAGE_PATH']),\"characters\")\n"
   ]
  },
  {
   "cell_type": "markdown",
   "metadata": {},
   "source": [
    "We define the FOV boundaries for the WFC3 IR observations"
   ]
  },
  {
   "cell_type": "code",
   "execution_count": null,
   "metadata": {},
   "outputs": [],
   "source": [
    "dimension_info = \"183,85,50,50\""
   ]
  },
  {
   "cell_type": "markdown",
   "metadata": {},
   "source": [
    "We copy the G141 FLT files and the F140W FLT files in the DATA directory"
   ]
  },
  {
   "cell_type": "markdown",
   "metadata": {},
   "source": [
    "You can either use the original data or optionally the FLT files used to create the G141 mosaic earlier, which will have some extra bad pixels flagging"
   ]
  },
  {
   "cell_type": "code",
   "execution_count": null,
   "metadata": {},
   "outputs": [],
   "source": [
    "os.system(\"cp G141/*flt.fits DATA/\")\n",
    "os.system(\"cp F140W/*flt.fits DATA/\")"
   ]
  },
  {
   "cell_type": "markdown",
   "metadata": {},
   "source": [
    "We use the iolprep aXe task to generate individual F140W catalogs"
   ]
  },
  {
   "cell_type": "markdown",
   "metadata": {},
   "source": [
    "This task will create the individual F140W extraction catalogs, one for each of the files listed in the F140W.lis file. \n",
    "We pass the F140W mosaic to it, as it contains all the information about all the individual F140W FLT file."
   ]
  },
  {
   "cell_type": "code",
   "execution_count": null,
   "metadata": {},
   "outputs": [],
   "source": [
    "os.chdir(cwd)\n",
    "os.chdir(\"F140W\")\n",
    "\n",
    "axetasks.iolprep(drizzle_image='F140W_drz.fits',\n",
    "                     input_cat='cookbook.cat',\n",
    "                     dimension_in=dimension_info)"
   ]
  },
  {
   "cell_type": "markdown",
   "metadata": {},
   "source": [
    "We copy the newly create catalog files into the DATA directory"
   ]
  },
  {
   "cell_type": "code",
   "execution_count": null,
   "metadata": {},
   "outputs": [],
   "source": [
    "os.system(\"cp ib6o23*_1.cat ../DATA/\")"
   ]
  },
  {
   "cell_type": "markdown",
   "metadata": {},
   "source": [
    "We are almost ready to extract the spectra.\n",
    "We need to create an file aXe.lis containing the G141 images, expected catalog names and associated F140W direct images"
   ]
  },
  {
   "cell_type": "markdown",
   "metadata": {},
   "source": [
    "The G141 mosaic we created earlier is not used directly during the aXe extraction process. However, the F140W mosaic was used to create an object master catalog. This catalog will be processed to generate individual object catalogs for the files used to create the F140W mosaic. The aXe.lis file lists which F140W images are logically associated with a particular G141 image. Ideally, these are images taken in the same HST visit so that we can be sure that the WCS of both files are consistent.\n",
    "\n",
    "The aXe.lis file is a simple text file, with a slightly different format than the one above. In this file, each line contains 3 items:\n",
    "- The name of a G141 FLT file (e.g. [grism_rootname]_flt.fits\n",
    "- A catalog name with a name of [direct_rootname]_flt_1.cat\n",
    "- The name of the direct imaging file [direct_rootname]_flt.fits associated with the G141 data and the catalog. \n",
    "    \n",
    "At this stage, we only have items 1 and 2."
   ]
  },
  {
   "cell_type": "code",
   "execution_count": null,
   "metadata": {},
   "outputs": [],
   "source": [
    "os.chdir(cwd)\n",
    "os.system(\"cp cookbook_data/aXe.lis .\")\n",
    "!cat aXe.lis"
   ]
  },
  {
   "cell_type": "markdown",
   "metadata": {},
   "source": [
    "We run aXeprep. This task will amongst other things take care of background subtracting the G141 data using a single master sky."
   ]
  },
  {
   "cell_type": "code",
   "execution_count": null,
   "metadata": {},
   "outputs": [],
   "source": [
    "os.chdir(cwd)\n",
    "\n",
    "axetasks.axeprep(inlist=\"aXe.lis\",\n",
    "                     configs=\"G141.F140W.V4.31.conf\",\n",
    "                     backgr=True,\n",
    "                     backims=\"WFC3.IR.G141.sky.V1.0.fits\",\n",
    "                     norm=False,\n",
    "                     mfwhm=3.0)\n"
   ]
  },
  {
   "cell_type": "markdown",
   "metadata": {},
   "source": [
    "We can now proceed with a simple box extraction of our G141 spectra. This will not combine individual 1D spectra and we create one extracted spectrum per object and get G141 FLT file we are processing. \n",
    "The contamination is estimated using the Gaussian model of each object that is included in the  SExtractor object catalog test.cat."
   ]
  },
  {
   "cell_type": "markdown",
   "metadata": {},
   "source": [
    "For each of the G141 input FLT file, this will create the following in the OUTPUT/ directory:\n",
    "- [rootname]_flt_2.cat : Object catalog for the FLT file [rootname]_flt.fits\n",
    "- [rootname]_flt_2.OAF : Aperture file\n",
    "- [rootname]_flt_2.PET.fits : The Pixel Extraction Table, containing all the unbinned information about each spectrum\n",
    "- [rootname]_flt_2.SPC.fits : 1D extracted spectra\n",
    "- [rootname]_flt_2.CONT.fits : Contamination estimate for eact of the spectra\n",
    "- [rootname]_flt_2_opt.SPC.fits : Optimally extracted version of the 1D spectra\n",
    "\n",
    "While running the next notebook cell, please check the main terminal window as the aXe routines will output things in there. It will take a few minutes to run\n"
   ]
  },
  {
   "cell_type": "code",
   "execution_count": null,
   "metadata": {},
   "outputs": [],
   "source": [
    "axetasks.axecore('aXe.lis',\n",
    "                 \"G141.F140W.V4.31.conf\",\n",
    "                 extrfwhm=4.,\n",
    "                 drzfwhm=3.,\n",
    "                 backfwhm=0.,\n",
    "                 orient=False,\n",
    "                 weights=True,\n",
    "                 slitless_geom=False,\n",
    "                 cont_model='gauss',\n",
    "                 sampling='drizzle',\n",
    "                 exclude=True)\n"
   ]
  },
  {
   "cell_type": "markdown",
   "metadata": {},
   "source": [
    "Results are in the directory pointed to by os.environ['AXE_OUTPUT_PATH'], i.e. ./OUTPUT \n",
    "1D and 2D spectra extracted from individual FLT files are available. These are not combined.\n",
    "SPC files contained 1D spectra, opt.SPC files contained optimally extracted spectra (using gaussian profiles), STP files contain 2D stamps. CONT files contain the contamination estimate (gaussian based)"
   ]
  },
  {
   "cell_type": "code",
   "execution_count": null,
   "metadata": {},
   "outputs": [],
   "source": [
    "!ls OUTPUT/*SPC.fits\n",
    "!ls OUTPUT/*STP.fits"
   ]
  },
  {
   "cell_type": "markdown",
   "metadata": {},
   "source": [
    "We can examine individual 2D spectra from the STP files. Note that the STP files are meant for quality control and are not calibrated versions of the 2D spectra. "
   ]
  },
  {
   "cell_type": "code",
   "execution_count": null,
   "metadata": {},
   "outputs": [],
   "source": [
    "ID = 160\n",
    "\n",
    "plt.rcParams[\"figure.figsize\"] = (15,3)\n",
    "plt.subplot(2,2,1)\n",
    "try:\n",
    "    d1 = fits.open(\"OUTPUT/ib6o23rsq_flt_2.STP.fits\")[\"BEAM_%dA\" % (ID)].data\n",
    "    im1 = plt.imshow(d1,origin=\"lower\")\n",
    "    im1.set_clim(0,.1)\n",
    "except:\n",
    "    pass\n",
    "\n",
    "plt.subplot(2,2,2)\n",
    "try:\n",
    "    d1 = fits.open(\"OUTPUT/ib6o23ryq_flt_2.STP.fits\")[\"BEAM_%dA\" % (ID)].data\n",
    "    im1 = plt.imshow(d1,origin=\"lower\")\n",
    "    im1.set_clim(0,.1)\n",
    "except:\n",
    "    pass\n",
    "\n",
    "plt.subplot(2,2,3)\n",
    "try:\n",
    "    d1 = fits.open(\"OUTPUT/ib6o23ruq_flt_2.STP.fits\")[\"BEAM_%dA\" % (ID)].data\n",
    "    im1 = plt.imshow(d1,origin=\"lower\")\n",
    "    im1.set_clim(0,.1)\n",
    "except:\n",
    "    pass\n",
    "\n",
    "plt.subplot(2,2,4)\n",
    "try:\n",
    "    d1 = fits.open(\"OUTPUT/ib6o23s0q_flt_2.STP.fits\")[\"BEAM_%dA\" % (ID)].data\n",
    "    im1 = plt.imshow(d1,origin=\"lower\")\n",
    "    im1.set_clim(0,.1)\n",
    "except:\n",
    "    pass\n",
    "\n"
   ]
  },
  {
   "cell_type": "markdown",
   "metadata": {},
   "source": [
    "We now examine the calibrated 1D spectra of one of the sources:"
   ]
  },
  {
   "cell_type": "code",
   "execution_count": null,
   "metadata": {},
   "outputs": [],
   "source": [
    "import glob\n",
    "for s in glob.glob(\"OUTPUT/ib6o2*2.SPC.fits\"):\n",
    "    print( s)\n",
    "    d1 = fits.open(s)[\"BEAM_%dA\" % (ID)].data\n",
    "    w = d1[\"LAMBDA\"]\n",
    "    f = d1[\"FLUX\"]\n",
    "    e = d1[\"FERROR\"]\n",
    "    vg = (w>11500) & (w<16000)\n",
    "    plt.errorbar(w[vg],f[vg],e[vg])\n",
    "plt.xlabel(r'Wavelength ($\\AA$)')\n",
    "plt.ylabel(r'Flux ($erg/s/cm^2/\\AA/s$)');"
   ]
  },
  {
   "cell_type": "markdown",
   "metadata": {},
   "source": [
    "Contamination is not automatically removed but has been estimated and we can plot it"
   ]
  },
  {
   "cell_type": "code",
   "execution_count": null,
   "metadata": {},
   "outputs": [],
   "source": [
    "import glob\n",
    "for s in glob.glob(\"OUTPUT/ib6o2*2.SPC.fits\"):\n",
    "    print (s)\n",
    "    d1 = fits.open(s)[\"BEAM_%dA\" % (ID)].data\n",
    "    w = d1[\"LAMBDA\"]\n",
    "    c = d1[\"CONTAM\"]\n",
    "    vg = (w>11500) & (w<16000)\n",
    "    plt.plot(w[vg],c[vg],label=s)\n",
    "plt.legend()\n",
    "plt.xlabel(r'Wavelength ($\\AA$)')\n",
    "plt.ylabel(r'Flux ($erg/s/cm^2/\\AA/s$)');"
   ]
  },
  {
   "cell_type": "markdown",
   "metadata": {},
   "source": [
    "<h1>More advanced extraction"
   ]
  },
  {
   "cell_type": "markdown",
   "metadata": {},
   "source": [
    "We now use the aXe Fluxcube extraction"
   ]
  },
  {
   "cell_type": "markdown",
   "metadata": {},
   "source": [
    "- This method uses multiple mosaics, generated with the same WCS as the G141 mosaic and the SeXtractor segmentation file seg.fits which was generated above when we created the catalog, to generate more accurate contamination estimates and weighted extraction.\n",
    "- The use of aXedrizzle allows us to combine 2D and 1D spectra taken at the same orientation, which is the case of the data in this example.\n",
    "- In this example, we use the actual segmenation map to determine the shape of objects. This is done via a set of Fluxcube files was we need to first generate"
   ]
  },
  {
   "cell_type": "markdown",
   "metadata": {},
   "source": [
    "We create a new directory called DRIZZLE that we will need:"
   ]
  },
  {
   "cell_type": "code",
   "execution_count": null,
   "metadata": {},
   "outputs": [],
   "source": [
    "\n",
    "if os.path.isdir(\"DRIZZLE\"):\n",
    "    shutil.rmtree(\"DRIZZLE\")\n",
    "os.mkdir(\"DRIZZLE\")\n",
    "os.environ['AXE_DRIZZLE_PATH'] = './DRIZZLE/' \n",
    "print ('--> variable AXE_DRIZZLE_PATH  set to \"./DRIZZLE/\"')"
   ]
  },
  {
   "cell_type": "markdown",
   "metadata": {},
   "source": [
    "We already have an F140W mosaic and we now create an F125W mosaic with the same final WCS as the G141 mosaic"
   ]
  },
  {
   "cell_type": "code",
   "execution_count": null,
   "metadata": {},
   "outputs": [],
   "source": [
    "os.chdir(cwd)\n",
    "\n",
    "if os.path.isdir(\"F125W\"):\n",
    "    shutil.rmtree(\"F125W\")\n",
    "\n",
    "os.mkdir(\"F125W\")\n"
   ]
  },
  {
   "cell_type": "code",
   "execution_count": null,
   "metadata": {},
   "outputs": [],
   "source": [
    "os.system(\"cp cookbook_data/F125W/*flt.fits F125W/\")\n",
    "os.system(\"cp cookbook_data/F125W/F125W.lis F125W/\")\n",
    "os.chdir(\"F125W\")\n",
    "!cat F125W.lis"
   ]
  },
  {
   "cell_type": "code",
   "execution_count": null,
   "metadata": {},
   "outputs": [],
   "source": [
    "ref = \"../G141/G141_drz.fits[1]\"\n",
    "astrodrizzle.AstroDrizzle(\"@F125W.lis\",output=\"F125W\",in_memory=False,skysub=\"yes\",build=True,driz_cr_corr=True,driz_cr=True,final_wcs=True,driz_separate=True,driz_sep_wcs=True,driz_sep_refimage=ref,final_refimage=ref)"
   ]
  },
  {
   "cell_type": "markdown",
   "metadata": {},
   "source": [
    "We create a directory ./FLX/ to prepare our Fluxcubes:"
   ]
  },
  {
   "cell_type": "code",
   "execution_count": null,
   "metadata": {},
   "outputs": [],
   "source": [
    "os.chdir(cwd)\n",
    "\n",
    "if os.path.isdir(\"FLX\"):\n",
    "    shutil.rmtree(\"FLX\")\n",
    "\n",
    "os.mkdir(\"FLX\")"
   ]
  },
  {
   "cell_type": "markdown",
   "metadata": {},
   "source": [
    "Copy the direct imaging and G141 mosaic in the Fluxcube directory:"
   ]
  },
  {
   "cell_type": "code",
   "execution_count": null,
   "metadata": {},
   "outputs": [],
   "source": [
    "os.chdir(\"FLX\")\n",
    "\n",
    "os.system(\"cp ../F125W/F125W_drz.fits ./\")\n",
    "os.system(\"cp ../F140W/F140W_drz.fits ./\")\n",
    "os.system(\"cp ../G141/G141_drz.fits ./\")"
   ]
  },
  {
   "cell_type": "markdown",
   "metadata": {},
   "source": [
    "We will need access to the G141 FLT files, and copy them here instead of working in the ./DATA directory"
   ]
  },
  {
   "cell_type": "code",
   "execution_count": null,
   "metadata": {},
   "outputs": [],
   "source": [
    "os.system(\"cp ../DATA/*flt.fits .\")"
   ]
  },
  {
   "cell_type": "markdown",
   "metadata": {},
   "source": [
    "We also need the segmenation file we created earlier. Here we copy one we already prepared."
   ]
  },
  {
   "cell_type": "code",
   "execution_count": null,
   "metadata": {},
   "outputs": [],
   "source": [
    "os.system(\"cp ../cookbook_data/catalog/seg.fits .\")"
   ]
  },
  {
   "cell_type": "markdown",
   "metadata": {},
   "source": [
    "Create a cubelist.lis file that contains a description of the mosaics we are using and populates the PHOTPLAM and AB magnitude zeropoints"
   ]
  },
  {
   "cell_type": "code",
   "execution_count": null,
   "metadata": {},
   "outputs": [],
   "source": [
    "import glob\n",
    "\n",
    "dir_images = []\n",
    "for dir_image in glob.glob(\"F*drz.fits\"):\n",
    "    print (dir_image)\n",
    "    fname = dir_image.split(\"_\")[0]\n",
    "    dir_images.append(dir_image)\n",
    "        \n",
    "s = []\n",
    "for dir_image in dir_images:\n",
    "    print (dir_image)  \n",
    "    PHOTPLAM = fits.open(dir_image)[0].header[\"PHOTPLAM\"] # Wavelength of filter in A\n",
    "    PHOTFLAM = fits.open(dir_image)[0].header[\"PHOTFLAM\"] # Wavelength of filter in A\n",
    "    ABZP = -48.60 - 2.5*np.log10(PHOTFLAM * PHOTPLAM**2/3e8/1e10 )\n",
    "    ss = \"%s %f %f\\n\" % (dir_image, PHOTPLAM/10., ABZP)\n",
    "    s.append(ss)\n",
    "open(\"cubelist.lis\",\"w\").writelines(s)\n",
    "    "
   ]
  },
  {
   "cell_type": "code",
   "execution_count": null,
   "metadata": {},
   "outputs": [],
   "source": [
    "!cat cubelist.lis"
   ]
  },
  {
   "cell_type": "markdown",
   "metadata": {},
   "source": [
    "We now can create the Flexcube"
   ]
  },
  {
   "cell_type": "markdown",
   "metadata": {},
   "source": [
    "This will combined the mosaics and segmentation file into a flexcube that can be used to compute the contamination and perform the extraction. A different one is generated for each G141 FLT file"
   ]
  },
  {
   "cell_type": "code",
   "execution_count": null,
   "metadata": {},
   "outputs": [],
   "source": [
    "axetasks.fcubeprep(grism_image = os.path.join(\"G141_drz.fits\"),\n",
    "    segm_image = os.path.join(\"seg.fits\"),\n",
    "    filter_info = \"cubelist.lis\",\n",
    "    AB_zero = \"yes\",\n",
    "    dim_info = dimension_info)\n",
    "os.system(\"cp ib6o23*FLX.fits ../DATA/\")"
   ]
  },
  {
   "cell_type": "markdown",
   "metadata": {},
   "source": [
    "At this point, we should have generated 2 master FLX file, one for each input imaging mosaic, and four FLX files, one for each of our G141 FLT file.\n"
   ]
  },
  {
   "cell_type": "code",
   "execution_count": null,
   "metadata": {},
   "outputs": [],
   "source": [
    "plt.rcParams[\"figure.figsize\"] = (10,7)\n",
    "\n",
    "plt.subplot(1,3,1)\n",
    "print (np.max(fits.open(\"ib6o23ryq_flt_2.FLX.fits\")[1].data))\n",
    "\n",
    "im = plt.imshow(fits.open(\"ib6o23ryq_flt_2.FLX.fits\")[\"SEGM\"].data*1.,origin=\"lower\")\n",
    "im.set_clim(0,199)\n",
    "\n",
    "plt.subplot(1,3,2)\n",
    "im = plt.imshow(fits.open(\"ib6o23ryq_flt_2.FLX.fits\")[\"LAMBDA1248\"].data,origin=\"lower\")\n",
    "im.set_clim(0,1e-20)\n",
    "\n",
    "plt.subplot(1,3,3)\n",
    "im = plt.imshow(fits.open(\"ib6o23ryq_flt_2.FLX.fits\")[\"LAMBDA1392\"].data,origin=\"lower\")\n",
    "im.set_clim(0,1e-20)"
   ]
  },
  {
   "cell_type": "markdown",
   "metadata": {},
   "source": [
    "We want to work on the non background subtracted G141 data. The ones in the DATA directory have already been subtracted during our basic extraction, so we copy the original G141 data back into the DATA directory."
   ]
  },
  {
   "cell_type": "code",
   "execution_count": null,
   "metadata": {},
   "outputs": [],
   "source": [
    "os.chdir(cwd)\n",
    "\n",
    "os.system(\"cp G141/*flt.fits DATA/\")"
   ]
  },
  {
   "cell_type": "markdown",
   "metadata": {},
   "source": [
    "We run aXeprep on the data. This step also substracts the background."
   ]
  },
  {
   "cell_type": "code",
   "execution_count": null,
   "metadata": {},
   "outputs": [],
   "source": [
    "!mkdir DRIZZLE/tmp # required for now"
   ]
  },
  {
   "cell_type": "code",
   "execution_count": null,
   "metadata": {},
   "outputs": [],
   "source": [
    "axetasks.axeprep(inlist=\"aXe.lis\",\n",
    "                     configs=\"G141.F140W.V4.31.conf\",\n",
    "                     backgr=True,\n",
    "                     backims=\"WFC3.IR.G141.sky.V1.0.fits\",\n",
    "                     norm=False,\n",
    "                     mfwhm=3.0)"
   ]
  },
  {
   "cell_type": "markdown",
   "metadata": {},
   "source": [
    "Checking the background levels that were subtracted from each fo the G141 FLT files"
   ]
  },
  {
   "cell_type": "code",
   "execution_count": null,
   "metadata": {},
   "outputs": [],
   "source": [
    "print( fits.open(\"DATA/ib6o23rsq_flt.fits\")[1].header[\"SKY_CPS\"],\"e/s\")\n",
    "print( fits.open(\"DATA/ib6o23ruq_flt.fits\")[1].header[\"SKY_CPS\"],\"e/s\")\n",
    "print( fits.open(\"DATA/ib6o23ryq_flt.fits\")[1].header[\"SKY_CPS\"],\"e/s\")\n",
    "print( fits.open(\"DATA/ib6o23s0q_flt.fits\")[1].header[\"SKY_CPS\"],\"e/s\")"
   ]
  },
  {
   "cell_type": "markdown",
   "metadata": {},
   "source": [
    "We run axecore using the flexcube models"
   ]
  },
  {
   "cell_type": "code",
   "execution_count": null,
   "metadata": {},
   "outputs": [],
   "source": [
    "axetasks.axecore('aXe.lis',\n",
    "                 \"G141.F140W.V4.31.conf\",\n",
    "                 extrfwhm=4.,\n",
    "                 drzfwhm=3.,\n",
    "                 backfwhm=0.,\n",
    "                 orient=False,\n",
    "                 weights=True,\n",
    "                 slitless_geom=False,\n",
    "                 cont_model='fluxcube',\n",
    "                 sampling='drizzle',\n",
    "                 exclude=True)"
   ]
  },
  {
   "cell_type": "markdown",
   "metadata": {},
   "source": [
    "Now we use aXedrizzle to combine the dithered observations into single 2D and 1D spectra.\n",
    "We first run the drzprep routine and then the axedrizzle task. The latter will take several minutes to run."
   ]
  },
  {
   "cell_type": "markdown",
   "metadata": {},
   "source": [
    "<h2> Do a basic box extraction"
   ]
  },
  {
   "cell_type": "code",
   "execution_count": null,
   "metadata": {},
   "outputs": [],
   "source": [
    "opt_extr=False"
   ]
  },
  {
   "cell_type": "code",
   "execution_count": null,
   "metadata": {},
   "outputs": [],
   "source": [
    "axetasks.drzprep(inlist = \"aXe.lis\",\n",
    "            configs =  \"G141.F140W.V4.31.conf\",\n",
    "            back = False,opt_extr=opt_extr)"
   ]
  },
  {
   "cell_type": "code",
   "execution_count": null,
   "metadata": {
    "scrolled": true
   },
   "outputs": [],
   "source": [
    "axetasks.axecrr(inlist=\"aXe.lis\",\n",
    "    configs=\"G141.F140W.V4.31.conf\",\n",
    "    infwhm = 4.0,\n",
    "    outfwhm = 3.0,\n",
    "    back = False,\n",
    "    driz_separate = 'yes',\n",
    "    opt_extr=opt_extr\n",
    "    )\n"
   ]
  },
  {
   "cell_type": "markdown",
   "metadata": {},
   "source": [
    "<h2> Do an Optimal extraction"
   ]
  },
  {
   "cell_type": "code",
   "execution_count": null,
   "metadata": {},
   "outputs": [],
   "source": [
    "opt_extr=True"
   ]
  },
  {
   "cell_type": "code",
   "execution_count": null,
   "metadata": {},
   "outputs": [],
   "source": [
    "axetasks.drzprep(inlist = \"aXe.lis\",\n",
    "            configs =  \"G141.F140W.V4.31.conf\",\n",
    "            back = False,opt_extr=opt_extr)"
   ]
  },
  {
   "cell_type": "code",
   "execution_count": null,
   "metadata": {},
   "outputs": [],
   "source": [
    "axetasks.axecrr(inlist=\"aXe.lis\",\n",
    "    configs=\"G141.F140W.V4.31.conf\",\n",
    "    infwhm = 4.0,\n",
    "    outfwhm = 3.0,\n",
    "    back = False,\n",
    "    driz_separate = 'yes',\n",
    "    opt_extr=opt_extr\n",
    "    )"
   ]
  },
  {
   "cell_type": "markdown",
   "metadata": {},
   "source": [
    "The extraction results are in the DRIZZLE directory we created, and we can examine a 2D, rectified and wavelength calibrated version of the spectrum we looked at earlier:"
   ]
  },
  {
   "cell_type": "code",
   "execution_count": null,
   "metadata": {},
   "outputs": [],
   "source": [
    "ID = 160\n",
    "d = fits.open(\"./DRIZZLE/aXeWFC3_G141_2.STP.fits\")[\"BEAM_%dA\" % (ID)].data\n",
    "im = plt.imshow(d)\n",
    "im.set_clim(0,0.1)"
   ]
  },
  {
   "cell_type": "markdown",
   "metadata": {},
   "source": [
    "We plot the extracted 1D spectra of our source and the estimate of the contamination:"
   ]
  },
  {
   "cell_type": "code",
   "execution_count": null,
   "metadata": {},
   "outputs": [],
   "source": [
    "fin = fits.open(\"./DRIZZLE/aXeWFC3_G141_2.SPC.fits\")\n",
    "tdata = fin[\"BEAM_%dA\" % (ID)].data\n",
    "x = tdata[\"LAMBDA\"]\n",
    "f = tdata[\"FLUX\"]\n",
    "e = tdata[\"FERROR\"]\n",
    "\n",
    "c = tdata[\"CONTAM\"]\n",
    "vg = (x>11500) & (x<16500)\n",
    "plt.plot(x[vg],f[vg])\n",
    "plt.errorbar(x[vg],f[vg],e[vg])\n",
    "\n",
    "plt.plot(x[vg],c[vg])"
   ]
  },
  {
   "cell_type": "markdown",
   "metadata": {},
   "source": [
    "The MEF files in the DRIZZLE directory contain the 2D version of the spectrum of a source as well as estimte of the contamination:"
   ]
  },
  {
   "cell_type": "code",
   "execution_count": null,
   "metadata": {},
   "outputs": [],
   "source": [
    "plt.subplot(3,1,1)\n",
    "d = fits.open(\"./DRIZZLE/aXeWFC3_G141_mef_ID%d.fits\" % (ID))[\"SCI\"].data\n",
    "im = plt.imshow(d,origin=\"lower\")\n",
    "im.set_clim(0,0.05)\n",
    "\n",
    "plt.subplot(3,1,2)\n",
    "d = fits.open(\"./DRIZZLE/aXeWFC3_G141_mef_ID%d.fits\" % (ID))[\"CON\"].data\n",
    "im = plt.imshow(d,origin=\"lower\")\n",
    "im.set_clim(0,0.05)"
   ]
  },
  {
   "cell_type": "markdown",
   "metadata": {},
   "source": [
    "The individually extracted spectra are in the OUTPUT directory and the combined ones in the DRIZZLE directory. We can plot and compare them:"
   ]
  },
  {
   "cell_type": "code",
   "execution_count": null,
   "metadata": {},
   "outputs": [],
   "source": [
    "import glob\n",
    "\n",
    "for s in glob.glob(\"OUTPUT/ib6o2*2.SPC.fits\"):\n",
    "    print (s)\n",
    "    d1 = fits.open(s)[\"BEAM_%dA\" % (ID)].data\n",
    "    w = d1[\"LAMBDA\"]\n",
    "    f = d1[\"FLUX\"]\n",
    "    e = d1[\"FERROR\"]\n",
    "    vg = (w>11500) & (w<16000)\n",
    "    plt.errorbar(w[vg],f[vg],e[vg])\n",
    "plt.xlabel(r'Wavelength ($\\AA$)')\n",
    "plt.ylabel(r'Flux ($erg/s/cm^2/\\AA/s$)');\n",
    "\n",
    "\n",
    "fin = fits.open(\"./DRIZZLE/aXeWFC3_G141_2.SPC.fits\")\n",
    "tdata = fin[\"BEAM_%dA\" % (ID)].data\n",
    "x = tdata[\"LAMBDA\"]\n",
    "f = tdata[\"FLUX\"]\n",
    "e = tdata[\"FERROR\"]\n",
    "\n",
    "c = tdata[\"CONTAM\"]\n",
    "vg = (x>11500) & (x<16500)\n",
    "#plt.errorbar(x[vg],y[vg],e[vg])\n",
    "plt.plot(x[vg],f[vg],color='k',lw=2)\n",
    "plt.errorbar(x[vg],f[vg],e[vg],color='k',lw=2)\n"
   ]
  },
  {
   "cell_type": "code",
   "execution_count": null,
   "metadata": {},
   "outputs": [],
   "source": []
  }
 ],
 "metadata": {
  "kernelspec": {
   "display_name": "Python 3",
   "language": "python",
   "name": "python3"
  },
  "language_info": {
   "codemirror_mode": {
    "name": "ipython",
    "version": 3
   },
   "file_extension": ".py",
   "mimetype": "text/x-python",
   "name": "python",
   "nbconvert_exporter": "python",
   "pygments_lexer": "ipython3",
   "version": "3.7.9"
  }
 },
 "nbformat": 4,
 "nbformat_minor": 2
}
