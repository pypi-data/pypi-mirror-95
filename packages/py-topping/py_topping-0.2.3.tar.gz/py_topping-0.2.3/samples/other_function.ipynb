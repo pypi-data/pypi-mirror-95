{
 "cells": [
  {
   "cell_type": "markdown",
   "id": "unsigned-innocent",
   "metadata": {},
   "source": [
    "# This Notebook is for small functions\n",
    "\n",
    "I created these functions to solve small but **very annoying problems**"
   ]
  },
  {
   "cell_type": "code",
   "execution_count": 1,
   "id": "fifty-squad",
   "metadata": {},
   "outputs": [],
   "source": [
    "import pandas as pd"
   ]
  },
  {
   "cell_type": "markdown",
   "id": "pointed-gilbert",
   "metadata": {},
   "source": [
    "## log_csv\n",
    "\n",
    "Just log something into csv file"
   ]
  },
  {
   "cell_type": "code",
   "execution_count": 2,
   "id": "important-dakota",
   "metadata": {},
   "outputs": [
    {
     "data": {
      "text/html": [
       "<div>\n",
       "<style scoped>\n",
       "    .dataframe tbody tr th:only-of-type {\n",
       "        vertical-align: middle;\n",
       "    }\n",
       "\n",
       "    .dataframe tbody tr th {\n",
       "        vertical-align: top;\n",
       "    }\n",
       "\n",
       "    .dataframe thead th {\n",
       "        text-align: right;\n",
       "    }\n",
       "</style>\n",
       "<table border=\"1\" class=\"dataframe\">\n",
       "  <thead>\n",
       "    <tr style=\"text-align: right;\">\n",
       "      <th></th>\n",
       "      <th>Timestamp</th>\n",
       "      <th>msg</th>\n",
       "    </tr>\n",
       "  </thead>\n",
       "  <tbody>\n",
       "    <tr>\n",
       "      <th>0</th>\n",
       "      <td>2021-02-14 15:07:40.622305</td>\n",
       "      <td>Hello World</td>\n",
       "    </tr>\n",
       "    <tr>\n",
       "      <th>1</th>\n",
       "      <td>2021-02-14 15:07:40.622305</td>\n",
       "      <td>Bye World</td>\n",
       "    </tr>\n",
       "  </tbody>\n",
       "</table>\n",
       "</div>"
      ],
      "text/plain": [
       "                    Timestamp          msg\n",
       "0  2021-02-14 15:07:40.622305  Hello World\n",
       "1  2021-02-14 15:07:40.622305    Bye World"
      ]
     },
     "execution_count": 2,
     "metadata": {},
     "output_type": "execute_result"
    }
   ],
   "source": [
    "from py_topping.general_use import log_csv\n",
    "log_csv('test_log_csv.csv','Hello World')\n",
    "log_csv('test_log_csv.csv','Bye World')\n",
    "pd.read_csv('test_log_csv.csv')"
   ]
  },
  {
   "cell_type": "markdown",
   "id": "excited-quick",
   "metadata": {},
   "source": [
    "## check_port\n",
    "Just test port status"
   ]
  },
  {
   "cell_type": "code",
   "execution_count": 3,
   "id": "strategic-impact",
   "metadata": {},
   "outputs": [
    {
     "name": "stdout",
     "output_type": "stream",
     "text": [
      "Port is open\n"
     ]
    }
   ],
   "source": [
    "from py_topping.general_use import check_port\n",
    "check_port('google.com', port = 80)"
   ]
  },
  {
   "cell_type": "markdown",
   "id": "compatible-alaska",
   "metadata": {},
   "source": [
    "You can also leave the parameter for manual input"
   ]
  },
  {
   "cell_type": "code",
   "execution_count": 4,
   "id": "alternative-bowling",
   "metadata": {},
   "outputs": [
    {
     "name": "stdout",
     "output_type": "stream",
     "text": [
      "Please Input IP :google.com\n",
      "Please Input port :80\n",
      "Port is open\n"
     ]
    }
   ],
   "source": [
    "check_port()"
   ]
  }
 ],
 "metadata": {
  "kernelspec": {
   "display_name": "Python 3",
   "language": "python",
   "name": "python3"
  },
  "language_info": {
   "codemirror_mode": {
    "name": "ipython",
    "version": 3
   },
   "file_extension": ".py",
   "mimetype": "text/x-python",
   "name": "python",
   "nbconvert_exporter": "python",
   "pygments_lexer": "ipython3",
   "version": "3.7.6"
  }
 },
 "nbformat": 4,
 "nbformat_minor": 5
}
