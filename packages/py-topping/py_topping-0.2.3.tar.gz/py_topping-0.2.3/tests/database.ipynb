{
 "cells": [
  {
   "cell_type": "code",
   "execution_count": 1,
   "metadata": {},
   "outputs": [
    {
     "name": "stdout",
     "output_type": "stream",
     "text": [
      "First Directory at : \\01_DEV_Function\\Shared_Function\\tests\n",
      "Load Setting OK\n",
      "Change Directory into : \\01_DEV_Function\\Shared_Function\n"
     ]
    }
   ],
   "source": [
    "import os, re,json, imp, unittest\n",
    "import pandas as pd\n",
    "\n",
    "print('First Directory at :', os.getcwd()[2:])\n",
    "\n",
    "#Load Setting File\n",
    "with open('setting.txt','r') as f:\n",
    "    setting = json.load(f)\n",
    "print('Load Setting OK')    \n",
    "\n",
    "os.chdir(re.sub(os.getcwd().split('\\\\')[-1]+'$','',os.getcwd()))\n",
    "print('Change Directory into :', os.getcwd()[2:])"
   ]
  },
  {
   "cell_type": "code",
   "execution_count": 2,
   "metadata": {},
   "outputs": [],
   "source": [
    "local_library = True\n",
    "#local_library = False\n",
    "\n",
    "if local_library : \n",
    "    da_tran_SQL = imp.load_source('da_tran_SQL', 'py_topping/data_connection/database.py').da_tran_SQL\n",
    "else :\n",
    "    from py_topping.data_connection.database import da_tran_SQL\n",
    "    \n",
    "def help_test(df_in1, df_in2) :\n",
    "    result = list()\n",
    "    expect = list()\n",
    "    for i in df_in1.columns :\n",
    "        result_list = list(df_in1[i])\n",
    "        expect_list = list(df_in2[i])\n",
    "        result_list.sort()\n",
    "        expect_list.sort()\n",
    "        result.append(result_list)\n",
    "        expect.append(expect_list)\n",
    "    return result, expect"
   ]
  },
  {
   "cell_type": "markdown",
   "metadata": {},
   "source": [
    "# MS SQL\n",
    "\n",
    "## Default MSSQL"
   ]
  },
  {
   "cell_type": "code",
   "execution_count": 3,
   "metadata": {
    "scrolled": false
   },
   "outputs": [
    {
     "name": "stderr",
     "output_type": "stream",
     "text": [
      "C:\\Users\\chanonkr\\Anaconda3\\lib\\site-packages\\sqlalchemy\\dialects\\mssql\\pymssql.py:61: DeprecationWarning: Using or importing the ABCs from 'collections' instead of from 'collections.abc' is deprecated since Python 3.3,and in 3.9 it will stop working\n",
      "  module = __import__(\"pymssql\")\n"
     ]
    },
    {
     "name": "stdout",
     "output_type": "stream",
     "text": [
      "Connection OK\n",
      "Start Filter Existing data from df at  2021-02-15 09:12:20.910024\n"
     ]
    },
    {
     "name": "stderr",
     "output_type": "stream",
     "text": [
      "."
     ]
    },
    {
     "name": "stdout",
     "output_type": "stream",
     "text": [
      "Dump data to  unit_test_git  End  2021-02-15 09:12:21.498853\n",
      "Connection OK\n",
      "Start Filter Existing data from df at  2021-02-15 09:12:22.364060\n",
      "Dump data to  unit_test_git  End  2021-02-15 09:12:22.530670\n"
     ]
    },
    {
     "name": "stderr",
     "output_type": "stream",
     "text": [
      "."
     ]
    },
    {
     "name": "stdout",
     "output_type": "stream",
     "text": [
      "Connection OK\n",
      "Start Filter Existing data from df at  2021-02-15 09:12:23.372549\n",
      "Dump data to  unit_test_git  End  2021-02-15 09:12:23.549934\n"
     ]
    },
    {
     "name": "stderr",
     "output_type": "stream",
     "text": [
      "."
     ]
    },
    {
     "name": "stdout",
     "output_type": "stream",
     "text": [
      "Connection OK\n"
     ]
    },
    {
     "name": "stderr",
     "output_type": "stream",
     "text": [
      "."
     ]
    },
    {
     "name": "stdout",
     "output_type": "stream",
     "text": [
      "Connection OK\n",
      "Start delete old data at 2021-02-15 09:12:25.259006\n",
      "Delete Last ['col1'] at 2021-02-15 09:12:25.341159\n"
     ]
    },
    {
     "name": "stderr",
     "output_type": "stream",
     "text": [
      "."
     ]
    },
    {
     "name": "stdout",
     "output_type": "stream",
     "text": [
      "Dump data to  unit_test_git  End  2021-02-15 09:12:25.461086\n",
      "Connection OK\n",
      "Start delete old data at 2021-02-15 09:12:26.335785\n",
      "Delete Last col1 at 2021-02-15 09:12:26.417047\n"
     ]
    },
    {
     "name": "stderr",
     "output_type": "stream",
     "text": [
      "."
     ]
    },
    {
     "name": "stdout",
     "output_type": "stream",
     "text": [
      "Dump data to  unit_test_git  End  2021-02-15 09:12:26.543981\n",
      "Connection OK\n",
      "Start delete old data at 2021-02-15 09:12:27.400922\n",
      "Delete Last ['col1', 'col2'] at 2021-02-15 09:12:27.468301\n",
      "Dump data to  unit_test_git  End  2021-02-15 09:12:27.590883\n"
     ]
    },
    {
     "name": "stderr",
     "output_type": "stream",
     "text": [
      "."
     ]
    },
    {
     "name": "stdout",
     "output_type": "stream",
     "text": [
      "Connection OK\n",
      "Start delete old data at 2021-02-15 09:12:28.454797\n",
      "Delete Last ['col1', 'col2', 'col3'] at 2021-02-15 09:12:28.532575\n",
      "Dump data to  unit_test_git  End  2021-02-15 09:12:28.656116\n"
     ]
    },
    {
     "name": "stderr",
     "output_type": "stream",
     "text": [
      "."
     ]
    },
    {
     "name": "stdout",
     "output_type": "stream",
     "text": [
      "Connection OK\n",
      "Start delete old data at 2021-02-15 09:12:29.529231\n",
      "Delete Last ['col1'] at 2021-02-15 09:12:29.596659\n",
      "Dump data to  unit_test_git  End  2021-02-15 09:12:29.718297\n"
     ]
    },
    {
     "name": "stderr",
     "output_type": "stream",
     "text": [
      "."
     ]
    },
    {
     "name": "stdout",
     "output_type": "stream",
     "text": [
      "Connection OK\n",
      "Drop Existing Table at  2021-02-15 09:12:30.569674\n",
      "Dump data to  unit_test_git  End  2021-02-15 09:12:30.826441\n",
      "Start delete old data at 2021-02-15 09:12:30.832220\n",
      "Delete Last ['date'] at 2021-02-15 09:12:30.902840\n",
      "Dump data to  unit_test_git  End  2021-02-15 09:12:31.022058\n"
     ]
    },
    {
     "name": "stderr",
     "output_type": "stream",
     "text": [
      "."
     ]
    },
    {
     "name": "stdout",
     "output_type": "stream",
     "text": [
      "Connection OK\n",
      "Start delete old data at 2021-02-15 09:12:32.705293\n",
      "Delete Last ['col1'] at 2021-02-15 09:12:32.782234\n",
      "delete from unit_test_git where ([col1] in ('4.0', '5.0', '6.0', '7.0') OR [col1] IS NULL)\n",
      "Dump data to  unit_test_git  End  2021-02-15 09:12:32.905920\n"
     ]
    },
    {
     "name": "stderr",
     "output_type": "stream",
     "text": [
      "."
     ]
    },
    {
     "name": "stdout",
     "output_type": "stream",
     "text": [
      "Connection OK\n",
      "Start delete old data at 2021-02-15 09:12:34.298221\n",
      "Delete Last ['col1', 'col2'] at 2021-02-15 09:12:34.372549\n",
      "delete from unit_test_git where ([col1] in ('4.0', '5.0', '6.0', '7.0') OR [col1] IS NULL) and [col2] in ('3', '4', '5')\n"
     ]
    },
    {
     "name": "stderr",
     "output_type": "stream",
     "text": [
      "."
     ]
    },
    {
     "name": "stdout",
     "output_type": "stream",
     "text": [
      "Dump data to  unit_test_git  End  2021-02-15 09:12:34.505056\n",
      "Connection OK\n"
     ]
    },
    {
     "name": "stderr",
     "output_type": "stream",
     "text": [
      "."
     ]
    },
    {
     "name": "stdout",
     "output_type": "stream",
     "text": [
      "Connection OK\n",
      "Drop Existing Table at  2021-02-15 09:12:36.379193\n"
     ]
    },
    {
     "name": "stderr",
     "output_type": "stream",
     "text": [
      "."
     ]
    },
    {
     "name": "stdout",
     "output_type": "stream",
     "text": [
      "Dump data to  unit_test_git  End  2021-02-15 09:12:36.623480\n"
     ]
    },
    {
     "name": "stderr",
     "output_type": "stream",
     "text": [
      "\n",
      "----------------------------------------------------------------------\n",
      "Ran 14 tests in 17.268s\n",
      "\n",
      "OK\n"
     ]
    },
    {
     "data": {
      "text/plain": [
       "<unittest.main.TestProgram at 0x1954173cd08>"
      ]
     },
     "execution_count": 3,
     "metadata": {},
     "output_type": "execute_result"
    }
   ],
   "source": [
    "test_mssql = setting['MSSQL']\n",
    "\n",
    "class SQL_Test_class(unittest.TestCase):\n",
    "    def setUp(self):\n",
    "        self.sql = da_tran_SQL(sql_type = test_mssql['type'],\n",
    "                                host_name = test_mssql['host'],\n",
    "                                database_name = test_mssql['database'],\n",
    "                                user = test_mssql['user'],\n",
    "                                password = test_mssql['password'])\n",
    "        self.df1 = pd.DataFrame({'col1' : [1,2,3,4,5] , 'col2' : [1,1,2,2,3] , 'col3' : [1,1,1,1,1]})\n",
    "        self.df2 = pd.DataFrame({'col1' : [4,5,6,7,8] , 'col2' : [3,3,4,4,5] , 'col3' : [2,2,2,2,2]})\n",
    "        self.table_name = 'unit_test_git'\n",
    "        self.df1.to_sql(self.table_name, con = self.sql.engine, index = False, if_exists = 'replace')\n",
    "\n",
    "    def test_sp(self):\n",
    "        sql_q = \"\"\" CREATE OR ALTER PROCEDURE unit_test_git_SP (@PARAM1 AS VARCHAR(100))\n",
    "                    AS\n",
    "                    BEGIN\n",
    "                    SELECT * FROM {} WHERE col1 = @PARAM1 \n",
    "                    END\"\"\".format(self.table_name)\n",
    "        self.sql.engine.execute(sql_q)\n",
    "        df_read = self.sql.read('unit_test_git_SP', SP = True , param = {'@PARAM1' : 1})\n",
    "        expect_df = self.df1[self.df1['col1'] == 1]\n",
    "        result, expect = help_test(df_read, expect_df)\n",
    "        self.assertEqual(result, expect)\n",
    "        \n",
    "    def test_read_sql(self):\n",
    "        df_read = self.sql.read(self.table_name)\n",
    "        expect_df = self.df1\n",
    "        result, expect = help_test(df_read, expect_df)\n",
    "        self.assertEqual(result, expect)\n",
    "\n",
    "    def test_whole(self):\n",
    "        self.sql.dump_whole(self.df2, self.table_name)\n",
    "        df_read = self.sql.read(self.table_name)\n",
    "        expect_df = self.df2\n",
    "        result, expect = help_test(df_read, expect_df)\n",
    "        self.assertEqual(result, expect)\n",
    "        \n",
    "    \n",
    "    def test_replace1(self) :\n",
    "        self.sql.dump_replace(df_in = self.df2 , table_name_in = self.table_name, list_key = ['col1'])\n",
    "        df_read = self.sql.read(self.table_name)\n",
    "        expect_df = pd.DataFrame({'col1' : [1,2,3,4,5,6,7,8] , 'col2' : [1,1,2,3,3,4,4,5] , 'col3' : [1,1,1,2,2,2,2,2]})\n",
    "        result, expect = help_test(df_read, expect_df)\n",
    "        self.assertEqual(result, expect)\n",
    "        \n",
    "    def test_replace1_str(self) :\n",
    "        self.sql.dump_replace(df_in = self.df2 , table_name_in = self.table_name, list_key = 'col1')\n",
    "        df_read = self.sql.read(self.table_name)\n",
    "        expect_df = pd.DataFrame({'col1' : [1,2,3,4,5,6,7,8] , 'col2' : [1,1,2,3,3,4,4,5] , 'col3' : [1,1,1,2,2,2,2,2]})\n",
    "        result, expect = help_test(df_read, expect_df)\n",
    "        self.assertEqual(result, expect)\n",
    "\n",
    "    def test_replace2(self) :\n",
    "        self.sql.dump_replace(df_in = self.df2 , table_name_in = self.table_name, list_key = ['col1','col2'])\n",
    "        df_read = self.sql.read(self.table_name)\n",
    "        expect_df = pd.DataFrame({'col1' : [1,2,3,4,4,5,6,7,8] , 'col2' : [1,1,2,2,3,3,4,4,5] , 'col3' : [1,1,1,1,2,2,2,2,2]})\n",
    "        result, expect = help_test(df_read, expect_df)\n",
    "        self.assertEqual(result, expect)\n",
    "        \n",
    "    def test_replace3(self) :\n",
    "        self.sql.dump_replace(df_in = self.df2 , table_name_in = self.table_name, list_key = ['col1','col2','col3'])\n",
    "        df_read = self.sql.read(self.table_name)\n",
    "        expect_df = self.df1.append(self.df2)\n",
    "        result, expect = help_test(df_read, expect_df)\n",
    "        self.assertEqual(result, expect)\n",
    "\n",
    "    def test_replace_logic(self) :\n",
    "        self.sql.dump_replace(df_in = self.df2 , table_name_in = self.table_name, list_key = ['col1'],\n",
    "                             math_logic = {'col1' : {'logic' : '>', 'value' : 1}})\n",
    "        df_read = self.sql.read(self.table_name)\n",
    "        expect_df = self.df1[self.df1['col1'] <= 1].append(self.df2)\n",
    "        result, expect = help_test(df_read, expect_df)\n",
    "        self.assertEqual(result, expect)\n",
    "        \n",
    "    def test_replace_logic_date(self) :\n",
    "        df_date = pd.DataFrame({'col1' : [1,2,3,4,5], \n",
    "                                'date' : pd.date_range('2020-10-10','2020-10-14'), 'col2' :[1,1,1,1,1]})\n",
    "        \n",
    "        self.sql.dump_whole(df_date, self.table_name)\n",
    "        expect_df = df_date[df_date['date'] <= '2020-10-12']\n",
    "        df_date['col2'] = 3\n",
    "        self.sql.dump_replace(df_in = df_date , table_name_in = self.table_name, list_key = ['date'],\n",
    "                             math_logic = {'date' : {'logic' : '>', 'value' : '2020-10-12', 'type' : 'date'}})\n",
    "        df_read = self.sql.read(self.table_name)\n",
    "        expect_df = expect_df.append(df_date)\n",
    "        result, expect = help_test(df_read, expect_df)\n",
    "        self.assertEqual(result, expect)\n",
    "        \n",
    "    def test_replace3(self) :\n",
    "        self.sql.dump_replace(df_in = self.df2 , table_name_in = self.table_name, list_key = ['col1','col2','col3'])\n",
    "        df_read = self.sql.read(self.table_name)\n",
    "        expect_df = self.df1.append(self.df2)\n",
    "        result, expect = help_test(df_read, expect_df)\n",
    "        self.assertEqual(result, expect)\n",
    "\n",
    "    def test_new1_str(self) :\n",
    "        self.sql.dump_new(df_in = self.df2 , table_name_in = self.table_name, list_key = 'col1')\n",
    "        df_read = self.sql.read(self.table_name)\n",
    "        expect_df = pd.DataFrame({'col1' : [1,2,3,4,5,6,7,8] , 'col2' : [1,1,2,2,3,4,4,5] , 'col3' : [1,1,1,1,1,2,2,2]})\n",
    "        result, expect = help_test(df_read, expect_df)\n",
    "        self.assertEqual(result, expect)\n",
    "\n",
    "    def test_new1(self) :\n",
    "        self.sql.dump_new(df_in = self.df2 , table_name_in = self.table_name, list_key = ['col1'])\n",
    "        df_read = self.sql.read(self.table_name)\n",
    "        expect_df = pd.DataFrame({'col1' : [1,2,3,4,5,6,7,8] , 'col2' : [1,1,2,2,3,4,4,5] , 'col3' : [1,1,1,1,1,2,2,2]})\n",
    "        result, expect = help_test(df_read, expect_df)\n",
    "        self.assertEqual(result, expect)\n",
    "\n",
    "    def test_new2(self) :\n",
    "        self.sql.dump_new(df_in = self.df2 , table_name_in = self.table_name, list_key = ['col1','col2'], debug = False)\n",
    "        df_read = self.sql.read(self.table_name)\n",
    "        expect_df = pd.DataFrame({'col1' : [1,2,3,4,5,4,6,7,8] , 'col2' : [1,1,2,2,3,3,4,4,5] , 'col3' : [1,1,1,1,1,2,2,2,2]})\n",
    "        result, expect = help_test(df_read, expect_df)\n",
    "        self.assertEqual(result, expect)\n",
    "        \n",
    "    def test_replace_null1(self) :\n",
    "        df1_n = pd.DataFrame({'col1' : [1,None,3,4,5] , 'col2' : [1,1,2,2,3] , 'col3' : [1,1,1,1,1]})\n",
    "        df2_n = pd.DataFrame({'col1' : [4,5,6,7,None] , 'col2' : [3,3,4,4,5] , 'col3' : [2,2,2,2,2]})\n",
    "        df1_n.to_sql(self.table_name, con = self.sql.engine, index = False, if_exists = 'replace')\n",
    "        self.sql.dump_replace(df_in = df2_n , table_name_in = self.table_name, list_key = ['col1'] , debug = True)\n",
    "        df_read = self.sql.read(self.table_name).sort_values('col1').reset_index(drop = True)\n",
    "        expect_df = pd.DataFrame({'col1' : [1,3,4,5,6,7,None] , 'col2' : [1,2,3,3,4,4,5] , 'col3' : [1,1,2,2,2,2,2]})\n",
    "        result, expect = help_test(df_read.fillna(99), expect_df.fillna(99))\n",
    "        self.assertEqual(result, expect)\n",
    "\n",
    "    def test_replace_null2(self) :\n",
    "        df1_n = pd.DataFrame({'col1' : [1,None,3,4,5] , 'col2' : [1,1,2,2,3] , 'col3' : [1,1,1,1,1]})\n",
    "        df2_n = pd.DataFrame({'col1' : [4,5,6,7,None] , 'col2' : [3,3,4,4,5] , 'col3' : [2,2,2,2,2]})\n",
    "        df1_n.to_sql(self.table_name, con = self.sql.engine, index = False, if_exists = 'replace')\n",
    "        self.sql.dump_replace(df_in = df2_n , table_name_in = self.table_name, list_key = ['col1','col2'] , debug = True)\n",
    "        df_read = self.sql.read(self.table_name).sort_values('col1').reset_index(drop = True)\n",
    "        expect_df = pd.DataFrame({ 'col1' : [1,None,3,4,4,5,6,7,None] , 'col2' : [1,1,2,2,3,3,4,4,5] \n",
    "                                  ,'col3' : [1,1,1,1,2,2,2,2,2]}).sort_values('col1').reset_index(drop = True)\n",
    "\n",
    "        result, expect = help_test(df_read.fillna(99), expect_df.fillna(99))\n",
    "        self.assertEqual(result, expect)\n",
    "\n",
    "unittest.main(argv = ['first-arg-is-ignored'], exit = False)"
   ]
  },
  {
   "cell_type": "markdown",
   "metadata": {},
   "source": [
    "# Parallel MSSQL"
   ]
  },
  {
   "cell_type": "code",
   "execution_count": 4,
   "metadata": {
    "scrolled": false
   },
   "outputs": [
    {
     "name": "stdout",
     "output_type": "stream",
     "text": [
      "Connection OK\n",
      "Start Filter Existing data from df at  2021-02-14 14:53:51.247034\n"
     ]
    },
    {
     "name": "stderr",
     "output_type": "stream",
     "text": [
      "."
     ]
    },
    {
     "name": "stdout",
     "output_type": "stream",
     "text": [
      "Dump data to  unit_test_git  End  2021-02-14 14:53:51.529358\n",
      "Connection OK\n",
      "Start Filter Existing data from df at  2021-02-14 14:53:52.620901\n"
     ]
    },
    {
     "name": "stderr",
     "output_type": "stream",
     "text": [
      "."
     ]
    },
    {
     "name": "stdout",
     "output_type": "stream",
     "text": [
      "Dump data to  unit_test_git  End  2021-02-14 14:53:52.858577\n",
      "Connection OK\n",
      "Start Filter Existing data from df at  2021-02-14 14:53:53.634519\n"
     ]
    },
    {
     "name": "stderr",
     "output_type": "stream",
     "text": [
      "."
     ]
    },
    {
     "name": "stdout",
     "output_type": "stream",
     "text": [
      "Dump data to  unit_test_git  End  2021-02-14 14:53:53.903256\n",
      "Connection OK\n"
     ]
    },
    {
     "name": "stderr",
     "output_type": "stream",
     "text": [
      "."
     ]
    },
    {
     "name": "stdout",
     "output_type": "stream",
     "text": [
      "Connection OK\n",
      "Start delete old data at 2021-02-14 14:53:55.428292\n",
      "Delete Last ['col1'] at 2021-02-14 14:53:55.488974\n"
     ]
    },
    {
     "name": "stderr",
     "output_type": "stream",
     "text": [
      "."
     ]
    },
    {
     "name": "stdout",
     "output_type": "stream",
     "text": [
      "Dump data to  unit_test_git  End  2021-02-14 14:53:55.796165\n",
      "Connection OK\n",
      "Start delete old data at 2021-02-14 14:53:56.544219\n",
      "Delete Last col1 at 2021-02-14 14:53:56.603062\n"
     ]
    },
    {
     "name": "stderr",
     "output_type": "stream",
     "text": [
      "."
     ]
    },
    {
     "name": "stdout",
     "output_type": "stream",
     "text": [
      "Dump data to  unit_test_git  End  2021-02-14 14:53:56.906251\n",
      "Connection OK\n",
      "Start delete old data at 2021-02-14 14:53:57.707660\n",
      "Delete Last ['col1', 'col2'] at 2021-02-14 14:53:57.772043\n"
     ]
    },
    {
     "name": "stderr",
     "output_type": "stream",
     "text": [
      "."
     ]
    },
    {
     "name": "stdout",
     "output_type": "stream",
     "text": [
      "Dump data to  unit_test_git  End  2021-02-14 14:53:58.092077\n",
      "Connection OK\n",
      "Start delete old data at 2021-02-14 14:53:58.839437\n",
      "Delete Last ['col1', 'col2', 'col3'] at 2021-02-14 14:53:58.903798\n"
     ]
    },
    {
     "name": "stderr",
     "output_type": "stream",
     "text": [
      "."
     ]
    },
    {
     "name": "stdout",
     "output_type": "stream",
     "text": [
      "Dump data to  unit_test_git  End  2021-02-14 14:53:59.205648\n",
      "Connection OK\n",
      "Start delete old data at 2021-02-14 14:53:59.940069\n",
      "Delete Last ['col1'] at 2021-02-14 14:54:00.007207\n"
     ]
    },
    {
     "name": "stderr",
     "output_type": "stream",
     "text": [
      "."
     ]
    },
    {
     "name": "stdout",
     "output_type": "stream",
     "text": [
      "Dump data to  unit_test_git  End  2021-02-14 14:54:00.303290\n",
      "Connection OK\n",
      "Drop Existing Table at  2021-02-14 14:54:01.056700\n",
      "Dump data to  unit_test_git  End  2021-02-14 14:54:01.434540\n",
      "Start delete old data at 2021-02-14 14:54:01.435561\n",
      "Delete Last ['date'] at 2021-02-14 14:54:01.493647\n",
      "delete from unit_test_git where CAST([date] AS date) > '2020-10-12'\n"
     ]
    },
    {
     "name": "stderr",
     "output_type": "stream",
     "text": [
      "."
     ]
    },
    {
     "name": "stdout",
     "output_type": "stream",
     "text": [
      "Dump data to  unit_test_git  End  2021-02-14 14:54:01.716384\n",
      "Connection OK\n",
      "Start delete old data at 2021-02-14 14:54:02.926976\n",
      "Delete Last ['col1'] at 2021-02-14 14:54:02.991396\n",
      "delete from unit_test_git where ([col1] in ('4.0', '5.0', '6.0', '7.0') OR [col1] IS NULL)\n"
     ]
    },
    {
     "name": "stderr",
     "output_type": "stream",
     "text": [
      "."
     ]
    },
    {
     "name": "stdout",
     "output_type": "stream",
     "text": [
      "Dump data to  unit_test_git  End  2021-02-14 14:54:03.294535\n",
      "Connection OK\n",
      "Start delete old data at 2021-02-14 14:54:04.526810\n",
      "Delete Last ['col1', 'col2'] at 2021-02-14 14:54:04.593078\n",
      "delete from unit_test_git where ([col1] in ('4.0', '5.0', '6.0', '7.0') OR [col1] IS NULL) and [col2] in ('3', '4', '5')\n"
     ]
    },
    {
     "name": "stderr",
     "output_type": "stream",
     "text": [
      "."
     ]
    },
    {
     "name": "stdout",
     "output_type": "stream",
     "text": [
      "Dump data to  unit_test_git  End  2021-02-14 14:54:04.901860\n",
      "Connection OK\n"
     ]
    },
    {
     "name": "stderr",
     "output_type": "stream",
     "text": [
      "."
     ]
    },
    {
     "name": "stdout",
     "output_type": "stream",
     "text": [
      "Connection OK\n",
      "Drop Existing Table at  2021-02-14 14:54:06.427828\n"
     ]
    },
    {
     "name": "stderr",
     "output_type": "stream",
     "text": [
      "."
     ]
    },
    {
     "name": "stdout",
     "output_type": "stream",
     "text": [
      "Dump data to  unit_test_git  End  2021-02-14 14:54:06.767403\n"
     ]
    },
    {
     "name": "stderr",
     "output_type": "stream",
     "text": [
      "\n",
      "----------------------------------------------------------------------\n",
      "Ran 14 tests in 16.378s\n",
      "\n",
      "OK\n"
     ]
    },
    {
     "data": {
      "text/plain": [
       "<unittest.main.TestProgram at 0x23d81437048>"
      ]
     },
     "execution_count": 4,
     "metadata": {},
     "output_type": "execute_result"
    }
   ],
   "source": [
    "test_mssql = setting['MSSQL']\n",
    "\n",
    "class SQL_Test_class(unittest.TestCase):\n",
    "    def setUp(self):\n",
    "        self.sql = da_tran_SQL(sql_type = test_mssql['type'],\n",
    "                                host_name = test_mssql['host'],\n",
    "                                database_name = test_mssql['database'],\n",
    "                                user = test_mssql['user'],\n",
    "                                password = test_mssql['password'],\n",
    "                                partition_size = 2, \n",
    "                                parallel_dump = True, \n",
    "                                max_parallel = 2)\n",
    "        \n",
    "        self.df1 = pd.DataFrame({'col1' : [1,2,3,4,5] , 'col2' : [1,1,2,2,3] , 'col3' : [1,1,1,1,1]})\n",
    "        self.df2 = pd.DataFrame({'col1' : [4,5,6,7,8] , 'col2' : [3,3,4,4,5] , 'col3' : [2,2,2,2,2]})\n",
    "        self.table_name = 'unit_test_git'\n",
    "        self.df1.to_sql(self.table_name, con = self.sql.engine, index = False, if_exists = 'replace')\n",
    "        self.sql.parallel_dump = True\n",
    "        self.sql.max_parallel = 2\n",
    "        self.sql.partition_size = 2\n",
    "\n",
    "    def test_sp(self):\n",
    "        sql_q = \"\"\" CREATE OR ALTER PROCEDURE unit_test_git_SP (@PARAM1 AS VARCHAR(100))\n",
    "                    AS\n",
    "                    BEGIN\n",
    "                    SELECT * FROM {} WHERE col1 = @PARAM1 \n",
    "                    END\"\"\".format(self.table_name)\n",
    "        self.sql.engine.execute(sql_q)\n",
    "        df_read = self.sql.read('unit_test_git_SP', SP = True , param = {'@PARAM1' : 1})\n",
    "        expect_df = self.df1[self.df1['col1'] == 1]\n",
    "        result, expect = help_test(df_read, expect_df)\n",
    "        self.assertEqual(result, expect)\n",
    "        \n",
    "    def test_read_sql(self):\n",
    "        df_read = self.sql.read(self.table_name)\n",
    "        expect_df = self.df1\n",
    "        result, expect = help_test(df_read, expect_df)\n",
    "        self.assertEqual(result, expect)\n",
    "\n",
    "    def test_whole(self):\n",
    "        self.sql.dump_whole(self.df2, self.table_name)\n",
    "        df_read = self.sql.read(self.table_name)\n",
    "        expect_df = self.df2\n",
    "        result, expect = help_test(df_read, expect_df)\n",
    "        self.assertEqual(result, expect)\n",
    "        \n",
    "    \n",
    "    def test_replace1(self) :\n",
    "        self.sql.dump_replace(df_in = self.df2 , table_name_in = self.table_name, list_key = ['col1'])\n",
    "        df_read = self.sql.read(self.table_name)\n",
    "        expect_df = pd.DataFrame({'col1' : [1,2,3,4,5,6,7,8] , 'col2' : [1,1,2,3,3,4,4,5] , 'col3' : [1,1,1,2,2,2,2,2]})\n",
    "        result, expect = help_test(df_read, expect_df)\n",
    "        self.assertEqual(result, expect)\n",
    "        \n",
    "    def test_replace1_str(self) :\n",
    "        self.sql.dump_replace(df_in = self.df2 , table_name_in = self.table_name, list_key = 'col1')\n",
    "        df_read = self.sql.read(self.table_name)\n",
    "        expect_df = pd.DataFrame({'col1' : [1,2,3,4,5,6,7,8] , 'col2' : [1,1,2,3,3,4,4,5] , 'col3' : [1,1,1,2,2,2,2,2]})\n",
    "        result, expect = help_test(df_read, expect_df)\n",
    "        self.assertEqual(result, expect)\n",
    "\n",
    "    def test_replace2(self) :\n",
    "        self.sql.dump_replace(df_in = self.df2 , table_name_in = self.table_name, list_key = ['col1','col2'])\n",
    "        df_read = self.sql.read(self.table_name)\n",
    "        expect_df = pd.DataFrame({'col1' : [1,2,3,4,4,5,6,7,8] , 'col2' : [1,1,2,2,3,3,4,4,5] , 'col3' : [1,1,1,1,2,2,2,2,2]})\n",
    "        result, expect = help_test(df_read, expect_df)\n",
    "        self.assertEqual(result, expect)\n",
    "        \n",
    "    def test_replace3(self) :\n",
    "        self.sql.dump_replace(df_in = self.df2 , table_name_in = self.table_name, list_key = ['col1','col2','col3'])\n",
    "        df_read = self.sql.read(self.table_name)\n",
    "        expect_df = self.df1.append(self.df2)\n",
    "        result, expect = help_test(df_read, expect_df)\n",
    "        self.assertEqual(result, expect)\n",
    "\n",
    "    def test_replace_logic(self) :\n",
    "        self.sql.dump_replace(df_in = self.df2 , table_name_in = self.table_name, list_key = ['col1'],\n",
    "                             math_logic = {'col1' : {'logic' : '>', 'value' : 1}})\n",
    "        df_read = self.sql.read(self.table_name)\n",
    "        expect_df = self.df1[self.df1['col1'] <= 1].append(self.df2)\n",
    "        result, expect = help_test(df_read, expect_df)\n",
    "        self.assertEqual(result, expect)\n",
    "        \n",
    "    def test_replace_logic_date(self) :\n",
    "        df_date = pd.DataFrame({'col1' : [1,2,3,4,5], \n",
    "                                'date' : pd.date_range('2020-10-10','2020-10-14'), 'col2' :[1,1,1,1,1]})\n",
    "        self.sql.dump_whole(df_date, self.table_name)\n",
    "        expect_df = df_date[df_date['date'] <= '2020-10-12']\n",
    "        df_date['col2'] = 3\n",
    "        self.sql.dump_replace(df_in = df_date , table_name_in = self.table_name, list_key = ['date'],\n",
    "                             math_logic = {'date' : {'logic' : '>', 'value' : '2020-10-12', 'type' : 'date'}},debug = True)\n",
    "        df_read = self.sql.read(self.table_name)\n",
    "        expect_df = expect_df.append(df_date)\n",
    "        result, expect = help_test(df_read, expect_df)\n",
    "        self.assertEqual(result, expect)\n",
    "        \n",
    "    def test_replace3(self) :\n",
    "        self.sql.dump_replace(df_in = self.df2 , table_name_in = self.table_name, list_key = ['col1','col2','col3'])\n",
    "        df_read = self.sql.read(self.table_name)\n",
    "        expect_df = self.df1.append(self.df2)\n",
    "        result, expect = help_test(df_read, expect_df)\n",
    "        self.assertEqual(result, expect)\n",
    "\n",
    "    def test_new1_str(self) :\n",
    "        self.sql.dump_new(df_in = self.df2 , table_name_in = self.table_name, list_key = 'col1')\n",
    "        df_read = self.sql.read(self.table_name)\n",
    "        expect_df = pd.DataFrame({'col1' : [1,2,3,4,5,6,7,8] , 'col2' : [1,1,2,2,3,4,4,5] , 'col3' : [1,1,1,1,1,2,2,2]})\n",
    "        result, expect = help_test(df_read, expect_df)\n",
    "        self.assertEqual(result, expect)\n",
    "\n",
    "    def test_new1(self) :\n",
    "        self.sql.dump_new(df_in = self.df2 , table_name_in = self.table_name, list_key = ['col1'])\n",
    "        df_read = self.sql.read(self.table_name)\n",
    "        expect_df = pd.DataFrame({'col1' : [1,2,3,4,5,6,7,8] , 'col2' : [1,1,2,2,3,4,4,5] , 'col3' : [1,1,1,1,1,2,2,2]})\n",
    "        result, expect = help_test(df_read, expect_df)\n",
    "        self.assertEqual(result, expect)\n",
    "\n",
    "    def test_new2(self) :\n",
    "        self.sql.dump_new(df_in = self.df2 , table_name_in = self.table_name, list_key = ['col1','col2'], debug = False)\n",
    "        df_read = self.sql.read(self.table_name)\n",
    "        expect_df = pd.DataFrame({'col1' : [1,2,3,4,5,4,6,7,8] , 'col2' : [1,1,2,2,3,3,4,4,5] , 'col3' : [1,1,1,1,1,2,2,2,2]})\n",
    "        result, expect = help_test(df_read, expect_df)\n",
    "        self.assertEqual(result, expect)\n",
    "        \n",
    "    def test_replace_null1(self) :\n",
    "        df1_n = pd.DataFrame({'col1' : [1,None,3,4,5] , 'col2' : [1,1,2,2,3] , 'col3' : [1,1,1,1,1]})\n",
    "        df2_n = pd.DataFrame({'col1' : [4,5,6,7,None] , 'col2' : [3,3,4,4,5] , 'col3' : [2,2,2,2,2]})\n",
    "        df1_n.to_sql(self.table_name, con = self.sql.engine, index = False, if_exists = 'replace')\n",
    "        self.sql.dump_replace(df_in = df2_n , table_name_in = self.table_name, list_key = ['col1'] , debug = True)\n",
    "        df_read = self.sql.read(self.table_name).sort_values('col1').reset_index(drop = True)\n",
    "        expect_df = pd.DataFrame({'col1' : [1,3,4,5,6,7,None] , 'col2' : [1,2,3,3,4,4,5] , 'col3' : [1,1,2,2,2,2,2]})\n",
    "        result, expect = help_test(df_read.fillna(99), expect_df.fillna(99))\n",
    "        self.assertEqual(result, expect)\n",
    "\n",
    "    def test_replace_null2(self) :\n",
    "        df1_n = pd.DataFrame({'col1' : [1,None,3,4,5] , 'col2' : [1,1,2,2,3] , 'col3' : [1,1,1,1,1]})\n",
    "        df2_n = pd.DataFrame({'col1' : [4,5,6,7,None] , 'col2' : [3,3,4,4,5] , 'col3' : [2,2,2,2,2]})\n",
    "        df1_n.to_sql(self.table_name, con = self.sql.engine, index = False, if_exists = 'replace')\n",
    "        self.sql.dump_replace(df_in = df2_n , table_name_in = self.table_name, list_key = ['col1','col2'] , debug = True)\n",
    "        df_read = self.sql.read(self.table_name).sort_values('col1').reset_index(drop = True)\n",
    "        expect_df = pd.DataFrame({ 'col1' : [1,None,3,4,4,5,6,7,None] , 'col2' : [1,1,2,2,3,3,4,4,5] \n",
    "                                  ,'col3' : [1,1,1,1,2,2,2,2,2]}).sort_values('col1').reset_index(drop = True)\n",
    "\n",
    "        result, expect = help_test(df_read.fillna(99), expect_df.fillna(99))\n",
    "        self.assertEqual(result, expect)\n",
    "\n",
    "unittest.main(argv = ['first-arg-is-ignored'], exit = False)"
   ]
  },
  {
   "cell_type": "markdown",
   "metadata": {},
   "source": [
    "## ODBC MSSQL"
   ]
  },
  {
   "cell_type": "code",
   "execution_count": 5,
   "metadata": {},
   "outputs": [
    {
     "name": "stdout",
     "output_type": "stream",
     "text": [
      "Connection OK\n"
     ]
    },
    {
     "name": "stderr",
     "output_type": "stream",
     "text": [
      "."
     ]
    },
    {
     "name": "stdout",
     "output_type": "stream",
     "text": [
      "Start Filter Existing data from df at  2021-02-14 14:54:08.088232\n",
      "Dump data to  unit_test_git  End  2021-02-14 14:54:08.196334\n",
      "Connection OK\n"
     ]
    },
    {
     "name": "stderr",
     "output_type": "stream",
     "text": [
      "."
     ]
    },
    {
     "name": "stdout",
     "output_type": "stream",
     "text": [
      "Start Filter Existing data from df at  2021-02-14 14:54:08.833346\n",
      "Dump data to  unit_test_git  End  2021-02-14 14:54:08.935442\n",
      "Connection OK\n"
     ]
    },
    {
     "name": "stderr",
     "output_type": "stream",
     "text": [
      "."
     ]
    },
    {
     "name": "stdout",
     "output_type": "stream",
     "text": [
      "Start Filter Existing data from df at  2021-02-14 14:54:09.592322\n",
      "Dump data to  unit_test_git  End  2021-02-14 14:54:09.697160\n",
      "Connection OK\n"
     ]
    },
    {
     "name": "stderr",
     "output_type": "stream",
     "text": [
      "."
     ]
    },
    {
     "name": "stdout",
     "output_type": "stream",
     "text": [
      "Connection OK\n"
     ]
    },
    {
     "name": "stderr",
     "output_type": "stream",
     "text": [
      "."
     ]
    },
    {
     "name": "stdout",
     "output_type": "stream",
     "text": [
      "Start delete old data at 2021-02-14 14:54:10.835086\n",
      "Delete Last ['col1'] at 2021-02-14 14:54:10.863778\n",
      "Dump data to  unit_test_git  End  2021-02-14 14:54:10.938793\n",
      "Connection OK\n"
     ]
    },
    {
     "name": "stderr",
     "output_type": "stream",
     "text": [
      "."
     ]
    },
    {
     "name": "stdout",
     "output_type": "stream",
     "text": [
      "Start delete old data at 2021-02-14 14:54:11.636191\n",
      "Delete Last col1 at 2021-02-14 14:54:11.671571\n",
      "Dump data to  unit_test_git  End  2021-02-14 14:54:11.745375\n",
      "Connection OK\n"
     ]
    },
    {
     "name": "stderr",
     "output_type": "stream",
     "text": [
      "."
     ]
    },
    {
     "name": "stdout",
     "output_type": "stream",
     "text": [
      "Start delete old data at 2021-02-14 14:54:12.392656\n",
      "Delete Last ['col1', 'col2'] at 2021-02-14 14:54:12.421787\n",
      "Dump data to  unit_test_git  End  2021-02-14 14:54:12.497664\n",
      "Connection OK\n"
     ]
    },
    {
     "name": "stderr",
     "output_type": "stream",
     "text": [
      "."
     ]
    },
    {
     "name": "stdout",
     "output_type": "stream",
     "text": [
      "Start delete old data at 2021-02-14 14:54:13.182736\n",
      "Delete Last ['col1', 'col2', 'col3'] at 2021-02-14 14:54:13.214268\n",
      "Dump data to  unit_test_git  End  2021-02-14 14:54:13.285243\n",
      "Connection OK\n"
     ]
    },
    {
     "name": "stderr",
     "output_type": "stream",
     "text": [
      "."
     ]
    },
    {
     "name": "stdout",
     "output_type": "stream",
     "text": [
      "Start delete old data at 2021-02-14 14:54:13.850000\n",
      "Delete Last ['col1'] at 2021-02-14 14:54:13.876715\n",
      "Dump data to  unit_test_git  End  2021-02-14 14:54:13.950667\n",
      "Connection OK\n",
      "Drop Existing Table at  2021-02-14 14:54:14.512812\n",
      "Dump data to  unit_test_git  End  2021-02-14 14:54:14.640547\n",
      "Start delete old data at 2021-02-14 14:54:14.641417\n",
      "Delete Last ['date'] at 2021-02-14 14:54:14.668346\n"
     ]
    },
    {
     "name": "stderr",
     "output_type": "stream",
     "text": [
      "."
     ]
    },
    {
     "name": "stdout",
     "output_type": "stream",
     "text": [
      "Dump data to  unit_test_git  End  2021-02-14 14:54:14.745693\n",
      "Connection OK\n"
     ]
    },
    {
     "name": "stderr",
     "output_type": "stream",
     "text": [
      "."
     ]
    },
    {
     "name": "stdout",
     "output_type": "stream",
     "text": [
      "Start delete old data at 2021-02-14 14:54:15.752044\n",
      "Delete Last ['col1'] at 2021-02-14 14:54:15.779968\n",
      "delete from unit_test_git where ([col1] in ('4.0', '5.0', '6.0', '7.0') OR [col1] IS NULL)\n",
      "Dump data to  unit_test_git  End  2021-02-14 14:54:15.855781\n",
      "Connection OK\n"
     ]
    },
    {
     "name": "stderr",
     "output_type": "stream",
     "text": [
      "."
     ]
    },
    {
     "name": "stdout",
     "output_type": "stream",
     "text": [
      "Start delete old data at 2021-02-14 14:54:16.897725\n",
      "Delete Last ['col1', 'col2'] at 2021-02-14 14:54:16.933802\n",
      "delete from unit_test_git where ([col1] in ('4.0', '5.0', '6.0', '7.0') OR [col1] IS NULL) and [col2] in ('3', '4', '5')\n",
      "Dump data to  unit_test_git  End  2021-02-14 14:54:17.005197\n",
      "Connection OK\n"
     ]
    },
    {
     "name": "stderr",
     "output_type": "stream",
     "text": [
      "."
     ]
    },
    {
     "name": "stdout",
     "output_type": "stream",
     "text": [
      "Connection OK\n"
     ]
    },
    {
     "name": "stderr",
     "output_type": "stream",
     "text": [
      "."
     ]
    },
    {
     "name": "stdout",
     "output_type": "stream",
     "text": [
      "Drop Existing Table at  2021-02-14 14:54:18.185205\n",
      "Dump data to  unit_test_git  End  2021-02-14 14:54:18.312102\n"
     ]
    },
    {
     "name": "stderr",
     "output_type": "stream",
     "text": [
      "\n",
      "----------------------------------------------------------------------\n",
      "Ran 14 tests in 11.453s\n",
      "\n",
      "OK\n"
     ]
    },
    {
     "data": {
      "text/plain": [
       "<unittest.main.TestProgram at 0x23d8137ba08>"
      ]
     },
     "execution_count": 5,
     "metadata": {},
     "output_type": "execute_result"
    }
   ],
   "source": [
    "test_mssql = setting['MSSQL']\n",
    "\n",
    "class SQL_Test_class(unittest.TestCase):\n",
    "    def setUp(self):\n",
    "        self.sql = da_tran_SQL(sql_type = test_mssql['type'],\n",
    "                                host_name = test_mssql['host'],\n",
    "                                database_name = test_mssql['database'],\n",
    "                                user = test_mssql['user'],\n",
    "                                password = test_mssql['password'],\n",
    "                                driver = 'pyodbc', parameter = 'driver=SQL+Server')\n",
    "        self.df1 = pd.DataFrame({'col1' : [1,2,3,4,5] , 'col2' : [1,1,2,2,3] , 'col3' : [1,1,1,1,1]})\n",
    "        self.df2 = pd.DataFrame({'col1' : [4,5,6,7,8] , 'col2' : [3,3,4,4,5] , 'col3' : [2,2,2,2,2]})\n",
    "        self.table_name = 'unit_test_git'\n",
    "        self.df1.to_sql(self.table_name, con = self.sql.engine, index = False, if_exists = 'replace')\n",
    "\n",
    "    def test_sp(self):\n",
    "        sql_q = \"\"\" CREATE OR ALTER PROCEDURE unit_test_git_SP (@PARAM1 AS VARCHAR(100))\n",
    "                    AS\n",
    "                    BEGIN\n",
    "                    SELECT * FROM {} WHERE col1 = @PARAM1 \n",
    "                    END\"\"\".format(self.table_name)\n",
    "        self.sql.engine.execute(sql_q)\n",
    "        df_read = self.sql.read('unit_test_git_SP', SP = True , param = {'@PARAM1' : 1})\n",
    "        expect_df = self.df1[self.df1['col1'] == 1]\n",
    "        result, expect = help_test(df_read, expect_df)\n",
    "        self.assertEqual(result, expect)\n",
    "        \n",
    "    def test_read_sql(self):\n",
    "        df_read = self.sql.read(self.table_name)\n",
    "        expect_df = self.df1\n",
    "        result, expect = help_test(df_read, expect_df)\n",
    "        self.assertEqual(result, expect)\n",
    "\n",
    "    def test_whole(self):\n",
    "        self.sql.dump_whole(self.df2, self.table_name)\n",
    "        df_read = self.sql.read(self.table_name)\n",
    "        expect_df = self.df2\n",
    "        result, expect = help_test(df_read, expect_df)\n",
    "        self.assertEqual(result, expect)\n",
    "        \n",
    "    \n",
    "    def test_replace1(self) :\n",
    "        self.sql.dump_replace(df_in = self.df2 , table_name_in = self.table_name, list_key = ['col1'])\n",
    "        df_read = self.sql.read(self.table_name)\n",
    "        expect_df = pd.DataFrame({'col1' : [1,2,3,4,5,6,7,8] , 'col2' : [1,1,2,3,3,4,4,5] , 'col3' : [1,1,1,2,2,2,2,2]})\n",
    "        result, expect = help_test(df_read, expect_df)\n",
    "        self.assertEqual(result, expect)\n",
    "        \n",
    "    def test_replace1_str(self) :\n",
    "        self.sql.dump_replace(df_in = self.df2 , table_name_in = self.table_name, list_key = 'col1')\n",
    "        df_read = self.sql.read(self.table_name)\n",
    "        expect_df = pd.DataFrame({'col1' : [1,2,3,4,5,6,7,8] , 'col2' : [1,1,2,3,3,4,4,5] , 'col3' : [1,1,1,2,2,2,2,2]})\n",
    "        result, expect = help_test(df_read, expect_df)\n",
    "        self.assertEqual(result, expect)\n",
    "\n",
    "    def test_replace2(self) :\n",
    "        self.sql.dump_replace(df_in = self.df2 , table_name_in = self.table_name, list_key = ['col1','col2'])\n",
    "        df_read = self.sql.read(self.table_name)\n",
    "        expect_df = pd.DataFrame({'col1' : [1,2,3,4,4,5,6,7,8] , 'col2' : [1,1,2,2,3,3,4,4,5] , 'col3' : [1,1,1,1,2,2,2,2,2]})\n",
    "        result, expect = help_test(df_read, expect_df)\n",
    "        self.assertEqual(result, expect)\n",
    "        \n",
    "    def test_replace3(self) :\n",
    "        self.sql.dump_replace(df_in = self.df2 , table_name_in = self.table_name, list_key = ['col1','col2','col3'])\n",
    "        df_read = self.sql.read(self.table_name)\n",
    "        expect_df = self.df1.append(self.df2)\n",
    "        result, expect = help_test(df_read, expect_df)\n",
    "        self.assertEqual(result, expect)\n",
    "\n",
    "    def test_replace_logic(self) :\n",
    "        self.sql.dump_replace(df_in = self.df2 , table_name_in = self.table_name, list_key = ['col1'],\n",
    "                             math_logic = {'col1' : {'logic' : '>', 'value' : 1}})\n",
    "        df_read = self.sql.read(self.table_name)\n",
    "        expect_df = self.df1[self.df1['col1'] <= 1].append(self.df2)\n",
    "        result, expect = help_test(df_read, expect_df)\n",
    "        self.assertEqual(result, expect)\n",
    "        \n",
    "    def test_replace_logic_date(self) :\n",
    "        df_date = pd.DataFrame({'col1' : [1,2,3,4,5], \n",
    "                                'date' : pd.date_range('2020-10-10','2020-10-14'), 'col2' :[1,1,1,1,1]})\n",
    "        \n",
    "        self.sql.dump_whole(df_date, self.table_name)\n",
    "        expect_df = df_date[df_date['date'] <= '2020-10-12']\n",
    "        df_date['col2'] = 3\n",
    "        self.sql.dump_replace(df_in = df_date , table_name_in = self.table_name, list_key = ['date'],\n",
    "                             math_logic = {'date' : {'logic' : '>', 'value' : '2020-10-12', 'type' : 'date'}})\n",
    "        df_read = self.sql.read(self.table_name)\n",
    "        expect_df = expect_df.append(df_date)\n",
    "        result, expect = help_test(df_read, expect_df)\n",
    "        self.assertEqual(result, expect)\n",
    "        \n",
    "    def test_replace3(self) :\n",
    "        self.sql.dump_replace(df_in = self.df2 , table_name_in = self.table_name, list_key = ['col1','col2','col3'])\n",
    "        df_read = self.sql.read(self.table_name)\n",
    "        expect_df = self.df1.append(self.df2)\n",
    "        result, expect = help_test(df_read, expect_df)\n",
    "        self.assertEqual(result, expect)\n",
    "\n",
    "    def test_new1_str(self) :\n",
    "        self.sql.dump_new(df_in = self.df2 , table_name_in = self.table_name, list_key = 'col1')\n",
    "        df_read = self.sql.read(self.table_name)\n",
    "        expect_df = pd.DataFrame({'col1' : [1,2,3,4,5,6,7,8] , 'col2' : [1,1,2,2,3,4,4,5] , 'col3' : [1,1,1,1,1,2,2,2]})\n",
    "        result, expect = help_test(df_read, expect_df)\n",
    "        self.assertEqual(result, expect)\n",
    "\n",
    "    def test_new1(self) :\n",
    "        self.sql.dump_new(df_in = self.df2 , table_name_in = self.table_name, list_key = ['col1'])\n",
    "        df_read = self.sql.read(self.table_name)\n",
    "        expect_df = pd.DataFrame({'col1' : [1,2,3,4,5,6,7,8] , 'col2' : [1,1,2,2,3,4,4,5] , 'col3' : [1,1,1,1,1,2,2,2]})\n",
    "        result, expect = help_test(df_read, expect_df)\n",
    "        self.assertEqual(result, expect)\n",
    "\n",
    "    def test_new2(self) :\n",
    "        self.sql.dump_new(df_in = self.df2 , table_name_in = self.table_name, list_key = ['col1','col2'], debug = False)\n",
    "        df_read = self.sql.read(self.table_name)\n",
    "        expect_df = pd.DataFrame({'col1' : [1,2,3,4,5,4,6,7,8] , 'col2' : [1,1,2,2,3,3,4,4,5] , 'col3' : [1,1,1,1,1,2,2,2,2]})\n",
    "        result, expect = help_test(df_read, expect_df)\n",
    "        self.assertEqual(result, expect)\n",
    "        \n",
    "    def test_replace_null1(self) :\n",
    "        df1_n = pd.DataFrame({'col1' : [1,None,3,4,5] , 'col2' : [1,1,2,2,3] , 'col3' : [1,1,1,1,1]})\n",
    "        df2_n = pd.DataFrame({'col1' : [4,5,6,7,None] , 'col2' : [3,3,4,4,5] , 'col3' : [2,2,2,2,2]})\n",
    "        df1_n.to_sql(self.table_name, con = self.sql.engine, index = False, if_exists = 'replace')\n",
    "        self.sql.dump_replace(df_in = df2_n , table_name_in = self.table_name, list_key = ['col1'] , debug = True)\n",
    "        df_read = self.sql.read(self.table_name).sort_values('col1').reset_index(drop = True)\n",
    "        expect_df = pd.DataFrame({'col1' : [1,3,4,5,6,7,None] , 'col2' : [1,2,3,3,4,4,5] , 'col3' : [1,1,2,2,2,2,2]})\n",
    "        result, expect = help_test(df_read.fillna(99), expect_df.fillna(99))\n",
    "        self.assertEqual(result, expect)\n",
    "\n",
    "    def test_replace_null2(self) :\n",
    "        df1_n = pd.DataFrame({'col1' : [1,None,3,4,5] , 'col2' : [1,1,2,2,3] , 'col3' : [1,1,1,1,1]})\n",
    "        df2_n = pd.DataFrame({'col1' : [4,5,6,7,None] , 'col2' : [3,3,4,4,5] , 'col3' : [2,2,2,2,2]})\n",
    "        df1_n.to_sql(self.table_name, con = self.sql.engine, index = False, if_exists = 'replace')\n",
    "        self.sql.dump_replace(df_in = df2_n , table_name_in = self.table_name, list_key = ['col1','col2'] , debug = True)\n",
    "        df_read = self.sql.read(self.table_name).sort_values('col1').reset_index(drop = True)\n",
    "        expect_df = pd.DataFrame({ 'col1' : [1,None,3,4,4,5,6,7,None] , 'col2' : [1,1,2,2,3,3,4,4,5] \n",
    "                                  ,'col3' : [1,1,1,1,2,2,2,2,2]}).sort_values('col1').reset_index(drop = True)\n",
    "\n",
    "        result, expect = help_test(df_read.fillna(99), expect_df.fillna(99))\n",
    "        self.assertEqual(result, expect)\n",
    "\n",
    "unittest.main(argv = ['first-arg-is-ignored'], exit = False)"
   ]
  },
  {
   "cell_type": "markdown",
   "metadata": {},
   "source": [
    "# MYSQL\n",
    "## Default MYSQL"
   ]
  },
  {
   "cell_type": "code",
   "execution_count": 6,
   "metadata": {
    "scrolled": false
   },
   "outputs": [
    {
     "name": "stdout",
     "output_type": "stream",
     "text": [
      "Connection OK\n",
      "Start Filter Existing data from df at  2021-02-14 14:54:19.405455\n",
      "Dump data to  unit_test_git  End  2021-02-14 14:54:19.576619\n"
     ]
    },
    {
     "name": "stderr",
     "output_type": "stream",
     "text": [
      "."
     ]
    },
    {
     "name": "stdout",
     "output_type": "stream",
     "text": [
      "Connection OK\n",
      "Start Filter Existing data from df at  2021-02-14 14:54:20.622512\n",
      "Dump data to  unit_test_git  End  2021-02-14 14:54:20.799995\n"
     ]
    },
    {
     "name": "stderr",
     "output_type": "stream",
     "text": [
      "."
     ]
    },
    {
     "name": "stdout",
     "output_type": "stream",
     "text": [
      "Connection OK\n",
      "Start Filter Existing data from df at  2021-02-14 14:54:21.659393\n",
      "Dump data to  unit_test_git  End  2021-02-14 14:54:21.854384\n"
     ]
    },
    {
     "name": "stderr",
     "output_type": "stream",
     "text": [
      "."
     ]
    },
    {
     "name": "stdout",
     "output_type": "stream",
     "text": [
      "Connection OK\n"
     ]
    },
    {
     "name": "stderr",
     "output_type": "stream",
     "text": [
      "."
     ]
    },
    {
     "name": "stdout",
     "output_type": "stream",
     "text": [
      "Connection OK\n",
      "Start delete old data at 2021-02-14 14:54:23.635212\n",
      "Delete Last ['col1'] at 2021-02-14 14:54:23.711015\n"
     ]
    },
    {
     "name": "stderr",
     "output_type": "stream",
     "text": [
      "."
     ]
    },
    {
     "name": "stdout",
     "output_type": "stream",
     "text": [
      "Dump data to  unit_test_git  End  2021-02-14 14:54:23.835199\n",
      "Connection OK\n",
      "Start delete old data at 2021-02-14 14:54:24.776137\n",
      "Delete Last col1 at 2021-02-14 14:54:24.853629\n"
     ]
    },
    {
     "name": "stderr",
     "output_type": "stream",
     "text": [
      "."
     ]
    },
    {
     "name": "stdout",
     "output_type": "stream",
     "text": [
      "Dump data to  unit_test_git  End  2021-02-14 14:54:24.982528\n",
      "Connection OK\n",
      "Start delete old data at 2021-02-14 14:54:25.944169\n",
      "Delete Last ['col1', 'col2'] at 2021-02-14 14:54:26.036883\n"
     ]
    },
    {
     "name": "stderr",
     "output_type": "stream",
     "text": [
      "."
     ]
    },
    {
     "name": "stdout",
     "output_type": "stream",
     "text": [
      "Dump data to  unit_test_git  End  2021-02-14 14:54:26.181189\n",
      "Connection OK\n",
      "Start delete old data at 2021-02-14 14:54:27.044308\n",
      "Delete Last ['col1', 'col2', 'col3'] at 2021-02-14 14:54:27.121181\n",
      "Dump data to  unit_test_git  End  2021-02-14 14:54:27.243671\n"
     ]
    },
    {
     "name": "stderr",
     "output_type": "stream",
     "text": [
      "."
     ]
    },
    {
     "name": "stdout",
     "output_type": "stream",
     "text": [
      "Connection OK\n",
      "Start delete old data at 2021-02-14 14:54:28.103976\n",
      "Delete Last ['col1'] at 2021-02-14 14:54:28.176772\n",
      "Dump data to  unit_test_git  End  2021-02-14 14:54:28.298247\n"
     ]
    },
    {
     "name": "stderr",
     "output_type": "stream",
     "text": [
      "."
     ]
    },
    {
     "name": "stdout",
     "output_type": "stream",
     "text": [
      "Connection OK\n",
      "Drop Existing Table at  2021-02-14 14:54:29.247451\n",
      "Dump data to  unit_test_git  End  2021-02-14 14:54:29.577532\n",
      "Start delete old data at 2021-02-14 14:54:29.578564\n",
      "Delete Last ['date'] at 2021-02-14 14:54:29.662951\n"
     ]
    },
    {
     "name": "stderr",
     "output_type": "stream",
     "text": [
      "."
     ]
    },
    {
     "name": "stdout",
     "output_type": "stream",
     "text": [
      "Dump data to  unit_test_git  End  2021-02-14 14:54:29.807313\n",
      "Connection OK\n",
      "Start delete old data at 2021-02-14 14:54:31.111919\n",
      "Delete Last ['col1'] at 2021-02-14 14:54:31.191025\n",
      "delete from unit_test_git where (col1 in ('4.0', '5.0', '6.0', '7.0') OR col1 IS NULL)\n"
     ]
    },
    {
     "name": "stderr",
     "output_type": "stream",
     "text": [
      "."
     ]
    },
    {
     "name": "stdout",
     "output_type": "stream",
     "text": [
      "Dump data to  unit_test_git  End  2021-02-14 14:54:31.322924\n",
      "Connection OK\n",
      "Start delete old data at 2021-02-14 14:54:32.623331\n",
      "Delete Last ['col1', 'col2'] at 2021-02-14 14:54:32.704434\n",
      "delete from unit_test_git where (col1 in ('4.0', '5.0', '6.0', '7.0') OR col1 IS NULL) and col2 in ('3', '4', '5')\n"
     ]
    },
    {
     "name": "stderr",
     "output_type": "stream",
     "text": [
      "."
     ]
    },
    {
     "name": "stdout",
     "output_type": "stream",
     "text": [
      "Dump data to  unit_test_git  End  2021-02-14 14:54:32.839068\n",
      "Connection OK\n"
     ]
    },
    {
     "name": "stderr",
     "output_type": "stream",
     "text": [
      "."
     ]
    },
    {
     "name": "stdout",
     "output_type": "stream",
     "text": [
      "Connection OK\n",
      "Drop Existing Table at  2021-02-14 14:54:34.732462\n"
     ]
    },
    {
     "name": "stderr",
     "output_type": "stream",
     "text": [
      "."
     ]
    },
    {
     "name": "stdout",
     "output_type": "stream",
     "text": [
      "Dump data to  unit_test_git  End  2021-02-14 14:54:35.040777\n"
     ]
    },
    {
     "name": "stderr",
     "output_type": "stream",
     "text": [
      "\n",
      "----------------------------------------------------------------------\n",
      "Ran 14 tests in 16.661s\n",
      "\n",
      "OK\n"
     ]
    },
    {
     "data": {
      "text/plain": [
       "<unittest.main.TestProgram at 0x23d813c64c8>"
      ]
     },
     "execution_count": 6,
     "metadata": {},
     "output_type": "execute_result"
    }
   ],
   "source": [
    "test_mysql = setting['MYSQL']\n",
    "    \n",
    "class SQL_Test_class(unittest.TestCase):\n",
    "    def setUp(self):\n",
    "        self.sql = da_tran_SQL(sql_type = test_mysql['type'],\n",
    "                                host_name = test_mysql['host'],\n",
    "                                database_name = test_mysql['database'],\n",
    "                                user = test_mysql['user'],\n",
    "                                password = test_mysql['password'])\n",
    "        self.df1 = pd.DataFrame({'col1' : [1,2,3,4,5] , 'col2' : [1,1,2,2,3] , 'col3' : [1,1,1,1,1]})\n",
    "        self.df2 = pd.DataFrame({'col1' : [4,5,6,7,8] , 'col2' : [3,3,4,4,5] , 'col3' : [2,2,2,2,2]})\n",
    "        self.table_name = 'unit_test_git'\n",
    "        self.df1.to_sql(self.table_name, con = self.sql.engine, index = False, if_exists = 'replace')\n",
    "\n",
    "    def test_sp(self):\n",
    "        sql_q = \"\"\" drop procedure if exists unit_test_git_SP;\"\"\"\n",
    "        self.sql.engine.execute(sql_q)\n",
    "        sql_q = \"\"\" CREATE PROCEDURE unit_test_git_SP\n",
    "                    (PARAM1 VARCHAR(100))\n",
    "                    BEGIN\n",
    "                    SELECT * FROM {} WHERE col1 = PARAM1 ;\n",
    "                    end;\"\"\".format(self.table_name)\n",
    "        self.sql.engine.execute(sql_q)\n",
    "        df_read = self.sql.read('unit_test_git_SP', SP = True , param = {'PARAM1' : 1})\n",
    "        expect_df = self.df1[self.df1['col1'] == 1]\n",
    "        result, expect = help_test(df_read, expect_df)\n",
    "        self.assertEqual(result, expect)\n",
    "\n",
    "\n",
    "    def test_read_sql(self):\n",
    "        df_read = self.sql.read(self.table_name)\n",
    "        expect_df = self.df1\n",
    "        result, expect = help_test(df_read, expect_df)\n",
    "        self.assertEqual(result, expect)\n",
    "\n",
    "    def test_whole(self):\n",
    "        self.sql.dump_whole(self.df2, self.table_name)\n",
    "        df_read = self.sql.read(self.table_name)\n",
    "        expect_df = self.df2\n",
    "        result, expect = help_test(df_read, expect_df)\n",
    "        self.assertEqual(result, expect)\n",
    "\n",
    "    def test_replace1(self) :\n",
    "        self.sql.dump_replace(df_in = self.df2 , table_name_in = self.table_name, list_key = ['col1'])\n",
    "        df_read = self.sql.read(self.table_name)\n",
    "        expect_df = pd.DataFrame({'col1' : [1,2,3,4,5,6,7,8] , 'col2' : [1,1,2,3,3,4,4,5] , 'col3' : [1,1,1,2,2,2,2,2]})\n",
    "        result, expect = help_test(df_read, expect_df)\n",
    "        self.assertEqual(result, expect)\n",
    "\n",
    "    def test_replace1_str(self) :\n",
    "        self.sql.dump_replace(df_in = self.df2 , table_name_in = self.table_name, list_key = 'col1')\n",
    "        df_read = self.sql.read(self.table_name)\n",
    "        expect_df = pd.DataFrame({'col1' : [1,2,3,4,5,6,7,8] , 'col2' : [1,1,2,3,3,4,4,5] , 'col3' : [1,1,1,2,2,2,2,2]})\n",
    "        result, expect = help_test(df_read, expect_df)\n",
    "        self.assertEqual(result, expect)\n",
    "\n",
    "    def test_replace2(self) :\n",
    "        self.sql.dump_replace(df_in = self.df2 , table_name_in = self.table_name, list_key = ['col1','col2'])\n",
    "        df_read = self.sql.read(self.table_name)\n",
    "        expect_df = pd.DataFrame({'col1' : [1,2,3,4,4,5,6,7,8] , 'col2' : [1,1,2,2,3,3,4,4,5] , 'col3' : [1,1,1,1,2,2,2,2,2]})\n",
    "        result, expect = help_test(df_read, expect_df)\n",
    "        self.assertEqual(result, expect)\n",
    "        \n",
    "    def test_replace3(self) :\n",
    "        self.sql.dump_replace(df_in = self.df2 , table_name_in = self.table_name, list_key = ['col1','col2','col3'])\n",
    "        df_read = self.sql.read(self.table_name)\n",
    "        expect_df = self.df1.append(self.df2)\n",
    "        result, expect = help_test(df_read, expect_df)\n",
    "        self.assertEqual(result, expect)\n",
    "\n",
    "    def test_replace_logic(self) :\n",
    "        self.sql.dump_replace(df_in = self.df2 , table_name_in = self.table_name, list_key = ['col1'],\n",
    "                             math_logic = {'col1' : {'logic' : '>', 'value' : 1}})\n",
    "        df_read = self.sql.read(self.table_name)\n",
    "        expect_df = self.df1[self.df1['col1'] <= 1].append(self.df2)\n",
    "        result, expect = help_test(df_read, expect_df)\n",
    "        self.assertEqual(result, expect)\n",
    "        \n",
    "    def test_replace_logic_date(self) :\n",
    "        df_date = pd.DataFrame({'col1' : [1,2,3,4,5], \n",
    "                                'date' : pd.date_range('2020-10-10','2020-10-14'), 'col2' :[1,1,1,1,1]})\n",
    "        self.sql.dump_whole(df_date, self.table_name)\n",
    "        expect_df = df_date[df_date['date'] <= '2020-10-12']\n",
    "        df_date['col2'] = 3\n",
    "        self.sql.dump_replace(df_in = df_date , table_name_in = self.table_name, list_key = ['date'],\n",
    "                             math_logic = {'date' : {'logic' : '>', 'value' : '2020-10-12', 'type' : 'date'}})\n",
    "        df_read = self.sql.read(self.table_name)\n",
    "        expect_df = expect_df.append(df_date)\n",
    "        result, expect = help_test(df_read, expect_df)\n",
    "        self.assertEqual(result, expect)\n",
    "        \n",
    "    def test_replace3(self) :\n",
    "        self.sql.dump_replace(df_in = self.df2 , table_name_in = self.table_name, list_key = ['col1','col2','col3'])\n",
    "        df_read = self.sql.read(self.table_name)\n",
    "        expect_df = self.df1.append(self.df2)\n",
    "        result, expect = help_test(df_read, expect_df)\n",
    "        self.assertEqual(result, expect)\n",
    "\n",
    "    def test_new1_str(self) :\n",
    "        self.sql.dump_new(df_in = self.df2 , table_name_in = self.table_name, list_key = 'col1')\n",
    "        df_read = self.sql.read(self.table_name)\n",
    "        expect_df = pd.DataFrame({'col1' : [1,2,3,4,5,6,7,8] , 'col2' : [1,1,2,2,3,4,4,5] , 'col3' : [1,1,1,1,1,2,2,2]})\n",
    "        result, expect = help_test(df_read, expect_df)\n",
    "        self.assertEqual(result, expect)\n",
    "\n",
    "    def test_new1(self) :\n",
    "        self.sql.dump_new(df_in = self.df2 , table_name_in = self.table_name, list_key = ['col1'])\n",
    "        df_read = self.sql.read(self.table_name)\n",
    "        expect_df = pd.DataFrame({'col1' : [1,2,3,4,5,6,7,8] , 'col2' : [1,1,2,2,3,4,4,5] , 'col3' : [1,1,1,1,1,2,2,2]})\n",
    "        result, expect = help_test(df_read, expect_df)\n",
    "        self.assertEqual(result, expect)\n",
    "\n",
    "    def test_new2(self) :\n",
    "        self.sql.dump_new(df_in = self.df2 , table_name_in = self.table_name, list_key = ['col1','col2'], debug = False)\n",
    "        df_read = self.sql.read(self.table_name)\n",
    "        expect_df = pd.DataFrame({'col1' : [1,2,3,4,5,4,6,7,8] , 'col2' : [1,1,2,2,3,3,4,4,5] , 'col3' : [1,1,1,1,1,2,2,2,2]})\n",
    "        result, expect = help_test(df_read, expect_df)\n",
    "        self.assertEqual(result, expect)\n",
    "\n",
    "    def test_replace_null1(self) :\n",
    "        df1_n = pd.DataFrame({'col1' : [1,None,3,4,5] , 'col2' : [1,1,2,2,3] , 'col3' : [1,1,1,1,1]})\n",
    "        df2_n = pd.DataFrame({'col1' : [4,5,6,7,None] , 'col2' : [3,3,4,4,5] , 'col3' : [2,2,2,2,2]})\n",
    "        df1_n.to_sql(self.table_name, con = self.sql.engine, index = False, if_exists = 'replace')\n",
    "        self.sql.dump_replace(df_in = df2_n , table_name_in = self.table_name, list_key = ['col1'] , debug = True)\n",
    "        df_read = self.sql.read(self.table_name).sort_values('col1').reset_index(drop = True)\n",
    "        expect_df = pd.DataFrame({'col1' : [1,3,4,5,6,7,None] , 'col2' : [1,2,3,3,4,4,5] , 'col3' : [1,1,2,2,2,2,2]})\n",
    "        result, expect = help_test(df_read.fillna(99), expect_df.fillna(99))\n",
    "        self.assertEqual(result, expect)\n",
    "\n",
    "    def test_replace_null2(self) :\n",
    "        df1_n = pd.DataFrame({'col1' : [1,None,3,4,5] , 'col2' : [1,1,2,2,3] , 'col3' : [1,1,1,1,1]})\n",
    "        df2_n = pd.DataFrame({'col1' : [4,5,6,7,None] , 'col2' : [3,3,4,4,5] , 'col3' : [2,2,2,2,2]})\n",
    "        df1_n.to_sql(self.table_name, con = self.sql.engine, index = False, if_exists = 'replace')\n",
    "        self.sql.dump_replace(df_in = df2_n , table_name_in = self.table_name, list_key = ['col1','col2'] , debug = True)\n",
    "        df_read = self.sql.read(self.table_name).sort_values('col1').reset_index(drop = True)\n",
    "        expect_df = pd.DataFrame({ 'col1' : [1,None,3,4,4,5,6,7,None] , 'col2' : [1,1,2,2,3,3,4,4,5] \n",
    "                                  ,'col3' : [1,1,1,1,2,2,2,2,2]}).sort_values('col1').reset_index(drop = True)\n",
    "\n",
    "        result, expect = help_test(df_read.fillna(99), expect_df.fillna(99))\n",
    "        self.assertEqual(result, expect)\n",
    "\n",
    "unittest.main(argv = ['first-arg-is-ignored'], exit = False)"
   ]
  },
  {
   "cell_type": "markdown",
   "metadata": {},
   "source": [
    "## Parallel MYSQL"
   ]
  },
  {
   "cell_type": "code",
   "execution_count": 7,
   "metadata": {
    "scrolled": false
   },
   "outputs": [
    {
     "name": "stdout",
     "output_type": "stream",
     "text": [
      "Connection OK\n",
      "Start Filter Existing data from df at  2021-02-14 14:54:35.956993\n"
     ]
    },
    {
     "name": "stderr",
     "output_type": "stream",
     "text": [
      "."
     ]
    },
    {
     "name": "stdout",
     "output_type": "stream",
     "text": [
      "Dump data to  unit_test_git  End  2021-02-14 14:54:36.240897\n",
      "Connection OK\n",
      "Start Filter Existing data from df at  2021-02-14 14:54:37.105877\n"
     ]
    },
    {
     "name": "stderr",
     "output_type": "stream",
     "text": [
      "."
     ]
    },
    {
     "name": "stdout",
     "output_type": "stream",
     "text": [
      "Dump data to  unit_test_git  End  2021-02-14 14:54:37.387468\n",
      "Connection OK\n",
      "Start Filter Existing data from df at  2021-02-14 14:54:38.256365\n"
     ]
    },
    {
     "name": "stderr",
     "output_type": "stream",
     "text": [
      "."
     ]
    },
    {
     "name": "stdout",
     "output_type": "stream",
     "text": [
      "Dump data to  unit_test_git  End  2021-02-14 14:54:38.554946\n",
      "Connection OK\n"
     ]
    },
    {
     "name": "stderr",
     "output_type": "stream",
     "text": [
      "."
     ]
    },
    {
     "name": "stdout",
     "output_type": "stream",
     "text": [
      "Connection OK\n",
      "Start delete old data at 2021-02-14 14:54:40.449409\n",
      "Delete Last ['col1'] at 2021-02-14 14:54:40.532066\n"
     ]
    },
    {
     "name": "stderr",
     "output_type": "stream",
     "text": [
      "."
     ]
    },
    {
     "name": "stdout",
     "output_type": "stream",
     "text": [
      "Dump data to  unit_test_git  End  2021-02-14 14:54:40.920738\n",
      "Connection OK\n",
      "Start delete old data at 2021-02-14 14:54:41.788213\n",
      "Delete Last col1 at 2021-02-14 14:54:41.866476\n"
     ]
    },
    {
     "name": "stderr",
     "output_type": "stream",
     "text": [
      "."
     ]
    },
    {
     "name": "stdout",
     "output_type": "stream",
     "text": [
      "Dump data to  unit_test_git  End  2021-02-14 14:54:42.242255\n",
      "Connection OK\n",
      "Start delete old data at 2021-02-14 14:54:43.116570\n",
      "Delete Last ['col1', 'col2'] at 2021-02-14 14:54:43.190635\n"
     ]
    },
    {
     "name": "stderr",
     "output_type": "stream",
     "text": [
      "."
     ]
    },
    {
     "name": "stdout",
     "output_type": "stream",
     "text": [
      "Dump data to  unit_test_git  End  2021-02-14 14:54:43.546584\n",
      "Connection OK\n",
      "Start delete old data at 2021-02-14 14:54:44.506258\n",
      "Delete Last ['col1', 'col2', 'col3'] at 2021-02-14 14:54:44.587352\n"
     ]
    },
    {
     "name": "stderr",
     "output_type": "stream",
     "text": [
      "."
     ]
    },
    {
     "name": "stdout",
     "output_type": "stream",
     "text": [
      "Dump data to  unit_test_git  End  2021-02-14 14:54:44.982324\n",
      "Connection OK\n",
      "Start delete old data at 2021-02-14 14:54:45.862232\n",
      "Delete Last ['col1'] at 2021-02-14 14:54:45.933555\n"
     ]
    },
    {
     "name": "stderr",
     "output_type": "stream",
     "text": [
      "."
     ]
    },
    {
     "name": "stdout",
     "output_type": "stream",
     "text": [
      "Dump data to  unit_test_git  End  2021-02-14 14:54:46.297092\n",
      "Connection OK\n",
      "Drop Existing Table at  2021-02-14 14:54:47.187656\n",
      "Dump data to  unit_test_git  End  2021-02-14 14:54:47.674630\n",
      "Start delete old data at 2021-02-14 14:54:47.675628\n",
      "Delete Last ['date'] at 2021-02-14 14:54:47.750381\n"
     ]
    },
    {
     "name": "stderr",
     "output_type": "stream",
     "text": [
      "."
     ]
    },
    {
     "name": "stdout",
     "output_type": "stream",
     "text": [
      "Dump data to  unit_test_git  End  2021-02-14 14:54:48.019238\n",
      "Connection OK\n",
      "Start delete old data at 2021-02-14 14:54:49.312326\n",
      "Delete Last ['col1'] at 2021-02-14 14:54:49.382000\n",
      "delete from unit_test_git where (col1 in ('4.0', '5.0', '6.0', '7.0') OR col1 IS NULL)\n"
     ]
    },
    {
     "name": "stderr",
     "output_type": "stream",
     "text": [
      "."
     ]
    },
    {
     "name": "stdout",
     "output_type": "stream",
     "text": [
      "Dump data to  unit_test_git  End  2021-02-14 14:54:49.756779\n",
      "Connection OK\n",
      "Start delete old data at 2021-02-14 14:54:51.067290\n",
      "Delete Last ['col1', 'col2'] at 2021-02-14 14:54:51.140083\n",
      "delete from unit_test_git where (col1 in ('4.0', '5.0', '6.0', '7.0') OR col1 IS NULL) and col2 in ('3', '4', '5')\n"
     ]
    },
    {
     "name": "stderr",
     "output_type": "stream",
     "text": [
      "."
     ]
    },
    {
     "name": "stdout",
     "output_type": "stream",
     "text": [
      "Dump data to  unit_test_git  End  2021-02-14 14:54:51.507437\n",
      "Connection OK\n"
     ]
    },
    {
     "name": "stderr",
     "output_type": "stream",
     "text": [
      "."
     ]
    },
    {
     "name": "stdout",
     "output_type": "stream",
     "text": [
      "Connection OK\n",
      "Drop Existing Table at  2021-02-14 14:54:54.081583\n"
     ]
    },
    {
     "name": "stderr",
     "output_type": "stream",
     "text": [
      "."
     ]
    },
    {
     "name": "stdout",
     "output_type": "stream",
     "text": [
      "Dump data to  unit_test_git  End  2021-02-14 14:54:54.539423\n"
     ]
    },
    {
     "name": "stderr",
     "output_type": "stream",
     "text": [
      "\n",
      "----------------------------------------------------------------------\n",
      "Ran 14 tests in 19.434s\n",
      "\n",
      "OK\n"
     ]
    },
    {
     "data": {
      "text/plain": [
       "<unittest.main.TestProgram at 0x23d8187aac8>"
      ]
     },
     "execution_count": 7,
     "metadata": {},
     "output_type": "execute_result"
    }
   ],
   "source": [
    "test_mysql = setting['MYSQL']\n",
    "    \n",
    "class SQL_Test_class(unittest.TestCase):\n",
    "    def setUp(self):\n",
    "        self.sql = da_tran_SQL(sql_type = test_mysql['type'],\n",
    "                                host_name = test_mysql['host'],\n",
    "                                database_name = test_mysql['database'],\n",
    "                                user = test_mysql['user'],\n",
    "                                password = test_mysql['password'],\n",
    "                                partition_size = 2, \n",
    "                                parallel_dump = True, \n",
    "                                max_parallel = 2)\n",
    "        \n",
    "        self.df1 = pd.DataFrame({'col1' : [1,2,3,4,5] , 'col2' : [1,1,2,2,3] , 'col3' : [1,1,1,1,1]})\n",
    "        self.df2 = pd.DataFrame({'col1' : [4,5,6,7,8] , 'col2' : [3,3,4,4,5] , 'col3' : [2,2,2,2,2]})\n",
    "        self.table_name = 'unit_test_git'\n",
    "        self.df1.to_sql(self.table_name, con = self.sql.engine, index = False, if_exists = 'replace')\n",
    "\n",
    "    def test_sp(self):\n",
    "        sql_q = \"\"\" drop procedure if exists unit_test_git_SP;\"\"\"\n",
    "        self.sql.engine.execute(sql_q)\n",
    "        sql_q = \"\"\" CREATE PROCEDURE unit_test_git_SP\n",
    "                    (PARAM1 VARCHAR(100))\n",
    "                    BEGIN\n",
    "                    SELECT * FROM {} WHERE col1 = PARAM1 ;\n",
    "                    end;\"\"\".format(self.table_name)\n",
    "        self.sql.engine.execute(sql_q)\n",
    "        df_read = self.sql.read('unit_test_git_SP', SP = True , param = {'PARAM1' : 1})\n",
    "        expect_df = self.df1[self.df1['col1'] == 1]\n",
    "        result, expect = help_test(df_read, expect_df)\n",
    "        self.assertEqual(result, expect)\n",
    "\n",
    "\n",
    "    def test_read_sql(self):\n",
    "        df_read = self.sql.read(self.table_name)\n",
    "        expect_df = self.df1\n",
    "        result, expect = help_test(df_read, expect_df)\n",
    "        self.assertEqual(result, expect)\n",
    "\n",
    "    def test_whole(self):\n",
    "        self.sql.dump_whole(self.df2, self.table_name)\n",
    "        df_read = self.sql.read(self.table_name)\n",
    "        expect_df = self.df2\n",
    "        result, expect = help_test(df_read, expect_df)\n",
    "        self.assertEqual(result, expect)\n",
    "\n",
    "    def test_replace1(self) :\n",
    "        self.sql.dump_replace(df_in = self.df2 , table_name_in = self.table_name, list_key = ['col1'])\n",
    "        df_read = self.sql.read(self.table_name)\n",
    "        expect_df = pd.DataFrame({'col1' : [1,2,3,4,5,6,7,8] , 'col2' : [1,1,2,3,3,4,4,5] , 'col3' : [1,1,1,2,2,2,2,2]})\n",
    "        result, expect = help_test(df_read, expect_df)\n",
    "        self.assertEqual(result, expect)\n",
    "\n",
    "    def test_replace1_str(self) :\n",
    "        self.sql.dump_replace(df_in = self.df2 , table_name_in = self.table_name, list_key = 'col1')\n",
    "        df_read = self.sql.read(self.table_name)\n",
    "        expect_df = pd.DataFrame({'col1' : [1,2,3,4,5,6,7,8] , 'col2' : [1,1,2,3,3,4,4,5] , 'col3' : [1,1,1,2,2,2,2,2]})\n",
    "        result, expect = help_test(df_read, expect_df)\n",
    "        self.assertEqual(result, expect)\n",
    "\n",
    "    def test_replace2(self) :\n",
    "        self.sql.dump_replace(df_in = self.df2 , table_name_in = self.table_name, list_key = ['col1','col2'])\n",
    "        df_read = self.sql.read(self.table_name)\n",
    "        expect_df = pd.DataFrame({'col1' : [1,2,3,4,4,5,6,7,8] , 'col2' : [1,1,2,2,3,3,4,4,5] , 'col3' : [1,1,1,1,2,2,2,2,2]})\n",
    "        result, expect = help_test(df_read, expect_df)\n",
    "        self.assertEqual(result, expect)\n",
    "        \n",
    "    def test_replace3(self) :\n",
    "        self.sql.dump_replace(df_in = self.df2 , table_name_in = self.table_name, list_key = ['col1','col2','col3'])\n",
    "        df_read = self.sql.read(self.table_name)\n",
    "        expect_df = self.df1.append(self.df2)\n",
    "        result, expect = help_test(df_read, expect_df)\n",
    "        self.assertEqual(result, expect)\n",
    "\n",
    "    def test_replace_logic(self) :\n",
    "        self.sql.dump_replace(df_in = self.df2 , table_name_in = self.table_name, list_key = ['col1'],\n",
    "                             math_logic = {'col1' : {'logic' : '>', 'value' : 1}})\n",
    "        df_read = self.sql.read(self.table_name)\n",
    "        expect_df = self.df1[self.df1['col1'] <= 1].append(self.df2)\n",
    "        result, expect = help_test(df_read, expect_df)\n",
    "        self.assertEqual(result, expect)\n",
    "        \n",
    "    def test_replace_logic_date(self) :\n",
    "        df_date = pd.DataFrame({'col1' : [1,2,3,4,5], \n",
    "                                'date' : pd.date_range('2020-10-10','2020-10-14'), 'col2' :[1,1,1,1,1]})\n",
    "        self.sql.dump_whole(df_date, self.table_name)\n",
    "        expect_df = df_date[df_date['date'] <= '2020-10-12']\n",
    "        df_date['col2'] = 3\n",
    "        self.sql.dump_replace(df_in = df_date , table_name_in = self.table_name, list_key = ['date'],\n",
    "                             math_logic = {'date' : {'logic' : '>', 'value' : '2020-10-12', 'type' : 'date'}})\n",
    "        df_read = self.sql.read(self.table_name)\n",
    "        expect_df = expect_df.append(df_date)\n",
    "        result, expect = help_test(df_read, expect_df)\n",
    "        self.assertEqual(result, expect)\n",
    "        \n",
    "    def test_replace3(self) :\n",
    "        self.sql.dump_replace(df_in = self.df2 , table_name_in = self.table_name, list_key = ['col1','col2','col3'])\n",
    "        df_read = self.sql.read(self.table_name)\n",
    "        expect_df = self.df1.append(self.df2)\n",
    "        result, expect = help_test(df_read, expect_df)\n",
    "        self.assertEqual(result, expect)\n",
    "\n",
    "    def test_new1_str(self) :\n",
    "        self.sql.dump_new(df_in = self.df2 , table_name_in = self.table_name, list_key = 'col1')\n",
    "        df_read = self.sql.read(self.table_name)\n",
    "        expect_df = pd.DataFrame({'col1' : [1,2,3,4,5,6,7,8] , 'col2' : [1,1,2,2,3,4,4,5] , 'col3' : [1,1,1,1,1,2,2,2]})\n",
    "        result, expect = help_test(df_read, expect_df)\n",
    "        self.assertEqual(result, expect)\n",
    "\n",
    "    def test_new1(self) :\n",
    "        self.sql.dump_new(df_in = self.df2 , table_name_in = self.table_name, list_key = ['col1'])\n",
    "        df_read = self.sql.read(self.table_name)\n",
    "        expect_df = pd.DataFrame({'col1' : [1,2,3,4,5,6,7,8] , 'col2' : [1,1,2,2,3,4,4,5] , 'col3' : [1,1,1,1,1,2,2,2]})\n",
    "        result, expect = help_test(df_read, expect_df)\n",
    "        self.assertEqual(result, expect)\n",
    "\n",
    "    def test_new2(self) :\n",
    "        self.sql.dump_new(df_in = self.df2 , table_name_in = self.table_name, list_key = ['col1','col2'], debug = False)\n",
    "        df_read = self.sql.read(self.table_name)\n",
    "        expect_df = pd.DataFrame({'col1' : [1,2,3,4,5,4,6,7,8] , 'col2' : [1,1,2,2,3,3,4,4,5] , 'col3' : [1,1,1,1,1,2,2,2,2]})\n",
    "        result, expect = help_test(df_read, expect_df)\n",
    "        self.assertEqual(result, expect)\n",
    "\n",
    "    def test_replace_null1(self) :\n",
    "        df1_n = pd.DataFrame({'col1' : [1,None,3,4,5] , 'col2' : [1,1,2,2,3] , 'col3' : [1,1,1,1,1]})\n",
    "        df2_n = pd.DataFrame({'col1' : [4,5,6,7,None] , 'col2' : [3,3,4,4,5] , 'col3' : [2,2,2,2,2]})\n",
    "        df1_n.to_sql(self.table_name, con = self.sql.engine, index = False, if_exists = 'replace')\n",
    "        self.sql.dump_replace(df_in = df2_n , table_name_in = self.table_name, list_key = ['col1'] , debug = True)\n",
    "        df_read = self.sql.read(self.table_name).sort_values('col1').reset_index(drop = True)\n",
    "        expect_df = pd.DataFrame({'col1' : [1,3,4,5,6,7,None] , 'col2' : [1,2,3,3,4,4,5] , 'col3' : [1,1,2,2,2,2,2]})\n",
    "        result, expect = help_test(df_read.fillna(99), expect_df.fillna(99))\n",
    "        self.assertEqual(result, expect)\n",
    "\n",
    "    def test_replace_null2(self) :\n",
    "        df1_n = pd.DataFrame({'col1' : [1,None,3,4,5] , 'col2' : [1,1,2,2,3] , 'col3' : [1,1,1,1,1]})\n",
    "        df2_n = pd.DataFrame({'col1' : [4,5,6,7,None] , 'col2' : [3,3,4,4,5] , 'col3' : [2,2,2,2,2]})\n",
    "        df1_n.to_sql(self.table_name, con = self.sql.engine, index = False, if_exists = 'replace')\n",
    "        self.sql.dump_replace(df_in = df2_n , table_name_in = self.table_name, list_key = ['col1','col2'] , debug = True)\n",
    "        df_read = self.sql.read(self.table_name).sort_values('col1').reset_index(drop = True)\n",
    "        expect_df = pd.DataFrame({ 'col1' : [1,None,3,4,4,5,6,7,None] , 'col2' : [1,1,2,2,3,3,4,4,5] \n",
    "                                  ,'col3' : [1,1,1,1,2,2,2,2,2]}).sort_values('col1').reset_index(drop = True)\n",
    "\n",
    "        result, expect = help_test(df_read.fillna(99), expect_df.fillna(99))\n",
    "        self.assertEqual(result, expect)\n",
    "\n",
    "unittest.main(argv = ['first-arg-is-ignored'], exit = False)"
   ]
  },
  {
   "cell_type": "markdown",
   "metadata": {},
   "source": [
    "# PostgreSQL\n",
    "## Default PostgreSQL"
   ]
  },
  {
   "cell_type": "code",
   "execution_count": 8,
   "metadata": {
    "scrolled": false
   },
   "outputs": [
    {
     "name": "stdout",
     "output_type": "stream",
     "text": [
      "Connection OK\n",
      "Start Filter Existing data from df at  2021-02-14 14:55:08.603252\n",
      "Dump data to  unit_test_git  End  2021-02-14 14:55:10.945409\n"
     ]
    },
    {
     "name": "stderr",
     "output_type": "stream",
     "text": [
      "."
     ]
    },
    {
     "name": "stdout",
     "output_type": "stream",
     "text": [
      "Connection OK\n",
      "Start Filter Existing data from df at  2021-02-14 14:55:27.238356\n",
      "Dump data to  unit_test_git  End  2021-02-14 14:55:29.871032\n"
     ]
    },
    {
     "name": "stderr",
     "output_type": "stream",
     "text": [
      "."
     ]
    },
    {
     "name": "stdout",
     "output_type": "stream",
     "text": [
      "Connection OK\n",
      "Start Filter Existing data from df at  2021-02-14 14:55:45.448302\n",
      "Dump data to  unit_test_git  End  2021-02-14 14:55:47.949492\n"
     ]
    },
    {
     "name": "stderr",
     "output_type": "stream",
     "text": [
      "."
     ]
    },
    {
     "name": "stdout",
     "output_type": "stream",
     "text": [
      "Connection OK\n"
     ]
    },
    {
     "name": "stderr",
     "output_type": "stream",
     "text": [
      "."
     ]
    },
    {
     "name": "stdout",
     "output_type": "stream",
     "text": [
      "Connection OK\n",
      "Start delete old data at 2021-02-14 14:56:18.947684\n",
      "Delete Last ['col1'] at 2021-02-14 14:56:19.788753\n",
      "Dump data to  unit_test_git  End  2021-02-14 14:56:21.474375\n"
     ]
    },
    {
     "name": "stderr",
     "output_type": "stream",
     "text": [
      "."
     ]
    },
    {
     "name": "stdout",
     "output_type": "stream",
     "text": [
      "Connection OK\n",
      "Start delete old data at 2021-02-14 14:56:37.617579\n",
      "Delete Last col1 at 2021-02-14 14:56:38.483963\n",
      "Dump data to  unit_test_git  End  2021-02-14 14:56:40.213427\n"
     ]
    },
    {
     "name": "stderr",
     "output_type": "stream",
     "text": [
      "."
     ]
    },
    {
     "name": "stdout",
     "output_type": "stream",
     "text": [
      "Connection OK\n",
      "Start delete old data at 2021-02-14 14:56:56.795291\n",
      "Delete Last ['col1', 'col2'] at 2021-02-14 14:56:57.668672\n",
      "Dump data to  unit_test_git  End  2021-02-14 14:56:59.410994\n"
     ]
    },
    {
     "name": "stderr",
     "output_type": "stream",
     "text": [
      "."
     ]
    },
    {
     "name": "stdout",
     "output_type": "stream",
     "text": [
      "Connection OK\n",
      "Start delete old data at 2021-02-14 14:57:14.475294\n",
      "Delete Last ['col1', 'col2', 'col3'] at 2021-02-14 14:57:15.277113\n",
      "Dump data to  unit_test_git  End  2021-02-14 14:57:16.878972\n"
     ]
    },
    {
     "name": "stderr",
     "output_type": "stream",
     "text": [
      "."
     ]
    },
    {
     "name": "stdout",
     "output_type": "stream",
     "text": [
      "Connection OK\n",
      "Start delete old data at 2021-02-14 14:57:31.699506\n",
      "Delete Last ['col1'] at 2021-02-14 14:57:32.490628\n",
      "Dump data to  unit_test_git  End  2021-02-14 14:57:34.075226\n"
     ]
    },
    {
     "name": "stderr",
     "output_type": "stream",
     "text": [
      "."
     ]
    },
    {
     "name": "stdout",
     "output_type": "stream",
     "text": [
      "Connection OK\n",
      "Drop Existing Table at  2021-02-14 14:57:50.181743\n",
      "Dump data to  unit_test_git  End  2021-02-14 14:57:54.128101\n",
      "Start delete old data at 2021-02-14 14:57:54.128819\n",
      "Delete Last ['date'] at 2021-02-14 14:57:54.994837\n",
      "Dump data to  unit_test_git  End  2021-02-14 14:57:56.724319\n"
     ]
    },
    {
     "name": "stderr",
     "output_type": "stream",
     "text": [
      "."
     ]
    },
    {
     "name": "stdout",
     "output_type": "stream",
     "text": [
      "Connection OK\n",
      "Start delete old data at 2021-02-14 14:58:22.700743\n",
      "Delete Last ['col1'] at 2021-02-14 14:58:23.584809\n",
      "delete from unit_test_git where (\"col1\" in ('4.0', '5.0', '6.0', '7.0') OR \"col1\" IS NULL)\n",
      "Dump data to  unit_test_git  End  2021-02-14 14:58:25.332049\n"
     ]
    },
    {
     "name": "stderr",
     "output_type": "stream",
     "text": [
      "."
     ]
    },
    {
     "name": "stdout",
     "output_type": "stream",
     "text": [
      "Connection OK\n",
      "Start delete old data at 2021-02-14 14:58:49.142830\n",
      "Delete Last ['col1', 'col2'] at 2021-02-14 14:58:49.938954\n",
      "delete from unit_test_git where (\"col1\" in ('4.0', '5.0', '6.0', '7.0') OR \"col1\" IS NULL) and \"col2\" in ('3', '4', '5')\n",
      "Dump data to  unit_test_git  End  2021-02-14 14:58:51.534110\n"
     ]
    },
    {
     "name": "stderr",
     "output_type": "stream",
     "text": [
      "."
     ]
    },
    {
     "name": "stdout",
     "output_type": "stream",
     "text": [
      "Connection OK\n",
      "Drop Existing Table at  2021-02-14 14:59:06.639481\n",
      "Dump data to  unit_test_git  End  2021-02-14 14:59:09.887266\n"
     ]
    },
    {
     "name": "stderr",
     "output_type": "stream",
     "text": [
      ".\n",
      "----------------------------------------------------------------------\n",
      "Ran 13 tests in 256.039s\n",
      "\n",
      "OK\n"
     ]
    },
    {
     "data": {
      "text/plain": [
       "<unittest.main.TestProgram at 0x23d813d8908>"
      ]
     },
     "execution_count": 8,
     "metadata": {},
     "output_type": "execute_result"
    }
   ],
   "source": [
    "test_postgresql = setting['POSTGRESQL']\n",
    "\n",
    "class SQL_Test_class(unittest.TestCase):\n",
    "    def setUp(self):\n",
    "        self.sql = da_tran_SQL(sql_type = test_postgresql['type'],\n",
    "                                host_name = test_postgresql['host'],\n",
    "                                database_name = test_postgresql['database'],\n",
    "                                user = test_postgresql['user'],\n",
    "                                password = test_postgresql['password'])\n",
    "        self.df1 = pd.DataFrame({'col1' : [1,2,3,4,5] , 'col2' : [1,1,2,2,3] , 'col3' : [1,1,1,1,1]})\n",
    "        self.df2 = pd.DataFrame({'col1' : [4,5,6,7,8] , 'col2' : [3,3,4,4,5] , 'col3' : [2,2,2,2,2]})\n",
    "        self.table_name = 'unit_test_git'\n",
    "        self.df1.to_sql(self.table_name, con = self.sql.engine, index = False, if_exists = 'replace')\n",
    "\n",
    "#     def test_sp(self):\n",
    "#         sql_q = \"\"\" CREATE OR REPLACE PROCEDURE unit_test_git_SP (PARAM1 INT)\n",
    "#                     RETURNS TABLE (col1 int, col2 int, col3 int)\n",
    "#                     language plpgsql\n",
    "#                     AS $$\n",
    "#                     BEGIN\n",
    "#                     RETURN QUERY(SELECT * FROM {} WHERE col1 = PARAM1) ;\n",
    "#                     END ; $$\"\"\".format(self.table_name)\n",
    "#         self.sql.engine.execute(sql_q)\n",
    "#         df_read = self.sql.read('unit_test_git_SP', SP = True , param = {'PARAM1' : 1})\n",
    "#         expect_df = self.df1[self.df1['col1'] == 1]\n",
    "#         result, expect = help_test(df_read, expect_df)\n",
    "#         self.assertEqual(result, expect)\n",
    "        \n",
    "    def test_read_sql(self):\n",
    "        df_read = self.sql.read(self.table_name)\n",
    "        expect_df = self.df1\n",
    "        result, expect = help_test(df_read, expect_df)\n",
    "        self.assertEqual(result, expect)\n",
    "\n",
    "    def test_whole(self):\n",
    "        self.sql.dump_whole(self.df2, self.table_name)\n",
    "        df_read = self.sql.read(self.table_name)\n",
    "        expect_df = self.df2\n",
    "        result, expect = help_test(df_read, expect_df)\n",
    "        self.assertEqual(result, expect)\n",
    "        \n",
    "    def test_replace1(self) :\n",
    "        self.sql.dump_replace(df_in = self.df2 , table_name_in = self.table_name, list_key = ['col1'])\n",
    "        df_read = self.sql.read(self.table_name)\n",
    "        expect_df = pd.DataFrame({'col1' : [1,2,3,4,5,6,7,8] , 'col2' : [1,1,2,3,3,4,4,5] , 'col3' : [1,1,1,2,2,2,2,2]})\n",
    "        result, expect = help_test(df_read, expect_df)\n",
    "        self.assertEqual(result, expect)\n",
    "\n",
    "    def test_replace1_str(self) :\n",
    "        self.sql.dump_replace(df_in = self.df2 , table_name_in = self.table_name, list_key = 'col1')\n",
    "        df_read = self.sql.read(self.table_name)\n",
    "        expect_df = pd.DataFrame({'col1' : [1,2,3,4,5,6,7,8] , 'col2' : [1,1,2,3,3,4,4,5] , 'col3' : [1,1,1,2,2,2,2,2]})\n",
    "        result, expect = help_test(df_read, expect_df)\n",
    "        self.assertEqual(result, expect)\n",
    "\n",
    "    def test_replace2(self) :\n",
    "        self.sql.dump_replace(df_in = self.df2 , table_name_in = self.table_name, list_key = ['col1','col2'])\n",
    "        df_read = self.sql.read(self.table_name)\n",
    "        expect_df = pd.DataFrame({'col1' : [1,2,3,4,4,5,6,7,8] , 'col2' : [1,1,2,2,3,3,4,4,5] , 'col3' : [1,1,1,1,2,2,2,2,2]})\n",
    "        result, expect = help_test(df_read, expect_df)\n",
    "        self.assertEqual(result, expect)\n",
    "        \n",
    "    def test_replace3(self) :\n",
    "        self.sql.dump_replace(df_in = self.df2 , table_name_in = self.table_name, list_key = ['col1','col2','col3'])\n",
    "        df_read = self.sql.read(self.table_name)\n",
    "        expect_df = self.df1.append(self.df2)\n",
    "        result, expect = help_test(df_read, expect_df)\n",
    "        self.assertEqual(result, expect)\n",
    "\n",
    "    def test_replace_logic(self) :\n",
    "        self.sql.dump_replace(df_in = self.df2 , table_name_in = self.table_name, list_key = ['col1'],\n",
    "                             math_logic = {'col1' : {'logic' : '>', 'value' : 1}})\n",
    "        df_read = self.sql.read(self.table_name)\n",
    "        expect_df = self.df1[self.df1['col1'] <= 1].append(self.df2)\n",
    "        result, expect = help_test(df_read, expect_df)\n",
    "        self.assertEqual(result, expect)\n",
    "        \n",
    "    def test_replace_logic_date(self) :\n",
    "        df_date = pd.DataFrame({'col1' : [1,2,3,4,5], \n",
    "                                'date' : pd.date_range('2020-10-10','2020-10-14'), 'col2' :[1,1,1,1,1]})\n",
    "        \n",
    "        self.sql.dump_whole(df_date, self.table_name)\n",
    "        expect_df = df_date[df_date['date'] <= '2020-10-12']\n",
    "        df_date['col2'] = 3\n",
    "        self.sql.dump_replace(df_in = df_date , table_name_in = self.table_name, list_key = ['date'],\n",
    "                             math_logic = {'date' : {'logic' : '>', 'value' : '2020-10-12', 'type' : 'date'}})\n",
    "        df_read = self.sql.read(self.table_name)\n",
    "        expect_df = expect_df.append(df_date)\n",
    "        result, expect = help_test(df_read, expect_df)\n",
    "        self.assertEqual(result, expect)\n",
    "        \n",
    "    def test_replace3(self) :\n",
    "        self.sql.dump_replace(df_in = self.df2 , table_name_in = self.table_name, list_key = ['col1','col2','col3'])\n",
    "        df_read = self.sql.read(self.table_name)\n",
    "        expect_df = self.df1.append(self.df2)\n",
    "        result, expect = help_test(df_read, expect_df)\n",
    "        self.assertEqual(result, expect)\n",
    "\n",
    "    def test_new1_str(self) :\n",
    "        self.sql.dump_new(df_in = self.df2 , table_name_in = self.table_name, list_key = 'col1')\n",
    "        df_read = self.sql.read(self.table_name)\n",
    "        expect_df = pd.DataFrame({'col1' : [1,2,3,4,5,6,7,8] , 'col2' : [1,1,2,2,3,4,4,5] , 'col3' : [1,1,1,1,1,2,2,2]})\n",
    "        result, expect = help_test(df_read, expect_df)\n",
    "        self.assertEqual(result, expect)\n",
    "\n",
    "    def test_new1(self) :\n",
    "        self.sql.dump_new(df_in = self.df2 , table_name_in = self.table_name, list_key = ['col1'])\n",
    "        df_read = self.sql.read(self.table_name)\n",
    "        expect_df = pd.DataFrame({'col1' : [1,2,3,4,5,6,7,8] , 'col2' : [1,1,2,2,3,4,4,5] , 'col3' : [1,1,1,1,1,2,2,2]})\n",
    "        result, expect = help_test(df_read, expect_df)\n",
    "        self.assertEqual(result, expect)\n",
    "\n",
    "    def test_new2(self) :\n",
    "        self.sql.dump_new(df_in = self.df2 , table_name_in = self.table_name, list_key = ['col1','col2'], debug = False)\n",
    "        df_read = self.sql.read(self.table_name)\n",
    "        expect_df = pd.DataFrame({'col1' : [1,2,3,4,5,4,6,7,8] , 'col2' : [1,1,2,2,3,3,4,4,5] , 'col3' : [1,1,1,1,1,2,2,2,2]})\n",
    "        result, expect = help_test(df_read, expect_df)\n",
    "        self.assertEqual(result, expect)\n",
    "        \n",
    "    def test_replace_null1(self) :\n",
    "        df1_n = pd.DataFrame({'col1' : [1,None,3,4,5] , 'col2' : [1,1,2,2,3] , 'col3' : [1,1,1,1,1]})\n",
    "        df2_n = pd.DataFrame({'col1' : [4,5,6,7,None] , 'col2' : [3,3,4,4,5] , 'col3' : [2,2,2,2,2]})\n",
    "        df1_n.to_sql(self.table_name, con = self.sql.engine, index = False, if_exists = 'replace')\n",
    "        self.sql.dump_replace(df_in = df2_n , table_name_in = self.table_name, list_key = ['col1'] , debug = True)\n",
    "        df_read = self.sql.read(self.table_name).sort_values('col1').reset_index(drop = True)\n",
    "        expect_df = pd.DataFrame({'col1' : [1,3,4,5,6,7,None] , 'col2' : [1,2,3,3,4,4,5] , 'col3' : [1,1,2,2,2,2,2]})\n",
    "        result, expect = help_test(df_read.fillna(99), expect_df.fillna(99))\n",
    "        self.assertEqual(result, expect)\n",
    "\n",
    "    def test_replace_null2(self) :\n",
    "        df1_n = pd.DataFrame({'col1' : [1,None,3,4,5] , 'col2' : [1,1,2,2,3] , 'col3' : [1,1,1,1,1]})\n",
    "        df2_n = pd.DataFrame({'col1' : [4,5,6,7,None] , 'col2' : [3,3,4,4,5] , 'col3' : [2,2,2,2,2]})\n",
    "        df1_n.to_sql(self.table_name, con = self.sql.engine, index = False, if_exists = 'replace')\n",
    "        self.sql.dump_replace(df_in = df2_n , table_name_in = self.table_name, list_key = ['col1','col2'] , debug = True)\n",
    "        df_read = self.sql.read(self.table_name).sort_values('col1').reset_index(drop = True)\n",
    "        expect_df = pd.DataFrame({ 'col1' : [1,None,3,4,4,5,6,7,None] , 'col2' : [1,1,2,2,3,3,4,4,5] \n",
    "                                  ,'col3' : [1,1,1,1,2,2,2,2,2]}).sort_values('col1').reset_index(drop = True)\n",
    "\n",
    "        result, expect = help_test(df_read.fillna(99), expect_df.fillna(99))\n",
    "        self.assertEqual(result, expect)\n",
    "        \n",
    "unittest.main(argv = ['first-arg-is-ignored'], exit = False)"
   ]
  },
  {
   "cell_type": "markdown",
   "metadata": {},
   "source": [
    "## Parallel PostgreSQL"
   ]
  },
  {
   "cell_type": "code",
   "execution_count": 9,
   "metadata": {},
   "outputs": [
    {
     "name": "stdout",
     "output_type": "stream",
     "text": [
      "Connection OK\n",
      "Start Filter Existing data from df at  2021-02-14 14:59:25.444774\n",
      "Dump data to  unit_test_git  End  2021-02-14 14:59:29.531721\n"
     ]
    },
    {
     "name": "stderr",
     "output_type": "stream",
     "text": [
      "."
     ]
    },
    {
     "name": "stdout",
     "output_type": "stream",
     "text": [
      "Connection OK\n",
      "Start Filter Existing data from df at  2021-02-14 14:59:45.764521\n",
      "Dump data to  unit_test_git  End  2021-02-14 14:59:50.151597\n"
     ]
    },
    {
     "name": "stderr",
     "output_type": "stream",
     "text": [
      "."
     ]
    },
    {
     "name": "stdout",
     "output_type": "stream",
     "text": [
      "Connection OK\n",
      "Start Filter Existing data from df at  2021-02-14 15:00:05.385239\n",
      "Dump data to  unit_test_git  End  2021-02-14 15:00:09.543679\n"
     ]
    },
    {
     "name": "stderr",
     "output_type": "stream",
     "text": [
      "."
     ]
    },
    {
     "name": "stdout",
     "output_type": "stream",
     "text": [
      "Connection OK\n"
     ]
    },
    {
     "name": "stderr",
     "output_type": "stream",
     "text": [
      "."
     ]
    },
    {
     "name": "stdout",
     "output_type": "stream",
     "text": [
      "Connection OK\n",
      "Start delete old data at 2021-02-14 15:00:40.005706\n",
      "Delete Last ['col1'] at 2021-02-14 15:00:40.788196\n",
      "Dump data to  unit_test_git  End  2021-02-14 15:00:45.833526\n"
     ]
    },
    {
     "name": "stderr",
     "output_type": "stream",
     "text": [
      "."
     ]
    },
    {
     "name": "stdout",
     "output_type": "stream",
     "text": [
      "Connection OK\n",
      "Start delete old data at 2021-02-14 15:01:02.180117\n",
      "Delete Last col1 at 2021-02-14 15:01:03.058915\n",
      "Dump data to  unit_test_git  End  2021-02-14 15:01:08.152599\n"
     ]
    },
    {
     "name": "stderr",
     "output_type": "stream",
     "text": [
      "."
     ]
    },
    {
     "name": "stdout",
     "output_type": "stream",
     "text": [
      "Connection OK\n",
      "Start delete old data at 2021-02-14 15:01:24.303231\n",
      "Delete Last ['col1', 'col2'] at 2021-02-14 15:01:25.168537\n",
      "Dump data to  unit_test_git  End  2021-02-14 15:01:30.082880\n"
     ]
    },
    {
     "name": "stderr",
     "output_type": "stream",
     "text": [
      "."
     ]
    },
    {
     "name": "stdout",
     "output_type": "stream",
     "text": [
      "Connection OK\n",
      "Start delete old data at 2021-02-14 15:01:44.793317\n",
      "Delete Last ['col1', 'col2', 'col3'] at 2021-02-14 15:01:45.577979\n",
      "Dump data to  unit_test_git  End  2021-02-14 15:01:50.694584\n"
     ]
    },
    {
     "name": "stderr",
     "output_type": "stream",
     "text": [
      "."
     ]
    },
    {
     "name": "stdout",
     "output_type": "stream",
     "text": [
      "Connection OK\n",
      "Start delete old data at 2021-02-14 15:02:06.424635\n",
      "Delete Last ['col1'] at 2021-02-14 15:02:07.266814\n",
      "Dump data to  unit_test_git  End  2021-02-14 15:02:12.154083\n"
     ]
    },
    {
     "name": "stderr",
     "output_type": "stream",
     "text": [
      "."
     ]
    },
    {
     "name": "stdout",
     "output_type": "stream",
     "text": [
      "Connection OK\n",
      "Drop Existing Table at  2021-02-14 15:02:26.987967\n",
      "Dump data to  unit_test_git  End  2021-02-14 15:02:32.628701\n",
      "Start delete old data at 2021-02-14 15:02:32.630682\n",
      "Delete Last ['date'] at 2021-02-14 15:02:33.441268\n",
      "Dump data to  unit_test_git  End  2021-02-14 15:02:36.659381\n"
     ]
    },
    {
     "name": "stderr",
     "output_type": "stream",
     "text": [
      "."
     ]
    },
    {
     "name": "stdout",
     "output_type": "stream",
     "text": [
      "Connection OK\n",
      "Start delete old data at 2021-02-14 15:03:02.538767\n",
      "Delete Last ['col1'] at 2021-02-14 15:03:03.412570\n",
      "delete from unit_test_git where (\"col1\" in ('4.0', '5.0', '6.0', '7.0') OR \"col1\" IS NULL)\n",
      "Dump data to  unit_test_git  End  2021-02-14 15:03:08.443159\n"
     ]
    },
    {
     "name": "stderr",
     "output_type": "stream",
     "text": [
      "."
     ]
    },
    {
     "name": "stdout",
     "output_type": "stream",
     "text": [
      "Connection OK\n",
      "Start delete old data at 2021-02-14 15:03:34.111094\n",
      "Delete Last ['col1', 'col2'] at 2021-02-14 15:03:34.980243\n",
      "delete from unit_test_git where (\"col1\" in ('4.0', '5.0', '6.0', '7.0') OR \"col1\" IS NULL) and \"col2\" in ('3', '4', '5')\n",
      "Dump data to  unit_test_git  End  2021-02-14 15:03:40.128906\n"
     ]
    },
    {
     "name": "stderr",
     "output_type": "stream",
     "text": [
      "."
     ]
    },
    {
     "name": "stdout",
     "output_type": "stream",
     "text": [
      "Connection OK\n",
      "Drop Existing Table at  2021-02-14 15:03:55.933371\n",
      "Dump data to  unit_test_git  End  2021-02-14 15:04:01.622354\n"
     ]
    },
    {
     "name": "stderr",
     "output_type": "stream",
     "text": [
      ".\n",
      "----------------------------------------------------------------------\n",
      "Ran 13 tests in 291.708s\n",
      "\n",
      "OK\n"
     ]
    },
    {
     "data": {
      "text/plain": [
       "<unittest.main.TestProgram at 0x23d822dc208>"
      ]
     },
     "execution_count": 9,
     "metadata": {},
     "output_type": "execute_result"
    }
   ],
   "source": [
    "test_postgresql = setting['POSTGRESQL']\n",
    "\n",
    "class SQL_Test_class(unittest.TestCase):\n",
    "    def setUp(self):\n",
    "        self.sql = da_tran_SQL(sql_type = test_postgresql['type'],\n",
    "                                host_name = test_postgresql['host'],\n",
    "                                database_name = test_postgresql['database'],\n",
    "                                user = test_postgresql['user'],\n",
    "                                password = test_postgresql['password'],\n",
    "                                partition_size = 2, \n",
    "                                parallel_dump = True, \n",
    "                                max_parallel = 2)\n",
    "        \n",
    "        self.df1 = pd.DataFrame({'col1' : [1,2,3,4,5] , 'col2' : [1,1,2,2,3] , 'col3' : [1,1,1,1,1]})\n",
    "        self.df2 = pd.DataFrame({'col1' : [4,5,6,7,8] , 'col2' : [3,3,4,4,5] , 'col3' : [2,2,2,2,2]})\n",
    "        self.table_name = 'unit_test_git'\n",
    "        self.df1.to_sql(self.table_name, con = self.sql.engine, index = False, if_exists = 'replace')\n",
    "\n",
    "#     def test_sp(self):\n",
    "#         sql_q = \"\"\" CREATE OR REPLACE PROCEDURE unit_test_git_SP (PARAM1 INT)\n",
    "#                     RETURNS TABLE (col1 int, col2 int, col3 int)\n",
    "#                     language plpgsql\n",
    "#                     AS $$\n",
    "#                     BEGIN\n",
    "#                     RETURN QUERY(SELECT * FROM {} WHERE col1 = PARAM1) ;\n",
    "#                     END ; $$\"\"\".format(self.table_name)\n",
    "#         self.sql.engine.execute(sql_q)\n",
    "#         df_read = self.sql.read('unit_test_git_SP', SP = True , param = {'PARAM1' : 1})\n",
    "#         expect_df = self.df1[self.df1['col1'] == 1]\n",
    "#         result, expect = help_test(df_read, expect_df)\n",
    "#         self.assertEqual(result, expect)\n",
    "        \n",
    "    def test_read_sql(self):\n",
    "        df_read = self.sql.read(self.table_name)\n",
    "        expect_df = self.df1\n",
    "        result, expect = help_test(df_read, expect_df)\n",
    "        self.assertEqual(result, expect)\n",
    "\n",
    "    def test_whole(self):\n",
    "        self.sql.dump_whole(self.df2, self.table_name)\n",
    "        df_read = self.sql.read(self.table_name)\n",
    "        expect_df = self.df2\n",
    "        result, expect = help_test(df_read, expect_df)\n",
    "        self.assertEqual(result, expect)\n",
    "        \n",
    "    def test_replace1(self) :\n",
    "        self.sql.dump_replace(df_in = self.df2 , table_name_in = self.table_name, list_key = ['col1'])\n",
    "        df_read = self.sql.read(self.table_name)\n",
    "        expect_df = pd.DataFrame({'col1' : [1,2,3,4,5,6,7,8] , 'col2' : [1,1,2,3,3,4,4,5] , 'col3' : [1,1,1,2,2,2,2,2]})\n",
    "        result, expect = help_test(df_read, expect_df)\n",
    "        self.assertEqual(result, expect)\n",
    "\n",
    "    def test_replace1_str(self) :\n",
    "        self.sql.dump_replace(df_in = self.df2 , table_name_in = self.table_name, list_key = 'col1')\n",
    "        df_read = self.sql.read(self.table_name)\n",
    "        expect_df = pd.DataFrame({'col1' : [1,2,3,4,5,6,7,8] , 'col2' : [1,1,2,3,3,4,4,5] , 'col3' : [1,1,1,2,2,2,2,2]})\n",
    "        result, expect = help_test(df_read, expect_df)\n",
    "        self.assertEqual(result, expect)\n",
    "\n",
    "    def test_replace2(self) :\n",
    "        self.sql.dump_replace(df_in = self.df2 , table_name_in = self.table_name, list_key = ['col1','col2'])\n",
    "        df_read = self.sql.read(self.table_name)\n",
    "        expect_df = pd.DataFrame({'col1' : [1,2,3,4,4,5,6,7,8] , 'col2' : [1,1,2,2,3,3,4,4,5] , 'col3' : [1,1,1,1,2,2,2,2,2]})\n",
    "        result, expect = help_test(df_read, expect_df)\n",
    "        self.assertEqual(result, expect)\n",
    "        \n",
    "    def test_replace3(self) :\n",
    "        self.sql.dump_replace(df_in = self.df2 , table_name_in = self.table_name, list_key = ['col1','col2','col3'])\n",
    "        df_read = self.sql.read(self.table_name)\n",
    "        expect_df = self.df1.append(self.df2)\n",
    "        result, expect = help_test(df_read, expect_df)\n",
    "        self.assertEqual(result, expect)\n",
    "\n",
    "    def test_replace_logic(self) :\n",
    "        self.sql.dump_replace(df_in = self.df2 , table_name_in = self.table_name, list_key = ['col1'],\n",
    "                             math_logic = {'col1' : {'logic' : '>', 'value' : 1}})\n",
    "        df_read = self.sql.read(self.table_name)\n",
    "        expect_df = self.df1[self.df1['col1'] <= 1].append(self.df2)\n",
    "        result, expect = help_test(df_read, expect_df)\n",
    "        self.assertEqual(result, expect)\n",
    "        \n",
    "    def test_replace_logic_date(self) :\n",
    "        df_date = pd.DataFrame({'col1' : [1,2,3,4,5], \n",
    "                                'date' : pd.date_range('2020-10-10','2020-10-14'), 'col2' :[1,1,1,1,1]})\n",
    "        \n",
    "        self.sql.dump_whole(df_date, self.table_name)\n",
    "        expect_df = df_date[df_date['date'] <= '2020-10-12']\n",
    "        df_date['col2'] = 3\n",
    "        self.sql.dump_replace(df_in = df_date , table_name_in = self.table_name, list_key = ['date'],\n",
    "                             math_logic = {'date' : {'logic' : '>', 'value' : '2020-10-12', 'type' : 'date'}})\n",
    "        df_read = self.sql.read(self.table_name)\n",
    "        expect_df = expect_df.append(df_date)\n",
    "        result, expect = help_test(df_read, expect_df)\n",
    "        self.assertEqual(result, expect)\n",
    "        \n",
    "    def test_replace3(self) :\n",
    "        self.sql.dump_replace(df_in = self.df2 , table_name_in = self.table_name, list_key = ['col1','col2','col3'])\n",
    "        df_read = self.sql.read(self.table_name)\n",
    "        expect_df = self.df1.append(self.df2)\n",
    "        result, expect = help_test(df_read, expect_df)\n",
    "        self.assertEqual(result, expect)\n",
    "\n",
    "    def test_new1_str(self) :\n",
    "        self.sql.dump_new(df_in = self.df2 , table_name_in = self.table_name, list_key = 'col1')\n",
    "        df_read = self.sql.read(self.table_name)\n",
    "        expect_df = pd.DataFrame({'col1' : [1,2,3,4,5,6,7,8] , 'col2' : [1,1,2,2,3,4,4,5] , 'col3' : [1,1,1,1,1,2,2,2]})\n",
    "        result, expect = help_test(df_read, expect_df)\n",
    "        self.assertEqual(result, expect)\n",
    "\n",
    "    def test_new1(self) :\n",
    "        self.sql.dump_new(df_in = self.df2 , table_name_in = self.table_name, list_key = ['col1'])\n",
    "        df_read = self.sql.read(self.table_name)\n",
    "        expect_df = pd.DataFrame({'col1' : [1,2,3,4,5,6,7,8] , 'col2' : [1,1,2,2,3,4,4,5] , 'col3' : [1,1,1,1,1,2,2,2]})\n",
    "        result, expect = help_test(df_read, expect_df)\n",
    "        self.assertEqual(result, expect)\n",
    "\n",
    "    def test_new2(self) :\n",
    "        self.sql.dump_new(df_in = self.df2 , table_name_in = self.table_name, list_key = ['col1','col2'], debug = False)\n",
    "        df_read = self.sql.read(self.table_name)\n",
    "        expect_df = pd.DataFrame({'col1' : [1,2,3,4,5,4,6,7,8] , 'col2' : [1,1,2,2,3,3,4,4,5] , 'col3' : [1,1,1,1,1,2,2,2,2]})\n",
    "        result, expect = help_test(df_read, expect_df)\n",
    "        self.assertEqual(result, expect)\n",
    "\n",
    "    def test_replace_null1(self) :\n",
    "        df1_n = pd.DataFrame({'col1' : [1,None,3,4,5] , 'col2' : [1,1,2,2,3] , 'col3' : [1,1,1,1,1]})\n",
    "        df2_n = pd.DataFrame({'col1' : [4,5,6,7,None] , 'col2' : [3,3,4,4,5] , 'col3' : [2,2,2,2,2]})\n",
    "        df1_n.to_sql(self.table_name, con = self.sql.engine, index = False, if_exists = 'replace')\n",
    "        self.sql.dump_replace(df_in = df2_n , table_name_in = self.table_name, list_key = ['col1'] , debug = True)\n",
    "        df_read = self.sql.read(self.table_name).sort_values('col1').reset_index(drop = True)\n",
    "        expect_df = pd.DataFrame({'col1' : [1,3,4,5,6,7,None] , 'col2' : [1,2,3,3,4,4,5] , 'col3' : [1,1,2,2,2,2,2]})\n",
    "        result, expect = help_test(df_read.fillna(99), expect_df.fillna(99))\n",
    "        self.assertEqual(result, expect)\n",
    "\n",
    "    def test_replace_null2(self) :\n",
    "        df1_n = pd.DataFrame({'col1' : [1,None,3,4,5] , 'col2' : [1,1,2,2,3] , 'col3' : [1,1,1,1,1]})\n",
    "        df2_n = pd.DataFrame({'col1' : [4,5,6,7,None] , 'col2' : [3,3,4,4,5] , 'col3' : [2,2,2,2,2]})\n",
    "        df1_n.to_sql(self.table_name, con = self.sql.engine, index = False, if_exists = 'replace')\n",
    "        self.sql.dump_replace(df_in = df2_n , table_name_in = self.table_name, list_key = ['col1','col2'] , debug = True)\n",
    "        df_read = self.sql.read(self.table_name).sort_values('col1').reset_index(drop = True)\n",
    "        expect_df = pd.DataFrame({ 'col1' : [1,None,3,4,4,5,6,7,None] , 'col2' : [1,1,2,2,3,3,4,4,5] \n",
    "                                  ,'col3' : [1,1,1,1,2,2,2,2,2]}).sort_values('col1').reset_index(drop = True)\n",
    "\n",
    "        result, expect = help_test(df_read.fillna(99), expect_df.fillna(99))\n",
    "        self.assertEqual(result, expect)\n",
    "        \n",
    "unittest.main(argv = ['first-arg-is-ignored'], exit = False)"
   ]
  },
  {
   "cell_type": "markdown",
   "metadata": {},
   "source": [
    "# SQLite\n",
    "## Default SQLite : No Datetime in SQLite"
   ]
  },
  {
   "cell_type": "code",
   "execution_count": 10,
   "metadata": {
    "scrolled": false
   },
   "outputs": [
    {
     "name": "stderr",
     "output_type": "stream",
     "text": [
      "....."
     ]
    },
    {
     "name": "stdout",
     "output_type": "stream",
     "text": [
      "Connection OK\n",
      "Start Filter Existing data from df at  2021-02-14 15:04:02.587290\n",
      "Dump data to  unit_test_git  End  2021-02-14 15:04:02.598843\n",
      "Connection OK\n",
      "Start Filter Existing data from df at  2021-02-14 15:04:02.625774\n",
      "Dump data to  unit_test_git  End  2021-02-14 15:04:02.633919\n",
      "Connection OK\n",
      "Start Filter Existing data from df at  2021-02-14 15:04:02.663667\n",
      "Dump data to  unit_test_git  End  2021-02-14 15:04:02.674805\n",
      "Connection OK\n",
      "Connection OK\n",
      "Start delete old data at 2021-02-14 15:04:02.726944\n",
      "Delete Last ['col1'] at 2021-02-14 15:04:02.730428\n",
      "Dump data to  unit_test_git  End  2021-02-14 15:04:02.735423\n",
      "Connection OK\n",
      "Start delete old data at 2021-02-14 15:04:02.762081\n"
     ]
    },
    {
     "name": "stderr",
     "output_type": "stream",
     "text": [
      "....."
     ]
    },
    {
     "name": "stdout",
     "output_type": "stream",
     "text": [
      "Delete Last col1 at 2021-02-14 15:04:02.766071\n",
      "Dump data to  unit_test_git  End  2021-02-14 15:04:02.771057\n",
      "Connection OK\n",
      "Start delete old data at 2021-02-14 15:04:02.798322\n",
      "Delete Last ['col1', 'col2'] at 2021-02-14 15:04:02.802350\n",
      "Dump data to  unit_test_git  End  2021-02-14 15:04:02.809327\n",
      "Connection OK\n",
      "Start delete old data at 2021-02-14 15:04:02.838256\n",
      "Delete Last ['col1', 'col2', 'col3'] at 2021-02-14 15:04:02.840210\n",
      "Dump data to  unit_test_git  End  2021-02-14 15:04:02.845196\n",
      "Connection OK\n",
      "Start delete old data at 2021-02-14 15:04:02.870639\n",
      "Delete Last ['col1'] at 2021-02-14 15:04:02.875627\n",
      "Dump data to  unit_test_git  End  2021-02-14 15:04:02.880641\n",
      "Connection OK\n",
      "Start delete old data at 2021-02-14 15:04:02.921169\n",
      "Delete Last ['col1'] at 2021-02-14 15:04:02.925158\n",
      "delete from unit_test_git where ([col1] in ('4.0', '5.0', '6.0', '7.0') OR [col1] IS NULL)\n",
      "Dump data to  unit_test_git  End  2021-02-14 15:04:02.929718\n",
      "Connection OK\n"
     ]
    },
    {
     "name": "stderr",
     "output_type": "stream",
     "text": [
      ".."
     ]
    },
    {
     "name": "stdout",
     "output_type": "stream",
     "text": [
      "Start delete old data at 2021-02-14 15:04:02.971679\n",
      "Delete Last ['col1', 'col2'] at 2021-02-14 15:04:02.975668\n",
      "delete from unit_test_git where ([col1] in ('4.0', '5.0', '6.0', '7.0') OR [col1] IS NULL) and [col2] in ('3', '4', '5')\n",
      "Dump data to  unit_test_git  End  2021-02-14 15:04:02.981652\n",
      "Connection OK\n",
      "Drop Existing Table at  2021-02-14 15:04:03.010574\n",
      "Dump data to  unit_test_git  End  2021-02-14 15:04:03.025536\n"
     ]
    },
    {
     "name": "stderr",
     "output_type": "stream",
     "text": [
      "\n",
      "----------------------------------------------------------------------\n",
      "Ran 12 tests in 0.509s\n",
      "\n",
      "OK\n"
     ]
    },
    {
     "data": {
      "text/plain": [
       "<unittest.main.TestProgram at 0x23d8170b6c8>"
      ]
     },
     "execution_count": 10,
     "metadata": {},
     "output_type": "execute_result"
    }
   ],
   "source": [
    "class SQL_Test_class(unittest.TestCase):\n",
    "    def setUp(self):\n",
    "        self.sql = da_tran_SQL(sql_type = 'sqlite', \n",
    "                    host_name = 'test.db', \n",
    "                    database_name = '', \n",
    "                    user = '', \n",
    "                    password = '' )\n",
    "        self.df1 = pd.DataFrame({'col1' : [1,2,3,4,5] , 'col2' : [1,1,2,2,3] , 'col3' : [1,1,1,1,1]})\n",
    "        self.df2 = pd.DataFrame({'col1' : [4,5,6,7,8] , 'col2' : [3,3,4,4,5] , 'col3' : [2,2,2,2,2]})\n",
    "        self.table_name = 'unit_test_git'\n",
    "        self.df1.to_sql(self.table_name, con = self.sql.engine, index = False, if_exists = 'replace')\n",
    "        \n",
    "    def test_read_sql(self):\n",
    "        df_read = self.sql.read(self.table_name)\n",
    "        expect_df = self.df1\n",
    "        result, expect = help_test(df_read, expect_df)\n",
    "        self.assertEqual(result, expect)\n",
    "\n",
    "    def test_whole(self):\n",
    "        self.sql.dump_whole(self.df2, self.table_name)\n",
    "        df_read = self.sql.read(self.table_name)\n",
    "        expect_df = self.df2\n",
    "        result, expect = help_test(df_read, expect_df)\n",
    "        self.assertEqual(result, expect)\n",
    "        \n",
    "    \n",
    "    def test_replace1(self) :\n",
    "        self.sql.dump_replace(df_in = self.df2 , table_name_in = self.table_name, list_key = ['col1'])\n",
    "        df_read = self.sql.read(self.table_name)\n",
    "        expect_df = pd.DataFrame({'col1' : [1,2,3,4,5,6,7,8] , 'col2' : [1,1,2,3,3,4,4,5] , 'col3' : [1,1,1,2,2,2,2,2]})\n",
    "        result, expect = help_test(df_read, expect_df)\n",
    "        self.assertEqual(result, expect)\n",
    "        \n",
    "    def test_replace1_str(self) :\n",
    "        self.sql.dump_replace(df_in = self.df2 , table_name_in = self.table_name, list_key = 'col1')\n",
    "        df_read = self.sql.read(self.table_name)\n",
    "        expect_df = pd.DataFrame({'col1' : [1,2,3,4,5,6,7,8] , 'col2' : [1,1,2,3,3,4,4,5] , 'col3' : [1,1,1,2,2,2,2,2]})\n",
    "        result, expect = help_test(df_read, expect_df)\n",
    "        self.assertEqual(result, expect)\n",
    "\n",
    "    def test_replace2(self) :\n",
    "        self.sql.dump_replace(df_in = self.df2 , table_name_in = self.table_name, list_key = ['col1','col2'])\n",
    "        df_read = self.sql.read(self.table_name)\n",
    "        expect_df = pd.DataFrame({'col1' : [1,2,3,4,4,5,6,7,8] , 'col2' : [1,1,2,2,3,3,4,4,5] , 'col3' : [1,1,1,1,2,2,2,2,2]})\n",
    "        result, expect = help_test(df_read, expect_df)\n",
    "        self.assertEqual(result, expect)\n",
    "        \n",
    "    def test_replace3(self) :\n",
    "        self.sql.dump_replace(df_in = self.df2 , table_name_in = self.table_name, list_key = ['col1','col2','col3'])\n",
    "        df_read = self.sql.read(self.table_name)\n",
    "        expect_df = self.df1.append(self.df2)\n",
    "        result, expect = help_test(df_read, expect_df)\n",
    "        self.assertEqual(result, expect)\n",
    "\n",
    "    def test_replace_logic(self) :\n",
    "        self.sql.dump_replace(df_in = self.df2 , table_name_in = self.table_name, list_key = ['col1'],\n",
    "                             math_logic = {'col1' : {'logic' : '>', 'value' : 1}})\n",
    "        df_read = self.sql.read(self.table_name)\n",
    "        expect_df = self.df1[self.df1['col1'] <= 1].append(self.df2)\n",
    "        result, expect = help_test(df_read, expect_df)\n",
    "        self.assertEqual(result, expect)\n",
    "        \n",
    "    def test_replace3(self) :\n",
    "        self.sql.dump_replace(df_in = self.df2 , table_name_in = self.table_name, list_key = ['col1','col2','col3'])\n",
    "        df_read = self.sql.read(self.table_name)\n",
    "        expect_df = self.df1.append(self.df2)\n",
    "        result, expect = help_test(df_read, expect_df)\n",
    "        self.assertEqual(result, expect)\n",
    "\n",
    "    def test_new1_str(self) :\n",
    "        self.sql.dump_new(df_in = self.df2 , table_name_in = self.table_name, list_key = 'col1')\n",
    "        df_read = self.sql.read(self.table_name)\n",
    "        expect_df = pd.DataFrame({'col1' : [1,2,3,4,5,6,7,8] , 'col2' : [1,1,2,2,3,4,4,5] , 'col3' : [1,1,1,1,1,2,2,2]})\n",
    "        result, expect = help_test(df_read, expect_df)\n",
    "        self.assertEqual(result, expect)\n",
    "\n",
    "    def test_new1(self) :\n",
    "        self.sql.dump_new(df_in = self.df2 , table_name_in = self.table_name, list_key = ['col1'])\n",
    "        df_read = self.sql.read(self.table_name)\n",
    "        expect_df = pd.DataFrame({'col1' : [1,2,3,4,5,6,7,8] , 'col2' : [1,1,2,2,3,4,4,5] , 'col3' : [1,1,1,1,1,2,2,2]})\n",
    "        result, expect = help_test(df_read, expect_df)\n",
    "        self.assertEqual(result, expect)\n",
    "\n",
    "    def test_new2(self) :\n",
    "        self.sql.dump_new(df_in = self.df2 , table_name_in = self.table_name, list_key = ['col1','col2'], debug = False)\n",
    "        df_read = self.sql.read(self.table_name)\n",
    "        expect_df = pd.DataFrame({'col1' : [1,2,3,4,5,4,6,7,8] , 'col2' : [1,1,2,2,3,3,4,4,5] , 'col3' : [1,1,1,1,1,2,2,2,2]})\n",
    "        result, expect = help_test(df_read, expect_df)\n",
    "        self.assertEqual(result, expect)\n",
    "        \n",
    "    def test_replace_null1(self) :\n",
    "        df1_n = pd.DataFrame({'col1' : [1,None,3,4,5] , 'col2' : [1,1,2,2,3] , 'col3' : [1,1,1,1,1]})\n",
    "        df2_n = pd.DataFrame({'col1' : [4,5,6,7,None] , 'col2' : [3,3,4,4,5] , 'col3' : [2,2,2,2,2]})\n",
    "        df1_n.to_sql(self.table_name, con = self.sql.engine, index = False, if_exists = 'replace')\n",
    "        self.sql.dump_replace(df_in = df2_n , table_name_in = self.table_name, list_key = ['col1'] , debug = True)\n",
    "        df_read = self.sql.read(self.table_name).sort_values('col1').reset_index(drop = True)\n",
    "        expect_df = pd.DataFrame({'col1' : [1,3,4,5,6,7,None] , 'col2' : [1,2,3,3,4,4,5] , 'col3' : [1,1,2,2,2,2,2]})\n",
    "        result, expect = help_test(df_read.fillna(99), expect_df.fillna(99))\n",
    "        self.assertEqual(result, expect)\n",
    "\n",
    "    def test_replace_null2(self) :\n",
    "        df1_n = pd.DataFrame({'col1' : [1,None,3,4,5] , 'col2' : [1,1,2,2,3] , 'col3' : [1,1,1,1,1]})\n",
    "        df2_n = pd.DataFrame({'col1' : [4,5,6,7,None] , 'col2' : [3,3,4,4,5] , 'col3' : [2,2,2,2,2]})\n",
    "        df1_n.to_sql(self.table_name, con = self.sql.engine, index = False, if_exists = 'replace')\n",
    "        self.sql.dump_replace(df_in = df2_n , table_name_in = self.table_name, list_key = ['col1','col2'] , debug = True)\n",
    "        df_read = self.sql.read(self.table_name).sort_values('col1').reset_index(drop = True)\n",
    "        expect_df = pd.DataFrame({ 'col1' : [1,None,3,4,4,5,6,7,None] , 'col2' : [1,1,2,2,3,3,4,4,5] \n",
    "                                  ,'col3' : [1,1,1,1,2,2,2,2,2]}).sort_values('col1').reset_index(drop = True)\n",
    "\n",
    "        result, expect = help_test(df_read.fillna(99), expect_df.fillna(99))\n",
    "        self.assertEqual(result, expect)\n",
    "\n",
    "unittest.main(argv = ['first-arg-is-ignored'], exit = False)"
   ]
  }
 ],
 "metadata": {
  "kernelspec": {
   "display_name": "Python 3",
   "language": "python",
   "name": "python3"
  },
  "language_info": {
   "codemirror_mode": {
    "name": "ipython",
    "version": 3
   },
   "file_extension": ".py",
   "mimetype": "text/x-python",
   "name": "python",
   "nbconvert_exporter": "python",
   "pygments_lexer": "ipython3",
   "version": "3.7.6"
  }
 },
 "nbformat": 4,
 "nbformat_minor": 4
}
