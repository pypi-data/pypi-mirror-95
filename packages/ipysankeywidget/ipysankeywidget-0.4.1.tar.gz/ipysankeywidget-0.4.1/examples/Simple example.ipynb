{
 "cells": [
  {
   "cell_type": "markdown",
   "metadata": {},
   "source": [
    "# Simple example\n",
    "\n",
    "> <i class=\"fa fa-2x fa-paper-plane text-info fa-fw\"> </i> Simple example\n",
    ">\n",
    "> <i class=\"fa fa-2x fa-space-shuttle text-info fa-fw\"> </i> [Advanced examples](./More%20examples.ipynb)\n",
    ">\n",
    "> <i class=\"fa fa-2x fa-link text-info fa-fw\"> </i> [Linking and Layout](./Linking%20and%20Layout.ipynb)\n",
    ">\n",
    "> <i class=\"fa fa-2x fa-image text-info fa-fw\"> </i> [Exporting Images](./Exporting%20Images.ipynb)"
   ]
  },
  {
   "cell_type": "markdown",
   "metadata": {},
   "source": [
    "> <i class=\"fa fa-info-circle fa-2x text-primary\"></i> Execute each of these cells in order, such as with <label class=\"label label-default\">Shift+Enter</label>"
   ]
  },
  {
   "cell_type": "markdown",
   "metadata": {},
   "source": [
    "First, load `SankeyWidget`:"
   ]
  },
  {
   "cell_type": "code",
   "execution_count": 1,
   "metadata": {},
   "outputs": [],
   "source": [
    "from ipysankeywidget import SankeyWidget"
   ]
  },
  {
   "cell_type": "markdown",
   "metadata": {},
   "source": [
    "Then, create an instance of `SankeyWidget`:"
   ]
  },
  {
   "cell_type": "code",
   "execution_count": 2,
   "metadata": {},
   "outputs": [],
   "source": [
    "links = [\n",
    "    {'source': 'start', 'target': 'A', 'value': 2},\n",
    "    {'source': 'A', 'target': 'B', 'value': 2},\n",
    "    {'source': 'C', 'target': 'A', 'value': 2},\n",
    "    {'source': 'A', 'target': 'C', 'value': 2},\n",
    "]"
   ]
  },
  {
   "cell_type": "code",
   "execution_count": 3,
   "metadata": {},
   "outputs": [],
   "source": [
    "w = SankeyWidget(links=links, margins=dict(top=0, bottom=0, left=50, right=100))"
   ]
  },
  {
   "cell_type": "markdown",
   "metadata": {},
   "source": [
    "Display the widget:"
   ]
  },
  {
   "cell_type": "code",
   "execution_count": 4,
   "metadata": {},
   "outputs": [
    {
     "data": {
      "application/vnd.jupyter.widget-view+json": {
       "model_id": "21ec2a35fb284d5cbcd085f7763ace93",
       "version_major": 2,
       "version_minor": 0
      },
      "text/plain": [
       "SankeyWidget(links=[{'source': 'start', 'target': 'A', 'value': 2}, {'source': 'A', 'target': 'B', 'value': 2}…"
      ]
     },
     "metadata": {},
     "output_type": "display_data"
    }
   ],
   "source": [
    "w"
   ]
  },
  {
   "cell_type": "markdown",
   "metadata": {},
   "source": [
    "> <i class=\"fa fa-image fa-2x\"></i> You should see a simple Sankey diagram with 4 nodes and 4 flows"
   ]
  },
  {
   "cell_type": "markdown",
   "metadata": {},
   "source": [
    "Now, you can update the value of a link:"
   ]
  },
  {
   "cell_type": "code",
   "execution_count": 5,
   "metadata": {},
   "outputs": [],
   "source": [
    "w.links[0]['value'] = 1\n",
    "w.send_state()"
   ]
  },
  {
   "cell_type": "markdown",
   "metadata": {},
   "source": [
    "><i class=\"fa fa-image fa-2x\"></i> You should see the diagram change.\n",
    "\n",
    "See the other notebooks linked above for more examples."
   ]
  }
 ],
 "metadata": {
  "hide_input": true,
  "kernelspec": {
   "display_name": "Python 3",
   "language": "python",
   "name": "python3"
  },
  "language_info": {
   "codemirror_mode": {
    "name": "ipython",
    "version": 3
   },
   "file_extension": ".py",
   "mimetype": "text/x-python",
   "name": "python",
   "nbconvert_exporter": "python",
   "pygments_lexer": "ipython3",
   "version": "3.6.9"
  },
  "widgets": {
   "application/vnd.jupyter.widget-state+json": {
    "state": {
     "14e0fbb4ddc7424889ce8c68bf9232c3": {
      "model_module": "@jupyter-widgets/base",
      "model_module_version": "1.0.0",
      "model_name": "LayoutModel",
      "state": {}
     },
     "150a2610e9004aa3b2a803442464add8": {
      "model_module": "jupyter-sankey-widget",
      "model_module_version": "^0.2.3",
      "model_name": "SankeyModel",
      "state": {
       "_model_module_version": "^0.2.3",
       "_view_module_version": "^0.2.3",
       "layout": "IPY_MODEL_14e0fbb4ddc7424889ce8c68bf9232c3",
       "links": [
        {
         "source": "start",
         "target": "A",
         "value": 1
        },
        {
         "source": "A",
         "target": "B",
         "value": 2
        },
        {
         "source": "C",
         "target": "A",
         "value": 2
        },
        {
         "source": "A",
         "target": "C",
         "value": 2
        }
       ],
       "margins": {
        "bottom": 0,
        "left": 50,
        "right": 100,
        "top": 0
       },
       "nodes": [
        {
         "id": "C"
        },
        {
         "id": "start"
        },
        {
         "id": "A"
        },
        {
         "id": "B"
        }
       ],
       "order": [],
       "png": "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",
       "scale": 33.333333333333336,
       "svg": "<?xml version=\"1.0\" standalone=\"no\"?><!DOCTYPE svg PUBLIC \"-//W3C//DTD SVG 1.1//EN\" \"http://www.w3.org/Graphics/SVG/1.1/DTD/svg11.dtd\"><svg xmlns=\"http://www.w3.org/2000/svg\" width=\"600\" height=\"400\" viewBox=\"0 0 600 400\" style=\"font-family: &quot;Helvetica Neue&quot;,Helvetica,Arial,sans-serif;\"><g class=\"sankey\" transform=\"translate(50,0)\"><g class=\"groups\"/><g class=\"links\"><g class=\"link\" style=\"opacity: 0.8;\"><path d=\"M1,183.33333333333334 A57.1089437984496 57.1089437984496 0.7239971531676406 0 0 38.82807798740928,169.0083582329014 L154.9496296990559,66.33777278133073 A105.00000000000001 105.00000000000001 0.7239971531676406 0 1 224.5,40 L224.5,73.33333333333334 A71.66666666666667 71.66666666666667 0.7239971531676406 0 0 177.02911233427625,91.30990840630511 L60.907560622629624,193.98049385787579 A90.44227713178294 90.44227713178294 0.7239971531676406 0 1 1,216.66666666666666 Z\" style=\"fill: rgb(31, 119, 180);\"/><title>start → A\n1.00</title></g><g class=\"link\" style=\"opacity: 0.8;\"><path d=\"M225.5,40.00000000000001 A0 0 0 0 0 225.5,40.00000000000001 L449,40.00000000000001 A0 0 0 0 0 449,40.00000000000001 L449,106.66666666666669 A0 0 0 0 0 449,106.66666666666669 L225.5,106.66666666666669 A0 0 0 0 0 225.5,106.66666666666669 Z\" style=\"fill: rgb(31, 119, 180);\"/><title>A → B\n2.00</title></g><g class=\"link\" style=\"opacity: 0.8;\"><path d=\"M450,166.66666666666669 A71.66666666666667 71.66666666666667 1.5807959934815619 0 1 521.663083602061,239.04996416935398 L521.163083602061,288.2833358331459 A71.66666666666667 71.66666666666667 1.5807959934815619 0 1 449.5,360 L449.5,293.33333333333337 A5 5 1.5807959934815619 0 0 454.49975001874844,287.61670249731276 L454.99975001874844,238.38333083352086 A5 5 1.5807959934815619 0 0 450,233.33333333333337 ZM225,293.33333333333337 A0 0 0 0 0 225,293.33333333333337 L449.5,293.33333333333337 A0 0 0 0 0 449.5,293.33333333333337 L449.5,360 A0 0 0 0 0 449.5,360 L225,360 A0 0 0 0 0 225,360 ZM225,293.33333333333337 A5 5 1.5724817184575115 0 1 220.00000710136095,288.3249063790098 L219.50000710136095,145.12078634530423 A5 5 1.5724817184575115 0 1 224.5,140.00000000000003 L224.5,73.33333333333334 A71.66666666666667 71.66666666666667 1.5724817184575115 0 0 152.8334351195071,145.12078634530423 L153.3334351195071,288.3249063790098 A71.66666666666667 71.66666666666667 1.5724817184575115 0 0 225,360 Z\" style=\"fill: rgb(31, 119, 180);\"/><title>C → A\n2.00</title></g><g class=\"link\" style=\"opacity: 0.8;\"><path d=\"M225.5,106.66666666666666 A167.21395833333327 167.21395833333327 0.3216461191218616 0 1 278.36112931196317,115.24201409658329 L417.21411657414365,161.51023135604498 A100.54729166666658 100.54729166666658 0.3216461191218616 0 0 449,166.66666666666669 L449,233.33333333333337 A167.21395833333327 167.21395833333327 0.3216461191218616 0 1 396.13887068803683,224.75798590341674 L257.28588342585635,178.48976864395505 A100.54729166666658 100.54729166666658 0.3216461191218616 0 0 225.5,173.33333333333334 Z\" style=\"fill: rgb(31, 119, 180);\"/><title>A → C\n2.00</title></g></g><g class=\"nodes\"><g class=\"node\" transform=\"translate(449,166.66666666666669)\"><title>C</title><text dy=\".35em\" text-anchor=\"start\" transform=\"translate(-4,-10)\" style=\"display: inline;\">C</text><line x1=\"0\" x2=\"0\" y1=\"-5\" y2=\"66.66666666666669\" style=\"display: inline; stroke: rgb(0, 0, 0);\"/><rect x=\"-5\" y=\"-5\" width=\"10\" style=\"fill: none; visibility: hidden; pointer-events: all;\" height=\"71.66666666666669\"/></g><g class=\"node\" transform=\"translate(0, 183.3333282470703)\"><title>start</title><text dy=\".35em\" text-anchor=\"end\" transform=\"translate(-4, 16.66666603088379)\" style=\"display: inline;\">start</text><line x1=\"0\" x2=\"0\" y1=\"0\" y2=\"33.33333333333334\" style=\"display: inline; stroke: rgb(0, 0, 0);\"/><rect x=\"-5\" y=\"-5\" width=\"10\" style=\"fill: none; visibility: hidden; pointer-events: all;\" height=\"38.33333333333334\"/></g><g class=\"node\" transform=\"translate(224.5,40)\"><title>A</title><text dy=\".35em\" text-anchor=\"start\" transform=\"translate(-4,-10)\" style=\"display: inline;\">A</text><line x1=\"0\" x2=\"0\" y1=\"-5\" y2=\"133.33333333333334\" style=\"display: inline; stroke: rgb(0, 0, 0);\"/><rect x=\"-5\" y=\"-5\" width=\"10\" style=\"fill: none; visibility: hidden; pointer-events: all;\" height=\"138.33333333333334\"/></g><g class=\"node\" transform=\"translate(449,40)\"><title>B</title><text dy=\".35em\" text-anchor=\"start\" transform=\"translate(4,33.333333333333336)\" style=\"display: inline;\">B</text><line x1=\"0\" x2=\"0\" y1=\"0\" y2=\"66.66666666666667\" style=\"display: inline; stroke: rgb(0, 0, 0);\"/><rect x=\"-5\" y=\"-5\" width=\"10\" style=\"fill: none; visibility: hidden; pointer-events: all;\" height=\"71.66666666666667\"/></g></g><g class=\"slice-titles\"/></g></svg>"
      }
     },
     "26c791f034294a2f97b8cff3af78e31d": {
      "model_module": "jupyter-sankey-widget",
      "model_module_version": "^0.2.3",
      "model_name": "SankeyModel",
      "state": {
       "_model_module_version": "^0.2.3",
       "_view_module_version": "^0.2.3",
       "layout": "IPY_MODEL_b94f8de15ee34e24bc396722d3374390",
       "links": [
        {
         "source": "start",
         "target": "A",
         "value": 1
        },
        {
         "source": "A",
         "target": "B",
         "value": 2
        },
        {
         "source": "C",
         "target": "A",
         "value": 2
        },
        {
         "source": "A",
         "target": "C",
         "value": 2
        }
       ],
       "margins": {
        "bottom": 0,
        "left": 50,
        "right": 100,
        "top": 0
       },
       "nodes": [
        {
         "id": "C"
        },
        {
         "id": "start"
        },
        {
         "id": "A"
        },
        {
         "id": "B"
        }
       ],
       "order": [],
       "png": "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",
       "scale": 33.333333333333336,
       "svg": "<?xml version=\"1.0\" standalone=\"no\"?><!DOCTYPE svg PUBLIC \"-//W3C//DTD SVG 1.1//EN\" \"http://www.w3.org/Graphics/SVG/1.1/DTD/svg11.dtd\"><svg xmlns=\"http://www.w3.org/2000/svg\" width=\"600\" height=\"400\" viewBox=\"0 0 600 400\" style=\"font-family: &quot;Helvetica Neue&quot;,Helvetica,Arial,sans-serif;\"><g class=\"sankey\" transform=\"translate(50,0)\"><g class=\"groups\"/><g class=\"links\"><g class=\"link\" style=\"opacity: 0.8;\"><path d=\"M1,183.33333333333334 A57.1089437984496 57.1089437984496 0.7239971531676406 0 0 38.82807798740928,169.0083582329014 L154.9496296990559,66.33777278133073 A105.00000000000001 105.00000000000001 0.7239971531676406 0 1 224.5,40 L224.5,73.33333333333334 A71.66666666666667 71.66666666666667 0.7239971531676406 0 0 177.02911233427625,91.30990840630511 L60.907560622629624,193.98049385787579 A90.44227713178294 90.44227713178294 0.7239971531676406 0 1 1,216.66666666666666 Z\" style=\"fill: rgb(31, 119, 180);\"/><title>start → A\n1.00</title></g><g class=\"link\" style=\"opacity: 0.8;\"><path d=\"M225.5,40.00000000000001 A0 0 0 0 0 225.5,40.00000000000001 L449,40.00000000000001 A0 0 0 0 0 449,40.00000000000001 L449,106.66666666666669 A0 0 0 0 0 449,106.66666666666669 L225.5,106.66666666666669 A0 0 0 0 0 225.5,106.66666666666669 Z\" style=\"fill: rgb(31, 119, 180);\"/><title>A → B\n2.00</title></g><g class=\"link\" style=\"opacity: 0.8;\"><path d=\"M450,166.66666666666669 A71.66666666666667 71.66666666666667 1.5807959934815619 0 1 521.663083602061,239.04996416935398 L521.163083602061,288.2833358331459 A71.66666666666667 71.66666666666667 1.5807959934815619 0 1 449.5,360 L449.5,293.33333333333337 A5 5 1.5807959934815619 0 0 454.49975001874844,287.61670249731276 L454.99975001874844,238.38333083352086 A5 5 1.5807959934815619 0 0 450,233.33333333333337 ZM225,293.33333333333337 A0 0 0 0 0 225,293.33333333333337 L449.5,293.33333333333337 A0 0 0 0 0 449.5,293.33333333333337 L449.5,360 A0 0 0 0 0 449.5,360 L225,360 A0 0 0 0 0 225,360 ZM225,293.33333333333337 A5 5 1.5724817184575115 0 1 220.00000710136095,288.3249063790098 L219.50000710136095,145.12078634530423 A5 5 1.5724817184575115 0 1 224.5,140.00000000000003 L224.5,73.33333333333334 A71.66666666666667 71.66666666666667 1.5724817184575115 0 0 152.8334351195071,145.12078634530423 L153.3334351195071,288.3249063790098 A71.66666666666667 71.66666666666667 1.5724817184575115 0 0 225,360 Z\" style=\"fill: rgb(31, 119, 180);\"/><title>C → A\n2.00</title></g><g class=\"link\" style=\"opacity: 0.8;\"><path d=\"M225.5,106.66666666666666 A167.21395833333327 167.21395833333327 0.3216461191218616 0 1 278.36112931196317,115.24201409658329 L417.21411657414365,161.51023135604498 A100.54729166666658 100.54729166666658 0.3216461191218616 0 0 449,166.66666666666669 L449,233.33333333333337 A167.21395833333327 167.21395833333327 0.3216461191218616 0 1 396.13887068803683,224.75798590341674 L257.28588342585635,178.48976864395505 A100.54729166666658 100.54729166666658 0.3216461191218616 0 0 225.5,173.33333333333334 Z\" style=\"fill: rgb(31, 119, 180);\"/><title>A → C\n2.00</title></g></g><g class=\"nodes\"><g class=\"node\" transform=\"translate(449,166.66666666666669)\"><title>C</title><text dy=\".35em\" text-anchor=\"start\" transform=\"translate(-4,-10)\" style=\"display: inline;\">C</text><line x1=\"0\" x2=\"0\" y1=\"-5\" y2=\"66.66666666666669\" style=\"display: inline; stroke: rgb(0, 0, 0);\"/><rect x=\"-5\" y=\"-5\" width=\"10\" style=\"fill: none; visibility: hidden; pointer-events: all;\" height=\"71.66666666666669\"/></g><g class=\"node\" transform=\"translate(0, 183.3333282470703)\"><title>start</title><text dy=\".35em\" text-anchor=\"end\" transform=\"translate(-4, 16.66666603088379)\" style=\"display: inline;\">start</text><line x1=\"0\" x2=\"0\" y1=\"0\" y2=\"33.33333333333334\" style=\"display: inline; stroke: rgb(0, 0, 0);\"/><rect x=\"-5\" y=\"-5\" width=\"10\" style=\"fill: none; visibility: hidden; pointer-events: all;\" height=\"38.33333333333334\"/></g><g class=\"node\" transform=\"translate(224.5,40)\"><title>A</title><text dy=\".35em\" text-anchor=\"start\" transform=\"translate(-4,-10)\" style=\"display: inline;\">A</text><line x1=\"0\" x2=\"0\" y1=\"-5\" y2=\"133.33333333333334\" style=\"display: inline; stroke: rgb(0, 0, 0);\"/><rect x=\"-5\" y=\"-5\" width=\"10\" style=\"fill: none; visibility: hidden; pointer-events: all;\" height=\"138.33333333333334\"/></g><g class=\"node\" transform=\"translate(449,40)\"><title>B</title><text dy=\".35em\" text-anchor=\"start\" transform=\"translate(4,33.333333333333336)\" style=\"display: inline;\">B</text><line x1=\"0\" x2=\"0\" y1=\"0\" y2=\"66.66666666666667\" style=\"display: inline; stroke: rgb(0, 0, 0);\"/><rect x=\"-5\" y=\"-5\" width=\"10\" style=\"fill: none; visibility: hidden; pointer-events: all;\" height=\"71.66666666666667\"/></g></g><g class=\"slice-titles\"/></g></svg>"
      }
     },
     "b94f8de15ee34e24bc396722d3374390": {
      "model_module": "@jupyter-widgets/base",
      "model_module_version": "1.0.0",
      "model_name": "LayoutModel",
      "state": {}
     }
    },
    "version_major": 2,
    "version_minor": 0
   }
  }
 },
 "nbformat": 4,
 "nbformat_minor": 4
}
