{
 "cells": [
  {
   "cell_type": "markdown",
   "metadata": {},
   "source": [
    "# Exporting Images\n",
    "\n",
    "> [<i class=\"fa fa-2x fa-paper-plane text-info fa-fw\"> </i> Simple example](./Simple%20example.ipynb)\n",
    ">\n",
    "> [<i class=\"fa fa-2x fa-space-shuttle text-info fa-fw\"> </i> Advanced examples](./More%20examples.ipynb)\n",
    ">\n",
    "> [<i class=\"fa fa-2x fa-link text-info fa-fw\"> </i> Linking and Layout](./Linking%20and%20Layout.ipynb)\n",
    ">\n",
    "> <i class=\"fa fa-2x fa-image text-info fa-fw\"> </i> Exporting Images\n",
    "\n",
    "Any `SankeyWidget` can be exported as either an raster (PNG) or vector (SVG) image."
   ]
  },
  {
   "cell_type": "code",
   "execution_count": 1,
   "metadata": {},
   "outputs": [],
   "source": [
    "from ipysankeywidget import SankeyWidget\n",
    "from ipywidgets import Layout"
   ]
  },
  {
   "cell_type": "code",
   "execution_count": 2,
   "metadata": {},
   "outputs": [],
   "source": [
    "links = [\n",
    "    {'source': 'start', 'target': 'A', 'value': 2},\n",
    "    {'source': 'A', 'target': 'B', 'value': 2},\n",
    "    {'source': 'C', 'target': 'A', 'value': 2},\n",
    "    {'source': 'A', 'target': 'C', 'value': 2},\n",
    "]"
   ]
  },
  {
   "cell_type": "code",
   "execution_count": 3,
   "metadata": {},
   "outputs": [
    {
     "data": {
      "application/vnd.jupyter.widget-view+json": {
       "model_id": "a3676b3cb671497fab4e0451a4dd8bb5",
       "version_major": 2,
       "version_minor": 0
      },
      "text/plain": [
       "SankeyWidget(layout=Layout(height='200', width='500'), links=[{'source': 'start', 'target': 'A', 'value': 2}, …"
      ]
     },
     "metadata": {},
     "output_type": "display_data"
    }
   ],
   "source": [
    "layout = Layout(width=\"500\", height=\"200\")\n",
    "sankey = SankeyWidget(links=links, layout=layout)\n",
    "sankey"
   ]
  },
  {
   "cell_type": "markdown",
   "metadata": {},
   "source": [
    "You can use `IPython.display` classes to ensure embedded versions of your diagram will persist in your notebook, even without JavaScript!"
   ]
  },
  {
   "cell_type": "code",
   "execution_count": 4,
   "metadata": {},
   "outputs": [],
   "source": [
    "from IPython.display import (\n",
    "    Image,\n",
    "    SVG\n",
    ")"
   ]
  },
  {
   "cell_type": "code",
   "execution_count": 5,
   "metadata": {},
   "outputs": [
    {
     "data": {
      "image/png": "[encoded data removed]",
      "text/plain": [
       "<IPython.core.display.Image object>"
      ]
     },
     "execution_count": 5,
     "metadata": {},
     "output_type": "execute_result"
    }
   ],
   "source": [
    "import base64\n",
    "data = base64.decodebytes(bytes(sankey.png, 'ascii'))\n",
    "Image(data)"
   ]
  },
  {
   "cell_type": "code",
   "execution_count": 6,
   "metadata": {},
   "outputs": [
    {
     "data": {
      "image/svg+xml": [
       "<svg height=\"200\" style=\"font-family: &quot;Helvetica Neue&quot;, Helvetica, Arial, sans-serif;\" viewBox=\"0 0 500 200\" width=\"500\" xmlns=\"http://www.w3.org/2000/svg\"><g class=\"sankey\" transform=\"translate(100,10)\"><g class=\"groups\"/><g class=\"links\"><g class=\"link\" style=\"opacity: 0.8;\"><path d=\"M1,75 A51.58223684210526 51.58223684210526 0.44990071222889894 0 0 23.431883461475543,69.86706629589479 L114.02183268107551,26.118225163925345 A81.58223684210526 81.58223684210526 0.44990071222889894 0 1 149.5,18 L149.5,48 A51.58223684210526 51.58223684210526 0.44990071222889894 0 0 127.06811653852445,53.13293370410521 L36.47816731892449,96.88177483607465 A81.58223684210526 81.58223684210526 0.44990071222889894 0 1 1,105 Z\" style=\"fill: rgb(31, 119, 180);\"/><title>start → A\n",
       "2.00</title><text class=\"label\" dy=\"0.35em\" x=\"5\" y=\"90\"/></g><g class=\"link\" style=\"opacity: 0.8;\"><path d=\"M150.5,18 A0 0 0 0 0 150.5,18 L299,18 A0 0 0 0 0 299,18 L299,48 A0 0 0 0 0 299,48 L150.5,48 A0 0 0 0 0 150.5,48 Z\" style=\"fill: rgb(31, 119, 180);\"/><title>A → B\n",
       "2.00</title><text class=\"label\" dy=\"0.35em\" x=\"154.5\" y=\"33\"/></g><g class=\"link\" style=\"opacity: 0.8;\"><path d=\"M300,75 A35 35 1.6001996149989017 0 1 334.98487140625235,111.02896680606624 L334.48487140625235,126.85300474199055 A35 35 1.6001996149989017 0 1 299.5,162 L299.5,132 A5 5 1.6001996149989017 0 0 304.4978387723218,125.97103319393376 L304.9978387723218,110.14699525800945 A5 5 1.6001996149989017 0 0 300,105 ZM150,132 A0 0 0 0 0 150,132 L299.5,132 A0 0 0 0 0 299.5,132 L299.5,162 A0 0 0 0 0 299.5,162 L150,162 A0 0 0 0 0 150,162 ZM150,132 A5 5 1.57482856300599 0 1 145.0000406472671,126.97983887357769 L144.5000406472671,83.14112788495616 A5 5 1.57482856300599 0 1 149.5,78 L149.5,48 A35 35 1.57482856300599 0 0 114.50028453086958,83.14112788495616 L115.00028453086958,126.97983887357769 A35 35 1.57482856300599 0 0 150,162 Z\" style=\"fill: rgb(31, 119, 180);\"/><title>C → A\n",
       "2.00</title><text class=\"label\" dy=\"0.35em\" x=\"304\" y=\"90\"/></g><g class=\"link\" style=\"opacity: 0.8;\"><path d=\"M150.5,48 A141.5625 141.5625 0.22045112874641548 0 1 181.4554515256947,51.42596816612787 L274.6046441618697,72.30006482272042 A111.5625 111.5625 0.22045112874641548 0 0 299,75 L299,105 A141.5625 141.5625 0.22045112874641548 0 1 268.0445484743053,101.57403183387213 L174.89535583813026,80.69993517727958 A111.5625 111.5625 0.22045112874641548 0 0 150.5,78 Z\" style=\"fill: rgb(31, 119, 180);\"/><title>A → C\n",
       "2.00</title><text class=\"label\" dy=\"0.35em\" x=\"154.5\" y=\"63\"/></g></g><g class=\"nodes\"><g class=\"node\" transform=\"translate(0,75)\"><title>start</title><line style=\"display: inline; stroke: rgb(0, 0, 0); stroke-width: 1px;\" x1=\"0\" x2=\"0\" y1=\"0\" y2=\"30\"/><rect class=\"node-body\" height=\"30\" style=\"fill: none;\" width=\"1\"/><text class=\"node-value\" dy=\".35em\" style=\"display: none;\" text-anchor=\"middle\" transform=\"translate(0.5,15) rotate(-90)\"/><text class=\"node-title\" dy=\".35em\" style=\"display: inline;\" text-anchor=\"end\" transform=\"translate(-4,15)\">start</text><rect class=\"node-click-target\" height=\"35\" style=\"fill: none; visibility: hidden; pointer-events: all;\" width=\"10\" x=\"-5\" y=\"-5\"/></g><g class=\"node\" transform=\"translate(149.5,18)\"><title>A</title><line style=\"display: inline; stroke: rgb(0, 0, 0); stroke-width: 1px;\" x1=\"0\" x2=\"0\" y1=\"-5\" y2=\"60\"/><rect class=\"node-body\" height=\"60\" style=\"fill: none;\" width=\"1\"/><text class=\"node-value\" dy=\".35em\" style=\"display: none;\" text-anchor=\"middle\" transform=\"translate(0.5,30) rotate(-90)\"/><text class=\"node-title\" dy=\".35em\" style=\"display: inline;\" text-anchor=\"start\" transform=\"translate(-4,-10)\">A</text><rect class=\"node-click-target\" height=\"65\" style=\"fill: none; visibility: hidden; pointer-events: all;\" width=\"10\" x=\"-5\" y=\"-5\"/></g><g class=\"node\" transform=\"translate(299,75)\"><title>C</title><line style=\"display: inline; stroke: rgb(0, 0, 0); stroke-width: 1px;\" x1=\"0\" x2=\"0\" y1=\"-5\" y2=\"30\"/><rect class=\"node-body\" height=\"30\" style=\"fill: none;\" width=\"1\"/><text class=\"node-value\" dy=\".35em\" style=\"display: none;\" text-anchor=\"middle\" transform=\"translate(0.5,15) rotate(-90)\"/><text class=\"node-title\" dy=\".35em\" style=\"display: inline;\" text-anchor=\"start\" transform=\"translate(-4,-10)\">C</text><rect class=\"node-click-target\" height=\"35\" style=\"fill: none; visibility: hidden; pointer-events: all;\" width=\"10\" x=\"-5\" y=\"-5\"/></g><g class=\"node\" transform=\"translate(299,18)\"><title>B</title><line style=\"display: inline; stroke: rgb(0, 0, 0); stroke-width: 1px;\" x1=\"0\" x2=\"0\" y1=\"0\" y2=\"30\"/><rect class=\"node-body\" height=\"30\" style=\"fill: none;\" width=\"1\"/><text class=\"node-value\" dy=\".35em\" style=\"display: none;\" text-anchor=\"middle\" transform=\"translate(0.5,15) rotate(-90)\"/><text class=\"node-title\" dy=\".35em\" style=\"display: inline;\" text-anchor=\"start\" transform=\"translate(5,15)\">B</text><rect class=\"node-click-target\" height=\"35\" style=\"fill: none; visibility: hidden; pointer-events: all;\" width=\"10\" x=\"-5\" y=\"-5\"/></g></g><g class=\"slice-titles\"/></g></svg>"
      ],
      "text/plain": [
       "<IPython.core.display.SVG object>"
      ]
     },
     "execution_count": 6,
     "metadata": {},
     "output_type": "execute_result"
    }
   ],
   "source": [
    "SVG(sankey.svg)"
   ]
  },
  {
   "cell_type": "markdown",
   "metadata": {},
   "source": [
    "## Saving images to files\n",
    "\n",
    "One way of saving images of the diagrams is to display them as above, then right-click and download.\n",
    "\n",
    "You can also save the image data to disk using `save_png` and `save_svg`:"
   ]
  },
  {
   "cell_type": "code",
   "execution_count": 7,
   "metadata": {},
   "outputs": [],
   "source": [
    "!rm test.svg test.png"
   ]
  },
  {
   "cell_type": "code",
   "execution_count": 8,
   "metadata": {},
   "outputs": [],
   "source": [
    "sankey.save_svg('test.svg')"
   ]
  },
  {
   "cell_type": "code",
   "execution_count": 9,
   "metadata": {},
   "outputs": [
    {
     "data": {
      "text/html": [
       "<img src=\"test.svg\" />\n"
      ],
      "text/plain": [
       "<IPython.core.display.HTML object>"
      ]
     },
     "metadata": {},
     "output_type": "display_data"
    }
   ],
   "source": [
    "%%html\n",
    "<img src=\"test.svg\" />"
   ]
  },
  {
   "cell_type": "markdown",
   "metadata": {},
   "source": [
    "Because the diagram is actually drawn in the browser, it is not immediately available to save to disk. It can be convenient to display the diagram in the notebook and simultaneously save it, so `auto_save_png` and `auto_save_svg` methods are available which save the images as soon as they are available:"
   ]
  },
  {
   "cell_type": "code",
   "execution_count": 10,
   "metadata": {},
   "outputs": [
    {
     "name": "stderr",
     "output_type": "stream",
     "text": [
      "/tmp/ipysankeywidget/sankey_widget.py:150: UserWarning: No png image available! Try auto_save_png() instead?\n",
      "  warnings.warn('No png image available! Try auto_save_png() instead?')\n"
     ]
    },
    {
     "data": {
      "application/vnd.jupyter.widget-view+json": {
       "model_id": "7b5fb85ae2f14ed7bb6394a5d5b3b7bb",
       "version_major": 2,
       "version_minor": 0
      },
      "text/plain": [
       "SankeyWidget(layout=Layout(height='200', width='500'), links=[{'source': 'start', 'target': 'A', 'value': 2}, …"
      ]
     },
     "metadata": {},
     "output_type": "display_data"
    }
   ],
   "source": [
    "# This won't work\n",
    "s = SankeyWidget(links=links, layout=layout)\n",
    "s.save_png('test.png')\n",
    "s"
   ]
  },
  {
   "cell_type": "code",
   "execution_count": 16,
   "metadata": {},
   "outputs": [
    {
     "data": {
      "text/html": [
       "<img src=\"test.png\" />\n"
      ],
      "text/plain": [
       "<IPython.core.display.HTML object>"
      ]
     },
     "metadata": {},
     "output_type": "display_data"
    }
   ],
   "source": [
    "%%html\n",
    "<img src=\"test.png\" />"
   ]
  },
  {
   "cell_type": "code",
   "execution_count": 17,
   "metadata": {},
   "outputs": [
    {
     "data": {
      "application/vnd.jupyter.widget-view+json": {
       "model_id": "af7de206a3084484b539f424fb8accef",
       "version_major": 2,
       "version_minor": 0
      },
      "text/plain": [
       "SankeyWidget(layout=Layout(height='200', width='500'), links=[{'source': 'start', 'target': 'A', 'value': 2}, …"
      ]
     },
     "metadata": {},
     "output_type": "display_data"
    }
   ],
   "source": [
    "# This does work\n",
    "SankeyWidget(links=links, layout=layout).auto_save_png('test.png')"
   ]
  },
  {
   "cell_type": "code",
   "execution_count": 19,
   "metadata": {},
   "outputs": [
    {
     "data": {
      "text/html": [
       "<img src=\"test.png\" />\n"
      ],
      "text/plain": [
       "<IPython.core.display.HTML object>"
      ]
     },
     "metadata": {},
     "output_type": "display_data"
    }
   ],
   "source": [
    "%%html\n",
    "<img src=\"test.png\" />"
   ]
  }
 ],
 "metadata": {
  "anaconda-cloud": {},
  "kernelspec": {
   "display_name": "Python 3",
   "language": "python",
   "name": "python3"
  },
  "language_info": {
   "codemirror_mode": {
    "name": "ipython",
    "version": 3
   },
   "file_extension": ".py",
   "mimetype": "text/x-python",
   "name": "python",
   "nbconvert_exporter": "python",
   "pygments_lexer": "ipython3",
   "version": "3.6.9"
  },
  "widgets": {
   "application/vnd.jupyter.widget-state+json": {
    "state": {
     "4693e717c5c24724b43acd5d8a442a35": {
      "model_module": "jupyter-sankey-widget",
      "model_module_version": "^0.2.3",
      "model_name": "SankeyModel",
      "state": {
       "_model_module_version": "^0.2.3",
       "_view_module_version": "^0.2.3",
       "layout": "IPY_MODEL_d944a9a6144442a3afdf56dffbee2d7f",
       "links": [
        {
         "source": "start",
         "target": "A",
         "value": 2
        },
        {
         "source": "A",
         "target": "B",
         "value": 2
        },
        {
         "source": "C",
         "target": "A",
         "value": 2
        },
        {
         "source": "A",
         "target": "C",
         "value": 2
        }
       ],
       "nodes": [
        {
         "id": "A"
        },
        {
         "id": "start"
        },
        {
         "id": "B"
        },
        {
         "id": "C"
        }
       ],
       "order": [],
       "png": "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",
       "scale": 15,
       "svg": "<?xml version=\"1.0\" standalone=\"no\"?><!DOCTYPE svg PUBLIC \"-//W3C//DTD SVG 1.1//EN\" \"http://www.w3.org/Graphics/SVG/1.1/DTD/svg11.dtd\"><svg xmlns=\"http://www.w3.org/2000/svg\" width=\"500\" height=\"200\" viewBox=\"0 0 500 200\" style=\"font-family: &quot;Helvetica Neue&quot;,Helvetica,Arial,sans-serif;\"><g class=\"sankey\" transform=\"translate(100,10)\"><g class=\"groups\"/><g class=\"links\"><g class=\"link\" style=\"opacity: 0.8;\"><path d=\"M1,75 A51.58223684210526 51.58223684210526 0.44990071222889894 0 0 23.431883461475543,69.86706629589479 L114.02183268107551,26.118225163925345 A81.58223684210526 81.58223684210526 0.44990071222889894 0 1 149.5,18 L149.5,48 A51.58223684210526 51.58223684210526 0.44990071222889894 0 0 127.06811653852445,53.13293370410521 L36.47816731892449,96.88177483607465 A81.58223684210526 81.58223684210526 0.44990071222889894 0 1 1,105 Z\" style=\"fill: rgb(31, 119, 180);\"/><title>start → A\n2.00</title></g><g class=\"link\" style=\"opacity: 0.8;\"><path d=\"M150.5,18 A0 0 0 0 0 150.5,18 L299,18 A0 0 0 0 0 299,18 L299,48 A0 0 0 0 0 299,48 L150.5,48 A0 0 0 0 0 150.5,48 Z\" style=\"fill: rgb(31, 119, 180);\"/><title>A → B\n2.00</title></g><g class=\"link\" style=\"opacity: 0.8;\"><path d=\"M300,75 A35 35 1.6001996149989017 0 1 334.98487140625235,111.02896680606624 L334.48487140625235,126.85300474199055 A35 35 1.6001996149989017 0 1 299.5,162 L299.5,132 A5 5 1.6001996149989017 0 0 304.4978387723218,125.97103319393376 L304.9978387723218,110.14699525800945 A5 5 1.6001996149989017 0 0 300,105 ZM150,132 A0 0 0 0 0 150,132 L299.5,132 A0 0 0 0 0 299.5,132 L299.5,162 A0 0 0 0 0 299.5,162 L150,162 A0 0 0 0 0 150,162 ZM150,132 A5 5 1.5748285630059902 0 1 145.0000406472671,126.97983887357769 L144.5000406472671,83.14112788495616 A5 5 1.5748285630059902 0 1 149.5,78 L149.5,48 A35 35 1.5748285630059902 0 0 114.50028453086958,83.14112788495616 L115.00028453086958,126.97983887357769 A35 35 1.5748285630059902 0 0 150,162 Z\" style=\"fill: rgb(31, 119, 180);\"/><title>C → A\n2.00</title></g><g class=\"link\" style=\"opacity: 0.8;\"><path d=\"M150.5,48 A141.5625 141.5625 0.22045112874641548 0 1 181.4554515256947,51.42596816612787 L274.6046441618697,72.30006482272042 A111.5625 111.5625 0.22045112874641548 0 0 299,75 L299,105 A141.5625 141.5625 0.22045112874641548 0 1 268.0445484743053,101.57403183387213 L174.89535583813026,80.69993517727958 A111.5625 111.5625 0.22045112874641548 0 0 150.5,78 Z\" style=\"fill: rgb(31, 119, 180);\"/><title>A → C\n2.00</title></g></g><g class=\"nodes\"><g class=\"node\" transform=\"translate(149.5,18)\"><title>A</title><text dy=\".35em\" text-anchor=\"start\" transform=\"translate(-4,-10)\" style=\"display: inline;\">A</text><line x1=\"0\" x2=\"0\" y1=\"-5\" y2=\"60\" style=\"display: inline; stroke: rgb(0, 0, 0);\"/><rect x=\"-5\" y=\"-5\" width=\"10\" style=\"fill: none; visibility: hidden; pointer-events: all;\" height=\"65\"/></g><g class=\"node\" transform=\"translate(0,75)\"><title>start</title><text dy=\".35em\" text-anchor=\"end\" transform=\"translate(-4,15)\" style=\"display: inline;\">start</text><line x1=\"0\" x2=\"0\" y1=\"0\" y2=\"30\" style=\"display: inline; stroke: rgb(0, 0, 0);\"/><rect x=\"-5\" y=\"-5\" width=\"10\" style=\"fill: none; visibility: hidden; pointer-events: all;\" height=\"35\"/></g><g class=\"node\" transform=\"translate(299,18)\"><title>B</title><text dy=\".35em\" text-anchor=\"start\" transform=\"translate(4,15)\" style=\"display: inline;\">B</text><line x1=\"0\" x2=\"0\" y1=\"0\" y2=\"30\" style=\"display: inline; stroke: rgb(0, 0, 0);\"/><rect x=\"-5\" y=\"-5\" width=\"10\" style=\"fill: none; visibility: hidden; pointer-events: all;\" height=\"35\"/></g><g class=\"node\" transform=\"translate(299,75)\"><title>C</title><text dy=\".35em\" text-anchor=\"start\" transform=\"translate(-4,-10)\" style=\"display: inline;\">C</text><line x1=\"0\" x2=\"0\" y1=\"-5\" y2=\"30\" style=\"display: inline; stroke: rgb(0, 0, 0);\"/><rect x=\"-5\" y=\"-5\" width=\"10\" style=\"fill: none; visibility: hidden; pointer-events: all;\" height=\"35\"/></g></g><g class=\"slice-titles\"/></g></svg>"
      }
     },
     "66129eb179764e3ca7d5dbc429d20ba7": {
      "model_module": "jupyter-sankey-widget",
      "model_module_version": "^0.2.3",
      "model_name": "SankeyModel",
      "state": {
       "_model_module_version": "^0.2.3",
       "_view_module_version": "^0.2.3",
       "layout": "IPY_MODEL_d944a9a6144442a3afdf56dffbee2d7f",
       "links": [
        {
         "source": "start",
         "target": "A",
         "value": 2
        },
        {
         "source": "A",
         "target": "B",
         "value": 2
        },
        {
         "source": "C",
         "target": "A",
         "value": 2
        },
        {
         "source": "A",
         "target": "C",
         "value": 2
        }
       ],
       "nodes": [
        {
         "id": "A"
        },
        {
         "id": "start"
        },
        {
         "id": "B"
        },
        {
         "id": "C"
        }
       ],
       "order": [],
       "png": "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",
       "scale": 15,
       "svg": "<?xml version=\"1.0\" standalone=\"no\"?><!DOCTYPE svg PUBLIC \"-//W3C//DTD SVG 1.1//EN\" \"http://www.w3.org/Graphics/SVG/1.1/DTD/svg11.dtd\"><svg xmlns=\"http://www.w3.org/2000/svg\" width=\"500\" height=\"200\" viewBox=\"0 0 500 200\" style=\"font-family: &quot;Helvetica Neue&quot;,Helvetica,Arial,sans-serif;\"><g class=\"sankey\" transform=\"translate(100,10)\"><g class=\"groups\"/><g class=\"links\"><g class=\"link\" style=\"opacity: 0.8;\"><path d=\"M1,75 A51.58223684210526 51.58223684210526 0.44990071222889894 0 0 23.431883461475543,69.86706629589479 L114.02183268107551,26.118225163925345 A81.58223684210526 81.58223684210526 0.44990071222889894 0 1 149.5,18 L149.5,48 A51.58223684210526 51.58223684210526 0.44990071222889894 0 0 127.06811653852445,53.13293370410521 L36.47816731892449,96.88177483607465 A81.58223684210526 81.58223684210526 0.44990071222889894 0 1 1,105 Z\" style=\"fill: rgb(31, 119, 180);\"/><title>start → A\n2.00</title></g><g class=\"link\" style=\"opacity: 0.8;\"><path d=\"M150.5,18 A0 0 0 0 0 150.5,18 L299,18 A0 0 0 0 0 299,18 L299,48 A0 0 0 0 0 299,48 L150.5,48 A0 0 0 0 0 150.5,48 Z\" style=\"fill: rgb(31, 119, 180);\"/><title>A → B\n2.00</title></g><g class=\"link\" style=\"opacity: 0.8;\"><path d=\"M300,75 A35 35 1.6001996149989017 0 1 334.98487140625235,111.02896680606624 L334.48487140625235,126.85300474199055 A35 35 1.6001996149989017 0 1 299.5,162 L299.5,132 A5 5 1.6001996149989017 0 0 304.4978387723218,125.97103319393376 L304.9978387723218,110.14699525800945 A5 5 1.6001996149989017 0 0 300,105 ZM150,132 A0 0 0 0 0 150,132 L299.5,132 A0 0 0 0 0 299.5,132 L299.5,162 A0 0 0 0 0 299.5,162 L150,162 A0 0 0 0 0 150,162 ZM150,132 A5 5 1.5748285630059902 0 1 145.0000406472671,126.97983887357769 L144.5000406472671,83.14112788495616 A5 5 1.5748285630059902 0 1 149.5,78 L149.5,48 A35 35 1.5748285630059902 0 0 114.50028453086958,83.14112788495616 L115.00028453086958,126.97983887357769 A35 35 1.5748285630059902 0 0 150,162 Z\" style=\"fill: rgb(31, 119, 180);\"/><title>C → A\n2.00</title></g><g class=\"link\" style=\"opacity: 0.8;\"><path d=\"M150.5,48 A141.5625 141.5625 0.22045112874641548 0 1 181.4554515256947,51.42596816612787 L274.6046441618697,72.30006482272042 A111.5625 111.5625 0.22045112874641548 0 0 299,75 L299,105 A141.5625 141.5625 0.22045112874641548 0 1 268.0445484743053,101.57403183387213 L174.89535583813026,80.69993517727958 A111.5625 111.5625 0.22045112874641548 0 0 150.5,78 Z\" style=\"fill: rgb(31, 119, 180);\"/><title>A → C\n2.00</title></g></g><g class=\"nodes\"><g class=\"node\" transform=\"translate(149.5,18)\"><title>A</title><text dy=\".35em\" text-anchor=\"start\" transform=\"translate(-4,-10)\" style=\"display: inline;\">A</text><line x1=\"0\" x2=\"0\" y1=\"-5\" y2=\"60\" style=\"display: inline; stroke: rgb(0, 0, 0);\"/><rect x=\"-5\" y=\"-5\" width=\"10\" style=\"fill: none; visibility: hidden; pointer-events: all;\" height=\"65\"/></g><g class=\"node\" transform=\"translate(0,75)\"><title>start</title><text dy=\".35em\" text-anchor=\"end\" transform=\"translate(-4,15)\" style=\"display: inline;\">start</text><line x1=\"0\" x2=\"0\" y1=\"0\" y2=\"30\" style=\"display: inline; stroke: rgb(0, 0, 0);\"/><rect x=\"-5\" y=\"-5\" width=\"10\" style=\"fill: none; visibility: hidden; pointer-events: all;\" height=\"35\"/></g><g class=\"node\" transform=\"translate(299,18)\"><title>B</title><text dy=\".35em\" text-anchor=\"start\" transform=\"translate(4,15)\" style=\"display: inline;\">B</text><line x1=\"0\" x2=\"0\" y1=\"0\" y2=\"30\" style=\"display: inline; stroke: rgb(0, 0, 0);\"/><rect x=\"-5\" y=\"-5\" width=\"10\" style=\"fill: none; visibility: hidden; pointer-events: all;\" height=\"35\"/></g><g class=\"node\" transform=\"translate(299,75)\"><title>C</title><text dy=\".35em\" text-anchor=\"start\" transform=\"translate(-4,-10)\" style=\"display: inline;\">C</text><line x1=\"0\" x2=\"0\" y1=\"-5\" y2=\"30\" style=\"display: inline; stroke: rgb(0, 0, 0);\"/><rect x=\"-5\" y=\"-5\" width=\"10\" style=\"fill: none; visibility: hidden; pointer-events: all;\" height=\"35\"/></g></g><g class=\"slice-titles\"/></g></svg>"
      }
     },
     "87e8ef35c06d40a496967c565784d29b": {
      "model_module": "jupyter-sankey-widget",
      "model_module_version": "^0.2.3",
      "model_name": "SankeyModel",
      "state": {
       "_model_module_version": "^0.2.3",
       "_view_module_version": "^0.2.3",
       "layout": "IPY_MODEL_93772c7f8cd44377853e5b1c2b045225",
       "links": [
        {
         "source": "start",
         "target": "A",
         "value": 2
        },
        {
         "source": "A",
         "target": "B",
         "value": 2
        },
        {
         "source": "C",
         "target": "A",
         "value": 2
        },
        {
         "source": "A",
         "target": "C",
         "value": 2
        }
       ],
       "nodes": [
        {
         "id": "C"
        },
        {
         "id": "B"
        },
        {
         "id": "start"
        },
        {
         "id": "A"
        }
       ],
       "order": [],
       "png": "iVBORw0KGgoAAAANSUhEUgAAAfQAAADICAYAAAAeGRPoAAAayklEQVR4nO3dfZAc1Xku8Fd8WVKIEFhr7c70OY0TyA0YDDay8QeOhRE2MnKQDbJlDEiOxDpXoJjVznnPLJbtAeOY74j4I9gBVrEh4LXCauY9PdrFslcmIJC8VUnudd1/7q26t27KuUmFqlRyr6/tfFj5o1dkLVbaD/XM29Pz/KqeKrRCqz49fc6jnu3pJgIAAAAAAAAAAAAAAAAAAAAAAAAAAAAAAAAAAAAAAAAAAAAAAAAAAAAAAAAAAAAAAOhOw0R0hIg+o70hAAAAsDCLiegfieifiehHytsCAAAAC/QxIvoFEX2W0rP0i3U3BwAAABYiENEEES0nop8T0e/rbg4AAADM1wpK32rfMvXrhIj+p97mAAAAwELcTkQ/I6Kzpn69idK33d+htkUAAAAwb4cofct9+VTOJaJ/IaJHFLcJAAAA5uF8Ss/GZ8r/IaJT9TYNAAAA5uouIvp/RPQ+Ilo9LRVKS/0qpe0CAACAefgfRPTMDF9fSkT/n4gea+/mAAAAwHy9i9Kz8OuP8/t1IvoHIjqjbVsEAAAA8/Y1St9uX0ppsR9r89TXr2vjNgEAAMBJmKnQAQAAoMOg0AEAAAoAhQ4AAFAAKHQAAIDcqQ0v7uNwQdnXr7W+eatxjYpl+bxlud9w+KrlsNv6xh7jGvssy/NEdMRy6Lc+TCJIFvnVVet/TEQ15ZkAANAhasOLe4f2XlgeStZFPmy3XnZZFpnv4ksodCTjoNABAE7oyKJoILnY+sanLMtu6+VwFosvodCRjINCBwA4xvLaxPKSlw9ZL1+KOTnQisWXUOhIxkGhAwAQUe9Qs2fqLPzJdiy+hEJHMg4KHQC62JFFxoX3RF52ZfVW+lxDKHQk46DQAaDrnLO9ucy4ZLP1ErQWX0KhIxkHhQ4AXaO8I/kNy1KLORzUXnwJhY5kHBQ6ABSeGWy8zfrkUe0Fd3oIhY5kHBQ6ABSW9fuusC4May+0M4VQ6EjGOUGh/yWldyacnp8S0SEiuqpN0xEAYL6OLLKVsCZ28pT2AnuiEAodyTizFPpfENFNU7mFiCpE9L+J6OdE9Mb2zE0AgDmpnRI5+aD1jT3aC+tcQih0JOPMUuhhhq+/m9Kz9e2tm5cAAHO1euK0qCIftix17QV1PiEUOpJxFlDob6K00Le0boICAMymNnKG8WGjYWlqL6QLCaHQkYwzS6GPEdHyqZxDRBdPfe1vpr4GANBm/bLUuGSz5fCc9gJ6MiEUOpJx5nlR3NHc1qaZCwCQ6tk2cqbl0G85fF974cwihEJHMs4shf4SEa2eluuI6HFCqQNAuyyvTSyPfNhuWZ7XXjCzDKHQkYyzgJ+hExEJpVe7AwC0RmlQVhgfKpbDC9oLZStCKHQk4yyw0B8ion8lokWtmckA0LUM10vGyc6Y5SXtBbKVIRQ6knEWUOivm/q9H7VuRgNA1+kbTGLD4W7Lckh7YWxHCIWOZJxZCv2viGjrtFSJaJLSn6F/tD2zHAAKLRqon2e93Gc5/FB7QWxnCIWOZJx5XuX+E0pv/Xp9m6Y6ABRVH4cLrJdd2ougVgiFjmQcPJwFANrKcLLKupCrJ59phFDoSMZBoQNAW1gvV8QsT2gvenkJodCRjINCB4CWiqvN98UcntRe7PIWQqEjGQeFDgAtcGRR5JtrLct3tBe5vIZQ6EjGQaEDQHZWT5xmWNYbH/ZqL255D6HQkYyDQgeAk1cbOcNUwkbLIdFe1DolhEJHMg4KHQAWrjax2Hq5pdOffKYRQqEjGQeFDgDz1rNt5Ezrm7cW5clnGiEUOpJxUOgAMGfLaxPLI5bfs9wo5ANTskrs5Cnrw12Gw2dKXtj48EXL4RuWw7ctS2I4OUBER6xv3mp9mIxZDlgv45ZFrG/siZ08ZV0YNk6+Zlnuj12y03K4I3bhd2w1bIhc/Rrr6u+OnJyvfUwAAEAHKQ3KCuMaFe2izG2q8ogZlPWW910Vefm0dWF4tj9DWZ2hsxwyTp41nDwUsdxe9vVre4f2Xki1icXaxw0AAOREjxvpNS7cWfQnn803MScHYg732GpYQ7c9+/oyN2+IWZ6ez/egVr/lzuGHhmXUevmS5bApqiSXn7O9uUz7mAIAgDbqG0xi68NdsQ8va5dnzvKt8lCyjvonT+/ZNnKm5dC/0OsISO9n6MFweDDmxpaoklxO/bJU+3gDAICMRQP18yyHe62Xwzkoz1wkZnnJOPlCNJBcfHQ/xdzYYlmeP5nvS7m5KE4OW5ZnjAt3loeSdX2DSax4CAIAwMno43CB8eFh/XLJUVieNxy2nVUNZx/dT+WKvDOrm+ZQbgp9xpL/nvWyK+bGFjPYeBsNHFyieHgCAMBs+ri+yjj5mn6B5CmyP3aylbaNnPnqjho4uMRwuDvLv4dyXeiv2SeHY5anLctQ2TXWlbxYvaMWAABeVfLhXcaHx/WLIkfhMGZ9uOnYq8NXVsYvsl4aWf991FGFPlNkf+Rll2H5ZB/XV1FtGFfVAwC0S8zhSsuCJ5/9cjEFWw0bqH/y9GP3l62ENbGTllwYSB1f6MeE5VD6+XupRk4+WOZmpHCIAwAU2ZFFkUuusT6MqC/6OYphGTWV5DraMHLqTHvNcthkOfywVX8/Fa3QZwrLfuPDw8Ylm/uq4TKcxQMALMSGkVPNoKw3Dk8+Oybfjlz9GqIji4636wyHba3eDuqGQj82LIdiDk9aDj7yzbXl7TiLBwA4vtrIGdY3Pmp9COoLeL7yragqq2fbfcaHje3YHurGQp853zWcPGRcsrnkxt5K25uva/0kKaRTiGgrEb1ERP9ERD8lov9KRJ6IXvPjJADIs9rEYsuNm62X8Rws0rmJ4fBYuSLvnMsuLHH47XZtF6HQZ0zsw8vpdR7CkUuuiQak3OKZUwSnENEeIjpCRBOUljgT0SgR/YKIxohoxh8tAUCebBs5M64mW9PPDusvyHmJ4fDVvmq4bK67MXJyfqsugJsphEKfR2TccHjQcthUqjbfQrWRM1o4ozrRDkrLfHCG3/udqd/7VFu3CADm7pztzWURy+0xJwf0F9z8xPjwcB+HC+a1M/tlaSs+mnaiEAp9wZm6JfG3jA8VMxg+sOLOsb7WzLKOsIiI/oaIDp7g//kzIrq/PZsDAHNWGpQVpiI78AjT6ZHDlsO90UD9vIXs05jDPe3eZkKhZxsOY8aFByw3bi670Uu76Cz+QkrPwFl7QwBgjnrcSK9lGcKTz/4jsQ8v26rUTuYzz+UdconGthMKvbXHhpOXrZc/Ma5RMU7e3+OS3gynY55cTWmh36C9IQAwizI3I1uVGp58Nm2xZnnJsgz1uJGTXKRrp1jf2KMxBkKhtz2GZcyy3G99uKm8Qy6Z6WZCHehKSgt9o/aGAMBx4MlnM4QbLxiuD5YGZUUm+9g1rtcaC6HQ1RM7edly2G24Pmi5fvXJ/wNRxX+itNCHTvD/3EREt7dncwDgVXjy2QwLLycHIpbbl9cmlme2ozeMnGpYxrTGRCj0XMa4xj7r5T5bqd8UVepv7oCz+EVE9LdE9BdT/32sJUT090Q03M6NAuhqJTf2VsPhq9oLWr4i34uryS8/+SwjppJcpzk2QqF3RKZ+vLPbVGSHrYY1b/h0fWXWx2IGPkPpWfpMZ+EPE9G/EdG72rpFAN3Iuvq7Y5YntBeuXIXDc1ElufHYJ59lybCMao6RUOgdG8PStBzujSrJjSsr4xdRbeK0Vh2nc3Q6ET1HaanvJ6KdU3lh6mtf0Ns0gKK7efxXjEs+bpw8q7045SzBOPlYqz9ypHVl+/QQCr0wiTkcjFmesBzusCxXZXWNxzydRukd4f6OiH5G6e1ff0C4+h2gNaKB+nmGG5/BZ8h/OcaFvWZQ1h/vyWdZs16q2mMmFHrRE6yXLxmXfHxlJbTrLP7zRFRrw98D0IX6ZWnkGu+1Xthw+LMcLDJ5y0jkkhM++awVLIfva4+dUOhdl5jlCeOSgcg31/YNJnELDm0UOkBWequj59pKWGNYfte6MKy9gOQ2nDxjq2GNxmsUDSQXq4/fo9CRMBmzHLAsfxSx3G5Y1pe58Y6SF3sShzcKHWBOaiNnRANSXlkZv8gMJr9lBmW9Yfmk9eGumMOT2otDR4Rld+Qa79V8GWNubFHfDx6FjswSDmPGh8cNhweNk53GyW1RJbkx8s21USW5PBpILo6cnF/asdeUBmVFT/pJEBQ6wCw+T0Q19QnewTFOvtbH9VXaLyQRkWX5I+39YT0KHck+v7pq/Y+JqBb78KJxjX2Wk2esC4/GLtlpOWyKXOO9eBwtdDsU+gITedk17yeftZhl+XPt/WI9Ch3JPkcLfdb/l8NzhpOHjA8bz9neXKY9JwHaCYU+r5zck89aadnAyDn6+ycNodCRjDPnQj82LPeXK/JO7fkJ0A4o9LktCoesD3e16OrdTJRdcqnufpJGXE229ky/811tYvHy2sTyFXeO9cWV8Tf2Du29sFRtviWuNt8XcfhIzI0txjUqMYd70jsJyp7YhxfVX28kd1lwoR8Ny3eMk/frzVCA1kOhnyAxy0vGhTs74cEWZddYp7WfDMtolveiXzYwcs7KSrjIVsMa6+UW4+QL+Ghkd+ekC30qxsmzMYcrszpWAfIEhT5TOLxgXKOidFesBbHVsEFtf1XDr7VlkAMHlxhOVlkOm6yX+yyHRP1YQdqSrAr9PyK7cBEdFA0KfXo4/CDzJ5+1ifVyi8o+q8ojmuMuDcoKy3KV5XBHzPJEzOGg+nGEZJ7sCz29ra3l+tWaxy9AllDoPkymd1dr3trTgieftYv1zVs19l3Ekq9nUdcmTltZGb8oqiQ3Wg734iy+GGlFoR9N5OXT7b6jI0ArdHehc3jOctjUyieftUtcTbYq7cN+7bHPZmVl/A22EtYYlwxYF4ZjlpfUjz1kXmlloVsfJg2HL9PAwSXaxyoU20YiuqWF36c7C51DYiphY6uffNZOWneJMyy/qz32eeufPD2q1N9sK/WbrJf7jGvsUz8mkROm1YU+lZHeoWaP9uEJxbWX0mcAt+r7dFWhGx/2Gpb1tFr9Gc+ZMy7ZrLJPOWzTHnsWetxIr+X61Ybrg5bDbpzF5yttKvRJy+G5uDL+Ru3jEYrpZAt9EaXPEu7uQmf5TuSba4lqp5zEvsw1rYviIh+2a4+9JfonT596tvxNluV+wzKmfhx3cdpW6D5MGtfY10mfcIH8uIiIxonoH4non4ioQURH/3X4l0R0ZFpWENFiIvoDIvprIvopEf13IvocpcV91CtE9HtE9HUi+gkR/bcZvs9RhS70mMOTluWq7F+2/EnfPlbYzxzu0B57u/S4pNc4eb9xjYr18iexk5e1j/FuSTsLPY3soX5Zqn3MQedYTGkxByL6IBHdSER/RUT/hdKCvpCIDhDRISJaRemZ9leI6O+J6FYiWkNpIf8bEU2/MOkVIvq7qT/7n4nobTN8n6MKWegxyxPWyxWZv2I5ZlzycY19bSqyQ3vsavonTy+70UstN242LjxgOeAsvkVpf6GHSePDw9qHGHSOt1B6xjz9DPLNRLSHiM6a+vWxb5UnlJb0dIeI6I+n/foVIvoREZ067Wvd8Za7C48aTnLx5LN2M04+prHPjQ8V7bHnyYo7x/rMYPiA8aFiWb4Z+4Cz+AyiUejWh8kyN2/QPqagMyyj9Gz7fxFRhYguo19+65xo5iI+hYguIKJriWgHEf1fIto97fdfIaJ75/B9iApT6Pl78lm7lVluUNr3rD32XKuNnJHeZ19uMU4etF7G9edL50Wr0GMfXix5sdqHEXSG84noCUqL/QgR/S2l5X7UsUW8edr/+2NKz9j/ml5b6DuP+XuKV+gcfmi93JfHJ59piDh8ROd1kCHtsXeaaEDKkUuusV7YsjyJs/jZo1Xo6TEevq59zEBnWUREl1D6M/IjRLR66uvTi/g3iOhfiegbRPT6aX/2MHVTobMcMhzuzvOTzzSYQVmv8XoYJ8ceazBf25uvK7mxtxqXbDacPGQ5PKc+z3IW1UL3YbLbrsmB+dtC6VXo0+9StoSIfkFEn5j69fQiXk9p2U9/a3kZpVfI7572tUIWevrkM9lpuF6a/64uvpKXD6m8Li5BobdAeXszinxzreXgpz6tcUh7DmpGvdBZvqN9TEC+9VL6UbUxIvowpVe6j1Ja0EdL65uUvqV+HaVvz/+ciIaJ6GIiWkfpBXGvENF3p74f0cyFPv37TL87Wv4LncMLxoeOevKZBrXHp7LUtMfeFWrDi/uq4TLjks3Gh4etD99Vn5ttjHqh+zCJ56nDbK6m9C3znxHRPxDRBBFdPu33V1P6EbSfENHZRHQ9pZ89/ymlZX4dEX186ve/OPVnZir0Y7/PUfktdJbnIx+2d+KTzzREvrlWZZHjcLf22LtVmZtR5OSD1ks1dvJUkc/i81DoMcvT2q85wInkr9A5fN/6xqc6+clnGoyT9+ssco17tMcOU2rDi/u4vsqwfNJw4w+sl/3q8zmj5KHQrQ+TEcvbtV9mgOPJUaHLuOWwCXdnWhhbDWuUXrcvaY8djq+0Y68p+/q11ks15safdupZfF4K3Tj5gvZrCnA8OSh0adhq2FCkJ59piKvN9ym9fvdpjx3mYeDgEjPYeFv6dD7ZZb18T7sk55K8FLrl8AOqFe/hTlAMKoUesxywrvG5qJJcTnTk2JvpwAJEldHVGguccfKg9tjh5PQNJnF5KFlnXLjTsjxjvRxWL868FroPk1FldLX2awYwk7YWesyNe2IOV2oPuoiMC+9RKXTc77p4+mVpxPL22MlWW5VH0utaUOivHvO49wLkVEsLPWZ5yXDykBkMH6Da8OJZtwYWzLr6u3UWONmlPXZovXOr+84tcfhty8FbDru7vNCf1X49AGaSbaGz7Dc+PGxcsrnkxt5K25uv0x5gtyhz8x0qixuHL2uPHTTUTjFu9NfLrrHOuEbFcOMxy/J8NxS69WES98WAPFp4obMcirnxp9ZLtezr15Z27DXag+lmEcvbVQrdyVe0xw75URqUFeUdcknkm2vjarLVsnzecvi69RJO5mfzeSt0/Bwd8ui4hW5YxqwLw8aFB4wPFevllsjVrym75FLcfjV/+ri+SmVxc+FR7bFD5+gdavb0cbjAernCsKyPq8lW66VqODxoWf7YsnzTcvKMcWGvYWlaL/sty5/nrdAth03a+xIACip9RKfKwoYnUUFblXx4V/ooWr1Cjzl8Vns/AEBBlXfIJRoLm+HGY9pjh+4UsXxCr9TlG9rjB4CCWlkZv0il0H14XHvs0L3UztQ5eUZ77ABQUL2+8SadhS3s1h47dK++arhM5R+yLGPaYweAgioNyW+qFLoP39IeO3Svnm0jZ2oc97EPL2qPHQAKKnJyvsrCxuFJ7bFDd1P6h+yk9rgBoKCigfp5KgsbC36WCHpqE4txhg4AhRJXxt+odKYyoj126F5n+++epVLoTia0xw4ABdU3mMQ6hS57tMcO3at3qNmjctxzwEVxANAaZW5GGgubYRnVHjt0r/J2nePeemlojx0ACspwvaRzpiJ17bFD97LV8Gs6hd7AO1MA0Bo9bqRX6UwlaI8dupfWxzVjJ09pjx0ACkrrZ4mGpak9duheWrc8ti4Ma48dAAqqNCgrlAodFweBGq3HBluf4CmDANAaZ1XD2SoLG4fntMcO3cv6fVeoHPdVeUR77ABQUFqfx7Ve9muPHbqXZblK47g3LjygPXYAKCi1e1rjBhugKPLNtSrHPYd7tMcOAEXVL0tVztA5/EB76NC9zKCsVznuXeNz2mMHgKKqDavc09py4wXtoUP3sr7xUZXj3ktVe+wAUFT9k6drLGwxh4PaQ4fuZX24SeO4Ny4Z0B47ABTVhpFTVQrdh5e1hw7dK+bGFp1Cl9u0xw4ABaaxsFmP50KDHlMJG1X+IVtNtmqPHQAKLHbyskqhDxxcoj126E6G5ZMq/5Dlxs3aYweAArNevqexuJV3yCXaY4fuZFl+X+OYj1zjeu2xA0CBWS9BY3EzTh7UHjt0n2hAyipn5z5MRi65Rnv8AFBg1odvay1wxiWbtccPXeTm8V8xPjyudbxbL1do7wIAKDDjwgN6C1x6pl7y8qEeN9KrvS+guAzLessh0TzWS16s9n4AgAKLWG7XXOQQpDsih4mOLNKe7wBQYOWhZJ3+Yocghc+I9lwHgII7t7rv3BwsdghS6MQcPqs91wGgC1gv+7UXPAQpcsqusU57ngNAFzAcHtRe8BCkyIkGpKw9zwGgC9hq2KC94CFIUWOcPKs9xwGgSywbGDlHe9FDkKIG91sAgLYyHL6svfAhSPEih5ffMbpce34DQBeJXP0a/cUPQYoV48ID2nMbALqQZRHtBRBBipSyG71Ue14DQBeKOHxEewFEkKIkZnlae04DQBezPqg8fQ1BipaoKqu15zMAdDFbCWu0F0IE6fQYJ1/RnssAAGS9fEN7QUSQjg2HF3qHmj3a8xgAgIwb/XX1RRFBOjXVsEF7DgMAvMo4+Zj6woggHZfkUe25CwDwGtbLLv0FEkE6IzEnB0qDskJ73gIAvEbPtpEzrQ/f1l4oEaQTElVGV2vPWQCA4zqrGs42PuzVXiwRJM8xleQ67bkKADCrN3y6vtJ6wefTEWSmcOjXnqMAAHNWvu3Z18dOnlJfPBEkN5HDEcsntOcmAMD81YYXGw5f1V9IEUQ3sQ8vWr/vCu0pCQBwUiyHfu0FFUG0YljGIifna89DAIBMlN3opYZlTHtxRZC2xoXh5bUJPN8cAIqlZ9vImYbD3eqLLIK0I7j4DQCKLuZwpfWyX33BRZAWxHDyUI9LerXnGQBAe/TL0jLLDTHL09oLMIJklD9cWRm/SHtqAQCoKe+QS2KX7LQcXsjBoowgcw+H7xsnO0uD8pva8wgAID8GDi6JKvJhy+Fe4xr71BdrBDkmsQ8vGm48ZpzcVnbJpdpTBgCgI/S4pNe48B7r5ZbYJTutC49aTp5B2SPtizRiH75ofNjY6xtv0p4TAAAAAAAAAAAAAAAAAAAAAAAAAAAAAAAAAAAAAAAAAAAAAAAAAAAAAAAAAAAAAAAAAAAAAAAAAAAAAAAAAAAAAAAAAAAAAAAAAAAAAAAAAAAAAAAAAAAAAAAAAAAAAAAAAAAAAAAAAAAAAAAAACfy75LzNEjWYwl8AAAAAElFTkSuQmCC",
       "scale": 15,
       "svg": "<?xml version=\"1.0\" standalone=\"no\"?><!DOCTYPE svg PUBLIC \"-//W3C//DTD SVG 1.1//EN\" \"http://www.w3.org/Graphics/SVG/1.1/DTD/svg11.dtd\"><svg xmlns=\"http://www.w3.org/2000/svg\" width=\"500\" height=\"200\" viewBox=\"0 0 500 200\" style=\"font-family: &quot;Helvetica Neue&quot;,Helvetica,Arial,sans-serif;\"><g class=\"sankey\" transform=\"translate(100,10)\"><g class=\"groups\"/><g class=\"links\"><g class=\"link\" style=\"opacity: 0.8;\"><path d=\"M1,75 A51.58223684210526 51.58223684210526 0.44990071222889894 0 0 23.431883461475543,69.86706629589479 L114.02183268107551,26.118225163925345 A81.58223684210526 81.58223684210526 0.44990071222889894 0 1 149.5,18 L149.5,48 A51.58223684210526 51.58223684210526 0.44990071222889894 0 0 127.06811653852445,53.13293370410521 L36.47816731892449,96.88177483607465 A81.58223684210526 81.58223684210526 0.44990071222889894 0 1 1,105 Z\" style=\"fill: rgb(31, 119, 180);\"/><title>start → A\n2.00</title></g><g class=\"link\" style=\"opacity: 0.8;\"><path d=\"M150.5,18 A0 0 0 0 0 150.5,18 L299,18 A0 0 0 0 0 299,18 L299,48 A0 0 0 0 0 299,48 L150.5,48 A0 0 0 0 0 150.5,48 Z\" style=\"fill: rgb(31, 119, 180);\"/><title>A → B\n2.00</title></g><g class=\"link\" style=\"opacity: 0.8;\"><path d=\"M300,75 A35 35 1.6001996149989017 0 1 334.98487140625235,111.02896680606624 L334.48487140625235,126.85300474199055 A35 35 1.6001996149989017 0 1 299.5,162 L299.5,132 A5 5 1.6001996149989017 0 0 304.4978387723218,125.97103319393376 L304.9978387723218,110.14699525800945 A5 5 1.6001996149989017 0 0 300,105 ZM150,132 A0 0 0 0 0 150,132 L299.5,132 A0 0 0 0 0 299.5,132 L299.5,162 A0 0 0 0 0 299.5,162 L150,162 A0 0 0 0 0 150,162 ZM150,132 A5 5 1.5748285630059902 0 1 145.0000406472671,126.97983887357769 L144.5000406472671,83.14112788495616 A5 5 1.5748285630059902 0 1 149.5,78 L149.5,48 A35 35 1.5748285630059902 0 0 114.50028453086958,83.14112788495616 L115.00028453086958,126.97983887357769 A35 35 1.5748285630059902 0 0 150,162 Z\" style=\"fill: rgb(31, 119, 180);\"/><title>C → A\n2.00</title></g><g class=\"link\" style=\"opacity: 0.8;\"><path d=\"M150.5,48 A141.5625 141.5625 0.22045112874641548 0 1 181.4554515256947,51.42596816612787 L274.6046441618697,72.30006482272042 A111.5625 111.5625 0.22045112874641548 0 0 299,75 L299,105 A141.5625 141.5625 0.22045112874641548 0 1 268.0445484743053,101.57403183387213 L174.89535583813026,80.69993517727958 A111.5625 111.5625 0.22045112874641548 0 0 150.5,78 Z\" style=\"fill: rgb(31, 119, 180);\"/><title>A → C\n2.00</title></g></g><g class=\"nodes\"><g class=\"node\" transform=\"translate(299,75)\"><title>C</title><text dy=\".35em\" text-anchor=\"start\" transform=\"translate(-4,-10)\" style=\"display: inline;\">C</text><line x1=\"0\" x2=\"0\" y1=\"-5\" y2=\"30\" style=\"display: inline; stroke: rgb(0, 0, 0);\"/><rect x=\"-5\" y=\"-5\" width=\"10\" style=\"fill: none; visibility: hidden; pointer-events: all;\" height=\"35\"/></g><g class=\"node\" transform=\"translate(299,18)\"><title>B</title><text dy=\".35em\" text-anchor=\"start\" transform=\"translate(4,15)\" style=\"display: inline;\">B</text><line x1=\"0\" x2=\"0\" y1=\"0\" y2=\"30\" style=\"display: inline; stroke: rgb(0, 0, 0);\"/><rect x=\"-5\" y=\"-5\" width=\"10\" style=\"fill: none; visibility: hidden; pointer-events: all;\" height=\"35\"/></g><g class=\"node\" transform=\"translate(0,75)\"><title>start</title><text dy=\".35em\" text-anchor=\"end\" transform=\"translate(-4,15)\" style=\"display: inline;\">start</text><line x1=\"0\" x2=\"0\" y1=\"0\" y2=\"30\" style=\"display: inline; stroke: rgb(0, 0, 0);\"/><rect x=\"-5\" y=\"-5\" width=\"10\" style=\"fill: none; visibility: hidden; pointer-events: all;\" height=\"35\"/></g><g class=\"node\" transform=\"translate(149.5,18)\"><title>A</title><text dy=\".35em\" text-anchor=\"start\" transform=\"translate(-4,-10)\" style=\"display: inline;\">A</text><line x1=\"0\" x2=\"0\" y1=\"-5\" y2=\"60\" style=\"display: inline; stroke: rgb(0, 0, 0);\"/><rect x=\"-5\" y=\"-5\" width=\"10\" style=\"fill: none; visibility: hidden; pointer-events: all;\" height=\"65\"/></g></g><g class=\"slice-titles\"/></g></svg>"
      }
     },
     "93772c7f8cd44377853e5b1c2b045225": {
      "model_module": "@jupyter-widgets/base",
      "model_module_version": "1.0.0",
      "model_name": "LayoutModel",
      "state": {
       "height": "200",
       "width": "500"
      }
     },
     "c1c84cfed01b41749b71c473730ba623": {
      "model_module": "jupyter-sankey-widget",
      "model_module_version": "^0.2.3",
      "model_name": "SankeyModel",
      "state": {
       "_model_module_version": "^0.2.3",
       "_view_module_version": "^0.2.3",
       "layout": "IPY_MODEL_d944a9a6144442a3afdf56dffbee2d7f",
       "links": [
        {
         "source": "start",
         "target": "A",
         "value": 2
        },
        {
         "source": "A",
         "target": "B",
         "value": 2
        },
        {
         "source": "C",
         "target": "A",
         "value": 2
        },
        {
         "source": "A",
         "target": "C",
         "value": 2
        }
       ],
       "nodes": [
        {
         "id": "A"
        },
        {
         "id": "start"
        },
        {
         "id": "B"
        },
        {
         "id": "C"
        }
       ],
       "order": [],
       "png": "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",
       "scale": 15,
       "svg": "<?xml version=\"1.0\" standalone=\"no\"?><!DOCTYPE svg PUBLIC \"-//W3C//DTD SVG 1.1//EN\" \"http://www.w3.org/Graphics/SVG/1.1/DTD/svg11.dtd\"><svg xmlns=\"http://www.w3.org/2000/svg\" width=\"500\" height=\"200\" viewBox=\"0 0 500 200\" style=\"font-family: &quot;Helvetica Neue&quot;,Helvetica,Arial,sans-serif;\"><g class=\"sankey\" transform=\"translate(100,10)\"><g class=\"groups\"/><g class=\"links\"><g class=\"link\" style=\"opacity: 0.8;\"><path d=\"M1,75 A51.58223684210526 51.58223684210526 0.44990071222889894 0 0 23.431883461475543,69.86706629589479 L114.02183268107551,26.118225163925345 A81.58223684210526 81.58223684210526 0.44990071222889894 0 1 149.5,18 L149.5,48 A51.58223684210526 51.58223684210526 0.44990071222889894 0 0 127.06811653852445,53.13293370410521 L36.47816731892449,96.88177483607465 A81.58223684210526 81.58223684210526 0.44990071222889894 0 1 1,105 Z\" style=\"fill: rgb(31, 119, 180);\"/><title>start → A\n2.00</title></g><g class=\"link\" style=\"opacity: 0.8;\"><path d=\"M150.5,18 A0 0 0 0 0 150.5,18 L299,18 A0 0 0 0 0 299,18 L299,48 A0 0 0 0 0 299,48 L150.5,48 A0 0 0 0 0 150.5,48 Z\" style=\"fill: rgb(31, 119, 180);\"/><title>A → B\n2.00</title></g><g class=\"link\" style=\"opacity: 0.8;\"><path d=\"M300,75 A35 35 1.6001996149989017 0 1 334.98487140625235,111.02896680606624 L334.48487140625235,126.85300474199055 A35 35 1.6001996149989017 0 1 299.5,162 L299.5,132 A5 5 1.6001996149989017 0 0 304.4978387723218,125.97103319393376 L304.9978387723218,110.14699525800945 A5 5 1.6001996149989017 0 0 300,105 ZM150,132 A0 0 0 0 0 150,132 L299.5,132 A0 0 0 0 0 299.5,132 L299.5,162 A0 0 0 0 0 299.5,162 L150,162 A0 0 0 0 0 150,162 ZM150,132 A5 5 1.5748285630059902 0 1 145.0000406472671,126.97983887357769 L144.5000406472671,83.14112788495616 A5 5 1.5748285630059902 0 1 149.5,78 L149.5,48 A35 35 1.5748285630059902 0 0 114.50028453086958,83.14112788495616 L115.00028453086958,126.97983887357769 A35 35 1.5748285630059902 0 0 150,162 Z\" style=\"fill: rgb(31, 119, 180);\"/><title>C → A\n2.00</title></g><g class=\"link\" style=\"opacity: 0.8;\"><path d=\"M150.5,48 A141.5625 141.5625 0.22045112874641548 0 1 181.4554515256947,51.42596816612787 L274.6046441618697,72.30006482272042 A111.5625 111.5625 0.22045112874641548 0 0 299,75 L299,105 A141.5625 141.5625 0.22045112874641548 0 1 268.0445484743053,101.57403183387213 L174.89535583813026,80.69993517727958 A111.5625 111.5625 0.22045112874641548 0 0 150.5,78 Z\" style=\"fill: rgb(31, 119, 180);\"/><title>A → C\n2.00</title></g></g><g class=\"nodes\"><g class=\"node\" transform=\"translate(149.5,18)\"><title>A</title><text dy=\".35em\" text-anchor=\"start\" transform=\"translate(-4,-10)\" style=\"display: inline;\">A</text><line x1=\"0\" x2=\"0\" y1=\"-5\" y2=\"60\" style=\"display: inline; stroke: rgb(0, 0, 0);\"/><rect x=\"-5\" y=\"-5\" width=\"10\" style=\"fill: none; visibility: hidden; pointer-events: all;\" height=\"65\"/></g><g class=\"node\" transform=\"translate(0,75)\"><title>start</title><text dy=\".35em\" text-anchor=\"end\" transform=\"translate(-4,15)\" style=\"display: inline;\">start</text><line x1=\"0\" x2=\"0\" y1=\"0\" y2=\"30\" style=\"display: inline; stroke: rgb(0, 0, 0);\"/><rect x=\"-5\" y=\"-5\" width=\"10\" style=\"fill: none; visibility: hidden; pointer-events: all;\" height=\"35\"/></g><g class=\"node\" transform=\"translate(299,18)\"><title>B</title><text dy=\".35em\" text-anchor=\"start\" transform=\"translate(4,15)\" style=\"display: inline;\">B</text><line x1=\"0\" x2=\"0\" y1=\"0\" y2=\"30\" style=\"display: inline; stroke: rgb(0, 0, 0);\"/><rect x=\"-5\" y=\"-5\" width=\"10\" style=\"fill: none; visibility: hidden; pointer-events: all;\" height=\"35\"/></g><g class=\"node\" transform=\"translate(299,75)\"><title>C</title><text dy=\".35em\" text-anchor=\"start\" transform=\"translate(-4,-10)\" style=\"display: inline;\">C</text><line x1=\"0\" x2=\"0\" y1=\"-5\" y2=\"30\" style=\"display: inline; stroke: rgb(0, 0, 0);\"/><rect x=\"-5\" y=\"-5\" width=\"10\" style=\"fill: none; visibility: hidden; pointer-events: all;\" height=\"35\"/></g></g><g class=\"slice-titles\"/></g></svg>"
      }
     },
     "d944a9a6144442a3afdf56dffbee2d7f": {
      "model_module": "@jupyter-widgets/base",
      "model_module_version": "1.0.0",
      "model_name": "LayoutModel",
      "state": {
       "height": "200",
       "width": "500"
      }
     }
    },
    "version_major": 2,
    "version_minor": 0
   }
  }
 },
 "nbformat": 4,
 "nbformat_minor": 4
}
