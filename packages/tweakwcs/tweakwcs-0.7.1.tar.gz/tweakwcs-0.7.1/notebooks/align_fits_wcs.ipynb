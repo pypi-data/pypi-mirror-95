{
 "cells": [
  {
   "cell_type": "markdown",
   "metadata": {},
   "source": [
    "# Aligning HST ACS/HRC Images Using `tweakwcs`"
   ]
  },
  {
   "cell_type": "markdown",
   "metadata": {},
   "source": [
    "***\n",
    "## About this Notebook\n",
    "**Author:** Mihai Cara, STScI\n",
    "<br>**Initial version on:** 11/20/2018\n",
    "<br>**Updated on:** 02/07/2019"
   ]
  },
  {
   "cell_type": "markdown",
   "metadata": {},
   "source": [
    "***\n",
    "## Introduction\n",
    "\n",
    "Often the World Coordinate System (WCS) of images may contain small errors. These alignment errors in the WCS of the images need to be removed before images can be further processed, e.g., before they can be combined into a mosaiced image. The images are said to be aligned (in a relative sense) _on the sky_ when image coordinates _of the same object_ (present in several images) can be converted aproximately the same sky coordinates (using appropriate image's WCS).\n",
    "\n",
    "In this notebook we illustrate how to create source catalogs using `photutils` package and then how to match sources from image catalogs and find aligned `WCS` using `tweakwcs` package."
   ]
  },
  {
   "cell_type": "markdown",
   "metadata": {},
   "source": [
    "***\n",
    "## Imports"
   ]
  },
  {
   "cell_type": "code",
   "execution_count": null,
   "metadata": {},
   "outputs": [],
   "source": [
    "import shutil\n",
    "import glob\n",
    "import os\n",
    "import sys\n",
    "import logging\n",
    "\n",
    "import matplotlib.pyplot as plt\n",
    "from astropy.io import fits\n",
    "from astropy.nddata import NDData\n",
    "from astroquery.mast import Observations\n",
    "from photutils import detect_threshold, DAOStarFinder\n",
    "\n",
    "from stwcs.wcsutil import HSTWCS\n",
    "from drizzlepac import updatehdr\n",
    "\n",
    "from tweakwcs import fit_wcs, align_wcs, FITSWCS, TPMatch, WCSImageCatalog"
   ]
  },
  {
   "cell_type": "markdown",
   "metadata": {},
   "source": [
    "***\n",
    "## Setup Logging\n",
    "\n",
    "Add basic support for loging to `stdout`:"
   ]
  },
  {
   "cell_type": "code",
   "execution_count": null,
   "metadata": {},
   "outputs": [],
   "source": [
    "logger = logging.getLogger()\n",
    "handler = logging.StreamHandler(sys.stdout)\n",
    "logger.addHandler(handler)"
   ]
  },
  {
   "cell_type": "markdown",
   "metadata": {},
   "source": [
    "***\n",
    "## Download Data\n",
    "\n",
    "For this example, we have chosen HST ACS/WFC observation of NGC104 in the F606W filter. The data come from the SM3/ACS proposal 9019 _\"HRC flat field stability\"_ (PI: Ralph Bohlin).\n",
    "\n",
    "Data are downloaded using the `astroquery` API to access the [MAST](http://archive.stsci.edu) archive. The `astroquery.mast` [documentation](http://astroquery.readthedocs.io/en/latest/mast/mast.html) has more examples for how to find and download data from MAST."
   ]
  },
  {
   "cell_type": "code",
   "execution_count": null,
   "metadata": {},
   "outputs": [],
   "source": [
    "# If mastDownload directory already exists, delete it\n",
    "# and all subdirectories it contains:\n",
    "if os.path.isdir('mastDownload'):\n",
    "    shutil.rmtree('mastDownload')\n",
    "\n",
    "# Retrieve the observation information.\n",
    "obs_table = Observations.query_criteria(obs_id='j8bt06*', filters='F606W', obstype='ALL')\n",
    "products = Observations.get_product_list(obs_table)\n",
    "\n",
    "# Download only the 'j8bt06nyq' and 'j8bt06nzq' images:\n",
    "Observations.download_products(products, mrp_only=False, obs_id=['j8bt06nyq', 'j8bt06nzq'],\n",
    "                               productSubGroupDescription=['FLC', 'FLT'], \n",
    "                               extension='fits')\n",
    "\n",
    "def copy_mast_to_cwd():\n",
    "    \"\"\"\n",
    "    Move the files from the mastDownload directory to the current working\n",
    "    directory and make a backup of the files. Return a list of image file\n",
    "    names in the CWD.\n",
    "    \n",
    "    \"\"\"\n",
    "    downloaded_fits_files = glob.glob('mastDownload/HST/j*/j*flt.fits')\n",
    "    fits_files = []\n",
    "    for fil in downloaded_fits_files:\n",
    "        base_name = os.path.basename(fil)\n",
    "        fits_files.append(base_name)\n",
    "        if os.path.isfile(base_name):\n",
    "            os.remove(base_name)\n",
    "        shutil.copy2(fil, '.')\n",
    "        \n",
    "    return fits_files\n",
    "\n",
    "fits_files = copy_mast_to_cwd()"
   ]
  },
  {
   "cell_type": "markdown",
   "metadata": {},
   "source": [
    "***\n",
    "## EXAMPLE 1: Simple Workflow to Align Two or More Images\n",
    "\n",
    "In this example we illustrate the use of convenience function `align_wcs()` to align two images downloaded in the previous step. "
   ]
  },
  {
   "cell_type": "markdown",
   "metadata": {},
   "source": [
    "### 1.1 Create Source Catalogs and FITSWCS WCS Corrector Objects\n",
    "\n",
    "This stage fundamentally consists of three steps:\n",
    "- create source catalogs for each image whose WCS needs to be aligned;\n",
    "- create a tangent-plane WCS corrector object specific for image's WCS and supply the catalog to this object through it's `meta` attribute, essetially creating a WCS-catalog combination;\n",
    "- call `align_wcs` to align WCS.\n",
    "\n",
    "For the first step, we use `photutils` package to find stars in the images. One can use any other tools star finding. Then, for the second step, we create FITSWCS corrector object which is appropriate for FITS WCS used in HST images. "
   ]
  },
  {
   "cell_type": "code",
   "execution_count": null,
   "metadata": {},
   "outputs": [],
   "source": [
    "wcs_catalogs = []\n",
    "for group_id, file in enumerate(fits_files):\n",
    "    group_id += 1\n",
    "    with fits.open(file) as hdulist:\n",
    "        # extract data and WCS from each SCI extension:\n",
    "        im_data = hdulist[('SCI', 1)].data\n",
    "        w = HSTWCS(hdulist, ('SCI', 1))\n",
    "        \n",
    "        # find sources / create catalogs\n",
    "        threshold = detect_threshold(im_data, snr=100.0)[0, 0]\n",
    "        daofind = DAOStarFinder(fwhm=2.5, threshold=threshold, exclude_border=True)\n",
    "        cat = daofind(im_data)\n",
    "        cat.rename_column('xcentroid', 'x')\n",
    "        cat.rename_column('ycentroid', 'y')\n",
    "        print(\"Length of catalog #{:d}: {:d}\".format(group_id, len(cat)))\n",
    "\n",
    "        # create tangent-plane WCS corrector:\n",
    "        wcscat = FITSWCS(wcs=w,\n",
    "                         meta={\n",
    "                             'group_id': group_id,\n",
    "                             'name': 'im{:d} sources'.format(group_id),  # or use any other naming scheme\n",
    "                             'catalog': cat,\n",
    "                             'filename': file,  # optional info\n",
    "                             'ext': ('SCI', 1),  # optional info\n",
    "                         }\n",
    "                        )\n",
    "        wcs_catalogs.append(wcscat)"
   ]
  },
  {
   "cell_type": "markdown",
   "metadata": {},
   "source": [
    "### 1.2 Align Images (Find Corrected WCS):"
   ]
  },
  {
   "cell_type": "code",
   "execution_count": null,
   "metadata": {},
   "outputs": [],
   "source": [
    "align_wcs(wcs_catalogs, expand_refcat=True, enforce_user_order=False);"
   ]
  },
  {
   "cell_type": "markdown",
   "metadata": {},
   "source": [
    "### 1.3 Update FITS File Headers with Aligned WCS"
   ]
  },
  {
   "cell_type": "code",
   "execution_count": null,
   "metadata": {},
   "outputs": [],
   "source": [
    "for file, w in zip(fits_files, [im.wcs for im in wcs_catalogs]):\n",
    "    with fits.open(file, mode='update') as hdulist:\n",
    "        updatehdr.update_wcs(hdulist, 1, w, wcsname='TWEAK', reusename=True, verbose=False)"
   ]
  },
  {
   "cell_type": "markdown",
   "metadata": {},
   "source": [
    "The above code serves as a simple illustration of updating files. The logic could be expanded to utilize the information stored in the `meta` dictionary such as file name and extension."
   ]
  },
  {
   "cell_type": "markdown",
   "metadata": {},
   "source": [
    "***\n",
    "## EXAMPLE 2: Customizable Workflow to Align Two or More Images or to Align to an External Reference Catalog\n",
    "\n",
    "In this example we show how to use lower-level functions to align two images. This approach allows significantly higher customization compared to the use of the convenience function `align_wcs()` from Example 1. In addition, this approach allows inspection and logging of intermediate results such as number of matched sources, their indices in the corresponding catalogs, linear fit results, fit residuals, etc."
   ]
  },
  {
   "cell_type": "markdown",
   "metadata": {},
   "source": [
    "### 2.1 Get a Fresh Copy of Data"
   ]
  },
  {
   "cell_type": "code",
   "execution_count": null,
   "metadata": {},
   "outputs": [],
   "source": [
    "fits_files = copy_mast_to_cwd()"
   ]
  },
  {
   "cell_type": "markdown",
   "metadata": {},
   "source": [
    "### 2.2 Create Catalogs and Create a Telescope/Instrument-specific \"corrector\" WCS object\n",
    "\n",
    "Below we take the sources from the first image to create a \"reference\" catalog. Therefore this example can be used also for aligning images to _external_ \"reference\" catalogs. Since we are working with HST images that use FITS WCS, we will use `FITSWCS` tangent plane corrector specific to FITS WCS."
   ]
  },
  {
   "cell_type": "code",
   "execution_count": null,
   "metadata": {},
   "outputs": [],
   "source": [
    "catalogs = []\n",
    "\n",
    "for group_id, file in enumerate(fits_files):\n",
    "    group_id += 1\n",
    "    with fits.open(file) as hdulist:\n",
    "        im_data = hdulist[('SCI', 1)].data\n",
    "        dq_data = hdulist[('DQ', 1)].data\n",
    "        w = HSTWCS(hdulist, ('SCI', 1))\n",
    "        \n",
    "        # create FITS WCS corrector object\n",
    "        wcs_corrector = FITSWCS(w)\n",
    "        \n",
    "        # find stars:\n",
    "        threshold = detect_threshold(im_data, snr=100.0)[0, 0]\n",
    "        daofind = DAOStarFinder(fwhm=2.5, threshold=threshold, exclude_border=True)\n",
    "        cat = daofind(im_data)\n",
    "        cat.rename_column('xcentroid', 'x')\n",
    "        cat.rename_column('ycentroid', 'y')\n",
    "        cat.meta['name'] = 'im{:d} sources'.format(group_id)\n",
    "        cat.meta['file_name'] = file\n",
    "        print(\"Length of catalog #{:d}: {:d}\".format(group_id, len(cat)))\n",
    "        \n",
    "        catalogs.append((cat, wcs_corrector))"
   ]
  },
  {
   "cell_type": "markdown",
   "metadata": {},
   "source": [
    "Create a \"reference\" catalog based on the first image's stars. A reference catalog must have star coordinates in world coordinates. When using external reference catalog, this step essentially can be skipped."
   ]
  },
  {
   "cell_type": "code",
   "execution_count": null,
   "metadata": {},
   "outputs": [],
   "source": [
    "refcat, refwcs = catalogs.pop(0)\n",
    "refcat.meta['name'] = 'REFCAT ({})'.format(refcat.meta['name'])\n",
    "\n",
    "# convert image coordinates to sky coords:\n",
    "ra, dec = refwcs.det_to_world(refcat['x'], refcat['y'])\n",
    "refcat['RA'] = ra\n",
    "refcat['DEC'] = dec"
   ]
  },
  {
   "cell_type": "markdown",
   "metadata": {},
   "source": [
    "### 2.3 Match Catalogs and Align Image WCS"
   ]
  },
  {
   "cell_type": "code",
   "execution_count": null,
   "metadata": {},
   "outputs": [],
   "source": [
    "match = TPMatch(searchrad=5, separation=0.1, tolerance=5, use2dhist=False)\n",
    "\n",
    "for imcat, imwcs in catalogs:\n",
    "    # Match sources in the catalogs:\n",
    "    ridx, iidx = match(refcat, imcat, imwcs)\n",
    "    \n",
    "    # Align image WCS:\n",
    "    aligned_imwcs = fit_wcs(refcat[ridx], imcat[iidx], imwcs).wcs\n",
    "    imcat.meta['aligned_wcs'] = aligned_imwcs"
   ]
  },
  {
   "cell_type": "markdown",
   "metadata": {},
   "source": [
    "### 2.4 Update FITS File Headers with Aligned WCS"
   ]
  },
  {
   "cell_type": "code",
   "execution_count": null,
   "metadata": {},
   "outputs": [],
   "source": [
    "for cat, _ in catalogs:\n",
    "    with fits.open(cat.meta['file_name'], mode='update') as hdulist:\n",
    "        updatehdr.update_wcs(hdulist, 1, cat.meta['aligned_wcs'], wcsname='TWEAK', reusename=True, verbose=False)"
   ]
  },
  {
   "cell_type": "markdown",
   "metadata": {},
   "source": [
    "***\n",
    "## Delete Downloaded Data"
   ]
  },
  {
   "cell_type": "code",
   "execution_count": null,
   "metadata": {},
   "outputs": [],
   "source": [
    "# Delete the mastDownload directory and all subdirectories it contains:\n",
    "if os.path.isdir('mastDownload'):\n",
    "    shutil.rmtree('mastDownload')"
   ]
  }
 ],
 "metadata": {
  "kernelspec": {
   "display_name": "Python 3",
   "language": "python",
   "name": "python3"
  },
  "language_info": {
   "codemirror_mode": {
    "name": "ipython",
    "version": 3
   },
   "file_extension": ".py",
   "mimetype": "text/x-python",
   "name": "python",
   "nbconvert_exporter": "python",
   "pygments_lexer": "ipython3",
   "version": "3.6.8"
  }
 },
 "nbformat": 4,
 "nbformat_minor": 2
}
