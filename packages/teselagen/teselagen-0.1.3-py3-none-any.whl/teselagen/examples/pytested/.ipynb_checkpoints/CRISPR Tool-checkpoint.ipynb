{
 "cells": [
  {
   "cell_type": "markdown",
   "metadata": {},
   "source": [
    "<div align=left style=\"width: 200; height: 80px; overflow: hidden\">\n",
    "    <img src=http://static1.squarespace.com/static/571446ff60b5e92c3a2b4249/57d8a40b9de4bb459f731cf3/58cb2f229de4bb4a049d38c2/1505340359463/teselaGenlogo.jpg align=right width=200>\n",
    "</div>"
   ]
  },
  {
   "cell_type": "markdown",
   "metadata": {},
   "source": [
    "# CRISPR Tool example\n",
    "\n",
    "This notebook shows how to use TeselaGen Python API client to predict target candidates for CRISPR.\n",
    "\n",
    "Here, we will call TeselaGen API with a genome sequence in the arguments. These arguments will also specify a position within the sequence indicating where to look for target sequences. The tool returns prediction output in a format that can be easily parsed into a *pandas* dataframe or plotted in a jupyter notebook.\n",
    "\n",
    "First we do some imports:"
   ]
  },
  {
   "cell_type": "code",
   "execution_count": 1,
   "metadata": {},
   "outputs": [
    {
     "name": "stdout",
     "output_type": "stream",
     "text": [
      "python version     : 3.6.9\n",
      "pandas version     : 1.1.5\n"
     ]
    }
   ],
   "source": [
    "import platform\n",
    "from pathlib import Path\n",
    "import pandas as pd\n",
    "\n",
    "import fastaparser\n",
    "from dna_features_viewer import GraphicFeature, GraphicRecord\n",
    "\n",
    "from teselagen.api.evolve_client import EVOLVEClient\n",
    "\n",
    "print(f\"python version     : {platform.python_version()}\")\n",
    "print(f\"pandas version     : {pd.__version__}\")"
   ]
  },
  {
   "cell_type": "code",
   "execution_count": 2,
   "metadata": {},
   "outputs": [],
   "source": [
    "client_e = EVOLVEClient(host_url = \"http://host.docker.internal:3000\") "
   ]
  },
  {
   "cell_type": "markdown",
   "metadata": {},
   "source": [
    "## Loading sequence from FASTA file"
   ]
  },
  {
   "cell_type": "markdown",
   "metadata": {},
   "source": [
    "The method `design_crispr_grnas` recieves the sequence as a string variable. Thus, if the sequence is in a FASTA file you have to read it first. Here we load a file that contains a dummy genome (`dummy_organism.fasta`). You can replace this filepath with one of your interest, or you can also refer to the  `Hello_World_DESIGN_module` notebook and import sequences directly from the platform."
   ]
  },
  {
   "cell_type": "code",
   "execution_count": 3,
   "metadata": {},
   "outputs": [
    {
     "name": "stdout",
     "output_type": "stream",
     "text": [
      "Loaded sequence: TG00001-Dummy organism complete genome\n"
     ]
    }
   ],
   "source": [
    "with open(\"dummy_organism.fasta\") as fasta_file:\n",
    "    parser = fastaparser.Reader(fasta_file)\n",
    "    for seq in parser:\n",
    "        fasta_seq=seq.sequence_as_string()\n",
    "        print(f\"Loaded sequence: {seq.id}-{seq.description}\")\n",
    "        break"
   ]
  },
  {
   "cell_type": "markdown",
   "metadata": {},
   "source": [
    "Now we have a sequence string loaded into our python environment. We are ready to use the tool for designing guide RNAs.\n",
    "\n",
    "## CRISPR Guide RNAs Tool\n",
    "\n",
    "The CRISPR tool is hosted at Teselagen's EVOLVE platform. You can instatiate the client and directly call `design_crispr_grnas` (as shown in the next code cell, which will promt you to login) or login before calling this method, as shown on `Hello_World_TEST_module`"
   ]
  },
  {
   "cell_type": "markdown",
   "metadata": {},
   "source": [
    "With `design_crispr_grnas` you will need to specify the reference or organism sequence with the `sequence` argument. You will also need to specify the targeting sequence. For this you can use the `target_sequence` argument, where you can specify the sequence as a string (of course, this string should also be contained by the reference sequence), or alternatively you can specify the indexes where the sequence is, with the argument `target_indexes` (ex: `target_indexes=[500, 600]`) with a list containing starting and ending indexes (count starts from zero). In the following example we will just use the `target_sequence` argument:"
   ]
  },
  {
   "cell_type": "code",
   "execution_count": 4,
   "metadata": {
    "scrolled": true
   },
   "outputs": [
    {
     "name": "stdout",
     "output_type": "stream",
     "text": [
      "Connection Accepted\n",
      "Done!\n"
     ]
    },
    {
     "data": {
      "text/html": [
       "<div>\n",
       "<style scoped>\n",
       "    .dataframe tbody tr th:only-of-type {\n",
       "        vertical-align: middle;\n",
       "    }\n",
       "\n",
       "    .dataframe tbody tr th {\n",
       "        vertical-align: top;\n",
       "    }\n",
       "\n",
       "    .dataframe thead th {\n",
       "        text-align: right;\n",
       "    }\n",
       "</style>\n",
       "<table border=\"1\" class=\"dataframe\">\n",
       "  <thead>\n",
       "    <tr style=\"text-align: right;\">\n",
       "      <th></th>\n",
       "      <th>end</th>\n",
       "      <th>sequence</th>\n",
       "      <th>offTargetScore</th>\n",
       "      <th>start</th>\n",
       "      <th>forward</th>\n",
       "      <th>pam</th>\n",
       "      <th>onTargetScore</th>\n",
       "    </tr>\n",
       "  </thead>\n",
       "  <tbody>\n",
       "    <tr>\n",
       "      <th>0</th>\n",
       "      <td>562</td>\n",
       "      <td>ATTTTTGCCGAACTTTTGAC</td>\n",
       "      <td>100</td>\n",
       "      <td>543</td>\n",
       "      <td>True</td>\n",
       "      <td>GGG</td>\n",
       "      <td>58.3</td>\n",
       "    </tr>\n",
       "    <tr>\n",
       "      <th>1</th>\n",
       "      <td>528</td>\n",
       "      <td>TGATATTGGGTAAAGCATCC</td>\n",
       "      <td>100</td>\n",
       "      <td>509</td>\n",
       "      <td>False</td>\n",
       "      <td>TGG</td>\n",
       "      <td>55.1</td>\n",
       "    </tr>\n",
       "    <tr>\n",
       "      <th>2</th>\n",
       "      <td>557</td>\n",
       "      <td>AAGTTCGGCAAAAATACGTT</td>\n",
       "      <td>100</td>\n",
       "      <td>538</td>\n",
       "      <td>False</td>\n",
       "      <td>CGG</td>\n",
       "      <td>51.2</td>\n",
       "    </tr>\n",
       "    <tr>\n",
       "      <th>3</th>\n",
       "      <td>584</td>\n",
       "      <td>GACTCGCCGCCGCCCAGCCG</td>\n",
       "      <td>100</td>\n",
       "      <td>565</td>\n",
       "      <td>True</td>\n",
       "      <td>GGG</td>\n",
       "      <td>49.9</td>\n",
       "    </tr>\n",
       "    <tr>\n",
       "      <th>4</th>\n",
       "      <td>596</td>\n",
       "      <td>CAGCGGGAACCCCGGCTGGG</td>\n",
       "      <td>100</td>\n",
       "      <td>577</td>\n",
       "      <td>False</td>\n",
       "      <td>CGG</td>\n",
       "      <td>47.2</td>\n",
       "    </tr>\n",
       "    <tr>\n",
       "      <th>5</th>\n",
       "      <td>599</td>\n",
       "      <td>CGCCAGCGGGAACCCCGGCT</td>\n",
       "      <td>100</td>\n",
       "      <td>580</td>\n",
       "      <td>False</td>\n",
       "      <td>GGG</td>\n",
       "      <td>44.7</td>\n",
       "    </tr>\n",
       "    <tr>\n",
       "      <th>6</th>\n",
       "      <td>572</td>\n",
       "      <td>GGCGAGTCCCGTCAAAAGTT</td>\n",
       "      <td>100</td>\n",
       "      <td>553</td>\n",
       "      <td>False</td>\n",
       "      <td>CGG</td>\n",
       "      <td>42.9</td>\n",
       "    </tr>\n",
       "  </tbody>\n",
       "</table>\n",
       "</div>"
      ],
      "text/plain": [
       "   end              sequence  offTargetScore  start  forward  pam  \\\n",
       "0  562  ATTTTTGCCGAACTTTTGAC             100    543     True  GGG   \n",
       "1  528  TGATATTGGGTAAAGCATCC             100    509    False  TGG   \n",
       "2  557  AAGTTCGGCAAAAATACGTT             100    538    False  CGG   \n",
       "3  584  GACTCGCCGCCGCCCAGCCG             100    565     True  GGG   \n",
       "4  596  CAGCGGGAACCCCGGCTGGG             100    577    False  CGG   \n",
       "5  599  CGCCAGCGGGAACCCCGGCT             100    580    False  GGG   \n",
       "6  572  GGCGAGTCCCGTCAAAAGTT             100    553    False  CGG   \n",
       "\n",
       "   onTargetScore  \n",
       "0           58.3  \n",
       "1           55.1  \n",
       "2           51.2  \n",
       "3           49.9  \n",
       "4           47.2  \n",
       "5           44.7  \n",
       "6           42.9  "
      ]
     },
     "metadata": {},
     "output_type": "display_data"
    }
   ],
   "source": [
    "res = client_e.design_crispr_grnas(\n",
    "            sequence=fasta_seq,\n",
    "            target_sequence='TAGCGGCCAGGATGCTTTACCCAATATCAGCGATGCCGAACGTATTTTTGCCGAACTTTTGACGGGACTCGCCGCCGCCCAGCCGGGGTTCCCGCTGGCGC')\n",
    "print('Done!')\n",
    "display(pd.DataFrame(res['guides']))"
   ]
  },
  {
   "cell_type": "markdown",
   "metadata": {},
   "source": [
    "The algorithm returned a list of dictionaries that can be easily parsed into a pandas DataFrame, as shown above. Each row shows information from one candidate guide. This information includes the `sequence`, its position (`start`, and `end`) the `onTargetScore` and `offTargetScore` (ranging from 0 to 100, the higher the better) the associated `pam` sequence and a flag (`forward`) that is set to `False` if the sequence is in the backward stream.\n",
    "\n",
    "And finally we use the dna_features_viewer library to plot the results. Here, the green annotation shows the main targeting sequence and the pink bars show the positions of the different guide candidates the algorithm found."
   ]
  },
  {
   "cell_type": "code",
   "execution_count": 5,
   "metadata": {},
   "outputs": [
    {
     "data": {
      "image/png": "[encoded data removed]",
      "text/plain": [
       "<Figure size 1440x216 with 1 Axes>"
      ]
     },
     "metadata": {},
     "output_type": "display_data"
    }
   ],
   "source": [
    "def show_crispr_grna_results(sequence, res, indexes=None):\n",
    "    targeting_seq_feat = []\n",
    "    if indexes is not None:\n",
    "        targeting_seq_feat = [GraphicFeature(start=indexes[0], end=indexes[1], color=\"#cffccc\", label=\"Sequence\", strand=+1)]\n",
    "    else:\n",
    "        indexes = [min([x['start'] for x in res]), max([x['end'] for x in res])]\n",
    "    record = GraphicRecord(\n",
    "        sequence = sequence, \n",
    "        features = targeting_seq_feat +\n",
    "                 [GraphicFeature(\n",
    "                      start=x['start'], \n",
    "                      end=x['end']+1, \n",
    "                      color=\"#ffcccc\", \n",
    "                      label=f\"onTargetScore: {x['onTargetScore']}\",\n",
    "                      strand=+1 if x['forward'] else -1) for x in res])\n",
    "    record=record.crop((indexes[0]-10, indexes[1]+11)) # crop\n",
    "    ax, _ = record.plot(figure_width=20)\n",
    "    record.plot_sequence(ax)\n",
    "    \n",
    "show_crispr_grna_results(sequence=fasta_seq, res=res['guides'], indexes=res['target_indexes'])"
   ]
  },
  {
   "cell_type": "code",
   "execution_count": null,
   "metadata": {},
   "outputs": [],
   "source": []
  }
 ],
 "metadata": {
  "kernelspec": {
   "display_name": "Python 3",
   "language": "python",
   "name": "python3"
  },
  "language_info": {
   "codemirror_mode": {
    "name": "ipython",
    "version": 3
   },
   "file_extension": ".py",
   "mimetype": "text/x-python",
   "name": "python",
   "nbconvert_exporter": "python",
   "pygments_lexer": "ipython3",
   "version": "3.6.9"
  }
 },
 "nbformat": 4,
 "nbformat_minor": 4
}
