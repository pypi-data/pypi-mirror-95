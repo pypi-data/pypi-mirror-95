{
 "cells": [
  {
   "cell_type": "markdown",
   "metadata": {},
   "source": [
    "# Some sourmash command line examples!\n",
    "\n",
    "[sourmash](https://sourmash.readthedocs.io/en/latest/) is research software from the Lab for Data Intensive Biology at UC Davis. It implements MinHash and modulo hash.\n",
    "\n",
    "Below are some examples of using sourmash. They are computed in a Jupyter Notebook so you can run them yourself if you like!\n",
    "\n",
    "Sourmash works on *signature files*, which are just saved collections of hashes.\n",
    "\n",
    "Let's try it out!\n",
    "\n",
    "### Running this notebook.\n",
    "\n",
    "You can run this notebook interactively via mybinder; click on this button:\n",
    "[![Binder](https://mybinder.org/badge_logo.svg)](https://mybinder.org/v2/gh/dib-lab/sourmash/latest?filepath=doc%2Fsourmash-examples.ipynb)\n",
    "\n",
    "A rendered version of this notebook is available at [sourmash.readthedocs.io](https://sourmash.readthedocs.io) under \"Tutorials and notebooks\".\n",
    "\n",
    "You can also get this notebook from the [doc/ subdirectory of the sourmash github repository](https://github.com/dib-lab/sourmash/tree/latest/doc). See [binder/environment.yaml](https://github.com/dib-lab/sourmash/blob/latest/binder/environment.yml) for installation dependencies.\n",
    "\n",
    "### What is this?\n",
    "\n",
    "This is a Jupyter Notebook using Python 3. If you are running this via [binder](https://mybinder.org), you can use Shift-ENTER to run cells, and double click on code cells to edit them.\n",
    "\n",
    "Contact: C. Titus Brown, ctbrown@ucdavis.edu. Please [file issues on GitHub](https://github.com/dib-lab/sourmash/issues/) if you have any questions or comments!"
   ]
  },
  {
   "cell_type": "markdown",
   "metadata": {},
   "source": [
    "## Compute scaled signatures"
   ]
  },
  {
   "cell_type": "code",
   "execution_count": 1,
   "metadata": {},
   "outputs": [
    {
     "name": "stdout",
     "output_type": "stream",
     "text": [
      "\u001b[K== This is sourmash version 2.0.0a12.dev48+ga92289b. ==\n",
      "\u001b[K== Please cite Brown and Irber (2016), doi:10.21105/joss.00027. ==\n",
      "\n",
      "\u001b[Ksetting num_hashes to 0 because --scaled is set\n",
      "\u001b[Kcomputing signatures for files: genomes/akkermansia.fa, genomes/shew_os185.fa, genomes/shew_os223.fa\n",
      "\u001b[KComputing signature for ksizes: [21, 31, 51]\n",
      "\u001b[KComputing only nucleotide (and not protein) signatures.\n",
      "\u001b[KComputing a total of 3 signature(s).\n",
      "\u001b[K... reading sequences from genomes/akkermansia.fa\n",
      "\u001b[Kcalculated 3 signatures for 1 sequences in genomes/akkermansia.fa\n",
      "\u001b[Ksaved 3 signature(s). Note: signature license is CC0.\n",
      "\u001b[K... reading sequences from genomes/shew_os185.fa\n",
      "\u001b[Kcalculated 3 signatures for 1 sequences in genomes/shew_os185.fa\n",
      "\u001b[Ksaved 3 signature(s). Note: signature license is CC0.\n",
      "\u001b[K... reading sequences from genomes/shew_os223.fa\n",
      "\u001b[Kcalculated 3 signatures for 1 sequences in genomes/shew_os223.fa\n",
      "\u001b[Ksaved 3 signature(s). Note: signature license is CC0.\n"
     ]
    }
   ],
   "source": [
    "!rm -f *.sig\n",
    "!sourmash compute -k 21,31,51 --scaled=1000 genomes/*.fa --name-from-first -f"
   ]
  },
  {
   "cell_type": "markdown",
   "metadata": {},
   "source": [
    "This outputs three signature files, each containing three signatures (one calculated at k=21, one at k=31, and one at k=51)."
   ]
  },
  {
   "cell_type": "code",
   "execution_count": 2,
   "metadata": {},
   "outputs": [
    {
     "name": "stdout",
     "output_type": "stream",
     "text": [
      "akkermansia.fa.sig  shew_os185.fa.sig   shew_os223.fa.sig\r\n"
     ]
    }
   ],
   "source": [
    "ls *.sig"
   ]
  },
  {
   "cell_type": "markdown",
   "metadata": {},
   "source": [
    "We can now use these signature files for various comparisons."
   ]
  },
  {
   "cell_type": "markdown",
   "metadata": {},
   "source": [
    "## Search multiple signatures with a query\n",
    "\n",
    "The below command queries all of the signature files in the directory with the `shew_os223` signature and finds the best Jaccard similarity:"
   ]
  },
  {
   "cell_type": "code",
   "execution_count": 3,
   "metadata": {},
   "outputs": [
    {
     "name": "stdout",
     "output_type": "stream",
     "text": [
      "\u001b[K== This is sourmash version 2.0.0a12.dev48+ga92289b. ==\n",
      "\u001b[K== Please cite Brown and Irber (2016), doi:10.21105/joss.00027. ==\n",
      "\n",
      "\u001b[Kloaded query: NC_011663.1 Shewanella baltica... (k=31, DNA)\n",
      "\u001b[Kloaded 3 signatures.                                                           \n",
      "\n",
      "2 matches:\n",
      "similarity   match\n",
      "----------   -----\n",
      "100.0%       NC_011663.1 Shewanella baltica OS223, complete genome\n",
      " 22.8%       NC_009665.1 Shewanella baltica OS185, complete genome\n"
     ]
    }
   ],
   "source": [
    "!sourmash search -k 31 shew_os223.fa.sig *.sig"
   ]
  },
  {
   "cell_type": "markdown",
   "metadata": {},
   "source": [
    "The below command uses Jaccard containment instead of Jaccard similarity:"
   ]
  },
  {
   "cell_type": "code",
   "execution_count": 4,
   "metadata": {},
   "outputs": [
    {
     "name": "stdout",
     "output_type": "stream",
     "text": [
      "\u001b[K== This is sourmash version 2.0.0a12.dev48+ga92289b. ==\n",
      "\u001b[K== Please cite Brown and Irber (2016), doi:10.21105/joss.00027. ==\n",
      "\n",
      "\u001b[Kloaded query: NC_011663.1 Shewanella baltica... (k=31, DNA)\n",
      "\u001b[Kloaded 3 signatures.                                                           \n",
      "\n",
      "2 matches:\n",
      "similarity   match\n",
      "----------   -----\n",
      "100.0%       NC_011663.1 Shewanella baltica OS223, complete genome\n",
      " 37.3%       NC_009665.1 Shewanella baltica OS185, complete genome\n"
     ]
    }
   ],
   "source": [
    "!sourmash search -k 31 shew_os223.fa.sig *.sig --containment"
   ]
  },
  {
   "cell_type": "markdown",
   "metadata": {},
   "source": [
    "## Performing all-by-all queries\n",
    "\n",
    "We can also compare all three signatures:"
   ]
  },
  {
   "cell_type": "code",
   "execution_count": 5,
   "metadata": {},
   "outputs": [
    {
     "name": "stdout",
     "output_type": "stream",
     "text": [
      "\u001b[K== This is sourmash version 2.0.0a12.dev48+ga92289b. ==\n",
      "\u001b[K== Please cite Brown and Irber (2016), doi:10.21105/joss.00027. ==\n",
      "\n",
      "\u001b[Kloaded 3 signatures total.                                                     \n",
      "\u001b[Kdownsampling to scaled value of 1000\n",
      "\u001b[K\n",
      "0-CP001071.1 Akke...\t[1. 0. 0.]\n",
      "1-NC_009665.1 She...\t[0.    1.    0.228]\n",
      "2-NC_011663.1 She...\t[0.    0.228 1.   ]\n",
      "min similarity in matrix: 0.000\n"
     ]
    }
   ],
   "source": [
    "!sourmash compare -k 31 *.sig"
   ]
  },
  {
   "cell_type": "markdown",
   "metadata": {},
   "source": [
    "...and produce a similarity matrix that we can use for plotting:"
   ]
  },
  {
   "cell_type": "code",
   "execution_count": 6,
   "metadata": {},
   "outputs": [
    {
     "name": "stdout",
     "output_type": "stream",
     "text": [
      "\u001b[K== This is sourmash version 2.0.0a12.dev48+ga92289b. ==\n",
      "\u001b[K== Please cite Brown and Irber (2016), doi:10.21105/joss.00027. ==\n",
      "\n",
      "\u001b[Kloaded 3 signatures total.                                                     \n",
      "\u001b[Kdownsampling to scaled value of 1000\n",
      "\u001b[K\n",
      "0-CP001071.1 Akke...\t[1. 0. 0.]\n",
      "1-NC_009665.1 She...\t[0.    1.    0.228]\n",
      "2-NC_011663.1 She...\t[0.    0.228 1.   ]\n",
      "min similarity in matrix: 0.000\n",
      "\u001b[Ksaving labels to: genome_compare.mat.labels.txt\n",
      "\u001b[Ksaving distance matrix to: genome_compare.mat\n"
     ]
    }
   ],
   "source": [
    "!sourmash compare -k 31 *.sig -o genome_compare.mat"
   ]
  },
  {
   "cell_type": "code",
   "execution_count": 7,
   "metadata": {},
   "outputs": [
    {
     "name": "stdout",
     "output_type": "stream",
     "text": [
      "\u001b[K== This is sourmash version 2.0.0a12.dev48+ga92289b. ==\n",
      "\u001b[K== Please cite Brown and Irber (2016), doi:10.21105/joss.00027. ==\n",
      "\n",
      "\u001b[Kloading comparison matrix from genome_compare.mat...\n",
      "\u001b[K...got 3 x 3 matrix.\n",
      "\u001b[Kloading labels from genome_compare.mat.labels.txt\n",
      "\u001b[Ksaving histogram of matrix values => genome_compare.mat.hist.png\n",
      "\u001b[Kwrote dendrogram to: genome_compare.mat.dendro.png\n",
      "\u001b[Kwrote numpy distance matrix to: genome_compare.mat.matrix.png\n",
      "0\tCP001071.1 Akkermansia muciniphila ATCC BAA-835, complete genome\n",
      "1\tNC_009665.1 Shewanella baltica OS185, complete genome\n",
      "2\tNC_011663.1 Shewanella baltica OS223, complete genome\n"
     ]
    },
    {
     "data": {
      "image/png": "[encoded data removed]",
      "text/plain": [
       "<IPython.core.display.Image object>"
      ]
     },
     "execution_count": 7,
     "metadata": {},
     "output_type": "execute_result"
    }
   ],
   "source": [
    "!sourmash plot genome_compare.mat\n",
    "\n",
    "from IPython.display import Image\n",
    "Image(filename='genome_compare.mat.matrix.png') "
   ]
  },
  {
   "cell_type": "markdown",
   "metadata": {},
   "source": [
    "and for the R aficionados, you can output a CSV version of the matrix:"
   ]
  },
  {
   "cell_type": "code",
   "execution_count": 8,
   "metadata": {},
   "outputs": [
    {
     "name": "stdout",
     "output_type": "stream",
     "text": [
      "\u001b[K== This is sourmash version 2.0.0a12.dev48+ga92289b. ==\n",
      "\u001b[K== Please cite Brown and Irber (2016), doi:10.21105/joss.00027. ==\n",
      "\n",
      "\u001b[Kloaded 3 signatures total.                                                     \n",
      "\u001b[Kdownsampling to scaled value of 1000\n",
      "\u001b[K\n",
      "0-CP001071.1 Akke...\t[1. 0. 0.]\n",
      "1-NC_009665.1 She...\t[0.    1.    0.228]\n",
      "2-NC_011663.1 She...\t[0.    0.228 1.   ]\n",
      "min similarity in matrix: 0.000\n"
     ]
    }
   ],
   "source": [
    "!sourmash compare -k 31 *.sig --csv genome_compare.csv"
   ]
  },
  {
   "cell_type": "code",
   "execution_count": 9,
   "metadata": {},
   "outputs": [
    {
     "name": "stdout",
     "output_type": "stream",
     "text": [
      "\"CP001071.1 Akkermansia muciniphila ATCC BAA-835, complete genome\",\"NC_009665.1 Shewanella baltica OS185, complete genome\",\"NC_011663.1 Shewanella baltica OS223, complete genome\"\r",
      "\r\n",
      "1.0,0.0,0.0\r\n",
      "0.0,1.0,0.22846441947565543\r\n",
      "0.0,0.22846441947565543,1.0\r\n"
     ]
    }
   ],
   "source": [
    "!cat genome_compare.csv"
   ]
  },
  {
   "cell_type": "markdown",
   "metadata": {},
   "source": [
    "This is now a file that you can load into R and examine - see [our documentation](https://sourmash.readthedocs.io/en/latest/other-languages.html) on that."
   ]
  },
  {
   "cell_type": "markdown",
   "metadata": {},
   "source": [
    "## working with metagenomes\n",
    "\n",
    "Let's make a fake metagenome:"
   ]
  },
  {
   "cell_type": "code",
   "execution_count": 10,
   "metadata": {},
   "outputs": [
    {
     "name": "stdout",
     "output_type": "stream",
     "text": [
      "\u001b[K== This is sourmash version 2.0.0a12.dev48+ga92289b. ==\n",
      "\u001b[K== Please cite Brown and Irber (2016), doi:10.21105/joss.00027. ==\n",
      "\n",
      "\u001b[Ksetting num_hashes to 0 because --scaled is set\n",
      "\u001b[Kcomputing signatures for files: fake-metagenome.fa\n",
      "\u001b[KComputing signature for ksizes: [31]\n",
      "\u001b[KComputing only nucleotide (and not protein) signatures.\n",
      "\u001b[KComputing a total of 1 signature(s).\n",
      "\u001b[K... reading sequences from fake-metagenome.fa\n",
      "\u001b[Kcalculated 1 signatures for 3 sequences in fake-metagenome.fa\n",
      "\u001b[Ksaved 1 signature(s). Note: signature license is CC0.\n"
     ]
    }
   ],
   "source": [
    "!cat genomes/*.fa > fake-metagenome.fa\n",
    "!sourmash compute -k 31 --scaled=1000 fake-metagenome.fa"
   ]
  },
  {
   "cell_type": "markdown",
   "metadata": {},
   "source": [
    "We can use the `sourmash gather` command to see what's in it:"
   ]
  },
  {
   "cell_type": "code",
   "execution_count": 11,
   "metadata": {},
   "outputs": [
    {
     "name": "stdout",
     "output_type": "stream",
     "text": [
      "\u001b[K== This is sourmash version 2.0.0a12.dev48+ga92289b. ==\n",
      "\u001b[K== Please cite Brown and Irber (2016), doi:10.21105/joss.00027. ==\n",
      "\n",
      "\u001b[Kselect query k=31 automatically.\n",
      "\u001b[Kloaded query: fake-metagenome.fa... (k=31, DNA)\n",
      "\u001b[Kloaded 3 signatures.                                                           \n",
      "\n",
      "\n",
      "overlap     p_query p_match\n",
      "---------   ------- -------\n",
      "499.0 kbp     38.4%  100.0%    CP001071.1 Akkermansia muciniphila AT...\n",
      "494.0 kbp     38.0%  100.0%    NC_009665.1 Shewanella baltica OS185,...\n",
      "490.0 kbp     23.6%   62.7%    NC_011663.1 Shewanella baltica OS223,...\n",
      "\n",
      "found 3 matches total;\n",
      "the recovered matches hit 100.0% of the query\n",
      "\n"
     ]
    }
   ],
   "source": [
    "!sourmash gather fake-metagenome.fa.sig shew*.sig akker*.sig"
   ]
  },
  {
   "cell_type": "markdown",
   "metadata": {},
   "source": [
    "## Other pointers\n",
    "\n",
    "[Sourmash: a practical guide](https://sourmash.readthedocs.io/en/latest/using-sourmash-a-guide.html)\n",
    "\n",
    "[Classifying signatures taxonomically](https://sourmash.readthedocs.io/en/latest/classifying-signatures.html)\n",
    "\n",
    "[Pre-built search databases](https://sourmash.readthedocs.io/en/latest/databases.html)\n",
    "\n",
    "## A full list of notebooks\n",
    "\n",
    "[An introduction to k-mers for genome comparison and analysis](kmers-and-minhash.ipynb)\n",
    "\n",
    "[Some sourmash command line examples!](sourmash-examples.ipynb)\n",
    "\n",
    "[Working with private collections of signatures.](sourmash-collections.ipynb)\n",
    "\n",
    "[Using the LCA_Database API.](using-LCA-database-API.ipynb)\n",
    "\n",
    "\n"
   ]
  },
  {
   "cell_type": "code",
   "execution_count": null,
   "metadata": {},
   "outputs": [],
   "source": []
  }
 ],
 "metadata": {
  "kernelspec": {
   "display_name": "Python 3",
   "language": "python",
   "name": "python3"
  },
  "language_info": {
   "codemirror_mode": {
    "name": "ipython",
    "version": 3
   },
   "file_extension": ".py",
   "mimetype": "text/x-python",
   "name": "python",
   "nbconvert_exporter": "python",
   "pygments_lexer": "ipython3",
   "version": "3.6.7"
  }
 },
 "nbformat": 4,
 "nbformat_minor": 2
}
