{
 "cells": [
  {
   "cell_type": "markdown",
   "metadata": {
    "collapsed": true,
    "pycharm": {
     "name": "#%% md\n"
    }
   },
   "source": [
    "# scCODA - Compositional analysis of single-cell data\n"
   ]
  },
  {
   "cell_type": "markdown",
   "metadata": {
    "pycharm": {
     "name": "#%% md\n"
    }
   },
   "source": [
    "\n",
    "This notebook serves as a tutorial for using the *scCODA* package ([Büttner, Ostner et al., 2020](https://www.biorxiv.org/content/10.1101/2020.12.14.422688v2)) to analyze changes in cell composition data.\n",
    "\n",
    "The package is intended to be used with cell composition from single-cell RNA-seq experiments, however there are no technical\n",
    "restrictions that prevent the use of data from other sources.\n",
    "\n",
    "The data we use in the following example comes from [Haber et al., 2017](https://www.nature.com/articles/nature24489).\n",
    "It contains samples from the small intestinal epithelium of mice with different conditions.\n"
   ]
  },
  {
   "cell_type": "code",
   "execution_count": 1,
   "metadata": {
    "pycharm": {
     "name": "#%%\n"
    }
   },
   "outputs": [],
   "source": [
    "# Setup\n",
    "import warnings\n",
    "warnings.filterwarnings(\"ignore\")\n",
    "\n",
    "import pandas as pd\n",
    "import pickle as pkl\n",
    "\n",
    "from sccoda.util import comp_ana as mod\n",
    "from sccoda.util import cell_composition_data as dat\n",
    "from sccoda.util import data_visualization as viz\n",
    "\n"
   ]
  },
  {
   "cell_type": "markdown",
   "metadata": {},
   "source": [
    "### Data preparation"
   ]
  },
  {
   "cell_type": "code",
   "execution_count": 2,
   "metadata": {
    "pycharm": {
     "name": "#%%\n"
    }
   },
   "outputs": [
    {
     "name": "stdout",
     "output_type": "stream",
     "text": [
      "            Mouse  Endocrine  Enterocyte  Enterocyte.Progenitor  Goblet  Stem  \\\n",
      "0       Control_1         36          59                    136      36   239   \n",
      "1       Control_2          5          46                     23      20    50   \n",
      "2       Control_3         45          98                    188     124   250   \n",
      "3       Control_4         26         221                    198      36   131   \n",
      "4  H.poly.Day10_1         42          71                    203     147   271   \n",
      "5  H.poly.Day10_2         40          57                    383     170   321   \n",
      "6   H.poly.Day3_1         52          75                    347      66   323   \n",
      "7   H.poly.Day3_2         65         126                    115      33    65   \n",
      "8          Salm_1         37         332                    113      59    90   \n",
      "9          Salm_2         32         373                    116      67   117   \n",
      "\n",
      "    TA  TA.Early  Tuft  \n",
      "0  125       191    18  \n",
      "1   11        40     5  \n",
      "2  155       365    33  \n",
      "3  130       196     4  \n",
      "4  109       180   146  \n",
      "5  244       256    71  \n",
      "6  263       313    51  \n",
      "7   39       129    59  \n",
      "8   47       132    10  \n",
      "9   65       168    12  \n"
     ]
    }
   ],
   "source": [
    "# Load data\n",
    "\n",
    "cell_counts = pd.read_csv(\"../data/haber_counts.csv\")\n",
    "\n",
    "print(cell_counts)"
   ]
  },
  {
   "cell_type": "markdown",
   "metadata": {},
   "source": [
    "Looking at the data, we see that we have 4 control samples, and 3 conditions with 2 samples each. \n",
    "To use the models in *scCODA*, we first have to convert the data into an [anndata](https://github.com/theislab/anndata) object.\n",
    "This can be done easily with the `sccoda.util.cell_composition_data` module.\n",
    "The resulting object separates our data components: Cell counts are stored in `data.X`, covariates in `data.obs`."
   ]
  },
  {
   "cell_type": "code",
   "execution_count": 3,
   "outputs": [
    {
     "name": "stdout",
     "output_type": "stream",
     "text": [
      "AnnData object with n_obs × n_vars = 10 × 8\n",
      "    obs: 'Mouse', 'Condition'\n"
     ]
    }
   ],
   "source": [
    "# Convert data to anndata object\n",
    "data_all = dat.from_pandas(cell_counts, covariate_columns=[\"Mouse\"])\n",
    "\n",
    "# Extract condition from mouse name and add it as an extra column to the covariates\n",
    "data_all.obs[\"Condition\"] = data_all.obs[\"Mouse\"].str.replace(r\"_[0-9]\", \"\")\n",
    "print(data_all)"
   ],
   "metadata": {
    "collapsed": false,
    "pycharm": {
     "name": "#%%\n"
    }
   }
  },
  {
   "cell_type": "markdown",
   "source": [
    "For our first example, we want to look at how the Salmonella infection influences the cell composition.\n",
    "Therefore, we subset our data."
   ],
   "metadata": {
    "collapsed": false,
    "pycharm": {
     "name": "#%% md\n"
    }
   }
  },
  {
   "cell_type": "code",
   "execution_count": 4,
   "metadata": {},
   "outputs": [
    {
     "name": "stdout",
     "output_type": "stream",
     "text": [
      "       Mouse Condition\n",
      "0  Control_1   Control\n",
      "1  Control_2   Control\n",
      "2  Control_3   Control\n",
      "3  Control_4   Control\n",
      "8     Salm_1      Salm\n",
      "9     Salm_2      Salm\n"
     ]
    }
   ],
   "source": [
    "\n",
    "# Select control and salmonella data\n",
    "data_salm = data_all[data_all.obs[\"Condition\"].isin([\"Control\", \"Salm\"])]\n",
    "print(data_salm.obs)\n"
   ]
  },
  {
   "cell_type": "markdown",
   "source": [
    "Plotting the data, we can see that there is a large increase of Enterocytes in the infected sampes, while most other cell types slightly decrease.\n",
    "Since scRNA-seq experiments are limited in the number of cells per sample, the count data is compositional, which leads to negative correlations between the cell types.\n",
    "Thus, the slight decreases in many cell types might be fully caused by the increase in Enterocytes."
   ],
   "metadata": {
    "collapsed": false,
    "pycharm": {
     "name": "#%% md\n"
    }
   }
  },
  {
   "cell_type": "code",
   "execution_count": 5,
   "outputs": [
    {
     "data": {
      "text/plain": "<AxesSubplot:xlabel='Cell type', ylabel='Proportion'>"
     },
     "execution_count": 5,
     "metadata": {},
     "output_type": "execute_result"
    },
    {
     "data": {
      "text/plain": "<Figure size 600x400 with 1 Axes>",
      "image/png": "[encoded data removed]"
     },
     "metadata": {},
     "output_type": "display_data"
    }
   ],
   "source": [
    "viz.boxplots(data_salm, feature_name=\"Condition\")"
   ],
   "metadata": {
    "collapsed": false,
    "pycharm": {
     "name": "#%%\n"
    }
   }
  },
  {
   "cell_type": "markdown",
   "source": [
    "*Note that the use of* anndata *in* scCODA *is different from the use in scRNA-seq pipelines, e.g.* scanpy.\n",
    "*To convert* scanpy *objects to a scCODA dataset, have a look at `dat.from_scanpy.*"
   ],
   "metadata": {
    "collapsed": false,
    "pycharm": {
     "name": "#%% md\n"
    }
   }
  },
  {
   "cell_type": "markdown",
   "metadata": {},
   "source": [
    "### Model setup and inference\n",
    "\n",
    "We can now create the model and run inference on it. Creating a `sccoda.util.comp_ana.CompositionalAnalysis` class object\n",
    "sets up the compositional model and prepares everxthing for parameter inference. It needs these informations:\n",
    "\n",
    "- The data object from above.\n",
    "\n",
    "- The `formula` parameter. It specifies how the covariates are used in the model.\n",
    "It can process R-style formulas via the [patsy](https://patsy.readthedocs.io/en/latest/) package, e.g. `formula=\"Cov1 + Cov2 + Cov3\"`.\n",
    "Here, we simply use the \"Condition\" covariate of our dataset\n",
    "\n",
    "- The `reference_cell_type` parameter is used to specify a cell type that is believed to be unchanged by the covariates in `formula`.\n",
    "This is necessary, because compositional analysis must always be performed relative to a reference (See [Büttner, Ostner et al., 2020](https://www.biorxiv.org/content/10.1101/2020.12.14.422688v2) for a more thorough explanation).\n",
    "If no knowledge about such a cell type exists prior to the analysis, taking a cell type that has a nearly constant relative abundance over all samples is often a good choice.\n",
    "Here, we take Goblet cells as the reference."
   ]
  },
  {
   "cell_type": "code",
   "execution_count": 6,
   "metadata": {},
   "outputs": [],
   "source": [
    "model_salm = mod.CompositionalAnalysis(data_salm, formula=\"Condition\", reference_cell_type=\"Goblet\")"
   ]
  },
  {
   "cell_type": "markdown",
   "source": [
    "HMC sampling is then initiated by calling `model.sample_hmc()`, which produces a `sccoda.util.result_classes.CAResult` object."
   ],
   "metadata": {
    "collapsed": false,
    "pycharm": {
     "name": "#%% md\n"
    }
   }
  },
  {
   "cell_type": "code",
   "execution_count": 7,
   "metadata": {},
   "outputs": [
    {
     "name": "stdout",
     "output_type": "stream",
     "text": [
      "MCMC sampling finished. (57.952 sec)\n",
      "Acceptance rate: 69.0%\n"
     ]
    }
   ],
   "source": [
    "# Run MCMC\n",
    "sim_results = model_salm.sample_hmc()"
   ]
  },
  {
   "cell_type": "markdown",
   "source": [
    "### Result interpretation\n",
    "\n",
    "Calling `summary()` on the results object, we can see the most relevant information for further analysis:"
   ],
   "metadata": {
    "collapsed": false,
    "pycharm": {
     "name": "#%% md\n"
    }
   }
  },
  {
   "cell_type": "code",
   "execution_count": 8,
   "outputs": [
    {
     "name": "stdout",
     "output_type": "stream",
     "text": [
      "Compositional Analysis summary:\n",
      "\n",
      "Data: 6 samples, 8 cell types\n",
      "Reference index: 3\n",
      "Formula: Condition\n",
      "\n",
      "Intercepts:\n",
      "                       Final Parameter  Expected Sample\n",
      "Cell Type                                              \n",
      "Endocrine                        1.082        33.783515\n",
      "Enterocyte                       2.311       115.465635\n",
      "Enterocyte.Progenitor            2.514       141.453771\n",
      "Goblet                           1.753        66.087060\n",
      "Stem                             2.691       168.843619\n",
      "TA                               2.096        93.127820\n",
      "TA.Early                         2.855       198.933969\n",
      "Tuft                             0.413        17.304610\n",
      "\n",
      "\n",
      "Effects:\n",
      "                                         Final Parameter  Expected Sample  \\\n",
      "Covariate         Cell Type                                                 \n",
      "Condition[T.Salm] Endocrine                      0.00000        23.727535   \n",
      "                  Enterocyte                     1.40237       329.641775   \n",
      "                  Enterocyte.Progenitor          0.00000        99.348732   \n",
      "                  Goblet                         0.00000        46.415628   \n",
      "                  Stem                           0.00000       118.585735   \n",
      "                  TA                             0.00000        65.407453   \n",
      "                  TA.Early                       0.00000       139.719411   \n",
      "                  Tuft                           0.00000        12.153731   \n",
      "\n",
      "                                         log2-fold change  \n",
      "Covariate         Cell Type                                \n",
      "Condition[T.Salm] Endocrine                     -0.509757  \n",
      "                  Enterocyte                     1.513436  \n",
      "                  Enterocyte.Progenitor         -0.509757  \n",
      "                  Goblet                        -0.509757  \n",
      "                  Stem                          -0.509757  \n",
      "                  TA                            -0.509757  \n",
      "                  TA.Early                      -0.509757  \n",
      "                  Tuft                          -0.509757  \n"
     ]
    }
   ],
   "source": [
    "sim_results.summary()"
   ],
   "metadata": {
    "collapsed": false,
    "pycharm": {
     "name": "#%%\n"
    }
   }
  },
  {
   "cell_type": "markdown",
   "source": [
    "**Model properties**\n",
    "\n",
    "First, the summary shows an overview over the model properties: \n",
    "* Number of samples/cell types\n",
    "* The reference cell type.\n",
    "* The formula used\n",
    "\n",
    "The model has two types of parameters that are relevant for analysis - intercepts and effects. \n",
    "These can be interpreted like in a standard regression model:\n",
    "Intercepts show how the cell types are distributed without any active covariates, effects show ho the covariates influence the cell types.\n",
    "\n",
    "**Intercepts**\n",
    "\n",
    "The first column of the intercept summary shows the parameters determined by the MCMC inference.\n",
    "\n",
    "The \"Expected sample\" column gives some context to the numerical values. \n",
    "If we had a new sample (with no active covariates) with a total number of cells equal to the mean sampling depth of the dataset,\n",
    "then this distribution over the cell types would be most likely.\n",
    "\n",
    "**Effects**\n",
    "\n",
    "For the effect summary, the first column again shows the inferred parameters for all combinations of covariates and cell types.\n",
    "Most important is the distinctions between zero and non-zero entries\n",
    "A value of zero means that no statistically credible effect was detected.\n",
    "For a value other than zero, a credible change was detected. A positive sign indicates an increase, a negative sign a decrease in abundance.\n",
    "\n",
    "Since the numerical values of the \"Final parameter\" columns are not straightforward to interpret, the \"Expected sample\" and \"log2-fold change\" columns give us an idea on the magnitude of the change.\n",
    "The expected sample is calculated for each covariate separately (covariate value = 1, all other covariates = 0), with the same method as for the intercepts.\n",
    "The log-fold change is then calculated between this expected sample and the expected sample with no active covariates from the intercept section.\n",
    "Since the data is compositional, cell types for which no credible change was detected, are expected to change in abundance as well.\n",
    "\n",
    "**Interpretation**\n",
    "\n",
    "In the salmonella case, we see only a credible increase of Enterocytes, while all other cell types are unaffected by the disease.\n",
    "The log-fold change of Enterocytes between control and infected samples with the same total cell count lies at about 1.54.\n",
    "\n",
    "We can also easily filter out all credible effects:"
   ],
   "metadata": {
    "collapsed": false,
    "pycharm": {
     "name": "#%% md\n"
    }
   }
  },
  {
   "cell_type": "code",
   "execution_count": 9,
   "outputs": [
    {
     "name": "stdout",
     "output_type": "stream",
     "text": [
      "Covariate          Cell Type            \n",
      "Condition[T.Salm]  Endocrine                False\n",
      "                   Enterocyte                True\n",
      "                   Enterocyte.Progenitor    False\n",
      "                   Goblet                   False\n",
      "                   Stem                     False\n",
      "                   TA                       False\n",
      "                   TA.Early                 False\n",
      "                   Tuft                     False\n",
      "Name: Inclusion probability, dtype: bool\n"
     ]
    }
   ],
   "source": [
    "print(sim_results.credible_effects())"
   ],
   "metadata": {
    "collapsed": false,
    "pycharm": {
     "name": "#%%\n"
    }
   }
  },
  {
   "cell_type": "markdown",
   "source": [
    "### Saving results\n",
    "\n",
    "The compositional analysis results can be saved as a pickle object via `results.save(<path_to_file>)`."
   ],
   "metadata": {
    "collapsed": false,
    "pycharm": {
     "name": "#%% md\n"
    }
   }
  },
  {
   "cell_type": "code",
   "execution_count": 10,
   "outputs": [
    {
     "name": "stdout",
     "output_type": "stream",
     "text": [
      "Compositional Analysis summary:\n",
      "\n",
      "Data: 6 samples, 8 cell types\n",
      "Reference index: 3\n",
      "Formula: Condition\n",
      "\n",
      "Intercepts:\n",
      "                       Final Parameter  Expected Sample\n",
      "Cell Type                                              \n",
      "Endocrine                        1.082        33.783515\n",
      "Enterocyte                       2.311       115.465635\n",
      "Enterocyte.Progenitor            2.514       141.453771\n",
      "Goblet                           1.753        66.087060\n",
      "Stem                             2.691       168.843619\n",
      "TA                               2.096        93.127820\n",
      "TA.Early                         2.855       198.933969\n",
      "Tuft                             0.413        17.304610\n",
      "\n",
      "\n",
      "Effects:\n",
      "                                         Final Parameter  Expected Sample  \\\n",
      "Covariate         Cell Type                                                 \n",
      "Condition[T.Salm] Endocrine                      0.00000        23.727535   \n",
      "                  Enterocyte                     1.40237       329.641775   \n",
      "                  Enterocyte.Progenitor          0.00000        99.348732   \n",
      "                  Goblet                         0.00000        46.415628   \n",
      "                  Stem                           0.00000       118.585735   \n",
      "                  TA                             0.00000        65.407453   \n",
      "                  TA.Early                       0.00000       139.719411   \n",
      "                  Tuft                           0.00000        12.153731   \n",
      "\n",
      "                                         log2-fold change  \n",
      "Covariate         Cell Type                                \n",
      "Condition[T.Salm] Endocrine                     -0.509757  \n",
      "                  Enterocyte                     1.513436  \n",
      "                  Enterocyte.Progenitor         -0.509757  \n",
      "                  Goblet                        -0.509757  \n",
      "                  Stem                          -0.509757  \n",
      "                  TA                            -0.509757  \n",
      "                  TA.Early                      -0.509757  \n",
      "                  Tuft                          -0.509757  \n"
     ]
    }
   ],
   "source": [
    "# saving\n",
    "path = \"test\"\n",
    "sim_results.save(path)\n",
    "\n",
    "# loading\n",
    "with open(path, \"rb\") as f:\n",
    "    sim_results_2 = pkl.load(f)\n",
    "    \n",
    "sim_results_2.summary()"
   ],
   "metadata": {
    "collapsed": false,
    "pycharm": {
     "name": "#%%\n"
    }
   }
  }
 ],
 "metadata": {
  "kernelspec": {
   "name": "pycharm-d14afe01",
   "language": "python",
   "display_name": "PyCharm (scCODA_tests)"
  },
  "language_info": {
   "codemirror_mode": {
    "name": "ipython",
    "version": 3
   },
   "file_extension": ".py",
   "mimetype": "text/x-python",
   "name": "python",
   "nbconvert_exporter": "python",
   "pygments_lexer": "ipython3",
   "version": "3.7.6"
  }
 },
 "nbformat": 4,
 "nbformat_minor": 1
}