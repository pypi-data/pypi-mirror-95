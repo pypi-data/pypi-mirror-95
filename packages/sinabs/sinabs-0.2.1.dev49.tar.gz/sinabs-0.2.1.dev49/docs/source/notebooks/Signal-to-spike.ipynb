{
 "cells": [
  {
   "cell_type": "markdown",
   "metadata": {},
   "source": [
    "# Generate rate-based spike trains from normalised float number"
   ]
  },
  {
   "cell_type": "markdown",
   "metadata": {},
   "source": [
    "We start by importing all relevant libraries."
   ]
  },
  {
   "cell_type": "code",
   "execution_count": 4,
   "metadata": {},
   "outputs": [],
   "source": [
    "import torch"
   ]
  },
  {
   "cell_type": "markdown",
   "metadata": {},
   "source": [
    "In practice, the inputs for Spiking Neural Networks are binary values where a 1 at a given time step corresponds to a spike at the corresponding time step.\n",
    "\n",
    "Below is a simple method that converts an image to a stream of spikes. You will see that the longer the time window we use to convert a static image to spikes, the more accurate the data representation is, as evident from the L2 distance measure."
   ]
  },
  {
   "cell_type": "code",
   "execution_count": 5,
   "metadata": {},
   "outputs": [
    {
     "name": "stdout",
     "output_type": "stream",
     "text": [
      "L2 distance between original image and converted spike trains:  8.164995193481445\n",
      "L2 distance between original image and converted spike trains:  2.593313694000244\n",
      "L2 distance between original image and converted spike trains:  0.8180820941925049\n"
     ]
    }
   ],
   "source": [
    "def get_spike_train(time_win, input_image):\n",
    "    input_image = torch.rand(1, 64, 64)\n",
    "    # randomize a tensor accordingly with #time_win per pixel\n",
    "    random_tensor = torch.rand(time_win, 1, 64, 64)\n",
    "    # generating 1 if random number is lower than the pixel value of the input_image\n",
    "    converted_spike_train =  (random_tensor < input_image).float()\n",
    "    # imag_original, is of 64*64 from input_image\n",
    "    img_original = input_image[0]\n",
    "    # img_converted, is the counted spikes over the time_win divided by the time_win\n",
    "    img_converted = converted_spike_train.sum(0)[0]/time_win\n",
    "    # the L2 distance between these two images\n",
    "    dist = torch.dist(img_original, img_converted, 2).item()\n",
    "    print(\"L2 distance between original image and converted spike trains: \", dist)\n",
    "    return converted_spike_train\n",
    "\n",
    "\n",
    "# Define a random image\n",
    "input_image = torch.rand(1, 64, 64)\n",
    "\n",
    "# Longer time_win results in more precise conversion\n",
    "time_win_list = [10, 100, 1000]\n",
    "for time_win in time_win_list:\n",
    "    get_spike_train(time_win, input_image)\n"
   ]
  },
  {
   "cell_type": "code",
   "execution_count": null,
   "metadata": {},
   "outputs": [],
   "source": []
  }
 ],
 "metadata": {
  "kernelspec": {
   "display_name": "Python 3",
   "language": "python",
   "name": "python3"
  },
  "language_info": {
   "codemirror_mode": {
    "name": "ipython",
    "version": 3
   },
   "file_extension": ".py",
   "mimetype": "text/x-python",
   "name": "python",
   "nbconvert_exporter": "python",
   "pygments_lexer": "ipython3",
   "version": "3.8.2"
  }
 },
 "nbformat": 4,
 "nbformat_minor": 2
}
