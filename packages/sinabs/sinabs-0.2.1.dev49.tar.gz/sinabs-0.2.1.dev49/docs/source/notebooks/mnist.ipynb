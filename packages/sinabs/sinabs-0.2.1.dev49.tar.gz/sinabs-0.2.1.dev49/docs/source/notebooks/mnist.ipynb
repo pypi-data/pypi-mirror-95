{
 "cells": [
  {
   "cell_type": "markdown",
   "metadata": {},
   "source": [
    "# MNIST Example\n",
    "\n",
    "This tutorial walks you through the different steps involved in building a spiking neural network in `sinabs`.\n",
    "\n",
    "Lets start by installing all the necessary packages. "
   ]
  },
  {
   "cell_type": "code",
   "execution_count": 1,
   "metadata": {},
   "outputs": [
    {
     "name": "stdout",
     "output_type": "stream",
     "text": [
      "Note: you may need to restart the kernel to use updated packages.\n"
     ]
    }
   ],
   "source": [
    "# To keep this tutorial clean and succint, we are directing the output of the `pip` command to a file `install_log`. \n",
    "# You might want to get rid of the output redirection if you want to make sure there are no errors.\n",
    "# %pip install -r mnist-requirements.txt\n",
    "\n",
    "%pip install -r mnist-requirements.txt > install_log"
   ]
  },
  {
   "cell_type": "markdown",
   "metadata": {},
   "source": [
    "## Training a model in `sinabs`"
   ]
  },
  {
   "cell_type": "markdown",
   "metadata": {},
   "source": [
    "###  Define a `PyTorch` Model\n",
    "\n",
    "`sinabs` is a `PyTorch` based library so. So we start by simply defining our model in `PyTorch`. In this example we instantiate a `nn.Sequential` model with 3 `Conv2d` layers and two dense (`nn.Linear`) layers."
   ]
  },
  {
   "cell_type": "code",
   "execution_count": 2,
   "metadata": {},
   "outputs": [],
   "source": [
    "import torch.nn as nn\n",
    "\n",
    "ann = nn.Sequential(\n",
    "    nn.Conv2d(1, 20, 5, 1, bias=False),\n",
    "    nn.ReLU(),\n",
    "    nn.AvgPool2d(2,2),\n",
    "    nn.Conv2d(20, 32, 5, 1, bias=False),\n",
    "    nn.ReLU(),\n",
    "    nn.AvgPool2d(2,2),\n",
    "    nn.Conv2d(32, 128, 3, 1, bias=False),\n",
    "    nn.ReLU(),\n",
    "    nn.AvgPool2d(2,2),\n",
    "    nn.Flatten(),\n",
    "    nn.Linear(128, 500, bias=False),\n",
    "    nn.ReLU(),\n",
    "    nn.Linear(500, 10, bias=False),\n",
    ")"
   ]
  },
  {
   "cell_type": "markdown",
   "metadata": {},
   "source": [
    "### Define DataSet"
   ]
  },
  {
   "cell_type": "markdown",
   "metadata": {},
   "source": [
    "As the title of this tutorial states, we will train the above model for `MNIST` digit classification task. We borrow the `Dataset` definition from torchvision. Here since we intend to do a spiking neural network simulation, we override this `Dataset` to also *optinally* return a `spike raster` instead of an image. \n",
    "\n",
    "In this implementation of the `Dataset` we use *rate coding* to generate a series of spikes at each pixel of the image proportional to it's gray level."
   ]
  },
  {
   "cell_type": "code",
   "execution_count": 3,
   "metadata": {},
   "outputs": [],
   "source": [
    "import numpy as np\n",
    "from PIL import Image\n",
    "from torchvision import datasets\n",
    "\n",
    "class MNIST_Dataset(datasets.MNIST):\n",
    "\n",
    "    def __init__(self, root, train = True, spiking=False, tWindow=100):\n",
    "        datasets.MNIST.__init__(self, root, train=train, download=True)\n",
    "        self.spiking=spiking\n",
    "        self.tWindow = tWindow\n",
    "\n",
    "\n",
    "    def __getitem__(self, index):\n",
    "        img, target = self.data[index], self.targets[index]\n",
    "\n",
    "        if self.spiking:\n",
    "            img = (np.random.rand(self.tWindow, 1, *img.size()) < img.numpy()/255.0).astype(float)\n",
    "            img = torch.from_numpy(img).float()\n",
    "        else:\n",
    "            # Convert PIL image to tensor\n",
    "            img = torch.from_numpy(img.numpy()).float()\n",
    "            img.unsqueeze_(0)\n",
    "\n",
    "        return img, target"
   ]
  },
  {
   "cell_type": "markdown",
   "metadata": {},
   "source": [
    "### Train the model"
   ]
  },
  {
   "cell_type": "markdown",
   "metadata": {},
   "source": [
    "We start by first training the `ann` over the `MNIST` image dataset. **Note** here that we are not yet using spiking input (`spiking=False`). This is vanilla training for starndard image classification."
   ]
  },
  {
   "cell_type": "code",
   "execution_count": 4,
   "metadata": {},
   "outputs": [],
   "source": [
    "from torch.utils.data import DataLoader\n",
    "\n",
    "# Define test dataset loader\n",
    "train_loader = DataLoader(\n",
    "    MNIST_Dataset('./data', train=True, spiking=False),\n",
    "    batch_size=128, shuffle=True)"
   ]
  },
  {
   "cell_type": "markdown",
   "metadata": {},
   "source": [
    "We iterate over our data loader `trian_loader` and train our parameters using the `Adam` optimizer with a learning rate of `1e-4`. Since the last layer in our network has no specific activation function defined, `cross_entropy` loss is a good candidate to train our network."
   ]
  },
  {
   "cell_type": "code",
   "execution_count": 6,
   "metadata": {},
   "outputs": [
    {
     "data": {
      "application/vnd.jupyter.widget-view+json": {
       "model_id": "ce8fccedaf754e88808a27f78ac56c57",
       "version_major": 2,
       "version_minor": 0
      },
      "text/plain": [
       "HBox(children=(HTML(value=''), FloatProgress(value=0.0, max=3.0), HTML(value='')))"
      ]
     },
     "metadata": {},
     "output_type": "display_data"
    },
    {
     "data": {
      "application/vnd.jupyter.widget-view+json": {
       "model_id": "30dbbef9d2dd4a6485bd7734b0eb8b7a",
       "version_major": 2,
       "version_minor": 0
      },
      "text/plain": [
       "HBox(children=(HTML(value=''), FloatProgress(value=0.0, max=469.0), HTML(value='')))"
      ]
     },
     "metadata": {},
     "output_type": "display_data"
    },
    {
     "name": "stdout",
     "output_type": "stream",
     "text": [
      "\n"
     ]
    },
    {
     "data": {
      "application/vnd.jupyter.widget-view+json": {
       "model_id": "b1762aa66e114b8b8e264af945919550",
       "version_major": 2,
       "version_minor": 0
      },
      "text/plain": [
       "HBox(children=(HTML(value=''), FloatProgress(value=0.0, max=469.0), HTML(value='')))"
      ]
     },
     "metadata": {},
     "output_type": "display_data"
    },
    {
     "name": "stdout",
     "output_type": "stream",
     "text": [
      "\n"
     ]
    },
    {
     "data": {
      "application/vnd.jupyter.widget-view+json": {
       "model_id": "ebbc7f70ea9946d8a434253fed84b9cf",
       "version_major": 2,
       "version_minor": 0
      },
      "text/plain": [
       "HBox(children=(HTML(value=''), FloatProgress(value=0.0, max=469.0), HTML(value='')))"
      ]
     },
     "metadata": {},
     "output_type": "display_data"
    },
    {
     "name": "stdout",
     "output_type": "stream",
     "text": [
      "\n",
      "\n"
     ]
    }
   ],
   "source": [
    "import tqdm\n",
    "import torch\n",
    "import torch.nn.functional as F\n",
    "import torch.optim as optim\n",
    "\n",
    "device = torch.device(\"cpu\")\n",
    "\n",
    "\n",
    "try:\n",
    "    # Load a pre-trained model to save time if you have already have one.\n",
    "    ann.load_state_dict(torch.load(\"mnist_params.pt\"))\n",
    "except:\n",
    "    # Train the model\n",
    "\n",
    "    ann.train()\n",
    "\n",
    "    optim = torch.optim.Adam(ann.parameters(), lr=1e-4)\n",
    "\n",
    "    n_epochs = 3\n",
    "\n",
    "    for n in tqdm.notebook.tqdm(range(n_epochs)):\n",
    "        pbar = tqdm.notebook.tqdm(train_loader)\n",
    "        # Iterate over data\n",
    "        for data, target in pbar:\n",
    "            data, target = data.to(device), target.to(device)\n",
    "            output = ann(data)\n",
    "            optim.zero_grad()\n",
    "\n",
    "            # Add loss to the total loss\n",
    "            loss = F.cross_entropy(output, target)\n",
    "\n",
    "            # Propagate loss backwards\n",
    "            loss.backward()\n",
    "\n",
    "            # Update weights\n",
    "            optim.step()\n",
    "\n",
    "            # get the index of the max log-probability\n",
    "            pred = output.argmax(dim=1, keepdim=True)\n",
    "\n",
    "            # Compute the total correct predictions\n",
    "            correct = pred.eq(target.view_as(pred)).sum().item()\n",
    "\n",
    "            pbar.set_postfix({\"loss\": loss.item(), \"accuracy\": correct/(len(target))})\n",
    "            \n",
    "    # Save model parameters\n",
    "    torch.save(ann.state_dict(), \"mnist_params.pt\")"
   ]
  },
  {
   "cell_type": "markdown",
   "metadata": {},
   "source": [
    "Training this model on `MNIST` is fairly straight forward and you should reach accuracies of around `>98%` within a small number of epochs. In the script above we only train for 3 epochs!"
   ]
  },
  {
   "cell_type": "markdown",
   "metadata": {},
   "source": [
    "In order to test the accuracy of our model, we first define a convenience method to test and report its performance."
   ]
  },
  {
   "cell_type": "code",
   "execution_count": 7,
   "metadata": {},
   "outputs": [],
   "source": [
    "import warnings\n",
    "\n",
    "# Convenience method to test the model\n",
    "def test(model, data_loader, num_batches=None):\n",
    "    model.eval()\n",
    "    correct = 0\n",
    "    batch_count = 0\n",
    "\n",
    "    with torch.no_grad():\n",
    "        # Iterate over data\n",
    "        pbar = tqdm.notebook.tqdm(data_loader)\n",
    "        for data, target in pbar:\n",
    "            if data_loader.dataset.spiking:\n",
    "                if len(data.size()) > 4:\n",
    "                    warnings.warn(\"Warning: Batch size needs to be 1, only first sample used.\", stacklevel=2)\n",
    "                    data = data[0]\n",
    "                    target = target[0]\n",
    "            output = model(data)\n",
    "            if data_loader.dataset.spiking:\n",
    "                output = output.sum(0).squeeze().unsqueeze(0)\n",
    "                target = target.unsqueeze(0)\n",
    "            \n",
    "            # get the index of the max log-probability\n",
    "            pred = output.argmax(dim=1, keepdim=True)\n",
    "            # Compute the total correct predictions\n",
    "            correct += pred.eq(target.view_as(pred)).sum().item()\n",
    "\n",
    "            batch_count += 1\n",
    "            if (batch_count*data_loader.batch_size)%500 == 0:\n",
    "                pbar.set_postfix({\"Accuracy\" : correct/(batch_count*data_loader.batch_size)})\n",
    "            if num_batches:\n",
    "                if num_batches <= batch_count: break;\n",
    "\n",
    "    # Total samples:\n",
    "    num_data = (batch_count*data_loader.batch_size)\n",
    "\n",
    "    print(f'Test set: Accuracy: {correct}/{num_data} ({100. * correct / num_data}%)\\n'.format(correct, num_data,\n",
    "        ))\n"
   ]
  },
  {
   "cell_type": "markdown",
   "metadata": {},
   "source": [
    "Now let us test our model (`ann`) on our test dataset to check its preformance. Once again we do this by first defining a dataloader."
   ]
  },
  {
   "cell_type": "code",
   "execution_count": 8,
   "metadata": {},
   "outputs": [],
   "source": [
    "# Define test dataset loader\n",
    "test_loader = torch.utils.data.DataLoader(\n",
    "    MNIST_Dataset('./data', train=False, spiking=False),\n",
    "    batch_size=5, shuffle=False)"
   ]
  },
  {
   "cell_type": "markdown",
   "metadata": {},
   "source": [
    "We can now pass our model (`ann`) and the dataloader (`test_loader`) to our test function."
   ]
  },
  {
   "cell_type": "code",
   "execution_count": 9,
   "metadata": {},
   "outputs": [
    {
     "data": {
      "application/vnd.jupyter.widget-view+json": {
       "model_id": "c8199d1c395a4db6b151d700d8536459",
       "version_major": 2,
       "version_minor": 0
      },
      "text/plain": [
       "HBox(children=(HTML(value=''), FloatProgress(value=0.0, max=2000.0), HTML(value='')))"
      ]
     },
     "metadata": {},
     "output_type": "display_data"
    },
    {
     "name": "stdout",
     "output_type": "stream",
     "text": [
      "\n",
      "Test set: Accuracy: 9796/10000 (97.96%)\n",
      "\n"
     ]
    }
   ],
   "source": [
    "test(ann, test_loader)"
   ]
  },
  {
   "cell_type": "markdown",
   "metadata": {},
   "source": [
    "We see that we now have a good model (`98%` accuracy) to perform MNIST hand written digit classification. "
   ]
  },
  {
   "cell_type": "markdown",
   "metadata": {},
   "source": [
    "###  Model conversion to SNN\n",
    "\n",
    "Up until this point we have only operated on images using standard CNN architectures. Now we look at how to build an equivalent spiking convolutional neural network (`SCNN`).\n",
    "\n",
    "`sinabs` has a handy method for this. Given a standard CNN model, the `from_model` method in `sinabs` that converts it into a spiking neural network. It is a *one liner*! "
   ]
  },
  {
   "cell_type": "code",
   "execution_count": 12,
   "metadata": {},
   "outputs": [],
   "source": [
    "from sinabs.from_torch import from_model\n",
    "\n",
    "input_shape = (1, 28, 28)\n",
    "\n",
    "sinabs_model = from_model(ann, input_shape=input_shape, add_spiking_output=True, synops=True)"
   ]
  },
  {
   "cell_type": "markdown",
   "metadata": {},
   "source": [
    "You can see that this method takes two more parameters in addition to the model to be converted.\n",
    "\n",
    "`input_shape` is needed in order to instantiate a SNN with the appropriate number of neurons because unline traditional CNNs, SNNs are *stateful*.\n",
    "\n",
    "`add_spiking_output` is a boolean flag to specify whether or not to add a spiking layer as the last layer in the network. This ensure that both the input and output to our network are of the form of `spikes`.\n",
    "\n",
    "`synops=True` tells sinabs to include the machinery for calculating synaptic operations, which we'll use later.\n",
    "\n",
    "Let us now look at the generated SCNN. You should see that the only major difference is that the `ReLU` layers are replace by `SpikingLayer`."
   ]
  },
  {
   "cell_type": "code",
   "execution_count": 14,
   "metadata": {},
   "outputs": [
    {
     "data": {
      "text/plain": [
       "Sequential(\n",
       "  (0): Conv2d(1, 20, kernel_size=(5, 5), stride=(1, 1), bias=False)\n",
       "  (1): SpikingLayer()\n",
       "  (2): AvgPool2d(kernel_size=2, stride=2, padding=0)\n",
       "  (3): Conv2d(20, 32, kernel_size=(5, 5), stride=(1, 1), bias=False)\n",
       "  (4): SpikingLayer()\n",
       "  (5): AvgPool2d(kernel_size=2, stride=2, padding=0)\n",
       "  (6): Conv2d(32, 128, kernel_size=(3, 3), stride=(1, 1), bias=False)\n",
       "  (7): SpikingLayer()\n",
       "  (8): AvgPool2d(kernel_size=2, stride=2, padding=0)\n",
       "  (9): Flatten()\n",
       "  (10): Linear(in_features=128, out_features=500, bias=False)\n",
       "  (11): SpikingLayer()\n",
       "  (12): Linear(in_features=500, out_features=10, bias=False)\n",
       "  (Spiking output): SpikingLayer()\n",
       ")"
      ]
     },
     "execution_count": 14,
     "metadata": {},
     "output_type": "execute_result"
    }
   ],
   "source": [
    "sinabs_model.spiking_model"
   ]
  },
  {
   "cell_type": "markdown",
   "metadata": {},
   "source": [
    "### Model validation in sinabs simulation"
   ]
  },
  {
   "cell_type": "markdown",
   "metadata": {},
   "source": [
    "Lets test our SCNN model to verify whether the network is infact \"equivalent\" to the CNN model in terms of its performance. As we did previously we start by defining a data loader (this time is is going to produce spikes, `spiking=True`) and then pass it to our test method."
   ]
  },
  {
   "cell_type": "code",
   "execution_count": 15,
   "metadata": {},
   "outputs": [],
   "source": [
    "# Time window per sample\n",
    "tWindow = 200 # ms (or) time steps\n",
    "\n",
    "# Define test dataset loader\n",
    "test_spike_loader = torch.utils.data.DataLoader(\n",
    "    MNIST_Dataset('./data', train=False, spiking=True, tWindow=tWindow),\n",
    "    batch_size=1, shuffle=False)"
   ]
  },
  {
   "cell_type": "markdown",
   "metadata": {},
   "source": [
    "Since the spiking simulations are significantly slower on a PC, we are going to limit our test to 200 samples here. You can ofcourse test it on the entire 10k samples if you want to verify that it infact works."
   ]
  },
  {
   "cell_type": "code",
   "execution_count": 16,
   "metadata": {},
   "outputs": [
    {
     "data": {
      "application/vnd.jupyter.widget-view+json": {
       "model_id": "ec3693ea4b9148308907274bf7e64a76",
       "version_major": 2,
       "version_minor": 0
      },
      "text/plain": [
       "HBox(children=(HTML(value=''), FloatProgress(value=0.0, max=10000.0), HTML(value='')))"
      ]
     },
     "metadata": {},
     "output_type": "display_data"
    },
    {
     "name": "stderr",
     "output_type": "stream",
     "text": [
      "<ipython-input-16-e1dd71757a54>:1: UserWarning: Warning: Batch size needs to be 1, only first sample used.\n",
      "  test(sinabs_model, test_spike_loader, num_batches=200)\n"
     ]
    },
    {
     "name": "stdout",
     "output_type": "stream",
     "text": [
      "\n",
      "Test set: Accuracy: 197/200 (98.5%)\n",
      "\n"
     ]
    }
   ],
   "source": [
    "test(sinabs_model, test_spike_loader, num_batches=200)"
   ]
  },
  {
   "cell_type": "markdown",
   "metadata": {},
   "source": [
    "We see that this auto-generated spiking (`sinabs_model`) network's performance is close to that of the `ann`! Yay!\n",
    "\n",
    "You would have noticed a free parameter that was added `tWindow`. This is a critical parameter that determines whether or not your SNN is going to work well. The longer `tWindow` is, the more spikes we produce as input and the better the performance of the network is going to be. Feel free to experiment with this parameter and see how this changes your network performance."
   ]
  },
  {
   "cell_type": "markdown",
   "metadata": {},
   "source": [
    "### Visualisation of specific example"
   ]
  },
  {
   "cell_type": "code",
   "execution_count": 17,
   "metadata": {},
   "outputs": [],
   "source": [
    "# Get one sample from the dataloader\n",
    "for img, label in test_spike_loader:\n",
    "    break\n",
    "img = img[0] # Img should now have dimensions [Time, Channel, Height, Width]"
   ]
  },
  {
   "cell_type": "markdown",
   "metadata": {},
   "source": [
    "Lets visualize this data, just so we know what to expect. We can do this by collapsing the time dimension of the spike raster returned by the dataloader."
   ]
  },
  {
   "cell_type": "code",
   "execution_count": 18,
   "metadata": {},
   "outputs": [
    {
     "data": {
      "text/plain": [
       "<matplotlib.image.AxesImage at 0x7f8ce2c98e50>"
      ]
     },
     "execution_count": 18,
     "metadata": {},
     "output_type": "execute_result"
    },
    {
     "data": {
      "image/png": "[encoded data removed]",
      "text/plain": [
       "<Figure size 432x288 with 1 Axes>"
      ]
     },
     "metadata": {
      "needs_background": "light"
     },
     "output_type": "display_data"
    }
   ],
   "source": [
    "import matplotlib.pyplot as plt\n",
    "\n",
    "%matplotlib inline\n",
    "\n",
    "plt.imshow(img.sum(0)[0])"
   ]
  },
  {
   "cell_type": "markdown",
   "metadata": {},
   "source": [
    "We now take this data (including the time dimension), and pass it to the Sinabs SNN model."
   ]
  },
  {
   "cell_type": "code",
   "execution_count": 19,
   "metadata": {},
   "outputs": [],
   "source": [
    "snn_output = sinabs_model(img)"
   ]
  },
  {
   "cell_type": "markdown",
   "metadata": {},
   "source": [
    "Let us now display the output in time."
   ]
  },
  {
   "cell_type": "code",
   "execution_count": 20,
   "metadata": {},
   "outputs": [
    {
     "data": {
      "text/plain": [
       "Text(0.5, 0, 'Time')"
      ]
     },
     "execution_count": 20,
     "metadata": {},
     "output_type": "execute_result"
    },
    {
     "data": {
      "image/png": "[encoded data removed]",
      "text/plain": [
       "<Figure size 432x288 with 1 Axes>"
      ]
     },
     "metadata": {
      "needs_background": "light"
     },
     "output_type": "display_data"
    }
   ],
   "source": [
    "plt.pcolormesh(snn_output.T.detach())\n",
    "\n",
    "plt.ylabel(\"Neuron ID\")\n",
    "plt.yticks(np.arange(10) + 0.5, np.arange(10));\n",
    "plt.xlabel(\"Time\")"
   ]
  },
  {
   "cell_type": "markdown",
   "metadata": {},
   "source": [
    "As you can see, the majority of spikes are emitted by the output neuron corresponding to the digit 7, which is a correct inference."
   ]
  },
  {
   "cell_type": "markdown",
   "metadata": {},
   "source": [
    "## More analysis of the SNN"
   ]
  },
  {
   "cell_type": "markdown",
   "metadata": {},
   "source": [
    "### Synaptic Operations\n",
    "\n",
    "One of the factors you might be interested in finding out about your model is the total number of synaptic operations required for an inference. The `Network` class provides a handy method to compute the total number of synaptic operations for the last inference performed by the model.\n",
    "\n",
    "For instance, in order to look at the total synaptic operations per layer for recognition of image `7` we run the `get_synops` method."
   ]
  },
  {
   "cell_type": "code",
   "execution_count": 21,
   "metadata": {},
   "outputs": [
    {
     "data": {
      "text/html": [
       "<div>\n",
       "<style scoped>\n",
       "    .dataframe tbody tr th:only-of-type {\n",
       "        vertical-align: middle;\n",
       "    }\n",
       "\n",
       "    .dataframe tbody tr th {\n",
       "        vertical-align: top;\n",
       "    }\n",
       "\n",
       "    .dataframe thead th {\n",
       "        text-align: right;\n",
       "    }\n",
       "</style>\n",
       "<table border=\"1\" class=\"dataframe\">\n",
       "  <thead>\n",
       "    <tr style=\"text-align: right;\">\n",
       "      <th></th>\n",
       "      <th>Fanout_Prev</th>\n",
       "      <th>In</th>\n",
       "      <th>N. timesteps</th>\n",
       "      <th>SynOps</th>\n",
       "      <th>SynOps/s</th>\n",
       "      <th>Time window (ms)</th>\n",
       "    </tr>\n",
       "    <tr>\n",
       "      <th>Layer</th>\n",
       "      <th></th>\n",
       "      <th></th>\n",
       "      <th></th>\n",
       "      <th></th>\n",
       "      <th></th>\n",
       "      <th></th>\n",
       "    </tr>\n",
       "  </thead>\n",
       "  <tbody>\n",
       "    <tr>\n",
       "      <th>1.0</th>\n",
       "      <td>500.0</td>\n",
       "      <td>14462.00</td>\n",
       "      <td>200.0</td>\n",
       "      <td>7231000.0</td>\n",
       "      <td>36155000.0</td>\n",
       "      <td>200.0</td>\n",
       "    </tr>\n",
       "    <tr>\n",
       "      <th>4.0</th>\n",
       "      <td>800.0</td>\n",
       "      <td>29603.25</td>\n",
       "      <td>200.0</td>\n",
       "      <td>23682600.0</td>\n",
       "      <td>118413000.0</td>\n",
       "      <td>200.0</td>\n",
       "    </tr>\n",
       "    <tr>\n",
       "      <th>7.0</th>\n",
       "      <td>1152.0</td>\n",
       "      <td>7062.50</td>\n",
       "      <td>200.0</td>\n",
       "      <td>8136000.0</td>\n",
       "      <td>40680000.0</td>\n",
       "      <td>200.0</td>\n",
       "    </tr>\n",
       "    <tr>\n",
       "      <th>11.0</th>\n",
       "      <td>500.0</td>\n",
       "      <td>871.25</td>\n",
       "      <td>200.0</td>\n",
       "      <td>435625.0</td>\n",
       "      <td>2178125.0</td>\n",
       "      <td>200.0</td>\n",
       "    </tr>\n",
       "    <tr>\n",
       "      <th>13.0</th>\n",
       "      <td>10.0</td>\n",
       "      <td>1241.00</td>\n",
       "      <td>200.0</td>\n",
       "      <td>12410.0</td>\n",
       "      <td>62050.0</td>\n",
       "      <td>200.0</td>\n",
       "    </tr>\n",
       "  </tbody>\n",
       "</table>\n",
       "</div>"
      ],
      "text/plain": [
       "       Fanout_Prev        In  N. timesteps      SynOps     SynOps/s  \\\n",
       "Layer                                                                 \n",
       "1.0          500.0  14462.00         200.0   7231000.0   36155000.0   \n",
       "4.0          800.0  29603.25         200.0  23682600.0  118413000.0   \n",
       "7.0         1152.0   7062.50         200.0   8136000.0   40680000.0   \n",
       "11.0         500.0    871.25         200.0    435625.0    2178125.0   \n",
       "13.0          10.0   1241.00         200.0     12410.0      62050.0   \n",
       "\n",
       "       Time window (ms)  \n",
       "Layer                    \n",
       "1.0               200.0  \n",
       "4.0               200.0  \n",
       "7.0               200.0  \n",
       "11.0              200.0  \n",
       "13.0              200.0  "
      ]
     },
     "execution_count": 21,
     "metadata": {},
     "output_type": "execute_result"
    }
   ],
   "source": [
    "sinabs_model.get_synops()"
   ]
  },
  {
   "cell_type": "markdown",
   "metadata": {},
   "source": [
    "### Comparing activity of the ANN with SNN"
   ]
  },
  {
   "cell_type": "code",
   "execution_count": 22,
   "metadata": {},
   "outputs": [
    {
     "data": {
      "image/png": "[encoded data removed]",
      "text/plain": [
       "<Figure size 432x288 with 1 Axes>"
      ]
     },
     "metadata": {
      "needs_background": "light"
     },
     "output_type": "display_data"
    },
    {
     "data": {
      "image/png": "[encoded data removed]",
      "text/plain": [
       "<Figure size 432x288 with 1 Axes>"
      ]
     },
     "metadata": {
      "needs_background": "light"
     },
     "output_type": "display_data"
    }
   ],
   "source": [
    "# Generate data to use\n",
    "for data, label in test_spike_loader:\n",
    "    break;\n",
    "\n",
    "cnn_act, spk_act = sinabs_model.plot_comparison(data[0], compute_rate=True, name_list=['1'])\n",
    "plt.figure()\n",
    "cnn_act, spk_act = sinabs_model.plot_comparison(data[0], compute_rate=True, name_list=['11'])"
   ]
  },
  {
   "cell_type": "code",
   "execution_count": null,
   "metadata": {},
   "outputs": [],
   "source": []
  }
 ],
 "metadata": {
  "kernelspec": {
   "display_name": "Python 3",
   "language": "python",
   "name": "python3"
  },
  "language_info": {
   "codemirror_mode": {
    "name": "ipython",
    "version": 3
   },
   "file_extension": ".py",
   "mimetype": "text/x-python",
   "name": "python",
   "nbconvert_exporter": "python",
   "pygments_lexer": "ipython3",
   "version": "3.8.5"
  }
 },
 "nbformat": 4,
 "nbformat_minor": 4
}
