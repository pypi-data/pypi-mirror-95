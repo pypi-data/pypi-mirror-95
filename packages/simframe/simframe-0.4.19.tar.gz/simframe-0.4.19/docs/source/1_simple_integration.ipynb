{
 "cells": [
  {
   "cell_type": "markdown",
   "metadata": {},
   "source": [
    "In this tutorial you'll learn how to\n",
    "\n",
    "* set up frames\n",
    "* create fields\n",
    "* create integration variables\n",
    "* set up derivatives\n",
    "* set up integration instructions\n",
    "* run simulations\n",
    "* read and write data\n",
    "\n",
    "For this notebook you need `matplotlib` and `scipy` in addition to the `simframe` requirements."
   ]
  },
  {
   "cell_type": "markdown",
   "metadata": {},
   "source": [
    "# Simple Integration"
   ]
  },
  {
   "cell_type": "markdown",
   "metadata": {},
   "source": [
    "In this tutorial we want to solve the most simple differential equation\n",
    "\n",
    "$\\frac{\\mathrm{d}Y}{\\mathrm{d}x} = b\\ Y$\n",
    "\n",
    "with the initial condition\n",
    "\n",
    "$Y \\left( 0 \\right) = A$.\n",
    "\n",
    "This problem has the solution\n",
    "\n",
    "$Y \\left( x \\right) = A\\ e^{bx}$.\n",
    "\n",
    "We set up some parameters that allow us to easily change the problem and rerun the simulation."
   ]
  },
  {
   "cell_type": "code",
   "execution_count": 1,
   "metadata": {},
   "outputs": [],
   "source": [
    "A  = 10.  # Initial value of Y\n",
    "b  = -1.  # decay factor\n",
    "dx =  0.1 # Stepsize"
   ]
  },
  {
   "cell_type": "markdown",
   "metadata": {},
   "source": [
    "## Setting up frames\n",
    "\n",
    "Frame objects are the core functionality of `simframe`. They contain everything you need to run a simulation, from variable to parameters to integration schemes."
   ]
  },
  {
   "cell_type": "code",
   "execution_count": 2,
   "metadata": {},
   "outputs": [],
   "source": [
    "from simframe import Frame"
   ]
  },
  {
   "cell_type": "markdown",
   "metadata": {},
   "source": [
    "Here we set up a `Frame` object called `sim` and give it a meaningful description of our problem."
   ]
  },
  {
   "cell_type": "code",
   "execution_count": 3,
   "metadata": {},
   "outputs": [],
   "source": [
    "sim = Frame(description=\"Simple Integration\")"
   ]
  },
  {
   "cell_type": "markdown",
   "metadata": {},
   "source": [
    "Right now the frame is empty. It contains attributes for integration and writing of data, that we need to specify later."
   ]
  },
  {
   "cell_type": "code",
   "execution_count": 4,
   "metadata": {},
   "outputs": [
    {
     "data": {
      "text/plain": [
       "Frame (Simple Integration)\n",
       "--------------------------\n",
       "    Integrator   : \u001b[93mnot specified\u001b[0m\n",
       "    Writer       : \u001b[93mnot specified\u001b[0m"
      ]
     },
     "execution_count": 4,
     "metadata": {},
     "output_type": "execute_result"
    }
   ],
   "source": [
    "sim"
   ]
  },
  {
   "cell_type": "markdown",
   "metadata": {},
   "source": [
    "## Creating fields\n",
    "\n",
    "We can now fill the empty frame with our problem. First, we create a field for our variable `Y` and initialize it with its initial value `A`. Upon initialization field need to have the correct shape and data type already. This cannot be changed later."
   ]
  },
  {
   "cell_type": "code",
   "execution_count": 5,
   "metadata": {},
   "outputs": [],
   "source": [
    "sim.addfield(\"Y\", A)"
   ]
  },
  {
   "cell_type": "markdown",
   "metadata": {},
   "source": [
    "The frame object has now the field `Y`."
   ]
  },
  {
   "cell_type": "code",
   "execution_count": 6,
   "metadata": {},
   "outputs": [
    {
     "data": {
      "text/plain": [
       "Frame (Simple Integration)\n",
       "--------------------------\n",
       "    Y            : Field\n",
       "  -----\n",
       "    Integrator   : \u001b[93mnot specified\u001b[0m\n",
       "    Writer       : \u001b[93mnot specified\u001b[0m"
      ]
     },
     "execution_count": 6,
     "metadata": {},
     "output_type": "execute_result"
    }
   ],
   "source": [
    "sim"
   ]
  },
  {
   "cell_type": "markdown",
   "metadata": {},
   "source": [
    "You can do all kinds of operations with `Y` just as with `numpy.ndarray`."
   ]
  },
  {
   "cell_type": "code",
   "execution_count": 7,
   "metadata": {},
   "outputs": [
    {
     "data": {
      "text/plain": [
       "13.0"
      ]
     },
     "execution_count": 7,
     "metadata": {},
     "output_type": "execute_result"
    }
   ],
   "source": [
    "sim.Y + 3"
   ]
  },
  {
   "cell_type": "code",
   "execution_count": 8,
   "metadata": {},
   "outputs": [],
   "source": [
    "import numpy as np"
   ]
  },
  {
   "cell_type": "code",
   "execution_count": 9,
   "metadata": {},
   "outputs": [
    {
     "data": {
      "text/plain": [
       "22026.465794806718"
      ]
     },
     "execution_count": 9,
     "metadata": {},
     "output_type": "execute_result"
    }
   ],
   "source": [
    "np.exp(sim.Y)"
   ]
  },
  {
   "cell_type": "markdown",
   "metadata": {},
   "source": [
    "## Setting up derivatives\n",
    "\n",
    "To solve for `Y` we have to specify a derivative of the field that can be used by the integrator. The function for the derivative of any variable needs the frame object, the integration variable, and the variable itself as positional arguments and needs to return the value of the derivative.\n",
    "\n",
    "`derivative(frame, x, Y)`\n",
    "\n",
    "In our case here the derivative is very simple but more complex equations could also use different fields by adressing them via the `frame` object."
   ]
  },
  {
   "cell_type": "code",
   "execution_count": 10,
   "metadata": {},
   "outputs": [],
   "source": [
    "def dYdx(frame, x, Y):\n",
    "    return b*Y"
   ]
  },
  {
   "cell_type": "markdown",
   "metadata": {},
   "source": [
    "Now we have to assign this function to the differentiator of our variable `Y`."
   ]
  },
  {
   "cell_type": "code",
   "execution_count": 11,
   "metadata": {},
   "outputs": [],
   "source": [
    "sim.Y.differentiator = dYdx"
   ]
  },
  {
   "cell_type": "markdown",
   "metadata": {},
   "source": [
    "The derivative can be called with `.derivative(x, Y)`. If you don't give `x` or `Y`, then `simframe` assumes the current values, which does not work at this moment, because we have not set `x`, yet."
   ]
  },
  {
   "cell_type": "code",
   "execution_count": 12,
   "metadata": {},
   "outputs": [
    {
     "data": {
      "text/plain": [
       "-10.0"
      ]
     },
     "execution_count": 12,
     "metadata": {},
     "output_type": "execute_result"
    }
   ],
   "source": [
    "sim.Y.derivative(0., A)"
   ]
  },
  {
   "cell_type": "markdown",
   "metadata": {},
   "source": [
    "## Creating integration variables\n",
    "\n",
    "Every frame objects needs at least one integration variable that controls the workflow and is advancing the simulation in space or time for example. In our case this is `x`. Integration variables can be added to the frame object just as fields."
   ]
  },
  {
   "cell_type": "code",
   "execution_count": 13,
   "metadata": {},
   "outputs": [],
   "source": [
    "sim.addintegrationvariable(\"x\", 0.)"
   ]
  },
  {
   "cell_type": "markdown",
   "metadata": {},
   "source": [
    "The frame objects has now the integration variable `x`."
   ]
  },
  {
   "cell_type": "code",
   "execution_count": 14,
   "metadata": {},
   "outputs": [
    {
     "data": {
      "text/plain": [
       "Frame (Simple Integration)\n",
       "--------------------------\n",
       "    x            : Field, \u001b[95mIntegration variable\u001b[0m\n",
       "    Y            : Field\n",
       "  -----\n",
       "    Integrator   : \u001b[93mnot specified\u001b[0m\n",
       "    Writer       : \u001b[93mnot specified\u001b[0m"
      ]
     },
     "execution_count": 14,
     "metadata": {},
     "output_type": "execute_result"
    }
   ],
   "source": [
    "sim"
   ]
  },
  {
   "cell_type": "markdown",
   "metadata": {},
   "source": [
    "The integration variable is used to advance the simulation in `x` in our case and needs to know about the stesize. We therefore have to create a function that returns `dx`. The only argument of this function has to be the frame object and needs to return the step size.\n",
    "\n",
    "In our simple case we just want to return a constant step size that we defined earlier."
   ]
  },
  {
   "cell_type": "code",
   "execution_count": 15,
   "metadata": {},
   "outputs": [],
   "source": [
    "def f_dx(frame):\n",
    "    return dx"
   ]
  },
  {
   "cell_type": "markdown",
   "metadata": {},
   "source": [
    "We now have to tell the updater of the itnegration variable to use this function."
   ]
  },
  {
   "cell_type": "code",
   "execution_count": 16,
   "metadata": {},
   "outputs": [],
   "source": [
    "sim.x.updater = f_dx"
   ]
  },
  {
   "cell_type": "markdown",
   "metadata": {},
   "source": [
    "In addition to that, the integration variable needs to know about snapshots, i.e. points in space or time, when data should be written. Even you don't want to write data, you need to give at least one fineal value, because `simframe` needs to know when to stop the calculation. The snapshots have to be either a list or an array with the desired snapshots in increasing order."
   ]
  },
  {
   "cell_type": "code",
   "execution_count": 17,
   "metadata": {},
   "outputs": [],
   "source": [
    "sim.x.snapshots = np.linspace(1., 10., 10)"
   ]
  },
  {
   "cell_type": "markdown",
   "metadata": {},
   "source": [
    "Compared to regular fields, integration variables have additional functionality. For example we can get the current step size, the maximum possible step size until the next snapshot is written, and the value of the integration variable at the next snapshot."
   ]
  },
  {
   "cell_type": "code",
   "execution_count": 18,
   "metadata": {},
   "outputs": [
    {
     "data": {
      "text/plain": [
       "0.1"
      ]
     },
     "execution_count": 18,
     "metadata": {},
     "output_type": "execute_result"
    }
   ],
   "source": [
    "sim.x.stepsize"
   ]
  },
  {
   "cell_type": "code",
   "execution_count": 19,
   "metadata": {},
   "outputs": [
    {
     "data": {
      "text/plain": [
       "1.0"
      ]
     },
     "execution_count": 19,
     "metadata": {},
     "output_type": "execute_result"
    }
   ],
   "source": [
    "sim.x.maxstepsize"
   ]
  },
  {
   "cell_type": "code",
   "execution_count": 20,
   "metadata": {},
   "outputs": [
    {
     "data": {
      "text/plain": [
       "1.0"
      ]
     },
     "execution_count": 20,
     "metadata": {},
     "output_type": "execute_result"
    }
   ],
   "source": [
    "sim.x.nextsnapshot"
   ]
  },
  {
   "cell_type": "markdown",
   "metadata": {},
   "source": [
    "The previously taken stepsize can be accessed with the following attribute, which is set to $0$ by default upon initialization."
   ]
  },
  {
   "cell_type": "code",
   "execution_count": 21,
   "metadata": {},
   "outputs": [
    {
     "data": {
      "text/plain": [
       "0.0"
      ]
     },
     "execution_count": 21,
     "metadata": {},
     "output_type": "execute_result"
    }
   ],
   "source": [
    "sim.x.prevstepsize"
   ]
  },
  {
   "cell_type": "markdown",
   "metadata": {},
   "source": [
    "## Setting up the integrator\n",
    "\n",
    "So far we have set up our variables. But we also need to set up an integrator that is performing the actual integration. In our case we want to use a simple explicit Euler 1st-order scheme. The integrator needs the integration variable as positional argument during initialization. We could therefore for example set up different integrators with different integration variables and exchange them midway."
   ]
  },
  {
   "cell_type": "code",
   "execution_count": 22,
   "metadata": {},
   "outputs": [],
   "source": [
    "from simframe import Integrator"
   ]
  },
  {
   "cell_type": "code",
   "execution_count": 23,
   "metadata": {},
   "outputs": [],
   "source": [
    "sim.integrator = Integrator(sim.x, description=\"Euler 1st-order\")"
   ]
  },
  {
   "cell_type": "markdown",
   "metadata": {},
   "source": [
    "The frame object has now an integrator set."
   ]
  },
  {
   "cell_type": "code",
   "execution_count": 24,
   "metadata": {},
   "outputs": [
    {
     "data": {
      "text/plain": [
       "Frame (Simple Integration)\n",
       "--------------------------\n",
       "    x            : Field, \u001b[95mIntegration variable\u001b[0m\n",
       "    Y            : Field\n",
       "  -----\n",
       "    Integrator   : Integrator (Euler 1st-order)\n",
       "    Writer       : \u001b[93mnot specified\u001b[0m"
      ]
     },
     "execution_count": 24,
     "metadata": {},
     "output_type": "execute_result"
    }
   ],
   "source": [
    "sim"
   ]
  },
  {
   "cell_type": "markdown",
   "metadata": {},
   "source": [
    "The integrator is basically a container for integration instructions. We therefore have to give tell it which integration instructions it should perform. Instructions have to be a list of `Instruction` objects, which need an integration scheme and a field to be integrated as positional arguments."
   ]
  },
  {
   "cell_type": "code",
   "execution_count": 25,
   "metadata": {},
   "outputs": [],
   "source": [
    "from simframe import Instruction\n",
    "from simframe import schemes"
   ]
  },
  {
   "cell_type": "code",
   "execution_count": 26,
   "metadata": {},
   "outputs": [],
   "source": [
    "sim.integrator.instructions = [Instruction(schemes.expl_1_euler, sim.Y)]"
   ]
  },
  {
   "cell_type": "markdown",
   "metadata": {},
   "source": [
    "## Setting up writers\n",
    "\n",
    "The simulation is now basically ready to go. But in this example we also want to write data files. We therefore have to specify a writer to our frame object. In this case we want to write data files in the `hdf5` format."
   ]
  },
  {
   "cell_type": "code",
   "execution_count": 27,
   "metadata": {},
   "outputs": [],
   "source": [
    "from simframe import writers"
   ]
  },
  {
   "cell_type": "code",
   "execution_count": 28,
   "metadata": {},
   "outputs": [],
   "source": [
    "sim.writer = writers.hdf5writer"
   ]
  },
  {
   "cell_type": "markdown",
   "metadata": {},
   "source": [
    "The `hdf5writer` come with a few pre-defined options."
   ]
  },
  {
   "cell_type": "code",
   "execution_count": 29,
   "metadata": {},
   "outputs": [
    {
     "data": {
      "text/plain": [
       "Writer (HDF5 file format using h5py)\n",
       "------------------------------------\n",
       "    Data directory : data\n",
       "    File names     : data/data0000.hdf5\n",
       "    Overwrite      : False\n",
       "    Dumping        : True\n",
       "    Options        : {'com': 'lzf', 'comopts': None}\n",
       "    Verbosity      : 1"
      ]
     },
     "execution_count": 29,
     "metadata": {},
     "output_type": "execute_result"
    }
   ],
   "source": [
    "sim.writer"
   ]
  },
  {
   "cell_type": "markdown",
   "metadata": {},
   "source": [
    "First, we want to change the data directory to which the files are written. If the data directory does not exist, `simframe` will create it."
   ]
  },
  {
   "cell_type": "code",
   "execution_count": 30,
   "metadata": {},
   "outputs": [],
   "source": [
    "sim.writer.datadir = \"1_data\""
   ]
  },
  {
   "cell_type": "markdown",
   "metadata": {},
   "source": [
    "And second, we want the writer to overwrite existing files. In that way we can easily restart the notebook with different parameters. Usually a writer will not allow you to overwrite existing files to protect your data."
   ]
  },
  {
   "cell_type": "code",
   "execution_count": 31,
   "metadata": {},
   "outputs": [],
   "source": [
    "sim.writer.overwrite = True"
   ]
  },
  {
   "cell_type": "code",
   "execution_count": 32,
   "metadata": {},
   "outputs": [
    {
     "data": {
      "text/plain": [
       "Writer (HDF5 file format using h5py)\n",
       "------------------------------------\n",
       "    Data directory : 1_data\n",
       "    File names     : 1_data/data0000.hdf5\n",
       "    Overwrite      : \u001b[93mTrue\u001b[0m\n",
       "    Dumping        : True\n",
       "    Options        : {'com': 'lzf', 'comopts': None}\n",
       "    Verbosity      : 1"
      ]
     },
     "execution_count": 32,
     "metadata": {},
     "output_type": "execute_result"
    }
   ],
   "source": [
    "sim.writer"
   ]
  },
  {
   "cell_type": "markdown",
   "metadata": {},
   "source": [
    "By default the writer is writing dump files at every snapshot. In contrast to data files, which only contain the data, a dump file contains the entire frame object from which the simulation can be restarted if anything went wrong. Since these files can be large for bigger projects, it always overwrites the existing dump file."
   ]
  },
  {
   "cell_type": "markdown",
   "metadata": {},
   "source": [
    "## Running simulations\n",
    "\n",
    "The frame objects is now completely set up and we are ready to go."
   ]
  },
  {
   "cell_type": "code",
   "execution_count": 33,
   "metadata": {},
   "outputs": [
    {
     "name": "stdout",
     "output_type": "stream",
     "text": [
      "Creating data directory '1_data'.\n",
      "Writing file \u001b[94m1_data/data0000.hdf5\u001b[0m\n",
      "Writing dump file \u001b[94m1_data/frame.dmp\u001b[0m\n",
      "Writing file \u001b[94m1_data/data0001.hdf5\u001b[0m\n",
      "Writing dump file \u001b[94m1_data/frame.dmp\u001b[0m\n",
      "Writing file \u001b[94m1_data/data0002.hdf5\u001b[0m\n",
      "Writing dump file \u001b[94m1_data/frame.dmp\u001b[0m\n",
      "Writing file \u001b[94m1_data/data0003.hdf5\u001b[0m\n",
      "Writing dump file \u001b[94m1_data/frame.dmp\u001b[0m\n",
      "Writing file \u001b[94m1_data/data0004.hdf5\u001b[0m\n",
      "Writing dump file \u001b[94m1_data/frame.dmp\u001b[0m\n",
      "Writing file \u001b[94m1_data/data0005.hdf5\u001b[0m\n",
      "Writing dump file \u001b[94m1_data/frame.dmp\u001b[0m\n",
      "Writing file \u001b[94m1_data/data0006.hdf5\u001b[0m\n",
      "Writing dump file \u001b[94m1_data/frame.dmp\u001b[0m\n",
      "Writing file \u001b[94m1_data/data0007.hdf5\u001b[0m\n",
      "Writing dump file \u001b[94m1_data/frame.dmp\u001b[0m\n",
      "Writing file \u001b[94m1_data/data0008.hdf5\u001b[0m\n",
      "Writing dump file \u001b[94m1_data/frame.dmp\u001b[0m\n",
      "Writing file \u001b[94m1_data/data0009.hdf5\u001b[0m\n",
      "Writing dump file \u001b[94m1_data/frame.dmp\u001b[0m\n",
      "Writing file \u001b[94m1_data/data0010.hdf5\u001b[0m\n",
      "Writing dump file \u001b[94m1_data/frame.dmp\u001b[0m\n",
      "Execution time: \u001b[94m0:00:00\u001b[0m\n"
     ]
    }
   ],
   "source": [
    "sim.run()"
   ]
  },
  {
   "cell_type": "markdown",
   "metadata": {},
   "source": [
    "## Reading data\n",
    "\n",
    "Every writer should come with a reader that contains instructions for reading the data files the writer has written. It is possible to read a single output file."
   ]
  },
  {
   "cell_type": "code",
   "execution_count": 34,
   "metadata": {},
   "outputs": [],
   "source": [
    "data3 = sim.writer.read.output(3)"
   ]
  },
  {
   "cell_type": "markdown",
   "metadata": {},
   "source": [
    "This returns the namespace containing the data of the chosen output file."
   ]
  },
  {
   "cell_type": "code",
   "execution_count": 35,
   "metadata": {},
   "outputs": [
    {
     "data": {
      "text/plain": [
       "namespace(Y=array([0.42391158]),\n",
       "          description='Simple Integration',\n",
       "          x=array([3.]))"
      ]
     },
     "execution_count": 35,
     "metadata": {},
     "output_type": "execute_result"
    }
   ],
   "source": [
    "data3"
   ]
  },
  {
   "cell_type": "markdown",
   "metadata": {},
   "source": [
    "You can check for existing files in the data directory."
   ]
  },
  {
   "cell_type": "code",
   "execution_count": 36,
   "metadata": {},
   "outputs": [
    {
     "data": {
      "text/plain": [
       "['1_data/data0000.hdf5',\n",
       " '1_data/data0001.hdf5',\n",
       " '1_data/data0002.hdf5',\n",
       " '1_data/data0003.hdf5',\n",
       " '1_data/data0004.hdf5',\n",
       " '1_data/data0005.hdf5',\n",
       " '1_data/data0006.hdf5',\n",
       " '1_data/data0007.hdf5',\n",
       " '1_data/data0008.hdf5',\n",
       " '1_data/data0009.hdf5',\n",
       " '1_data/data0010.hdf5']"
      ]
     },
     "execution_count": 36,
     "metadata": {},
     "output_type": "execute_result"
    }
   ],
   "source": [
    "sim.writer.read.listfiles()"
   ]
  },
  {
   "cell_type": "markdown",
   "metadata": {},
   "source": [
    "Or you can read the complete data that is in the data directory."
   ]
  },
  {
   "cell_type": "code",
   "execution_count": 37,
   "metadata": {},
   "outputs": [],
   "source": [
    "data = sim.writer.read.all()"
   ]
  },
  {
   "cell_type": "markdown",
   "metadata": {},
   "source": [
    "The fields can be easily adressed just as with the frame object."
   ]
  },
  {
   "cell_type": "code",
   "execution_count": 38,
   "metadata": {},
   "outputs": [
    {
     "data": {
      "text/plain": [
       "array([1.00000000e+01, 3.48678440e+00, 1.21576655e+00, 4.23911583e-01,\n",
       "       1.47808829e-01, 5.15377521e-02, 1.79701030e-02, 6.26578748e-03,\n",
       "       2.18474501e-03, 7.61773480e-04, 2.65613989e-04])"
      ]
     },
     "execution_count": 38,
     "metadata": {},
     "output_type": "execute_result"
    }
   ],
   "source": [
    "data.Y"
   ]
  },
  {
   "cell_type": "markdown",
   "metadata": {},
   "source": [
    "Instead of reading the full data set or a single snapshots, it is also possible to read a single field from all snapshots."
   ]
  },
  {
   "cell_type": "code",
   "execution_count": 39,
   "metadata": {},
   "outputs": [],
   "source": [
    "seq = sim.writer.read.sequence(\"x\")"
   ]
  },
  {
   "cell_type": "code",
   "execution_count": 40,
   "metadata": {},
   "outputs": [
    {
     "data": {
      "text/plain": [
       "array([ 0.,  1.,  2.,  3.,  4.,  5.,  6.,  7.,  8.,  9., 10.])"
      ]
     },
     "execution_count": 40,
     "metadata": {},
     "output_type": "execute_result"
    }
   ],
   "source": [
    "seq"
   ]
  },
  {
   "cell_type": "markdown",
   "metadata": {},
   "source": [
    "We now want to fit a function to the data to see, if we can reconstruct the initial parameters."
   ]
  },
  {
   "cell_type": "code",
   "execution_count": 41,
   "metadata": {},
   "outputs": [],
   "source": [
    "def fit(x, A, b):\n",
    "    return A*np.exp(b*x)"
   ]
  },
  {
   "cell_type": "code",
   "execution_count": 42,
   "metadata": {},
   "outputs": [],
   "source": [
    "from scipy.optimize import curve_fit"
   ]
  },
  {
   "cell_type": "code",
   "execution_count": 43,
   "metadata": {},
   "outputs": [],
   "source": [
    "popt, pcov = curve_fit(fit, data.x, data.Y)"
   ]
  },
  {
   "cell_type": "code",
   "execution_count": 44,
   "metadata": {
    "jupyter": {
     "source_hidden": true
    }
   },
   "outputs": [
    {
     "data": {
      "text/markdown": [
       "| |Simulation|Analytical Solution|\n",
       "|:-:|:-:|:-:|\n",
       "|A|10.00|10.00|\n",
       "|b|-1.05|-1.00|"
      ],
      "text/plain": [
       "<IPython.core.display.Markdown object>"
      ]
     },
     "execution_count": 44,
     "metadata": {},
     "output_type": "execute_result"
    }
   ],
   "source": [
    "from IPython.display import Markdown as md\n",
    "md(\"| |Simulation|Analytical Solution|\\n|:-:|:-:|:-:|\\n|A|{:4.2f}|{:4.2f}|\\n|b|{:4.2f}|{:4.2f}|\".format(popt[0],A,popt[1],b))"
   ]
  },
  {
   "cell_type": "markdown",
   "metadata": {},
   "source": [
    "Additionally we want to plot our data."
   ]
  },
  {
   "cell_type": "code",
   "execution_count": 45,
   "metadata": {},
   "outputs": [],
   "source": [
    "import matplotlib.pyplot as plt"
   ]
  },
  {
   "cell_type": "code",
   "execution_count": 46,
   "metadata": {},
   "outputs": [],
   "source": [
    "def plot(data):\n",
    "    fig, ax = plt.subplots(dpi=150)\n",
    "    x = np.linspace(0., 20., 100)\n",
    "    ax.plot(x, fit(x, A, b), label=\"Analytical solution\")\n",
    "    ax.plot(data.x, data.Y, \"o\", label=\"Simulation\")\n",
    "    ax.set_xlim(data.x[0], data.x[-1])\n",
    "    ax.set_xlabel(\"$x$\")\n",
    "    ax.set_ylabel(\"$Y$\")\n",
    "    ax.legend()\n",
    "    fig.tight_layout()"
   ]
  },
  {
   "cell_type": "code",
   "execution_count": 47,
   "metadata": {},
   "outputs": [
    {
     "data": {
      "image/png": "[encoded data removed]",
      "text/plain": [
       "<Figure size 900x600 with 1 Axes>"
      ]
     },
     "metadata": {
      "needs_background": "light"
     },
     "output_type": "display_data"
    }
   ],
   "source": [
    "plot(data)"
   ]
  },
  {
   "cell_type": "markdown",
   "metadata": {},
   "source": [
    "## Reading dump files\n",
    "\n",
    "Let's say we want to continue the simulation from a dump file that we have stored somewhere. We first have to read the file with `readdump(filename)` which needs the path to the file as argument and which returns a frame object."
   ]
  },
  {
   "cell_type": "code",
   "execution_count": 48,
   "metadata": {},
   "outputs": [],
   "source": [
    "from simframe.io import readdump"
   ]
  },
  {
   "cell_type": "code",
   "execution_count": 49,
   "metadata": {},
   "outputs": [],
   "source": [
    "sim_cont = readdump(\"1_data/frame.dmp\")"
   ]
  },
  {
   "cell_type": "code",
   "execution_count": 50,
   "metadata": {},
   "outputs": [
    {
     "data": {
      "text/plain": [
       "Frame (Simple Integration)\n",
       "--------------------------\n",
       "    x            : Field, \u001b[95mIntegration variable\u001b[0m\n",
       "    Y            : Field\n",
       "  -----\n",
       "    Integrator   : Integrator (Euler 1st-order)\n",
       "    Writer       : Writer (HDF5 file format using h5py)"
      ]
     },
     "execution_count": 50,
     "metadata": {},
     "output_type": "execute_result"
    }
   ],
   "source": [
    "sim_cont"
   ]
  },
  {
   "cell_type": "markdown",
   "metadata": {},
   "source": [
    "We only have to add a few more snapshots."
   ]
  },
  {
   "cell_type": "code",
   "execution_count": 51,
   "metadata": {},
   "outputs": [],
   "source": [
    "sim_cont.x.snapshots = np.linspace(1., 20., 20)"
   ]
  },
  {
   "cell_type": "markdown",
   "metadata": {},
   "source": [
    "Now we can restart the simulation from the current state, read the data, and plot it."
   ]
  },
  {
   "cell_type": "code",
   "execution_count": 52,
   "metadata": {},
   "outputs": [
    {
     "name": "stdout",
     "output_type": "stream",
     "text": [
      "Writing file \u001b[94m1_data/data0011.hdf5\u001b[0m\n",
      "Writing dump file \u001b[94m1_data/frame.dmp\u001b[0m\n",
      "Writing file \u001b[94m1_data/data0012.hdf5\u001b[0m\n",
      "Writing dump file \u001b[94m1_data/frame.dmp\u001b[0m\n",
      "Writing file \u001b[94m1_data/data0013.hdf5\u001b[0m\n",
      "Writing dump file \u001b[94m1_data/frame.dmp\u001b[0m\n",
      "Writing file \u001b[94m1_data/data0014.hdf5\u001b[0m\n",
      "Writing dump file \u001b[94m1_data/frame.dmp\u001b[0m\n",
      "Writing file \u001b[94m1_data/data0015.hdf5\u001b[0m\n",
      "Writing dump file \u001b[94m1_data/frame.dmp\u001b[0m\n",
      "Writing file \u001b[94m1_data/data0016.hdf5\u001b[0m\n",
      "Writing dump file \u001b[94m1_data/frame.dmp\u001b[0m\n",
      "Writing file \u001b[94m1_data/data0017.hdf5\u001b[0m\n",
      "Writing dump file \u001b[94m1_data/frame.dmp\u001b[0m\n",
      "Writing file \u001b[94m1_data/data0018.hdf5\u001b[0m\n",
      "Writing dump file \u001b[94m1_data/frame.dmp\u001b[0m\n",
      "Writing file \u001b[94m1_data/data0019.hdf5\u001b[0m\n",
      "Writing dump file \u001b[94m1_data/frame.dmp\u001b[0m\n",
      "Writing file \u001b[94m1_data/data0020.hdf5\u001b[0m\n",
      "Writing dump file \u001b[94m1_data/frame.dmp\u001b[0m\n",
      "Execution time: \u001b[94m0:00:00\u001b[0m\n"
     ]
    }
   ],
   "source": [
    "sim_cont.run()"
   ]
  },
  {
   "cell_type": "code",
   "execution_count": 53,
   "metadata": {},
   "outputs": [],
   "source": [
    "data = sim_cont.writer.read.all()"
   ]
  },
  {
   "cell_type": "code",
   "execution_count": 54,
   "metadata": {},
   "outputs": [
    {
     "data": {
      "image/png": "[encoded data removed]",
      "text/plain": [
       "<Figure size 900x600 with 1 Axes>"
      ]
     },
     "metadata": {
      "needs_background": "light"
     },
     "output_type": "display_data"
    }
   ],
   "source": [
    "plot(data)"
   ]
  },
  {
   "cell_type": "markdown",
   "metadata": {},
   "source": [
    "## Progress bar\n",
    "\n",
    "If you are running `simframe` on an interactive shell if will show by default a progress bar with an estimate of the expected computation time. If you want to turn it off to save some computational overhead you can do so by reducing the verbosity of the frame object."
   ]
  },
  {
   "cell_type": "code",
   "execution_count": 55,
   "metadata": {},
   "outputs": [],
   "source": [
    "sim.verbosity = 0"
   ]
  }
 ],
 "metadata": {
  "kernelspec": {
   "display_name": "Python 3",
   "language": "python",
   "name": "python3"
  },
  "language_info": {
   "codemirror_mode": {
    "name": "ipython",
    "version": 3
   },
   "file_extension": ".py",
   "mimetype": "text/x-python",
   "name": "python",
   "nbconvert_exporter": "python",
   "pygments_lexer": "ipython3",
   "version": "3.8.5"
  }
 },
 "nbformat": 4,
 "nbformat_minor": 4
}
