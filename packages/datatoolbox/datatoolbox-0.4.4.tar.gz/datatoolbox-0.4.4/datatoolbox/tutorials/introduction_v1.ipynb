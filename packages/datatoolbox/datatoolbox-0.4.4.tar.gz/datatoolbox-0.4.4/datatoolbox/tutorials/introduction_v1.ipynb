{
 "cells": [
  {
   "cell_type": "markdown",
   "metadata": {},
   "source": [
    "# Introduction to the datatoolbox\n",
    "by Andreas Geiges\n"
   ]
  },
  {
   "cell_type": "markdown",
   "metadata": {},
   "source": [
    "## Core concepts\n",
    "Main purpose is to avoid duplicated work and provide standardized data workflows\n",
    "and to make results of projects accessible for all\n",
    "\n",
    "Toolbox + Database (CA datashelf)\n",
    "\n",
    "### Datatoolbox\n",
    "- open source python package (R integration in the future?)\n",
    "- Read-in of different data sources\n",
    "- Avoid copy paste errors\n",
    "- Unit conversion\n",
    "- Table computations\n",
    "- Interfaces to other applications\n",
    "    - Pandas\n",
    "    - Excel\n",
    "    - pyAM\n",
    "\n",
    "### Database\n",
    "Not a real database, but a managed git repository of csv files and raw data\n",
    "- Low level implementations (no software needed)\n",
    "- Everthing is accessible using office tools\n",
    "- Version control allows to track all changes\n",
    "- Consist of homogeneous datatables\n",
    "    - Pandas datatable, with meta data\n",
    "    - Only contains one variable\n",
    "    - Unique ID\n",
    "\n"
   ]
  },
  {
   "cell_type": "markdown",
   "metadata": {},
   "source": [
    "## Installation\n",
    "\n",
    "### Install datatoolbox package\n",
    "Currently not in the official pypi repository:\n",
    "pip install -i https://test.pypi.org/simple/ datatoolbox\n",
    "\n",
    "### Download of CA dataself\n",
    "Currently on BOX: (ask me for link)\n",
    "\n",
    "\n",
    "1) Download and unpack\n",
    "\n",
    "2) Store path to the unpacked datashelf folder\n"
   ]
  },
  {
   "cell_type": "code",
   "execution_count": 1,
   "metadata": {},
   "outputs": [
    {
     "name": "stdout",
     "output_type": "stream",
     "text": [
      "{}\n",
      "databdase in read only mode\n",
      "15 source reader found and added into \"datatoolbox.sources\".\n",
      "sets in 2.4221 seconds\n"
     ]
    }
   ],
   "source": [
    "import datatoolbox as dt"
   ]
  },
  {
   "cell_type": "markdown",
   "metadata": {},
   "source": [
    "### Set personal settings"
   ]
  },
  {
   "cell_type": "code",
   "execution_count": 2,
   "metadata": {},
   "outputs": [
    {
     "name": "stdout",
     "output_type": "stream",
     "text": [
      "Welcome AG\n",
      "You chose: /media/sf_Documents/datashelf\n",
      "\n",
      "file_path_variable =  /media/sf_Documents/datashelf/\n"
     ]
    }
   ],
   "source": [
    "dt.admin.change_personal_config()"
   ]
  },
  {
   "cell_type": "code",
   "execution_count": 3,
   "metadata": {
    "scrolled": true
   },
   "outputs": [
    {
     "name": "stdout",
     "output_type": "stream",
     "text": [
      "######## Database informations: #############\n",
      "Number of tables: 78270\n",
      "Number of data sources: 38\n",
      "Number of commits: 3488\n",
      "#############################################\n"
     ]
    }
   ],
   "source": [
    "## Get information about dataself\n",
    "dt.DBinfo()"
   ]
  },
  {
   "cell_type": "markdown",
   "metadata": {},
   "source": [
    "## How to start"
   ]
  },
  {
   "cell_type": "markdown",
   "metadata": {},
   "source": [
    "### Inventory"
   ]
  },
  {
   "cell_type": "code",
   "execution_count": 2,
   "metadata": {},
   "outputs": [
    {
     "name": "stdout",
     "output_type": "stream",
     "text": [
      "                                                                 entity  \\\n",
      "qID                                                                       \n",
      "Emissions|CO2|FOLU||Historic|FAO_2019                Emissions|CO2|FOLU   \n",
      "Emissions|N2O|Agriculture||Historic|FAO_2019  Emissions|N2O|Agriculture   \n",
      "Emissions|CH4|FOLU||Historic|FAO_2019                Emissions|CH4|FOLU   \n",
      "Emissions|N2O|FOLU||Historic|FAO_2019                Emissions|N2O|FOLU   \n",
      "Emissions|CH4|Agriculture||Historic|FAO_2019  Emissions|CH4|Agriculture   \n",
      "\n",
      "                                             category  scenario    source  \n",
      "qID                                                                        \n",
      "Emissions|CO2|FOLU||Historic|FAO_2019             NaN  Historic  FAO_2019  \n",
      "Emissions|N2O|Agriculture||Historic|FAO_2019      NaN  Historic  FAO_2019  \n",
      "Emissions|CH4|FOLU||Historic|FAO_2019             NaN  Historic  FAO_2019  \n",
      "Emissions|N2O|FOLU||Historic|FAO_2019             NaN  Historic  FAO_2019  \n",
      "Emissions|CH4|Agriculture||Historic|FAO_2019      NaN  Historic  FAO_2019  \n"
     ]
    }
   ],
   "source": [
    "#%% The underlying inventory\n",
    "inventory = dt.inventory()#returns the full inventory\n",
    "print(inventory.tail())"
   ]
  },
  {
   "cell_type": "code",
   "execution_count": 70,
   "metadata": {},
   "outputs": [
    {
     "data": {
      "text/plain": [
       "Index(['entity', 'category', 'scenario', 'source'], dtype='object')"
      ]
     },
     "execution_count": 70,
     "metadata": {},
     "output_type": "execute_result"
    }
   ],
   "source": [
    "inventory.columns"
   ]
  },
  {
   "cell_type": "code",
   "execution_count": null,
   "metadata": {},
   "outputs": [],
   "source": [
    "inventory.scenario.unique()"
   ]
  },
  {
   "cell_type": "markdown",
   "metadata": {},
   "source": [
    "### Available sources"
   ]
  },
  {
   "cell_type": "code",
   "execution_count": 3,
   "metadata": {},
   "outputs": [
    {
     "data": {
      "text/html": [
       "<div>\n",
       "<style scoped>\n",
       "    .dataframe tbody tr th:only-of-type {\n",
       "        vertical-align: middle;\n",
       "    }\n",
       "\n",
       "    .dataframe tbody tr th {\n",
       "        vertical-align: top;\n",
       "    }\n",
       "\n",
       "    .dataframe thead th {\n",
       "        text-align: right;\n",
       "    }\n",
       "</style>\n",
       "<table border=\"1\" class=\"dataframe\">\n",
       "  <thead>\n",
       "    <tr style=\"text-align: right;\">\n",
       "      <th></th>\n",
       "      <th>collected_by</th>\n",
       "      <th>date</th>\n",
       "      <th>source_url</th>\n",
       "      <th>licence</th>\n",
       "    </tr>\n",
       "    <tr>\n",
       "      <th>SOURCE_ID</th>\n",
       "      <th></th>\n",
       "      <th></th>\n",
       "      <th></th>\n",
       "      <th></th>\n",
       "    </tr>\n",
       "  </thead>\n",
       "  <tbody>\n",
       "    <tr>\n",
       "      <th>ADVANCE_2016</th>\n",
       "      <td>AG</td>\n",
       "      <td>2019/07/26</td>\n",
       "      <td>https://db1.ene.iiasa.ac.at/ADVANCEDB/dsd?Acti...</td>\n",
       "      <td>CC-BY 4.0</td>\n",
       "    </tr>\n",
       "    <tr>\n",
       "      <th>AIM_SSPx_DATA_2019</th>\n",
       "      <td>AG</td>\n",
       "      <td>2020/01/22</td>\n",
       "      <td>https://github.com/JGCRI/ssp-data</td>\n",
       "      <td>NaN</td>\n",
       "    </tr>\n",
       "    <tr>\n",
       "      <th>APAC_2019</th>\n",
       "      <td>AG</td>\n",
       "      <td>2019/11/30</td>\n",
       "      <td>https://www.apec.org/Publications/2019/05/APEC...</td>\n",
       "      <td>(c) 2019 Asia Pacific Economic Cooperation (AP...</td>\n",
       "    </tr>\n",
       "    <tr>\n",
       "      <th>AR5_DB</th>\n",
       "      <td>AG</td>\n",
       "      <td>2019/08/01</td>\n",
       "      <td>https://db1.ene.iiasa.ac.at/ADVANCEDB/dsd?Acti...</td>\n",
       "      <td>CC-BY 4.0</td>\n",
       "    </tr>\n",
       "    <tr>\n",
       "      <th>CAT_2014</th>\n",
       "      <td>AG</td>\n",
       "      <td>2019/07/09</td>\n",
       "      <td>https://climateactiontracker.org</td>\n",
       "      <td>CAT internal data</td>\n",
       "    </tr>\n",
       "    <tr>\n",
       "      <th>CAT_2015</th>\n",
       "      <td>AG</td>\n",
       "      <td>2019/07/09</td>\n",
       "      <td>https://climateactiontracker.org</td>\n",
       "      <td>CAT internal data</td>\n",
       "    </tr>\n",
       "    <tr>\n",
       "      <th>CAT_2016_12</th>\n",
       "      <td>AG</td>\n",
       "      <td>2019/07/09</td>\n",
       "      <td>https://climateactiontracker.org</td>\n",
       "      <td>CAT internal data</td>\n",
       "    </tr>\n",
       "    <tr>\n",
       "      <th>CAT_2017_11</th>\n",
       "      <td>AG</td>\n",
       "      <td>2019/07/08</td>\n",
       "      <td>https://climateactiontracker.org</td>\n",
       "      <td>CAT internal data</td>\n",
       "    </tr>\n",
       "    <tr>\n",
       "      <th>CAT_2018_12</th>\n",
       "      <td>Andreas Geiges</td>\n",
       "      <td>2019/07/08</td>\n",
       "      <td>https://climateactiontracker.org</td>\n",
       "      <td>CAT internal data</td>\n",
       "    </tr>\n",
       "    <tr>\n",
       "      <th>CAT_2019_06</th>\n",
       "      <td>Andreas Geiges</td>\n",
       "      <td>2019/07/08</td>\n",
       "      <td>https://climateactiontracker.org</td>\n",
       "      <td>CAT internal data</td>\n",
       "    </tr>\n",
       "    <tr>\n",
       "      <th>CAT_2019_09</th>\n",
       "      <td>AG</td>\n",
       "      <td>2019/08/28</td>\n",
       "      <td>www.climateactiontracker.org</td>\n",
       "      <td>CA internal use only</td>\n",
       "    </tr>\n",
       "    <tr>\n",
       "      <th>CAT_2019_11</th>\n",
       "      <td>AG</td>\n",
       "      <td>2019/10/18</td>\n",
       "      <td>https://climateactiontracker.org</td>\n",
       "      <td>CAT internal data</td>\n",
       "    </tr>\n",
       "    <tr>\n",
       "      <th>CA_NDCA_2019</th>\n",
       "      <td>AG</td>\n",
       "      <td>2019/08/07</td>\n",
       "      <td>own_calculation</td>\n",
       "      <td>internal use only</td>\n",
       "    </tr>\n",
       "    <tr>\n",
       "      <th>CA_PR_2019</th>\n",
       "      <td>AG</td>\n",
       "      <td>2019/08/02</td>\n",
       "      <td>own_calculation</td>\n",
       "      <td>internal use only</td>\n",
       "    </tr>\n",
       "    <tr>\n",
       "      <th>CDLINKS_2018</th>\n",
       "      <td>AG</td>\n",
       "      <td>2020/04/15</td>\n",
       "      <td>https://db1.ene.iiasa.ac.at/CDLINKSDB</td>\n",
       "      <td>CC-BY 4.0</td>\n",
       "    </tr>\n",
       "    <tr>\n",
       "      <th>FAO_2019</th>\n",
       "      <td>AG</td>\n",
       "      <td>2020/05/13</td>\n",
       "      <td>http://www.fao.org/faostat/en/#data/GL</td>\n",
       "      <td>Food and Agriculture Organization of the Unite...</td>\n",
       "    </tr>\n",
       "    <tr>\n",
       "      <th>HOESLY2018</th>\n",
       "      <td>AG</td>\n",
       "      <td>2020/04/30</td>\n",
       "      <td>https://www.geosci-model-dev.net/11/369/2018/</td>\n",
       "      <td>Creative Commons Attribution 3.0 License</td>\n",
       "    </tr>\n",
       "    <tr>\n",
       "      <th>IAMC15_2019</th>\n",
       "      <td>AG</td>\n",
       "      <td>2019/04/09</td>\n",
       "      <td>https://data.ene.iiasa.ac.at/iamc-1.5c-explorer</td>\n",
       "      <td>CC-BY 4.0</td>\n",
       "    </tr>\n",
       "    <tr>\n",
       "      <th>IAMC15_2019_R11</th>\n",
       "      <td>AG</td>\n",
       "      <td>2019/06/03</td>\n",
       "      <td>https://data.ene.iiasa.ac.at/iamc-1.5c-explorer</td>\n",
       "      <td>CC-BY 4.0</td>\n",
       "    </tr>\n",
       "    <tr>\n",
       "      <th>IAMC15_2019_R2</th>\n",
       "      <td>AG</td>\n",
       "      <td>2019/09/05</td>\n",
       "      <td>https://data.ene.iiasa.ac.at/iamc-1.5c-explorer</td>\n",
       "      <td>CC-BY 4.0</td>\n",
       "    </tr>\n",
       "    <tr>\n",
       "      <th>IEA_CO2_FUEL_2018</th>\n",
       "      <td>AG</td>\n",
       "      <td>2019/08/05</td>\n",
       "      <td>https://www.iea.org/statistics/co2emissions/</td>\n",
       "      <td>restricted</td>\n",
       "    </tr>\n",
       "    <tr>\n",
       "      <th>IEA_CO2_FUEL_2019</th>\n",
       "      <td>AG</td>\n",
       "      <td>2019/11/08</td>\n",
       "      <td>https://www.iea.org/statistics/co2emissions/</td>\n",
       "      <td>restricted</td>\n",
       "    </tr>\n",
       "    <tr>\n",
       "      <th>IEA_WEB_2018</th>\n",
       "      <td>AG</td>\n",
       "      <td>2019/05/22</td>\n",
       "      <td>https://webstore.iea.org/world-energy-balances...</td>\n",
       "      <td>restricted</td>\n",
       "    </tr>\n",
       "    <tr>\n",
       "      <th>IEA_WEB_2019</th>\n",
       "      <td>AG</td>\n",
       "      <td>2019/09/02</td>\n",
       "      <td>https://webstore.iea.org/world-energy-balances...</td>\n",
       "      <td>restricted</td>\n",
       "    </tr>\n",
       "    <tr>\n",
       "      <th>IRENA_2019</th>\n",
       "      <td>AG</td>\n",
       "      <td>2019/05/23</td>\n",
       "      <td>http://www.irena.org/IRENADocuments/IRENA_RE_e...</td>\n",
       "      <td>open source</td>\n",
       "    </tr>\n",
       "    <tr>\n",
       "      <th>PRIMAP_2018</th>\n",
       "      <td>AG</td>\n",
       "      <td>2019/08/13</td>\n",
       "      <td>https://www.pik-potsdam.de/primap-live/primap-...</td>\n",
       "      <td>open access (UN)</td>\n",
       "    </tr>\n",
       "    <tr>\n",
       "      <th>PRIMAP_2019</th>\n",
       "      <td>AG</td>\n",
       "      <td>2019/12/07</td>\n",
       "      <td>https://www.pik-potsdam.de/primap-live/primap-...</td>\n",
       "      <td>open access (UN)</td>\n",
       "    </tr>\n",
       "    <tr>\n",
       "      <th>SANDBOX</th>\n",
       "      <td>AG</td>\n",
       "      <td>2019/06/06</td>\n",
       "      <td>NaN</td>\n",
       "      <td>NaN</td>\n",
       "    </tr>\n",
       "    <tr>\n",
       "      <th>SDG_DB_2019</th>\n",
       "      <td>AG</td>\n",
       "      <td>2019/05/24</td>\n",
       "      <td>https://unstats.un.org/sdgs/indicators/database/</td>\n",
       "      <td>open access (UN)</td>\n",
       "    </tr>\n",
       "    <tr>\n",
       "      <th>SIAMESE_2019</th>\n",
       "      <td>AG</td>\n",
       "      <td>2019/07/26</td>\n",
       "      <td>www.climateanalytics.org</td>\n",
       "      <td>open source</td>\n",
       "    </tr>\n",
       "    <tr>\n",
       "      <th>SIAMESE_2020</th>\n",
       "      <td>NaN</td>\n",
       "      <td>NaN</td>\n",
       "      <td>NaN</td>\n",
       "      <td>NaN</td>\n",
       "    </tr>\n",
       "    <tr>\n",
       "      <th>SSP_DB_2013</th>\n",
       "      <td>AG</td>\n",
       "      <td>2019/06/11</td>\n",
       "      <td>tntcat.iiasa.ac.at/SspWorkDb</td>\n",
       "      <td>open access</td>\n",
       "    </tr>\n",
       "    <tr>\n",
       "      <th>UNFCCC_CRF_2018</th>\n",
       "      <td>AG</td>\n",
       "      <td>2019/10/17</td>\n",
       "      <td>https://unfccc.int/process-and-meetings/transp...</td>\n",
       "      <td>open access (UN)</td>\n",
       "    </tr>\n",
       "    <tr>\n",
       "      <th>UNFCCC_CRF_2019</th>\n",
       "      <td>AG</td>\n",
       "      <td>2019/10/17</td>\n",
       "      <td>https://unfccc.int/process-and-meetings/transp...</td>\n",
       "      <td>open access (UN)</td>\n",
       "    </tr>\n",
       "    <tr>\n",
       "      <th>UN_WPP2019</th>\n",
       "      <td>AG</td>\n",
       "      <td>2019/08/16</td>\n",
       "      <td>https://population.un.org/wpp/Download/Standar...</td>\n",
       "      <td>open source</td>\n",
       "    </tr>\n",
       "    <tr>\n",
       "      <th>WDI2018</th>\n",
       "      <td>AG</td>\n",
       "      <td>2019/04/02</td>\n",
       "      <td>https://datacatalog.worldbank.org/dataset/worl...</td>\n",
       "      <td>CC BY-4.0</td>\n",
       "    </tr>\n",
       "    <tr>\n",
       "      <th>WDI_2019</th>\n",
       "      <td>AG</td>\n",
       "      <td>2019/10/17</td>\n",
       "      <td>https://datacatalog.worldbank.org/dataset/worl...</td>\n",
       "      <td>CC BY-4.0</td>\n",
       "    </tr>\n",
       "    <tr>\n",
       "      <th>WEO_2019</th>\n",
       "      <td>AG</td>\n",
       "      <td>2019/11/29</td>\n",
       "      <td>https://www.iea.org/weo/</td>\n",
       "      <td>IEA all rights reserved</td>\n",
       "    </tr>\n",
       "  </tbody>\n",
       "</table>\n",
       "</div>"
      ],
      "text/plain": [
       "                      collected_by        date  \\\n",
       "SOURCE_ID                                        \n",
       "ADVANCE_2016                    AG  2019/07/26   \n",
       "AIM_SSPx_DATA_2019              AG  2020/01/22   \n",
       "APAC_2019                       AG  2019/11/30   \n",
       "AR5_DB                          AG  2019/08/01   \n",
       "CAT_2014                        AG  2019/07/09   \n",
       "CAT_2015                        AG  2019/07/09   \n",
       "CAT_2016_12                     AG  2019/07/09   \n",
       "CAT_2017_11                     AG  2019/07/08   \n",
       "CAT_2018_12         Andreas Geiges  2019/07/08   \n",
       "CAT_2019_06         Andreas Geiges  2019/07/08   \n",
       "CAT_2019_09                     AG  2019/08/28   \n",
       "CAT_2019_11                     AG  2019/10/18   \n",
       "CA_NDCA_2019                    AG  2019/08/07   \n",
       "CA_PR_2019                      AG  2019/08/02   \n",
       "CDLINKS_2018                    AG  2020/04/15   \n",
       "FAO_2019                        AG  2020/05/13   \n",
       "HOESLY2018                      AG  2020/04/30   \n",
       "IAMC15_2019                     AG  2019/04/09   \n",
       "IAMC15_2019_R11                 AG  2019/06/03   \n",
       "IAMC15_2019_R2                  AG  2019/09/05   \n",
       "IEA_CO2_FUEL_2018               AG  2019/08/05   \n",
       "IEA_CO2_FUEL_2019               AG  2019/11/08   \n",
       "IEA_WEB_2018                    AG  2019/05/22   \n",
       "IEA_WEB_2019                    AG  2019/09/02   \n",
       "IRENA_2019                      AG  2019/05/23   \n",
       "PRIMAP_2018                     AG  2019/08/13   \n",
       "PRIMAP_2019                     AG  2019/12/07   \n",
       "SANDBOX                         AG  2019/06/06   \n",
       "SDG_DB_2019                     AG  2019/05/24   \n",
       "SIAMESE_2019                    AG  2019/07/26   \n",
       "SIAMESE_2020                   NaN         NaN   \n",
       "SSP_DB_2013                     AG  2019/06/11   \n",
       "UNFCCC_CRF_2018                 AG  2019/10/17   \n",
       "UNFCCC_CRF_2019                 AG  2019/10/17   \n",
       "UN_WPP2019                      AG  2019/08/16   \n",
       "WDI2018                         AG  2019/04/02   \n",
       "WDI_2019                        AG  2019/10/17   \n",
       "WEO_2019                        AG  2019/11/29   \n",
       "\n",
       "                                                           source_url  \\\n",
       "SOURCE_ID                                                               \n",
       "ADVANCE_2016        https://db1.ene.iiasa.ac.at/ADVANCEDB/dsd?Acti...   \n",
       "AIM_SSPx_DATA_2019                  https://github.com/JGCRI/ssp-data   \n",
       "APAC_2019           https://www.apec.org/Publications/2019/05/APEC...   \n",
       "AR5_DB              https://db1.ene.iiasa.ac.at/ADVANCEDB/dsd?Acti...   \n",
       "CAT_2014                             https://climateactiontracker.org   \n",
       "CAT_2015                             https://climateactiontracker.org   \n",
       "CAT_2016_12                          https://climateactiontracker.org   \n",
       "CAT_2017_11                          https://climateactiontracker.org   \n",
       "CAT_2018_12                          https://climateactiontracker.org   \n",
       "CAT_2019_06                          https://climateactiontracker.org   \n",
       "CAT_2019_09                              www.climateactiontracker.org   \n",
       "CAT_2019_11                          https://climateactiontracker.org   \n",
       "CA_NDCA_2019                                          own_calculation   \n",
       "CA_PR_2019                                            own_calculation   \n",
       "CDLINKS_2018                    https://db1.ene.iiasa.ac.at/CDLINKSDB   \n",
       "FAO_2019                       http://www.fao.org/faostat/en/#data/GL   \n",
       "HOESLY2018              https://www.geosci-model-dev.net/11/369/2018/   \n",
       "IAMC15_2019           https://data.ene.iiasa.ac.at/iamc-1.5c-explorer   \n",
       "IAMC15_2019_R11       https://data.ene.iiasa.ac.at/iamc-1.5c-explorer   \n",
       "IAMC15_2019_R2        https://data.ene.iiasa.ac.at/iamc-1.5c-explorer   \n",
       "IEA_CO2_FUEL_2018        https://www.iea.org/statistics/co2emissions/   \n",
       "IEA_CO2_FUEL_2019        https://www.iea.org/statistics/co2emissions/   \n",
       "IEA_WEB_2018        https://webstore.iea.org/world-energy-balances...   \n",
       "IEA_WEB_2019        https://webstore.iea.org/world-energy-balances...   \n",
       "IRENA_2019          http://www.irena.org/IRENADocuments/IRENA_RE_e...   \n",
       "PRIMAP_2018         https://www.pik-potsdam.de/primap-live/primap-...   \n",
       "PRIMAP_2019         https://www.pik-potsdam.de/primap-live/primap-...   \n",
       "SANDBOX                                                           NaN   \n",
       "SDG_DB_2019          https://unstats.un.org/sdgs/indicators/database/   \n",
       "SIAMESE_2019                                 www.climateanalytics.org   \n",
       "SIAMESE_2020                                                      NaN   \n",
       "SSP_DB_2013                              tntcat.iiasa.ac.at/SspWorkDb   \n",
       "UNFCCC_CRF_2018     https://unfccc.int/process-and-meetings/transp...   \n",
       "UNFCCC_CRF_2019     https://unfccc.int/process-and-meetings/transp...   \n",
       "UN_WPP2019          https://population.un.org/wpp/Download/Standar...   \n",
       "WDI2018             https://datacatalog.worldbank.org/dataset/worl...   \n",
       "WDI_2019            https://datacatalog.worldbank.org/dataset/worl...   \n",
       "WEO_2019                                     https://www.iea.org/weo/   \n",
       "\n",
       "                                                              licence  \n",
       "SOURCE_ID                                                              \n",
       "ADVANCE_2016                                                CC-BY 4.0  \n",
       "AIM_SSPx_DATA_2019                                                NaN  \n",
       "APAC_2019           (c) 2019 Asia Pacific Economic Cooperation (AP...  \n",
       "AR5_DB                                                      CC-BY 4.0  \n",
       "CAT_2014                                            CAT internal data  \n",
       "CAT_2015                                            CAT internal data  \n",
       "CAT_2016_12                                         CAT internal data  \n",
       "CAT_2017_11                                         CAT internal data  \n",
       "CAT_2018_12                                         CAT internal data  \n",
       "CAT_2019_06                                         CAT internal data  \n",
       "CAT_2019_09                                      CA internal use only  \n",
       "CAT_2019_11                                         CAT internal data  \n",
       "CA_NDCA_2019                                        internal use only  \n",
       "CA_PR_2019                                          internal use only  \n",
       "CDLINKS_2018                                                CC-BY 4.0  \n",
       "FAO_2019            Food and Agriculture Organization of the Unite...  \n",
       "HOESLY2018                   Creative Commons Attribution 3.0 License  \n",
       "IAMC15_2019                                                 CC-BY 4.0  \n",
       "IAMC15_2019_R11                                             CC-BY 4.0  \n",
       "IAMC15_2019_R2                                              CC-BY 4.0  \n",
       "IEA_CO2_FUEL_2018                                          restricted  \n",
       "IEA_CO2_FUEL_2019                                          restricted  \n",
       "IEA_WEB_2018                                               restricted  \n",
       "IEA_WEB_2019                                               restricted  \n",
       "IRENA_2019                                                open source  \n",
       "PRIMAP_2018                                          open access (UN)  \n",
       "PRIMAP_2019                                          open access (UN)  \n",
       "SANDBOX                                                           NaN  \n",
       "SDG_DB_2019                                          open access (UN)  \n",
       "SIAMESE_2019                                              open source  \n",
       "SIAMESE_2020                                                      NaN  \n",
       "SSP_DB_2013                                               open access  \n",
       "UNFCCC_CRF_2018                                      open access (UN)  \n",
       "UNFCCC_CRF_2019                                      open access (UN)  \n",
       "UN_WPP2019                                                open source  \n",
       "WDI2018                                                     CC BY-4.0  \n",
       "WDI_2019                                                    CC BY-4.0  \n",
       "WEO_2019                                      IEA all rights reserved  "
      ]
     },
     "execution_count": 3,
     "metadata": {},
     "output_type": "execute_result"
    }
   ],
   "source": [
    "dt.sourceInfo()"
   ]
  },
  {
   "cell_type": "markdown",
   "metadata": {},
   "source": [
    "## Basic functionalities\n",
    "\n",
    "### dt.find()\n",
    "Search within the inventory of the datashelf"
   ]
  },
  {
   "cell_type": "code",
   "execution_count": 5,
   "metadata": {},
   "outputs": [],
   "source": [
    "res = dt.find(entity='', category='', scenario ='', source='')\n",
    "# entity   : Physical entity\n",
    "# category : Detailed subcategory\n",
    "# scenario : model / scenario\n",
    "# (model)  : will be implemented soon\n",
    "# sources  : Provider of the data\n",
    "\n",
    "# applies the pandas funciton contains (string)"
   ]
  },
  {
   "cell_type": "code",
   "execution_count": 6,
   "metadata": {},
   "outputs": [
    {
     "data": {
      "text/html": [
       "<div>\n",
       "<style scoped>\n",
       "    .dataframe tbody tr th:only-of-type {\n",
       "        vertical-align: middle;\n",
       "    }\n",
       "\n",
       "    .dataframe tbody tr th {\n",
       "        vertical-align: top;\n",
       "    }\n",
       "\n",
       "    .dataframe thead th {\n",
       "        text-align: right;\n",
       "    }\n",
       "</style>\n",
       "<table border=\"1\" class=\"dataframe\">\n",
       "  <thead>\n",
       "    <tr style=\"text-align: right;\">\n",
       "      <th></th>\n",
       "      <th>entity</th>\n",
       "      <th>category</th>\n",
       "      <th>scenario</th>\n",
       "      <th>source</th>\n",
       "    </tr>\n",
       "    <tr>\n",
       "      <th>qID</th>\n",
       "      <th></th>\n",
       "      <th></th>\n",
       "      <th></th>\n",
       "      <th></th>\n",
       "    </tr>\n",
       "  </thead>\n",
       "  <tbody>\n",
       "    <tr>\n",
       "      <th>Share_primary_schools_access_electricity||historic|SDG_DB_2019</th>\n",
       "      <td>Share_primary_schools_access_electricity</td>\n",
       "      <td>NaN</td>\n",
       "      <td>historic</td>\n",
       "      <td>SDG_DB_2019</td>\n",
       "    </tr>\n",
       "    <tr>\n",
       "      <th>Share_area|Agriculture||historic|WDI_2019</th>\n",
       "      <td>Share_area|Agriculture</td>\n",
       "      <td>NaN</td>\n",
       "      <td>historic</td>\n",
       "      <td>WDI_2019</td>\n",
       "    </tr>\n",
       "    <tr>\n",
       "      <th>Share_area|Forest||historic|WDI_2019</th>\n",
       "      <td>Share_area|Forest</td>\n",
       "      <td>NaN</td>\n",
       "      <td>historic</td>\n",
       "      <td>WDI_2019</td>\n",
       "    </tr>\n",
       "    <tr>\n",
       "      <th>Value_added|Share_of_GDP|Industry||historic|WDI_2019</th>\n",
       "      <td>Value_added|Share_of_GDP|Industry</td>\n",
       "      <td>NaN</td>\n",
       "      <td>historic</td>\n",
       "      <td>WDI_2019</td>\n",
       "    </tr>\n",
       "    <tr>\n",
       "      <th>Share_electricity_generation|Coal||historic|WDI_2019</th>\n",
       "      <td>Share_electricity_generation|Coal</td>\n",
       "      <td>NaN</td>\n",
       "      <td>historic</td>\n",
       "      <td>WDI_2019</td>\n",
       "    </tr>\n",
       "    <tr>\n",
       "      <th>Share_electricity_generation|Gas||historic|WDI_2019</th>\n",
       "      <td>Share_electricity_generation|Gas</td>\n",
       "      <td>NaN</td>\n",
       "      <td>historic</td>\n",
       "      <td>WDI_2019</td>\n",
       "    </tr>\n",
       "    <tr>\n",
       "      <th>Share_electricity_generation|Nuclear||historic|WDI_2019</th>\n",
       "      <td>Share_electricity_generation|Nuclear</td>\n",
       "      <td>NaN</td>\n",
       "      <td>historic</td>\n",
       "      <td>WDI_2019</td>\n",
       "    </tr>\n",
       "    <tr>\n",
       "      <th>Share_outages|firms||historic|WDI_2019</th>\n",
       "      <td>Share_outages|firms</td>\n",
       "      <td>NaN</td>\n",
       "      <td>historic</td>\n",
       "      <td>WDI_2019</td>\n",
       "    </tr>\n",
       "    <tr>\n",
       "      <th>Share_of_world_population||Historic|WEO_2019</th>\n",
       "      <td>Share_of_world_population</td>\n",
       "      <td>NaN</td>\n",
       "      <td>Historic</td>\n",
       "      <td>WEO_2019</td>\n",
       "    </tr>\n",
       "    <tr>\n",
       "      <th>Share_of_world_population||Stated_policies|WEO_2019</th>\n",
       "      <td>Share_of_world_population</td>\n",
       "      <td>NaN</td>\n",
       "      <td>Stated_policies</td>\n",
       "      <td>WEO_2019</td>\n",
       "    </tr>\n",
       "    <tr>\n",
       "      <th>Share_of_world_population||Current_policies|WEO_2019</th>\n",
       "      <td>Share_of_world_population</td>\n",
       "      <td>NaN</td>\n",
       "      <td>Current_policies</td>\n",
       "      <td>WEO_2019</td>\n",
       "    </tr>\n",
       "    <tr>\n",
       "      <th>Share_of_world_population||Sustainable_development|WEO_2019</th>\n",
       "      <td>Share_of_world_population</td>\n",
       "      <td>NaN</td>\n",
       "      <td>Sustainable_development</td>\n",
       "      <td>WEO_2019</td>\n",
       "    </tr>\n",
       "    <tr>\n",
       "      <th>Share_of_world_GDP_PPP||Historic|WEO_2019</th>\n",
       "      <td>Share_of_world_GDP_PPP</td>\n",
       "      <td>NaN</td>\n",
       "      <td>Historic</td>\n",
       "      <td>WEO_2019</td>\n",
       "    </tr>\n",
       "    <tr>\n",
       "      <th>Share_of_world_GDP_PPP||Stated_policies|WEO_2019</th>\n",
       "      <td>Share_of_world_GDP_PPP</td>\n",
       "      <td>NaN</td>\n",
       "      <td>Stated_policies</td>\n",
       "      <td>WEO_2019</td>\n",
       "    </tr>\n",
       "    <tr>\n",
       "      <th>Share_of_world_GDP_PPP||Current_policies|WEO_2019</th>\n",
       "      <td>Share_of_world_GDP_PPP</td>\n",
       "      <td>NaN</td>\n",
       "      <td>Current_policies</td>\n",
       "      <td>WEO_2019</td>\n",
       "    </tr>\n",
       "    <tr>\n",
       "      <th>Share_of_world_GDP_PPP||Sustainable_development|WEO_2019</th>\n",
       "      <td>Share_of_world_GDP_PPP</td>\n",
       "      <td>NaN</td>\n",
       "      <td>Sustainable_development</td>\n",
       "      <td>WEO_2019</td>\n",
       "    </tr>\n",
       "  </tbody>\n",
       "</table>\n",
       "</div>"
      ],
      "text/plain": [
       "                                                                                      entity  \\\n",
       "qID                                                                                            \n",
       "Share_primary_schools_access_electricity||histo...  Share_primary_schools_access_electricity   \n",
       "Share_area|Agriculture||historic|WDI_2019                             Share_area|Agriculture   \n",
       "Share_area|Forest||historic|WDI_2019                                       Share_area|Forest   \n",
       "Value_added|Share_of_GDP|Industry||historic|WDI...         Value_added|Share_of_GDP|Industry   \n",
       "Share_electricity_generation|Coal||historic|WDI...         Share_electricity_generation|Coal   \n",
       "Share_electricity_generation|Gas||historic|WDI_...          Share_electricity_generation|Gas   \n",
       "Share_electricity_generation|Nuclear||historic|...      Share_electricity_generation|Nuclear   \n",
       "Share_outages|firms||historic|WDI_2019                                   Share_outages|firms   \n",
       "Share_of_world_population||Historic|WEO_2019                       Share_of_world_population   \n",
       "Share_of_world_population||Stated_policies|WEO_...                 Share_of_world_population   \n",
       "Share_of_world_population||Current_policies|WEO...                 Share_of_world_population   \n",
       "Share_of_world_population||Sustainable_developm...                 Share_of_world_population   \n",
       "Share_of_world_GDP_PPP||Historic|WEO_2019                             Share_of_world_GDP_PPP   \n",
       "Share_of_world_GDP_PPP||Stated_policies|WEO_2019                      Share_of_world_GDP_PPP   \n",
       "Share_of_world_GDP_PPP||Current_policies|WEO_2019                     Share_of_world_GDP_PPP   \n",
       "Share_of_world_GDP_PPP||Sustainable_development...                    Share_of_world_GDP_PPP   \n",
       "\n",
       "                                                   category  \\\n",
       "qID                                                           \n",
       "Share_primary_schools_access_electricity||histo...      NaN   \n",
       "Share_area|Agriculture||historic|WDI_2019               NaN   \n",
       "Share_area|Forest||historic|WDI_2019                    NaN   \n",
       "Value_added|Share_of_GDP|Industry||historic|WDI...      NaN   \n",
       "Share_electricity_generation|Coal||historic|WDI...      NaN   \n",
       "Share_electricity_generation|Gas||historic|WDI_...      NaN   \n",
       "Share_electricity_generation|Nuclear||historic|...      NaN   \n",
       "Share_outages|firms||historic|WDI_2019                  NaN   \n",
       "Share_of_world_population||Historic|WEO_2019            NaN   \n",
       "Share_of_world_population||Stated_policies|WEO_...      NaN   \n",
       "Share_of_world_population||Current_policies|WEO...      NaN   \n",
       "Share_of_world_population||Sustainable_developm...      NaN   \n",
       "Share_of_world_GDP_PPP||Historic|WEO_2019               NaN   \n",
       "Share_of_world_GDP_PPP||Stated_policies|WEO_2019        NaN   \n",
       "Share_of_world_GDP_PPP||Current_policies|WEO_2019       NaN   \n",
       "Share_of_world_GDP_PPP||Sustainable_development...      NaN   \n",
       "\n",
       "                                                                   scenario  \\\n",
       "qID                                                                           \n",
       "Share_primary_schools_access_electricity||histo...                 historic   \n",
       "Share_area|Agriculture||historic|WDI_2019                          historic   \n",
       "Share_area|Forest||historic|WDI_2019                               historic   \n",
       "Value_added|Share_of_GDP|Industry||historic|WDI...                 historic   \n",
       "Share_electricity_generation|Coal||historic|WDI...                 historic   \n",
       "Share_electricity_generation|Gas||historic|WDI_...                 historic   \n",
       "Share_electricity_generation|Nuclear||historic|...                 historic   \n",
       "Share_outages|firms||historic|WDI_2019                             historic   \n",
       "Share_of_world_population||Historic|WEO_2019                       Historic   \n",
       "Share_of_world_population||Stated_policies|WEO_...          Stated_policies   \n",
       "Share_of_world_population||Current_policies|WEO...         Current_policies   \n",
       "Share_of_world_population||Sustainable_developm...  Sustainable_development   \n",
       "Share_of_world_GDP_PPP||Historic|WEO_2019                          Historic   \n",
       "Share_of_world_GDP_PPP||Stated_policies|WEO_2019            Stated_policies   \n",
       "Share_of_world_GDP_PPP||Current_policies|WEO_2019          Current_policies   \n",
       "Share_of_world_GDP_PPP||Sustainable_development...  Sustainable_development   \n",
       "\n",
       "                                                         source  \n",
       "qID                                                              \n",
       "Share_primary_schools_access_electricity||histo...  SDG_DB_2019  \n",
       "Share_area|Agriculture||historic|WDI_2019              WDI_2019  \n",
       "Share_area|Forest||historic|WDI_2019                   WDI_2019  \n",
       "Value_added|Share_of_GDP|Industry||historic|WDI...     WDI_2019  \n",
       "Share_electricity_generation|Coal||historic|WDI...     WDI_2019  \n",
       "Share_electricity_generation|Gas||historic|WDI_...     WDI_2019  \n",
       "Share_electricity_generation|Nuclear||historic|...     WDI_2019  \n",
       "Share_outages|firms||historic|WDI_2019                 WDI_2019  \n",
       "Share_of_world_population||Historic|WEO_2019           WEO_2019  \n",
       "Share_of_world_population||Stated_policies|WEO_...     WEO_2019  \n",
       "Share_of_world_population||Current_policies|WEO...     WEO_2019  \n",
       "Share_of_world_population||Sustainable_developm...     WEO_2019  \n",
       "Share_of_world_GDP_PPP||Historic|WEO_2019              WEO_2019  \n",
       "Share_of_world_GDP_PPP||Stated_policies|WEO_2019       WEO_2019  \n",
       "Share_of_world_GDP_PPP||Current_policies|WEO_2019      WEO_2019  \n",
       "Share_of_world_GDP_PPP||Sustainable_development...     WEO_2019  "
      ]
     },
     "execution_count": 6,
     "metadata": {},
     "output_type": "execute_result"
    }
   ],
   "source": [
    "dt.find(entity='Share')"
   ]
  },
  {
   "cell_type": "code",
   "execution_count": 7,
   "metadata": {},
   "outputs": [
    {
     "data": {
      "text/plain": [
       "array(['historic', 'Historic', 'Stated_policies', 'Current_policies',\n",
       "       'Sustainable_development'], dtype=object)"
      ]
     },
     "execution_count": 7,
     "metadata": {},
     "output_type": "execute_result"
    }
   ],
   "source": [
    "# Results are provided as a pandas dataframe\n",
    "resDf = dt.find(entity='Share')\n",
    "resDf.scenario.unique()"
   ]
  },
  {
   "cell_type": "code",
   "execution_count": 61,
   "metadata": {},
   "outputs": [
    {
     "data": {
      "text/html": [
       "<div>\n",
       "<style scoped>\n",
       "    .dataframe tbody tr th:only-of-type {\n",
       "        vertical-align: middle;\n",
       "    }\n",
       "\n",
       "    .dataframe tbody tr th {\n",
       "        vertical-align: top;\n",
       "    }\n",
       "\n",
       "    .dataframe thead th {\n",
       "        text-align: right;\n",
       "    }\n",
       "</style>\n",
       "<table border=\"1\" class=\"dataframe\">\n",
       "  <thead>\n",
       "    <tr style=\"text-align: right;\">\n",
       "      <th></th>\n",
       "      <th>entity</th>\n",
       "      <th>category</th>\n",
       "      <th>scenario</th>\n",
       "      <th>source</th>\n",
       "    </tr>\n",
       "    <tr>\n",
       "      <th>qID</th>\n",
       "      <th></th>\n",
       "      <th></th>\n",
       "      <th></th>\n",
       "      <th></th>\n",
       "    </tr>\n",
       "  </thead>\n",
       "  <tbody>\n",
       "    <tr>\n",
       "      <th>Share_of_world_population||Historic|WEO_2019</th>\n",
       "      <td>Share_of_world_population</td>\n",
       "      <td>NaN</td>\n",
       "      <td>Historic</td>\n",
       "      <td>WEO_2019</td>\n",
       "    </tr>\n",
       "    <tr>\n",
       "      <th>Share_of_world_GDP_PPP||Historic|WEO_2019</th>\n",
       "      <td>Share_of_world_GDP_PPP</td>\n",
       "      <td>NaN</td>\n",
       "      <td>Historic</td>\n",
       "      <td>WEO_2019</td>\n",
       "    </tr>\n",
       "  </tbody>\n",
       "</table>\n",
       "</div>"
      ],
      "text/plain": [
       "                                                                 entity  \\\n",
       "qID                                                                       \n",
       "Share_of_world_population||Historic|WEO_2019  Share_of_world_population   \n",
       "Share_of_world_GDP_PPP||Historic|WEO_2019        Share_of_world_GDP_PPP   \n",
       "\n",
       "                                             category  scenario    source  \n",
       "qID                                                                        \n",
       "Share_of_world_population||Historic|WEO_2019      NaN  Historic  WEO_2019  \n",
       "Share_of_world_GDP_PPP||Historic|WEO_2019         NaN  Historic  WEO_2019  "
      ]
     },
     "execution_count": 61,
     "metadata": {},
     "output_type": "execute_result"
    }
   ],
   "source": [
    "# additional refinement from the search above\n",
    "dt.find(entity='Share', scenario = 'Historic')"
   ]
  },
  {
   "cell_type": "markdown",
   "metadata": {},
   "source": [
    "### dt.findExact\n",
    "\n",
    "Only returns exact matches"
   ]
  },
  {
   "cell_type": "code",
   "execution_count": 8,
   "metadata": {},
   "outputs": [
    {
     "data": {
      "text/html": [
       "<div>\n",
       "<style scoped>\n",
       "    .dataframe tbody tr th:only-of-type {\n",
       "        vertical-align: middle;\n",
       "    }\n",
       "\n",
       "    .dataframe tbody tr th {\n",
       "        vertical-align: top;\n",
       "    }\n",
       "\n",
       "    .dataframe thead th {\n",
       "        text-align: right;\n",
       "    }\n",
       "</style>\n",
       "<table border=\"1\" class=\"dataframe\">\n",
       "  <thead>\n",
       "    <tr style=\"text-align: right;\">\n",
       "      <th></th>\n",
       "      <th>entity</th>\n",
       "      <th>category</th>\n",
       "      <th>scenario</th>\n",
       "      <th>source</th>\n",
       "    </tr>\n",
       "    <tr>\n",
       "      <th>qID</th>\n",
       "      <th></th>\n",
       "      <th></th>\n",
       "      <th></th>\n",
       "      <th></th>\n",
       "    </tr>\n",
       "  </thead>\n",
       "  <tbody>\n",
       "  </tbody>\n",
       "</table>\n",
       "</div>"
      ],
      "text/plain": [
       "Empty DataFrame\n",
       "Columns: [entity, category, scenario, source]\n",
       "Index: []"
      ]
     },
     "execution_count": 8,
     "metadata": {},
     "output_type": "execute_result"
    }
   ],
   "source": [
    "dt.findExact(entity='', category='', scenario ='', source='')"
   ]
  },
  {
   "cell_type": "code",
   "execution_count": 9,
   "metadata": {},
   "outputs": [
    {
     "data": {
      "text/html": [
       "<div>\n",
       "<style scoped>\n",
       "    .dataframe tbody tr th:only-of-type {\n",
       "        vertical-align: middle;\n",
       "    }\n",
       "\n",
       "    .dataframe tbody tr th {\n",
       "        vertical-align: top;\n",
       "    }\n",
       "\n",
       "    .dataframe thead th {\n",
       "        text-align: right;\n",
       "    }\n",
       "</style>\n",
       "<table border=\"1\" class=\"dataframe\">\n",
       "  <thead>\n",
       "    <tr style=\"text-align: right;\">\n",
       "      <th></th>\n",
       "      <th>entity</th>\n",
       "      <th>category</th>\n",
       "      <th>scenario</th>\n",
       "      <th>source</th>\n",
       "    </tr>\n",
       "    <tr>\n",
       "      <th>qID</th>\n",
       "      <th></th>\n",
       "      <th></th>\n",
       "      <th></th>\n",
       "      <th></th>\n",
       "    </tr>\n",
       "  </thead>\n",
       "  <tbody>\n",
       "  </tbody>\n",
       "</table>\n",
       "</div>"
      ],
      "text/plain": [
       "Empty DataFrame\n",
       "Columns: [entity, category, scenario, source]\n",
       "Index: []"
      ]
     },
     "execution_count": 9,
     "metadata": {},
     "output_type": "execute_result"
    }
   ],
   "source": [
    "dt.findExact(entity='Share')"
   ]
  },
  {
   "cell_type": "markdown",
   "metadata": {},
   "source": [
    "## getTable(ID)\n",
    "returns a DataTable"
   ]
  },
  {
   "cell_type": "code",
   "execution_count": 22,
   "metadata": {},
   "outputs": [],
   "source": [
    "tableID = 'population|all|PROJECTION_LOW|UN_WPP2017'\n",
    "\n",
    "table = dt.getTable(tableID)\n",
    "#print(table)"
   ]
  },
  {
   "cell_type": "markdown",
   "metadata": {},
   "source": [
    "## dt.getTables(ID_list)\n",
    "returns a TableSet"
   ]
  },
  {
   "cell_type": "code",
   "execution_count": 11,
   "metadata": {},
   "outputs": [],
   "source": [
    "ID_list = resDf.index\n",
    "tables = dt.getTables(ID_list)"
   ]
  },
  {
   "cell_type": "markdown",
   "metadata": {},
   "source": [
    "## Datatable\n",
    "Is referenced by its tableID, which consists currently of the for required meta data \n",
    "components:\n",
    "\n",
    "(will include model in the future as well)"
   ]
  },
  {
   "cell_type": "code",
   "execution_count": 12,
   "metadata": {},
   "outputs": [
    {
     "data": {
      "text/plain": [
       "['entity', 'category', 'scenario', 'source']"
      ]
     },
     "execution_count": 12,
     "metadata": {},
     "output_type": "execute_result"
    }
   ],
   "source": [
    "dt.config.ID_FIELDS"
   ]
  },
  {
   "cell_type": "code",
   "execution_count": 13,
   "metadata": {},
   "outputs": [
    {
     "data": {
      "text/plain": [
       "{'source': 'UN_WPP2017',\n",
       " 'entity': 'population',\n",
       " 'unit': 'thousands',\n",
       " 'category': 'all',\n",
       " 'scenario': 'PROJECTION_LOW',\n",
       " 'ID': 'population|all|PROJECTION_LOW|UN_WPP2017',\n",
       " 'creator': 'AG'}"
      ]
     },
     "execution_count": 13,
     "metadata": {},
     "output_type": "execute_result"
    }
   ],
   "source": [
    "table.meta"
   ]
  },
  {
   "cell_type": "markdown",
   "metadata": {},
   "source": [
    "### Needs have a unit that is conistent and known:"
   ]
  },
  {
   "cell_type": "code",
   "execution_count": 14,
   "metadata": {},
   "outputs": [
    {
     "data": {
      "text/plain": [
       "{'category', 'entity', 'scenario', 'source', 'unit'}"
      ]
     },
     "execution_count": 14,
     "metadata": {},
     "output_type": "execute_result"
    }
   ],
   "source": [
    "dt.config.REQUIRED_META_FIELDS"
   ]
  },
  {
   "cell_type": "markdown",
   "metadata": {},
   "source": [
    "## Unit handling and conversion"
   ]
  },
  {
   "cell_type": "code",
   "execution_count": 15,
   "metadata": {},
   "outputs": [
    {
     "name": "stdout",
     "output_type": "stream",
     "text": [
      "=== Datatable - Emissions|CO2||historic|WDI_2019 ===\n",
      "ID: Emissions|CO2||historic|WDI_2019 \n",
      "category:  \n",
      "creator: AG \n",
      "entity: Emissions|CO2 \n",
      "modified: 2020/04/20-02:34:58 \n",
      "original code: EN.ATM.CO2E.KT \n",
      "original name: CO2 emissions (kt) \n",
      "scenario: historic \n",
      "source: WDI_2019 \n",
      "unit: MtCO2 \n",
      "unitTo: MtCO2 \n",
      "                     2010         2011         2012         2013\n",
      "Country Code                                                    \n",
      "USA           5395.532125  5289.680503  5119.436361  5159.160972\n",
      "GBR            493.207833   447.828708   468.572927   458.250322\n",
      "IND           1719.690988  1841.776419  2018.503817  2034.752294\n",
      "DEU            758.859981   732.497918   739.861254   757.312507\n"
     ]
    }
   ],
   "source": [
    "countryList = ['USA', 'GBR','IND','DEU']\n",
    "years = [2010, 2011, 2012, 2013]\n",
    "emissions_CO2 = dt.getTable('Emissions|CO2||historic|WDI_2019').loc[countryList,years]\n",
    "\n",
    "print(emissions_CO2)\n"
   ]
  },
  {
   "cell_type": "markdown",
   "metadata": {},
   "source": [
    "## Conversion of individual tables"
   ]
  },
  {
   "cell_type": "code",
   "execution_count": 16,
   "metadata": {},
   "outputs": [
    {
     "name": "stdout",
     "output_type": "stream",
     "text": [
      "=== Datatable - Emissions|CO2||historic|WDI_2019 ===\n",
      "ID: Emissions|CO2||historic|WDI_2019 \n",
      "category:  \n",
      "creator: AG \n",
      "entity: Emissions|CO2 \n",
      "modified: 2020/05/25-11:38:19 \n",
      "original code: EN.ATM.CO2E.KT \n",
      "original name: CO2 emissions (kt) \n",
      "scenario: historic \n",
      "source: WDI_2019 \n",
      "unit: Gt CO2 \n",
      "unitTo: MtCO2 \n",
      "                  2010      2011      2012      2013\n",
      "Country Code                                        \n",
      "USA           5.395532  5.289681  5.119436  5.159161\n",
      "GBR           0.493208  0.447829  0.468573  0.458250\n",
      "IND           1.719691  1.841776  2.018504  2.034752\n",
      "DEU           0.758860  0.732498  0.739861  0.757313\n"
     ]
    }
   ],
   "source": [
    "emissions_CO2 = emissions_CO2.convert('Gt CO2')\n",
    "print(emissions_CO2)"
   ]
  },
  {
   "cell_type": "markdown",
   "metadata": {},
   "source": [
    "## Calculations with automatic unit conversion"
   ]
  },
  {
   "cell_type": "code",
   "execution_count": 17,
   "metadata": {},
   "outputs": [
    {
     "data": {
      "text/html": [
       "=== Datatable - Population||historic|WDI_2019 ===\n",
       "ID: Population||historic|WDI_2019 \n",
       "category:  \n",
       "creator: AG \n",
       "entity: Population \n",
       "modified: 2020/04/20-02:34:59 \n",
       "original code: SP.POP.TOTL \n",
       "original name: Population \n",
       "scenario: historic \n",
       "source: WDI_2019 \n",
       "unit: millions \n",
       "unitTo: millions \n",
       "<div>\n",
       "<style scoped>\n",
       "    .dataframe tbody tr th:only-of-type {\n",
       "        vertical-align: middle;\n",
       "    }\n",
       "\n",
       "    .dataframe tbody tr th {\n",
       "        vertical-align: top;\n",
       "    }\n",
       "\n",
       "    .dataframe thead th {\n",
       "        text-align: right;\n",
       "    }\n",
       "</style>\n",
       "<table border=\"1\" class=\"dataframe\">\n",
       "  <thead>\n",
       "    <tr style=\"text-align: right;\">\n",
       "      <th></th>\n",
       "      <th>2010</th>\n",
       "      <th>2011</th>\n",
       "      <th>2012</th>\n",
       "      <th>2013</th>\n",
       "      <th>2014</th>\n",
       "    </tr>\n",
       "    <tr>\n",
       "      <th>Country Code</th>\n",
       "      <th></th>\n",
       "      <th></th>\n",
       "      <th></th>\n",
       "      <th></th>\n",
       "      <th></th>\n",
       "    </tr>\n",
       "  </thead>\n",
       "  <tbody>\n",
       "    <tr>\n",
       "      <th>USA</th>\n",
       "      <td>309.326085</td>\n",
       "      <td>311.580009</td>\n",
       "      <td>313.874218</td>\n",
       "      <td>316.057727</td>\n",
       "      <td>318.386421</td>\n",
       "    </tr>\n",
       "    <tr>\n",
       "      <th>GBR</th>\n",
       "      <td>62.766365</td>\n",
       "      <td>63.258918</td>\n",
       "      <td>63.700300</td>\n",
       "      <td>64.128226</td>\n",
       "      <td>64.613160</td>\n",
       "    </tr>\n",
       "    <tr>\n",
       "      <th>IND</th>\n",
       "      <td>1234.281170</td>\n",
       "      <td>1250.288729</td>\n",
       "      <td>1265.782790</td>\n",
       "      <td>1280.846129</td>\n",
       "      <td>1295.604184</td>\n",
       "    </tr>\n",
       "    <tr>\n",
       "      <th>DEU</th>\n",
       "      <td>81.776930</td>\n",
       "      <td>80.274983</td>\n",
       "      <td>80.425823</td>\n",
       "      <td>80.645605</td>\n",
       "      <td>80.982500</td>\n",
       "    </tr>\n",
       "  </tbody>\n",
       "</table>\n",
       "</div>"
      ],
      "text/plain": [
       "=== Datatable - Population||historic|WDI_2019 ===\n",
       "ID: Population||historic|WDI_2019 \n",
       "category:  \n",
       "creator: AG \n",
       "entity: Population \n",
       "modified: 2020/04/20-02:34:59 \n",
       "original code: SP.POP.TOTL \n",
       "original name: Population \n",
       "scenario: historic \n",
       "source: WDI_2019 \n",
       "unit: millions \n",
       "unitTo: millions \n",
       "=== Datatable - Population||historic|WDI_2019 ===\n",
       "ID: Population||historic|WDI_2019 \n",
       "category:  \n",
       "creator: AG \n",
       "entity: Population \n",
       "modified: 2020/04/20-02:34:59 \n",
       "original code: SP.POP.TOTL \n",
       "original name: Population \n",
       "scenario: historic \n",
       "source: WDI_2019 \n",
       "unit: millions \n",
       "unitTo: millions \n",
       "                     2010         2011         2012         2013         2014\n",
       "Country Code                                                                 \n",
       "USA            309.326085   311.580009   313.874218   316.057727   318.386421\n",
       "GBR             62.766365    63.258918    63.700300    64.128226    64.613160\n",
       "IND           1234.281170  1250.288729  1265.782790  1280.846129  1295.604184\n",
       "DEU             81.776930    80.274983    80.425823    80.645605    80.982500"
      ]
     },
     "execution_count": 17,
     "metadata": {},
     "output_type": "execute_result"
    }
   ],
   "source": [
    "population = dt.getTable('Population||historic|WDI_2019').loc[countryList,years+ [2014]]\n",
    "population"
   ]
  },
  {
   "cell_type": "code",
   "execution_count": 18,
   "metadata": {},
   "outputs": [
    {
     "name": "stdout",
     "output_type": "stream",
     "text": [
      "=== Datatable ===\n",
      "source: calculation \n",
      "unit: CO2 * gigametric_ton / millions \n",
      "                  2010      2011      2012      2013  2014\n",
      "Country Code                                              \n",
      "USA           0.017443  0.016977  0.016310  0.016323   NaN\n",
      "GBR           0.007858  0.007079  0.007356  0.007146   NaN\n",
      "IND           0.001393  0.001473  0.001595  0.001589   NaN\n",
      "DEU           0.009280  0.009125  0.009199  0.009391   NaN\n"
     ]
    }
   ],
   "source": [
    "emissions_per_capita = emissions_CO2 / population\n",
    "print(emissions_per_capita)"
   ]
  },
  {
   "cell_type": "code",
   "execution_count": 19,
   "metadata": {},
   "outputs": [
    {
     "name": "stdout",
     "output_type": "stream",
     "text": [
      "=== Datatable ===\n",
      "category:  \n",
      "source: calculation \n",
      "unit: t CO2 / count \n",
      "entity:  \n",
      "scenario:  \n",
      "modified: 2020/05/25-11:38:19 \n",
      "                   2010       2011       2012       2013\n",
      "Country Code                                            \n",
      "USA           17.442862  16.976957  16.310471  16.323477\n",
      "GBR            7.857836   7.079298   7.355898   7.145844\n",
      "IND            1.393273   1.473081   1.594668   1.588600\n",
      "DEU            9.279634   9.124859   9.199300   9.390623\n"
     ]
    }
   ],
   "source": [
    "print(emissions_per_capita.convert('t CO2 / count').clean())"
   ]
  },
  {
   "cell_type": "code",
   "execution_count": 20,
   "metadata": {},
   "outputs": [
    {
     "data": {
      "text/plain": [
       "{'ID': 'Emissions|N2O|Agriculture||Historic|FAO_2019',\n",
       " 'category': '',\n",
       " 'creator': 'AG',\n",
       " 'entity': 'Emissions|N2O|Agriculture',\n",
       " 'scenario': 'Historic',\n",
       " 'source': 'FAO_2019',\n",
       " 'unit': 'Gg N2O'}"
      ]
     },
     "execution_count": 20,
     "metadata": {},
     "output_type": "execute_result"
    }
   ],
   "source": [
    "table_N2O_Agri = dt.getTable('Emissions|N2O|Agriculture||Historic|FAO_2019')\n",
    "table_N2O_Agri.meta"
   ]
  },
  {
   "cell_type": "code",
   "execution_count": 23,
   "metadata": {},
   "outputs": [
    {
     "data": {
      "text/html": [
       "=== Datatable - Emissions|N2O|Agriculture||Historic|FAO_2019 ===\n",
       "ID: Emissions|N2O|Agriculture||Historic|FAO_2019 \n",
       "category:  \n",
       "creator: AG \n",
       "entity: Emissions|N2O|Agriculture \n",
       "scenario: Historic \n",
       "source: FAO_2019 \n",
       "unit: Gg N2O \n",
       "<div>\n",
       "<style scoped>\n",
       "    .dataframe tbody tr th:only-of-type {\n",
       "        vertical-align: middle;\n",
       "    }\n",
       "\n",
       "    .dataframe tbody tr th {\n",
       "        vertical-align: top;\n",
       "    }\n",
       "\n",
       "    .dataframe thead th {\n",
       "        text-align: right;\n",
       "    }\n",
       "</style>\n",
       "<table border=\"1\" class=\"dataframe\">\n",
       "  <thead>\n",
       "    <tr style=\"text-align: right;\">\n",
       "      <th></th>\n",
       "      <th>2010</th>\n",
       "      <th>2011</th>\n",
       "      <th>2012</th>\n",
       "      <th>2013</th>\n",
       "    </tr>\n",
       "    <tr>\n",
       "      <th>region</th>\n",
       "      <th></th>\n",
       "      <th></th>\n",
       "      <th></th>\n",
       "      <th></th>\n",
       "    </tr>\n",
       "  </thead>\n",
       "  <tbody>\n",
       "    <tr>\n",
       "      <th>USA</th>\n",
       "      <td>582.8089</td>\n",
       "      <td>600.6001</td>\n",
       "      <td>596.3651</td>\n",
       "      <td>603.8993</td>\n",
       "    </tr>\n",
       "    <tr>\n",
       "      <th>GBR</th>\n",
       "      <td>76.0432</td>\n",
       "      <td>75.5828</td>\n",
       "      <td>75.1916</td>\n",
       "      <td>76.8492</td>\n",
       "    </tr>\n",
       "    <tr>\n",
       "      <th>IND</th>\n",
       "      <td>696.0199</td>\n",
       "      <td>719.0626</td>\n",
       "      <td>709.4712</td>\n",
       "      <td>707.2291</td>\n",
       "    </tr>\n",
       "    <tr>\n",
       "      <th>DEU</th>\n",
       "      <td>97.8390</td>\n",
       "      <td>94.1920</td>\n",
       "      <td>95.0331</td>\n",
       "      <td>96.8258</td>\n",
       "    </tr>\n",
       "  </tbody>\n",
       "</table>\n",
       "</div>"
      ],
      "text/plain": [
       "=== Datatable - Emissions|N2O|Agriculture||Historic|FAO_2019 ===\n",
       "ID: Emissions|N2O|Agriculture||Historic|FAO_2019 \n",
       "category:  \n",
       "creator: AG \n",
       "entity: Emissions|N2O|Agriculture \n",
       "scenario: Historic \n",
       "source: FAO_2019 \n",
       "unit: Gg N2O \n",
       "=== Datatable - Emissions|N2O|Agriculture||Historic|FAO_2019 ===\n",
       "ID: Emissions|N2O|Agriculture||Historic|FAO_2019 \n",
       "category:  \n",
       "creator: AG \n",
       "entity: Emissions|N2O|Agriculture \n",
       "scenario: Historic \n",
       "source: FAO_2019 \n",
       "unit: Gg N2O \n",
       "            2010      2011      2012      2013\n",
       "region                                        \n",
       "USA     582.8089  600.6001  596.3651  603.8993\n",
       "GBR      76.0432   75.5828   75.1916   76.8492\n",
       "IND     696.0199  719.0626  709.4712  707.2291\n",
       "DEU      97.8390   94.1920   95.0331   96.8258"
      ]
     },
     "execution_count": 23,
     "metadata": {},
     "output_type": "execute_result"
    }
   ],
   "source": [
    "table_N2O_Agri = table_N2O_Agri.loc[countryList,years]\n",
    "table_N2O_Agri"
   ]
  },
  {
   "cell_type": "code",
   "execution_count": 24,
   "metadata": {},
   "outputs": [
    {
     "data": {
      "text/html": [
       "=== Datatable - Emissions|N2O|Agriculture||Historic|FAO_2019 ===\n",
       "ID: Emissions|N2O|Agriculture||Historic|FAO_2019 \n",
       "category:  \n",
       "creator: AG \n",
       "entity: Emissions|N2O|Agriculture \n",
       "scenario: Historic \n",
       "source: FAO_2019 \n",
       "unit: Mt N2O \n",
       "modified: 2020/05/25-11:39:00 \n",
       "<div>\n",
       "<style scoped>\n",
       "    .dataframe tbody tr th:only-of-type {\n",
       "        vertical-align: middle;\n",
       "    }\n",
       "\n",
       "    .dataframe tbody tr th {\n",
       "        vertical-align: top;\n",
       "    }\n",
       "\n",
       "    .dataframe thead th {\n",
       "        text-align: right;\n",
       "    }\n",
       "</style>\n",
       "<table border=\"1\" class=\"dataframe\">\n",
       "  <thead>\n",
       "    <tr style=\"text-align: right;\">\n",
       "      <th></th>\n",
       "      <th>2010</th>\n",
       "      <th>2011</th>\n",
       "      <th>2012</th>\n",
       "      <th>2013</th>\n",
       "    </tr>\n",
       "    <tr>\n",
       "      <th>region</th>\n",
       "      <th></th>\n",
       "      <th></th>\n",
       "      <th></th>\n",
       "      <th></th>\n",
       "    </tr>\n",
       "  </thead>\n",
       "  <tbody>\n",
       "    <tr>\n",
       "      <th>USA</th>\n",
       "      <td>0.582809</td>\n",
       "      <td>0.600600</td>\n",
       "      <td>0.596365</td>\n",
       "      <td>0.603899</td>\n",
       "    </tr>\n",
       "    <tr>\n",
       "      <th>GBR</th>\n",
       "      <td>0.076043</td>\n",
       "      <td>0.075583</td>\n",
       "      <td>0.075192</td>\n",
       "      <td>0.076849</td>\n",
       "    </tr>\n",
       "    <tr>\n",
       "      <th>IND</th>\n",
       "      <td>0.696020</td>\n",
       "      <td>0.719063</td>\n",
       "      <td>0.709471</td>\n",
       "      <td>0.707229</td>\n",
       "    </tr>\n",
       "    <tr>\n",
       "      <th>DEU</th>\n",
       "      <td>0.097839</td>\n",
       "      <td>0.094192</td>\n",
       "      <td>0.095033</td>\n",
       "      <td>0.096826</td>\n",
       "    </tr>\n",
       "  </tbody>\n",
       "</table>\n",
       "</div>"
      ],
      "text/plain": [
       "=== Datatable - Emissions|N2O|Agriculture||Historic|FAO_2019 ===\n",
       "ID: Emissions|N2O|Agriculture||Historic|FAO_2019 \n",
       "category:  \n",
       "creator: AG \n",
       "entity: Emissions|N2O|Agriculture \n",
       "scenario: Historic \n",
       "source: FAO_2019 \n",
       "unit: Mt N2O \n",
       "modified: 2020/05/25-11:39:00 \n",
       "=== Datatable - Emissions|N2O|Agriculture||Historic|FAO_2019 ===\n",
       "ID: Emissions|N2O|Agriculture||Historic|FAO_2019 \n",
       "category:  \n",
       "creator: AG \n",
       "entity: Emissions|N2O|Agriculture \n",
       "scenario: Historic \n",
       "source: FAO_2019 \n",
       "unit: Mt N2O \n",
       "modified: 2020/05/25-11:39:00 \n",
       "            2010      2011      2012      2013\n",
       "region                                        \n",
       "USA     0.582809  0.600600  0.596365  0.603899\n",
       "GBR     0.076043  0.075583  0.075192  0.076849\n",
       "IND     0.696020  0.719063  0.709471  0.707229\n",
       "DEU     0.097839  0.094192  0.095033  0.096826"
      ]
     },
     "execution_count": 24,
     "metadata": {},
     "output_type": "execute_result"
    }
   ],
   "source": [
    "table_N2O_Agri.convert('Mt N2O')"
   ]
  },
  {
   "cell_type": "code",
   "execution_count": 25,
   "metadata": {},
   "outputs": [
    {
     "data": {
      "text/html": [
       "=== Datatable - Emissions|CH4|Agriculture||Historic|FAO_2019 ===\n",
       "ID: Emissions|CH4|Agriculture||Historic|FAO_2019 \n",
       "category:  \n",
       "creator: AG \n",
       "entity: Emissions|CH4|Agriculture \n",
       "scenario: Historic \n",
       "source: FAO_2019 \n",
       "unit: Gg CH4 \n",
       "<div>\n",
       "<style scoped>\n",
       "    .dataframe tbody tr th:only-of-type {\n",
       "        vertical-align: middle;\n",
       "    }\n",
       "\n",
       "    .dataframe tbody tr th {\n",
       "        vertical-align: top;\n",
       "    }\n",
       "\n",
       "    .dataframe thead th {\n",
       "        text-align: right;\n",
       "    }\n",
       "</style>\n",
       "<table border=\"1\" class=\"dataframe\">\n",
       "  <thead>\n",
       "    <tr style=\"text-align: right;\">\n",
       "      <th></th>\n",
       "      <th>2010</th>\n",
       "      <th>2011</th>\n",
       "      <th>2012</th>\n",
       "      <th>2013</th>\n",
       "    </tr>\n",
       "    <tr>\n",
       "      <th>region</th>\n",
       "      <th></th>\n",
       "      <th></th>\n",
       "      <th></th>\n",
       "      <th></th>\n",
       "    </tr>\n",
       "  </thead>\n",
       "  <tbody>\n",
       "    <tr>\n",
       "      <th>USA</th>\n",
       "      <td>7996.7623</td>\n",
       "      <td>7856.6867</td>\n",
       "      <td>7758.1792</td>\n",
       "      <td>7634.9211</td>\n",
       "    </tr>\n",
       "    <tr>\n",
       "      <th>GBR</th>\n",
       "      <td>1086.4682</td>\n",
       "      <td>1077.1046</td>\n",
       "      <td>1078.5900</td>\n",
       "      <td>1082.9669</td>\n",
       "    </tr>\n",
       "    <tr>\n",
       "      <th>IND</th>\n",
       "      <td>19369.4528</td>\n",
       "      <td>19504.8190</td>\n",
       "      <td>19382.9597</td>\n",
       "      <td>19504.0450</td>\n",
       "    </tr>\n",
       "    <tr>\n",
       "      <th>DEU</th>\n",
       "      <td>1368.1552</td>\n",
       "      <td>1357.8893</td>\n",
       "      <td>1359.2648</td>\n",
       "      <td>1370.7428</td>\n",
       "    </tr>\n",
       "  </tbody>\n",
       "</table>\n",
       "</div>"
      ],
      "text/plain": [
       "=== Datatable - Emissions|CH4|Agriculture||Historic|FAO_2019 ===\n",
       "ID: Emissions|CH4|Agriculture||Historic|FAO_2019 \n",
       "category:  \n",
       "creator: AG \n",
       "entity: Emissions|CH4|Agriculture \n",
       "scenario: Historic \n",
       "source: FAO_2019 \n",
       "unit: Gg CH4 \n",
       "=== Datatable - Emissions|CH4|Agriculture||Historic|FAO_2019 ===\n",
       "ID: Emissions|CH4|Agriculture||Historic|FAO_2019 \n",
       "category:  \n",
       "creator: AG \n",
       "entity: Emissions|CH4|Agriculture \n",
       "scenario: Historic \n",
       "source: FAO_2019 \n",
       "unit: Gg CH4 \n",
       "              2010        2011        2012        2013\n",
       "region                                                \n",
       "USA      7996.7623   7856.6867   7758.1792   7634.9211\n",
       "GBR      1086.4682   1077.1046   1078.5900   1082.9669\n",
       "IND     19369.4528  19504.8190  19382.9597  19504.0450\n",
       "DEU      1368.1552   1357.8893   1359.2648   1370.7428"
      ]
     },
     "execution_count": 25,
     "metadata": {},
     "output_type": "execute_result"
    }
   ],
   "source": [
    "table_CH4_Agri = dt.getTable('Emissions|CH4|Agriculture||Historic|FAO_2019').loc[countryList,years]\n",
    "table_CH4_Agri"
   ]
  },
  {
   "cell_type": "code",
   "execution_count": 26,
   "metadata": {},
   "outputs": [
    {
     "ename": "DimensionalityError",
     "evalue": "Cannot convert from 'N2O * gigagram' ([mass] * [nitrogen]) to 'CH4 * gigagram' ([mass] * [methane])",
     "output_type": "error",
     "traceback": [
      "\u001b[0;31m---------------------------------------------------------------------------\u001b[0m",
      "\u001b[0;31mDimensionalityError\u001b[0m                       Traceback (most recent call last)",
      "\u001b[0;32m<ipython-input-26-cd72cd412040>\u001b[0m in \u001b[0;36m<module>\u001b[0;34m\u001b[0m\n\u001b[0;32m----> 1\u001b[0;31m \u001b[0mtable_CH4_Agri\u001b[0m \u001b[0;34m+\u001b[0m \u001b[0mtable_N2O_Agri\u001b[0m\u001b[0;34m\u001b[0m\u001b[0;34m\u001b[0m\u001b[0m\n\u001b[0m",
      "\u001b[0;32m/media/sf_Documents/python/datatoolbox/datatoolbox/data_structures.py\u001b[0m in \u001b[0;36m__add__\u001b[0;34m(self, other)\u001b[0m\n\u001b[1;32m    266\u001b[0m         \u001b[0;32mif\u001b[0m \u001b[0misinstance\u001b[0m\u001b[0;34m(\u001b[0m\u001b[0mother\u001b[0m\u001b[0;34m,\u001b[0m\u001b[0mDatatable\u001b[0m\u001b[0;34m)\u001b[0m\u001b[0;34m:\u001b[0m\u001b[0;34m\u001b[0m\u001b[0;34m\u001b[0m\u001b[0m\n\u001b[1;32m    267\u001b[0m \u001b[0;34m\u001b[0m\u001b[0m\n\u001b[0;32m--> 268\u001b[0;31m             \u001b[0mfactor\u001b[0m \u001b[0;34m=\u001b[0m \u001b[0mcore\u001b[0m\u001b[0;34m.\u001b[0m\u001b[0mgetUnit\u001b[0m\u001b[0;34m(\u001b[0m\u001b[0mother\u001b[0m\u001b[0;34m.\u001b[0m\u001b[0mmeta\u001b[0m\u001b[0;34m[\u001b[0m\u001b[0;34m'unit'\u001b[0m\u001b[0;34m]\u001b[0m\u001b[0;34m)\u001b[0m\u001b[0;34m.\u001b[0m\u001b[0mto\u001b[0m\u001b[0;34m(\u001b[0m\u001b[0mself\u001b[0m\u001b[0;34m.\u001b[0m\u001b[0mmeta\u001b[0m\u001b[0;34m[\u001b[0m\u001b[0;34m'unit'\u001b[0m\u001b[0;34m]\u001b[0m\u001b[0;34m)\u001b[0m\u001b[0;34m.\u001b[0m\u001b[0mm\u001b[0m\u001b[0;34m\u001b[0m\u001b[0;34m\u001b[0m\u001b[0m\n\u001b[0m\u001b[1;32m    269\u001b[0m             \u001b[0;31m#print('factor: ' + str(factor))\u001b[0m\u001b[0;34m\u001b[0m\u001b[0;34m\u001b[0m\u001b[0;34m\u001b[0m\u001b[0m\n\u001b[1;32m    270\u001b[0m             \u001b[0;31m#print('other' + str(other))\u001b[0m\u001b[0;34m\u001b[0m\u001b[0;34m\u001b[0m\u001b[0;34m\u001b[0m\u001b[0m\n",
      "\u001b[0;32m~/anaconda3/envs/testing/lib/python3.7/site-packages/pint/quantity.py\u001b[0m in \u001b[0;36mto\u001b[0;34m(self, other, *contexts, **ctx_kwargs)\u001b[0m\n\u001b[1;32m    373\u001b[0m         \u001b[0mother\u001b[0m \u001b[0;34m=\u001b[0m \u001b[0mto_units_container\u001b[0m\u001b[0;34m(\u001b[0m\u001b[0mother\u001b[0m\u001b[0;34m,\u001b[0m \u001b[0mself\u001b[0m\u001b[0;34m.\u001b[0m\u001b[0m_REGISTRY\u001b[0m\u001b[0;34m)\u001b[0m\u001b[0;34m\u001b[0m\u001b[0;34m\u001b[0m\u001b[0m\n\u001b[1;32m    374\u001b[0m \u001b[0;34m\u001b[0m\u001b[0m\n\u001b[0;32m--> 375\u001b[0;31m         \u001b[0mmagnitude\u001b[0m \u001b[0;34m=\u001b[0m \u001b[0mself\u001b[0m\u001b[0;34m.\u001b[0m\u001b[0m_convert_magnitude_not_inplace\u001b[0m\u001b[0;34m(\u001b[0m\u001b[0mother\u001b[0m\u001b[0;34m,\u001b[0m \u001b[0;34m*\u001b[0m\u001b[0mcontexts\u001b[0m\u001b[0;34m,\u001b[0m \u001b[0;34m**\u001b[0m\u001b[0mctx_kwargs\u001b[0m\u001b[0;34m)\u001b[0m\u001b[0;34m\u001b[0m\u001b[0;34m\u001b[0m\u001b[0m\n\u001b[0m\u001b[1;32m    376\u001b[0m \u001b[0;34m\u001b[0m\u001b[0m\n\u001b[1;32m    377\u001b[0m         \u001b[0;32mreturn\u001b[0m \u001b[0mself\u001b[0m\u001b[0;34m.\u001b[0m\u001b[0m__class__\u001b[0m\u001b[0;34m(\u001b[0m\u001b[0mmagnitude\u001b[0m\u001b[0;34m,\u001b[0m \u001b[0mother\u001b[0m\u001b[0;34m)\u001b[0m\u001b[0;34m\u001b[0m\u001b[0;34m\u001b[0m\u001b[0m\n",
      "\u001b[0;32m~/anaconda3/envs/testing/lib/python3.7/site-packages/pint/quantity.py\u001b[0m in \u001b[0;36m_convert_magnitude_not_inplace\u001b[0;34m(self, other, *contexts, **ctx_kwargs)\u001b[0m\n\u001b[1;32m    341\u001b[0m                 \u001b[0;32mreturn\u001b[0m \u001b[0mself\u001b[0m\u001b[0;34m.\u001b[0m\u001b[0m_REGISTRY\u001b[0m\u001b[0;34m.\u001b[0m\u001b[0mconvert\u001b[0m\u001b[0;34m(\u001b[0m\u001b[0mself\u001b[0m\u001b[0;34m.\u001b[0m\u001b[0m_magnitude\u001b[0m\u001b[0;34m,\u001b[0m \u001b[0mself\u001b[0m\u001b[0;34m.\u001b[0m\u001b[0m_units\u001b[0m\u001b[0;34m,\u001b[0m \u001b[0mother\u001b[0m\u001b[0;34m)\u001b[0m\u001b[0;34m\u001b[0m\u001b[0;34m\u001b[0m\u001b[0m\n\u001b[1;32m    342\u001b[0m \u001b[0;34m\u001b[0m\u001b[0m\n\u001b[0;32m--> 343\u001b[0;31m         \u001b[0;32mreturn\u001b[0m \u001b[0mself\u001b[0m\u001b[0;34m.\u001b[0m\u001b[0m_REGISTRY\u001b[0m\u001b[0;34m.\u001b[0m\u001b[0mconvert\u001b[0m\u001b[0;34m(\u001b[0m\u001b[0mself\u001b[0m\u001b[0;34m.\u001b[0m\u001b[0m_magnitude\u001b[0m\u001b[0;34m,\u001b[0m \u001b[0mself\u001b[0m\u001b[0;34m.\u001b[0m\u001b[0m_units\u001b[0m\u001b[0;34m,\u001b[0m \u001b[0mother\u001b[0m\u001b[0;34m)\u001b[0m\u001b[0;34m\u001b[0m\u001b[0;34m\u001b[0m\u001b[0m\n\u001b[0m\u001b[1;32m    344\u001b[0m \u001b[0;34m\u001b[0m\u001b[0m\n\u001b[1;32m    345\u001b[0m     \u001b[0;32mdef\u001b[0m \u001b[0m_convert_magnitude\u001b[0m\u001b[0;34m(\u001b[0m\u001b[0mself\u001b[0m\u001b[0;34m,\u001b[0m \u001b[0mother\u001b[0m\u001b[0;34m,\u001b[0m \u001b[0;34m*\u001b[0m\u001b[0mcontexts\u001b[0m\u001b[0;34m,\u001b[0m \u001b[0;34m**\u001b[0m\u001b[0mctx_kwargs\u001b[0m\u001b[0;34m)\u001b[0m\u001b[0;34m:\u001b[0m\u001b[0;34m\u001b[0m\u001b[0;34m\u001b[0m\u001b[0m\n",
      "\u001b[0;32m~/anaconda3/envs/testing/lib/python3.7/site-packages/pint/registry.py\u001b[0m in \u001b[0;36mconvert\u001b[0;34m(self, value, src, dst, inplace)\u001b[0m\n\u001b[1;32m    709\u001b[0m             \u001b[0;32mreturn\u001b[0m \u001b[0mvalue\u001b[0m\u001b[0;34m\u001b[0m\u001b[0;34m\u001b[0m\u001b[0m\n\u001b[1;32m    710\u001b[0m \u001b[0;34m\u001b[0m\u001b[0m\n\u001b[0;32m--> 711\u001b[0;31m         \u001b[0;32mreturn\u001b[0m \u001b[0mself\u001b[0m\u001b[0;34m.\u001b[0m\u001b[0m_convert\u001b[0m\u001b[0;34m(\u001b[0m\u001b[0mvalue\u001b[0m\u001b[0;34m,\u001b[0m \u001b[0msrc\u001b[0m\u001b[0;34m,\u001b[0m \u001b[0mdst\u001b[0m\u001b[0;34m,\u001b[0m \u001b[0minplace\u001b[0m\u001b[0;34m)\u001b[0m\u001b[0;34m\u001b[0m\u001b[0;34m\u001b[0m\u001b[0m\n\u001b[0m\u001b[1;32m    712\u001b[0m \u001b[0;34m\u001b[0m\u001b[0m\n\u001b[1;32m    713\u001b[0m     \u001b[0;32mdef\u001b[0m \u001b[0m_convert\u001b[0m\u001b[0;34m(\u001b[0m\u001b[0mself\u001b[0m\u001b[0;34m,\u001b[0m \u001b[0mvalue\u001b[0m\u001b[0;34m,\u001b[0m \u001b[0msrc\u001b[0m\u001b[0;34m,\u001b[0m \u001b[0mdst\u001b[0m\u001b[0;34m,\u001b[0m \u001b[0minplace\u001b[0m\u001b[0;34m=\u001b[0m\u001b[0;32mFalse\u001b[0m\u001b[0;34m,\u001b[0m \u001b[0mcheck_dimensionality\u001b[0m\u001b[0;34m=\u001b[0m\u001b[0;32mTrue\u001b[0m\u001b[0;34m)\u001b[0m\u001b[0;34m:\u001b[0m\u001b[0;34m\u001b[0m\u001b[0;34m\u001b[0m\u001b[0m\n",
      "\u001b[0;32m~/anaconda3/envs/testing/lib/python3.7/site-packages/pint/registry.py\u001b[0m in \u001b[0;36m_convert\u001b[0;34m(self, value, src, dst, inplace)\u001b[0m\n\u001b[1;32m   1240\u001b[0m                 \u001b[0mvalue\u001b[0m\u001b[0;34m,\u001b[0m \u001b[0msrc\u001b[0m \u001b[0;34m=\u001b[0m \u001b[0msrc\u001b[0m\u001b[0;34m.\u001b[0m\u001b[0m_magnitude\u001b[0m\u001b[0;34m,\u001b[0m \u001b[0msrc\u001b[0m\u001b[0;34m.\u001b[0m\u001b[0m_units\u001b[0m\u001b[0;34m\u001b[0m\u001b[0;34m\u001b[0m\u001b[0m\n\u001b[1;32m   1241\u001b[0m \u001b[0;34m\u001b[0m\u001b[0m\n\u001b[0;32m-> 1242\u001b[0;31m         \u001b[0;32mreturn\u001b[0m \u001b[0msuper\u001b[0m\u001b[0;34m(\u001b[0m\u001b[0mContextRegistry\u001b[0m\u001b[0;34m,\u001b[0m \u001b[0mself\u001b[0m\u001b[0;34m)\u001b[0m\u001b[0;34m.\u001b[0m\u001b[0m_convert\u001b[0m\u001b[0;34m(\u001b[0m\u001b[0mvalue\u001b[0m\u001b[0;34m,\u001b[0m \u001b[0msrc\u001b[0m\u001b[0;34m,\u001b[0m \u001b[0mdst\u001b[0m\u001b[0;34m,\u001b[0m \u001b[0minplace\u001b[0m\u001b[0;34m)\u001b[0m\u001b[0;34m\u001b[0m\u001b[0;34m\u001b[0m\u001b[0m\n\u001b[0m\u001b[1;32m   1243\u001b[0m \u001b[0;34m\u001b[0m\u001b[0m\n\u001b[1;32m   1244\u001b[0m     \u001b[0;32mdef\u001b[0m \u001b[0m_get_compatible_units\u001b[0m\u001b[0;34m(\u001b[0m\u001b[0mself\u001b[0m\u001b[0;34m,\u001b[0m \u001b[0minput_units\u001b[0m\u001b[0;34m,\u001b[0m \u001b[0mgroup_or_system\u001b[0m\u001b[0;34m)\u001b[0m\u001b[0;34m:\u001b[0m\u001b[0;34m\u001b[0m\u001b[0;34m\u001b[0m\u001b[0m\n",
      "\u001b[0;32m~/anaconda3/envs/testing/lib/python3.7/site-packages/pint/registry.py\u001b[0m in \u001b[0;36m_convert\u001b[0;34m(self, value, src, dst, inplace)\u001b[0m\n\u001b[1;32m    993\u001b[0m \u001b[0;34m\u001b[0m\u001b[0m\n\u001b[1;32m    994\u001b[0m         \u001b[0;32mif\u001b[0m \u001b[0;32mnot\u001b[0m \u001b[0;34m(\u001b[0m\u001b[0msrc_offset_unit\u001b[0m \u001b[0;32mor\u001b[0m \u001b[0mdst_offset_unit\u001b[0m\u001b[0;34m)\u001b[0m\u001b[0;34m:\u001b[0m\u001b[0;34m\u001b[0m\u001b[0;34m\u001b[0m\u001b[0m\n\u001b[0;32m--> 995\u001b[0;31m             \u001b[0;32mreturn\u001b[0m \u001b[0msuper\u001b[0m\u001b[0;34m(\u001b[0m\u001b[0mNonMultiplicativeRegistry\u001b[0m\u001b[0;34m,\u001b[0m \u001b[0mself\u001b[0m\u001b[0;34m)\u001b[0m\u001b[0;34m.\u001b[0m\u001b[0m_convert\u001b[0m\u001b[0;34m(\u001b[0m\u001b[0mvalue\u001b[0m\u001b[0;34m,\u001b[0m \u001b[0msrc\u001b[0m\u001b[0;34m,\u001b[0m \u001b[0mdst\u001b[0m\u001b[0;34m,\u001b[0m \u001b[0minplace\u001b[0m\u001b[0;34m)\u001b[0m\u001b[0;34m\u001b[0m\u001b[0;34m\u001b[0m\u001b[0m\n\u001b[0m\u001b[1;32m    996\u001b[0m \u001b[0;34m\u001b[0m\u001b[0m\n\u001b[1;32m    997\u001b[0m         \u001b[0msrc_dim\u001b[0m \u001b[0;34m=\u001b[0m \u001b[0mself\u001b[0m\u001b[0;34m.\u001b[0m\u001b[0m_get_dimensionality\u001b[0m\u001b[0;34m(\u001b[0m\u001b[0msrc\u001b[0m\u001b[0;34m)\u001b[0m\u001b[0;34m\u001b[0m\u001b[0;34m\u001b[0m\u001b[0m\n",
      "\u001b[0;32m~/anaconda3/envs/testing/lib/python3.7/site-packages/pint/registry.py\u001b[0m in \u001b[0;36m_convert\u001b[0;34m(self, value, src, dst, inplace, check_dimensionality)\u001b[0m\n\u001b[1;32m    731\u001b[0m             \u001b[0;31m# then the conversion cannot be performed.\u001b[0m\u001b[0;34m\u001b[0m\u001b[0;34m\u001b[0m\u001b[0;34m\u001b[0m\u001b[0m\n\u001b[1;32m    732\u001b[0m             \u001b[0;32mif\u001b[0m \u001b[0msrc_dim\u001b[0m \u001b[0;34m!=\u001b[0m \u001b[0mdst_dim\u001b[0m\u001b[0;34m:\u001b[0m\u001b[0;34m\u001b[0m\u001b[0;34m\u001b[0m\u001b[0m\n\u001b[0;32m--> 733\u001b[0;31m                 \u001b[0;32mraise\u001b[0m \u001b[0mDimensionalityError\u001b[0m\u001b[0;34m(\u001b[0m\u001b[0msrc\u001b[0m\u001b[0;34m,\u001b[0m \u001b[0mdst\u001b[0m\u001b[0;34m,\u001b[0m \u001b[0msrc_dim\u001b[0m\u001b[0;34m,\u001b[0m \u001b[0mdst_dim\u001b[0m\u001b[0;34m)\u001b[0m\u001b[0;34m\u001b[0m\u001b[0;34m\u001b[0m\u001b[0m\n\u001b[0m\u001b[1;32m    734\u001b[0m \u001b[0;34m\u001b[0m\u001b[0m\n\u001b[1;32m    735\u001b[0m         \u001b[0;31m# Here src and dst have only multiplicative units left. Thus we can\u001b[0m\u001b[0;34m\u001b[0m\u001b[0;34m\u001b[0m\u001b[0;34m\u001b[0m\u001b[0m\n",
      "\u001b[0;31mDimensionalityError\u001b[0m: Cannot convert from 'N2O * gigagram' ([mass] * [nitrogen]) to 'CH4 * gigagram' ([mass] * [methane])"
     ]
    }
   ],
   "source": [
    "table_CH4_Agri + table_N2O_Agri"
   ]
  },
  {
   "cell_type": "markdown",
   "metadata": {},
   "source": [
    "## Greenhouse warming potential conversion"
   ]
  },
  {
   "cell_type": "code",
   "execution_count": 28,
   "metadata": {},
   "outputs": [
    {
     "name": "stdout",
     "output_type": "stream",
     "text": [
      "CO2eq\n",
      "CH4\n",
      "CO2eq\n",
      "N2O\n"
     ]
    },
    {
     "data": {
      "text/html": [
       "=== Datatable ===\n",
       "source: calculation \n",
       "unit: Mt CO2eq \n",
       "<div>\n",
       "<style scoped>\n",
       "    .dataframe tbody tr th:only-of-type {\n",
       "        vertical-align: middle;\n",
       "    }\n",
       "\n",
       "    .dataframe tbody tr th {\n",
       "        vertical-align: top;\n",
       "    }\n",
       "\n",
       "    .dataframe thead th {\n",
       "        text-align: right;\n",
       "    }\n",
       "</style>\n",
       "<table border=\"1\" class=\"dataframe\">\n",
       "  <thead>\n",
       "    <tr style=\"text-align: right;\">\n",
       "      <th></th>\n",
       "      <th>2010</th>\n",
       "      <th>2011</th>\n",
       "      <th>2012</th>\n",
       "      <th>2013</th>\n",
       "    </tr>\n",
       "    <tr>\n",
       "      <th>region</th>\n",
       "      <th></th>\n",
       "      <th></th>\n",
       "      <th></th>\n",
       "      <th></th>\n",
       "    </tr>\n",
       "  </thead>\n",
       "  <tbody>\n",
       "    <tr>\n",
       "      <th>USA</th>\n",
       "      <td>373.596110</td>\n",
       "      <td>375.395997</td>\n",
       "      <td>371.671280</td>\n",
       "      <td>370.835019</td>\n",
       "    </tr>\n",
       "    <tr>\n",
       "      <th>GBR</th>\n",
       "      <td>49.822579</td>\n",
       "      <td>49.451289</td>\n",
       "      <td>49.371847</td>\n",
       "      <td>49.975234</td>\n",
       "    </tr>\n",
       "    <tr>\n",
       "      <th>IND</th>\n",
       "      <td>691.650250</td>\n",
       "      <td>701.901130</td>\n",
       "      <td>695.996410</td>\n",
       "      <td>698.355397</td>\n",
       "    </tr>\n",
       "    <tr>\n",
       "      <th>DEU</th>\n",
       "      <td>63.359902</td>\n",
       "      <td>62.016449</td>\n",
       "      <td>62.301484</td>\n",
       "      <td>63.122658</td>\n",
       "    </tr>\n",
       "  </tbody>\n",
       "</table>\n",
       "</div>"
      ],
      "text/plain": [
       "=== Datatable ===\n",
       "source: calculation \n",
       "unit: Mt CO2eq \n",
       "=== Datatable ===\n",
       "source: calculation \n",
       "unit: Mt CO2eq \n",
       "              2010        2011        2012        2013\n",
       "region                                                \n",
       "USA     373.596110  375.395997  371.671280  370.835019\n",
       "GBR      49.822579   49.451289   49.371847   49.975234\n",
       "IND     691.650250  701.901130  695.996410  698.355397\n",
       "DEU      63.359902   62.016449   62.301484   63.122658"
      ]
     },
     "execution_count": 28,
     "metadata": {},
     "output_type": "execute_result"
    }
   ],
   "source": [
    "table_CH4_Agri = table_CH4_Agri.convert('Mt CO2eq', context='GWPAR4')\n",
    "table_N2O_Agri = table_N2O_Agri.convert('Mt CO2eq', context='GWPAR4')\n",
    "table_N2O_CH4_Agri = table_CH4_Agri + table_N2O_Agri\n",
    "table_N2O_CH4_Agri"
   ]
  },
  {
   "cell_type": "code",
   "execution_count": 33,
   "metadata": {},
   "outputs": [
    {
     "data": {
      "text/html": [
       "=== Datatable - Emissions|N2O&CH4|Agriculture|Agriculture|Historic_computed|CA_2020 ===\n",
       "category: Agriculture \n",
       "source: CA_2020 \n",
       "unit: Mt CO2eq \n",
       "entity: Emissions|N2O&CH4|Agriculture \n",
       "scenario: Historic_computed \n",
       "based_on: FAO_2016 \n",
       "ID: Emissions|N2O&CH4|Agriculture|Agriculture|Historic_computed|CA_2020 \n",
       "<div>\n",
       "<style scoped>\n",
       "    .dataframe tbody tr th:only-of-type {\n",
       "        vertical-align: middle;\n",
       "    }\n",
       "\n",
       "    .dataframe tbody tr th {\n",
       "        vertical-align: top;\n",
       "    }\n",
       "\n",
       "    .dataframe thead th {\n",
       "        text-align: right;\n",
       "    }\n",
       "</style>\n",
       "<table border=\"1\" class=\"dataframe\">\n",
       "  <thead>\n",
       "    <tr style=\"text-align: right;\">\n",
       "      <th></th>\n",
       "      <th>2010</th>\n",
       "      <th>2011</th>\n",
       "      <th>2012</th>\n",
       "      <th>2013</th>\n",
       "    </tr>\n",
       "    <tr>\n",
       "      <th>region</th>\n",
       "      <th></th>\n",
       "      <th></th>\n",
       "      <th></th>\n",
       "      <th></th>\n",
       "    </tr>\n",
       "  </thead>\n",
       "  <tbody>\n",
       "    <tr>\n",
       "      <th>USA</th>\n",
       "      <td>373.596110</td>\n",
       "      <td>375.395997</td>\n",
       "      <td>371.671280</td>\n",
       "      <td>370.835019</td>\n",
       "    </tr>\n",
       "    <tr>\n",
       "      <th>GBR</th>\n",
       "      <td>49.822579</td>\n",
       "      <td>49.451289</td>\n",
       "      <td>49.371847</td>\n",
       "      <td>49.975234</td>\n",
       "    </tr>\n",
       "    <tr>\n",
       "      <th>IND</th>\n",
       "      <td>691.650250</td>\n",
       "      <td>701.901130</td>\n",
       "      <td>695.996410</td>\n",
       "      <td>698.355397</td>\n",
       "    </tr>\n",
       "    <tr>\n",
       "      <th>DEU</th>\n",
       "      <td>63.359902</td>\n",
       "      <td>62.016449</td>\n",
       "      <td>62.301484</td>\n",
       "      <td>63.122658</td>\n",
       "    </tr>\n",
       "  </tbody>\n",
       "</table>\n",
       "</div>"
      ],
      "text/plain": [
       "=== Datatable - Emissions|N2O&CH4|Agriculture|Agriculture|Historic_computed|CA_2020 ===\n",
       "category: Agriculture \n",
       "source: CA_2020 \n",
       "unit: Mt CO2eq \n",
       "entity: Emissions|N2O&CH4|Agriculture \n",
       "scenario: Historic_computed \n",
       "based_on: FAO_2016 \n",
       "ID: Emissions|N2O&CH4|Agriculture|Agriculture|Historic_computed|CA_2020 \n",
       "=== Datatable - Emissions|N2O&CH4|Agriculture|Agriculture|Historic_computed|CA_2020 ===\n",
       "category: Agriculture \n",
       "source: CA_2020 \n",
       "unit: Mt CO2eq \n",
       "entity: Emissions|N2O&CH4|Agriculture \n",
       "scenario: Historic_computed \n",
       "based_on: FAO_2016 \n",
       "ID: Emissions|N2O&CH4|Agriculture|Agriculture|Historic_computed|CA_2020 \n",
       "              2010        2011        2012        2013\n",
       "region                                                \n",
       "USA     373.596110  375.395997  371.671280  370.835019\n",
       "GBR      49.822579   49.451289   49.371847   49.975234\n",
       "IND     691.650250  701.901130  695.996410  698.355397\n",
       "DEU      63.359902   62.016449   62.301484   63.122658"
      ]
     },
     "execution_count": 33,
     "metadata": {},
     "output_type": "execute_result"
    }
   ],
   "source": [
    "table_N2O_CH4_Agri.meta.update({'entity'   : 'Emissions|N2O&CH4|Agriculture',\n",
    "                               'category' : 'Agriculture',\n",
    "                               'scenario' : 'Historic_computed',\n",
    "                               'source'   : 'CA_2020',\n",
    "                               'based_on' : 'FAO_2016'})\n",
    "table_N2O_CH4_Agri.generateTableID()\n",
    "table_N2O_CH4_Agri"
   ]
  },
  {
   "cell_type": "markdown",
   "metadata": {},
   "source": [
    "### Visualization"
   ]
  },
  {
   "cell_type": "code",
   "execution_count": 30,
   "metadata": {},
   "outputs": [
    {
     "data": {
      "image/png": "[encoded data removed]",
      "text/plain": [
       "<Figure size 432x288 with 1 Axes>"
      ]
     },
     "metadata": {
      "needs_background": "light"
     },
     "output_type": "display_data"
    }
   ],
   "source": [
    "emissions_per_capita.vis.plot()"
   ]
  },
  {
   "cell_type": "code",
   "execution_count": 37,
   "metadata": {},
   "outputs": [
    {
     "data": {
      "text/plain": [
       "{'category': 'Agriculture',\n",
       " 'source': 'CA_2020',\n",
       " 'unit': 'Mt CO2eq',\n",
       " 'entity': 'Emissions|N2O&CH4|Agriculture',\n",
       " 'scenario': 'Historic_computed',\n",
       " 'based_on': 'FAO_2016',\n",
       " 'ID': 'Emissions|N2O&CH4|Agriculture|Agriculture|Historic_computed|CA_2020'}"
      ]
     },
     "execution_count": 37,
     "metadata": {},
     "output_type": "execute_result"
    }
   ],
   "source": [
    "table_N2O_CH4_Agri.meta\n",
    "#table_N2O_CH4_Agri.vis.to_map()"
   ]
  },
  {
   "cell_type": "markdown",
   "metadata": {},
   "source": [
    "## TableSet\n",
    "Dictionary like strucuture of datatables\n",
    "Keys are the IDs of the included tables\n",
    "Each table set has an inventory\n",
    "\n",
    "Create a Tablet as:\n",
    " - dt.TableSet()\n",
    " - dt.getTables(ID_list)"
   ]
  },
  {
   "cell_type": "code",
   "execution_count": 38,
   "metadata": {},
   "outputs": [
    {
     "name": "stdout",
     "output_type": "stream",
     "text": [
      "Index(['Emissions|CO2||historic|WDI_2019',\n",
      "       'GDP|PPP|constant_2011||historic|WDI_2019',\n",
      "       'Population||historic|WDI_2019', 'Area|Agriculture||historic|WDI_2019',\n",
      "       'Share_area|Agriculture||historic|WDI_2019',\n",
      "       'Area|Forest||historic|WDI_2019',\n",
      "       'Share_area|Forest||historic|WDI_2019',\n",
      "       'Emissions_intensity|CO2_per_GDP_PPP||historic|WDI_2019',\n",
      "       'Value_added|Share_of_GDP|Industry||historic|WDI_2019',\n",
      "       'Life_expcetancy_birth||historic|WDI_2019',\n",
      "       'Share_electricity_generation|Coal||historic|WDI_2019',\n",
      "       'Share_electricity_generation|Gas||historic|WDI_2019',\n",
      "       'Share_electricity_generation|Nuclear||historic|WDI_2019',\n",
      "       'Access_clean_fuels||historic|WDI_2019',\n",
      "       'Access_electricity|rural||historic|WDI_2019',\n",
      "       'Access_electricity|urban||historic|WDI_2019',\n",
      "       'Access_electricity|total||historic|WDI_2019',\n",
      "       'Emissions_er_capita|CO2||historic|WDI_2019',\n",
      "       'Number_el_outages|firms||historic|WDI_2019',\n",
      "       'Share_outages|firms||historic|WDI_2019',\n",
      "       'Value_lost_el_outages||historic|WDI_2019',\n",
      "       'GDP|current||historic|WDI_2019',\n",
      "       'Fuel_imports|Merchandise||historic|WDI_2019',\n",
      "       'Imports|Merchandise||historic|WDI_2019',\n",
      "       'GDP_deflator||historic|WDI_2019'],\n",
      "      dtype='object', name='qID')\n"
     ]
    }
   ],
   "source": [
    "wdi_table_IDs = dt.find(source='WDI_2019')\n",
    "print(wdi_table_IDs.index)"
   ]
  },
  {
   "cell_type": "code",
   "execution_count": 50,
   "metadata": {},
   "outputs": [
    {
     "name": "stdout",
     "output_type": "stream",
     "text": [
      "['Emissions|CO2', 'GDP|PPP|constant_2011', 'Population', 'Area|Agriculture', 'Share_area|Agriculture', 'Area|Forest', 'Share_area|Forest', 'Emissions_intensity|CO2_per_GDP_PPP', 'Value_added|Share_of_GDP|Industry', 'Life_expcetancy_birth', 'Share_electricity_generation|Coal', 'Share_electricity_generation|Gas', 'Share_electricity_generation|Nuclear', 'Access_clean_fuels', 'Access_electricity|rural', 'Access_electricity|urban', 'Access_electricity|total', 'Emissions_er_capita|CO2', 'Number_el_outages|firms', 'Share_outages|firms', 'Value_lost_el_outages', 'GDP|current', 'Fuel_imports|Merchandise', 'Imports|Merchandise', 'GDP_deflator']\n"
     ]
    }
   ],
   "source": [
    "WDI_data = dt.getTables(wdi_table_IDs.index)\n",
    "len(WDI_data)\n",
    "print(WDI_data.entities())"
   ]
  },
  {
   "cell_type": "markdown",
   "metadata": {},
   "source": [
    "### Manipulation of TableSets"
   ]
  },
  {
   "cell_type": "code",
   "execution_count": null,
   "metadata": {},
   "outputs": [],
   "source": [
    "WDI_data.add()\n",
    "WDI_data.remove()\n",
    "\n",
    "for table in WDI_data:\n",
    "    pass\n",
    "\n"
   ]
  },
  {
   "cell_type": "markdown",
   "metadata": {},
   "source": [
    "### Interfaces"
   ]
  },
  {
   "cell_type": "code",
   "execution_count": null,
   "metadata": {},
   "outputs": [],
   "source": [
    "# Excel\n",
    "\n",
    "WDI_data.to_excel('export.xls')\n",
    "# since excel does not allow for very long sheetnames, \n",
    "# an integer is added in the beginning to enforce a unique sheet_name"
   ]
  },
  {
   "cell_type": "code",
   "execution_count": null,
   "metadata": {},
   "outputs": [],
   "source": [
    "# Excel reader\n",
    "# Excel writer"
   ]
  },
  {
   "cell_type": "code",
   "execution_count": 40,
   "metadata": {},
   "outputs": [
    {
     "data": {
      "application/javascript": [
       "IPython.OutputArea.prototype._should_scroll = function(lines) { return false; }"
      ],
      "text/plain": [
       "<IPython.core.display.Javascript object>"
      ]
     },
     "metadata": {},
     "output_type": "display_data"
    },
    {
     "data": {
      "text/html": [
       "<div>\n",
       "<style scoped>\n",
       "    .dataframe tbody tr th:only-of-type {\n",
       "        vertical-align: middle;\n",
       "    }\n",
       "\n",
       "    .dataframe tbody tr th {\n",
       "        vertical-align: top;\n",
       "    }\n",
       "\n",
       "    .dataframe thead th {\n",
       "        text-align: right;\n",
       "    }\n",
       "</style>\n",
       "<table border=\"1\" class=\"dataframe\">\n",
       "  <thead>\n",
       "    <tr style=\"text-align: right;\">\n",
       "      <th></th>\n",
       "      <th>model</th>\n",
       "      <th>scenario</th>\n",
       "      <th>region</th>\n",
       "      <th>variable</th>\n",
       "      <th>unit</th>\n",
       "      <th>year</th>\n",
       "      <th>value</th>\n",
       "    </tr>\n",
       "  </thead>\n",
       "  <tbody>\n",
       "    <tr>\n",
       "      <th>0</th>\n",
       "      <td>historic</td>\n",
       "      <td></td>\n",
       "      <td>ABW</td>\n",
       "      <td>Access_electricity|rural</td>\n",
       "      <td>%</td>\n",
       "      <td>1990</td>\n",
       "      <td>100.000000</td>\n",
       "    </tr>\n",
       "    <tr>\n",
       "      <th>1</th>\n",
       "      <td>historic</td>\n",
       "      <td></td>\n",
       "      <td>ABW</td>\n",
       "      <td>Access_electricity|rural</td>\n",
       "      <td>%</td>\n",
       "      <td>1991</td>\n",
       "      <td>98.601660</td>\n",
       "    </tr>\n",
       "    <tr>\n",
       "      <th>2</th>\n",
       "      <td>historic</td>\n",
       "      <td></td>\n",
       "      <td>ABW</td>\n",
       "      <td>Access_electricity|rural</td>\n",
       "      <td>%</td>\n",
       "      <td>1992</td>\n",
       "      <td>98.600631</td>\n",
       "    </tr>\n",
       "    <tr>\n",
       "      <th>3</th>\n",
       "      <td>historic</td>\n",
       "      <td></td>\n",
       "      <td>ABW</td>\n",
       "      <td>Access_electricity|rural</td>\n",
       "      <td>%</td>\n",
       "      <td>1993</td>\n",
       "      <td>98.624902</td>\n",
       "    </tr>\n",
       "    <tr>\n",
       "      <th>4</th>\n",
       "      <td>historic</td>\n",
       "      <td></td>\n",
       "      <td>ABW</td>\n",
       "      <td>Access_electricity|rural</td>\n",
       "      <td>%</td>\n",
       "      <td>1994</td>\n",
       "      <td>100.000000</td>\n",
       "    </tr>\n",
       "  </tbody>\n",
       "</table>\n",
       "</div>"
      ],
      "text/plain": [
       "      model scenario region                  variable unit  year       value\n",
       "0  historic             ABW  Access_electricity|rural    %  1990  100.000000\n",
       "1  historic             ABW  Access_electricity|rural    %  1991   98.601660\n",
       "2  historic             ABW  Access_electricity|rural    %  1992   98.600631\n",
       "3  historic             ABW  Access_electricity|rural    %  1993   98.624902\n",
       "4  historic             ABW  Access_electricity|rural    %  1994  100.000000"
      ]
     },
     "execution_count": 40,
     "metadata": {},
     "output_type": "execute_result"
    }
   ],
   "source": [
    "# pyIAM dataframes\n",
    "pyIAM_df = WDI_data.to_IamDataFrame()\n",
    "pyIAM_df.head()"
   ]
  },
  {
   "cell_type": "code",
   "execution_count": null,
   "metadata": {},
   "outputs": [],
   "source": [
    "# Long table format\n",
    "WDI_data.to_LongTable()"
   ]
  },
  {
   "cell_type": "code",
   "execution_count": 51,
   "metadata": {},
   "outputs": [
    {
     "data": {
      "image/png": "[encoded data removed]",
      "text/plain": [
       "<Figure size 432x288 with 2 Axes>"
      ]
     },
     "metadata": {
      "needs_background": "light"
     },
     "output_type": "display_data"
    }
   ],
   "source": [
    "# Availablity of data for countries and years\n",
    "countryList = dt.sets.REGIONS.EU28\n",
    "for key in WDI_data.keys():\n",
    "    WDI_data[key] = WDI_data[key].loc[countryList,1990:]\n",
    "WDI_data.plotAvailibility()"
   ]
  },
  {
   "cell_type": "markdown",
   "metadata": {},
   "source": [
    "## Utilities and othe helpful things"
   ]
  },
  {
   "cell_type": "code",
   "execution_count": null,
   "metadata": {},
   "outputs": [],
   "source": [
    "dt.getCountryISO('Kuwait')"
   ]
  },
  {
   "cell_type": "code",
   "execution_count": null,
   "metadata": {},
   "outputs": [],
   "source": [
    "dt.util.compare_excel_files(filename1, filename2)"
   ]
  },
  {
   "cell_type": "code",
   "execution_count": 58,
   "metadata": {},
   "outputs": [
    {
     "data": {
      "text/plain": [
       "<datatoolbox.sets.Regions at 0x7fd658a196d8>"
      ]
     },
     "execution_count": 58,
     "metadata": {},
     "output_type": "execute_result"
    }
   ],
   "source": [
    "dt.sets.REGIONS"
   ]
  },
  {
   "cell_type": "code",
   "execution_count": 59,
   "metadata": {},
   "outputs": [
    {
     "data": {
      "text/plain": [
       "<datatoolbox.sets.Scenarios at 0x7fd658a19588>"
      ]
     },
     "execution_count": 59,
     "metadata": {},
     "output_type": "execute_result"
    }
   ],
   "source": [
    "dt.sets.SCENARIOS"
   ]
  },
  {
   "cell_type": "code",
   "execution_count": null,
   "metadata": {},
   "outputs": [],
   "source": [
    "dt.util.getCountryExtract('USA', sourceList='all')"
   ]
  },
  {
   "cell_type": "markdown",
   "metadata": {},
   "source": [
    "## Manipulating the databased\n",
    "(advanced users)"
   ]
  },
  {
   "cell_type": "code",
   "execution_count": 5,
   "metadata": {},
   "outputs": [],
   "source": [
    "# Add new tables\n",
    "dt.commitTable\n",
    "dt.commitTables"
   ]
  },
  {
   "cell_type": "code",
   "execution_count": null,
   "metadata": {},
   "outputs": [],
   "source": [
    "# update old tables\n",
    "dt.updateTable\n",
    "dt.updateTables"
   ]
  }
 ],
 "metadata": {
  "kernelspec": {
   "display_name": "Python 3",
   "language": "python",
   "name": "python3"
  },
  "language_info": {
   "codemirror_mode": {
    "name": "ipython",
    "version": 3
   },
   "file_extension": ".py",
   "mimetype": "text/x-python",
   "name": "python",
   "nbconvert_exporter": "python",
   "pygments_lexer": "ipython3",
   "version": "3.7.3"
  }
 },
 "nbformat": 4,
 "nbformat_minor": 2
}
