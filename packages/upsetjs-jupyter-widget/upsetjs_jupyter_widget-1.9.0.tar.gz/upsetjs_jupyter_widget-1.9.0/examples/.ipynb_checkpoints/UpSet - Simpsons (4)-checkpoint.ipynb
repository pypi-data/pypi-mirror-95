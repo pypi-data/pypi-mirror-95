{
  "nbformat": 4,
  "nbformat_minor": 2,
  "metadata": {
    "language_info": {
      "name": "python",
      "codemirror_mode": {
        "name": "ipython",
        "version": 3
      }
    },
    "orig_nbformat": 2,
    "file_extension": ".py",
    "mimetype": "text/x-python",
    "name": "python",
    "npconvert_exporter": "python",
    "pygments_lexer": "ipython3",
    "version": 3
  },
  "cells": [
    {
      "cell_type": "markdown",
      "metadata": {},
      "source": [
        "# UpSet - Simpsons",
        "\n",
        "Please make sure the jupyter extension is installed:\n",
        "```bash\n",
        "pip install upsetjs_jupyter_widget\n",
        "jupyter labextension install @jupyter-widgets/jupyterlab-manager@3.0.0-alpha.0\n",
        "```\n"
      ]
    },
    {
      "cell_type": "code",
      "execution_count": null,
      "metadata": {},
      "outputs": [],
      "source": [
        "from ipywidgets import interact\n",
        "from collections import OrderedDict\n",
        "from upsetjs_jupyter_widget import UpSetWidget\n",
        "import pandas as pd"
      ]
    },
    {
      "cell_type": "code",
      "execution_count": 40,
      "metadata": {},
      "outputs": [],
      "source": [
        "dict_input = OrderedDict([\n",
        "   (\"Male\", [\"Bart\",\"Homer\",\"Barney\",\"Mr. Burns\",\"Mo\",\"Ned\",\"Milhouse\",\"Grampa\",\"Krusty\",\"Smithers\",\"Ralph\",\"Sideshow Bob\",\"Kent Brockman\",\"Fat Tony\",\"Lenny Leonard\",\"Carl Carlson\",\"Nelson\",\"Martin Prince\"]),\n",
        "   (\"School\", [\"Lisa\",\"Bart\",\"Milhouse\",\"Ralph\",\"Nelson\",\"Martin Prince\"]),\n",
        "   (\"Duff Fan\", [\"Homer\",\"Barney\",\"Mo\",\"Krusty\",\"Lenny Leonard\",\"Carl Carlson\"]),\n",
        "   (\"Evil\", [\"Mr. Burns\",\"Krusty\",\"Smithers\",\"Sideshow Bob\",\"Fat Tony\",\"Nelson\"]),\n",
        "   (\"Blue Hair\", [\"Marge\",\"Milhouse\",\"Jacqueline Bouvier \"])\n",
        "])\n",
        "\n",
        "w = UpSetWidget[str]()\n",
        "w.from_dict(dict_input)\n",
        "w.generate_intersections(min_degree=1, max_degree=5, empty=False, limit=100)\n",
        "w"
      ]
    }
  ]
}