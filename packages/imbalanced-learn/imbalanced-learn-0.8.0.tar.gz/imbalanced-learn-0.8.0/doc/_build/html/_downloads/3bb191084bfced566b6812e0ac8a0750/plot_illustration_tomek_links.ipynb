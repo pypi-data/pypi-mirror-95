{
  "cells": [
    {
      "cell_type": "code",
      "execution_count": null,
      "metadata": {
        "collapsed": false
      },
      "outputs": [],
      "source": [
        "%matplotlib inline"
      ]
    },
    {
      "cell_type": "markdown",
      "metadata": {},
      "source": [
        "\n# Illustration of the definition of a Tomek link\n\n\nThis example illustrates what is a Tomek link.\n"
      ]
    },
    {
      "cell_type": "code",
      "execution_count": null,
      "metadata": {
        "collapsed": false
      },
      "outputs": [],
      "source": [
        "import matplotlib.pyplot as plt\nimport numpy as np\n\nfrom imblearn.under_sampling import TomekLinks\n\nprint(__doc__)\n\nrng = np.random.RandomState(18)"
      ]
    },
    {
      "cell_type": "markdown",
      "metadata": {},
      "source": [
        "This function allows to make nice plotting\n\n"
      ]
    },
    {
      "cell_type": "code",
      "execution_count": null,
      "metadata": {
        "collapsed": false
      },
      "outputs": [],
      "source": [
        "def make_plot_despine(ax):\n    ax.spines[\"top\"].set_visible(False)\n    ax.spines[\"right\"].set_visible(False)\n    ax.get_xaxis().tick_bottom()\n    ax.get_yaxis().tick_left()\n    ax.spines[\"left\"].set_position((\"outward\", 10))\n    ax.spines[\"bottom\"].set_position((\"outward\", 10))\n    ax.set_xlim([0.0, 3.5])\n    ax.set_ylim([0.0, 3.5])\n    ax.set_xlabel(r\"$X_1$\")\n    ax.set_ylabel(r\"$X_2$\")\n    ax.legend()"
      ]
    },
    {
      "cell_type": "markdown",
      "metadata": {},
      "source": [
        "Generate some data with one Tomek link\n\n"
      ]
    },
    {
      "cell_type": "code",
      "execution_count": null,
      "metadata": {
        "collapsed": false
      },
      "outputs": [],
      "source": [
        "# minority class\nX_minority = np.transpose(\n    [[1.1, 1.3, 1.15, 0.8, 0.55, 2.1], [1.0, 1.5, 1.7, 2.5, 0.55, 1.9]]\n)\n# majority class\nX_majority = np.transpose(\n    [\n        [2.1, 2.12, 2.13, 2.14, 2.2, 2.3, 2.5, 2.45],\n        [1.5, 2.1, 2.7, 0.9, 1.0, 1.4, 2.4, 2.9],\n    ]\n)"
      ]
    },
    {
      "cell_type": "markdown",
      "metadata": {},
      "source": [
        "In the figure above, the samples highlighted in green form a Tomek link since\nthey are of different classes and are nearest neighbours of each other.\n\n"
      ]
    },
    {
      "cell_type": "code",
      "execution_count": null,
      "metadata": {
        "collapsed": false
      },
      "outputs": [],
      "source": [
        "fig, ax = plt.subplots(1, 1, figsize=(6, 6))\nax.scatter(\n    X_minority[:, 0], X_minority[:, 1], label=\"Minority class\", s=200, marker=\"_\",\n)\nax.scatter(\n    X_majority[:, 0], X_majority[:, 1], label=\"Majority class\", s=200, marker=\"+\",\n)\n\n# highlight the samples of interest\nax.scatter(\n    [X_minority[-1, 0], X_majority[1, 0]],\n    [X_minority[-1, 1], X_majority[1, 1]],\n    label=\"Tomek link\",\n    s=200,\n    alpha=0.3,\n)\nax.set_title(\"Illustration of a Tomek link\")\nmake_plot_despine(ax)\nfig.tight_layout()"
      ]
    },
    {
      "cell_type": "markdown",
      "metadata": {},
      "source": [
        "We can run the ``TomekLinks`` sampling to remove the corresponding\nsamples. If ``sampling_strategy='auto'`` only the sample from the majority\nclass will be removed. If ``sampling_strategy='all'`` both samples will be\nremoved.\n\n"
      ]
    },
    {
      "cell_type": "code",
      "execution_count": null,
      "metadata": {
        "collapsed": false
      },
      "outputs": [],
      "source": [
        "sampler = TomekLinks()\n\nfig, (ax1, ax2) = plt.subplots(1, 2, figsize=(12, 6))\n\nax_arr = (ax1, ax2)\ntitle_arr = (\"Removing only majority samples\", \"Removing all samples\")\nfor ax, title, sampler in zip(\n    ax_arr,\n    title_arr,\n    [TomekLinks(sampling_strategy=\"auto\"), TomekLinks(sampling_strategy=\"all\")],\n):\n    X_res, y_res = sampler.fit_resample(\n        np.vstack((X_minority, X_majority)),\n        np.array([0] * X_minority.shape[0] + [1] * X_majority.shape[0]),\n    )\n    ax.scatter(\n        X_res[y_res == 0][:, 0],\n        X_res[y_res == 0][:, 1],\n        label=\"Minority class\",\n        s=200,\n        marker=\"_\",\n    )\n    ax.scatter(\n        X_res[y_res == 1][:, 0],\n        X_res[y_res == 1][:, 1],\n        label=\"Majority class\",\n        s=200,\n        marker=\"+\",\n    )\n\n    # highlight the samples of interest\n    ax.scatter(\n        [X_minority[-1, 0], X_majority[1, 0]],\n        [X_minority[-1, 1], X_majority[1, 1]],\n        label=\"Tomek link\",\n        s=200,\n        alpha=0.3,\n    )\n\n    ax.set_title(title)\n    make_plot_despine(ax)\nfig.tight_layout()\n\nplt.show()"
      ]
    }
  ],
  "metadata": {
    "kernelspec": {
      "display_name": "Python 3",
      "language": "python",
      "name": "python3"
    },
    "language_info": {
      "codemirror_mode": {
        "name": "ipython",
        "version": 3
      },
      "file_extension": ".py",
      "mimetype": "text/x-python",
      "name": "python",
      "nbconvert_exporter": "python",
      "pygments_lexer": "ipython3",
      "version": "3.8.5"
    }
  },
  "nbformat": 4,
  "nbformat_minor": 0
}