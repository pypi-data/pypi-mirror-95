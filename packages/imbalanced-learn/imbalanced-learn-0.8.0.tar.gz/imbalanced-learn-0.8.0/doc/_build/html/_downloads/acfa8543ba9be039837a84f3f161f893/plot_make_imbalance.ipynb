{
  "cells": [
    {
      "cell_type": "code",
      "execution_count": null,
      "metadata": {
        "collapsed": false
      },
      "outputs": [],
      "source": [
        "%matplotlib inline"
      ]
    },
    {
      "cell_type": "markdown",
      "metadata": {},
      "source": [
        "\n# Create an imbalanced dataset\n\n\nAn illustration of the :func:`~imblearn.datasets.make_imbalance` function to\ncreate an imbalanced dataset from a balanced dataset. We show the ability of\n:func:`~imblearn.datasets.make_imbalance` of dealing with Pandas DataFrame.\n"
      ]
    },
    {
      "cell_type": "code",
      "execution_count": null,
      "metadata": {
        "collapsed": false
      },
      "outputs": [],
      "source": [
        "# Authors: Dayvid Oliveira\n#          Christos Aridas\n#          Guillaume Lemaitre <g.lemaitre58@gmail.com>\n# License: MIT\n\nfrom collections import Counter\n\nimport pandas as pd\nimport matplotlib.pyplot as plt\n\nfrom sklearn.datasets import make_moons\n\nfrom imblearn.datasets import make_imbalance\n\nprint(__doc__)\n\n# Generate the dataset\nX, y = make_moons(n_samples=200, shuffle=True, noise=0.5, random_state=10)\nX = pd.DataFrame(X, columns=[\"feature 1\", \"feature 2\"])\n\n# Two subplots, unpack the axes array immediately\nf, axs = plt.subplots(2, 3)\n\naxs = [a for ax in axs for a in ax]\n\nX.plot.scatter(\n    x=\"feature 1\",\n    y=\"feature 2\",\n    c=y,\n    ax=axs[0],\n    colormap=\"viridis\",\n    colorbar=False,\n)\naxs[0].set_title(\"Original set\")\n\n\ndef ratio_func(y, multiplier, minority_class):\n    target_stats = Counter(y)\n    return {minority_class: int(multiplier * target_stats[minority_class])}\n\n\nmultipliers = [0.9, 0.75, 0.5, 0.25, 0.1]\nfor i, multiplier in enumerate(multipliers, start=1):\n    ax = axs[i]\n\n    X_, y_ = make_imbalance(\n        X,\n        y,\n        sampling_strategy=ratio_func,\n        **{\"multiplier\": multiplier, \"minority_class\": 1},\n    )\n    X_.plot.scatter(\n        x=\"feature 1\",\n        y=\"feature 2\",\n        c=y_,\n        ax=ax,\n        colormap=\"viridis\",\n        colorbar=False,\n    )\n    ax.set_title(f\"Sampling ratio = {multiplier}\")\n\nplt.tight_layout()\nplt.show()"
      ]
    }
  ],
  "metadata": {
    "kernelspec": {
      "display_name": "Python 3",
      "language": "python",
      "name": "python3"
    },
    "language_info": {
      "codemirror_mode": {
        "name": "ipython",
        "version": 3
      },
      "file_extension": ".py",
      "mimetype": "text/x-python",
      "name": "python",
      "nbconvert_exporter": "python",
      "pygments_lexer": "ipython3",
      "version": "3.8.5"
    }
  },
  "nbformat": 4,
  "nbformat_minor": 0
}