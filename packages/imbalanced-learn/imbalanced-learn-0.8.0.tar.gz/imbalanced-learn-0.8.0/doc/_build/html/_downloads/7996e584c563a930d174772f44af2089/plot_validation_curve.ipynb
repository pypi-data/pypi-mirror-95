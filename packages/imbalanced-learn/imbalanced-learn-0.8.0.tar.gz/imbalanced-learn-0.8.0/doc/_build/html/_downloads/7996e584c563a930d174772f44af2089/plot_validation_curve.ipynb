{
  "cells": [
    {
      "cell_type": "code",
      "execution_count": null,
      "metadata": {
        "collapsed": false
      },
      "outputs": [],
      "source": [
        "%matplotlib inline"
      ]
    },
    {
      "cell_type": "markdown",
      "metadata": {},
      "source": [
        "\n# Plotting Validation Curves\n\n\nIn this example the impact of the SMOTE's k_neighbors parameter is examined.\nIn the plot you can see the validation scores of a SMOTE-CART classifier for\ndifferent values of the SMOTE's k_neighbors parameter.\n"
      ]
    },
    {
      "cell_type": "code",
      "execution_count": null,
      "metadata": {
        "collapsed": false
      },
      "outputs": [],
      "source": [
        "# Authors: Christos Aridas\n#          Guillaume Lemaitre <g.lemaitre58@gmail.com>\n# License: MIT\n\nimport matplotlib.pyplot as plt\nimport numpy as np\nfrom sklearn import model_selection as ms\nfrom sklearn import datasets, metrics, tree\n\nfrom imblearn import over_sampling as os\nfrom imblearn import pipeline as pl\n\nprint(__doc__)\n\nRANDOM_STATE = 42\n\nscorer = metrics.make_scorer(metrics.cohen_kappa_score)\n\n# Generate the dataset\nX, y = datasets.make_classification(\n    n_classes=2,\n    class_sep=2,\n    weights=[0.1, 0.9],\n    n_informative=10,\n    n_redundant=1,\n    flip_y=0,\n    n_features=20,\n    n_clusters_per_class=4,\n    n_samples=5000,\n    random_state=RANDOM_STATE,\n)\nsmote = os.SMOTE(random_state=RANDOM_STATE)\ncart = tree.DecisionTreeClassifier(random_state=RANDOM_STATE)\npipeline = pl.make_pipeline(smote, cart)\n\nparam_range = range(1, 11)\ntrain_scores, test_scores = ms.validation_curve(\n    pipeline,\n    X,\n    y,\n    param_name=\"smote__k_neighbors\",\n    param_range=param_range,\n    cv=3,\n    scoring=scorer,\n)\ntrain_scores_mean = np.mean(train_scores, axis=1)\ntrain_scores_std = np.std(train_scores, axis=1)\ntest_scores_mean = np.mean(test_scores, axis=1)\ntest_scores_std = np.std(test_scores, axis=1)\n\nfig = plt.figure()\nax = fig.add_subplot(1, 1, 1)\n\nplt.plot(param_range, test_scores_mean, label=\"SMOTE\")\nax.fill_between(\n    param_range,\n    test_scores_mean + test_scores_std,\n    test_scores_mean - test_scores_std,\n    alpha=0.2,\n)\nidx_max = np.argmax(test_scores_mean)\nplt.scatter(\n    param_range[idx_max],\n    test_scores_mean[idx_max],\n    label=r\"Cohen Kappa: ${:.2f}\\pm{:.2f}$\".format(\n        test_scores_mean[idx_max], test_scores_std[idx_max]\n    ),\n)\n\nplt.title(\"Validation Curve with SMOTE-CART\")\nplt.xlabel(\"k_neighbors\")\nplt.ylabel(\"Cohen's kappa\")\n\n# make nice plotting\nax.spines[\"top\"].set_visible(False)\nax.spines[\"right\"].set_visible(False)\nax.get_xaxis().tick_bottom()\nax.get_yaxis().tick_left()\nax.spines[\"left\"].set_position((\"outward\", 10))\nax.spines[\"bottom\"].set_position((\"outward\", 10))\nplt.xlim([1, 10])\nplt.ylim([0.4, 0.8])\n\nplt.legend(loc=\"best\")\nplt.show()"
      ]
    }
  ],
  "metadata": {
    "kernelspec": {
      "display_name": "Python 3",
      "language": "python",
      "name": "python3"
    },
    "language_info": {
      "codemirror_mode": {
        "name": "ipython",
        "version": 3
      },
      "file_extension": ".py",
      "mimetype": "text/x-python",
      "name": "python",
      "nbconvert_exporter": "python",
      "pygments_lexer": "ipython3",
      "version": "3.8.5"
    }
  },
  "nbformat": 4,
  "nbformat_minor": 0
}