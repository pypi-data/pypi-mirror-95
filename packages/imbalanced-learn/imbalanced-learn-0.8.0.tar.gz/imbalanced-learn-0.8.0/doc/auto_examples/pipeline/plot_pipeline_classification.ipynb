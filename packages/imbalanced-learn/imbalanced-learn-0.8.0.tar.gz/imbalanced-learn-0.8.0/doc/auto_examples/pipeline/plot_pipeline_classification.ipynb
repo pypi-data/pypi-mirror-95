{
  "cells": [
    {
      "cell_type": "code",
      "execution_count": null,
      "metadata": {
        "collapsed": false
      },
      "outputs": [],
      "source": [
        "%matplotlib inline"
      ]
    },
    {
      "cell_type": "markdown",
      "metadata": {},
      "source": [
        "\n# Pipeline Object\n\n\nAn example of the Pipeline object working with transformers and resamplers.\n"
      ]
    },
    {
      "cell_type": "code",
      "execution_count": null,
      "metadata": {
        "collapsed": false
      },
      "outputs": [],
      "source": [
        "# Authors: Christos Aridas\n#          Guillaume Lemaitre <g.lemaitre58@gmail.com>\n# License: MIT\n\nfrom sklearn.model_selection import train_test_split as tts\nfrom sklearn.datasets import make_classification\nfrom sklearn.decomposition import PCA\nfrom sklearn.metrics import classification_report\nfrom sklearn.neighbors import KNeighborsClassifier as KNN\n\nfrom imblearn.pipeline import make_pipeline\nfrom imblearn.under_sampling import (\n    EditedNearestNeighbours,\n    RepeatedEditedNearestNeighbours,\n)\n\nprint(__doc__)\n\n# Generate the dataset\nX, y = make_classification(\n    n_classes=2,\n    class_sep=1.25,\n    weights=[0.3, 0.7],\n    n_informative=3,\n    n_redundant=1,\n    flip_y=0,\n    n_features=5,\n    n_clusters_per_class=1,\n    n_samples=5000,\n    random_state=10,\n)\n\n# Instanciate a PCA object for the sake of easy visualisation\npca = PCA(n_components=2)\n\n# Create the samplers\nenn = EditedNearestNeighbours()\nrenn = RepeatedEditedNearestNeighbours()\n\n# Create the classifier\nknn = KNN(1)\n\n# Make the splits\nX_train, X_test, y_train, y_test = tts(X, y, random_state=42)\n\n# Add one transformers and two samplers in the pipeline object\npipeline = make_pipeline(pca, enn, renn, knn)\n\npipeline.fit(X_train, y_train)\ny_hat = pipeline.predict(X_test)\n\nprint(classification_report(y_test, y_hat))"
      ]
    }
  ],
  "metadata": {
    "kernelspec": {
      "display_name": "Python 3",
      "language": "python",
      "name": "python3"
    },
    "language_info": {
      "codemirror_mode": {
        "name": "ipython",
        "version": 3
      },
      "file_extension": ".py",
      "mimetype": "text/x-python",
      "name": "python",
      "nbconvert_exporter": "python",
      "pygments_lexer": "ipython3",
      "version": "3.8.5"
    }
  },
  "nbformat": 4,
  "nbformat_minor": 0
}