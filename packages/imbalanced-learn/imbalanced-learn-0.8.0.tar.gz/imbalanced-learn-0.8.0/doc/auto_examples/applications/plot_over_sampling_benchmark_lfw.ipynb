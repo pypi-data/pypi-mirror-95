{
  "cells": [
    {
      "cell_type": "code",
      "execution_count": null,
      "metadata": {
        "collapsed": false
      },
      "outputs": [],
      "source": [
        "%matplotlib inline"
      ]
    },
    {
      "cell_type": "markdown",
      "metadata": {},
      "source": [
        "\n# Benchmark over-sampling methods in a face recognition task\n\n\nIn this face recognition example two faces are used from the LFW\n(Faces in the Wild) dataset. Several implemented over-sampling\nmethods are used in conjunction with a 3NN classifier in order\nto examine the improvement of the classifier's output quality\nby using an over-sampler.\n"
      ]
    },
    {
      "cell_type": "code",
      "execution_count": null,
      "metadata": {
        "collapsed": false
      },
      "outputs": [],
      "source": [
        "# Authors: Christos Aridas\n#          Guillaume Lemaitre <g.lemaitre58@gmail.com>\n# License: MIT\n\nimport matplotlib.pyplot as plt\nimport numpy as np\nfrom scipy import interp\nfrom sklearn import datasets, neighbors\nfrom sklearn.metrics import auc, roc_curve\nfrom sklearn.model_selection import StratifiedKFold\n\nfrom imblearn.over_sampling import ADASYN, SMOTE, RandomOverSampler\nfrom imblearn.pipeline import make_pipeline\n\nprint(__doc__)\n\nLW = 2\nRANDOM_STATE = 42\n\n\nclass DummySampler:\n    def sample(self, X, y):\n        return X, y\n\n    def fit(self, X, y):\n        return self\n\n    def fit_resample(self, X, y):\n        return self.sample(X, y)\n\n\ncv = StratifiedKFold(n_splits=3)\n\n# Load the dataset\ndata = datasets.fetch_lfw_people()\nmajority_person = 1871  # 530 photos of George W Bush\nminority_person = 531  # 29 photos of Bill Clinton\nmajority_idxs = np.flatnonzero(data.target == majority_person)\nminority_idxs = np.flatnonzero(data.target == minority_person)\nidxs = np.hstack((majority_idxs, minority_idxs))\n\nX = data.data[idxs]\ny = data.target[idxs]\ny[y == majority_person] = 0\ny[y == minority_person] = 1\n\nclassifier = [\"3NN\", neighbors.KNeighborsClassifier(3)]\n\nsamplers = [\n    [\"Standard\", DummySampler()],\n    [\"ADASYN\", ADASYN(random_state=RANDOM_STATE)],\n    [\"ROS\", RandomOverSampler(random_state=RANDOM_STATE)],\n    [\"SMOTE\", SMOTE(random_state=RANDOM_STATE)],\n]\n\npipelines = [\n    [\n        f\"{sampler[0]}-{classifier[0]}\",\n        make_pipeline(sampler[1], classifier[1]),\n    ]\n    for sampler in samplers\n]\n\nfig = plt.figure()\nax = fig.add_subplot(1, 1, 1)\n\nfor name, pipeline in pipelines:\n    mean_tpr = 0.0\n    mean_fpr = np.linspace(0, 1, 100)\n    for train, test in cv.split(X, y):\n        probas_ = pipeline.fit(X[train], y[train]).predict_proba(X[test])\n        fpr, tpr, thresholds = roc_curve(y[test], probas_[:, 1])\n        mean_tpr += interp(mean_fpr, fpr, tpr)\n        mean_tpr[0] = 0.0\n        roc_auc = auc(fpr, tpr)\n\n    mean_tpr /= cv.get_n_splits(X, y)\n    mean_tpr[-1] = 1.0\n    mean_auc = auc(mean_fpr, mean_tpr)\n    plt.plot(\n        mean_fpr,\n        mean_tpr,\n        linestyle=\"--\",\n        label=f\"{name} (area = {mean_auc:.2f})\",\n        lw=LW,\n    )\n\nplt.plot([0, 1], [0, 1], linestyle=\"--\", lw=LW, color=\"k\", label=\"Luck\")\n\n# make nice plotting\nax.spines[\"top\"].set_visible(False)\nax.spines[\"right\"].set_visible(False)\nax.get_xaxis().tick_bottom()\nax.get_yaxis().tick_left()\nax.spines[\"left\"].set_position((\"outward\", 10))\nax.spines[\"bottom\"].set_position((\"outward\", 10))\nplt.xlim([0, 1])\nplt.ylim([0, 1])\nplt.xlabel(\"False Positive Rate\")\nplt.ylabel(\"True Positive Rate\")\nplt.title(\"Receiver operating characteristic example\")\n\nplt.legend(loc=\"lower right\")\n\nplt.show()"
      ]
    }
  ],
  "metadata": {
    "kernelspec": {
      "display_name": "Python 3",
      "language": "python",
      "name": "python3"
    },
    "language_info": {
      "codemirror_mode": {
        "name": "ipython",
        "version": 3
      },
      "file_extension": ".py",
      "mimetype": "text/x-python",
      "name": "python",
      "nbconvert_exporter": "python",
      "pygments_lexer": "ipython3",
      "version": "3.8.5"
    }
  },
  "nbformat": 4,
  "nbformat_minor": 0
}