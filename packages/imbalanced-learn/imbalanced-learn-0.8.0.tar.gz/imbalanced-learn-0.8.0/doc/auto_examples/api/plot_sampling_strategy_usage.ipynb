{
  "cells": [
    {
      "cell_type": "code",
      "execution_count": null,
      "metadata": {
        "collapsed": false
      },
      "outputs": [],
      "source": [
        "%matplotlib inline"
      ]
    },
    {
      "cell_type": "markdown",
      "metadata": {},
      "source": [
        "\n====================================================\nHow to use ``sampling_strategy`` in imbalanced-learn\n====================================================\n\nThis example shows the different usage of the parameter ``sampling_strategy``\nfor the different family of samplers (i.e. over-sampling, under-sampling. or\ncleaning methods).\n"
      ]
    },
    {
      "cell_type": "code",
      "execution_count": null,
      "metadata": {
        "collapsed": false
      },
      "outputs": [],
      "source": [
        "# Authors: Guillaume Lemaitre <g.lemaitre58@gmail.com>\n# License: MIT\n\nfrom collections import Counter\n\nimport numpy as np\nimport matplotlib.pyplot as plt\n\nfrom sklearn.datasets import load_iris\n\nfrom imblearn.datasets import make_imbalance\n\nfrom imblearn.over_sampling import RandomOverSampler\nfrom imblearn.under_sampling import RandomUnderSampler\nfrom imblearn.under_sampling import TomekLinks\n\nprint(__doc__)\n\n\ndef plot_pie(y):\n    target_stats = Counter(y)\n    labels = list(target_stats.keys())\n    sizes = list(target_stats.values())\n    explode = tuple([0.1] * len(target_stats))\n\n    def make_autopct(values):\n        def my_autopct(pct):\n            total = sum(values)\n            val = int(round(pct * total / 100.0))\n            return f\"{pct:.2f}%  ({val:d})\"\n\n        return my_autopct\n\n    fig, ax = plt.subplots()\n    ax.pie(\n        sizes,\n        explode=explode,\n        labels=labels,\n        shadow=True,\n        autopct=make_autopct(sizes),\n    )\n    ax.axis(\"equal\")"
      ]
    },
    {
      "cell_type": "markdown",
      "metadata": {},
      "source": [
        "First, we will create an imbalanced data set from a the iris data set.\n\n"
      ]
    },
    {
      "cell_type": "code",
      "execution_count": null,
      "metadata": {
        "collapsed": false
      },
      "outputs": [],
      "source": [
        "iris = load_iris()\n\nprint(f\"Information of the original iris data set: \\n {Counter(iris.target)}\")\nplot_pie(iris.target)\n\nsampling_strategy = {0: 10, 1: 20, 2: 47}\nX, y = make_imbalance(iris.data, iris.target, sampling_strategy=sampling_strategy)\n\nprint(\n    f\"Information of the iris data set after making it\"\n    f\" imbalanced using a dict: \\n sampling_strategy={sampling_strategy} \\n \"\n    f\"y: {Counter(y)}\"\n)\nplot_pie(y)"
      ]
    },
    {
      "cell_type": "markdown",
      "metadata": {},
      "source": [
        "Using ``sampling_strategy`` in resampling algorithms\n##############################################################################\n\n"
      ]
    },
    {
      "cell_type": "markdown",
      "metadata": {},
      "source": [
        "``sampling_strategy`` as a ``float``\n....................................\n\n``sampling_strategy`` can be given a ``float``. For **under-sampling\nmethods**, it corresponds to the ratio $\\\\alpha_{us}$ defined by\n$N_{rM} = \\\\alpha_{us} \\\\times N_{m}$ where $N_{rM}$ and\n$N_{m}$ are the number of samples in the majority class after\nresampling and the number of samples in the minority class, respectively.\n\n"
      ]
    },
    {
      "cell_type": "code",
      "execution_count": null,
      "metadata": {
        "collapsed": false
      },
      "outputs": [],
      "source": [
        "# select only 2 classes since the ratio make sense in this case\nbinary_mask = np.bitwise_or(y == 0, y == 2)\nbinary_y = y[binary_mask]\nbinary_X = X[binary_mask]\n\nsampling_strategy = 0.8\n\nrus = RandomUnderSampler(sampling_strategy=sampling_strategy)\nX_res, y_res = rus.fit_resample(binary_X, binary_y)\nprint(\n    f\"Information of the iris data set after making it \"\n    f\"balanced using a float and an under-sampling method: \\n \"\n    f\"sampling_strategy={sampling_strategy} \\n y: {Counter(y_res)}\"\n)\nplot_pie(y_res)"
      ]
    },
    {
      "cell_type": "markdown",
      "metadata": {},
      "source": [
        "For **over-sampling methods**, it correspond to the ratio\n$\\\\alpha_{os}$ defined by $N_{rm} = \\\\alpha_{os} \\\\times N_{M}$\nwhere $N_{rm}$ and $N_{M}$ are the number of samples in the\nminority class after resampling and the number of samples in the majority\nclass, respectively.\n\n"
      ]
    },
    {
      "cell_type": "code",
      "execution_count": null,
      "metadata": {
        "collapsed": false
      },
      "outputs": [],
      "source": [
        "ros = RandomOverSampler(sampling_strategy=sampling_strategy)\nX_res, y_res = ros.fit_resample(binary_X, binary_y)\nprint(\n    f\"Information of the iris data set after making it \"\n    f\"balanced using a float and an over-sampling method: \\n \"\n    f\"sampling_strategy={sampling_strategy} \\n y: {Counter(y_res)}\"\n)\nplot_pie(y_res)"
      ]
    },
    {
      "cell_type": "markdown",
      "metadata": {},
      "source": [
        "``sampling_strategy`` has a ``str``\n...................................\n\n``sampling_strategy`` can be given as a string which specify the class\ntargeted by the resampling. With under- and over-sampling, the number of\nsamples will be equalized.\n\nNote that we are using multiple classes from now on.\n\n"
      ]
    },
    {
      "cell_type": "code",
      "execution_count": null,
      "metadata": {
        "collapsed": false
      },
      "outputs": [],
      "source": [
        "sampling_strategy = \"not minority\"\n\nrus = RandomUnderSampler(sampling_strategy=sampling_strategy)\nX_res, y_res = rus.fit_resample(X, y)\nprint(\n    f\"Information of the iris data set after making it \"\n    f\"balanced by under-sampling: \\n sampling_strategy={sampling_strategy} \\n\"\n    f\" y: {Counter(y_res)}\"\n)\nplot_pie(y_res)\n\nsampling_strategy = \"not majority\"\n\nros = RandomOverSampler(sampling_strategy=sampling_strategy)\nX_res, y_res = ros.fit_resample(X, y)\nprint(\n    f\"Information of the iris data set after making it \"\n    f\"balanced by over-sampling: \\n sampling_strategy={sampling_strategy} \\n \"\n    f\"y: {Counter(y_res)}\"\n)\nplot_pie(y_res)"
      ]
    },
    {
      "cell_type": "markdown",
      "metadata": {},
      "source": [
        "With **cleaning method**, the number of samples in each class will not be\nequalized even if targeted.\n\n"
      ]
    },
    {
      "cell_type": "code",
      "execution_count": null,
      "metadata": {
        "collapsed": false
      },
      "outputs": [],
      "source": [
        "sampling_strategy = \"not minority\"\ntl = TomekLinks(sampling_strategy)\nX_res, y_res = tl.fit_resample(X, y)\nprint(\n    f\"Information of the iris data set after making it \"\n    f\"balanced by cleaning sampling: \\n sampling_strategy={sampling_strategy} \\n \"\n    f\"y: {Counter(y_res)}\"\n)\nplot_pie(y_res)"
      ]
    },
    {
      "cell_type": "markdown",
      "metadata": {},
      "source": [
        "``sampling_strategy`` as a ``dict``\n...................................\n\nWhen ``sampling_strategy`` is a ``dict``, the keys correspond to the targeted\nclasses. The values correspond to the desired number of samples for each\ntargeted class. This is working for both **under- and over-sampling**\nalgorithms but not for the **cleaning algorithms**. Use a ``list`` instead.\n\n"
      ]
    },
    {
      "cell_type": "code",
      "execution_count": null,
      "metadata": {
        "collapsed": false
      },
      "outputs": [],
      "source": [
        "sampling_strategy = {0: 10, 1: 15, 2: 20}\n\nrus = RandomUnderSampler(sampling_strategy=sampling_strategy)\nX_res, y_res = rus.fit_resample(X, y)\nprint(\n    f\"Information of the iris data set after making it \"\n    f\"balanced by under-sampling: \\n sampling_strategy={sampling_strategy} \\n \"\n    f\"y: {Counter(y_res)}\"\n)\nplot_pie(y_res)\n\nsampling_strategy = {0: 25, 1: 35, 2: 47}\n\nros = RandomOverSampler(sampling_strategy=sampling_strategy)\nX_res, y_res = ros.fit_resample(X, y)\nprint(\n    f\"Information of the iris data set after making it \"\n    f\"balanced by over-sampling: \\n sampling_strategy={sampling_strategy} \\n \"\n    f\"y: {Counter(y_res)}\"\n)\nplot_pie(y_res)"
      ]
    },
    {
      "cell_type": "markdown",
      "metadata": {},
      "source": [
        "``sampling_strategy`` as a ``list``\n...................................\n\nWhen ``sampling_strategy`` is a ``list``, the list contains the targeted\nclasses. It is used only for **cleaning methods** and raise an error\notherwise.\n\n"
      ]
    },
    {
      "cell_type": "code",
      "execution_count": null,
      "metadata": {
        "collapsed": false
      },
      "outputs": [],
      "source": [
        "sampling_strategy = [0, 1, 2]\ntl = TomekLinks(sampling_strategy=sampling_strategy)\nX_res, y_res = tl.fit_resample(X, y)\nprint(\n    f\"Information of the iris data set after making it \"\n    f\"balanced by cleaning sampling: \\n sampling_strategy={sampling_strategy} \"\n    f\"\\n y: {Counter(y_res)}\"\n)\nplot_pie(y_res)"
      ]
    },
    {
      "cell_type": "markdown",
      "metadata": {},
      "source": [
        "``sampling_strategy`` as a callable\n...................................\n\nWhen callable, function taking ``y`` and returns a ``dict``. The keys\ncorrespond to the targeted classes. The values correspond to the desired\nnumber of samples for each class.\n\n"
      ]
    },
    {
      "cell_type": "code",
      "execution_count": null,
      "metadata": {
        "collapsed": false
      },
      "outputs": [],
      "source": [
        "def ratio_multiplier(y):\n    multiplier = {1: 0.7, 2: 0.95}\n    target_stats = Counter(y)\n    for key, value in target_stats.items():\n        if key in multiplier:\n            target_stats[key] = int(value * multiplier[key])\n    return target_stats\n\n\nX_res, y_res = RandomUnderSampler(sampling_strategy=ratio_multiplier).fit_resample(X, y)\n\nprint(\n    f\"Information of the iris data set after balancing using a callable\"\n    f\" mode:\\n ratio={ratio_multiplier} \\n y: {Counter(y_res)}\"\n)\nplot_pie(y_res)\n\nplt.show()"
      ]
    }
  ],
  "metadata": {
    "kernelspec": {
      "display_name": "Python 3",
      "language": "python",
      "name": "python3"
    },
    "language_info": {
      "codemirror_mode": {
        "name": "ipython",
        "version": 3
      },
      "file_extension": ".py",
      "mimetype": "text/x-python",
      "name": "python",
      "nbconvert_exporter": "python",
      "pygments_lexer": "ipython3",
      "version": "3.8.5"
    }
  },
  "nbformat": 4,
  "nbformat_minor": 0
}