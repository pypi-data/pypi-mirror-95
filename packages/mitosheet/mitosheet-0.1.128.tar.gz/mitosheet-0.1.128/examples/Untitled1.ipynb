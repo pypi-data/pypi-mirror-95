{
 "cells": [
  {
   "cell_type": "code",
   "execution_count": 17,
   "id": "assumed-petroleum",
   "metadata": {},
   "outputs": [
    {
     "data": {
      "application/vnd.jupyter.widget-view+json": {
       "model_id": "d5db5a2cc650448a90bb08324245e0f4",
       "version_major": 2,
       "version_minor": 0
      },
      "text/plain": [
       "MitoWidget(analysis_name='UUID-6a7c6ea0-d49b-4e91-88d1-b950e47d7111', code_json='{\"imports\": \"from mitosheet i…"
      ]
     },
     "metadata": {},
     "output_type": "display_data"
    }
   ],
   "source": [
    "import pandas as pd\n",
    "import mitosheet\n",
    "df1 = pd.DataFrame(data={'A': ['123', '1', '2', '3', '4', '5', '5', '6', '7', '8', '9'], 'B': [123, 1, 2, 3, 4, 5, 5, 6, 7, 8, 9], 'C': [123, '1', '2', '3', 4, 5, 5, 6, 7, 8, 9], 'Date': ['2001-01-01', '2002-01-01', '2003-01-01','2004-01-01', '2005-01-01', '2006-01-01', '2007-01-01', '2008-01-01', '2009-01-01', '2010-01-01', '2011-01-01']})\n",
    "df1['Date'] = pd.to_datetime(df1['Date'])\n",
    "mitosheet.sheet(df1)"
   ]
  },
  {
   "cell_type": "code",
   "execution_count": null,
   "id": "persistent-model",
   "metadata": {},
   "outputs": [],
   "source": []
  },
  {
   "cell_type": "code",
   "execution_count": null,
   "id": "different-momentum",
   "metadata": {},
   "outputs": [],
   "source": []
  },
  {
   "cell_type": "code",
   "execution_count": null,
   "id": "grateful-powder",
   "metadata": {},
   "outputs": [],
   "source": []
  },
  {
   "cell_type": "code",
   "execution_count": null,
   "id": "blind-exploration",
   "metadata": {},
   "outputs": [],
   "source": []
  },
  {
   "cell_type": "code",
   "execution_count": null,
   "id": "certified-coach",
   "metadata": {},
   "outputs": [],
   "source": []
  },
  {
   "cell_type": "code",
   "execution_count": null,
   "id": "prerequisite-catalyst",
   "metadata": {},
   "outputs": [],
   "source": []
  },
  {
   "cell_type": "code",
   "execution_count": null,
   "id": "renewable-questionnaire",
   "metadata": {},
   "outputs": [],
   "source": []
  },
  {
   "cell_type": "code",
   "execution_count": null,
   "id": "instructional-arbor",
   "metadata": {},
   "outputs": [],
   "source": []
  },
  {
   "cell_type": "code",
   "execution_count": null,
   "id": "married-least",
   "metadata": {},
   "outputs": [],
   "source": []
  },
  {
   "cell_type": "code",
   "execution_count": null,
   "id": "dirty-decade",
   "metadata": {},
   "outputs": [],
   "source": []
  },
  {
   "cell_type": "code",
   "execution_count": null,
   "id": "amended-tunisia",
   "metadata": {},
   "outputs": [],
   "source": []
  },
  {
   "cell_type": "code",
   "execution_count": null,
   "id": "vital-viking",
   "metadata": {},
   "outputs": [],
   "source": []
  },
  {
   "cell_type": "code",
   "execution_count": null,
   "id": "focal-gospel",
   "metadata": {},
   "outputs": [],
   "source": []
  },
  {
   "cell_type": "code",
   "execution_count": null,
   "id": "cardiac-passion",
   "metadata": {},
   "outputs": [],
   "source": []
  },
  {
   "cell_type": "code",
   "execution_count": null,
   "id": "excellent-opinion",
   "metadata": {},
   "outputs": [],
   "source": []
  },
  {
   "cell_type": "code",
   "execution_count": null,
   "id": "endless-hughes",
   "metadata": {},
   "outputs": [],
   "source": []
  },
  {
   "cell_type": "code",
   "execution_count": null,
   "id": "designed-redhead",
   "metadata": {},
   "outputs": [],
   "source": []
  },
  {
   "cell_type": "code",
   "execution_count": null,
   "id": "future-brooks",
   "metadata": {},
   "outputs": [],
   "source": []
  }
 ],
 "metadata": {
  "kernelspec": {
   "display_name": "Python 3",
   "language": "python",
   "name": "python3"
  },
  "language_info": {
   "codemirror_mode": {
    "name": "ipython",
    "version": 3
   },
   "file_extension": ".py",
   "mimetype": "text/x-python",
   "name": "python",
   "nbconvert_exporter": "python",
   "pygments_lexer": "ipython3",
   "version": "3.8.5"
  },
  "widgets": {
   "application/vnd.jupyter.widget-state+json": {
    "state": {
     "0099c78a692b46b2b8ffaa8a2f08a007": {
      "model_module": "mitosheet",
      "model_module_version": "^0.1.121",
      "model_name": "ExampleModel",
      "state": {
       "_model_module_version": "^0.1.121",
       "_view_module_version": "^0.1.121",
       "analysis_name": "UUID-e52a0fad-472e-4081-8667-276cef450fec",
       "code_json": "{\"imports\": \"from mitosheet import *\", \"code\": [\"# Step 1\", \"df = df[df['A'] > 1.1]\", \"df = df.reset_index(drop=True)\"]}",
       "column_filters_json": "[{\"A\": {\"operator\": \"And\", \"filters\": [{\"type\": \"number\", \"condition\": \"greater\", \"value\": 1.1}]}, \"B\": {\"operator\": \"And\", \"filters\": []}}]",
       "column_spreadsheet_code_json": "[{\"A\": \"\", \"B\": \"\"}]",
       "column_type_json": "[{\"A\": \"number\", \"B\": \"number\"}]",
       "df_names_json": "{\"df_names\": [\"df\"]}",
       "df_shape_json": "[{\"rows\": 3, \"cols\": 2}]",
       "has_rendered": true,
       "is_local_deployment": true,
       "layout": "IPY_MODEL_bb1a48f6bfd6406698707a2100ea0c4c",
       "saved_analysis_names_json": "[\"111\", \"1111\", \"28\", \"Testing\", \"_3arkvynuo\", \"_419wxryas\", \"_49hlkjtgp\", \"_88amfqk2f\", \"_8b9x4aa2m\", \"_cb27694sr\", \"_gs9b8mudg\", \"_hexaujrz3\", \"_jtip39qtx\", \"_k4ce9w8om\", \"_ktv9i6xtb\", \"_nauipuq8o\", \"_ojtvedr82\", \"_rqyqe9rfu\", \"_yd64b4y4m\", \"test\", \"to_test\"]",
       "sheet_json": "[{\"columns\": [\"A\", \"B\"], \"index\": [0, 1, 2], \"data\": [[7, 10], [8, 11], [9, 12]]}]",
       "should_upgrade_mitosheet": false,
       "tutorial_mode": false,
       "user_email": "naterush1997@gmail.com",
       "value": "Hello World"
      }
     },
     "3701fe347a434665a1b81e64c2044562": {
      "model_module": "mitosheet",
      "model_module_version": "^0.1.121",
      "model_name": "ExampleModel",
      "state": {
       "_model_module_version": "^0.1.121",
       "_view_module_version": "^0.1.121",
       "analysis_name": "UUID-d7dc19fb-96af-4c3d-88a1-0a7a60640e35",
       "code_json": "{\"imports\": \"from mitosheet import *\", \"code\": [\"# Step 1\", \"df = df.sort_values(by='A', ascending=False, na_position='first')\", \"df = df.reset_index(drop=True)\"]}",
       "column_filters_json": "[{\"A\": {\"operator\": \"And\", \"filters\": []}, \"B\": {\"operator\": \"And\", \"filters\": []}}]",
       "column_spreadsheet_code_json": "[{\"A\": \"\", \"B\": \"\"}]",
       "column_type_json": "[{\"A\": \"number\", \"B\": \"number\"}]",
       "df_names_json": "{\"df_names\": [\"df\"]}",
       "df_shape_json": "[{\"rows\": 3, \"cols\": 2}]",
       "has_rendered": true,
       "is_local_deployment": true,
       "layout": "IPY_MODEL_932567bec317446bb145d61be5d59a63",
       "saved_analysis_names_json": "[\"111\", \"1111\", \"28\", \"Testing\", \"_3arkvynuo\", \"_419wxryas\", \"_49hlkjtgp\", \"_88amfqk2f\", \"_8b9x4aa2m\", \"_cb27694sr\", \"_gs9b8mudg\", \"_hexaujrz3\", \"_jtip39qtx\", \"_k4ce9w8om\", \"_ktv9i6xtb\", \"_nauipuq8o\", \"_ojtvedr82\", \"_rqyqe9rfu\", \"_yd64b4y4m\", \"test\", \"to_test\"]",
       "sheet_json": "[{\"columns\": [\"A\", \"B\"], \"index\": [0, 1, 2], \"data\": [[9, 12], [8, 11], [7, 10]]}]",
       "should_upgrade_mitosheet": false,
       "tutorial_mode": false,
       "user_email": "naterush1997@gmail.com",
       "value": "Hello World"
      }
     },
     "37ddccaf38b54c4482bcf94bb86d4865": {
      "model_module": "mitosheet",
      "model_module_version": "^0.1.121",
      "model_name": "ExampleModel",
      "state": {
       "_model_module_version": "^0.1.121",
       "_view_module_version": "^0.1.121",
       "analysis_name": "UUID-c9bc92a5-1cff-4d9b-969c-3d6e8472fd90",
       "code_json": "{\"imports\": \"from mitosheet import *\", \"code\": [\"# Step 1\", \"df1 = df1[((df1['A'].str.contains('1', na=False)) & (df1['A'].str.contains('3', na=False)))]\", \"df1 = df1.reset_index(drop=True)\"]}",
       "column_filters_json": "[{\"A\": {\"operator\": \"And\", \"filters\": [{\"filters\": [{\"type\": \"string\", \"condition\": \"contains\", \"value\": \"1\"}, {\"type\": \"string\", \"condition\": \"contains\", \"value\": \"3\"}], \"operator\": \"And\"}]}, \"B\": {\"operator\": \"And\", \"filters\": []}, \"C\": {\"operator\": \"And\", \"filters\": []}, \"Date\": {\"operator\": \"And\", \"filters\": []}}]",
       "column_spreadsheet_code_json": "[{\"A\": \"\", \"B\": \"\", \"C\": \"\", \"Date\": \"\"}]",
       "column_type_json": "[{\"A\": \"string\", \"B\": \"number\", \"C\": \"string\", \"Date\": \"datetime\"}]",
       "df_names_json": "{\"df_names\": [\"df1\"]}",
       "df_shape_json": "[{\"rows\": 1, \"cols\": 4}]",
       "has_rendered": true,
       "is_local_deployment": true,
       "layout": "IPY_MODEL_a03c3e774a434de5a966783c91a061e3",
       "saved_analysis_names_json": "[\"111\", \"1111\", \"28\", \"Testing\", \"_3arkvynuo\", \"_419wxryas\", \"_49hlkjtgp\", \"_88amfqk2f\", \"_8b9x4aa2m\", \"_cb27694sr\", \"_gs9b8mudg\", \"_hexaujrz3\", \"_jtip39qtx\", \"_k4ce9w8om\", \"_ktv9i6xtb\", \"_nauipuq8o\", \"_ojtvedr82\", \"_rqyqe9rfu\", \"_yd64b4y4m\", \"test\", \"to_test\"]",
       "sheet_json": "[{\"columns\": [\"A\", \"B\", \"C\", \"Date\"], \"index\": [0], \"data\": [[\"123\", 123, 123, \"2001-01-01 00:00:00\"]]}]",
       "should_upgrade_mitosheet": false,
       "tutorial_mode": false,
       "user_email": "naterush1997@gmail.com",
       "value": "Hello World"
      }
     },
     "3e7383b9bb04444da66d1140e248e658": {
      "model_module": "@jupyter-widgets/base",
      "model_module_version": "1.2.0",
      "model_name": "LayoutModel",
      "state": {}
     },
     "40e00f6fd59a4b8e80380079136b1c8d": {
      "model_module": "@jupyter-widgets/base",
      "model_module_version": "1.2.0",
      "model_name": "LayoutModel",
      "state": {}
     },
     "4d64ca7b0d844a6f9676aadf09b47a2a": {
      "model_module": "mitosheet",
      "model_module_version": "^0.1.121",
      "model_name": "ExampleModel",
      "state": {
       "_model_module_version": "^0.1.121",
       "_view_module_version": "^0.1.121",
       "analysis_name": "UUID-480363e0-cec9-42f4-94f8-fa257d8fa520",
       "code_json": "{\"imports\": \"from mitosheet import *\", \"code\": []}",
       "column_filters_json": "[{\"A\": {\"operator\": \"And\", \"filters\": []}, \"B\": {\"operator\": \"And\", \"filters\": []}}]",
       "column_spreadsheet_code_json": "[{\"A\": \"\", \"B\": \"\"}]",
       "column_type_json": "[{\"A\": \"number\", \"B\": \"number\"}]",
       "df_names_json": "{\"df_names\": [\"df\"]}",
       "df_shape_json": "[{\"rows\": 3, \"cols\": 2}]",
       "has_rendered": true,
       "is_local_deployment": true,
       "layout": "IPY_MODEL_d8375abb6b3349e7ae7634f7bddb7d6a",
       "saved_analysis_names_json": "[\"111\", \"1111\", \"28\", \"Testing\", \"_3arkvynuo\", \"_419wxryas\", \"_49hlkjtgp\", \"_88amfqk2f\", \"_8b9x4aa2m\", \"_cb27694sr\", \"_gs9b8mudg\", \"_hexaujrz3\", \"_jtip39qtx\", \"_k4ce9w8om\", \"_ktv9i6xtb\", \"_nauipuq8o\", \"_ojtvedr82\", \"_rqyqe9rfu\", \"_yd64b4y4m\", \"test\", \"to_test\"]",
       "sheet_json": "[{\"columns\": [\"A\", \"B\"], \"index\": [0, 1, 2], \"data\": [[7, 10], [8, 11], [9, 12]]}]",
       "should_upgrade_mitosheet": false,
       "tutorial_mode": false,
       "user_email": "naterush1997@gmail.com",
       "value": "Hello World"
      }
     },
     "51b15efdf1b04a9dbb9bc591f13c5a5d": {
      "model_module": "mitosheet",
      "model_module_version": "^0.1.121",
      "model_name": "ExampleModel",
      "state": {
       "_model_module_version": "^0.1.121",
       "_view_module_version": "^0.1.121",
       "analysis_name": "UUID-744caa32-c64f-442b-92c4-f53652f2a225",
       "code_json": "{\"imports\": \"from mitosheet import *\", \"code\": []}",
       "column_filters_json": "[{\"A\": {\"operator\": \"And\", \"filters\": []}, \"B\": {\"operator\": \"And\", \"filters\": []}, \"C\": {\"operator\": \"And\", \"filters\": []}, \"Date\": {\"operator\": \"And\", \"filters\": []}}]",
       "column_spreadsheet_code_json": "[{\"A\": \"\", \"B\": \"\", \"C\": \"\", \"Date\": \"\"}]",
       "column_type_json": "[{\"A\": \"string\", \"B\": \"number\", \"C\": \"string\", \"Date\": \"datetime\"}]",
       "df_names_json": "{\"df_names\": [\"df1\"]}",
       "df_shape_json": "[{\"rows\": 11, \"cols\": 4}]",
       "has_rendered": true,
       "is_local_deployment": true,
       "layout": "IPY_MODEL_a515dd3277a34c47aac5ac3ed0ca2902",
       "saved_analysis_names_json": "[\"111\", \"1111\", \"28\", \"Testing\", \"_3arkvynuo\", \"_419wxryas\", \"_49hlkjtgp\", \"_88amfqk2f\", \"_8b9x4aa2m\", \"_cb27694sr\", \"_gs9b8mudg\", \"_hexaujrz3\", \"_jtip39qtx\", \"_k4ce9w8om\", \"_ktv9i6xtb\", \"_nauipuq8o\", \"_ojtvedr82\", \"_rqyqe9rfu\", \"_yd64b4y4m\", \"test\", \"to_test\"]",
       "sheet_json": "[{\"columns\": [\"A\", \"B\", \"C\", \"Date\"], \"index\": [0, 1, 2, 3, 4, 5, 6, 7, 8, 9, 10], \"data\": [[\"123\", 123, 123, \"2001-01-01 00:00:00\"], [\"1\", 1, \"1\", \"2002-01-01 00:00:00\"], [\"2\", 2, \"2\", \"2003-01-01 00:00:00\"], [\"3\", 3, \"3\", \"2004-01-01 00:00:00\"], [\"4\", 4, 4, \"2005-01-01 00:00:00\"], [\"5\", 5, 5, \"2006-01-01 00:00:00\"], [\"5\", 5, 5, \"2007-01-01 00:00:00\"], [\"6\", 6, 6, \"2008-01-01 00:00:00\"], [\"7\", 7, 7, \"2009-01-01 00:00:00\"], [\"8\", 8, 8, \"2010-01-01 00:00:00\"], [\"9\", 9, 9, \"2011-01-01 00:00:00\"]]}]",
       "should_upgrade_mitosheet": false,
       "tutorial_mode": false,
       "user_email": "naterush1997@gmail.com",
       "value": "Hello World"
      }
     },
     "56c3e34bd6ea4867bf33d9a8878158c8": {
      "model_module": "mitosheet",
      "model_module_version": "^0.1.121",
      "model_name": "ExampleModel",
      "state": {
       "_model_module_version": "^0.1.121",
       "_view_module_version": "^0.1.121",
       "analysis_name": "UUID-cd38c0fd-208e-4600-b089-8d284d8b783e",
       "code_json": "{\"imports\": \"from mitosheet import *\", \"code\": [\"# Step 1\", \"df = df[df['A'] > 1.1]\", \"df = df.reset_index(drop=True)\"]}",
       "column_filters_json": "[{\"A\": {\"operator\": \"And\", \"filters\": [{\"type\": \"number\", \"condition\": \"greater\", \"value\": 1.1}]}, \"B\": {\"operator\": \"And\", \"filters\": []}}]",
       "column_spreadsheet_code_json": "[{\"A\": \"\", \"B\": \"\"}]",
       "column_type_json": "[{\"A\": \"number\", \"B\": \"number\"}]",
       "df_names_json": "{\"df_names\": [\"df\"]}",
       "df_shape_json": "[{\"rows\": 3, \"cols\": 2}]",
       "has_rendered": true,
       "is_local_deployment": true,
       "layout": "IPY_MODEL_ef6fde879be7442f94d623a723a890e6",
       "saved_analysis_names_json": "[\"111\", \"1111\", \"28\", \"Testing\", \"_3arkvynuo\", \"_419wxryas\", \"_49hlkjtgp\", \"_88amfqk2f\", \"_8b9x4aa2m\", \"_cb27694sr\", \"_gs9b8mudg\", \"_hexaujrz3\", \"_jtip39qtx\", \"_k4ce9w8om\", \"_ktv9i6xtb\", \"_nauipuq8o\", \"_ojtvedr82\", \"_rqyqe9rfu\", \"_yd64b4y4m\", \"test\", \"to_test\"]",
       "sheet_json": "[{\"columns\": [\"A\", \"B\"], \"index\": [0, 1, 2], \"data\": [[7, 10], [8, 11], [9, 12]]}]",
       "should_upgrade_mitosheet": false,
       "tutorial_mode": false,
       "user_email": "naterush1997@gmail.com",
       "value": "Hello World"
      }
     },
     "5750a0a557e44ff0b60bcf0936108f91": {
      "model_module": "mitosheet",
      "model_module_version": "^0.1.121",
      "model_name": "ExampleModel",
      "state": {
       "_model_module_version": "^0.1.121",
       "_view_module_version": "^0.1.121",
       "analysis_name": "UUID-93168fdb-723a-454a-8bd9-0b0a49219316",
       "code_json": "{\"imports\": \"from mitosheet import *\", \"code\": [\"# Step 1\", \"df = df[df['A'] > 1]\", \"df = df.reset_index(drop=True)\"]}",
       "column_filters_json": "[{\"A\": {\"operator\": \"And\", \"filters\": [{\"type\": \"number\", \"condition\": \"greater\", \"value\": 1}]}, \"B\": {\"operator\": \"And\", \"filters\": []}}]",
       "column_spreadsheet_code_json": "[{\"A\": \"\", \"B\": \"\"}]",
       "column_type_json": "[{\"A\": \"number\", \"B\": \"number\"}]",
       "df_names_json": "{\"df_names\": [\"df\"]}",
       "df_shape_json": "[{\"rows\": 3, \"cols\": 2}]",
       "has_rendered": true,
       "is_local_deployment": true,
       "layout": "IPY_MODEL_40e00f6fd59a4b8e80380079136b1c8d",
       "saved_analysis_names_json": "[\"111\", \"1111\", \"28\", \"Testing\", \"_3arkvynuo\", \"_419wxryas\", \"_49hlkjtgp\", \"_88amfqk2f\", \"_8b9x4aa2m\", \"_cb27694sr\", \"_gs9b8mudg\", \"_hexaujrz3\", \"_jtip39qtx\", \"_k4ce9w8om\", \"_ktv9i6xtb\", \"_nauipuq8o\", \"_ojtvedr82\", \"_rqyqe9rfu\", \"_yd64b4y4m\", \"test\", \"to_test\"]",
       "sheet_json": "[{\"columns\": [\"A\", \"B\"], \"index\": [0, 1, 2], \"data\": [[7, 10], [8, 11], [9, 12]]}]",
       "should_upgrade_mitosheet": false,
       "tutorial_mode": false,
       "user_email": "naterush1997@gmail.com",
       "value": "Hello World"
      }
     },
     "5778debbed18495e84d95a625d56132e": {
      "model_module": "mitosheet",
      "model_module_version": "^0.1.121",
      "model_name": "ExampleModel",
      "state": {
       "_model_module_version": "^0.1.121",
       "_view_module_version": "^0.1.121",
       "analysis_name": "UUID-7679d4c2-bb35-4ef5-b523-5eb0b62c1711",
       "code_json": "{\"imports\": \"from mitosheet import *\", \"code\": [\"# Step 1\", \"df = df[(df['A'] > 0) & ((df['A'] > 0))]\", \"df = df.reset_index(drop=True)\"]}",
       "column_filters_json": "[{\"A\": {\"operator\": \"And\", \"filters\": [{\"type\": \"number\", \"condition\": \"greater\", \"value\": 0}, {\"filters\": [{\"type\": \"number\", \"condition\": \"greater\", \"value\": 0}], \"operator\": \"And\"}]}, \"B\": {\"operator\": \"And\", \"filters\": []}}]",
       "column_spreadsheet_code_json": "[{\"A\": \"\", \"B\": \"\"}]",
       "column_type_json": "[{\"A\": \"number\", \"B\": \"number\"}]",
       "df_names_json": "{\"df_names\": [\"df\"]}",
       "df_shape_json": "[{\"rows\": 3, \"cols\": 2}]",
       "has_rendered": true,
       "is_local_deployment": true,
       "layout": "IPY_MODEL_9e384e140ce24efcb1620ff1a9d59707",
       "saved_analysis_names_json": "[\"111\", \"1111\", \"28\", \"Testing\", \"_3arkvynuo\", \"_419wxryas\", \"_49hlkjtgp\", \"_88amfqk2f\", \"_8b9x4aa2m\", \"_cb27694sr\", \"_gs9b8mudg\", \"_hexaujrz3\", \"_jtip39qtx\", \"_k4ce9w8om\", \"_ktv9i6xtb\", \"_nauipuq8o\", \"_ojtvedr82\", \"_rqyqe9rfu\", \"_yd64b4y4m\", \"test\", \"to_test\"]",
       "sheet_json": "[{\"columns\": [\"A\", \"B\"], \"index\": [0, 1, 2], \"data\": [[7, 10], [8, 11], [9, 12]]}]",
       "should_upgrade_mitosheet": false,
       "tutorial_mode": false,
       "user_email": "naterush1997@gmail.com",
       "value": "Hello World"
      }
     },
     "7818deecbc8a4338a74c4355394ace09": {
      "model_module": "mitosheet",
      "model_module_version": "^0.1.121",
      "model_name": "ExampleModel",
      "state": {
       "_model_module_version": "^0.1.121",
       "_view_module_version": "^0.1.121",
       "analysis_name": "UUID-babfce8f-e92a-4c75-a291-5c2ee7adbb68",
       "code_json": "{\"imports\": \"from mitosheet import *\", \"code\": [\"# Step 1\", \"df1 = df1[((df1['A'].str.contains('1', na=False)) & (df1['A'].str.contains('3', na=False)))]\", \"df1 = df1.reset_index(drop=True)\"]}",
       "column_filters_json": "[{\"A\": {\"operator\": \"And\", \"filters\": [{\"filters\": [{\"type\": \"string\", \"condition\": \"contains\", \"value\": \"1\"}, {\"type\": \"string\", \"condition\": \"contains\", \"value\": \"3\"}], \"operator\": \"And\"}]}, \"B\": {\"operator\": \"And\", \"filters\": []}, \"C\": {\"operator\": \"And\", \"filters\": []}, \"Date\": {\"operator\": \"And\", \"filters\": []}}]",
       "column_spreadsheet_code_json": "[{\"A\": \"\", \"B\": \"\", \"C\": \"\", \"Date\": \"\"}]",
       "column_type_json": "[{\"A\": \"string\", \"B\": \"number\", \"C\": \"string\", \"Date\": \"datetime\"}]",
       "df_names_json": "{\"df_names\": [\"df1\"]}",
       "df_shape_json": "[{\"rows\": 1, \"cols\": 4}]",
       "has_rendered": true,
       "is_local_deployment": true,
       "layout": "IPY_MODEL_970931f7a05443728640ec2aacf05fbf",
       "saved_analysis_names_json": "[\"111\", \"1111\", \"28\", \"Testing\", \"_3arkvynuo\", \"_419wxryas\", \"_49hlkjtgp\", \"_88amfqk2f\", \"_8b9x4aa2m\", \"_cb27694sr\", \"_gs9b8mudg\", \"_hexaujrz3\", \"_jtip39qtx\", \"_k4ce9w8om\", \"_ktv9i6xtb\", \"_nauipuq8o\", \"_ojtvedr82\", \"_rqyqe9rfu\", \"_yd64b4y4m\", \"test\", \"to_test\"]",
       "sheet_json": "[{\"columns\": [\"A\", \"B\", \"C\", \"Date\"], \"index\": [0], \"data\": [[\"123\", 123, 123, \"2001-01-01 00:00:00\"]]}]",
       "should_upgrade_mitosheet": false,
       "tutorial_mode": false,
       "user_email": "naterush1997@gmail.com",
       "value": "Hello World"
      }
     },
     "7b559ba9634f41a4a3582520fa27f22b": {
      "model_module": "@jupyter-widgets/base",
      "model_module_version": "1.2.0",
      "model_name": "LayoutModel",
      "state": {}
     },
     "7db5d37fe4fa4199a0298d9714a13940": {
      "model_module": "@jupyter-widgets/base",
      "model_module_version": "1.2.0",
      "model_name": "LayoutModel",
      "state": {}
     },
     "846bcaa82272452b83b4dc95a240474d": {
      "model_module": "@jupyter-widgets/base",
      "model_module_version": "1.2.0",
      "model_name": "LayoutModel",
      "state": {}
     },
     "8919a2dd4044437bab73da205ae329a7": {
      "model_module": "mitosheet",
      "model_module_version": "^0.1.121",
      "model_name": "ExampleModel",
      "state": {
       "_model_module_version": "^0.1.121",
       "_view_module_version": "^0.1.121",
       "analysis_name": "UUID-18d8d8da-27a4-4574-9747-119f220279ca",
       "code_json": "{\"imports\": \"from mitosheet import *\", \"code\": []}",
       "column_filters_json": "[{\"A\": {\"operator\": \"And\", \"filters\": []}, \"B\": {\"operator\": \"And\", \"filters\": []}}]",
       "column_spreadsheet_code_json": "[{\"A\": \"\", \"B\": \"\"}]",
       "column_type_json": "[{\"A\": \"number\", \"B\": \"number\"}]",
       "df_names_json": "{\"df_names\": [\"df\"]}",
       "df_shape_json": "[{\"rows\": 3, \"cols\": 2}]",
       "has_rendered": true,
       "is_local_deployment": true,
       "layout": "IPY_MODEL_7db5d37fe4fa4199a0298d9714a13940",
       "saved_analysis_names_json": "[\"111\", \"1111\", \"28\", \"Testing\", \"_3arkvynuo\", \"_419wxryas\", \"_49hlkjtgp\", \"_88amfqk2f\", \"_8b9x4aa2m\", \"_cb27694sr\", \"_gs9b8mudg\", \"_hexaujrz3\", \"_jtip39qtx\", \"_k4ce9w8om\", \"_ktv9i6xtb\", \"_nauipuq8o\", \"_ojtvedr82\", \"_rqyqe9rfu\", \"_yd64b4y4m\", \"test\", \"to_test\"]",
       "sheet_json": "[{\"columns\": [\"A\", \"B\"], \"index\": [0, 1, 2], \"data\": [[7, 10], [8, 11], [9, 12]]}]",
       "should_upgrade_mitosheet": false,
       "tutorial_mode": false,
       "user_email": "naterush1997@gmail.com",
       "value": "Hello World"
      }
     },
     "90180f2b6ac643da89a31f2b8b4c6bfc": {
      "model_module": "mitosheet",
      "model_module_version": "^0.1.121",
      "model_name": "ExampleModel",
      "state": {
       "_model_module_version": "^0.1.121",
       "_view_module_version": "^0.1.121",
       "analysis_name": "UUID-e19e3d0c-5955-4459-b11a-3323731e8303",
       "code_json": "{\"imports\": \"from mitosheet import *\", \"code\": []}",
       "column_filters_json": "[{\"A\": {\"operator\": \"And\", \"filters\": []}, \"B\": {\"operator\": \"And\", \"filters\": []}}]",
       "column_spreadsheet_code_json": "[{\"A\": \"\", \"B\": \"\"}]",
       "column_type_json": "[{\"A\": \"number\", \"B\": \"number\"}]",
       "df_names_json": "{\"df_names\": [\"df\"]}",
       "df_shape_json": "[{\"rows\": 3, \"cols\": 2}]",
       "has_rendered": true,
       "is_local_deployment": true,
       "layout": "IPY_MODEL_f441dd126ed04536bd346af51fcbef2c",
       "saved_analysis_names_json": "[\"111\", \"1111\", \"28\", \"Testing\", \"_3arkvynuo\", \"_419wxryas\", \"_49hlkjtgp\", \"_88amfqk2f\", \"_8b9x4aa2m\", \"_cb27694sr\", \"_gs9b8mudg\", \"_hexaujrz3\", \"_jtip39qtx\", \"_k4ce9w8om\", \"_ktv9i6xtb\", \"_nauipuq8o\", \"_ojtvedr82\", \"_rqyqe9rfu\", \"_yd64b4y4m\", \"test\", \"to_test\"]",
       "sheet_json": "[{\"columns\": [\"A\", \"B\"], \"index\": [0, 1, 2], \"data\": [[7, 10], [8, 11], [9, 12]]}]",
       "should_upgrade_mitosheet": false,
       "tutorial_mode": false,
       "user_email": "naterush1997@gmail.com",
       "value": "Hello World"
      }
     },
     "932567bec317446bb145d61be5d59a63": {
      "model_module": "@jupyter-widgets/base",
      "model_module_version": "1.2.0",
      "model_name": "LayoutModel",
      "state": {}
     },
     "950c0ea42365461592e26b929cb5942e": {
      "model_module": "mitosheet",
      "model_module_version": "^0.1.121",
      "model_name": "ExampleModel",
      "state": {
       "_model_module_version": "^0.1.121",
       "_view_module_version": "^0.1.121",
       "analysis_name": "UUID-1d40154e-7941-4f63-bdce-958c6f2b05a1",
       "code_json": "{\"imports\": \"from mitosheet import *\", \"code\": [\"# Step 1\", \"df = df.sort_values(by='A', ascending=True, na_position='first')\", \"df = df.reset_index(drop=True)\", \"# Step 2\", \"df = df[df['A'] > 0]\", \"df = df.reset_index(drop=True)\"]}",
       "column_filters_json": "[{\"A\": {\"operator\": \"And\", \"filters\": [{\"type\": \"number\", \"condition\": \"greater\", \"value\": 0}]}, \"B\": {\"operator\": \"And\", \"filters\": []}}]",
       "column_spreadsheet_code_json": "[{\"A\": \"\", \"B\": \"\"}]",
       "column_type_json": "[{\"A\": \"number\", \"B\": \"number\"}]",
       "df_names_json": "{\"df_names\": [\"df\"]}",
       "df_shape_json": "[{\"rows\": 3, \"cols\": 2}]",
       "has_rendered": true,
       "is_local_deployment": true,
       "layout": "IPY_MODEL_846bcaa82272452b83b4dc95a240474d",
       "saved_analysis_names_json": "[\"111\", \"1111\", \"28\", \"Testing\", \"_3arkvynuo\", \"_419wxryas\", \"_49hlkjtgp\", \"_88amfqk2f\", \"_8b9x4aa2m\", \"_cb27694sr\", \"_gs9b8mudg\", \"_hexaujrz3\", \"_jtip39qtx\", \"_k4ce9w8om\", \"_ktv9i6xtb\", \"_nauipuq8o\", \"_ojtvedr82\", \"_rqyqe9rfu\", \"_yd64b4y4m\", \"test\", \"to_test\"]",
       "sheet_json": "[{\"columns\": [\"A\", \"B\"], \"index\": [0, 1, 2], \"data\": [[7, 10], [8, 11], [9, 12]]}]",
       "should_upgrade_mitosheet": false,
       "tutorial_mode": false,
       "user_email": "naterush1997@gmail.com",
       "value": "Hello World"
      }
     },
     "970931f7a05443728640ec2aacf05fbf": {
      "model_module": "@jupyter-widgets/base",
      "model_module_version": "1.2.0",
      "model_name": "LayoutModel",
      "state": {}
     },
     "9a7f39c053dc48a4a67e43398888fcd5": {
      "model_module": "@jupyter-widgets/base",
      "model_module_version": "1.2.0",
      "model_name": "LayoutModel",
      "state": {}
     },
     "9e384e140ce24efcb1620ff1a9d59707": {
      "model_module": "@jupyter-widgets/base",
      "model_module_version": "1.2.0",
      "model_name": "LayoutModel",
      "state": {}
     },
     "a03c3e774a434de5a966783c91a061e3": {
      "model_module": "@jupyter-widgets/base",
      "model_module_version": "1.2.0",
      "model_name": "LayoutModel",
      "state": {}
     },
     "a199258d8778435698d8cf86633cba32": {
      "model_module": "mitosheet",
      "model_module_version": "^0.1.121",
      "model_name": "ExampleModel",
      "state": {
       "_model_module_version": "^0.1.121",
       "_view_module_version": "^0.1.121",
       "analysis_name": "UUID-594c9f6e-3267-4110-a27d-0f5b7d5b195a",
       "code_json": "{\"imports\": \"from mitosheet import *\", \"code\": [\"# Step 1\", \"df1 = df1[(df1['B'] < 1.05) & ((df1['B'] > 1))]\", \"df1 = df1.reset_index(drop=True)\"]}",
       "column_filters_json": "[{\"A\": {\"operator\": \"And\", \"filters\": []}, \"B\": {\"operator\": \"And\", \"filters\": [{\"type\": \"number\", \"condition\": \"less\", \"value\": 1.05}, {\"filters\": [{\"type\": \"number\", \"condition\": \"greater\", \"value\": 1}], \"operator\": \"And\"}]}, \"C\": {\"operator\": \"And\", \"filters\": []}, \"Date\": {\"operator\": \"And\", \"filters\": []}}]",
       "column_spreadsheet_code_json": "[{\"A\": \"\", \"B\": \"\", \"C\": \"\", \"Date\": \"\"}]",
       "column_type_json": "[{\"A\": \"string\", \"B\": \"number\", \"C\": \"string\", \"Date\": \"datetime\"}]",
       "df_names_json": "{\"df_names\": [\"df1\"]}",
       "df_shape_json": "[{\"rows\": 0, \"cols\": 4}]",
       "has_rendered": true,
       "is_local_deployment": true,
       "layout": "IPY_MODEL_3e7383b9bb04444da66d1140e248e658",
       "saved_analysis_names_json": "[\"111\", \"1111\", \"28\", \"Testing\", \"_3arkvynuo\", \"_419wxryas\", \"_49hlkjtgp\", \"_88amfqk2f\", \"_8b9x4aa2m\", \"_cb27694sr\", \"_gs9b8mudg\", \"_hexaujrz3\", \"_jtip39qtx\", \"_k4ce9w8om\", \"_ktv9i6xtb\", \"_nauipuq8o\", \"_ojtvedr82\", \"_rqyqe9rfu\", \"_yd64b4y4m\", \"test\", \"to_test\"]",
       "sheet_json": "[{\"columns\": [\"A\", \"B\", \"C\", \"Date\"], \"index\": [], \"data\": []}]",
       "should_upgrade_mitosheet": false,
       "tutorial_mode": false,
       "user_email": "naterush1997@gmail.com",
       "value": "Hello World"
      }
     },
     "a515dd3277a34c47aac5ac3ed0ca2902": {
      "model_module": "@jupyter-widgets/base",
      "model_module_version": "1.2.0",
      "model_name": "LayoutModel",
      "state": {}
     },
     "baec88d9ab93424ab4fde7df3967bfc1": {
      "model_module": "mitosheet",
      "model_module_version": "^0.1.121",
      "model_name": "ExampleModel",
      "state": {
       "_model_module_version": "^0.1.121",
       "_view_module_version": "^0.1.121",
       "analysis_name": "UUID-6a42394f-f644-48c8-ad8e-1d00781aa836",
       "code_json": "{\"imports\": \"from mitosheet import *\", \"code\": [\"# Step 1\", \"df1 = df1[(df1['B'] < 1.05) & ((df1['B'] > 9.05))]\", \"df1 = df1.reset_index(drop=True)\"]}",
       "column_filters_json": "[{\"A\": {\"operator\": \"And\", \"filters\": []}, \"B\": {\"operator\": \"And\", \"filters\": [{\"type\": \"number\", \"condition\": \"less\", \"value\": 1.05}, {\"filters\": [{\"type\": \"number\", \"condition\": \"greater\", \"value\": 9.05}], \"operator\": \"And\"}]}, \"C\": {\"operator\": \"And\", \"filters\": []}, \"Date\": {\"operator\": \"And\", \"filters\": []}}]",
       "column_spreadsheet_code_json": "[{\"A\": \"\", \"B\": \"\", \"C\": \"\", \"Date\": \"\"}]",
       "column_type_json": "[{\"A\": \"string\", \"B\": \"number\", \"C\": \"string\", \"Date\": \"datetime\"}]",
       "df_names_json": "{\"df_names\": [\"df1\"]}",
       "df_shape_json": "[{\"rows\": 0, \"cols\": 4}]",
       "has_rendered": true,
       "is_local_deployment": true,
       "layout": "IPY_MODEL_dc2df9383e1f46b98b1ea5786d37c6c4",
       "saved_analysis_names_json": "[\"111\", \"1111\", \"28\", \"Testing\", \"_3arkvynuo\", \"_419wxryas\", \"_49hlkjtgp\", \"_88amfqk2f\", \"_8b9x4aa2m\", \"_cb27694sr\", \"_gs9b8mudg\", \"_hexaujrz3\", \"_jtip39qtx\", \"_k4ce9w8om\", \"_ktv9i6xtb\", \"_nauipuq8o\", \"_ojtvedr82\", \"_rqyqe9rfu\", \"_yd64b4y4m\", \"test\", \"to_test\"]",
       "sheet_json": "[{\"columns\": [\"A\", \"B\", \"C\", \"Date\"], \"index\": [], \"data\": []}]",
       "should_upgrade_mitosheet": false,
       "tutorial_mode": false,
       "user_email": "naterush1997@gmail.com",
       "value": "Hello World"
      }
     },
     "bb1a48f6bfd6406698707a2100ea0c4c": {
      "model_module": "@jupyter-widgets/base",
      "model_module_version": "1.2.0",
      "model_name": "LayoutModel",
      "state": {}
     },
     "d5db5a2cc650448a90bb08324245e0f4": {
      "model_module": "mitosheet",
      "model_module_version": "^0.1.121",
      "model_name": "ExampleModel",
      "state": {
       "_model_module_version": "^0.1.121",
       "_view_module_version": "^0.1.121",
       "analysis_name": "UUID-6a7c6ea0-d49b-4e91-88d1-b950e47d7111",
       "code_json": "{\"imports\": \"from mitosheet import *\", \"code\": []}",
       "column_filters_json": "[{\"A\": {\"operator\": \"And\", \"filters\": []}, \"B\": {\"operator\": \"And\", \"filters\": []}, \"C\": {\"operator\": \"And\", \"filters\": []}, \"Date\": {\"operator\": \"And\", \"filters\": []}}]",
       "column_spreadsheet_code_json": "[{\"A\": \"\", \"B\": \"\", \"C\": \"\", \"Date\": \"\"}]",
       "column_type_json": "[{\"A\": \"string\", \"B\": \"number\", \"C\": \"string\", \"Date\": \"datetime\"}]",
       "df_names_json": "{\"df_names\": [\"df1\"]}",
       "df_shape_json": "[{\"rows\": 11, \"cols\": 4}]",
       "has_rendered": true,
       "is_local_deployment": true,
       "layout": "IPY_MODEL_9a7f39c053dc48a4a67e43398888fcd5",
       "saved_analysis_names_json": "[\"111\", \"1111\", \"28\", \"Testing\", \"_3arkvynuo\", \"_419wxryas\", \"_49hlkjtgp\", \"_88amfqk2f\", \"_8b9x4aa2m\", \"_cb27694sr\", \"_gs9b8mudg\", \"_hexaujrz3\", \"_jtip39qtx\", \"_k4ce9w8om\", \"_ktv9i6xtb\", \"_nauipuq8o\", \"_ojtvedr82\", \"_rqyqe9rfu\", \"_yd64b4y4m\", \"test\", \"to_test\"]",
       "sheet_json": "[{\"columns\": [\"A\", \"B\", \"C\", \"Date\"], \"index\": [0, 1, 2, 3, 4, 5, 6, 7, 8, 9, 10], \"data\": [[\"123\", 123, 123, \"2001-01-01 00:00:00\"], [\"1\", 1, \"1\", \"2002-01-01 00:00:00\"], [\"2\", 2, \"2\", \"2003-01-01 00:00:00\"], [\"3\", 3, \"3\", \"2004-01-01 00:00:00\"], [\"4\", 4, 4, \"2005-01-01 00:00:00\"], [\"5\", 5, 5, \"2006-01-01 00:00:00\"], [\"5\", 5, 5, \"2007-01-01 00:00:00\"], [\"6\", 6, 6, \"2008-01-01 00:00:00\"], [\"7\", 7, 7, \"2009-01-01 00:00:00\"], [\"8\", 8, 8, \"2010-01-01 00:00:00\"], [\"9\", 9, 9, \"2011-01-01 00:00:00\"]]}]",
       "should_upgrade_mitosheet": false,
       "tutorial_mode": false,
       "user_email": "naterush1997@gmail.com",
       "value": "Hello World"
      }
     },
     "d8375abb6b3349e7ae7634f7bddb7d6a": {
      "model_module": "@jupyter-widgets/base",
      "model_module_version": "1.2.0",
      "model_name": "LayoutModel",
      "state": {}
     },
     "d93f520c70e447a3acb8d53a57f14fde": {
      "model_module": "mitosheet",
      "model_module_version": "^0.1.121",
      "model_name": "ExampleModel",
      "state": {
       "_model_module_version": "^0.1.121",
       "_view_module_version": "^0.1.121",
       "analysis_name": "UUID-ccc6dc37-ca99-4fe8-8734-7048d04bb05b",
       "code_json": "{\"imports\": \"from mitosheet import *\", \"code\": [\"# Step 1\", \"df1 = df1[(df1['B'] < 1.05) | ((df1['B'] > 9.05))]\", \"df1 = df1.reset_index(drop=True)\"]}",
       "column_filters_json": "[{\"A\": {\"operator\": \"And\", \"filters\": []}, \"B\": {\"operator\": \"Or\", \"filters\": [{\"type\": \"number\", \"condition\": \"less\", \"value\": 1.05}, {\"filters\": [{\"type\": \"number\", \"condition\": \"greater\", \"value\": 9.05}], \"operator\": \"And\"}]}, \"C\": {\"operator\": \"And\", \"filters\": []}, \"Date\": {\"operator\": \"And\", \"filters\": []}}]",
       "column_spreadsheet_code_json": "[{\"A\": \"\", \"B\": \"\", \"C\": \"\", \"Date\": \"\"}]",
       "column_type_json": "[{\"A\": \"string\", \"B\": \"number\", \"C\": \"string\", \"Date\": \"datetime\"}]",
       "df_names_json": "{\"df_names\": [\"df1\"]}",
       "df_shape_json": "[{\"rows\": 2, \"cols\": 4}]",
       "has_rendered": true,
       "is_local_deployment": true,
       "layout": "IPY_MODEL_7b559ba9634f41a4a3582520fa27f22b",
       "saved_analysis_names_json": "[\"111\", \"1111\", \"28\", \"Testing\", \"_3arkvynuo\", \"_419wxryas\", \"_49hlkjtgp\", \"_88amfqk2f\", \"_8b9x4aa2m\", \"_cb27694sr\", \"_gs9b8mudg\", \"_hexaujrz3\", \"_jtip39qtx\", \"_k4ce9w8om\", \"_ktv9i6xtb\", \"_nauipuq8o\", \"_ojtvedr82\", \"_rqyqe9rfu\", \"_yd64b4y4m\", \"test\", \"to_test\"]",
       "sheet_json": "[{\"columns\": [\"A\", \"B\", \"C\", \"Date\"], \"index\": [0, 1], \"data\": [[\"123\", 123, 123, \"2001-01-01 00:00:00\"], [\"1\", 1, \"1\", \"2002-01-01 00:00:00\"]]}]",
       "should_upgrade_mitosheet": false,
       "tutorial_mode": false,
       "user_email": "naterush1997@gmail.com",
       "value": "Hello World"
      }
     },
     "dc2df9383e1f46b98b1ea5786d37c6c4": {
      "model_module": "@jupyter-widgets/base",
      "model_module_version": "1.2.0",
      "model_name": "LayoutModel",
      "state": {}
     },
     "e2efcecdaee9488e8a2fb775775629e9": {
      "model_module": "@jupyter-widgets/base",
      "model_module_version": "1.2.0",
      "model_name": "LayoutModel",
      "state": {}
     },
     "ef6fde879be7442f94d623a723a890e6": {
      "model_module": "@jupyter-widgets/base",
      "model_module_version": "1.2.0",
      "model_name": "LayoutModel",
      "state": {}
     },
     "f441dd126ed04536bd346af51fcbef2c": {
      "model_module": "@jupyter-widgets/base",
      "model_module_version": "1.2.0",
      "model_name": "LayoutModel",
      "state": {}
     },
     "fbc47b1555f844158f8d471831e8a3bf": {
      "model_module": "mitosheet",
      "model_module_version": "^0.1.121",
      "model_name": "ExampleModel",
      "state": {
       "_model_module_version": "^0.1.121",
       "_view_module_version": "^0.1.121",
       "analysis_name": "UUID-3f642765-28c7-4a4e-9f9f-41bfdba6f692",
       "code_json": "{\"imports\": \"from mitosheet import *\", \"code\": [\"# Step 1\", \"df1 = df1[(df1['B'] < 1.05) & ((df1['B'] > 9.05))]\", \"df1 = df1.reset_index(drop=True)\"]}",
       "column_filters_json": "[{\"A\": {\"operator\": \"And\", \"filters\": []}, \"B\": {\"operator\": \"And\", \"filters\": [{\"type\": \"number\", \"condition\": \"less\", \"value\": 1.05}, {\"filters\": [{\"type\": \"number\", \"condition\": \"greater\", \"value\": 9.05}], \"operator\": \"And\"}]}, \"C\": {\"operator\": \"And\", \"filters\": []}, \"Date\": {\"operator\": \"And\", \"filters\": []}}]",
       "column_spreadsheet_code_json": "[{\"A\": \"\", \"B\": \"\", \"C\": \"\", \"Date\": \"\"}]",
       "column_type_json": "[{\"A\": \"string\", \"B\": \"number\", \"C\": \"string\", \"Date\": \"datetime\"}]",
       "df_names_json": "{\"df_names\": [\"df1\"]}",
       "df_shape_json": "[{\"rows\": 0, \"cols\": 4}]",
       "has_rendered": true,
       "is_local_deployment": true,
       "layout": "IPY_MODEL_e2efcecdaee9488e8a2fb775775629e9",
       "saved_analysis_names_json": "[\"111\", \"1111\", \"28\", \"Testing\", \"_3arkvynuo\", \"_419wxryas\", \"_49hlkjtgp\", \"_88amfqk2f\", \"_8b9x4aa2m\", \"_cb27694sr\", \"_gs9b8mudg\", \"_hexaujrz3\", \"_jtip39qtx\", \"_k4ce9w8om\", \"_ktv9i6xtb\", \"_nauipuq8o\", \"_ojtvedr82\", \"_rqyqe9rfu\", \"_yd64b4y4m\", \"test\", \"to_test\"]",
       "sheet_json": "[{\"columns\": [\"A\", \"B\", \"C\", \"Date\"], \"index\": [], \"data\": []}]",
       "should_upgrade_mitosheet": false,
       "tutorial_mode": false,
       "user_email": "naterush1997@gmail.com",
       "value": "Hello World"
      }
     }
    },
    "version_major": 2,
    "version_minor": 0
   }
  }
 },
 "nbformat": 4,
 "nbformat_minor": 5
}
