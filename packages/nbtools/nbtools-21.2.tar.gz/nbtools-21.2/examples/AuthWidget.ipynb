{
 "cells": [
  {
   "cell_type": "markdown",
   "metadata": {},
   "source": [
    "### __init__\n",
    "\n",
    "    - if gpserver is not None and valid --> register, login behind the scenes, display system message\n",
    "    - if gpserver is None or not valid --> prompt for login, lazily create gpserver\n",
    "        - on_login do do it from the top:  register, login behind the scenes, display system message"
   ]
  },
  {
   "cell_type": "code",
   "execution_count": 2,
   "metadata": {},
   "outputs": [
    {
     "data": {
      "application/vnd.jupyter.widget-view+json": {
       "model_id": "24253c6a8d574032a226e9911e98df60",
       "version_major": 2,
       "version_minor": 0
      },
      "text/plain": [
       "GPAuthWidget(buttons={'Register an Account': \"\\n    const target = event.target;\\n    const widget = target.cl…"
      ]
     },
     "metadata": {},
     "output_type": "display_data"
    },
    {
     "data": {
      "application/vnd.jupyter.widget-view+json": {
       "model_id": "0cbf3ef21f834510abe3cb17c4278c2a",
       "version_major": 2,
       "version_minor": 0
      },
      "text/plain": [
       "Output()"
      ]
     },
     "metadata": {},
     "output_type": "display_data"
    }
   ],
   "source": [
    "import genepattern\n",
    "import nbtools\n",
    "import gp\n",
    "\n",
    "foo = nbtools.tool(id='authentication', origin='+')\n",
    "foo"
   ]
  },
  {
   "cell_type": "code",
   "execution_count": 3,
   "metadata": {},
   "outputs": [
    {
     "data": {
      "application/vnd.jupyter.widget-view+json": {
       "model_id": "b2c9fe1d1c1042c4bfab6f5fab3c9c0c",
       "version_major": 2,
       "version_minor": 0
      },
      "text/plain": [
       "UIOutput(appendix=VBox(), files=['a', 'b', 'c'])"
      ]
     },
     "metadata": {},
     "output_type": "display_data"
    }
   ],
   "source": [
    "o = nbtools.UIOutput(files=['a', 'b', 'c'])\n",
    "o"
   ]
  },
  {
   "cell_type": "code",
   "execution_count": 4,
   "metadata": {},
   "outputs": [
    {
     "data": {
      "application/vnd.jupyter.widget-view+json": {
       "model_id": "19ff5e8c68e84148bd7e7fcb42eb3b05",
       "version_major": 2,
       "version_minor": 0
      },
      "text/plain": [
       "UIBuilder(collapse=True, description='HELLO', display_footer=False, form=InteractiveForm(children=(FileFormInp…"
      ]
     },
     "metadata": {},
     "output_type": "display_data"
    },
    {
     "data": {
      "application/vnd.jupyter.widget-view+json": {
       "model_id": "d3288bfd05a641aaaeff9e5f7f590ab5",
       "version_major": 2,
       "version_minor": 0
      },
      "text/plain": [
       "Output()"
      ]
     },
     "metadata": {},
     "output_type": "display_data"
    }
   ],
   "source": [
    "def foox(bar, choice):\n",
    "    \"\"\"HELLO\"\"\"\n",
    "    print(bar)\n",
    "ui_foo = nbtools.UIBuilder(foox, display_footer=False, parameters={\n",
    "    'bar': {'type': 'file', 'minimum': 2, 'maximum': 5}, \n",
    "    'choice': {'type': 'choice', 'multiple': True, 'choices': [\"ok\", \"go\"], 'default': 'ok'}\n",
    "})\n",
    "ui_foo"
   ]
  },
  {
   "cell_type": "code",
   "execution_count": 5,
   "metadata": {},
   "outputs": [],
   "source": [
    "from gp import GPJob\n",
    "def get_child_jobs(self):\n",
    "    \"\"\"\n",
    "    Queries the GenePattern server for child jobs of this job, creates GPJob\n",
    "    objects representing each of them and assigns the list of them to the\n",
    "    GPJob.children property. Then return this list.\n",
    "    \"\"\"\n",
    "    # Lazily load info\n",
    "    if self.info is None:\n",
    "        self.get_info()\n",
    "\n",
    "    # Lazily load children\n",
    "    if self.children:\n",
    "        return self.children\n",
    "    else:\n",
    "        if 'children' in self.info:\n",
    "            child_list = []\n",
    "            for child in self.info['children']['items']:\n",
    "                child_job = GPJob(self.server_data, child['jobId'])\n",
    "                child_job.info = child\n",
    "                child_job.load_info()\n",
    "                child_list.append(child_job)\n",
    "            return child_list\n",
    "        else:               # No children? Return empty list\n",
    "            return []\n",
    "gp.GPJob.get_child_jobs = get_child_jobs"
   ]
  },
  {
   "cell_type": "code",
   "execution_count": 5,
   "metadata": {},
   "outputs": [
    {
     "data": {
      "application/vnd.jupyter.widget-view+json": {
       "model_id": "f5ddd0ff952446219f90d17ae915ceb6",
       "version_major": 2,
       "version_minor": 0
      },
      "text/plain": [
       "GPTaskWidget(collapse=True, color='rgba(10, 45, 105, 0.80)', display_footer=False, display_header=False, error…"
      ]
     },
     "metadata": {},
     "output_type": "display_data"
    },
    {
     "data": {
      "application/vnd.jupyter.widget-view+json": {
       "model_id": "d0f3dbbeb3294f57a3928b89c5f4da6b",
       "version_major": 2,
       "version_minor": 0
      },
      "text/plain": [
       "Output()"
      ]
     },
     "metadata": {},
     "output_type": "display_data"
    }
   ],
   "source": [
    "from genepattern import GPTaskWidget\n",
    "# gpserver = gp.GPServer('https://cloud.genepattern.org/gp', 'tabor', 'bough07')\n",
    "gpserver = genepattern.session.get(0)\n",
    "task = gp.GPTask(gpserver, 'ConvertLineEndings')\n",
    "\n",
    "\n",
    "w = GPTaskWidget(task)\n",
    "display(w)"
   ]
  },
  {
   "cell_type": "code",
   "execution_count": 6,
   "metadata": {},
   "outputs": [
    {
     "data": {
      "application/vnd.jupyter.widget-view+json": {
       "model_id": "524a8e8d4536443f94def0b0fe81de9f",
       "version_major": 2,
       "version_minor": 0
      },
      "text/plain": [
       "GPJobWidget(appendix=VBox(), color='rgba(10, 45, 105, 0.80)', error='You must be authenticated before the job …"
      ]
     },
     "metadata": {},
     "output_type": "display_data"
    }
   ],
   "source": [
    "job = gp.GPJob(gpserver, 242699)\n",
    "jw = genepattern.GPJobWidget(job)\n",
    "jw"
   ]
  },
  {
   "cell_type": "code",
   "execution_count": 7,
   "metadata": {},
   "outputs": [
    {
     "data": {
      "application/vnd.jupyter.widget-view+json": {
       "model_id": "393c3ab4143742fea9dd870c78978087",
       "version_major": 2,
       "version_minor": 0
      },
      "text/plain": [
       "UIOutput(appendix=VBox(), error='Cannot find tool: GenePattern Cloud | urn:lsid:broad.mit.edu:cancer.software.…"
      ]
     },
     "metadata": {},
     "output_type": "display_data"
    },
    {
     "data": {
      "application/vnd.jupyter.widget-view+json": {
       "model_id": "ef240814b56b44b09bc3bd9b607afe5c",
       "version_major": 2,
       "version_minor": 0
      },
      "text/plain": [
       "Output(outputs=({'output_type': 'display_data', 'data': {}, 'metadata': {}},))"
      ]
     },
     "metadata": {},
     "output_type": "display_data"
    }
   ],
   "source": [
    "mhtq = nbtools.tool(id='urn:lsid:broad.mit.edu:cancer.software.genepattern.module.analysis:00376:0.93', origin='GenePattern Cloud')\n",
    "mhtq"
   ]
  },
  {
   "cell_type": "code",
   "execution_count": 8,
   "metadata": {},
   "outputs": [
    {
     "data": {
      "application/vnd.jupyter.widget-view+json": {
       "model_id": "f2b1e965c0984a2c9ce8d590438b3809",
       "version_major": 2,
       "version_minor": 0
      },
      "text/plain": [
       "GPJobWidget(appendix=VBox(), color='rgba(10, 45, 105, 0.80)', error='You must be authenticated before the job …"
      ]
     },
     "metadata": {},
     "output_type": "display_data"
    }
   ],
   "source": [
    "job_null = gp.GPJob(None, 242700)\n",
    "jw_null = genepattern.GPJobWidget(job_null)\n",
    "jw_null"
   ]
  },
  {
   "cell_type": "code",
   "execution_count": 9,
   "metadata": {},
   "outputs": [
    {
     "data": {
      "application/vnd.jupyter.widget-view+json": {
       "model_id": "2c16516aba62424cba71a6f230787f0a",
       "version_major": 2,
       "version_minor": 0
      },
      "text/plain": [
       "UIBuilder(collapse=True, form=InteractiveForm(children=(TextFormInput(value='', children=(Label(value='a*', de…"
      ]
     },
     "metadata": {},
     "output_type": "display_data"
    },
    {
     "data": {
      "application/vnd.jupyter.widget-view+json": {
       "model_id": "eb46ded1b5774484800d619a7c585b49",
       "version_major": 2,
       "version_minor": 0
      },
      "text/plain": [
       "Output()"
      ]
     },
     "metadata": {},
     "output_type": "display_data"
    }
   ],
   "source": [
    "@nbtools.build_ui(parameter_groups=[{\n",
    "    'name': 'Primary Group',\n",
    "    'description': 'Parameter values set by all users',\n",
    "    'parameters': ['c', 'l', 'a', 'n']\n",
    "}, {\n",
    "    'name': 'Secondary Group',\n",
    "    'parameters': ['b', 'e', 'd']\n",
    "}, {\n",
    "    'parameters': ['f', 'g', 'h', 'i', 'j', 'k', 'm']\n",
    "}])\n",
    "def param_group_test(a, b, c, d, e, f, g, h, i, j, k, l, m, n):\n",
    "    print(' '.join([a, b, c, d, e, f, g, h, i, j, k, l, m, n]))"
   ]
  },
  {
   "cell_type": "code",
   "execution_count": 10,
   "metadata": {},
   "outputs": [
    {
     "data": {
      "application/vnd.jupyter.widget-view+json": {
       "model_id": "6fefb295132a471b87e4e5e20ed7c9a5",
       "version_major": 2,
       "version_minor": 0
      },
      "text/plain": [
       "UIOutput(appendix=VBox(), error='Cannot find tool: GenePattern Cloud | urn:lsid:broad.mit.edu:cancer.software.…"
      ]
     },
     "metadata": {},
     "output_type": "display_data"
    },
    {
     "data": {
      "application/vnd.jupyter.widget-view+json": {
       "model_id": "b7a6c4b704cd4cafbd9298978158a1cc",
       "version_major": 2,
       "version_minor": 0
      },
      "text/plain": [
       "Output(outputs=({'output_type': 'display_data', 'data': {}, 'metadata': {}},))"
      ]
     },
     "metadata": {},
     "output_type": "display_data"
    }
   ],
   "source": [
    "nbtools.tool(id='urn:lsid:broad.mit.edu:cancer.software.genepattern.module.analysis:00002:2', origin='GenePattern Cloud')"
   ]
  }
 ],
 "metadata": {
  "kernelspec": {
   "display_name": "Python 3",
   "language": "python",
   "name": "python3"
  },
  "language_info": {
   "codemirror_mode": {
    "name": "ipython",
    "version": 3
   },
   "file_extension": ".py",
   "mimetype": "text/x-python",
   "name": "python",
   "nbconvert_exporter": "python",
   "pygments_lexer": "ipython3",
   "version": "3.7.6"
  },
  "widgets": {
   "application/vnd.jupyter.widget-state+json": {
    "state": {
     "0026084547c04e7f914528bcb542bbf0": {
      "model_module": "@jupyter-widgets/controls",
      "model_module_version": "1.5.0",
      "model_name": "TextModel",
      "state": {
       "_dom_classes": [
        "nbtools-menu-attached"
       ],
       "layout": "IPY_MODEL_60462367705e4305911d5b9ef1bb0f1b",
       "style": "IPY_MODEL_1b1080e5cd204aa18ee159ddbf014057"
      }
     },
     "00a430050ea44f56b2787e1e76685951": {
      "model_module": "@jupyter-widgets/base",
      "model_module_version": "1.2.0",
      "model_name": "LayoutModel",
      "state": {
       "grid_template_areas": "\n                    \"label input\"\n                    \". description\"\n                ",
       "grid_template_columns": "25% 75%",
       "grid_template_rows": "auto auto",
       "width": "100%"
      }
     },
     "00b4088043f547e3ae46534556d9aa20": {
      "model_module": "@jupyter-widgets/base",
      "model_module_version": "1.2.0",
      "model_name": "LayoutModel",
      "state": {
       "grid_area": "input",
       "width": "auto"
      }
     },
     "00d19535f5af4e64812c96677491e26f": {
      "model_module": "@jupyter-widgets/controls",
      "model_module_version": "1.5.0",
      "model_name": "LabelModel",
      "state": {
       "description": "m",
       "layout": "IPY_MODEL_da6a7c71214447cbb0d57836ab2f3ddf",
       "style": "IPY_MODEL_587e9e8b59d541d6b6f64f5fa75a4746",
       "value": "m*"
      }
     },
     "015ca1afea1e485d8f894a6f9e5e5f5d": {
      "model_module": "@jupyter-widgets/controls",
      "model_module_version": "1.5.0",
      "model_name": "ButtonStyleModel",
      "state": {}
     },
     "019e4100001d40ea8f70e6bc832c4ae6": {
      "model_module": "@jupyter-widgets/controls",
      "model_module_version": "1.5.0",
      "model_name": "GridBoxModel",
      "state": {
       "_dom_classes": [
        "nbtools-input",
        "nbtools-textinput",
        "required"
       ],
       "children": [
        "IPY_MODEL_421c33afb85947e9b13efb576f015121",
        "IPY_MODEL_fbd52bf4f7754c9fa30095ec495e422a",
        "IPY_MODEL_ec9014b9afd54a1483231d7b010638ff"
       ],
       "layout": "IPY_MODEL_6780fb56bc8a4c06b6264502ca512980"
      }
     },
     "021c77be408047aeac5a1120acc270b0": {
      "model_module": "@jupyter-widgets/base",
      "model_module_version": "1.2.0",
      "model_name": "LayoutModel",
      "state": {
       "grid_area": "label",
       "width": "auto"
      }
     },
     "029b31166bf048ce8ca7b359acb77139": {
      "model_module": "@jupyter-widgets/controls",
      "model_module_version": "1.5.0",
      "model_name": "DescriptionStyleModel",
      "state": {
       "description_width": ""
      }
     },
     "029e247fdeb94375980dbfa18932f4a4": {
      "model_module": "@jupyter-widgets/controls",
      "model_module_version": "1.5.0",
      "model_name": "HBoxModel",
      "state": {
       "children": [
        "IPY_MODEL_bff95d051ada4df0bf84b84dc5bc7c7f",
        "IPY_MODEL_f01a91d5759b47cbb6c837325937bee6"
       ],
       "layout": "IPY_MODEL_592e21b8cbb14fd6bfc3a2896690f157"
      }
     },
     "038421d922794c609f032e1187e8322d": {
      "model_module": "@jupyter-widgets/controls",
      "model_module_version": "1.5.0",
      "model_name": "DescriptionStyleModel",
      "state": {
       "description_width": ""
      }
     },
     "03e07d63148c4d6eb340732ec6cdaec9": {
      "model_module": "@jupyter-widgets/controls",
      "model_module_version": "1.5.0",
      "model_name": "SelectMultipleModel",
      "state": {
       "_options_labels": [
        "ok",
        "go"
       ],
       "index": [
        0
       ],
       "layout": "IPY_MODEL_ad7156624d1947a7ac2d65d06df4e867",
       "rows": 5,
       "style": "IPY_MODEL_cc632685f71f4b0b9f96e4e6675e57d8"
      }
     },
     "050c20130b9946f39e9f364b97258b9d": {
      "model_module": "@jupyter-widgets/base",
      "model_module_version": "1.2.0",
      "model_name": "LayoutModel",
      "state": {
       "grid_area": "label",
       "width": "auto"
      }
     },
     "061c2ed4cdb14938913fd735d43f570d": {
      "model_module": "@jupyter-widgets/base",
      "model_module_version": "1.2.0",
      "model_name": "LayoutModel",
      "state": {
       "grid_template_areas": "\n                    \"label input\"\n                    \". description\"\n                ",
       "grid_template_columns": "25% 75%",
       "grid_template_rows": "auto auto",
       "width": "100%"
      }
     },
     "06272968c16e439da9b1ec281ae7df71": {
      "model_module": "@jupyter-widgets/controls",
      "model_module_version": "1.5.0",
      "model_name": "LabelModel",
      "state": {
       "description": "output variable",
       "layout": "IPY_MODEL_7aae1ade0bb744b3a6799aa4a4414ac9",
       "style": "IPY_MODEL_c26a73e6d1384021916037169eab239d",
       "value": "output variable"
      }
     },
     "0700aa939fc346fdb5e326cc57a19bbb": {
      "model_module": "@jupyter-widgets/controls",
      "model_module_version": "1.5.0",
      "model_name": "LabelModel",
      "state": {
       "layout": "IPY_MODEL_b277856640654e00868eb80f6d2317b7",
       "style": "IPY_MODEL_6b43f215b8114149aa5d79aff0eecbc7"
      }
     },
     "079bafed9e9e4c4cba1f71f9096d9de0": {
      "model_module": "@jupyter-widgets/base",
      "model_module_version": "1.2.0",
      "model_name": "LayoutModel",
      "state": {
       "grid_area": "description",
       "width": "auto"
      }
     },
     "07b83979665d46a48e5113304083136c": {
      "model_module": "@jupyter-widgets/controls",
      "model_module_version": "1.5.0",
      "model_name": "DescriptionStyleModel",
      "state": {
       "description_width": ""
      }
     },
     "07c3f1d3ba794701ba04ccb34e04fceb": {
      "model_module": "@jupyter-widgets/base",
      "model_module_version": "1.2.0",
      "model_name": "LayoutModel",
      "state": {
       "grid_area": "description",
       "width": "auto"
      }
     },
     "080f8e2e4a8b42bda0d30ce5fc79cd2e": {
      "model_module": "@jupyter-widgets/controls",
      "model_module_version": "1.5.0",
      "model_name": "DescriptionStyleModel",
      "state": {
       "description_width": ""
      }
     },
     "0824170ebb814a10bd8c70722054a677": {
      "model_module": "@jupyter-widgets/controls",
      "model_module_version": "1.5.0",
      "model_name": "LabelModel",
      "state": {
       "layout": "IPY_MODEL_39ac3098413d4e1aadeecdfd576f2126",
       "style": "IPY_MODEL_bc372c2842bd43f09ee2a8b4d0dc883f"
      }
     },
     "089dea39e78745339bcdd86235a93a50": {
      "model_module": "@jupyter-widgets/controls",
      "model_module_version": "1.5.0",
      "model_name": "LabelModel",
      "state": {
       "description": "a",
       "layout": "IPY_MODEL_722e529eadec47119b60fa822ffa7c7d",
       "style": "IPY_MODEL_8668315d888f4b8e942dad16955f4a45",
       "value": "a*"
      }
     },
     "093728d9645840b790267d209e630c53": {
      "model_module": "@jupyter-widgets/controls",
      "model_module_version": "1.5.0",
      "model_name": "DescriptionStyleModel",
      "state": {
       "description_width": ""
      }
     },
     "0a5fc0342352471aba6a10c3fc84c289": {
      "model_module": "@jupyter-widgets/controls",
      "model_module_version": "1.5.0",
      "model_name": "DescriptionStyleModel",
      "state": {
       "description_width": ""
      }
     },
     "0a8761bc013c4f838c519aaa0a671d38": {
      "model_module": "@jupyter-widgets/base",
      "model_module_version": "1.2.0",
      "model_name": "LayoutModel",
      "state": {
       "grid_area": "description",
       "width": "auto"
      }
     },
     "0a8a1cab4a094b36a01cda3c1d260182": {
      "model_module": "@jupyter-widgets/base",
      "model_module_version": "1.2.0",
      "model_name": "LayoutModel",
      "state": {
       "grid_area": "input",
       "width": "auto"
      }
     },
     "0ab2aa7462124fe596859b93c3c1fe03": {
      "model_module": "@jupyter-widgets/controls",
      "model_module_version": "1.5.0",
      "model_name": "DescriptionStyleModel",
      "state": {
       "description_width": ""
      }
     },
     "0c5a7c7ad95443db93834090a64a50b9": {
      "model_module": "@jupyter-widgets/base",
      "model_module_version": "1.2.0",
      "model_name": "LayoutModel",
      "state": {
       "grid_area": "input",
       "width": "auto"
      }
     },
     "0c9a00d8ba3e4b4f95f7a0c81aadf355": {
      "model_module": "@jupyter-widgets/controls",
      "model_module_version": "1.5.0",
      "model_name": "DescriptionStyleModel",
      "state": {
       "description_width": ""
      }
     },
     "0cb029e017a0478d9db64072a6523257": {
      "model_module": "@jupyter-widgets/controls",
      "model_module_version": "1.5.0",
      "model_name": "DescriptionStyleModel",
      "state": {
       "description_width": ""
      }
     },
     "0cbf3ef21f834510abe3cb17c4278c2a": {
      "model_module": "@jupyter-widgets/output",
      "model_module_version": "1.0.0",
      "model_name": "OutputModel",
      "state": {
       "layout": "IPY_MODEL_df6de3b5d54f4292897b1b4f0bbc5169"
      }
     },
     "0d8e941d7f5c48e2ac4cf9708977419d": {
      "model_module": "@jupyter-widgets/controls",
      "model_module_version": "1.5.0",
      "model_name": "LabelModel",
      "state": {
       "description": "Username",
       "layout": "IPY_MODEL_b7d72b1c74434a9fb055489e08c441a9",
       "style": "IPY_MODEL_5969b62ab7e3415d99761fb63d6143ae",
       "value": "Username*"
      }
     },
     "0dace976ec61409381cfc4c1fb5e0b9c": {
      "model_module": "@jupyter-widgets/controls",
      "model_module_version": "1.5.0",
      "model_name": "DescriptionStyleModel",
      "state": {
       "description_width": ""
      }
     },
     "0e43755c5d374611b0e7f6c883a4060c": {
      "model_module": "@jupyter-widgets/controls",
      "model_module_version": "1.5.0",
      "model_name": "LabelModel",
      "state": {
       "layout": "IPY_MODEL_c3575e65599c463080d057712544e4d5",
       "style": "IPY_MODEL_56860776a85947538584a86aeb646e46"
      }
     },
     "0e9ae61c13b948d18239d0007968bbcb": {
      "model_module": "@jupyter-widgets/controls",
      "model_module_version": "1.5.0",
      "model_name": "DescriptionStyleModel",
      "state": {
       "description_width": ""
      }
     },
     "0f6a06d95cac4e12a507471aea50e3fa": {
      "model_module": "@jupyter-widgets/base",
      "model_module_version": "1.2.0",
      "model_name": "LayoutModel",
      "state": {}
     },
     "0f93ef9555ad4b6d90be876a9c8866fd": {
      "model_module": "@jupyter-widgets/controls",
      "model_module_version": "1.5.0",
      "model_name": "LabelModel",
      "state": {
       "layout": "IPY_MODEL_b3a0021f87b94d669a6fe94d1170b9f4",
       "style": "IPY_MODEL_a747a06491ca41aa874f2c611215f69c"
      }
     },
     "121179d7c8f9433eba4b7cebe389b916": {
      "model_module": "@jupyter-widgets/controls",
      "model_module_version": "1.5.0",
      "model_name": "LabelModel",
      "state": {
       "description": "l",
       "layout": "IPY_MODEL_4aca9649ce794eae8bc3b5506d682d69",
       "style": "IPY_MODEL_a5b1372efbee4abe848c2c0167a0b5eb",
       "value": "l*"
      }
     },
     "123bf812734644508341e090af92da64": {
      "model_module": "@jupyter-widgets/base",
      "model_module_version": "1.2.0",
      "model_name": "LayoutModel",
      "state": {
       "grid_area": "label",
       "width": "auto"
      }
     },
     "13a399486cad4de3a1caf5854f3aa07c": {
      "model_module": "@jupyter-widgets/controls",
      "model_module_version": "1.5.0",
      "model_name": "LabelModel",
      "state": {
       "layout": "IPY_MODEL_6ffda446755c4f69915cb314d811f074",
       "style": "IPY_MODEL_a80917a53ff24d6a93f3e60cc5305301"
      }
     },
     "142328bc507a4e2c86e70aa080e3f90f": {
      "model_module": "@jupyter-widgets/base",
      "model_module_version": "1.2.0",
      "model_name": "LayoutModel",
      "state": {}
     },
     "14dd26e1c4dd4d598b26055d7de41689": {
      "model_module": "@jupyter-widgets/base",
      "model_module_version": "1.2.0",
      "model_name": "LayoutModel",
      "state": {}
     },
     "15e942ef39264692bec2d1280cb9b399": {
      "model_module": "@jupyter-widgets/controls",
      "model_module_version": "1.5.0",
      "model_name": "DescriptionStyleModel",
      "state": {
       "description_width": ""
      }
     },
     "18df08489e64495b91fc8570232092ba": {
      "model_module": "@jupyter-widgets/controls",
      "model_module_version": "1.5.0",
      "model_name": "DescriptionStyleModel",
      "state": {
       "description_width": ""
      }
     },
     "18fbd82ee7aa4990a980c5495084e79e": {
      "model_module": "@jupyter-widgets/base",
      "model_module_version": "1.2.0",
      "model_name": "LayoutModel",
      "state": {}
     },
     "190f44f216af4cf894342bd6427fae3f": {
      "model_module": "@jupyter-widgets/controls",
      "model_module_version": "1.5.0",
      "model_name": "LabelModel",
      "state": {
       "layout": "IPY_MODEL_dacf7169065d4f6d91e1763039d854da",
       "style": "IPY_MODEL_b5c9093156ae45ac8ad68eb75577741d"
      }
     },
     "19f3eaae5f06475baeccde64d1075bfe": {
      "model_module": "@jupyter-widgets/base",
      "model_module_version": "1.2.0",
      "model_name": "LayoutModel",
      "state": {
       "grid_template_areas": "\n                    \"label input\"\n                    \". description\"\n                ",
       "grid_template_columns": "25% 75%",
       "grid_template_rows": "auto auto",
       "width": "100%"
      }
     },
     "19ff5e8c68e84148bd7e7fcb42eb3b05": {
      "model_module": "@genepattern/nbtools",
      "model_module_version": "^0.2.0",
      "model_name": "UIBuilderModel",
      "state": {
       "_dom_classes": [],
       "_model_module_version": "^0.2.0",
       "_parameters": [
        {
         "choices": {},
         "default": "",
         "description": "",
         "events": null,
         "hide": false,
         "id": null,
         "kinds": null,
         "label": "bar",
         "maximum": 5,
         "minimum": 2,
         "name": "bar",
         "optional": false,
         "type": "file",
         "value": ""
        },
        {
         "choices": [
          "ok",
          "go"
         ],
         "default": "ok",
         "description": "",
         "events": null,
         "hide": false,
         "id": null,
         "kinds": null,
         "label": "choice",
         "multiple": true,
         "name": "choice",
         "optional": false,
         "type": "choice",
         "value": ""
        },
        {
         "choices": {},
         "default": "",
         "description": "",
         "events": null,
         "hide": true,
         "id": null,
         "kinds": null,
         "label": "output variable",
         "name": "output_var",
         "optional": true,
         "type": "text",
         "value": ""
        }
       ],
       "_view_count": null,
       "_view_module_version": "^0.2.0",
       "description": "HELLO",
       "display_footer": false,
       "form": "IPY_MODEL_67c5d311e0f14488b1ad681558cae080",
       "layout": "IPY_MODEL_e746d047dc274644b60d5c0154dd8361",
       "name": "foox",
       "origin": "Notebook",
       "output": "IPY_MODEL_d3288bfd05a641aaaeff9e5f7f590ab5",
       "output_var": ""
      }
     },
     "1a8dc1eb7df34a59ad326915db950e1a": {
      "model_module": "@jupyter-widgets/base",
      "model_module_version": "1.2.0",
      "model_name": "LayoutModel",
      "state": {
       "grid_area": "description",
       "width": "auto"
      }
     },
     "1b1080e5cd204aa18ee159ddbf014057": {
      "model_module": "@jupyter-widgets/controls",
      "model_module_version": "1.5.0",
      "model_name": "DescriptionStyleModel",
      "state": {
       "description_width": ""
      }
     },
     "1b3260fa824c4b0f80369fd2a53b46f9": {
      "model_module": "@jupyter-widgets/controls",
      "model_module_version": "1.5.0",
      "model_name": "TextModel",
      "state": {
       "_dom_classes": [
        "nbtools-menu-attached"
       ],
       "layout": "IPY_MODEL_7dba586b70e446638ee845178cdf8203",
       "style": "IPY_MODEL_7ea091a65bdb482dbc96a33ca6507ed4"
      }
     },
     "1c902e904c6a4e349bfcbf45e2399ead": {
      "model_module": "@jupyter-widgets/controls",
      "model_module_version": "1.5.0",
      "model_name": "GridBoxModel",
      "state": {
       "_dom_classes": [
        "nbtools-input",
        "nbtools-textinput"
       ],
       "children": [
        "IPY_MODEL_06272968c16e439da9b1ec281ae7df71",
        "IPY_MODEL_4543b7d5c80343ef9173a49e5e4ae360",
        "IPY_MODEL_7f9f75cc7d714ad4bf28e5020d626a39"
       ],
       "layout": "IPY_MODEL_744076e88fb34c0490cbc4ac6d7b3622"
      }
     },
     "1cbd9f310b0548c9a54b91c28ee0709a": {
      "model_module": "@jupyter-widgets/controls",
      "model_module_version": "1.5.0",
      "model_name": "TextModel",
      "state": {
       "_dom_classes": [
        "nbtools-menu-attached"
       ],
       "layout": "IPY_MODEL_0a8a1cab4a094b36a01cda3c1d260182",
       "style": "IPY_MODEL_080f8e2e4a8b42bda0d30ce5fc79cd2e"
      }
     },
     "1d119a09ff8d44cb83dbe723e4bdec02": {
      "model_module": "@jupyter-widgets/base",
      "model_module_version": "1.2.0",
      "model_name": "LayoutModel",
      "state": {
       "grid_area": "description",
       "width": "auto"
      }
     },
     "1d461c4558ac44d0aa5e9fd9ce9fd0ab": {
      "model_module": "@jupyter-widgets/base",
      "model_module_version": "1.2.0",
      "model_name": "LayoutModel",
      "state": {}
     },
     "1e3c2f2de6a04bf187551f74dc3d7dba": {
      "model_module": "@jupyter-widgets/controls",
      "model_module_version": "1.5.0",
      "model_name": "ButtonModel",
      "state": {
       "_dom_classes": [
        "hidden"
       ],
       "description": "Run",
       "layout": "IPY_MODEL_9207d24695ac4c0d8451a31805be859c",
       "style": "IPY_MODEL_4a6cbfd90f5d4d629103efbec7c5be1b"
      }
     },
     "1ea69481fd36439c93c001d57ad2af6b": {
      "model_module": "@jupyter-widgets/base",
      "model_module_version": "1.2.0",
      "model_name": "LayoutModel",
      "state": {}
     },
     "1ee40bb4568940ccb5c25f281f98aad1": {
      "model_module": "@jupyter-widgets/base",
      "model_module_version": "1.2.0",
      "model_name": "LayoutModel",
      "state": {}
     },
     "213494c8d8cf4793b323be029a4ce70f": {
      "model_module": "@jupyter-widgets/controls",
      "model_module_version": "1.5.0",
      "model_name": "GridBoxModel",
      "state": {
       "_dom_classes": [
        "nbtools-input",
        "nbtools-textinput",
        "required"
       ],
       "children": [
        "IPY_MODEL_00d19535f5af4e64812c96677491e26f",
        "IPY_MODEL_1b3260fa824c4b0f80369fd2a53b46f9",
        "IPY_MODEL_0e43755c5d374611b0e7f6c883a4060c"
       ],
       "layout": "IPY_MODEL_746a73825e08485aa61c59d2d4c4919e"
      }
     },
     "2141751bbd594d77ac5ce88635ff5968": {
      "model_module": "@jupyter-widgets/controls",
      "model_module_version": "1.5.0",
      "model_name": "LabelModel",
      "state": {
       "description": "Password",
       "layout": "IPY_MODEL_849ef746962d4a5cae98e31a3e9e765e",
       "style": "IPY_MODEL_b14043390698416c9e76af6600fab714",
       "value": "Password*"
      }
     },
     "2150084eaf0e40668981925d6f54aca2": {
      "model_module": "@jupyter-widgets/controls",
      "model_module_version": "1.5.0",
      "model_name": "ButtonModel",
      "state": {
       "_dom_classes": [
        "hidden"
       ],
       "description": "Run",
       "layout": "IPY_MODEL_f60b656c1a124be6b88916ee23ad1160",
       "style": "IPY_MODEL_d66675e31cd047b0b31783e854a86e70"
      }
     },
     "219388492c4d42e4a569a4cc19e2c758": {
      "model_module": "@jupyter-widgets/controls",
      "model_module_version": "1.5.0",
      "model_name": "VBoxModel",
      "state": {
       "_dom_classes": [
        "widget-interact"
       ],
       "children": [
        "IPY_MODEL_f47ad72aeb504f3cad3bac7a00aada06",
        "IPY_MODEL_3b99a438f4614c3dab5d8f048ba78c63"
       ],
       "layout": "IPY_MODEL_5edadba1bde640b689424c36768cab6a"
      }
     },
     "21a5c6dd1ff2433f9ad4807c2d282391": {
      "model_module": "@jupyter-widgets/base",
      "model_module_version": "1.2.0",
      "model_name": "LayoutModel",
      "state": {
       "display": "none",
       "grid_template_areas": "\n                    \"label input\"\n                    \". description\"\n                ",
       "grid_template_columns": "25% 75%",
       "grid_template_rows": "auto auto",
       "width": "100%"
      }
     },
     "22836058a75a4e1cb998290664a4e6cd": {
      "model_module": "@jupyter-widgets/output",
      "model_module_version": "1.0.0",
      "model_name": "OutputModel",
      "state": {
       "layout": "IPY_MODEL_246a0fd00aae47fbb0e343c8cdd1862a"
      }
     },
     "229d82eff5344cb2a22e699c0814857f": {
      "model_module": "@jupyter-widgets/controls",
      "model_module_version": "1.5.0",
      "model_name": "LabelModel",
      "state": {
       "description": "bar",
       "layout": "IPY_MODEL_6bfc3688a68c4415a1b59e64cbbe85e3",
       "style": "IPY_MODEL_86120d428c804af08ecf4f2aaa018cda",
       "value": "bar*"
      }
     },
     "233889a82b3d4b71bd4fb20c08a7359e": {
      "model_module": "@jupyter-widgets/controls",
      "model_module_version": "1.5.0",
      "model_name": "DescriptionStyleModel",
      "state": {
       "description_width": ""
      }
     },
     "24253c6a8d574032a226e9911e98df60": {
      "model_module": "@genepattern/nbtools",
      "model_module_version": "^0.2.0",
      "model_name": "UIBuilderModel",
      "state": {
       "_dom_classes": [],
       "_model_module_version": "^0.2.0",
       "_parameters": [
        {
         "choices": {
          "Broad Internal": "https://gpbroad.broadinstitute.org/gp",
          "GenePattern Cloud": "https://cloud.genepattern.org/gp",
          "Indiana University": "https://gp.indiana.edu/gp"
         },
         "combo": true,
         "default": "https://cloud.genepattern.org/gp",
         "description": "",
         "events": null,
         "hide": false,
         "id": null,
         "kinds": null,
         "label": "GenePattern Server",
         "name": "server",
         "optional": false,
         "sendto": false,
         "type": "choice",
         "value": ""
        },
        {
         "choices": {},
         "default": "",
         "description": "",
         "events": null,
         "hide": false,
         "id": null,
         "kinds": null,
         "label": "Username",
         "name": "username",
         "optional": false,
         "sendto": false,
         "type": "text",
         "value": ""
        },
        {
         "choices": {},
         "default": "",
         "description": "",
         "events": null,
         "hide": false,
         "id": null,
         "kinds": null,
         "label": "Password",
         "name": "password",
         "optional": false,
         "sendto": false,
         "type": "password",
         "value": ""
        },
        {
         "choices": {},
         "default": "",
         "description": "",
         "events": null,
         "hide": true,
         "id": null,
         "kinds": null,
         "label": "output variable",
         "name": "output_var",
         "optional": true,
         "type": "text",
         "value": ""
        }
       ],
       "_view_count": null,
       "_view_module_version": "^0.2.0",
       "buttons": {
        "Register an Account": "\n    const target = event.target;\n    const widget = target.closest('.nbtools') || target;\n    const server_input = widget.querySelector('input[type=text]');\n    if (server_input) window.open(server_input.value + '/pages/registerUser.jsf');\n    else console.warn('Cannot obtain GenePattern Server URL');"
       },
       "collapse": false,
       "color": "rgba(10, 45, 105, 0.80)",
       "description": "Login to the GenePattern server",
       "display_header": false,
       "form": "IPY_MODEL_a7df4259c71e4af7b3ad2728d296ad5a",
       "layout": "IPY_MODEL_3256a73b75d1434e82d8900c952ffa10",
       "name": "Login",
       "origin": "genepattern.authwidget",
       "output": "IPY_MODEL_0cbf3ef21f834510abe3cb17c4278c2a",
       "output_var": "",
       "run_label": "Log into GenePattern"
      }
     },
     "246a0fd00aae47fbb0e343c8cdd1862a": {
      "model_module": "@jupyter-widgets/base",
      "model_module_version": "1.2.0",
      "model_name": "LayoutModel",
      "state": {}
     },
     "25daa00c22ab438eb8d2faba70773d15": {
      "model_module": "@jupyter-widgets/controls",
      "model_module_version": "1.5.0",
      "model_name": "GridBoxModel",
      "state": {
       "_dom_classes": [
        "nbtools-input",
        "nbtools-textinput",
        "required"
       ],
       "children": [
        "IPY_MODEL_314016972e964527a14883f1801be0dd",
        "IPY_MODEL_75c3a496ed5242b7bdd65671474a4dfd",
        "IPY_MODEL_cf40a1536dd74247820a074056fbbc62"
       ],
       "layout": "IPY_MODEL_ea7d7242d8a143d7b5d167060f8c2640"
      }
     },
     "26d5eb61373b46e798bc61b2b28ca1a6": {
      "model_module": "@jupyter-widgets/controls",
      "model_module_version": "1.5.0",
      "model_name": "DescriptionStyleModel",
      "state": {
       "description_width": ""
      }
     },
     "27c1fd472ebb45c1b833eabdcb072305": {
      "model_module": "@jupyter-widgets/controls",
      "model_module_version": "1.5.0",
      "model_name": "DescriptionStyleModel",
      "state": {
       "description_width": ""
      }
     },
     "27c240f1f38a48979702797d7e9fe1df": {
      "model_module": "@jupyter-widgets/controls",
      "model_module_version": "1.5.0",
      "model_name": "DescriptionStyleModel",
      "state": {
       "description_width": ""
      }
     },
     "28443c67ebed4850a7980379e4c0aac2": {
      "model_module": "@jupyter-widgets/controls",
      "model_module_version": "1.5.0",
      "model_name": "DescriptionStyleModel",
      "state": {
       "description_width": ""
      }
     },
     "284519d570bb468784ae10ef4c545206": {
      "model_module": "@jupyter-widgets/base",
      "model_module_version": "1.2.0",
      "model_name": "LayoutModel",
      "state": {
       "display": "none",
       "grid_template_areas": "\n                    \"label input\"\n                    \". description\"\n                ",
       "grid_template_columns": "25% 75%",
       "grid_template_rows": "auto auto",
       "width": "100%"
      }
     },
     "28fbb053b5854a29906b837399453e41": {
      "model_module": "@jupyter-widgets/controls",
      "model_module_version": "1.5.0",
      "model_name": "DescriptionStyleModel",
      "state": {
       "description_width": ""
      }
     },
     "2c1052c78cf14d26b8ff5eb43e65d113": {
      "model_module": "@jupyter-widgets/controls",
      "model_module_version": "1.5.0",
      "model_name": "VBoxModel",
      "state": {
       "layout": "IPY_MODEL_a845dfc3073b4093b791f9d93fc9d9a5"
      }
     },
     "2c16516aba62424cba71a6f230787f0a": {
      "model_module": "@genepattern/nbtools",
      "model_module_version": "^0.2.0",
      "model_name": "UIBuilderModel",
      "state": {
       "_dom_classes": [],
       "_model_module_version": "^0.2.0",
       "_parameters": [
        {
         "choices": {},
         "default": "",
         "description": "",
         "events": null,
         "hide": false,
         "id": null,
         "kinds": null,
         "label": "a",
         "name": "a",
         "optional": false,
         "type": "text",
         "value": ""
        },
        {
         "choices": {},
         "default": "",
         "description": "",
         "events": null,
         "hide": false,
         "id": null,
         "kinds": null,
         "label": "b",
         "name": "b",
         "optional": false,
         "type": "text",
         "value": ""
        },
        {
         "choices": {},
         "default": "",
         "description": "",
         "events": null,
         "hide": false,
         "id": null,
         "kinds": null,
         "label": "c",
         "name": "c",
         "optional": false,
         "type": "text",
         "value": ""
        },
        {
         "choices": {},
         "default": "",
         "description": "",
         "events": null,
         "hide": false,
         "id": null,
         "kinds": null,
         "label": "d",
         "name": "d",
         "optional": false,
         "type": "text",
         "value": ""
        },
        {
         "choices": {},
         "default": "",
         "description": "",
         "events": null,
         "hide": false,
         "id": null,
         "kinds": null,
         "label": "e",
         "name": "e",
         "optional": false,
         "type": "text",
         "value": ""
        },
        {
         "choices": {},
         "default": "",
         "description": "",
         "events": null,
         "hide": false,
         "id": null,
         "kinds": null,
         "label": "f",
         "name": "f",
         "optional": false,
         "type": "text",
         "value": ""
        },
        {
         "choices": {},
         "default": "",
         "description": "",
         "events": null,
         "hide": false,
         "id": null,
         "kinds": null,
         "label": "g",
         "name": "g",
         "optional": false,
         "type": "text",
         "value": ""
        },
        {
         "choices": {},
         "default": "",
         "description": "",
         "events": null,
         "hide": false,
         "id": null,
         "kinds": null,
         "label": "h",
         "name": "h",
         "optional": false,
         "type": "text",
         "value": ""
        },
        {
         "choices": {},
         "default": "",
         "description": "",
         "events": null,
         "hide": false,
         "id": null,
         "kinds": null,
         "label": "i",
         "name": "i",
         "optional": false,
         "type": "text",
         "value": ""
        },
        {
         "choices": {},
         "default": "",
         "description": "",
         "events": null,
         "hide": false,
         "id": null,
         "kinds": null,
         "label": "j",
         "name": "j",
         "optional": false,
         "type": "text",
         "value": ""
        },
        {
         "choices": {},
         "default": "",
         "description": "",
         "events": null,
         "hide": false,
         "id": null,
         "kinds": null,
         "label": "k",
         "name": "k",
         "optional": false,
         "type": "text",
         "value": ""
        },
        {
         "choices": {},
         "default": "",
         "description": "",
         "events": null,
         "hide": false,
         "id": null,
         "kinds": null,
         "label": "l",
         "name": "l",
         "optional": false,
         "type": "text",
         "value": ""
        },
        {
         "choices": {},
         "default": "",
         "description": "",
         "events": null,
         "hide": false,
         "id": null,
         "kinds": null,
         "label": "m",
         "name": "m",
         "optional": false,
         "type": "text",
         "value": ""
        },
        {
         "choices": {},
         "default": "",
         "description": "",
         "events": null,
         "hide": false,
         "id": null,
         "kinds": null,
         "label": "n",
         "name": "n",
         "optional": false,
         "type": "text",
         "value": ""
        },
        {
         "choices": {},
         "default": "",
         "description": "",
         "events": null,
         "hide": true,
         "id": null,
         "kinds": null,
         "label": "output variable",
         "name": "output_var",
         "optional": true,
         "type": "text",
         "value": ""
        }
       ],
       "_view_count": null,
       "_view_module_version": "^0.2.0",
       "form": "IPY_MODEL_86875b3148c94998bd4682f08188eb6b",
       "layout": "IPY_MODEL_317ec3399f764eed9397cfbd3977789a",
       "name": "param_group_test",
       "origin": "Notebook",
       "output": "IPY_MODEL_eb46ded1b5774484800d619a7c585b49",
       "output_var": "",
       "parameter_groups": [
        {
         "parameters": [
          "f",
          "g",
          "h",
          "i",
          "j",
          "k",
          "m"
         ]
        },
        {
         "name": "Secondary Group",
         "parameters": [
          "b",
          "e",
          "d"
         ]
        },
        {
         "description": "Parameter values set by all users",
         "name": "Primary Group",
         "parameters": [
          "c",
          "l",
          "a",
          "n"
         ]
        }
       ]
      }
     },
     "2d5658fbb5eb472abda2dd9bb2fa510b": {
      "model_module": "@jupyter-widgets/base",
      "model_module_version": "1.2.0",
      "model_name": "LayoutModel",
      "state": {
       "grid_area": "input",
       "width": "auto"
      }
     },
     "2d7b383659cb49ec9875cb029f50c730": {
      "model_module": "@jupyter-widgets/controls",
      "model_module_version": "1.5.0",
      "model_name": "ButtonStyleModel",
      "state": {}
     },
     "2ead0010b59143ba8f3261e153d8b32d": {
      "model_module": "@jupyter-widgets/output",
      "model_module_version": "1.0.0",
      "model_name": "OutputModel",
      "state": {
       "layout": "IPY_MODEL_422887bef296417c90440d9dece4bf16"
      }
     },
     "2f35687cbc9445e48c3934c132793e16": {
      "model_module": "@jupyter-widgets/base",
      "model_module_version": "1.2.0",
      "model_name": "LayoutModel",
      "state": {
       "grid_area": "input",
       "width": "auto"
      }
     },
     "2fbd3331857947bd95df5ecf3e57e983": {
      "model_module": "@jupyter-widgets/controls",
      "model_module_version": "1.5.0",
      "model_name": "LabelModel",
      "state": {
       "layout": "IPY_MODEL_8af76c1323a249c4a12b2df8e7e15d2b",
       "style": "IPY_MODEL_834f21d0a2584096834c964b7f146b19"
      }
     },
     "314016972e964527a14883f1801be0dd": {
      "model_module": "@jupyter-widgets/controls",
      "model_module_version": "1.5.0",
      "model_name": "LabelModel",
      "state": {
       "description": "h",
       "layout": "IPY_MODEL_6f993ba95787412596f567b8cc7e29e0",
       "style": "IPY_MODEL_af70c522b1c147bd90c38f37f8319dac",
       "value": "h*"
      }
     },
     "315db526ae9d4c439b5cc27f6ceb554e": {
      "model_module": "@jupyter-widgets/base",
      "model_module_version": "1.2.0",
      "model_name": "LayoutModel",
      "state": {
       "grid_area": "label",
       "width": "auto"
      }
     },
     "316440cba6f940e5a1795aba7502fd54": {
      "model_module": "@jupyter-widgets/controls",
      "model_module_version": "1.5.0",
      "model_name": "VBoxModel",
      "state": {
       "layout": "IPY_MODEL_d746e06d242a4ec590bb6c05b28e40f1"
      }
     },
     "317ec3399f764eed9397cfbd3977789a": {
      "model_module": "@jupyter-widgets/base",
      "model_module_version": "1.2.0",
      "model_name": "LayoutModel",
      "state": {}
     },
     "3256a73b75d1434e82d8900c952ffa10": {
      "model_module": "@jupyter-widgets/base",
      "model_module_version": "1.2.0",
      "model_name": "LayoutModel",
      "state": {}
     },
     "354c22254c374b9c9d9d580b62fc3755": {
      "model_module": "@jupyter-widgets/base",
      "model_module_version": "1.2.0",
      "model_name": "LayoutModel",
      "state": {
       "grid_area": "label",
       "width": "auto"
      }
     },
     "35c20acf62cf44b785e32031f86c13a9": {
      "model_module": "@jupyter-widgets/base",
      "model_module_version": "1.2.0",
      "model_name": "LayoutModel",
      "state": {}
     },
     "361750ed7f7f43bd9913d46d5b0ff7cf": {
      "model_module": "@jupyter-widgets/controls",
      "model_module_version": "1.5.0",
      "model_name": "LabelModel",
      "state": {
       "description": "output variable",
       "layout": "IPY_MODEL_6639dc083ff647d0b9e10ae5fbc4030b",
       "style": "IPY_MODEL_233889a82b3d4b71bd4fb20c08a7359e",
       "value": "output variable"
      }
     },
     "366629c95cce467cad9f60f157491ab5": {
      "model_module": "@jupyter-widgets/controls",
      "model_module_version": "1.5.0",
      "model_name": "DescriptionStyleModel",
      "state": {
       "description_width": ""
      }
     },
     "36ed59c5f6d84b82a9794411ea4aca47": {
      "model_module": "@jupyter-widgets/controls",
      "model_module_version": "1.5.0",
      "model_name": "ButtonStyleModel",
      "state": {}
     },
     "37b4abe20b10463aa731ac50ec5cb8ca": {
      "model_module": "@jupyter-widgets/controls",
      "model_module_version": "1.5.0",
      "model_name": "LabelModel",
      "state": {
       "layout": "IPY_MODEL_4764f907cd22415cabeaf1dfc62894c0",
       "style": "IPY_MODEL_dd5ee5b4d0ad42979bdedee70185adb7"
      }
     },
     "393c3ab4143742fea9dd870c78978087": {
      "model_module": "@genepattern/nbtools",
      "model_module_version": "^0.2.0",
      "model_name": "UIOutputModel",
      "state": {
       "_dom_classes": [],
       "_model_module_version": "^0.2.0",
       "_view_count": null,
       "_view_module_version": "^0.2.0",
       "appendix": "IPY_MODEL_658bd6aaa5a94ae1b7261277322fc5f8",
       "error": "Cannot find tool: GenePattern Cloud | urn:lsid:broad.mit.edu:cancer.software.genepattern.module.analysis:00376:0.93",
       "layout": "IPY_MODEL_1ea69481fd36439c93c001d57ad2af6b",
       "name": "Cannot find tool"
      }
     },
     "39ac3098413d4e1aadeecdfd576f2126": {
      "model_module": "@jupyter-widgets/base",
      "model_module_version": "1.2.0",
      "model_name": "LayoutModel",
      "state": {
       "grid_area": "description",
       "width": "auto"
      }
     },
     "3abd549262e24b379c8812b471089236": {
      "model_module": "@jupyter-widgets/base",
      "model_module_version": "1.2.0",
      "model_name": "LayoutModel",
      "state": {
       "grid_area": "input",
       "width": "auto"
      }
     },
     "3b2669e7a91e4637912cf58f0c9ec1fd": {
      "model_module": "@jupyter-widgets/base",
      "model_module_version": "1.2.0",
      "model_name": "LayoutModel",
      "state": {
       "grid_area": "description",
       "width": "auto"
      }
     },
     "3b495a149301430d86b196a679560f8b": {
      "model_module": "@jupyter-widgets/base",
      "model_module_version": "1.2.0",
      "model_name": "LayoutModel",
      "state": {
       "grid_area": "input",
       "width": "auto"
      }
     },
     "3b99a438f4614c3dab5d8f048ba78c63": {
      "model_module": "@jupyter-widgets/output",
      "model_module_version": "1.0.0",
      "model_name": "OutputModel",
      "state": {
       "layout": "IPY_MODEL_35c20acf62cf44b785e32031f86c13a9"
      }
     },
     "3bcdb222237d4e729ba2efc1f14be0b6": {
      "model_module": "@jupyter-widgets/controls",
      "model_module_version": "1.5.0",
      "model_name": "DescriptionStyleModel",
      "state": {
       "description_width": ""
      }
     },
     "3cd6ccf8f2b342f9911b172808cdd3f7": {
      "model_module": "@jupyter-widgets/base",
      "model_module_version": "1.2.0",
      "model_name": "LayoutModel",
      "state": {}
     },
     "3e6cb488eede439ebbe9b245b12faba7": {
      "model_module": "@jupyter-widgets/base",
      "model_module_version": "1.2.0",
      "model_name": "LayoutModel",
      "state": {
       "grid_template_areas": "\n                    \"label input\"\n                    \". description\"\n                ",
       "grid_template_columns": "25% 75%",
       "grid_template_rows": "auto auto",
       "width": "100%"
      }
     },
     "3f0801a08a61476ab13c82aa0657b19d": {
      "model_module": "@jupyter-widgets/controls",
      "model_module_version": "1.5.0",
      "model_name": "DescriptionStyleModel",
      "state": {
       "description_width": ""
      }
     },
     "3fc39177401e43e3859e035b23587f16": {
      "model_module": "@jupyter-widgets/controls",
      "model_module_version": "1.5.0",
      "model_name": "TextModel",
      "state": {
       "_dom_classes": [
        "nbtools-menu-attached"
       ],
       "layout": "IPY_MODEL_5cf6d693c4c24921ab725729d9d4774d",
       "style": "IPY_MODEL_57b5b0f1db4541dfb0fa2655a9586ceb"
      }
     },
     "40b4588e6a7a46afa1b2ce6573d24a5e": {
      "model_module": "@jupyter-widgets/controls",
      "model_module_version": "1.5.0",
      "model_name": "DescriptionStyleModel",
      "state": {
       "description_width": ""
      }
     },
     "40d5e84086f64c13969ac78cf42329eb": {
      "model_module": "@jupyter-widgets/controls",
      "model_module_version": "1.5.0",
      "model_name": "GridBoxModel",
      "state": {
       "_dom_classes": [
        "nbtools-input",
        "nbtools-textinput",
        "required"
       ],
       "children": [
        "IPY_MODEL_0d8e941d7f5c48e2ac4cf9708977419d",
        "IPY_MODEL_ab1ef74b46e94000a92b94021676248e",
        "IPY_MODEL_46b71c3cfc1244e3bff73cbd1f1f59cb"
       ],
       "layout": "IPY_MODEL_3e6cb488eede439ebbe9b245b12faba7"
      }
     },
     "41e1aa79ea99499ab3cdaf134efe9f11": {
      "model_module": "@jupyter-widgets/base",
      "model_module_version": "1.2.0",
      "model_name": "LayoutModel",
      "state": {
       "grid_template_areas": "\n                    \"label input\"\n                    \". description\"\n                ",
       "grid_template_columns": "25% 75%",
       "grid_template_rows": "auto auto",
       "width": "100%"
      }
     },
     "42007736a00f4149a14167647b82e181": {
      "model_module": "@jupyter-widgets/controls",
      "model_module_version": "1.5.0",
      "model_name": "LabelModel",
      "state": {
       "description": "GenePattern Server",
       "layout": "IPY_MODEL_e6091529384049bc9bcdfd20d545c3e0",
       "style": "IPY_MODEL_f5093a4d673e484ca84c056657e545a8",
       "value": "GenePattern Server*"
      }
     },
     "421c33afb85947e9b13efb576f015121": {
      "model_module": "@jupyter-widgets/controls",
      "model_module_version": "1.5.0",
      "model_name": "LabelModel",
      "state": {
       "description": "k",
       "layout": "IPY_MODEL_ed7b728cafa44f67a2925ed42df26ee6",
       "style": "IPY_MODEL_bc87037cabab446d85067ac8c95e1af3",
       "value": "k*"
      }
     },
     "422887bef296417c90440d9dece4bf16": {
      "model_module": "@jupyter-widgets/base",
      "model_module_version": "1.2.0",
      "model_name": "LayoutModel",
      "state": {}
     },
     "42d4e2f36c8a43fab4c56fc9b7bbde4b": {
      "model_module": "@jupyter-widgets/controls",
      "model_module_version": "1.5.0",
      "model_name": "GridBoxModel",
      "state": {
       "_dom_classes": [
        "nbtools-input",
        "nbtools-multiselectinput",
        "required"
       ],
       "children": [
        "IPY_MODEL_d8e99ee8a8c049459bb99fb530e188c2",
        "IPY_MODEL_03e07d63148c4d6eb340732ec6cdaec9",
        "IPY_MODEL_dc38429c0a5945438493702c5f678acf"
       ],
       "layout": "IPY_MODEL_41e1aa79ea99499ab3cdaf134efe9f11"
      }
     },
     "43e16aeecf03452faee6b6c3aa45e3b3": {
      "model_module": "@jupyter-widgets/controls",
      "model_module_version": "1.5.0",
      "model_name": "LabelModel",
      "state": {
       "layout": "IPY_MODEL_b95017d570f64750b83750191bbe2287",
       "style": "IPY_MODEL_e29599d0acda44119ce066d479c04b65"
      }
     },
     "4543b7d5c80343ef9173a49e5e4ae360": {
      "model_module": "@jupyter-widgets/controls",
      "model_module_version": "1.5.0",
      "model_name": "TextModel",
      "state": {
       "_dom_classes": [
        "nbtools-menu-attached"
       ],
       "layout": "IPY_MODEL_6efc117f77484e848f05fa340ee7dfde",
       "style": "IPY_MODEL_cb24e9fcca20461292653735e4c41b18"
      }
     },
     "45e0793d864047bdbd4d019b3292a918": {
      "model_module": "@jupyter-widgets/controls",
      "model_module_version": "1.5.0",
      "model_name": "TextModel",
      "state": {
       "_dom_classes": [
        "nbtools-menu-attached"
       ],
       "layout": "IPY_MODEL_c6f72bd94af94463bd7bbefd2106bb60",
       "style": "IPY_MODEL_d8bd8f2247ea42c1a1878dfe97d84f81"
      }
     },
     "460e6232a7794240a8e537313e3571c8": {
      "model_module": "@jupyter-widgets/controls",
      "model_module_version": "1.5.0",
      "model_name": "LabelModel",
      "state": {
       "layout": "IPY_MODEL_7bdc0cd264d74b96af12165acc577518",
       "style": "IPY_MODEL_66633c93857540809b85b084d744502e"
      }
     },
     "46b71c3cfc1244e3bff73cbd1f1f59cb": {
      "model_module": "@jupyter-widgets/controls",
      "model_module_version": "1.5.0",
      "model_name": "LabelModel",
      "state": {
       "layout": "IPY_MODEL_c03924b343dd4c81bd59ee25e22e1900",
       "style": "IPY_MODEL_63217cbbb7784ee488a1ab25f3dc2a91"
      }
     },
     "4764f907cd22415cabeaf1dfc62894c0": {
      "model_module": "@jupyter-widgets/base",
      "model_module_version": "1.2.0",
      "model_name": "LayoutModel",
      "state": {
       "grid_area": "description",
       "width": "auto"
      }
     },
     "4888ab14a6c84541866715c7d98c7561": {
      "model_module": "@jupyter-widgets/controls",
      "model_module_version": "1.5.0",
      "model_name": "LabelModel",
      "state": {
       "description": "output variable",
       "layout": "IPY_MODEL_123bf812734644508341e090af92da64",
       "style": "IPY_MODEL_99f36603675f46e78095f59fee77a3b8",
       "value": "output variable"
      }
     },
     "49016d04b6644cab988263de9df1a036": {
      "model_module": "@jupyter-widgets/base",
      "model_module_version": "1.2.0",
      "model_name": "LayoutModel",
      "state": {
       "grid_area": "label",
       "width": "auto"
      }
     },
     "4976b989ba284bc48d115012e5b91d6d": {
      "model_module": "@jupyter-widgets/controls",
      "model_module_version": "1.5.0",
      "model_name": "DescriptionStyleModel",
      "state": {
       "description_width": ""
      }
     },
     "4990057566d04489bd47bf047545308d": {
      "model_module": "@jupyter-widgets/controls",
      "model_module_version": "1.5.0",
      "model_name": "LabelModel",
      "state": {
       "description": "output variable",
       "layout": "IPY_MODEL_7fcd8c54dc854aaa8d444c435ddea47e",
       "style": "IPY_MODEL_15e942ef39264692bec2d1280cb9b399",
       "value": "output variable"
      }
     },
     "4a4503237a484d3ea148ceb70a09bad4": {
      "model_module": "@jupyter-widgets/controls",
      "model_module_version": "1.5.0",
      "model_name": "DescriptionStyleModel",
      "state": {
       "description_width": ""
      }
     },
     "4a6cbfd90f5d4d629103efbec7c5be1b": {
      "model_module": "@jupyter-widgets/controls",
      "model_module_version": "1.5.0",
      "model_name": "ButtonStyleModel",
      "state": {}
     },
     "4aca9649ce794eae8bc3b5506d682d69": {
      "model_module": "@jupyter-widgets/base",
      "model_module_version": "1.2.0",
      "model_name": "LayoutModel",
      "state": {
       "grid_area": "label",
       "width": "auto"
      }
     },
     "4b01b25c372942a9bc03b58ffd2be97a": {
      "model_module": "@jupyter-widgets/controls",
      "model_module_version": "1.5.0",
      "model_name": "LabelModel",
      "state": {
       "description": "output variable",
       "layout": "IPY_MODEL_c2224470b77f4cc6a73e6af45020abf5",
       "style": "IPY_MODEL_27c1fd472ebb45c1b833eabdcb072305",
       "value": "output variable"
      }
     },
     "4d62c4d885ca4e98bbd6eec97146c38f": {
      "model_module": "@jupyter-widgets/base",
      "model_module_version": "1.2.0",
      "model_name": "LayoutModel",
      "state": {
       "grid_area": "description",
       "width": "auto"
      }
     },
     "4dc7f07793844bf59e22672a52064583": {
      "model_module": "@jupyter-widgets/controls",
      "model_module_version": "1.5.0",
      "model_name": "GridBoxModel",
      "state": {
       "_dom_classes": [
        "nbtools-input",
        "nbtools-textinput"
       ],
       "children": [
        "IPY_MODEL_4888ab14a6c84541866715c7d98c7561",
        "IPY_MODEL_d02b7950fa0b442ea408f9faabde854a",
        "IPY_MODEL_a9a9eedcd4be42618d30fc4321d366f4"
       ],
       "layout": "IPY_MODEL_67b501b31fb0464d88b0d54b728cf90c"
      }
     },
     "4e6276d5f5904459a2dbc8cde9ff9bad": {
      "model_module": "@jupyter-widgets/controls",
      "model_module_version": "1.5.0",
      "model_name": "DescriptionStyleModel",
      "state": {
       "description_width": ""
      }
     },
     "4f15ce2dec6f455aac0a181208dcdc59": {
      "model_module": "@jupyter-widgets/base",
      "model_module_version": "1.2.0",
      "model_name": "LayoutModel",
      "state": {
       "display": "none",
       "grid_template_areas": "\n                    \"label input\"\n                    \". description\"\n                ",
       "grid_template_columns": "25% 75%",
       "grid_template_rows": "auto auto",
       "width": "100%"
      }
     },
     "4fd04a9df0a44da28cacb94ea7a82ce9": {
      "model_module": "@jupyter-widgets/controls",
      "model_module_version": "1.5.0",
      "model_name": "GridBoxModel",
      "state": {
       "_dom_classes": [
        "nbtools-input",
        "nbtools-textinput",
        "required"
       ],
       "children": [
        "IPY_MODEL_542c07427d3f41fa9728ebe2cfa4330e",
        "IPY_MODEL_c9de53e5c10946b988122c60e7c6c562",
        "IPY_MODEL_55e59325029b443581896b6ffc17233b"
       ],
       "layout": "IPY_MODEL_d25b7526123b4c338c4dee4d71dc8a72"
      }
     },
     "50223fe8dae64d7ba97d9b5cbece79f3": {
      "model_module": "@jupyter-widgets/base",
      "model_module_version": "1.2.0",
      "model_name": "LayoutModel",
      "state": {
       "grid_area": "description",
       "width": "auto"
      }
     },
     "524a8e8d4536443f94def0b0fe81de9f": {
      "model_module": "@genepattern/nbtools",
      "model_module_version": "^0.2.0",
      "model_name": "UIOutputModel",
      "state": {
       "_dom_classes": [],
       "_model_module_version": "^0.2.0",
       "_view_count": null,
       "_view_module_version": "^0.2.0",
       "appendix": "IPY_MODEL_f0792241fda541c8a40357f8e737fc73",
       "color": "rgba(10, 45, 105, 0.80)",
       "error": "You must be authenticated before the job can be displayed. After you authenticate it may take a few seconds for the information to appear.",
       "extra_menu_items": {
        "Share Job": {
         "action": "method",
         "code": "toggle_job_sharing"
        }
       },
       "layout": "IPY_MODEL_ad19da192c0d4be583bb5ef02d3439fc",
       "name": "Not Authenticated"
      }
     },
     "539a8687f0fa4c5a890f17941beecfeb": {
      "model_module": "@jupyter-widgets/controls",
      "model_module_version": "1.5.0",
      "model_name": "LabelModel",
      "state": {
       "description": "e",
       "layout": "IPY_MODEL_9f0ac283fe59496481a59a682d612ce7",
       "style": "IPY_MODEL_b85627e9db6948dcb6642512a85d1656",
       "value": "e*"
      }
     },
     "542c07427d3f41fa9728ebe2cfa4330e": {
      "model_module": "@jupyter-widgets/controls",
      "model_module_version": "1.5.0",
      "model_name": "LabelModel",
      "state": {
       "description": "i",
       "layout": "IPY_MODEL_d07f3b81026c485cbd72305c32d239d1",
       "style": "IPY_MODEL_07b83979665d46a48e5113304083136c",
       "value": "i*"
      }
     },
     "54759f235a734adf96e283c27afadcec": {
      "model_module": "@jupyter-widgets/controls",
      "model_module_version": "1.5.0",
      "model_name": "LabelModel",
      "state": {
       "description": "n",
       "layout": "IPY_MODEL_354c22254c374b9c9d9d580b62fc3755",
       "style": "IPY_MODEL_6af64f522eff4d8c88d57e3afc63350c",
       "value": "n*"
      }
     },
     "55919a0fcd71498f98ce7a53a69c1da0": {
      "model_module": "@jupyter-widgets/controls",
      "model_module_version": "1.5.0",
      "model_name": "GridBoxModel",
      "state": {
       "_dom_classes": [
        "nbtools-input",
        "nbtools-textinput",
        "required"
       ],
       "children": [
        "IPY_MODEL_fc91c8eace79460ba96b33bbb894ba5d",
        "IPY_MODEL_0026084547c04e7f914528bcb542bbf0",
        "IPY_MODEL_a5978c0d30e2486f9f18c4bf2084c32c"
       ],
       "layout": "IPY_MODEL_ef5fc005923c4b93a3a03dd49bd3b41d"
      }
     },
     "55e59325029b443581896b6ffc17233b": {
      "model_module": "@jupyter-widgets/controls",
      "model_module_version": "1.5.0",
      "model_name": "LabelModel",
      "state": {
       "layout": "IPY_MODEL_e0e96df8b0d149f2ab92b372670eafda",
       "style": "IPY_MODEL_83e5aa819fd34fe28155d0c25f827036"
      }
     },
     "564fb9d61b1f4f93bb89241b6269fbf3": {
      "model_module": "@jupyter-widgets/base",
      "model_module_version": "1.2.0",
      "model_name": "LayoutModel",
      "state": {
       "grid_area": "label",
       "width": "auto"
      }
     },
     "56860776a85947538584a86aeb646e46": {
      "model_module": "@jupyter-widgets/controls",
      "model_module_version": "1.5.0",
      "model_name": "DescriptionStyleModel",
      "state": {
       "description_width": ""
      }
     },
     "56a0bd1a4c944fd08e4ca25b5c6f3b2c": {
      "model_module": "@jupyter-widgets/base",
      "model_module_version": "1.2.0",
      "model_name": "LayoutModel",
      "state": {}
     },
     "574cdcd58113477d92a148f47720f8d4": {
      "model_module": "@jupyter-widgets/base",
      "model_module_version": "1.2.0",
      "model_name": "LayoutModel",
      "state": {}
     },
     "57b5b0f1db4541dfb0fa2655a9586ceb": {
      "model_module": "@jupyter-widgets/controls",
      "model_module_version": "1.5.0",
      "model_name": "DescriptionStyleModel",
      "state": {
       "description_width": ""
      }
     },
     "587e9e8b59d541d6b6f64f5fa75a4746": {
      "model_module": "@jupyter-widgets/controls",
      "model_module_version": "1.5.0",
      "model_name": "DescriptionStyleModel",
      "state": {
       "description_width": ""
      }
     },
     "592e21b8cbb14fd6bfc3a2896690f157": {
      "model_module": "@jupyter-widgets/base",
      "model_module_version": "1.2.0",
      "model_name": "LayoutModel",
      "state": {
       "grid_area": "input",
       "width": "auto"
      }
     },
     "5969b62ab7e3415d99761fb63d6143ae": {
      "model_module": "@jupyter-widgets/controls",
      "model_module_version": "1.5.0",
      "model_name": "DescriptionStyleModel",
      "state": {
       "description_width": ""
      }
     },
     "59c350c8a8014a719a8caef38f3b29f3": {
      "model_module": "@jupyter-widgets/controls",
      "model_module_version": "1.5.0",
      "model_name": "DescriptionStyleModel",
      "state": {
       "description_width": ""
      }
     },
     "5b53748ffb1448fcbd8e85c0314f98fe": {
      "model_module": "@jupyter-widgets/base",
      "model_module_version": "1.2.0",
      "model_name": "LayoutModel",
      "state": {}
     },
     "5cf6d693c4c24921ab725729d9d4774d": {
      "model_module": "@jupyter-widgets/base",
      "model_module_version": "1.2.0",
      "model_name": "LayoutModel",
      "state": {
       "grid_area": "input",
       "width": "auto"
      }
     },
     "5edadba1bde640b689424c36768cab6a": {
      "model_module": "@jupyter-widgets/base",
      "model_module_version": "1.2.0",
      "model_name": "LayoutModel",
      "state": {}
     },
     "5f0cfb086d83487c94ab6ce2c509b552": {
      "model_module": "@jupyter-widgets/controls",
      "model_module_version": "1.5.0",
      "model_name": "DescriptionStyleModel",
      "state": {
       "description_width": ""
      }
     },
     "5f26aaea65024a0ea3915fcffc374f98": {
      "model_module": "@jupyter-widgets/controls",
      "model_module_version": "1.5.0",
      "model_name": "DescriptionStyleModel",
      "state": {
       "description_width": ""
      }
     },
     "5f4da5942da94022a3204782fae50ef8": {
      "model_module": "@jupyter-widgets/controls",
      "model_module_version": "1.5.0",
      "model_name": "LabelModel",
      "state": {
       "layout": "IPY_MODEL_079bafed9e9e4c4cba1f71f9096d9de0",
       "style": "IPY_MODEL_0e9ae61c13b948d18239d0007968bbcb"
      }
     },
     "60462367705e4305911d5b9ef1bb0f1b": {
      "model_module": "@jupyter-widgets/base",
      "model_module_version": "1.2.0",
      "model_name": "LayoutModel",
      "state": {
       "grid_area": "input",
       "width": "auto"
      }
     },
     "60f9b174728341598567530860daad5f": {
      "model_module": "@jupyter-widgets/base",
      "model_module_version": "1.2.0",
      "model_name": "LayoutModel",
      "state": {
       "grid_template_areas": "\n                    \"label input\"\n                    \". description\"\n                ",
       "grid_template_columns": "25% 75%",
       "grid_template_rows": "auto auto",
       "width": "100%"
      }
     },
     "622732428b6b41ceb4420ed9a32e85b3": {
      "model_module": "@jupyter-widgets/controls",
      "model_module_version": "1.5.0",
      "model_name": "LabelModel",
      "state": {
       "description": "output variable",
       "layout": "IPY_MODEL_dddcd3736a1340be9f254eeac4864d0b",
       "style": "IPY_MODEL_3f0801a08a61476ab13c82aa0657b19d",
       "value": "output variable"
      }
     },
     "622fc769b1b64162ba2f1a68fa1df390": {
      "model_module": "@jupyter-widgets/base",
      "model_module_version": "1.2.0",
      "model_name": "LayoutModel",
      "state": {
       "grid_area": "description",
       "width": "auto"
      }
     },
     "62c07c05797c49e89996738e8698414c": {
      "model_module": "@jupyter-widgets/controls",
      "model_module_version": "1.5.0",
      "model_name": "ComboboxModel",
      "state": {
       "_dom_classes": [
        "nbtools-menu-attached",
        "nbtools-nosendto"
       ],
       "choices": {
        "Broad Internal": "https://gpbroad.broadinstitute.org/gp",
        "GenePattern Cloud": "https://cloud.genepattern.org/gp",
        "Indiana University": "https://gp.indiana.edu/gp"
       },
       "ensure_option": false,
       "kinds": [],
       "layout": "IPY_MODEL_69e71434561b4f8e95138980268e2931",
       "style": "IPY_MODEL_7b550b517cf14774b5efd6edab5662fc",
       "value": "https://cloud.genepattern.org/gp"
      }
     },
     "63217cbbb7784ee488a1ab25f3dc2a91": {
      "model_module": "@jupyter-widgets/controls",
      "model_module_version": "1.5.0",
      "model_name": "DescriptionStyleModel",
      "state": {
       "description_width": ""
      }
     },
     "6452647b42ee49639119438649977d16": {
      "model_module": "@jupyter-widgets/controls",
      "model_module_version": "1.5.0",
      "model_name": "ButtonStyleModel",
      "state": {}
     },
     "6496884abc9b40038fdbe1f3fd8a72fc": {
      "model_module": "@jupyter-widgets/base",
      "model_module_version": "1.2.0",
      "model_name": "LayoutModel",
      "state": {
       "grid_area": "description",
       "width": "auto"
      }
     },
     "64e5c769371d4c2a89194243af643e83": {
      "model_module": "@jupyter-widgets/controls",
      "model_module_version": "1.5.0",
      "model_name": "VBoxModel",
      "state": {
       "_dom_classes": [
        "widget-interact"
       ],
       "children": [
        "IPY_MODEL_f1319891172f481da0f2193de152bca2",
        "IPY_MODEL_2ead0010b59143ba8f3261e153d8b32d"
       ],
       "layout": "IPY_MODEL_e2bd9692260c4817829df4761578cd63"
      }
     },
     "6585dd3df75f4b73881644e5c98bbd0b": {
      "model_module": "@jupyter-widgets/controls",
      "model_module_version": "1.5.0",
      "model_name": "ComboboxModel",
      "state": {
       "_dom_classes": [
        "nbtools-menu-attached"
       ],
       "choices": {},
       "ensure_option": false,
       "kinds": [],
       "layout": "IPY_MODEL_a9037a32b03546788c76a176ee817d93",
       "style": "IPY_MODEL_0c9a00d8ba3e4b4f95f7a0c81aadf355"
      }
     },
     "658bd6aaa5a94ae1b7261277322fc5f8": {
      "model_module": "@jupyter-widgets/controls",
      "model_module_version": "1.5.0",
      "model_name": "VBoxModel",
      "state": {
       "layout": "IPY_MODEL_56a0bd1a4c944fd08e4ca25b5c6f3b2c"
      }
     },
     "660fb5d678c24f0484b25b4faaf007be": {
      "model_module": "@jupyter-widgets/controls",
      "model_module_version": "1.5.0",
      "model_name": "GridBoxModel",
      "state": {
       "_dom_classes": [
        "nbtools-input",
        "nbtools-passwordinput",
        "required"
       ],
       "children": [
        "IPY_MODEL_2141751bbd594d77ac5ce88635ff5968",
        "IPY_MODEL_c6b93338cb5b4a2e9947067a1c8eb506",
        "IPY_MODEL_460e6232a7794240a8e537313e3571c8"
       ],
       "layout": "IPY_MODEL_707325b89868445081232190739f5508"
      }
     },
     "6639dc083ff647d0b9e10ae5fbc4030b": {
      "model_module": "@jupyter-widgets/base",
      "model_module_version": "1.2.0",
      "model_name": "LayoutModel",
      "state": {
       "grid_area": "label",
       "width": "auto"
      }
     },
     "66633c93857540809b85b084d744502e": {
      "model_module": "@jupyter-widgets/controls",
      "model_module_version": "1.5.0",
      "model_name": "DescriptionStyleModel",
      "state": {
       "description_width": ""
      }
     },
     "6780fb56bc8a4c06b6264502ca512980": {
      "model_module": "@jupyter-widgets/base",
      "model_module_version": "1.2.0",
      "model_name": "LayoutModel",
      "state": {
       "grid_template_areas": "\n                    \"label input\"\n                    \". description\"\n                ",
       "grid_template_columns": "25% 75%",
       "grid_template_rows": "auto auto",
       "width": "100%"
      }
     },
     "67b501b31fb0464d88b0d54b728cf90c": {
      "model_module": "@jupyter-widgets/base",
      "model_module_version": "1.2.0",
      "model_name": "LayoutModel",
      "state": {
       "display": "none",
       "grid_template_areas": "\n                    \"label input\"\n                    \". description\"\n                ",
       "grid_template_columns": "25% 75%",
       "grid_template_rows": "auto auto",
       "width": "100%"
      }
     },
     "67c1f749987649ada123d972f0dbcb81": {
      "model_module": "@jupyter-widgets/controls",
      "model_module_version": "1.5.0",
      "model_name": "ComboboxModel",
      "state": {
       "_dom_classes": [
        "nbtools-menu-attached"
       ],
       "choices": {},
       "ensure_option": false,
       "kinds": [],
       "layout": "IPY_MODEL_be718672e1554cbda696825576f392ab",
       "style": "IPY_MODEL_d0c252429d81438ab1147b339bbd2287"
      }
     },
     "67c5d311e0f14488b1ad681558cae080": {
      "model_module": "@jupyter-widgets/controls",
      "model_module_version": "1.5.0",
      "model_name": "VBoxModel",
      "state": {
       "_dom_classes": [
        "widget-interact"
       ],
       "children": [
        "IPY_MODEL_af9aa4f0d8a2491ea5fa26cdd536164d",
        "IPY_MODEL_42d4e2f36c8a43fab4c56fc9b7bbde4b",
        "IPY_MODEL_f2859283e0984741ba7290f4ad60d1a6",
        "IPY_MODEL_1c902e904c6a4e349bfcbf45e2399ead"
       ],
       "layout": "IPY_MODEL_a3426129ff204cc48d183dc035b92de0"
      }
     },
     "695e72383b524441a3f413a87698f5cb": {
      "model_module": "@jupyter-widgets/base",
      "model_module_version": "1.2.0",
      "model_name": "LayoutModel",
      "state": {
       "grid_area": "label",
       "width": "auto"
      }
     },
     "69e71434561b4f8e95138980268e2931": {
      "model_module": "@jupyter-widgets/base",
      "model_module_version": "1.2.0",
      "model_name": "LayoutModel",
      "state": {
       "grid_area": "input",
       "width": "auto"
      }
     },
     "6aeeb64c9c8846858b07b750c09b9c47": {
      "model_module": "@jupyter-widgets/base",
      "model_module_version": "1.2.0",
      "model_name": "LayoutModel",
      "state": {}
     },
     "6af64f522eff4d8c88d57e3afc63350c": {
      "model_module": "@jupyter-widgets/controls",
      "model_module_version": "1.5.0",
      "model_name": "DescriptionStyleModel",
      "state": {
       "description_width": ""
      }
     },
     "6b43f215b8114149aa5d79aff0eecbc7": {
      "model_module": "@jupyter-widgets/controls",
      "model_module_version": "1.5.0",
      "model_name": "DescriptionStyleModel",
      "state": {
       "description_width": ""
      }
     },
     "6bb3cc3f7b1c4eabafa457e2252708d7": {
      "model_module": "@jupyter-widgets/controls",
      "model_module_version": "1.5.0",
      "model_name": "DescriptionStyleModel",
      "state": {
       "description_width": ""
      }
     },
     "6bfc3688a68c4415a1b59e64cbbe85e3": {
      "model_module": "@jupyter-widgets/base",
      "model_module_version": "1.2.0",
      "model_name": "LayoutModel",
      "state": {
       "grid_area": "label",
       "width": "auto"
      }
     },
     "6cc476800ef9474ca3c19de74cc93216": {
      "model_module": "@jupyter-widgets/controls",
      "model_module_version": "1.5.0",
      "model_name": "VBoxModel",
      "state": {
       "_dom_classes": [
        "widget-interact"
       ],
       "children": [
        "IPY_MODEL_fc214334d6a948a088d319580d38b8ba",
        "IPY_MODEL_22836058a75a4e1cb998290664a4e6cd"
       ],
       "layout": "IPY_MODEL_9625272b28724b25830239a56092a088"
      }
     },
     "6efc117f77484e848f05fa340ee7dfde": {
      "model_module": "@jupyter-widgets/base",
      "model_module_version": "1.2.0",
      "model_name": "LayoutModel",
      "state": {
       "grid_area": "input",
       "width": "auto"
      }
     },
     "6f77eadcbf3e41fc91bc14b5fc2757fc": {
      "model_module": "@jupyter-widgets/controls",
      "model_module_version": "1.5.0",
      "model_name": "GridBoxModel",
      "state": {
       "_dom_classes": [
        "nbtools-input",
        "nbtools-textinput"
       ],
       "children": [
        "IPY_MODEL_361750ed7f7f43bd9913d46d5b0ff7cf",
        "IPY_MODEL_ccfb56e6bacf47ae8cdd49f4a9c0f263",
        "IPY_MODEL_f0f2157770184ae89afd01dc2d629b2c"
       ],
       "layout": "IPY_MODEL_ae4c4a72ab184865813f30134355964b"
      }
     },
     "6f7dd20719f04408b5cfb52b39dc2082": {
      "model_module": "@jupyter-widgets/controls",
      "model_module_version": "1.5.0",
      "model_name": "DescriptionStyleModel",
      "state": {
       "description_width": ""
      }
     },
     "6f993ba95787412596f567b8cc7e29e0": {
      "model_module": "@jupyter-widgets/base",
      "model_module_version": "1.2.0",
      "model_name": "LayoutModel",
      "state": {
       "grid_area": "label",
       "width": "auto"
      }
     },
     "6fe0bd79f8214b018b1557e38c917da9": {
      "model_module": "@jupyter-widgets/base",
      "model_module_version": "1.2.0",
      "model_name": "LayoutModel",
      "state": {
       "grid_area": "input",
       "width": "auto"
      }
     },
     "6fefb295132a471b87e4e5e20ed7c9a5": {
      "model_module": "@genepattern/nbtools",
      "model_module_version": "^0.2.0",
      "model_name": "UIOutputModel",
      "state": {
       "_dom_classes": [],
       "_model_module_version": "^0.2.0",
       "_view_count": null,
       "_view_module_version": "^0.2.0",
       "appendix": "IPY_MODEL_cfe703b7e0c84771a6d5932bb7a9af2d",
       "error": "Cannot find tool: GenePattern Cloud | urn:lsid:broad.mit.edu:cancer.software.genepattern.module.analysis:00002:2",
       "layout": "IPY_MODEL_fe35b51f9ca44fb1b86cb9b5d26e7415",
       "name": "Cannot find tool"
      }
     },
     "6ffda446755c4f69915cb314d811f074": {
      "model_module": "@jupyter-widgets/base",
      "model_module_version": "1.2.0",
      "model_name": "LayoutModel",
      "state": {
       "grid_area": "description",
       "width": "auto"
      }
     },
     "707325b89868445081232190739f5508": {
      "model_module": "@jupyter-widgets/base",
      "model_module_version": "1.2.0",
      "model_name": "LayoutModel",
      "state": {
       "grid_template_areas": "\n                    \"label input\"\n                    \". description\"\n                ",
       "grid_template_columns": "25% 75%",
       "grid_template_rows": "auto auto",
       "width": "100%"
      }
     },
     "70fb4c03c6f3481ab6dea8e4c81b69f8": {
      "model_module": "@jupyter-widgets/controls",
      "model_module_version": "1.5.0",
      "model_name": "TextModel",
      "state": {
       "_dom_classes": [
        "nbtools-menu-attached"
       ],
       "layout": "IPY_MODEL_bf54440909bd476d99c5c9e61557f2fc",
       "style": "IPY_MODEL_dd48c8259c114e9985bce31793b6e1b5"
      }
     },
     "71b3f6c426644d008d6ff7868bcdd510": {
      "model_module": "@jupyter-widgets/controls",
      "model_module_version": "1.5.0",
      "model_name": "LabelModel",
      "state": {
       "layout": "IPY_MODEL_0a8761bc013c4f838c519aaa0a671d38",
       "style": "IPY_MODEL_9a13bfbaca5a45fcb205f155f6267af9"
      }
     },
     "722e529eadec47119b60fa822ffa7c7d": {
      "model_module": "@jupyter-widgets/base",
      "model_module_version": "1.2.0",
      "model_name": "LayoutModel",
      "state": {
       "grid_area": "label",
       "width": "auto"
      }
     },
     "738d8dcfa2234acf8581a88ee7107b46": {
      "model_module": "@jupyter-widgets/controls",
      "model_module_version": "1.5.0",
      "model_name": "DescriptionStyleModel",
      "state": {
       "description_width": ""
      }
     },
     "741b8b0dab94452581c82d87f6d1a278": {
      "model_module": "@jupyter-widgets/base",
      "model_module_version": "1.2.0",
      "model_name": "LayoutModel",
      "state": {}
     },
     "744076e88fb34c0490cbc4ac6d7b3622": {
      "model_module": "@jupyter-widgets/base",
      "model_module_version": "1.2.0",
      "model_name": "LayoutModel",
      "state": {
       "display": "none",
       "grid_template_areas": "\n                    \"label input\"\n                    \". description\"\n                ",
       "grid_template_columns": "25% 75%",
       "grid_template_rows": "auto auto",
       "width": "100%"
      }
     },
     "746a73825e08485aa61c59d2d4c4919e": {
      "model_module": "@jupyter-widgets/base",
      "model_module_version": "1.2.0",
      "model_name": "LayoutModel",
      "state": {
       "grid_template_areas": "\n                    \"label input\"\n                    \". description\"\n                ",
       "grid_template_columns": "25% 75%",
       "grid_template_rows": "auto auto",
       "width": "100%"
      }
     },
     "7528683502a445c1812887beb6372cea": {
      "model_module": "@jupyter-widgets/base",
      "model_module_version": "1.2.0",
      "model_name": "LayoutModel",
      "state": {
       "grid_area": "description",
       "width": "auto"
      }
     },
     "75c3a496ed5242b7bdd65671474a4dfd": {
      "model_module": "@jupyter-widgets/controls",
      "model_module_version": "1.5.0",
      "model_name": "TextModel",
      "state": {
       "_dom_classes": [
        "nbtools-menu-attached"
       ],
       "layout": "IPY_MODEL_b50006aebf904c6286e6268bbe98a0d5",
       "style": "IPY_MODEL_c1573a5a1b4e46a18e79871daff35386"
      }
     },
     "777eb4831541476c8e614306e3a4232c": {
      "model_module": "@jupyter-widgets/controls",
      "model_module_version": "1.5.0",
      "model_name": "TextModel",
      "state": {
       "_dom_classes": [
        "nbtools-menu-attached"
       ],
       "layout": "IPY_MODEL_d53c7c6729714076a6fc7422c7d91e81",
       "style": "IPY_MODEL_27c240f1f38a48979702797d7e9fe1df"
      }
     },
     "79efdbea57c34f609de4d1e93f747478": {
      "model_module": "@jupyter-widgets/controls",
      "model_module_version": "1.5.0",
      "model_name": "TextModel",
      "state": {
       "_dom_classes": [
        "nbtools-menu-attached"
       ],
       "layout": "IPY_MODEL_b74e566a28a04308ad9724425955ea04",
       "style": "IPY_MODEL_a800c03238a24c07831d40d784122b95"
      }
     },
     "7aae1ade0bb744b3a6799aa4a4414ac9": {
      "model_module": "@jupyter-widgets/base",
      "model_module_version": "1.2.0",
      "model_name": "LayoutModel",
      "state": {
       "grid_area": "label",
       "width": "auto"
      }
     },
     "7b550b517cf14774b5efd6edab5662fc": {
      "model_module": "@jupyter-widgets/controls",
      "model_module_version": "1.5.0",
      "model_name": "DescriptionStyleModel",
      "state": {
       "description_width": ""
      }
     },
     "7b85201e56f34cd8a00b78093e389f85": {
      "model_module": "@jupyter-widgets/controls",
      "model_module_version": "1.5.0",
      "model_name": "ButtonStyleModel",
      "state": {}
     },
     "7b9240fab5c1405b8fd10099ab0e534f": {
      "model_module": "@jupyter-widgets/base",
      "model_module_version": "1.2.0",
      "model_name": "LayoutModel",
      "state": {}
     },
     "7bdc0cd264d74b96af12165acc577518": {
      "model_module": "@jupyter-widgets/base",
      "model_module_version": "1.2.0",
      "model_name": "LayoutModel",
      "state": {
       "grid_area": "description",
       "width": "auto"
      }
     },
     "7c41fae993634d52be4cf5515a75de57": {
      "model_module": "@jupyter-widgets/controls",
      "model_module_version": "1.5.0",
      "model_name": "GridBoxModel",
      "state": {
       "_dom_classes": [
        "nbtools-input",
        "nbtools-textinput",
        "required"
       ],
       "children": [
        "IPY_MODEL_121179d7c8f9433eba4b7cebe389b916",
        "IPY_MODEL_a1801ad39fee45cea3c80112c01f43c1",
        "IPY_MODEL_cc94c206f0034028a70c87587820df58"
       ],
       "layout": "IPY_MODEL_99a4d00f5dd348ae99976557715acd3b"
      }
     },
     "7d72c7af4deb4e6a92c540e90833ea80": {
      "model_module": "@jupyter-widgets/controls",
      "model_module_version": "1.5.0",
      "model_name": "DescriptionStyleModel",
      "state": {
       "description_width": ""
      }
     },
     "7dba586b70e446638ee845178cdf8203": {
      "model_module": "@jupyter-widgets/base",
      "model_module_version": "1.2.0",
      "model_name": "LayoutModel",
      "state": {
       "grid_area": "input",
       "width": "auto"
      }
     },
     "7ea091a65bdb482dbc96a33ca6507ed4": {
      "model_module": "@jupyter-widgets/controls",
      "model_module_version": "1.5.0",
      "model_name": "DescriptionStyleModel",
      "state": {
       "description_width": ""
      }
     },
     "7f7b046f50dd4bfeacb3c0ac1bb4995b": {
      "model_module": "@jupyter-widgets/base",
      "model_module_version": "1.2.0",
      "model_name": "LayoutModel",
      "state": {
       "grid_area": "input",
       "width": "auto"
      }
     },
     "7f9db4361ef24f248b67171c88088c64": {
      "model_module": "@jupyter-widgets/controls",
      "model_module_version": "1.5.0",
      "model_name": "TextModel",
      "state": {
       "_dom_classes": [
        "nbtools-menu-attached"
       ],
       "layout": "IPY_MODEL_0c5a7c7ad95443db93834090a64a50b9",
       "style": "IPY_MODEL_6f7dd20719f04408b5cfb52b39dc2082"
      }
     },
     "7f9f75cc7d714ad4bf28e5020d626a39": {
      "model_module": "@jupyter-widgets/controls",
      "model_module_version": "1.5.0",
      "model_name": "LabelModel",
      "state": {
       "layout": "IPY_MODEL_6496884abc9b40038fdbe1f3fd8a72fc",
       "style": "IPY_MODEL_0a5fc0342352471aba6a10c3fc84c289"
      }
     },
     "7fcd8c54dc854aaa8d444c435ddea47e": {
      "model_module": "@jupyter-widgets/base",
      "model_module_version": "1.2.0",
      "model_name": "LayoutModel",
      "state": {
       "grid_area": "label",
       "width": "auto"
      }
     },
     "81f3f06c5324431faccedfa3cf58bd42": {
      "model_module": "@jupyter-widgets/controls",
      "model_module_version": "1.5.0",
      "model_name": "TextModel",
      "state": {
       "_dom_classes": [
        "nbtools-menu-attached"
       ],
       "layout": "IPY_MODEL_fcda8e168f7649ce82fa323b91797d49",
       "style": "IPY_MODEL_9a7ee923b76f48fdbd39c9f7bfc31899"
      }
     },
     "834f21d0a2584096834c964b7f146b19": {
      "model_module": "@jupyter-widgets/controls",
      "model_module_version": "1.5.0",
      "model_name": "DescriptionStyleModel",
      "state": {
       "description_width": ""
      }
     },
     "836a7b874eb44bc381371fca087b4fcf": {
      "model_module": "@jupyter-widgets/output",
      "model_module_version": "1.0.0",
      "model_name": "OutputModel",
      "state": {
       "layout": "IPY_MODEL_e8e250fd20684c11bba2b33be0fe27c3"
      }
     },
     "83e5aa819fd34fe28155d0c25f827036": {
      "model_module": "@jupyter-widgets/controls",
      "model_module_version": "1.5.0",
      "model_name": "DescriptionStyleModel",
      "state": {
       "description_width": ""
      }
     },
     "849ef746962d4a5cae98e31a3e9e765e": {
      "model_module": "@jupyter-widgets/base",
      "model_module_version": "1.2.0",
      "model_name": "LayoutModel",
      "state": {
       "grid_area": "label",
       "width": "auto"
      }
     },
     "86120d428c804af08ecf4f2aaa018cda": {
      "model_module": "@jupyter-widgets/controls",
      "model_module_version": "1.5.0",
      "model_name": "DescriptionStyleModel",
      "state": {
       "description_width": ""
      }
     },
     "8628129ccc8744789331c5a2e116119b": {
      "model_module": "@jupyter-widgets/controls",
      "model_module_version": "1.5.0",
      "model_name": "GridBoxModel",
      "state": {
       "_dom_classes": [
        "nbtools-input",
        "nbtools-textinput"
       ],
       "children": [
        "IPY_MODEL_9f6b9dc214f54fe7a17c011ba63c1a6b",
        "IPY_MODEL_db5e29a8b6aa48059af4595dc808d009",
        "IPY_MODEL_43e16aeecf03452faee6b6c3aa45e3b3"
       ],
       "layout": "IPY_MODEL_cacb9ffdb0cc4af6ab87c030bfa6a6f7"
      }
     },
     "8668315d888f4b8e942dad16955f4a45": {
      "model_module": "@jupyter-widgets/controls",
      "model_module_version": "1.5.0",
      "model_name": "DescriptionStyleModel",
      "state": {
       "description_width": ""
      }
     },
     "86875b3148c94998bd4682f08188eb6b": {
      "model_module": "@jupyter-widgets/controls",
      "model_module_version": "1.5.0",
      "model_name": "VBoxModel",
      "state": {
       "_dom_classes": [
        "widget-interact"
       ],
       "children": [
        "IPY_MODEL_c0d184d4a77343ea99e2bdf544e63c3b",
        "IPY_MODEL_8c81b8d07ace4b0ba1e99a1d67c98054",
        "IPY_MODEL_8f4743ec1bf049d79c98708a138b7fce",
        "IPY_MODEL_55919a0fcd71498f98ce7a53a69c1da0",
        "IPY_MODEL_cc660888f8534bfea812c57799475484",
        "IPY_MODEL_ca7e1fe31e9e4f298d663c42b25f7b9c",
        "IPY_MODEL_d77ec2b1522141eeb17d6e7127d9b7df",
        "IPY_MODEL_25daa00c22ab438eb8d2faba70773d15",
        "IPY_MODEL_4fd04a9df0a44da28cacb94ea7a82ce9",
        "IPY_MODEL_b69173304a05449e80f978fbee91404c",
        "IPY_MODEL_019e4100001d40ea8f70e6bc832c4ae6",
        "IPY_MODEL_7c41fae993634d52be4cf5515a75de57",
        "IPY_MODEL_213494c8d8cf4793b323be029a4ce70f",
        "IPY_MODEL_fe4981d68a0c44cebf2f496f1d876fad",
        "IPY_MODEL_2150084eaf0e40668981925d6f54aca2",
        "IPY_MODEL_b255b896f54b495e8392ff2d2ece6ca4"
       ],
       "layout": "IPY_MODEL_d01cee505077451f9c71a70c13e74c2c"
      }
     },
     "8af76c1323a249c4a12b2df8e7e15d2b": {
      "model_module": "@jupyter-widgets/base",
      "model_module_version": "1.2.0",
      "model_name": "LayoutModel",
      "state": {
       "grid_area": "description",
       "width": "auto"
      }
     },
     "8c81b8d07ace4b0ba1e99a1d67c98054": {
      "model_module": "@jupyter-widgets/controls",
      "model_module_version": "1.5.0",
      "model_name": "GridBoxModel",
      "state": {
       "_dom_classes": [
        "nbtools-input",
        "nbtools-textinput",
        "required"
       ],
       "children": [
        "IPY_MODEL_fa2aca66c1c84c328f64b6fac1445c1e",
        "IPY_MODEL_45e0793d864047bdbd4d019b3292a918",
        "IPY_MODEL_5f4da5942da94022a3204782fae50ef8"
       ],
       "layout": "IPY_MODEL_d75c504f41e04b70b4752335f974daf2"
      }
     },
     "8cc3cd8d688246a495406c7d20539c8a": {
      "model_module": "@jupyter-widgets/controls",
      "model_module_version": "1.5.0",
      "model_name": "LabelModel",
      "state": {
       "layout": "IPY_MODEL_7528683502a445c1812887beb6372cea",
       "style": "IPY_MODEL_7d72c7af4deb4e6a92c540e90833ea80"
      }
     },
     "8e27663ca5f8473481c6ef5448aee14c": {
      "model_module": "@jupyter-widgets/base",
      "model_module_version": "1.2.0",
      "model_name": "LayoutModel",
      "state": {}
     },
     "8f4743ec1bf049d79c98708a138b7fce": {
      "model_module": "@jupyter-widgets/controls",
      "model_module_version": "1.5.0",
      "model_name": "GridBoxModel",
      "state": {
       "_dom_classes": [
        "nbtools-input",
        "nbtools-textinput",
        "required"
       ],
       "children": [
        "IPY_MODEL_b66a8dfee8b540f4ac1881ade88bfa1c",
        "IPY_MODEL_79efdbea57c34f609de4d1e93f747478",
        "IPY_MODEL_eb2d01a70fad449496bb5f85df051aa1"
       ],
       "layout": "IPY_MODEL_e484e0e42c494c72bb1ffea58296dbba"
      }
     },
     "91839f98368a494c9da772194829f502": {
      "model_module": "@jupyter-widgets/controls",
      "model_module_version": "1.5.0",
      "model_name": "ButtonModel",
      "state": {
       "_dom_classes": [
        "hidden"
       ],
       "description": "Run",
       "layout": "IPY_MODEL_6aeeb64c9c8846858b07b750c09b9c47",
       "style": "IPY_MODEL_36ed59c5f6d84b82a9794411ea4aca47"
      }
     },
     "9207d24695ac4c0d8451a31805be859c": {
      "model_module": "@jupyter-widgets/base",
      "model_module_version": "1.2.0",
      "model_name": "LayoutModel",
      "state": {}
     },
     "9219e8f095644e559147a2800808fede": {
      "model_module": "@jupyter-widgets/controls",
      "model_module_version": "1.5.0",
      "model_name": "ButtonModel",
      "state": {
       "_dom_classes": [
        "hidden"
       ],
       "description": "Run",
       "layout": "IPY_MODEL_aadfe0772ae540b9b7ba7d1e4fe131f6",
       "style": "IPY_MODEL_f78c660fb08f4d44931ad46a072452bf"
      }
     },
     "9625272b28724b25830239a56092a088": {
      "model_module": "@jupyter-widgets/base",
      "model_module_version": "1.2.0",
      "model_name": "LayoutModel",
      "state": {}
     },
     "99a4d00f5dd348ae99976557715acd3b": {
      "model_module": "@jupyter-widgets/base",
      "model_module_version": "1.2.0",
      "model_name": "LayoutModel",
      "state": {
       "grid_template_areas": "\n                    \"label input\"\n                    \". description\"\n                ",
       "grid_template_columns": "25% 75%",
       "grid_template_rows": "auto auto",
       "width": "100%"
      }
     },
     "99f36603675f46e78095f59fee77a3b8": {
      "model_module": "@jupyter-widgets/controls",
      "model_module_version": "1.5.0",
      "model_name": "DescriptionStyleModel",
      "state": {
       "description_width": ""
      }
     },
     "9a13bfbaca5a45fcb205f155f6267af9": {
      "model_module": "@jupyter-widgets/controls",
      "model_module_version": "1.5.0",
      "model_name": "DescriptionStyleModel",
      "state": {
       "description_width": ""
      }
     },
     "9a7ee923b76f48fdbd39c9f7bfc31899": {
      "model_module": "@jupyter-widgets/controls",
      "model_module_version": "1.5.0",
      "model_name": "DescriptionStyleModel",
      "state": {
       "description_width": ""
      }
     },
     "9af71389667448c9a738395264030589": {
      "model_module": "@jupyter-widgets/controls",
      "model_module_version": "1.5.0",
      "model_name": "DescriptionStyleModel",
      "state": {
       "description_width": ""
      }
     },
     "9d4a3a1ba31b439fa1caabce66a7a510": {
      "model_module": "@jupyter-widgets/base",
      "model_module_version": "1.2.0",
      "model_name": "LayoutModel",
      "state": {
       "grid_template_areas": "\n                    \"label input\"\n                    \". description\"\n                ",
       "grid_template_columns": "25% 75%",
       "grid_template_rows": "auto auto",
       "width": "100%"
      }
     },
     "9e4d1ce6eaf84f81ac6f8dd466004544": {
      "model_module": "@jupyter-widgets/controls",
      "model_module_version": "1.5.0",
      "model_name": "DescriptionStyleModel",
      "state": {
       "description_width": ""
      }
     },
     "9f0ac283fe59496481a59a682d612ce7": {
      "model_module": "@jupyter-widgets/base",
      "model_module_version": "1.2.0",
      "model_name": "LayoutModel",
      "state": {
       "grid_area": "label",
       "width": "auto"
      }
     },
     "9f117bbc395b46ad90e108a00eed6c73": {
      "model_module": "@jupyter-widgets/controls",
      "model_module_version": "1.5.0",
      "model_name": "VBoxModel",
      "state": {
       "_dom_classes": [
        "widget-interact"
       ],
       "children": [
        "IPY_MODEL_9219e8f095644e559147a2800808fede",
        "IPY_MODEL_edf80b47f40648e3b9b3d3b8224a53ad"
       ],
       "layout": "IPY_MODEL_aad9ee4a049844c59eceac6142508882"
      }
     },
     "9f37cbc1481a4087b210ad4597c81d82": {
      "model_module": "@jupyter-widgets/base",
      "model_module_version": "1.2.0",
      "model_name": "LayoutModel",
      "state": {
       "grid_area": "input",
       "width": "auto"
      }
     },
     "9f5f6740002242a4bfc047272d5a700f": {
      "model_module": "@jupyter-widgets/base",
      "model_module_version": "1.2.0",
      "model_name": "LayoutModel",
      "state": {
       "grid_area": "description",
       "width": "auto"
      }
     },
     "9f6b9dc214f54fe7a17c011ba63c1a6b": {
      "model_module": "@jupyter-widgets/controls",
      "model_module_version": "1.5.0",
      "model_name": "LabelModel",
      "state": {
       "description": "output variable",
       "layout": "IPY_MODEL_021c77be408047aeac5a1120acc270b0",
       "style": "IPY_MODEL_4976b989ba284bc48d115012e5b91d6d",
       "value": "output variable"
      }
     },
     "9f882676f0e042cca5beb32ace8f20ce": {
      "model_module": "@jupyter-widgets/controls",
      "model_module_version": "1.5.0",
      "model_name": "DescriptionStyleModel",
      "state": {
       "description_width": ""
      }
     },
     "9f8b2bb507d3467181bc49a484ea4882": {
      "model_module": "@jupyter-widgets/controls",
      "model_module_version": "1.5.0",
      "model_name": "DescriptionStyleModel",
      "state": {
       "description_width": ""
      }
     },
     "9fb8f591df7b45fdad9eec984223757a": {
      "model_module": "@jupyter-widgets/base",
      "model_module_version": "1.2.0",
      "model_name": "LayoutModel",
      "state": {
       "grid_area": "description",
       "width": "auto"
      }
     },
     "a07666c4bc924f8397606ebc65eaf15e": {
      "model_module": "@jupyter-widgets/base",
      "model_module_version": "1.2.0",
      "model_name": "LayoutModel",
      "state": {
       "display": "none",
       "grid_template_areas": "\n                    \"label input\"\n                    \". description\"\n                ",
       "grid_template_columns": "25% 75%",
       "grid_template_rows": "auto auto",
       "width": "100%"
      }
     },
     "a1801ad39fee45cea3c80112c01f43c1": {
      "model_module": "@jupyter-widgets/controls",
      "model_module_version": "1.5.0",
      "model_name": "TextModel",
      "state": {
       "_dom_classes": [
        "nbtools-menu-attached"
       ],
       "layout": "IPY_MODEL_6fe0bd79f8214b018b1557e38c917da9",
       "style": "IPY_MODEL_038421d922794c609f032e1187e8322d"
      }
     },
     "a3426129ff204cc48d183dc035b92de0": {
      "model_module": "@jupyter-widgets/base",
      "model_module_version": "1.2.0",
      "model_name": "LayoutModel",
      "state": {}
     },
     "a5978c0d30e2486f9f18c4bf2084c32c": {
      "model_module": "@jupyter-widgets/controls",
      "model_module_version": "1.5.0",
      "model_name": "LabelModel",
      "state": {
       "layout": "IPY_MODEL_d0fd6874cb784f35bab08556a97b15ff",
       "style": "IPY_MODEL_0ab2aa7462124fe596859b93c3c1fe03"
      }
     },
     "a5ac8965edaa44789ee810e77f30a804": {
      "model_module": "@jupyter-widgets/controls",
      "model_module_version": "1.5.0",
      "model_name": "ButtonStyleModel",
      "state": {}
     },
     "a5b1372efbee4abe848c2c0167a0b5eb": {
      "model_module": "@jupyter-widgets/controls",
      "model_module_version": "1.5.0",
      "model_name": "DescriptionStyleModel",
      "state": {
       "description_width": ""
      }
     },
     "a747a06491ca41aa874f2c611215f69c": {
      "model_module": "@jupyter-widgets/controls",
      "model_module_version": "1.5.0",
      "model_name": "DescriptionStyleModel",
      "state": {
       "description_width": ""
      }
     },
     "a75010f4b4c9458c87bf3f9f76110ac9": {
      "model_module": "@jupyter-widgets/base",
      "model_module_version": "1.2.0",
      "model_name": "LayoutModel",
      "state": {
       "grid_area": "input",
       "width": "auto"
      }
     },
     "a7df4259c71e4af7b3ad2728d296ad5a": {
      "model_module": "@jupyter-widgets/controls",
      "model_module_version": "1.5.0",
      "model_name": "VBoxModel",
      "state": {
       "_dom_classes": [
        "widget-interact"
       ],
       "children": [
        "IPY_MODEL_d6711f75199c4f288c52104cef07ada5",
        "IPY_MODEL_40d5e84086f64c13969ac78cf42329eb",
        "IPY_MODEL_660fb5d678c24f0484b25b4faaf007be",
        "IPY_MODEL_91839f98368a494c9da772194829f502",
        "IPY_MODEL_8628129ccc8744789331c5a2e116119b"
       ],
       "layout": "IPY_MODEL_574cdcd58113477d92a148f47720f8d4"
      }
     },
     "a800c03238a24c07831d40d784122b95": {
      "model_module": "@jupyter-widgets/controls",
      "model_module_version": "1.5.0",
      "model_name": "DescriptionStyleModel",
      "state": {
       "description_width": ""
      }
     },
     "a80917a53ff24d6a93f3e60cc5305301": {
      "model_module": "@jupyter-widgets/controls",
      "model_module_version": "1.5.0",
      "model_name": "DescriptionStyleModel",
      "state": {
       "description_width": ""
      }
     },
     "a845dfc3073b4093b791f9d93fc9d9a5": {
      "model_module": "@jupyter-widgets/base",
      "model_module_version": "1.2.0",
      "model_name": "LayoutModel",
      "state": {}
     },
     "a9037a32b03546788c76a176ee817d93": {
      "model_module": "@jupyter-widgets/base",
      "model_module_version": "1.2.0",
      "model_name": "LayoutModel",
      "state": {}
     },
     "a9a9eedcd4be42618d30fc4321d366f4": {
      "model_module": "@jupyter-widgets/controls",
      "model_module_version": "1.5.0",
      "model_name": "LabelModel",
      "state": {
       "layout": "IPY_MODEL_4d62c4d885ca4e98bbd6eec97146c38f",
       "style": "IPY_MODEL_fe596b50e64c46f8a8dbc668841dba4e"
      }
     },
     "aad9ee4a049844c59eceac6142508882": {
      "model_module": "@jupyter-widgets/base",
      "model_module_version": "1.2.0",
      "model_name": "LayoutModel",
      "state": {}
     },
     "aadfe0772ae540b9b7ba7d1e4fe131f6": {
      "model_module": "@jupyter-widgets/base",
      "model_module_version": "1.2.0",
      "model_name": "LayoutModel",
      "state": {}
     },
     "ab1ef74b46e94000a92b94021676248e": {
      "model_module": "@jupyter-widgets/controls",
      "model_module_version": "1.5.0",
      "model_name": "TextModel",
      "state": {
       "_dom_classes": [
        "nbtools-menu-attached"
       ],
       "layout": "IPY_MODEL_9f37cbc1481a4087b210ad4597c81d82",
       "style": "IPY_MODEL_40b4588e6a7a46afa1b2ce6573d24a5e"
      }
     },
     "ad19da192c0d4be583bb5ef02d3439fc": {
      "model_module": "@jupyter-widgets/base",
      "model_module_version": "1.2.0",
      "model_name": "LayoutModel",
      "state": {}
     },
     "ad5803e5f48745f399193b1c27f8b9ae": {
      "model_module": "@jupyter-widgets/controls",
      "model_module_version": "1.5.0",
      "model_name": "DescriptionStyleModel",
      "state": {
       "description_width": ""
      }
     },
     "ad7156624d1947a7ac2d65d06df4e867": {
      "model_module": "@jupyter-widgets/base",
      "model_module_version": "1.2.0",
      "model_name": "LayoutModel",
      "state": {
       "grid_area": "input",
       "width": "auto"
      }
     },
     "ae4c4a72ab184865813f30134355964b": {
      "model_module": "@jupyter-widgets/base",
      "model_module_version": "1.2.0",
      "model_name": "LayoutModel",
      "state": {
       "display": "none",
       "grid_template_areas": "\n                    \"label input\"\n                    \". description\"\n                ",
       "grid_template_columns": "25% 75%",
       "grid_template_rows": "auto auto",
       "width": "100%"
      }
     },
     "af530310f5f94533b675953e84d1267a": {
      "model_module": "@jupyter-widgets/controls",
      "model_module_version": "1.5.0",
      "model_name": "DescriptionStyleModel",
      "state": {
       "description_width": ""
      }
     },
     "af70c522b1c147bd90c38f37f8319dac": {
      "model_module": "@jupyter-widgets/controls",
      "model_module_version": "1.5.0",
      "model_name": "DescriptionStyleModel",
      "state": {
       "description_width": ""
      }
     },
     "af9aa4f0d8a2491ea5fa26cdd536164d": {
      "model_module": "@jupyter-widgets/controls",
      "model_module_version": "1.5.0",
      "model_name": "GridBoxModel",
      "state": {
       "_dom_classes": [
        "nbtools-input",
        "nbtools-fileinput",
        "required"
       ],
       "children": [
        "IPY_MODEL_229d82eff5344cb2a22e699c0814857f",
        "IPY_MODEL_029e247fdeb94375980dbfa18932f4a4",
        "IPY_MODEL_cbd762fdc10e416d80822793f34dfd8c"
       ],
       "layout": "IPY_MODEL_60f9b174728341598567530860daad5f"
      }
     },
     "b14043390698416c9e76af6600fab714": {
      "model_module": "@jupyter-widgets/controls",
      "model_module_version": "1.5.0",
      "model_name": "DescriptionStyleModel",
      "state": {
       "description_width": ""
      }
     },
     "b255b896f54b495e8392ff2d2ece6ca4": {
      "model_module": "@jupyter-widgets/controls",
      "model_module_version": "1.5.0",
      "model_name": "GridBoxModel",
      "state": {
       "_dom_classes": [
        "nbtools-input",
        "nbtools-textinput"
       ],
       "children": [
        "IPY_MODEL_622732428b6b41ceb4420ed9a32e85b3",
        "IPY_MODEL_beef801b3ddd4756b1384e85a0cddda9",
        "IPY_MODEL_71b3f6c426644d008d6ff7868bcdd510"
       ],
       "layout": "IPY_MODEL_a07666c4bc924f8397606ebc65eaf15e"
      }
     },
     "b2736e7e13b14568bd4ae48bd0113c85": {
      "model_module": "@jupyter-widgets/controls",
      "model_module_version": "1.5.0",
      "model_name": "TextModel",
      "state": {
       "_dom_classes": [
        "nbtools-menu-attached"
       ],
       "layout": "IPY_MODEL_2d5658fbb5eb472abda2dd9bb2fa510b",
       "style": "IPY_MODEL_9af71389667448c9a738395264030589"
      }
     },
     "b277856640654e00868eb80f6d2317b7": {
      "model_module": "@jupyter-widgets/base",
      "model_module_version": "1.2.0",
      "model_name": "LayoutModel",
      "state": {
       "grid_area": "description",
       "width": "auto"
      }
     },
     "b2c9fe1d1c1042c4bfab6f5fab3c9c0c": {
      "model_module": "@genepattern/nbtools",
      "model_module_version": "^0.2.0",
      "model_name": "UIOutputModel",
      "state": {
       "_dom_classes": [],
       "_model_module_version": "^0.2.0",
       "_view_count": null,
       "_view_module_version": "^0.2.0",
       "appendix": "IPY_MODEL_2c1052c78cf14d26b8ff5eb43e65d113",
       "files": [
        "a",
        "b",
        "c"
       ],
       "layout": "IPY_MODEL_d3a88b85cdf244e983f3c8278e9587bc"
      }
     },
     "b319e9d7af3646d183fa05ddf2fc3994": {
      "model_module": "@jupyter-widgets/base",
      "model_module_version": "1.2.0",
      "model_name": "LayoutModel",
      "state": {}
     },
     "b3a0021f87b94d669a6fe94d1170b9f4": {
      "model_module": "@jupyter-widgets/base",
      "model_module_version": "1.2.0",
      "model_name": "LayoutModel",
      "state": {
       "grid_area": "description",
       "width": "auto"
      }
     },
     "b4ff2830ea014ce0a666dee71c1735f9": {
      "model_module": "@jupyter-widgets/controls",
      "model_module_version": "1.5.0",
      "model_name": "GridBoxModel",
      "state": {
       "_dom_classes": [
        "nbtools-input",
        "nbtools-textinput"
       ],
       "children": [
        "IPY_MODEL_4b01b25c372942a9bc03b58ffd2be97a",
        "IPY_MODEL_70fb4c03c6f3481ab6dea8e4c81b69f8",
        "IPY_MODEL_2fbd3331857947bd95df5ecf3e57e983"
       ],
       "layout": "IPY_MODEL_284519d570bb468784ae10ef4c545206"
      }
     },
     "b50006aebf904c6286e6268bbe98a0d5": {
      "model_module": "@jupyter-widgets/base",
      "model_module_version": "1.2.0",
      "model_name": "LayoutModel",
      "state": {
       "grid_area": "input",
       "width": "auto"
      }
     },
     "b5651d4933b64b4aa0e508f78d8f2a14": {
      "model_module": "@jupyter-widgets/output",
      "model_module_version": "1.0.0",
      "model_name": "OutputModel",
      "state": {
       "layout": "IPY_MODEL_1d461c4558ac44d0aa5e9fd9ce9fd0ab"
      }
     },
     "b5c9093156ae45ac8ad68eb75577741d": {
      "model_module": "@jupyter-widgets/controls",
      "model_module_version": "1.5.0",
      "model_name": "DescriptionStyleModel",
      "state": {
       "description_width": ""
      }
     },
     "b6491551c0ab4e20a0038ddae25f1f55": {
      "model_module": "@jupyter-widgets/base",
      "model_module_version": "1.2.0",
      "model_name": "LayoutModel",
      "state": {
       "grid_area": "label",
       "width": "auto"
      }
     },
     "b656f5f0b34543b19bb2505fe4a31879": {
      "model_module": "@jupyter-widgets/base",
      "model_module_version": "1.2.0",
      "model_name": "LayoutModel",
      "state": {}
     },
     "b66a8dfee8b540f4ac1881ade88bfa1c": {
      "model_module": "@jupyter-widgets/controls",
      "model_module_version": "1.5.0",
      "model_name": "LabelModel",
      "state": {
       "description": "c",
       "layout": "IPY_MODEL_695e72383b524441a3f413a87698f5cb",
       "style": "IPY_MODEL_28fbb053b5854a29906b837399453e41",
       "value": "c*"
      }
     },
     "b69173304a05449e80f978fbee91404c": {
      "model_module": "@jupyter-widgets/controls",
      "model_module_version": "1.5.0",
      "model_name": "GridBoxModel",
      "state": {
       "_dom_classes": [
        "nbtools-input",
        "nbtools-textinput",
        "required"
       ],
       "children": [
        "IPY_MODEL_f44b1583b762411cae51de2ef028a718",
        "IPY_MODEL_dbfc883cff2f4aedb81aaceb9c5bc36c",
        "IPY_MODEL_8cc3cd8d688246a495406c7d20539c8a"
       ],
       "layout": "IPY_MODEL_00a430050ea44f56b2787e1e76685951"
      }
     },
     "b74e566a28a04308ad9724425955ea04": {
      "model_module": "@jupyter-widgets/base",
      "model_module_version": "1.2.0",
      "model_name": "LayoutModel",
      "state": {
       "grid_area": "input",
       "width": "auto"
      }
     },
     "b7a6c4b704cd4cafbd9298978158a1cc": {
      "model_module": "@jupyter-widgets/output",
      "model_module_version": "1.0.0",
      "model_name": "OutputModel",
      "state": {
       "layout": "IPY_MODEL_b656f5f0b34543b19bb2505fe4a31879",
       "outputs": [
        {
         "data": {},
         "metadata": {},
         "output_type": "display_data"
        }
       ]
      }
     },
     "b7d72b1c74434a9fb055489e08c441a9": {
      "model_module": "@jupyter-widgets/base",
      "model_module_version": "1.2.0",
      "model_name": "LayoutModel",
      "state": {
       "grid_area": "label",
       "width": "auto"
      }
     },
     "b85627e9db6948dcb6642512a85d1656": {
      "model_module": "@jupyter-widgets/controls",
      "model_module_version": "1.5.0",
      "model_name": "DescriptionStyleModel",
      "state": {
       "description_width": ""
      }
     },
     "b95017d570f64750b83750191bbe2287": {
      "model_module": "@jupyter-widgets/base",
      "model_module_version": "1.2.0",
      "model_name": "LayoutModel",
      "state": {
       "grid_area": "description",
       "width": "auto"
      }
     },
     "bae9dd6cded149fcbc9bcb7b3c19830c": {
      "model_module": "@jupyter-widgets/controls",
      "model_module_version": "1.5.0",
      "model_name": "VBoxModel",
      "state": {
       "_dom_classes": [
        "widget-interact"
       ],
       "children": [
        "IPY_MODEL_1e3c2f2de6a04bf187551f74dc3d7dba",
        "IPY_MODEL_6f77eadcbf3e41fc91bc14b5fc2757fc"
       ],
       "layout": "IPY_MODEL_b319e9d7af3646d183fa05ddf2fc3994"
      }
     },
     "bc372c2842bd43f09ee2a8b4d0dc883f": {
      "model_module": "@jupyter-widgets/controls",
      "model_module_version": "1.5.0",
      "model_name": "DescriptionStyleModel",
      "state": {
       "description_width": ""
      }
     },
     "bc87037cabab446d85067ac8c95e1af3": {
      "model_module": "@jupyter-widgets/controls",
      "model_module_version": "1.5.0",
      "model_name": "DescriptionStyleModel",
      "state": {
       "description_width": ""
      }
     },
     "be718672e1554cbda696825576f392ab": {
      "model_module": "@jupyter-widgets/base",
      "model_module_version": "1.2.0",
      "model_name": "LayoutModel",
      "state": {}
     },
     "beef801b3ddd4756b1384e85a0cddda9": {
      "model_module": "@jupyter-widgets/controls",
      "model_module_version": "1.5.0",
      "model_name": "TextModel",
      "state": {
       "_dom_classes": [
        "nbtools-menu-attached"
       ],
       "layout": "IPY_MODEL_00b4088043f547e3ae46534556d9aa20",
       "style": "IPY_MODEL_9f882676f0e042cca5beb32ace8f20ce"
      }
     },
     "bef202c58ac440b7a0ec567ba0620950": {
      "model_module": "@jupyter-widgets/output",
      "model_module_version": "1.0.0",
      "model_name": "OutputModel",
      "state": {
       "layout": "IPY_MODEL_3cd6ccf8f2b342f9911b172808cdd3f7"
      }
     },
     "bf54440909bd476d99c5c9e61557f2fc": {
      "model_module": "@jupyter-widgets/base",
      "model_module_version": "1.2.0",
      "model_name": "LayoutModel",
      "state": {
       "grid_area": "input",
       "width": "auto"
      }
     },
     "bff95d051ada4df0bf84b84dc5bc7c7f": {
      "model_module": "@jupyter-widgets/controls",
      "model_module_version": "1.5.0",
      "model_name": "FileUploadModel",
      "state": {
       "description_tooltip": null,
       "layout": "IPY_MODEL_1ee40bb4568940ccb5c25f281f98aad1",
       "style": "IPY_MODEL_2d7b383659cb49ec9875cb029f50c730"
      }
     },
     "c03924b343dd4c81bd59ee25e22e1900": {
      "model_module": "@jupyter-widgets/base",
      "model_module_version": "1.2.0",
      "model_name": "LayoutModel",
      "state": {
       "grid_area": "description",
       "width": "auto"
      }
     },
     "c0d184d4a77343ea99e2bdf544e63c3b": {
      "model_module": "@jupyter-widgets/controls",
      "model_module_version": "1.5.0",
      "model_name": "GridBoxModel",
      "state": {
       "_dom_classes": [
        "nbtools-input",
        "nbtools-textinput",
        "required"
       ],
       "children": [
        "IPY_MODEL_089dea39e78745339bcdd86235a93a50",
        "IPY_MODEL_b2736e7e13b14568bd4ae48bd0113c85",
        "IPY_MODEL_190f44f216af4cf894342bd6427fae3f"
       ],
       "layout": "IPY_MODEL_ca7bb83f16b54dcd8649f38251fc00c0"
      }
     },
     "c1573a5a1b4e46a18e79871daff35386": {
      "model_module": "@jupyter-widgets/controls",
      "model_module_version": "1.5.0",
      "model_name": "DescriptionStyleModel",
      "state": {
       "description_width": ""
      }
     },
     "c2224470b77f4cc6a73e6af45020abf5": {
      "model_module": "@jupyter-widgets/base",
      "model_module_version": "1.2.0",
      "model_name": "LayoutModel",
      "state": {
       "grid_area": "label",
       "width": "auto"
      }
     },
     "c26a73e6d1384021916037169eab239d": {
      "model_module": "@jupyter-widgets/controls",
      "model_module_version": "1.5.0",
      "model_name": "DescriptionStyleModel",
      "state": {
       "description_width": ""
      }
     },
     "c3575e65599c463080d057712544e4d5": {
      "model_module": "@jupyter-widgets/base",
      "model_module_version": "1.2.0",
      "model_name": "LayoutModel",
      "state": {
       "grid_area": "description",
       "width": "auto"
      }
     },
     "c368ee34085d46cba2ccfa2d6dd46a35": {
      "model_module": "@jupyter-widgets/controls",
      "model_module_version": "1.5.0",
      "model_name": "LabelModel",
      "state": {
       "layout": "IPY_MODEL_1a8dc1eb7df34a59ad326915db950e1a",
       "style": "IPY_MODEL_4e6276d5f5904459a2dbc8cde9ff9bad"
      }
     },
     "c39c4c97ea62485687e4d311635dec1d": {
      "model_module": "@jupyter-widgets/base",
      "model_module_version": "1.2.0",
      "model_name": "LayoutModel",
      "state": {}
     },
     "c4221779b94b40a5be4e075d0ff8d040": {
      "model_module": "@jupyter-widgets/base",
      "model_module_version": "1.2.0",
      "model_name": "LayoutModel",
      "state": {}
     },
     "c426ce0c1b7c4970ad0f0e7e77df6733": {
      "model_module": "@jupyter-widgets/controls",
      "model_module_version": "1.5.0",
      "model_name": "DescriptionStyleModel",
      "state": {
       "description_width": ""
      }
     },
     "c6b93338cb5b4a2e9947067a1c8eb506": {
      "model_module": "@jupyter-widgets/controls",
      "model_module_version": "1.5.0",
      "model_name": "PasswordModel",
      "state": {
       "layout": "IPY_MODEL_fb1e1081cb024e03a3af4356f0deeb4d",
       "style": "IPY_MODEL_59c350c8a8014a719a8caef38f3b29f3"
      }
     },
     "c6f72bd94af94463bd7bbefd2106bb60": {
      "model_module": "@jupyter-widgets/base",
      "model_module_version": "1.2.0",
      "model_name": "LayoutModel",
      "state": {
       "grid_area": "input",
       "width": "auto"
      }
     },
     "c84eaab6ce2047cd928579b10021faad": {
      "model_module": "@jupyter-widgets/controls",
      "model_module_version": "1.5.0",
      "model_name": "TextModel",
      "state": {
       "_dom_classes": [
        "nbtools-menu-attached"
       ],
       "layout": "IPY_MODEL_e372ebf35b774f6b95a1bc0fa74a9cd0",
       "style": "IPY_MODEL_d3b8e7e09bf1412c936137bf7a60753d"
      }
     },
     "c9de53e5c10946b988122c60e7c6c562": {
      "model_module": "@jupyter-widgets/controls",
      "model_module_version": "1.5.0",
      "model_name": "TextModel",
      "state": {
       "_dom_classes": [
        "nbtools-menu-attached"
       ],
       "layout": "IPY_MODEL_dc392d621c4e467e9091bd867abd3e2b",
       "style": "IPY_MODEL_093728d9645840b790267d209e630c53"
      }
     },
     "ca7bb83f16b54dcd8649f38251fc00c0": {
      "model_module": "@jupyter-widgets/base",
      "model_module_version": "1.2.0",
      "model_name": "LayoutModel",
      "state": {
       "grid_template_areas": "\n                    \"label input\"\n                    \". description\"\n                ",
       "grid_template_columns": "25% 75%",
       "grid_template_rows": "auto auto",
       "width": "100%"
      }
     },
     "ca7e1fe31e9e4f298d663c42b25f7b9c": {
      "model_module": "@jupyter-widgets/controls",
      "model_module_version": "1.5.0",
      "model_name": "GridBoxModel",
      "state": {
       "_dom_classes": [
        "nbtools-input",
        "nbtools-textinput",
        "required"
       ],
       "children": [
        "IPY_MODEL_e40218d587c647efaeebd3acf0c01a9c",
        "IPY_MODEL_3fc39177401e43e3859e035b23587f16",
        "IPY_MODEL_dc37242b8b354edab63443f9d16e991f"
       ],
       "layout": "IPY_MODEL_9d4a3a1ba31b439fa1caabce66a7a510"
      }
     },
     "cacb9ffdb0cc4af6ab87c030bfa6a6f7": {
      "model_module": "@jupyter-widgets/base",
      "model_module_version": "1.2.0",
      "model_name": "LayoutModel",
      "state": {
       "display": "none",
       "grid_template_areas": "\n                    \"label input\"\n                    \". description\"\n                ",
       "grid_template_columns": "25% 75%",
       "grid_template_rows": "auto auto",
       "width": "100%"
      }
     },
     "cace55f2bef84522b017ffbaad4fed00": {
      "model_module": "@jupyter-widgets/base",
      "model_module_version": "1.2.0",
      "model_name": "LayoutModel",
      "state": {}
     },
     "cb24e9fcca20461292653735e4c41b18": {
      "model_module": "@jupyter-widgets/controls",
      "model_module_version": "1.5.0",
      "model_name": "DescriptionStyleModel",
      "state": {
       "description_width": ""
      }
     },
     "cbd762fdc10e416d80822793f34dfd8c": {
      "model_module": "@jupyter-widgets/controls",
      "model_module_version": "1.5.0",
      "model_name": "LabelModel",
      "state": {
       "layout": "IPY_MODEL_50223fe8dae64d7ba97d9b5cbece79f3",
       "style": "IPY_MODEL_5f0cfb086d83487c94ab6ce2c509b552"
      }
     },
     "cc632685f71f4b0b9f96e4e6675e57d8": {
      "model_module": "@jupyter-widgets/controls",
      "model_module_version": "1.5.0",
      "model_name": "DescriptionStyleModel",
      "state": {
       "description_width": ""
      }
     },
     "cc660888f8534bfea812c57799475484": {
      "model_module": "@jupyter-widgets/controls",
      "model_module_version": "1.5.0",
      "model_name": "GridBoxModel",
      "state": {
       "_dom_classes": [
        "nbtools-input",
        "nbtools-textinput",
        "required"
       ],
       "children": [
        "IPY_MODEL_539a8687f0fa4c5a890f17941beecfeb",
        "IPY_MODEL_81f3f06c5324431faccedfa3cf58bd42",
        "IPY_MODEL_0700aa939fc346fdb5e326cc57a19bbb"
       ],
       "layout": "IPY_MODEL_061c2ed4cdb14938913fd735d43f570d"
      }
     },
     "cc94c206f0034028a70c87587820df58": {
      "model_module": "@jupyter-widgets/controls",
      "model_module_version": "1.5.0",
      "model_name": "LabelModel",
      "state": {
       "layout": "IPY_MODEL_622fc769b1b64162ba2f1a68fa1df390",
       "style": "IPY_MODEL_738d8dcfa2234acf8581a88ee7107b46"
      }
     },
     "ccfb56e6bacf47ae8cdd49f4a9c0f263": {
      "model_module": "@jupyter-widgets/controls",
      "model_module_version": "1.5.0",
      "model_name": "TextModel",
      "state": {
       "_dom_classes": [
        "nbtools-menu-attached"
       ],
       "layout": "IPY_MODEL_2f35687cbc9445e48c3934c132793e16",
       "style": "IPY_MODEL_3bcdb222237d4e729ba2efc1f14be0b6"
      }
     },
     "cf40a1536dd74247820a074056fbbc62": {
      "model_module": "@jupyter-widgets/controls",
      "model_module_version": "1.5.0",
      "model_name": "LabelModel",
      "state": {
       "layout": "IPY_MODEL_9fb8f591df7b45fdad9eec984223757a",
       "style": "IPY_MODEL_18df08489e64495b91fc8570232092ba"
      }
     },
     "cfe703b7e0c84771a6d5932bb7a9af2d": {
      "model_module": "@jupyter-widgets/controls",
      "model_module_version": "1.5.0",
      "model_name": "VBoxModel",
      "state": {
       "layout": "IPY_MODEL_f2c5fa0f4981428d858f514aca53cfbd"
      }
     },
     "d01cee505077451f9c71a70c13e74c2c": {
      "model_module": "@jupyter-widgets/base",
      "model_module_version": "1.2.0",
      "model_name": "LayoutModel",
      "state": {}
     },
     "d02b7950fa0b442ea408f9faabde854a": {
      "model_module": "@jupyter-widgets/controls",
      "model_module_version": "1.5.0",
      "model_name": "TextModel",
      "state": {
       "_dom_classes": [
        "nbtools-menu-attached"
       ],
       "layout": "IPY_MODEL_3abd549262e24b379c8812b471089236",
       "style": "IPY_MODEL_4a4503237a484d3ea148ceb70a09bad4"
      }
     },
     "d07f3b81026c485cbd72305c32d239d1": {
      "model_module": "@jupyter-widgets/base",
      "model_module_version": "1.2.0",
      "model_name": "LayoutModel",
      "state": {
       "grid_area": "label",
       "width": "auto"
      }
     },
     "d0c252429d81438ab1147b339bbd2287": {
      "model_module": "@jupyter-widgets/controls",
      "model_module_version": "1.5.0",
      "model_name": "DescriptionStyleModel",
      "state": {
       "description_width": ""
      }
     },
     "d0f3dbbeb3294f57a3928b89c5f4da6b": {
      "model_module": "@jupyter-widgets/output",
      "model_module_version": "1.0.0",
      "model_name": "OutputModel",
      "state": {
       "layout": "IPY_MODEL_fa411361dca449448725a8de849ba673"
      }
     },
     "d0fd6874cb784f35bab08556a97b15ff": {
      "model_module": "@jupyter-widgets/base",
      "model_module_version": "1.2.0",
      "model_name": "LayoutModel",
      "state": {
       "grid_area": "description",
       "width": "auto"
      }
     },
     "d25b7526123b4c338c4dee4d71dc8a72": {
      "model_module": "@jupyter-widgets/base",
      "model_module_version": "1.2.0",
      "model_name": "LayoutModel",
      "state": {
       "grid_template_areas": "\n                    \"label input\"\n                    \". description\"\n                ",
       "grid_template_columns": "25% 75%",
       "grid_template_rows": "auto auto",
       "width": "100%"
      }
     },
     "d3288bfd05a641aaaeff9e5f7f590ab5": {
      "model_module": "@jupyter-widgets/output",
      "model_module_version": "1.0.0",
      "model_name": "OutputModel",
      "state": {
       "layout": "IPY_MODEL_c39c4c97ea62485687e4d311635dec1d"
      }
     },
     "d3a88b85cdf244e983f3c8278e9587bc": {
      "model_module": "@jupyter-widgets/base",
      "model_module_version": "1.2.0",
      "model_name": "LayoutModel",
      "state": {}
     },
     "d3b8e7e09bf1412c936137bf7a60753d": {
      "model_module": "@jupyter-widgets/controls",
      "model_module_version": "1.5.0",
      "model_name": "DescriptionStyleModel",
      "state": {
       "description_width": ""
      }
     },
     "d53c7c6729714076a6fc7422c7d91e81": {
      "model_module": "@jupyter-widgets/base",
      "model_module_version": "1.2.0",
      "model_name": "LayoutModel",
      "state": {
       "grid_area": "input",
       "width": "auto"
      }
     },
     "d66675e31cd047b0b31783e854a86e70": {
      "model_module": "@jupyter-widgets/controls",
      "model_module_version": "1.5.0",
      "model_name": "ButtonStyleModel",
      "state": {}
     },
     "d6711f75199c4f288c52104cef07ada5": {
      "model_module": "@jupyter-widgets/controls",
      "model_module_version": "1.5.0",
      "model_name": "GridBoxModel",
      "state": {
       "_dom_classes": [
        "nbtools-input",
        "nbtools-comboinput",
        "required"
       ],
       "children": [
        "IPY_MODEL_42007736a00f4149a14167647b82e181",
        "IPY_MODEL_62c07c05797c49e89996738e8698414c",
        "IPY_MODEL_13a399486cad4de3a1caf5854f3aa07c"
       ],
       "layout": "IPY_MODEL_19f3eaae5f06475baeccde64d1075bfe"
      }
     },
     "d746e06d242a4ec590bb6c05b28e40f1": {
      "model_module": "@jupyter-widgets/base",
      "model_module_version": "1.2.0",
      "model_name": "LayoutModel",
      "state": {}
     },
     "d75c504f41e04b70b4752335f974daf2": {
      "model_module": "@jupyter-widgets/base",
      "model_module_version": "1.2.0",
      "model_name": "LayoutModel",
      "state": {
       "grid_template_areas": "\n                    \"label input\"\n                    \". description\"\n                ",
       "grid_template_columns": "25% 75%",
       "grid_template_rows": "auto auto",
       "width": "100%"
      }
     },
     "d77ec2b1522141eeb17d6e7127d9b7df": {
      "model_module": "@jupyter-widgets/controls",
      "model_module_version": "1.5.0",
      "model_name": "GridBoxModel",
      "state": {
       "_dom_classes": [
        "nbtools-input",
        "nbtools-textinput",
        "required"
       ],
       "children": [
        "IPY_MODEL_f0ddc2626a5e41408b5ea9c5903c2b9d",
        "IPY_MODEL_777eb4831541476c8e614306e3a4232c",
        "IPY_MODEL_0824170ebb814a10bd8c70722054a677"
       ],
       "layout": "IPY_MODEL_d9c163b136fc42dc8560e32bd1d9ad34"
      }
     },
     "d8bd8f2247ea42c1a1878dfe97d84f81": {
      "model_module": "@jupyter-widgets/controls",
      "model_module_version": "1.5.0",
      "model_name": "DescriptionStyleModel",
      "state": {
       "description_width": ""
      }
     },
     "d8e99ee8a8c049459bb99fb530e188c2": {
      "model_module": "@jupyter-widgets/controls",
      "model_module_version": "1.5.0",
      "model_name": "LabelModel",
      "state": {
       "description": "choice",
       "layout": "IPY_MODEL_315db526ae9d4c439b5cc27f6ceb554e",
       "style": "IPY_MODEL_af530310f5f94533b675953e84d1267a",
       "value": "choice*"
      }
     },
     "d9c163b136fc42dc8560e32bd1d9ad34": {
      "model_module": "@jupyter-widgets/base",
      "model_module_version": "1.2.0",
      "model_name": "LayoutModel",
      "state": {
       "grid_template_areas": "\n                    \"label input\"\n                    \". description\"\n                ",
       "grid_template_columns": "25% 75%",
       "grid_template_rows": "auto auto",
       "width": "100%"
      }
     },
     "da6a7c71214447cbb0d57836ab2f3ddf": {
      "model_module": "@jupyter-widgets/base",
      "model_module_version": "1.2.0",
      "model_name": "LayoutModel",
      "state": {
       "grid_area": "label",
       "width": "auto"
      }
     },
     "dacf7169065d4f6d91e1763039d854da": {
      "model_module": "@jupyter-widgets/base",
      "model_module_version": "1.2.0",
      "model_name": "LayoutModel",
      "state": {
       "grid_area": "description",
       "width": "auto"
      }
     },
     "db5e29a8b6aa48059af4595dc808d009": {
      "model_module": "@jupyter-widgets/controls",
      "model_module_version": "1.5.0",
      "model_name": "TextModel",
      "state": {
       "_dom_classes": [
        "nbtools-menu-attached"
       ],
       "layout": "IPY_MODEL_a75010f4b4c9458c87bf3f9f76110ac9",
       "style": "IPY_MODEL_28443c67ebed4850a7980379e4c0aac2"
      }
     },
     "dbfc883cff2f4aedb81aaceb9c5bc36c": {
      "model_module": "@jupyter-widgets/controls",
      "model_module_version": "1.5.0",
      "model_name": "TextModel",
      "state": {
       "_dom_classes": [
        "nbtools-menu-attached"
       ],
       "layout": "IPY_MODEL_7f7b046f50dd4bfeacb3c0ac1bb4995b",
       "style": "IPY_MODEL_0dace976ec61409381cfc4c1fb5e0b9c"
      }
     },
     "dc37242b8b354edab63443f9d16e991f": {
      "model_module": "@jupyter-widgets/controls",
      "model_module_version": "1.5.0",
      "model_name": "LabelModel",
      "state": {
       "layout": "IPY_MODEL_9f5f6740002242a4bfc047272d5a700f",
       "style": "IPY_MODEL_0cb029e017a0478d9db64072a6523257"
      }
     },
     "dc38429c0a5945438493702c5f678acf": {
      "model_module": "@jupyter-widgets/controls",
      "model_module_version": "1.5.0",
      "model_name": "LabelModel",
      "state": {
       "layout": "IPY_MODEL_fd0d7fab4b7f44df9528224f347d37a3",
       "style": "IPY_MODEL_ad5803e5f48745f399193b1c27f8b9ae"
      }
     },
     "dc392d621c4e467e9091bd867abd3e2b": {
      "model_module": "@jupyter-widgets/base",
      "model_module_version": "1.2.0",
      "model_name": "LayoutModel",
      "state": {
       "grid_area": "input",
       "width": "auto"
      }
     },
     "dd48c8259c114e9985bce31793b6e1b5": {
      "model_module": "@jupyter-widgets/controls",
      "model_module_version": "1.5.0",
      "model_name": "DescriptionStyleModel",
      "state": {
       "description_width": ""
      }
     },
     "dd5ee5b4d0ad42979bdedee70185adb7": {
      "model_module": "@jupyter-widgets/controls",
      "model_module_version": "1.5.0",
      "model_name": "DescriptionStyleModel",
      "state": {
       "description_width": ""
      }
     },
     "dd6f4d0c8a7e41e1add0f709e651f565": {
      "model_module": "@jupyter-widgets/controls",
      "model_module_version": "1.5.0",
      "model_name": "LabelModel",
      "state": {
       "description": "output variable",
       "layout": "IPY_MODEL_f1612654f95c4f278354541c6f4d3ba6",
       "style": "IPY_MODEL_6bb3cc3f7b1c4eabafa457e2252708d7",
       "value": "output variable"
      }
     },
     "dddcd3736a1340be9f254eeac4864d0b": {
      "model_module": "@jupyter-widgets/base",
      "model_module_version": "1.2.0",
      "model_name": "LayoutModel",
      "state": {
       "grid_area": "label",
       "width": "auto"
      }
     },
     "ddf6d7269fef4ab39ace7736268bd2e3": {
      "model_module": "@jupyter-widgets/base",
      "model_module_version": "1.2.0",
      "model_name": "LayoutModel",
      "state": {
       "grid_area": "label",
       "width": "auto"
      }
     },
     "df0a49e345734ab4b4945de57840c61a": {
      "model_module": "@jupyter-widgets/output",
      "model_module_version": "1.0.0",
      "model_name": "OutputModel",
      "state": {
       "layout": "IPY_MODEL_7b9240fab5c1405b8fd10099ab0e534f"
      }
     },
     "df6de3b5d54f4292897b1b4f0bbc5169": {
      "model_module": "@jupyter-widgets/base",
      "model_module_version": "1.2.0",
      "model_name": "LayoutModel",
      "state": {}
     },
     "e0d8baa1475a4670841ff14cb5c76a7a": {
      "model_module": "@jupyter-widgets/controls",
      "model_module_version": "1.5.0",
      "model_name": "DescriptionStyleModel",
      "state": {
       "description_width": ""
      }
     },
     "e0e96df8b0d149f2ab92b372670eafda": {
      "model_module": "@jupyter-widgets/base",
      "model_module_version": "1.2.0",
      "model_name": "LayoutModel",
      "state": {
       "grid_area": "description",
       "width": "auto"
      }
     },
     "e29599d0acda44119ce066d479c04b65": {
      "model_module": "@jupyter-widgets/controls",
      "model_module_version": "1.5.0",
      "model_name": "DescriptionStyleModel",
      "state": {
       "description_width": ""
      }
     },
     "e2bd9692260c4817829df4761578cd63": {
      "model_module": "@jupyter-widgets/base",
      "model_module_version": "1.2.0",
      "model_name": "LayoutModel",
      "state": {}
     },
     "e372ebf35b774f6b95a1bc0fa74a9cd0": {
      "model_module": "@jupyter-widgets/base",
      "model_module_version": "1.2.0",
      "model_name": "LayoutModel",
      "state": {
       "grid_area": "input",
       "width": "auto"
      }
     },
     "e40218d587c647efaeebd3acf0c01a9c": {
      "model_module": "@jupyter-widgets/controls",
      "model_module_version": "1.5.0",
      "model_name": "LabelModel",
      "state": {
       "description": "f",
       "layout": "IPY_MODEL_b6491551c0ab4e20a0038ddae25f1f55",
       "style": "IPY_MODEL_e0d8baa1475a4670841ff14cb5c76a7a",
       "value": "f*"
      }
     },
     "e484e0e42c494c72bb1ffea58296dbba": {
      "model_module": "@jupyter-widgets/base",
      "model_module_version": "1.2.0",
      "model_name": "LayoutModel",
      "state": {
       "grid_template_areas": "\n                    \"label input\"\n                    \". description\"\n                ",
       "grid_template_columns": "25% 75%",
       "grid_template_rows": "auto auto",
       "width": "100%"
      }
     },
     "e4fdcf06ad384f1dbaedf24140528463": {
      "model_module": "@jupyter-widgets/controls",
      "model_module_version": "1.5.0",
      "model_name": "GridBoxModel",
      "state": {
       "_dom_classes": [
        "nbtools-input",
        "nbtools-textinput"
       ],
       "children": [
        "IPY_MODEL_dd6f4d0c8a7e41e1add0f709e651f565",
        "IPY_MODEL_7f9db4361ef24f248b67171c88088c64",
        "IPY_MODEL_0f93ef9555ad4b6d90be876a9c8866fd"
       ],
       "layout": "IPY_MODEL_4f15ce2dec6f455aac0a181208dcdc59"
      }
     },
     "e6091529384049bc9bcdfd20d545c3e0": {
      "model_module": "@jupyter-widgets/base",
      "model_module_version": "1.2.0",
      "model_name": "LayoutModel",
      "state": {
       "grid_area": "label",
       "width": "auto"
      }
     },
     "e746d047dc274644b60d5c0154dd8361": {
      "model_module": "@jupyter-widgets/base",
      "model_module_version": "1.2.0",
      "model_name": "LayoutModel",
      "state": {}
     },
     "e8e250fd20684c11bba2b33be0fe27c3": {
      "model_module": "@jupyter-widgets/base",
      "model_module_version": "1.2.0",
      "model_name": "LayoutModel",
      "state": {}
     },
     "ea1784c685004006a6ddda284cdb62db": {
      "model_module": "@jupyter-widgets/controls",
      "model_module_version": "1.5.0",
      "model_name": "DescriptionStyleModel",
      "state": {
       "description_width": ""
      }
     },
     "ea7d7242d8a143d7b5d167060f8c2640": {
      "model_module": "@jupyter-widgets/base",
      "model_module_version": "1.2.0",
      "model_name": "LayoutModel",
      "state": {
       "grid_template_areas": "\n                    \"label input\"\n                    \". description\"\n                ",
       "grid_template_columns": "25% 75%",
       "grid_template_rows": "auto auto",
       "width": "100%"
      }
     },
     "eb2d01a70fad449496bb5f85df051aa1": {
      "model_module": "@jupyter-widgets/controls",
      "model_module_version": "1.5.0",
      "model_name": "LabelModel",
      "state": {
       "layout": "IPY_MODEL_3b2669e7a91e4637912cf58f0c9ec1fd",
       "style": "IPY_MODEL_26d5eb61373b46e798bc61b2b28ca1a6"
      }
     },
     "eb46ded1b5774484800d619a7c585b49": {
      "model_module": "@jupyter-widgets/output",
      "model_module_version": "1.0.0",
      "model_name": "OutputModel",
      "state": {
       "layout": "IPY_MODEL_14dd26e1c4dd4d598b26055d7de41689"
      }
     },
     "ec1f4fe68d99415b83e7a2a4588604d3": {
      "model_module": "@jupyter-widgets/controls",
      "model_module_version": "1.5.0",
      "model_name": "GridBoxModel",
      "state": {
       "_dom_classes": [
        "nbtools-input",
        "nbtools-textinput"
       ],
       "children": [
        "IPY_MODEL_4990057566d04489bd47bf047545308d",
        "IPY_MODEL_c84eaab6ce2047cd928579b10021faad",
        "IPY_MODEL_37b4abe20b10463aa731ac50ec5cb8ca"
       ],
       "layout": "IPY_MODEL_21a5c6dd1ff2433f9ad4807c2d282391"
      }
     },
     "ec9014b9afd54a1483231d7b010638ff": {
      "model_module": "@jupyter-widgets/controls",
      "model_module_version": "1.5.0",
      "model_name": "LabelModel",
      "state": {
       "layout": "IPY_MODEL_07c3f1d3ba794701ba04ccb34e04fceb",
       "style": "IPY_MODEL_9f8b2bb507d3467181bc49a484ea4882"
      }
     },
     "ed7b728cafa44f67a2925ed42df26ee6": {
      "model_module": "@jupyter-widgets/base",
      "model_module_version": "1.2.0",
      "model_name": "LayoutModel",
      "state": {
       "grid_area": "label",
       "width": "auto"
      }
     },
     "edf80b47f40648e3b9b3d3b8224a53ad": {
      "model_module": "@jupyter-widgets/output",
      "model_module_version": "1.0.0",
      "model_name": "OutputModel",
      "state": {
       "layout": "IPY_MODEL_0f6a06d95cac4e12a507471aea50e3fa"
      }
     },
     "ef240814b56b44b09bc3bd9b607afe5c": {
      "model_module": "@jupyter-widgets/output",
      "model_module_version": "1.0.0",
      "model_name": "OutputModel",
      "state": {
       "layout": "IPY_MODEL_5b53748ffb1448fcbd8e85c0314f98fe",
       "outputs": [
        {
         "data": {},
         "metadata": {},
         "output_type": "display_data"
        }
       ]
      }
     },
     "ef5fc005923c4b93a3a03dd49bd3b41d": {
      "model_module": "@jupyter-widgets/base",
      "model_module_version": "1.2.0",
      "model_name": "LayoutModel",
      "state": {
       "grid_template_areas": "\n                    \"label input\"\n                    \". description\"\n                ",
       "grid_template_columns": "25% 75%",
       "grid_template_rows": "auto auto",
       "width": "100%"
      }
     },
     "f01a91d5759b47cbb6c837325937bee6": {
      "model_module": "@jupyter-widgets/controls",
      "model_module_version": "1.5.0",
      "model_name": "VBoxModel",
      "state": {
       "children": [
        "IPY_MODEL_6585dd3df75f4b73881644e5c98bbd0b",
        "IPY_MODEL_67c1f749987649ada123d972f0dbcb81"
       ],
       "layout": "IPY_MODEL_c4221779b94b40a5be4e075d0ff8d040"
      }
     },
     "f0792241fda541c8a40357f8e737fc73": {
      "model_module": "@jupyter-widgets/controls",
      "model_module_version": "1.5.0",
      "model_name": "VBoxModel",
      "state": {
       "layout": "IPY_MODEL_741b8b0dab94452581c82d87f6d1a278"
      }
     },
     "f0ddc2626a5e41408b5ea9c5903c2b9d": {
      "model_module": "@jupyter-widgets/controls",
      "model_module_version": "1.5.0",
      "model_name": "LabelModel",
      "state": {
       "description": "g",
       "layout": "IPY_MODEL_ddf6d7269fef4ab39ace7736268bd2e3",
       "style": "IPY_MODEL_366629c95cce467cad9f60f157491ab5",
       "value": "g*"
      }
     },
     "f0f2157770184ae89afd01dc2d629b2c": {
      "model_module": "@jupyter-widgets/controls",
      "model_module_version": "1.5.0",
      "model_name": "LabelModel",
      "state": {
       "layout": "IPY_MODEL_1d119a09ff8d44cb83dbe723e4bdec02",
       "style": "IPY_MODEL_ea1784c685004006a6ddda284cdb62db"
      }
     },
     "f1319891172f481da0f2193de152bca2": {
      "model_module": "@jupyter-widgets/controls",
      "model_module_version": "1.5.0",
      "model_name": "ButtonModel",
      "state": {
       "_dom_classes": [
        "hidden"
       ],
       "description": "Run",
       "layout": "IPY_MODEL_142328bc507a4e2c86e70aa080e3f90f",
       "style": "IPY_MODEL_7b85201e56f34cd8a00b78093e389f85"
      }
     },
     "f1612654f95c4f278354541c6f4d3ba6": {
      "model_module": "@jupyter-widgets/base",
      "model_module_version": "1.2.0",
      "model_name": "LayoutModel",
      "state": {
       "grid_area": "label",
       "width": "auto"
      }
     },
     "f2627a884b65462c90cc987a808cbcc9": {
      "model_module": "@jupyter-widgets/base",
      "model_module_version": "1.2.0",
      "model_name": "LayoutModel",
      "state": {}
     },
     "f2859283e0984741ba7290f4ad60d1a6": {
      "model_module": "@jupyter-widgets/controls",
      "model_module_version": "1.5.0",
      "model_name": "ButtonModel",
      "state": {
       "_dom_classes": [
        "hidden"
       ],
       "description": "Run",
       "layout": "IPY_MODEL_8e27663ca5f8473481c6ef5448aee14c",
       "style": "IPY_MODEL_015ca1afea1e485d8f894a6f9e5e5f5d"
      }
     },
     "f2b1e965c0984a2c9ce8d590438b3809": {
      "model_module": "@genepattern/nbtools",
      "model_module_version": "^0.2.0",
      "model_name": "UIOutputModel",
      "state": {
       "_dom_classes": [],
       "_model_module_version": "^0.2.0",
       "_view_count": null,
       "_view_module_version": "^0.2.0",
       "appendix": "IPY_MODEL_316440cba6f940e5a1795aba7502fd54",
       "color": "rgba(10, 45, 105, 0.80)",
       "error": "You must be authenticated before the job can be displayed. After you authenticate it may take a few seconds for the information to appear.",
       "extra_menu_items": {
        "Share Job": {
         "action": "method",
         "code": "toggle_job_sharing"
        }
       },
       "layout": "IPY_MODEL_f2627a884b65462c90cc987a808cbcc9",
       "name": "Not Authenticated"
      }
     },
     "f2c5fa0f4981428d858f514aca53cfbd": {
      "model_module": "@jupyter-widgets/base",
      "model_module_version": "1.2.0",
      "model_name": "LayoutModel",
      "state": {}
     },
     "f44b1583b762411cae51de2ef028a718": {
      "model_module": "@jupyter-widgets/controls",
      "model_module_version": "1.5.0",
      "model_name": "LabelModel",
      "state": {
       "description": "j",
       "layout": "IPY_MODEL_564fb9d61b1f4f93bb89241b6269fbf3",
       "style": "IPY_MODEL_c426ce0c1b7c4970ad0f0e7e77df6733",
       "value": "j*"
      }
     },
     "f47ad72aeb504f3cad3bac7a00aada06": {
      "model_module": "@jupyter-widgets/controls",
      "model_module_version": "1.5.0",
      "model_name": "ButtonModel",
      "state": {
       "_dom_classes": [
        "hidden"
       ],
       "description": "Run",
       "layout": "IPY_MODEL_cace55f2bef84522b017ffbaad4fed00",
       "style": "IPY_MODEL_a5ac8965edaa44789ee810e77f30a804"
      }
     },
     "f5093a4d673e484ca84c056657e545a8": {
      "model_module": "@jupyter-widgets/controls",
      "model_module_version": "1.5.0",
      "model_name": "DescriptionStyleModel",
      "state": {
       "description_width": ""
      }
     },
     "f566d76b519146fd9495fc13f33138dc": {
      "model_module": "@jupyter-widgets/base",
      "model_module_version": "1.2.0",
      "model_name": "LayoutModel",
      "state": {
       "grid_template_areas": "\n                    \"label input\"\n                    \". description\"\n                ",
       "grid_template_columns": "25% 75%",
       "grid_template_rows": "auto auto",
       "width": "100%"
      }
     },
     "f5ddd0ff952446219f90d17ae915ceb6": {
      "model_module": "@genepattern/nbtools",
      "model_module_version": "^0.2.0",
      "model_name": "UIBuilderModel",
      "state": {
       "_dom_classes": [],
       "_model_module_version": "^0.2.0",
       "_parameters": [
        {
         "choices": {},
         "default": "",
         "description": "",
         "events": null,
         "hide": true,
         "id": null,
         "kinds": null,
         "label": "output variable",
         "name": "output_var",
         "optional": true,
         "type": "text",
         "value": ""
        }
       ],
       "_view_count": null,
       "_view_module_version": "^0.2.0",
       "color": "rgba(10, 45, 105, 0.80)",
       "display_footer": false,
       "display_header": false,
       "error": "No GenePattern module specified.",
       "form": "IPY_MODEL_bae9dd6cded149fcbc9bcb7b3c19830c",
       "layout": "IPY_MODEL_18fbd82ee7aa4990a980c5495084e79e",
       "name": "GenePattern Module",
       "origin": "genepattern.taskwidget",
       "output": "IPY_MODEL_d0f3dbbeb3294f57a3928b89c5f4da6b",
       "output_var": ""
      }
     },
     "f60b656c1a124be6b88916ee23ad1160": {
      "model_module": "@jupyter-widgets/base",
      "model_module_version": "1.2.0",
      "model_name": "LayoutModel",
      "state": {}
     },
     "f78c660fb08f4d44931ad46a072452bf": {
      "model_module": "@jupyter-widgets/controls",
      "model_module_version": "1.5.0",
      "model_name": "ButtonStyleModel",
      "state": {}
     },
     "fa2aca66c1c84c328f64b6fac1445c1e": {
      "model_module": "@jupyter-widgets/controls",
      "model_module_version": "1.5.0",
      "model_name": "LabelModel",
      "state": {
       "description": "b",
       "layout": "IPY_MODEL_050c20130b9946f39e9f364b97258b9d",
       "style": "IPY_MODEL_9e4d1ce6eaf84f81ac6f8dd466004544",
       "value": "b*"
      }
     },
     "fa411361dca449448725a8de849ba673": {
      "model_module": "@jupyter-widgets/base",
      "model_module_version": "1.2.0",
      "model_name": "LayoutModel",
      "state": {}
     },
     "fb1e1081cb024e03a3af4356f0deeb4d": {
      "model_module": "@jupyter-widgets/base",
      "model_module_version": "1.2.0",
      "model_name": "LayoutModel",
      "state": {
       "grid_area": "input",
       "width": "auto"
      }
     },
     "fbd52bf4f7754c9fa30095ec495e422a": {
      "model_module": "@jupyter-widgets/controls",
      "model_module_version": "1.5.0",
      "model_name": "TextModel",
      "state": {
       "_dom_classes": [
        "nbtools-menu-attached"
       ],
       "layout": "IPY_MODEL_3b495a149301430d86b196a679560f8b",
       "style": "IPY_MODEL_5f26aaea65024a0ea3915fcffc374f98"
      }
     },
     "fc214334d6a948a088d319580d38b8ba": {
      "model_module": "@jupyter-widgets/controls",
      "model_module_version": "1.5.0",
      "model_name": "ButtonModel",
      "state": {
       "_dom_classes": [
        "hidden"
       ],
       "description": "Run",
       "layout": "IPY_MODEL_fc2a151d06124eaa9a4c94bbda33b096",
       "style": "IPY_MODEL_6452647b42ee49639119438649977d16"
      }
     },
     "fc2a151d06124eaa9a4c94bbda33b096": {
      "model_module": "@jupyter-widgets/base",
      "model_module_version": "1.2.0",
      "model_name": "LayoutModel",
      "state": {}
     },
     "fc91c8eace79460ba96b33bbb894ba5d": {
      "model_module": "@jupyter-widgets/controls",
      "model_module_version": "1.5.0",
      "model_name": "LabelModel",
      "state": {
       "description": "d",
       "layout": "IPY_MODEL_49016d04b6644cab988263de9df1a036",
       "style": "IPY_MODEL_029b31166bf048ce8ca7b359acb77139",
       "value": "d*"
      }
     },
     "fcda8e168f7649ce82fa323b91797d49": {
      "model_module": "@jupyter-widgets/base",
      "model_module_version": "1.2.0",
      "model_name": "LayoutModel",
      "state": {
       "grid_area": "input",
       "width": "auto"
      }
     },
     "fd0d7fab4b7f44df9528224f347d37a3": {
      "model_module": "@jupyter-widgets/base",
      "model_module_version": "1.2.0",
      "model_name": "LayoutModel",
      "state": {
       "grid_area": "description",
       "width": "auto"
      }
     },
     "fe35b51f9ca44fb1b86cb9b5d26e7415": {
      "model_module": "@jupyter-widgets/base",
      "model_module_version": "1.2.0",
      "model_name": "LayoutModel",
      "state": {}
     },
     "fe4981d68a0c44cebf2f496f1d876fad": {
      "model_module": "@jupyter-widgets/controls",
      "model_module_version": "1.5.0",
      "model_name": "GridBoxModel",
      "state": {
       "_dom_classes": [
        "nbtools-input",
        "nbtools-textinput",
        "required"
       ],
       "children": [
        "IPY_MODEL_54759f235a734adf96e283c27afadcec",
        "IPY_MODEL_1cbd9f310b0548c9a54b91c28ee0709a",
        "IPY_MODEL_c368ee34085d46cba2ccfa2d6dd46a35"
       ],
       "layout": "IPY_MODEL_f566d76b519146fd9495fc13f33138dc"
      }
     },
     "fe596b50e64c46f8a8dbc668841dba4e": {
      "model_module": "@jupyter-widgets/controls",
      "model_module_version": "1.5.0",
      "model_name": "DescriptionStyleModel",
      "state": {
       "description_width": ""
      }
     }
    },
    "version_major": 2,
    "version_minor": 0
   }
  }
 },
 "nbformat": 4,
 "nbformat_minor": 4
}
