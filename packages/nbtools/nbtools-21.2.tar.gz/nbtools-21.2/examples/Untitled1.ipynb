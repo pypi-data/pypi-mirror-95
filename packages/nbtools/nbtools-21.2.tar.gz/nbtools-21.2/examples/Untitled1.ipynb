{
 "cells": [
  {
   "cell_type": "code",
   "execution_count": 2,
   "metadata": {},
   "outputs": [
    {
     "data": {
      "application/vnd.jupyter.widget-view+json": {
       "model_id": "bb28c283e1bd4268ad0be274742faff7",
       "version_major": 2,
       "version_minor": 0
      },
      "text/plain": [
       "GPAuthWidget(buttons={'Register an Account': \"\\n    const target = event.target;\\n    const widget = target.cl…"
      ]
     },
     "metadata": {},
     "output_type": "display_data"
    },
    {
     "data": {
      "application/vnd.jupyter.widget-view+json": {
       "model_id": "8ab34bc8e04d4cbeb2edf0d81b27dce7",
       "version_major": 2,
       "version_minor": 0
      },
      "text/plain": [
       "Output()"
      ]
     },
     "metadata": {},
     "output_type": "display_data"
    }
   ],
   "source": [
    "import nbtools\n",
    "\n",
    "nbtools.tool(id='authentication', origin='+')"
   ]
  },
  {
   "cell_type": "code",
   "execution_count": 3,
   "metadata": {},
   "outputs": [
    {
     "data": {
      "application/vnd.jupyter.widget-view+json": {
       "model_id": "04a0dc570f1f417ca8f2f7933547066d",
       "version_major": 2,
       "version_minor": 0
      },
      "text/plain": [
       "UIOutput(appendix=VBox(), error='Cannot find tool: GenePattern Cloud | urn:lsid:broad.mit.edu:cancer.software.…"
      ]
     },
     "metadata": {},
     "output_type": "display_data"
    },
    {
     "data": {
      "application/vnd.jupyter.widget-view+json": {
       "model_id": "de08ab0c64ce444baea6c331d88739f0",
       "version_major": 2,
       "version_minor": 0
      },
      "text/plain": [
       "Output(outputs=({'output_type': 'display_data', 'data': {}, 'metadata': {}},))"
      ]
     },
     "metadata": {},
     "output_type": "display_data"
    }
   ],
   "source": [
    "nbtools.tool(id='urn:lsid:broad.mit.edu:cancer.software.genepattern.module.analysis:00002:2', origin='GenePattern Cloud')"
   ]
  },
  {
   "cell_type": "code",
   "execution_count": 4,
   "metadata": {},
   "outputs": [
    {
     "data": {
      "application/vnd.jupyter.widget-view+json": {
       "model_id": "48fdc2350c1543cbb5e83ae8352313b3",
       "version_major": 2,
       "version_minor": 0
      },
      "text/plain": [
       "UIOutput(appendix=VBox(), error='Cannot find tool: GenePattern Cloud | urn:lsid:broad.mit.edu:cancer.software.…"
      ]
     },
     "metadata": {},
     "output_type": "display_data"
    },
    {
     "data": {
      "application/vnd.jupyter.widget-view+json": {
       "model_id": "c4ddec3fe99c42478469ec6fab0c5c3b",
       "version_major": 2,
       "version_minor": 0
      },
      "text/plain": [
       "Output(outputs=({'output_type': 'display_data', 'data': {}, 'metadata': {}},))"
      ]
     },
     "metadata": {},
     "output_type": "display_data"
    }
   ],
   "source": [
    "nbtools.tool(id='urn:lsid:broad.mit.edu:cancer.software.genepattern.module.visualizer:00010:13.9', origin='GenePattern Cloud')"
   ]
  },
  {
   "cell_type": "code",
   "execution_count": 5,
   "metadata": {},
   "outputs": [
    {
     "data": {
      "application/vnd.jupyter.widget-view+json": {
       "model_id": "345017a2a1a246ada5be310b9f380b6b",
       "version_major": 2,
       "version_minor": 0
      },
      "text/plain": [
       "UIOutput(appendix=VBox(), error='Cannot find tool: GenePattern Cloud | urn:lsid:broad.mit.edu:cancer.software.…"
      ]
     },
     "metadata": {},
     "output_type": "display_data"
    },
    {
     "data": {
      "application/vnd.jupyter.widget-view+json": {
       "model_id": "c33ccdfcc2874cb59688d82003d45039",
       "version_major": 2,
       "version_minor": 0
      },
      "text/plain": [
       "Output(outputs=({'output_type': 'display_data', 'data': {}, 'metadata': {}},))"
      ]
     },
     "metadata": {},
     "output_type": "display_data"
    }
   ],
   "source": [
    "nbtools.tool(id='urn:lsid:broad.mit.edu:cancer.software.genepattern.module.analysis:00017:4.2', origin='GenePattern Cloud')"
   ]
  },
  {
   "cell_type": "code",
   "execution_count": 6,
   "metadata": {},
   "outputs": [
    {
     "data": {
      "application/vnd.jupyter.widget-view+json": {
       "model_id": "0490dc4618a3408bb0baea93987eb626",
       "version_major": 2,
       "version_minor": 0
      },
      "text/plain": [
       "UIBuilder(collapse=True, form=InteractiveForm(children=(FileFormInput(value='', children=(Label(value='bar*', …"
      ]
     },
     "metadata": {},
     "output_type": "display_data"
    },
    {
     "data": {
      "application/vnd.jupyter.widget-view+json": {
       "model_id": "c829600877cf4704aa1b840f99137dee",
       "version_major": 2,
       "version_minor": 0
      },
      "text/plain": [
       "Output()"
      ]
     },
     "metadata": {},
     "output_type": "display_data"
    }
   ],
   "source": [
    "import nbtools\n",
    "import genepattern\n",
    "\n",
    "@nbtools.build_ui(parameters={\n",
    "    'bar': {\n",
    "        'type': 'file',\n",
    "        'kinds': ['_s.odf']\n",
    "    }\n",
    "})\n",
    "def foo(bar):\n",
    "    uio = nbtools.UIOutput(files=['https://www.drivethrurpg.com/product/103096/Escape-from-Castle-Island?filters=0_2110_100_0_0'])\n",
    "    genepattern.display(uio)"
   ]
  },
  {
   "cell_type": "code",
   "execution_count": 7,
   "metadata": {},
   "outputs": [
    {
     "data": {
      "application/vnd.jupyter.widget-view+json": {
       "model_id": "92fc363c576b490ea68adbb930765c77",
       "version_major": 2,
       "version_minor": 0
      },
      "text/plain": [
       "UIBuilder(collapse=True, form=InteractiveForm(children=(FileFormInput(value='', children=(Label(value='bar*', …"
      ]
     },
     "metadata": {},
     "output_type": "display_data"
    },
    {
     "data": {
      "application/vnd.jupyter.widget-view+json": {
       "model_id": "e4cb403678b545a8bc7254689a1bbd7a",
       "version_major": 2,
       "version_minor": 0
      },
      "text/plain": [
       "Output()"
      ]
     },
     "metadata": {},
     "output_type": "display_data"
    }
   ],
   "source": [
    "import nbtools\n",
    "import genepattern\n",
    "\n",
    "@nbtools.build_ui(parameters={\n",
    "    'bar': {\n",
    "        'type': 'file',\n",
    "        'kinds': ['_s.odf']\n",
    "    }\n",
    "})\n",
    "def moose(bar):\n",
    "    uio = nbtools.UIOutput(files=['https://www.drivethrurpg.com/product/103096/Escape-from-Castle-Island?filters=0_2110_100_0_0'])\n",
    "    genepattern.display(uio)"
   ]
  }
 ],
 "metadata": {
  "kernelspec": {
   "display_name": "Python 3",
   "language": "python",
   "name": "python3"
  },
  "language_info": {
   "codemirror_mode": {
    "name": "ipython",
    "version": 3
   },
   "file_extension": ".py",
   "mimetype": "text/x-python",
   "name": "python",
   "nbconvert_exporter": "python",
   "pygments_lexer": "ipython3",
   "version": "3.7.6"
  },
  "widgets": {
   "application/vnd.jupyter.widget-state+json": {
    "state": {},
    "version_major": 2,
    "version_minor": 0
   }
  }
 },
 "nbformat": 4,
 "nbformat_minor": 4
}
