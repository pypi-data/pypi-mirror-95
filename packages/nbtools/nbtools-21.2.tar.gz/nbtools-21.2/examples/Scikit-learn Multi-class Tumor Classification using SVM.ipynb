{
 "cells": [
  {
   "cell_type": "markdown",
   "metadata": {},
   "source": [
    "## Train a classifier to predict leukemia subtype using the Support Vector Machines method\n",
    "<p>Support Vector Machines (SVMs) are classification models built by a supervised learning algorithm that analyzes the features of phenotype-labeled samples and attempts to find the line or plane (more formally, <a href=\"https://en.wikipedia.org/wiki/Hyperplane\" target=\"_blank\">hyperplane</a>) that separates them.  These models can then be applied to unlabelled samples to predict their classifications.</p>"
   ]
  },
  {
   "cell_type": "markdown",
   "metadata": {},
   "source": [
    "## Import required Python libraries"
   ]
  },
  {
   "cell_type": "code",
   "execution_count": 6,
   "metadata": {},
   "outputs": [
    {
     "ename": "ModuleNotFoundError",
     "evalue": "No module named 'numpy'",
     "output_type": "error",
     "traceback": [
      "\u001b[0;31m---------------------------------------------------------------------------\u001b[0m",
      "\u001b[0;31mModuleNotFoundError\u001b[0m                       Traceback (most recent call last)",
      "\u001b[0;32m<ipython-input-6-44eee5dd813f>\u001b[0m in \u001b[0;36m<module>\u001b[0;34m\u001b[0m\n\u001b[0;32m----> 1\u001b[0;31m \u001b[0;32mimport\u001b[0m \u001b[0mnumpy\u001b[0m \u001b[0;32mas\u001b[0m \u001b[0mnp\u001b[0m\u001b[0;34m\u001b[0m\u001b[0;34m\u001b[0m\u001b[0m\n\u001b[0m\u001b[1;32m      2\u001b[0m \u001b[0;32mimport\u001b[0m \u001b[0mpandas\u001b[0m \u001b[0;32mas\u001b[0m \u001b[0mpd\u001b[0m\u001b[0;34m\u001b[0m\u001b[0;34m\u001b[0m\u001b[0m\n\u001b[1;32m      3\u001b[0m \u001b[0;32mfrom\u001b[0m \u001b[0msklearn\u001b[0m \u001b[0;32mimport\u001b[0m \u001b[0msvm\u001b[0m\u001b[0;34m\u001b[0m\u001b[0;34m\u001b[0m\u001b[0m\n",
      "\u001b[0;31mModuleNotFoundError\u001b[0m: No module named 'numpy'"
     ]
    }
   ],
   "source": [
    "import numpy as np\n",
    "import pandas as pd\n",
    "from sklearn import svm"
   ]
  },
  {
   "cell_type": "markdown",
   "metadata": {},
   "source": [
    "### Utility function to read expression dataset\n",
    "- Accepts a file in the GenePattern [RES](http://www.broadinstitute.org/cancer/software/genepattern/file-formats-guide#RES) format\n",
    "- Returns a matrix of type numpy.ndarray"
   ]
  },
  {
   "cell_type": "code",
   "execution_count": 7,
   "metadata": {},
   "outputs": [],
   "source": [
    "def read_dataset(filename):\n",
    "    f=open(filename + \".res\", \"r\")\n",
    "    hdrs = f.readline()\n",
    "    all_hdrs = hdrs.split('\\t')\n",
    "    col_nums = [i for i,x in enumerate(all_hdrs) if ((x != '') and (x !='\\n'))]\n",
    "    f.close()\n",
    "    col_nums.remove(0)\n",
    "    result_df=pd.read_table(trainfile+\".res\",header=0,index_col=0,usecols=col_nums,skiprows=[1,2],skipinitialspace=True)\n",
    "    result_matrix = result_df.as_matrix().transpose()\n",
    "    return result_matrix"
   ]
  },
  {
   "cell_type": "markdown",
   "metadata": {},
   "source": [
    "### Utility function to write result data matrix to a file"
   ]
  },
  {
   "cell_type": "code",
   "execution_count": 8,
   "metadata": {},
   "outputs": [],
   "source": [
    "def write_matrix(data_matrix, fname):\n",
    "    f = open(fname,\"w\")\n",
    "    for i in range(0,len(data_matrix)):\n",
    "        for j in range(0,len(data_matrix[i])):\n",
    "            f.write(str(data_matrix[i][j])+\"\\t\")\n",
    "        f.write(\"\\n\")\n",
    "    f.close()"
   ]
  },
  {
   "cell_type": "markdown",
   "metadata": {},
   "source": [
    "### Base filenames for train and test sets:"
   ]
  },
  {
   "cell_type": "code",
   "execution_count": 2,
   "metadata": {},
   "outputs": [],
   "source": [
    "testfile = \"GCM_Test\"\n",
    "trainfile = \"GCM_Training\""
   ]
  },
  {
   "cell_type": "markdown",
   "metadata": {},
   "source": [
    "### Read class label files for train and test sets:"
   ]
  },
  {
   "cell_type": "code",
   "execution_count": 3,
   "metadata": {},
   "outputs": [],
   "source": [
    "labels = {}\n",
    "vectors = {}\n",
    "\n",
    "for f in [\"Training\",\"Test\"]:\n",
    "    class_file = \"GCM_\" + f + \".cls\"\n",
    "    c_file = open(class_file,\"r\")\n",
    "    hdr = c_file.readline()\n",
    "    labels[f] = c_file.readline()[2:].split()\n",
    "    vectors[f] = c_file.readline().split()"
   ]
  },
  {
   "cell_type": "markdown",
   "metadata": {},
   "source": [
    "## Read train and test datasets"
   ]
  },
  {
   "cell_type": "code",
   "execution_count": 54,
   "metadata": {},
   "outputs": [],
   "source": [
    "train_matrix = read_dataset(trainfile)\n",
    "test_matrix = read_dataset(testfile)"
   ]
  },
  {
   "cell_type": "markdown",
   "metadata": {},
   "source": [
    "## Create linear SVM model on training dataset"
   ]
  },
  {
   "cell_type": "code",
   "execution_count": null,
   "metadata": {
    "collapsed": true,
    "jupyter": {
     "outputs_hidden": true
    }
   },
   "outputs": [],
   "source": [
    "clf = svm.LinearSVC()\n",
    "data_fit = clf.fit(train_matrix, vectors[\"Training\"])"
   ]
  },
  {
   "cell_type": "markdown",
   "metadata": {},
   "source": [
    "## Run resulting model on test dataset\n",
    "- Numbers indicate predicted class for each sample"
   ]
  },
  {
   "cell_type": "code",
   "execution_count": null,
   "metadata": {
    "collapsed": true,
    "jupyter": {
     "outputs_hidden": true
    }
   },
   "outputs": [],
   "source": [
    "data_predict = clf.predict(test_matrix)"
   ]
  },
  {
   "cell_type": "markdown",
   "metadata": {},
   "source": [
    "## Write results to file"
   ]
  },
  {
   "cell_type": "code",
   "execution_count": null,
   "metadata": {
    "collapsed": true,
    "jupyter": {
     "outputs_hidden": true
    }
   },
   "outputs": [],
   "source": [
    "write_matrix(data_predict,\"prediction_results.txt\")"
   ]
  },
  {
   "cell_type": "markdown",
   "metadata": {},
   "source": [
    "## References\n",
    "\n",
    "Golub, T.R., Slonim, D.K., Tamayo, P., Huard, C., Gaasenbeek, M., Mesirov, J.P., Coller, H., Loh, M., Downing, J.R., Caligiuri, M.A., Bloomfield, C.D., and Lander, E.S. 1999. Molecular Classification of Cancer: Class Discovery and Class Prediction by Gene Expression. <a href=\"http://science.sciencemag.org/content/286/5439/531.long\" target=\"_blank\">Science 286:531-537</a>.\n",
    "\n",
    "Rifkin, R., Mukherjee, S., Tamayo, P., Ramaswamy, S., Yeang, C-H, Angelo, M., Reich, M., Poggio, T., Lander, E.S., Golub, T.R., Mesirov, J.P. 2003. An Analytical Method for Multiclass Molecular Cancer Classification. <a href=\"http://epubs.siam.org/doi/abs/10.1137/S0036144502411986\" target=\"_blank\">SIAM Review 45(4):706-723</a>.\n",
    "\n",
    "Ramaswamy, S., Tamayo, P., Rifkin, R., Mukherjee, S., Yeang, C-H, Angelo, M., Ladd, C., Reich, M., Latulippe, E., Mesirov, J.P., Poggio, T., Gerald, W., Loda, M., Lander, E.S., Golub, T.R.  2001. Multiclass cancer diagnosis using tumor gene expression signatures. <a href=\"http://www.pnas.org/content/98/26/15149..\" target=\"_blank\">PNAS 98(26):5149–15154</a>.\n",
    "\n",
    "Slonim, D.K., Tamayo, P., Mesirov, J.P., Golub, T.R., Lander, E.S. 2000. Class prediction and discovery using gene expression data. In <a href=\"http://dl.acm.org/citation.cfm?id=332564\" target=\"_blank\">Proceedings of the Fourth Annual International Conference on Computational Molecular Biology (RECOMB)</a>. ACM Press, New York. pp. 263-272.\n",
    "\n",
    "Guyon, I., Weston, J., Barnhill, S., & Vapnik, V. 2002. Gene selection for cancer classification using support vector machines. <a href=\"https://link.springer.com/article/10.1023%2FA%3A1012487302797\" target=\"_blank\">Mach. Learn., 46(1-3), 389–422</a>.\n",
    "\n",
    "Hsu, C-W., Chang, C-C., Lin, C-J. 2016. <a href=\"https://www.csie.ntu.edu.tw/~cjlin/papers/guide/guide.pdf\" target=\"_blank\">A Practical Guide to Support Vector Classification</a>.\n",
    "\n",
    "Pedregosa, F., Varoquaux, G., Gramfort, A., Michel, V., Thirion, B., Grisel, O., Blondel, M., Prettenhofer, P., Weiss, R., Dubourg, V., Vanderplas, J., Passos, A., Cournapeau, D., Brucher, M., Perrot, M., Duchesnay, E. 2011. Scikit-learn: Machine Learning in Python. <a href=\"http://jmlr.csail.mit.edu/papers/v12/pedregosa11a.html\" target=\"_blank\">JMLR 12, pp. 2825-2830</a>."
   ]
  }
 ],
 "metadata": {
  "anaconda-cloud": {},
  "genepattern": {
   "repository_url": "http://notebook.genepattern.org/services/sharing/notebooks/326/"
  },
  "kernelspec": {
   "display_name": "Python 3",
   "language": "python",
   "name": "python3"
  },
  "language_info": {
   "codemirror_mode": {
    "name": "ipython",
    "version": 3
   },
   "file_extension": ".py",
   "mimetype": "text/x-python",
   "name": "python",
   "nbconvert_exporter": "python",
   "pygments_lexer": "ipython3",
   "version": "3.7.6"
  },
  "toc": {
   "base_numbering": 1,
   "nav_menu": {},
   "number_sections": false,
   "sideBar": true,
   "skip_h1_title": false,
   "title_cell": "Table of Contents",
   "title_sidebar": "Contents",
   "toc_cell": false,
   "toc_position": {},
   "toc_section_display": true,
   "toc_window_display": false
  },
  "widgets": {
   "application/vnd.jupyter.widget-state+json": {
    "state": {},
    "version_major": 2,
    "version_minor": 0
   }
  }
 },
 "nbformat": 4,
 "nbformat_minor": 4
}
