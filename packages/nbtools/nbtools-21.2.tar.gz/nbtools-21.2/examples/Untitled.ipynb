{
 "cells": [
  {
   "cell_type": "code",
   "execution_count": 2,
   "metadata": {},
   "outputs": [
    {
     "data": {
      "application/vnd.jupyter.widget-view+json": {
       "model_id": "b3d3d0681bee46108cf4a0dc3b17ebf6",
       "version_major": 2,
       "version_minor": 0
      },
      "text/plain": [
       "UIOutput(appendix=VBox(), files=['all_aml_test.cls'])"
      ]
     },
     "metadata": {},
     "output_type": "display_data"
    }
   ],
   "source": [
    "import nbtools\n",
    "\n",
    "nbtools.UIOutput(files=['all_aml_test.cls'])"
   ]
  },
  {
   "cell_type": "code",
   "execution_count": 5,
   "metadata": {},
   "outputs": [
    {
     "data": {
      "application/vnd.jupyter.widget-view+json": {
       "model_id": "92f7965e95bc470c86d2482bf57e6d31",
       "version_major": 2,
       "version_minor": 0
      },
      "text/plain": [
       "GPAuthWidget(buttons={'Register an Account': \"\\n    const target = event.target;\\n    const widget = target.cl…"
      ]
     },
     "metadata": {},
     "output_type": "display_data"
    },
    {
     "data": {
      "application/vnd.jupyter.widget-view+json": {
       "model_id": "b9a5736ac2e047c1a555d55bec9e7a2b",
       "version_major": 2,
       "version_minor": 0
      },
      "text/plain": [
       "Output()"
      ]
     },
     "metadata": {},
     "output_type": "display_data"
    }
   ],
   "source": [
    "nbtools.tool(id='authentication', origin='+')"
   ]
  },
  {
   "cell_type": "markdown",
   "metadata": {},
   "source": [
    "## Markdown\n",
    "\n",
    "<a href=\"foo.html\" class=\"nbtools-text-option\">OK</a>"
   ]
  },
  {
   "cell_type": "code",
   "execution_count": 4,
   "metadata": {},
   "outputs": [
    {
     "data": {
      "application/vnd.jupyter.widget-view+json": {
       "model_id": "0513738482f6493db706a72823d58c79",
       "version_major": 2,
       "version_minor": 0
      },
      "text/plain": [
       "UIBuilder(collapse=True, form=InteractiveForm(children=(FileFormInput(value='', children=(Label(value='y*', de…"
      ]
     },
     "metadata": {},
     "output_type": "display_data"
    },
    {
     "data": {
      "application/vnd.jupyter.widget-view+json": {
       "model_id": "093ddedc7265403f8f0cd90b0809e2dd",
       "version_major": 2,
       "version_minor": 0
      },
      "text/plain": [
       "Output()"
      ]
     },
     "metadata": {},
     "output_type": "display_data"
    }
   ],
   "source": [
    "import nbtools\n",
    "\n",
    "@nbtools.build_ui(parameters={\n",
    "    'y': {\n",
    "        'type': 'file',\n",
    "        'choices': {\n",
    "            'hello': 'world',\n",
    "            'more': 'cowbell'\n",
    "        }\n",
    "    },\n",
    "    'z': {\n",
    "        'type': 'text',\n",
    "        #'combo': True,\n",
    "        'choices': {\n",
    "            'hello': 'world',\n",
    "            'more': 'cowbell'\n",
    "        }\n",
    "    },\n",
    "    'a': {\n",
    "        'type': 'choice',\n",
    "        'combo': True,\n",
    "        'choices': {\n",
    "            'hello': 'world',\n",
    "            'more': 'cowbell'\n",
    "        }\n",
    "    }\n",
    "})\n",
    "def x(y, z, a):\n",
    "    pass"
   ]
  },
  {
   "cell_type": "code",
   "execution_count": 7,
   "metadata": {},
   "outputs": [
    {
     "data": {
      "application/vnd.jupyter.widget-view+json": {
       "model_id": "1ba271b0f7ae4d8ab4332e3e965d6a51",
       "version_major": 2,
       "version_minor": 0
      },
      "text/plain": [
       "UIBuilder(collapse=True, form=InteractiveForm(children=(Button(description='Run', style=ButtonStyle(), _dom_cl…"
      ]
     },
     "metadata": {},
     "output_type": "display_data"
    },
    {
     "data": {
      "application/vnd.jupyter.widget-view+json": {
       "model_id": "e36ab087406848af9eccdf74b6c8b243",
       "version_major": 2,
       "version_minor": 0
      },
      "text/plain": [
       "Output()"
      ]
     },
     "metadata": {},
     "output_type": "display_data"
    }
   ],
   "source": [
    "@nbtools.build_ui(name=\"RNA-seq\")\n",
    "def rna1():\n",
    "    pass"
   ]
  },
  {
   "cell_type": "code",
   "execution_count": 8,
   "metadata": {},
   "outputs": [
    {
     "data": {
      "application/vnd.jupyter.widget-view+json": {
       "model_id": "3cb59b4f893d445ab1ecd10ea5b73e55",
       "version_major": 2,
       "version_minor": 0
      },
      "text/plain": [
       "UIBuilder(collapse=True, form=InteractiveForm(children=(Button(description='Run', style=ButtonStyle(), _dom_cl…"
      ]
     },
     "metadata": {},
     "output_type": "display_data"
    },
    {
     "data": {
      "application/vnd.jupyter.widget-view+json": {
       "model_id": "14b5bdf26b0c42b48e488d96d88f1d6f",
       "version_major": 2,
       "version_minor": 0
      },
      "text/plain": [
       "Output()"
      ]
     },
     "metadata": {},
     "output_type": "display_data"
    }
   ],
   "source": [
    "@nbtools.build_ui(name=\"RNAseq\")\n",
    "def rna2():\n",
    "    pass"
   ]
  },
  {
   "cell_type": "code",
   "execution_count": 9,
   "metadata": {},
   "outputs": [
    {
     "data": {
      "application/vnd.jupyter.widget-view+json": {
       "model_id": "699fc45e1a3d440da84dbb7afa195e8f",
       "version_major": 2,
       "version_minor": 0
      },
      "text/plain": [
       "UIBuilder(collapse=True, form=InteractiveForm(children=(Button(description='Run', style=ButtonStyle(), _dom_cl…"
      ]
     },
     "metadata": {},
     "output_type": "display_data"
    },
    {
     "data": {
      "application/vnd.jupyter.widget-view+json": {
       "model_id": "e92a20c7b8d949e9978723b9f794a17d",
       "version_major": 2,
       "version_minor": 0
      },
      "text/plain": [
       "Output()"
      ]
     },
     "metadata": {},
     "output_type": "display_data"
    }
   ],
   "source": [
    "@nbtools.build_ui(name=\"RNA seq\")\n",
    "def rna3():\n",
    "    pass"
   ]
  },
  {
   "cell_type": "code",
   "execution_count": null,
   "metadata": {},
   "outputs": [],
   "source": []
  }
 ],
 "metadata": {
  "kernelspec": {
   "display_name": "Python 3",
   "language": "python",
   "name": "python3"
  },
  "language_info": {
   "codemirror_mode": {
    "name": "ipython",
    "version": 3
   },
   "file_extension": ".py",
   "mimetype": "text/x-python",
   "name": "python",
   "nbconvert_exporter": "python",
   "pygments_lexer": "ipython3",
   "version": "3.7.6"
  },
  "widgets": {
   "application/vnd.jupyter.widget-state+json": {
    "state": {
     "00e59e1f680f47edb93ddcb4aab4c9f8": {
      "model_module": "@jupyter-widgets/controls",
      "model_module_version": "1.5.0",
      "model_name": "DescriptionStyleModel",
      "state": {
       "description_width": ""
      }
     },
     "00e81f759b2e49e092aeea95b2eb13a0": {
      "model_module": "@jupyter-widgets/base",
      "model_module_version": "1.2.0",
      "model_name": "LayoutModel",
      "state": {
       "grid_area": "input",
       "width": "auto"
      }
     },
     "0156bf179098419893f8bff516c05779": {
      "model_module": "@jupyter-widgets/controls",
      "model_module_version": "1.5.0",
      "model_name": "LabelModel",
      "state": {
       "description": "GenePattern Server",
       "layout": "IPY_MODEL_c806aee4df5947bd930a43a208ea560f",
       "style": "IPY_MODEL_a119df4941a14c3aa79b9ea426d70e01",
       "value": "GenePattern Server*"
      }
     },
     "02970b3642c048dcb2ddad732dec8777": {
      "model_module": "@jupyter-widgets/controls",
      "model_module_version": "1.5.0",
      "model_name": "LabelModel",
      "state": {
       "layout": "IPY_MODEL_64dffa478a254edf83ebd756f09dbe7e",
       "style": "IPY_MODEL_1f0ccdd19b10400186a2e47f5726402a"
      }
     },
     "02e4698af4ea4beda8af03524511376a": {
      "model_module": "@jupyter-widgets/base",
      "model_module_version": "1.2.0",
      "model_name": "LayoutModel",
      "state": {}
     },
     "0413017b321c4e9fbc7314a324028032": {
      "model_module": "@jupyter-widgets/controls",
      "model_module_version": "1.5.0",
      "model_name": "DescriptionStyleModel",
      "state": {
       "description_width": ""
      }
     },
     "045041bb91134db3beead4b7af40cb9f": {
      "model_module": "@jupyter-widgets/controls",
      "model_module_version": "1.5.0",
      "model_name": "TextModel",
      "state": {
       "_dom_classes": [
        "nbtools-menu-attached"
       ],
       "layout": "IPY_MODEL_21395ff8390f4758ac8c6baed6ea5db6",
       "style": "IPY_MODEL_2052c6162f664fcf8c47b7a402c813fc"
      }
     },
     "0461f45b7985472f92b7b232c46fc9a1": {
      "model_module": "@jupyter-widgets/controls",
      "model_module_version": "1.5.0",
      "model_name": "DescriptionStyleModel",
      "state": {
       "description_width": ""
      }
     },
     "04da3e52f1f34aa982d47f9c52453326": {
      "model_module": "@jupyter-widgets/base",
      "model_module_version": "1.2.0",
      "model_name": "LayoutModel",
      "state": {
       "grid_template_areas": "\n                    \"label input\"\n                    \". description\"\n                ",
       "grid_template_columns": "25% 75%",
       "grid_template_rows": "auto auto",
       "width": "100%"
      }
     },
     "0513738482f6493db706a72823d58c79": {
      "model_module": "@genepattern/nbtools",
      "model_module_version": "^20.10.0-alpha.0",
      "model_name": "UIBuilderModel",
      "state": {
       "_dom_classes": [],
       "_model_module_version": "^20.10.0-alpha.0",
       "_parameters": [
        {
         "choices": {
          "hello": "world",
          "more": "cowbell"
         },
         "default": "",
         "description": "",
         "events": null,
         "hide": false,
         "id": null,
         "kinds": null,
         "label": "y",
         "name": "y",
         "optional": false,
         "type": "file",
         "value": ""
        },
        {
         "choices": {
          "hello": "world",
          "more": "cowbell"
         },
         "default": "",
         "description": "",
         "events": null,
         "hide": false,
         "id": null,
         "kinds": null,
         "label": "z",
         "name": "z",
         "optional": false,
         "type": "text",
         "value": ""
        },
        {
         "choices": {
          "hello": "world",
          "more": "cowbell"
         },
         "combo": true,
         "default": "",
         "description": "",
         "events": null,
         "hide": false,
         "id": null,
         "kinds": null,
         "label": "a",
         "name": "a",
         "optional": false,
         "type": "choice",
         "value": ""
        },
        {
         "choices": {},
         "default": "",
         "description": "",
         "events": null,
         "hide": true,
         "id": null,
         "kinds": null,
         "label": "output variable",
         "name": "output_var",
         "optional": true,
         "type": "text",
         "value": ""
        }
       ],
       "_view_count": null,
       "_view_module_version": "^20.10.0-alpha.0",
       "form": "IPY_MODEL_87350b6912b4425091da17df94a1b3b6",
       "layout": "IPY_MODEL_f1d1a2913bd24105901a789613b38cc4",
       "name": "x",
       "origin": "Notebook",
       "output": "IPY_MODEL_093ddedc7265403f8f0cd90b0809e2dd",
       "output_var": ""
      }
     },
     "064e31a036264702a74531fc1f09a59b": {
      "model_module": "@jupyter-widgets/controls",
      "model_module_version": "1.5.0",
      "model_name": "DescriptionStyleModel",
      "state": {
       "description_width": ""
      }
     },
     "07de5f2eddc54e6fba5b129895d08175": {
      "model_module": "@jupyter-widgets/base",
      "model_module_version": "1.2.0",
      "model_name": "LayoutModel",
      "state": {}
     },
     "07f292655eea4916a1d235f3e4799823": {
      "model_module": "@jupyter-widgets/controls",
      "model_module_version": "1.5.0",
      "model_name": "ButtonStyleModel",
      "state": {}
     },
     "08138fe468284263be8b098b17fb349a": {
      "model_module": "@jupyter-widgets/base",
      "model_module_version": "1.2.0",
      "model_name": "LayoutModel",
      "state": {}
     },
     "092da48c7c654fa188d7f476d02b1110": {
      "model_module": "@jupyter-widgets/base",
      "model_module_version": "1.2.0",
      "model_name": "LayoutModel",
      "state": {}
     },
     "093ddedc7265403f8f0cd90b0809e2dd": {
      "model_module": "@jupyter-widgets/output",
      "model_module_version": "1.0.0",
      "model_name": "OutputModel",
      "state": {
       "layout": "IPY_MODEL_18de62b65ebd4aaaa9dda50f54c1adfb"
      }
     },
     "0a4bc915141448d89725d35b7724b7e4": {
      "model_module": "@jupyter-widgets/controls",
      "model_module_version": "1.5.0",
      "model_name": "DescriptionStyleModel",
      "state": {
       "description_width": ""
      }
     },
     "0c7c83d95d3b44c3bc6f77774b2c3c38": {
      "model_module": "@jupyter-widgets/base",
      "model_module_version": "1.2.0",
      "model_name": "LayoutModel",
      "state": {
       "grid_area": "description",
       "width": "auto"
      }
     },
     "0d2a5cac000346448f82173c68c97a68": {
      "model_module": "@jupyter-widgets/base",
      "model_module_version": "1.2.0",
      "model_name": "LayoutModel",
      "state": {}
     },
     "0dbcc8b2ff774bc08af1461f35648615": {
      "model_module": "@jupyter-widgets/base",
      "model_module_version": "1.2.0",
      "model_name": "LayoutModel",
      "state": {
       "grid_area": "label",
       "width": "auto"
      }
     },
     "0dda5eb4cd1b4a2eb19737194e9c8ee9": {
      "model_module": "@jupyter-widgets/controls",
      "model_module_version": "1.5.0",
      "model_name": "FileUploadModel",
      "state": {
       "description_tooltip": null,
       "layout": "IPY_MODEL_7dffa8c48f434ab2970f96970e0df524",
       "style": "IPY_MODEL_e5fef8c6a47b4122ba8278592cfb5378"
      }
     },
     "0e75c77110b7409cbb7e63b10921f5f7": {
      "model_module": "@jupyter-widgets/base",
      "model_module_version": "1.2.0",
      "model_name": "LayoutModel",
      "state": {
       "grid_area": "input",
       "width": "auto"
      }
     },
     "0f36cbce94ef4b1384e89857f3792ffa": {
      "model_module": "@jupyter-widgets/controls",
      "model_module_version": "1.5.0",
      "model_name": "LabelModel",
      "state": {
       "layout": "IPY_MODEL_1073a73a3f5344348c295454070c5e17",
       "style": "IPY_MODEL_00e59e1f680f47edb93ddcb4aab4c9f8"
      }
     },
     "0f944c2d626241bf80f97bd7838e4397": {
      "model_module": "@jupyter-widgets/base",
      "model_module_version": "1.2.0",
      "model_name": "LayoutModel",
      "state": {
       "grid_area": "input",
       "width": "auto"
      }
     },
     "1073a73a3f5344348c295454070c5e17": {
      "model_module": "@jupyter-widgets/base",
      "model_module_version": "1.2.0",
      "model_name": "LayoutModel",
      "state": {
       "grid_area": "description",
       "width": "auto"
      }
     },
     "10c6dd38949d492ea97c90311517bed0": {
      "model_module": "@jupyter-widgets/controls",
      "model_module_version": "1.5.0",
      "model_name": "LabelModel",
      "state": {
       "layout": "IPY_MODEL_77798420a8844d4a9edb50df1bdc11a1",
       "style": "IPY_MODEL_9d90ad4b833048508945ee993e564a56"
      }
     },
     "112078e364f141f5a80e8a25e74af4d8": {
      "model_module": "@jupyter-widgets/controls",
      "model_module_version": "1.5.0",
      "model_name": "ComboboxModel",
      "state": {
       "_dom_classes": [
        "nbtools-menu-attached",
        "nbtools-nosendto"
       ],
       "choices": {
        "Broad Internal": "https://gpbroad.broadinstitute.org/gp",
        "GenePattern Cloud": "https://cloud.genepattern.org/gp",
        "Indiana University": "https://gp.indiana.edu/gp"
       },
       "ensure_option": false,
       "kinds": [],
       "layout": "IPY_MODEL_cff4a25d23ff4704aede60b932b6dc5b",
       "style": "IPY_MODEL_76a3d5c322004f198e424362361ca797",
       "value": "https://cloud.genepattern.org/gp"
      }
     },
     "120c27cc4a394148845740582114caf8": {
      "model_module": "@jupyter-widgets/base",
      "model_module_version": "1.2.0",
      "model_name": "LayoutModel",
      "state": {}
     },
     "12bcf3ae30204350bf93de7b9801573d": {
      "model_module": "@jupyter-widgets/controls",
      "model_module_version": "1.5.0",
      "model_name": "DescriptionStyleModel",
      "state": {
       "description_width": ""
      }
     },
     "13a7cf2f254a494fb2cb9fd8b08943bf": {
      "model_module": "@jupyter-widgets/controls",
      "model_module_version": "1.5.0",
      "model_name": "DescriptionStyleModel",
      "state": {
       "description_width": ""
      }
     },
     "13bbe0bc35324c989501a3b9b2a72aa7": {
      "model_module": "@jupyter-widgets/base",
      "model_module_version": "1.2.0",
      "model_name": "LayoutModel",
      "state": {
       "grid_template_areas": "\n                    \"label input\"\n                    \". description\"\n                ",
       "grid_template_columns": "25% 75%",
       "grid_template_rows": "auto auto",
       "width": "100%"
      }
     },
     "14b5bdf26b0c42b48e488d96d88f1d6f": {
      "model_module": "@jupyter-widgets/output",
      "model_module_version": "1.0.0",
      "model_name": "OutputModel",
      "state": {
       "layout": "IPY_MODEL_37f5278229134a3ca8c977e93b84ecaa"
      }
     },
     "1616c63c8231461392fcb3e0bc3a4a31": {
      "model_module": "@jupyter-widgets/controls",
      "model_module_version": "1.5.0",
      "model_name": "DescriptionStyleModel",
      "state": {
       "description_width": ""
      }
     },
     "16634c7206f74a99bf73d55d833cdf17": {
      "model_module": "@jupyter-widgets/controls",
      "model_module_version": "1.5.0",
      "model_name": "LabelModel",
      "state": {
       "layout": "IPY_MODEL_8e36ff7f28004bd2ae8c476be25748e3",
       "style": "IPY_MODEL_4d2c4ca2ebb14f299a99391fa3475f9b"
      }
     },
     "184ef98ddcbe42ad8fcd243907f0ac89": {
      "model_module": "@jupyter-widgets/output",
      "model_module_version": "1.0.0",
      "model_name": "OutputModel",
      "state": {
       "layout": "IPY_MODEL_d4dc11dc78a4493982fd1389997f549f"
      }
     },
     "18815707434042e9972a4fc8a1fe9032": {
      "model_module": "@jupyter-widgets/controls",
      "model_module_version": "1.5.0",
      "model_name": "LabelModel",
      "state": {
       "description": "output variable",
       "layout": "IPY_MODEL_368de5be5d3e46ac93827de42cf4bcfb",
       "style": "IPY_MODEL_85044bbae999448c8f19c89575ac0c21",
       "value": "output variable"
      }
     },
     "18de62b65ebd4aaaa9dda50f54c1adfb": {
      "model_module": "@jupyter-widgets/base",
      "model_module_version": "1.2.0",
      "model_name": "LayoutModel",
      "state": {}
     },
     "19090e0b0d064cf3bb38419b2200e53c": {
      "model_module": "@jupyter-widgets/controls",
      "model_module_version": "1.5.0",
      "model_name": "DescriptionStyleModel",
      "state": {
       "description_width": ""
      }
     },
     "19f8a2c85f324b7799b137c5c845dfbc": {
      "model_module": "@jupyter-widgets/controls",
      "model_module_version": "1.5.0",
      "model_name": "VBoxModel",
      "state": {
       "_dom_classes": [
        "widget-interact"
       ],
       "children": [
        "IPY_MODEL_37f9b62bec344090b4530ba3acc0bd64",
        "IPY_MODEL_3d0711624f8b43dfb44a82c39acd4045"
       ],
       "layout": "IPY_MODEL_02e4698af4ea4beda8af03524511376a"
      }
     },
     "1a746fcee33548efb46833e96849dde6": {
      "model_module": "@jupyter-widgets/controls",
      "model_module_version": "1.5.0",
      "model_name": "TextModel",
      "state": {
       "_dom_classes": [
        "nbtools-menu-attached"
       ],
       "layout": "IPY_MODEL_b0aac921b2b54343b36e06bdb56d8074",
       "style": "IPY_MODEL_12bcf3ae30204350bf93de7b9801573d"
      }
     },
     "1b6c481a489f42ef91fcc9a75acc431b": {
      "model_module": "@jupyter-widgets/controls",
      "model_module_version": "1.5.0",
      "model_name": "DescriptionStyleModel",
      "state": {
       "description_width": ""
      }
     },
     "1ba271b0f7ae4d8ab4332e3e965d6a51": {
      "model_module": "@genepattern/nbtools",
      "model_module_version": "^20.10.0-alpha.0",
      "model_name": "UIBuilderModel",
      "state": {
       "_dom_classes": [],
       "_model_module_version": "^20.10.0-alpha.0",
       "_parameters": [
        {
         "choices": {},
         "default": "",
         "description": "",
         "events": null,
         "hide": true,
         "id": null,
         "kinds": null,
         "label": "output variable",
         "name": "output_var",
         "optional": true,
         "type": "text",
         "value": ""
        }
       ],
       "_view_count": null,
       "_view_module_version": "^20.10.0-alpha.0",
       "form": "IPY_MODEL_19f8a2c85f324b7799b137c5c845dfbc",
       "layout": "IPY_MODEL_d49d8766d11f43839dc5f635b5ccf8f1",
       "name": "RNA-seq",
       "origin": "Notebook",
       "output": "IPY_MODEL_e36ab087406848af9eccdf74b6c8b243",
       "output_var": ""
      }
     },
     "1be24321dc044981906a3cfb6c1118e0": {
      "model_module": "@jupyter-widgets/base",
      "model_module_version": "1.2.0",
      "model_name": "LayoutModel",
      "state": {
       "display": "none",
       "grid_template_areas": "\n                    \"label input\"\n                    \". description\"\n                ",
       "grid_template_columns": "25% 75%",
       "grid_template_rows": "auto auto",
       "width": "100%"
      }
     },
     "1c245dc94b974059bae7ff9940a6e63a": {
      "model_module": "@jupyter-widgets/controls",
      "model_module_version": "1.5.0",
      "model_name": "LabelModel",
      "state": {
       "layout": "IPY_MODEL_619586c4cabb413da45d09c4a7ee3160",
       "style": "IPY_MODEL_c905e6dad8c7491bb9b1a4ea76558dc2"
      }
     },
     "1c3e3e211b7c4b0393e0880493dd5e25": {
      "model_module": "@jupyter-widgets/controls",
      "model_module_version": "1.5.0",
      "model_name": "LabelModel",
      "state": {
       "layout": "IPY_MODEL_c0f3801c5141409389b3d1e0087289c1",
       "style": "IPY_MODEL_fd1d6fced0ed4dd19bf8862615994bde"
      }
     },
     "1d0510f350fe48f8946adb3a6901c712": {
      "model_module": "@jupyter-widgets/controls",
      "model_module_version": "1.5.0",
      "model_name": "GridBoxModel",
      "state": {
       "_dom_classes": [
        "nbtools-input",
        "nbtools-comboinput",
        "required"
       ],
       "children": [
        "IPY_MODEL_3d832a06c3a94f0abbf5ee8ea0692bfa",
        "IPY_MODEL_63ac73b3632d4b628d455807239990bc",
        "IPY_MODEL_9542ad312df2493eb0d21e43ebf8c99d"
       ],
       "layout": "IPY_MODEL_13bbe0bc35324c989501a3b9b2a72aa7"
      }
     },
     "1d89f2799a4342f8b47dba7d54517fdc": {
      "model_module": "@jupyter-widgets/base",
      "model_module_version": "1.2.0",
      "model_name": "LayoutModel",
      "state": {
       "grid_area": "description",
       "width": "auto"
      }
     },
     "1ed85e7237734b009a165bcb731e1946": {
      "model_module": "@jupyter-widgets/controls",
      "model_module_version": "1.5.0",
      "model_name": "VBoxModel",
      "state": {
       "_dom_classes": [
        "widget-interact"
       ],
       "children": [
        "IPY_MODEL_9c5b5416e89b4db2acfe46c2670bf23b",
        "IPY_MODEL_3ed9790771234c6ba30a783b5702b34d",
        "IPY_MODEL_e3e9faa668c94c62a94988b18815e7ee",
        "IPY_MODEL_76e249436d774e99af3c0a5c16d80e5b",
        "IPY_MODEL_2437ae7039054049a5aeed09e80f8e82"
       ],
       "layout": "IPY_MODEL_6be1a8cc7fd140a5bb503f02b631dda2"
      }
     },
     "1f0ccdd19b10400186a2e47f5726402a": {
      "model_module": "@jupyter-widgets/controls",
      "model_module_version": "1.5.0",
      "model_name": "DescriptionStyleModel",
      "state": {
       "description_width": ""
      }
     },
     "1f8ef9d04c0347e2abe44ef7d47b56b4": {
      "model_module": "@jupyter-widgets/controls",
      "model_module_version": "1.5.0",
      "model_name": "DescriptionStyleModel",
      "state": {
       "description_width": ""
      }
     },
     "1fb749c3837e4fb6aff972edbe8d4bff": {
      "model_module": "@jupyter-widgets/base",
      "model_module_version": "1.2.0",
      "model_name": "LayoutModel",
      "state": {
       "grid_area": "input",
       "width": "auto"
      }
     },
     "2052c6162f664fcf8c47b7a402c813fc": {
      "model_module": "@jupyter-widgets/controls",
      "model_module_version": "1.5.0",
      "model_name": "DescriptionStyleModel",
      "state": {
       "description_width": ""
      }
     },
     "205c8c8ffb81457d8ca70f5ff7cd7dd7": {
      "model_module": "@jupyter-widgets/base",
      "model_module_version": "1.2.0",
      "model_name": "LayoutModel",
      "state": {}
     },
     "20ac06880f4748fe93ecbbd57adb7ed9": {
      "model_module": "@jupyter-widgets/controls",
      "model_module_version": "1.5.0",
      "model_name": "LabelModel",
      "state": {
       "layout": "IPY_MODEL_1d89f2799a4342f8b47dba7d54517fdc",
       "style": "IPY_MODEL_ab28b5e38a4b4d89a04405726b0efd10"
      }
     },
     "20ae333dbc024b7eabcd9734f75a8347": {
      "model_module": "@jupyter-widgets/controls",
      "model_module_version": "1.5.0",
      "model_name": "ButtonModel",
      "state": {
       "_dom_classes": [
        "hidden"
       ],
       "description": "Run",
       "layout": "IPY_MODEL_6e0ad6db56564d819b00f4eb42bb94e5",
       "style": "IPY_MODEL_5b973ffd4a69460d85fd381580ce1eba"
      }
     },
     "2119b53c34a346918265e79cfe12ca08": {
      "model_module": "@jupyter-widgets/controls",
      "model_module_version": "1.5.0",
      "model_name": "LabelModel",
      "state": {
       "layout": "IPY_MODEL_8a812126326b4bdf82ad7d9020bccd3a",
       "style": "IPY_MODEL_47f02067d61d40d68a162fb5ec0a99ea"
      }
     },
     "21395ff8390f4758ac8c6baed6ea5db6": {
      "model_module": "@jupyter-widgets/base",
      "model_module_version": "1.2.0",
      "model_name": "LayoutModel",
      "state": {
       "grid_area": "input",
       "width": "auto"
      }
     },
     "21755e0d0d9d4cc2a9d9d8fea2cf1bbe": {
      "model_module": "@jupyter-widgets/controls",
      "model_module_version": "1.5.0",
      "model_name": "DescriptionStyleModel",
      "state": {
       "description_width": ""
      }
     },
     "225d64935af049d284ad767b2a14edc7": {
      "model_module": "@jupyter-widgets/controls",
      "model_module_version": "1.5.0",
      "model_name": "GridBoxModel",
      "state": {
       "_dom_classes": [
        "nbtools-input",
        "nbtools-textinput"
       ],
       "children": [
        "IPY_MODEL_69b9957227d04a9387eada81dfcf7e6d",
        "IPY_MODEL_1a746fcee33548efb46833e96849dde6",
        "IPY_MODEL_d10838e39f5f490fa1dce8ec279c9806"
       ],
       "layout": "IPY_MODEL_2b292cbfaebe4eaa9b0f68c615f6ebd0"
      }
     },
     "22df445cdccc4b2b933704ee8e2a973a": {
      "model_module": "@jupyter-widgets/controls",
      "model_module_version": "1.5.0",
      "model_name": "DescriptionStyleModel",
      "state": {
       "description_width": ""
      }
     },
     "2437ae7039054049a5aeed09e80f8e82": {
      "model_module": "@jupyter-widgets/controls",
      "model_module_version": "1.5.0",
      "model_name": "GridBoxModel",
      "state": {
       "_dom_classes": [
        "nbtools-input",
        "nbtools-textinput"
       ],
       "children": [
        "IPY_MODEL_f4d841a6a6664947a449fc240f49070b",
        "IPY_MODEL_7e0a28429107441fab79c8c046ae50b7",
        "IPY_MODEL_16634c7206f74a99bf73d55d833cdf17"
       ],
       "layout": "IPY_MODEL_1be24321dc044981906a3cfb6c1118e0"
      }
     },
     "245b75aa7405458ab4f12e4c066a8de5": {
      "model_module": "@jupyter-widgets/controls",
      "model_module_version": "1.5.0",
      "model_name": "ButtonStyleModel",
      "state": {}
     },
     "2673dd965d0e48a0a19efc10fde76c52": {
      "model_module": "@jupyter-widgets/controls",
      "model_module_version": "1.5.0",
      "model_name": "GridBoxModel",
      "state": {
       "_dom_classes": [
        "nbtools-input",
        "nbtools-textinput"
       ],
       "children": [
        "IPY_MODEL_4833cfd1ccd3422b8f34bee06e9e38d6",
        "IPY_MODEL_9db82b0bbab045a4ad1b8927a01f5892",
        "IPY_MODEL_20ac06880f4748fe93ecbbd57adb7ed9"
       ],
       "layout": "IPY_MODEL_c593558cbcca4c4a8c4c8d1aeef2ea06"
      }
     },
     "26c2af19dd9644b1979c02117320f050": {
      "model_module": "@jupyter-widgets/base",
      "model_module_version": "1.2.0",
      "model_name": "LayoutModel",
      "state": {
       "grid_area": "label",
       "width": "auto"
      }
     },
     "276b8318e0614c909a4f0ab4da10cd77": {
      "model_module": "@jupyter-widgets/base",
      "model_module_version": "1.2.0",
      "model_name": "LayoutModel",
      "state": {
       "grid_template_areas": "\n                    \"label input\"\n                    \". description\"\n                ",
       "grid_template_columns": "25% 75%",
       "grid_template_rows": "auto auto",
       "width": "100%"
      }
     },
     "27e3dcd510674d35bfb94a158a767ef1": {
      "model_module": "@jupyter-widgets/controls",
      "model_module_version": "1.5.0",
      "model_name": "LabelModel",
      "state": {
       "layout": "IPY_MODEL_0c7c83d95d3b44c3bc6f77774b2c3c38",
       "style": "IPY_MODEL_d1ea45d786ad48b8848508270cdeaaeb"
      }
     },
     "2b100636d1d746889815d32fa5212315": {
      "model_module": "@jupyter-widgets/base",
      "model_module_version": "1.2.0",
      "model_name": "LayoutModel",
      "state": {}
     },
     "2b292cbfaebe4eaa9b0f68c615f6ebd0": {
      "model_module": "@jupyter-widgets/base",
      "model_module_version": "1.2.0",
      "model_name": "LayoutModel",
      "state": {
       "display": "none",
       "grid_template_areas": "\n                    \"label input\"\n                    \". description\"\n                ",
       "grid_template_columns": "25% 75%",
       "grid_template_rows": "auto auto",
       "width": "100%"
      }
     },
     "2cb405aa61a04e629e9133a4e4608d17": {
      "model_module": "@jupyter-widgets/base",
      "model_module_version": "1.2.0",
      "model_name": "LayoutModel",
      "state": {
       "grid_area": "description",
       "width": "auto"
      }
     },
     "2cf4cdc8b395462d936d7e0f62381e5b": {
      "model_module": "@jupyter-widgets/controls",
      "model_module_version": "1.5.0",
      "model_name": "DescriptionStyleModel",
      "state": {
       "description_width": ""
      }
     },
     "2d1ca4a2289140fcafdfdedef4523096": {
      "model_module": "@jupyter-widgets/controls",
      "model_module_version": "1.5.0",
      "model_name": "LabelModel",
      "state": {
       "layout": "IPY_MODEL_e27f5b9dbfbb4f0d90f376fac9120a2f",
       "style": "IPY_MODEL_0413017b321c4e9fbc7314a324028032"
      }
     },
     "2d6ad1e18dc243e4b401c5a555d54f61": {
      "model_module": "@jupyter-widgets/controls",
      "model_module_version": "1.5.0",
      "model_name": "DescriptionStyleModel",
      "state": {
       "description_width": ""
      }
     },
     "2f61f07852ee43a181819358047f1f94": {
      "model_module": "@jupyter-widgets/controls",
      "model_module_version": "1.5.0",
      "model_name": "ComboboxModel",
      "state": {
       "_dom_classes": [
        "nbtools-menu-attached"
       ],
       "choices": {
        "hello": "world",
        "more": "cowbell"
       },
       "ensure_option": false,
       "kinds": [],
       "layout": "IPY_MODEL_e042235a4c2f4c838324ac9d421c61d8",
       "style": "IPY_MODEL_2cf4cdc8b395462d936d7e0f62381e5b"
      }
     },
     "301ddc3d984140f4ae1dc22ddde168b4": {
      "model_module": "@jupyter-widgets/controls",
      "model_module_version": "1.5.0",
      "model_name": "TextModel",
      "state": {
       "_dom_classes": [
        "nbtools-menu-attached"
       ],
       "layout": "IPY_MODEL_acd4c270a554466ea4197b8ecb72d78e",
       "style": "IPY_MODEL_9bc8b5f30b194bcb8a6f7b27992a0ba2"
      }
     },
     "3040c250cae54eea9c25402b71b8c1c8": {
      "model_module": "@jupyter-widgets/base",
      "model_module_version": "1.2.0",
      "model_name": "LayoutModel",
      "state": {}
     },
     "31544ce65e5f44c8b1227bb3c84af74b": {
      "model_module": "@jupyter-widgets/controls",
      "model_module_version": "1.5.0",
      "model_name": "VBoxModel",
      "state": {
       "_dom_classes": [
        "widget-interact"
       ],
       "children": [
        "IPY_MODEL_f70997d4f7294e1b8f4f8cdb150ec408",
        "IPY_MODEL_7782c791fafa40ebad6b8a3187f0f93f"
       ],
       "layout": "IPY_MODEL_ea06957fb1a84512a2b057fa148d8896"
      }
     },
     "31b955e99e2a46238caf0f72f708c6eb": {
      "model_module": "@jupyter-widgets/controls",
      "model_module_version": "1.5.0",
      "model_name": "TextModel",
      "state": {
       "_dom_classes": [
        "nbtools-menu-attached"
       ],
       "layout": "IPY_MODEL_ab98a3e6dcbd4893965a5895d14aaa02",
       "style": "IPY_MODEL_1f8ef9d04c0347e2abe44ef7d47b56b4"
      }
     },
     "333403872a7f423ca15c7b3834d8926b": {
      "model_module": "@jupyter-widgets/controls",
      "model_module_version": "1.5.0",
      "model_name": "LabelModel",
      "state": {
       "layout": "IPY_MODEL_e37caeb6e98047a9a5beb1ffb1d109a3",
       "style": "IPY_MODEL_21755e0d0d9d4cc2a9d9d8fea2cf1bbe"
      }
     },
     "33f6834307ac49d9a169f1d98c2e476b": {
      "model_module": "@jupyter-widgets/base",
      "model_module_version": "1.2.0",
      "model_name": "LayoutModel",
      "state": {}
     },
     "34350f33a3904dd2ad77479cdf69a5c2": {
      "model_module": "@jupyter-widgets/base",
      "model_module_version": "1.2.0",
      "model_name": "LayoutModel",
      "state": {
       "display": "none",
       "grid_template_areas": "\n                    \"label input\"\n                    \". description\"\n                ",
       "grid_template_columns": "25% 75%",
       "grid_template_rows": "auto auto",
       "width": "100%"
      }
     },
     "368de5be5d3e46ac93827de42cf4bcfb": {
      "model_module": "@jupyter-widgets/base",
      "model_module_version": "1.2.0",
      "model_name": "LayoutModel",
      "state": {
       "grid_area": "label",
       "width": "auto"
      }
     },
     "37f5278229134a3ca8c977e93b84ecaa": {
      "model_module": "@jupyter-widgets/base",
      "model_module_version": "1.2.0",
      "model_name": "LayoutModel",
      "state": {}
     },
     "37f9b62bec344090b4530ba3acc0bd64": {
      "model_module": "@jupyter-widgets/controls",
      "model_module_version": "1.5.0",
      "model_name": "ButtonModel",
      "state": {
       "_dom_classes": [
        "hidden"
       ],
       "description": "Run",
       "layout": "IPY_MODEL_092da48c7c654fa188d7f476d02b1110",
       "style": "IPY_MODEL_3c8e29b83d964595a0927a5df4c220d2"
      }
     },
     "38c72fcc6a3841108859a9dd2d6f695f": {
      "model_module": "@jupyter-widgets/controls",
      "model_module_version": "1.5.0",
      "model_name": "PasswordModel",
      "state": {
       "layout": "IPY_MODEL_77e0a538ec4c4947bfddf1a8b11d50fb",
       "style": "IPY_MODEL_1616c63c8231461392fcb3e0bc3a4a31"
      }
     },
     "3b2026324f1144c28aff2b61d8511c1c": {
      "model_module": "@jupyter-widgets/controls",
      "model_module_version": "1.5.0",
      "model_name": "DescriptionStyleModel",
      "state": {
       "description_width": ""
      }
     },
     "3b368093f95849c9b389d392742c059b": {
      "model_module": "@jupyter-widgets/controls",
      "model_module_version": "1.5.0",
      "model_name": "DescriptionStyleModel",
      "state": {
       "description_width": ""
      }
     },
     "3c1ce783625b4b8a90d14db9b49d88d7": {
      "model_module": "@jupyter-widgets/base",
      "model_module_version": "1.2.0",
      "model_name": "LayoutModel",
      "state": {
       "grid_area": "input",
       "width": "auto"
      }
     },
     "3c63902a3ec44e19a2bc1dac5d9b7e9d": {
      "model_module": "@jupyter-widgets/base",
      "model_module_version": "1.2.0",
      "model_name": "LayoutModel",
      "state": {
       "display": "none",
       "grid_template_areas": "\n                    \"label input\"\n                    \". description\"\n                ",
       "grid_template_columns": "25% 75%",
       "grid_template_rows": "auto auto",
       "width": "100%"
      }
     },
     "3c8e29b83d964595a0927a5df4c220d2": {
      "model_module": "@jupyter-widgets/controls",
      "model_module_version": "1.5.0",
      "model_name": "ButtonStyleModel",
      "state": {}
     },
     "3cb59b4f893d445ab1ecd10ea5b73e55": {
      "model_module": "@genepattern/nbtools",
      "model_module_version": "^20.10.0-alpha.0",
      "model_name": "UIBuilderModel",
      "state": {
       "_dom_classes": [],
       "_model_module_version": "^20.10.0-alpha.0",
       "_parameters": [
        {
         "choices": {},
         "default": "",
         "description": "",
         "events": null,
         "hide": true,
         "id": null,
         "kinds": null,
         "label": "output variable",
         "name": "output_var",
         "optional": true,
         "type": "text",
         "value": ""
        }
       ],
       "_view_count": null,
       "_view_module_version": "^20.10.0-alpha.0",
       "form": "IPY_MODEL_6a1bac4ba87f4267834879854692570b",
       "layout": "IPY_MODEL_5c6479132f404b5fb571cdd435511b33",
       "name": "RNAseq",
       "origin": "Notebook",
       "output": "IPY_MODEL_14b5bdf26b0c42b48e488d96d88f1d6f",
       "output_var": ""
      }
     },
     "3d0711624f8b43dfb44a82c39acd4045": {
      "model_module": "@jupyter-widgets/controls",
      "model_module_version": "1.5.0",
      "model_name": "GridBoxModel",
      "state": {
       "_dom_classes": [
        "nbtools-input",
        "nbtools-textinput"
       ],
       "children": [
        "IPY_MODEL_18815707434042e9972a4fc8a1fe9032",
        "IPY_MODEL_a30fdde8bec54bcc875309701c2b882b",
        "IPY_MODEL_2d1ca4a2289140fcafdfdedef4523096"
       ],
       "layout": "IPY_MODEL_34350f33a3904dd2ad77479cdf69a5c2"
      }
     },
     "3d832a06c3a94f0abbf5ee8ea0692bfa": {
      "model_module": "@jupyter-widgets/controls",
      "model_module_version": "1.5.0",
      "model_name": "LabelModel",
      "state": {
       "description": "z",
       "layout": "IPY_MODEL_489fa3717a8446f9be3e3ae78399623a",
       "style": "IPY_MODEL_7f76e079b2ee47e28ea004423e7a7a19",
       "value": "z*"
      }
     },
     "3e4f98417e354a37819974f4ecb4af6b": {
      "model_module": "@jupyter-widgets/base",
      "model_module_version": "1.2.0",
      "model_name": "LayoutModel",
      "state": {
       "grid_area": "description",
       "width": "auto"
      }
     },
     "3ed9790771234c6ba30a783b5702b34d": {
      "model_module": "@jupyter-widgets/controls",
      "model_module_version": "1.5.0",
      "model_name": "GridBoxModel",
      "state": {
       "_dom_classes": [
        "nbtools-input",
        "nbtools-textinput",
        "required"
       ],
       "children": [
        "IPY_MODEL_55f2caa6b4b94a24ab874222952a5b12",
        "IPY_MODEL_889a37d59d284e0eb0223013a5cc3eba",
        "IPY_MODEL_10c6dd38949d492ea97c90311517bed0"
       ],
       "layout": "IPY_MODEL_a5eda2a34fca4888bf4d085fe551e431"
      }
     },
     "3f0c0ce49cc94eeb83a159bd9afd556c": {
      "model_module": "@jupyter-widgets/base",
      "model_module_version": "1.2.0",
      "model_name": "LayoutModel",
      "state": {
       "grid_template_areas": "\n                    \"label input\"\n                    \". description\"\n                ",
       "grid_template_columns": "25% 75%",
       "grid_template_rows": "auto auto",
       "width": "100%"
      }
     },
     "3fac4c6dfb7040829a19c44c0409423a": {
      "model_module": "@jupyter-widgets/base",
      "model_module_version": "1.2.0",
      "model_name": "LayoutModel",
      "state": {}
     },
     "40a3f57d7e0747d2af7d618cbe421919": {
      "model_module": "@jupyter-widgets/controls",
      "model_module_version": "1.5.0",
      "model_name": "ButtonModel",
      "state": {
       "_dom_classes": [
        "hidden"
       ],
       "description": "Run",
       "layout": "IPY_MODEL_5053203e6b28475ea0d724f1c1739cbe",
       "style": "IPY_MODEL_a07c3c885afc4affbd12de9cf557f90a"
      }
     },
     "40e3267ec3734e6196ec6997cd7b9b70": {
      "model_module": "@jupyter-widgets/controls",
      "model_module_version": "1.5.0",
      "model_name": "DescriptionStyleModel",
      "state": {
       "description_width": ""
      }
     },
     "416d0183cb5d4cf394494b95a9e25b93": {
      "model_module": "@jupyter-widgets/base",
      "model_module_version": "1.2.0",
      "model_name": "LayoutModel",
      "state": {
       "display": "none",
       "grid_template_areas": "\n                    \"label input\"\n                    \". description\"\n                ",
       "grid_template_columns": "25% 75%",
       "grid_template_rows": "auto auto",
       "width": "100%"
      }
     },
     "42a6b401ea04448894f85417086a9284": {
      "model_module": "@jupyter-widgets/base",
      "model_module_version": "1.2.0",
      "model_name": "LayoutModel",
      "state": {
       "grid_area": "label",
       "width": "auto"
      }
     },
     "43e78b67f6854c8ea91a45fae0bc2c04": {
      "model_module": "@jupyter-widgets/controls",
      "model_module_version": "1.5.0",
      "model_name": "DescriptionStyleModel",
      "state": {
       "description_width": ""
      }
     },
     "4443e8ed0f5d4e65a594aa9da206009b": {
      "model_module": "@jupyter-widgets/controls",
      "model_module_version": "1.5.0",
      "model_name": "LabelModel",
      "state": {
       "description": "output variable",
       "layout": "IPY_MODEL_8e58a9ae825748e598949eb49520bc85",
       "style": "IPY_MODEL_0461f45b7985472f92b7b232c46fc9a1",
       "value": "output variable"
      }
     },
     "45632302885845a7a074abe500c584b3": {
      "model_module": "@jupyter-widgets/controls",
      "model_module_version": "1.5.0",
      "model_name": "DescriptionStyleModel",
      "state": {
       "description_width": ""
      }
     },
     "4706d8cd3ba94c38b3ba0c7c8b6f933f": {
      "model_module": "@jupyter-widgets/controls",
      "model_module_version": "1.5.0",
      "model_name": "DescriptionStyleModel",
      "state": {
       "description_width": ""
      }
     },
     "47f02067d61d40d68a162fb5ec0a99ea": {
      "model_module": "@jupyter-widgets/controls",
      "model_module_version": "1.5.0",
      "model_name": "DescriptionStyleModel",
      "state": {
       "description_width": ""
      }
     },
     "4833cfd1ccd3422b8f34bee06e9e38d6": {
      "model_module": "@jupyter-widgets/controls",
      "model_module_version": "1.5.0",
      "model_name": "LabelModel",
      "state": {
       "description": "output variable",
       "layout": "IPY_MODEL_ceb67e544db7466b99cb47bfab212602",
       "style": "IPY_MODEL_ae3c517ed6ab4b789910a5f538a6f4a3",
       "value": "output variable"
      }
     },
     "489fa3717a8446f9be3e3ae78399623a": {
      "model_module": "@jupyter-widgets/base",
      "model_module_version": "1.2.0",
      "model_name": "LayoutModel",
      "state": {
       "grid_area": "label",
       "width": "auto"
      }
     },
     "49194c37ef0e4dc78b4f1dc8b0f37668": {
      "model_module": "@jupyter-widgets/controls",
      "model_module_version": "1.5.0",
      "model_name": "VBoxModel",
      "state": {
       "_dom_classes": [
        "widget-interact"
       ],
       "children": [
        "IPY_MODEL_80a096bedafa457ea8cf034aba1d4003",
        "IPY_MODEL_90cff8ba619540daa88f2745260958d0"
       ],
       "layout": "IPY_MODEL_c27a8db39575447f91deb894ba311688"
      }
     },
     "49b0986f6e524e75a6241d9e603e49e2": {
      "model_module": "@jupyter-widgets/controls",
      "model_module_version": "1.5.0",
      "model_name": "GridBoxModel",
      "state": {
       "_dom_classes": [
        "nbtools-input",
        "nbtools-textinput"
       ],
       "children": [
        "IPY_MODEL_4443e8ed0f5d4e65a594aa9da206009b",
        "IPY_MODEL_045041bb91134db3beead4b7af40cb9f",
        "IPY_MODEL_84aa44d67b6f4759a4b4592e47b3a923"
       ],
       "layout": "IPY_MODEL_efe837af97144e1bbec191c8f0091e0b"
      }
     },
     "4c3f17c1e3ca4968a08f8d06a27592f2": {
      "model_module": "@jupyter-widgets/base",
      "model_module_version": "1.2.0",
      "model_name": "LayoutModel",
      "state": {
       "grid_area": "label",
       "width": "auto"
      }
     },
     "4d037d2b911d4d2297356a24c4a0cd5c": {
      "model_module": "@jupyter-widgets/base",
      "model_module_version": "1.2.0",
      "model_name": "LayoutModel",
      "state": {}
     },
     "4d2c4ca2ebb14f299a99391fa3475f9b": {
      "model_module": "@jupyter-widgets/controls",
      "model_module_version": "1.5.0",
      "model_name": "DescriptionStyleModel",
      "state": {
       "description_width": ""
      }
     },
     "5053203e6b28475ea0d724f1c1739cbe": {
      "model_module": "@jupyter-widgets/base",
      "model_module_version": "1.2.0",
      "model_name": "LayoutModel",
      "state": {}
     },
     "51434fe3c6cc4cc9aaceee3ee3702dd7": {
      "model_module": "@jupyter-widgets/controls",
      "model_module_version": "1.5.0",
      "model_name": "GridBoxModel",
      "state": {
       "_dom_classes": [
        "nbtools-input",
        "nbtools-textinput"
       ],
       "children": [
        "IPY_MODEL_e49fa4a5e1474314b39d862c0682e955",
        "IPY_MODEL_eea7c0fd0d5d44d2aef3c16be1f1440f",
        "IPY_MODEL_02970b3642c048dcb2ddad732dec8777"
       ],
       "layout": "IPY_MODEL_8744eebdce704652b2b96df7d87714ef"
      }
     },
     "526ce095d5464f4f98dd310d5f3f8f68": {
      "model_module": "@jupyter-widgets/base",
      "model_module_version": "1.2.0",
      "model_name": "LayoutModel",
      "state": {
       "grid_area": "description",
       "width": "auto"
      }
     },
     "52948932f1ad48f2903f7771431d6b55": {
      "model_module": "@jupyter-widgets/controls",
      "model_module_version": "1.5.0",
      "model_name": "DescriptionStyleModel",
      "state": {
       "description_width": ""
      }
     },
     "552eb1dc9a3643bbb038814af9fe595f": {
      "model_module": "@jupyter-widgets/controls",
      "model_module_version": "1.5.0",
      "model_name": "DescriptionStyleModel",
      "state": {
       "description_width": ""
      }
     },
     "554d96a47ebb43efa23c675e5375b88e": {
      "model_module": "@jupyter-widgets/controls",
      "model_module_version": "1.5.0",
      "model_name": "DescriptionStyleModel",
      "state": {
       "description_width": ""
      }
     },
     "55f2caa6b4b94a24ab874222952a5b12": {
      "model_module": "@jupyter-widgets/controls",
      "model_module_version": "1.5.0",
      "model_name": "LabelModel",
      "state": {
       "description": "Username",
       "layout": "IPY_MODEL_8f60fd28595a46cf91e217a17ae46d89",
       "style": "IPY_MODEL_b3fe8de989ce4ea9b463e471a4c21574",
       "value": "Username*"
      }
     },
     "5691b8f0f0aa483395b03ffa56b34ee8": {
      "model_module": "@jupyter-widgets/controls",
      "model_module_version": "1.5.0",
      "model_name": "ButtonStyleModel",
      "state": {}
     },
     "56a3e7f9ed704d99bd42d0044180bb15": {
      "model_module": "@jupyter-widgets/controls",
      "model_module_version": "1.5.0",
      "model_name": "VBoxModel",
      "state": {
       "_dom_classes": [
        "widget-interact"
       ],
       "children": [
        "IPY_MODEL_e5aa821e36784c6db7e5d6e2b1cb2744",
        "IPY_MODEL_184ef98ddcbe42ad8fcd243907f0ac89"
       ],
       "layout": "IPY_MODEL_a6d7101afba14cfe88591eafbf87249d"
      }
     },
     "56df521a955d424198faf3a5d3ec7858": {
      "model_module": "@jupyter-widgets/base",
      "model_module_version": "1.2.0",
      "model_name": "LayoutModel",
      "state": {
       "grid_area": "label",
       "width": "auto"
      }
     },
     "57d657e91082434d9806c08abc3af491": {
      "model_module": "@jupyter-widgets/output",
      "model_module_version": "1.0.0",
      "model_name": "OutputModel",
      "state": {
       "layout": "IPY_MODEL_e2c1a40a5a324a7caabac51f0d411342"
      }
     },
     "58d08ebb654a48e9aa07bcd3a7f228df": {
      "model_module": "@jupyter-widgets/base",
      "model_module_version": "1.2.0",
      "model_name": "LayoutModel",
      "state": {
       "grid_area": "input",
       "width": "auto"
      }
     },
     "5b973ffd4a69460d85fd381580ce1eba": {
      "model_module": "@jupyter-widgets/controls",
      "model_module_version": "1.5.0",
      "model_name": "ButtonStyleModel",
      "state": {}
     },
     "5be66f0957c14c38b9174d9f8ffaa8f5": {
      "model_module": "@jupyter-widgets/controls",
      "model_module_version": "1.5.0",
      "model_name": "GridBoxModel",
      "state": {
       "_dom_classes": [
        "nbtools-input",
        "nbtools-fileinput",
        "required"
       ],
       "children": [
        "IPY_MODEL_ce162e2e305841768338d48bd2714a2c",
        "IPY_MODEL_8ebf8d7b1be64a7793a6eea639618ee1",
        "IPY_MODEL_da69b6617398400da2c4ccaa13208117"
       ],
       "layout": "IPY_MODEL_7f902db8e9ee455cb1db3abf9e2fb943"
      }
     },
     "5c6479132f404b5fb571cdd435511b33": {
      "model_module": "@jupyter-widgets/base",
      "model_module_version": "1.2.0",
      "model_name": "LayoutModel",
      "state": {}
     },
     "5c7390741fa346d89d1cc4ab145bf93e": {
      "model_module": "@jupyter-widgets/output",
      "model_module_version": "1.0.0",
      "model_name": "OutputModel",
      "state": {
       "layout": "IPY_MODEL_2b100636d1d746889815d32fa5212315"
      }
     },
     "5d26f45aeab14f5f88f5ddce5df1d518": {
      "model_module": "@jupyter-widgets/controls",
      "model_module_version": "1.5.0",
      "model_name": "GridBoxModel",
      "state": {
       "_dom_classes": [
        "nbtools-input",
        "nbtools-textinput"
       ],
       "children": [
        "IPY_MODEL_b4de164b705f4033bef8856b8c701d5c",
        "IPY_MODEL_77e7d913323441b2abaa60b5f96e0d0d",
        "IPY_MODEL_7f5c151a66854bdcaa5756b74f701372"
       ],
       "layout": "IPY_MODEL_3c63902a3ec44e19a2bc1dac5d9b7e9d"
      }
     },
     "5dade3120b9444df98702f6d85a55d55": {
      "model_module": "@genepattern/nbtools",
      "model_module_version": "^20.10.0-alpha.0",
      "model_name": "UIBuilderModel",
      "state": {
       "_dom_classes": [],
       "_model_module_version": "^20.10.0-alpha.0",
       "_parameters": [
        {
         "choices": {
          "Broad Internal": "https://gpbroad.broadinstitute.org/gp",
          "GenePattern Cloud": "https://cloud.genepattern.org/gp",
          "Indiana University": "https://gp.indiana.edu/gp"
         },
         "combo": true,
         "default": "https://cloud.genepattern.org/gp",
         "description": "",
         "events": null,
         "hide": false,
         "id": null,
         "kinds": null,
         "label": "GenePattern Server",
         "name": "server",
         "optional": false,
         "sendto": false,
         "type": "choice",
         "value": ""
        },
        {
         "choices": {},
         "default": "",
         "description": "",
         "events": null,
         "hide": false,
         "id": null,
         "kinds": null,
         "label": "Username",
         "name": "username",
         "optional": false,
         "sendto": false,
         "type": "text",
         "value": ""
        },
        {
         "choices": {},
         "default": "",
         "description": "",
         "events": null,
         "hide": false,
         "id": null,
         "kinds": null,
         "label": "Password",
         "name": "password",
         "optional": false,
         "sendto": false,
         "type": "password",
         "value": ""
        },
        {
         "choices": {},
         "default": "",
         "description": "",
         "events": null,
         "hide": true,
         "id": null,
         "kinds": null,
         "label": "output variable",
         "name": "output_var",
         "optional": true,
         "type": "text",
         "value": ""
        }
       ],
       "_view_count": null,
       "_view_module_version": "^20.10.0-alpha.0",
       "buttons": {
        "Register an Account": "\n    const target = event.target;\n    const widget = target.closest('.nbtools') || target;\n    const server_input = widget.querySelector('input[type=text]');\n    if (server_input) window.open(server_input.value + '/pages/registerUser.jsf');\n    else console.warn('Cannot obtain GenePattern Server URL');"
       },
       "collapse": false,
       "color": "rgba(10, 45, 105, 0.80)",
       "description": "Login to the GenePattern server",
       "display_header": false,
       "form": "IPY_MODEL_e01d4273a21543769052d0a80e677490",
       "layout": "IPY_MODEL_7282d441af1d4cf9bf1e51e24f3a4177",
       "name": "Login",
       "origin": "genepattern.authwidget",
       "output": "IPY_MODEL_5fac1956bdec48a891664a6f7ddc0c9d",
       "output_var": "",
       "run_label": "Log into GenePattern"
      }
     },
     "5dd850d3e7f1447eaba2ee6f99938019": {
      "model_module": "@jupyter-widgets/controls",
      "model_module_version": "1.5.0",
      "model_name": "DescriptionStyleModel",
      "state": {
       "description_width": ""
      }
     },
     "5f8a6b8ac6b84d2ab2245369ee9d37c9": {
      "model_module": "@jupyter-widgets/base",
      "model_module_version": "1.2.0",
      "model_name": "LayoutModel",
      "state": {
       "grid_area": "description",
       "width": "auto"
      }
     },
     "5fac1956bdec48a891664a6f7ddc0c9d": {
      "model_module": "@jupyter-widgets/output",
      "model_module_version": "1.0.0",
      "model_name": "OutputModel",
      "state": {
       "layout": "IPY_MODEL_9558cb72e1ac446f91e01b39cfc163d8",
       "outputs": [
        {
         "ename": "KeyboardInterrupt",
         "evalue": "",
         "output_type": "error",
         "traceback": [
          "\u001b[0;31m---------------------------------------------------------------------------\u001b[0m",
          "\u001b[0;31mKeyboardInterrupt\u001b[0m                         Traceback (most recent call last)",
          "\u001b[0;32m~/.conda/envs/nbtools-lab-prototype/lib/python3.7/site-packages/ipywidgets/widgets/interaction.py\u001b[0m in \u001b[0;36mupdate\u001b[0;34m(self, *args)\u001b[0m\n\u001b[1;32m    254\u001b[0m                     \u001b[0mvalue\u001b[0m \u001b[0;34m=\u001b[0m \u001b[0mwidget\u001b[0m\u001b[0;34m.\u001b[0m\u001b[0mget_interact_value\u001b[0m\u001b[0;34m(\u001b[0m\u001b[0;34m)\u001b[0m\u001b[0;34m\u001b[0m\u001b[0;34m\u001b[0m\u001b[0m\n\u001b[1;32m    255\u001b[0m                     \u001b[0mself\u001b[0m\u001b[0;34m.\u001b[0m\u001b[0mkwargs\u001b[0m\u001b[0;34m[\u001b[0m\u001b[0mwidget\u001b[0m\u001b[0;34m.\u001b[0m\u001b[0m_kwarg\u001b[0m\u001b[0;34m]\u001b[0m \u001b[0;34m=\u001b[0m \u001b[0mvalue\u001b[0m\u001b[0;34m\u001b[0m\u001b[0;34m\u001b[0m\u001b[0m\n\u001b[0;32m--> 256\u001b[0;31m                 \u001b[0mself\u001b[0m\u001b[0;34m.\u001b[0m\u001b[0mresult\u001b[0m \u001b[0;34m=\u001b[0m \u001b[0mself\u001b[0m\u001b[0;34m.\u001b[0m\u001b[0mf\u001b[0m\u001b[0;34m(\u001b[0m\u001b[0;34m**\u001b[0m\u001b[0mself\u001b[0m\u001b[0;34m.\u001b[0m\u001b[0mkwargs\u001b[0m\u001b[0;34m)\u001b[0m\u001b[0;34m\u001b[0m\u001b[0;34m\u001b[0m\u001b[0m\n\u001b[0m\u001b[1;32m    257\u001b[0m                 \u001b[0mshow_inline_matplotlib_plots\u001b[0m\u001b[0;34m(\u001b[0m\u001b[0;34m)\u001b[0m\u001b[0;34m\u001b[0m\u001b[0;34m\u001b[0m\u001b[0m\n\u001b[1;32m    258\u001b[0m                 \u001b[0;32mif\u001b[0m \u001b[0mself\u001b[0m\u001b[0;34m.\u001b[0m\u001b[0mauto_display\u001b[0m \u001b[0;32mand\u001b[0m \u001b[0mself\u001b[0m\u001b[0;34m.\u001b[0m\u001b[0mresult\u001b[0m \u001b[0;32mis\u001b[0m \u001b[0;32mnot\u001b[0m \u001b[0;32mNone\u001b[0m\u001b[0;34m:\u001b[0m\u001b[0;34m\u001b[0m\u001b[0;34m\u001b[0m\u001b[0m\n",
          "\u001b[0;32m~/workspace/nbtools/genepattern/authwidget.py\u001b[0m in \u001b[0;36mlogin\u001b[0;34m(self, server, username, password)\u001b[0m\n\u001b[1;32m     93\u001b[0m         \u001b[0;31m# Validate the provided credentials\u001b[0m\u001b[0;34m\u001b[0m\u001b[0;34m\u001b[0m\u001b[0;34m\u001b[0m\u001b[0m\n\u001b[1;32m     94\u001b[0m         \u001b[0;32mif\u001b[0m \u001b[0mself\u001b[0m\u001b[0;34m.\u001b[0m\u001b[0mvalidate_credentials\u001b[0m\u001b[0;34m(\u001b[0m\u001b[0;34m)\u001b[0m\u001b[0;34m:\u001b[0m\u001b[0;34m\u001b[0m\u001b[0;34m\u001b[0m\u001b[0m\n\u001b[0;32m---> 95\u001b[0;31m             \u001b[0mself\u001b[0m\u001b[0;34m.\u001b[0m\u001b[0mreplace_widget\u001b[0m\u001b[0;34m(\u001b[0m\u001b[0;34m)\u001b[0m\u001b[0;34m\u001b[0m\u001b[0;34m\u001b[0m\u001b[0m\n\u001b[0m\u001b[1;32m     96\u001b[0m \u001b[0;34m\u001b[0m\u001b[0m\n\u001b[1;32m     97\u001b[0m     \u001b[0;32mdef\u001b[0m \u001b[0mhas_credentials\u001b[0m\u001b[0;34m(\u001b[0m\u001b[0mself\u001b[0m\u001b[0;34m)\u001b[0m\u001b[0;34m:\u001b[0m\u001b[0;34m\u001b[0m\u001b[0;34m\u001b[0m\u001b[0m\n",
          "\u001b[0;32m~/workspace/nbtools/genepattern/authwidget.py\u001b[0m in \u001b[0;36mreplace_widget\u001b[0;34m(self)\u001b[0m\n\u001b[1;32m    117\u001b[0m         \u001b[0;34m\"\"\"Replace the unauthenticated widget with the authenticated widget\"\"\"\u001b[0m\u001b[0;34m\u001b[0m\u001b[0;34m\u001b[0m\u001b[0m\n\u001b[1;32m    118\u001b[0m         \u001b[0mself\u001b[0m\u001b[0;34m.\u001b[0m\u001b[0mform\u001b[0m\u001b[0;34m.\u001b[0m\u001b[0mchildren\u001b[0m\u001b[0;34m[\u001b[0m\u001b[0;36m2\u001b[0m\u001b[0;34m]\u001b[0m\u001b[0;34m.\u001b[0m\u001b[0mvalue\u001b[0m \u001b[0;34m=\u001b[0m \u001b[0;34m''\u001b[0m        \u001b[0;31m# Blank password so it doesn't get serialized\u001b[0m\u001b[0;34m\u001b[0m\u001b[0;34m\u001b[0m\u001b[0m\n\u001b[0;32m--> 119\u001b[0;31m         \u001b[0mdisplay\u001b[0m\u001b[0;34m(\u001b[0m\u001b[0mGPAuthWidget\u001b[0m\u001b[0;34m(\u001b[0m\u001b[0mself\u001b[0m\u001b[0;34m.\u001b[0m\u001b[0msession\u001b[0m\u001b[0;34m)\u001b[0m\u001b[0;34m)\u001b[0m     \u001b[0;31m# Display the authenticated widget\u001b[0m\u001b[0;34m\u001b[0m\u001b[0;34m\u001b[0m\u001b[0m\n\u001b[0m\u001b[1;32m    120\u001b[0m         \u001b[0mself\u001b[0m\u001b[0;34m.\u001b[0m\u001b[0mclose\u001b[0m\u001b[0;34m(\u001b[0m\u001b[0;34m)\u001b[0m                            \u001b[0;31m# Close the unauthenticated widget\u001b[0m\u001b[0;34m\u001b[0m\u001b[0;34m\u001b[0m\u001b[0m\n\u001b[1;32m    121\u001b[0m \u001b[0;34m\u001b[0m\u001b[0m\n",
          "\u001b[0;32m~/workspace/nbtools/genepattern/authwidget.py\u001b[0m in \u001b[0;36m__init__\u001b[0;34m(self, session, **kwargs)\u001b[0m\n\u001b[1;32m     68\u001b[0m         \u001b[0;32mif\u001b[0m \u001b[0mself\u001b[0m\u001b[0;34m.\u001b[0m\u001b[0mhas_credentials\u001b[0m\u001b[0;34m(\u001b[0m\u001b[0;34m)\u001b[0m \u001b[0;32mand\u001b[0m \u001b[0mself\u001b[0m\u001b[0;34m.\u001b[0m\u001b[0mvalidate_credentials\u001b[0m\u001b[0;34m(\u001b[0m\u001b[0;34m)\u001b[0m\u001b[0;34m:\u001b[0m\u001b[0;34m\u001b[0m\u001b[0;34m\u001b[0m\u001b[0m\n\u001b[1;32m     69\u001b[0m             \u001b[0mself\u001b[0m\u001b[0;34m.\u001b[0m\u001b[0mregister_session\u001b[0m\u001b[0;34m(\u001b[0m\u001b[0;34m)\u001b[0m     \u001b[0;31m# Register the session with the SessionList\u001b[0m\u001b[0;34m\u001b[0m\u001b[0;34m\u001b[0m\u001b[0m\n\u001b[0;32m---> 70\u001b[0;31m             \u001b[0mself\u001b[0m\u001b[0;34m.\u001b[0m\u001b[0mregister_modules\u001b[0m\u001b[0;34m(\u001b[0m\u001b[0;34m)\u001b[0m     \u001b[0;31m# Register the modules with the ToolManager\u001b[0m\u001b[0;34m\u001b[0m\u001b[0;34m\u001b[0m\u001b[0m\n\u001b[0m\u001b[1;32m     71\u001b[0m             \u001b[0mself\u001b[0m\u001b[0;34m.\u001b[0m\u001b[0msystem_message\u001b[0m\u001b[0;34m(\u001b[0m\u001b[0;34m)\u001b[0m       \u001b[0;31m# Display the system message\u001b[0m\u001b[0;34m\u001b[0m\u001b[0;34m\u001b[0m\u001b[0m\n\u001b[1;32m     72\u001b[0m             \u001b[0mself\u001b[0m\u001b[0;34m.\u001b[0m\u001b[0mtrigger_login\u001b[0m\u001b[0;34m(\u001b[0m\u001b[0;34m)\u001b[0m        \u001b[0;31m# Trigger login callbacks of job and task widgets\u001b[0m\u001b[0;34m\u001b[0m\u001b[0;34m\u001b[0m\u001b[0m\n",
          "\u001b[0;32m~/workspace/nbtools/genepattern/authwidget.py\u001b[0m in \u001b[0;36mregister_modules\u001b[0;34m(self)\u001b[0m\n\u001b[1;32m    126\u001b[0m     \u001b[0;32mdef\u001b[0m \u001b[0mregister_modules\u001b[0m\u001b[0;34m(\u001b[0m\u001b[0mself\u001b[0m\u001b[0;34m)\u001b[0m\u001b[0;34m:\u001b[0m\u001b[0;34m\u001b[0m\u001b[0;34m\u001b[0m\u001b[0m\n\u001b[1;32m    127\u001b[0m         \u001b[0;34m\"\"\"Get the list available modules and register widgets for them with the tool manager\"\"\"\u001b[0m\u001b[0;34m\u001b[0m\u001b[0;34m\u001b[0m\u001b[0m\n\u001b[0;32m--> 128\u001b[0;31m         \u001b[0;32mfor\u001b[0m \u001b[0mtask\u001b[0m \u001b[0;32min\u001b[0m \u001b[0mself\u001b[0m\u001b[0;34m.\u001b[0m\u001b[0msession\u001b[0m\u001b[0;34m.\u001b[0m\u001b[0mget_task_list\u001b[0m\u001b[0;34m(\u001b[0m\u001b[0;34m)\u001b[0m\u001b[0;34m:\u001b[0m\u001b[0;34m\u001b[0m\u001b[0;34m\u001b[0m\u001b[0m\n\u001b[0m\u001b[1;32m    129\u001b[0m             \u001b[0mtool\u001b[0m \u001b[0;34m=\u001b[0m \u001b[0mTaskTool\u001b[0m\u001b[0;34m(\u001b[0m\u001b[0mserver_name\u001b[0m\u001b[0;34m(\u001b[0m\u001b[0mself\u001b[0m\u001b[0;34m.\u001b[0m\u001b[0msession\u001b[0m\u001b[0;34m.\u001b[0m\u001b[0murl\u001b[0m\u001b[0;34m)\u001b[0m\u001b[0;34m,\u001b[0m \u001b[0mtask\u001b[0m\u001b[0;34m)\u001b[0m\u001b[0;34m\u001b[0m\u001b[0;34m\u001b[0m\u001b[0m\n\u001b[1;32m    130\u001b[0m             \u001b[0mToolManager\u001b[0m\u001b[0;34m.\u001b[0m\u001b[0minstance\u001b[0m\u001b[0;34m(\u001b[0m\u001b[0;34m)\u001b[0m\u001b[0;34m.\u001b[0m\u001b[0mregister\u001b[0m\u001b[0;34m(\u001b[0m\u001b[0mtool\u001b[0m\u001b[0;34m)\u001b[0m\u001b[0;34m\u001b[0m\u001b[0;34m\u001b[0m\u001b[0m\n",
          "\u001b[0;32m~/.conda/envs/nbtools-lab-prototype/lib/python3.7/site-packages/gp/core.py\u001b[0m in \u001b[0;36mget_task_list\u001b[0;34m(self)\u001b[0m\n\u001b[1;32m    145\u001b[0m             \u001b[0mrequest\u001b[0m\u001b[0;34m.\u001b[0m\u001b[0madd_header\u001b[0m\u001b[0;34m(\u001b[0m\u001b[0;34m'Authorization'\u001b[0m\u001b[0;34m,\u001b[0m \u001b[0mself\u001b[0m\u001b[0;34m.\u001b[0m\u001b[0mauthorization_header\u001b[0m\u001b[0;34m(\u001b[0m\u001b[0;34m)\u001b[0m\u001b[0;34m)\u001b[0m\u001b[0;34m\u001b[0m\u001b[0;34m\u001b[0m\u001b[0m\n\u001b[1;32m    146\u001b[0m         \u001b[0mrequest\u001b[0m\u001b[0;34m.\u001b[0m\u001b[0madd_header\u001b[0m\u001b[0;34m(\u001b[0m\u001b[0;34m'User-Agent'\u001b[0m\u001b[0;34m,\u001b[0m \u001b[0;34m'GenePatternRest'\u001b[0m\u001b[0;34m)\u001b[0m\u001b[0;34m\u001b[0m\u001b[0;34m\u001b[0m\u001b[0m\n\u001b[0;32m--> 147\u001b[0;31m         \u001b[0mresponse\u001b[0m \u001b[0;34m=\u001b[0m \u001b[0murllib\u001b[0m\u001b[0;34m.\u001b[0m\u001b[0mrequest\u001b[0m\u001b[0;34m.\u001b[0m\u001b[0murlopen\u001b[0m\u001b[0;34m(\u001b[0m\u001b[0mrequest\u001b[0m\u001b[0;34m)\u001b[0m\u001b[0;34m\u001b[0m\u001b[0;34m\u001b[0m\u001b[0m\n\u001b[0m\u001b[1;32m    148\u001b[0m         \u001b[0mresponse_string\u001b[0m \u001b[0;34m=\u001b[0m \u001b[0mresponse\u001b[0m\u001b[0;34m.\u001b[0m\u001b[0mread\u001b[0m\u001b[0;34m(\u001b[0m\u001b[0;34m)\u001b[0m\u001b[0;34m.\u001b[0m\u001b[0mdecode\u001b[0m\u001b[0;34m(\u001b[0m\u001b[0;34m'utf-8'\u001b[0m\u001b[0;34m)\u001b[0m\u001b[0;34m\u001b[0m\u001b[0;34m\u001b[0m\u001b[0m\n\u001b[1;32m    149\u001b[0m         \u001b[0mcategory_and_tasks\u001b[0m \u001b[0;34m=\u001b[0m \u001b[0mjson\u001b[0m\u001b[0;34m.\u001b[0m\u001b[0mloads\u001b[0m\u001b[0;34m(\u001b[0m\u001b[0mresponse_string\u001b[0m\u001b[0;34m)\u001b[0m\u001b[0;34m\u001b[0m\u001b[0;34m\u001b[0m\u001b[0m\n",
          "\u001b[0;32m~/.conda/envs/nbtools-lab-prototype/lib/python3.7/urllib/request.py\u001b[0m in \u001b[0;36murlopen\u001b[0;34m(url, data, timeout, cafile, capath, cadefault, context)\u001b[0m\n\u001b[1;32m    220\u001b[0m     \u001b[0;32melse\u001b[0m\u001b[0;34m:\u001b[0m\u001b[0;34m\u001b[0m\u001b[0;34m\u001b[0m\u001b[0m\n\u001b[1;32m    221\u001b[0m         \u001b[0mopener\u001b[0m \u001b[0;34m=\u001b[0m \u001b[0m_opener\u001b[0m\u001b[0;34m\u001b[0m\u001b[0;34m\u001b[0m\u001b[0m\n\u001b[0;32m--> 222\u001b[0;31m     \u001b[0;32mreturn\u001b[0m \u001b[0mopener\u001b[0m\u001b[0;34m.\u001b[0m\u001b[0mopen\u001b[0m\u001b[0;34m(\u001b[0m\u001b[0murl\u001b[0m\u001b[0;34m,\u001b[0m \u001b[0mdata\u001b[0m\u001b[0;34m,\u001b[0m \u001b[0mtimeout\u001b[0m\u001b[0;34m)\u001b[0m\u001b[0;34m\u001b[0m\u001b[0;34m\u001b[0m\u001b[0m\n\u001b[0m\u001b[1;32m    223\u001b[0m \u001b[0;34m\u001b[0m\u001b[0m\n\u001b[1;32m    224\u001b[0m \u001b[0;32mdef\u001b[0m \u001b[0minstall_opener\u001b[0m\u001b[0;34m(\u001b[0m\u001b[0mopener\u001b[0m\u001b[0;34m)\u001b[0m\u001b[0;34m:\u001b[0m\u001b[0;34m\u001b[0m\u001b[0;34m\u001b[0m\u001b[0m\n",
          "\u001b[0;32m~/.conda/envs/nbtools-lab-prototype/lib/python3.7/urllib/request.py\u001b[0m in \u001b[0;36mopen\u001b[0;34m(self, fullurl, data, timeout)\u001b[0m\n\u001b[1;32m    523\u001b[0m             \u001b[0mreq\u001b[0m \u001b[0;34m=\u001b[0m \u001b[0mmeth\u001b[0m\u001b[0;34m(\u001b[0m\u001b[0mreq\u001b[0m\u001b[0;34m)\u001b[0m\u001b[0;34m\u001b[0m\u001b[0;34m\u001b[0m\u001b[0m\n\u001b[1;32m    524\u001b[0m \u001b[0;34m\u001b[0m\u001b[0m\n\u001b[0;32m--> 525\u001b[0;31m         \u001b[0mresponse\u001b[0m \u001b[0;34m=\u001b[0m \u001b[0mself\u001b[0m\u001b[0;34m.\u001b[0m\u001b[0m_open\u001b[0m\u001b[0;34m(\u001b[0m\u001b[0mreq\u001b[0m\u001b[0;34m,\u001b[0m \u001b[0mdata\u001b[0m\u001b[0;34m)\u001b[0m\u001b[0;34m\u001b[0m\u001b[0;34m\u001b[0m\u001b[0m\n\u001b[0m\u001b[1;32m    526\u001b[0m \u001b[0;34m\u001b[0m\u001b[0m\n\u001b[1;32m    527\u001b[0m         \u001b[0;31m# post-process response\u001b[0m\u001b[0;34m\u001b[0m\u001b[0;34m\u001b[0m\u001b[0;34m\u001b[0m\u001b[0m\n",
          "\u001b[0;32m~/.conda/envs/nbtools-lab-prototype/lib/python3.7/urllib/request.py\u001b[0m in \u001b[0;36m_open\u001b[0;34m(self, req, data)\u001b[0m\n\u001b[1;32m    541\u001b[0m         \u001b[0mprotocol\u001b[0m \u001b[0;34m=\u001b[0m \u001b[0mreq\u001b[0m\u001b[0;34m.\u001b[0m\u001b[0mtype\u001b[0m\u001b[0;34m\u001b[0m\u001b[0;34m\u001b[0m\u001b[0m\n\u001b[1;32m    542\u001b[0m         result = self._call_chain(self.handle_open, protocol, protocol +\n\u001b[0;32m--> 543\u001b[0;31m                                   '_open', req)\n\u001b[0m\u001b[1;32m    544\u001b[0m         \u001b[0;32mif\u001b[0m \u001b[0mresult\u001b[0m\u001b[0;34m:\u001b[0m\u001b[0;34m\u001b[0m\u001b[0;34m\u001b[0m\u001b[0m\n\u001b[1;32m    545\u001b[0m             \u001b[0;32mreturn\u001b[0m \u001b[0mresult\u001b[0m\u001b[0;34m\u001b[0m\u001b[0;34m\u001b[0m\u001b[0m\n",
          "\u001b[0;32m~/.conda/envs/nbtools-lab-prototype/lib/python3.7/urllib/request.py\u001b[0m in \u001b[0;36m_call_chain\u001b[0;34m(self, chain, kind, meth_name, *args)\u001b[0m\n\u001b[1;32m    501\u001b[0m         \u001b[0;32mfor\u001b[0m \u001b[0mhandler\u001b[0m \u001b[0;32min\u001b[0m \u001b[0mhandlers\u001b[0m\u001b[0;34m:\u001b[0m\u001b[0;34m\u001b[0m\u001b[0;34m\u001b[0m\u001b[0m\n\u001b[1;32m    502\u001b[0m             \u001b[0mfunc\u001b[0m \u001b[0;34m=\u001b[0m \u001b[0mgetattr\u001b[0m\u001b[0;34m(\u001b[0m\u001b[0mhandler\u001b[0m\u001b[0;34m,\u001b[0m \u001b[0mmeth_name\u001b[0m\u001b[0;34m)\u001b[0m\u001b[0;34m\u001b[0m\u001b[0;34m\u001b[0m\u001b[0m\n\u001b[0;32m--> 503\u001b[0;31m             \u001b[0mresult\u001b[0m \u001b[0;34m=\u001b[0m \u001b[0mfunc\u001b[0m\u001b[0;34m(\u001b[0m\u001b[0;34m*\u001b[0m\u001b[0margs\u001b[0m\u001b[0;34m)\u001b[0m\u001b[0;34m\u001b[0m\u001b[0;34m\u001b[0m\u001b[0m\n\u001b[0m\u001b[1;32m    504\u001b[0m             \u001b[0;32mif\u001b[0m \u001b[0mresult\u001b[0m \u001b[0;32mis\u001b[0m \u001b[0;32mnot\u001b[0m \u001b[0;32mNone\u001b[0m\u001b[0;34m:\u001b[0m\u001b[0;34m\u001b[0m\u001b[0;34m\u001b[0m\u001b[0m\n\u001b[1;32m    505\u001b[0m                 \u001b[0;32mreturn\u001b[0m \u001b[0mresult\u001b[0m\u001b[0;34m\u001b[0m\u001b[0;34m\u001b[0m\u001b[0m\n",
          "\u001b[0;32m~/.conda/envs/nbtools-lab-prototype/lib/python3.7/urllib/request.py\u001b[0m in \u001b[0;36mhttps_open\u001b[0;34m(self, req)\u001b[0m\n\u001b[1;32m   1360\u001b[0m         \u001b[0;32mdef\u001b[0m \u001b[0mhttps_open\u001b[0m\u001b[0;34m(\u001b[0m\u001b[0mself\u001b[0m\u001b[0;34m,\u001b[0m \u001b[0mreq\u001b[0m\u001b[0;34m)\u001b[0m\u001b[0;34m:\u001b[0m\u001b[0;34m\u001b[0m\u001b[0;34m\u001b[0m\u001b[0m\n\u001b[1;32m   1361\u001b[0m             return self.do_open(http.client.HTTPSConnection, req,\n\u001b[0;32m-> 1362\u001b[0;31m                 context=self._context, check_hostname=self._check_hostname)\n\u001b[0m\u001b[1;32m   1363\u001b[0m \u001b[0;34m\u001b[0m\u001b[0m\n\u001b[1;32m   1364\u001b[0m         \u001b[0mhttps_request\u001b[0m \u001b[0;34m=\u001b[0m \u001b[0mAbstractHTTPHandler\u001b[0m\u001b[0;34m.\u001b[0m\u001b[0mdo_request_\u001b[0m\u001b[0;34m\u001b[0m\u001b[0;34m\u001b[0m\u001b[0m\n",
          "\u001b[0;32m~/.conda/envs/nbtools-lab-prototype/lib/python3.7/urllib/request.py\u001b[0m in \u001b[0;36mdo_open\u001b[0;34m(self, http_class, req, **http_conn_args)\u001b[0m\n\u001b[1;32m   1320\u001b[0m             \u001b[0;32mexcept\u001b[0m \u001b[0mOSError\u001b[0m \u001b[0;32mas\u001b[0m \u001b[0merr\u001b[0m\u001b[0;34m:\u001b[0m \u001b[0;31m# timeout error\u001b[0m\u001b[0;34m\u001b[0m\u001b[0;34m\u001b[0m\u001b[0m\n\u001b[1;32m   1321\u001b[0m                 \u001b[0;32mraise\u001b[0m \u001b[0mURLError\u001b[0m\u001b[0;34m(\u001b[0m\u001b[0merr\u001b[0m\u001b[0;34m)\u001b[0m\u001b[0;34m\u001b[0m\u001b[0;34m\u001b[0m\u001b[0m\n\u001b[0;32m-> 1322\u001b[0;31m             \u001b[0mr\u001b[0m \u001b[0;34m=\u001b[0m \u001b[0mh\u001b[0m\u001b[0;34m.\u001b[0m\u001b[0mgetresponse\u001b[0m\u001b[0;34m(\u001b[0m\u001b[0;34m)\u001b[0m\u001b[0;34m\u001b[0m\u001b[0;34m\u001b[0m\u001b[0m\n\u001b[0m\u001b[1;32m   1323\u001b[0m         \u001b[0;32mexcept\u001b[0m\u001b[0;34m:\u001b[0m\u001b[0;34m\u001b[0m\u001b[0;34m\u001b[0m\u001b[0m\n\u001b[1;32m   1324\u001b[0m             \u001b[0mh\u001b[0m\u001b[0;34m.\u001b[0m\u001b[0mclose\u001b[0m\u001b[0;34m(\u001b[0m\u001b[0;34m)\u001b[0m\u001b[0;34m\u001b[0m\u001b[0;34m\u001b[0m\u001b[0m\n",
          "\u001b[0;32m~/.conda/envs/nbtools-lab-prototype/lib/python3.7/http/client.py\u001b[0m in \u001b[0;36mgetresponse\u001b[0;34m(self)\u001b[0m\n\u001b[1;32m   1342\u001b[0m         \u001b[0;32mtry\u001b[0m\u001b[0;34m:\u001b[0m\u001b[0;34m\u001b[0m\u001b[0;34m\u001b[0m\u001b[0m\n\u001b[1;32m   1343\u001b[0m             \u001b[0;32mtry\u001b[0m\u001b[0;34m:\u001b[0m\u001b[0;34m\u001b[0m\u001b[0;34m\u001b[0m\u001b[0m\n\u001b[0;32m-> 1344\u001b[0;31m                 \u001b[0mresponse\u001b[0m\u001b[0;34m.\u001b[0m\u001b[0mbegin\u001b[0m\u001b[0;34m(\u001b[0m\u001b[0;34m)\u001b[0m\u001b[0;34m\u001b[0m\u001b[0;34m\u001b[0m\u001b[0m\n\u001b[0m\u001b[1;32m   1345\u001b[0m             \u001b[0;32mexcept\u001b[0m \u001b[0mConnectionError\u001b[0m\u001b[0;34m:\u001b[0m\u001b[0;34m\u001b[0m\u001b[0;34m\u001b[0m\u001b[0m\n\u001b[1;32m   1346\u001b[0m                 \u001b[0mself\u001b[0m\u001b[0;34m.\u001b[0m\u001b[0mclose\u001b[0m\u001b[0;34m(\u001b[0m\u001b[0;34m)\u001b[0m\u001b[0;34m\u001b[0m\u001b[0;34m\u001b[0m\u001b[0m\n",
          "\u001b[0;32m~/.conda/envs/nbtools-lab-prototype/lib/python3.7/http/client.py\u001b[0m in \u001b[0;36mbegin\u001b[0;34m(self)\u001b[0m\n\u001b[1;32m    304\u001b[0m         \u001b[0;31m# read until we get a non-100 response\u001b[0m\u001b[0;34m\u001b[0m\u001b[0;34m\u001b[0m\u001b[0;34m\u001b[0m\u001b[0m\n\u001b[1;32m    305\u001b[0m         \u001b[0;32mwhile\u001b[0m \u001b[0;32mTrue\u001b[0m\u001b[0;34m:\u001b[0m\u001b[0;34m\u001b[0m\u001b[0;34m\u001b[0m\u001b[0m\n\u001b[0;32m--> 306\u001b[0;31m             \u001b[0mversion\u001b[0m\u001b[0;34m,\u001b[0m \u001b[0mstatus\u001b[0m\u001b[0;34m,\u001b[0m \u001b[0mreason\u001b[0m \u001b[0;34m=\u001b[0m \u001b[0mself\u001b[0m\u001b[0;34m.\u001b[0m\u001b[0m_read_status\u001b[0m\u001b[0;34m(\u001b[0m\u001b[0;34m)\u001b[0m\u001b[0;34m\u001b[0m\u001b[0;34m\u001b[0m\u001b[0m\n\u001b[0m\u001b[1;32m    307\u001b[0m             \u001b[0;32mif\u001b[0m \u001b[0mstatus\u001b[0m \u001b[0;34m!=\u001b[0m \u001b[0mCONTINUE\u001b[0m\u001b[0;34m:\u001b[0m\u001b[0;34m\u001b[0m\u001b[0;34m\u001b[0m\u001b[0m\n\u001b[1;32m    308\u001b[0m                 \u001b[0;32mbreak\u001b[0m\u001b[0;34m\u001b[0m\u001b[0;34m\u001b[0m\u001b[0m\n",
          "\u001b[0;32m~/.conda/envs/nbtools-lab-prototype/lib/python3.7/http/client.py\u001b[0m in \u001b[0;36m_read_status\u001b[0;34m(self)\u001b[0m\n\u001b[1;32m    265\u001b[0m \u001b[0;34m\u001b[0m\u001b[0m\n\u001b[1;32m    266\u001b[0m     \u001b[0;32mdef\u001b[0m \u001b[0m_read_status\u001b[0m\u001b[0;34m(\u001b[0m\u001b[0mself\u001b[0m\u001b[0;34m)\u001b[0m\u001b[0;34m:\u001b[0m\u001b[0;34m\u001b[0m\u001b[0;34m\u001b[0m\u001b[0m\n\u001b[0;32m--> 267\u001b[0;31m         \u001b[0mline\u001b[0m \u001b[0;34m=\u001b[0m \u001b[0mstr\u001b[0m\u001b[0;34m(\u001b[0m\u001b[0mself\u001b[0m\u001b[0;34m.\u001b[0m\u001b[0mfp\u001b[0m\u001b[0;34m.\u001b[0m\u001b[0mreadline\u001b[0m\u001b[0;34m(\u001b[0m\u001b[0m_MAXLINE\u001b[0m \u001b[0;34m+\u001b[0m \u001b[0;36m1\u001b[0m\u001b[0;34m)\u001b[0m\u001b[0;34m,\u001b[0m \u001b[0;34m\"iso-8859-1\"\u001b[0m\u001b[0;34m)\u001b[0m\u001b[0;34m\u001b[0m\u001b[0;34m\u001b[0m\u001b[0m\n\u001b[0m\u001b[1;32m    268\u001b[0m         \u001b[0;32mif\u001b[0m \u001b[0mlen\u001b[0m\u001b[0;34m(\u001b[0m\u001b[0mline\u001b[0m\u001b[0;34m)\u001b[0m \u001b[0;34m>\u001b[0m \u001b[0m_MAXLINE\u001b[0m\u001b[0;34m:\u001b[0m\u001b[0;34m\u001b[0m\u001b[0;34m\u001b[0m\u001b[0m\n\u001b[1;32m    269\u001b[0m             \u001b[0;32mraise\u001b[0m \u001b[0mLineTooLong\u001b[0m\u001b[0;34m(\u001b[0m\u001b[0;34m\"status line\"\u001b[0m\u001b[0;34m)\u001b[0m\u001b[0;34m\u001b[0m\u001b[0;34m\u001b[0m\u001b[0m\n",
          "\u001b[0;32m~/.conda/envs/nbtools-lab-prototype/lib/python3.7/socket.py\u001b[0m in \u001b[0;36mreadinto\u001b[0;34m(self, b)\u001b[0m\n\u001b[1;32m    587\u001b[0m         \u001b[0;32mwhile\u001b[0m \u001b[0;32mTrue\u001b[0m\u001b[0;34m:\u001b[0m\u001b[0;34m\u001b[0m\u001b[0;34m\u001b[0m\u001b[0m\n\u001b[1;32m    588\u001b[0m             \u001b[0;32mtry\u001b[0m\u001b[0;34m:\u001b[0m\u001b[0;34m\u001b[0m\u001b[0;34m\u001b[0m\u001b[0m\n\u001b[0;32m--> 589\u001b[0;31m                 \u001b[0;32mreturn\u001b[0m \u001b[0mself\u001b[0m\u001b[0;34m.\u001b[0m\u001b[0m_sock\u001b[0m\u001b[0;34m.\u001b[0m\u001b[0mrecv_into\u001b[0m\u001b[0;34m(\u001b[0m\u001b[0mb\u001b[0m\u001b[0;34m)\u001b[0m\u001b[0;34m\u001b[0m\u001b[0;34m\u001b[0m\u001b[0m\n\u001b[0m\u001b[1;32m    590\u001b[0m             \u001b[0;32mexcept\u001b[0m \u001b[0mtimeout\u001b[0m\u001b[0;34m:\u001b[0m\u001b[0;34m\u001b[0m\u001b[0;34m\u001b[0m\u001b[0m\n\u001b[1;32m    591\u001b[0m                 \u001b[0mself\u001b[0m\u001b[0;34m.\u001b[0m\u001b[0m_timeout_occurred\u001b[0m \u001b[0;34m=\u001b[0m \u001b[0;32mTrue\u001b[0m\u001b[0;34m\u001b[0m\u001b[0;34m\u001b[0m\u001b[0m\n",
          "\u001b[0;32m~/.conda/envs/nbtools-lab-prototype/lib/python3.7/ssl.py\u001b[0m in \u001b[0;36mrecv_into\u001b[0;34m(self, buffer, nbytes, flags)\u001b[0m\n\u001b[1;32m   1069\u001b[0m                   \u001b[0;34m\"non-zero flags not allowed in calls to recv_into() on %s\"\u001b[0m \u001b[0;34m%\u001b[0m\u001b[0;34m\u001b[0m\u001b[0;34m\u001b[0m\u001b[0m\n\u001b[1;32m   1070\u001b[0m                   self.__class__)\n\u001b[0;32m-> 1071\u001b[0;31m             \u001b[0;32mreturn\u001b[0m \u001b[0mself\u001b[0m\u001b[0;34m.\u001b[0m\u001b[0mread\u001b[0m\u001b[0;34m(\u001b[0m\u001b[0mnbytes\u001b[0m\u001b[0;34m,\u001b[0m \u001b[0mbuffer\u001b[0m\u001b[0;34m)\u001b[0m\u001b[0;34m\u001b[0m\u001b[0;34m\u001b[0m\u001b[0m\n\u001b[0m\u001b[1;32m   1072\u001b[0m         \u001b[0;32melse\u001b[0m\u001b[0;34m:\u001b[0m\u001b[0;34m\u001b[0m\u001b[0;34m\u001b[0m\u001b[0m\n\u001b[1;32m   1073\u001b[0m             \u001b[0;32mreturn\u001b[0m \u001b[0msuper\u001b[0m\u001b[0;34m(\u001b[0m\u001b[0;34m)\u001b[0m\u001b[0;34m.\u001b[0m\u001b[0mrecv_into\u001b[0m\u001b[0;34m(\u001b[0m\u001b[0mbuffer\u001b[0m\u001b[0;34m,\u001b[0m \u001b[0mnbytes\u001b[0m\u001b[0;34m,\u001b[0m \u001b[0mflags\u001b[0m\u001b[0;34m)\u001b[0m\u001b[0;34m\u001b[0m\u001b[0;34m\u001b[0m\u001b[0m\n",
          "\u001b[0;32m~/.conda/envs/nbtools-lab-prototype/lib/python3.7/ssl.py\u001b[0m in \u001b[0;36mread\u001b[0;34m(self, len, buffer)\u001b[0m\n\u001b[1;32m    927\u001b[0m         \u001b[0;32mtry\u001b[0m\u001b[0;34m:\u001b[0m\u001b[0;34m\u001b[0m\u001b[0;34m\u001b[0m\u001b[0m\n\u001b[1;32m    928\u001b[0m             \u001b[0;32mif\u001b[0m \u001b[0mbuffer\u001b[0m \u001b[0;32mis\u001b[0m \u001b[0;32mnot\u001b[0m \u001b[0;32mNone\u001b[0m\u001b[0;34m:\u001b[0m\u001b[0;34m\u001b[0m\u001b[0;34m\u001b[0m\u001b[0m\n\u001b[0;32m--> 929\u001b[0;31m                 \u001b[0;32mreturn\u001b[0m \u001b[0mself\u001b[0m\u001b[0;34m.\u001b[0m\u001b[0m_sslobj\u001b[0m\u001b[0;34m.\u001b[0m\u001b[0mread\u001b[0m\u001b[0;34m(\u001b[0m\u001b[0mlen\u001b[0m\u001b[0;34m,\u001b[0m \u001b[0mbuffer\u001b[0m\u001b[0;34m)\u001b[0m\u001b[0;34m\u001b[0m\u001b[0;34m\u001b[0m\u001b[0m\n\u001b[0m\u001b[1;32m    930\u001b[0m             \u001b[0;32melse\u001b[0m\u001b[0;34m:\u001b[0m\u001b[0;34m\u001b[0m\u001b[0;34m\u001b[0m\u001b[0m\n\u001b[1;32m    931\u001b[0m                 \u001b[0;32mreturn\u001b[0m \u001b[0mself\u001b[0m\u001b[0;34m.\u001b[0m\u001b[0m_sslobj\u001b[0m\u001b[0;34m.\u001b[0m\u001b[0mread\u001b[0m\u001b[0;34m(\u001b[0m\u001b[0mlen\u001b[0m\u001b[0;34m)\u001b[0m\u001b[0;34m\u001b[0m\u001b[0;34m\u001b[0m\u001b[0m\n",
          "\u001b[0;31mKeyboardInterrupt\u001b[0m: "
         ]
        }
       ]
      }
     },
     "619586c4cabb413da45d09c4a7ee3160": {
      "model_module": "@jupyter-widgets/base",
      "model_module_version": "1.2.0",
      "model_name": "LayoutModel",
      "state": {
       "grid_area": "description",
       "width": "auto"
      }
     },
     "62efc50bb69f498fb3cb259f2414cc3a": {
      "model_module": "@jupyter-widgets/controls",
      "model_module_version": "1.5.0",
      "model_name": "DescriptionStyleModel",
      "state": {
       "description_width": ""
      }
     },
     "63ac73b3632d4b628d455807239990bc": {
      "model_module": "@jupyter-widgets/controls",
      "model_module_version": "1.5.0",
      "model_name": "ComboboxModel",
      "state": {
       "_dom_classes": [
        "nbtools-menu-attached"
       ],
       "choices": {
        "hello": "world",
        "more": "cowbell"
       },
       "ensure_option": false,
       "kinds": [],
       "layout": "IPY_MODEL_989567ac0ab7457f8447cd9d0732c18d",
       "style": "IPY_MODEL_76821323295147f4b0e652328fb12d4b"
      }
     },
     "649edaf9588b4f438017f32c7852d4a4": {
      "model_module": "@jupyter-widgets/base",
      "model_module_version": "1.2.0",
      "model_name": "LayoutModel",
      "state": {
       "grid_area": "label",
       "width": "auto"
      }
     },
     "64d58cbb4a67488f8a0ed2df15afd213": {
      "model_module": "@jupyter-widgets/controls",
      "model_module_version": "1.5.0",
      "model_name": "VBoxModel",
      "state": {
       "_dom_classes": [
        "widget-interact"
       ],
       "children": [
        "IPY_MODEL_40a3f57d7e0747d2af7d618cbe421919",
        "IPY_MODEL_a887902738634cd3a0664b3bce6a33d0"
       ],
       "layout": "IPY_MODEL_b16007aa977a48a1b8c4466c5e8fc2a1"
      }
     },
     "64dffa478a254edf83ebd756f09dbe7e": {
      "model_module": "@jupyter-widgets/base",
      "model_module_version": "1.2.0",
      "model_name": "LayoutModel",
      "state": {
       "grid_area": "description",
       "width": "auto"
      }
     },
     "6570a88356304e279df36538b74dfb20": {
      "model_module": "@jupyter-widgets/base",
      "model_module_version": "1.2.0",
      "model_name": "LayoutModel",
      "state": {}
     },
     "65a89cc9cd604a4793d124e8286b9b19": {
      "model_module": "@jupyter-widgets/controls",
      "model_module_version": "1.5.0",
      "model_name": "ButtonModel",
      "state": {
       "_dom_classes": [
        "hidden"
       ],
       "description": "Run",
       "layout": "IPY_MODEL_205c8c8ffb81457d8ca70f5ff7cd7dd7",
       "style": "IPY_MODEL_c7a8454a858447febf41315a071c79b0"
      }
     },
     "691932bd33f34070a646bcbf1768653d": {
      "model_module": "@jupyter-widgets/base",
      "model_module_version": "1.2.0",
      "model_name": "LayoutModel",
      "state": {}
     },
     "699fc45e1a3d440da84dbb7afa195e8f": {
      "model_module": "@genepattern/nbtools",
      "model_module_version": "^20.10.0-alpha.0",
      "model_name": "UIBuilderModel",
      "state": {
       "_dom_classes": [],
       "_model_module_version": "^20.10.0-alpha.0",
       "_parameters": [
        {
         "choices": {},
         "default": "",
         "description": "",
         "events": null,
         "hide": true,
         "id": null,
         "kinds": null,
         "label": "output variable",
         "name": "output_var",
         "optional": true,
         "type": "text",
         "value": ""
        }
       ],
       "_view_count": null,
       "_view_module_version": "^20.10.0-alpha.0",
       "form": "IPY_MODEL_745d99ea18d6494f866a45ee9b227b6d",
       "layout": "IPY_MODEL_3fac4c6dfb7040829a19c44c0409423a",
       "name": "RNA seq",
       "origin": "Notebook",
       "output": "IPY_MODEL_e92a20c7b8d949e9978723b9f794a17d",
       "output_var": ""
      }
     },
     "69b9957227d04a9387eada81dfcf7e6d": {
      "model_module": "@jupyter-widgets/controls",
      "model_module_version": "1.5.0",
      "model_name": "LabelModel",
      "state": {
       "description": "output variable",
       "layout": "IPY_MODEL_c2ea528d025d47dd88c46b8dc79951fd",
       "style": "IPY_MODEL_5dd850d3e7f1447eaba2ee6f99938019",
       "value": "output variable"
      }
     },
     "6a1bac4ba87f4267834879854692570b": {
      "model_module": "@jupyter-widgets/controls",
      "model_module_version": "1.5.0",
      "model_name": "VBoxModel",
      "state": {
       "_dom_classes": [
        "widget-interact"
       ],
       "children": [
        "IPY_MODEL_20ae333dbc024b7eabcd9734f75a8347",
        "IPY_MODEL_c93ae3f096b34b0e8ba571d4a56c7a93"
       ],
       "layout": "IPY_MODEL_fe7cc81c4ef7473384e85d1a2a37caf6"
      }
     },
     "6be1a8cc7fd140a5bb503f02b631dda2": {
      "model_module": "@jupyter-widgets/base",
      "model_module_version": "1.2.0",
      "model_name": "LayoutModel",
      "state": {}
     },
     "6e0ad6db56564d819b00f4eb42bb94e5": {
      "model_module": "@jupyter-widgets/base",
      "model_module_version": "1.2.0",
      "model_name": "LayoutModel",
      "state": {}
     },
     "6fb77cc0f62b4d31a3f111537d354a64": {
      "model_module": "@jupyter-widgets/controls",
      "model_module_version": "1.5.0",
      "model_name": "DescriptionStyleModel",
      "state": {
       "description_width": ""
      }
     },
     "70dd8d0d937f4267af7cb22af889f6b7": {
      "model_module": "@jupyter-widgets/base",
      "model_module_version": "1.2.0",
      "model_name": "LayoutModel",
      "state": {
       "grid_area": "label",
       "width": "auto"
      }
     },
     "712e58dc71154247bea5518808897eb4": {
      "model_module": "@jupyter-widgets/base",
      "model_module_version": "1.2.0",
      "model_name": "LayoutModel",
      "state": {}
     },
     "715c562d04154ddca7a09edffb0badca": {
      "model_module": "@jupyter-widgets/controls",
      "model_module_version": "1.5.0",
      "model_name": "GridBoxModel",
      "state": {
       "_dom_classes": [
        "nbtools-input",
        "nbtools-textinput"
       ],
       "children": [
        "IPY_MODEL_d342894259e84ad89e856827091c3e7c",
        "IPY_MODEL_31b955e99e2a46238caf0f72f708c6eb",
        "IPY_MODEL_760769a2ed8340ba9845150ab9a8e932"
       ],
       "layout": "IPY_MODEL_aebeb15b898f4f9a9e8dd0c3b6e4d10e"
      }
     },
     "716d3b8aa01342efa5eb68e6dc5a63d7": {
      "model_module": "@jupyter-widgets/controls",
      "model_module_version": "1.5.0",
      "model_name": "GridBoxModel",
      "state": {
       "_dom_classes": [
        "nbtools-input",
        "nbtools-textinput"
       ],
       "children": [
        "IPY_MODEL_99c560fe60904d9da50263d6215ec2aa",
        "IPY_MODEL_cf0307a076dd43979b682cce21f9fc12",
        "IPY_MODEL_1c3e3e211b7c4b0393e0880493dd5e25"
       ],
       "layout": "IPY_MODEL_416d0183cb5d4cf394494b95a9e25b93"
      }
     },
     "7262f862417a4a2d9638be5cbca4930d": {
      "model_module": "@jupyter-widgets/base",
      "model_module_version": "1.2.0",
      "model_name": "LayoutModel",
      "state": {
       "grid_area": "description",
       "width": "auto"
      }
     },
     "7282d441af1d4cf9bf1e51e24f3a4177": {
      "model_module": "@jupyter-widgets/base",
      "model_module_version": "1.2.0",
      "model_name": "LayoutModel",
      "state": {}
     },
     "7382429db08d474ea9d022d0e9a97f78": {
      "model_module": "@jupyter-widgets/output",
      "model_module_version": "1.0.0",
      "model_name": "OutputModel",
      "state": {
       "layout": "IPY_MODEL_d0b35fe3b9854129b67da70d21441d76"
      }
     },
     "745d99ea18d6494f866a45ee9b227b6d": {
      "model_module": "@jupyter-widgets/controls",
      "model_module_version": "1.5.0",
      "model_name": "VBoxModel",
      "state": {
       "_dom_classes": [
        "widget-interact"
       ],
       "children": [
        "IPY_MODEL_df9e1339b8224a98badb0d6af91587a2",
        "IPY_MODEL_2673dd965d0e48a0a19efc10fde76c52"
       ],
       "layout": "IPY_MODEL_4d037d2b911d4d2297356a24c4a0cd5c"
      }
     },
     "760769a2ed8340ba9845150ab9a8e932": {
      "model_module": "@jupyter-widgets/controls",
      "model_module_version": "1.5.0",
      "model_name": "LabelModel",
      "state": {
       "layout": "IPY_MODEL_a9139c208d17430ba8f5b958f8986189",
       "style": "IPY_MODEL_f97c6d77bea14e4ca8ebe69b7db1c5e6"
      }
     },
     "76821323295147f4b0e652328fb12d4b": {
      "model_module": "@jupyter-widgets/controls",
      "model_module_version": "1.5.0",
      "model_name": "DescriptionStyleModel",
      "state": {
       "description_width": ""
      }
     },
     "76a3d5c322004f198e424362361ca797": {
      "model_module": "@jupyter-widgets/controls",
      "model_module_version": "1.5.0",
      "model_name": "DescriptionStyleModel",
      "state": {
       "description_width": ""
      }
     },
     "76e249436d774e99af3c0a5c16d80e5b": {
      "model_module": "@jupyter-widgets/controls",
      "model_module_version": "1.5.0",
      "model_name": "ButtonModel",
      "state": {
       "_dom_classes": [
        "hidden"
       ],
       "description": "Run",
       "layout": "IPY_MODEL_33f6834307ac49d9a169f1d98c2e476b",
       "style": "IPY_MODEL_fe6036f7100c4410ade7d22a5b515186"
      }
     },
     "77798420a8844d4a9edb50df1bdc11a1": {
      "model_module": "@jupyter-widgets/base",
      "model_module_version": "1.2.0",
      "model_name": "LayoutModel",
      "state": {
       "grid_area": "description",
       "width": "auto"
      }
     },
     "7782c791fafa40ebad6b8a3187f0f93f": {
      "model_module": "@jupyter-widgets/output",
      "model_module_version": "1.0.0",
      "model_name": "OutputModel",
      "state": {
       "layout": "IPY_MODEL_ba1ff2c75fde48429c327b3e6d0dd998"
      }
     },
     "77df8ff2e9064efaad3694f22dc7b051": {
      "model_module": "@jupyter-widgets/base",
      "model_module_version": "1.2.0",
      "model_name": "LayoutModel",
      "state": {
       "display": "none",
       "grid_template_areas": "\n                    \"label input\"\n                    \". description\"\n                ",
       "grid_template_columns": "25% 75%",
       "grid_template_rows": "auto auto",
       "width": "100%"
      }
     },
     "77e0a538ec4c4947bfddf1a8b11d50fb": {
      "model_module": "@jupyter-widgets/base",
      "model_module_version": "1.2.0",
      "model_name": "LayoutModel",
      "state": {
       "grid_area": "input",
       "width": "auto"
      }
     },
     "77e7d913323441b2abaa60b5f96e0d0d": {
      "model_module": "@jupyter-widgets/controls",
      "model_module_version": "1.5.0",
      "model_name": "TextModel",
      "state": {
       "_dom_classes": [
        "nbtools-menu-attached"
       ],
       "layout": "IPY_MODEL_58d08ebb654a48e9aa07bcd3a7f228df",
       "style": "IPY_MODEL_19090e0b0d064cf3bb38419b2200e53c"
      }
     },
     "7965efcf37fa4c45ac1ed6ccd2443765": {
      "model_module": "@jupyter-widgets/controls",
      "model_module_version": "1.5.0",
      "model_name": "PasswordModel",
      "state": {
       "layout": "IPY_MODEL_00e81f759b2e49e092aeea95b2eb13a0",
       "style": "IPY_MODEL_f888c2a602bf45ddb3c9ac3c6053d8b3"
      }
     },
     "7a2acd33e4b348b0ac6019312bd90ab4": {
      "model_module": "@jupyter-widgets/base",
      "model_module_version": "1.2.0",
      "model_name": "LayoutModel",
      "state": {
       "grid_area": "label",
       "width": "auto"
      }
     },
     "7dffa8c48f434ab2970f96970e0df524": {
      "model_module": "@jupyter-widgets/base",
      "model_module_version": "1.2.0",
      "model_name": "LayoutModel",
      "state": {}
     },
     "7e0a28429107441fab79c8c046ae50b7": {
      "model_module": "@jupyter-widgets/controls",
      "model_module_version": "1.5.0",
      "model_name": "TextModel",
      "state": {
       "_dom_classes": [
        "nbtools-menu-attached"
       ],
       "layout": "IPY_MODEL_c2ba457fa64b42339c09362a117d5984",
       "style": "IPY_MODEL_22df445cdccc4b2b933704ee8e2a973a"
      }
     },
     "7e6bbc948b7c47878954c1da6936a3ee": {
      "model_module": "@jupyter-widgets/controls",
      "model_module_version": "1.5.0",
      "model_name": "LabelModel",
      "state": {
       "description": "output variable",
       "layout": "IPY_MODEL_649edaf9588b4f438017f32c7852d4a4",
       "style": "IPY_MODEL_0a4bc915141448d89725d35b7724b7e4",
       "value": "output variable"
      }
     },
     "7e8e045f163143f097d24f87ead17a13": {
      "model_module": "@jupyter-widgets/controls",
      "model_module_version": "1.5.0",
      "model_name": "ButtonStyleModel",
      "state": {}
     },
     "7f2c9d06bc48487e8509ddeaa7110e6b": {
      "model_module": "@jupyter-widgets/base",
      "model_module_version": "1.2.0",
      "model_name": "LayoutModel",
      "state": {}
     },
     "7f5c151a66854bdcaa5756b74f701372": {
      "model_module": "@jupyter-widgets/controls",
      "model_module_version": "1.5.0",
      "model_name": "LabelModel",
      "state": {
       "layout": "IPY_MODEL_526ce095d5464f4f98dd310d5f3f8f68",
       "style": "IPY_MODEL_43e78b67f6854c8ea91a45fae0bc2c04"
      }
     },
     "7f76e079b2ee47e28ea004423e7a7a19": {
      "model_module": "@jupyter-widgets/controls",
      "model_module_version": "1.5.0",
      "model_name": "DescriptionStyleModel",
      "state": {
       "description_width": ""
      }
     },
     "7f902db8e9ee455cb1db3abf9e2fb943": {
      "model_module": "@jupyter-widgets/base",
      "model_module_version": "1.2.0",
      "model_name": "LayoutModel",
      "state": {
       "grid_template_areas": "\n                    \"label input\"\n                    \". description\"\n                ",
       "grid_template_columns": "25% 75%",
       "grid_template_rows": "auto auto",
       "width": "100%"
      }
     },
     "80a096bedafa457ea8cf034aba1d4003": {
      "model_module": "@jupyter-widgets/controls",
      "model_module_version": "1.5.0",
      "model_name": "ButtonModel",
      "state": {
       "_dom_classes": [
        "hidden"
       ],
       "description": "Run",
       "layout": "IPY_MODEL_e546061cb01844f1af82e2c7b6084321",
       "style": "IPY_MODEL_5691b8f0f0aa483395b03ffa56b34ee8"
      }
     },
     "80c18cf270b344698a4e255c11ea3b4f": {
      "model_module": "@jupyter-widgets/base",
      "model_module_version": "1.2.0",
      "model_name": "LayoutModel",
      "state": {
       "grid_area": "input",
       "width": "auto"
      }
     },
     "81c638907b8b42a583217b45fe493904": {
      "model_module": "@jupyter-widgets/controls",
      "model_module_version": "1.5.0",
      "model_name": "LabelModel",
      "state": {
       "layout": "IPY_MODEL_7262f862417a4a2d9638be5cbca4930d",
       "style": "IPY_MODEL_554d96a47ebb43efa23c675e5375b88e"
      }
     },
     "84aa44d67b6f4759a4b4592e47b3a923": {
      "model_module": "@jupyter-widgets/controls",
      "model_module_version": "1.5.0",
      "model_name": "LabelModel",
      "state": {
       "layout": "IPY_MODEL_e3a7db36a98f4c1e8d4454dafdceec17",
       "style": "IPY_MODEL_a3ee11c75bcf40d5b567d4ec002826fc"
      }
     },
     "85044bbae999448c8f19c89575ac0c21": {
      "model_module": "@jupyter-widgets/controls",
      "model_module_version": "1.5.0",
      "model_name": "DescriptionStyleModel",
      "state": {
       "description_width": ""
      }
     },
     "8697aaa4f81f4006903a4862f2e05775": {
      "model_module": "@jupyter-widgets/base",
      "model_module_version": "1.2.0",
      "model_name": "LayoutModel",
      "state": {
       "grid_area": "label",
       "width": "auto"
      }
     },
     "87350b6912b4425091da17df94a1b3b6": {
      "model_module": "@jupyter-widgets/controls",
      "model_module_version": "1.5.0",
      "model_name": "VBoxModel",
      "state": {
       "_dom_classes": [
        "widget-interact"
       ],
       "children": [
        "IPY_MODEL_5be66f0957c14c38b9174d9f8ffaa8f5",
        "IPY_MODEL_1d0510f350fe48f8946adb3a6901c712",
        "IPY_MODEL_8fd6f94d1c9a4231990d091189b72123",
        "IPY_MODEL_eb7b6907422a43ffb9107a3ea3983bc0",
        "IPY_MODEL_225d64935af049d284ad767b2a14edc7"
       ],
       "layout": "IPY_MODEL_c6b5312b86244d7e85f3d0310b2746f0"
      }
     },
     "8744eebdce704652b2b96df7d87714ef": {
      "model_module": "@jupyter-widgets/base",
      "model_module_version": "1.2.0",
      "model_name": "LayoutModel",
      "state": {
       "display": "none",
       "grid_template_areas": "\n                    \"label input\"\n                    \". description\"\n                ",
       "grid_template_columns": "25% 75%",
       "grid_template_rows": "auto auto",
       "width": "100%"
      }
     },
     "875b05380f8c4437bd45f2f862a9bbb7": {
      "model_module": "@jupyter-widgets/controls",
      "model_module_version": "1.5.0",
      "model_name": "VBoxModel",
      "state": {
       "_dom_classes": [
        "widget-interact"
       ],
       "children": [
        "IPY_MODEL_cab12dc0452f4562a7d786ad198081c0",
        "IPY_MODEL_93851879f0db47359057df7e3e595222"
       ],
       "layout": "IPY_MODEL_08138fe468284263be8b098b17fb349a"
      }
     },
     "889a37d59d284e0eb0223013a5cc3eba": {
      "model_module": "@jupyter-widgets/controls",
      "model_module_version": "1.5.0",
      "model_name": "TextModel",
      "state": {
       "_dom_classes": [
        "nbtools-menu-attached",
        "nbtools-nosendto"
       ],
       "layout": "IPY_MODEL_e8bee5a2bf9b4d5b91e9b727f3f35dff",
       "style": "IPY_MODEL_064e31a036264702a74531fc1f09a59b"
      }
     },
     "88c772326f0b4d58b6fb381b2cf09acd": {
      "model_module": "@jupyter-widgets/controls",
      "model_module_version": "1.5.0",
      "model_name": "ButtonStyleModel",
      "state": {}
     },
     "8a5682f76e5f4bf589faf50c11934b00": {
      "model_module": "@jupyter-widgets/controls",
      "model_module_version": "1.5.0",
      "model_name": "GridBoxModel",
      "state": {
       "_dom_classes": [
        "nbtools-input",
        "nbtools-comboinput",
        "required"
       ],
       "children": [
        "IPY_MODEL_d49be65b586d40409442ec1edb8d3bec",
        "IPY_MODEL_112078e364f141f5a80e8a25e74af4d8",
        "IPY_MODEL_27e3dcd510674d35bfb94a158a767ef1"
       ],
       "layout": "IPY_MODEL_a567ba220e79466c80ba5e274ba9eb58"
      }
     },
     "8a812126326b4bdf82ad7d9020bccd3a": {
      "model_module": "@jupyter-widgets/base",
      "model_module_version": "1.2.0",
      "model_name": "LayoutModel",
      "state": {
       "grid_area": "description",
       "width": "auto"
      }
     },
     "8c8c75687fd04f4787f75b05acc1403f": {
      "model_module": "@jupyter-widgets/output",
      "model_module_version": "1.0.0",
      "model_name": "OutputModel",
      "state": {
       "layout": "IPY_MODEL_c5fe81fd71914e2da17226f8ab83bbb1"
      }
     },
     "8d8555fa49954cf38582d92ecc3215cd": {
      "model_module": "@jupyter-widgets/controls",
      "model_module_version": "1.5.0",
      "model_name": "LabelModel",
      "state": {
       "description": "Password",
       "layout": "IPY_MODEL_4c3f17c1e3ca4968a08f8d06a27592f2",
       "style": "IPY_MODEL_13a7cf2f254a494fb2cb9fd8b08943bf",
       "value": "Password*"
      }
     },
     "8e36ff7f28004bd2ae8c476be25748e3": {
      "model_module": "@jupyter-widgets/base",
      "model_module_version": "1.2.0",
      "model_name": "LayoutModel",
      "state": {
       "grid_area": "description",
       "width": "auto"
      }
     },
     "8e58a9ae825748e598949eb49520bc85": {
      "model_module": "@jupyter-widgets/base",
      "model_module_version": "1.2.0",
      "model_name": "LayoutModel",
      "state": {
       "grid_area": "label",
       "width": "auto"
      }
     },
     "8ebf8d7b1be64a7793a6eea639618ee1": {
      "model_module": "@jupyter-widgets/controls",
      "model_module_version": "1.5.0",
      "model_name": "HBoxModel",
      "state": {
       "children": [
        "IPY_MODEL_0dda5eb4cd1b4a2eb19737194e9c8ee9",
        "IPY_MODEL_fcd7e4394a1b41268823b97553cf713c"
       ],
       "layout": "IPY_MODEL_0e75c77110b7409cbb7e63b10921f5f7"
      }
     },
     "8efe7b8b171143c9a99217d4a3193199": {
      "model_module": "@jupyter-widgets/base",
      "model_module_version": "1.2.0",
      "model_name": "LayoutModel",
      "state": {
       "grid_area": "label",
       "width": "auto"
      }
     },
     "8f60fd28595a46cf91e217a17ae46d89": {
      "model_module": "@jupyter-widgets/base",
      "model_module_version": "1.2.0",
      "model_name": "LayoutModel",
      "state": {
       "grid_area": "label",
       "width": "auto"
      }
     },
     "8fd6f94d1c9a4231990d091189b72123": {
      "model_module": "@jupyter-widgets/controls",
      "model_module_version": "1.5.0",
      "model_name": "GridBoxModel",
      "state": {
       "_dom_classes": [
        "nbtools-input",
        "nbtools-comboinput",
        "required"
       ],
       "children": [
        "IPY_MODEL_968bc9f7862b4ec18d08e618c97196e6",
        "IPY_MODEL_2f61f07852ee43a181819358047f1f94",
        "IPY_MODEL_b12c229f54364b4c8ff58bcd5e85d628"
       ],
       "layout": "IPY_MODEL_3f0c0ce49cc94eeb83a159bd9afd556c"
      }
     },
     "907c893b7bcb4ddebbbc0fe3c3517a44": {
      "model_module": "@jupyter-widgets/base",
      "model_module_version": "1.2.0",
      "model_name": "LayoutModel",
      "state": {}
     },
     "90cff8ba619540daa88f2745260958d0": {
      "model_module": "@jupyter-widgets/output",
      "model_module_version": "1.0.0",
      "model_name": "OutputModel",
      "state": {
       "layout": "IPY_MODEL_afb075a52505428e9199923d987e591d"
      }
     },
     "92f7965e95bc470c86d2482bf57e6d31": {
      "model_module": "@genepattern/nbtools",
      "model_module_version": "^20.10.0-alpha.0",
      "model_name": "UIBuilderModel",
      "state": {
       "_dom_classes": [],
       "_model_module_version": "^20.10.0-alpha.0",
       "_parameters": [
        {
         "choices": {
          "Broad Internal": "https://gpbroad.broadinstitute.org/gp",
          "GenePattern Cloud": "https://cloud.genepattern.org/gp",
          "Indiana University": "https://gp.indiana.edu/gp"
         },
         "combo": true,
         "default": "https://cloud.genepattern.org/gp",
         "description": "",
         "events": null,
         "hide": false,
         "id": null,
         "kinds": null,
         "label": "GenePattern Server",
         "name": "server",
         "optional": false,
         "sendto": false,
         "type": "choice",
         "value": ""
        },
        {
         "choices": {},
         "default": "",
         "description": "",
         "events": null,
         "hide": false,
         "id": null,
         "kinds": null,
         "label": "Username",
         "name": "username",
         "optional": false,
         "sendto": false,
         "type": "text",
         "value": ""
        },
        {
         "choices": {},
         "default": "",
         "description": "",
         "events": null,
         "hide": false,
         "id": null,
         "kinds": null,
         "label": "Password",
         "name": "password",
         "optional": false,
         "sendto": false,
         "type": "password",
         "value": ""
        },
        {
         "choices": {},
         "default": "",
         "description": "",
         "events": null,
         "hide": true,
         "id": null,
         "kinds": null,
         "label": "output variable",
         "name": "output_var",
         "optional": true,
         "type": "text",
         "value": ""
        }
       ],
       "_view_count": null,
       "_view_module_version": "^20.10.0-alpha.0",
       "buttons": {
        "Register an Account": "\n    const target = event.target;\n    const widget = target.closest('.nbtools') || target;\n    const server_input = widget.querySelector('input[type=text]');\n    if (server_input) window.open(server_input.value + '/pages/registerUser.jsf');\n    else console.warn('Cannot obtain GenePattern Server URL');"
       },
       "collapse": false,
       "color": "rgba(10, 45, 105, 0.80)",
       "description": "Login to the GenePattern server",
       "display_header": false,
       "form": "IPY_MODEL_1ed85e7237734b009a165bcb731e1946",
       "layout": "IPY_MODEL_99669cd5319b49fa9e9b7004c9b1fe09",
       "name": "Login",
       "origin": "genepattern.authwidget",
       "output": "IPY_MODEL_b9a5736ac2e047c1a555d55bec9e7a2b",
       "output_var": "",
       "run_label": "Log into GenePattern"
      }
     },
     "93851879f0db47359057df7e3e595222": {
      "model_module": "@jupyter-widgets/output",
      "model_module_version": "1.0.0",
      "model_name": "OutputModel",
      "state": {
       "layout": "IPY_MODEL_0d2a5cac000346448f82173c68c97a68"
      }
     },
     "944e64c169a74bfa97ef85a9bd01bc81": {
      "model_module": "@jupyter-widgets/output",
      "model_module_version": "1.0.0",
      "model_name": "OutputModel",
      "state": {
       "layout": "IPY_MODEL_3040c250cae54eea9c25402b71b8c1c8"
      }
     },
     "94e1238e8c374df1b956c030c184eb0c": {
      "model_module": "@jupyter-widgets/controls",
      "model_module_version": "1.5.0",
      "model_name": "ButtonModel",
      "state": {
       "_dom_classes": [
        "hidden"
       ],
       "description": "Run",
       "layout": "IPY_MODEL_d81a1122ab6945d3aad73281f841e693",
       "style": "IPY_MODEL_7e8e045f163143f097d24f87ead17a13"
      }
     },
     "9542ad312df2493eb0d21e43ebf8c99d": {
      "model_module": "@jupyter-widgets/controls",
      "model_module_version": "1.5.0",
      "model_name": "LabelModel",
      "state": {
       "layout": "IPY_MODEL_a485111347fc41099d92b8c2d07ef12c",
       "style": "IPY_MODEL_52948932f1ad48f2903f7771431d6b55"
      }
     },
     "9558cb72e1ac446f91e01b39cfc163d8": {
      "model_module": "@jupyter-widgets/base",
      "model_module_version": "1.2.0",
      "model_name": "LayoutModel",
      "state": {}
     },
     "9589512afb95402a92f5c644164bfcac": {
      "model_module": "@jupyter-widgets/base",
      "model_module_version": "1.2.0",
      "model_name": "LayoutModel",
      "state": {}
     },
     "95c29360ecbb428cb2ff5926fbaee638": {
      "model_module": "@jupyter-widgets/base",
      "model_module_version": "1.2.0",
      "model_name": "LayoutModel",
      "state": {}
     },
     "9635395ebded4a1cac971addb8df9865": {
      "model_module": "@jupyter-widgets/controls",
      "model_module_version": "1.5.0",
      "model_name": "DescriptionStyleModel",
      "state": {
       "description_width": ""
      }
     },
     "968bc9f7862b4ec18d08e618c97196e6": {
      "model_module": "@jupyter-widgets/controls",
      "model_module_version": "1.5.0",
      "model_name": "LabelModel",
      "state": {
       "description": "a",
       "layout": "IPY_MODEL_8697aaa4f81f4006903a4862f2e05775",
       "style": "IPY_MODEL_40e3267ec3734e6196ec6997cd7b9b70",
       "value": "a*"
      }
     },
     "989253dc2b4f4b1e8dde99c816e0a158": {
      "model_module": "@jupyter-widgets/controls",
      "model_module_version": "1.5.0",
      "model_name": "TextModel",
      "state": {
       "_dom_classes": [
        "nbtools-menu-attached"
       ],
       "layout": "IPY_MODEL_80c18cf270b344698a4e255c11ea3b4f",
       "style": "IPY_MODEL_e9b8daf6c6f94563b81d0f8961d0e994"
      }
     },
     "989567ac0ab7457f8447cd9d0732c18d": {
      "model_module": "@jupyter-widgets/base",
      "model_module_version": "1.2.0",
      "model_name": "LayoutModel",
      "state": {
       "grid_area": "input",
       "width": "auto"
      }
     },
     "9925f18fed804609b779b65583c1f450": {
      "model_module": "@jupyter-widgets/controls",
      "model_module_version": "1.5.0",
      "model_name": "DescriptionStyleModel",
      "state": {
       "description_width": ""
      }
     },
     "99669cd5319b49fa9e9b7004c9b1fe09": {
      "model_module": "@jupyter-widgets/base",
      "model_module_version": "1.2.0",
      "model_name": "LayoutModel",
      "state": {}
     },
     "99c560fe60904d9da50263d6215ec2aa": {
      "model_module": "@jupyter-widgets/controls",
      "model_module_version": "1.5.0",
      "model_name": "LabelModel",
      "state": {
       "description": "output variable",
       "layout": "IPY_MODEL_42a6b401ea04448894f85417086a9284",
       "style": "IPY_MODEL_4706d8cd3ba94c38b3ba0c7c8b6f933f",
       "value": "output variable"
      }
     },
     "9bc8b5f30b194bcb8a6f7b27992a0ba2": {
      "model_module": "@jupyter-widgets/controls",
      "model_module_version": "1.5.0",
      "model_name": "DescriptionStyleModel",
      "state": {
       "description_width": ""
      }
     },
     "9c5b5416e89b4db2acfe46c2670bf23b": {
      "model_module": "@jupyter-widgets/controls",
      "model_module_version": "1.5.0",
      "model_name": "GridBoxModel",
      "state": {
       "_dom_classes": [
        "nbtools-input",
        "nbtools-comboinput",
        "required"
       ],
       "children": [
        "IPY_MODEL_0156bf179098419893f8bff516c05779",
        "IPY_MODEL_d55b1e9b72654857baec8559a51ab054",
        "IPY_MODEL_81c638907b8b42a583217b45fe493904"
       ],
       "layout": "IPY_MODEL_04da3e52f1f34aa982d47f9c52453326"
      }
     },
     "9cbab5d1fe1e481a9dff045a74cc6e23": {
      "model_module": "@jupyter-widgets/controls",
      "model_module_version": "1.5.0",
      "model_name": "LabelModel",
      "state": {
       "layout": "IPY_MODEL_3e4f98417e354a37819974f4ecb4af6b",
       "style": "IPY_MODEL_9925f18fed804609b779b65583c1f450"
      }
     },
     "9d90ad4b833048508945ee993e564a56": {
      "model_module": "@jupyter-widgets/controls",
      "model_module_version": "1.5.0",
      "model_name": "DescriptionStyleModel",
      "state": {
       "description_width": ""
      }
     },
     "9db82b0bbab045a4ad1b8927a01f5892": {
      "model_module": "@jupyter-widgets/controls",
      "model_module_version": "1.5.0",
      "model_name": "TextModel",
      "state": {
       "_dom_classes": [
        "nbtools-menu-attached"
       ],
       "layout": "IPY_MODEL_0f944c2d626241bf80f97bd7838e4397",
       "style": "IPY_MODEL_eedbcd3faef445598cda141989fb510c"
      }
     },
     "9ed5cfdcedd04c1b9b610bb5b603b383": {
      "model_module": "@jupyter-widgets/base",
      "model_module_version": "1.2.0",
      "model_name": "LayoutModel",
      "state": {
       "grid_area": "label",
       "width": "auto"
      }
     },
     "9f38f0b3d0bd4e2990c21eca5e8bbf3e": {
      "model_module": "@jupyter-widgets/base",
      "model_module_version": "1.2.0",
      "model_name": "LayoutModel",
      "state": {
       "grid_area": "input",
       "width": "auto"
      }
     },
     "9f9abfcc5c2748ffb57ab49d1e477113": {
      "model_module": "@jupyter-widgets/controls",
      "model_module_version": "1.5.0",
      "model_name": "GridBoxModel",
      "state": {
       "_dom_classes": [
        "nbtools-input",
        "nbtools-passwordinput",
        "required"
       ],
       "children": [
        "IPY_MODEL_bcc31e31f96d4410b20efee9ed09194f",
        "IPY_MODEL_7965efcf37fa4c45ac1ed6ccd2443765",
        "IPY_MODEL_f2d84d0a55c04a14aada3727f2ba39d1"
       ],
       "layout": "IPY_MODEL_276b8318e0614c909a4f0ab4da10cd77"
      }
     },
     "a05922baeb1b4645962611b4216d45c3": {
      "model_module": "@jupyter-widgets/controls",
      "model_module_version": "1.5.0",
      "model_name": "GridBoxModel",
      "state": {
       "_dom_classes": [
        "nbtools-input",
        "nbtools-textinput"
       ],
       "children": [
        "IPY_MODEL_aeadae03a8ad4f39a669e580f1569703",
        "IPY_MODEL_f3e22b3707ee44918f8b39ef5c3f044a",
        "IPY_MODEL_1c245dc94b974059bae7ff9940a6e63a"
       ],
       "layout": "IPY_MODEL_f77da143633743b7bd73ad356b2b0e01"
      }
     },
     "a07c3c885afc4affbd12de9cf557f90a": {
      "model_module": "@jupyter-widgets/controls",
      "model_module_version": "1.5.0",
      "model_name": "ButtonStyleModel",
      "state": {}
     },
     "a119df4941a14c3aa79b9ea426d70e01": {
      "model_module": "@jupyter-widgets/controls",
      "model_module_version": "1.5.0",
      "model_name": "DescriptionStyleModel",
      "state": {
       "description_width": ""
      }
     },
     "a13ffe867a0d4c369069bea06ab42710": {
      "model_module": "@jupyter-widgets/base",
      "model_module_version": "1.2.0",
      "model_name": "LayoutModel",
      "state": {
       "grid_template_areas": "\n                    \"label input\"\n                    \". description\"\n                ",
       "grid_template_columns": "25% 75%",
       "grid_template_rows": "auto auto",
       "width": "100%"
      }
     },
     "a16f63631ad4403c9fc10f3e1c85cff9": {
      "model_module": "@jupyter-widgets/base",
      "model_module_version": "1.2.0",
      "model_name": "LayoutModel",
      "state": {
       "grid_area": "input",
       "width": "auto"
      }
     },
     "a1e82010869542e092a3108a604ef2f7": {
      "model_module": "@jupyter-widgets/controls",
      "model_module_version": "1.5.0",
      "model_name": "DescriptionStyleModel",
      "state": {
       "description_width": ""
      }
     },
     "a30c28260c9a4da39650e0c9a4b8094f": {
      "model_module": "@jupyter-widgets/controls",
      "model_module_version": "1.5.0",
      "model_name": "DescriptionStyleModel",
      "state": {
       "description_width": ""
      }
     },
     "a30fdde8bec54bcc875309701c2b882b": {
      "model_module": "@jupyter-widgets/controls",
      "model_module_version": "1.5.0",
      "model_name": "TextModel",
      "state": {
       "_dom_classes": [
        "nbtools-menu-attached"
       ],
       "layout": "IPY_MODEL_1fb749c3837e4fb6aff972edbe8d4bff",
       "style": "IPY_MODEL_6fb77cc0f62b4d31a3f111537d354a64"
      }
     },
     "a3ee11c75bcf40d5b567d4ec002826fc": {
      "model_module": "@jupyter-widgets/controls",
      "model_module_version": "1.5.0",
      "model_name": "DescriptionStyleModel",
      "state": {
       "description_width": ""
      }
     },
     "a485111347fc41099d92b8c2d07ef12c": {
      "model_module": "@jupyter-widgets/base",
      "model_module_version": "1.2.0",
      "model_name": "LayoutModel",
      "state": {
       "grid_area": "description",
       "width": "auto"
      }
     },
     "a567ba220e79466c80ba5e274ba9eb58": {
      "model_module": "@jupyter-widgets/base",
      "model_module_version": "1.2.0",
      "model_name": "LayoutModel",
      "state": {
       "grid_template_areas": "\n                    \"label input\"\n                    \". description\"\n                ",
       "grid_template_columns": "25% 75%",
       "grid_template_rows": "auto auto",
       "width": "100%"
      }
     },
     "a5eda2a34fca4888bf4d085fe551e431": {
      "model_module": "@jupyter-widgets/base",
      "model_module_version": "1.2.0",
      "model_name": "LayoutModel",
      "state": {
       "grid_template_areas": "\n                    \"label input\"\n                    \". description\"\n                ",
       "grid_template_columns": "25% 75%",
       "grid_template_rows": "auto auto",
       "width": "100%"
      }
     },
     "a6d7101afba14cfe88591eafbf87249d": {
      "model_module": "@jupyter-widgets/base",
      "model_module_version": "1.2.0",
      "model_name": "LayoutModel",
      "state": {}
     },
     "a887902738634cd3a0664b3bce6a33d0": {
      "model_module": "@jupyter-widgets/output",
      "model_module_version": "1.0.0",
      "model_name": "OutputModel",
      "state": {
       "layout": "IPY_MODEL_6570a88356304e279df36538b74dfb20"
      }
     },
     "a9139c208d17430ba8f5b958f8986189": {
      "model_module": "@jupyter-widgets/base",
      "model_module_version": "1.2.0",
      "model_name": "LayoutModel",
      "state": {
       "grid_area": "description",
       "width": "auto"
      }
     },
     "ab28b5e38a4b4d89a04405726b0efd10": {
      "model_module": "@jupyter-widgets/controls",
      "model_module_version": "1.5.0",
      "model_name": "DescriptionStyleModel",
      "state": {
       "description_width": ""
      }
     },
     "ab98a3e6dcbd4893965a5895d14aaa02": {
      "model_module": "@jupyter-widgets/base",
      "model_module_version": "1.2.0",
      "model_name": "LayoutModel",
      "state": {
       "grid_area": "input",
       "width": "auto"
      }
     },
     "acd4c270a554466ea4197b8ecb72d78e": {
      "model_module": "@jupyter-widgets/base",
      "model_module_version": "1.2.0",
      "model_name": "LayoutModel",
      "state": {
       "grid_area": "input",
       "width": "auto"
      }
     },
     "adda13898be94e7c9cbce38dcb2092ec": {
      "model_module": "@jupyter-widgets/base",
      "model_module_version": "1.2.0",
      "model_name": "LayoutModel",
      "state": {
       "grid_area": "input",
       "width": "auto"
      }
     },
     "ae3c517ed6ab4b789910a5f538a6f4a3": {
      "model_module": "@jupyter-widgets/controls",
      "model_module_version": "1.5.0",
      "model_name": "DescriptionStyleModel",
      "state": {
       "description_width": ""
      }
     },
     "aeadae03a8ad4f39a669e580f1569703": {
      "model_module": "@jupyter-widgets/controls",
      "model_module_version": "1.5.0",
      "model_name": "LabelModel",
      "state": {
       "description": "output variable",
       "layout": "IPY_MODEL_df7b8605a54b48e68c7d984986f337ca",
       "style": "IPY_MODEL_bf90c49860b04d8b8e7238a343c103f6",
       "value": "output variable"
      }
     },
     "aebeb15b898f4f9a9e8dd0c3b6e4d10e": {
      "model_module": "@jupyter-widgets/base",
      "model_module_version": "1.2.0",
      "model_name": "LayoutModel",
      "state": {
       "display": "none",
       "grid_template_areas": "\n                    \"label input\"\n                    \". description\"\n                ",
       "grid_template_columns": "25% 75%",
       "grid_template_rows": "auto auto",
       "width": "100%"
      }
     },
     "afb075a52505428e9199923d987e591d": {
      "model_module": "@jupyter-widgets/base",
      "model_module_version": "1.2.0",
      "model_name": "LayoutModel",
      "state": {}
     },
     "b0aac921b2b54343b36e06bdb56d8074": {
      "model_module": "@jupyter-widgets/base",
      "model_module_version": "1.2.0",
      "model_name": "LayoutModel",
      "state": {
       "grid_area": "input",
       "width": "auto"
      }
     },
     "b12c229f54364b4c8ff58bcd5e85d628": {
      "model_module": "@jupyter-widgets/controls",
      "model_module_version": "1.5.0",
      "model_name": "LabelModel",
      "state": {
       "layout": "IPY_MODEL_2cb405aa61a04e629e9133a4e4608d17",
       "style": "IPY_MODEL_45632302885845a7a074abe500c584b3"
      }
     },
     "b16007aa977a48a1b8c4466c5e8fc2a1": {
      "model_module": "@jupyter-widgets/base",
      "model_module_version": "1.2.0",
      "model_name": "LayoutModel",
      "state": {}
     },
     "b3a1d1dc7c5841b5abd47297ffba06e1": {
      "model_module": "@jupyter-widgets/controls",
      "model_module_version": "1.5.0",
      "model_name": "DescriptionStyleModel",
      "state": {
       "description_width": ""
      }
     },
     "b3d3d0681bee46108cf4a0dc3b17ebf6": {
      "model_module": "@genepattern/nbtools",
      "model_module_version": "^20.10.0-alpha.0",
      "model_name": "UIOutputModel",
      "state": {
       "_dom_classes": [],
       "_model_module_version": "^20.10.0-alpha.0",
       "_view_count": null,
       "_view_module_version": "^20.10.0-alpha.0",
       "appendix": "IPY_MODEL_d0e243a18cab42afa976dc6a14567c31",
       "files": [
        "all_aml_test.cls"
       ],
       "layout": "IPY_MODEL_ce9d89c8b2e4494fa1e9da132b3b7c85"
      }
     },
     "b3fe8de989ce4ea9b463e471a4c21574": {
      "model_module": "@jupyter-widgets/controls",
      "model_module_version": "1.5.0",
      "model_name": "DescriptionStyleModel",
      "state": {
       "description_width": ""
      }
     },
     "b4de164b705f4033bef8856b8c701d5c": {
      "model_module": "@jupyter-widgets/controls",
      "model_module_version": "1.5.0",
      "model_name": "LabelModel",
      "state": {
       "description": "output variable",
       "layout": "IPY_MODEL_26c2af19dd9644b1979c02117320f050",
       "style": "IPY_MODEL_c668c367104146d5ac303fe79112585a",
       "value": "output variable"
      }
     },
     "b6532b3224a34651a3f08cf0eebcd7d9": {
      "model_module": "@jupyter-widgets/output",
      "model_module_version": "1.0.0",
      "model_name": "OutputModel",
      "state": {
       "layout": "IPY_MODEL_9589512afb95402a92f5c644164bfcac"
      }
     },
     "b81ddd07fcf043718cfc5cf15000c1c2": {
      "model_module": "@jupyter-widgets/base",
      "model_module_version": "1.2.0",
      "model_name": "LayoutModel",
      "state": {
       "grid_area": "label",
       "width": "auto"
      }
     },
     "b82ea56dcb3049348b2b40052dbed6fe": {
      "model_module": "@jupyter-widgets/base",
      "model_module_version": "1.2.0",
      "model_name": "LayoutModel",
      "state": {}
     },
     "b9a5736ac2e047c1a555d55bec9e7a2b": {
      "model_module": "@jupyter-widgets/output",
      "model_module_version": "1.0.0",
      "model_name": "OutputModel",
      "state": {
       "layout": "IPY_MODEL_d883c6f0f043456a9e274fe0378bd368"
      }
     },
     "ba1ff2c75fde48429c327b3e6d0dd998": {
      "model_module": "@jupyter-widgets/base",
      "model_module_version": "1.2.0",
      "model_name": "LayoutModel",
      "state": {}
     },
     "bb9aebed65e74784a2e382269b97ec62": {
      "model_module": "@jupyter-widgets/controls",
      "model_module_version": "1.5.0",
      "model_name": "VBoxModel",
      "state": {
       "_dom_classes": [
        "widget-interact"
       ],
       "children": [
        "IPY_MODEL_94e1238e8c374df1b956c030c184eb0c",
        "IPY_MODEL_8c8c75687fd04f4787f75b05acc1403f"
       ],
       "layout": "IPY_MODEL_b82ea56dcb3049348b2b40052dbed6fe"
      }
     },
     "bcc31e31f96d4410b20efee9ed09194f": {
      "model_module": "@jupyter-widgets/controls",
      "model_module_version": "1.5.0",
      "model_name": "LabelModel",
      "state": {
       "description": "Password",
       "layout": "IPY_MODEL_9ed5cfdcedd04c1b9b610bb5b603b383",
       "style": "IPY_MODEL_9635395ebded4a1cac971addb8df9865",
       "value": "Password*"
      }
     },
     "beb223eda15a490098457c13002e40cb": {
      "model_module": "@jupyter-widgets/controls",
      "model_module_version": "1.5.0",
      "model_name": "ButtonStyleModel",
      "state": {}
     },
     "bf90c49860b04d8b8e7238a343c103f6": {
      "model_module": "@jupyter-widgets/controls",
      "model_module_version": "1.5.0",
      "model_name": "DescriptionStyleModel",
      "state": {
       "description_width": ""
      }
     },
     "c0f3801c5141409389b3d1e0087289c1": {
      "model_module": "@jupyter-widgets/base",
      "model_module_version": "1.2.0",
      "model_name": "LayoutModel",
      "state": {
       "grid_area": "description",
       "width": "auto"
      }
     },
     "c27a8db39575447f91deb894ba311688": {
      "model_module": "@jupyter-widgets/base",
      "model_module_version": "1.2.0",
      "model_name": "LayoutModel",
      "state": {}
     },
     "c2ba457fa64b42339c09362a117d5984": {
      "model_module": "@jupyter-widgets/base",
      "model_module_version": "1.2.0",
      "model_name": "LayoutModel",
      "state": {
       "grid_area": "input",
       "width": "auto"
      }
     },
     "c2ea528d025d47dd88c46b8dc79951fd": {
      "model_module": "@jupyter-widgets/base",
      "model_module_version": "1.2.0",
      "model_name": "LayoutModel",
      "state": {
       "grid_area": "label",
       "width": "auto"
      }
     },
     "c367fed3fcfe4daf81a4ca039af9f756": {
      "model_module": "@jupyter-widgets/controls",
      "model_module_version": "1.5.0",
      "model_name": "DescriptionStyleModel",
      "state": {
       "description_width": ""
      }
     },
     "c593558cbcca4c4a8c4c8d1aeef2ea06": {
      "model_module": "@jupyter-widgets/base",
      "model_module_version": "1.2.0",
      "model_name": "LayoutModel",
      "state": {
       "display": "none",
       "grid_template_areas": "\n                    \"label input\"\n                    \". description\"\n                ",
       "grid_template_columns": "25% 75%",
       "grid_template_rows": "auto auto",
       "width": "100%"
      }
     },
     "c5fe81fd71914e2da17226f8ab83bbb1": {
      "model_module": "@jupyter-widgets/base",
      "model_module_version": "1.2.0",
      "model_name": "LayoutModel",
      "state": {}
     },
     "c668c367104146d5ac303fe79112585a": {
      "model_module": "@jupyter-widgets/controls",
      "model_module_version": "1.5.0",
      "model_name": "DescriptionStyleModel",
      "state": {
       "description_width": ""
      }
     },
     "c6b5312b86244d7e85f3d0310b2746f0": {
      "model_module": "@jupyter-widgets/base",
      "model_module_version": "1.2.0",
      "model_name": "LayoutModel",
      "state": {}
     },
     "c7a8454a858447febf41315a071c79b0": {
      "model_module": "@jupyter-widgets/controls",
      "model_module_version": "1.5.0",
      "model_name": "ButtonStyleModel",
      "state": {}
     },
     "c7f211631d8c4999908421080041eea8": {
      "model_module": "@jupyter-widgets/controls",
      "model_module_version": "1.5.0",
      "model_name": "LabelModel",
      "state": {
       "description": "output variable",
       "layout": "IPY_MODEL_8efe7b8b171143c9a99217d4a3193199",
       "style": "IPY_MODEL_d0e000b517af4a618fc701ff9d82a337",
       "value": "output variable"
      }
     },
     "c806aee4df5947bd930a43a208ea560f": {
      "model_module": "@jupyter-widgets/base",
      "model_module_version": "1.2.0",
      "model_name": "LayoutModel",
      "state": {
       "grid_area": "label",
       "width": "auto"
      }
     },
     "c905e6dad8c7491bb9b1a4ea76558dc2": {
      "model_module": "@jupyter-widgets/controls",
      "model_module_version": "1.5.0",
      "model_name": "DescriptionStyleModel",
      "state": {
       "description_width": ""
      }
     },
     "c93ae3f096b34b0e8ba571d4a56c7a93": {
      "model_module": "@jupyter-widgets/controls",
      "model_module_version": "1.5.0",
      "model_name": "GridBoxModel",
      "state": {
       "_dom_classes": [
        "nbtools-input",
        "nbtools-textinput"
       ],
       "children": [
        "IPY_MODEL_7e6bbc948b7c47878954c1da6936a3ee",
        "IPY_MODEL_301ddc3d984140f4ae1dc22ddde168b4",
        "IPY_MODEL_333403872a7f423ca15c7b3834d8926b"
       ],
       "layout": "IPY_MODEL_ccf7b57f681c41bda5523c5f7a8e8f56"
      }
     },
     "cab12dc0452f4562a7d786ad198081c0": {
      "model_module": "@jupyter-widgets/controls",
      "model_module_version": "1.5.0",
      "model_name": "ButtonModel",
      "state": {
       "_dom_classes": [
        "hidden"
       ],
       "description": "Run",
       "layout": "IPY_MODEL_7f2c9d06bc48487e8509ddeaa7110e6b",
       "style": "IPY_MODEL_d46f5c21a5434811bf1115180bd77e85"
      }
     },
     "cabd2745649e4ed5a4cf35cbac8de1c0": {
      "model_module": "@jupyter-widgets/base",
      "model_module_version": "1.2.0",
      "model_name": "LayoutModel",
      "state": {}
     },
     "ccf7b57f681c41bda5523c5f7a8e8f56": {
      "model_module": "@jupyter-widgets/base",
      "model_module_version": "1.2.0",
      "model_name": "LayoutModel",
      "state": {
       "display": "none",
       "grid_template_areas": "\n                    \"label input\"\n                    \". description\"\n                ",
       "grid_template_columns": "25% 75%",
       "grid_template_rows": "auto auto",
       "width": "100%"
      }
     },
     "ce162e2e305841768338d48bd2714a2c": {
      "model_module": "@jupyter-widgets/controls",
      "model_module_version": "1.5.0",
      "model_name": "LabelModel",
      "state": {
       "description": "y",
       "layout": "IPY_MODEL_b81ddd07fcf043718cfc5cf15000c1c2",
       "style": "IPY_MODEL_d4ca3bb48432477e84f6f3dfae320229",
       "value": "y*"
      }
     },
     "ce27728f02ce4859aecc862fd57e3438": {
      "model_module": "@jupyter-widgets/base",
      "model_module_version": "1.2.0",
      "model_name": "LayoutModel",
      "state": {
       "grid_area": "description",
       "width": "auto"
      }
     },
     "ce9d89c8b2e4494fa1e9da132b3b7c85": {
      "model_module": "@jupyter-widgets/base",
      "model_module_version": "1.2.0",
      "model_name": "LayoutModel",
      "state": {}
     },
     "ceb67e544db7466b99cb47bfab212602": {
      "model_module": "@jupyter-widgets/base",
      "model_module_version": "1.2.0",
      "model_name": "LayoutModel",
      "state": {
       "grid_area": "label",
       "width": "auto"
      }
     },
     "cef2a541e68d46218da3f7637873f37e": {
      "model_module": "@jupyter-widgets/base",
      "model_module_version": "1.2.0",
      "model_name": "LayoutModel",
      "state": {
       "grid_template_areas": "\n                    \"label input\"\n                    \". description\"\n                ",
       "grid_template_columns": "25% 75%",
       "grid_template_rows": "auto auto",
       "width": "100%"
      }
     },
     "cf0307a076dd43979b682cce21f9fc12": {
      "model_module": "@jupyter-widgets/controls",
      "model_module_version": "1.5.0",
      "model_name": "TextModel",
      "state": {
       "_dom_classes": [
        "nbtools-menu-attached"
       ],
       "layout": "IPY_MODEL_e5cdafad0bac42c79ac63eb1175e2899",
       "style": "IPY_MODEL_c367fed3fcfe4daf81a4ca039af9f756"
      }
     },
     "cff4a25d23ff4704aede60b932b6dc5b": {
      "model_module": "@jupyter-widgets/base",
      "model_module_version": "1.2.0",
      "model_name": "LayoutModel",
      "state": {
       "grid_area": "input",
       "width": "auto"
      }
     },
     "d0b35fe3b9854129b67da70d21441d76": {
      "model_module": "@jupyter-widgets/base",
      "model_module_version": "1.2.0",
      "model_name": "LayoutModel",
      "state": {}
     },
     "d0e000b517af4a618fc701ff9d82a337": {
      "model_module": "@jupyter-widgets/controls",
      "model_module_version": "1.5.0",
      "model_name": "DescriptionStyleModel",
      "state": {
       "description_width": ""
      }
     },
     "d0e243a18cab42afa976dc6a14567c31": {
      "model_module": "@jupyter-widgets/controls",
      "model_module_version": "1.5.0",
      "model_name": "VBoxModel",
      "state": {
       "layout": "IPY_MODEL_e235a763f5fd434f9081f53a8eb18e4c"
      }
     },
     "d10838e39f5f490fa1dce8ec279c9806": {
      "model_module": "@jupyter-widgets/controls",
      "model_module_version": "1.5.0",
      "model_name": "LabelModel",
      "state": {
       "layout": "IPY_MODEL_df1984f7d2fd438cb41855fc7d8c9521",
       "style": "IPY_MODEL_552eb1dc9a3643bbb038814af9fe595f"
      }
     },
     "d1ea45d786ad48b8848508270cdeaaeb": {
      "model_module": "@jupyter-widgets/controls",
      "model_module_version": "1.5.0",
      "model_name": "DescriptionStyleModel",
      "state": {
       "description_width": ""
      }
     },
     "d342894259e84ad89e856827091c3e7c": {
      "model_module": "@jupyter-widgets/controls",
      "model_module_version": "1.5.0",
      "model_name": "LabelModel",
      "state": {
       "description": "output variable",
       "layout": "IPY_MODEL_70dd8d0d937f4267af7cb22af889f6b7",
       "style": "IPY_MODEL_3b2026324f1144c28aff2b61d8511c1c",
       "value": "output variable"
      }
     },
     "d46f5c21a5434811bf1115180bd77e85": {
      "model_module": "@jupyter-widgets/controls",
      "model_module_version": "1.5.0",
      "model_name": "ButtonStyleModel",
      "state": {}
     },
     "d49be65b586d40409442ec1edb8d3bec": {
      "model_module": "@jupyter-widgets/controls",
      "model_module_version": "1.5.0",
      "model_name": "LabelModel",
      "state": {
       "description": "GenePattern Server",
       "layout": "IPY_MODEL_56df521a955d424198faf3a5d3ec7858",
       "style": "IPY_MODEL_ed2d8b95375f4eabaee9a6ae4e081938",
       "value": "GenePattern Server*"
      }
     },
     "d49d8766d11f43839dc5f635b5ccf8f1": {
      "model_module": "@jupyter-widgets/base",
      "model_module_version": "1.2.0",
      "model_name": "LayoutModel",
      "state": {}
     },
     "d4ca3bb48432477e84f6f3dfae320229": {
      "model_module": "@jupyter-widgets/controls",
      "model_module_version": "1.5.0",
      "model_name": "DescriptionStyleModel",
      "state": {
       "description_width": ""
      }
     },
     "d4dc11dc78a4493982fd1389997f549f": {
      "model_module": "@jupyter-widgets/base",
      "model_module_version": "1.2.0",
      "model_name": "LayoutModel",
      "state": {}
     },
     "d55b1e9b72654857baec8559a51ab054": {
      "model_module": "@jupyter-widgets/controls",
      "model_module_version": "1.5.0",
      "model_name": "ComboboxModel",
      "state": {
       "_dom_classes": [
        "nbtools-menu-attached",
        "nbtools-nosendto"
       ],
       "choices": {
        "Broad Internal": "https://gpbroad.broadinstitute.org/gp",
        "GenePattern Cloud": "https://cloud.genepattern.org/gp",
        "Indiana University": "https://gp.indiana.edu/gp"
       },
       "ensure_option": false,
       "kinds": [],
       "layout": "IPY_MODEL_3c1ce783625b4b8a90d14db9b49d88d7",
       "style": "IPY_MODEL_b3a1d1dc7c5841b5abd47297ffba06e1",
       "value": "https://cloud.genepattern.org/gp"
      }
     },
     "d81a1122ab6945d3aad73281f841e693": {
      "model_module": "@jupyter-widgets/base",
      "model_module_version": "1.2.0",
      "model_name": "LayoutModel",
      "state": {}
     },
     "d883c6f0f043456a9e274fe0378bd368": {
      "model_module": "@jupyter-widgets/base",
      "model_module_version": "1.2.0",
      "model_name": "LayoutModel",
      "state": {}
     },
     "da69b6617398400da2c4ccaa13208117": {
      "model_module": "@jupyter-widgets/controls",
      "model_module_version": "1.5.0",
      "model_name": "LabelModel",
      "state": {
       "layout": "IPY_MODEL_ce27728f02ce4859aecc862fd57e3438",
       "style": "IPY_MODEL_f66aca6a421747cfbd58fbfd5f75b805"
      }
     },
     "dcfdc8fa22eb41ffa3e3fefe3b6abb3c": {
      "model_module": "@jupyter-widgets/controls",
      "model_module_version": "1.5.0",
      "model_name": "ComboboxModel",
      "state": {
       "_dom_classes": [
        "nbtools-menu-attached"
       ],
       "choices": {
        "hello": "world",
        "more": "cowbell"
       },
       "ensure_option": false,
       "kinds": [],
       "layout": "IPY_MODEL_e148b23fbe9b452c85b19bf045bafedd",
       "style": "IPY_MODEL_a1e82010869542e092a3108a604ef2f7"
      }
     },
     "df1984f7d2fd438cb41855fc7d8c9521": {
      "model_module": "@jupyter-widgets/base",
      "model_module_version": "1.2.0",
      "model_name": "LayoutModel",
      "state": {
       "grid_area": "description",
       "width": "auto"
      }
     },
     "df7b8605a54b48e68c7d984986f337ca": {
      "model_module": "@jupyter-widgets/base",
      "model_module_version": "1.2.0",
      "model_name": "LayoutModel",
      "state": {
       "grid_area": "label",
       "width": "auto"
      }
     },
     "df9e1339b8224a98badb0d6af91587a2": {
      "model_module": "@jupyter-widgets/controls",
      "model_module_version": "1.5.0",
      "model_name": "ButtonModel",
      "state": {
       "_dom_classes": [
        "hidden"
       ],
       "description": "Run",
       "layout": "IPY_MODEL_907c893b7bcb4ddebbbc0fe3c3517a44",
       "style": "IPY_MODEL_beb223eda15a490098457c13002e40cb"
      }
     },
     "e01d4273a21543769052d0a80e677490": {
      "model_module": "@jupyter-widgets/controls",
      "model_module_version": "1.5.0",
      "model_name": "VBoxModel",
      "state": {
       "_dom_classes": [
        "widget-interact"
       ],
       "children": [
        "IPY_MODEL_8a5682f76e5f4bf589faf50c11934b00",
        "IPY_MODEL_e4db62bfa982488a810f79f312521b40",
        "IPY_MODEL_9f9abfcc5c2748ffb57ab49d1e477113",
        "IPY_MODEL_65a89cc9cd604a4793d124e8286b9b19",
        "IPY_MODEL_e29f8c01455a4973a270d7a46a3be509"
       ],
       "layout": "IPY_MODEL_712e58dc71154247bea5518808897eb4"
      }
     },
     "e042235a4c2f4c838324ac9d421c61d8": {
      "model_module": "@jupyter-widgets/base",
      "model_module_version": "1.2.0",
      "model_name": "LayoutModel",
      "state": {
       "grid_area": "input",
       "width": "auto"
      }
     },
     "e10b527d3576410aae06c512c446f05d": {
      "model_module": "@jupyter-widgets/controls",
      "model_module_version": "1.5.0",
      "model_name": "TextModel",
      "state": {
       "_dom_classes": [
        "nbtools-menu-attached",
        "nbtools-nosendto"
       ],
       "layout": "IPY_MODEL_a16f63631ad4403c9fc10f3e1c85cff9",
       "style": "IPY_MODEL_62efc50bb69f498fb3cb259f2414cc3a",
       "value": "tabor"
      }
     },
     "e148b23fbe9b452c85b19bf045bafedd": {
      "model_module": "@jupyter-widgets/base",
      "model_module_version": "1.2.0",
      "model_name": "LayoutModel",
      "state": {}
     },
     "e235a763f5fd434f9081f53a8eb18e4c": {
      "model_module": "@jupyter-widgets/base",
      "model_module_version": "1.2.0",
      "model_name": "LayoutModel",
      "state": {}
     },
     "e27f5b9dbfbb4f0d90f376fac9120a2f": {
      "model_module": "@jupyter-widgets/base",
      "model_module_version": "1.2.0",
      "model_name": "LayoutModel",
      "state": {
       "grid_area": "description",
       "width": "auto"
      }
     },
     "e29f8c01455a4973a270d7a46a3be509": {
      "model_module": "@jupyter-widgets/controls",
      "model_module_version": "1.5.0",
      "model_name": "GridBoxModel",
      "state": {
       "_dom_classes": [
        "nbtools-input",
        "nbtools-textinput"
       ],
       "children": [
        "IPY_MODEL_c7f211631d8c4999908421080041eea8",
        "IPY_MODEL_989253dc2b4f4b1e8dde99c816e0a158",
        "IPY_MODEL_0f36cbce94ef4b1384e89857f3792ffa"
       ],
       "layout": "IPY_MODEL_77df8ff2e9064efaad3694f22dc7b051"
      }
     },
     "e2c1a40a5a324a7caabac51f0d411342": {
      "model_module": "@jupyter-widgets/base",
      "model_module_version": "1.2.0",
      "model_name": "LayoutModel",
      "state": {}
     },
     "e36ab087406848af9eccdf74b6c8b243": {
      "model_module": "@jupyter-widgets/output",
      "model_module_version": "1.0.0",
      "model_name": "OutputModel",
      "state": {
       "layout": "IPY_MODEL_120c27cc4a394148845740582114caf8"
      }
     },
     "e37caeb6e98047a9a5beb1ffb1d109a3": {
      "model_module": "@jupyter-widgets/base",
      "model_module_version": "1.2.0",
      "model_name": "LayoutModel",
      "state": {
       "grid_area": "description",
       "width": "auto"
      }
     },
     "e3a7db36a98f4c1e8d4454dafdceec17": {
      "model_module": "@jupyter-widgets/base",
      "model_module_version": "1.2.0",
      "model_name": "LayoutModel",
      "state": {
       "grid_area": "description",
       "width": "auto"
      }
     },
     "e3e9faa668c94c62a94988b18815e7ee": {
      "model_module": "@jupyter-widgets/controls",
      "model_module_version": "1.5.0",
      "model_name": "GridBoxModel",
      "state": {
       "_dom_classes": [
        "nbtools-input",
        "nbtools-passwordinput",
        "required"
       ],
       "children": [
        "IPY_MODEL_8d8555fa49954cf38582d92ecc3215cd",
        "IPY_MODEL_38c72fcc6a3841108859a9dd2d6f695f",
        "IPY_MODEL_2119b53c34a346918265e79cfe12ca08"
       ],
       "layout": "IPY_MODEL_cef2a541e68d46218da3f7637873f37e"
      }
     },
     "e49fa4a5e1474314b39d862c0682e955": {
      "model_module": "@jupyter-widgets/controls",
      "model_module_version": "1.5.0",
      "model_name": "LabelModel",
      "state": {
       "description": "output variable",
       "layout": "IPY_MODEL_0dbcc8b2ff774bc08af1461f35648615",
       "style": "IPY_MODEL_fb6e4a76d312401fa494040b4f64c30d",
       "value": "output variable"
      }
     },
     "e4db62bfa982488a810f79f312521b40": {
      "model_module": "@jupyter-widgets/controls",
      "model_module_version": "1.5.0",
      "model_name": "GridBoxModel",
      "state": {
       "_dom_classes": [
        "nbtools-input",
        "nbtools-textinput",
        "required"
       ],
       "children": [
        "IPY_MODEL_f11fb67c2cb64fe68deda10b627944a7",
        "IPY_MODEL_e10b527d3576410aae06c512c446f05d",
        "IPY_MODEL_9cbab5d1fe1e481a9dff045a74cc6e23"
       ],
       "layout": "IPY_MODEL_a13ffe867a0d4c369069bea06ab42710"
      }
     },
     "e546061cb01844f1af82e2c7b6084321": {
      "model_module": "@jupyter-widgets/base",
      "model_module_version": "1.2.0",
      "model_name": "LayoutModel",
      "state": {}
     },
     "e5aa821e36784c6db7e5d6e2b1cb2744": {
      "model_module": "@jupyter-widgets/controls",
      "model_module_version": "1.5.0",
      "model_name": "ButtonModel",
      "state": {
       "_dom_classes": [
        "hidden"
       ],
       "description": "Run",
       "layout": "IPY_MODEL_e9c2ef02c29a4092a84f3101ff567acc",
       "style": "IPY_MODEL_07f292655eea4916a1d235f3e4799823"
      }
     },
     "e5cdafad0bac42c79ac63eb1175e2899": {
      "model_module": "@jupyter-widgets/base",
      "model_module_version": "1.2.0",
      "model_name": "LayoutModel",
      "state": {
       "grid_area": "input",
       "width": "auto"
      }
     },
     "e5fef8c6a47b4122ba8278592cfb5378": {
      "model_module": "@jupyter-widgets/controls",
      "model_module_version": "1.5.0",
      "model_name": "ButtonStyleModel",
      "state": {}
     },
     "e8bee5a2bf9b4d5b91e9b727f3f35dff": {
      "model_module": "@jupyter-widgets/base",
      "model_module_version": "1.2.0",
      "model_name": "LayoutModel",
      "state": {
       "grid_area": "input",
       "width": "auto"
      }
     },
     "e92a20c7b8d949e9978723b9f794a17d": {
      "model_module": "@jupyter-widgets/output",
      "model_module_version": "1.0.0",
      "model_name": "OutputModel",
      "state": {
       "layout": "IPY_MODEL_691932bd33f34070a646bcbf1768653d"
      }
     },
     "e9b8daf6c6f94563b81d0f8961d0e994": {
      "model_module": "@jupyter-widgets/controls",
      "model_module_version": "1.5.0",
      "model_name": "DescriptionStyleModel",
      "state": {
       "description_width": ""
      }
     },
     "e9c2ef02c29a4092a84f3101ff567acc": {
      "model_module": "@jupyter-widgets/base",
      "model_module_version": "1.2.0",
      "model_name": "LayoutModel",
      "state": {}
     },
     "ea06957fb1a84512a2b057fa148d8896": {
      "model_module": "@jupyter-widgets/base",
      "model_module_version": "1.2.0",
      "model_name": "LayoutModel",
      "state": {}
     },
     "eb7b6907422a43ffb9107a3ea3983bc0": {
      "model_module": "@jupyter-widgets/controls",
      "model_module_version": "1.5.0",
      "model_name": "ButtonModel",
      "state": {
       "_dom_classes": [
        "hidden"
       ],
       "description": "Run",
       "layout": "IPY_MODEL_07de5f2eddc54e6fba5b129895d08175",
       "style": "IPY_MODEL_245b75aa7405458ab4f12e4c066a8de5"
      }
     },
     "ed2d8b95375f4eabaee9a6ae4e081938": {
      "model_module": "@jupyter-widgets/controls",
      "model_module_version": "1.5.0",
      "model_name": "DescriptionStyleModel",
      "state": {
       "description_width": ""
      }
     },
     "eea7c0fd0d5d44d2aef3c16be1f1440f": {
      "model_module": "@jupyter-widgets/controls",
      "model_module_version": "1.5.0",
      "model_name": "TextModel",
      "state": {
       "_dom_classes": [
        "nbtools-menu-attached"
       ],
       "layout": "IPY_MODEL_9f38f0b3d0bd4e2990c21eca5e8bbf3e",
       "style": "IPY_MODEL_a30c28260c9a4da39650e0c9a4b8094f"
      }
     },
     "eedbcd3faef445598cda141989fb510c": {
      "model_module": "@jupyter-widgets/controls",
      "model_module_version": "1.5.0",
      "model_name": "DescriptionStyleModel",
      "state": {
       "description_width": ""
      }
     },
     "efe837af97144e1bbec191c8f0091e0b": {
      "model_module": "@jupyter-widgets/base",
      "model_module_version": "1.2.0",
      "model_name": "LayoutModel",
      "state": {
       "display": "none",
       "grid_template_areas": "\n                    \"label input\"\n                    \". description\"\n                ",
       "grid_template_columns": "25% 75%",
       "grid_template_rows": "auto auto",
       "width": "100%"
      }
     },
     "f0b0651a6232437d90810c281751926b": {
      "model_module": "@jupyter-widgets/base",
      "model_module_version": "1.2.0",
      "model_name": "LayoutModel",
      "state": {
       "grid_area": "label",
       "width": "auto"
      }
     },
     "f11fb67c2cb64fe68deda10b627944a7": {
      "model_module": "@jupyter-widgets/controls",
      "model_module_version": "1.5.0",
      "model_name": "LabelModel",
      "state": {
       "description": "Username",
       "layout": "IPY_MODEL_f0b0651a6232437d90810c281751926b",
       "style": "IPY_MODEL_1b6c481a489f42ef91fcc9a75acc431b",
       "value": "Username*"
      }
     },
     "f1d1a2913bd24105901a789613b38cc4": {
      "model_module": "@jupyter-widgets/base",
      "model_module_version": "1.2.0",
      "model_name": "LayoutModel",
      "state": {}
     },
     "f2d84d0a55c04a14aada3727f2ba39d1": {
      "model_module": "@jupyter-widgets/controls",
      "model_module_version": "1.5.0",
      "model_name": "LabelModel",
      "state": {
       "layout": "IPY_MODEL_5f8a6b8ac6b84d2ab2245369ee9d37c9",
       "style": "IPY_MODEL_3b368093f95849c9b389d392742c059b"
      }
     },
     "f3e22b3707ee44918f8b39ef5c3f044a": {
      "model_module": "@jupyter-widgets/controls",
      "model_module_version": "1.5.0",
      "model_name": "TextModel",
      "state": {
       "_dom_classes": [
        "nbtools-menu-attached"
       ],
       "layout": "IPY_MODEL_adda13898be94e7c9cbce38dcb2092ec",
       "style": "IPY_MODEL_f425f20bb4924009a3dad825c2364e7b"
      }
     },
     "f425f20bb4924009a3dad825c2364e7b": {
      "model_module": "@jupyter-widgets/controls",
      "model_module_version": "1.5.0",
      "model_name": "DescriptionStyleModel",
      "state": {
       "description_width": ""
      }
     },
     "f4d841a6a6664947a449fc240f49070b": {
      "model_module": "@jupyter-widgets/controls",
      "model_module_version": "1.5.0",
      "model_name": "LabelModel",
      "state": {
       "description": "output variable",
       "layout": "IPY_MODEL_7a2acd33e4b348b0ac6019312bd90ab4",
       "style": "IPY_MODEL_2d6ad1e18dc243e4b401c5a555d54f61",
       "value": "output variable"
      }
     },
     "f66aca6a421747cfbd58fbfd5f75b805": {
      "model_module": "@jupyter-widgets/controls",
      "model_module_version": "1.5.0",
      "model_name": "DescriptionStyleModel",
      "state": {
       "description_width": ""
      }
     },
     "f70997d4f7294e1b8f4f8cdb150ec408": {
      "model_module": "@jupyter-widgets/controls",
      "model_module_version": "1.5.0",
      "model_name": "ButtonModel",
      "state": {
       "_dom_classes": [
        "hidden"
       ],
       "description": "Run",
       "layout": "IPY_MODEL_f85d07fe828a4305afa68bbb8e110e18",
       "style": "IPY_MODEL_88c772326f0b4d58b6fb381b2cf09acd"
      }
     },
     "f77da143633743b7bd73ad356b2b0e01": {
      "model_module": "@jupyter-widgets/base",
      "model_module_version": "1.2.0",
      "model_name": "LayoutModel",
      "state": {
       "display": "none",
       "grid_template_areas": "\n                    \"label input\"\n                    \". description\"\n                ",
       "grid_template_columns": "25% 75%",
       "grid_template_rows": "auto auto",
       "width": "100%"
      }
     },
     "f85d07fe828a4305afa68bbb8e110e18": {
      "model_module": "@jupyter-widgets/base",
      "model_module_version": "1.2.0",
      "model_name": "LayoutModel",
      "state": {}
     },
     "f888c2a602bf45ddb3c9ac3c6053d8b3": {
      "model_module": "@jupyter-widgets/controls",
      "model_module_version": "1.5.0",
      "model_name": "DescriptionStyleModel",
      "state": {
       "description_width": ""
      }
     },
     "f97c6d77bea14e4ca8ebe69b7db1c5e6": {
      "model_module": "@jupyter-widgets/controls",
      "model_module_version": "1.5.0",
      "model_name": "DescriptionStyleModel",
      "state": {
       "description_width": ""
      }
     },
     "fa83ba36545844df8632909514c94be6": {
      "model_module": "@jupyter-widgets/output",
      "model_module_version": "1.0.0",
      "model_name": "OutputModel",
      "state": {
       "layout": "IPY_MODEL_95c29360ecbb428cb2ff5926fbaee638"
      }
     },
     "fb6e4a76d312401fa494040b4f64c30d": {
      "model_module": "@jupyter-widgets/controls",
      "model_module_version": "1.5.0",
      "model_name": "DescriptionStyleModel",
      "state": {
       "description_width": ""
      }
     },
     "fcd7e4394a1b41268823b97553cf713c": {
      "model_module": "@jupyter-widgets/controls",
      "model_module_version": "1.5.0",
      "model_name": "VBoxModel",
      "state": {
       "children": [
        "IPY_MODEL_dcfdc8fa22eb41ffa3e3fefe3b6abb3c"
       ],
       "layout": "IPY_MODEL_cabd2745649e4ed5a4cf35cbac8de1c0"
      }
     },
     "fd1d6fced0ed4dd19bf8862615994bde": {
      "model_module": "@jupyter-widgets/controls",
      "model_module_version": "1.5.0",
      "model_name": "DescriptionStyleModel",
      "state": {
       "description_width": ""
      }
     },
     "fe6036f7100c4410ade7d22a5b515186": {
      "model_module": "@jupyter-widgets/controls",
      "model_module_version": "1.5.0",
      "model_name": "ButtonStyleModel",
      "state": {}
     },
     "fe7cc81c4ef7473384e85d1a2a37caf6": {
      "model_module": "@jupyter-widgets/base",
      "model_module_version": "1.2.0",
      "model_name": "LayoutModel",
      "state": {}
     }
    },
    "version_major": 2,
    "version_minor": 0
   }
  }
 },
 "nbformat": 4,
 "nbformat_minor": 4
}
