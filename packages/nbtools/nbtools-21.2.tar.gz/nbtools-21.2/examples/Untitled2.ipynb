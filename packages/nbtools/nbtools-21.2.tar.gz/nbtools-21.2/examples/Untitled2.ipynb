{
 "cells": [
  {
   "cell_type": "code",
   "execution_count": 2,
   "metadata": {},
   "outputs": [
    {
     "data": {
      "application/vnd.jupyter.widget-view+json": {
       "model_id": "0ec62b90ef6b4c6e8bd2d8b0ebf57647",
       "version_major": 2,
       "version_minor": 0
      },
      "text/plain": [
       "GPAuthWidget(buttons={'Register an Account': \"\\n    const target = event.target;\\n    const widget = target.cl…"
      ]
     },
     "metadata": {},
     "output_type": "display_data"
    },
    {
     "data": {
      "application/vnd.jupyter.widget-view+json": {
       "model_id": "1f4b46cc12b9438797c048a9e520259e",
       "version_major": 2,
       "version_minor": 0
      },
      "text/plain": [
       "Output()"
      ]
     },
     "metadata": {},
     "output_type": "display_data"
    }
   ],
   "source": [
    "nbtools.tool(id='authentication', origin='+')"
   ]
  },
  {
   "cell_type": "code",
   "execution_count": 3,
   "metadata": {},
   "outputs": [
    {
     "data": {
      "text/plain": [
       "[]"
      ]
     },
     "execution_count": 3,
     "metadata": {},
     "output_type": "execute_result"
    }
   ],
   "source": [
    "genepattern.session.sessions"
   ]
  }
 ],
 "metadata": {
  "kernelspec": {
   "display_name": "Python 3",
   "language": "python",
   "name": "python3"
  },
  "language_info": {
   "codemirror_mode": {
    "name": "ipython",
    "version": 3
   },
   "file_extension": ".py",
   "mimetype": "text/x-python",
   "name": "python",
   "nbconvert_exporter": "python",
   "pygments_lexer": "ipython3",
   "version": "3.7.6"
  },
  "widgets": {
   "application/vnd.jupyter.widget-state+json": {
    "state": {
     "001bff8d9be44d408f0dc7c7873cc66e": {
      "model_module": "@jupyter-widgets/controls",
      "model_module_version": "1.5.0",
      "model_name": "DescriptionStyleModel",
      "state": {
       "description_width": ""
      }
     },
     "0305bad538c643349afd4f6c43a601b3": {
      "model_module": "@jupyter-widgets/base",
      "model_module_version": "1.2.0",
      "model_name": "LayoutModel",
      "state": {
       "grid_area": "description",
       "width": "auto"
      }
     },
     "07df0ec279d1429389f17db636c336f2": {
      "model_module": "@jupyter-widgets/base",
      "model_module_version": "1.2.0",
      "model_name": "LayoutModel",
      "state": {
       "grid_area": "description",
       "width": "auto"
      }
     },
     "0984944ecf0c4316a0eeb5864e6068f2": {
      "model_module": "@jupyter-widgets/controls",
      "model_module_version": "1.5.0",
      "model_name": "VBoxModel",
      "state": {
       "_dom_classes": [
        "widget-interact"
       ],
       "children": [
        "IPY_MODEL_aa9492c21d994e559f3ab10d70d19c50",
        "IPY_MODEL_775c7c0b9b214cc3979bea8c1ad79dbe"
       ],
       "layout": "IPY_MODEL_79a8eb04cec14e9ca97a68e68e9410e4"
      }
     },
     "0a04d685c5c848a0a23abe3c854292ee": {
      "model_module": "@jupyter-widgets/controls",
      "model_module_version": "1.5.0",
      "model_name": "DescriptionStyleModel",
      "state": {
       "description_width": ""
      }
     },
     "0b12eeb8b6164f59a0866b49f1746082": {
      "model_module": "@jupyter-widgets/base",
      "model_module_version": "1.2.0",
      "model_name": "LayoutModel",
      "state": {
       "grid_area": "description",
       "width": "auto"
      }
     },
     "0d4b6b4d2ed4461186e19f6f6edfde36": {
      "model_module": "@jupyter-widgets/controls",
      "model_module_version": "1.5.0",
      "model_name": "DescriptionStyleModel",
      "state": {
       "description_width": ""
      }
     },
     "0fb5fcbb45ae4a128d303c48a3a4d030": {
      "model_module": "@jupyter-widgets/controls",
      "model_module_version": "1.5.0",
      "model_name": "DescriptionStyleModel",
      "state": {
       "description_width": ""
      }
     },
     "104ebc7e24724ba1b75810cf6dd0408e": {
      "model_module": "@jupyter-widgets/base",
      "model_module_version": "1.2.0",
      "model_name": "LayoutModel",
      "state": {}
     },
     "1258f82f5c214b6880cf94d4480d161c": {
      "model_module": "@jupyter-widgets/base",
      "model_module_version": "1.2.0",
      "model_name": "LayoutModel",
      "state": {
       "grid_template_areas": "\n                    \"label input\"\n                    \". description\"\n                ",
       "grid_template_columns": "25% 75%",
       "grid_template_rows": "auto auto",
       "width": "100%"
      }
     },
     "13d6698c00ff490194ad6d4794066864": {
      "model_module": "@jupyter-widgets/base",
      "model_module_version": "1.2.0",
      "model_name": "LayoutModel",
      "state": {}
     },
     "14688afd9ce44ba6b0b40ea580da384d": {
      "model_module": "@jupyter-widgets/base",
      "model_module_version": "1.2.0",
      "model_name": "LayoutModel",
      "state": {
       "grid_template_areas": "\n                    \"label input\"\n                    \". description\"\n                ",
       "grid_template_columns": "25% 75%",
       "grid_template_rows": "auto auto",
       "width": "100%"
      }
     },
     "172aca3348a44d75afa7ca3bf6ef1872": {
      "model_module": "@jupyter-widgets/controls",
      "model_module_version": "1.5.0",
      "model_name": "LabelModel",
      "state": {
       "description": "Password",
       "layout": "IPY_MODEL_98e33aeb47b44808b965477745615194",
       "style": "IPY_MODEL_0a04d685c5c848a0a23abe3c854292ee",
       "value": "Password*"
      }
     },
     "183d0b5261cd4277ac1de84039d73c38": {
      "model_module": "@jupyter-widgets/base",
      "model_module_version": "1.2.0",
      "model_name": "LayoutModel",
      "state": {
       "grid_area": "label",
       "width": "auto"
      }
     },
     "1e4a23f386f64c0389fd74f9fbdd59b3": {
      "model_module": "@jupyter-widgets/controls",
      "model_module_version": "1.5.0",
      "model_name": "LabelModel",
      "state": {
       "description": "output variable",
       "layout": "IPY_MODEL_eff644498ffd45e291c9b523b41fe733",
       "style": "IPY_MODEL_ecede3cc081a48bcb2dd8b19d0b6279b",
       "value": "output variable"
      }
     },
     "1f4b46cc12b9438797c048a9e520259e": {
      "model_module": "@jupyter-widgets/output",
      "model_module_version": "1.0.0",
      "model_name": "OutputModel",
      "state": {
       "layout": "IPY_MODEL_f5c83e9e44a04eea85422311d6cf778d",
       "outputs": [
        {
         "data": {
          "application/vnd.jupyter.widget-view+json": {
           "model_id": "45e464f107144e3d88742efe733a2a77",
           "version_major": 2,
           "version_minor": 0
          },
          "text/plain": "GPAuthWidget(collapse=True, collapsed=True, color='rgba(10, 45, 105, 0.80)', display_footer=False, display_hea…"
         },
         "metadata": {},
         "output_type": "display_data"
        },
        {
         "data": {
          "application/vnd.jupyter.widget-view+json": {
           "model_id": "e281477d2ca14461a6a0dce5db5eec0f",
           "version_major": 2,
           "version_minor": 0
          },
          "text/plain": "Output()"
         },
         "metadata": {},
         "output_type": "display_data"
        }
       ]
      }
     },
     "2f168b281401443b87dcbd8600866df5": {
      "model_module": "@jupyter-widgets/base",
      "model_module_version": "1.2.0",
      "model_name": "LayoutModel",
      "state": {
       "grid_area": "description",
       "width": "auto"
      }
     },
     "37884e126e424a81bddd46e9d70ef468": {
      "model_module": "@jupyter-widgets/controls",
      "model_module_version": "1.5.0",
      "model_name": "GridBoxModel",
      "state": {
       "_dom_classes": [
        "nbtools-input",
        "nbtools-textinput"
       ],
       "children": [
        "IPY_MODEL_1e4a23f386f64c0389fd74f9fbdd59b3",
        "IPY_MODEL_c2432614152a4f44b6833a1bd127bc20",
        "IPY_MODEL_e1447c054ff54c5e90bd70d31d6b85ad"
       ],
       "layout": "IPY_MODEL_9b7ed63251834a81a7344785abd59ac6"
      }
     },
     "37d4a5eebcdc43a3a5a8c7535fd20c9e": {
      "model_module": "@jupyter-widgets/base",
      "model_module_version": "1.2.0",
      "model_name": "LayoutModel",
      "state": {
       "grid_area": "input",
       "width": "auto"
      }
     },
     "37e54526b3f84c48900573f44f08c791": {
      "model_module": "@jupyter-widgets/controls",
      "model_module_version": "1.5.0",
      "model_name": "DescriptionStyleModel",
      "state": {
       "description_width": ""
      }
     },
     "37eb2c322b4e43afb4387981a44ad472": {
      "model_module": "@jupyter-widgets/base",
      "model_module_version": "1.2.0",
      "model_name": "LayoutModel",
      "state": {
       "grid_area": "label",
       "width": "auto"
      }
     },
     "3aba97201fe74fec9c1bf1fcb92989fb": {
      "model_module": "@jupyter-widgets/base",
      "model_module_version": "1.2.0",
      "model_name": "LayoutModel",
      "state": {
       "grid_area": "input",
       "width": "auto"
      }
     },
     "3b46a9b2143846d284932cf39c1b0ff4": {
      "model_module": "@jupyter-widgets/output",
      "model_module_version": "1.0.0",
      "model_name": "OutputModel",
      "state": {
       "layout": "IPY_MODEL_6b3d8c3697f24a16ba0826e6fc15fe02"
      }
     },
     "3d45db14327f4fb68f14eab837f4f708": {
      "model_module": "@jupyter-widgets/base",
      "model_module_version": "1.2.0",
      "model_name": "LayoutModel",
      "state": {
       "grid_area": "label",
       "width": "auto"
      }
     },
     "41e1524c72ea443abf6be739fef7361b": {
      "model_module": "@jupyter-widgets/base",
      "model_module_version": "1.2.0",
      "model_name": "LayoutModel",
      "state": {
       "grid_area": "input",
       "width": "auto"
      }
     },
     "42395f5f4fff4acbb6de0c56333e8c8f": {
      "model_module": "@jupyter-widgets/base",
      "model_module_version": "1.2.0",
      "model_name": "LayoutModel",
      "state": {
       "display": "none",
       "grid_template_areas": "\n                    \"label input\"\n                    \". description\"\n                ",
       "grid_template_columns": "25% 75%",
       "grid_template_rows": "auto auto",
       "width": "100%"
      }
     },
     "45e464f107144e3d88742efe733a2a77": {
      "model_module": "@genepattern/nbtools",
      "model_module_version": "^20.10.0-alpha.0",
      "model_name": "UIBuilderModel",
      "state": {
       "_model_module_version": "^20.10.0-alpha.0",
       "_parameters": [
        {
         "choices": {},
         "default": "",
         "description": "",
         "events": null,
         "hide": true,
         "id": null,
         "kinds": null,
         "label": "output variable",
         "name": "output_var",
         "optional": true,
         "type": "text",
         "value": ""
        }
       ],
       "_view_module_version": "^20.10.0-alpha.0",
       "collapsed": true,
       "color": "rgba(10, 45, 105, 0.80)",
       "display_footer": false,
       "display_header": false,
       "form": "IPY_MODEL_0984944ecf0c4316a0eeb5864e6068f2",
       "info": "<div class=\"systemMessageOk\"><br /><a href=\"https://cloud.genepattern.org/gp/pages/index.jsf?lsid=urn:lsid:broad.mit.edu:cancer.software.genepattern.module.analysis:00042:5.2\" target=\"_blank\">GEOImporter has been updated to restore programmatic access to GEO.<br /><br /></div><br /><div class=\"systemMessageOk\"><br />If you were unable to join us on Dec 16 for the GenePattern Notebook webinar or would simply like to rewatch the video at your leisure, <b><a href=\"https://youtu.be/SwPch9BuG9A\" target=\"_blank\">it is now available on our YouTube channel.</a></b><br /><br /></div><br /><div class=\"systemMessageOk\"><br />    Follow the GenePattern team on <a href=\"https://twitter.com/GenePattern\", target=\"_blank\">Twitter</a>, <a href=\"https://www.instagram.com/genepatternnotebook/\",target=\"_blank\">Instagram</a> or <a href=\"https://www.facebook.com/GenePattern\", target=\"_blank\">Facebook</a> to keep up with the latest news and events or <a href=\"https://groups.google.com/forum/?utm_medium=email&utm_source=footer#!forum/genepattern-help\", target=\"_blank\">join the conversation in our forum</a>!<br /><br /><a href=\"https://genepattern.org/genepattern-in-the-amazon-cloud\", target=\"_blank\">Terms of Service</a> - Updated August 2020<br /><br /></div>",
       "layout": "IPY_MODEL_c55bc17f4e254513817bbbf821919859",
       "name": "https://cloud.genepattern.org/gp",
       "origin": "genepattern.authwidget",
       "output": "IPY_MODEL_e281477d2ca14461a6a0dce5db5eec0f",
       "output_var": ""
      }
     },
     "496f1adb135e48ee94f533b518acd024": {
      "model_module": "@jupyter-widgets/base",
      "model_module_version": "1.2.0",
      "model_name": "LayoutModel",
      "state": {}
     },
     "4b47781cd27e473aaec65bff5aa8b8cc": {
      "model_module": "@jupyter-widgets/output",
      "model_module_version": "1.0.0",
      "model_name": "OutputModel",
      "state": {
       "layout": "IPY_MODEL_104ebc7e24724ba1b75810cf6dd0408e"
      }
     },
     "4f402129f5dd47afb147eabee05cfd0d": {
      "model_module": "@jupyter-widgets/base",
      "model_module_version": "1.2.0",
      "model_name": "LayoutModel",
      "state": {
       "display": "none",
       "grid_template_areas": "\n                    \"label input\"\n                    \". description\"\n                ",
       "grid_template_columns": "25% 75%",
       "grid_template_rows": "auto auto",
       "width": "100%"
      }
     },
     "510720bba1b84528a28ce807815a0139": {
      "model_module": "@jupyter-widgets/controls",
      "model_module_version": "1.5.0",
      "model_name": "ButtonStyleModel",
      "state": {}
     },
     "516b318c48c345b6b959dafae5e1b94e": {
      "model_module": "@jupyter-widgets/controls",
      "model_module_version": "1.5.0",
      "model_name": "DescriptionStyleModel",
      "state": {
       "description_width": ""
      }
     },
     "51e8f978a5e4495b84a1c2dc8cc9a091": {
      "model_module": "@jupyter-widgets/base",
      "model_module_version": "1.2.0",
      "model_name": "LayoutModel",
      "state": {}
     },
     "5211ec5de2824ccc81ae3e87ff17b230": {
      "model_module": "@jupyter-widgets/output",
      "model_module_version": "1.0.0",
      "model_name": "OutputModel",
      "state": {
       "layout": "IPY_MODEL_c37dd004c76a45b39baefbb8e1fe021a"
      }
     },
     "56c7953adb7745528c1a86877d6eb494": {
      "model_module": "@jupyter-widgets/controls",
      "model_module_version": "1.5.0",
      "model_name": "VBoxModel",
      "state": {
       "_dom_classes": [
        "widget-interact"
       ],
       "children": [
        "IPY_MODEL_d2807a2bdd1e4ac4a7abec03a421c3b4",
        "IPY_MODEL_3b46a9b2143846d284932cf39c1b0ff4"
       ],
       "layout": "IPY_MODEL_51e8f978a5e4495b84a1c2dc8cc9a091"
      }
     },
     "5855c68d05924988963a48d633b62d5e": {
      "model_module": "@jupyter-widgets/controls",
      "model_module_version": "1.5.0",
      "model_name": "TextModel",
      "state": {
       "_dom_classes": [
        "nbtools-menu-attached"
       ],
       "layout": "IPY_MODEL_3aba97201fe74fec9c1bf1fcb92989fb",
       "style": "IPY_MODEL_5afdbf07edd4414eac87c7639c804539"
      }
     },
     "5afdbf07edd4414eac87c7639c804539": {
      "model_module": "@jupyter-widgets/controls",
      "model_module_version": "1.5.0",
      "model_name": "DescriptionStyleModel",
      "state": {
       "description_width": ""
      }
     },
     "5e8a538693b84f34a63d91666b2a705a": {
      "model_module": "@jupyter-widgets/controls",
      "model_module_version": "1.5.0",
      "model_name": "VBoxModel",
      "state": {
       "_dom_classes": [
        "widget-interact"
       ],
       "children": [
        "IPY_MODEL_f829b57a88fa45d59e4c72d852b68b6e",
        "IPY_MODEL_8f213d004f7745a29f15aa4bc3d479b3",
        "IPY_MODEL_e13e960cd8e04cf9ab61d88f17e191f9",
        "IPY_MODEL_8f5b81e8ed3b408e90cec36cda73da10",
        "IPY_MODEL_37884e126e424a81bddd46e9d70ef468"
       ],
       "layout": "IPY_MODEL_72698742220a4ecd9b197036e7739929"
      }
     },
     "6162f6262f20446a9954cb29cabe6165": {
      "model_module": "@jupyter-widgets/controls",
      "model_module_version": "1.5.0",
      "model_name": "LabelModel",
      "state": {
       "layout": "IPY_MODEL_0305bad538c643349afd4f6c43a601b3",
       "style": "IPY_MODEL_ef47c5b4196b430ebd77155d02c49f48"
      }
     },
     "63d884bf4ce742668c17b2f210f9ef0a": {
      "model_module": "@jupyter-widgets/controls",
      "model_module_version": "1.5.0",
      "model_name": "DescriptionStyleModel",
      "state": {
       "description_width": ""
      }
     },
     "6411fa4b15654daca5e1dc3ef8e72ab3": {
      "model_module": "@jupyter-widgets/output",
      "model_module_version": "1.0.0",
      "model_name": "OutputModel",
      "state": {
       "layout": "IPY_MODEL_496f1adb135e48ee94f533b518acd024"
      }
     },
     "64af7cbd8bd3467f893efafabb48ff3d": {
      "model_module": "@jupyter-widgets/controls",
      "model_module_version": "1.5.0",
      "model_name": "DescriptionStyleModel",
      "state": {
       "description_width": ""
      }
     },
     "68718fa7322b4554b789594bc427789f": {
      "model_module": "@jupyter-widgets/controls",
      "model_module_version": "1.5.0",
      "model_name": "LabelModel",
      "state": {
       "layout": "IPY_MODEL_2f168b281401443b87dcbd8600866df5",
       "style": "IPY_MODEL_a8754b2db4464c0d828b40911b063038"
      }
     },
     "6b3d8c3697f24a16ba0826e6fc15fe02": {
      "model_module": "@jupyter-widgets/base",
      "model_module_version": "1.2.0",
      "model_name": "LayoutModel",
      "state": {}
     },
     "6c9e0a90f54549b29bc86288e355e807": {
      "model_module": "@jupyter-widgets/base",
      "model_module_version": "1.2.0",
      "model_name": "LayoutModel",
      "state": {
       "grid_template_areas": "\n                    \"label input\"\n                    \". description\"\n                ",
       "grid_template_columns": "25% 75%",
       "grid_template_rows": "auto auto",
       "width": "100%"
      }
     },
     "6d57bb1326d64f8883e85144a5714cb8": {
      "model_module": "@jupyter-widgets/controls",
      "model_module_version": "1.5.0",
      "model_name": "LabelModel",
      "state": {
       "layout": "IPY_MODEL_07df0ec279d1429389f17db636c336f2",
       "style": "IPY_MODEL_0fb5fcbb45ae4a128d303c48a3a4d030"
      }
     },
     "6da0a2881af04a52926381676a05b534": {
      "model_module": "@jupyter-widgets/controls",
      "model_module_version": "1.5.0",
      "model_name": "LabelModel",
      "state": {
       "layout": "IPY_MODEL_c917826a47f64514be32ed8436a96bd9",
       "style": "IPY_MODEL_73e7ecad99fd4ca485e3f9ff1cc3abe1"
      }
     },
     "718c3965df8e4298b0d50bbf9fcff47d": {
      "model_module": "@jupyter-widgets/base",
      "model_module_version": "1.2.0",
      "model_name": "LayoutModel",
      "state": {
       "grid_area": "input",
       "width": "auto"
      }
     },
     "72230e4fa21e4bde868e99e9ec22da3f": {
      "model_module": "@jupyter-widgets/controls",
      "model_module_version": "1.5.0",
      "model_name": "DescriptionStyleModel",
      "state": {
       "description_width": ""
      }
     },
     "72698742220a4ecd9b197036e7739929": {
      "model_module": "@jupyter-widgets/base",
      "model_module_version": "1.2.0",
      "model_name": "LayoutModel",
      "state": {}
     },
     "73e7ecad99fd4ca485e3f9ff1cc3abe1": {
      "model_module": "@jupyter-widgets/controls",
      "model_module_version": "1.5.0",
      "model_name": "DescriptionStyleModel",
      "state": {
       "description_width": ""
      }
     },
     "743b163a57cc4511badad5be2a982fc0": {
      "model_module": "@jupyter-widgets/controls",
      "model_module_version": "1.5.0",
      "model_name": "DescriptionStyleModel",
      "state": {
       "description_width": ""
      }
     },
     "767a68ff7435459b86e6cf36fc914952": {
      "model_module": "@jupyter-widgets/controls",
      "model_module_version": "1.5.0",
      "model_name": "LabelModel",
      "state": {
       "layout": "IPY_MODEL_9141cba08b424d9a8367126b44a6249f",
       "style": "IPY_MODEL_f56a61b061154e86975648dbbf484c1a"
      }
     },
     "775c7c0b9b214cc3979bea8c1ad79dbe": {
      "model_module": "@jupyter-widgets/controls",
      "model_module_version": "1.5.0",
      "model_name": "GridBoxModel",
      "state": {
       "_dom_classes": [
        "nbtools-input",
        "nbtools-textinput"
       ],
       "children": [
        "IPY_MODEL_a62648c84e5a47b898832e9edf508e53",
        "IPY_MODEL_d6bc529b4f364b9ba7c012d1e3724c89",
        "IPY_MODEL_68718fa7322b4554b789594bc427789f"
       ],
       "layout": "IPY_MODEL_4f402129f5dd47afb147eabee05cfd0d"
      }
     },
     "79a8eb04cec14e9ca97a68e68e9410e4": {
      "model_module": "@jupyter-widgets/base",
      "model_module_version": "1.2.0",
      "model_name": "LayoutModel",
      "state": {}
     },
     "7c0d1d5b016d4fafa0acc1d0d845ab72": {
      "model_module": "@jupyter-widgets/controls",
      "model_module_version": "1.5.0",
      "model_name": "ButtonModel",
      "state": {
       "_dom_classes": [
        "hidden"
       ],
       "description": "Run",
       "layout": "IPY_MODEL_13d6698c00ff490194ad6d4794066864",
       "style": "IPY_MODEL_917ded0ee4da48ac827d4ccf2a33b4af"
      }
     },
     "7c4faf54af664d19bdd270ed4fb79db9": {
      "model_module": "@jupyter-widgets/controls",
      "model_module_version": "1.5.0",
      "model_name": "VBoxModel",
      "state": {
       "_dom_classes": [
        "widget-interact"
       ],
       "children": [
        "IPY_MODEL_7c0d1d5b016d4fafa0acc1d0d845ab72",
        "IPY_MODEL_5211ec5de2824ccc81ae3e87ff17b230"
       ],
       "layout": "IPY_MODEL_8e2bcfa098b543e19cb0aed469924027"
      }
     },
     "7d6947fec6e74aefa4de471651f38a85": {
      "model_module": "@jupyter-widgets/controls",
      "model_module_version": "1.5.0",
      "model_name": "DescriptionStyleModel",
      "state": {
       "description_width": ""
      }
     },
     "7ef798e358a0418ba8b44f982573aea2": {
      "model_module": "@jupyter-widgets/base",
      "model_module_version": "1.2.0",
      "model_name": "LayoutModel",
      "state": {
       "display": "none",
       "grid_template_areas": "\n                    \"label input\"\n                    \". description\"\n                ",
       "grid_template_columns": "25% 75%",
       "grid_template_rows": "auto auto",
       "width": "100%"
      }
     },
     "813b51f201f04a70bdd3fc24e74af959": {
      "model_module": "@jupyter-widgets/controls",
      "model_module_version": "1.5.0",
      "model_name": "ButtonStyleModel",
      "state": {}
     },
     "8a9ecc6718774501b27f177f75350d36": {
      "model_module": "@jupyter-widgets/controls",
      "model_module_version": "1.5.0",
      "model_name": "LabelModel",
      "state": {
       "description": "output variable",
       "layout": "IPY_MODEL_37eb2c322b4e43afb4387981a44ad472",
       "style": "IPY_MODEL_b634b2bdabdd4b589e4663fd4d3174e5",
       "value": "output variable"
      }
     },
     "8e2bcfa098b543e19cb0aed469924027": {
      "model_module": "@jupyter-widgets/base",
      "model_module_version": "1.2.0",
      "model_name": "LayoutModel",
      "state": {}
     },
     "8f213d004f7745a29f15aa4bc3d479b3": {
      "model_module": "@jupyter-widgets/controls",
      "model_module_version": "1.5.0",
      "model_name": "GridBoxModel",
      "state": {
       "_dom_classes": [
        "nbtools-input",
        "nbtools-textinput",
        "required"
       ],
       "children": [
        "IPY_MODEL_cc7d35cbcb4448f9a5548fe4f9763541",
        "IPY_MODEL_beac1f365a1044ffa2275211b552e0ff",
        "IPY_MODEL_767a68ff7435459b86e6cf36fc914952"
       ],
       "layout": "IPY_MODEL_6c9e0a90f54549b29bc86288e355e807"
      }
     },
     "8f5b81e8ed3b408e90cec36cda73da10": {
      "model_module": "@jupyter-widgets/controls",
      "model_module_version": "1.5.0",
      "model_name": "ButtonModel",
      "state": {
       "_dom_classes": [
        "hidden"
       ],
       "description": "Run",
       "layout": "IPY_MODEL_c39740984d994a41b496c5480bda96d0",
       "style": "IPY_MODEL_510720bba1b84528a28ce807815a0139"
      }
     },
     "9141cba08b424d9a8367126b44a6249f": {
      "model_module": "@jupyter-widgets/base",
      "model_module_version": "1.2.0",
      "model_name": "LayoutModel",
      "state": {
       "grid_area": "description",
       "width": "auto"
      }
     },
     "917ded0ee4da48ac827d4ccf2a33b4af": {
      "model_module": "@jupyter-widgets/controls",
      "model_module_version": "1.5.0",
      "model_name": "ButtonStyleModel",
      "state": {}
     },
     "98e33aeb47b44808b965477745615194": {
      "model_module": "@jupyter-widgets/base",
      "model_module_version": "1.2.0",
      "model_name": "LayoutModel",
      "state": {
       "grid_area": "label",
       "width": "auto"
      }
     },
     "9a22dae23a68467a86b5ae03836d563e": {
      "model_module": "@jupyter-widgets/base",
      "model_module_version": "1.2.0",
      "model_name": "LayoutModel",
      "state": {}
     },
     "9b7ed63251834a81a7344785abd59ac6": {
      "model_module": "@jupyter-widgets/base",
      "model_module_version": "1.2.0",
      "model_name": "LayoutModel",
      "state": {
       "display": "none",
       "grid_template_areas": "\n                    \"label input\"\n                    \". description\"\n                ",
       "grid_template_columns": "25% 75%",
       "grid_template_rows": "auto auto",
       "width": "100%"
      }
     },
     "9bc42f4996264157a6a85baa9136fd67": {
      "model_module": "@jupyter-widgets/controls",
      "model_module_version": "1.5.0",
      "model_name": "GridBoxModel",
      "state": {
       "_dom_classes": [
        "nbtools-input",
        "nbtools-textinput"
       ],
       "children": [
        "IPY_MODEL_8a9ecc6718774501b27f177f75350d36",
        "IPY_MODEL_5855c68d05924988963a48d633b62d5e",
        "IPY_MODEL_6162f6262f20446a9954cb29cabe6165"
       ],
       "layout": "IPY_MODEL_7ef798e358a0418ba8b44f982573aea2"
      }
     },
     "9efa305adbf64ad0aac8f425b3e0616b": {
      "model_module": "@jupyter-widgets/controls",
      "model_module_version": "1.5.0",
      "model_name": "LabelModel",
      "state": {
       "description": "GenePattern Server",
       "layout": "IPY_MODEL_bf1469370233457da3f7204e347fafca",
       "style": "IPY_MODEL_743b163a57cc4511badad5be2a982fc0",
       "value": "GenePattern Server*"
      }
     },
     "9fb98d9985f04d46a550ca5c1df43f6d": {
      "model_module": "@jupyter-widgets/base",
      "model_module_version": "1.2.0",
      "model_name": "LayoutModel",
      "state": {
       "grid_area": "input",
       "width": "auto"
      }
     },
     "a0d9b3b8640f40aba9dd0c1f2de9f224": {
      "model_module": "@jupyter-widgets/base",
      "model_module_version": "1.2.0",
      "model_name": "LayoutModel",
      "state": {
       "grid_area": "input",
       "width": "auto"
      }
     },
     "a62648c84e5a47b898832e9edf508e53": {
      "model_module": "@jupyter-widgets/controls",
      "model_module_version": "1.5.0",
      "model_name": "LabelModel",
      "state": {
       "description": "output variable",
       "layout": "IPY_MODEL_b4568252d79c40d084f5d20edcda8cea",
       "style": "IPY_MODEL_0d4b6b4d2ed4461186e19f6f6edfde36",
       "value": "output variable"
      }
     },
     "a7b069994a9847fab0234371545e39b6": {
      "model_module": "@jupyter-widgets/controls",
      "model_module_version": "1.5.0",
      "model_name": "DescriptionStyleModel",
      "state": {
       "description_width": ""
      }
     },
     "a8754b2db4464c0d828b40911b063038": {
      "model_module": "@jupyter-widgets/controls",
      "model_module_version": "1.5.0",
      "model_name": "DescriptionStyleModel",
      "state": {
       "description_width": ""
      }
     },
     "aa9492c21d994e559f3ab10d70d19c50": {
      "model_module": "@jupyter-widgets/controls",
      "model_module_version": "1.5.0",
      "model_name": "ButtonModel",
      "state": {
       "_dom_classes": [
        "hidden"
       ],
       "description": "Run",
       "layout": "IPY_MODEL_bb34d142713d441084bd17bd22e52f3e",
       "style": "IPY_MODEL_813b51f201f04a70bdd3fc24e74af959"
      }
     },
     "b4568252d79c40d084f5d20edcda8cea": {
      "model_module": "@jupyter-widgets/base",
      "model_module_version": "1.2.0",
      "model_name": "LayoutModel",
      "state": {
       "grid_area": "label",
       "width": "auto"
      }
     },
     "b634b2bdabdd4b589e4663fd4d3174e5": {
      "model_module": "@jupyter-widgets/controls",
      "model_module_version": "1.5.0",
      "model_name": "DescriptionStyleModel",
      "state": {
       "description_width": ""
      }
     },
     "b66e0b757b884aaaabe4d24a52f43f52": {
      "model_module": "@jupyter-widgets/controls",
      "model_module_version": "1.5.0",
      "model_name": "ComboboxModel",
      "state": {
       "_dom_classes": [
        "nbtools-menu-attached",
        "nbtools-nosendto"
       ],
       "choices": {
        "Broad Internal": "https://gpbroad.broadinstitute.org/gp",
        "GenePattern Cloud": "https://cloud.genepattern.org/gp"
       },
       "ensure_option": false,
       "kinds": [],
       "layout": "IPY_MODEL_a0d9b3b8640f40aba9dd0c1f2de9f224",
       "style": "IPY_MODEL_001bff8d9be44d408f0dc7c7873cc66e",
       "value": "https://cloud.genepattern.org/gp"
      }
     },
     "b96e516292d84d0a95774601c36e7c44": {
      "model_module": "@jupyter-widgets/controls",
      "model_module_version": "1.5.0",
      "model_name": "TextModel",
      "state": {
       "_dom_classes": [
        "nbtools-menu-attached"
       ],
       "layout": "IPY_MODEL_37d4a5eebcdc43a3a5a8c7535fd20c9e",
       "style": "IPY_MODEL_72230e4fa21e4bde868e99e9ec22da3f"
      }
     },
     "bb34d142713d441084bd17bd22e52f3e": {
      "model_module": "@jupyter-widgets/base",
      "model_module_version": "1.2.0",
      "model_name": "LayoutModel",
      "state": {}
     },
     "beac1f365a1044ffa2275211b552e0ff": {
      "model_module": "@jupyter-widgets/controls",
      "model_module_version": "1.5.0",
      "model_name": "TextModel",
      "state": {
       "_dom_classes": [
        "nbtools-menu-attached",
        "nbtools-nosendto"
       ],
       "layout": "IPY_MODEL_e08e2a0a6f624c6a8a2dcc1cb89f4e9f",
       "style": "IPY_MODEL_64af7cbd8bd3467f893efafabb48ff3d",
       "value": "tabor"
      }
     },
     "bf1469370233457da3f7204e347fafca": {
      "model_module": "@jupyter-widgets/base",
      "model_module_version": "1.2.0",
      "model_name": "LayoutModel",
      "state": {
       "grid_area": "label",
       "width": "auto"
      }
     },
     "c2432614152a4f44b6833a1bd127bc20": {
      "model_module": "@jupyter-widgets/controls",
      "model_module_version": "1.5.0",
      "model_name": "TextModel",
      "state": {
       "_dom_classes": [
        "nbtools-menu-attached"
       ],
       "layout": "IPY_MODEL_9fb98d9985f04d46a550ca5c1df43f6d",
       "style": "IPY_MODEL_f59637922adb461ca2e128dc498bd400"
      }
     },
     "c37dd004c76a45b39baefbb8e1fe021a": {
      "model_module": "@jupyter-widgets/base",
      "model_module_version": "1.2.0",
      "model_name": "LayoutModel",
      "state": {}
     },
     "c39740984d994a41b496c5480bda96d0": {
      "model_module": "@jupyter-widgets/base",
      "model_module_version": "1.2.0",
      "model_name": "LayoutModel",
      "state": {}
     },
     "c55bc17f4e254513817bbbf821919859": {
      "model_module": "@jupyter-widgets/base",
      "model_module_version": "1.2.0",
      "model_name": "LayoutModel",
      "state": {}
     },
     "c8ad5281e1894c15b9b371f07cc0b522": {
      "model_module": "@jupyter-widgets/controls",
      "model_module_version": "1.5.0",
      "model_name": "DescriptionStyleModel",
      "state": {
       "description_width": ""
      }
     },
     "c917826a47f64514be32ed8436a96bd9": {
      "model_module": "@jupyter-widgets/base",
      "model_module_version": "1.2.0",
      "model_name": "LayoutModel",
      "state": {
       "grid_area": "description",
       "width": "auto"
      }
     },
     "c9a549a7c0ee48cc9dacc1a8b3254ea2": {
      "model_module": "@jupyter-widgets/base",
      "model_module_version": "1.2.0",
      "model_name": "LayoutModel",
      "state": {
       "grid_area": "description",
       "width": "auto"
      }
     },
     "cb8ae7add9ed48a68cb4e6525d3f279c": {
      "model_module": "@jupyter-widgets/base",
      "model_module_version": "1.2.0",
      "model_name": "LayoutModel",
      "state": {}
     },
     "cc7d35cbcb4448f9a5548fe4f9763541": {
      "model_module": "@jupyter-widgets/controls",
      "model_module_version": "1.5.0",
      "model_name": "LabelModel",
      "state": {
       "description": "Username",
       "layout": "IPY_MODEL_3d45db14327f4fb68f14eab837f4f708",
       "style": "IPY_MODEL_7d6947fec6e74aefa4de471651f38a85",
       "value": "Username*"
      }
     },
     "d2807a2bdd1e4ac4a7abec03a421c3b4": {
      "model_module": "@jupyter-widgets/controls",
      "model_module_version": "1.5.0",
      "model_name": "ButtonModel",
      "state": {
       "_dom_classes": [
        "hidden"
       ],
       "description": "Run",
       "layout": "IPY_MODEL_cb8ae7add9ed48a68cb4e6525d3f279c",
       "style": "IPY_MODEL_df05c54e26ce48489fb26a97286cecd1"
      }
     },
     "d6bc529b4f364b9ba7c012d1e3724c89": {
      "model_module": "@jupyter-widgets/controls",
      "model_module_version": "1.5.0",
      "model_name": "TextModel",
      "state": {
       "_dom_classes": [
        "nbtools-menu-attached"
       ],
       "layout": "IPY_MODEL_41e1524c72ea443abf6be739fef7361b",
       "style": "IPY_MODEL_516b318c48c345b6b959dafae5e1b94e"
      }
     },
     "df05c54e26ce48489fb26a97286cecd1": {
      "model_module": "@jupyter-widgets/controls",
      "model_module_version": "1.5.0",
      "model_name": "ButtonStyleModel",
      "state": {}
     },
     "dfbd90add61f4dadbc12062e14528dac": {
      "model_module": "@jupyter-widgets/controls",
      "model_module_version": "1.5.0",
      "model_name": "LabelModel",
      "state": {
       "description": "output variable",
       "layout": "IPY_MODEL_183d0b5261cd4277ac1de84039d73c38",
       "style": "IPY_MODEL_c8ad5281e1894c15b9b371f07cc0b522",
       "value": "output variable"
      }
     },
     "e08e2a0a6f624c6a8a2dcc1cb89f4e9f": {
      "model_module": "@jupyter-widgets/base",
      "model_module_version": "1.2.0",
      "model_name": "LayoutModel",
      "state": {
       "grid_area": "input",
       "width": "auto"
      }
     },
     "e13e960cd8e04cf9ab61d88f17e191f9": {
      "model_module": "@jupyter-widgets/controls",
      "model_module_version": "1.5.0",
      "model_name": "GridBoxModel",
      "state": {
       "_dom_classes": [
        "nbtools-input",
        "nbtools-passwordinput",
        "required"
       ],
       "children": [
        "IPY_MODEL_172aca3348a44d75afa7ca3bf6ef1872",
        "IPY_MODEL_e644ea0a25604f5c9b708d050e839625",
        "IPY_MODEL_6da0a2881af04a52926381676a05b534"
       ],
       "layout": "IPY_MODEL_14688afd9ce44ba6b0b40ea580da384d"
      }
     },
     "e1447c054ff54c5e90bd70d31d6b85ad": {
      "model_module": "@jupyter-widgets/controls",
      "model_module_version": "1.5.0",
      "model_name": "LabelModel",
      "state": {
       "layout": "IPY_MODEL_0b12eeb8b6164f59a0866b49f1746082",
       "style": "IPY_MODEL_a7b069994a9847fab0234371545e39b6"
      }
     },
     "e281477d2ca14461a6a0dce5db5eec0f": {
      "model_module": "@jupyter-widgets/output",
      "model_module_version": "1.0.0",
      "model_name": "OutputModel",
      "state": {
       "layout": "IPY_MODEL_eba732faf2c14c688edc5604383ca458"
      }
     },
     "e644ea0a25604f5c9b708d050e839625": {
      "model_module": "@jupyter-widgets/controls",
      "model_module_version": "1.5.0",
      "model_name": "PasswordModel",
      "state": {
       "layout": "IPY_MODEL_718c3965df8e4298b0d50bbf9fcff47d",
       "style": "IPY_MODEL_37e54526b3f84c48900573f44f08c791"
      }
     },
     "eba732faf2c14c688edc5604383ca458": {
      "model_module": "@jupyter-widgets/base",
      "model_module_version": "1.2.0",
      "model_name": "LayoutModel",
      "state": {}
     },
     "ecede3cc081a48bcb2dd8b19d0b6279b": {
      "model_module": "@jupyter-widgets/controls",
      "model_module_version": "1.5.0",
      "model_name": "DescriptionStyleModel",
      "state": {
       "description_width": ""
      }
     },
     "ee193b761d974235837602bdb5ee7554": {
      "model_module": "@jupyter-widgets/controls",
      "model_module_version": "1.5.0",
      "model_name": "GridBoxModel",
      "state": {
       "_dom_classes": [
        "nbtools-input",
        "nbtools-textinput"
       ],
       "children": [
        "IPY_MODEL_dfbd90add61f4dadbc12062e14528dac",
        "IPY_MODEL_b96e516292d84d0a95774601c36e7c44",
        "IPY_MODEL_f8d8afac63884b2389b332d841fedceb"
       ],
       "layout": "IPY_MODEL_42395f5f4fff4acbb6de0c56333e8c8f"
      }
     },
     "ef47c5b4196b430ebd77155d02c49f48": {
      "model_module": "@jupyter-widgets/controls",
      "model_module_version": "1.5.0",
      "model_name": "DescriptionStyleModel",
      "state": {
       "description_width": ""
      }
     },
     "eff644498ffd45e291c9b523b41fe733": {
      "model_module": "@jupyter-widgets/base",
      "model_module_version": "1.2.0",
      "model_name": "LayoutModel",
      "state": {
       "grid_area": "label",
       "width": "auto"
      }
     },
     "f56a61b061154e86975648dbbf484c1a": {
      "model_module": "@jupyter-widgets/controls",
      "model_module_version": "1.5.0",
      "model_name": "DescriptionStyleModel",
      "state": {
       "description_width": ""
      }
     },
     "f59637922adb461ca2e128dc498bd400": {
      "model_module": "@jupyter-widgets/controls",
      "model_module_version": "1.5.0",
      "model_name": "DescriptionStyleModel",
      "state": {
       "description_width": ""
      }
     },
     "f5c83e9e44a04eea85422311d6cf778d": {
      "model_module": "@jupyter-widgets/base",
      "model_module_version": "1.2.0",
      "model_name": "LayoutModel",
      "state": {}
     },
     "f829b57a88fa45d59e4c72d852b68b6e": {
      "model_module": "@jupyter-widgets/controls",
      "model_module_version": "1.5.0",
      "model_name": "GridBoxModel",
      "state": {
       "_dom_classes": [
        "nbtools-input",
        "nbtools-comboinput",
        "required"
       ],
       "children": [
        "IPY_MODEL_9efa305adbf64ad0aac8f425b3e0616b",
        "IPY_MODEL_b66e0b757b884aaaabe4d24a52f43f52",
        "IPY_MODEL_6d57bb1326d64f8883e85144a5714cb8"
       ],
       "layout": "IPY_MODEL_1258f82f5c214b6880cf94d4480d161c"
      }
     },
     "f8d8afac63884b2389b332d841fedceb": {
      "model_module": "@jupyter-widgets/controls",
      "model_module_version": "1.5.0",
      "model_name": "LabelModel",
      "state": {
       "layout": "IPY_MODEL_c9a549a7c0ee48cc9dacc1a8b3254ea2",
       "style": "IPY_MODEL_63d884bf4ce742668c17b2f210f9ef0a"
      }
     }
    },
    "version_major": 2,
    "version_minor": 0
   }
  }
 },
 "nbformat": 4,
 "nbformat_minor": 4
}
