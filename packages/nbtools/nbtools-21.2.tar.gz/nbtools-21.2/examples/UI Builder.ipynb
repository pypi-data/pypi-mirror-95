{
 "cells": [
  {
   "cell_type": "code",
   "execution_count": 3,
   "metadata": {},
   "outputs": [
    {
     "data": {
      "application/vnd.jupyter.widget-view+json": {
       "model_id": "614696cb12bb4d558b16e82cf4cbf632",
       "version_major": 2,
       "version_minor": 0
      },
      "text/plain": [
       "UIOutput(appendix=VBox(), description='KMeans(algorithm=\"auto\", cope_x=True, init=\"k-means++\", max_iter=300, n…"
      ]
     },
     "metadata": {},
     "output_type": "display_data"
    }
   ],
   "source": [
    "import nbtools\n",
    "\n",
    "nbtools.UIOutput(status='Complete', description='KMeans(algorithm=\"auto\", cope_x=True, init=\"k-means++\", max_iter=300, n_clusters=4, n_init=10, n_jobs=1)', files=['iteration_1_result.tsv', 'iteration_2_result.tsv', 'iteration_3_result.tsv', 'iteration_4_result.tsv', 'consensus_results.tsv'])"
   ]
  },
  {
   "cell_type": "code",
   "execution_count": null,
   "metadata": {},
   "outputs": [],
   "source": []
  }
 ],
 "metadata": {
  "kernelspec": {
   "display_name": "Python 3",
   "language": "python",
   "name": "python3"
  },
  "language_info": {
   "codemirror_mode": {
    "name": "ipython",
    "version": 3
   },
   "file_extension": ".py",
   "mimetype": "text/x-python",
   "name": "python",
   "nbconvert_exporter": "python",
   "pygments_lexer": "ipython3",
   "version": "3.7.6"
  },
  "widgets": {
   "application/vnd.jupyter.widget-state+json": {
    "state": {
     "413815c1b3694333a5bab42d2e022bff": {
      "model_module": "@jupyter-widgets/controls",
      "model_module_version": "1.5.0",
      "model_name": "VBoxModel",
      "state": {
       "layout": "IPY_MODEL_c763c672b9af4cd2be1c6b5e2a20cbaa"
      }
     },
     "614696cb12bb4d558b16e82cf4cbf632": {
      "model_module": "@genepattern/nbtools",
      "model_module_version": "^0.2.0",
      "model_name": "UIOutputModel",
      "state": {
       "_dom_classes": [],
       "_model_module_version": "^0.2.0",
       "_view_count": null,
       "_view_module_version": "^0.2.0",
       "appendix": "IPY_MODEL_413815c1b3694333a5bab42d2e022bff",
       "description": "KMeans(algorithm=\"auto\", cope_x=True, init=\"k-means++\", max_iter=300, n_clusters=4, n_init=10, n_jobs=1)",
       "files": [
        "iteration_1_result.tsv",
        "iteration_2_result.tsv",
        "iteration_3_result.tsv",
        "iteration_4_result.tsv",
        "consensus_results.tsv"
       ],
       "layout": "IPY_MODEL_66a99c24a1764c4c94825d5cad79b30c",
       "status": "Complete"
      }
     },
     "66a99c24a1764c4c94825d5cad79b30c": {
      "model_module": "@jupyter-widgets/base",
      "model_module_version": "1.2.0",
      "model_name": "LayoutModel",
      "state": {}
     },
     "c763c672b9af4cd2be1c6b5e2a20cbaa": {
      "model_module": "@jupyter-widgets/base",
      "model_module_version": "1.2.0",
      "model_name": "LayoutModel",
      "state": {}
     }
    },
    "version_major": 2,
    "version_minor": 0
   }
  }
 },
 "nbformat": 4,
 "nbformat_minor": 4
}
