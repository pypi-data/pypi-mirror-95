{
 "cells": [
  {
   "cell_type": "code",
   "execution_count": 3,
   "metadata": {},
   "outputs": [],
   "source": [
    "import os\n",
    "import json\n",
    "import logging\n",
    "from pathlib import Path\n",
    "\n",
    "def load_settings():\n",
    "    # Attempt to load the nbtools settings file\n",
    "    try:\n",
    "        with open(os.path.join(Path.home(), '.ipython', 'nbtools.json'), 'r') as settings_file:\n",
    "            return json.load(settings_file)\n",
    "    except FileNotFoundError as e:\n",
    "        logging.debug(f'nbtools setting file not found: {e}')\n",
    "    except json.JSONDecodeError as e:\n",
    "        logging.debug(f'unable to parse nbtools setting file: {e}')\n",
    "\n",
    "    # If it couldn't be loaded, return the default settings\n",
    "    return {\"load\": [\"genepattern\"]}"
   ]
  },
  {
   "cell_type": "code",
   "execution_count": 3,
   "metadata": {},
   "outputs": [
    {
     "data": {
      "application/vnd.jupyter.widget-view+json": {
       "model_id": "d7df9842c2fe4c129170e993834e43a3",
       "version_major": 2,
       "version_minor": 0
      },
      "text/plain": [
       "GPAuthWidget(buttons={'Register an Account': \"\\n    const target = event.target;\\n    const widget = target.cl…"
      ]
     },
     "metadata": {},
     "output_type": "display_data"
    },
    {
     "data": {
      "application/vnd.jupyter.widget-view+json": {
       "model_id": "8714c7b493f644f1b7f6573d15cbb921",
       "version_major": 2,
       "version_minor": 0
      },
      "text/plain": [
       "Output()"
      ]
     },
     "metadata": {},
     "output_type": "display_data"
    }
   ],
   "source": [
    "import nbtools\n",
    "\n",
    "nbtools.tool(id='authentication', origin='+')"
   ]
  }
 ],
 "metadata": {
  "kernelspec": {
   "display_name": "Python 3",
   "language": "python",
   "name": "python3"
  },
  "language_info": {
   "codemirror_mode": {
    "name": "ipython",
    "version": 3
   },
   "file_extension": ".py",
   "mimetype": "text/x-python",
   "name": "python",
   "nbconvert_exporter": "python",
   "pygments_lexer": "ipython3",
   "version": "3.7.6"
  },
  "widgets": {
   "application/vnd.jupyter.widget-state+json": {
    "state": {
     "0200372da8ce4999a260457a0a266714": {
      "model_module": "@jupyter-widgets/controls",
      "model_module_version": "1.5.0",
      "model_name": "ButtonModel",
      "state": {
       "_dom_classes": [
        "hidden"
       ],
       "description": "Run",
       "layout": "IPY_MODEL_19d6ad33eea746a7ae2627f731b46530",
       "style": "IPY_MODEL_d7cab7c3b47c4442930ea0d13d84a7bf"
      }
     },
     "030f975db5534b72b29e00ba959667c8": {
      "model_module": "@jupyter-widgets/output",
      "model_module_version": "1.0.0",
      "model_name": "OutputModel",
      "state": {
       "layout": "IPY_MODEL_59e01bcbacf447d9a08a2cb8ec330dec"
      }
     },
     "065c7c8b382748ff81276e77a6ba6056": {
      "model_module": "@jupyter-widgets/controls",
      "model_module_version": "1.5.0",
      "model_name": "VBoxModel",
      "state": {
       "_dom_classes": [
        "widget-interact"
       ],
       "children": [
        "IPY_MODEL_ca93bec56fdb4289ac9fb6e4d2365a15",
        "IPY_MODEL_5613cbcfb8e54db1af12195d75fb94a9",
        "IPY_MODEL_2dbd7f8bbbc640bbb68dffb7fd98e8aa",
        "IPY_MODEL_0200372da8ce4999a260457a0a266714",
        "IPY_MODEL_fe9c96abed61448ba50c713e5de01194"
       ],
       "layout": "IPY_MODEL_c9cfed9c960247b19381a3b8b40f9126"
      }
     },
     "0666a5f305414f5babeb7f57614321c8": {
      "model_module": "@jupyter-widgets/controls",
      "model_module_version": "1.5.0",
      "model_name": "LabelModel",
      "state": {
       "description": "output variable",
       "layout": "IPY_MODEL_9722b58286a641fc99cafabc3c2de2ce",
       "style": "IPY_MODEL_d0faafddc9c34e4289d5640fbd2014ad",
       "value": "output variable"
      }
     },
     "07aa98512204430b8079dba170388dc8": {
      "model_module": "@jupyter-widgets/base",
      "model_module_version": "1.2.0",
      "model_name": "LayoutModel",
      "state": {
       "grid_area": "input",
       "width": "auto"
      }
     },
     "0eca729c042c4a35b3b35b584b33cc07": {
      "model_module": "@jupyter-widgets/controls",
      "model_module_version": "1.5.0",
      "model_name": "LabelModel",
      "state": {
       "description": "output variable",
       "layout": "IPY_MODEL_12a5721909c047bd8df3f2dd4e4e714b",
       "style": "IPY_MODEL_6779287d0615462b9a407bccd1449226",
       "value": "output variable"
      }
     },
     "0f1cd1069ee841b196e64bf3fa4b855f": {
      "model_module": "@jupyter-widgets/controls",
      "model_module_version": "1.5.0",
      "model_name": "ButtonModel",
      "state": {
       "_dom_classes": [
        "hidden"
       ],
       "description": "Run",
       "layout": "IPY_MODEL_2188d1c09840496eb628169a7a093bad",
       "style": "IPY_MODEL_8ee066d7ac10475da650e9533bb18ad6"
      }
     },
     "1165e8f99e4540dab45d6f5a047d9e0a": {
      "model_module": "@jupyter-widgets/base",
      "model_module_version": "1.2.0",
      "model_name": "LayoutModel",
      "state": {
       "grid_area": "description",
       "width": "auto"
      }
     },
     "1255305e6b2541fcbbc38210056d5140": {
      "model_module": "@jupyter-widgets/controls",
      "model_module_version": "1.5.0",
      "model_name": "DescriptionStyleModel",
      "state": {
       "description_width": ""
      }
     },
     "12a5721909c047bd8df3f2dd4e4e714b": {
      "model_module": "@jupyter-widgets/base",
      "model_module_version": "1.2.0",
      "model_name": "LayoutModel",
      "state": {
       "grid_area": "label",
       "width": "auto"
      }
     },
     "13af478daa0248ae8a957a8c846357a4": {
      "model_module": "@jupyter-widgets/controls",
      "model_module_version": "1.5.0",
      "model_name": "DescriptionStyleModel",
      "state": {
       "description_width": ""
      }
     },
     "18a7530eefe94b48aaff9f214304d190": {
      "model_module": "@jupyter-widgets/controls",
      "model_module_version": "1.5.0",
      "model_name": "DescriptionStyleModel",
      "state": {
       "description_width": ""
      }
     },
     "19338aae747b4c46b7da2d58e2d333bf": {
      "model_module": "@jupyter-widgets/controls",
      "model_module_version": "1.5.0",
      "model_name": "DescriptionStyleModel",
      "state": {
       "description_width": ""
      }
     },
     "19497b8e6c694015bd0a61937b7bdeb0": {
      "model_module": "@jupyter-widgets/base",
      "model_module_version": "1.2.0",
      "model_name": "LayoutModel",
      "state": {
       "grid_area": "description",
       "width": "auto"
      }
     },
     "19d6ad33eea746a7ae2627f731b46530": {
      "model_module": "@jupyter-widgets/base",
      "model_module_version": "1.2.0",
      "model_name": "LayoutModel",
      "state": {}
     },
     "1c073eb21e4643c48d3aa082a453c692": {
      "model_module": "@jupyter-widgets/output",
      "model_module_version": "1.0.0",
      "model_name": "OutputModel",
      "state": {
       "layout": "IPY_MODEL_2fd6f77de46045e0864b176925244a59"
      }
     },
     "1c79a052222a424e8640b5ee06877b43": {
      "model_module": "@jupyter-widgets/controls",
      "model_module_version": "1.5.0",
      "model_name": "GridBoxModel",
      "state": {
       "_dom_classes": [
        "nbtools-input",
        "nbtools-textinput"
       ],
       "children": [
        "IPY_MODEL_80c727fd105c4371aacf4a8b8c2b82c7",
        "IPY_MODEL_37c28a45ef6c44378d8c4c16ad707cbe",
        "IPY_MODEL_b748b7468ca84d968f03c3463840b168"
       ],
       "layout": "IPY_MODEL_507588f3a80743ba9324a36da198db95"
      }
     },
     "1c81292665f343e2a11620fd355d8f9a": {
      "model_module": "@jupyter-widgets/controls",
      "model_module_version": "1.5.0",
      "model_name": "TextModel",
      "state": {
       "_dom_classes": [
        "nbtools-menu-attached"
       ],
       "layout": "IPY_MODEL_2f71fc105423469bac487fdb96c0c701",
       "style": "IPY_MODEL_79df19db3617472dac3e14828dec00d9"
      }
     },
     "1da80177e2304710bddbd69190b92e14": {
      "model_module": "@jupyter-widgets/controls",
      "model_module_version": "1.5.0",
      "model_name": "DescriptionStyleModel",
      "state": {
       "description_width": ""
      }
     },
     "1f3030bb670b419f8cf6f295ccea7243": {
      "model_module": "@jupyter-widgets/base",
      "model_module_version": "1.2.0",
      "model_name": "LayoutModel",
      "state": {
       "grid_area": "input",
       "width": "auto"
      }
     },
     "210eab1d1b474451aeed4aca0db86032": {
      "model_module": "@jupyter-widgets/base",
      "model_module_version": "1.2.0",
      "model_name": "LayoutModel",
      "state": {
       "grid_area": "label",
       "width": "auto"
      }
     },
     "2188d1c09840496eb628169a7a093bad": {
      "model_module": "@jupyter-widgets/base",
      "model_module_version": "1.2.0",
      "model_name": "LayoutModel",
      "state": {}
     },
     "22fd1cbad7304ec080fd0bf1fef97d50": {
      "model_module": "@jupyter-widgets/controls",
      "model_module_version": "1.5.0",
      "model_name": "DescriptionStyleModel",
      "state": {
       "description_width": ""
      }
     },
     "25e3e52fcce945b0be00c012ce434682": {
      "model_module": "@jupyter-widgets/controls",
      "model_module_version": "1.5.0",
      "model_name": "GridBoxModel",
      "state": {
       "_dom_classes": [
        "nbtools-input",
        "nbtools-passwordinput",
        "required"
       ],
       "children": [
        "IPY_MODEL_e63cbec9a8f44990ad3ae52722ff96d7",
        "IPY_MODEL_fb5a45fdc4784b548d24a090a9421aff",
        "IPY_MODEL_5d87c03e53b447f39d8a3835490ecb61"
       ],
       "layout": "IPY_MODEL_6e9efc97257e43ab8f74e2ab4840249a"
      }
     },
     "28580ebab6ea4e99965d1eef95ee5e53": {
      "model_module": "@jupyter-widgets/base",
      "model_module_version": "1.2.0",
      "model_name": "LayoutModel",
      "state": {
       "grid_area": "description",
       "width": "auto"
      }
     },
     "2925ac5da3b04472b6c4a11905aed865": {
      "model_module": "@jupyter-widgets/base",
      "model_module_version": "1.2.0",
      "model_name": "LayoutModel",
      "state": {
       "grid_template_areas": "\n                    \"label input\"\n                    \". description\"\n                ",
       "grid_template_columns": "25% 75%",
       "grid_template_rows": "auto auto",
       "width": "100%"
      }
     },
     "2b6535b1f8ed4e82afb06b06a7ad9f91": {
      "model_module": "@jupyter-widgets/controls",
      "model_module_version": "1.5.0",
      "model_name": "TextModel",
      "state": {
       "_dom_classes": [
        "nbtools-menu-attached"
       ],
       "layout": "IPY_MODEL_f67dfacb38d84521b583c088457db850",
       "style": "IPY_MODEL_13af478daa0248ae8a957a8c846357a4"
      }
     },
     "2bf3a296c25a4147ae969cf84e6053a5": {
      "model_module": "@jupyter-widgets/base",
      "model_module_version": "1.2.0",
      "model_name": "LayoutModel",
      "state": {}
     },
     "2dbd7f8bbbc640bbb68dffb7fd98e8aa": {
      "model_module": "@jupyter-widgets/controls",
      "model_module_version": "1.5.0",
      "model_name": "GridBoxModel",
      "state": {
       "_dom_classes": [
        "nbtools-input",
        "nbtools-passwordinput",
        "required"
       ],
       "children": [
        "IPY_MODEL_e1ef4a5516154c6795be033f8cd88191",
        "IPY_MODEL_8bc2b25628454a73b65139fdbf08d7da",
        "IPY_MODEL_ea5d0fadde404e398f65be8766067155"
       ],
       "layout": "IPY_MODEL_59775a1690fd4c589ba2797959eb1ac6"
      }
     },
     "2e0d4d2ab18844a898121e5c0c5c5e8f": {
      "model_module": "@jupyter-widgets/controls",
      "model_module_version": "1.5.0",
      "model_name": "DescriptionStyleModel",
      "state": {
       "description_width": ""
      }
     },
     "2f71fc105423469bac487fdb96c0c701": {
      "model_module": "@jupyter-widgets/base",
      "model_module_version": "1.2.0",
      "model_name": "LayoutModel",
      "state": {
       "grid_area": "input",
       "width": "auto"
      }
     },
     "2fd6f77de46045e0864b176925244a59": {
      "model_module": "@jupyter-widgets/base",
      "model_module_version": "1.2.0",
      "model_name": "LayoutModel",
      "state": {}
     },
     "3241e38edadd4732a23a9871a08e4ca4": {
      "model_module": "@jupyter-widgets/controls",
      "model_module_version": "1.5.0",
      "model_name": "LabelModel",
      "state": {
       "description": "output variable",
       "layout": "IPY_MODEL_8e239c8b0d044fac9c2cdc503642143a",
       "style": "IPY_MODEL_76df44a28c9c415e93aef40f8fe8af35",
       "value": "output variable"
      }
     },
     "36603803097741babc649d9f06fdfc1e": {
      "model_module": "@jupyter-widgets/controls",
      "model_module_version": "1.5.0",
      "model_name": "DescriptionStyleModel",
      "state": {
       "description_width": ""
      }
     },
     "37a75bb204be4b83973069aff9f096c9": {
      "model_module": "@jupyter-widgets/controls",
      "model_module_version": "1.5.0",
      "model_name": "LabelModel",
      "state": {
       "description": "GenePattern Server",
       "layout": "IPY_MODEL_3d37efafdfe14ffcbd1f1b8650b508a6",
       "style": "IPY_MODEL_68146fcb30f642718fb5ebc35466de1d",
       "value": "GenePattern Server*"
      }
     },
     "37c28a45ef6c44378d8c4c16ad707cbe": {
      "model_module": "@jupyter-widgets/controls",
      "model_module_version": "1.5.0",
      "model_name": "TextModel",
      "state": {
       "_dom_classes": [
        "nbtools-menu-attached"
       ],
       "layout": "IPY_MODEL_a789bd402fe049199eaaf4b3c8b63ba3",
       "style": "IPY_MODEL_fcbc9671fa89440c8525646e5f315250"
      }
     },
     "38d4c696f5dd40c0806f23b02c9f504b": {
      "model_module": "@jupyter-widgets/controls",
      "model_module_version": "1.5.0",
      "model_name": "DescriptionStyleModel",
      "state": {
       "description_width": ""
      }
     },
     "3b671fccaf124a2ca900322922998c66": {
      "model_module": "@jupyter-widgets/base",
      "model_module_version": "1.2.0",
      "model_name": "LayoutModel",
      "state": {
       "grid_template_areas": "\n                    \"label input\"\n                    \". description\"\n                ",
       "grid_template_columns": "25% 75%",
       "grid_template_rows": "auto auto",
       "width": "100%"
      }
     },
     "3c082209138748ae9092b60e56117bc7": {
      "model_module": "@jupyter-widgets/controls",
      "model_module_version": "1.5.0",
      "model_name": "LabelModel",
      "state": {
       "description": "Username",
       "layout": "IPY_MODEL_e20acd5539e5403fb80031c8b3174321",
       "style": "IPY_MODEL_7b47d04620604d2daf3765be70c105c7",
       "value": "Username*"
      }
     },
     "3d37efafdfe14ffcbd1f1b8650b508a6": {
      "model_module": "@jupyter-widgets/base",
      "model_module_version": "1.2.0",
      "model_name": "LayoutModel",
      "state": {
       "grid_area": "label",
       "width": "auto"
      }
     },
     "3f10453dc92b40a1bf7c3caeb4f72405": {
      "model_module": "@genepattern/nbtools",
      "model_module_version": "^0.1.0",
      "model_name": "UIBuilderModel",
      "state": {
       "_dom_classes": [],
       "_model_module_version": "^0.1.0",
       "_parameters": [
        {
         "choices": {
          "Broad Internal": "https://gpbroad.broadinstitute.org/gp",
          "GenePattern Cloud": "https://cloud.genepattern.org/gp",
          "Indiana University": "https://gp.indiana.edu/gp"
         },
         "combo": true,
         "default": "https://cloud.genepattern.org/gp",
         "description": "",
         "events": null,
         "hide": false,
         "id": null,
         "kinds": null,
         "label": "GenePattern Server",
         "name": "server",
         "optional": false,
         "sendto": false,
         "type": "choice",
         "value": ""
        },
        {
         "choices": {},
         "default": "",
         "description": "",
         "events": null,
         "hide": false,
         "id": null,
         "kinds": null,
         "label": "Username",
         "name": "username",
         "optional": false,
         "type": "text",
         "value": ""
        },
        {
         "choices": {},
         "default": "",
         "description": "",
         "events": null,
         "hide": false,
         "id": null,
         "kinds": null,
         "label": "Password",
         "name": "password",
         "optional": false,
         "type": "password",
         "value": ""
        },
        {
         "choices": {},
         "default": "",
         "description": "",
         "events": null,
         "hide": true,
         "id": null,
         "kinds": null,
         "label": "output variable",
         "name": "output_var",
         "optional": true,
         "type": "text",
         "value": ""
        }
       ],
       "_view_count": null,
       "_view_module_version": "^0.1.0",
       "buttons": {
        "Register an Account": "\n    const target = event.target;\n    const widget = target.closest('.nbtools') || target;\n    const server_input = widget.querySelector('input[type=text]');\n    if (server_input) window.open(server_input.value + '/pages/registerUser.jsf');\n    else console.warn('Cannot obtain GenePattern Server URL');"
       },
       "collapse": false,
       "color": "rgba(10, 45, 105, 0.80)",
       "description": "Login to the GenePattern server",
       "display_header": false,
       "form": "IPY_MODEL_065c7c8b382748ff81276e77a6ba6056",
       "layout": "IPY_MODEL_e2af12a7de8c444c8c2d40e053018cca",
       "name": "Login",
       "origin": "Notebook",
       "output": "IPY_MODEL_030f975db5534b72b29e00ba959667c8",
       "output_var": "",
       "run_label": "Log into GenePattern"
      }
     },
     "40d52d97dca74222bb98eee59dfbd5b0": {
      "model_module": "@jupyter-widgets/controls",
      "model_module_version": "1.5.0",
      "model_name": "ButtonStyleModel",
      "state": {}
     },
     "44377ff792f44df0b31dbf6e1572bf9a": {
      "model_module": "@jupyter-widgets/controls",
      "model_module_version": "1.5.0",
      "model_name": "ButtonModel",
      "state": {
       "_dom_classes": [
        "hidden"
       ],
       "description": "Run",
       "layout": "IPY_MODEL_fba541f29b5344f8abec56274ca267b5",
       "style": "IPY_MODEL_40d52d97dca74222bb98eee59dfbd5b0"
      }
     },
     "49205bc39b6344daab95e331da1e7307": {
      "model_module": "@jupyter-widgets/controls",
      "model_module_version": "1.5.0",
      "model_name": "VBoxModel",
      "state": {
       "_dom_classes": [
        "widget-interact"
       ],
       "children": [
        "IPY_MODEL_44377ff792f44df0b31dbf6e1572bf9a",
        "IPY_MODEL_1c073eb21e4643c48d3aa082a453c692"
       ],
       "layout": "IPY_MODEL_cbcf1bd6ded641b3932b893301e3a3e1"
      }
     },
     "49d702ca51624f1eafe34e7666217a2f": {
      "model_module": "@jupyter-widgets/controls",
      "model_module_version": "1.5.0",
      "model_name": "VBoxModel",
      "state": {
       "_dom_classes": [
        "widget-interact"
       ],
       "children": [
        "IPY_MODEL_829f3f0032ae47bb922cfa74c49cd35f",
        "IPY_MODEL_bb200caf1651439989c418168be72cb7"
       ],
       "layout": "IPY_MODEL_dad67c95436843b4b3be43f2176c8b9f"
      }
     },
     "4a08a83c9b2948d4be042fdf39e3978c": {
      "model_module": "@jupyter-widgets/base",
      "model_module_version": "1.2.0",
      "model_name": "LayoutModel",
      "state": {
       "grid_area": "description",
       "width": "auto"
      }
     },
     "4c249250fe3d49ce8aafae7d6b60cfcc": {
      "model_module": "@jupyter-widgets/base",
      "model_module_version": "1.2.0",
      "model_name": "LayoutModel",
      "state": {}
     },
     "4d833754740348f5a9aff4ef218e51ad": {
      "model_module": "@jupyter-widgets/controls",
      "model_module_version": "1.5.0",
      "model_name": "DescriptionStyleModel",
      "state": {
       "description_width": ""
      }
     },
     "4ec453322d3640c58f518b76cb6d9276": {
      "model_module": "@jupyter-widgets/controls",
      "model_module_version": "1.5.0",
      "model_name": "DescriptionStyleModel",
      "state": {
       "description_width": ""
      }
     },
     "507588f3a80743ba9324a36da198db95": {
      "model_module": "@jupyter-widgets/base",
      "model_module_version": "1.2.0",
      "model_name": "LayoutModel",
      "state": {
       "display": "none",
       "grid_template_areas": "\n                    \"label input\"\n                    \". description\"\n                ",
       "grid_template_columns": "25% 75%",
       "grid_template_rows": "auto auto",
       "width": "100%"
      }
     },
     "552f0013549649509949a8614bba1b59": {
      "model_module": "@jupyter-widgets/base",
      "model_module_version": "1.2.0",
      "model_name": "LayoutModel",
      "state": {
       "grid_area": "description",
       "width": "auto"
      }
     },
     "5613cbcfb8e54db1af12195d75fb94a9": {
      "model_module": "@jupyter-widgets/controls",
      "model_module_version": "1.5.0",
      "model_name": "GridBoxModel",
      "state": {
       "_dom_classes": [
        "nbtools-input",
        "nbtools-textinput",
        "required"
       ],
       "children": [
        "IPY_MODEL_3c082209138748ae9092b60e56117bc7",
        "IPY_MODEL_2b6535b1f8ed4e82afb06b06a7ad9f91",
        "IPY_MODEL_94305238eedd4ade8039897f2474bf14"
       ],
       "layout": "IPY_MODEL_3b671fccaf124a2ca900322922998c66"
      }
     },
     "5726bdaa350247828105f053c2e7c7f0": {
      "model_module": "@jupyter-widgets/controls",
      "model_module_version": "1.5.0",
      "model_name": "ComboboxModel",
      "state": {
       "_dom_classes": [
        "nbtools-menu-attached",
        "nbtools-nosendto"
       ],
       "choices": {
        "Broad Internal": "https://gpbroad.broadinstitute.org/gp",
        "GenePattern Cloud": "https://cloud.genepattern.org/gp",
        "Indiana University": "https://gp.indiana.edu/gp"
       },
       "ensure_option": false,
       "kinds": [],
       "layout": "IPY_MODEL_b3b00dc0d6f84d36ab21d9d972df3513",
       "style": "IPY_MODEL_8a16c22aae614c89944ad8e5b03f2aa1",
       "value": "https://cloud.genepattern.org/gp"
      }
     },
     "5974b4cf002742d68d33e7a7ba8bf708": {
      "model_module": "@jupyter-widgets/controls",
      "model_module_version": "1.5.0",
      "model_name": "TextModel",
      "state": {
       "_dom_classes": [
        "nbtools-menu-attached"
       ],
       "layout": "IPY_MODEL_c07d919b5a4b4bf1a699cec44845d3ea",
       "style": "IPY_MODEL_fac8d45cc7374f05a34e031a47fcd111"
      }
     },
     "59775a1690fd4c589ba2797959eb1ac6": {
      "model_module": "@jupyter-widgets/base",
      "model_module_version": "1.2.0",
      "model_name": "LayoutModel",
      "state": {
       "grid_template_areas": "\n                    \"label input\"\n                    \". description\"\n                ",
       "grid_template_columns": "25% 75%",
       "grid_template_rows": "auto auto",
       "width": "100%"
      }
     },
     "59e01bcbacf447d9a08a2cb8ec330dec": {
      "model_module": "@jupyter-widgets/base",
      "model_module_version": "1.2.0",
      "model_name": "LayoutModel",
      "state": {}
     },
     "5d87c03e53b447f39d8a3835490ecb61": {
      "model_module": "@jupyter-widgets/controls",
      "model_module_version": "1.5.0",
      "model_name": "LabelModel",
      "state": {
       "layout": "IPY_MODEL_552f0013549649509949a8614bba1b59",
       "style": "IPY_MODEL_19338aae747b4c46b7da2d58e2d333bf"
      }
     },
     "5ec2f764d7e4456ebf225e6a84531a28": {
      "model_module": "@jupyter-widgets/base",
      "model_module_version": "1.2.0",
      "model_name": "LayoutModel",
      "state": {
       "grid_area": "input",
       "width": "auto"
      }
     },
     "61494ebc869549a0be2dfa7c5d49eca3": {
      "model_module": "@jupyter-widgets/controls",
      "model_module_version": "1.5.0",
      "model_name": "TextModel",
      "state": {
       "_dom_classes": [
        "nbtools-menu-attached"
       ],
       "layout": "IPY_MODEL_5ec2f764d7e4456ebf225e6a84531a28",
       "style": "IPY_MODEL_93659c10277a4c3786ca80bbdf932de8"
      }
     },
     "641b77c6acda40d18a46503933257148": {
      "model_module": "@jupyter-widgets/controls",
      "model_module_version": "1.5.0",
      "model_name": "GridBoxModel",
      "state": {
       "_dom_classes": [
        "nbtools-input",
        "nbtools-textinput",
        "required"
       ],
       "children": [
        "IPY_MODEL_c8e7169fb16543c58f1f3f5273fa7ca8",
        "IPY_MODEL_61494ebc869549a0be2dfa7c5d49eca3",
        "IPY_MODEL_9184d48f42474b1db2ddeaf58430d2ce"
       ],
       "layout": "IPY_MODEL_fd1461f0b78b4646bccab37e53b4a5ee"
      }
     },
     "6779287d0615462b9a407bccd1449226": {
      "model_module": "@jupyter-widgets/controls",
      "model_module_version": "1.5.0",
      "model_name": "DescriptionStyleModel",
      "state": {
       "description_width": ""
      }
     },
     "68146fcb30f642718fb5ebc35466de1d": {
      "model_module": "@jupyter-widgets/controls",
      "model_module_version": "1.5.0",
      "model_name": "DescriptionStyleModel",
      "state": {
       "description_width": ""
      }
     },
     "6a2a5cf081554821b997dc3597b80620": {
      "model_module": "@jupyter-widgets/controls",
      "model_module_version": "1.5.0",
      "model_name": "LabelModel",
      "state": {
       "description": "GenePattern Server",
       "layout": "IPY_MODEL_210eab1d1b474451aeed4aca0db86032",
       "style": "IPY_MODEL_2e0d4d2ab18844a898121e5c0c5c5e8f",
       "value": "GenePattern Server*"
      }
     },
     "6ae087e04a0e4ae997f4aa49bff902a7": {
      "model_module": "@jupyter-widgets/output",
      "model_module_version": "1.0.0",
      "model_name": "OutputModel",
      "state": {
       "layout": "IPY_MODEL_fbf4597a202c494385b6d79425ff389d"
      }
     },
     "6c4bc454a6fe401c8efac78fd02bfb16": {
      "model_module": "@jupyter-widgets/controls",
      "model_module_version": "1.5.0",
      "model_name": "GridBoxModel",
      "state": {
       "_dom_classes": [
        "nbtools-input",
        "nbtools-textinput"
       ],
       "children": [
        "IPY_MODEL_0eca729c042c4a35b3b35b584b33cc07",
        "IPY_MODEL_1c81292665f343e2a11620fd355d8f9a",
        "IPY_MODEL_7ffd9a3cdb114e87bd90714243bcff35"
       ],
       "layout": "IPY_MODEL_7d96e9d17aca429db5574389e1640aa3"
      }
     },
     "6e9efc97257e43ab8f74e2ab4840249a": {
      "model_module": "@jupyter-widgets/base",
      "model_module_version": "1.2.0",
      "model_name": "LayoutModel",
      "state": {
       "grid_template_areas": "\n                    \"label input\"\n                    \". description\"\n                ",
       "grid_template_columns": "25% 75%",
       "grid_template_rows": "auto auto",
       "width": "100%"
      }
     },
     "75da777ecfac4fda8403a770f244e66f": {
      "model_module": "@jupyter-widgets/controls",
      "model_module_version": "1.5.0",
      "model_name": "DescriptionStyleModel",
      "state": {
       "description_width": ""
      }
     },
     "76df44a28c9c415e93aef40f8fe8af35": {
      "model_module": "@jupyter-widgets/controls",
      "model_module_version": "1.5.0",
      "model_name": "DescriptionStyleModel",
      "state": {
       "description_width": ""
      }
     },
     "79df19db3617472dac3e14828dec00d9": {
      "model_module": "@jupyter-widgets/controls",
      "model_module_version": "1.5.0",
      "model_name": "DescriptionStyleModel",
      "state": {
       "description_width": ""
      }
     },
     "7a9421c2823f48d0bd3525c639dcb49f": {
      "model_module": "@jupyter-widgets/controls",
      "model_module_version": "1.5.0",
      "model_name": "ComboboxModel",
      "state": {
       "_dom_classes": [
        "nbtools-menu-attached",
        "nbtools-nosendto"
       ],
       "choices": {
        "Broad Internal": "https://gpbroad.broadinstitute.org/gp",
        "GenePattern Cloud": "https://cloud.genepattern.org/gp",
        "Indiana University": "https://gp.indiana.edu/gp"
       },
       "ensure_option": false,
       "kinds": [],
       "layout": "IPY_MODEL_1f3030bb670b419f8cf6f295ccea7243",
       "style": "IPY_MODEL_f6fae3dba6a64265b9f62fbd63a6feec",
       "value": "https://cloud.genepattern.org/gp"
      }
     },
     "7b47d04620604d2daf3765be70c105c7": {
      "model_module": "@jupyter-widgets/controls",
      "model_module_version": "1.5.0",
      "model_name": "DescriptionStyleModel",
      "state": {
       "description_width": ""
      }
     },
     "7d5e352f38674981aef0cac6d9147b0e": {
      "model_module": "@jupyter-widgets/base",
      "model_module_version": "1.2.0",
      "model_name": "LayoutModel",
      "state": {
       "display": "none",
       "grid_template_areas": "\n                    \"label input\"\n                    \". description\"\n                ",
       "grid_template_columns": "25% 75%",
       "grid_template_rows": "auto auto",
       "width": "100%"
      }
     },
     "7d96e9d17aca429db5574389e1640aa3": {
      "model_module": "@jupyter-widgets/base",
      "model_module_version": "1.2.0",
      "model_name": "LayoutModel",
      "state": {
       "display": "none",
       "grid_template_areas": "\n                    \"label input\"\n                    \". description\"\n                ",
       "grid_template_columns": "25% 75%",
       "grid_template_rows": "auto auto",
       "width": "100%"
      }
     },
     "7ffd9a3cdb114e87bd90714243bcff35": {
      "model_module": "@jupyter-widgets/controls",
      "model_module_version": "1.5.0",
      "model_name": "LabelModel",
      "state": {
       "layout": "IPY_MODEL_ea861cbab743494990cd8faef9fe3a26",
       "style": "IPY_MODEL_a402aa63408f4166bd01b20c747deb49"
      }
     },
     "80c727fd105c4371aacf4a8b8c2b82c7": {
      "model_module": "@jupyter-widgets/controls",
      "model_module_version": "1.5.0",
      "model_name": "LabelModel",
      "state": {
       "description": "output variable",
       "layout": "IPY_MODEL_e608805e3b1145dc822d5d29c8e10007",
       "style": "IPY_MODEL_18a7530eefe94b48aaff9f214304d190",
       "value": "output variable"
      }
     },
     "829f3f0032ae47bb922cfa74c49cd35f": {
      "model_module": "@jupyter-widgets/controls",
      "model_module_version": "1.5.0",
      "model_name": "ButtonModel",
      "state": {
       "_dom_classes": [
        "hidden"
       ],
       "description": "Run",
       "layout": "IPY_MODEL_4c249250fe3d49ce8aafae7d6b60cfcc",
       "style": "IPY_MODEL_d329e05367df4a41ad9d0d1e9bc396ab"
      }
     },
     "8714c7b493f644f1b7f6573d15cbb921": {
      "model_module": "@jupyter-widgets/output",
      "model_module_version": "1.0.0",
      "model_name": "OutputModel",
      "state": {
       "layout": "IPY_MODEL_ed51a0ee7cc04cf6b6f7117e275123c9"
      }
     },
     "8a16c22aae614c89944ad8e5b03f2aa1": {
      "model_module": "@jupyter-widgets/controls",
      "model_module_version": "1.5.0",
      "model_name": "DescriptionStyleModel",
      "state": {
       "description_width": ""
      }
     },
     "8bc2b25628454a73b65139fdbf08d7da": {
      "model_module": "@jupyter-widgets/controls",
      "model_module_version": "1.5.0",
      "model_name": "PasswordModel",
      "state": {
       "layout": "IPY_MODEL_f2e6afa71879464c88340345f78cf224",
       "style": "IPY_MODEL_75da777ecfac4fda8403a770f244e66f"
      }
     },
     "8c13d92d11e142d38903e3be02e6fa29": {
      "model_module": "@jupyter-widgets/base",
      "model_module_version": "1.2.0",
      "model_name": "LayoutModel",
      "state": {
       "grid_area": "description",
       "width": "auto"
      }
     },
     "8e239c8b0d044fac9c2cdc503642143a": {
      "model_module": "@jupyter-widgets/base",
      "model_module_version": "1.2.0",
      "model_name": "LayoutModel",
      "state": {
       "grid_area": "label",
       "width": "auto"
      }
     },
     "8ee066d7ac10475da650e9533bb18ad6": {
      "model_module": "@jupyter-widgets/controls",
      "model_module_version": "1.5.0",
      "model_name": "ButtonStyleModel",
      "state": {}
     },
     "9184d48f42474b1db2ddeaf58430d2ce": {
      "model_module": "@jupyter-widgets/controls",
      "model_module_version": "1.5.0",
      "model_name": "LabelModel",
      "state": {
       "layout": "IPY_MODEL_cd92f8d83a63475289206518f80500a8",
       "style": "IPY_MODEL_df0b11cecf814a48a59626e7db4da76a"
      }
     },
     "93659c10277a4c3786ca80bbdf932de8": {
      "model_module": "@jupyter-widgets/controls",
      "model_module_version": "1.5.0",
      "model_name": "DescriptionStyleModel",
      "state": {
       "description_width": ""
      }
     },
     "94305238eedd4ade8039897f2474bf14": {
      "model_module": "@jupyter-widgets/controls",
      "model_module_version": "1.5.0",
      "model_name": "LabelModel",
      "state": {
       "layout": "IPY_MODEL_1165e8f99e4540dab45d6f5a047d9e0a",
       "style": "IPY_MODEL_1255305e6b2541fcbbc38210056d5140"
      }
     },
     "94e52b4be61b4bac98537eb682c11392": {
      "model_module": "@jupyter-widgets/base",
      "model_module_version": "1.2.0",
      "model_name": "LayoutModel",
      "state": {
       "grid_area": "label",
       "width": "auto"
      }
     },
     "9722b58286a641fc99cafabc3c2de2ce": {
      "model_module": "@jupyter-widgets/base",
      "model_module_version": "1.2.0",
      "model_name": "LayoutModel",
      "state": {
       "grid_area": "label",
       "width": "auto"
      }
     },
     "994746004a2e4f20b68dfa883dd28cf3": {
      "model_module": "@jupyter-widgets/base",
      "model_module_version": "1.2.0",
      "model_name": "LayoutModel",
      "state": {
       "grid_area": "label",
       "width": "auto"
      }
     },
     "9bc775b825c94cdb8565e500717d3378": {
      "model_module": "@jupyter-widgets/base",
      "model_module_version": "1.2.0",
      "model_name": "LayoutModel",
      "state": {
       "grid_area": "description",
       "width": "auto"
      }
     },
     "9e97a46d46984fb8beea34bf77d60e97": {
      "model_module": "@jupyter-widgets/base",
      "model_module_version": "1.2.0",
      "model_name": "LayoutModel",
      "state": {}
     },
     "a0650804bac54ee99ab99d2e788fe0e0": {
      "model_module": "@jupyter-widgets/controls",
      "model_module_version": "1.5.0",
      "model_name": "LabelModel",
      "state": {
       "layout": "IPY_MODEL_19497b8e6c694015bd0a61937b7bdeb0",
       "style": "IPY_MODEL_36603803097741babc649d9f06fdfc1e"
      }
     },
     "a184252daae149368a8605875ac0d8a4": {
      "model_module": "@jupyter-widgets/controls",
      "model_module_version": "1.5.0",
      "model_name": "GridBoxModel",
      "state": {
       "_dom_classes": [
        "nbtools-input",
        "nbtools-comboinput",
        "required"
       ],
       "children": [
        "IPY_MODEL_37a75bb204be4b83973069aff9f096c9",
        "IPY_MODEL_7a9421c2823f48d0bd3525c639dcb49f",
        "IPY_MODEL_cd9db8682f024aa1abc13134ffbedcfa"
       ],
       "layout": "IPY_MODEL_a1dec9617583401387cc5da9d961c463"
      }
     },
     "a1dec9617583401387cc5da9d961c463": {
      "model_module": "@jupyter-widgets/base",
      "model_module_version": "1.2.0",
      "model_name": "LayoutModel",
      "state": {
       "grid_template_areas": "\n                    \"label input\"\n                    \". description\"\n                ",
       "grid_template_columns": "25% 75%",
       "grid_template_rows": "auto auto",
       "width": "100%"
      }
     },
     "a402aa63408f4166bd01b20c747deb49": {
      "model_module": "@jupyter-widgets/controls",
      "model_module_version": "1.5.0",
      "model_name": "DescriptionStyleModel",
      "state": {
       "description_width": ""
      }
     },
     "a74301cf69bb4c528e1695f68b46be70": {
      "model_module": "@jupyter-widgets/base",
      "model_module_version": "1.2.0",
      "model_name": "LayoutModel",
      "state": {}
     },
     "a789bd402fe049199eaaf4b3c8b63ba3": {
      "model_module": "@jupyter-widgets/base",
      "model_module_version": "1.2.0",
      "model_name": "LayoutModel",
      "state": {
       "grid_area": "input",
       "width": "auto"
      }
     },
     "ac864636ebdb4d25955316df23ef4238": {
      "model_module": "@jupyter-widgets/base",
      "model_module_version": "1.2.0",
      "model_name": "LayoutModel",
      "state": {
       "grid_area": "label",
       "width": "auto"
      }
     },
     "b255b5fc1b3d47008ec36d0eeead3b3c": {
      "model_module": "@jupyter-widgets/controls",
      "model_module_version": "1.5.0",
      "model_name": "DescriptionStyleModel",
      "state": {
       "description_width": ""
      }
     },
     "b37ab1f1d43147b08e0b8b96eb68c156": {
      "model_module": "@jupyter-widgets/controls",
      "model_module_version": "1.5.0",
      "model_name": "DescriptionStyleModel",
      "state": {
       "description_width": ""
      }
     },
     "b3b00dc0d6f84d36ab21d9d972df3513": {
      "model_module": "@jupyter-widgets/base",
      "model_module_version": "1.2.0",
      "model_name": "LayoutModel",
      "state": {
       "grid_area": "input",
       "width": "auto"
      }
     },
     "b748b7468ca84d968f03c3463840b168": {
      "model_module": "@jupyter-widgets/controls",
      "model_module_version": "1.5.0",
      "model_name": "LabelModel",
      "state": {
       "layout": "IPY_MODEL_8c13d92d11e142d38903e3be02e6fa29",
       "style": "IPY_MODEL_38d4c696f5dd40c0806f23b02c9f504b"
      }
     },
     "bb200caf1651439989c418168be72cb7": {
      "model_module": "@jupyter-widgets/output",
      "model_module_version": "1.0.0",
      "model_name": "OutputModel",
      "state": {
       "layout": "IPY_MODEL_2bf3a296c25a4147ae969cf84e6053a5"
      }
     },
     "c0170d65988b45ffa2182277b3fdaef5": {
      "model_module": "@jupyter-widgets/base",
      "model_module_version": "1.2.0",
      "model_name": "LayoutModel",
      "state": {
       "display": "none",
       "grid_template_areas": "\n                    \"label input\"\n                    \". description\"\n                ",
       "grid_template_columns": "25% 75%",
       "grid_template_rows": "auto auto",
       "width": "100%"
      }
     },
     "c07d919b5a4b4bf1a699cec44845d3ea": {
      "model_module": "@jupyter-widgets/base",
      "model_module_version": "1.2.0",
      "model_name": "LayoutModel",
      "state": {
       "grid_area": "input",
       "width": "auto"
      }
     },
     "c8e7169fb16543c58f1f3f5273fa7ca8": {
      "model_module": "@jupyter-widgets/controls",
      "model_module_version": "1.5.0",
      "model_name": "LabelModel",
      "state": {
       "description": "Username",
       "layout": "IPY_MODEL_ac864636ebdb4d25955316df23ef4238",
       "style": "IPY_MODEL_4d833754740348f5a9aff4ef218e51ad",
       "value": "Username*"
      }
     },
     "c9cfed9c960247b19381a3b8b40f9126": {
      "model_module": "@jupyter-widgets/base",
      "model_module_version": "1.2.0",
      "model_name": "LayoutModel",
      "state": {}
     },
     "ca3261efe53d4890b0269d967af53266": {
      "model_module": "@jupyter-widgets/controls",
      "model_module_version": "1.5.0",
      "model_name": "LabelModel",
      "state": {
       "layout": "IPY_MODEL_f5ed72cad22e4eac95d149d19107beb8",
       "style": "IPY_MODEL_b255b5fc1b3d47008ec36d0eeead3b3c"
      }
     },
     "ca8aeb77d25c404e88cfe54449800c12": {
      "model_module": "@jupyter-widgets/controls",
      "model_module_version": "1.5.0",
      "model_name": "DescriptionStyleModel",
      "state": {
       "description_width": ""
      }
     },
     "ca93bec56fdb4289ac9fb6e4d2365a15": {
      "model_module": "@jupyter-widgets/controls",
      "model_module_version": "1.5.0",
      "model_name": "GridBoxModel",
      "state": {
       "_dom_classes": [
        "nbtools-input",
        "nbtools-comboinput",
        "required"
       ],
       "children": [
        "IPY_MODEL_6a2a5cf081554821b997dc3597b80620",
        "IPY_MODEL_5726bdaa350247828105f053c2e7c7f0",
        "IPY_MODEL_a0650804bac54ee99ab99d2e788fe0e0"
       ],
       "layout": "IPY_MODEL_2925ac5da3b04472b6c4a11905aed865"
      }
     },
     "cbcf1bd6ded641b3932b893301e3a3e1": {
      "model_module": "@jupyter-widgets/base",
      "model_module_version": "1.2.0",
      "model_name": "LayoutModel",
      "state": {}
     },
     "cd92f8d83a63475289206518f80500a8": {
      "model_module": "@jupyter-widgets/base",
      "model_module_version": "1.2.0",
      "model_name": "LayoutModel",
      "state": {
       "grid_area": "description",
       "width": "auto"
      }
     },
     "cd9db8682f024aa1abc13134ffbedcfa": {
      "model_module": "@jupyter-widgets/controls",
      "model_module_version": "1.5.0",
      "model_name": "LabelModel",
      "state": {
       "layout": "IPY_MODEL_9bc775b825c94cdb8565e500717d3378",
       "style": "IPY_MODEL_b37ab1f1d43147b08e0b8b96eb68c156"
      }
     },
     "ce7563bab0ca4b88b9db7cca14ba96e2": {
      "model_module": "@jupyter-widgets/controls",
      "model_module_version": "1.5.0",
      "model_name": "DescriptionStyleModel",
      "state": {
       "description_width": ""
      }
     },
     "d0faafddc9c34e4289d5640fbd2014ad": {
      "model_module": "@jupyter-widgets/controls",
      "model_module_version": "1.5.0",
      "model_name": "DescriptionStyleModel",
      "state": {
       "description_width": ""
      }
     },
     "d329e05367df4a41ad9d0d1e9bc396ab": {
      "model_module": "@jupyter-widgets/controls",
      "model_module_version": "1.5.0",
      "model_name": "ButtonStyleModel",
      "state": {}
     },
     "d35137cfe4cb42f1a9bee016dd362b68": {
      "model_module": "@jupyter-widgets/base",
      "model_module_version": "1.2.0",
      "model_name": "LayoutModel",
      "state": {}
     },
     "d7cab7c3b47c4442930ea0d13d84a7bf": {
      "model_module": "@jupyter-widgets/controls",
      "model_module_version": "1.5.0",
      "model_name": "ButtonStyleModel",
      "state": {}
     },
     "d7df9842c2fe4c129170e993834e43a3": {
      "model_module": "@genepattern/nbtools",
      "model_module_version": "^0.1.0",
      "model_name": "UIBuilderModel",
      "state": {
       "_dom_classes": [],
       "_model_module_version": "^0.1.0",
       "_parameters": [
        {
         "choices": {
          "Broad Internal": "https://gpbroad.broadinstitute.org/gp",
          "GenePattern Cloud": "https://cloud.genepattern.org/gp",
          "Indiana University": "https://gp.indiana.edu/gp"
         },
         "combo": true,
         "default": "https://cloud.genepattern.org/gp",
         "description": "",
         "events": null,
         "hide": false,
         "id": null,
         "kinds": null,
         "label": "GenePattern Server",
         "name": "server",
         "optional": false,
         "sendto": false,
         "type": "choice",
         "value": ""
        },
        {
         "choices": {},
         "default": "",
         "description": "",
         "events": null,
         "hide": false,
         "id": null,
         "kinds": null,
         "label": "Username",
         "name": "username",
         "optional": false,
         "type": "text",
         "value": ""
        },
        {
         "choices": {},
         "default": "",
         "description": "",
         "events": null,
         "hide": false,
         "id": null,
         "kinds": null,
         "label": "Password",
         "name": "password",
         "optional": false,
         "type": "password",
         "value": ""
        },
        {
         "choices": {},
         "default": "",
         "description": "",
         "events": null,
         "hide": true,
         "id": null,
         "kinds": null,
         "label": "output variable",
         "name": "output_var",
         "optional": true,
         "type": "text",
         "value": ""
        }
       ],
       "_view_count": null,
       "_view_module_version": "^0.1.0",
       "buttons": {
        "Register an Account": "\n    const target = event.target;\n    const widget = target.closest('.nbtools') || target;\n    const server_input = widget.querySelector('input[type=text]');\n    if (server_input) window.open(server_input.value + '/pages/registerUser.jsf');\n    else console.warn('Cannot obtain GenePattern Server URL');"
       },
       "collapse": false,
       "color": "rgba(10, 45, 105, 0.80)",
       "description": "Login to the GenePattern server",
       "display_header": false,
       "form": "IPY_MODEL_eb76625538e04fb392a20d6844b570d5",
       "layout": "IPY_MODEL_9e97a46d46984fb8beea34bf77d60e97",
       "name": "Login",
       "origin": "Notebook",
       "output": "IPY_MODEL_8714c7b493f644f1b7f6573d15cbb921",
       "output_var": "",
       "run_label": "Log into GenePattern"
      }
     },
     "dad67c95436843b4b3be43f2176c8b9f": {
      "model_module": "@jupyter-widgets/base",
      "model_module_version": "1.2.0",
      "model_name": "LayoutModel",
      "state": {}
     },
     "df0b11cecf814a48a59626e7db4da76a": {
      "model_module": "@jupyter-widgets/controls",
      "model_module_version": "1.5.0",
      "model_name": "DescriptionStyleModel",
      "state": {
       "description_width": ""
      }
     },
     "e1ef4a5516154c6795be033f8cd88191": {
      "model_module": "@jupyter-widgets/controls",
      "model_module_version": "1.5.0",
      "model_name": "LabelModel",
      "state": {
       "description": "Password",
       "layout": "IPY_MODEL_994746004a2e4f20b68dfa883dd28cf3",
       "style": "IPY_MODEL_ca8aeb77d25c404e88cfe54449800c12",
       "value": "Password*"
      }
     },
     "e20acd5539e5403fb80031c8b3174321": {
      "model_module": "@jupyter-widgets/base",
      "model_module_version": "1.2.0",
      "model_name": "LayoutModel",
      "state": {
       "grid_area": "label",
       "width": "auto"
      }
     },
     "e2af12a7de8c444c8c2d40e053018cca": {
      "model_module": "@jupyter-widgets/base",
      "model_module_version": "1.2.0",
      "model_name": "LayoutModel",
      "state": {}
     },
     "e608805e3b1145dc822d5d29c8e10007": {
      "model_module": "@jupyter-widgets/base",
      "model_module_version": "1.2.0",
      "model_name": "LayoutModel",
      "state": {
       "grid_area": "label",
       "width": "auto"
      }
     },
     "e63cbec9a8f44990ad3ae52722ff96d7": {
      "model_module": "@jupyter-widgets/controls",
      "model_module_version": "1.5.0",
      "model_name": "LabelModel",
      "state": {
       "description": "Password",
       "layout": "IPY_MODEL_94e52b4be61b4bac98537eb682c11392",
       "style": "IPY_MODEL_1da80177e2304710bddbd69190b92e14",
       "value": "Password*"
      }
     },
     "ea5d0fadde404e398f65be8766067155": {
      "model_module": "@jupyter-widgets/controls",
      "model_module_version": "1.5.0",
      "model_name": "LabelModel",
      "state": {
       "layout": "IPY_MODEL_28580ebab6ea4e99965d1eef95ee5e53",
       "style": "IPY_MODEL_ce7563bab0ca4b88b9db7cca14ba96e2"
      }
     },
     "ea861cbab743494990cd8faef9fe3a26": {
      "model_module": "@jupyter-widgets/base",
      "model_module_version": "1.2.0",
      "model_name": "LayoutModel",
      "state": {
       "grid_area": "description",
       "width": "auto"
      }
     },
     "ea9b0d120ad34992994856566eaae320": {
      "model_module": "@jupyter-widgets/output",
      "model_module_version": "1.0.0",
      "model_name": "OutputModel",
      "state": {
       "layout": "IPY_MODEL_d35137cfe4cb42f1a9bee016dd362b68"
      }
     },
     "eb76625538e04fb392a20d6844b570d5": {
      "model_module": "@jupyter-widgets/controls",
      "model_module_version": "1.5.0",
      "model_name": "VBoxModel",
      "state": {
       "_dom_classes": [
        "widget-interact"
       ],
       "children": [
        "IPY_MODEL_a184252daae149368a8605875ac0d8a4",
        "IPY_MODEL_641b77c6acda40d18a46503933257148",
        "IPY_MODEL_25e3e52fcce945b0be00c012ce434682",
        "IPY_MODEL_0f1cd1069ee841b196e64bf3fa4b855f",
        "IPY_MODEL_6c4bc454a6fe401c8efac78fd02bfb16"
       ],
       "layout": "IPY_MODEL_a74301cf69bb4c528e1695f68b46be70"
      }
     },
     "ed51a0ee7cc04cf6b6f7117e275123c9": {
      "model_module": "@jupyter-widgets/base",
      "model_module_version": "1.2.0",
      "model_name": "LayoutModel",
      "state": {}
     },
     "f2e6afa71879464c88340345f78cf224": {
      "model_module": "@jupyter-widgets/base",
      "model_module_version": "1.2.0",
      "model_name": "LayoutModel",
      "state": {
       "grid_area": "input",
       "width": "auto"
      }
     },
     "f5ed72cad22e4eac95d149d19107beb8": {
      "model_module": "@jupyter-widgets/base",
      "model_module_version": "1.2.0",
      "model_name": "LayoutModel",
      "state": {
       "grid_area": "description",
       "width": "auto"
      }
     },
     "f67dfacb38d84521b583c088457db850": {
      "model_module": "@jupyter-widgets/base",
      "model_module_version": "1.2.0",
      "model_name": "LayoutModel",
      "state": {
       "grid_area": "input",
       "width": "auto"
      }
     },
     "f6fae3dba6a64265b9f62fbd63a6feec": {
      "model_module": "@jupyter-widgets/controls",
      "model_module_version": "1.5.0",
      "model_name": "DescriptionStyleModel",
      "state": {
       "description_width": ""
      }
     },
     "f99fce76a02b473f935062356095f56c": {
      "model_module": "@jupyter-widgets/base",
      "model_module_version": "1.2.0",
      "model_name": "LayoutModel",
      "state": {
       "grid_area": "input",
       "width": "auto"
      }
     },
     "f9d1112a368a425393d7ecd9e3671557": {
      "model_module": "@jupyter-widgets/controls",
      "model_module_version": "1.5.0",
      "model_name": "TextModel",
      "state": {
       "_dom_classes": [
        "nbtools-menu-attached"
       ],
       "layout": "IPY_MODEL_f99fce76a02b473f935062356095f56c",
       "style": "IPY_MODEL_22fd1cbad7304ec080fd0bf1fef97d50"
      }
     },
     "fa057c8dadda417ca636f3f894947e42": {
      "model_module": "@jupyter-widgets/controls",
      "model_module_version": "1.5.0",
      "model_name": "LabelModel",
      "state": {
       "layout": "IPY_MODEL_4a08a83c9b2948d4be042fdf39e3978c",
       "style": "IPY_MODEL_fb11e0e90f62417e9b51dc936b694a72"
      }
     },
     "fa847e69b1804fb08fe165266cd39f0e": {
      "model_module": "@jupyter-widgets/controls",
      "model_module_version": "1.5.0",
      "model_name": "GridBoxModel",
      "state": {
       "_dom_classes": [
        "nbtools-input",
        "nbtools-textinput"
       ],
       "children": [
        "IPY_MODEL_0666a5f305414f5babeb7f57614321c8",
        "IPY_MODEL_f9d1112a368a425393d7ecd9e3671557",
        "IPY_MODEL_ca3261efe53d4890b0269d967af53266"
       ],
       "layout": "IPY_MODEL_c0170d65988b45ffa2182277b3fdaef5"
      }
     },
     "fac8d45cc7374f05a34e031a47fcd111": {
      "model_module": "@jupyter-widgets/controls",
      "model_module_version": "1.5.0",
      "model_name": "DescriptionStyleModel",
      "state": {
       "description_width": ""
      }
     },
     "fb11e0e90f62417e9b51dc936b694a72": {
      "model_module": "@jupyter-widgets/controls",
      "model_module_version": "1.5.0",
      "model_name": "DescriptionStyleModel",
      "state": {
       "description_width": ""
      }
     },
     "fb5a45fdc4784b548d24a090a9421aff": {
      "model_module": "@jupyter-widgets/controls",
      "model_module_version": "1.5.0",
      "model_name": "PasswordModel",
      "state": {
       "layout": "IPY_MODEL_07aa98512204430b8079dba170388dc8",
       "style": "IPY_MODEL_4ec453322d3640c58f518b76cb6d9276"
      }
     },
     "fba541f29b5344f8abec56274ca267b5": {
      "model_module": "@jupyter-widgets/base",
      "model_module_version": "1.2.0",
      "model_name": "LayoutModel",
      "state": {}
     },
     "fbf4597a202c494385b6d79425ff389d": {
      "model_module": "@jupyter-widgets/base",
      "model_module_version": "1.2.0",
      "model_name": "LayoutModel",
      "state": {}
     },
     "fcbc9671fa89440c8525646e5f315250": {
      "model_module": "@jupyter-widgets/controls",
      "model_module_version": "1.5.0",
      "model_name": "DescriptionStyleModel",
      "state": {
       "description_width": ""
      }
     },
     "fd1461f0b78b4646bccab37e53b4a5ee": {
      "model_module": "@jupyter-widgets/base",
      "model_module_version": "1.2.0",
      "model_name": "LayoutModel",
      "state": {
       "grid_template_areas": "\n                    \"label input\"\n                    \". description\"\n                ",
       "grid_template_columns": "25% 75%",
       "grid_template_rows": "auto auto",
       "width": "100%"
      }
     },
     "fe9c96abed61448ba50c713e5de01194": {
      "model_module": "@jupyter-widgets/controls",
      "model_module_version": "1.5.0",
      "model_name": "GridBoxModel",
      "state": {
       "_dom_classes": [
        "nbtools-input",
        "nbtools-textinput"
       ],
       "children": [
        "IPY_MODEL_3241e38edadd4732a23a9871a08e4ca4",
        "IPY_MODEL_5974b4cf002742d68d33e7a7ba8bf708",
        "IPY_MODEL_fa057c8dadda417ca636f3f894947e42"
       ],
       "layout": "IPY_MODEL_7d5e352f38674981aef0cac6d9147b0e"
      }
     }
    },
    "version_major": 2,
    "version_minor": 0
   }
  }
 },
 "nbformat": 4,
 "nbformat_minor": 4
}
