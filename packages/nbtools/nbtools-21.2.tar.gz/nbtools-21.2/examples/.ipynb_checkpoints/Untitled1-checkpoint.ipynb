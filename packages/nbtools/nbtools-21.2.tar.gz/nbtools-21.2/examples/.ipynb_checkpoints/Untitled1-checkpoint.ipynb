{
 "cells": [
  {
   "cell_type": "code",
   "execution_count": 2,
   "metadata": {},
   "outputs": [
    {
     "data": {
      "application/vnd.jupyter.widget-view+json": {
       "model_id": "bb28c283e1bd4268ad0be274742faff7",
       "version_major": 2,
       "version_minor": 0
      },
      "text/plain": [
       "GPAuthWidget(buttons={'Register an Account': \"\\n    const target = event.target;\\n    const widget = target.cl…"
      ]
     },
     "metadata": {},
     "output_type": "display_data"
    },
    {
     "data": {
      "application/vnd.jupyter.widget-view+json": {
       "model_id": "8ab34bc8e04d4cbeb2edf0d81b27dce7",
       "version_major": 2,
       "version_minor": 0
      },
      "text/plain": [
       "Output()"
      ]
     },
     "metadata": {},
     "output_type": "display_data"
    }
   ],
   "source": [
    "import nbtools\n",
    "\n",
    "nbtools.tool(id='authentication', origin='+')"
   ]
  },
  {
   "cell_type": "code",
   "execution_count": 3,
   "metadata": {},
   "outputs": [
    {
     "data": {
      "application/vnd.jupyter.widget-view+json": {
       "model_id": "04a0dc570f1f417ca8f2f7933547066d",
       "version_major": 2,
       "version_minor": 0
      },
      "text/plain": [
       "UIOutput(appendix=VBox(), error='Cannot find tool: GenePattern Cloud | urn:lsid:broad.mit.edu:cancer.software.…"
      ]
     },
     "metadata": {},
     "output_type": "display_data"
    },
    {
     "data": {
      "application/vnd.jupyter.widget-view+json": {
       "model_id": "de08ab0c64ce444baea6c331d88739f0",
       "version_major": 2,
       "version_minor": 0
      },
      "text/plain": [
       "Output(outputs=({'output_type': 'display_data', 'data': {}, 'metadata': {}},))"
      ]
     },
     "metadata": {},
     "output_type": "display_data"
    }
   ],
   "source": [
    "nbtools.tool(id='urn:lsid:broad.mit.edu:cancer.software.genepattern.module.analysis:00002:2', origin='GenePattern Cloud')"
   ]
  },
  {
   "cell_type": "code",
   "execution_count": 4,
   "metadata": {},
   "outputs": [
    {
     "data": {
      "application/vnd.jupyter.widget-view+json": {
       "model_id": "48fdc2350c1543cbb5e83ae8352313b3",
       "version_major": 2,
       "version_minor": 0
      },
      "text/plain": [
       "UIOutput(appendix=VBox(), error='Cannot find tool: GenePattern Cloud | urn:lsid:broad.mit.edu:cancer.software.…"
      ]
     },
     "metadata": {},
     "output_type": "display_data"
    },
    {
     "data": {
      "application/vnd.jupyter.widget-view+json": {
       "model_id": "c4ddec3fe99c42478469ec6fab0c5c3b",
       "version_major": 2,
       "version_minor": 0
      },
      "text/plain": [
       "Output(outputs=({'output_type': 'display_data', 'data': {}, 'metadata': {}},))"
      ]
     },
     "metadata": {},
     "output_type": "display_data"
    }
   ],
   "source": [
    "nbtools.tool(id='urn:lsid:broad.mit.edu:cancer.software.genepattern.module.visualizer:00010:13.9', origin='GenePattern Cloud')"
   ]
  },
  {
   "cell_type": "code",
   "execution_count": 5,
   "metadata": {},
   "outputs": [
    {
     "data": {
      "application/vnd.jupyter.widget-view+json": {
       "model_id": "345017a2a1a246ada5be310b9f380b6b",
       "version_major": 2,
       "version_minor": 0
      },
      "text/plain": [
       "UIOutput(appendix=VBox(), error='Cannot find tool: GenePattern Cloud | urn:lsid:broad.mit.edu:cancer.software.…"
      ]
     },
     "metadata": {},
     "output_type": "display_data"
    },
    {
     "data": {
      "application/vnd.jupyter.widget-view+json": {
       "model_id": "c33ccdfcc2874cb59688d82003d45039",
       "version_major": 2,
       "version_minor": 0
      },
      "text/plain": [
       "Output(outputs=({'output_type': 'display_data', 'data': {}, 'metadata': {}},))"
      ]
     },
     "metadata": {},
     "output_type": "display_data"
    }
   ],
   "source": [
    "nbtools.tool(id='urn:lsid:broad.mit.edu:cancer.software.genepattern.module.analysis:00017:4.2', origin='GenePattern Cloud')"
   ]
  },
  {
   "cell_type": "code",
   "execution_count": 6,
   "metadata": {},
   "outputs": [
    {
     "data": {
      "application/vnd.jupyter.widget-view+json": {
       "model_id": "0490dc4618a3408bb0baea93987eb626",
       "version_major": 2,
       "version_minor": 0
      },
      "text/plain": [
       "UIBuilder(collapse=True, form=InteractiveForm(children=(FileFormInput(value='', children=(Label(value='bar*', …"
      ]
     },
     "metadata": {},
     "output_type": "display_data"
    },
    {
     "data": {
      "application/vnd.jupyter.widget-view+json": {
       "model_id": "c829600877cf4704aa1b840f99137dee",
       "version_major": 2,
       "version_minor": 0
      },
      "text/plain": [
       "Output()"
      ]
     },
     "metadata": {},
     "output_type": "display_data"
    }
   ],
   "source": [
    "import nbtools\n",
    "import genepattern\n",
    "\n",
    "@nbtools.build_ui(parameters={\n",
    "    'bar': {\n",
    "        'type': 'file',\n",
    "        'kinds': ['_s.odf']\n",
    "    }\n",
    "})\n",
    "def foo(bar):\n",
    "    uio = nbtools.UIOutput(files=['https://www.drivethrurpg.com/product/103096/Escape-from-Castle-Island?filters=0_2110_100_0_0'])\n",
    "    genepattern.display(uio)"
   ]
  },
  {
   "cell_type": "code",
   "execution_count": 7,
   "metadata": {},
   "outputs": [
    {
     "data": {
      "application/vnd.jupyter.widget-view+json": {
       "model_id": "92fc363c576b490ea68adbb930765c77",
       "version_major": 2,
       "version_minor": 0
      },
      "text/plain": [
       "UIBuilder(collapse=True, form=InteractiveForm(children=(FileFormInput(value='', children=(Label(value='bar*', …"
      ]
     },
     "metadata": {},
     "output_type": "display_data"
    },
    {
     "data": {
      "application/vnd.jupyter.widget-view+json": {
       "model_id": "e4cb403678b545a8bc7254689a1bbd7a",
       "version_major": 2,
       "version_minor": 0
      },
      "text/plain": [
       "Output()"
      ]
     },
     "metadata": {},
     "output_type": "display_data"
    }
   ],
   "source": [
    "import nbtools\n",
    "import genepattern\n",
    "\n",
    "@nbtools.build_ui(parameters={\n",
    "    'bar': {\n",
    "        'type': 'file',\n",
    "        'kinds': ['_s.odf']\n",
    "    }\n",
    "})\n",
    "def moose(bar):\n",
    "    uio = nbtools.UIOutput(files=['https://www.drivethrurpg.com/product/103096/Escape-from-Castle-Island?filters=0_2110_100_0_0'])\n",
    "    genepattern.display(uio)"
   ]
  }
 ],
 "metadata": {
  "kernelspec": {
   "display_name": "Python 3",
   "language": "python",
   "name": "python3"
  },
  "language_info": {
   "codemirror_mode": {
    "name": "ipython",
    "version": 3
   },
   "file_extension": ".py",
   "mimetype": "text/x-python",
   "name": "python",
   "nbconvert_exporter": "python",
   "pygments_lexer": "ipython3",
   "version": "3.7.6"
  },
  "widgets": {
   "application/vnd.jupyter.widget-state+json": {
    "state": {
     "00458e951a1842c3ba055a9d4a87ad44": {
      "model_module": "@jupyter-widgets/controls",
      "model_module_version": "1.5.0",
      "model_name": "LabelModel",
      "state": {
       "layout": "IPY_MODEL_b58eee7927724f7abffb554edeee5bb8",
       "style": "IPY_MODEL_1d42cf18dd3c43e5abb21b93e020770c"
      }
     },
     "01941473f57c4df2aaf0708ed98e0c78": {
      "model_module": "@jupyter-widgets/base",
      "model_module_version": "1.2.0",
      "model_name": "LayoutModel",
      "state": {}
     },
     "030d8fb27fa04650b27f462e9b95264f": {
      "model_module": "@jupyter-widgets/base",
      "model_module_version": "1.2.0",
      "model_name": "LayoutModel",
      "state": {}
     },
     "031b908294034b97bda348515cb6d0a3": {
      "model_module": "@jupyter-widgets/controls",
      "model_module_version": "1.5.0",
      "model_name": "DescriptionStyleModel",
      "state": {
       "description_width": ""
      }
     },
     "0399a87a84b04533bfa8c8a3a1a8b9ba": {
      "model_module": "@jupyter-widgets/base",
      "model_module_version": "1.2.0",
      "model_name": "LayoutModel",
      "state": {}
     },
     "03df0c2c98944980bf1d429a4af6b5f2": {
      "model_module": "@jupyter-widgets/base",
      "model_module_version": "1.2.0",
      "model_name": "LayoutModel",
      "state": {
       "grid_area": "description",
       "width": "auto"
      }
     },
     "0490dc4618a3408bb0baea93987eb626": {
      "model_module": "@genepattern/nbtools",
      "model_module_version": "^20.10.0-alpha.0",
      "model_name": "UIBuilderModel",
      "state": {
       "_dom_classes": [],
       "_model_module_version": "^20.10.0-alpha.0",
       "_parameters": [
        {
         "choices": {},
         "default": "",
         "description": "",
         "events": null,
         "hide": false,
         "id": null,
         "kinds": [
          "_s.odf"
         ],
         "label": "bar",
         "name": "bar",
         "optional": false,
         "type": "file",
         "value": ""
        },
        {
         "choices": {},
         "default": "",
         "description": "",
         "events": null,
         "hide": true,
         "id": null,
         "kinds": null,
         "label": "output variable",
         "name": "output_var",
         "optional": true,
         "type": "text",
         "value": ""
        }
       ],
       "_view_count": null,
       "_view_module_version": "^20.10.0-alpha.0",
       "form": "IPY_MODEL_bd17363e276848d3a52cd9df6d425b19",
       "layout": "IPY_MODEL_50dfd7ffe0f04ab69621f49d9fb07700",
       "name": "foo",
       "origin": "Notebook",
       "output": "IPY_MODEL_c829600877cf4704aa1b840f99137dee",
       "output_var": ""
      }
     },
     "04a0dc570f1f417ca8f2f7933547066d": {
      "model_module": "@genepattern/nbtools",
      "model_module_version": "^20.10.0-alpha.0",
      "model_name": "UIOutputModel",
      "state": {
       "_dom_classes": [],
       "_model_module_version": "^20.10.0-alpha.0",
       "_view_count": null,
       "_view_module_version": "^20.10.0-alpha.0",
       "appendix": "IPY_MODEL_63232abb6c4548c488a584f5858822cf",
       "error": "Cannot find tool: GenePattern Cloud | urn:lsid:broad.mit.edu:cancer.software.genepattern.module.analysis:00002:2",
       "layout": "IPY_MODEL_142e66efc9fa4166b4fedd484a61f9b0",
       "name": "Cannot find tool"
      }
     },
     "086d31d7e76c40199a274002036de74f": {
      "model_module": "@jupyter-widgets/controls",
      "model_module_version": "1.5.0",
      "model_name": "ComboboxModel",
      "state": {
       "_dom_classes": [
        "nbtools-menu-attached"
       ],
       "choices": {},
       "ensure_option": false,
       "kinds": [
        "_s.odf"
       ],
       "layout": "IPY_MODEL_030d8fb27fa04650b27f462e9b95264f",
       "style": "IPY_MODEL_18d54e2a694a4bbd998ca28414f62b78"
      }
     },
     "09f4d148f89f4f08b9966755190c48be": {
      "model_module": "@jupyter-widgets/base",
      "model_module_version": "1.2.0",
      "model_name": "LayoutModel",
      "state": {}
     },
     "0abbc1000bb744f0ac1215f73a83c6d0": {
      "model_module": "@jupyter-widgets/controls",
      "model_module_version": "1.5.0",
      "model_name": "ButtonStyleModel",
      "state": {}
     },
     "0b1ea05929c24c9d89a44b1d7608cc26": {
      "model_module": "@jupyter-widgets/controls",
      "model_module_version": "1.5.0",
      "model_name": "VBoxModel",
      "state": {
       "_dom_classes": [
        "widget-interact"
       ],
       "children": [
        "IPY_MODEL_416ae67d65944a14ae070688f8cc516e",
        "IPY_MODEL_1aff97f8523848e593bcc623ef645b08"
       ],
       "layout": "IPY_MODEL_a4d447dac3c349f5aa78415731c41ffe"
      }
     },
     "0bcaa7dea35447c78dcbe6fc77e88118": {
      "model_module": "@jupyter-widgets/controls",
      "model_module_version": "1.5.0",
      "model_name": "DescriptionStyleModel",
      "state": {
       "description_width": ""
      }
     },
     "0ce8f3596cc64e7f81b726bcfc25e2e2": {
      "model_module": "@jupyter-widgets/controls",
      "model_module_version": "1.5.0",
      "model_name": "GridBoxModel",
      "state": {
       "_dom_classes": [
        "nbtools-input",
        "nbtools-comboinput",
        "required"
       ],
       "children": [
        "IPY_MODEL_6c3a916ec29344c5ae436499c81e07d0",
        "IPY_MODEL_f28817863749452ea51b475e26cafd79",
        "IPY_MODEL_c7fcfb6a0a0c4b6d996f49f6536fcaa4"
       ],
       "layout": "IPY_MODEL_e07aa716ba794c68a3804fb4aa9faf29"
      }
     },
     "1032ede1d5f147eeb23d067fdbbcb7e0": {
      "model_module": "@jupyter-widgets/controls",
      "model_module_version": "1.5.0",
      "model_name": "ButtonModel",
      "state": {
       "_dom_classes": [
        "hidden"
       ],
       "description": "Run",
       "layout": "IPY_MODEL_b4abb0cda5e74ee0b5c3028bf552168b",
       "style": "IPY_MODEL_2729840071f046c5a8eb73e31940bc88"
      }
     },
     "103bcb6467744078a913fd33b2d18b27": {
      "model_module": "@jupyter-widgets/controls",
      "model_module_version": "1.5.0",
      "model_name": "ButtonModel",
      "state": {
       "_dom_classes": [
        "hidden"
       ],
       "description": "Run",
       "layout": "IPY_MODEL_6f1407d3aaba402882c832b6c81b57a0",
       "style": "IPY_MODEL_0abbc1000bb744f0ac1215f73a83c6d0"
      }
     },
     "11476580466344bc8d9644c5c2721913": {
      "model_module": "@jupyter-widgets/controls",
      "model_module_version": "1.5.0",
      "model_name": "FileUploadModel",
      "state": {
       "accept": "._s.odf",
       "description_tooltip": null,
       "layout": "IPY_MODEL_5be82c4b9f50439a8e4dc415ce2f522b",
       "style": "IPY_MODEL_4866d5d638c54fdeaf9addf6659d66f1"
      }
     },
     "142e66efc9fa4166b4fedd484a61f9b0": {
      "model_module": "@jupyter-widgets/base",
      "model_module_version": "1.2.0",
      "model_name": "LayoutModel",
      "state": {}
     },
     "15b34b38563a4c27a6615cd57d468ff1": {
      "model_module": "@jupyter-widgets/controls",
      "model_module_version": "1.5.0",
      "model_name": "DescriptionStyleModel",
      "state": {
       "description_width": ""
      }
     },
     "17e7e3809c124da38249e1dcfb02cefc": {
      "model_module": "@jupyter-widgets/controls",
      "model_module_version": "1.5.0",
      "model_name": "ButtonStyleModel",
      "state": {}
     },
     "181221b6c3a34f088926b358127215a8": {
      "model_module": "@jupyter-widgets/base",
      "model_module_version": "1.2.0",
      "model_name": "LayoutModel",
      "state": {}
     },
     "1815afc2bf9842d9b871151075a11295": {
      "model_module": "@jupyter-widgets/controls",
      "model_module_version": "1.5.0",
      "model_name": "LabelModel",
      "state": {
       "description": "bar",
       "layout": "IPY_MODEL_8b92020954e04861bb7e9023feb20a89",
       "style": "IPY_MODEL_c07398af381e4a3093414829fe9db66a",
       "value": "bar*"
      }
     },
     "18d54e2a694a4bbd998ca28414f62b78": {
      "model_module": "@jupyter-widgets/controls",
      "model_module_version": "1.5.0",
      "model_name": "DescriptionStyleModel",
      "state": {
       "description_width": ""
      }
     },
     "1a1fdd77e3e9439b8756c997fc2221ab": {
      "model_module": "@jupyter-widgets/controls",
      "model_module_version": "1.5.0",
      "model_name": "VBoxModel",
      "state": {
       "_dom_classes": [
        "widget-interact"
       ],
       "children": [
        "IPY_MODEL_90b82675659f49f889ccfc80bc8c03d6",
        "IPY_MODEL_516d98fcd7ee46d58d35b204179539de",
        "IPY_MODEL_2ff5e69700f54357a9160b48851caf79"
       ],
       "layout": "IPY_MODEL_8303ddc35c284b1b983a444db9fd09de"
      }
     },
     "1aff97f8523848e593bcc623ef645b08": {
      "model_module": "@jupyter-widgets/output",
      "model_module_version": "1.0.0",
      "model_name": "OutputModel",
      "state": {
       "layout": "IPY_MODEL_dd6d0b5c270648b8aca4f344f9ae6371"
      }
     },
     "1b2086b1be1040e9b94055ff7fe5f0aa": {
      "model_module": "@jupyter-widgets/controls",
      "model_module_version": "1.5.0",
      "model_name": "TextModel",
      "state": {
       "_dom_classes": [
        "nbtools-menu-attached"
       ],
       "layout": "IPY_MODEL_42f6197b881f40ad9e9c47ac0a8c1445",
       "style": "IPY_MODEL_71d691902615453f8af59d14882e7b40"
      }
     },
     "1d42cf18dd3c43e5abb21b93e020770c": {
      "model_module": "@jupyter-widgets/controls",
      "model_module_version": "1.5.0",
      "model_name": "DescriptionStyleModel",
      "state": {
       "description_width": ""
      }
     },
     "211a622a82044cce886f603fb9dc2667": {
      "model_module": "@jupyter-widgets/controls",
      "model_module_version": "1.5.0",
      "model_name": "ComboboxModel",
      "state": {
       "_dom_classes": [
        "nbtools-menu-attached"
       ],
       "choices": {},
       "ensure_option": false,
       "kinds": [
        "_s.odf"
       ],
       "layout": "IPY_MODEL_386638d3388c4b2f87d3ab291f049328",
       "style": "IPY_MODEL_3895a3a19b10440ebd631df9d1c1a566"
      }
     },
     "257f77bbb7d74b0b9ccef34fb6296170": {
      "model_module": "@jupyter-widgets/controls",
      "model_module_version": "1.5.0",
      "model_name": "FileUploadModel",
      "state": {
       "accept": "._s.odf",
       "description_tooltip": null,
       "layout": "IPY_MODEL_ac9fd1653d564c4f9392d106536d860f",
       "style": "IPY_MODEL_87c69285a13741709db617cadef89edf"
      }
     },
     "2635c48389ce46f8ba0414073e8d1b34": {
      "model_module": "@jupyter-widgets/controls",
      "model_module_version": "1.5.0",
      "model_name": "LabelModel",
      "state": {
       "layout": "IPY_MODEL_9fac81e650fa4a549f0b6be284d2c9ce",
       "style": "IPY_MODEL_3ef7625d79aa495ba78c2c74c0051666"
      }
     },
     "2729840071f046c5a8eb73e31940bc88": {
      "model_module": "@jupyter-widgets/controls",
      "model_module_version": "1.5.0",
      "model_name": "ButtonStyleModel",
      "state": {}
     },
     "27517daef33b4c64b9915c99a36ad79f": {
      "model_module": "@jupyter-widgets/base",
      "model_module_version": "1.2.0",
      "model_name": "LayoutModel",
      "state": {
       "grid_area": "input",
       "width": "auto"
      }
     },
     "2aa245230f4846c1add594ff2c80d44a": {
      "model_module": "@jupyter-widgets/base",
      "model_module_version": "1.2.0",
      "model_name": "LayoutModel",
      "state": {
       "display": "none",
       "grid_template_areas": "\n                    \"label input\"\n                    \". description\"\n                ",
       "grid_template_columns": "25% 75%",
       "grid_template_rows": "auto auto",
       "width": "100%"
      }
     },
     "2c718a1670684ea88cd7f8429a7c186b": {
      "model_module": "@jupyter-widgets/controls",
      "model_module_version": "1.5.0",
      "model_name": "DescriptionStyleModel",
      "state": {
       "description_width": ""
      }
     },
     "2ca2ba3629d74428b4f88e7b2fd3dbde": {
      "model_module": "@jupyter-widgets/controls",
      "model_module_version": "1.5.0",
      "model_name": "GridBoxModel",
      "state": {
       "_dom_classes": [
        "nbtools-input",
        "nbtools-textinput",
        "required"
       ],
       "children": [
        "IPY_MODEL_6d5dfebaff974c7abe8c7e3ac98ba351",
        "IPY_MODEL_1b2086b1be1040e9b94055ff7fe5f0aa",
        "IPY_MODEL_2635c48389ce46f8ba0414073e8d1b34"
       ],
       "layout": "IPY_MODEL_9ef470d4961c494ba528d298681eb39a"
      }
     },
     "2eb303370a9b482795f8a7f24f28d076": {
      "model_module": "@jupyter-widgets/controls",
      "model_module_version": "1.5.0",
      "model_name": "DescriptionStyleModel",
      "state": {
       "description_width": ""
      }
     },
     "2ff5e69700f54357a9160b48851caf79": {
      "model_module": "@jupyter-widgets/controls",
      "model_module_version": "1.5.0",
      "model_name": "GridBoxModel",
      "state": {
       "_dom_classes": [
        "nbtools-input",
        "nbtools-textinput"
       ],
       "children": [
        "IPY_MODEL_d413ede34fa74bb3858c872a5a024e2c",
        "IPY_MODEL_cc4a6c78fcc34064ae6a9b810af93311",
        "IPY_MODEL_c0d4fff15749449e9c20c267da9c2870"
       ],
       "layout": "IPY_MODEL_54ba2e6473474052b53676f1d9b702c2"
      }
     },
     "30acb0340476418e857cdbd36a4843ce": {
      "model_module": "@jupyter-widgets/base",
      "model_module_version": "1.2.0",
      "model_name": "LayoutModel",
      "state": {}
     },
     "313d7505cc2640b39100a4a3dfc559c9": {
      "model_module": "@jupyter-widgets/controls",
      "model_module_version": "1.5.0",
      "model_name": "LabelModel",
      "state": {
       "description": "output variable",
       "layout": "IPY_MODEL_d8fae8356b7144ae9b54f77cffb6dda0",
       "style": "IPY_MODEL_34fb07671e674a8facf495ecfaad746e",
       "value": "output variable"
      }
     },
     "333b21729ab04c14b8a24c51df5c04dd": {
      "model_module": "@jupyter-widgets/base",
      "model_module_version": "1.2.0",
      "model_name": "LayoutModel",
      "state": {}
     },
     "345017a2a1a246ada5be310b9f380b6b": {
      "model_module": "@genepattern/nbtools",
      "model_module_version": "^20.10.0-alpha.0",
      "model_name": "UIOutputModel",
      "state": {
       "_dom_classes": [],
       "_model_module_version": "^20.10.0-alpha.0",
       "_view_count": null,
       "_view_module_version": "^20.10.0-alpha.0",
       "appendix": "IPY_MODEL_8198a065e9184da1802d6dd5a2c39014",
       "error": "Cannot find tool: GenePattern Cloud | urn:lsid:broad.mit.edu:cancer.software.genepattern.module.analysis:00017:4.2",
       "layout": "IPY_MODEL_38484c5f854745159875e38fbbe5284e",
       "name": "Cannot find tool"
      }
     },
     "34dd1783780f4752a5a6e61a8f9a2d5b": {
      "model_module": "@jupyter-widgets/base",
      "model_module_version": "1.2.0",
      "model_name": "LayoutModel",
      "state": {
       "grid_area": "label",
       "width": "auto"
      }
     },
     "34fb07671e674a8facf495ecfaad746e": {
      "model_module": "@jupyter-widgets/controls",
      "model_module_version": "1.5.0",
      "model_name": "DescriptionStyleModel",
      "state": {
       "description_width": ""
      }
     },
     "35ff191a28ce4cb8b499a700cbd59c6b": {
      "model_module": "@jupyter-widgets/base",
      "model_module_version": "1.2.0",
      "model_name": "LayoutModel",
      "state": {
       "grid_area": "input",
       "width": "auto"
      }
     },
     "36d1359d14e64598a7e535aca0aba05f": {
      "model_module": "@jupyter-widgets/base",
      "model_module_version": "1.2.0",
      "model_name": "LayoutModel",
      "state": {}
     },
     "3717dd76cf7f41759189b300caf5e29e": {
      "model_module": "@jupyter-widgets/base",
      "model_module_version": "1.2.0",
      "model_name": "LayoutModel",
      "state": {}
     },
     "38484c5f854745159875e38fbbe5284e": {
      "model_module": "@jupyter-widgets/base",
      "model_module_version": "1.2.0",
      "model_name": "LayoutModel",
      "state": {}
     },
     "386638d3388c4b2f87d3ab291f049328": {
      "model_module": "@jupyter-widgets/base",
      "model_module_version": "1.2.0",
      "model_name": "LayoutModel",
      "state": {}
     },
     "3895a3a19b10440ebd631df9d1c1a566": {
      "model_module": "@jupyter-widgets/controls",
      "model_module_version": "1.5.0",
      "model_name": "DescriptionStyleModel",
      "state": {
       "description_width": ""
      }
     },
     "3a06e1c902044d8199005da97fa60d08": {
      "model_module": "@jupyter-widgets/controls",
      "model_module_version": "1.5.0",
      "model_name": "DescriptionStyleModel",
      "state": {
       "description_width": ""
      }
     },
     "3a653d4780dc49778c08d03d323e37e0": {
      "model_module": "@jupyter-widgets/controls",
      "model_module_version": "1.5.0",
      "model_name": "DescriptionStyleModel",
      "state": {
       "description_width": ""
      }
     },
     "3c07d39d726248719b22bf0408f2f867": {
      "model_module": "@jupyter-widgets/base",
      "model_module_version": "1.2.0",
      "model_name": "LayoutModel",
      "state": {}
     },
     "3cf473d7a1a94e08b6ca0931f2afbb62": {
      "model_module": "@jupyter-widgets/base",
      "model_module_version": "1.2.0",
      "model_name": "LayoutModel",
      "state": {
       "grid_area": "label",
       "width": "auto"
      }
     },
     "3d1dddf614024e15a6b7eaa95b0b3086": {
      "model_module": "@jupyter-widgets/base",
      "model_module_version": "1.2.0",
      "model_name": "LayoutModel",
      "state": {
       "grid_area": "input",
       "width": "auto"
      }
     },
     "3e3c136b2bbc406796c3cc6de291a35d": {
      "model_module": "@jupyter-widgets/controls",
      "model_module_version": "1.5.0",
      "model_name": "DescriptionStyleModel",
      "state": {
       "description_width": ""
      }
     },
     "3e4d7864400648ca9aaa4cd757e4d8c1": {
      "model_module": "@jupyter-widgets/base",
      "model_module_version": "1.2.0",
      "model_name": "LayoutModel",
      "state": {}
     },
     "3ef7625d79aa495ba78c2c74c0051666": {
      "model_module": "@jupyter-widgets/controls",
      "model_module_version": "1.5.0",
      "model_name": "DescriptionStyleModel",
      "state": {
       "description_width": ""
      }
     },
     "416ae67d65944a14ae070688f8cc516e": {
      "model_module": "@jupyter-widgets/controls",
      "model_module_version": "1.5.0",
      "model_name": "ButtonModel",
      "state": {
       "_dom_classes": [
        "hidden"
       ],
       "description": "Run",
       "layout": "IPY_MODEL_8c0dce72f98744d58852bd14f21a2817",
       "style": "IPY_MODEL_5381d9a3895a40d582086f889560a4d7"
      }
     },
     "41fe9f8e982d43fdaad71d45a9f6088c": {
      "model_module": "@jupyter-widgets/base",
      "model_module_version": "1.2.0",
      "model_name": "LayoutModel",
      "state": {
       "grid_template_areas": "\n                    \"label input\"\n                    \". description\"\n                ",
       "grid_template_columns": "25% 75%",
       "grid_template_rows": "auto auto",
       "width": "100%"
      }
     },
     "42f6197b881f40ad9e9c47ac0a8c1445": {
      "model_module": "@jupyter-widgets/base",
      "model_module_version": "1.2.0",
      "model_name": "LayoutModel",
      "state": {
       "grid_area": "input",
       "width": "auto"
      }
     },
     "434a0deadf2c4a89a1aa9768a3a2b3a2": {
      "model_module": "@jupyter-widgets/controls",
      "model_module_version": "1.5.0",
      "model_name": "GridBoxModel",
      "state": {
       "_dom_classes": [
        "nbtools-input",
        "nbtools-textinput"
       ],
       "children": [
        "IPY_MODEL_313d7505cc2640b39100a4a3dfc559c9",
        "IPY_MODEL_f9b365400b3f45268682b5351129e503",
        "IPY_MODEL_8830472a4ab74300b2305cea9ecfa376"
       ],
       "layout": "IPY_MODEL_a0ce9b8b49a74b7f8aaaeba150471857"
      }
     },
     "4383b2b61d6d4470ac9669f2ff8afeef": {
      "model_module": "@jupyter-widgets/base",
      "model_module_version": "1.2.0",
      "model_name": "LayoutModel",
      "state": {}
     },
     "457bb645f04543daa66f952e3988df62": {
      "model_module": "@jupyter-widgets/base",
      "model_module_version": "1.2.0",
      "model_name": "LayoutModel",
      "state": {
       "grid_area": "description",
       "width": "auto"
      }
     },
     "4612a00eafcf4dadaa8586c5df4d8d93": {
      "model_module": "@jupyter-widgets/controls",
      "model_module_version": "1.5.0",
      "model_name": "DescriptionStyleModel",
      "state": {
       "description_width": ""
      }
     },
     "47e02f941d0245f2aae6fee046705d52": {
      "model_module": "@jupyter-widgets/base",
      "model_module_version": "1.2.0",
      "model_name": "LayoutModel",
      "state": {}
     },
     "4866d5d638c54fdeaf9addf6659d66f1": {
      "model_module": "@jupyter-widgets/controls",
      "model_module_version": "1.5.0",
      "model_name": "ButtonStyleModel",
      "state": {}
     },
     "48cb70fe4f554568a02e9127f4caff5c": {
      "model_module": "@jupyter-widgets/controls",
      "model_module_version": "1.5.0",
      "model_name": "LabelModel",
      "state": {
       "description": "output variable",
       "layout": "IPY_MODEL_3cf473d7a1a94e08b6ca0931f2afbb62",
       "style": "IPY_MODEL_4a8cbcafaa1e43f2b2f735bf100d1cea",
       "value": "output variable"
      }
     },
     "48fdc2350c1543cbb5e83ae8352313b3": {
      "model_module": "@genepattern/nbtools",
      "model_module_version": "^20.10.0-alpha.0",
      "model_name": "UIOutputModel",
      "state": {
       "_dom_classes": [],
       "_model_module_version": "^20.10.0-alpha.0",
       "_view_count": null,
       "_view_module_version": "^20.10.0-alpha.0",
       "appendix": "IPY_MODEL_aa58cf72df2f40bc8ec88acf9f3ecb13",
       "error": "Cannot find tool: GenePattern Cloud | urn:lsid:broad.mit.edu:cancer.software.genepattern.module.visualizer:00010:13.9",
       "layout": "IPY_MODEL_181221b6c3a34f088926b358127215a8",
       "name": "Cannot find tool"
      }
     },
     "4986674f27c74d0587d742cb7a24260a": {
      "model_module": "@jupyter-widgets/controls",
      "model_module_version": "1.5.0",
      "model_name": "LabelModel",
      "state": {
       "description": "bar",
       "layout": "IPY_MODEL_ce34bf1ac0834d078926555e8ea52d94",
       "style": "IPY_MODEL_bee7293421c048a9b57645ee1237c0a8",
       "value": "bar*"
      }
     },
     "4a8cbcafaa1e43f2b2f735bf100d1cea": {
      "model_module": "@jupyter-widgets/controls",
      "model_module_version": "1.5.0",
      "model_name": "DescriptionStyleModel",
      "state": {
       "description_width": ""
      }
     },
     "4aa902e181734f0496c3783c53754a15": {
      "model_module": "@jupyter-widgets/controls",
      "model_module_version": "1.5.0",
      "model_name": "GridBoxModel",
      "state": {
       "_dom_classes": [
        "nbtools-input",
        "nbtools-textinput"
       ],
       "children": [
        "IPY_MODEL_48cb70fe4f554568a02e9127f4caff5c",
        "IPY_MODEL_ce51999a5646458daee968250e9a7523",
        "IPY_MODEL_f2b81a6e29bc44cc90b23d8051c4b292"
       ],
       "layout": "IPY_MODEL_87d8687ace1a4b0f90c24a0f8456a6d4"
      }
     },
     "50dfd7ffe0f04ab69621f49d9fb07700": {
      "model_module": "@jupyter-widgets/base",
      "model_module_version": "1.2.0",
      "model_name": "LayoutModel",
      "state": {}
     },
     "516d98fcd7ee46d58d35b204179539de": {
      "model_module": "@jupyter-widgets/controls",
      "model_module_version": "1.5.0",
      "model_name": "ButtonModel",
      "state": {
       "_dom_classes": [
        "hidden"
       ],
       "description": "Run",
       "layout": "IPY_MODEL_b67dcfda9657449baa5e2ee73db0ef8a",
       "style": "IPY_MODEL_8b0d54ac9dcb4f27afa50ffdaaa12539"
      }
     },
     "537d0cc7c1f94b2b885ed30f10802e91": {
      "model_module": "@jupyter-widgets/controls",
      "model_module_version": "1.5.0",
      "model_name": "LabelModel",
      "state": {
       "layout": "IPY_MODEL_eb5bd58fe30c4281bdbda0e0be66b807",
       "style": "IPY_MODEL_2c718a1670684ea88cd7f8429a7c186b"
      }
     },
     "5381d9a3895a40d582086f889560a4d7": {
      "model_module": "@jupyter-widgets/controls",
      "model_module_version": "1.5.0",
      "model_name": "ButtonStyleModel",
      "state": {}
     },
     "54377d58ffc94c8cb6bed4a418ef73d6": {
      "model_module": "@jupyter-widgets/base",
      "model_module_version": "1.2.0",
      "model_name": "LayoutModel",
      "state": {}
     },
     "54ba2e6473474052b53676f1d9b702c2": {
      "model_module": "@jupyter-widgets/base",
      "model_module_version": "1.2.0",
      "model_name": "LayoutModel",
      "state": {
       "display": "none",
       "grid_template_areas": "\n                    \"label input\"\n                    \". description\"\n                ",
       "grid_template_columns": "25% 75%",
       "grid_template_rows": "auto auto",
       "width": "100%"
      }
     },
     "55a93c7896f54a15bbb456dc57c62653": {
      "model_module": "@jupyter-widgets/base",
      "model_module_version": "1.2.0",
      "model_name": "LayoutModel",
      "state": {
       "grid_area": "label",
       "width": "auto"
      }
     },
     "56dae343f21441eca4e3817a26ca3ed7": {
      "model_module": "@jupyter-widgets/base",
      "model_module_version": "1.2.0",
      "model_name": "LayoutModel",
      "state": {}
     },
     "595109f69f3644a58874f6ce536ca5ad": {
      "model_module": "@jupyter-widgets/output",
      "model_module_version": "1.0.0",
      "model_name": "OutputModel",
      "state": {
       "layout": "IPY_MODEL_47e02f941d0245f2aae6fee046705d52"
      }
     },
     "5be82c4b9f50439a8e4dc415ce2f522b": {
      "model_module": "@jupyter-widgets/base",
      "model_module_version": "1.2.0",
      "model_name": "LayoutModel",
      "state": {}
     },
     "5cd2683e9db6434080a6b20d39838334": {
      "model_module": "@jupyter-widgets/controls",
      "model_module_version": "1.5.0",
      "model_name": "DescriptionStyleModel",
      "state": {
       "description_width": ""
      }
     },
     "5cf91c0f05ee4bbfa6c4b49ab15a1020": {
      "model_module": "@jupyter-widgets/base",
      "model_module_version": "1.2.0",
      "model_name": "LayoutModel",
      "state": {
       "grid_area": "label",
       "width": "auto"
      }
     },
     "606c14fa15c2499e8ee77b5f8026f902": {
      "model_module": "@jupyter-widgets/controls",
      "model_module_version": "1.5.0",
      "model_name": "ButtonStyleModel",
      "state": {}
     },
     "61eee120eb7f4a80a8b8f32f28fbeb72": {
      "model_module": "@jupyter-widgets/base",
      "model_module_version": "1.2.0",
      "model_name": "LayoutModel",
      "state": {
       "grid_area": "label",
       "width": "auto"
      }
     },
     "62a56e2782a54e17b995af4657658511": {
      "model_module": "@jupyter-widgets/controls",
      "model_module_version": "1.5.0",
      "model_name": "LabelModel",
      "state": {
       "layout": "IPY_MODEL_65bee0edfa514612bba9bcd69c96f546",
       "style": "IPY_MODEL_3a653d4780dc49778c08d03d323e37e0"
      }
     },
     "63232abb6c4548c488a584f5858822cf": {
      "model_module": "@jupyter-widgets/controls",
      "model_module_version": "1.5.0",
      "model_name": "VBoxModel",
      "state": {
       "layout": "IPY_MODEL_9e090d94a5e349d78d25171b32f3fdc2"
      }
     },
     "63c695be864f4a548020787e2573a7b2": {
      "model_module": "@jupyter-widgets/controls",
      "model_module_version": "1.5.0",
      "model_name": "LabelModel",
      "state": {
       "layout": "IPY_MODEL_9af9f7b6fb1041daa7c202312a539dc1",
       "style": "IPY_MODEL_3a06e1c902044d8199005da97fa60d08"
      }
     },
     "65bee0edfa514612bba9bcd69c96f546": {
      "model_module": "@jupyter-widgets/base",
      "model_module_version": "1.2.0",
      "model_name": "LayoutModel",
      "state": {
       "grid_area": "description",
       "width": "auto"
      }
     },
     "69f4180a2e2643fdbb37865cc5c6aadc": {
      "model_module": "@jupyter-widgets/output",
      "model_module_version": "1.0.0",
      "model_name": "OutputModel",
      "state": {
       "layout": "IPY_MODEL_09f4d148f89f4f08b9966755190c48be"
      }
     },
     "6c3a916ec29344c5ae436499c81e07d0": {
      "model_module": "@jupyter-widgets/controls",
      "model_module_version": "1.5.0",
      "model_name": "LabelModel",
      "state": {
       "description": "GenePattern Server",
       "layout": "IPY_MODEL_5cf91c0f05ee4bbfa6c4b49ab15a1020",
       "style": "IPY_MODEL_e07e6ff4896643c88a7282ff2484d7e1",
       "value": "GenePattern Server*"
      }
     },
     "6cbc61e80b0243fdaf8a71e962e535b6": {
      "model_module": "@jupyter-widgets/controls",
      "model_module_version": "1.5.0",
      "model_name": "GridBoxModel",
      "state": {
       "_dom_classes": [
        "nbtools-input",
        "nbtools-textinput"
       ],
       "children": [
        "IPY_MODEL_c508f3c307b24ea3a8d91d11c4bf73d4",
        "IPY_MODEL_bcd3674c20ea4d3d8d24b998acfbfe95",
        "IPY_MODEL_63c695be864f4a548020787e2573a7b2"
       ],
       "layout": "IPY_MODEL_e6b5fbc6838c44b28ada7f61f9100b4d"
      }
     },
     "6d5dfebaff974c7abe8c7e3ac98ba351": {
      "model_module": "@jupyter-widgets/controls",
      "model_module_version": "1.5.0",
      "model_name": "LabelModel",
      "state": {
       "description": "Username",
       "layout": "IPY_MODEL_b97f53fda4c04ebb8322b94b56845388",
       "style": "IPY_MODEL_8a6a0308da7a42498685952e166f5ba3",
       "value": "Username*"
      }
     },
     "6ddd95e0905344c5bb383ecf5819e06d": {
      "model_module": "@jupyter-widgets/base",
      "model_module_version": "1.2.0",
      "model_name": "LayoutModel",
      "state": {
       "grid_area": "description",
       "width": "auto"
      }
     },
     "6ea1a7e423f948969f65cafa5177f910": {
      "model_module": "@jupyter-widgets/base",
      "model_module_version": "1.2.0",
      "model_name": "LayoutModel",
      "state": {}
     },
     "6eaad9132e1f46ce884273a2b8adda85": {
      "model_module": "@jupyter-widgets/base",
      "model_module_version": "1.2.0",
      "model_name": "LayoutModel",
      "state": {}
     },
     "6f1407d3aaba402882c832b6c81b57a0": {
      "model_module": "@jupyter-widgets/base",
      "model_module_version": "1.2.0",
      "model_name": "LayoutModel",
      "state": {}
     },
     "71d691902615453f8af59d14882e7b40": {
      "model_module": "@jupyter-widgets/controls",
      "model_module_version": "1.5.0",
      "model_name": "DescriptionStyleModel",
      "state": {
       "description_width": ""
      }
     },
     "724d99e6d9c7470983fb039b51d500ba": {
      "model_module": "@jupyter-widgets/base",
      "model_module_version": "1.2.0",
      "model_name": "LayoutModel",
      "state": {}
     },
     "726fde46dc83476aa968b2047d16ed5d": {
      "model_module": "@jupyter-widgets/controls",
      "model_module_version": "1.5.0",
      "model_name": "VBoxModel",
      "state": {
       "_dom_classes": [
        "widget-interact"
       ],
       "children": [
        "IPY_MODEL_1032ede1d5f147eeb23d067fdbbcb7e0",
        "IPY_MODEL_595109f69f3644a58874f6ce536ca5ad"
       ],
       "layout": "IPY_MODEL_f8b189cb801f495f8d7f80848a29cb69"
      }
     },
     "72d938f977e74ff5bf634e6fda1bc679": {
      "model_module": "@jupyter-widgets/base",
      "model_module_version": "1.2.0",
      "model_name": "LayoutModel",
      "state": {
       "grid_area": "input",
       "width": "auto"
      }
     },
     "777a85f6a12d4f26ac566ce46a73c724": {
      "model_module": "@jupyter-widgets/controls",
      "model_module_version": "1.5.0",
      "model_name": "DescriptionStyleModel",
      "state": {
       "description_width": ""
      }
     },
     "793cbc2f4d884c64ace2f8b5180dd1d6": {
      "model_module": "@jupyter-widgets/base",
      "model_module_version": "1.2.0",
      "model_name": "LayoutModel",
      "state": {
       "display": "none",
       "grid_template_areas": "\n                    \"label input\"\n                    \". description\"\n                ",
       "grid_template_columns": "25% 75%",
       "grid_template_rows": "auto auto",
       "width": "100%"
      }
     },
     "8198a065e9184da1802d6dd5a2c39014": {
      "model_module": "@jupyter-widgets/controls",
      "model_module_version": "1.5.0",
      "model_name": "VBoxModel",
      "state": {
       "layout": "IPY_MODEL_6eaad9132e1f46ce884273a2b8adda85"
      }
     },
     "8303ddc35c284b1b983a444db9fd09de": {
      "model_module": "@jupyter-widgets/base",
      "model_module_version": "1.2.0",
      "model_name": "LayoutModel",
      "state": {}
     },
     "867f4e17985b4b05bcbb74d5bbdedcc2": {
      "model_module": "@jupyter-widgets/output",
      "model_module_version": "1.0.0",
      "model_name": "OutputModel",
      "state": {
       "layout": "IPY_MODEL_b8ca1468e33349e496bc421591aad366"
      }
     },
     "8746022b376b4f8a8edf27680fe8915f": {
      "model_module": "@jupyter-widgets/base",
      "model_module_version": "1.2.0",
      "model_name": "LayoutModel",
      "state": {
       "grid_area": "input",
       "width": "auto"
      }
     },
     "87c69285a13741709db617cadef89edf": {
      "model_module": "@jupyter-widgets/controls",
      "model_module_version": "1.5.0",
      "model_name": "ButtonStyleModel",
      "state": {}
     },
     "87d8687ace1a4b0f90c24a0f8456a6d4": {
      "model_module": "@jupyter-widgets/base",
      "model_module_version": "1.2.0",
      "model_name": "LayoutModel",
      "state": {
       "display": "none",
       "grid_template_areas": "\n                    \"label input\"\n                    \". description\"\n                ",
       "grid_template_columns": "25% 75%",
       "grid_template_rows": "auto auto",
       "width": "100%"
      }
     },
     "880e2d39694d4978ba6c303c87840ade": {
      "model_module": "@jupyter-widgets/controls",
      "model_module_version": "1.5.0",
      "model_name": "VBoxModel",
      "state": {
       "children": [
        "IPY_MODEL_086d31d7e76c40199a274002036de74f"
       ],
       "layout": "IPY_MODEL_0399a87a84b04533bfa8c8a3a1a8b9ba"
      }
     },
     "881bbdc324264284807d600405847d32": {
      "model_module": "@jupyter-widgets/controls",
      "model_module_version": "1.5.0",
      "model_name": "LabelModel",
      "state": {
       "layout": "IPY_MODEL_457bb645f04543daa66f952e3988df62",
       "style": "IPY_MODEL_0bcaa7dea35447c78dcbe6fc77e88118"
      }
     },
     "8830472a4ab74300b2305cea9ecfa376": {
      "model_module": "@jupyter-widgets/controls",
      "model_module_version": "1.5.0",
      "model_name": "LabelModel",
      "state": {
       "layout": "IPY_MODEL_a5670b391019460cb2c3095ebd729dc8",
       "style": "IPY_MODEL_e4ffb0844a044a329b6e87fe904cd0d5"
      }
     },
     "8a6a0308da7a42498685952e166f5ba3": {
      "model_module": "@jupyter-widgets/controls",
      "model_module_version": "1.5.0",
      "model_name": "DescriptionStyleModel",
      "state": {
       "description_width": ""
      }
     },
     "8ab34bc8e04d4cbeb2edf0d81b27dce7": {
      "model_module": "@jupyter-widgets/output",
      "model_module_version": "1.0.0",
      "model_name": "OutputModel",
      "state": {
       "layout": "IPY_MODEL_01941473f57c4df2aaf0708ed98e0c78"
      }
     },
     "8b0d54ac9dcb4f27afa50ffdaaa12539": {
      "model_module": "@jupyter-widgets/controls",
      "model_module_version": "1.5.0",
      "model_name": "ButtonStyleModel",
      "state": {}
     },
     "8b92020954e04861bb7e9023feb20a89": {
      "model_module": "@jupyter-widgets/base",
      "model_module_version": "1.2.0",
      "model_name": "LayoutModel",
      "state": {
       "grid_area": "label",
       "width": "auto"
      }
     },
     "8c0dce72f98744d58852bd14f21a2817": {
      "model_module": "@jupyter-widgets/base",
      "model_module_version": "1.2.0",
      "model_name": "LayoutModel",
      "state": {}
     },
     "8f4b707e510d4e83815a33a1e9ea44f9": {
      "model_module": "@jupyter-widgets/controls",
      "model_module_version": "1.5.0",
      "model_name": "HBoxModel",
      "state": {
       "children": [
        "IPY_MODEL_257f77bbb7d74b0b9ccef34fb6296170",
        "IPY_MODEL_880e2d39694d4978ba6c303c87840ade"
       ],
       "layout": "IPY_MODEL_f211989c99974a0a8052c6b5f92db1c0"
      }
     },
     "8fbcc21d74da4ef2a1a9209a12539dfd": {
      "model_module": "@jupyter-widgets/base",
      "model_module_version": "1.2.0",
      "model_name": "LayoutModel",
      "state": {
       "grid_area": "description",
       "width": "auto"
      }
     },
     "90b82675659f49f889ccfc80bc8c03d6": {
      "model_module": "@jupyter-widgets/controls",
      "model_module_version": "1.5.0",
      "model_name": "GridBoxModel",
      "state": {
       "_dom_classes": [
        "nbtools-input",
        "nbtools-fileinput",
        "required"
       ],
       "children": [
        "IPY_MODEL_4986674f27c74d0587d742cb7a24260a",
        "IPY_MODEL_8f4b707e510d4e83815a33a1e9ea44f9",
        "IPY_MODEL_537d0cc7c1f94b2b885ed30f10802e91"
       ],
       "layout": "IPY_MODEL_b68ea96ded8c494d94e2f85fbcfcd75f"
      }
     },
     "918bb242d79a4aa08e10c32bd96cf815": {
      "model_module": "@jupyter-widgets/controls",
      "model_module_version": "1.5.0",
      "model_name": "PasswordModel",
      "state": {
       "layout": "IPY_MODEL_27517daef33b4c64b9915c99a36ad79f",
       "style": "IPY_MODEL_2eb303370a9b482795f8a7f24f28d076"
      }
     },
     "92fc363c576b490ea68adbb930765c77": {
      "model_module": "@genepattern/nbtools",
      "model_module_version": "^20.10.0-alpha.0",
      "model_name": "UIBuilderModel",
      "state": {
       "_dom_classes": [],
       "_model_module_version": "^20.10.0-alpha.0",
       "_parameters": [
        {
         "choices": {},
         "default": "",
         "description": "",
         "events": null,
         "hide": false,
         "id": null,
         "kinds": [
          "_s.odf"
         ],
         "label": "bar",
         "name": "bar",
         "optional": false,
         "type": "file",
         "value": ""
        },
        {
         "choices": {},
         "default": "",
         "description": "",
         "events": null,
         "hide": true,
         "id": null,
         "kinds": null,
         "label": "output variable",
         "name": "output_var",
         "optional": true,
         "type": "text",
         "value": ""
        }
       ],
       "_view_count": null,
       "_view_module_version": "^20.10.0-alpha.0",
       "form": "IPY_MODEL_1a1fdd77e3e9439b8756c997fc2221ab",
       "layout": "IPY_MODEL_54377d58ffc94c8cb6bed4a418ef73d6",
       "name": "moose",
       "origin": "Notebook",
       "output": "IPY_MODEL_e4cb403678b545a8bc7254689a1bbd7a",
       "output_var": ""
      }
     },
     "935d9b1901364cc78ad243efb12c4fd1": {
      "model_module": "@jupyter-widgets/controls",
      "model_module_version": "1.5.0",
      "model_name": "LabelModel",
      "state": {
       "layout": "IPY_MODEL_8fbcc21d74da4ef2a1a9209a12539dfd",
       "style": "IPY_MODEL_ac90807684fd4240bdfa6af31df5e149"
      }
     },
     "9460d2604f2948c0a4f31c7d644bb0d6": {
      "model_module": "@jupyter-widgets/base",
      "model_module_version": "1.2.0",
      "model_name": "LayoutModel",
      "state": {
       "grid_area": "input",
       "width": "auto"
      }
     },
     "94df6cc94f8f4db8b5bec5796915ffe2": {
      "model_module": "@jupyter-widgets/controls",
      "model_module_version": "1.5.0",
      "model_name": "DescriptionStyleModel",
      "state": {
       "description_width": ""
      }
     },
     "972d2c2401fa448b81fdc8d3b5187515": {
      "model_module": "@jupyter-widgets/controls",
      "model_module_version": "1.5.0",
      "model_name": "DescriptionStyleModel",
      "state": {
       "description_width": ""
      }
     },
     "9a37deed595142c289277bc8f31ddf23": {
      "model_module": "@jupyter-widgets/controls",
      "model_module_version": "1.5.0",
      "model_name": "DescriptionStyleModel",
      "state": {
       "description_width": ""
      }
     },
     "9af9f7b6fb1041daa7c202312a539dc1": {
      "model_module": "@jupyter-widgets/base",
      "model_module_version": "1.2.0",
      "model_name": "LayoutModel",
      "state": {
       "grid_area": "description",
       "width": "auto"
      }
     },
     "9e090d94a5e349d78d25171b32f3fdc2": {
      "model_module": "@jupyter-widgets/base",
      "model_module_version": "1.2.0",
      "model_name": "LayoutModel",
      "state": {}
     },
     "9ef470d4961c494ba528d298681eb39a": {
      "model_module": "@jupyter-widgets/base",
      "model_module_version": "1.2.0",
      "model_name": "LayoutModel",
      "state": {
       "grid_template_areas": "\n                    \"label input\"\n                    \". description\"\n                ",
       "grid_template_columns": "25% 75%",
       "grid_template_rows": "auto auto",
       "width": "100%"
      }
     },
     "9fac81e650fa4a549f0b6be284d2c9ce": {
      "model_module": "@jupyter-widgets/base",
      "model_module_version": "1.2.0",
      "model_name": "LayoutModel",
      "state": {
       "grid_area": "description",
       "width": "auto"
      }
     },
     "a0ce9b8b49a74b7f8aaaeba150471857": {
      "model_module": "@jupyter-widgets/base",
      "model_module_version": "1.2.0",
      "model_name": "LayoutModel",
      "state": {
       "display": "none",
       "grid_template_areas": "\n                    \"label input\"\n                    \". description\"\n                ",
       "grid_template_columns": "25% 75%",
       "grid_template_rows": "auto auto",
       "width": "100%"
      }
     },
     "a4d447dac3c349f5aa78415731c41ffe": {
      "model_module": "@jupyter-widgets/base",
      "model_module_version": "1.2.0",
      "model_name": "LayoutModel",
      "state": {}
     },
     "a5670b391019460cb2c3095ebd729dc8": {
      "model_module": "@jupyter-widgets/base",
      "model_module_version": "1.2.0",
      "model_name": "LayoutModel",
      "state": {
       "grid_area": "description",
       "width": "auto"
      }
     },
     "aa58cf72df2f40bc8ec88acf9f3ecb13": {
      "model_module": "@jupyter-widgets/controls",
      "model_module_version": "1.5.0",
      "model_name": "VBoxModel",
      "state": {
       "layout": "IPY_MODEL_c094dde191614184aeea4759656bcdb3"
      }
     },
     "ac90807684fd4240bdfa6af31df5e149": {
      "model_module": "@jupyter-widgets/controls",
      "model_module_version": "1.5.0",
      "model_name": "DescriptionStyleModel",
      "state": {
       "description_width": ""
      }
     },
     "ac9fd1653d564c4f9392d106536d860f": {
      "model_module": "@jupyter-widgets/base",
      "model_module_version": "1.2.0",
      "model_name": "LayoutModel",
      "state": {}
     },
     "afc7bd78bdac4e0e85688f23a486f599": {
      "model_module": "@jupyter-widgets/controls",
      "model_module_version": "1.5.0",
      "model_name": "VBoxModel",
      "state": {
       "_dom_classes": [
        "widget-interact"
       ],
       "children": [
        "IPY_MODEL_b7d1151679e3403d8d058f8d66b0ef58",
        "IPY_MODEL_69f4180a2e2643fdbb37865cc5c6aadc"
       ],
       "layout": "IPY_MODEL_e6f21f9bfc2f42d9bb8ed164ea158726"
      }
     },
     "b081bdc603934bd5ba9348aeb790ed53": {
      "model_module": "@jupyter-widgets/controls",
      "model_module_version": "1.5.0",
      "model_name": "DescriptionStyleModel",
      "state": {
       "description_width": ""
      }
     },
     "b1a9c010b9d04321abdbe7be44f582ad": {
      "model_module": "@jupyter-widgets/controls",
      "model_module_version": "1.5.0",
      "model_name": "TextModel",
      "state": {
       "_dom_classes": [
        "nbtools-menu-attached"
       ],
       "layout": "IPY_MODEL_8746022b376b4f8a8edf27680fe8915f",
       "style": "IPY_MODEL_777a85f6a12d4f26ac566ce46a73c724"
      }
     },
     "b1ff06f12b304bc58cda2d42506c0e4c": {
      "model_module": "@jupyter-widgets/base",
      "model_module_version": "1.2.0",
      "model_name": "LayoutModel",
      "state": {
       "grid_area": "label",
       "width": "auto"
      }
     },
     "b32f608c91674bcc82f089b8de884932": {
      "model_module": "@jupyter-widgets/controls",
      "model_module_version": "1.5.0",
      "model_name": "VBoxModel",
      "state": {
       "_dom_classes": [
        "widget-interact"
       ],
       "children": [
        "IPY_MODEL_0ce8f3596cc64e7f81b726bcfc25e2e2",
        "IPY_MODEL_2ca2ba3629d74428b4f88e7b2fd3dbde",
        "IPY_MODEL_cb03e965bb8e46749470188f30d3ea2f",
        "IPY_MODEL_103bcb6467744078a913fd33b2d18b27",
        "IPY_MODEL_434a0deadf2c4a89a1aa9768a3a2b3a2"
       ],
       "layout": "IPY_MODEL_d3cabab8190c4d0394a895eabf6bb56d"
      }
     },
     "b3a4121f4f3b4922aa860e74e0caee37": {
      "model_module": "@jupyter-widgets/base",
      "model_module_version": "1.2.0",
      "model_name": "LayoutModel",
      "state": {
       "grid_area": "input",
       "width": "auto"
      }
     },
     "b48689e43cfd4c70bb947155dcb82fc1": {
      "model_module": "@jupyter-widgets/controls",
      "model_module_version": "1.5.0",
      "model_name": "DescriptionStyleModel",
      "state": {
       "description_width": ""
      }
     },
     "b4abb0cda5e74ee0b5c3028bf552168b": {
      "model_module": "@jupyter-widgets/base",
      "model_module_version": "1.2.0",
      "model_name": "LayoutModel",
      "state": {}
     },
     "b58eee7927724f7abffb554edeee5bb8": {
      "model_module": "@jupyter-widgets/base",
      "model_module_version": "1.2.0",
      "model_name": "LayoutModel",
      "state": {
       "grid_area": "description",
       "width": "auto"
      }
     },
     "b67dcfda9657449baa5e2ee73db0ef8a": {
      "model_module": "@jupyter-widgets/base",
      "model_module_version": "1.2.0",
      "model_name": "LayoutModel",
      "state": {}
     },
     "b68ea96ded8c494d94e2f85fbcfcd75f": {
      "model_module": "@jupyter-widgets/base",
      "model_module_version": "1.2.0",
      "model_name": "LayoutModel",
      "state": {
       "grid_template_areas": "\n                    \"label input\"\n                    \". description\"\n                ",
       "grid_template_columns": "25% 75%",
       "grid_template_rows": "auto auto",
       "width": "100%"
      }
     },
     "b7d1151679e3403d8d058f8d66b0ef58": {
      "model_module": "@jupyter-widgets/controls",
      "model_module_version": "1.5.0",
      "model_name": "ButtonModel",
      "state": {
       "_dom_classes": [
        "hidden"
       ],
       "description": "Run",
       "layout": "IPY_MODEL_6ea1a7e423f948969f65cafa5177f910",
       "style": "IPY_MODEL_17e7e3809c124da38249e1dcfb02cefc"
      }
     },
     "b8ca1468e33349e496bc421591aad366": {
      "model_module": "@jupyter-widgets/base",
      "model_module_version": "1.2.0",
      "model_name": "LayoutModel",
      "state": {}
     },
     "b93cb283508d4cee88d8181f4e17a624": {
      "model_module": "@jupyter-widgets/controls",
      "model_module_version": "1.5.0",
      "model_name": "GridBoxModel",
      "state": {
       "_dom_classes": [
        "nbtools-input",
        "nbtools-fileinput",
        "required"
       ],
       "children": [
        "IPY_MODEL_1815afc2bf9842d9b871151075a11295",
        "IPY_MODEL_ddb4c044f056436a88ed43388a619abe",
        "IPY_MODEL_62a56e2782a54e17b995af4657658511"
       ],
       "layout": "IPY_MODEL_41fe9f8e982d43fdaad71d45a9f6088c"
      }
     },
     "b97f53fda4c04ebb8322b94b56845388": {
      "model_module": "@jupyter-widgets/base",
      "model_module_version": "1.2.0",
      "model_name": "LayoutModel",
      "state": {
       "grid_area": "label",
       "width": "auto"
      }
     },
     "bb28c283e1bd4268ad0be274742faff7": {
      "model_module": "@genepattern/nbtools",
      "model_module_version": "^20.10.0-alpha.0",
      "model_name": "UIBuilderModel",
      "state": {
       "_dom_classes": [],
       "_model_module_version": "^20.10.0-alpha.0",
       "_parameters": [
        {
         "choices": {
          "Broad Internal": "https://gpbroad.broadinstitute.org/gp",
          "GenePattern Cloud": "https://cloud.genepattern.org/gp",
          "Indiana University": "https://gp.indiana.edu/gp"
         },
         "combo": true,
         "default": "https://cloud.genepattern.org/gp",
         "description": "",
         "events": null,
         "hide": false,
         "id": null,
         "kinds": null,
         "label": "GenePattern Server",
         "name": "server",
         "optional": false,
         "sendto": false,
         "type": "choice",
         "value": ""
        },
        {
         "choices": {},
         "default": "",
         "description": "",
         "events": null,
         "hide": false,
         "id": null,
         "kinds": null,
         "label": "Username",
         "name": "username",
         "optional": false,
         "sendto": false,
         "type": "text",
         "value": ""
        },
        {
         "choices": {},
         "default": "",
         "description": "",
         "events": null,
         "hide": false,
         "id": null,
         "kinds": null,
         "label": "Password",
         "name": "password",
         "optional": false,
         "sendto": false,
         "type": "password",
         "value": ""
        },
        {
         "choices": {},
         "default": "",
         "description": "",
         "events": null,
         "hide": true,
         "id": null,
         "kinds": null,
         "label": "output variable",
         "name": "output_var",
         "optional": true,
         "type": "text",
         "value": ""
        }
       ],
       "_view_count": null,
       "_view_module_version": "^20.10.0-alpha.0",
       "buttons": {
        "Register an Account": "\n    const target = event.target;\n    const widget = target.closest('.nbtools') || target;\n    const server_input = widget.querySelector('input[type=text]');\n    if (server_input) window.open(server_input.value + '/pages/registerUser.jsf');\n    else console.warn('Cannot obtain GenePattern Server URL');"
       },
       "collapse": false,
       "color": "rgba(10, 45, 105, 0.80)",
       "description": "Login to the GenePattern server",
       "display_header": false,
       "form": "IPY_MODEL_b32f608c91674bcc82f089b8de884932",
       "layout": "IPY_MODEL_724d99e6d9c7470983fb039b51d500ba",
       "name": "Login",
       "origin": "genepattern.authwidget",
       "output": "IPY_MODEL_8ab34bc8e04d4cbeb2edf0d81b27dce7",
       "output_var": "",
       "run_label": "Log into GenePattern"
      }
     },
     "bcd3674c20ea4d3d8d24b998acfbfe95": {
      "model_module": "@jupyter-widgets/controls",
      "model_module_version": "1.5.0",
      "model_name": "TextModel",
      "state": {
       "_dom_classes": [
        "nbtools-menu-attached"
       ],
       "layout": "IPY_MODEL_c38095c6c1504affa6c9500f9c021b38",
       "style": "IPY_MODEL_4612a00eafcf4dadaa8586c5df4d8d93"
      }
     },
     "bd17363e276848d3a52cd9df6d425b19": {
      "model_module": "@jupyter-widgets/controls",
      "model_module_version": "1.5.0",
      "model_name": "VBoxModel",
      "state": {
       "_dom_classes": [
        "widget-interact"
       ],
       "children": [
        "IPY_MODEL_b93cb283508d4cee88d8181f4e17a624",
        "IPY_MODEL_d5dfd8df8dfa4030af8b39606153ca1f",
        "IPY_MODEL_6cbc61e80b0243fdaf8a71e962e535b6"
       ],
       "layout": "IPY_MODEL_4383b2b61d6d4470ac9669f2ff8afeef"
      }
     },
     "be8db99e1ede43398f131cad5e04084e": {
      "model_module": "@jupyter-widgets/base",
      "model_module_version": "1.2.0",
      "model_name": "LayoutModel",
      "state": {}
     },
     "bee7293421c048a9b57645ee1237c0a8": {
      "model_module": "@jupyter-widgets/controls",
      "model_module_version": "1.5.0",
      "model_name": "DescriptionStyleModel",
      "state": {
       "description_width": ""
      }
     },
     "c0637fe931794fd2afb33801c4fa4b76": {
      "model_module": "@jupyter-widgets/output",
      "model_module_version": "1.0.0",
      "model_name": "OutputModel",
      "state": {
       "layout": "IPY_MODEL_be8db99e1ede43398f131cad5e04084e"
      }
     },
     "c07398af381e4a3093414829fe9db66a": {
      "model_module": "@jupyter-widgets/controls",
      "model_module_version": "1.5.0",
      "model_name": "DescriptionStyleModel",
      "state": {
       "description_width": ""
      }
     },
     "c094dde191614184aeea4759656bcdb3": {
      "model_module": "@jupyter-widgets/base",
      "model_module_version": "1.2.0",
      "model_name": "LayoutModel",
      "state": {}
     },
     "c0d4fff15749449e9c20c267da9c2870": {
      "model_module": "@jupyter-widgets/controls",
      "model_module_version": "1.5.0",
      "model_name": "LabelModel",
      "state": {
       "layout": "IPY_MODEL_6ddd95e0905344c5bb383ecf5819e06d",
       "style": "IPY_MODEL_e5c3a43e4b9a451b8e58b970e7026b0b"
      }
     },
     "c33ccdfcc2874cb59688d82003d45039": {
      "model_module": "@jupyter-widgets/output",
      "model_module_version": "1.0.0",
      "model_name": "OutputModel",
      "state": {
       "layout": "IPY_MODEL_56dae343f21441eca4e3817a26ca3ed7",
       "outputs": [
        {
         "data": {},
         "metadata": {},
         "output_type": "display_data"
        }
       ]
      }
     },
     "c38095c6c1504affa6c9500f9c021b38": {
      "model_module": "@jupyter-widgets/base",
      "model_module_version": "1.2.0",
      "model_name": "LayoutModel",
      "state": {
       "grid_area": "input",
       "width": "auto"
      }
     },
     "c4ddec3fe99c42478469ec6fab0c5c3b": {
      "model_module": "@jupyter-widgets/output",
      "model_module_version": "1.0.0",
      "model_name": "OutputModel",
      "state": {
       "layout": "IPY_MODEL_d1daa2165b3246a5bd71884bee0b2b82",
       "outputs": [
        {
         "data": {},
         "metadata": {},
         "output_type": "display_data"
        }
       ]
      }
     },
     "c508f3c307b24ea3a8d91d11c4bf73d4": {
      "model_module": "@jupyter-widgets/controls",
      "model_module_version": "1.5.0",
      "model_name": "LabelModel",
      "state": {
       "description": "output variable",
       "layout": "IPY_MODEL_ea458d298c4f4a95a4d2ab9601252597",
       "style": "IPY_MODEL_9a37deed595142c289277bc8f31ddf23",
       "value": "output variable"
      }
     },
     "c7890e6bd52b4ae7bcfaf7ee1d6a8ff4": {
      "model_module": "@jupyter-widgets/controls",
      "model_module_version": "1.5.0",
      "model_name": "GridBoxModel",
      "state": {
       "_dom_classes": [
        "nbtools-input",
        "nbtools-textinput"
       ],
       "children": [
        "IPY_MODEL_d4059127fbfd4870975e142f449713f5",
        "IPY_MODEL_d8162b6eabd94b5c83525d787d1065bb",
        "IPY_MODEL_935d9b1901364cc78ad243efb12c4fd1"
       ],
       "layout": "IPY_MODEL_793cbc2f4d884c64ace2f8b5180dd1d6"
      }
     },
     "c7fcfb6a0a0c4b6d996f49f6536fcaa4": {
      "model_module": "@jupyter-widgets/controls",
      "model_module_version": "1.5.0",
      "model_name": "LabelModel",
      "state": {
       "layout": "IPY_MODEL_03df0c2c98944980bf1d429a4af6b5f2",
       "style": "IPY_MODEL_15b34b38563a4c27a6615cd57d468ff1"
      }
     },
     "c829600877cf4704aa1b840f99137dee": {
      "model_module": "@jupyter-widgets/output",
      "model_module_version": "1.0.0",
      "model_name": "OutputModel",
      "state": {
       "layout": "IPY_MODEL_3c07d39d726248719b22bf0408f2f867"
      }
     },
     "cb03e965bb8e46749470188f30d3ea2f": {
      "model_module": "@jupyter-widgets/controls",
      "model_module_version": "1.5.0",
      "model_name": "GridBoxModel",
      "state": {
       "_dom_classes": [
        "nbtools-input",
        "nbtools-passwordinput",
        "required"
       ],
       "children": [
        "IPY_MODEL_d6dac2dfd8cf4292be2c80b717de4e80",
        "IPY_MODEL_918bb242d79a4aa08e10c32bd96cf815",
        "IPY_MODEL_881bbdc324264284807d600405847d32"
       ],
       "layout": "IPY_MODEL_e465576bc79f4095b04525f6f5c2655d"
      }
     },
     "cb2b4ff4c236428db7a64a311cdd848a": {
      "model_module": "@jupyter-widgets/controls",
      "model_module_version": "1.5.0",
      "model_name": "VBoxModel",
      "state": {
       "children": [
        "IPY_MODEL_211a622a82044cce886f603fb9dc2667"
       ],
       "layout": "IPY_MODEL_36d1359d14e64598a7e535aca0aba05f"
      }
     },
     "cc4a6c78fcc34064ae6a9b810af93311": {
      "model_module": "@jupyter-widgets/controls",
      "model_module_version": "1.5.0",
      "model_name": "TextModel",
      "state": {
       "_dom_classes": [
        "nbtools-menu-attached"
       ],
       "layout": "IPY_MODEL_b3a4121f4f3b4922aa860e74e0caee37",
       "style": "IPY_MODEL_b48689e43cfd4c70bb947155dcb82fc1"
      }
     },
     "ce34bf1ac0834d078926555e8ea52d94": {
      "model_module": "@jupyter-widgets/base",
      "model_module_version": "1.2.0",
      "model_name": "LayoutModel",
      "state": {
       "grid_area": "label",
       "width": "auto"
      }
     },
     "ce51999a5646458daee968250e9a7523": {
      "model_module": "@jupyter-widgets/controls",
      "model_module_version": "1.5.0",
      "model_name": "TextModel",
      "state": {
       "_dom_classes": [
        "nbtools-menu-attached"
       ],
       "layout": "IPY_MODEL_f0c935ccd45848a388096c026665fe19",
       "style": "IPY_MODEL_5cd2683e9db6434080a6b20d39838334"
      }
     },
     "d1daa2165b3246a5bd71884bee0b2b82": {
      "model_module": "@jupyter-widgets/base",
      "model_module_version": "1.2.0",
      "model_name": "LayoutModel",
      "state": {}
     },
     "d3cabab8190c4d0394a895eabf6bb56d": {
      "model_module": "@jupyter-widgets/base",
      "model_module_version": "1.2.0",
      "model_name": "LayoutModel",
      "state": {}
     },
     "d4059127fbfd4870975e142f449713f5": {
      "model_module": "@jupyter-widgets/controls",
      "model_module_version": "1.5.0",
      "model_name": "LabelModel",
      "state": {
       "description": "output variable",
       "layout": "IPY_MODEL_55a93c7896f54a15bbb456dc57c62653",
       "style": "IPY_MODEL_ebbd688db93e46369ea53e22f2854339",
       "value": "output variable"
      }
     },
     "d413ede34fa74bb3858c872a5a024e2c": {
      "model_module": "@jupyter-widgets/controls",
      "model_module_version": "1.5.0",
      "model_name": "LabelModel",
      "state": {
       "description": "output variable",
       "layout": "IPY_MODEL_34dd1783780f4752a5a6e61a8f9a2d5b",
       "style": "IPY_MODEL_fcd78a0f0e2644e08295912f06d2d19e",
       "value": "output variable"
      }
     },
     "d5dfd8df8dfa4030af8b39606153ca1f": {
      "model_module": "@jupyter-widgets/controls",
      "model_module_version": "1.5.0",
      "model_name": "ButtonModel",
      "state": {
       "_dom_classes": [
        "hidden"
       ],
       "description": "Run",
       "layout": "IPY_MODEL_30acb0340476418e857cdbd36a4843ce",
       "style": "IPY_MODEL_606c14fa15c2499e8ee77b5f8026f902"
      }
     },
     "d6dac2dfd8cf4292be2c80b717de4e80": {
      "model_module": "@jupyter-widgets/controls",
      "model_module_version": "1.5.0",
      "model_name": "LabelModel",
      "state": {
       "description": "Password",
       "layout": "IPY_MODEL_b1ff06f12b304bc58cda2d42506c0e4c",
       "style": "IPY_MODEL_972d2c2401fa448b81fdc8d3b5187515",
       "value": "Password*"
      }
     },
     "d8162b6eabd94b5c83525d787d1065bb": {
      "model_module": "@jupyter-widgets/controls",
      "model_module_version": "1.5.0",
      "model_name": "TextModel",
      "state": {
       "_dom_classes": [
        "nbtools-menu-attached"
       ],
       "layout": "IPY_MODEL_9460d2604f2948c0a4f31c7d644bb0d6",
       "style": "IPY_MODEL_b081bdc603934bd5ba9348aeb790ed53"
      }
     },
     "d8fae8356b7144ae9b54f77cffb6dda0": {
      "model_module": "@jupyter-widgets/base",
      "model_module_version": "1.2.0",
      "model_name": "LayoutModel",
      "state": {
       "grid_area": "label",
       "width": "auto"
      }
     },
     "db101415014c4dc9907ec2a553c9ecc0": {
      "model_module": "@jupyter-widgets/output",
      "model_module_version": "1.0.0",
      "model_name": "OutputModel",
      "state": {
       "layout": "IPY_MODEL_3717dd76cf7f41759189b300caf5e29e"
      }
     },
     "dd6d0b5c270648b8aca4f344f9ae6371": {
      "model_module": "@jupyter-widgets/base",
      "model_module_version": "1.2.0",
      "model_name": "LayoutModel",
      "state": {}
     },
     "ddb4c044f056436a88ed43388a619abe": {
      "model_module": "@jupyter-widgets/controls",
      "model_module_version": "1.5.0",
      "model_name": "HBoxModel",
      "state": {
       "children": [
        "IPY_MODEL_11476580466344bc8d9644c5c2721913",
        "IPY_MODEL_cb2b4ff4c236428db7a64a311cdd848a"
       ],
       "layout": "IPY_MODEL_3d1dddf614024e15a6b7eaa95b0b3086"
      }
     },
     "de08ab0c64ce444baea6c331d88739f0": {
      "model_module": "@jupyter-widgets/output",
      "model_module_version": "1.0.0",
      "model_name": "OutputModel",
      "state": {
       "layout": "IPY_MODEL_3e4d7864400648ca9aaa4cd757e4d8c1",
       "outputs": [
        {
         "data": {},
         "metadata": {},
         "output_type": "display_data"
        }
       ]
      }
     },
     "e07aa716ba794c68a3804fb4aa9faf29": {
      "model_module": "@jupyter-widgets/base",
      "model_module_version": "1.2.0",
      "model_name": "LayoutModel",
      "state": {
       "grid_template_areas": "\n                    \"label input\"\n                    \". description\"\n                ",
       "grid_template_columns": "25% 75%",
       "grid_template_rows": "auto auto",
       "width": "100%"
      }
     },
     "e07e6ff4896643c88a7282ff2484d7e1": {
      "model_module": "@jupyter-widgets/controls",
      "model_module_version": "1.5.0",
      "model_name": "DescriptionStyleModel",
      "state": {
       "description_width": ""
      }
     },
     "e4314758ac78451ea7bab25c32bcebad": {
      "model_module": "@jupyter-widgets/controls",
      "model_module_version": "1.5.0",
      "model_name": "DescriptionStyleModel",
      "state": {
       "description_width": ""
      }
     },
     "e465576bc79f4095b04525f6f5c2655d": {
      "model_module": "@jupyter-widgets/base",
      "model_module_version": "1.2.0",
      "model_name": "LayoutModel",
      "state": {
       "grid_template_areas": "\n                    \"label input\"\n                    \". description\"\n                ",
       "grid_template_columns": "25% 75%",
       "grid_template_rows": "auto auto",
       "width": "100%"
      }
     },
     "e4cb403678b545a8bc7254689a1bbd7a": {
      "model_module": "@jupyter-widgets/output",
      "model_module_version": "1.0.0",
      "model_name": "OutputModel",
      "state": {
       "layout": "IPY_MODEL_333b21729ab04c14b8a24c51df5c04dd"
      }
     },
     "e4ffb0844a044a329b6e87fe904cd0d5": {
      "model_module": "@jupyter-widgets/controls",
      "model_module_version": "1.5.0",
      "model_name": "DescriptionStyleModel",
      "state": {
       "description_width": ""
      }
     },
     "e5c3a43e4b9a451b8e58b970e7026b0b": {
      "model_module": "@jupyter-widgets/controls",
      "model_module_version": "1.5.0",
      "model_name": "DescriptionStyleModel",
      "state": {
       "description_width": ""
      }
     },
     "e6b5fbc6838c44b28ada7f61f9100b4d": {
      "model_module": "@jupyter-widgets/base",
      "model_module_version": "1.2.0",
      "model_name": "LayoutModel",
      "state": {
       "display": "none",
       "grid_template_areas": "\n                    \"label input\"\n                    \". description\"\n                ",
       "grid_template_columns": "25% 75%",
       "grid_template_rows": "auto auto",
       "width": "100%"
      }
     },
     "e6f21f9bfc2f42d9bb8ed164ea158726": {
      "model_module": "@jupyter-widgets/base",
      "model_module_version": "1.2.0",
      "model_name": "LayoutModel",
      "state": {}
     },
     "ea458d298c4f4a95a4d2ab9601252597": {
      "model_module": "@jupyter-widgets/base",
      "model_module_version": "1.2.0",
      "model_name": "LayoutModel",
      "state": {
       "grid_area": "label",
       "width": "auto"
      }
     },
     "eb5bd58fe30c4281bdbda0e0be66b807": {
      "model_module": "@jupyter-widgets/base",
      "model_module_version": "1.2.0",
      "model_name": "LayoutModel",
      "state": {
       "grid_area": "description",
       "width": "auto"
      }
     },
     "ebbd688db93e46369ea53e22f2854339": {
      "model_module": "@jupyter-widgets/controls",
      "model_module_version": "1.5.0",
      "model_name": "DescriptionStyleModel",
      "state": {
       "description_width": ""
      }
     },
     "ec28d8648f7b4827a62cf0144d5d83a0": {
      "model_module": "@jupyter-widgets/controls",
      "model_module_version": "1.5.0",
      "model_name": "LabelModel",
      "state": {
       "description": "output variable",
       "layout": "IPY_MODEL_61eee120eb7f4a80a8b8f32f28fbeb72",
       "style": "IPY_MODEL_3e3c136b2bbc406796c3cc6de291a35d",
       "value": "output variable"
      }
     },
     "f0c935ccd45848a388096c026665fe19": {
      "model_module": "@jupyter-widgets/base",
      "model_module_version": "1.2.0",
      "model_name": "LayoutModel",
      "state": {
       "grid_area": "input",
       "width": "auto"
      }
     },
     "f211989c99974a0a8052c6b5f92db1c0": {
      "model_module": "@jupyter-widgets/base",
      "model_module_version": "1.2.0",
      "model_name": "LayoutModel",
      "state": {
       "grid_area": "input",
       "width": "auto"
      }
     },
     "f28817863749452ea51b475e26cafd79": {
      "model_module": "@jupyter-widgets/controls",
      "model_module_version": "1.5.0",
      "model_name": "ComboboxModel",
      "state": {
       "_dom_classes": [
        "nbtools-menu-attached",
        "nbtools-nosendto"
       ],
       "choices": {
        "Broad Internal": "https://gpbroad.broadinstitute.org/gp",
        "GenePattern Cloud": "https://cloud.genepattern.org/gp",
        "Indiana University": "https://gp.indiana.edu/gp"
       },
       "ensure_option": false,
       "kinds": [],
       "layout": "IPY_MODEL_35ff191a28ce4cb8b499a700cbd59c6b",
       "style": "IPY_MODEL_e4314758ac78451ea7bab25c32bcebad",
       "value": "https://cloud.genepattern.org/gp"
      }
     },
     "f2b81a6e29bc44cc90b23d8051c4b292": {
      "model_module": "@jupyter-widgets/controls",
      "model_module_version": "1.5.0",
      "model_name": "LabelModel",
      "state": {
       "layout": "IPY_MODEL_fa35ef3f95ce48928f8a8bd2cb4b25ce",
       "style": "IPY_MODEL_94df6cc94f8f4db8b5bec5796915ffe2"
      }
     },
     "f3edace56164450d92f76d7b10d90226": {
      "model_module": "@jupyter-widgets/controls",
      "model_module_version": "1.5.0",
      "model_name": "GridBoxModel",
      "state": {
       "_dom_classes": [
        "nbtools-input",
        "nbtools-textinput"
       ],
       "children": [
        "IPY_MODEL_ec28d8648f7b4827a62cf0144d5d83a0",
        "IPY_MODEL_b1a9c010b9d04321abdbe7be44f582ad",
        "IPY_MODEL_00458e951a1842c3ba055a9d4a87ad44"
       ],
       "layout": "IPY_MODEL_2aa245230f4846c1add594ff2c80d44a"
      }
     },
     "f8b189cb801f495f8d7f80848a29cb69": {
      "model_module": "@jupyter-widgets/base",
      "model_module_version": "1.2.0",
      "model_name": "LayoutModel",
      "state": {}
     },
     "f9b365400b3f45268682b5351129e503": {
      "model_module": "@jupyter-widgets/controls",
      "model_module_version": "1.5.0",
      "model_name": "TextModel",
      "state": {
       "_dom_classes": [
        "nbtools-menu-attached"
       ],
       "layout": "IPY_MODEL_72d938f977e74ff5bf634e6fda1bc679",
       "style": "IPY_MODEL_031b908294034b97bda348515cb6d0a3"
      }
     },
     "fa35ef3f95ce48928f8a8bd2cb4b25ce": {
      "model_module": "@jupyter-widgets/base",
      "model_module_version": "1.2.0",
      "model_name": "LayoutModel",
      "state": {
       "grid_area": "description",
       "width": "auto"
      }
     },
     "fcd78a0f0e2644e08295912f06d2d19e": {
      "model_module": "@jupyter-widgets/controls",
      "model_module_version": "1.5.0",
      "model_name": "DescriptionStyleModel",
      "state": {
       "description_width": ""
      }
     }
    },
    "version_major": 2,
    "version_minor": 0
   }
  }
 },
 "nbformat": 4,
 "nbformat_minor": 4
}
