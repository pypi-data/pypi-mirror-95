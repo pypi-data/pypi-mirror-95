{
 "cells": [
  {
   "cell_type": "markdown",
   "metadata": {},
   "source": [
    "# Login"
   ]
  },
  {
   "cell_type": "code",
   "execution_count": 2,
   "metadata": {},
   "outputs": [
    {
     "data": {
      "application/vnd.jupyter.widget-view+json": {
       "model_id": "",
       "version_major": 2,
       "version_minor": 0
      },
      "text/plain": [
       "GPAuthWidget(buttons={'Register an Account': \"\\n    const target = event.target;\\n    const widget = target.cl…"
      ]
     },
     "metadata": {},
     "output_type": "display_data"
    },
    {
     "data": {
      "application/vnd.jupyter.widget-view+json": {
       "model_id": "91d0e4f6bcc14b5b95b5453cbb97b490",
       "version_major": 2,
       "version_minor": 0
      },
      "text/plain": [
       "Output()"
      ]
     },
     "metadata": {},
     "output_type": "display_data"
    }
   ],
   "source": [
    "import nbtools\n",
    "\n",
    "login = nbtools.tool(id='authentication', origin='+')\n",
    "login"
   ]
  },
  {
   "cell_type": "markdown",
   "metadata": {},
   "source": [
    "# Run Modules"
   ]
  },
  {
   "cell_type": "code",
   "execution_count": 3,
   "metadata": {},
   "outputs": [
    {
     "data": {
      "application/vnd.jupyter.widget-view+json": {
       "model_id": "",
       "version_major": 2,
       "version_minor": 0
      },
      "text/plain": [
       "UIOutput(appendix=VBox(), error='Cannot find tool: GenePattern Cloud | urn:lsid:broad.mit.edu:cancer.software.…"
      ]
     },
     "metadata": {},
     "output_type": "display_data"
    },
    {
     "data": {
      "application/vnd.jupyter.widget-view+json": {
       "model_id": "c77b79f47f3947d281e56a120fd26878",
       "version_major": 2,
       "version_minor": 0
      },
      "text/plain": [
       "Output(outputs=({'output_type': 'display_data', 'data': {}, 'metadata': {}},))"
      ]
     },
     "metadata": {},
     "output_type": "display_data"
    }
   ],
   "source": [
    "nbtools.tool(id='urn:lsid:broad.mit.edu:cancer.software.genepattern.module.analysis:00002:2', origin='GenePattern Cloud')"
   ]
  },
  {
   "cell_type": "code",
   "execution_count": 4,
   "metadata": {},
   "outputs": [
    {
     "data": {
      "application/vnd.jupyter.widget-view+json": {
       "model_id": "",
       "version_major": 2,
       "version_minor": 0
      },
      "text/plain": [
       "UIOutput(appendix=VBox(), error='Cannot find tool: GenePattern Cloud | urn:lsid:broad.mit.edu:cancer.software.…"
      ]
     },
     "metadata": {},
     "output_type": "display_data"
    },
    {
     "data": {
      "application/vnd.jupyter.widget-view+json": {
       "model_id": "6bd098e748294847b833b9d26d826444",
       "version_major": 2,
       "version_minor": 0
      },
      "text/plain": [
       "Output(outputs=({'output_type': 'display_data', 'data': {}, 'metadata': {}},))"
      ]
     },
     "metadata": {},
     "output_type": "display_data"
    }
   ],
   "source": [
    "nbtools.tool(id='urn:lsid:broad.mit.edu:cancer.software.genepattern.module.visualizer:00010:13.9', origin='GenePattern Cloud')"
   ]
  },
  {
   "cell_type": "code",
   "execution_count": 11,
   "metadata": {},
   "outputs": [
    {
     "data": {
      "application/vnd.jupyter.widget-view+json": {
       "model_id": "1c2e5ebcb1344a059e331e4f0fbee5d7",
       "version_major": 2,
       "version_minor": 0
      },
      "text/plain": [
       "UIBuilder(collapse=True, form=InteractiveForm(children=(TextFormInput(value='', children=(Label(value='bar*', …"
      ]
     },
     "metadata": {},
     "output_type": "display_data"
    },
    {
     "data": {
      "application/vnd.jupyter.widget-view+json": {
       "model_id": "f8dba24d4686432d94a35feaa15c58f7",
       "version_major": 2,
       "version_minor": 0
      },
      "text/plain": [
       "Output()"
      ]
     },
     "metadata": {},
     "output_type": "display_data"
    }
   ],
   "source": [
    "import nbtools\n",
    "\n",
    "@nbtools.build_ui(logo='https://notebook.genepattern.org/hub/logo')\n",
    "def foo(bar):\n",
    "    pass"
   ]
  },
  {
   "cell_type": "code",
   "execution_count": null,
   "metadata": {},
   "outputs": [],
   "source": []
  }
 ],
 "metadata": {
  "kernelspec": {
   "display_name": "Python 3",
   "language": "python",
   "name": "python3"
  },
  "language_info": {
   "codemirror_mode": {
    "name": "ipython",
    "version": 3
   },
   "file_extension": ".py",
   "mimetype": "text/x-python",
   "name": "python",
   "nbconvert_exporter": "python",
   "pygments_lexer": "ipython3",
   "version": "3.7.6"
  },
  "widgets": {
   "application/vnd.jupyter.widget-state+json": {
    "state": {
     "001b9bb03c3b40ee8c1eec2bab1bb9fa": {
      "model_module": "@jupyter-widgets/controls",
      "model_module_version": "1.5.0",
      "model_name": "TextModel",
      "state": {
       "_dom_classes": [
        "nbtools-menu-attached"
       ],
       "layout": "IPY_MODEL_a769b6c3f2c7449085c7486a3fad8f14",
       "style": "IPY_MODEL_c0d6841da6cc4cf1926cbbc344173f14"
      }
     },
     "00a1c46803d94c6f873981aae2b79aaf": {
      "model_module": "@jupyter-widgets/base",
      "model_module_version": "1.2.0",
      "model_name": "LayoutModel",
      "state": {
       "grid_area": "input",
       "width": "auto"
      }
     },
     "01989b3c0a054b2eba6a026640dfe93a": {
      "model_module": "@jupyter-widgets/controls",
      "model_module_version": "1.5.0",
      "model_name": "GridBoxModel",
      "state": {
       "_dom_classes": [
        "nbtools-input",
        "nbtools-passwordinput",
        "required"
       ],
       "children": [
        "IPY_MODEL_e30ddecc60bf4f989ae921c0586de36c",
        "IPY_MODEL_b1f2873792c646b094d29aa619124c40",
        "IPY_MODEL_ac8343e6bd5f4174a57e046427199b07"
       ],
       "layout": "IPY_MODEL_3dde86f0893d4223bfde4c68a5c88ee5"
      }
     },
     "01f2b75acdfd40ae87076312620120d6": {
      "model_module": "@jupyter-widgets/controls",
      "model_module_version": "1.5.0",
      "model_name": "DescriptionStyleModel",
      "state": {
       "description_width": ""
      }
     },
     "0222ae0a48c143fa9019dce06aae76ca": {
      "model_module": "@jupyter-widgets/controls",
      "model_module_version": "1.5.0",
      "model_name": "LabelModel",
      "state": {
       "description": "output variable",
       "layout": "IPY_MODEL_1a9e2533295749d39f8bfdd20ed99282",
       "style": "IPY_MODEL_f02159a3c9354974a04b7a4be1cd9d1f",
       "value": "output variable"
      }
     },
     "025b6141a5304f39a0c1f53290cddefd": {
      "model_module": "@jupyter-widgets/controls",
      "model_module_version": "1.5.0",
      "model_name": "VBoxModel",
      "state": {
       "_dom_classes": [
        "widget-interact"
       ],
       "children": [
        "IPY_MODEL_c5827c5c561a4fecbe929c73770417cc",
        "IPY_MODEL_78cc5c5ed3854330b08ab111332853e9"
       ],
       "layout": "IPY_MODEL_3636c1989fce48ff9cee382731091aca"
      }
     },
     "04bb275b4fc54e5ea53f47f3a6d27009": {
      "model_module": "@jupyter-widgets/base",
      "model_module_version": "1.2.0",
      "model_name": "LayoutModel",
      "state": {
       "display": "none",
       "grid_template_areas": "\n                    \"label input\"\n                    \". description\"\n                ",
       "grid_template_columns": "25% 75%",
       "grid_template_rows": "auto auto",
       "width": "100%"
      }
     },
     "04e5d292303a4ca6bcfe1eb5ac107cbc": {
      "model_module": "@jupyter-widgets/controls",
      "model_module_version": "1.5.0",
      "model_name": "DescriptionStyleModel",
      "state": {
       "description_width": ""
      }
     },
     "04fde7e600bc4c68aba82156aff784f7": {
      "model_module": "@jupyter-widgets/controls",
      "model_module_version": "1.5.0",
      "model_name": "DescriptionStyleModel",
      "state": {
       "description_width": ""
      }
     },
     "056ceb356ed54fe2b113098455a8d1a6": {
      "model_module": "@jupyter-widgets/base",
      "model_module_version": "1.2.0",
      "model_name": "LayoutModel",
      "state": {}
     },
     "05d2c8fd51254f839b36239c014d2255": {
      "model_module": "@genepattern/nbtools",
      "model_module_version": "^20.10.0-alpha.0",
      "model_name": "UIOutputModel",
      "state": {
       "_dom_classes": [],
       "_model_module_version": "^20.10.0-alpha.0",
       "_view_count": null,
       "_view_module_version": "^20.10.0-alpha.0",
       "appendix": "IPY_MODEL_c2b0f43c27614223a71738d990141e7e",
       "color": "rgba(10, 45, 105, 0.80)",
       "description": "Submitted by tabor on 2020-12-11T20:04:03+00:00",
       "extra_file_menu_items": {
        "Send to Code": {
         "action": "cell",
         "code": "import genepattern\n\nfile_305405 = genepattern.session.get(\"https://cloud.genepattern.org/gp\").get_job(305405).get_file(\"{{file_name}}\")\nfile_305405"
        },
        "Send to Dataframe": {
         "action": "cell",
         "code": "import genepattern\nfrom gp.data import GCT as gct, ODF as odf\n\nfile_305405 = {{type}}(genepattern.session.get(\"https://cloud.genepattern.org/gp\").get_job(305405).get_file(\"{{file_name}}\"))\nfile_305405",
         "kinds": [
          "gct",
          "odf"
         ]
        }
       },
       "extra_menu_items": {
        "Detach Job": {
         "action": "cell",
         "code": "import gp\n\ngenepattern.display(gp.GPJob(genepattern.session.get(0), 305405))"
        },
        "Share Job": {
         "action": "method",
         "code": "toggle_job_sharing"
        }
       },
       "files": [
        "https://cloud.genepattern.org/gp/jobResults/305405/a.cvt.txt",
        "https://cloud.genepattern.org/gp/jobResults/305405/gp_execution_log.txt"
       ],
       "layout": "IPY_MODEL_9b4b19496107458ea5dc0acc10e32db4",
       "logo": "https://notebook.genepattern.org/hub/logo",
       "name": "305405",
       "status": "Completed"
      }
     },
     "05dd31c8a1cc492d95a888b69d52c899": {
      "model_module": "@jupyter-widgets/base",
      "model_module_version": "1.2.0",
      "model_name": "LayoutModel",
      "state": {}
     },
     "088472fcfe9b4c3fbbf07bdd6c100775": {
      "model_module": "@jupyter-widgets/controls",
      "model_module_version": "1.5.0",
      "model_name": "ButtonStyleModel",
      "state": {}
     },
     "09ad7e73e13b460196435b37ec2c880b": {
      "model_module": "@jupyter-widgets/base",
      "model_module_version": "1.2.0",
      "model_name": "LayoutModel",
      "state": {
       "grid_area": "input",
       "width": "auto"
      }
     },
     "09b9c3738d754eeab8e774f1658fbf2d": {
      "model_module": "@jupyter-widgets/base",
      "model_module_version": "1.2.0",
      "model_name": "LayoutModel",
      "state": {
       "grid_area": "description",
       "width": "auto"
      }
     },
     "0a57f41c14494c07a0e397c070701162": {
      "model_module": "@jupyter-widgets/controls",
      "model_module_version": "1.5.0",
      "model_name": "DescriptionStyleModel",
      "state": {
       "description_width": ""
      }
     },
     "0add85a6442e4e24b65cf38d05302c9c": {
      "model_module": "@jupyter-widgets/controls",
      "model_module_version": "1.5.0",
      "model_name": "VBoxModel",
      "state": {
       "_dom_classes": [
        "widget-interact"
       ],
       "children": [
        "IPY_MODEL_d6648461e1e8414eb2a6c25a083f06ad",
        "IPY_MODEL_de54d396f2674304b742a89069a2d124"
       ],
       "layout": "IPY_MODEL_de0624aeac4040359a2c0588d36d1560"
      }
     },
     "0b3e7331d3d8402091b5cb98874593ef": {
      "model_module": "@jupyter-widgets/controls",
      "model_module_version": "1.5.0",
      "model_name": "ButtonStyleModel",
      "state": {}
     },
     "0b4730db588c4144bd2d604dc2d18bc4": {
      "model_module": "@genepattern/nbtools",
      "model_module_version": "^20.10.0-alpha.0",
      "model_name": "UIBuilderModel",
      "state": {
       "_dom_classes": [],
       "_model_module_version": "^20.10.0-alpha.0",
       "_parameters": [
        {
         "choices": {},
         "default": "",
         "description": "",
         "events": null,
         "hide": false,
         "id": null,
         "kinds": null,
         "label": "bar",
         "name": "bar",
         "optional": false,
         "type": "text",
         "value": ""
        },
        {
         "choices": {},
         "default": "",
         "description": "",
         "events": null,
         "hide": true,
         "id": null,
         "kinds": null,
         "label": "output variable",
         "name": "output_var",
         "optional": true,
         "type": "text",
         "value": ""
        }
       ],
       "_view_count": null,
       "_view_module_version": "^20.10.0-alpha.0",
       "form": "IPY_MODEL_5653dd0635314cababdc2c7c7e4c3eb3",
       "layout": "IPY_MODEL_a9ebe103f6394b63996faf45f81b610f",
       "logo": "https://notebook.genepattern.org/hub/logo",
       "name": "foo",
       "origin": "Notebook",
       "output": "IPY_MODEL_25c95b264fc24d579b033226f3c51207",
       "output_var": ""
      }
     },
     "0cd5e3550c66498699030ab793846e4f": {
      "model_module": "@jupyter-widgets/controls",
      "model_module_version": "1.5.0",
      "model_name": "TextModel",
      "state": {
       "_dom_classes": [
        "nbtools-menu-attached"
       ],
       "layout": "IPY_MODEL_53ef2ff70ae14d46a71c6e8d4ca0f380",
       "style": "IPY_MODEL_5a786fb019414bc2aaef5b060cac0f54"
      }
     },
     "0d4253829cc54df08df79525ec3c5124": {
      "model_module": "@jupyter-widgets/base",
      "model_module_version": "1.2.0",
      "model_name": "LayoutModel",
      "state": {}
     },
     "0df0bfbbeba2412b85ed65936e4da7c7": {
      "model_module": "@jupyter-widgets/controls",
      "model_module_version": "1.5.0",
      "model_name": "ButtonStyleModel",
      "state": {}
     },
     "0e2f63c6366e40c1bbfca84b9ff63079": {
      "model_module": "@jupyter-widgets/base",
      "model_module_version": "1.2.0",
      "model_name": "LayoutModel",
      "state": {
       "grid_area": "label",
       "width": "auto"
      }
     },
     "10cbec757b664fec9608155fa5c819fd": {
      "model_module": "@jupyter-widgets/controls",
      "model_module_version": "1.5.0",
      "model_name": "DescriptionStyleModel",
      "state": {
       "description_width": ""
      }
     },
     "12333a33c2e848f5a6d87079e4768516": {
      "model_module": "@jupyter-widgets/output",
      "model_module_version": "1.0.0",
      "model_name": "OutputModel",
      "state": {
       "layout": "IPY_MODEL_152e9822d1e9450caebc4361e2378d1f"
      }
     },
     "13032f4b4cc04790addfd59370ea5308": {
      "model_module": "@jupyter-widgets/base",
      "model_module_version": "1.2.0",
      "model_name": "LayoutModel",
      "state": {}
     },
     "152e9822d1e9450caebc4361e2378d1f": {
      "model_module": "@jupyter-widgets/base",
      "model_module_version": "1.2.0",
      "model_name": "LayoutModel",
      "state": {}
     },
     "162e60a4be964bccaac6142bb49bd19b": {
      "model_module": "@jupyter-widgets/base",
      "model_module_version": "1.2.0",
      "model_name": "LayoutModel",
      "state": {
       "grid_area": "description",
       "width": "auto"
      }
     },
     "16746d650d364d9394c74dcbb36c467c": {
      "model_module": "@jupyter-widgets/controls",
      "model_module_version": "1.5.0",
      "model_name": "GridBoxModel",
      "state": {
       "_dom_classes": [
        "nbtools-input",
        "nbtools-textinput"
       ],
       "children": [
        "IPY_MODEL_850467a31d8b4641ba863a0722a78953",
        "IPY_MODEL_bf5a764de5e24c4687c0a4c49c2dbd0e",
        "IPY_MODEL_3f335c20130546048616271b3d4e389c"
       ],
       "layout": "IPY_MODEL_b883fbcdae994e2a83c6b0454a2ad593"
      }
     },
     "17ccd08d929a43c99c058d5bdaf8353d": {
      "model_module": "@jupyter-widgets/controls",
      "model_module_version": "1.5.0",
      "model_name": "GridBoxModel",
      "state": {
       "_dom_classes": [
        "nbtools-input",
        "nbtools-textinput"
       ],
       "children": [
        "IPY_MODEL_da856457462340a2a358d0d51e6e83b9",
        "IPY_MODEL_27a006770be54e168293eaeb0e5a748e",
        "IPY_MODEL_b86d26f1ada348239c313dc9ee568111"
       ],
       "layout": "IPY_MODEL_1dce159ef84d4613a836339974e07156"
      }
     },
     "183ce0ec4fbc4809aa6a13f3fdb572e3": {
      "model_module": "@jupyter-widgets/base",
      "model_module_version": "1.2.0",
      "model_name": "LayoutModel",
      "state": {
       "grid_template_areas": "\n                    \"label input\"\n                    \". description\"\n                ",
       "grid_template_columns": "25% 75%",
       "grid_template_rows": "auto auto",
       "width": "100%"
      }
     },
     "18c1fcfd247d4debb3f708fe839de800": {
      "model_module": "@jupyter-widgets/base",
      "model_module_version": "1.2.0",
      "model_name": "LayoutModel",
      "state": {}
     },
     "19857e1ba7844e318b1d14c230f57c75": {
      "model_module": "@jupyter-widgets/controls",
      "model_module_version": "1.5.0",
      "model_name": "VBoxModel",
      "state": {
       "layout": "IPY_MODEL_f53f93112b094cc2a72c9e020ac24e94"
      }
     },
     "198bc1de209a4acab067c6f4a074eb54": {
      "model_module": "@jupyter-widgets/base",
      "model_module_version": "1.2.0",
      "model_name": "LayoutModel",
      "state": {
       "grid_template_areas": "\n                    \"label input\"\n                    \". description\"\n                ",
       "grid_template_columns": "25% 75%",
       "grid_template_rows": "auto auto",
       "width": "100%"
      }
     },
     "1a17e33a67334e5882a9a62a367babfb": {
      "model_module": "@jupyter-widgets/base",
      "model_module_version": "1.2.0",
      "model_name": "LayoutModel",
      "state": {}
     },
     "1a84046295de4e5d8cd938bb791bb24e": {
      "model_module": "@jupyter-widgets/controls",
      "model_module_version": "1.5.0",
      "model_name": "DescriptionStyleModel",
      "state": {
       "description_width": ""
      }
     },
     "1a9e2533295749d39f8bfdd20ed99282": {
      "model_module": "@jupyter-widgets/base",
      "model_module_version": "1.2.0",
      "model_name": "LayoutModel",
      "state": {
       "grid_area": "label",
       "width": "auto"
      }
     },
     "1bed0ae483244d1fb4dec68da1e8b0be": {
      "model_module": "@jupyter-widgets/controls",
      "model_module_version": "1.5.0",
      "model_name": "TextModel",
      "state": {
       "_dom_classes": [
        "nbtools-menu-attached"
       ],
       "layout": "IPY_MODEL_42a8117dc1454e399812c8062b4f43ff",
       "style": "IPY_MODEL_04fde7e600bc4c68aba82156aff784f7"
      }
     },
     "1c179725297d4e1b8719fcb44749c800": {
      "model_module": "@jupyter-widgets/base",
      "model_module_version": "1.2.0",
      "model_name": "LayoutModel",
      "state": {}
     },
     "1c2e5ebcb1344a059e331e4f0fbee5d7": {
      "model_module": "@genepattern/nbtools",
      "model_module_version": "^20.10.0-alpha.0",
      "model_name": "UIBuilderModel",
      "state": {
       "_dom_classes": [],
       "_model_module_version": "^20.10.0-alpha.0",
       "_parameters": [
        {
         "choices": {},
         "default": "",
         "description": "",
         "events": null,
         "hide": false,
         "id": null,
         "kinds": null,
         "label": "bar",
         "name": "bar",
         "optional": false,
         "type": "text",
         "value": ""
        },
        {
         "choices": {},
         "default": "",
         "description": "",
         "events": null,
         "hide": true,
         "id": null,
         "kinds": null,
         "label": "output variable",
         "name": "output_var",
         "optional": true,
         "type": "text",
         "value": ""
        }
       ],
       "_view_count": null,
       "_view_module_version": "^20.10.0-alpha.0",
       "form": "IPY_MODEL_e1a391d4abfa4f7e8e082490c52f3405",
       "layout": "IPY_MODEL_e3f6a08a92804acc9e15f5e250910ef6",
       "logo": "https://notebook.genepattern.org/hub/logo",
       "name": "foo",
       "origin": "Notebook",
       "output": "IPY_MODEL_f8dba24d4686432d94a35feaa15c58f7",
       "output_var": ""
      }
     },
     "1d2990bc2de34f888301075b58905d2c": {
      "model_module": "@jupyter-widgets/controls",
      "model_module_version": "1.5.0",
      "model_name": "ButtonModel",
      "state": {
       "_dom_classes": [
        "hidden"
       ],
       "description": "Run",
       "layout": "IPY_MODEL_6a90132574404805935962d33e0a8550",
       "style": "IPY_MODEL_ae39558e0d1042ceb5a171dad634333a"
      }
     },
     "1dce159ef84d4613a836339974e07156": {
      "model_module": "@jupyter-widgets/base",
      "model_module_version": "1.2.0",
      "model_name": "LayoutModel",
      "state": {
       "display": "none",
       "grid_template_areas": "\n                    \"label input\"\n                    \". description\"\n                ",
       "grid_template_columns": "25% 75%",
       "grid_template_rows": "auto auto",
       "width": "100%"
      }
     },
     "1e4ba45691734768a7070eec330bf964": {
      "model_module": "@jupyter-widgets/controls",
      "model_module_version": "1.5.0",
      "model_name": "LabelModel",
      "state": {
       "layout": "IPY_MODEL_fa55f0bd6b394f97a40a03f01923b138",
       "style": "IPY_MODEL_04e5d292303a4ca6bcfe1eb5ac107cbc"
      }
     },
     "204dd3eddd404c0a88746d651119ca60": {
      "model_module": "@genepattern/nbtools",
      "model_module_version": "^20.10.0-alpha.0",
      "model_name": "UIBuilderModel",
      "state": {
       "_dom_classes": [],
       "_model_module_version": "^20.10.0-alpha.0",
       "_parameters": [
        {
         "choices": {},
         "default": "",
         "description": "The dataset to display - .gct",
         "events": null,
         "hide": false,
         "id": null,
         "kinds": [
          "res",
          "gct",
          "odf",
          "Dataset"
         ],
         "label": "dataset",
         "name": "dataset",
         "optional": false,
         "type": "file",
         "value": ""
        },
        {
         "choices": {},
         "default": "",
         "description": "",
         "events": null,
         "hide": true,
         "id": null,
         "kinds": null,
         "label": "output variable",
         "name": "output_var",
         "optional": true,
         "type": "text",
         "value": ""
        }
       ],
       "_view_count": null,
       "_view_module_version": "^20.10.0-alpha.0",
       "color": "rgba(10, 45, 105, 0.80)",
       "description": "A configurable heat map viewer that provides users with several options for manipulating and visualizing array-based data",
       "form": "IPY_MODEL_f5356bf6a3eb4496824176980c6e190b",
       "layout": "IPY_MODEL_05dd31c8a1cc492d95a888b69d52c899",
       "logo": "https://notebook.genepattern.org/hub/logo",
       "name": "HeatMapViewer",
       "origin": "genepattern.taskwidget",
       "output": "IPY_MODEL_8097d6c6558d4dea9350e081ddebc24c",
       "output_var": ""
      }
     },
     "2129219cc2544addb8c613445e868fea": {
      "model_module": "@jupyter-widgets/controls",
      "model_module_version": "1.5.0",
      "model_name": "ButtonModel",
      "state": {
       "_dom_classes": [
        "hidden"
       ],
       "description": "Run",
       "layout": "IPY_MODEL_4e50df2562424874aceb97bdc071ac10",
       "style": "IPY_MODEL_bd12a177d27a483e9d526e8ff1b7c89b"
      }
     },
     "222b4a5a7db548dc805a109390a97378": {
      "model_module": "@jupyter-widgets/base",
      "model_module_version": "1.2.0",
      "model_name": "LayoutModel",
      "state": {
       "grid_area": "description",
       "width": "auto"
      }
     },
     "228188df20294533a6442db37fd0ecc4": {
      "model_module": "@jupyter-widgets/controls",
      "model_module_version": "1.5.0",
      "model_name": "GridBoxModel",
      "state": {
       "_dom_classes": [
        "nbtools-input",
        "nbtools-fileinput",
        "required"
       ],
       "children": [
        "IPY_MODEL_3def91476d8e4facbf5ee6f3435a501a",
        "IPY_MODEL_f8d40100987a4f6ab31da22f7eb3a462",
        "IPY_MODEL_2d3415e69cdb476d8106bff8186cd1b0"
       ],
       "layout": "IPY_MODEL_9fec4cdc73924d0ab21f752d7f12b558"
      }
     },
     "2441ea71efaa4536a47216ddb781bbef": {
      "model_module": "@jupyter-widgets/controls",
      "model_module_version": "1.5.0",
      "model_name": "DescriptionStyleModel",
      "state": {
       "description_width": ""
      }
     },
     "25ae4e27748b4265be71853341b42b74": {
      "model_module": "@jupyter-widgets/controls",
      "model_module_version": "1.5.0",
      "model_name": "DescriptionStyleModel",
      "state": {
       "description_width": ""
      }
     },
     "25c95b264fc24d579b033226f3c51207": {
      "model_module": "@jupyter-widgets/output",
      "model_module_version": "1.0.0",
      "model_name": "OutputModel",
      "state": {
       "layout": "IPY_MODEL_824e41d48a384094a124978e667371c8"
      }
     },
     "264016b697c8461c924eceda398edb14": {
      "model_module": "@jupyter-widgets/output",
      "model_module_version": "1.0.0",
      "model_name": "OutputModel",
      "state": {
       "layout": "IPY_MODEL_7bc0a61e041945309fc058c30cf71fc8"
      }
     },
     "27526ed516ae420ebd3a3bf75fd55037": {
      "model_module": "@jupyter-widgets/controls",
      "model_module_version": "1.5.0",
      "model_name": "DescriptionStyleModel",
      "state": {
       "description_width": ""
      }
     },
     "27a006770be54e168293eaeb0e5a748e": {
      "model_module": "@jupyter-widgets/controls",
      "model_module_version": "1.5.0",
      "model_name": "TextModel",
      "state": {
       "_dom_classes": [
        "nbtools-menu-attached"
       ],
       "layout": "IPY_MODEL_f6295c7b7e60457fa99e043cfcfa355a",
       "style": "IPY_MODEL_d3951733afcf40e8a5aed0b42fb01f53"
      }
     },
     "27c9660a3bdc4a1391751a48c736ba2d": {
      "model_module": "@jupyter-widgets/controls",
      "model_module_version": "1.5.0",
      "model_name": "LabelModel",
      "state": {
       "layout": "IPY_MODEL_4c3e17be405142ba8e865e6ff00bb0fc",
       "style": "IPY_MODEL_82606ab1a40042ee8f684bee52f967c8"
      }
     },
     "28923bd8d5564ea0b539340ed11026b2": {
      "model_module": "@jupyter-widgets/base",
      "model_module_version": "1.2.0",
      "model_name": "LayoutModel",
      "state": {}
     },
     "29fd682fbe41469b9af37b141931f6ee": {
      "model_module": "@jupyter-widgets/controls",
      "model_module_version": "1.5.0",
      "model_name": "GridBoxModel",
      "state": {
       "_dom_classes": [
        "nbtools-input",
        "nbtools-comboinput",
        "required"
       ],
       "children": [
        "IPY_MODEL_33b34dac57c6431b815ce79dfa96d55c",
        "IPY_MODEL_ffec6408e25f4e9cbec9ac5caae383ba",
        "IPY_MODEL_7fb27448785144ab8ba447892401fb4f"
       ],
       "layout": "IPY_MODEL_183ce0ec4fbc4809aa6a13f3fdb572e3"
      }
     },
     "29fe551a4ee94f73bb05a2ae2c10cce5": {
      "model_module": "@jupyter-widgets/base",
      "model_module_version": "1.2.0",
      "model_name": "LayoutModel",
      "state": {}
     },
     "2c5b0ebae02e495ca118155ac456b5d7": {
      "model_module": "@jupyter-widgets/output",
      "model_module_version": "1.0.0",
      "model_name": "OutputModel",
      "state": {
       "layout": "IPY_MODEL_4a0c3a21086c46babc0a20dc50146014"
      }
     },
     "2ce9ee9b3f474c23af2baad55f32d08a": {
      "model_module": "@jupyter-widgets/output",
      "model_module_version": "1.0.0",
      "model_name": "OutputModel",
      "state": {
       "layout": "IPY_MODEL_5e6dc2e15475427b90b844658799d09a"
      }
     },
     "2d046759f8c140c5af4192f4abc03cdc": {
      "model_module": "@jupyter-widgets/controls",
      "model_module_version": "1.5.0",
      "model_name": "LabelModel",
      "state": {
       "description": "output_file",
       "layout": "IPY_MODEL_5794f0a2386544a6b833b819f757b4b6",
       "style": "IPY_MODEL_7ec3ca3447c3403ead1fb5a84be7e010",
       "value": "output_file*"
      }
     },
     "2d3415e69cdb476d8106bff8186cd1b0": {
      "model_module": "@jupyter-widgets/controls",
      "model_module_version": "1.5.0",
      "model_name": "LabelModel",
      "state": {
       "description": "The dataset to display - .gct",
       "layout": "IPY_MODEL_d44e3e6a88fa4f86b614f95d79ab3701",
       "style": "IPY_MODEL_8cfa40ce57d24b6e88114542b9edd9bf",
       "value": "The dataset to display - .gct"
      }
     },
     "2d4de4823c3d47f4b5d637b3a4cc4e72": {
      "model_module": "@jupyter-widgets/controls",
      "model_module_version": "1.5.0",
      "model_name": "LabelModel",
      "state": {
       "description": "output variable",
       "layout": "IPY_MODEL_9f08302b714643538cbb7c8d373261ba",
       "style": "IPY_MODEL_e97cc47f3eba4c6f910694b0dd9a6416",
       "value": "output variable"
      }
     },
     "2d6ad199e1ae4274855c27d581df3a2c": {
      "model_module": "@jupyter-widgets/controls",
      "model_module_version": "1.5.0",
      "model_name": "DescriptionStyleModel",
      "state": {
       "description_width": ""
      }
     },
     "2e6a94ddc55d4520af7482bd7abb3657": {
      "model_module": "@jupyter-widgets/base",
      "model_module_version": "1.2.0",
      "model_name": "LayoutModel",
      "state": {}
     },
     "2f8dc57a805b40cdafcd3a470f898208": {
      "model_module": "@jupyter-widgets/base",
      "model_module_version": "1.2.0",
      "model_name": "LayoutModel",
      "state": {
       "grid_area": "description",
       "width": "auto"
      }
     },
     "30510eb910794947bb5f026069c0e8d3": {
      "model_module": "@jupyter-widgets/base",
      "model_module_version": "1.2.0",
      "model_name": "LayoutModel",
      "state": {
       "grid_area": "description",
       "width": "auto"
      }
     },
     "3199262ee854461796b57224b4cd4282": {
      "model_module": "@jupyter-widgets/controls",
      "model_module_version": "1.5.0",
      "model_name": "ButtonModel",
      "state": {
       "_dom_classes": [
        "hidden"
       ],
       "description": "Run",
       "layout": "IPY_MODEL_cb0a0773ad3f446fa623794ab5b42cdf",
       "style": "IPY_MODEL_0df0bfbbeba2412b85ed65936e4da7c7"
      }
     },
     "31c62f0337624903b33b4debae527fe4": {
      "model_module": "@jupyter-widgets/controls",
      "model_module_version": "1.5.0",
      "model_name": "VBoxModel",
      "state": {
       "_dom_classes": [
        "widget-interact"
       ],
       "children": [
        "IPY_MODEL_29fd682fbe41469b9af37b141931f6ee",
        "IPY_MODEL_4cde6f2f866c4bdfadcf3083d0eb9fe3",
        "IPY_MODEL_01989b3c0a054b2eba6a026640dfe93a",
        "IPY_MODEL_66d590ab164e49078c0b048e1b12d899",
        "IPY_MODEL_17ccd08d929a43c99c058d5bdaf8353d"
       ],
       "layout": "IPY_MODEL_37df6468bdaf449ab5d855c3e5982365"
      }
     },
     "331459f2772946748fbfb0374ba82cd9": {
      "model_module": "@jupyter-widgets/controls",
      "model_module_version": "1.5.0",
      "model_name": "ButtonModel",
      "state": {
       "_dom_classes": [
        "hidden"
       ],
       "description": "Run",
       "layout": "IPY_MODEL_3aa4e2be3e9e443abc5d8260c9297336",
       "style": "IPY_MODEL_5928b0851ae34ea98900a423ebca38a9"
      }
     },
     "332ba0b89d6944f9a010b9f22556fa93": {
      "model_module": "@jupyter-widgets/controls",
      "model_module_version": "1.5.0",
      "model_name": "LabelModel",
      "state": {
       "layout": "IPY_MODEL_993211c4ca974fe493b935364447dc30",
       "style": "IPY_MODEL_b5a567a451454b7eb8c71ad894e7f566"
      }
     },
     "33b34dac57c6431b815ce79dfa96d55c": {
      "model_module": "@jupyter-widgets/controls",
      "model_module_version": "1.5.0",
      "model_name": "LabelModel",
      "state": {
       "description": "GenePattern Server",
       "layout": "IPY_MODEL_8494a13740b64fad9fd0f190e4071559",
       "style": "IPY_MODEL_6470659238504732bf5db4e5e01ba50f",
       "value": "GenePattern Server*"
      }
     },
     "33ccc0cff24a4d4d878ca1fb5afab920": {
      "model_module": "@jupyter-widgets/controls",
      "model_module_version": "1.5.0",
      "model_name": "DescriptionStyleModel",
      "state": {
       "description_width": ""
      }
     },
     "355d52ad0ad0454c864c2e15e61e86bd": {
      "model_module": "@jupyter-widgets/base",
      "model_module_version": "1.2.0",
      "model_name": "LayoutModel",
      "state": {}
     },
     "359317794e1244a399e54bc39fc34172": {
      "model_module": "@jupyter-widgets/base",
      "model_module_version": "1.2.0",
      "model_name": "LayoutModel",
      "state": {
       "display": "none",
       "grid_template_areas": "\n                    \"label input\"\n                    \". description\"\n                ",
       "grid_template_columns": "25% 75%",
       "grid_template_rows": "auto auto",
       "width": "100%"
      }
     },
     "3636c1989fce48ff9cee382731091aca": {
      "model_module": "@jupyter-widgets/base",
      "model_module_version": "1.2.0",
      "model_name": "LayoutModel",
      "state": {}
     },
     "3679fa9a1db64e36a1e88e28b69d3c3e": {
      "model_module": "@jupyter-widgets/controls",
      "model_module_version": "1.5.0",
      "model_name": "TextModel",
      "state": {
       "_dom_classes": [
        "nbtools-menu-attached"
       ],
       "layout": "IPY_MODEL_a460999da1de473ca0f53069d521f5c2",
       "style": "IPY_MODEL_c9cd062cfc2848c89a648f3d930e98d3"
      }
     },
     "370c3e29d96549d180456fbf556d310e": {
      "model_module": "@jupyter-widgets/base",
      "model_module_version": "1.2.0",
      "model_name": "LayoutModel",
      "state": {
       "grid_area": "input",
       "width": "auto"
      }
     },
     "3757c85c52e94e8e95c52ed5ff267d7f": {
      "model_module": "@jupyter-widgets/controls",
      "model_module_version": "1.5.0",
      "model_name": "DescriptionStyleModel",
      "state": {
       "description_width": ""
      }
     },
     "37df6468bdaf449ab5d855c3e5982365": {
      "model_module": "@jupyter-widgets/base",
      "model_module_version": "1.2.0",
      "model_name": "LayoutModel",
      "state": {}
     },
     "383ef12e6219458f8c340a4d708fe741": {
      "model_module": "@jupyter-widgets/controls",
      "model_module_version": "1.5.0",
      "model_name": "DescriptionStyleModel",
      "state": {
       "description_width": ""
      }
     },
     "3888993aa39e471eb21bd886ad66a2c7": {
      "model_module": "@jupyter-widgets/controls",
      "model_module_version": "1.5.0",
      "model_name": "GridBoxModel",
      "state": {
       "_dom_classes": [
        "nbtools-input",
        "nbtools-textinput"
       ],
       "children": [
        "IPY_MODEL_a298e68e53134e0ba7b428d010a195dd",
        "IPY_MODEL_d83a6bd289a14035b0af140573e45cc8",
        "IPY_MODEL_63c72af6ed87421c8acd6cac44dc3dc2"
       ],
       "layout": "IPY_MODEL_bf1463286221489280c693fe56bf4c96"
      }
     },
     "38961ac1af7b49ac98aa088952fab8e3": {
      "model_module": "@jupyter-widgets/base",
      "model_module_version": "1.2.0",
      "model_name": "LayoutModel",
      "state": {}
     },
     "3aa4e2be3e9e443abc5d8260c9297336": {
      "model_module": "@jupyter-widgets/base",
      "model_module_version": "1.2.0",
      "model_name": "LayoutModel",
      "state": {}
     },
     "3dc1e477057d40b2b353e475b8bdff00": {
      "model_module": "@jupyter-widgets/base",
      "model_module_version": "1.2.0",
      "model_name": "LayoutModel",
      "state": {
       "display": "none",
       "grid_template_areas": "\n                    \"label input\"\n                    \". description\"\n                ",
       "grid_template_columns": "25% 75%",
       "grid_template_rows": "auto auto",
       "width": "100%"
      }
     },
     "3dd65ace1a89439c901266b906475878": {
      "model_module": "@jupyter-widgets/base",
      "model_module_version": "1.2.0",
      "model_name": "LayoutModel",
      "state": {
       "grid_area": "input",
       "width": "auto"
      }
     },
     "3dde86f0893d4223bfde4c68a5c88ee5": {
      "model_module": "@jupyter-widgets/base",
      "model_module_version": "1.2.0",
      "model_name": "LayoutModel",
      "state": {
       "grid_template_areas": "\n                    \"label input\"\n                    \". description\"\n                ",
       "grid_template_columns": "25% 75%",
       "grid_template_rows": "auto auto",
       "width": "100%"
      }
     },
     "3def91476d8e4facbf5ee6f3435a501a": {
      "model_module": "@jupyter-widgets/controls",
      "model_module_version": "1.5.0",
      "model_name": "LabelModel",
      "state": {
       "description": "dataset",
       "layout": "IPY_MODEL_6fdf1b9a521c481496852c46aefcbcfe",
       "style": "IPY_MODEL_bb931c1e456d4c7fbe65c3d50a1b5409",
       "value": "dataset*"
      }
     },
     "3f335c20130546048616271b3d4e389c": {
      "model_module": "@jupyter-widgets/controls",
      "model_module_version": "1.5.0",
      "model_name": "LabelModel",
      "state": {
       "layout": "IPY_MODEL_f9efec08ff0b41e3be36815062ace875",
       "style": "IPY_MODEL_f7ad6148649c41e495cd1089a961f79e"
      }
     },
     "3fe22a95de524a3eabaa66a582564fe1": {
      "model_module": "@jupyter-widgets/controls",
      "model_module_version": "1.5.0",
      "model_name": "ComboboxModel",
      "state": {
       "_dom_classes": [
        "nbtools-menu-attached"
       ],
       "choices": {},
       "ensure_option": false,
       "kinds": [],
       "layout": "IPY_MODEL_647fd007eb8b4f75aa702aa80af86f3e",
       "style": "IPY_MODEL_3757c85c52e94e8e95c52ed5ff267d7f",
       "value": "https://cloud.genepattern.org/gp/users/tabor/tmp/run6919242652099960325.tmp/a.txt"
      }
     },
     "3ff778b33a20408d8c3fee373d193d8c": {
      "model_module": "@jupyter-widgets/controls",
      "model_module_version": "1.5.0",
      "model_name": "GridBoxModel",
      "state": {
       "_dom_classes": [
        "nbtools-input",
        "nbtools-textinput"
       ],
       "children": [
        "IPY_MODEL_0222ae0a48c143fa9019dce06aae76ca",
        "IPY_MODEL_1bed0ae483244d1fb4dec68da1e8b0be",
        "IPY_MODEL_1e4ba45691734768a7070eec330bf964"
       ],
       "layout": "IPY_MODEL_359317794e1244a399e54bc39fc34172"
      }
     },
     "406591ceb64441d68070b7feedfc3d1b": {
      "model_module": "@jupyter-widgets/controls",
      "model_module_version": "1.5.0",
      "model_name": "LabelModel",
      "state": {
       "description": "output variable",
       "layout": "IPY_MODEL_48e8e683ec0f4b3a8daa5843080bd711",
       "style": "IPY_MODEL_6d3570e47a3f43668d129c0f2a59a2b7",
       "value": "output variable"
      }
     },
     "40679183c249405096f63d1988511ee7": {
      "model_module": "@jupyter-widgets/base",
      "model_module_version": "1.2.0",
      "model_name": "LayoutModel",
      "state": {}
     },
     "40fa917071c04cad8fa5cc60a8affa75": {
      "model_module": "@jupyter-widgets/base",
      "model_module_version": "1.2.0",
      "model_name": "LayoutModel",
      "state": {
       "grid_template_areas": "\n                    \"label input\"\n                    \". description\"\n                ",
       "grid_template_columns": "25% 75%",
       "grid_template_rows": "auto auto",
       "width": "100%"
      }
     },
     "423b1678ff56473fa6e30555b19831e7": {
      "model_module": "@jupyter-widgets/output",
      "model_module_version": "1.0.0",
      "model_name": "OutputModel",
      "state": {
       "layout": "IPY_MODEL_89bd695e5bd842a4a4015679697f0223"
      }
     },
     "42a8117dc1454e399812c8062b4f43ff": {
      "model_module": "@jupyter-widgets/base",
      "model_module_version": "1.2.0",
      "model_name": "LayoutModel",
      "state": {
       "grid_area": "input",
       "width": "auto"
      }
     },
     "4316fdbc7b5c48909e61970cb0821161": {
      "model_module": "@jupyter-widgets/controls",
      "model_module_version": "1.5.0",
      "model_name": "DescriptionStyleModel",
      "state": {
       "description_width": ""
      }
     },
     "48a6bca1c2be438e8651b73bb9236028": {
      "model_module": "@jupyter-widgets/controls",
      "model_module_version": "1.5.0",
      "model_name": "VBoxModel",
      "state": {
       "_dom_classes": [
        "widget-interact"
       ],
       "children": [
        "IPY_MODEL_51e6a45fcafa48c196e97b0425f77c81",
        "IPY_MODEL_16746d650d364d9394c74dcbb36c467c"
       ],
       "layout": "IPY_MODEL_38961ac1af7b49ac98aa088952fab8e3"
      }
     },
     "48e8e683ec0f4b3a8daa5843080bd711": {
      "model_module": "@jupyter-widgets/base",
      "model_module_version": "1.2.0",
      "model_name": "LayoutModel",
      "state": {
       "grid_area": "label",
       "width": "auto"
      }
     },
     "490c7ff64c18454484f5b6943cc04271": {
      "model_module": "@jupyter-widgets/controls",
      "model_module_version": "1.5.0",
      "model_name": "TextModel",
      "state": {
       "_dom_classes": [
        "nbtools-menu-attached"
       ],
       "layout": "IPY_MODEL_8bbcd3e090894522ba67a520c76f9f80",
       "style": "IPY_MODEL_ea27e2b78fc141b5b33cb5fc0134a018"
      }
     },
     "4a0c3a21086c46babc0a20dc50146014": {
      "model_module": "@jupyter-widgets/base",
      "model_module_version": "1.2.0",
      "model_name": "LayoutModel",
      "state": {}
     },
     "4a2fa990cfe04d5eaa077015291e5441": {
      "model_module": "@jupyter-widgets/base",
      "model_module_version": "1.2.0",
      "model_name": "LayoutModel",
      "state": {}
     },
     "4bfa748d0410403b89949840a5bbc374": {
      "model_module": "@jupyter-widgets/base",
      "model_module_version": "1.2.0",
      "model_name": "LayoutModel",
      "state": {
       "grid_area": "label",
       "width": "auto"
      }
     },
     "4c3e17be405142ba8e865e6ff00bb0fc": {
      "model_module": "@jupyter-widgets/base",
      "model_module_version": "1.2.0",
      "model_name": "LayoutModel",
      "state": {
       "grid_area": "description",
       "width": "auto"
      }
     },
     "4cde6f2f866c4bdfadcf3083d0eb9fe3": {
      "model_module": "@jupyter-widgets/controls",
      "model_module_version": "1.5.0",
      "model_name": "GridBoxModel",
      "state": {
       "_dom_classes": [
        "nbtools-input",
        "nbtools-textinput",
        "required"
       ],
       "children": [
        "IPY_MODEL_a71d9797f6fd4f80a9b9339f3d5e1f8a",
        "IPY_MODEL_91ff12c634d0465c893e206feda558e3",
        "IPY_MODEL_27c9660a3bdc4a1391751a48c736ba2d"
       ],
       "layout": "IPY_MODEL_40fa917071c04cad8fa5cc60a8affa75"
      }
     },
     "4d475507b7714aa8960025d965195fec": {
      "model_module": "@jupyter-widgets/base",
      "model_module_version": "1.2.0",
      "model_name": "LayoutModel",
      "state": {}
     },
     "4e3aeb9d653e4b7eaf23e2487dc8e8da": {
      "model_module": "@jupyter-widgets/controls",
      "model_module_version": "1.5.0",
      "model_name": "LabelModel",
      "state": {
       "description": "output variable",
       "layout": "IPY_MODEL_9775c5adb104459db17f76d17376efe7",
       "style": "IPY_MODEL_a391777349504fc8b806fd2e745df7c8",
       "value": "output variable"
      }
     },
     "4e50df2562424874aceb97bdc071ac10": {
      "model_module": "@jupyter-widgets/base",
      "model_module_version": "1.2.0",
      "model_name": "LayoutModel",
      "state": {}
     },
     "4e85dd70f9b24651a9ad5c699e46a116": {
      "model_module": "@jupyter-widgets/controls",
      "model_module_version": "1.5.0",
      "model_name": "ButtonStyleModel",
      "state": {}
     },
     "51a411d6e30b4111a615f9fa36487061": {
      "model_module": "@jupyter-widgets/controls",
      "model_module_version": "1.5.0",
      "model_name": "DescriptionStyleModel",
      "state": {
       "description_width": ""
      }
     },
     "51e6a45fcafa48c196e97b0425f77c81": {
      "model_module": "@jupyter-widgets/controls",
      "model_module_version": "1.5.0",
      "model_name": "ButtonModel",
      "state": {
       "_dom_classes": [
        "hidden"
       ],
       "description": "Run",
       "layout": "IPY_MODEL_ebf243ac463a46e396f45506217b8e07",
       "style": "IPY_MODEL_deec909808c7414282960367e116a0b5"
      }
     },
     "523ef9088c1048e6a8aeabcd9a3e151c": {
      "model_module": "@jupyter-widgets/base",
      "model_module_version": "1.2.0",
      "model_name": "LayoutModel",
      "state": {}
     },
     "5263ff4d96384d5cb8f2360e58965b13": {
      "model_module": "@jupyter-widgets/controls",
      "model_module_version": "1.5.0",
      "model_name": "VBoxModel",
      "state": {
       "layout": "IPY_MODEL_65db147aa2004e239056c9fb818314fc"
      }
     },
     "527712b025084b8bae85079303491b3b": {
      "model_module": "@jupyter-widgets/controls",
      "model_module_version": "1.5.0",
      "model_name": "ButtonModel",
      "state": {
       "_dom_classes": [
        "hidden"
       ],
       "description": "Run",
       "layout": "IPY_MODEL_1a17e33a67334e5882a9a62a367babfb",
       "style": "IPY_MODEL_b411c2d1d3db40aebd8006216895c764"
      }
     },
     "53ef2ff70ae14d46a71c6e8d4ca0f380": {
      "model_module": "@jupyter-widgets/base",
      "model_module_version": "1.2.0",
      "model_name": "LayoutModel",
      "state": {
       "grid_area": "input",
       "width": "auto"
      }
     },
     "54c8be65fde6445fa896b4ea17db591d": {
      "model_module": "@jupyter-widgets/base",
      "model_module_version": "1.2.0",
      "model_name": "LayoutModel",
      "state": {
       "grid_area": "label",
       "width": "auto"
      }
     },
     "54f11f2970d74055a4006bb314fe698c": {
      "model_module": "@jupyter-widgets/base",
      "model_module_version": "1.2.0",
      "model_name": "LayoutModel",
      "state": {
       "grid_area": "description",
       "width": "auto"
      }
     },
     "5500760953064decac24081613162239": {
      "model_module": "@jupyter-widgets/controls",
      "model_module_version": "1.5.0",
      "model_name": "VBoxModel",
      "state": {
       "_dom_classes": [
        "widget-interact"
       ],
       "children": [
        "IPY_MODEL_ba4b0f950f954041943adb6586dc94e5",
        "IPY_MODEL_2ce9ee9b3f474c23af2baad55f32d08a"
       ],
       "layout": "IPY_MODEL_ae66ea040d53481fa0a5b966dc518661"
      }
     },
     "55bc7c1ca76c44b494c50937301c9909": {
      "model_module": "@jupyter-widgets/controls",
      "model_module_version": "1.5.0",
      "model_name": "ButtonModel",
      "state": {
       "_dom_classes": [
        "hidden"
       ],
       "description": "Run",
       "layout": "IPY_MODEL_6dc541fb78f94ae2854dc660c33de0f3",
       "style": "IPY_MODEL_088472fcfe9b4c3fbbf07bdd6c100775"
      }
     },
     "5653dd0635314cababdc2c7c7e4c3eb3": {
      "model_module": "@jupyter-widgets/controls",
      "model_module_version": "1.5.0",
      "model_name": "VBoxModel",
      "state": {
       "_dom_classes": [
        "widget-interact"
       ],
       "children": [
        "IPY_MODEL_ccb4ff3b024b4b49ac0fed9a36e3a3df",
        "IPY_MODEL_2129219cc2544addb8c613445e868fea",
        "IPY_MODEL_aba92c91f8d64a28ac081bf0ab734b34"
       ],
       "layout": "IPY_MODEL_f6e55b7d6d2043cf992d74222410848a"
      }
     },
     "5687e6a04c9b4bf0a594e95df935233e": {
      "model_module": "@jupyter-widgets/controls",
      "model_module_version": "1.5.0",
      "model_name": "DescriptionStyleModel",
      "state": {
       "description_width": ""
      }
     },
     "56c180d51f7e45ae99ce0ba891d7516b": {
      "model_module": "@jupyter-widgets/base",
      "model_module_version": "1.2.0",
      "model_name": "LayoutModel",
      "state": {}
     },
     "56f57b10f66a4ccab60f7338d1bde8e6": {
      "model_module": "@jupyter-widgets/base",
      "model_module_version": "1.2.0",
      "model_name": "LayoutModel",
      "state": {
       "grid_area": "input",
       "width": "auto"
      }
     },
     "5794f0a2386544a6b833b819f757b4b6": {
      "model_module": "@jupyter-widgets/base",
      "model_module_version": "1.2.0",
      "model_name": "LayoutModel",
      "state": {
       "grid_area": "label",
       "width": "auto"
      }
     },
     "5928b0851ae34ea98900a423ebca38a9": {
      "model_module": "@jupyter-widgets/controls",
      "model_module_version": "1.5.0",
      "model_name": "ButtonStyleModel",
      "state": {}
     },
     "5a786fb019414bc2aaef5b060cac0f54": {
      "model_module": "@jupyter-widgets/controls",
      "model_module_version": "1.5.0",
      "model_name": "DescriptionStyleModel",
      "state": {
       "description_width": ""
      }
     },
     "5b4afb5e4832414eba24bc0d2349c3de": {
      "model_module": "@jupyter-widgets/controls",
      "model_module_version": "1.5.0",
      "model_name": "LabelModel",
      "state": {
       "description": "output variable",
       "layout": "IPY_MODEL_54c8be65fde6445fa896b4ea17db591d",
       "style": "IPY_MODEL_d8634adfd0df4c08be743a6564e27727",
       "value": "output variable"
      }
     },
     "5bae6b71ce814e16b8ef945ef63366c3": {
      "model_module": "@genepattern/nbtools",
      "model_module_version": "^20.10.0-alpha.0",
      "model_name": "UIOutputModel",
      "state": {
       "_dom_classes": [],
       "_model_module_version": "^20.10.0-alpha.0",
       "_view_count": null,
       "_view_module_version": "^20.10.0-alpha.0",
       "appendix": "IPY_MODEL_19857e1ba7844e318b1d14c230f57c75",
       "color": "rgba(10, 45, 105, 0.80)",
       "description": "Submitted by tabor on 2020-12-11T19:51:23+00:00",
       "extra_file_menu_items": {
        "Send to Code": {
         "action": "cell",
         "code": "import genepattern\n\nfile_305403 = genepattern.session.get(\"https://cloud.genepattern.org/gp\").get_job(305403).get_file(\"{{file_name}}\")\nfile_305403"
        },
        "Send to Dataframe": {
         "action": "cell",
         "code": "import genepattern\nfrom gp.data import GCT as gct, ODF as odf\n\nfile_305403 = {{type}}(genepattern.session.get(\"https://cloud.genepattern.org/gp\").get_job(305403).get_file(\"{{file_name}}\"))\nfile_305403",
         "kinds": [
          "gct",
          "odf"
         ]
        }
       },
       "extra_menu_items": {
        "Detach Job": {
         "action": "cell",
         "code": "import gp\n\ngenepattern.display(gp.GPJob(genepattern.session.get(0), 305403))"
        },
        "Share Job": {
         "action": "method",
         "code": "toggle_job_sharing"
        }
       },
       "files": [
        "https://cloud.genepattern.org/gp/jobResults/305403/a.cvt.txt",
        "https://cloud.genepattern.org/gp/jobResults/305403/gp_execution_log.txt"
       ],
       "layout": "IPY_MODEL_2e6a94ddc55d4520af7482bd7abb3657",
       "logo": "https://notebook.genepattern.org/hub/logo",
       "name": "305403",
       "status": "Completed"
      }
     },
     "5c49cbd2555949e0a33cab4c3d3fb0f3": {
      "model_module": "@jupyter-widgets/base",
      "model_module_version": "1.2.0",
      "model_name": "LayoutModel",
      "state": {}
     },
     "5c82d310686a40618931e6a0c18967e5": {
      "model_module": "@jupyter-widgets/controls",
      "model_module_version": "1.5.0",
      "model_name": "TextModel",
      "state": {
       "_dom_classes": [
        "nbtools-menu-attached"
       ],
       "layout": "IPY_MODEL_c5ced5ab1c9246e08a87564af49ecd5a",
       "style": "IPY_MODEL_10cbec757b664fec9608155fa5c819fd"
      }
     },
     "5e6dc2e15475427b90b844658799d09a": {
      "model_module": "@jupyter-widgets/base",
      "model_module_version": "1.2.0",
      "model_name": "LayoutModel",
      "state": {}
     },
     "5e8d6f5a336e44dfa5bcf00011f6ff34": {
      "model_module": "@jupyter-widgets/base",
      "model_module_version": "1.2.0",
      "model_name": "LayoutModel",
      "state": {
       "grid_area": "label",
       "width": "auto"
      }
     },
     "5ff60dc56d1a4bb892e61a9e616e73a9": {
      "model_module": "@jupyter-widgets/controls",
      "model_module_version": "1.5.0",
      "model_name": "DescriptionStyleModel",
      "state": {
       "description_width": ""
      }
     },
     "600bcc0812974521941f2e2f6a0b5da1": {
      "model_module": "@jupyter-widgets/base",
      "model_module_version": "1.2.0",
      "model_name": "LayoutModel",
      "state": {
       "grid_area": "input",
       "width": "auto"
      }
     },
     "6170d4d8f9fd4201b35349cdf10772e0": {
      "model_module": "@jupyter-widgets/base",
      "model_module_version": "1.2.0",
      "model_name": "LayoutModel",
      "state": {}
     },
     "62a4e8a224d84a388bc5a732ccb8cad0": {
      "model_module": "@jupyter-widgets/controls",
      "model_module_version": "1.5.0",
      "model_name": "TextModel",
      "state": {
       "_dom_classes": [
        "nbtools-menu-attached"
       ],
       "layout": "IPY_MODEL_56f57b10f66a4ccab60f7338d1bde8e6",
       "style": "IPY_MODEL_6c60fa96e2ea4a61934470ef29cacc81"
      }
     },
     "62b5f59cf5894367b32f72534e043afa": {
      "model_module": "@jupyter-widgets/base",
      "model_module_version": "1.2.0",
      "model_name": "LayoutModel",
      "state": {
       "grid_area": "label",
       "width": "auto"
      }
     },
     "63138fffbba149158d04bf0c9ff16ae2": {
      "model_module": "@jupyter-widgets/base",
      "model_module_version": "1.2.0",
      "model_name": "LayoutModel",
      "state": {
       "grid_area": "description",
       "width": "auto"
      }
     },
     "639fb6b724f342e994ad518ff5d8e457": {
      "model_module": "@jupyter-widgets/controls",
      "model_module_version": "1.5.0",
      "model_name": "DescriptionStyleModel",
      "state": {
       "description_width": ""
      }
     },
     "639fcd85cbab40f4bdd6bc7067d590bd": {
      "model_module": "@jupyter-widgets/base",
      "model_module_version": "1.2.0",
      "model_name": "LayoutModel",
      "state": {}
     },
     "63c72af6ed87421c8acd6cac44dc3dc2": {
      "model_module": "@jupyter-widgets/controls",
      "model_module_version": "1.5.0",
      "model_name": "LabelModel",
      "state": {
       "layout": "IPY_MODEL_30510eb910794947bb5f026069c0e8d3",
       "style": "IPY_MODEL_4316fdbc7b5c48909e61970cb0821161"
      }
     },
     "63eb6919df5b47909cfe074fd2c92d7e": {
      "model_module": "@jupyter-widgets/controls",
      "model_module_version": "1.5.0",
      "model_name": "DescriptionStyleModel",
      "state": {
       "description_width": ""
      }
     },
     "6470659238504732bf5db4e5e01ba50f": {
      "model_module": "@jupyter-widgets/controls",
      "model_module_version": "1.5.0",
      "model_name": "DescriptionStyleModel",
      "state": {
       "description_width": ""
      }
     },
     "647fd007eb8b4f75aa702aa80af86f3e": {
      "model_module": "@jupyter-widgets/base",
      "model_module_version": "1.2.0",
      "model_name": "LayoutModel",
      "state": {}
     },
     "64a1e220675546cea7fa9a7f9b5da738": {
      "model_module": "@jupyter-widgets/controls",
      "model_module_version": "1.5.0",
      "model_name": "DescriptionStyleModel",
      "state": {
       "description_width": ""
      }
     },
     "65db147aa2004e239056c9fb818314fc": {
      "model_module": "@jupyter-widgets/base",
      "model_module_version": "1.2.0",
      "model_name": "LayoutModel",
      "state": {}
     },
     "66d590ab164e49078c0b048e1b12d899": {
      "model_module": "@jupyter-widgets/controls",
      "model_module_version": "1.5.0",
      "model_name": "ButtonModel",
      "state": {
       "_dom_classes": [
        "hidden"
       ],
       "description": "Run",
       "layout": "IPY_MODEL_a9c5f31b602c460eb6092daade1214b7",
       "style": "IPY_MODEL_db42489000f64ef1a21d5696bef5f221"
      }
     },
     "678ff0badca2419ab2e09746767fd872": {
      "model_module": "@jupyter-widgets/controls",
      "model_module_version": "1.5.0",
      "model_name": "DescriptionStyleModel",
      "state": {
       "description_width": ""
      }
     },
     "685f02594a3f4a0dafb6dfafd89c8395": {
      "model_module": "@jupyter-widgets/base",
      "model_module_version": "1.2.0",
      "model_name": "LayoutModel",
      "state": {
       "display": "none",
       "grid_template_areas": "\n                    \"label input\"\n                    \". description\"\n                ",
       "grid_template_columns": "25% 75%",
       "grid_template_rows": "auto auto",
       "width": "100%"
      }
     },
     "698ef7d8866647cfa54185037e0e46f5": {
      "model_module": "@jupyter-widgets/base",
      "model_module_version": "1.2.0",
      "model_name": "LayoutModel",
      "state": {}
     },
     "6a90132574404805935962d33e0a8550": {
      "model_module": "@jupyter-widgets/base",
      "model_module_version": "1.2.0",
      "model_name": "LayoutModel",
      "state": {}
     },
     "6ad5278f529243a594f8aeef877467d1": {
      "model_module": "@jupyter-widgets/base",
      "model_module_version": "1.2.0",
      "model_name": "LayoutModel",
      "state": {
       "grid_area": "input",
       "width": "auto"
      }
     },
     "6b7d134fe5324e67bc77e35e6d7f57d2": {
      "model_module": "@jupyter-widgets/base",
      "model_module_version": "1.2.0",
      "model_name": "LayoutModel",
      "state": {
       "grid_template_areas": "\n                    \"label input\"\n                    \". description\"\n                ",
       "grid_template_columns": "25% 75%",
       "grid_template_rows": "auto auto",
       "width": "100%"
      }
     },
     "6bbaad4cf6d34c0da59af978876f9a88": {
      "model_module": "@jupyter-widgets/controls",
      "model_module_version": "1.5.0",
      "model_name": "DescriptionStyleModel",
      "state": {
       "description_width": ""
      }
     },
     "6bd098e748294847b833b9d26d826444": {
      "model_module": "@jupyter-widgets/output",
      "model_module_version": "1.0.0",
      "model_name": "OutputModel",
      "state": {
       "layout": "IPY_MODEL_82f40bfa5a74413b8c78191cc4974459",
       "outputs": [
        {
         "data": {},
         "metadata": {},
         "output_type": "display_data"
        },
        {
         "data": {
          "application/vnd.jupyter.widget-view+json": {
           "model_id": "204dd3eddd404c0a88746d651119ca60",
           "version_major": 2,
           "version_minor": 0
          },
          "text/plain": "GPTaskWidget(collapse=True, color='rgba(10, 45, 105, 0.80)', description='A configurable heat map viewer that …"
         },
         "metadata": {},
         "output_type": "display_data"
        },
        {
         "data": {
          "application/vnd.jupyter.widget-view+json": {
           "model_id": "8097d6c6558d4dea9350e081ddebc24c",
           "version_major": 2,
           "version_minor": 0
          },
          "text/plain": "Output()"
         },
         "metadata": {},
         "output_type": "display_data"
        }
       ]
      }
     },
     "6c14e926f78f43d28aa441ad577bc670": {
      "model_module": "@jupyter-widgets/base",
      "model_module_version": "1.2.0",
      "model_name": "LayoutModel",
      "state": {}
     },
     "6c60fa96e2ea4a61934470ef29cacc81": {
      "model_module": "@jupyter-widgets/controls",
      "model_module_version": "1.5.0",
      "model_name": "DescriptionStyleModel",
      "state": {
       "description_width": ""
      }
     },
     "6d3570e47a3f43668d129c0f2a59a2b7": {
      "model_module": "@jupyter-widgets/controls",
      "model_module_version": "1.5.0",
      "model_name": "DescriptionStyleModel",
      "state": {
       "description_width": ""
      }
     },
     "6dc541fb78f94ae2854dc660c33de0f3": {
      "model_module": "@jupyter-widgets/base",
      "model_module_version": "1.2.0",
      "model_name": "LayoutModel",
      "state": {}
     },
     "6ea1cf6810784154beb744eae952a818": {
      "model_module": "@jupyter-widgets/base",
      "model_module_version": "1.2.0",
      "model_name": "LayoutModel",
      "state": {
       "grid_area": "input",
       "width": "auto"
      }
     },
     "6fdf1b9a521c481496852c46aefcbcfe": {
      "model_module": "@jupyter-widgets/base",
      "model_module_version": "1.2.0",
      "model_name": "LayoutModel",
      "state": {
       "grid_area": "label",
       "width": "auto"
      }
     },
     "6fe13b7f2b6648ba887d4a21412101a5": {
      "model_module": "@jupyter-widgets/controls",
      "model_module_version": "1.5.0",
      "model_name": "VBoxModel",
      "state": {
       "_dom_classes": [
        "widget-interact"
       ],
       "children": [
        "IPY_MODEL_3199262ee854461796b57224b4cd4282",
        "IPY_MODEL_2c5b0ebae02e495ca118155ac456b5d7"
       ],
       "layout": "IPY_MODEL_6170d4d8f9fd4201b35349cdf10772e0"
      }
     },
     "70fd4c3de1b14015b8a66d97b39d845e": {
      "model_module": "@jupyter-widgets/base",
      "model_module_version": "1.2.0",
      "model_name": "LayoutModel",
      "state": {}
     },
     "7108dd068fc641a88279fe3ab3867688": {
      "model_module": "@genepattern/nbtools",
      "model_module_version": "^20.10.0-alpha.0",
      "model_name": "UIBuilderModel",
      "state": {
       "_dom_classes": [],
       "_model_module_version": "^20.10.0-alpha.0",
       "_parameters": [
        {
         "choices": {},
         "default": "",
         "description": "",
         "events": null,
         "hide": true,
         "id": null,
         "kinds": null,
         "label": "output variable",
         "name": "output_var",
         "optional": true,
         "type": "text",
         "value": ""
        }
       ],
       "_view_count": null,
       "_view_module_version": "^20.10.0-alpha.0",
       "collapsed": true,
       "color": "rgba(10, 45, 105, 0.80)",
       "display_footer": false,
       "display_header": false,
       "form": "IPY_MODEL_48a6bca1c2be438e8651b73bb9236028",
       "info": "<div class=\"systemMessageOk\"><br /><b>Join us on Dec 16, 2020, at 10am PST for our webinar: Scientific Narratives & Reproducible Research with the GenePattern Notebook Environment.</b><br /><br />The presentation will provide an introduction to the GenePattern Notebook environment and an illustration of its use in a single-cell RNA-seq analysis workflow.<br /><br /><b><a href=\"https://www.eventbrite.com/e/scientific-narratives-reproducible-research-with-genepattern-notebooks-tickets-131956364037\" target=\"_blank\">Register now on Eventbrite!</a></b><br /><br /></div><br /><div class=\"systemMessageAlert\"><br />GEOImporter has been temporarily removed from the main GenePattern server (cloud.genepattern.org) while it awaits an update for changes in GEO's programmatic access.<br><br />We do apologize for any inconvenience this causes and will work to have it back up as soon as possible.<br />Sincerely,<br />The GenePattern team<br /><br /></div><br /><div class=\"systemMessageOk\"><br />    Follow the GenePattern team on <a href=\"https://twitter.com/GenePattern\", target=\"_blank\">Twitter</a>, <a href=\"https://www.instagram.com/genepatternnotebook/\",target=\"_blank\">Instagram</a> or <a href=\"https://www.facebook.com/GenePattern\", target=\"_blank\">Facebook</a> to keep up with the latest news and events or <a href=\"https://groups.google.com/forum/?utm_medium=email&utm_source=footer#!forum/genepattern-help\", target=\"_blank\">join the conversation in our forum</a>!<br /><br /><a href=\"https://genepattern.org/genepattern-in-the-amazon-cloud\", target=\"_blank\">Terms of Service</a> - Updated August 2020<br /><br /></div>",
       "layout": "IPY_MODEL_7daeaaf5aa624b3091b416de2e60bd77",
       "logo": "https://notebook.genepattern.org/hub/logo",
       "name": "https://cloud.genepattern.org/gp",
       "origin": "genepattern.authwidget",
       "output": "IPY_MODEL_85947d8081d3461bb9626f34bce6af23",
       "output_var": ""
      }
     },
     "72dbd8770b3547debdb45b9f1db2a18c": {
      "model_module": "@jupyter-widgets/controls",
      "model_module_version": "1.5.0",
      "model_name": "LabelModel",
      "state": {
       "layout": "IPY_MODEL_eef270bbf0d64385a28f2fff3c0196fd",
       "style": "IPY_MODEL_c2a5d70f601b4c149b4a9ba48644b05f"
      }
     },
     "72e94021c1084bc2bc78b96f8d4587cc": {
      "model_module": "@jupyter-widgets/controls",
      "model_module_version": "1.5.0",
      "model_name": "LabelModel",
      "state": {
       "layout": "IPY_MODEL_09b9c3738d754eeab8e774f1658fbf2d",
       "style": "IPY_MODEL_0a57f41c14494c07a0e397c070701162"
      }
     },
     "7367641a93b643078452ada8d7c3d74a": {
      "model_module": "@jupyter-widgets/base",
      "model_module_version": "1.2.0",
      "model_name": "LayoutModel",
      "state": {
       "grid_area": "label",
       "width": "auto"
      }
     },
     "736e36f6e79040f7aaf7f0de2501890b": {
      "model_module": "@jupyter-widgets/controls",
      "model_module_version": "1.5.0",
      "model_name": "LabelModel",
      "state": {
       "description": "output variable",
       "layout": "IPY_MODEL_dd8d2ae4480f4fd694a3edb429845545",
       "style": "IPY_MODEL_954b8b2c3eff417a9ce7f26ace88d471",
       "value": "output variable"
      }
     },
     "73cb5128f58f4b08b554d10009e1b22e": {
      "model_module": "@jupyter-widgets/controls",
      "model_module_version": "1.5.0",
      "model_name": "LabelModel",
      "state": {
       "description": "bar",
       "layout": "IPY_MODEL_bc4b3e2e5fa6432fb8208402358611d5",
       "style": "IPY_MODEL_678ff0badca2419ab2e09746767fd872",
       "value": "bar*"
      }
     },
     "752735c9b2ba43508d57489d827729a8": {
      "model_module": "@jupyter-widgets/controls",
      "model_module_version": "1.5.0",
      "model_name": "LabelModel",
      "state": {
       "description": "The input file (any non-binary file format)",
       "layout": "IPY_MODEL_ab6abd7162664a67bb17bde8c222370c",
       "style": "IPY_MODEL_7f41f91a87cc406f8f68df9628ca8d82",
       "value": "The input file (any non-binary file format)"
      }
     },
     "75a25b7fd01141698a464138403e22f3": {
      "model_module": "@jupyter-widgets/controls",
      "model_module_version": "1.5.0",
      "model_name": "LabelModel",
      "state": {
       "description": "input_filename",
       "layout": "IPY_MODEL_62b5f59cf5894367b32f72534e043afa",
       "style": "IPY_MODEL_cb0f019e3fc1480196b8045c8a07c917",
       "value": "input_filename*"
      }
     },
     "77e4b358c83e444eadb02332ca0731e6": {
      "model_module": "@jupyter-widgets/base",
      "model_module_version": "1.2.0",
      "model_name": "LayoutModel",
      "state": {}
     },
     "78cc5c5ed3854330b08ab111332853e9": {
      "model_module": "@jupyter-widgets/output",
      "model_module_version": "1.0.0",
      "model_name": "OutputModel",
      "state": {
       "layout": "IPY_MODEL_13032f4b4cc04790addfd59370ea5308"
      }
     },
     "79d84b10ae3e4df49bd4977122b862e8": {
      "model_module": "@jupyter-widgets/controls",
      "model_module_version": "1.5.0",
      "model_name": "LabelModel",
      "state": {
       "layout": "IPY_MODEL_c7069286778d4470a877f5b90b1cf663",
       "style": "IPY_MODEL_51a411d6e30b4111a615f9fa36487061"
      }
     },
     "7bc0a61e041945309fc058c30cf71fc8": {
      "model_module": "@jupyter-widgets/base",
      "model_module_version": "1.2.0",
      "model_name": "LayoutModel",
      "state": {}
     },
     "7daeaaf5aa624b3091b416de2e60bd77": {
      "model_module": "@jupyter-widgets/base",
      "model_module_version": "1.2.0",
      "model_name": "LayoutModel",
      "state": {}
     },
     "7e20407b485c478ea4ab39a36cdc926c": {
      "model_module": "@jupyter-widgets/controls",
      "model_module_version": "1.5.0",
      "model_name": "TextModel",
      "state": {
       "_dom_classes": [
        "nbtools-menu-attached"
       ],
       "layout": "IPY_MODEL_6ad5278f529243a594f8aeef877467d1",
       "style": "IPY_MODEL_01f2b75acdfd40ae87076312620120d6"
      }
     },
     "7ec3ca3447c3403ead1fb5a84be7e010": {
      "model_module": "@jupyter-widgets/controls",
      "model_module_version": "1.5.0",
      "model_name": "DescriptionStyleModel",
      "state": {
       "description_width": ""
      }
     },
     "7f41f91a87cc406f8f68df9628ca8d82": {
      "model_module": "@jupyter-widgets/controls",
      "model_module_version": "1.5.0",
      "model_name": "DescriptionStyleModel",
      "state": {
       "description_width": ""
      }
     },
     "7fb27448785144ab8ba447892401fb4f": {
      "model_module": "@jupyter-widgets/controls",
      "model_module_version": "1.5.0",
      "model_name": "LabelModel",
      "state": {
       "layout": "IPY_MODEL_162e60a4be964bccaac6142bb49bd19b",
       "style": "IPY_MODEL_2d6ad199e1ae4274855c27d581df3a2c"
      }
     },
     "800983394975476eb40fc292470981d2": {
      "model_module": "@jupyter-widgets/controls",
      "model_module_version": "1.5.0",
      "model_name": "GridBoxModel",
      "state": {
       "_dom_classes": [
        "nbtools-input",
        "nbtools-textinput"
       ],
       "children": [
        "IPY_MODEL_406591ceb64441d68070b7feedfc3d1b",
        "IPY_MODEL_001b9bb03c3b40ee8c1eec2bab1bb9fa",
        "IPY_MODEL_c7e0c2d96f6a45a793b05a8ef9aa08a4"
       ],
       "layout": "IPY_MODEL_685f02594a3f4a0dafb6dfafd89c8395"
      }
     },
     "8097d6c6558d4dea9350e081ddebc24c": {
      "model_module": "@jupyter-widgets/output",
      "model_module_version": "1.0.0",
      "model_name": "OutputModel",
      "state": {
       "layout": "IPY_MODEL_0d4253829cc54df08df79525ec3c5124"
      }
     },
     "814eaedb3cc54d2eb9d21538323d82e1": {
      "model_module": "@jupyter-widgets/controls",
      "model_module_version": "1.5.0",
      "model_name": "DescriptionStyleModel",
      "state": {
       "description_width": ""
      }
     },
     "824e41d48a384094a124978e667371c8": {
      "model_module": "@jupyter-widgets/base",
      "model_module_version": "1.2.0",
      "model_name": "LayoutModel",
      "state": {}
     },
     "82606ab1a40042ee8f684bee52f967c8": {
      "model_module": "@jupyter-widgets/controls",
      "model_module_version": "1.5.0",
      "model_name": "DescriptionStyleModel",
      "state": {
       "description_width": ""
      }
     },
     "82f40bfa5a74413b8c78191cc4974459": {
      "model_module": "@jupyter-widgets/base",
      "model_module_version": "1.2.0",
      "model_name": "LayoutModel",
      "state": {}
     },
     "8494a13740b64fad9fd0f190e4071559": {
      "model_module": "@jupyter-widgets/base",
      "model_module_version": "1.2.0",
      "model_name": "LayoutModel",
      "state": {
       "grid_area": "label",
       "width": "auto"
      }
     },
     "850467a31d8b4641ba863a0722a78953": {
      "model_module": "@jupyter-widgets/controls",
      "model_module_version": "1.5.0",
      "model_name": "LabelModel",
      "state": {
       "description": "output variable",
       "layout": "IPY_MODEL_7367641a93b643078452ada8d7c3d74a",
       "style": "IPY_MODEL_98bb747820c4480089e5492112d6e366",
       "value": "output variable"
      }
     },
     "85947d8081d3461bb9626f34bce6af23": {
      "model_module": "@jupyter-widgets/output",
      "model_module_version": "1.0.0",
      "model_name": "OutputModel",
      "state": {
       "layout": "IPY_MODEL_d4931b1ed3834f218f985f2c22fdb80d"
      }
     },
     "859491d33c7a473196477a58eb2a13c7": {
      "model_module": "@jupyter-widgets/controls",
      "model_module_version": "1.5.0",
      "model_name": "DescriptionStyleModel",
      "state": {
       "description_width": ""
      }
     },
     "869bc361bc2b4fdbad4538319cd143b5": {
      "model_module": "@jupyter-widgets/controls",
      "model_module_version": "1.5.0",
      "model_name": "TextModel",
      "state": {
       "_dom_classes": [
        "nbtools-menu-attached"
       ],
       "layout": "IPY_MODEL_00a1c46803d94c6f873981aae2b79aaf",
       "style": "IPY_MODEL_1a84046295de4e5d8cd938bb791bb24e"
      }
     },
     "86f7ca1d31cc4d95be4b83c085e3de67": {
      "model_module": "@jupyter-widgets/controls",
      "model_module_version": "1.5.0",
      "model_name": "VBoxModel",
      "state": {
       "children": [
        "IPY_MODEL_b40b106ee06f4f9ca8ae88707b9fe422"
       ],
       "layout": "IPY_MODEL_4d475507b7714aa8960025d965195fec"
      }
     },
     "89bd695e5bd842a4a4015679697f0223": {
      "model_module": "@jupyter-widgets/base",
      "model_module_version": "1.2.0",
      "model_name": "LayoutModel",
      "state": {}
     },
     "8a5d5a58e3724bb2b99441a07d3c9b71": {
      "model_module": "@jupyter-widgets/base",
      "model_module_version": "1.2.0",
      "model_name": "LayoutModel",
      "state": {
       "grid_area": "description",
       "width": "auto"
      }
     },
     "8bbcd3e090894522ba67a520c76f9f80": {
      "model_module": "@jupyter-widgets/base",
      "model_module_version": "1.2.0",
      "model_name": "LayoutModel",
      "state": {
       "grid_area": "input",
       "width": "auto"
      }
     },
     "8c4efe6dbb6c4e4f8988748a02ea756c": {
      "model_module": "@jupyter-widgets/controls",
      "model_module_version": "1.5.0",
      "model_name": "DescriptionStyleModel",
      "state": {
       "description_width": ""
      }
     },
     "8cfa40ce57d24b6e88114542b9edd9bf": {
      "model_module": "@jupyter-widgets/controls",
      "model_module_version": "1.5.0",
      "model_name": "DescriptionStyleModel",
      "state": {
       "description_width": ""
      }
     },
     "8db22a1a30284f979f81a9528da0432c": {
      "model_module": "@jupyter-widgets/base",
      "model_module_version": "1.2.0",
      "model_name": "LayoutModel",
      "state": {
       "grid_area": "input",
       "width": "auto"
      }
     },
     "8fee1f09336340d8b41e5ea674950234": {
      "model_module": "@jupyter-widgets/base",
      "model_module_version": "1.2.0",
      "model_name": "LayoutModel",
      "state": {
       "display": "none",
       "grid_template_areas": "\n                    \"label input\"\n                    \". description\"\n                ",
       "grid_template_columns": "25% 75%",
       "grid_template_rows": "auto auto",
       "width": "100%"
      }
     },
     "90ba2db30f4c44739b3311f5e6dd3777": {
      "model_module": "@jupyter-widgets/controls",
      "model_module_version": "1.5.0",
      "model_name": "GridBoxModel",
      "state": {
       "_dom_classes": [
        "nbtools-input",
        "nbtools-textinput"
       ],
       "children": [
        "IPY_MODEL_5b4afb5e4832414eba24bc0d2349c3de",
        "IPY_MODEL_62a4e8a224d84a388bc5a732ccb8cad0",
        "IPY_MODEL_cf81f85cff65464ebd212b44ef360f8f"
       ],
       "layout": "IPY_MODEL_ead2e20fad294a31a77e7c6370273506"
      }
     },
     "919a4c4468744287a030241005a834ec": {
      "model_module": "@jupyter-widgets/controls",
      "model_module_version": "1.5.0",
      "model_name": "LabelModel",
      "state": {
       "layout": "IPY_MODEL_222b4a5a7db548dc805a109390a97378",
       "style": "IPY_MODEL_383ef12e6219458f8c340a4d708fe741"
      }
     },
     "91d0e4f6bcc14b5b95b5453cbb97b490": {
      "model_module": "@jupyter-widgets/output",
      "model_module_version": "1.0.0",
      "model_name": "OutputModel",
      "state": {
       "layout": "IPY_MODEL_e1309af4a62e47e29c42fd095d53eece",
       "outputs": [
        {
         "data": {
          "application/vnd.jupyter.widget-view+json": {
           "model_id": "7108dd068fc641a88279fe3ab3867688",
           "version_major": 2,
           "version_minor": 0
          },
          "text/plain": "GPAuthWidget(collapse=True, collapsed=True, color='rgba(10, 45, 105, 0.80)', display_footer=False, display_hea…"
         },
         "metadata": {},
         "output_type": "display_data"
        },
        {
         "data": {
          "application/vnd.jupyter.widget-view+json": {
           "model_id": "85947d8081d3461bb9626f34bce6af23",
           "version_major": 2,
           "version_minor": 0
          },
          "text/plain": "Output()"
         },
         "metadata": {},
         "output_type": "display_data"
        }
       ]
      }
     },
     "91ff12c634d0465c893e206feda558e3": {
      "model_module": "@jupyter-widgets/controls",
      "model_module_version": "1.5.0",
      "model_name": "TextModel",
      "state": {
       "_dom_classes": [
        "nbtools-menu-attached",
        "nbtools-nosendto"
       ],
       "layout": "IPY_MODEL_d8f5d3862f0a44fbbf97a70a5a4695d4",
       "style": "IPY_MODEL_64a1e220675546cea7fa9a7f9b5da738",
       "value": "tabor"
      }
     },
     "9449fdb71baf408386a1c8fbbad561a5": {
      "model_module": "@jupyter-widgets/base",
      "model_module_version": "1.2.0",
      "model_name": "LayoutModel",
      "state": {
       "grid_template_areas": "\n                    \"label input\"\n                    \". description\"\n                ",
       "grid_template_columns": "25% 75%",
       "grid_template_rows": "auto auto",
       "width": "100%"
      }
     },
     "945d601947bb4e2793b25872ac9b38f2": {
      "model_module": "@jupyter-widgets/controls",
      "model_module_version": "1.5.0",
      "model_name": "FileUploadModel",
      "state": {
       "accept": ".res, .gct, .odf, .Dataset",
       "description_tooltip": null,
       "layout": "IPY_MODEL_e69e2c4c3c3e4e1081d183153c7bc370",
       "style": "IPY_MODEL_a5f3a9d32996474ab4795ff8907fe55d"
      }
     },
     "954b8b2c3eff417a9ce7f26ace88d471": {
      "model_module": "@jupyter-widgets/controls",
      "model_module_version": "1.5.0",
      "model_name": "DescriptionStyleModel",
      "state": {
       "description_width": ""
      }
     },
     "9775c5adb104459db17f76d17376efe7": {
      "model_module": "@jupyter-widgets/base",
      "model_module_version": "1.2.0",
      "model_name": "LayoutModel",
      "state": {
       "grid_area": "label",
       "width": "auto"
      }
     },
     "98bb747820c4480089e5492112d6e366": {
      "model_module": "@jupyter-widgets/controls",
      "model_module_version": "1.5.0",
      "model_name": "DescriptionStyleModel",
      "state": {
       "description_width": ""
      }
     },
     "993211c4ca974fe493b935364447dc30": {
      "model_module": "@jupyter-widgets/base",
      "model_module_version": "1.2.0",
      "model_name": "LayoutModel",
      "state": {
       "grid_area": "description",
       "width": "auto"
      }
     },
     "9b4b19496107458ea5dc0acc10e32db4": {
      "model_module": "@jupyter-widgets/base",
      "model_module_version": "1.2.0",
      "model_name": "LayoutModel",
      "state": {}
     },
     "9d1f512ee42f4140bbe0598c40e91cd2": {
      "model_module": "@jupyter-widgets/controls",
      "model_module_version": "1.5.0",
      "model_name": "DescriptionStyleModel",
      "state": {
       "description_width": ""
      }
     },
     "9f08302b714643538cbb7c8d373261ba": {
      "model_module": "@jupyter-widgets/base",
      "model_module_version": "1.2.0",
      "model_name": "LayoutModel",
      "state": {
       "grid_area": "label",
       "width": "auto"
      }
     },
     "9fec4cdc73924d0ab21f752d7f12b558": {
      "model_module": "@jupyter-widgets/base",
      "model_module_version": "1.2.0",
      "model_name": "LayoutModel",
      "state": {
       "grid_template_areas": "\n                    \"label input\"\n                    \". description\"\n                ",
       "grid_template_columns": "25% 75%",
       "grid_template_rows": "auto auto",
       "width": "100%"
      }
     },
     "a076dc2abe0845b6ad2d7bed34b364b2": {
      "model_module": "@jupyter-widgets/base",
      "model_module_version": "1.2.0",
      "model_name": "LayoutModel",
      "state": {}
     },
     "a0eed1798576470f98a8ed0a2bb075d7": {
      "model_module": "@jupyter-widgets/base",
      "model_module_version": "1.2.0",
      "model_name": "LayoutModel",
      "state": {
       "grid_area": "label",
       "width": "auto"
      }
     },
     "a105446b3a4a4c7a8a0925b7566a216d": {
      "model_module": "@jupyter-widgets/base",
      "model_module_version": "1.2.0",
      "model_name": "LayoutModel",
      "state": {
       "display": "none",
       "grid_template_areas": "\n                    \"label input\"\n                    \". description\"\n                ",
       "grid_template_columns": "25% 75%",
       "grid_template_rows": "auto auto",
       "width": "100%"
      }
     },
     "a14c69a60a884445b9e8317fc504b445": {
      "model_module": "@jupyter-widgets/controls",
      "model_module_version": "1.5.0",
      "model_name": "GridBoxModel",
      "state": {
       "_dom_classes": [
        "nbtools-input",
        "nbtools-textinput"
       ],
       "children": [
        "IPY_MODEL_4e3aeb9d653e4b7eaf23e2487dc8e8da",
        "IPY_MODEL_3679fa9a1db64e36a1e88e28b69d3c3e",
        "IPY_MODEL_919a4c4468744287a030241005a834ec"
       ],
       "layout": "IPY_MODEL_3dc1e477057d40b2b353e475b8bdff00"
      }
     },
     "a272a592eb8f4ea1b20d021669cc0d82": {
      "model_module": "@jupyter-widgets/controls",
      "model_module_version": "1.5.0",
      "model_name": "LabelModel",
      "state": {
       "layout": "IPY_MODEL_63138fffbba149158d04bf0c9ff16ae2",
       "style": "IPY_MODEL_d98a8258b22e4fc69e7d7830c8a21e9b"
      }
     },
     "a298e68e53134e0ba7b428d010a195dd": {
      "model_module": "@jupyter-widgets/controls",
      "model_module_version": "1.5.0",
      "model_name": "LabelModel",
      "state": {
       "description": "output variable",
       "layout": "IPY_MODEL_f73ece8f746441049202ca47ce1f9066",
       "style": "IPY_MODEL_859491d33c7a473196477a58eb2a13c7",
       "value": "output variable"
      }
     },
     "a391777349504fc8b806fd2e745df7c8": {
      "model_module": "@jupyter-widgets/controls",
      "model_module_version": "1.5.0",
      "model_name": "DescriptionStyleModel",
      "state": {
       "description_width": ""
      }
     },
     "a3d8aef14d9b4265b6806ca4c7512f79": {
      "model_module": "@jupyter-widgets/controls",
      "model_module_version": "1.5.0",
      "model_name": "DescriptionStyleModel",
      "state": {
       "description_width": ""
      }
     },
     "a41e246a2b94441baccdd52192320b6d": {
      "model_module": "@jupyter-widgets/controls",
      "model_module_version": "1.5.0",
      "model_name": "LabelModel",
      "state": {
       "description": "bar",
       "layout": "IPY_MODEL_0e2f63c6366e40c1bbfca84b9ff63079",
       "style": "IPY_MODEL_8c4efe6dbb6c4e4f8988748a02ea756c",
       "value": "bar*"
      }
     },
     "a460999da1de473ca0f53069d521f5c2": {
      "model_module": "@jupyter-widgets/base",
      "model_module_version": "1.2.0",
      "model_name": "LayoutModel",
      "state": {
       "grid_area": "input",
       "width": "auto"
      }
     },
     "a479773941af4ce5ae4869f472627941": {
      "model_module": "@jupyter-widgets/base",
      "model_module_version": "1.2.0",
      "model_name": "LayoutModel",
      "state": {}
     },
     "a5b47b88898443869062ce5d80cd0309": {
      "model_module": "@jupyter-widgets/controls",
      "model_module_version": "1.5.0",
      "model_name": "DescriptionStyleModel",
      "state": {
       "description_width": ""
      }
     },
     "a5f3a9d32996474ab4795ff8907fe55d": {
      "model_module": "@jupyter-widgets/controls",
      "model_module_version": "1.5.0",
      "model_name": "ButtonStyleModel",
      "state": {}
     },
     "a64c8e5986f64cf59323eb891d4a3897": {
      "model_module": "@jupyter-widgets/base",
      "model_module_version": "1.2.0",
      "model_name": "LayoutModel",
      "state": {}
     },
     "a71d9797f6fd4f80a9b9339f3d5e1f8a": {
      "model_module": "@jupyter-widgets/controls",
      "model_module_version": "1.5.0",
      "model_name": "LabelModel",
      "state": {
       "description": "Username",
       "layout": "IPY_MODEL_a0eed1798576470f98a8ed0a2bb075d7",
       "style": "IPY_MODEL_cc05646919964aa799051f300b0e1d71",
       "value": "Username*"
      }
     },
     "a737bfbb7d754af39ce4320bd4585756": {
      "model_module": "@jupyter-widgets/base",
      "model_module_version": "1.2.0",
      "model_name": "LayoutModel",
      "state": {
       "grid_area": "description",
       "width": "auto"
      }
     },
     "a769b6c3f2c7449085c7486a3fad8f14": {
      "model_module": "@jupyter-widgets/base",
      "model_module_version": "1.2.0",
      "model_name": "LayoutModel",
      "state": {
       "grid_area": "input",
       "width": "auto"
      }
     },
     "a9c5f31b602c460eb6092daade1214b7": {
      "model_module": "@jupyter-widgets/base",
      "model_module_version": "1.2.0",
      "model_name": "LayoutModel",
      "state": {}
     },
     "a9ebe103f6394b63996faf45f81b610f": {
      "model_module": "@jupyter-widgets/base",
      "model_module_version": "1.2.0",
      "model_name": "LayoutModel",
      "state": {}
     },
     "ab6abd7162664a67bb17bde8c222370c": {
      "model_module": "@jupyter-widgets/base",
      "model_module_version": "1.2.0",
      "model_name": "LayoutModel",
      "state": {
       "grid_area": "description",
       "width": "auto"
      }
     },
     "aba92c91f8d64a28ac081bf0ab734b34": {
      "model_module": "@jupyter-widgets/controls",
      "model_module_version": "1.5.0",
      "model_name": "GridBoxModel",
      "state": {
       "_dom_classes": [
        "nbtools-input",
        "nbtools-textinput"
       ],
       "children": [
        "IPY_MODEL_d07e4eea1cf54b19bd6fe5c4b8868cbe",
        "IPY_MODEL_7e20407b485c478ea4ab39a36cdc926c",
        "IPY_MODEL_a272a592eb8f4ea1b20d021669cc0d82"
       ],
       "layout": "IPY_MODEL_04bb275b4fc54e5ea53f47f3a6d27009"
      }
     },
     "ac0ca722cfc34ec78e669d72afa03567": {
      "model_module": "@jupyter-widgets/output",
      "model_module_version": "1.0.0",
      "model_name": "OutputModel",
      "state": {
       "layout": "IPY_MODEL_fc9d5d282422403998ed6cd5b9dcdcfb"
      }
     },
     "ac118440bd104de2b917d44576d34f48": {
      "model_module": "@jupyter-widgets/base",
      "model_module_version": "1.2.0",
      "model_name": "LayoutModel",
      "state": {}
     },
     "ac8343e6bd5f4174a57e046427199b07": {
      "model_module": "@jupyter-widgets/controls",
      "model_module_version": "1.5.0",
      "model_name": "LabelModel",
      "state": {
       "layout": "IPY_MODEL_2f8dc57a805b40cdafcd3a470f898208",
       "style": "IPY_MODEL_9d1f512ee42f4140bbe0598c40e91cd2"
      }
     },
     "ae39558e0d1042ceb5a171dad634333a": {
      "model_module": "@jupyter-widgets/controls",
      "model_module_version": "1.5.0",
      "model_name": "ButtonStyleModel",
      "state": {}
     },
     "ae66ea040d53481fa0a5b966dc518661": {
      "model_module": "@jupyter-widgets/base",
      "model_module_version": "1.2.0",
      "model_name": "LayoutModel",
      "state": {}
     },
     "aecfa174aefc413dabdd9f0e7e349f9f": {
      "model_module": "@jupyter-widgets/controls",
      "model_module_version": "1.5.0",
      "model_name": "VBoxModel",
      "state": {
       "children": [
        "IPY_MODEL_3fe22a95de524a3eabaa66a582564fe1"
       ],
       "layout": "IPY_MODEL_355d52ad0ad0454c864c2e15e61e86bd"
      }
     },
     "afa685e50b2a48208533dc80078b201d": {
      "model_module": "@jupyter-widgets/controls",
      "model_module_version": "1.5.0",
      "model_name": "GridBoxModel",
      "state": {
       "_dom_classes": [
        "nbtools-input",
        "nbtools-textinput"
       ],
       "children": [
        "IPY_MODEL_736e36f6e79040f7aaf7f0de2501890b",
        "IPY_MODEL_d47c5338a567400abd5b941c2f293976",
        "IPY_MODEL_72dbd8770b3547debdb45b9f1db2a18c"
       ],
       "layout": "IPY_MODEL_a105446b3a4a4c7a8a0925b7566a216d"
      }
     },
     "b1f2873792c646b094d29aa619124c40": {
      "model_module": "@jupyter-widgets/controls",
      "model_module_version": "1.5.0",
      "model_name": "PasswordModel",
      "state": {
       "layout": "IPY_MODEL_8db22a1a30284f979f81a9528da0432c",
       "style": "IPY_MODEL_33ccc0cff24a4d4d878ca1fb5afab920"
      }
     },
     "b262e2af551048eb8ebfb9447963f2b1": {
      "model_module": "@jupyter-widgets/base",
      "model_module_version": "1.2.0",
      "model_name": "LayoutModel",
      "state": {}
     },
     "b40b106ee06f4f9ca8ae88707b9fe422": {
      "model_module": "@jupyter-widgets/controls",
      "model_module_version": "1.5.0",
      "model_name": "ComboboxModel",
      "state": {
       "_dom_classes": [
        "nbtools-menu-attached"
       ],
       "choices": {},
       "ensure_option": false,
       "kinds": [
        "res",
        "gct",
        "odf",
        "Dataset"
       ],
       "layout": "IPY_MODEL_77e4b358c83e444eadb02332ca0731e6",
       "style": "IPY_MODEL_814eaedb3cc54d2eb9d21538323d82e1"
      }
     },
     "b411c2d1d3db40aebd8006216895c764": {
      "model_module": "@jupyter-widgets/controls",
      "model_module_version": "1.5.0",
      "model_name": "ButtonStyleModel",
      "state": {}
     },
     "b5a567a451454b7eb8c71ad894e7f566": {
      "model_module": "@jupyter-widgets/controls",
      "model_module_version": "1.5.0",
      "model_name": "DescriptionStyleModel",
      "state": {
       "description_width": ""
      }
     },
     "b8628c45a453492286f983233e50276e": {
      "model_module": "@jupyter-widgets/controls",
      "model_module_version": "1.5.0",
      "model_name": "TextModel",
      "state": {
       "_dom_classes": [
        "nbtools-menu-attached"
       ],
       "layout": "IPY_MODEL_d907d5bda5f643e89094b287679ad9dd",
       "style": "IPY_MODEL_5ff60dc56d1a4bb892e61a9e616e73a9",
       "value": "<input.filename_basename>.cvt.<input.filename_extension>"
      }
     },
     "b86d26f1ada348239c313dc9ee568111": {
      "model_module": "@jupyter-widgets/controls",
      "model_module_version": "1.5.0",
      "model_name": "LabelModel",
      "state": {
       "layout": "IPY_MODEL_8a5d5a58e3724bb2b99441a07d3c9b71",
       "style": "IPY_MODEL_63eb6919df5b47909cfe074fd2c92d7e"
      }
     },
     "b883fbcdae994e2a83c6b0454a2ad593": {
      "model_module": "@jupyter-widgets/base",
      "model_module_version": "1.2.0",
      "model_name": "LayoutModel",
      "state": {
       "display": "none",
       "grid_template_areas": "\n                    \"label input\"\n                    \". description\"\n                ",
       "grid_template_columns": "25% 75%",
       "grid_template_rows": "auto auto",
       "width": "100%"
      }
     },
     "ba4b0f950f954041943adb6586dc94e5": {
      "model_module": "@jupyter-widgets/controls",
      "model_module_version": "1.5.0",
      "model_name": "ButtonModel",
      "state": {
       "_dom_classes": [
        "hidden"
       ],
       "description": "Run",
       "layout": "IPY_MODEL_f5d741ce78bb47469cd66eb8372896b8",
       "style": "IPY_MODEL_e6b231b94faf412a9a2da6f702f65218"
      }
     },
     "ba9c26c38cd5455896d7741e8f41d267": {
      "model_module": "@jupyter-widgets/base",
      "model_module_version": "1.2.0",
      "model_name": "LayoutModel",
      "state": {
       "grid_area": "input",
       "width": "auto"
      }
     },
     "bb931c1e456d4c7fbe65c3d50a1b5409": {
      "model_module": "@jupyter-widgets/controls",
      "model_module_version": "1.5.0",
      "model_name": "DescriptionStyleModel",
      "state": {
       "description_width": ""
      }
     },
     "bc4b3e2e5fa6432fb8208402358611d5": {
      "model_module": "@jupyter-widgets/base",
      "model_module_version": "1.2.0",
      "model_name": "LayoutModel",
      "state": {
       "grid_area": "label",
       "width": "auto"
      }
     },
     "bd12a177d27a483e9d526e8ff1b7c89b": {
      "model_module": "@jupyter-widgets/controls",
      "model_module_version": "1.5.0",
      "model_name": "ButtonStyleModel",
      "state": {}
     },
     "be6f2298d9d64d448297cfb13f8dd1cf": {
      "model_module": "@jupyter-widgets/output",
      "model_module_version": "1.0.0",
      "model_name": "OutputModel",
      "state": {
       "layout": "IPY_MODEL_056ceb356ed54fe2b113098455a8d1a6"
      }
     },
     "be8c7a5d3e8b49aba13e4c085eb10814": {
      "model_module": "@jupyter-widgets/base",
      "model_module_version": "1.2.0",
      "model_name": "LayoutModel",
      "state": {}
     },
     "bf1463286221489280c693fe56bf4c96": {
      "model_module": "@jupyter-widgets/base",
      "model_module_version": "1.2.0",
      "model_name": "LayoutModel",
      "state": {
       "display": "none",
       "grid_template_areas": "\n                    \"label input\"\n                    \". description\"\n                ",
       "grid_template_columns": "25% 75%",
       "grid_template_rows": "auto auto",
       "width": "100%"
      }
     },
     "bf5a764de5e24c4687c0a4c49c2dbd0e": {
      "model_module": "@jupyter-widgets/controls",
      "model_module_version": "1.5.0",
      "model_name": "TextModel",
      "state": {
       "_dom_classes": [
        "nbtools-menu-attached"
       ],
       "layout": "IPY_MODEL_370c3e29d96549d180456fbf556d310e",
       "style": "IPY_MODEL_efa56f3e7f65457a8030a03899a349cc"
      }
     },
     "c0d6841da6cc4cf1926cbbc344173f14": {
      "model_module": "@jupyter-widgets/controls",
      "model_module_version": "1.5.0",
      "model_name": "DescriptionStyleModel",
      "state": {
       "description_width": ""
      }
     },
     "c1c3628d47324d69ae0ae8653e149cc6": {
      "model_module": "@jupyter-widgets/controls",
      "model_module_version": "1.5.0",
      "model_name": "ButtonStyleModel",
      "state": {}
     },
     "c2a5d70f601b4c149b4a9ba48644b05f": {
      "model_module": "@jupyter-widgets/controls",
      "model_module_version": "1.5.0",
      "model_name": "DescriptionStyleModel",
      "state": {
       "description_width": ""
      }
     },
     "c2b0f43c27614223a71738d990141e7e": {
      "model_module": "@jupyter-widgets/controls",
      "model_module_version": "1.5.0",
      "model_name": "VBoxModel",
      "state": {
       "layout": "IPY_MODEL_523ef9088c1048e6a8aeabcd9a3e151c"
      }
     },
     "c38ad85fd47b4bce872e76e6d209bc18": {
      "model_module": "@jupyter-widgets/controls",
      "model_module_version": "1.5.0",
      "model_name": "VBoxModel",
      "state": {
       "_dom_classes": [
        "widget-interact"
       ],
       "children": [
        "IPY_MODEL_fd14d7fe7e89460f85a0c04dad336f41",
        "IPY_MODEL_ddb2b19a9fdb40c0b0f64923984f974d",
        "IPY_MODEL_527712b025084b8bae85079303491b3b",
        "IPY_MODEL_afa685e50b2a48208533dc80078b201d"
       ],
       "layout": "IPY_MODEL_4a2fa990cfe04d5eaa077015291e5441"
      }
     },
     "c39beb9e97f24761bae1aff2e7522261": {
      "model_module": "@jupyter-widgets/base",
      "model_module_version": "1.2.0",
      "model_name": "LayoutModel",
      "state": {
       "grid_area": "label",
       "width": "auto"
      }
     },
     "c56080b06eca45e7b4381bda6511410d": {
      "model_module": "@jupyter-widgets/controls",
      "model_module_version": "1.5.0",
      "model_name": "HBoxModel",
      "state": {
       "children": [
        "IPY_MODEL_d9884d7c0b4441b39daf890ba7d0c30f",
        "IPY_MODEL_aecfa174aefc413dabdd9f0e7e349f9f"
       ],
       "layout": "IPY_MODEL_3dd65ace1a89439c901266b906475878"
      }
     },
     "c578e4eb083241e9a6c3b1ba8427f01b": {
      "model_module": "@jupyter-widgets/controls",
      "model_module_version": "1.5.0",
      "model_name": "DescriptionStyleModel",
      "state": {
       "description_width": ""
      }
     },
     "c5827c5c561a4fecbe929c73770417cc": {
      "model_module": "@jupyter-widgets/controls",
      "model_module_version": "1.5.0",
      "model_name": "ButtonModel",
      "state": {
       "_dom_classes": [
        "hidden"
       ],
       "description": "Run",
       "layout": "IPY_MODEL_18c1fcfd247d4debb3f708fe839de800",
       "style": "IPY_MODEL_f06965b222f04a2d9ce039524c1d3cee"
      }
     },
     "c5ced5ab1c9246e08a87564af49ecd5a": {
      "model_module": "@jupyter-widgets/base",
      "model_module_version": "1.2.0",
      "model_name": "LayoutModel",
      "state": {
       "grid_area": "input",
       "width": "auto"
      }
     },
     "c7069286778d4470a877f5b90b1cf663": {
      "model_module": "@jupyter-widgets/base",
      "model_module_version": "1.2.0",
      "model_name": "LayoutModel",
      "state": {
       "grid_area": "description",
       "width": "auto"
      }
     },
     "c77b79f47f3947d281e56a120fd26878": {
      "model_module": "@jupyter-widgets/output",
      "model_module_version": "1.0.0",
      "model_name": "OutputModel",
      "state": {
       "layout": "IPY_MODEL_be8c7a5d3e8b49aba13e4c085eb10814",
       "outputs": [
        {
         "data": {},
         "metadata": {},
         "output_type": "display_data"
        },
        {
         "data": {
          "application/vnd.jupyter.widget-view+json": {
           "model_id": "fb3352667621456592577d48ff2cbf8d",
           "version_major": 2,
           "version_minor": 0
          },
          "text/plain": "GPTaskWidget(collapse=True, color='rgba(10, 45, 105, 0.80)', description=\"Converts line endings to the host op…"
         },
         "metadata": {},
         "output_type": "display_data"
        },
        {
         "data": {
          "application/vnd.jupyter.widget-view+json": {
           "model_id": "eb2213e8ceb74f3c8a014d2d905b585e",
           "version_major": 2,
           "version_minor": 0
          },
          "text/plain": "Output()"
         },
         "metadata": {},
         "output_type": "display_data"
        }
       ]
      }
     },
     "c7e0c2d96f6a45a793b05a8ef9aa08a4": {
      "model_module": "@jupyter-widgets/controls",
      "model_module_version": "1.5.0",
      "model_name": "LabelModel",
      "state": {
       "layout": "IPY_MODEL_dd934f45307d4b45a88472b7e0f83ae8",
       "style": "IPY_MODEL_5687e6a04c9b4bf0a594e95df935233e"
      }
     },
     "c8c5a75e155045b5a061865d21139c54": {
      "model_module": "@jupyter-widgets/controls",
      "model_module_version": "1.5.0",
      "model_name": "ButtonModel",
      "state": {
       "_dom_classes": [
        "hidden"
       ],
       "description": "Run",
       "layout": "IPY_MODEL_a479773941af4ce5ae4869f472627941",
       "style": "IPY_MODEL_0b3e7331d3d8402091b5cb98874593ef"
      }
     },
     "c9cd062cfc2848c89a648f3d930e98d3": {
      "model_module": "@jupyter-widgets/controls",
      "model_module_version": "1.5.0",
      "model_name": "DescriptionStyleModel",
      "state": {
       "description_width": ""
      }
     },
     "ca2cedbad93f47a38cb3cd9660111afa": {
      "model_module": "@jupyter-widgets/controls",
      "model_module_version": "1.5.0",
      "model_name": "DescriptionStyleModel",
      "state": {
       "description_width": ""
      }
     },
     "cb0a0773ad3f446fa623794ab5b42cdf": {
      "model_module": "@jupyter-widgets/base",
      "model_module_version": "1.2.0",
      "model_name": "LayoutModel",
      "state": {}
     },
     "cb0f019e3fc1480196b8045c8a07c917": {
      "model_module": "@jupyter-widgets/controls",
      "model_module_version": "1.5.0",
      "model_name": "DescriptionStyleModel",
      "state": {
       "description_width": ""
      }
     },
     "cc05646919964aa799051f300b0e1d71": {
      "model_module": "@jupyter-widgets/controls",
      "model_module_version": "1.5.0",
      "model_name": "DescriptionStyleModel",
      "state": {
       "description_width": ""
      }
     },
     "cc0d1273ff1148b2af6113c79f79df5e": {
      "model_module": "@jupyter-widgets/base",
      "model_module_version": "1.2.0",
      "model_name": "LayoutModel",
      "state": {
       "grid_template_areas": "\n                    \"label input\"\n                    \". description\"\n                ",
       "grid_template_columns": "25% 75%",
       "grid_template_rows": "auto auto",
       "width": "100%"
      }
     },
     "cc79611720ba4bee9ff172b7b480ef72": {
      "model_module": "@jupyter-widgets/controls",
      "model_module_version": "1.5.0",
      "model_name": "LabelModel",
      "state": {
       "layout": "IPY_MODEL_54f11f2970d74055a4006bb314fe698c",
       "style": "IPY_MODEL_d4dac8fdd0fe418499e1f5740adac2d9"
      }
     },
     "ccb4ff3b024b4b49ac0fed9a36e3a3df": {
      "model_module": "@jupyter-widgets/controls",
      "model_module_version": "1.5.0",
      "model_name": "GridBoxModel",
      "state": {
       "_dom_classes": [
        "nbtools-input",
        "nbtools-textinput",
        "required"
       ],
       "children": [
        "IPY_MODEL_73cb5128f58f4b08b554d10009e1b22e",
        "IPY_MODEL_5c82d310686a40618931e6a0c18967e5",
        "IPY_MODEL_72e94021c1084bc2bc78b96f8d4587cc"
       ],
       "layout": "IPY_MODEL_198bc1de209a4acab067c6f4a074eb54"
      }
     },
     "cdf2b33555f544fbb30fc6de09555c7c": {
      "model_module": "@jupyter-widgets/base",
      "model_module_version": "1.2.0",
      "model_name": "LayoutModel",
      "state": {
       "grid_area": "description",
       "width": "auto"
      }
     },
     "cf81f85cff65464ebd212b44ef360f8f": {
      "model_module": "@jupyter-widgets/controls",
      "model_module_version": "1.5.0",
      "model_name": "LabelModel",
      "state": {
       "layout": "IPY_MODEL_a737bfbb7d754af39ce4320bd4585756",
       "style": "IPY_MODEL_25ae4e27748b4265be71853341b42b74"
      }
     },
     "cf942d6a34ed420b8190f38bee01a524": {
      "model_module": "@jupyter-widgets/controls",
      "model_module_version": "1.5.0",
      "model_name": "DescriptionStyleModel",
      "state": {
       "description_width": ""
      }
     },
     "d07e4eea1cf54b19bd6fe5c4b8868cbe": {
      "model_module": "@jupyter-widgets/controls",
      "model_module_version": "1.5.0",
      "model_name": "LabelModel",
      "state": {
       "description": "output variable",
       "layout": "IPY_MODEL_5e8d6f5a336e44dfa5bcf00011f6ff34",
       "style": "IPY_MODEL_639fb6b724f342e994ad518ff5d8e457",
       "value": "output variable"
      }
     },
     "d351af5532864e5e9245add2244738dc": {
      "model_module": "@jupyter-widgets/base",
      "model_module_version": "1.2.0",
      "model_name": "LayoutModel",
      "state": {
       "grid_area": "label",
       "width": "auto"
      }
     },
     "d3951733afcf40e8a5aed0b42fb01f53": {
      "model_module": "@jupyter-widgets/controls",
      "model_module_version": "1.5.0",
      "model_name": "DescriptionStyleModel",
      "state": {
       "description_width": ""
      }
     },
     "d44e3e6a88fa4f86b614f95d79ab3701": {
      "model_module": "@jupyter-widgets/base",
      "model_module_version": "1.2.0",
      "model_name": "LayoutModel",
      "state": {
       "grid_area": "description",
       "width": "auto"
      }
     },
     "d47c5338a567400abd5b941c2f293976": {
      "model_module": "@jupyter-widgets/controls",
      "model_module_version": "1.5.0",
      "model_name": "TextModel",
      "state": {
       "_dom_classes": [
        "nbtools-menu-attached"
       ],
       "layout": "IPY_MODEL_ba9c26c38cd5455896d7741e8f41d267",
       "style": "IPY_MODEL_2441ea71efaa4536a47216ddb781bbef"
      }
     },
     "d4931b1ed3834f218f985f2c22fdb80d": {
      "model_module": "@jupyter-widgets/base",
      "model_module_version": "1.2.0",
      "model_name": "LayoutModel",
      "state": {}
     },
     "d4dac8fdd0fe418499e1f5740adac2d9": {
      "model_module": "@jupyter-widgets/controls",
      "model_module_version": "1.5.0",
      "model_name": "DescriptionStyleModel",
      "state": {
       "description_width": ""
      }
     },
     "d5e4de46ad724ad0b96415feaef1712e": {
      "model_module": "@jupyter-widgets/output",
      "model_module_version": "1.0.0",
      "model_name": "OutputModel",
      "state": {
       "layout": "IPY_MODEL_f94d4e6d8b6640b39607b3e1449b8e62"
      }
     },
     "d6648461e1e8414eb2a6c25a083f06ad": {
      "model_module": "@jupyter-widgets/controls",
      "model_module_version": "1.5.0",
      "model_name": "ButtonModel",
      "state": {
       "_dom_classes": [
        "hidden"
       ],
       "description": "Run",
       "layout": "IPY_MODEL_6c14e926f78f43d28aa441ad577bc670",
       "style": "IPY_MODEL_4e85dd70f9b24651a9ad5c699e46a116"
      }
     },
     "d83a6bd289a14035b0af140573e45cc8": {
      "model_module": "@jupyter-widgets/controls",
      "model_module_version": "1.5.0",
      "model_name": "TextModel",
      "state": {
       "_dom_classes": [
        "nbtools-menu-attached"
       ],
       "layout": "IPY_MODEL_600bcc0812974521941f2e2f6a0b5da1",
       "style": "IPY_MODEL_a5b47b88898443869062ce5d80cd0309"
      }
     },
     "d8634adfd0df4c08be743a6564e27727": {
      "model_module": "@jupyter-widgets/controls",
      "model_module_version": "1.5.0",
      "model_name": "DescriptionStyleModel",
      "state": {
       "description_width": ""
      }
     },
     "d8f5d3862f0a44fbbf97a70a5a4695d4": {
      "model_module": "@jupyter-widgets/base",
      "model_module_version": "1.2.0",
      "model_name": "LayoutModel",
      "state": {
       "grid_area": "input",
       "width": "auto"
      }
     },
     "d907d5bda5f643e89094b287679ad9dd": {
      "model_module": "@jupyter-widgets/base",
      "model_module_version": "1.2.0",
      "model_name": "LayoutModel",
      "state": {
       "grid_area": "input",
       "width": "auto"
      }
     },
     "d9884d7c0b4441b39daf890ba7d0c30f": {
      "buffers": [
       {
        "data": "SEVMTE8gQg==",
        "encoding": "base64",
        "path": [
         "data",
         0
        ]
       }
      ],
      "model_module": "@jupyter-widgets/controls",
      "model_module_version": "1.5.0",
      "model_name": "FileUploadModel",
      "state": {
       "_counter": 1,
       "data": [
        null
       ],
       "description_tooltip": null,
       "layout": "IPY_MODEL_a076dc2abe0845b6ad2d7bed34b364b2",
       "metadata": [
        {
         "lastModified": 1339200503000,
         "name": "a.txt",
         "size": 7,
         "type": "text/plain"
        }
       ],
       "style": "IPY_MODEL_c1c3628d47324d69ae0ae8653e149cc6"
      }
     },
     "d98a8258b22e4fc69e7d7830c8a21e9b": {
      "model_module": "@jupyter-widgets/controls",
      "model_module_version": "1.5.0",
      "model_name": "DescriptionStyleModel",
      "state": {
       "description_width": ""
      }
     },
     "da856457462340a2a358d0d51e6e83b9": {
      "model_module": "@jupyter-widgets/controls",
      "model_module_version": "1.5.0",
      "model_name": "LabelModel",
      "state": {
       "description": "output variable",
       "layout": "IPY_MODEL_e72a1ae77bee48e0839705db0966e977",
       "style": "IPY_MODEL_f2069cb118d444c28d76e3f951af3fd5",
       "value": "output variable"
      }
     },
     "db42489000f64ef1a21d5696bef5f221": {
      "model_module": "@jupyter-widgets/controls",
      "model_module_version": "1.5.0",
      "model_name": "ButtonStyleModel",
      "state": {}
     },
     "dc4f582fb62f479384bf5687de607576": {
      "model_module": "@jupyter-widgets/base",
      "model_module_version": "1.2.0",
      "model_name": "LayoutModel",
      "state": {
       "grid_area": "description",
       "width": "auto"
      }
     },
     "dc88c12b37604622965062ec92ee1889": {
      "model_module": "@jupyter-widgets/controls",
      "model_module_version": "1.5.0",
      "model_name": "TextModel",
      "state": {
       "_dom_classes": [
        "nbtools-menu-attached"
       ],
       "layout": "IPY_MODEL_6ea1cf6810784154beb744eae952a818",
       "style": "IPY_MODEL_fef23e438d5d4e39a4c5fb4192a6b396"
      }
     },
     "dd307ae89c7b47ec9653f29ff3168d80": {
      "model_module": "@jupyter-widgets/base",
      "model_module_version": "1.2.0",
      "model_name": "LayoutModel",
      "state": {
       "grid_area": "input",
       "width": "auto"
      }
     },
     "dd8d2ae4480f4fd694a3edb429845545": {
      "model_module": "@jupyter-widgets/base",
      "model_module_version": "1.2.0",
      "model_name": "LayoutModel",
      "state": {
       "grid_area": "label",
       "width": "auto"
      }
     },
     "dd934f45307d4b45a88472b7e0f83ae8": {
      "model_module": "@jupyter-widgets/base",
      "model_module_version": "1.2.0",
      "model_name": "LayoutModel",
      "state": {
       "grid_area": "description",
       "width": "auto"
      }
     },
     "ddb2b19a9fdb40c0b0f64923984f974d": {
      "model_module": "@jupyter-widgets/controls",
      "model_module_version": "1.5.0",
      "model_name": "GridBoxModel",
      "state": {
       "_dom_classes": [
        "nbtools-input",
        "nbtools-textinput",
        "required"
       ],
       "children": [
        "IPY_MODEL_2d046759f8c140c5af4192f4abc03cdc",
        "IPY_MODEL_b8628c45a453492286f983233e50276e",
        "IPY_MODEL_fc430500065d4798804725d7520ff5ae"
       ],
       "layout": "IPY_MODEL_6b7d134fe5324e67bc77e35e6d7f57d2"
      }
     },
     "de0624aeac4040359a2c0588d36d1560": {
      "model_module": "@jupyter-widgets/base",
      "model_module_version": "1.2.0",
      "model_name": "LayoutModel",
      "state": {}
     },
     "de54d396f2674304b742a89069a2d124": {
      "model_module": "@jupyter-widgets/output",
      "model_module_version": "1.0.0",
      "model_name": "OutputModel",
      "state": {
       "layout": "IPY_MODEL_29fe551a4ee94f73bb05a2ae2c10cce5"
      }
     },
     "deec909808c7414282960367e116a0b5": {
      "model_module": "@jupyter-widgets/controls",
      "model_module_version": "1.5.0",
      "model_name": "ButtonStyleModel",
      "state": {}
     },
     "e1309af4a62e47e29c42fd095d53eece": {
      "model_module": "@jupyter-widgets/base",
      "model_module_version": "1.2.0",
      "model_name": "LayoutModel",
      "state": {}
     },
     "e1a391d4abfa4f7e8e082490c52f3405": {
      "model_module": "@jupyter-widgets/controls",
      "model_module_version": "1.5.0",
      "model_name": "VBoxModel",
      "state": {
       "_dom_classes": [
        "widget-interact"
       ],
       "children": [
        "IPY_MODEL_e62663d1f9e4480ea4c429bdcd83a7b2",
        "IPY_MODEL_1d2990bc2de34f888301075b58905d2c",
        "IPY_MODEL_800983394975476eb40fc292470981d2"
       ],
       "layout": "IPY_MODEL_a64c8e5986f64cf59323eb891d4a3897"
      }
     },
     "e2d8fcfb0f184ba3b15f6fe814995c8e": {
      "model_module": "@jupyter-widgets/controls",
      "model_module_version": "1.5.0",
      "model_name": "VBoxModel",
      "state": {
       "_dom_classes": [
        "widget-interact"
       ],
       "children": [
        "IPY_MODEL_331459f2772946748fbfb0374ba82cd9",
        "IPY_MODEL_be6f2298d9d64d448297cfb13f8dd1cf"
       ],
       "layout": "IPY_MODEL_1c179725297d4e1b8719fcb44749c800"
      }
     },
     "e30ddecc60bf4f989ae921c0586de36c": {
      "model_module": "@jupyter-widgets/controls",
      "model_module_version": "1.5.0",
      "model_name": "LabelModel",
      "state": {
       "description": "Password",
       "layout": "IPY_MODEL_d351af5532864e5e9245add2244738dc",
       "style": "IPY_MODEL_6bbaad4cf6d34c0da59af978876f9a88",
       "value": "Password*"
      }
     },
     "e369edebbf92466e9e2f3e6e1cda9593": {
      "model_module": "@jupyter-widgets/controls",
      "model_module_version": "1.5.0",
      "model_name": "LabelModel",
      "state": {
       "layout": "IPY_MODEL_dc4f582fb62f479384bf5687de607576",
       "style": "IPY_MODEL_ca2cedbad93f47a38cb3cd9660111afa"
      }
     },
     "e3f6a08a92804acc9e15f5e250910ef6": {
      "model_module": "@jupyter-widgets/base",
      "model_module_version": "1.2.0",
      "model_name": "LayoutModel",
      "state": {}
     },
     "e4e0c75caedf42c997dfbb65b4c30181": {
      "model_module": "@jupyter-widgets/output",
      "model_module_version": "1.0.0",
      "model_name": "OutputModel",
      "state": {
       "layout": "IPY_MODEL_70fd4c3de1b14015b8a66d97b39d845e"
      }
     },
     "e62663d1f9e4480ea4c429bdcd83a7b2": {
      "model_module": "@jupyter-widgets/controls",
      "model_module_version": "1.5.0",
      "model_name": "GridBoxModel",
      "state": {
       "_dom_classes": [
        "nbtools-input",
        "nbtools-textinput",
        "required"
       ],
       "children": [
        "IPY_MODEL_a41e246a2b94441baccdd52192320b6d",
        "IPY_MODEL_869bc361bc2b4fdbad4538319cd143b5",
        "IPY_MODEL_e369edebbf92466e9e2f3e6e1cda9593"
       ],
       "layout": "IPY_MODEL_9449fdb71baf408386a1c8fbbad561a5"
      }
     },
     "e6345b45fc8b42a98fc006b79c704a6c": {
      "model_module": "@jupyter-widgets/controls",
      "model_module_version": "1.5.0",
      "model_name": "GridBoxModel",
      "state": {
       "_dom_classes": [
        "nbtools-input",
        "nbtools-textinput"
       ],
       "children": [
        "IPY_MODEL_2d4de4823c3d47f4b5d637b3a4cc4e72",
        "IPY_MODEL_490c7ff64c18454484f5b6943cc04271",
        "IPY_MODEL_cc79611720ba4bee9ff172b7b480ef72"
       ],
       "layout": "IPY_MODEL_f0aa97162166415a9ef55da6af5776be"
      }
     },
     "e69e2c4c3c3e4e1081d183153c7bc370": {
      "model_module": "@jupyter-widgets/base",
      "model_module_version": "1.2.0",
      "model_name": "LayoutModel",
      "state": {}
     },
     "e6b231b94faf412a9a2da6f702f65218": {
      "model_module": "@jupyter-widgets/controls",
      "model_module_version": "1.5.0",
      "model_name": "ButtonStyleModel",
      "state": {}
     },
     "e72a1ae77bee48e0839705db0966e977": {
      "model_module": "@jupyter-widgets/base",
      "model_module_version": "1.2.0",
      "model_name": "LayoutModel",
      "state": {
       "grid_area": "label",
       "width": "auto"
      }
     },
     "e93743793a72426a8d1169ed99945be6": {
      "model_module": "@jupyter-widgets/base",
      "model_module_version": "1.2.0",
      "model_name": "LayoutModel",
      "state": {}
     },
     "e97cc47f3eba4c6f910694b0dd9a6416": {
      "model_module": "@jupyter-widgets/controls",
      "model_module_version": "1.5.0",
      "model_name": "DescriptionStyleModel",
      "state": {
       "description_width": ""
      }
     },
     "ea27e2b78fc141b5b33cb5fc0134a018": {
      "model_module": "@jupyter-widgets/controls",
      "model_module_version": "1.5.0",
      "model_name": "DescriptionStyleModel",
      "state": {
       "description_width": ""
      }
     },
     "eac239de85ad4ffc883203871b81b0b3": {
      "model_module": "@jupyter-widgets/base",
      "model_module_version": "1.2.0",
      "model_name": "LayoutModel",
      "state": {
       "display": "none",
       "grid_template_areas": "\n                    \"label input\"\n                    \". description\"\n                ",
       "grid_template_columns": "25% 75%",
       "grid_template_rows": "auto auto",
       "width": "100%"
      }
     },
     "ead2e20fad294a31a77e7c6370273506": {
      "model_module": "@jupyter-widgets/base",
      "model_module_version": "1.2.0",
      "model_name": "LayoutModel",
      "state": {
       "display": "none",
       "grid_template_areas": "\n                    \"label input\"\n                    \". description\"\n                ",
       "grid_template_columns": "25% 75%",
       "grid_template_rows": "auto auto",
       "width": "100%"
      }
     },
     "eae36209c07e4a4abd05a46cb7fc3719": {
      "model_module": "@jupyter-widgets/controls",
      "model_module_version": "1.5.0",
      "model_name": "LabelModel",
      "state": {
       "description": "output variable",
       "layout": "IPY_MODEL_4bfa748d0410403b89949840a5bbc374",
       "style": "IPY_MODEL_c578e4eb083241e9a6c3b1ba8427f01b",
       "value": "output variable"
      }
     },
     "eb2213e8ceb74f3c8a014d2d905b585e": {
      "model_module": "@jupyter-widgets/output",
      "model_module_version": "1.0.0",
      "model_name": "OutputModel",
      "state": {
       "layout": "IPY_MODEL_698ef7d8866647cfa54185037e0e46f5",
       "outputs": [
        {
         "data": {
          "application/vnd.jupyter.widget-view+json": {
           "model_id": "05d2c8fd51254f839b36239c014d2255",
           "version_major": 2,
           "version_minor": 0
          },
          "text/plain": "GPJobWidget(appendix=VBox(), color='rgba(10, 45, 105, 0.80)', description='Submitted by tabor on 2020-12-11T20…"
         },
         "metadata": {},
         "output_type": "display_data"
        }
       ]
      }
     },
     "ebedd35c8a91490eb30cd31b6ac3c6ea": {
      "model_module": "@jupyter-widgets/base",
      "model_module_version": "1.2.0",
      "model_name": "LayoutModel",
      "state": {}
     },
     "ebf243ac463a46e396f45506217b8e07": {
      "model_module": "@jupyter-widgets/base",
      "model_module_version": "1.2.0",
      "model_name": "LayoutModel",
      "state": {}
     },
     "ec59e777101a4b0394889211d9a4562f": {
      "model_module": "@jupyter-widgets/output",
      "model_module_version": "1.0.0",
      "model_name": "OutputModel",
      "state": {
       "layout": "IPY_MODEL_40679183c249405096f63d1988511ee7"
      }
     },
     "eef270bbf0d64385a28f2fff3c0196fd": {
      "model_module": "@jupyter-widgets/base",
      "model_module_version": "1.2.0",
      "model_name": "LayoutModel",
      "state": {
       "grid_area": "description",
       "width": "auto"
      }
     },
     "efa56f3e7f65457a8030a03899a349cc": {
      "model_module": "@jupyter-widgets/controls",
      "model_module_version": "1.5.0",
      "model_name": "DescriptionStyleModel",
      "state": {
       "description_width": ""
      }
     },
     "f02159a3c9354974a04b7a4be1cd9d1f": {
      "model_module": "@jupyter-widgets/controls",
      "model_module_version": "1.5.0",
      "model_name": "DescriptionStyleModel",
      "state": {
       "description_width": ""
      }
     },
     "f06965b222f04a2d9ce039524c1d3cee": {
      "model_module": "@jupyter-widgets/controls",
      "model_module_version": "1.5.0",
      "model_name": "ButtonStyleModel",
      "state": {}
     },
     "f0aa97162166415a9ef55da6af5776be": {
      "model_module": "@jupyter-widgets/base",
      "model_module_version": "1.2.0",
      "model_name": "LayoutModel",
      "state": {
       "display": "none",
       "grid_template_areas": "\n                    \"label input\"\n                    \". description\"\n                ",
       "grid_template_columns": "25% 75%",
       "grid_template_rows": "auto auto",
       "width": "100%"
      }
     },
     "f2069cb118d444c28d76e3f951af3fd5": {
      "model_module": "@jupyter-widgets/controls",
      "model_module_version": "1.5.0",
      "model_name": "DescriptionStyleModel",
      "state": {
       "description_width": ""
      }
     },
     "f34690aed9ba4c05a48f6a1d0cca9b97": {
      "model_module": "@jupyter-widgets/controls",
      "model_module_version": "1.5.0",
      "model_name": "GridBoxModel",
      "state": {
       "_dom_classes": [
        "nbtools-input",
        "nbtools-textinput"
       ],
       "children": [
        "IPY_MODEL_eae36209c07e4a4abd05a46cb7fc3719",
        "IPY_MODEL_0cd5e3550c66498699030ab793846e4f",
        "IPY_MODEL_332ba0b89d6944f9a010b9f22556fa93"
       ],
       "layout": "IPY_MODEL_eac239de85ad4ffc883203871b81b0b3"
      }
     },
     "f394678f599e45c788ed73ee8748377c": {
      "model_module": "@jupyter-widgets/controls",
      "model_module_version": "1.5.0",
      "model_name": "GridBoxModel",
      "state": {
       "_dom_classes": [
        "nbtools-input",
        "nbtools-textinput"
       ],
       "children": [
        "IPY_MODEL_fa6d1debb7d3489293e8a72777fd507f",
        "IPY_MODEL_dc88c12b37604622965062ec92ee1889",
        "IPY_MODEL_79d84b10ae3e4df49bd4977122b862e8"
       ],
       "layout": "IPY_MODEL_8fee1f09336340d8b41e5ea674950234"
      }
     },
     "f518310c0f1e470d9072e090db7fc42f": {
      "model_module": "@jupyter-widgets/controls",
      "model_module_version": "1.5.0",
      "model_name": "VBoxModel",
      "state": {
       "layout": "IPY_MODEL_56c180d51f7e45ae99ce0ba891d7516b"
      }
     },
     "f5356bf6a3eb4496824176980c6e190b": {
      "model_module": "@jupyter-widgets/controls",
      "model_module_version": "1.5.0",
      "model_name": "VBoxModel",
      "state": {
       "_dom_classes": [
        "widget-interact"
       ],
       "children": [
        "IPY_MODEL_228188df20294533a6442db37fd0ecc4",
        "IPY_MODEL_c8c5a75e155045b5a061865d21139c54",
        "IPY_MODEL_a14c69a60a884445b9e8317fc504b445"
       ],
       "layout": "IPY_MODEL_5c49cbd2555949e0a33cab4c3d3fb0f3"
      }
     },
     "f53f93112b094cc2a72c9e020ac24e94": {
      "model_module": "@jupyter-widgets/base",
      "model_module_version": "1.2.0",
      "model_name": "LayoutModel",
      "state": {}
     },
     "f5d741ce78bb47469cd66eb8372896b8": {
      "model_module": "@jupyter-widgets/base",
      "model_module_version": "1.2.0",
      "model_name": "LayoutModel",
      "state": {}
     },
     "f6295c7b7e60457fa99e043cfcfa355a": {
      "model_module": "@jupyter-widgets/base",
      "model_module_version": "1.2.0",
      "model_name": "LayoutModel",
      "state": {
       "grid_area": "input",
       "width": "auto"
      }
     },
     "f6e55b7d6d2043cf992d74222410848a": {
      "model_module": "@jupyter-widgets/base",
      "model_module_version": "1.2.0",
      "model_name": "LayoutModel",
      "state": {}
     },
     "f73ece8f746441049202ca47ce1f9066": {
      "model_module": "@jupyter-widgets/base",
      "model_module_version": "1.2.0",
      "model_name": "LayoutModel",
      "state": {
       "grid_area": "label",
       "width": "auto"
      }
     },
     "f7ad6148649c41e495cd1089a961f79e": {
      "model_module": "@jupyter-widgets/controls",
      "model_module_version": "1.5.0",
      "model_name": "DescriptionStyleModel",
      "state": {
       "description_width": ""
      }
     },
     "f8d40100987a4f6ab31da22f7eb3a462": {
      "model_module": "@jupyter-widgets/controls",
      "model_module_version": "1.5.0",
      "model_name": "HBoxModel",
      "state": {
       "children": [
        "IPY_MODEL_945d601947bb4e2793b25872ac9b38f2",
        "IPY_MODEL_86f7ca1d31cc4d95be4b83c085e3de67"
       ],
       "layout": "IPY_MODEL_09ad7e73e13b460196435b37ec2c880b"
      }
     },
     "f8dba24d4686432d94a35feaa15c58f7": {
      "model_module": "@jupyter-widgets/output",
      "model_module_version": "1.0.0",
      "model_name": "OutputModel",
      "state": {
       "layout": "IPY_MODEL_ac118440bd104de2b917d44576d34f48"
      }
     },
     "f90ba0b5e7c04dd580ee48e9f29bd958": {
      "model_module": "@jupyter-widgets/controls",
      "model_module_version": "1.5.0",
      "model_name": "VBoxModel",
      "state": {
       "_dom_classes": [
        "widget-interact"
       ],
       "children": [
        "IPY_MODEL_55bc7c1ca76c44b494c50937301c9909",
        "IPY_MODEL_e4e0c75caedf42c997dfbb65b4c30181"
       ],
       "layout": "IPY_MODEL_b262e2af551048eb8ebfb9447963f2b1"
      }
     },
     "f94d4e6d8b6640b39607b3e1449b8e62": {
      "model_module": "@jupyter-widgets/base",
      "model_module_version": "1.2.0",
      "model_name": "LayoutModel",
      "state": {}
     },
     "f9efec08ff0b41e3be36815062ace875": {
      "model_module": "@jupyter-widgets/base",
      "model_module_version": "1.2.0",
      "model_name": "LayoutModel",
      "state": {
       "grid_area": "description",
       "width": "auto"
      }
     },
     "fa55f0bd6b394f97a40a03f01923b138": {
      "model_module": "@jupyter-widgets/base",
      "model_module_version": "1.2.0",
      "model_name": "LayoutModel",
      "state": {
       "grid_area": "description",
       "width": "auto"
      }
     },
     "fa6d1debb7d3489293e8a72777fd507f": {
      "model_module": "@jupyter-widgets/controls",
      "model_module_version": "1.5.0",
      "model_name": "LabelModel",
      "state": {
       "description": "output variable",
       "layout": "IPY_MODEL_c39beb9e97f24761bae1aff2e7522261",
       "style": "IPY_MODEL_27526ed516ae420ebd3a3bf75fd55037",
       "value": "output variable"
      }
     },
     "fb3352667621456592577d48ff2cbf8d": {
      "model_module": "@genepattern/nbtools",
      "model_module_version": "^20.10.0-alpha.0",
      "model_name": "UIBuilderModel",
      "state": {
       "_dom_classes": [],
       "_model_module_version": "^20.10.0-alpha.0",
       "_parameters": [
        {
         "choices": {},
         "default": "",
         "description": "The input file (any non-binary file format)",
         "events": null,
         "hide": false,
         "id": null,
         "kinds": [],
         "label": "input_filename",
         "name": "input_filename",
         "optional": false,
         "type": "file",
         "value": ""
        },
        {
         "choices": {},
         "default": "<input.filename_basename>.cvt.<input.filename_extension>",
         "description": "The output file",
         "events": null,
         "hide": false,
         "id": null,
         "kinds": [],
         "label": "output_file",
         "name": "output_file",
         "optional": false,
         "type": "text",
         "value": ""
        },
        {
         "choices": {},
         "default": "",
         "description": "",
         "events": null,
         "hide": true,
         "id": null,
         "kinds": null,
         "label": "output variable",
         "name": "output_var",
         "optional": true,
         "type": "text",
         "value": ""
        }
       ],
       "_view_count": null,
       "_view_module_version": "^20.10.0-alpha.0",
       "collapsed": true,
       "color": "rgba(10, 45, 105, 0.80)",
       "description": "Converts line endings to the host operating system's format.",
       "form": "IPY_MODEL_c38ad85fd47b4bce872e76e6d209bc18",
       "layout": "IPY_MODEL_e93743793a72426a8d1169ed99945be6",
       "logo": "https://notebook.genepattern.org/hub/logo",
       "name": "ConvertLineEndings",
       "origin": "genepattern.taskwidget",
       "output": "IPY_MODEL_eb2213e8ceb74f3c8a014d2d905b585e",
       "output_var": ""
      }
     },
     "fc430500065d4798804725d7520ff5ae": {
      "model_module": "@jupyter-widgets/controls",
      "model_module_version": "1.5.0",
      "model_name": "LabelModel",
      "state": {
       "description": "The output file",
       "layout": "IPY_MODEL_cdf2b33555f544fbb30fc6de09555c7c",
       "style": "IPY_MODEL_a3d8aef14d9b4265b6806ca4c7512f79",
       "value": "The output file"
      }
     },
     "fc9d5d282422403998ed6cd5b9dcdcfb": {
      "model_module": "@jupyter-widgets/base",
      "model_module_version": "1.2.0",
      "model_name": "LayoutModel",
      "state": {}
     },
     "fd14d7fe7e89460f85a0c04dad336f41": {
      "model_module": "@jupyter-widgets/controls",
      "model_module_version": "1.5.0",
      "model_name": "GridBoxModel",
      "state": {
       "_dom_classes": [
        "nbtools-input",
        "nbtools-fileinput",
        "required"
       ],
       "children": [
        "IPY_MODEL_75a25b7fd01141698a464138403e22f3",
        "IPY_MODEL_c56080b06eca45e7b4381bda6511410d",
        "IPY_MODEL_752735c9b2ba43508d57489d827729a8"
       ],
       "layout": "IPY_MODEL_cc0d1273ff1148b2af6113c79f79df5e"
      }
     },
     "fef23e438d5d4e39a4c5fb4192a6b396": {
      "model_module": "@jupyter-widgets/controls",
      "model_module_version": "1.5.0",
      "model_name": "DescriptionStyleModel",
      "state": {
       "description_width": ""
      }
     },
     "ffec6408e25f4e9cbec9ac5caae383ba": {
      "model_module": "@jupyter-widgets/controls",
      "model_module_version": "1.5.0",
      "model_name": "ComboboxModel",
      "state": {
       "_dom_classes": [
        "nbtools-menu-attached",
        "nbtools-nosendto"
       ],
       "choices": {
        "Broad Internal": "https://gpbroad.broadinstitute.org/gp",
        "GenePattern Cloud": "https://cloud.genepattern.org/gp",
        "Indiana University": "https://gp.indiana.edu/gp"
       },
       "ensure_option": false,
       "kinds": [],
       "layout": "IPY_MODEL_dd307ae89c7b47ec9653f29ff3168d80",
       "style": "IPY_MODEL_cf942d6a34ed420b8190f38bee01a524",
       "value": "https://cloud.genepattern.org/gp"
      }
     }
    },
    "version_major": 2,
    "version_minor": 0
   }
  }
 },
 "nbformat": 4,
 "nbformat_minor": 4
}
