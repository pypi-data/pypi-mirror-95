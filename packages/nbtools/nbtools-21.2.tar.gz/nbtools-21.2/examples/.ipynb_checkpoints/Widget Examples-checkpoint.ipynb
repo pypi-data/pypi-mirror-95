{
 "cells": [
  {
   "cell_type": "code",
   "execution_count": 2,
   "metadata": {},
   "outputs": [
    {
     "data": {
      "application/vnd.jupyter.widget-view+json": {
       "model_id": "740b8252fd8545cb9e7112a2259ab628",
       "version_major": 2,
       "version_minor": 0
      },
      "text/plain": [
       "GPAuthWidget(buttons={'Register an Account': \"\\n    const target = event.target;\\n    const widget = target.cl…"
      ]
     },
     "metadata": {},
     "output_type": "display_data"
    },
    {
     "data": {
      "application/vnd.jupyter.widget-view+json": {
       "model_id": "8568bb74a06849d594346fec3bac9009",
       "version_major": 2,
       "version_minor": 0
      },
      "text/plain": [
       "Output()"
      ]
     },
     "metadata": {},
     "output_type": "display_data"
    }
   ],
   "source": [
    "import nbtools\n",
    "\n",
    "nbtools.tool(id='authentication', origin='+')"
   ]
  },
  {
   "cell_type": "code",
   "execution_count": 3,
   "metadata": {},
   "outputs": [
    {
     "data": {
      "application/vnd.jupyter.widget-view+json": {
       "model_id": "9d241964df3d4ae585601630085c5575",
       "version_major": 2,
       "version_minor": 0
      },
      "text/plain": [
       "UIOutput(appendix=VBox(), files=['foo.gct', 'act.odf'])"
      ]
     },
     "metadata": {},
     "output_type": "display_data"
    }
   ],
   "source": [
    "import nbtools\n",
    "\n",
    "nbtools.UIOutput(files=['foo.gct', 'act.odf'])"
   ]
  },
  {
   "cell_type": "markdown",
   "metadata": {},
   "source": [
    "<span class=\"nbtools-text-option\">TEST MARKDOWN SENDTO</span>"
   ]
  },
  {
   "cell_type": "code",
   "execution_count": 4,
   "metadata": {},
   "outputs": [
    {
     "data": {
      "application/vnd.jupyter.widget-view+json": {
       "model_id": "e925e3fcc1d24100b5a1d6e1d1510356",
       "version_major": 2,
       "version_minor": 0
      },
      "text/plain": [
       "UIBuilder(collapse=True, form=InteractiveForm(children=(FileFormInput(value='', children=(Label(value='i*', de…"
      ]
     },
     "metadata": {},
     "output_type": "display_data"
    },
    {
     "data": {
      "application/vnd.jupyter.widget-view+json": {
       "model_id": "7db7fc2d28e7404196d3860b86387ed6",
       "version_major": 2,
       "version_minor": 0
      },
      "text/plain": [
       "Output()"
      ]
     },
     "metadata": {},
     "output_type": "display_data"
    }
   ],
   "source": [
    "# @nbtools.build_ui(parameters={\n",
    "#     'i': {\n",
    "#         'type': 'file',\n",
    "#         'kinds': ['gct']\n",
    "#     }\n",
    "# })\n",
    "def test_menus(i, j):\n",
    "    print(i)\n",
    "    \n",
    "uibuilder = nbtools.UIBuilder(test_menus, parameters={\n",
    "    'i': {\n",
    "        'type': 'file',\n",
    "        'kinds': ['gct']\n",
    "    }\n",
    "})\n",
    "\n",
    "uibuilder"
   ]
  },
  {
   "cell_type": "raw",
   "metadata": {},
   "source": [
    "### Why is `min_std` and `confounding_variable_cls_file` required?"
   ]
  },
  {
   "cell_type": "code",
   "execution_count": 5,
   "metadata": {},
   "outputs": [
    {
     "data": {
      "application/vnd.jupyter.widget-view+json": {
       "model_id": "80b34bee3e5d4f1ba21beea466d1b2fb",
       "version_major": 2,
       "version_minor": 0
      },
      "text/plain": [
       "UIOutput(appendix=VBox(), error='Cannot find tool: GenePattern Cloud | urn:lsid:broad.mit.edu:cancer.software.…"
      ]
     },
     "metadata": {},
     "output_type": "display_data"
    },
    {
     "data": {
      "application/vnd.jupyter.widget-view+json": {
       "model_id": "b9d4ab6819d94a05ae2b6f5e435aa453",
       "version_major": 2,
       "version_minor": 0
      },
      "text/plain": [
       "Output(outputs=({'output_type': 'display_data', 'data': {}, 'metadata': {}},))"
      ]
     },
     "metadata": {},
     "output_type": "display_data"
    }
   ],
   "source": [
    "nbtools.tool(id='urn:lsid:broad.mit.edu:cancer.software.genepattern.module.analysis:00002:2', origin='GenePattern Cloud')"
   ]
  },
  {
   "cell_type": "code",
   "execution_count": 6,
   "metadata": {},
   "outputs": [
    {
     "data": {
      "application/vnd.jupyter.widget-view+json": {
       "model_id": "f5002023c24a4846a840a5862a890d18",
       "version_major": 2,
       "version_minor": 0
      },
      "text/plain": [
       "UIOutput(appendix=VBox(), error='Cannot find tool: GenePattern Cloud | urn:lsid:broad.mit.edu:cancer.software.…"
      ]
     },
     "metadata": {},
     "output_type": "display_data"
    },
    {
     "data": {
      "application/vnd.jupyter.widget-view+json": {
       "model_id": "5f1cf005c42a43b7941af64db144f572",
       "version_major": 2,
       "version_minor": 0
      },
      "text/plain": [
       "Output(outputs=({'output_type': 'display_data', 'data': {}, 'metadata': {}},))"
      ]
     },
     "metadata": {},
     "output_type": "display_data"
    }
   ],
   "source": [
    "nbtools.tool(id='urn:lsid:broad.mit.edu:cancer.software.genepattern.module.analysis:00044:10.1', origin='GenePattern Cloud')"
   ]
  },
  {
   "cell_type": "code",
   "execution_count": 7,
   "metadata": {},
   "outputs": [
    {
     "data": {
      "application/vnd.jupyter.widget-view+json": {
       "model_id": "fd8b0b4eae9c4858b1a782feae42a112",
       "version_major": 2,
       "version_minor": 0
      },
      "text/plain": [
       "UIOutput(appendix=VBox(), error='Cannot find tool: GenePattern Cloud | urn:lsid:broad.mit.edu:cancer.software.…"
      ]
     },
     "metadata": {},
     "output_type": "display_data"
    },
    {
     "data": {
      "application/vnd.jupyter.widget-view+json": {
       "model_id": "8dc8ae6f46a5419ca719ff7bb53cd28e",
       "version_major": 2,
       "version_minor": 0
      },
      "text/plain": [
       "Output(outputs=({'output_type': 'display_data', 'data': {}, 'metadata': {}},))"
      ]
     },
     "metadata": {},
     "output_type": "display_data"
    }
   ],
   "source": [
    "nbtools.tool(id='urn:lsid:broad.mit.edu:cancer.software.genepattern.module.visualizer:00045:9', origin='GenePattern Cloud')"
   ]
  },
  {
   "cell_type": "code",
   "execution_count": 8,
   "metadata": {},
   "outputs": [
    {
     "data": {
      "text/plain": [
       "['sss', 'ttt', 'hhh']"
      ]
     },
     "execution_count": 8,
     "metadata": {},
     "output_type": "execute_result"
    }
   ],
   "source": [
    "ks = 'sss;ttt;hhh'\n",
    "ks.split(';')"
   ]
  },
  {
   "cell_type": "code",
   "execution_count": null,
   "metadata": {},
   "outputs": [],
   "source": []
  }
 ],
 "metadata": {
  "kernelspec": {
   "display_name": "Python 3",
   "language": "python",
   "name": "python3"
  },
  "language_info": {
   "codemirror_mode": {
    "name": "ipython",
    "version": 3
   },
   "file_extension": ".py",
   "mimetype": "text/x-python",
   "name": "python",
   "nbconvert_exporter": "python",
   "pygments_lexer": "ipython3",
   "version": "3.7.6"
  },
  "widgets": {
   "application/vnd.jupyter.widget-state+json": {
    "state": {
     "017ab14fba694e10813fafadc2d173c3": {
      "model_module": "@jupyter-widgets/base",
      "model_module_version": "1.2.0",
      "model_name": "LayoutModel",
      "state": {
       "grid_area": "description",
       "width": "auto"
      }
     },
     "01df396bb53041ceb28deef006ff7b65": {
      "model_module": "@jupyter-widgets/base",
      "model_module_version": "1.2.0",
      "model_name": "LayoutModel",
      "state": {}
     },
     "01e9e9bfe8e64726bd95a2fcce13a648": {
      "model_module": "@jupyter-widgets/base",
      "model_module_version": "1.2.0",
      "model_name": "LayoutModel",
      "state": {
       "grid_area": "input",
       "width": "auto"
      }
     },
     "077315f94ff54a3aa2e863df516e4d3e": {
      "model_module": "@jupyter-widgets/controls",
      "model_module_version": "1.5.0",
      "model_name": "DescriptionStyleModel",
      "state": {
       "description_width": ""
      }
     },
     "09b4e45a884145bd900f2ed615405ad1": {
      "model_module": "@jupyter-widgets/base",
      "model_module_version": "1.2.0",
      "model_name": "LayoutModel",
      "state": {
       "grid_template_areas": "\n                    \"label input\"\n                    \". description\"\n                ",
       "grid_template_columns": "25% 75%",
       "grid_template_rows": "auto auto",
       "width": "100%"
      }
     },
     "0e3d012d4ddf4845a56532e0a582e04e": {
      "model_module": "@jupyter-widgets/base",
      "model_module_version": "1.2.0",
      "model_name": "LayoutModel",
      "state": {}
     },
     "1053bbbe3e1c4aed91a964ed68d0692f": {
      "model_module": "@jupyter-widgets/controls",
      "model_module_version": "1.5.0",
      "model_name": "LabelModel",
      "state": {
       "description": "output variable",
       "layout": "IPY_MODEL_3b2e487fd2f34536b219a09e498a7ccb",
       "style": "IPY_MODEL_800aeea92daa454488fab6ff3735dd58",
       "value": "output variable"
      }
     },
     "106e4441c1c44e59bfae780c5739836e": {
      "model_module": "@jupyter-widgets/controls",
      "model_module_version": "1.5.0",
      "model_name": "VBoxModel",
      "state": {
       "_dom_classes": [
        "widget-interact"
       ],
       "children": [
        "IPY_MODEL_3f5fa929e2c643578b9e853637fe57c6",
        "IPY_MODEL_53689bc6dfda4ad180283c997d456e56",
        "IPY_MODEL_7f9372bfe53c4fcfbb6371ddbf5a4455",
        "IPY_MODEL_8ee9efe283de45aea5eda078906a5d60"
       ],
       "layout": "IPY_MODEL_bfb0fb8f459c47c3aa7550e9a9cb029a"
      }
     },
     "110ea685f689480c8141a9de68505774": {
      "model_module": "@jupyter-widgets/base",
      "model_module_version": "1.2.0",
      "model_name": "LayoutModel",
      "state": {}
     },
     "1241b9f20e754d899892eb1436795fe7": {
      "model_module": "@jupyter-widgets/controls",
      "model_module_version": "1.5.0",
      "model_name": "ButtonStyleModel",
      "state": {}
     },
     "13b2927d75df468caa42571ce341b35e": {
      "model_module": "@jupyter-widgets/controls",
      "model_module_version": "1.5.0",
      "model_name": "LabelModel",
      "state": {
       "layout": "IPY_MODEL_b43543e157ce451fb1b30b0ec090b41b",
       "style": "IPY_MODEL_7119aa618ff5435d868195635f7da4cc"
      }
     },
     "1b71272e6dca4713bb37483dc6cf6f9b": {
      "model_module": "@jupyter-widgets/controls",
      "model_module_version": "1.5.0",
      "model_name": "DescriptionStyleModel",
      "state": {
       "description_width": ""
      }
     },
     "1c2c7a3e8e904e6ebf5382e15119df97": {
      "model_module": "@jupyter-widgets/controls",
      "model_module_version": "1.5.0",
      "model_name": "ComboboxModel",
      "state": {
       "_dom_classes": [
        "nbtools-menu-attached",
        "nbtools-nosendto"
       ],
       "choices": {
        "Broad Internal": "https://gpbroad.broadinstitute.org/gp",
        "GenePattern Cloud": "https://cloud.genepattern.org/gp",
        "Indiana University": "https://gp.indiana.edu/gp"
       },
       "ensure_option": false,
       "kinds": [],
       "layout": "IPY_MODEL_e93d2f0d813f46eeaba5b4fd698a2ec5",
       "style": "IPY_MODEL_2730cbed55c74bcc940719bf58377567",
       "value": "https://cloud.genepattern.org/gp"
      }
     },
     "1ee9b28c9f744bdf9b9690da1e1a9c38": {
      "model_module": "@jupyter-widgets/controls",
      "model_module_version": "1.5.0",
      "model_name": "DescriptionStyleModel",
      "state": {
       "description_width": ""
      }
     },
     "20a02f4f3164496fb3d23064042dda0b": {
      "model_module": "@jupyter-widgets/base",
      "model_module_version": "1.2.0",
      "model_name": "LayoutModel",
      "state": {
       "grid_template_areas": "\n                    \"label input\"\n                    \". description\"\n                ",
       "grid_template_columns": "25% 75%",
       "grid_template_rows": "auto auto",
       "width": "100%"
      }
     },
     "20c79edac0834367be6070d82703fe8f": {
      "model_module": "@jupyter-widgets/controls",
      "model_module_version": "1.5.0",
      "model_name": "GridBoxModel",
      "state": {
       "_dom_classes": [
        "nbtools-input",
        "nbtools-textinput"
       ],
       "children": [
        "IPY_MODEL_f2c6bc7028b8463a8df909c1bf1c71fe",
        "IPY_MODEL_b1e2698f8bdb4005ba69726e0687d7ca",
        "IPY_MODEL_bb61c71a58bc41318af47b9c3c102349"
       ],
       "layout": "IPY_MODEL_f4b53c8585014736b0dc0ce405617eb3"
      }
     },
     "2308686215d44d41a24ba11101202316": {
      "model_module": "@jupyter-widgets/controls",
      "model_module_version": "1.5.0",
      "model_name": "DescriptionStyleModel",
      "state": {
       "description_width": ""
      }
     },
     "2321feeaa51f4bcd99f85165c46bcadf": {
      "model_module": "@jupyter-widgets/base",
      "model_module_version": "1.2.0",
      "model_name": "LayoutModel",
      "state": {
       "grid_area": "label",
       "width": "auto"
      }
     },
     "23ff57c6e90b4be3b8d4e36425b76e6e": {
      "model_module": "@jupyter-widgets/controls",
      "model_module_version": "1.5.0",
      "model_name": "DescriptionStyleModel",
      "state": {
       "description_width": ""
      }
     },
     "24f91c69602a4cbf9e3e0bc49e5f682c": {
      "model_module": "@jupyter-widgets/base",
      "model_module_version": "1.2.0",
      "model_name": "LayoutModel",
      "state": {}
     },
     "2641519928cc469788c14f07e000fdd0": {
      "model_module": "@jupyter-widgets/controls",
      "model_module_version": "1.5.0",
      "model_name": "VBoxModel",
      "state": {
       "layout": "IPY_MODEL_57efd60998ac43369515f9238f481de0"
      }
     },
     "2730cbed55c74bcc940719bf58377567": {
      "model_module": "@jupyter-widgets/controls",
      "model_module_version": "1.5.0",
      "model_name": "DescriptionStyleModel",
      "state": {
       "description_width": ""
      }
     },
     "2a3e335fcd2d410d88761f1b7e52b0ed": {
      "model_module": "@jupyter-widgets/controls",
      "model_module_version": "1.5.0",
      "model_name": "ButtonStyleModel",
      "state": {}
     },
     "2f9865d36334419baaaa36dcaa23b224": {
      "model_module": "@jupyter-widgets/controls",
      "model_module_version": "1.5.0",
      "model_name": "LabelModel",
      "state": {
       "layout": "IPY_MODEL_017ab14fba694e10813fafadc2d173c3",
       "style": "IPY_MODEL_23ff57c6e90b4be3b8d4e36425b76e6e"
      }
     },
     "3440b0c3946e493aa6c3cc9334ef8345": {
      "model_module": "@jupyter-widgets/controls",
      "model_module_version": "1.5.0",
      "model_name": "DescriptionStyleModel",
      "state": {
       "description_width": ""
      }
     },
     "381282d354cb427a8d47f20d3dfee0b2": {
      "model_module": "@jupyter-widgets/base",
      "model_module_version": "1.2.0",
      "model_name": "LayoutModel",
      "state": {
       "grid_area": "description",
       "width": "auto"
      }
     },
     "3b2e487fd2f34536b219a09e498a7ccb": {
      "model_module": "@jupyter-widgets/base",
      "model_module_version": "1.2.0",
      "model_name": "LayoutModel",
      "state": {
       "grid_area": "label",
       "width": "auto"
      }
     },
     "3b7a6536dc374d30b8e3958f7b17ab21": {
      "model_module": "@jupyter-widgets/controls",
      "model_module_version": "1.5.0",
      "model_name": "LabelModel",
      "state": {
       "layout": "IPY_MODEL_57fd4065b6154ca5b58b8038858dfe62",
       "style": "IPY_MODEL_bb861e93dc19468eb71f972fe5112dd4"
      }
     },
     "3bf0b46e220d419eb8fa92b5ee950e4c": {
      "model_module": "@jupyter-widgets/controls",
      "model_module_version": "1.5.0",
      "model_name": "LabelModel",
      "state": {
       "layout": "IPY_MODEL_84dd13b963fe40c0a57f79239662f843",
       "style": "IPY_MODEL_fb07a5910a084dd68c2ffb98aa8bcf07"
      }
     },
     "3cd1672a0d724a90884671ddc0dbd4ce": {
      "model_module": "@jupyter-widgets/output",
      "model_module_version": "1.0.0",
      "model_name": "OutputModel",
      "state": {
       "layout": "IPY_MODEL_24f91c69602a4cbf9e3e0bc49e5f682c"
      }
     },
     "3dafef86bd4b4babb894959ecb2df8f6": {
      "model_module": "@jupyter-widgets/controls",
      "model_module_version": "1.5.0",
      "model_name": "DescriptionStyleModel",
      "state": {
       "description_width": ""
      }
     },
     "3ebf12800de046628f0122dfc3d99552": {
      "model_module": "@jupyter-widgets/output",
      "model_module_version": "1.0.0",
      "model_name": "OutputModel",
      "state": {
       "layout": "IPY_MODEL_528c7e5faa43425f8651f5606cede919"
      }
     },
     "3f5fa929e2c643578b9e853637fe57c6": {
      "model_module": "@jupyter-widgets/controls",
      "model_module_version": "1.5.0",
      "model_name": "GridBoxModel",
      "state": {
       "_dom_classes": [
        "nbtools-input",
        "nbtools-fileinput",
        "required"
       ],
       "children": [
        "IPY_MODEL_c3fd9467734e44fa81a0643c3e5abe2b",
        "IPY_MODEL_5198172c466e4090a1ed36ffaf6519d5",
        "IPY_MODEL_5f53936d2f714f4db646230921f4d0de"
       ],
       "layout": "IPY_MODEL_5c12f7d862834a94a22b93a550644a3d"
      }
     },
     "3f639a1f31b14700b6935ad8f85fac21": {
      "model_module": "@jupyter-widgets/controls",
      "model_module_version": "1.5.0",
      "model_name": "FileUploadModel",
      "state": {
       "accept": ".gct",
       "description_tooltip": null,
       "layout": "IPY_MODEL_d21801c33af44c01a4d7981bd3aa055b",
       "style": "IPY_MODEL_2a3e335fcd2d410d88761f1b7e52b0ed"
      }
     },
     "4002c9e1d60a4014aeaee2ca1c00c434": {
      "model_module": "@jupyter-widgets/base",
      "model_module_version": "1.2.0",
      "model_name": "LayoutModel",
      "state": {
       "grid_area": "input",
       "width": "auto"
      }
     },
     "40955ea29f1447cc8635fba55030289e": {
      "model_module": "@jupyter-widgets/controls",
      "model_module_version": "1.5.0",
      "model_name": "DescriptionStyleModel",
      "state": {
       "description_width": ""
      }
     },
     "48089b4f561340c093c2ce76dfb2b494": {
      "model_module": "@jupyter-widgets/controls",
      "model_module_version": "1.5.0",
      "model_name": "DescriptionStyleModel",
      "state": {
       "description_width": ""
      }
     },
     "49d7e656202546f6a2df6746608e1806": {
      "model_module": "@jupyter-widgets/base",
      "model_module_version": "1.2.0",
      "model_name": "LayoutModel",
      "state": {}
     },
     "4a0552796c8f4063b170b8100daebb61": {
      "model_module": "@jupyter-widgets/controls",
      "model_module_version": "1.5.0",
      "model_name": "VBoxModel",
      "state": {
       "_dom_classes": [
        "widget-interact"
       ],
       "children": [
        "IPY_MODEL_d9d2ae985e164beb9e578b6dceca51e7",
        "IPY_MODEL_f534aa6fadd24661b3bf508272a6e8a9"
       ],
       "layout": "IPY_MODEL_73f71679132649cf9379c68ae1076322"
      }
     },
     "5198172c466e4090a1ed36ffaf6519d5": {
      "model_module": "@jupyter-widgets/controls",
      "model_module_version": "1.5.0",
      "model_name": "HBoxModel",
      "state": {
       "children": [
        "IPY_MODEL_3f639a1f31b14700b6935ad8f85fac21",
        "IPY_MODEL_eddaec7f79a44c93a5390d4fbf5c8a76"
       ],
       "layout": "IPY_MODEL_4002c9e1d60a4014aeaee2ca1c00c434"
      }
     },
     "528c7e5faa43425f8651f5606cede919": {
      "model_module": "@jupyter-widgets/base",
      "model_module_version": "1.2.0",
      "model_name": "LayoutModel",
      "state": {}
     },
     "53689bc6dfda4ad180283c997d456e56": {
      "model_module": "@jupyter-widgets/controls",
      "model_module_version": "1.5.0",
      "model_name": "GridBoxModel",
      "state": {
       "_dom_classes": [
        "nbtools-input",
        "nbtools-textinput",
        "required"
       ],
       "children": [
        "IPY_MODEL_acf578c62fd64a078ddd228c9969f7fa",
        "IPY_MODEL_be9e8242f2164f07b81e3c0e6deba8cd",
        "IPY_MODEL_2f9865d36334419baaaa36dcaa23b224"
       ],
       "layout": "IPY_MODEL_8be6a894cb034945bbda6d4a991e18c8"
      }
     },
     "53c828c9d0ca4cbabc72ecae8d7e15cc": {
      "model_module": "@jupyter-widgets/base",
      "model_module_version": "1.2.0",
      "model_name": "LayoutModel",
      "state": {
       "grid_area": "input",
       "width": "auto"
      }
     },
     "547538ce7b92424a9bcb5cdb01b782b5": {
      "model_module": "@jupyter-widgets/base",
      "model_module_version": "1.2.0",
      "model_name": "LayoutModel",
      "state": {
       "grid_area": "label",
       "width": "auto"
      }
     },
     "575c554ce16e4b1dab38f209233fed5e": {
      "model_module": "@jupyter-widgets/base",
      "model_module_version": "1.2.0",
      "model_name": "LayoutModel",
      "state": {
       "grid_area": "input",
       "width": "auto"
      }
     },
     "57efd60998ac43369515f9238f481de0": {
      "model_module": "@jupyter-widgets/base",
      "model_module_version": "1.2.0",
      "model_name": "LayoutModel",
      "state": {}
     },
     "57fd4065b6154ca5b58b8038858dfe62": {
      "model_module": "@jupyter-widgets/base",
      "model_module_version": "1.2.0",
      "model_name": "LayoutModel",
      "state": {
       "grid_area": "description",
       "width": "auto"
      }
     },
     "5916ce9f6a304e1998c1418b6049e9e2": {
      "model_module": "@jupyter-widgets/controls",
      "model_module_version": "1.5.0",
      "model_name": "LabelModel",
      "state": {
       "layout": "IPY_MODEL_e3a9806288ff48d096f1f6ca61c862b8",
       "style": "IPY_MODEL_f757c948ca1542eaa9e51c9bbab592f3"
      }
     },
     "597e353b113645348f51c50fa6ec675a": {
      "model_module": "@jupyter-widgets/base",
      "model_module_version": "1.2.0",
      "model_name": "LayoutModel",
      "state": {}
     },
     "5a5fd8e9347d49a7b21a6a55811c8c37": {
      "model_module": "@jupyter-widgets/base",
      "model_module_version": "1.2.0",
      "model_name": "LayoutModel",
      "state": {}
     },
     "5c12f7d862834a94a22b93a550644a3d": {
      "model_module": "@jupyter-widgets/base",
      "model_module_version": "1.2.0",
      "model_name": "LayoutModel",
      "state": {
       "grid_template_areas": "\n                    \"label input\"\n                    \". description\"\n                ",
       "grid_template_columns": "25% 75%",
       "grid_template_rows": "auto auto",
       "width": "100%"
      }
     },
     "5c62121749c14a569cb8d42da4275b7f": {
      "model_module": "@jupyter-widgets/controls",
      "model_module_version": "1.5.0",
      "model_name": "DescriptionStyleModel",
      "state": {
       "description_width": ""
      }
     },
     "5d360b6ab571440aabea63ff1746beec": {
      "model_module": "@jupyter-widgets/controls",
      "model_module_version": "1.5.0",
      "model_name": "DescriptionStyleModel",
      "state": {
       "description_width": ""
      }
     },
     "5f1cf005c42a43b7941af64db144f572": {
      "model_module": "@jupyter-widgets/output",
      "model_module_version": "1.0.0",
      "model_name": "OutputModel",
      "state": {
       "layout": "IPY_MODEL_c0749d1acbe346458983864fca1f5e27",
       "outputs": [
        {
         "data": {},
         "metadata": {},
         "output_type": "display_data"
        }
       ]
      }
     },
     "5f20c64513484f5d9f8f7da0758191af": {
      "model_module": "@jupyter-widgets/controls",
      "model_module_version": "1.5.0",
      "model_name": "LabelModel",
      "state": {
       "layout": "IPY_MODEL_381282d354cb427a8d47f20d3dfee0b2",
       "style": "IPY_MODEL_2308686215d44d41a24ba11101202316"
      }
     },
     "5f53936d2f714f4db646230921f4d0de": {
      "model_module": "@jupyter-widgets/controls",
      "model_module_version": "1.5.0",
      "model_name": "LabelModel",
      "state": {
       "layout": "IPY_MODEL_f9d74ef9006b4a7bbd16213ec3716444",
       "style": "IPY_MODEL_1ee9b28c9f744bdf9b9690da1e1a9c38"
      }
     },
     "618802848d714a969116b399e235e164": {
      "model_module": "@jupyter-widgets/controls",
      "model_module_version": "1.5.0",
      "model_name": "DescriptionStyleModel",
      "state": {
       "description_width": ""
      }
     },
     "6363e4b3404443ef935bd31e0098dded": {
      "model_module": "@jupyter-widgets/base",
      "model_module_version": "1.2.0",
      "model_name": "LayoutModel",
      "state": {}
     },
     "6cf0745687804c7980a16006da35da6b": {
      "model_module": "@jupyter-widgets/controls",
      "model_module_version": "1.5.0",
      "model_name": "GridBoxModel",
      "state": {
       "_dom_classes": [
        "nbtools-input",
        "nbtools-textinput",
        "required"
       ],
       "children": [
        "IPY_MODEL_d6285f284fd042edafac68ded94e09b2",
        "IPY_MODEL_f4a480a7e0fa46d1b58a423fad3f07b4",
        "IPY_MODEL_3bf0b46e220d419eb8fa92b5ee950e4c"
       ],
       "layout": "IPY_MODEL_20a02f4f3164496fb3d23064042dda0b"
      }
     },
     "6ed4d770ae544203a903f8d69690c0db": {
      "model_module": "@jupyter-widgets/base",
      "model_module_version": "1.2.0",
      "model_name": "LayoutModel",
      "state": {}
     },
     "7119aa618ff5435d868195635f7da4cc": {
      "model_module": "@jupyter-widgets/controls",
      "model_module_version": "1.5.0",
      "model_name": "DescriptionStyleModel",
      "state": {
       "description_width": ""
      }
     },
     "73f71679132649cf9379c68ae1076322": {
      "model_module": "@jupyter-widgets/base",
      "model_module_version": "1.2.0",
      "model_name": "LayoutModel",
      "state": {}
     },
     "740b8252fd8545cb9e7112a2259ab628": {
      "model_module": "@genepattern/nbtools",
      "model_module_version": "^20.10.0-alpha.0",
      "model_name": "UIBuilderModel",
      "state": {
       "_dom_classes": [],
       "_model_module_version": "^20.10.0-alpha.0",
       "_parameters": [
        {
         "choices": {
          "Broad Internal": "https://gpbroad.broadinstitute.org/gp",
          "GenePattern Cloud": "https://cloud.genepattern.org/gp",
          "Indiana University": "https://gp.indiana.edu/gp"
         },
         "combo": true,
         "default": "https://cloud.genepattern.org/gp",
         "description": "",
         "events": null,
         "hide": false,
         "id": null,
         "kinds": null,
         "label": "GenePattern Server",
         "name": "server",
         "optional": false,
         "sendto": false,
         "type": "choice",
         "value": ""
        },
        {
         "choices": {},
         "default": "",
         "description": "",
         "events": null,
         "hide": false,
         "id": null,
         "kinds": null,
         "label": "Username",
         "name": "username",
         "optional": false,
         "sendto": false,
         "type": "text",
         "value": ""
        },
        {
         "choices": {},
         "default": "",
         "description": "",
         "events": null,
         "hide": false,
         "id": null,
         "kinds": null,
         "label": "Password",
         "name": "password",
         "optional": false,
         "sendto": false,
         "type": "password",
         "value": ""
        },
        {
         "choices": {},
         "default": "",
         "description": "",
         "events": null,
         "hide": true,
         "id": null,
         "kinds": null,
         "label": "output variable",
         "name": "output_var",
         "optional": true,
         "type": "text",
         "value": ""
        }
       ],
       "_view_count": null,
       "_view_module_version": "^20.10.0-alpha.0",
       "buttons": {
        "Register an Account": "\n    const target = event.target;\n    const widget = target.closest('.nbtools') || target;\n    const server_input = widget.querySelector('input[type=text]');\n    if (server_input) window.open(server_input.value + '/pages/registerUser.jsf');\n    else console.warn('Cannot obtain GenePattern Server URL');"
       },
       "collapse": false,
       "color": "rgba(10, 45, 105, 0.80)",
       "description": "Login to the GenePattern server",
       "display_header": false,
       "form": "IPY_MODEL_793166c7eea0426da1a6de450aa179b2",
       "layout": "IPY_MODEL_49d7e656202546f6a2df6746608e1806",
       "name": "Login",
       "origin": "genepattern.authwidget",
       "output": "IPY_MODEL_8568bb74a06849d594346fec3bac9009",
       "output_var": "",
       "run_label": "Log into GenePattern"
      }
     },
     "7625f6ccc7cd4d98bebd33e31dee22d3": {
      "model_module": "@jupyter-widgets/controls",
      "model_module_version": "1.5.0",
      "model_name": "ButtonStyleModel",
      "state": {}
     },
     "7655ef174d7a49678f9058712fbfa4ce": {
      "model_module": "@jupyter-widgets/base",
      "model_module_version": "1.2.0",
      "model_name": "LayoutModel",
      "state": {}
     },
     "77d3568756644d7896dd6da6f6085dab": {
      "model_module": "@jupyter-widgets/controls",
      "model_module_version": "1.5.0",
      "model_name": "LabelModel",
      "state": {
       "description": "output variable",
       "layout": "IPY_MODEL_95435a41203a4c7c98f82c364ccbfb94",
       "style": "IPY_MODEL_48089b4f561340c093c2ce76dfb2b494",
       "value": "output variable"
      }
     },
     "787dec8223184e41b20e036fecc4223d": {
      "model_module": "@jupyter-widgets/base",
      "model_module_version": "1.2.0",
      "model_name": "LayoutModel",
      "state": {}
     },
     "793166c7eea0426da1a6de450aa179b2": {
      "model_module": "@jupyter-widgets/controls",
      "model_module_version": "1.5.0",
      "model_name": "VBoxModel",
      "state": {
       "_dom_classes": [
        "widget-interact"
       ],
       "children": [
        "IPY_MODEL_cf7cfb49778a436d9365bd735fb9e7d5",
        "IPY_MODEL_6cf0745687804c7980a16006da35da6b",
        "IPY_MODEL_8844cfc46ce04cd5aad9a8cc817754d5",
        "IPY_MODEL_a5b60b60d3f34c85bb7ab96b715ce386",
        "IPY_MODEL_20c79edac0834367be6070d82703fe8f"
       ],
       "layout": "IPY_MODEL_6363e4b3404443ef935bd31e0098dded"
      }
     },
     "79c23292c03d479c8c01bd3d5f49d475": {
      "model_module": "@jupyter-widgets/controls",
      "model_module_version": "1.5.0",
      "model_name": "VBoxModel",
      "state": {
       "layout": "IPY_MODEL_b31fc20c57d847798bbc5e7cfa8a88c3"
      }
     },
     "7db7fc2d28e7404196d3860b86387ed6": {
      "model_module": "@jupyter-widgets/output",
      "model_module_version": "1.0.0",
      "model_name": "OutputModel",
      "state": {
       "layout": "IPY_MODEL_110ea685f689480c8141a9de68505774"
      }
     },
     "7f9372bfe53c4fcfbb6371ddbf5a4455": {
      "model_module": "@jupyter-widgets/controls",
      "model_module_version": "1.5.0",
      "model_name": "ButtonModel",
      "state": {
       "_dom_classes": [
        "hidden"
       ],
       "description": "Run",
       "layout": "IPY_MODEL_7655ef174d7a49678f9058712fbfa4ce",
       "style": "IPY_MODEL_7625f6ccc7cd4d98bebd33e31dee22d3"
      }
     },
     "800aeea92daa454488fab6ff3735dd58": {
      "model_module": "@jupyter-widgets/controls",
      "model_module_version": "1.5.0",
      "model_name": "DescriptionStyleModel",
      "state": {
       "description_width": ""
      }
     },
     "80b34bee3e5d4f1ba21beea466d1b2fb": {
      "model_module": "@genepattern/nbtools",
      "model_module_version": "^20.10.0-alpha.0",
      "model_name": "UIOutputModel",
      "state": {
       "_dom_classes": [],
       "_model_module_version": "^20.10.0-alpha.0",
       "_view_count": null,
       "_view_module_version": "^20.10.0-alpha.0",
       "appendix": "IPY_MODEL_2641519928cc469788c14f07e000fdd0",
       "error": "Cannot find tool: GenePattern Cloud | urn:lsid:broad.mit.edu:cancer.software.genepattern.module.analysis:00002:2",
       "layout": "IPY_MODEL_a7466b6f903f493d90a7b9be45a4ee94",
       "name": "Cannot find tool"
      }
     },
     "8103bae99cfd45e291851a115be1187a": {
      "model_module": "@jupyter-widgets/controls",
      "model_module_version": "1.5.0",
      "model_name": "TextModel",
      "state": {
       "_dom_classes": [
        "nbtools-menu-attached"
       ],
       "layout": "IPY_MODEL_53c828c9d0ca4cbabc72ecae8d7e15cc",
       "style": "IPY_MODEL_c257babb31f1402181ccf835fa1a8548"
      }
     },
     "833d1946d8e34d35bd88ade37d73cf7f": {
      "model_module": "@jupyter-widgets/base",
      "model_module_version": "1.2.0",
      "model_name": "LayoutModel",
      "state": {
       "grid_area": "input",
       "width": "auto"
      }
     },
     "84dd13b963fe40c0a57f79239662f843": {
      "model_module": "@jupyter-widgets/base",
      "model_module_version": "1.2.0",
      "model_name": "LayoutModel",
      "state": {
       "grid_area": "description",
       "width": "auto"
      }
     },
     "8568bb74a06849d594346fec3bac9009": {
      "model_module": "@jupyter-widgets/output",
      "model_module_version": "1.0.0",
      "model_name": "OutputModel",
      "state": {
       "layout": "IPY_MODEL_b4a5eba186454d6eb212f4cf257a2463"
      }
     },
     "862bbd9a007e47ff9bcd41bf18a17b13": {
      "model_module": "@jupyter-widgets/base",
      "model_module_version": "1.2.0",
      "model_name": "LayoutModel",
      "state": {
       "grid_area": "label",
       "width": "auto"
      }
     },
     "863518c1ceee43f4816f2783e3ecf80c": {
      "model_module": "@jupyter-widgets/controls",
      "model_module_version": "1.5.0",
      "model_name": "VBoxModel",
      "state": {
       "layout": "IPY_MODEL_5a5fd8e9347d49a7b21a6a55811c8c37"
      }
     },
     "8844cfc46ce04cd5aad9a8cc817754d5": {
      "model_module": "@jupyter-widgets/controls",
      "model_module_version": "1.5.0",
      "model_name": "GridBoxModel",
      "state": {
       "_dom_classes": [
        "nbtools-input",
        "nbtools-passwordinput",
        "required"
       ],
       "children": [
        "IPY_MODEL_e905714988064aaeb43e9f1571026392",
        "IPY_MODEL_e2c87cf5502a46d5bd5e6d4107dbff4e",
        "IPY_MODEL_b20a28f436414bdd95b68622ffe2b9e9"
       ],
       "layout": "IPY_MODEL_c7c53987fc26484da94dee97bd28d3af"
      }
     },
     "8be6a894cb034945bbda6d4a991e18c8": {
      "model_module": "@jupyter-widgets/base",
      "model_module_version": "1.2.0",
      "model_name": "LayoutModel",
      "state": {
       "grid_template_areas": "\n                    \"label input\"\n                    \". description\"\n                ",
       "grid_template_columns": "25% 75%",
       "grid_template_rows": "auto auto",
       "width": "100%"
      }
     },
     "8c2cb42c59a44ad4b96bcb398454457c": {
      "model_module": "@jupyter-widgets/controls",
      "model_module_version": "1.5.0",
      "model_name": "GridBoxModel",
      "state": {
       "_dom_classes": [
        "nbtools-input",
        "nbtools-textinput"
       ],
       "children": [
        "IPY_MODEL_aa76a0734d5d47dab2ad5c53edfd351b",
        "IPY_MODEL_c60bd6a9e24048b093977bb85e3b0fa2",
        "IPY_MODEL_3b7a6536dc374d30b8e3958f7b17ab21"
       ],
       "layout": "IPY_MODEL_ea8d869c01564bb28750c26fbfcc5b64"
      }
     },
     "8dc8ae6f46a5419ca719ff7bb53cd28e": {
      "model_module": "@jupyter-widgets/output",
      "model_module_version": "1.0.0",
      "model_name": "OutputModel",
      "state": {
       "layout": "IPY_MODEL_d2075d5594694c3280212794ed8fb6cc",
       "outputs": [
        {
         "data": {},
         "metadata": {},
         "output_type": "display_data"
        }
       ]
      }
     },
     "8ee9efe283de45aea5eda078906a5d60": {
      "model_module": "@jupyter-widgets/controls",
      "model_module_version": "1.5.0",
      "model_name": "GridBoxModel",
      "state": {
       "_dom_classes": [
        "nbtools-input",
        "nbtools-textinput"
       ],
       "children": [
        "IPY_MODEL_77d3568756644d7896dd6da6f6085dab",
        "IPY_MODEL_8103bae99cfd45e291851a115be1187a",
        "IPY_MODEL_13b2927d75df468caa42571ce341b35e"
       ],
       "layout": "IPY_MODEL_ae34db19668f424889750c7c77bf5c7f"
      }
     },
     "95435a41203a4c7c98f82c364ccbfb94": {
      "model_module": "@jupyter-widgets/base",
      "model_module_version": "1.2.0",
      "model_name": "LayoutModel",
      "state": {
       "grid_area": "label",
       "width": "auto"
      }
     },
     "95d14c0f15ce4bc38e3570903c49ecc3": {
      "model_module": "@jupyter-widgets/base",
      "model_module_version": "1.2.0",
      "model_name": "LayoutModel",
      "state": {
       "grid_area": "description",
       "width": "auto"
      }
     },
     "95d23331158646b79b9699756ff9203c": {
      "model_module": "@jupyter-widgets/controls",
      "model_module_version": "1.5.0",
      "model_name": "DescriptionStyleModel",
      "state": {
       "description_width": ""
      }
     },
     "99087b6e71754b3ea207585012d334b5": {
      "model_module": "@jupyter-widgets/base",
      "model_module_version": "1.2.0",
      "model_name": "LayoutModel",
      "state": {
       "grid_area": "label",
       "width": "auto"
      }
     },
     "999ba30e5e1341bdac39862b129afcc9": {
      "model_module": "@jupyter-widgets/controls",
      "model_module_version": "1.5.0",
      "model_name": "DescriptionStyleModel",
      "state": {
       "description_width": ""
      }
     },
     "9b5bed001fbd49d684108dd98a8889e5": {
      "model_module": "@jupyter-widgets/output",
      "model_module_version": "1.0.0",
      "model_name": "OutputModel",
      "state": {
       "layout": "IPY_MODEL_597e353b113645348f51c50fa6ec675a"
      }
     },
     "9d241964df3d4ae585601630085c5575": {
      "model_module": "@genepattern/nbtools",
      "model_module_version": "^20.10.0-alpha.0",
      "model_name": "UIOutputModel",
      "state": {
       "_dom_classes": [],
       "_model_module_version": "^20.10.0-alpha.0",
       "_view_count": null,
       "_view_module_version": "^20.10.0-alpha.0",
       "appendix": "IPY_MODEL_e8fe9cb7ee7445bd8d1a9dec9a3d7017",
       "files": [
        "foo.gct",
        "act.odf"
       ],
       "layout": "IPY_MODEL_b4aa9539a87b4d13b82a8bcf70feb867"
      }
     },
     "a100c33d7cf046168b23a6e59a98aba4": {
      "model_module": "@jupyter-widgets/base",
      "model_module_version": "1.2.0",
      "model_name": "LayoutModel",
      "state": {}
     },
     "a2bcd89fa842488b8ca3ce8dc021b532": {
      "model_module": "@jupyter-widgets/base",
      "model_module_version": "1.2.0",
      "model_name": "LayoutModel",
      "state": {
       "grid_area": "description",
       "width": "auto"
      }
     },
     "a2bda5b73f874b918227da7627c3fb3b": {
      "model_module": "@jupyter-widgets/base",
      "model_module_version": "1.2.0",
      "model_name": "LayoutModel",
      "state": {}
     },
     "a5b60b60d3f34c85bb7ab96b715ce386": {
      "model_module": "@jupyter-widgets/controls",
      "model_module_version": "1.5.0",
      "model_name": "ButtonModel",
      "state": {
       "_dom_classes": [
        "hidden"
       ],
       "description": "Run",
       "layout": "IPY_MODEL_f4cf38232f7d4fe5a750118fccde79b0",
       "style": "IPY_MODEL_1241b9f20e754d899892eb1436795fe7"
      }
     },
     "a5c8ab3457af4caea8b3fc165c132ec0": {
      "model_module": "@jupyter-widgets/controls",
      "model_module_version": "1.5.0",
      "model_name": "GridBoxModel",
      "state": {
       "_dom_classes": [
        "nbtools-input",
        "nbtools-textinput"
       ],
       "children": [
        "IPY_MODEL_1053bbbe3e1c4aed91a964ed68d0692f",
        "IPY_MODEL_e1210ebdde544839ae2003da08b29e5c",
        "IPY_MODEL_5f20c64513484f5d9f8f7da0758191af"
       ],
       "layout": "IPY_MODEL_fef03be138cd4739a0b90c60f91c2bd9"
      }
     },
     "a7466b6f903f493d90a7b9be45a4ee94": {
      "model_module": "@jupyter-widgets/base",
      "model_module_version": "1.2.0",
      "model_name": "LayoutModel",
      "state": {}
     },
     "a9d674d8e6934cdfb1ec708b0b1ee757": {
      "model_module": "@jupyter-widgets/controls",
      "model_module_version": "1.5.0",
      "model_name": "DescriptionStyleModel",
      "state": {
       "description_width": ""
      }
     },
     "aa76a0734d5d47dab2ad5c53edfd351b": {
      "model_module": "@jupyter-widgets/controls",
      "model_module_version": "1.5.0",
      "model_name": "LabelModel",
      "state": {
       "description": "output variable",
       "layout": "IPY_MODEL_2321feeaa51f4bcd99f85165c46bcadf",
       "style": "IPY_MODEL_95d23331158646b79b9699756ff9203c",
       "value": "output variable"
      }
     },
     "acbd0bc989fa44858580f7c637d294d4": {
      "model_module": "@jupyter-widgets/base",
      "model_module_version": "1.2.0",
      "model_name": "LayoutModel",
      "state": {
       "grid_area": "input",
       "width": "auto"
      }
     },
     "acf578c62fd64a078ddd228c9969f7fa": {
      "model_module": "@jupyter-widgets/controls",
      "model_module_version": "1.5.0",
      "model_name": "LabelModel",
      "state": {
       "description": "j",
       "layout": "IPY_MODEL_547538ce7b92424a9bcb5cdb01b782b5",
       "style": "IPY_MODEL_40955ea29f1447cc8635fba55030289e",
       "value": "j*"
      }
     },
     "ae34db19668f424889750c7c77bf5c7f": {
      "model_module": "@jupyter-widgets/base",
      "model_module_version": "1.2.0",
      "model_name": "LayoutModel",
      "state": {
       "display": "none",
       "grid_template_areas": "\n                    \"label input\"\n                    \". description\"\n                ",
       "grid_template_columns": "25% 75%",
       "grid_template_rows": "auto auto",
       "width": "100%"
      }
     },
     "ae7c09558cff4be1b11f69d55ec14529": {
      "model_module": "@jupyter-widgets/controls",
      "model_module_version": "1.5.0",
      "model_name": "ButtonModel",
      "state": {
       "_dom_classes": [
        "hidden"
       ],
       "description": "Run",
       "layout": "IPY_MODEL_01df396bb53041ceb28deef006ff7b65",
       "style": "IPY_MODEL_eca18dc79500462fb7cabe1392134825"
      }
     },
     "b1e2698f8bdb4005ba69726e0687d7ca": {
      "model_module": "@jupyter-widgets/controls",
      "model_module_version": "1.5.0",
      "model_name": "TextModel",
      "state": {
       "_dom_classes": [
        "nbtools-menu-attached"
       ],
       "layout": "IPY_MODEL_575c554ce16e4b1dab38f209233fed5e",
       "style": "IPY_MODEL_3dafef86bd4b4babb894959ecb2df8f6"
      }
     },
     "b20a28f436414bdd95b68622ffe2b9e9": {
      "model_module": "@jupyter-widgets/controls",
      "model_module_version": "1.5.0",
      "model_name": "LabelModel",
      "state": {
       "layout": "IPY_MODEL_95d14c0f15ce4bc38e3570903c49ecc3",
       "style": "IPY_MODEL_a9d674d8e6934cdfb1ec708b0b1ee757"
      }
     },
     "b2fbe219edcf42809e82e743d44e58e4": {
      "model_module": "@jupyter-widgets/controls",
      "model_module_version": "1.5.0",
      "model_name": "DescriptionStyleModel",
      "state": {
       "description_width": ""
      }
     },
     "b31fc20c57d847798bbc5e7cfa8a88c3": {
      "model_module": "@jupyter-widgets/base",
      "model_module_version": "1.2.0",
      "model_name": "LayoutModel",
      "state": {}
     },
     "b43543e157ce451fb1b30b0ec090b41b": {
      "model_module": "@jupyter-widgets/base",
      "model_module_version": "1.2.0",
      "model_name": "LayoutModel",
      "state": {
       "grid_area": "description",
       "width": "auto"
      }
     },
     "b4a5eba186454d6eb212f4cf257a2463": {
      "model_module": "@jupyter-widgets/base",
      "model_module_version": "1.2.0",
      "model_name": "LayoutModel",
      "state": {}
     },
     "b4aa9539a87b4d13b82a8bcf70feb867": {
      "model_module": "@jupyter-widgets/base",
      "model_module_version": "1.2.0",
      "model_name": "LayoutModel",
      "state": {}
     },
     "b70a938a9a2f48ac9c741385b3a6c03e": {
      "model_module": "@jupyter-widgets/controls",
      "model_module_version": "1.5.0",
      "model_name": "DescriptionStyleModel",
      "state": {
       "description_width": ""
      }
     },
     "b9d4ab6819d94a05ae2b6f5e435aa453": {
      "model_module": "@jupyter-widgets/output",
      "model_module_version": "1.0.0",
      "model_name": "OutputModel",
      "state": {
       "layout": "IPY_MODEL_0e3d012d4ddf4845a56532e0a582e04e",
       "outputs": [
        {
         "data": {},
         "metadata": {},
         "output_type": "display_data"
        }
       ]
      }
     },
     "bb61c71a58bc41318af47b9c3c102349": {
      "model_module": "@jupyter-widgets/controls",
      "model_module_version": "1.5.0",
      "model_name": "LabelModel",
      "state": {
       "layout": "IPY_MODEL_a2bcd89fa842488b8ca3ce8dc021b532",
       "style": "IPY_MODEL_1b71272e6dca4713bb37483dc6cf6f9b"
      }
     },
     "bb861e93dc19468eb71f972fe5112dd4": {
      "model_module": "@jupyter-widgets/controls",
      "model_module_version": "1.5.0",
      "model_name": "DescriptionStyleModel",
      "state": {
       "description_width": ""
      }
     },
     "bc4afb716b7b4436a1a6596012d1f6e5": {
      "model_module": "@jupyter-widgets/controls",
      "model_module_version": "1.5.0",
      "model_name": "LabelModel",
      "state": {
       "description": "GenePattern Server",
       "layout": "IPY_MODEL_ce0e2a3f69c2411da4704b0dd48b742f",
       "style": "IPY_MODEL_eb87e0b4f4cb426cb1ce122ec44e127b",
       "value": "GenePattern Server*"
      }
     },
     "be1d8e1696b24b92b2ad6f8f01e95a6e": {
      "model_module": "@jupyter-widgets/base",
      "model_module_version": "1.2.0",
      "model_name": "LayoutModel",
      "state": {}
     },
     "be3cbe3c0f364ae48bbc7b37f28dc732": {
      "model_module": "@jupyter-widgets/controls",
      "model_module_version": "1.5.0",
      "model_name": "DescriptionStyleModel",
      "state": {
       "description_width": ""
      }
     },
     "be9e8242f2164f07b81e3c0e6deba8cd": {
      "model_module": "@jupyter-widgets/controls",
      "model_module_version": "1.5.0",
      "model_name": "TextModel",
      "state": {
       "_dom_classes": [
        "nbtools-menu-attached"
       ],
       "layout": "IPY_MODEL_833d1946d8e34d35bd88ade37d73cf7f",
       "style": "IPY_MODEL_b70a938a9a2f48ac9c741385b3a6c03e"
      }
     },
     "bfb0fb8f459c47c3aa7550e9a9cb029a": {
      "model_module": "@jupyter-widgets/base",
      "model_module_version": "1.2.0",
      "model_name": "LayoutModel",
      "state": {}
     },
     "c015ec597b4f42baa129a7f54643bfc7": {
      "model_module": "@jupyter-widgets/controls",
      "model_module_version": "1.5.0",
      "model_name": "ButtonStyleModel",
      "state": {}
     },
     "c0749d1acbe346458983864fca1f5e27": {
      "model_module": "@jupyter-widgets/base",
      "model_module_version": "1.2.0",
      "model_name": "LayoutModel",
      "state": {}
     },
     "c22a3916e6964f3a8df43bb49830230c": {
      "model_module": "@jupyter-widgets/base",
      "model_module_version": "1.2.0",
      "model_name": "LayoutModel",
      "state": {
       "grid_area": "label",
       "width": "auto"
      }
     },
     "c257babb31f1402181ccf835fa1a8548": {
      "model_module": "@jupyter-widgets/controls",
      "model_module_version": "1.5.0",
      "model_name": "DescriptionStyleModel",
      "state": {
       "description_width": ""
      }
     },
     "c3fd9467734e44fa81a0643c3e5abe2b": {
      "model_module": "@jupyter-widgets/controls",
      "model_module_version": "1.5.0",
      "model_name": "LabelModel",
      "state": {
       "description": "i",
       "layout": "IPY_MODEL_c22a3916e6964f3a8df43bb49830230c",
       "style": "IPY_MODEL_e3786e1c94f442ccbaa4e5ff193bbfc1",
       "value": "i*"
      }
     },
     "c3fe0151fd464c6294f28e3f4f2db93d": {
      "model_module": "@jupyter-widgets/base",
      "model_module_version": "1.2.0",
      "model_name": "LayoutModel",
      "state": {
       "grid_area": "input",
       "width": "auto"
      }
     },
     "c60bd6a9e24048b093977bb85e3b0fa2": {
      "model_module": "@jupyter-widgets/controls",
      "model_module_version": "1.5.0",
      "model_name": "TextModel",
      "state": {
       "_dom_classes": [
        "nbtools-menu-attached"
       ],
       "layout": "IPY_MODEL_acbd0bc989fa44858580f7c637d294d4",
       "style": "IPY_MODEL_be3cbe3c0f364ae48bbc7b37f28dc732"
      }
     },
     "c7c53987fc26484da94dee97bd28d3af": {
      "model_module": "@jupyter-widgets/base",
      "model_module_version": "1.2.0",
      "model_name": "LayoutModel",
      "state": {
       "grid_template_areas": "\n                    \"label input\"\n                    \". description\"\n                ",
       "grid_template_columns": "25% 75%",
       "grid_template_rows": "auto auto",
       "width": "100%"
      }
     },
     "cd5ae1389dcb437da91631b6c0cafb53": {
      "model_module": "@jupyter-widgets/base",
      "model_module_version": "1.2.0",
      "model_name": "LayoutModel",
      "state": {}
     },
     "ce0e2a3f69c2411da4704b0dd48b742f": {
      "model_module": "@jupyter-widgets/base",
      "model_module_version": "1.2.0",
      "model_name": "LayoutModel",
      "state": {
       "grid_area": "label",
       "width": "auto"
      }
     },
     "cf7cfb49778a436d9365bd735fb9e7d5": {
      "model_module": "@jupyter-widgets/controls",
      "model_module_version": "1.5.0",
      "model_name": "GridBoxModel",
      "state": {
       "_dom_classes": [
        "nbtools-input",
        "nbtools-comboinput",
        "required"
       ],
       "children": [
        "IPY_MODEL_bc4afb716b7b4436a1a6596012d1f6e5",
        "IPY_MODEL_1c2c7a3e8e904e6ebf5382e15119df97",
        "IPY_MODEL_5916ce9f6a304e1998c1418b6049e9e2"
       ],
       "layout": "IPY_MODEL_09b4e45a884145bd900f2ed615405ad1"
      }
     },
     "d0f1eaf6f98c445193922ba1eb65523f": {
      "model_module": "@jupyter-widgets/controls",
      "model_module_version": "1.5.0",
      "model_name": "ComboboxModel",
      "state": {
       "_dom_classes": [
        "nbtools-menu-attached"
       ],
       "choices": {},
       "ensure_option": false,
       "kinds": [
        "gct"
       ],
       "layout": "IPY_MODEL_be1d8e1696b24b92b2ad6f8f01e95a6e",
       "style": "IPY_MODEL_3440b0c3946e493aa6c3cc9334ef8345"
      }
     },
     "d2075d5594694c3280212794ed8fb6cc": {
      "model_module": "@jupyter-widgets/base",
      "model_module_version": "1.2.0",
      "model_name": "LayoutModel",
      "state": {}
     },
     "d21801c33af44c01a4d7981bd3aa055b": {
      "model_module": "@jupyter-widgets/base",
      "model_module_version": "1.2.0",
      "model_name": "LayoutModel",
      "state": {}
     },
     "d3178a0fb4444dd0bead3bf4949433e8": {
      "model_module": "@jupyter-widgets/base",
      "model_module_version": "1.2.0",
      "model_name": "LayoutModel",
      "state": {}
     },
     "d6285f284fd042edafac68ded94e09b2": {
      "model_module": "@jupyter-widgets/controls",
      "model_module_version": "1.5.0",
      "model_name": "LabelModel",
      "state": {
       "description": "Username",
       "layout": "IPY_MODEL_f4831e13cae64ad0b03c6a3a5116f415",
       "style": "IPY_MODEL_5d360b6ab571440aabea63ff1746beec",
       "value": "Username*"
      }
     },
     "d9d2ae985e164beb9e578b6dceca51e7": {
      "model_module": "@jupyter-widgets/controls",
      "model_module_version": "1.5.0",
      "model_name": "ButtonModel",
      "state": {
       "_dom_classes": [
        "hidden"
       ],
       "description": "Run",
       "layout": "IPY_MODEL_6ed4d770ae544203a903f8d69690c0db",
       "style": "IPY_MODEL_c015ec597b4f42baa129a7f54643bfc7"
      }
     },
     "e1210ebdde544839ae2003da08b29e5c": {
      "model_module": "@jupyter-widgets/controls",
      "model_module_version": "1.5.0",
      "model_name": "TextModel",
      "state": {
       "_dom_classes": [
        "nbtools-menu-attached"
       ],
       "layout": "IPY_MODEL_c3fe0151fd464c6294f28e3f4f2db93d",
       "style": "IPY_MODEL_5c62121749c14a569cb8d42da4275b7f"
      }
     },
     "e2c87cf5502a46d5bd5e6d4107dbff4e": {
      "model_module": "@jupyter-widgets/controls",
      "model_module_version": "1.5.0",
      "model_name": "PasswordModel",
      "state": {
       "layout": "IPY_MODEL_f1411697b87c42a084f45be0705fc055",
       "style": "IPY_MODEL_b2fbe219edcf42809e82e743d44e58e4"
      }
     },
     "e3786e1c94f442ccbaa4e5ff193bbfc1": {
      "model_module": "@jupyter-widgets/controls",
      "model_module_version": "1.5.0",
      "model_name": "DescriptionStyleModel",
      "state": {
       "description_width": ""
      }
     },
     "e3a9806288ff48d096f1f6ca61c862b8": {
      "model_module": "@jupyter-widgets/base",
      "model_module_version": "1.2.0",
      "model_name": "LayoutModel",
      "state": {
       "grid_area": "description",
       "width": "auto"
      }
     },
     "e8fe9cb7ee7445bd8d1a9dec9a3d7017": {
      "model_module": "@jupyter-widgets/controls",
      "model_module_version": "1.5.0",
      "model_name": "VBoxModel",
      "state": {
       "layout": "IPY_MODEL_a2bda5b73f874b918227da7627c3fb3b"
      }
     },
     "e905714988064aaeb43e9f1571026392": {
      "model_module": "@jupyter-widgets/controls",
      "model_module_version": "1.5.0",
      "model_name": "LabelModel",
      "state": {
       "description": "Password",
       "layout": "IPY_MODEL_862bbd9a007e47ff9bcd41bf18a17b13",
       "style": "IPY_MODEL_077315f94ff54a3aa2e863df516e4d3e",
       "value": "Password*"
      }
     },
     "e925e3fcc1d24100b5a1d6e1d1510356": {
      "model_module": "@genepattern/nbtools",
      "model_module_version": "^20.10.0-alpha.0",
      "model_name": "UIBuilderModel",
      "state": {
       "_dom_classes": [],
       "_model_module_version": "^20.10.0-alpha.0",
       "_parameters": [
        {
         "choices": {},
         "default": "",
         "description": "",
         "events": null,
         "hide": false,
         "id": null,
         "kinds": [
          "gct"
         ],
         "label": "i",
         "name": "i",
         "optional": false,
         "type": "file",
         "value": ""
        },
        {
         "choices": {},
         "default": "",
         "description": "",
         "events": null,
         "hide": false,
         "id": null,
         "kinds": null,
         "label": "j",
         "name": "j",
         "optional": false,
         "type": "text",
         "value": ""
        },
        {
         "choices": {},
         "default": "",
         "description": "",
         "events": null,
         "hide": true,
         "id": null,
         "kinds": null,
         "label": "output variable",
         "name": "output_var",
         "optional": true,
         "type": "text",
         "value": ""
        }
       ],
       "_view_count": null,
       "_view_module_version": "^20.10.0-alpha.0",
       "form": "IPY_MODEL_106e4441c1c44e59bfae780c5739836e",
       "layout": "IPY_MODEL_fc00ea21587241359166623f0c69d33f",
       "name": "test_menus",
       "origin": "Notebook",
       "output": "IPY_MODEL_7db7fc2d28e7404196d3860b86387ed6",
       "output_var": ""
      }
     },
     "e93d2f0d813f46eeaba5b4fd698a2ec5": {
      "model_module": "@jupyter-widgets/base",
      "model_module_version": "1.2.0",
      "model_name": "LayoutModel",
      "state": {
       "grid_area": "input",
       "width": "auto"
      }
     },
     "ea8d869c01564bb28750c26fbfcc5b64": {
      "model_module": "@jupyter-widgets/base",
      "model_module_version": "1.2.0",
      "model_name": "LayoutModel",
      "state": {
       "display": "none",
       "grid_template_areas": "\n                    \"label input\"\n                    \". description\"\n                ",
       "grid_template_columns": "25% 75%",
       "grid_template_rows": "auto auto",
       "width": "100%"
      }
     },
     "eb87e0b4f4cb426cb1ce122ec44e127b": {
      "model_module": "@jupyter-widgets/controls",
      "model_module_version": "1.5.0",
      "model_name": "DescriptionStyleModel",
      "state": {
       "description_width": ""
      }
     },
     "eca18dc79500462fb7cabe1392134825": {
      "model_module": "@jupyter-widgets/controls",
      "model_module_version": "1.5.0",
      "model_name": "ButtonStyleModel",
      "state": {}
     },
     "ed0f677d31c7459a8de845df5eeb3fe3": {
      "model_module": "@jupyter-widgets/base",
      "model_module_version": "1.2.0",
      "model_name": "LayoutModel",
      "state": {}
     },
     "eddaec7f79a44c93a5390d4fbf5c8a76": {
      "model_module": "@jupyter-widgets/controls",
      "model_module_version": "1.5.0",
      "model_name": "VBoxModel",
      "state": {
       "children": [
        "IPY_MODEL_d0f1eaf6f98c445193922ba1eb65523f"
       ],
       "layout": "IPY_MODEL_ed0f677d31c7459a8de845df5eeb3fe3"
      }
     },
     "f1411697b87c42a084f45be0705fc055": {
      "model_module": "@jupyter-widgets/base",
      "model_module_version": "1.2.0",
      "model_name": "LayoutModel",
      "state": {
       "grid_area": "input",
       "width": "auto"
      }
     },
     "f2c6bc7028b8463a8df909c1bf1c71fe": {
      "model_module": "@jupyter-widgets/controls",
      "model_module_version": "1.5.0",
      "model_name": "LabelModel",
      "state": {
       "description": "output variable",
       "layout": "IPY_MODEL_99087b6e71754b3ea207585012d334b5",
       "style": "IPY_MODEL_999ba30e5e1341bdac39862b129afcc9",
       "value": "output variable"
      }
     },
     "f4831e13cae64ad0b03c6a3a5116f415": {
      "model_module": "@jupyter-widgets/base",
      "model_module_version": "1.2.0",
      "model_name": "LayoutModel",
      "state": {
       "grid_area": "label",
       "width": "auto"
      }
     },
     "f4a480a7e0fa46d1b58a423fad3f07b4": {
      "model_module": "@jupyter-widgets/controls",
      "model_module_version": "1.5.0",
      "model_name": "TextModel",
      "state": {
       "_dom_classes": [
        "nbtools-menu-attached"
       ],
       "layout": "IPY_MODEL_01e9e9bfe8e64726bd95a2fcce13a648",
       "style": "IPY_MODEL_618802848d714a969116b399e235e164"
      }
     },
     "f4b53c8585014736b0dc0ce405617eb3": {
      "model_module": "@jupyter-widgets/base",
      "model_module_version": "1.2.0",
      "model_name": "LayoutModel",
      "state": {
       "display": "none",
       "grid_template_areas": "\n                    \"label input\"\n                    \". description\"\n                ",
       "grid_template_columns": "25% 75%",
       "grid_template_rows": "auto auto",
       "width": "100%"
      }
     },
     "f4cf38232f7d4fe5a750118fccde79b0": {
      "model_module": "@jupyter-widgets/base",
      "model_module_version": "1.2.0",
      "model_name": "LayoutModel",
      "state": {}
     },
     "f5002023c24a4846a840a5862a890d18": {
      "model_module": "@genepattern/nbtools",
      "model_module_version": "^20.10.0-alpha.0",
      "model_name": "UIOutputModel",
      "state": {
       "_dom_classes": [],
       "_model_module_version": "^20.10.0-alpha.0",
       "_view_count": null,
       "_view_module_version": "^20.10.0-alpha.0",
       "appendix": "IPY_MODEL_863518c1ceee43f4816f2783e3ecf80c",
       "error": "Cannot find tool: GenePattern Cloud | urn:lsid:broad.mit.edu:cancer.software.genepattern.module.analysis:00044:10.1",
       "layout": "IPY_MODEL_a100c33d7cf046168b23a6e59a98aba4",
       "name": "Cannot find tool"
      }
     },
     "f534aa6fadd24661b3bf508272a6e8a9": {
      "model_module": "@jupyter-widgets/output",
      "model_module_version": "1.0.0",
      "model_name": "OutputModel",
      "state": {
       "layout": "IPY_MODEL_cd5ae1389dcb437da91631b6c0cafb53"
      }
     },
     "f757c948ca1542eaa9e51c9bbab592f3": {
      "model_module": "@jupyter-widgets/controls",
      "model_module_version": "1.5.0",
      "model_name": "DescriptionStyleModel",
      "state": {
       "description_width": ""
      }
     },
     "f8899f7586194caca8a6cd32a46c4885": {
      "model_module": "@jupyter-widgets/controls",
      "model_module_version": "1.5.0",
      "model_name": "VBoxModel",
      "state": {
       "_dom_classes": [
        "widget-interact"
       ],
       "children": [
        "IPY_MODEL_ae7c09558cff4be1b11f69d55ec14529",
        "IPY_MODEL_3cd1672a0d724a90884671ddc0dbd4ce"
       ],
       "layout": "IPY_MODEL_787dec8223184e41b20e036fecc4223d"
      }
     },
     "f9d74ef9006b4a7bbd16213ec3716444": {
      "model_module": "@jupyter-widgets/base",
      "model_module_version": "1.2.0",
      "model_name": "LayoutModel",
      "state": {
       "grid_area": "description",
       "width": "auto"
      }
     },
     "fb07a5910a084dd68c2ffb98aa8bcf07": {
      "model_module": "@jupyter-widgets/controls",
      "model_module_version": "1.5.0",
      "model_name": "DescriptionStyleModel",
      "state": {
       "description_width": ""
      }
     },
     "fc00ea21587241359166623f0c69d33f": {
      "model_module": "@jupyter-widgets/base",
      "model_module_version": "1.2.0",
      "model_name": "LayoutModel",
      "state": {}
     },
     "fd8b0b4eae9c4858b1a782feae42a112": {
      "model_module": "@genepattern/nbtools",
      "model_module_version": "^20.10.0-alpha.0",
      "model_name": "UIOutputModel",
      "state": {
       "_dom_classes": [],
       "_model_module_version": "^20.10.0-alpha.0",
       "_view_count": null,
       "_view_module_version": "^20.10.0-alpha.0",
       "appendix": "IPY_MODEL_79c23292c03d479c8c01bd3d5f49d475",
       "error": "Cannot find tool: GenePattern Cloud | urn:lsid:broad.mit.edu:cancer.software.genepattern.module.visualizer:00045:9",
       "layout": "IPY_MODEL_d3178a0fb4444dd0bead3bf4949433e8",
       "name": "Cannot find tool"
      }
     },
     "fef03be138cd4739a0b90c60f91c2bd9": {
      "model_module": "@jupyter-widgets/base",
      "model_module_version": "1.2.0",
      "model_name": "LayoutModel",
      "state": {
       "display": "none",
       "grid_template_areas": "\n                    \"label input\"\n                    \". description\"\n                ",
       "grid_template_columns": "25% 75%",
       "grid_template_rows": "auto auto",
       "width": "100%"
      }
     }
    },
    "version_major": 2,
    "version_minor": 0
   }
  }
 },
 "nbformat": 4,
 "nbformat_minor": 4
}
