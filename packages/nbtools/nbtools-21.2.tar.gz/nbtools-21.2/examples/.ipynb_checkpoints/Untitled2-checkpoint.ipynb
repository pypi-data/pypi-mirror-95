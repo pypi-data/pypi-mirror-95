{
 "cells": [
  {
   "cell_type": "code",
   "execution_count": 2,
   "metadata": {},
   "outputs": [
    {
     "data": {
      "application/vnd.jupyter.widget-view+json": {
       "model_id": "0ec62b90ef6b4c6e8bd2d8b0ebf57647",
       "version_major": 2,
       "version_minor": 0
      },
      "text/plain": [
       "GPAuthWidget(buttons={'Register an Account': \"\\n    const target = event.target;\\n    const widget = target.cl…"
      ]
     },
     "metadata": {},
     "output_type": "display_data"
    },
    {
     "data": {
      "application/vnd.jupyter.widget-view+json": {
       "model_id": "1f4b46cc12b9438797c048a9e520259e",
       "version_major": 2,
       "version_minor": 0
      },
      "text/plain": [
       "Output()"
      ]
     },
     "metadata": {},
     "output_type": "display_data"
    }
   ],
   "source": [
    "nbtools.tool(id='authentication', origin='+')"
   ]
  },
  {
   "cell_type": "code",
   "execution_count": 3,
   "metadata": {},
   "outputs": [
    {
     "data": {
      "text/plain": [
       "[]"
      ]
     },
     "execution_count": 3,
     "metadata": {},
     "output_type": "execute_result"
    }
   ],
   "source": [
    "genepattern.session.sessions"
   ]
  }
 ],
 "metadata": {
  "kernelspec": {
   "display_name": "Python 3",
   "language": "python",
   "name": "python3"
  },
  "language_info": {
   "codemirror_mode": {
    "name": "ipython",
    "version": 3
   },
   "file_extension": ".py",
   "mimetype": "text/x-python",
   "name": "python",
   "nbconvert_exporter": "python",
   "pygments_lexer": "ipython3",
   "version": "3.7.6"
  },
  "widgets": {
   "application/vnd.jupyter.widget-state+json": {
    "state": {
     "001bff8d9be44d408f0dc7c7873cc66e": {
      "model_module": "@jupyter-widgets/controls",
      "model_module_version": "1.5.0",
      "model_name": "DescriptionStyleModel",
      "state": {
       "description_width": ""
      }
     },
     "0305bad538c643349afd4f6c43a601b3": {
      "model_module": "@jupyter-widgets/base",
      "model_module_version": "1.2.0",
      "model_name": "LayoutModel",
      "state": {
       "grid_area": "description",
       "width": "auto"
      }
     },
     "07df0ec279d1429389f17db636c336f2": {
      "model_module": "@jupyter-widgets/base",
      "model_module_version": "1.2.0",
      "model_name": "LayoutModel",
      "state": {
       "grid_area": "description",
       "width": "auto"
      }
     },
     "0a04d685c5c848a0a23abe3c854292ee": {
      "model_module": "@jupyter-widgets/controls",
      "model_module_version": "1.5.0",
      "model_name": "DescriptionStyleModel",
      "state": {
       "description_width": ""
      }
     },
     "0b12eeb8b6164f59a0866b49f1746082": {
      "model_module": "@jupyter-widgets/base",
      "model_module_version": "1.2.0",
      "model_name": "LayoutModel",
      "state": {
       "grid_area": "description",
       "width": "auto"
      }
     },
     "0ec62b90ef6b4c6e8bd2d8b0ebf57647": {
      "model_module": "@genepattern/nbtools",
      "model_module_version": "^20.10.0-alpha.0",
      "model_name": "UIBuilderModel",
      "state": {
       "_model_module_version": "^20.10.0-alpha.0",
       "_parameters": [
        {
         "choices": {
          "Broad Internal": "https://gpbroad.broadinstitute.org/gp",
          "GenePattern Cloud": "https://cloud.genepattern.org/gp"
         },
         "combo": true,
         "default": "https://cloud.genepattern.org/gp",
         "description": "",
         "events": null,
         "hide": false,
         "id": null,
         "kinds": null,
         "label": "GenePattern Server",
         "name": "server",
         "optional": false,
         "sendto": false,
         "type": "choice",
         "value": ""
        },
        {
         "choices": {},
         "default": "",
         "description": "",
         "events": null,
         "hide": false,
         "id": null,
         "kinds": null,
         "label": "Username",
         "name": "username",
         "optional": false,
         "sendto": false,
         "type": "text",
         "value": ""
        },
        {
         "choices": {},
         "default": "",
         "description": "",
         "events": null,
         "hide": false,
         "id": null,
         "kinds": null,
         "label": "Password",
         "name": "password",
         "optional": false,
         "sendto": false,
         "type": "password",
         "value": ""
        },
        {
         "choices": {},
         "default": "",
         "description": "",
         "events": null,
         "hide": true,
         "id": null,
         "kinds": null,
         "label": "output variable",
         "name": "output_var",
         "optional": true,
         "type": "text",
         "value": ""
        }
       ],
       "_view_module_version": "^20.10.0-alpha.0",
       "buttons": {
        "Register an Account": "\n    const target = event.target;\n    const widget = target.closest('.nbtools') || target;\n    const server_input = widget.querySelector('input[type=text]');\n    if (server_input) window.open(server_input.value + '/pages/registerUser.jsf');\n    else console.warn('Cannot obtain GenePattern Server URL');"
       },
       "collapse": false,
       "color": "rgba(10, 45, 105, 0.80)",
       "description": "Login to the GenePattern server",
       "display_header": false,
       "form": "IPY_MODEL_5e8a538693b84f34a63d91666b2a705a",
       "layout": "IPY_MODEL_9a22dae23a68467a86b5ae03836d563e",
       "name": "Login",
       "origin": "genepattern.authwidget",
       "output": "IPY_MODEL_1f4b46cc12b9438797c048a9e520259e",
       "output_var": "",
       "run_label": "Log into GenePattern"
      }
     },
     "0fb5fcbb45ae4a128d303c48a3a4d030": {
      "model_module": "@jupyter-widgets/controls",
      "model_module_version": "1.5.0",
      "model_name": "DescriptionStyleModel",
      "state": {
       "description_width": ""
      }
     },
     "1258f82f5c214b6880cf94d4480d161c": {
      "model_module": "@jupyter-widgets/base",
      "model_module_version": "1.2.0",
      "model_name": "LayoutModel",
      "state": {
       "grid_template_areas": "\n                    \"label input\"\n                    \". description\"\n                ",
       "grid_template_columns": "25% 75%",
       "grid_template_rows": "auto auto",
       "width": "100%"
      }
     },
     "13d6698c00ff490194ad6d4794066864": {
      "model_module": "@jupyter-widgets/base",
      "model_module_version": "1.2.0",
      "model_name": "LayoutModel",
      "state": {}
     },
     "14688afd9ce44ba6b0b40ea580da384d": {
      "model_module": "@jupyter-widgets/base",
      "model_module_version": "1.2.0",
      "model_name": "LayoutModel",
      "state": {
       "grid_template_areas": "\n                    \"label input\"\n                    \". description\"\n                ",
       "grid_template_columns": "25% 75%",
       "grid_template_rows": "auto auto",
       "width": "100%"
      }
     },
     "172aca3348a44d75afa7ca3bf6ef1872": {
      "model_module": "@jupyter-widgets/controls",
      "model_module_version": "1.5.0",
      "model_name": "LabelModel",
      "state": {
       "description": "Password",
       "layout": "IPY_MODEL_98e33aeb47b44808b965477745615194",
       "style": "IPY_MODEL_0a04d685c5c848a0a23abe3c854292ee",
       "value": "Password*"
      }
     },
     "1e4a23f386f64c0389fd74f9fbdd59b3": {
      "model_module": "@jupyter-widgets/controls",
      "model_module_version": "1.5.0",
      "model_name": "LabelModel",
      "state": {
       "description": "output variable",
       "layout": "IPY_MODEL_eff644498ffd45e291c9b523b41fe733",
       "style": "IPY_MODEL_ecede3cc081a48bcb2dd8b19d0b6279b",
       "value": "output variable"
      }
     },
     "1f4b46cc12b9438797c048a9e520259e": {
      "model_module": "@jupyter-widgets/output",
      "model_module_version": "1.0.0",
      "model_name": "OutputModel",
      "state": {
       "layout": "IPY_MODEL_f5c83e9e44a04eea85422311d6cf778d"
      }
     },
     "37884e126e424a81bddd46e9d70ef468": {
      "model_module": "@jupyter-widgets/controls",
      "model_module_version": "1.5.0",
      "model_name": "GridBoxModel",
      "state": {
       "_dom_classes": [
        "nbtools-input",
        "nbtools-textinput"
       ],
       "children": [
        "IPY_MODEL_1e4a23f386f64c0389fd74f9fbdd59b3",
        "IPY_MODEL_c2432614152a4f44b6833a1bd127bc20",
        "IPY_MODEL_e1447c054ff54c5e90bd70d31d6b85ad"
       ],
       "layout": "IPY_MODEL_9b7ed63251834a81a7344785abd59ac6"
      }
     },
     "37e54526b3f84c48900573f44f08c791": {
      "model_module": "@jupyter-widgets/controls",
      "model_module_version": "1.5.0",
      "model_name": "DescriptionStyleModel",
      "state": {
       "description_width": ""
      }
     },
     "37eb2c322b4e43afb4387981a44ad472": {
      "model_module": "@jupyter-widgets/base",
      "model_module_version": "1.2.0",
      "model_name": "LayoutModel",
      "state": {
       "grid_area": "label",
       "width": "auto"
      }
     },
     "3aba97201fe74fec9c1bf1fcb92989fb": {
      "model_module": "@jupyter-widgets/base",
      "model_module_version": "1.2.0",
      "model_name": "LayoutModel",
      "state": {
       "grid_area": "input",
       "width": "auto"
      }
     },
     "3d45db14327f4fb68f14eab837f4f708": {
      "model_module": "@jupyter-widgets/base",
      "model_module_version": "1.2.0",
      "model_name": "LayoutModel",
      "state": {
       "grid_area": "label",
       "width": "auto"
      }
     },
     "496f1adb135e48ee94f533b518acd024": {
      "model_module": "@jupyter-widgets/base",
      "model_module_version": "1.2.0",
      "model_name": "LayoutModel",
      "state": {}
     },
     "510720bba1b84528a28ce807815a0139": {
      "model_module": "@jupyter-widgets/controls",
      "model_module_version": "1.5.0",
      "model_name": "ButtonStyleModel",
      "state": {}
     },
     "5211ec5de2824ccc81ae3e87ff17b230": {
      "model_module": "@jupyter-widgets/output",
      "model_module_version": "1.0.0",
      "model_name": "OutputModel",
      "state": {
       "layout": "IPY_MODEL_c37dd004c76a45b39baefbb8e1fe021a"
      }
     },
     "5855c68d05924988963a48d633b62d5e": {
      "model_module": "@jupyter-widgets/controls",
      "model_module_version": "1.5.0",
      "model_name": "TextModel",
      "state": {
       "_dom_classes": [
        "nbtools-menu-attached"
       ],
       "layout": "IPY_MODEL_3aba97201fe74fec9c1bf1fcb92989fb",
       "style": "IPY_MODEL_5afdbf07edd4414eac87c7639c804539"
      }
     },
     "5afdbf07edd4414eac87c7639c804539": {
      "model_module": "@jupyter-widgets/controls",
      "model_module_version": "1.5.0",
      "model_name": "DescriptionStyleModel",
      "state": {
       "description_width": ""
      }
     },
     "5e8a538693b84f34a63d91666b2a705a": {
      "model_module": "@jupyter-widgets/controls",
      "model_module_version": "1.5.0",
      "model_name": "VBoxModel",
      "state": {
       "_dom_classes": [
        "widget-interact"
       ],
       "children": [
        "IPY_MODEL_f829b57a88fa45d59e4c72d852b68b6e",
        "IPY_MODEL_8f213d004f7745a29f15aa4bc3d479b3",
        "IPY_MODEL_e13e960cd8e04cf9ab61d88f17e191f9",
        "IPY_MODEL_8f5b81e8ed3b408e90cec36cda73da10",
        "IPY_MODEL_37884e126e424a81bddd46e9d70ef468"
       ],
       "layout": "IPY_MODEL_72698742220a4ecd9b197036e7739929"
      }
     },
     "6162f6262f20446a9954cb29cabe6165": {
      "model_module": "@jupyter-widgets/controls",
      "model_module_version": "1.5.0",
      "model_name": "LabelModel",
      "state": {
       "layout": "IPY_MODEL_0305bad538c643349afd4f6c43a601b3",
       "style": "IPY_MODEL_ef47c5b4196b430ebd77155d02c49f48"
      }
     },
     "6411fa4b15654daca5e1dc3ef8e72ab3": {
      "model_module": "@jupyter-widgets/output",
      "model_module_version": "1.0.0",
      "model_name": "OutputModel",
      "state": {
       "layout": "IPY_MODEL_496f1adb135e48ee94f533b518acd024"
      }
     },
     "64af7cbd8bd3467f893efafabb48ff3d": {
      "model_module": "@jupyter-widgets/controls",
      "model_module_version": "1.5.0",
      "model_name": "DescriptionStyleModel",
      "state": {
       "description_width": ""
      }
     },
     "6c9e0a90f54549b29bc86288e355e807": {
      "model_module": "@jupyter-widgets/base",
      "model_module_version": "1.2.0",
      "model_name": "LayoutModel",
      "state": {
       "grid_template_areas": "\n                    \"label input\"\n                    \". description\"\n                ",
       "grid_template_columns": "25% 75%",
       "grid_template_rows": "auto auto",
       "width": "100%"
      }
     },
     "6d57bb1326d64f8883e85144a5714cb8": {
      "model_module": "@jupyter-widgets/controls",
      "model_module_version": "1.5.0",
      "model_name": "LabelModel",
      "state": {
       "layout": "IPY_MODEL_07df0ec279d1429389f17db636c336f2",
       "style": "IPY_MODEL_0fb5fcbb45ae4a128d303c48a3a4d030"
      }
     },
     "6da0a2881af04a52926381676a05b534": {
      "model_module": "@jupyter-widgets/controls",
      "model_module_version": "1.5.0",
      "model_name": "LabelModel",
      "state": {
       "layout": "IPY_MODEL_c917826a47f64514be32ed8436a96bd9",
       "style": "IPY_MODEL_73e7ecad99fd4ca485e3f9ff1cc3abe1"
      }
     },
     "718c3965df8e4298b0d50bbf9fcff47d": {
      "model_module": "@jupyter-widgets/base",
      "model_module_version": "1.2.0",
      "model_name": "LayoutModel",
      "state": {
       "grid_area": "input",
       "width": "auto"
      }
     },
     "72698742220a4ecd9b197036e7739929": {
      "model_module": "@jupyter-widgets/base",
      "model_module_version": "1.2.0",
      "model_name": "LayoutModel",
      "state": {}
     },
     "73e7ecad99fd4ca485e3f9ff1cc3abe1": {
      "model_module": "@jupyter-widgets/controls",
      "model_module_version": "1.5.0",
      "model_name": "DescriptionStyleModel",
      "state": {
       "description_width": ""
      }
     },
     "743b163a57cc4511badad5be2a982fc0": {
      "model_module": "@jupyter-widgets/controls",
      "model_module_version": "1.5.0",
      "model_name": "DescriptionStyleModel",
      "state": {
       "description_width": ""
      }
     },
     "767a68ff7435459b86e6cf36fc914952": {
      "model_module": "@jupyter-widgets/controls",
      "model_module_version": "1.5.0",
      "model_name": "LabelModel",
      "state": {
       "layout": "IPY_MODEL_9141cba08b424d9a8367126b44a6249f",
       "style": "IPY_MODEL_f56a61b061154e86975648dbbf484c1a"
      }
     },
     "7c0d1d5b016d4fafa0acc1d0d845ab72": {
      "model_module": "@jupyter-widgets/controls",
      "model_module_version": "1.5.0",
      "model_name": "ButtonModel",
      "state": {
       "_dom_classes": [
        "hidden"
       ],
       "description": "Run",
       "layout": "IPY_MODEL_13d6698c00ff490194ad6d4794066864",
       "style": "IPY_MODEL_917ded0ee4da48ac827d4ccf2a33b4af"
      }
     },
     "7c4faf54af664d19bdd270ed4fb79db9": {
      "model_module": "@jupyter-widgets/controls",
      "model_module_version": "1.5.0",
      "model_name": "VBoxModel",
      "state": {
       "_dom_classes": [
        "widget-interact"
       ],
       "children": [
        "IPY_MODEL_7c0d1d5b016d4fafa0acc1d0d845ab72",
        "IPY_MODEL_5211ec5de2824ccc81ae3e87ff17b230"
       ],
       "layout": "IPY_MODEL_8e2bcfa098b543e19cb0aed469924027"
      }
     },
     "7d6947fec6e74aefa4de471651f38a85": {
      "model_module": "@jupyter-widgets/controls",
      "model_module_version": "1.5.0",
      "model_name": "DescriptionStyleModel",
      "state": {
       "description_width": ""
      }
     },
     "7ef798e358a0418ba8b44f982573aea2": {
      "model_module": "@jupyter-widgets/base",
      "model_module_version": "1.2.0",
      "model_name": "LayoutModel",
      "state": {
       "display": "none",
       "grid_template_areas": "\n                    \"label input\"\n                    \". description\"\n                ",
       "grid_template_columns": "25% 75%",
       "grid_template_rows": "auto auto",
       "width": "100%"
      }
     },
     "8a9ecc6718774501b27f177f75350d36": {
      "model_module": "@jupyter-widgets/controls",
      "model_module_version": "1.5.0",
      "model_name": "LabelModel",
      "state": {
       "description": "output variable",
       "layout": "IPY_MODEL_37eb2c322b4e43afb4387981a44ad472",
       "style": "IPY_MODEL_b634b2bdabdd4b589e4663fd4d3174e5",
       "value": "output variable"
      }
     },
     "8e2bcfa098b543e19cb0aed469924027": {
      "model_module": "@jupyter-widgets/base",
      "model_module_version": "1.2.0",
      "model_name": "LayoutModel",
      "state": {}
     },
     "8f213d004f7745a29f15aa4bc3d479b3": {
      "model_module": "@jupyter-widgets/controls",
      "model_module_version": "1.5.0",
      "model_name": "GridBoxModel",
      "state": {
       "_dom_classes": [
        "nbtools-input",
        "nbtools-textinput",
        "required"
       ],
       "children": [
        "IPY_MODEL_cc7d35cbcb4448f9a5548fe4f9763541",
        "IPY_MODEL_beac1f365a1044ffa2275211b552e0ff",
        "IPY_MODEL_767a68ff7435459b86e6cf36fc914952"
       ],
       "layout": "IPY_MODEL_6c9e0a90f54549b29bc86288e355e807"
      }
     },
     "8f5b81e8ed3b408e90cec36cda73da10": {
      "model_module": "@jupyter-widgets/controls",
      "model_module_version": "1.5.0",
      "model_name": "ButtonModel",
      "state": {
       "_dom_classes": [
        "hidden"
       ],
       "description": "Run",
       "layout": "IPY_MODEL_c39740984d994a41b496c5480bda96d0",
       "style": "IPY_MODEL_510720bba1b84528a28ce807815a0139"
      }
     },
     "9141cba08b424d9a8367126b44a6249f": {
      "model_module": "@jupyter-widgets/base",
      "model_module_version": "1.2.0",
      "model_name": "LayoutModel",
      "state": {
       "grid_area": "description",
       "width": "auto"
      }
     },
     "917ded0ee4da48ac827d4ccf2a33b4af": {
      "model_module": "@jupyter-widgets/controls",
      "model_module_version": "1.5.0",
      "model_name": "ButtonStyleModel",
      "state": {}
     },
     "98e33aeb47b44808b965477745615194": {
      "model_module": "@jupyter-widgets/base",
      "model_module_version": "1.2.0",
      "model_name": "LayoutModel",
      "state": {
       "grid_area": "label",
       "width": "auto"
      }
     },
     "9a22dae23a68467a86b5ae03836d563e": {
      "model_module": "@jupyter-widgets/base",
      "model_module_version": "1.2.0",
      "model_name": "LayoutModel",
      "state": {}
     },
     "9b7ed63251834a81a7344785abd59ac6": {
      "model_module": "@jupyter-widgets/base",
      "model_module_version": "1.2.0",
      "model_name": "LayoutModel",
      "state": {
       "display": "none",
       "grid_template_areas": "\n                    \"label input\"\n                    \". description\"\n                ",
       "grid_template_columns": "25% 75%",
       "grid_template_rows": "auto auto",
       "width": "100%"
      }
     },
     "9bc42f4996264157a6a85baa9136fd67": {
      "model_module": "@jupyter-widgets/controls",
      "model_module_version": "1.5.0",
      "model_name": "GridBoxModel",
      "state": {
       "_dom_classes": [
        "nbtools-input",
        "nbtools-textinput"
       ],
       "children": [
        "IPY_MODEL_8a9ecc6718774501b27f177f75350d36",
        "IPY_MODEL_5855c68d05924988963a48d633b62d5e",
        "IPY_MODEL_6162f6262f20446a9954cb29cabe6165"
       ],
       "layout": "IPY_MODEL_7ef798e358a0418ba8b44f982573aea2"
      }
     },
     "9efa305adbf64ad0aac8f425b3e0616b": {
      "model_module": "@jupyter-widgets/controls",
      "model_module_version": "1.5.0",
      "model_name": "LabelModel",
      "state": {
       "description": "GenePattern Server",
       "layout": "IPY_MODEL_bf1469370233457da3f7204e347fafca",
       "style": "IPY_MODEL_743b163a57cc4511badad5be2a982fc0",
       "value": "GenePattern Server*"
      }
     },
     "9fb98d9985f04d46a550ca5c1df43f6d": {
      "model_module": "@jupyter-widgets/base",
      "model_module_version": "1.2.0",
      "model_name": "LayoutModel",
      "state": {
       "grid_area": "input",
       "width": "auto"
      }
     },
     "a0d9b3b8640f40aba9dd0c1f2de9f224": {
      "model_module": "@jupyter-widgets/base",
      "model_module_version": "1.2.0",
      "model_name": "LayoutModel",
      "state": {
       "grid_area": "input",
       "width": "auto"
      }
     },
     "a7b069994a9847fab0234371545e39b6": {
      "model_module": "@jupyter-widgets/controls",
      "model_module_version": "1.5.0",
      "model_name": "DescriptionStyleModel",
      "state": {
       "description_width": ""
      }
     },
     "b634b2bdabdd4b589e4663fd4d3174e5": {
      "model_module": "@jupyter-widgets/controls",
      "model_module_version": "1.5.0",
      "model_name": "DescriptionStyleModel",
      "state": {
       "description_width": ""
      }
     },
     "b66e0b757b884aaaabe4d24a52f43f52": {
      "model_module": "@jupyter-widgets/controls",
      "model_module_version": "1.5.0",
      "model_name": "ComboboxModel",
      "state": {
       "_dom_classes": [
        "nbtools-menu-attached",
        "nbtools-nosendto"
       ],
       "choices": {
        "Broad Internal": "https://gpbroad.broadinstitute.org/gp",
        "GenePattern Cloud": "https://cloud.genepattern.org/gp"
       },
       "ensure_option": false,
       "kinds": [],
       "layout": "IPY_MODEL_a0d9b3b8640f40aba9dd0c1f2de9f224",
       "style": "IPY_MODEL_001bff8d9be44d408f0dc7c7873cc66e",
       "value": "https://cloud.genepattern.org/gp"
      }
     },
     "beac1f365a1044ffa2275211b552e0ff": {
      "model_module": "@jupyter-widgets/controls",
      "model_module_version": "1.5.0",
      "model_name": "TextModel",
      "state": {
       "_dom_classes": [
        "nbtools-menu-attached",
        "nbtools-nosendto"
       ],
       "layout": "IPY_MODEL_e08e2a0a6f624c6a8a2dcc1cb89f4e9f",
       "style": "IPY_MODEL_64af7cbd8bd3467f893efafabb48ff3d"
      }
     },
     "bf1469370233457da3f7204e347fafca": {
      "model_module": "@jupyter-widgets/base",
      "model_module_version": "1.2.0",
      "model_name": "LayoutModel",
      "state": {
       "grid_area": "label",
       "width": "auto"
      }
     },
     "c2432614152a4f44b6833a1bd127bc20": {
      "model_module": "@jupyter-widgets/controls",
      "model_module_version": "1.5.0",
      "model_name": "TextModel",
      "state": {
       "_dom_classes": [
        "nbtools-menu-attached"
       ],
       "layout": "IPY_MODEL_9fb98d9985f04d46a550ca5c1df43f6d",
       "style": "IPY_MODEL_f59637922adb461ca2e128dc498bd400"
      }
     },
     "c37dd004c76a45b39baefbb8e1fe021a": {
      "model_module": "@jupyter-widgets/base",
      "model_module_version": "1.2.0",
      "model_name": "LayoutModel",
      "state": {}
     },
     "c39740984d994a41b496c5480bda96d0": {
      "model_module": "@jupyter-widgets/base",
      "model_module_version": "1.2.0",
      "model_name": "LayoutModel",
      "state": {}
     },
     "c917826a47f64514be32ed8436a96bd9": {
      "model_module": "@jupyter-widgets/base",
      "model_module_version": "1.2.0",
      "model_name": "LayoutModel",
      "state": {
       "grid_area": "description",
       "width": "auto"
      }
     },
     "cc7d35cbcb4448f9a5548fe4f9763541": {
      "model_module": "@jupyter-widgets/controls",
      "model_module_version": "1.5.0",
      "model_name": "LabelModel",
      "state": {
       "description": "Username",
       "layout": "IPY_MODEL_3d45db14327f4fb68f14eab837f4f708",
       "style": "IPY_MODEL_7d6947fec6e74aefa4de471651f38a85",
       "value": "Username*"
      }
     },
     "e08e2a0a6f624c6a8a2dcc1cb89f4e9f": {
      "model_module": "@jupyter-widgets/base",
      "model_module_version": "1.2.0",
      "model_name": "LayoutModel",
      "state": {
       "grid_area": "input",
       "width": "auto"
      }
     },
     "e13e960cd8e04cf9ab61d88f17e191f9": {
      "model_module": "@jupyter-widgets/controls",
      "model_module_version": "1.5.0",
      "model_name": "GridBoxModel",
      "state": {
       "_dom_classes": [
        "nbtools-input",
        "nbtools-passwordinput",
        "required"
       ],
       "children": [
        "IPY_MODEL_172aca3348a44d75afa7ca3bf6ef1872",
        "IPY_MODEL_e644ea0a25604f5c9b708d050e839625",
        "IPY_MODEL_6da0a2881af04a52926381676a05b534"
       ],
       "layout": "IPY_MODEL_14688afd9ce44ba6b0b40ea580da384d"
      }
     },
     "e1447c054ff54c5e90bd70d31d6b85ad": {
      "model_module": "@jupyter-widgets/controls",
      "model_module_version": "1.5.0",
      "model_name": "LabelModel",
      "state": {
       "layout": "IPY_MODEL_0b12eeb8b6164f59a0866b49f1746082",
       "style": "IPY_MODEL_a7b069994a9847fab0234371545e39b6"
      }
     },
     "e644ea0a25604f5c9b708d050e839625": {
      "model_module": "@jupyter-widgets/controls",
      "model_module_version": "1.5.0",
      "model_name": "PasswordModel",
      "state": {
       "layout": "IPY_MODEL_718c3965df8e4298b0d50bbf9fcff47d",
       "style": "IPY_MODEL_37e54526b3f84c48900573f44f08c791"
      }
     },
     "ecede3cc081a48bcb2dd8b19d0b6279b": {
      "model_module": "@jupyter-widgets/controls",
      "model_module_version": "1.5.0",
      "model_name": "DescriptionStyleModel",
      "state": {
       "description_width": ""
      }
     },
     "ef47c5b4196b430ebd77155d02c49f48": {
      "model_module": "@jupyter-widgets/controls",
      "model_module_version": "1.5.0",
      "model_name": "DescriptionStyleModel",
      "state": {
       "description_width": ""
      }
     },
     "eff644498ffd45e291c9b523b41fe733": {
      "model_module": "@jupyter-widgets/base",
      "model_module_version": "1.2.0",
      "model_name": "LayoutModel",
      "state": {
       "grid_area": "label",
       "width": "auto"
      }
     },
     "f56a61b061154e86975648dbbf484c1a": {
      "model_module": "@jupyter-widgets/controls",
      "model_module_version": "1.5.0",
      "model_name": "DescriptionStyleModel",
      "state": {
       "description_width": ""
      }
     },
     "f59637922adb461ca2e128dc498bd400": {
      "model_module": "@jupyter-widgets/controls",
      "model_module_version": "1.5.0",
      "model_name": "DescriptionStyleModel",
      "state": {
       "description_width": ""
      }
     },
     "f5c83e9e44a04eea85422311d6cf778d": {
      "model_module": "@jupyter-widgets/base",
      "model_module_version": "1.2.0",
      "model_name": "LayoutModel",
      "state": {}
     },
     "f829b57a88fa45d59e4c72d852b68b6e": {
      "model_module": "@jupyter-widgets/controls",
      "model_module_version": "1.5.0",
      "model_name": "GridBoxModel",
      "state": {
       "_dom_classes": [
        "nbtools-input",
        "nbtools-comboinput",
        "required"
       ],
       "children": [
        "IPY_MODEL_9efa305adbf64ad0aac8f425b3e0616b",
        "IPY_MODEL_b66e0b757b884aaaabe4d24a52f43f52",
        "IPY_MODEL_6d57bb1326d64f8883e85144a5714cb8"
       ],
       "layout": "IPY_MODEL_1258f82f5c214b6880cf94d4480d161c"
      }
     }
    },
    "version_major": 2,
    "version_minor": 0
   }
  }
 },
 "nbformat": 4,
 "nbformat_minor": 4
}
