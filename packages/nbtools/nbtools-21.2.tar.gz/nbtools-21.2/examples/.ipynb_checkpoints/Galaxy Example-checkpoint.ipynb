{
 "cells": [
  {
   "cell_type": "code",
   "execution_count": 2,
   "metadata": {},
   "outputs": [
    {
     "name": "stdout",
     "output_type": "stream",
     "text": [
      "Requirement already satisfied: bioblend in /Users/tmtabor/.conda/envs/nbtools-lab-prototype/lib/python3.7/site-packages (0.14.0)\n",
      "Requirement already satisfied: pyyaml in /Users/tmtabor/.conda/envs/nbtools-lab-prototype/lib/python3.7/site-packages (from bioblend) (5.3.1)\n",
      "Requirement already satisfied: requests>=2.20.0 in /Users/tmtabor/.conda/envs/nbtools-lab-prototype/lib/python3.7/site-packages (from bioblend) (2.23.0)\n",
      "Requirement already satisfied: requests-toolbelt!=0.9.0,>=0.5.1 in /Users/tmtabor/.conda/envs/nbtools-lab-prototype/lib/python3.7/site-packages (from bioblend) (0.9.1)\n",
      "Requirement already satisfied: boto>=2.9.7 in /Users/tmtabor/.conda/envs/nbtools-lab-prototype/lib/python3.7/site-packages (from bioblend) (2.49.0)\n",
      "Requirement already satisfied: chardet<4,>=3.0.2 in /Users/tmtabor/.conda/envs/nbtools-lab-prototype/lib/python3.7/site-packages (from requests>=2.20.0->bioblend) (3.0.4)\n",
      "Requirement already satisfied: idna<3,>=2.5 in /Users/tmtabor/.conda/envs/nbtools-lab-prototype/lib/python3.7/site-packages (from requests>=2.20.0->bioblend) (2.10)\n",
      "Requirement already satisfied: urllib3!=1.25.0,!=1.25.1,<1.26,>=1.21.1 in /Users/tmtabor/.conda/envs/nbtools-lab-prototype/lib/python3.7/site-packages (from requests>=2.20.0->bioblend) (1.25.10)\n",
      "Requirement already satisfied: certifi>=2017.4.17 in /Users/tmtabor/.conda/envs/nbtools-lab-prototype/lib/python3.7/site-packages (from requests>=2.20.0->bioblend) (2020.6.20)\n"
     ]
    }
   ],
   "source": [
    "!pip install bioblend"
   ]
  },
  {
   "cell_type": "code",
   "execution_count": 13,
   "metadata": {},
   "outputs": [],
   "source": [
    "import bioblend.galaxy\n",
    "from IPython.display import display\n",
    "from nbtools import UIBuilder, ToolManager, NBTool\n",
    "\n",
    "\n",
    "GALAXY_SERVERS = {\n",
    "    'Galaxy Main': 'https://usegalaxy.org',\n",
    "    'Galaxy Local': 'http://localhost',\n",
    "}\n",
    "\n",
    "\n",
    "REGISTER_EVENT = \"\"\"\n",
    "    const target = event.target;\n",
    "    const widget = target.closest('.nbtools') || target;\n",
    "    const server_input = widget.querySelector('input[type=text]');\n",
    "    if (server_input) window.open(server_input.value + '/login#register');\n",
    "    else console.warn('Cannot obtain Galaxy Server URL');\"\"\"\n",
    "\n",
    "\n",
    "class GalaxyAuthWidget(UIBuilder):\n",
    "    \"\"\"A widget for authenticating with a Galaxy server\"\"\"\n",
    "    session = None\n",
    "    default_color = '#2c3143'\n",
    "    default_logo = 'https://usegalaxy.org/static/favicon.png'  # TODO: Find some way to host the logo locally\n",
    "    login_spec = {  # The display values for building the login UI\n",
    "        'name': 'Login',\n",
    "        'collapse': False,\n",
    "        'display_header': False,\n",
    "        'color': default_color,\n",
    "        'logo': default_logo,\n",
    "        'run_label': 'Log into Galaxy',\n",
    "        'buttons': {\n",
    "            'Register an Account': REGISTER_EVENT\n",
    "        },\n",
    "        'parameters': {\n",
    "            'server': {\n",
    "                'name': 'Galaxy Server',\n",
    "                'type': 'choice',\n",
    "                'combo': True,\n",
    "                'sendto': False,\n",
    "                'default': GALAXY_SERVERS['Galaxy Main'],\n",
    "                'choices': GALAXY_SERVERS\n",
    "            },\n",
    "            'email': {\n",
    "                'name': 'Email',\n",
    "                'sendto': False,\n",
    "            },\n",
    "            'password': {\n",
    "                'name': 'Password',\n",
    "                'type': 'password',\n",
    "                'sendto': False,\n",
    "            }\n",
    "        }\n",
    "    }\n",
    "\n",
    "    def __init__(self, session=None, **kwargs):\n",
    "        \"\"\"Initialize the authentication widget\"\"\"\n",
    "\n",
    "        # Check to see if the provided session has valid credentials\n",
    "        if self.validate_credentials(session):\n",
    "            self.session = session\n",
    "            self.register_modules()     # Register the modules with the ToolManager\n",
    "            self.system_message()       # Display the system message\n",
    "\n",
    "            # Display the widget with the system message and no form\n",
    "            UIBuilder.__init__(self, lambda: None, name=self.session.url, display_header=False, display_footer=False,\n",
    "                               color=self.default_color, logo=self.default_logo, collapsed=True, **kwargs)\n",
    "\n",
    "        # If not, prompt the user to login\n",
    "        else:\n",
    "            # Apply the display spec\n",
    "            for key, value in self.login_spec.items(): kwargs[key] = value\n",
    "\n",
    "            # Call the superclass constructor with the spec\n",
    "            UIBuilder.__init__(self, self.login, **kwargs)\n",
    "\n",
    "    def login(self, server, email, password):\n",
    "        \"\"\"Login to the GenePattern server\"\"\"\n",
    "        # Create the instance object\n",
    "        self.session = bioblend.galaxy.GalaxyInstance(server, email=email, password=password, verify=True)\n",
    "\n",
    "        # Validate the provided credentials\n",
    "        if self.validate_credentials(self.session):\n",
    "            self.replace_widget()\n",
    "\n",
    "    def validate_credentials(self, session):\n",
    "        \"\"\"Validate the provided credentials\"\"\"\n",
    "        # TODO: Is there a bioblend call to verify the user's login credentials? If so, add it here\n",
    "        return session is not None\n",
    "\n",
    "    def replace_widget(self):\n",
    "        \"\"\"Replace the unauthenticated widget with the authenticated widget\"\"\"\n",
    "        self.form.children[2].value = ''            # Blank password so it doesn't get serialized\n",
    "        display(GalaxyAuthWidget(self.session))     # Display the authenticated widget\n",
    "        self.close()                                # Close the unauthenticated widget\n",
    "\n",
    "    def register_modules(self):\n",
    "        \"\"\"Get the list available modules and register widgets for them with the tool manager\"\"\"\n",
    "        # TODO: Register galaxy tools with the tool manager - galaxy.tools.get_tools()\n",
    "\n",
    "    def system_message(self):\n",
    "        self.info = \"Successfully logged into Galaxy\"\n",
    "        # TODO: Set a relevant login message. For GenePattern we use the server's system message.\n",
    "\n",
    "\n",
    "class GalaxyAuthenticationTool(NBTool):\n",
    "    \"\"\"Tool wrapper for the Galaxy authentication widget\"\"\"\n",
    "    origin = '+'\n",
    "    id = 'galaxy_authentication'\n",
    "    name = 'Galaxy Login'\n",
    "    description = 'Log into a Galaxy server'\n",
    "    load = lambda x: GalaxyAuthWidget()\n",
    "\n",
    "\n",
    "# Register the authentication widget\n",
    "ToolManager.instance().register(GalaxyAuthenticationTool())"
   ]
  },
  {
   "cell_type": "code",
   "execution_count": 14,
   "metadata": {},
   "outputs": [
    {
     "data": {
      "application/vnd.jupyter.widget-view+json": {
       "model_id": "8fedc27eab7a4283918f64e2ce099598",
       "version_major": 2,
       "version_minor": 0
      },
      "text/plain": [
       "GalaxyAuthWidget(buttons={'Register an Account': \"\\n    const target = event.target;\\n    const widget = targe…"
      ]
     },
     "metadata": {},
     "output_type": "display_data"
    },
    {
     "data": {
      "application/vnd.jupyter.widget-view+json": {
       "model_id": "54ba334e28a2483d92cd11ec313aa83f",
       "version_major": 2,
       "version_minor": 0
      },
      "text/plain": [
       "Output()"
      ]
     },
     "metadata": {},
     "output_type": "display_data"
    }
   ],
   "source": [
    "import nbtools\n",
    "\n",
    "x = nbtools.tool(id='galaxy_authentication', origin='+')\n",
    "x"
   ]
  }
 ],
 "metadata": {
  "kernelspec": {
   "display_name": "Python 3",
   "language": "python",
   "name": "python3"
  },
  "language_info": {
   "codemirror_mode": {
    "name": "ipython",
    "version": 3
   },
   "file_extension": ".py",
   "mimetype": "text/x-python",
   "name": "python",
   "nbconvert_exporter": "python",
   "pygments_lexer": "ipython3",
   "version": "3.7.6"
  },
  "widgets": {
   "application/vnd.jupyter.widget-state+json": {
    "state": {
     "0067b93c8802473d84d52915e63ccb15": {
      "model_module": "@jupyter-widgets/controls",
      "model_module_version": "1.5.0",
      "model_name": "DescriptionStyleModel",
      "state": {
       "description_width": ""
      }
     },
     "0068cac19abf4714ac0ae7dccc75f8ce": {
      "model_module": "@jupyter-widgets/controls",
      "model_module_version": "1.5.0",
      "model_name": "DescriptionStyleModel",
      "state": {
       "description_width": ""
      }
     },
     "0086b218146b4a1b9ed604ac13c9eaf8": {
      "model_module": "@jupyter-widgets/controls",
      "model_module_version": "1.5.0",
      "model_name": "ButtonModel",
      "state": {
       "_dom_classes": [
        "hidden"
       ],
       "description": "Run",
       "layout": "IPY_MODEL_09ae2d54cb8e415c8776dbf36daafed5",
       "style": "IPY_MODEL_336b2858d7c14b8b8b814aa83fbd27a6"
      }
     },
     "010dc7487d8a43838bf05dc1f4417351": {
      "model_module": "@jupyter-widgets/base",
      "model_module_version": "1.2.0",
      "model_name": "LayoutModel",
      "state": {
       "grid_area": "input",
       "width": "auto"
      }
     },
     "015a59c4bef9472e9cfddaf0bca54169": {
      "model_module": "@jupyter-widgets/controls",
      "model_module_version": "1.5.0",
      "model_name": "GridBoxModel",
      "state": {
       "_dom_classes": [
        "nbtools-input",
        "nbtools-textinput"
       ],
       "children": [
        "IPY_MODEL_02f1152070ca4c57a392e773805aa4cd",
        "IPY_MODEL_0c7e38a8e7b04099bb1ea6f5eaabd7b2",
        "IPY_MODEL_6b332e587c6540a8b3401ea557f9f104"
       ],
       "layout": "IPY_MODEL_fed33f1dd52a41d9875de4e30db1e9c6"
      }
     },
     "0254c920e92e488393f0140f1f682260": {
      "model_module": "@jupyter-widgets/base",
      "model_module_version": "1.2.0",
      "model_name": "LayoutModel",
      "state": {
       "grid_area": "label",
       "width": "auto"
      }
     },
     "02f1152070ca4c57a392e773805aa4cd": {
      "model_module": "@jupyter-widgets/controls",
      "model_module_version": "1.5.0",
      "model_name": "LabelModel",
      "state": {
       "description": "output variable",
       "layout": "IPY_MODEL_dfd3021bda8a4040ad3055155b905ede",
       "style": "IPY_MODEL_42d45c655dd645259f2fa4cd5ba34f09",
       "value": "output variable"
      }
     },
     "0333e977b1064ca08454c1a313bc298d": {
      "model_module": "@jupyter-widgets/base",
      "model_module_version": "1.2.0",
      "model_name": "LayoutModel",
      "state": {}
     },
     "0350492b891d4773a41dc95d73ddcdb3": {
      "model_module": "@jupyter-widgets/base",
      "model_module_version": "1.2.0",
      "model_name": "LayoutModel",
      "state": {
       "grid_area": "description",
       "width": "auto"
      }
     },
     "036e7860c56f47ada40e591e8c8fb4e7": {
      "model_module": "@jupyter-widgets/base",
      "model_module_version": "1.2.0",
      "model_name": "LayoutModel",
      "state": {
       "grid_area": "description",
       "width": "auto"
      }
     },
     "03ce5d8ff95445e0a3f66df501706d25": {
      "model_module": "@jupyter-widgets/base",
      "model_module_version": "1.2.0",
      "model_name": "LayoutModel",
      "state": {
       "grid_area": "description",
       "width": "auto"
      }
     },
     "057939fea4e04349b067eae3d6fa969a": {
      "model_module": "@jupyter-widgets/base",
      "model_module_version": "1.2.0",
      "model_name": "LayoutModel",
      "state": {
       "grid_area": "input",
       "width": "auto"
      }
     },
     "06d3650b84bc498cb9ff99bc0ef409b7": {
      "model_module": "@jupyter-widgets/controls",
      "model_module_version": "1.5.0",
      "model_name": "TextModel",
      "state": {
       "_dom_classes": [
        "nbtools-menu-attached"
       ],
       "layout": "IPY_MODEL_9fdb4e0de3584f67a5725a95fd416f7d",
       "style": "IPY_MODEL_8bd56f6327064ab6a949efb76a5aee29"
      }
     },
     "074a4eb3734a4271bd8e5972d813d8c4": {
      "model_module": "@jupyter-widgets/controls",
      "model_module_version": "1.5.0",
      "model_name": "ComboboxModel",
      "state": {
       "_dom_classes": [
        "nbtools-menu-attached",
        "nbtools-nosendto"
       ],
       "choices": {
        "Galaxy Local": "http://localhost",
        "Galaxy Main": "https://usegalaxy.org"
       },
       "ensure_option": false,
       "kinds": [],
       "layout": "IPY_MODEL_53c511d0cd844289b16b3bf2562eab29",
       "style": "IPY_MODEL_1905b0947faf4ff1830061b873f686bd",
       "value": "https://usegalaxy.org"
      }
     },
     "07a68c425b164ce798071251b72825c2": {
      "model_module": "@jupyter-widgets/controls",
      "model_module_version": "1.5.0",
      "model_name": "LabelModel",
      "state": {
       "layout": "IPY_MODEL_894ef9a96b854555b2aa434ba262bf01",
       "style": "IPY_MODEL_b55d2eb3cf8a4018bd7f96b288740b74"
      }
     },
     "07f1ae29226f4a1b8e8c9f93faa17ded": {
      "model_module": "@jupyter-widgets/controls",
      "model_module_version": "1.5.0",
      "model_name": "DescriptionStyleModel",
      "state": {
       "description_width": ""
      }
     },
     "08396f6ef9024fb8bcb44a7baf1fb3b5": {
      "model_module": "@jupyter-widgets/controls",
      "model_module_version": "1.5.0",
      "model_name": "LabelModel",
      "state": {
       "description": "Username",
       "layout": "IPY_MODEL_db3d62c891c746bebb58acac117a4527",
       "style": "IPY_MODEL_2ac9b98d82734dfa84a96a6b148fe83d",
       "value": "Username*"
      }
     },
     "091559c0bc334c2ebf1a8c61ad4aebc8": {
      "model_module": "@jupyter-widgets/base",
      "model_module_version": "1.2.0",
      "model_name": "LayoutModel",
      "state": {
       "grid_template_areas": "\n                    \"label input\"\n                    \". description\"\n                ",
       "grid_template_columns": "25% 75%",
       "grid_template_rows": "auto auto",
       "width": "100%"
      }
     },
     "09800118716544ccb25bb2d46c1389c1": {
      "model_module": "@jupyter-widgets/controls",
      "model_module_version": "1.5.0",
      "model_name": "VBoxModel",
      "state": {
       "_dom_classes": [
        "widget-interact"
       ],
       "children": [
        "IPY_MODEL_95b3e01322624f4899a2696621210bed",
        "IPY_MODEL_0fff0483096f4948b82919d23d87a9db"
       ],
       "layout": "IPY_MODEL_e9d2b23765a8435ba9e3e8af7a1509c6"
      }
     },
     "09ae2d54cb8e415c8776dbf36daafed5": {
      "model_module": "@jupyter-widgets/base",
      "model_module_version": "1.2.0",
      "model_name": "LayoutModel",
      "state": {}
     },
     "09b5c6f7bf074931a2ba532b76c28f7e": {
      "model_module": "@jupyter-widgets/controls",
      "model_module_version": "1.5.0",
      "model_name": "LabelModel",
      "state": {
       "description": "Galaxy Server",
       "layout": "IPY_MODEL_f33b7d137cc34cb3b1ce7042e0e12181",
       "style": "IPY_MODEL_82a5147fcdb24f8689b7b96a192f3ac9",
       "value": "Galaxy Server*"
      }
     },
     "0a2ddbc16597439db35a94c60c326442": {
      "model_module": "@jupyter-widgets/base",
      "model_module_version": "1.2.0",
      "model_name": "LayoutModel",
      "state": {
       "grid_area": "input",
       "width": "auto"
      }
     },
     "0b227439a7d546de87e45b833bf188e1": {
      "model_module": "@jupyter-widgets/base",
      "model_module_version": "1.2.0",
      "model_name": "LayoutModel",
      "state": {
       "grid_area": "input",
       "width": "auto"
      }
     },
     "0b62adfb150d41f1bab6b09d74874c5b": {
      "model_module": "@jupyter-widgets/controls",
      "model_module_version": "1.5.0",
      "model_name": "DescriptionStyleModel",
      "state": {
       "description_width": ""
      }
     },
     "0b71cb943ba24daca14f952775ee05c5": {
      "model_module": "@jupyter-widgets/controls",
      "model_module_version": "1.5.0",
      "model_name": "LabelModel",
      "state": {
       "layout": "IPY_MODEL_c9aec54ff22241fca03d8bf669899c89",
       "style": "IPY_MODEL_4303fff3272b4a9a973707785b462049"
      }
     },
     "0bef7845f92a4ba1afc93d4bc4fb8ce9": {
      "model_module": "@jupyter-widgets/base",
      "model_module_version": "1.2.0",
      "model_name": "LayoutModel",
      "state": {
       "grid_area": "input",
       "width": "auto"
      }
     },
     "0c2c7eb89f3f44b09587fd6ca74973d7": {
      "model_module": "@jupyter-widgets/base",
      "model_module_version": "1.2.0",
      "model_name": "LayoutModel",
      "state": {
       "grid_area": "label",
       "width": "auto"
      }
     },
     "0c6da5362192482a91be516b5ec54fbb": {
      "model_module": "@jupyter-widgets/controls",
      "model_module_version": "1.5.0",
      "model_name": "LabelModel",
      "state": {
       "description": "output variable",
       "layout": "IPY_MODEL_c880328e8aa44f14b3bf45d88a236ed0",
       "style": "IPY_MODEL_2354e09325794506be49d522b7e87658",
       "value": "output variable"
      }
     },
     "0c7e38a8e7b04099bb1ea6f5eaabd7b2": {
      "model_module": "@jupyter-widgets/controls",
      "model_module_version": "1.5.0",
      "model_name": "TextModel",
      "state": {
       "_dom_classes": [
        "nbtools-menu-attached"
       ],
       "layout": "IPY_MODEL_94ce0fb6520b44dc9fd1aabbbe4fed8b",
       "style": "IPY_MODEL_a7e4f24257974ee3889151ffe8721824"
      }
     },
     "0cf287abfade485c8b3c810aab98889e": {
      "model_module": "@jupyter-widgets/controls",
      "model_module_version": "1.5.0",
      "model_name": "DescriptionStyleModel",
      "state": {
       "description_width": ""
      }
     },
     "0d15de9ff4b140468e4712c9c546a28e": {
      "model_module": "@jupyter-widgets/controls",
      "model_module_version": "1.5.0",
      "model_name": "LabelModel",
      "state": {
       "description": "Password",
       "layout": "IPY_MODEL_a1eae48324ea448ca2d7f64a36bc7f64",
       "style": "IPY_MODEL_eb1616e2385a450fb159603892a3e1ce",
       "value": "Password*"
      }
     },
     "0d8bf94ef1f54dab97bff80fbdbc1653": {
      "model_module": "@jupyter-widgets/controls",
      "model_module_version": "1.5.0",
      "model_name": "DescriptionStyleModel",
      "state": {
       "description_width": ""
      }
     },
     "0ec786b65fd945db8e385aab658c3f0f": {
      "model_module": "@jupyter-widgets/base",
      "model_module_version": "1.2.0",
      "model_name": "LayoutModel",
      "state": {
       "grid_area": "label",
       "width": "auto"
      }
     },
     "0fdbdb7e335e48aa9addd02b1b1b3b5a": {
      "model_module": "@jupyter-widgets/controls",
      "model_module_version": "1.5.0",
      "model_name": "TextModel",
      "state": {
       "_dom_classes": [
        "nbtools-menu-attached"
       ],
       "layout": "IPY_MODEL_ec87199a6ee34837b551a5847d94b0d2",
       "style": "IPY_MODEL_9aca56380e1d4137bd85b2f503918753"
      }
     },
     "0fff0483096f4948b82919d23d87a9db": {
      "model_module": "@jupyter-widgets/output",
      "model_module_version": "1.0.0",
      "model_name": "OutputModel",
      "state": {
       "layout": "IPY_MODEL_0333e977b1064ca08454c1a313bc298d"
      }
     },
     "10076f5415744c168da24713a603e1b7": {
      "model_module": "@jupyter-widgets/controls",
      "model_module_version": "1.5.0",
      "model_name": "LabelModel",
      "state": {
       "layout": "IPY_MODEL_a160e98f96ed460189fdd4a26c773112",
       "style": "IPY_MODEL_f7f2b3bac2de44209856082578f7e55c"
      }
     },
     "11aef03ec0ef4fc7a411bd4077eb1ec1": {
      "model_module": "@jupyter-widgets/controls",
      "model_module_version": "1.5.0",
      "model_name": "LabelModel",
      "state": {
       "description": "Password",
       "layout": "IPY_MODEL_61b2b71c6c62428496b9ca7cfd62e53d",
       "style": "IPY_MODEL_2c5e43db532c4f248a3db794636ced47",
       "value": "Password*"
      }
     },
     "134f2e62b4104b97b146ee3c2d2a1e30": {
      "model_module": "@genepattern/nbtools",
      "model_module_version": "^0.2.0",
      "model_name": "UIBuilderModel",
      "state": {
       "_dom_classes": [],
       "_model_module_version": "^0.2.0",
       "_parameters": [
        {
         "choices": {
          "Broad Internal": "https://gpbroad.broadinstitute.org/gp",
          "GenePattern Cloud": "https://cloud.genepattern.org/gp",
          "Indiana University": "https://gp.indiana.edu/gp"
         },
         "combo": true,
         "default": "https://cloud.genepattern.org/gp",
         "description": "",
         "events": null,
         "hide": false,
         "id": null,
         "kinds": null,
         "label": "GenePattern Server",
         "name": "server",
         "optional": false,
         "sendto": false,
         "type": "choice",
         "value": ""
        },
        {
         "choices": {},
         "default": "",
         "description": "",
         "events": null,
         "hide": false,
         "id": null,
         "kinds": null,
         "label": "Username",
         "name": "username",
         "optional": false,
         "sendto": false,
         "type": "text",
         "value": ""
        },
        {
         "choices": {},
         "default": "",
         "description": "",
         "events": null,
         "hide": false,
         "id": null,
         "kinds": null,
         "label": "Password",
         "name": "password",
         "optional": false,
         "sendto": false,
         "type": "password",
         "value": ""
        },
        {
         "choices": {},
         "default": "",
         "description": "",
         "events": null,
         "hide": true,
         "id": null,
         "kinds": null,
         "label": "output variable",
         "name": "output_var",
         "optional": true,
         "type": "text",
         "value": ""
        }
       ],
       "_view_count": null,
       "_view_module_version": "^0.2.0",
       "buttons": {
        "Register an Account": "\n    const target = event.target;\n    const widget = target.closest('.nbtools') || target;\n    const server_input = widget.querySelector('input[type=text]');\n    if (server_input) window.open(server_input.value + '/pages/registerUser.jsf');\n    else console.warn('Cannot obtain GenePattern Server URL');"
       },
       "collapse": false,
       "color": "rgba(10, 45, 105, 0.80)",
       "description": "Login to the GenePattern server",
       "display_header": false,
       "form": "IPY_MODEL_aebfbc15942940498242b6b80ef5d1a1",
       "layout": "IPY_MODEL_8f14ddb40574480c9a63fe80f09155d1",
       "name": "Login",
       "origin": "genepattern.authwidget",
       "output": "IPY_MODEL_64668fa2f3404232be94f8a3e904e645",
       "output_var": "",
       "run_label": "Log into GenePattern"
      }
     },
     "13645f9b4e1444b9a655fb833162fb0c": {
      "model_module": "@jupyter-widgets/base",
      "model_module_version": "1.2.0",
      "model_name": "LayoutModel",
      "state": {}
     },
     "155d9250d1fc4f72bf3fc536a929a757": {
      "model_module": "@jupyter-widgets/controls",
      "model_module_version": "1.5.0",
      "model_name": "LabelModel",
      "state": {
       "layout": "IPY_MODEL_036e7860c56f47ada40e591e8c8fb4e7",
       "style": "IPY_MODEL_9865e6e60d9e4ee78d23f2087621e200"
      }
     },
     "1580e297bebf4a5c8b6261be613d4e74": {
      "model_module": "@jupyter-widgets/controls",
      "model_module_version": "1.5.0",
      "model_name": "LabelModel",
      "state": {
       "description": "output variable",
       "layout": "IPY_MODEL_50ebb5860228416d9910098a6301007d",
       "style": "IPY_MODEL_0cf287abfade485c8b3c810aab98889e",
       "value": "output variable"
      }
     },
     "15e01d6523854ac6a55913edb2c06954": {
      "model_module": "@jupyter-widgets/base",
      "model_module_version": "1.2.0",
      "model_name": "LayoutModel",
      "state": {}
     },
     "164d76b4768e43e0b32c69ebf0398f0f": {
      "model_module": "@jupyter-widgets/controls",
      "model_module_version": "1.5.0",
      "model_name": "DescriptionStyleModel",
      "state": {
       "description_width": ""
      }
     },
     "16bcf54013584527953288ccb44221cc": {
      "model_module": "@jupyter-widgets/base",
      "model_module_version": "1.2.0",
      "model_name": "LayoutModel",
      "state": {}
     },
     "174c4af6d70948b886ba2a8b80c21012": {
      "model_module": "@jupyter-widgets/controls",
      "model_module_version": "1.5.0",
      "model_name": "GridBoxModel",
      "state": {
       "_dom_classes": [
        "nbtools-input",
        "nbtools-textinput"
       ],
       "children": [
        "IPY_MODEL_dbe99275f70847a0805c83d609d963cd",
        "IPY_MODEL_b3bc9ec3a5c24050a96ebe950948e3dc",
        "IPY_MODEL_a5d573955f4846669bc75198d36081c5"
       ],
       "layout": "IPY_MODEL_67e4560340674da6b4d666226d47f059"
      }
     },
     "18ed90a484bd4953ad1753417e756886": {
      "model_module": "@jupyter-widgets/controls",
      "model_module_version": "1.5.0",
      "model_name": "ButtonModel",
      "state": {
       "_dom_classes": [
        "hidden"
       ],
       "description": "Run",
       "layout": "IPY_MODEL_9f8ceb6c702c47d5b890202325576bdc",
       "style": "IPY_MODEL_630d12a6eba842e0ba9b7600b889926f"
      }
     },
     "1905b0947faf4ff1830061b873f686bd": {
      "model_module": "@jupyter-widgets/controls",
      "model_module_version": "1.5.0",
      "model_name": "DescriptionStyleModel",
      "state": {
       "description_width": ""
      }
     },
     "190ece92877a4514a49a2d6f8c9712ad": {
      "model_module": "@jupyter-widgets/controls",
      "model_module_version": "1.5.0",
      "model_name": "GridBoxModel",
      "state": {
       "_dom_classes": [
        "nbtools-input",
        "nbtools-passwordinput",
        "required"
       ],
       "children": [
        "IPY_MODEL_0d15de9ff4b140468e4712c9c546a28e",
        "IPY_MODEL_6689504351b849288f5d38957e4a604c",
        "IPY_MODEL_5433f8ac046a40179e59425c8ccce0d3"
       ],
       "layout": "IPY_MODEL_81f84ea278fb43bd96e584935acc2cd9"
      }
     },
     "190f7dce29654f37a35ea19cac951fc5": {
      "model_module": "@jupyter-widgets/base",
      "model_module_version": "1.2.0",
      "model_name": "LayoutModel",
      "state": {
       "grid_area": "description",
       "width": "auto"
      }
     },
     "19e04c3abbfd4304ba2dfe45bf31b532": {
      "model_module": "@jupyter-widgets/controls",
      "model_module_version": "1.5.0",
      "model_name": "DescriptionStyleModel",
      "state": {
       "description_width": ""
      }
     },
     "1b3b39ee13e54e2ca47896ff28719188": {
      "model_module": "@jupyter-widgets/base",
      "model_module_version": "1.2.0",
      "model_name": "LayoutModel",
      "state": {
       "grid_template_areas": "\n                    \"label input\"\n                    \". description\"\n                ",
       "grid_template_columns": "25% 75%",
       "grid_template_rows": "auto auto",
       "width": "100%"
      }
     },
     "1b771d70a43d4d95aa319e0b5087acb6": {
      "model_module": "@jupyter-widgets/controls",
      "model_module_version": "1.5.0",
      "model_name": "LabelModel",
      "state": {
       "description": "Password",
       "layout": "IPY_MODEL_7c69facba374489d86ed5079b57216e5",
       "style": "IPY_MODEL_fbfb4d224ccb4785818c5ae48647048d",
       "value": "Password*"
      }
     },
     "1c6aff079abd46599b3052f79fe2a3c5": {
      "model_module": "@jupyter-widgets/controls",
      "model_module_version": "1.5.0",
      "model_name": "ButtonStyleModel",
      "state": {}
     },
     "1e8e8a96d3894b4bbf0ac44ecf657576": {
      "model_module": "@jupyter-widgets/base",
      "model_module_version": "1.2.0",
      "model_name": "LayoutModel",
      "state": {
       "grid_template_areas": "\n                    \"label input\"\n                    \". description\"\n                ",
       "grid_template_columns": "25% 75%",
       "grid_template_rows": "auto auto",
       "width": "100%"
      }
     },
     "1efd129de34948b3bf1ed67054aedb79": {
      "model_module": "@genepattern/nbtools",
      "model_module_version": "^0.2.0",
      "model_name": "UIBuilderModel",
      "state": {
       "_dom_classes": [],
       "_model_module_version": "^0.2.0",
       "_parameters": [
        {
         "choices": {
          "Broad Internal": "https://gpbroad.broadinstitute.org/gp",
          "GenePattern Cloud": "https://cloud.genepattern.org/gp",
          "Indiana University": "https://gp.indiana.edu/gp"
         },
         "combo": true,
         "default": "https://cloud.genepattern.org/gp",
         "description": "",
         "events": null,
         "hide": false,
         "id": null,
         "kinds": null,
         "label": "GenePattern Server",
         "name": "server",
         "optional": false,
         "sendto": false,
         "type": "choice",
         "value": ""
        },
        {
         "choices": {},
         "default": "",
         "description": "",
         "events": null,
         "hide": false,
         "id": null,
         "kinds": null,
         "label": "Username",
         "name": "username",
         "optional": false,
         "sendto": false,
         "type": "text",
         "value": ""
        },
        {
         "choices": {},
         "default": "",
         "description": "",
         "events": null,
         "hide": false,
         "id": null,
         "kinds": null,
         "label": "Password",
         "name": "password",
         "optional": false,
         "sendto": false,
         "type": "password",
         "value": ""
        },
        {
         "choices": {},
         "default": "",
         "description": "",
         "events": null,
         "hide": true,
         "id": null,
         "kinds": null,
         "label": "output variable",
         "name": "output_var",
         "optional": true,
         "type": "text",
         "value": ""
        }
       ],
       "_view_count": null,
       "_view_module_version": "^0.2.0",
       "buttons": {
        "Register an Account": "\n    const target = event.target;\n    const widget = target.closest('.nbtools') || target;\n    const server_input = widget.querySelector('input[type=text]');\n    if (server_input) window.open(server_input.value + '/pages/registerUser.jsf');\n    else console.warn('Cannot obtain GenePattern Server URL');"
       },
       "collapse": false,
       "color": "rgba(10, 45, 105, 0.80)",
       "description": "Login to the GenePattern server",
       "display_header": false,
       "form": "IPY_MODEL_4f87e6116e0a4b66aba963f31f41615c",
       "layout": "IPY_MODEL_7d416cbcecb34dc19fb52217c502d8ab",
       "logo": "https://www.fedex.com/images/legacy/logo.png",
       "name": "Login",
       "origin": "Notebook",
       "output": "IPY_MODEL_97c691d70cda42529e3044ffde6caac4",
       "output_var": "",
       "run_label": "Log into GenePattern"
      }
     },
     "1f05274169354d459ca1363a28416a86": {
      "model_module": "@jupyter-widgets/base",
      "model_module_version": "1.2.0",
      "model_name": "LayoutModel",
      "state": {}
     },
     "1f2b75f33bf1468b81f60a8d6b886ce2": {
      "model_module": "@jupyter-widgets/controls",
      "model_module_version": "1.5.0",
      "model_name": "DescriptionStyleModel",
      "state": {
       "description_width": ""
      }
     },
     "1ff210f519344efd9cc3ed373adc6435": {
      "model_module": "@jupyter-widgets/base",
      "model_module_version": "1.2.0",
      "model_name": "LayoutModel",
      "state": {}
     },
     "208f1cdafe42489f811394ac912e8493": {
      "model_module": "@jupyter-widgets/controls",
      "model_module_version": "1.5.0",
      "model_name": "VBoxModel",
      "state": {
       "_dom_classes": [
        "widget-interact"
       ],
       "children": [
        "IPY_MODEL_ae81fa498eee4109a6128dfadf8d4af9",
        "IPY_MODEL_edb76a47aba3438d8351f887ab274d75",
        "IPY_MODEL_f9ef5fbf0c8841a19a80f32ca09e62dc",
        "IPY_MODEL_9e4239f952b647d180c5dc7f81bbb394",
        "IPY_MODEL_49bf16042cfc4e6ebae6b99bb555664c"
       ],
       "layout": "IPY_MODEL_9606b878898f4056856fa2518a3e5acb"
      }
     },
     "232ca3bfa02847918417c5b9b9de84f5": {
      "model_module": "@jupyter-widgets/base",
      "model_module_version": "1.2.0",
      "model_name": "LayoutModel",
      "state": {
       "grid_template_areas": "\n                    \"label input\"\n                    \". description\"\n                ",
       "grid_template_columns": "25% 75%",
       "grid_template_rows": "auto auto",
       "width": "100%"
      }
     },
     "2354e09325794506be49d522b7e87658": {
      "model_module": "@jupyter-widgets/controls",
      "model_module_version": "1.5.0",
      "model_name": "DescriptionStyleModel",
      "state": {
       "description_width": ""
      }
     },
     "23dca0454fd049bd86b9e2bf12f47ddd": {
      "model_module": "@jupyter-widgets/controls",
      "model_module_version": "1.5.0",
      "model_name": "DescriptionStyleModel",
      "state": {
       "description_width": ""
      }
     },
     "23fcd5a417e14d3f9c359d32b7e83a68": {
      "model_module": "@jupyter-widgets/base",
      "model_module_version": "1.2.0",
      "model_name": "LayoutModel",
      "state": {
       "grid_area": "input",
       "width": "auto"
      }
     },
     "24576a1632cc4e7eb4f1fde92a875050": {
      "model_module": "@jupyter-widgets/base",
      "model_module_version": "1.2.0",
      "model_name": "LayoutModel",
      "state": {
       "grid_area": "description",
       "width": "auto"
      }
     },
     "248784f3611d416ea0a80c7cb643c64f": {
      "model_module": "@jupyter-widgets/controls",
      "model_module_version": "1.5.0",
      "model_name": "DescriptionStyleModel",
      "state": {
       "description_width": ""
      }
     },
     "250fcd895e9148329f011f1114ed2e0e": {
      "model_module": "@jupyter-widgets/base",
      "model_module_version": "1.2.0",
      "model_name": "LayoutModel",
      "state": {}
     },
     "257a9c6289524c398d02e1c5d6baea87": {
      "model_module": "@jupyter-widgets/base",
      "model_module_version": "1.2.0",
      "model_name": "LayoutModel",
      "state": {
       "grid_area": "label",
       "width": "auto"
      }
     },
     "2611de801c0844ad86d525d5e9828f65": {
      "model_module": "@jupyter-widgets/controls",
      "model_module_version": "1.5.0",
      "model_name": "LabelModel",
      "state": {
       "layout": "IPY_MODEL_24576a1632cc4e7eb4f1fde92a875050",
       "style": "IPY_MODEL_2d0d81c0991848a7b7fe48383b8796d7"
      }
     },
     "261c19aaba8d499d9c0acb35f3ccc763": {
      "model_module": "@jupyter-widgets/controls",
      "model_module_version": "1.5.0",
      "model_name": "DescriptionStyleModel",
      "state": {
       "description_width": ""
      }
     },
     "265e13845d754c698fbfbe8f3889c28f": {
      "model_module": "@jupyter-widgets/controls",
      "model_module_version": "1.5.0",
      "model_name": "DescriptionStyleModel",
      "state": {
       "description_width": ""
      }
     },
     "272d89f50f784ad58923cd1b14efee39": {
      "model_module": "@jupyter-widgets/base",
      "model_module_version": "1.2.0",
      "model_name": "LayoutModel",
      "state": {
       "display": "none",
       "grid_template_areas": "\n                    \"label input\"\n                    \". description\"\n                ",
       "grid_template_columns": "25% 75%",
       "grid_template_rows": "auto auto",
       "width": "100%"
      }
     },
     "27f3f939f26045f890997305f0802c95": {
      "model_module": "@jupyter-widgets/base",
      "model_module_version": "1.2.0",
      "model_name": "LayoutModel",
      "state": {
       "grid_area": "label",
       "width": "auto"
      }
     },
     "28ac95ad5f284781a394afee5c7153ad": {
      "model_module": "@jupyter-widgets/controls",
      "model_module_version": "1.5.0",
      "model_name": "DescriptionStyleModel",
      "state": {
       "description_width": ""
      }
     },
     "28da6a277c364060b6f1226ebee3c5e1": {
      "model_module": "@jupyter-widgets/base",
      "model_module_version": "1.2.0",
      "model_name": "LayoutModel",
      "state": {
       "grid_area": "description",
       "width": "auto"
      }
     },
     "2903796618d64ac580b443257b17e09c": {
      "model_module": "@jupyter-widgets/base",
      "model_module_version": "1.2.0",
      "model_name": "LayoutModel",
      "state": {
       "grid_area": "description",
       "width": "auto"
      }
     },
     "2940613d58fb44d9883beee7f63013a0": {
      "model_module": "@jupyter-widgets/controls",
      "model_module_version": "1.5.0",
      "model_name": "TextModel",
      "state": {
       "_dom_classes": [
        "nbtools-menu-attached"
       ],
       "layout": "IPY_MODEL_0a2ddbc16597439db35a94c60c326442",
       "style": "IPY_MODEL_a1061f22a2804466aa1b835fe9a2b9aa"
      }
     },
     "294c5cbcbb74442db84c4ba61953e6ad": {
      "model_module": "@jupyter-widgets/base",
      "model_module_version": "1.2.0",
      "model_name": "LayoutModel",
      "state": {
       "grid_area": "input",
       "width": "auto"
      }
     },
     "2a1c7cf55ef347b5b7a045d231454698": {
      "model_module": "@jupyter-widgets/controls",
      "model_module_version": "1.5.0",
      "model_name": "ButtonStyleModel",
      "state": {}
     },
     "2ab5cb11c79a4084b0de8fbe9fba32f2": {
      "model_module": "@jupyter-widgets/controls",
      "model_module_version": "1.5.0",
      "model_name": "LabelModel",
      "state": {
       "description": "output variable",
       "layout": "IPY_MODEL_5b4a5c4ace4e4fe09366f1f7d469f9ca",
       "style": "IPY_MODEL_aa827e54c6b44beba102be26d5be4f43",
       "value": "output variable"
      }
     },
     "2ac9b98d82734dfa84a96a6b148fe83d": {
      "model_module": "@jupyter-widgets/controls",
      "model_module_version": "1.5.0",
      "model_name": "DescriptionStyleModel",
      "state": {
       "description_width": ""
      }
     },
     "2c5e43db532c4f248a3db794636ced47": {
      "model_module": "@jupyter-widgets/controls",
      "model_module_version": "1.5.0",
      "model_name": "DescriptionStyleModel",
      "state": {
       "description_width": ""
      }
     },
     "2c9a76efa4d340afa527a92e229691bc": {
      "model_module": "@jupyter-widgets/controls",
      "model_module_version": "1.5.0",
      "model_name": "ButtonModel",
      "state": {
       "_dom_classes": [
        "hidden"
       ],
       "description": "Run",
       "layout": "IPY_MODEL_aebd1e7af29c449eb9530f0279e4c942",
       "style": "IPY_MODEL_8d359e6b4eea457f915ef908fa2d18af"
      }
     },
     "2d0d81c0991848a7b7fe48383b8796d7": {
      "model_module": "@jupyter-widgets/controls",
      "model_module_version": "1.5.0",
      "model_name": "DescriptionStyleModel",
      "state": {
       "description_width": ""
      }
     },
     "2dbf59c81cf34a63a5ab544a3903dc6a": {
      "model_module": "@jupyter-widgets/controls",
      "model_module_version": "1.5.0",
      "model_name": "LabelModel",
      "state": {
       "layout": "IPY_MODEL_e56d6a16d777449eae69cbced16c52e0",
       "style": "IPY_MODEL_66690fb4204e457d9f9e7104d6a13879"
      }
     },
     "2e24909af46649ba9854d0bce14eec79": {
      "model_module": "@jupyter-widgets/controls",
      "model_module_version": "1.5.0",
      "model_name": "VBoxModel",
      "state": {
       "_dom_classes": [
        "widget-interact"
       ],
       "children": [
        "IPY_MODEL_18ed90a484bd4953ad1753417e756886",
        "IPY_MODEL_3850f000a29f4be28f3082757907f9dd"
       ],
       "layout": "IPY_MODEL_5a7ed82a76484164b4c76fada1b9990a"
      }
     },
     "2f024250ca9d4608b9e0c1e1e140fa6d": {
      "model_module": "@jupyter-widgets/controls",
      "model_module_version": "1.5.0",
      "model_name": "TextModel",
      "state": {
       "_dom_classes": [
        "nbtools-menu-attached"
       ],
       "layout": "IPY_MODEL_0bef7845f92a4ba1afc93d4bc4fb8ce9",
       "style": "IPY_MODEL_34da3a3543f54f00b97f8eb6e3ee3660"
      }
     },
     "2f638d0aef1f4d3fab9038e2162596a0": {
      "model_module": "@jupyter-widgets/base",
      "model_module_version": "1.2.0",
      "model_name": "LayoutModel",
      "state": {}
     },
     "2f79861007f247dab3089855bcb651e1": {
      "model_module": "@jupyter-widgets/controls",
      "model_module_version": "1.5.0",
      "model_name": "LabelModel",
      "state": {
       "description": "output variable",
       "layout": "IPY_MODEL_9cc6877cf601485cbd3e2ba15ca26252",
       "style": "IPY_MODEL_a6cebc318bce4ce6a9e296792cf8c116",
       "value": "output variable"
      }
     },
     "306e7a578acd41c6aac0afc23ebbfb6b": {
      "model_module": "@jupyter-widgets/base",
      "model_module_version": "1.2.0",
      "model_name": "LayoutModel",
      "state": {
       "grid_area": "input",
       "width": "auto"
      }
     },
     "30b6dde17c3b4772816417212f846498": {
      "model_module": "@jupyter-widgets/controls",
      "model_module_version": "1.5.0",
      "model_name": "LabelModel",
      "state": {
       "layout": "IPY_MODEL_e59de3be51f14b8db3fc38fb590192f8",
       "style": "IPY_MODEL_dec2d2d7996c4b62b5ea50dedc2e44e3"
      }
     },
     "31428926352c4932a6df91ddeb59443f": {
      "model_module": "@jupyter-widgets/base",
      "model_module_version": "1.2.0",
      "model_name": "LayoutModel",
      "state": {
       "grid_area": "input",
       "width": "auto"
      }
     },
     "31bec08f8b224105bc5234da2f9515ff": {
      "model_module": "@jupyter-widgets/controls",
      "model_module_version": "1.5.0",
      "model_name": "DescriptionStyleModel",
      "state": {
       "description_width": ""
      }
     },
     "32dd79208877466f9ff2ea4b18bc923d": {
      "model_module": "@jupyter-widgets/base",
      "model_module_version": "1.2.0",
      "model_name": "LayoutModel",
      "state": {
       "grid_template_areas": "\n                    \"label input\"\n                    \". description\"\n                ",
       "grid_template_columns": "25% 75%",
       "grid_template_rows": "auto auto",
       "width": "100%"
      }
     },
     "336b2858d7c14b8b8b814aa83fbd27a6": {
      "model_module": "@jupyter-widgets/controls",
      "model_module_version": "1.5.0",
      "model_name": "ButtonStyleModel",
      "state": {}
     },
     "346d5811d31845a79ccb2c882e754873": {
      "model_module": "@jupyter-widgets/controls",
      "model_module_version": "1.5.0",
      "model_name": "LabelModel",
      "state": {
       "description": "output variable",
       "layout": "IPY_MODEL_ddfecbdb53664d3fa47a0e8ef9453334",
       "style": "IPY_MODEL_891d51fffb6d4fb7933c04b2d1d40d75",
       "value": "output variable"
      }
     },
     "34da3a3543f54f00b97f8eb6e3ee3660": {
      "model_module": "@jupyter-widgets/controls",
      "model_module_version": "1.5.0",
      "model_name": "DescriptionStyleModel",
      "state": {
       "description_width": ""
      }
     },
     "34e34ddc36474746a67890b661fcd5c6": {
      "model_module": "@jupyter-widgets/base",
      "model_module_version": "1.2.0",
      "model_name": "LayoutModel",
      "state": {
       "grid_area": "description",
       "width": "auto"
      }
     },
     "3572adf213ec4dc49689ce1e539ef444": {
      "model_module": "@jupyter-widgets/base",
      "model_module_version": "1.2.0",
      "model_name": "LayoutModel",
      "state": {
       "grid_area": "input",
       "width": "auto"
      }
     },
     "3671558e2182470cbea5e85aea454665": {
      "model_module": "@jupyter-widgets/base",
      "model_module_version": "1.2.0",
      "model_name": "LayoutModel",
      "state": {}
     },
     "36d507c424ec4885a47324b9ce961ce8": {
      "model_module": "@jupyter-widgets/base",
      "model_module_version": "1.2.0",
      "model_name": "LayoutModel",
      "state": {}
     },
     "37a21c21d2dc4c6095f3515451066bc3": {
      "model_module": "@jupyter-widgets/controls",
      "model_module_version": "1.5.0",
      "model_name": "LabelModel",
      "state": {
       "description": "Username",
       "layout": "IPY_MODEL_ff3bb9ed68264472abc83b77a88f70e6",
       "style": "IPY_MODEL_3b4be8c2add1400ab84b9e3afb4d1901",
       "value": "Username*"
      }
     },
     "3850f000a29f4be28f3082757907f9dd": {
      "model_module": "@jupyter-widgets/output",
      "model_module_version": "1.0.0",
      "model_name": "OutputModel",
      "state": {
       "layout": "IPY_MODEL_4ecb165a7b404fe898d9d48d3f22fb85"
      }
     },
     "38a3798ecd64441a95a2a664017d4be7": {
      "model_module": "@jupyter-widgets/base",
      "model_module_version": "1.2.0",
      "model_name": "LayoutModel",
      "state": {}
     },
     "3a66c9d854b4491c8d05103804c7040b": {
      "model_module": "@jupyter-widgets/controls",
      "model_module_version": "1.5.0",
      "model_name": "DescriptionStyleModel",
      "state": {
       "description_width": ""
      }
     },
     "3ac9680e34b9404996bf9e2c8d0a4d2b": {
      "model_module": "@jupyter-widgets/base",
      "model_module_version": "1.2.0",
      "model_name": "LayoutModel",
      "state": {
       "grid_area": "description",
       "width": "auto"
      }
     },
     "3b3ff466dd2b47629520e4bbb215cead": {
      "model_module": "@jupyter-widgets/controls",
      "model_module_version": "1.5.0",
      "model_name": "DescriptionStyleModel",
      "state": {
       "description_width": ""
      }
     },
     "3b4be8c2add1400ab84b9e3afb4d1901": {
      "model_module": "@jupyter-widgets/controls",
      "model_module_version": "1.5.0",
      "model_name": "DescriptionStyleModel",
      "state": {
       "description_width": ""
      }
     },
     "3bca3173a1184cc1b88bcee14f1c2a6c": {
      "model_module": "@jupyter-widgets/controls",
      "model_module_version": "1.5.0",
      "model_name": "GridBoxModel",
      "state": {
       "_dom_classes": [
        "nbtools-input",
        "nbtools-passwordinput",
        "required"
       ],
       "children": [
        "IPY_MODEL_578dd886cf81405781c77f29847dfe13",
        "IPY_MODEL_8462273d8d2b4055986d18f428d6da39",
        "IPY_MODEL_4cff46bbc19a4dce9ec19fc9dc59bbca"
       ],
       "layout": "IPY_MODEL_1e8e8a96d3894b4bbf0ac44ecf657576"
      }
     },
     "3df9569665284621b2e6a2d43446c552": {
      "model_module": "@jupyter-widgets/base",
      "model_module_version": "1.2.0",
      "model_name": "LayoutModel",
      "state": {}
     },
     "3e052d235a8b47bcb48427c488af740e": {
      "model_module": "@genepattern/nbtools",
      "model_module_version": "^0.2.0",
      "model_name": "UIBuilderModel",
      "state": {
       "_dom_classes": [],
       "_model_module_version": "^0.2.0",
       "_parameters": [
        {
         "choices": {},
         "default": "",
         "description": "",
         "events": null,
         "hide": true,
         "id": null,
         "kinds": null,
         "label": "output variable",
         "name": "output_var",
         "optional": true,
         "type": "text",
         "value": ""
        }
       ],
       "_view_count": null,
       "_view_module_version": "^0.2.0",
       "collapsed": true,
       "color": "rgba(10, 45, 105, 0.80)",
       "display_footer": false,
       "display_header": false,
       "form": "IPY_MODEL_75102fe6293447049f6601869fa7ffae",
       "info": "<div class=\"systemMessageOk\"><br />The main GenePattern server (<a href=\"https://cloud.genepattern.org\">cloud.genepattern.org</a>) has a 1 hour maintenance window on the first Monday of each month from 2pm - 3pm PDT (UTC-7)<br><br />The next update will be <b>Monday, October 5, 2020</b>.<br /> <br /></div><br /><div class=\"systemMessageOk\"><br />    Follow the GenePattern team on <a href=\"https://twitter.com/GenePattern\", target=\"_blank\">Twitter</a>, <a href=\"https://www.instagram.com/genepatternnotebook/\",target=\"_blank\">Instagram</a> or <a href=\"https://www.facebook.com/GenePattern\", target=\"_blank\">Facebook</a> to keep up with the latest news and events or <a href=\"https://groups.google.com/forum/?utm_medium=email&utm_source=footer#!forum/genepattern-help\", target=\"_blank\">join the conversation in our forum</a>!<br /><br /><a href=\"https://genepattern.org/genepattern-in-the-amazon-cloud\", target=\"_blank\">Terms of Service</a> - Updated August 2020<br /><br /></div>",
       "layout": "IPY_MODEL_fe6ed7c49d6d4f91b3ebf5902286e869",
       "logo": "https://www.fedex.com/images/legacy/logo.png",
       "name": "https://cloud.genepattern.org/gp",
       "origin": "Notebook",
       "output": "IPY_MODEL_e7abc90340d2431890f454d64e2ba736",
       "output_var": ""
      }
     },
     "3e32fdc54a0a4ba09f4677980ccfa2ed": {
      "model_module": "@jupyter-widgets/controls",
      "model_module_version": "1.5.0",
      "model_name": "GridBoxModel",
      "state": {
       "_dom_classes": [
        "nbtools-input",
        "nbtools-textinput"
       ],
       "children": [
        "IPY_MODEL_2ab5cb11c79a4084b0de8fbe9fba32f2",
        "IPY_MODEL_b57d7cb0857e4394ade5f9a160a59f68",
        "IPY_MODEL_b6ca1a88c4c6447aaa8c2c66fb21e775"
       ],
       "layout": "IPY_MODEL_e74b664236e6440f9dfbae2d4bbeb596"
      }
     },
     "3e8d7fbcb8194a72a2b0e4005bb4998e": {
      "model_module": "@jupyter-widgets/output",
      "model_module_version": "1.0.0",
      "model_name": "OutputModel",
      "state": {
       "layout": "IPY_MODEL_5077eeb54c2d421ab03c183915ee7dd3"
      }
     },
     "3f3ac47bd0b34c86a267afd2ae67d29b": {
      "model_module": "@jupyter-widgets/controls",
      "model_module_version": "1.5.0",
      "model_name": "LabelModel",
      "state": {
       "description": "GenePattern Server",
       "layout": "IPY_MODEL_94b67dbd0a324fc0a3a82f0255839e25",
       "style": "IPY_MODEL_423acdde2325404aba08df561525a844",
       "value": "GenePattern Server*"
      }
     },
     "4063602456b241109d420fbc9b083da6": {
      "model_module": "@jupyter-widgets/controls",
      "model_module_version": "1.5.0",
      "model_name": "DescriptionStyleModel",
      "state": {
       "description_width": ""
      }
     },
     "41f7a7c4218b437b9f183544036baff8": {
      "model_module": "@jupyter-widgets/base",
      "model_module_version": "1.2.0",
      "model_name": "LayoutModel",
      "state": {
       "display": "none",
       "grid_template_areas": "\n                    \"label input\"\n                    \". description\"\n                ",
       "grid_template_columns": "25% 75%",
       "grid_template_rows": "auto auto",
       "width": "100%"
      }
     },
     "423acdde2325404aba08df561525a844": {
      "model_module": "@jupyter-widgets/controls",
      "model_module_version": "1.5.0",
      "model_name": "DescriptionStyleModel",
      "state": {
       "description_width": ""
      }
     },
     "429dd9dd4f0f402abc3eaabdbba3ae6f": {
      "model_module": "@jupyter-widgets/output",
      "model_module_version": "1.0.0",
      "model_name": "OutputModel",
      "state": {
       "layout": "IPY_MODEL_507e6efe41cd4bd9b7542188cfa7b0d0"
      }
     },
     "42d45c655dd645259f2fa4cd5ba34f09": {
      "model_module": "@jupyter-widgets/controls",
      "model_module_version": "1.5.0",
      "model_name": "DescriptionStyleModel",
      "state": {
       "description_width": ""
      }
     },
     "4303fff3272b4a9a973707785b462049": {
      "model_module": "@jupyter-widgets/controls",
      "model_module_version": "1.5.0",
      "model_name": "DescriptionStyleModel",
      "state": {
       "description_width": ""
      }
     },
     "43e808bb14864f02a2ed9e9a7c103295": {
      "model_module": "@jupyter-widgets/controls",
      "model_module_version": "1.5.0",
      "model_name": "DescriptionStyleModel",
      "state": {
       "description_width": ""
      }
     },
     "43efccc3fb294812af09431029b9e3de": {
      "model_module": "@jupyter-widgets/base",
      "model_module_version": "1.2.0",
      "model_name": "LayoutModel",
      "state": {
       "grid_area": "input",
       "width": "auto"
      }
     },
     "4484f2d81cec4fbfac449cf271a4b7bc": {
      "model_module": "@jupyter-widgets/base",
      "model_module_version": "1.2.0",
      "model_name": "LayoutModel",
      "state": {
       "grid_area": "label",
       "width": "auto"
      }
     },
     "4587f387a86644bf87f9dbb9fb028cb2": {
      "model_module": "@jupyter-widgets/controls",
      "model_module_version": "1.5.0",
      "model_name": "GridBoxModel",
      "state": {
       "_dom_classes": [
        "nbtools-input",
        "nbtools-textinput"
       ],
       "children": [
        "IPY_MODEL_7d5dbc34512f4dcab60550cd08a0b192",
        "IPY_MODEL_2940613d58fb44d9883beee7f63013a0",
        "IPY_MODEL_30b6dde17c3b4772816417212f846498"
       ],
       "layout": "IPY_MODEL_5636c5222c8c4222bcb1234385c27540"
      }
     },
     "46dafb5305df4ffb8ea03f4bad18d0ef": {
      "model_module": "@jupyter-widgets/controls",
      "model_module_version": "1.5.0",
      "model_name": "DescriptionStyleModel",
      "state": {
       "description_width": ""
      }
     },
     "4788dfcfd36b4f0ea436233b1f3164a8": {
      "model_module": "@jupyter-widgets/base",
      "model_module_version": "1.2.0",
      "model_name": "LayoutModel",
      "state": {
       "grid_area": "label",
       "width": "auto"
      }
     },
     "480da1d296b14e5383fa5b0abce3585d": {
      "model_module": "@jupyter-widgets/base",
      "model_module_version": "1.2.0",
      "model_name": "LayoutModel",
      "state": {}
     },
     "48abd54c8ac04cb59a556df661db373c": {
      "model_module": "@jupyter-widgets/base",
      "model_module_version": "1.2.0",
      "model_name": "LayoutModel",
      "state": {}
     },
     "4967e03163bb4c53b68b9030a3ad0f01": {
      "model_module": "@jupyter-widgets/base",
      "model_module_version": "1.2.0",
      "model_name": "LayoutModel",
      "state": {
       "grid_area": "input",
       "width": "auto"
      }
     },
     "49bf16042cfc4e6ebae6b99bb555664c": {
      "model_module": "@jupyter-widgets/controls",
      "model_module_version": "1.5.0",
      "model_name": "GridBoxModel",
      "state": {
       "_dom_classes": [
        "nbtools-input",
        "nbtools-textinput"
       ],
       "children": [
        "IPY_MODEL_feedf348273244e5864899bbf479a548",
        "IPY_MODEL_fc4537ce32df43f3b12b757b37fbf140",
        "IPY_MODEL_10076f5415744c168da24713a603e1b7"
       ],
       "layout": "IPY_MODEL_8b942f5a16a04874b49ddde963dad989"
      }
     },
     "49c94fc1daf64094a207979c4d9876a9": {
      "model_module": "@jupyter-widgets/controls",
      "model_module_version": "1.5.0",
      "model_name": "LabelModel",
      "state": {
       "layout": "IPY_MODEL_fe3f0a862c5242c1aaaa92bfa8525970",
       "style": "IPY_MODEL_7abc42bb1fd149e98e08f7839177c5af"
      }
     },
     "4a114358b3a5491da81449558f5ea231": {
      "model_module": "@jupyter-widgets/base",
      "model_module_version": "1.2.0",
      "model_name": "LayoutModel",
      "state": {
       "display": "none",
       "grid_template_areas": "\n                    \"label input\"\n                    \". description\"\n                ",
       "grid_template_columns": "25% 75%",
       "grid_template_rows": "auto auto",
       "width": "100%"
      }
     },
     "4abe5a36afcf48c4a8c42024b74e6cc5": {
      "model_module": "@jupyter-widgets/output",
      "model_module_version": "1.0.0",
      "model_name": "OutputModel",
      "state": {
       "layout": "IPY_MODEL_f971545c5c9441d8b65f359cba82ac80"
      }
     },
     "4ae962685e654d97ac94eb0e553a339e": {
      "model_module": "@jupyter-widgets/controls",
      "model_module_version": "1.5.0",
      "model_name": "DescriptionStyleModel",
      "state": {
       "description_width": ""
      }
     },
     "4b2d5c7d8f444668a313242a6516fbab": {
      "model_module": "@jupyter-widgets/base",
      "model_module_version": "1.2.0",
      "model_name": "LayoutModel",
      "state": {
       "grid_area": "input",
       "width": "auto"
      }
     },
     "4c171ac187734478adade69443cb0e92": {
      "model_module": "@jupyter-widgets/controls",
      "model_module_version": "1.5.0",
      "model_name": "ButtonModel",
      "state": {
       "_dom_classes": [
        "hidden"
       ],
       "description": "Run",
       "layout": "IPY_MODEL_53593277a84d4d54b00ce7a7febad9f2",
       "style": "IPY_MODEL_90559eb4d76d49e69255551de837e1ca"
      }
     },
     "4c3c672e71924cb3abdbf8726be0b200": {
      "model_module": "@jupyter-widgets/controls",
      "model_module_version": "1.5.0",
      "model_name": "DescriptionStyleModel",
      "state": {
       "description_width": ""
      }
     },
     "4cff46bbc19a4dce9ec19fc9dc59bbca": {
      "model_module": "@jupyter-widgets/controls",
      "model_module_version": "1.5.0",
      "model_name": "LabelModel",
      "state": {
       "layout": "IPY_MODEL_b4238c34172743a6a7f42f6bfcf7f3cf",
       "style": "IPY_MODEL_ae9124c91b1a4477837b6ad8a6ea1839"
      }
     },
     "4ecb165a7b404fe898d9d48d3f22fb85": {
      "model_module": "@jupyter-widgets/base",
      "model_module_version": "1.2.0",
      "model_name": "LayoutModel",
      "state": {}
     },
     "4f87e6116e0a4b66aba963f31f41615c": {
      "model_module": "@jupyter-widgets/controls",
      "model_module_version": "1.5.0",
      "model_name": "VBoxModel",
      "state": {
       "_dom_classes": [
        "widget-interact"
       ],
       "children": [
        "IPY_MODEL_7e1b118f380b42689153b7ca8348baba",
        "IPY_MODEL_dee4a213b67c44fda23b8f37e9da221c",
        "IPY_MODEL_753dd3f382b44d8eb3222fe633140cd9",
        "IPY_MODEL_ab69ecc431604f9b9472db705f9c5e77",
        "IPY_MODEL_7ff6125bb193447ca9793946bbab1d10"
       ],
       "layout": "IPY_MODEL_1f05274169354d459ca1363a28416a86"
      }
     },
     "5077eeb54c2d421ab03c183915ee7dd3": {
      "model_module": "@jupyter-widgets/base",
      "model_module_version": "1.2.0",
      "model_name": "LayoutModel",
      "state": {}
     },
     "507e6efe41cd4bd9b7542188cfa7b0d0": {
      "model_module": "@jupyter-widgets/base",
      "model_module_version": "1.2.0",
      "model_name": "LayoutModel",
      "state": {}
     },
     "50eab0b2b12645c080d408c6271ed70f": {
      "model_module": "@jupyter-widgets/controls",
      "model_module_version": "1.5.0",
      "model_name": "DescriptionStyleModel",
      "state": {
       "description_width": ""
      }
     },
     "50ebb5860228416d9910098a6301007d": {
      "model_module": "@jupyter-widgets/base",
      "model_module_version": "1.2.0",
      "model_name": "LayoutModel",
      "state": {
       "grid_area": "label",
       "width": "auto"
      }
     },
     "50eeca33d3ae40d3bc30f9695ed5e8e5": {
      "model_module": "@jupyter-widgets/controls",
      "model_module_version": "1.5.0",
      "model_name": "LabelModel",
      "state": {
       "description": "Email",
       "layout": "IPY_MODEL_4788dfcfd36b4f0ea436233b1f3164a8",
       "style": "IPY_MODEL_584827628eae4d3c935f7711b73b597f",
       "value": "Email*"
      }
     },
     "53593277a84d4d54b00ce7a7febad9f2": {
      "model_module": "@jupyter-widgets/base",
      "model_module_version": "1.2.0",
      "model_name": "LayoutModel",
      "state": {}
     },
     "53c511d0cd844289b16b3bf2562eab29": {
      "model_module": "@jupyter-widgets/base",
      "model_module_version": "1.2.0",
      "model_name": "LayoutModel",
      "state": {
       "grid_area": "input",
       "width": "auto"
      }
     },
     "5433f8ac046a40179e59425c8ccce0d3": {
      "model_module": "@jupyter-widgets/controls",
      "model_module_version": "1.5.0",
      "model_name": "LabelModel",
      "state": {
       "layout": "IPY_MODEL_837cf21d45bb4906ae5fb93236ac7af1",
       "style": "IPY_MODEL_0b62adfb150d41f1bab6b09d74874c5b"
      }
     },
     "54ba334e28a2483d92cd11ec313aa83f": {
      "model_module": "@jupyter-widgets/output",
      "model_module_version": "1.0.0",
      "model_name": "OutputModel",
      "state": {
       "layout": "IPY_MODEL_1ff210f519344efd9cc3ed373adc6435"
      }
     },
     "5636c5222c8c4222bcb1234385c27540": {
      "model_module": "@jupyter-widgets/base",
      "model_module_version": "1.2.0",
      "model_name": "LayoutModel",
      "state": {
       "display": "none",
       "grid_template_areas": "\n                    \"label input\"\n                    \". description\"\n                ",
       "grid_template_columns": "25% 75%",
       "grid_template_rows": "auto auto",
       "width": "100%"
      }
     },
     "56e97c5ea1c0413fba1dc8027240dae8": {
      "model_module": "@jupyter-widgets/base",
      "model_module_version": "1.2.0",
      "model_name": "LayoutModel",
      "state": {
       "grid_template_areas": "\n                    \"label input\"\n                    \". description\"\n                ",
       "grid_template_columns": "25% 75%",
       "grid_template_rows": "auto auto",
       "width": "100%"
      }
     },
     "578dd886cf81405781c77f29847dfe13": {
      "model_module": "@jupyter-widgets/controls",
      "model_module_version": "1.5.0",
      "model_name": "LabelModel",
      "state": {
       "description": "Password",
       "layout": "IPY_MODEL_c01596d90ab14742a741a2f16ee346d2",
       "style": "IPY_MODEL_b38ad40be6284b29af72536b2aacc9ba",
       "value": "Password*"
      }
     },
     "57cbaa4f461e4b39b96b948372db7014": {
      "model_module": "@jupyter-widgets/controls",
      "model_module_version": "1.5.0",
      "model_name": "ButtonStyleModel",
      "state": {}
     },
     "584827628eae4d3c935f7711b73b597f": {
      "model_module": "@jupyter-widgets/controls",
      "model_module_version": "1.5.0",
      "model_name": "DescriptionStyleModel",
      "state": {
       "description_width": ""
      }
     },
     "58d1b1c92d7c4fcd9321a65c51efe784": {
      "model_module": "@jupyter-widgets/base",
      "model_module_version": "1.2.0",
      "model_name": "LayoutModel",
      "state": {
       "display": "none",
       "grid_template_areas": "\n                    \"label input\"\n                    \". description\"\n                ",
       "grid_template_columns": "25% 75%",
       "grid_template_rows": "auto auto",
       "width": "100%"
      }
     },
     "59d02e83db2b4135aaeafd48b3d90974": {
      "model_module": "@jupyter-widgets/controls",
      "model_module_version": "1.5.0",
      "model_name": "DescriptionStyleModel",
      "state": {
       "description_width": ""
      }
     },
     "5a7ed82a76484164b4c76fada1b9990a": {
      "model_module": "@jupyter-widgets/base",
      "model_module_version": "1.2.0",
      "model_name": "LayoutModel",
      "state": {}
     },
     "5aa59cbc7af44337890ad17e882aadab": {
      "model_module": "@jupyter-widgets/output",
      "model_module_version": "1.0.0",
      "model_name": "OutputModel",
      "state": {
       "layout": "IPY_MODEL_84846bb8a50d4660b1bb9e5bb949826a"
      }
     },
     "5b4a5c4ace4e4fe09366f1f7d469f9ca": {
      "model_module": "@jupyter-widgets/base",
      "model_module_version": "1.2.0",
      "model_name": "LayoutModel",
      "state": {
       "grid_area": "label",
       "width": "auto"
      }
     },
     "5b76fe0ae5f04201854292cbda624d55": {
      "model_module": "@jupyter-widgets/controls",
      "model_module_version": "1.5.0",
      "model_name": "ButtonStyleModel",
      "state": {}
     },
     "5d0f5f65c0a341d9bf3e130484935faa": {
      "model_module": "@jupyter-widgets/base",
      "model_module_version": "1.2.0",
      "model_name": "LayoutModel",
      "state": {
       "grid_area": "description",
       "width": "auto"
      }
     },
     "5e08110cfee14571b5c23c2849db3a82": {
      "model_module": "@jupyter-widgets/output",
      "model_module_version": "1.0.0",
      "model_name": "OutputModel",
      "state": {
       "layout": "IPY_MODEL_cda9d3e96d0f4a21bed1455a2686434f",
       "outputs": [
        {
         "data": {
          "application/vnd.jupyter.widget-view+json": {
           "model_id": "",
           "version_major": 2,
           "version_minor": 0
          },
          "text/plain": "GPAuthWidget2(collapse=True, collapsed=True, color='rgba(10, 45, 105, 0.80)', display_footer=False, display_he…"
         },
         "metadata": {},
         "output_type": "display_data"
        },
        {
         "data": {
          "application/vnd.jupyter.widget-view+json": {
           "model_id": "",
           "version_major": 2,
           "version_minor": 0
          },
          "text/plain": "Output()"
         },
         "metadata": {},
         "output_type": "display_data"
        }
       ]
      }
     },
     "5ece595442944b3ca99842584f8cde78": {
      "model_module": "@jupyter-widgets/controls",
      "model_module_version": "1.5.0",
      "model_name": "LabelModel",
      "state": {
       "description": "GenePattern Server",
       "layout": "IPY_MODEL_80ae6f1574df40119837e9ba965472f4",
       "style": "IPY_MODEL_46dafb5305df4ffb8ea03f4bad18d0ef",
       "value": "GenePattern Server*"
      }
     },
     "5f7bc1728ff34149a56df890092d986e": {
      "model_module": "@jupyter-widgets/base",
      "model_module_version": "1.2.0",
      "model_name": "LayoutModel",
      "state": {
       "grid_template_areas": "\n                    \"label input\"\n                    \". description\"\n                ",
       "grid_template_columns": "25% 75%",
       "grid_template_rows": "auto auto",
       "width": "100%"
      }
     },
     "5fe90d052ccd4109960fef936f93e3c0": {
      "model_module": "@jupyter-widgets/controls",
      "model_module_version": "1.5.0",
      "model_name": "LabelModel",
      "state": {
       "description": "output variable",
       "layout": "IPY_MODEL_b60034d5f0364dbf99f57912a6d8c84c",
       "style": "IPY_MODEL_d463c1b894e942f49aba4436ab4d6a47",
       "value": "output variable"
      }
     },
     "61147dbd320941188b19a54132485d26": {
      "model_module": "@jupyter-widgets/controls",
      "model_module_version": "1.5.0",
      "model_name": "LabelModel",
      "state": {
       "description": "output variable",
       "layout": "IPY_MODEL_a535462e08634f76b229e9c03893dd8d",
       "style": "IPY_MODEL_248784f3611d416ea0a80c7cb643c64f",
       "value": "output variable"
      }
     },
     "61b2b71c6c62428496b9ca7cfd62e53d": {
      "model_module": "@jupyter-widgets/base",
      "model_module_version": "1.2.0",
      "model_name": "LayoutModel",
      "state": {
       "grid_area": "label",
       "width": "auto"
      }
     },
     "61fb0a941e5e45cd9c1df85805c4a306": {
      "model_module": "@jupyter-widgets/base",
      "model_module_version": "1.2.0",
      "model_name": "LayoutModel",
      "state": {
       "grid_area": "description",
       "width": "auto"
      }
     },
     "621f4e69e0c448fdac1fd61061c1c9f7": {
      "model_module": "@jupyter-widgets/controls",
      "model_module_version": "1.5.0",
      "model_name": "GridBoxModel",
      "state": {
       "_dom_classes": [
        "nbtools-input",
        "nbtools-textinput"
       ],
       "children": [
        "IPY_MODEL_2f79861007f247dab3089855bcb651e1",
        "IPY_MODEL_06d3650b84bc498cb9ff99bc0ef409b7",
        "IPY_MODEL_87a5df3fdfc040f3a8ac5cc9767da45a"
       ],
       "layout": "IPY_MODEL_cb6c976abd6c4ef3a558f29d16211aa6"
      }
     },
     "630d12a6eba842e0ba9b7600b889926f": {
      "model_module": "@jupyter-widgets/controls",
      "model_module_version": "1.5.0",
      "model_name": "ButtonStyleModel",
      "state": {}
     },
     "63c86947c98d42a68ba4cbd4d257a8be": {
      "model_module": "@jupyter-widgets/base",
      "model_module_version": "1.2.0",
      "model_name": "LayoutModel",
      "state": {
       "grid_area": "input",
       "width": "auto"
      }
     },
     "63fd454ca1d846ac83e6fdef25244d66": {
      "model_module": "@jupyter-widgets/controls",
      "model_module_version": "1.5.0",
      "model_name": "DescriptionStyleModel",
      "state": {
       "description_width": ""
      }
     },
     "64668fa2f3404232be94f8a3e904e645": {
      "model_module": "@jupyter-widgets/output",
      "model_module_version": "1.0.0",
      "model_name": "OutputModel",
      "state": {
       "layout": "IPY_MODEL_f63290502fbc4384863129d60bf4c136"
      }
     },
     "66690fb4204e457d9f9e7104d6a13879": {
      "model_module": "@jupyter-widgets/controls",
      "model_module_version": "1.5.0",
      "model_name": "DescriptionStyleModel",
      "state": {
       "description_width": ""
      }
     },
     "66852dfbf3404feca2f782287b135096": {
      "model_module": "@jupyter-widgets/base",
      "model_module_version": "1.2.0",
      "model_name": "LayoutModel",
      "state": {
       "grid_area": "input",
       "width": "auto"
      }
     },
     "6689504351b849288f5d38957e4a604c": {
      "model_module": "@jupyter-widgets/controls",
      "model_module_version": "1.5.0",
      "model_name": "PasswordModel",
      "state": {
       "layout": "IPY_MODEL_c03dc0052eba4e5bbf52827a3a8f2203",
       "style": "IPY_MODEL_c90637005b4745158a456fa04a15094b"
      }
     },
     "6714a38cf6704f1d999525b76c0c2fea": {
      "model_module": "@jupyter-widgets/controls",
      "model_module_version": "1.5.0",
      "model_name": "LabelModel",
      "state": {
       "description": "output variable",
       "layout": "IPY_MODEL_0c2c7eb89f3f44b09587fd6ca74973d7",
       "style": "IPY_MODEL_eb69cefb21ed4f37a093b46dc0bb0751",
       "value": "output variable"
      }
     },
     "6793cee2048d4dd7a39b563136373b4d": {
      "model_module": "@jupyter-widgets/base",
      "model_module_version": "1.2.0",
      "model_name": "LayoutModel",
      "state": {
       "grid_area": "description",
       "width": "auto"
      }
     },
     "67e4560340674da6b4d666226d47f059": {
      "model_module": "@jupyter-widgets/base",
      "model_module_version": "1.2.0",
      "model_name": "LayoutModel",
      "state": {
       "display": "none",
       "grid_template_areas": "\n                    \"label input\"\n                    \". description\"\n                ",
       "grid_template_columns": "25% 75%",
       "grid_template_rows": "auto auto",
       "width": "100%"
      }
     },
     "681d48fee2bc4786b743849510a91ecd": {
      "model_module": "@jupyter-widgets/controls",
      "model_module_version": "1.5.0",
      "model_name": "DescriptionStyleModel",
      "state": {
       "description_width": ""
      }
     },
     "68e2bbf72bb542c693f7e803b58acc8d": {
      "model_module": "@jupyter-widgets/controls",
      "model_module_version": "1.5.0",
      "model_name": "VBoxModel",
      "state": {
       "_dom_classes": [
        "widget-interact"
       ],
       "children": [
        "IPY_MODEL_90ca59ed92e741d7969e8982f47f0ef1",
        "IPY_MODEL_77d9e1e64b70469d9f9dbace1597499a",
        "IPY_MODEL_9f854550c6c1452abf4334263a69d6a6",
        "IPY_MODEL_a2d87b42f9814d79a8413cf4eefe92a5",
        "IPY_MODEL_ae5c342e04d04b508317e816ca3e1467"
       ],
       "layout": "IPY_MODEL_a4ee8c8722094a0fb673fb3eeced92ad"
      }
     },
     "69310414f990470899ae96d2eee4dd5d": {
      "model_module": "@jupyter-widgets/controls",
      "model_module_version": "1.5.0",
      "model_name": "LabelModel",
      "state": {
       "layout": "IPY_MODEL_9f811ffb52b04dd6b5f92e7a16b97547",
       "style": "IPY_MODEL_ef0dcf44c09c4ac68e4761b09a3f6505"
      }
     },
     "6a60ee34517242d9b5a4dfa2ed43750d": {
      "model_module": "@jupyter-widgets/controls",
      "model_module_version": "1.5.0",
      "model_name": "TextModel",
      "state": {
       "_dom_classes": [
        "nbtools-menu-attached"
       ],
       "layout": "IPY_MODEL_76735e54c767428ea7472850261fd46f",
       "style": "IPY_MODEL_3a66c9d854b4491c8d05103804c7040b"
      }
     },
     "6a610b4c652d4a2aae0458b31d5adafc": {
      "model_module": "@jupyter-widgets/base",
      "model_module_version": "1.2.0",
      "model_name": "LayoutModel",
      "state": {
       "grid_area": "label",
       "width": "auto"
      }
     },
     "6abcd160dce747c2826e290c991a2482": {
      "model_module": "@jupyter-widgets/controls",
      "model_module_version": "1.5.0",
      "model_name": "DescriptionStyleModel",
      "state": {
       "description_width": ""
      }
     },
     "6b332e587c6540a8b3401ea557f9f104": {
      "model_module": "@jupyter-widgets/controls",
      "model_module_version": "1.5.0",
      "model_name": "LabelModel",
      "state": {
       "layout": "IPY_MODEL_a3d193fe6aa944ba84aeb09dc5cb13ef",
       "style": "IPY_MODEL_bf53db38cbc14f86bf679b202fa1c0e1"
      }
     },
     "6c514bf907a0450fa09e8d2ec4804b6e": {
      "model_module": "@jupyter-widgets/output",
      "model_module_version": "1.0.0",
      "model_name": "OutputModel",
      "state": {
       "layout": "IPY_MODEL_e19b7a814f9c437cbe88f69939947867"
      }
     },
     "6c5d79f7639f4d5eb30dfcd71785f80b": {
      "model_module": "@jupyter-widgets/base",
      "model_module_version": "1.2.0",
      "model_name": "LayoutModel",
      "state": {
       "grid_area": "description",
       "width": "auto"
      }
     },
     "6d2ab4e7bde749fab72f7d193aeee3ab": {
      "model_module": "@jupyter-widgets/base",
      "model_module_version": "1.2.0",
      "model_name": "LayoutModel",
      "state": {}
     },
     "6d69ed56f59d47c7a84183d6851e893a": {
      "model_module": "@jupyter-widgets/controls",
      "model_module_version": "1.5.0",
      "model_name": "ButtonModel",
      "state": {
       "_dom_classes": [
        "hidden"
       ],
       "description": "Run",
       "layout": "IPY_MODEL_480da1d296b14e5383fa5b0abce3585d",
       "style": "IPY_MODEL_ba3f4746d21c48e98505ba4704163752"
      }
     },
     "6e7bcd643f17417fab2349a26cad490d": {
      "model_module": "@jupyter-widgets/controls",
      "model_module_version": "1.5.0",
      "model_name": "DescriptionStyleModel",
      "state": {
       "description_width": ""
      }
     },
     "6edce91b50f84566b35401c5acd34af6": {
      "model_module": "@jupyter-widgets/controls",
      "model_module_version": "1.5.0",
      "model_name": "VBoxModel",
      "state": {
       "_dom_classes": [
        "widget-interact"
       ],
       "children": [
        "IPY_MODEL_7fa3b37ec9bb42fdbccdcef25d6253bf",
        "IPY_MODEL_8bf3caea25db432f8fc40065badbd1d8"
       ],
       "layout": "IPY_MODEL_c690e16b8e4c47869615e87462a5a49d"
      }
     },
     "6ef3f10afcc040b9ac232ddbc96abed0": {
      "model_module": "@jupyter-widgets/base",
      "model_module_version": "1.2.0",
      "model_name": "LayoutModel",
      "state": {
       "grid_area": "input",
       "width": "auto"
      }
     },
     "7063a28c9ef94ceea24a3eadb658510b": {
      "model_module": "@jupyter-widgets/base",
      "model_module_version": "1.2.0",
      "model_name": "LayoutModel",
      "state": {
       "grid_area": "label",
       "width": "auto"
      }
     },
     "723309a508fe420597e58eac659ef1f4": {
      "model_module": "@jupyter-widgets/controls",
      "model_module_version": "1.5.0",
      "model_name": "ComboboxModel",
      "state": {
       "_dom_classes": [
        "nbtools-menu-attached",
        "nbtools-nosendto"
       ],
       "choices": {
        "Broad Internal": "https://gpbroad.broadinstitute.org/gp",
        "GenePattern Cloud": "https://cloud.genepattern.org/gp",
        "Indiana University": "https://gp.indiana.edu/gp"
       },
       "ensure_option": false,
       "kinds": [],
       "layout": "IPY_MODEL_af109ad121184bfc8bf4da82dc6aede8",
       "style": "IPY_MODEL_4ae962685e654d97ac94eb0e553a339e",
       "value": "https://cloud.genepattern.org/gp"
      }
     },
     "72fbc18d76d04d5d9f9216277037f666": {
      "model_module": "@jupyter-widgets/controls",
      "model_module_version": "1.5.0",
      "model_name": "GridBoxModel",
      "state": {
       "_dom_classes": [
        "nbtools-input",
        "nbtools-textinput"
       ],
       "children": [
        "IPY_MODEL_1580e297bebf4a5c8b6261be613d4e74",
        "IPY_MODEL_fa519c2bb1ac43b88c0789ec730ae2da",
        "IPY_MODEL_7d38f07dd72f454a979756b30012e39e"
       ],
       "layout": "IPY_MODEL_4a114358b3a5491da81449558f5ea231"
      }
     },
     "7453f3d620104a47a0d29bc86dc09cfc": {
      "model_module": "@jupyter-widgets/controls",
      "model_module_version": "1.5.0",
      "model_name": "DescriptionStyleModel",
      "state": {
       "description_width": ""
      }
     },
     "75102fe6293447049f6601869fa7ffae": {
      "model_module": "@jupyter-widgets/controls",
      "model_module_version": "1.5.0",
      "model_name": "VBoxModel",
      "state": {
       "_dom_classes": [
        "widget-interact"
       ],
       "children": [
        "IPY_MODEL_c2f091bfefca40ba9fc937d6b3e95647",
        "IPY_MODEL_4587f387a86644bf87f9dbb9fb028cb2"
       ],
       "layout": "IPY_MODEL_ca28aa2ea0b3439fa902e31875764f4b"
      }
     },
     "753dd3f382b44d8eb3222fe633140cd9": {
      "model_module": "@jupyter-widgets/controls",
      "model_module_version": "1.5.0",
      "model_name": "GridBoxModel",
      "state": {
       "_dom_classes": [
        "nbtools-input",
        "nbtools-passwordinput",
        "required"
       ],
       "children": [
        "IPY_MODEL_a1cca3bd84e64d528db62a600f10c1ee",
        "IPY_MODEL_8ff2aff155264c30aa95cf50fc8ad28f",
        "IPY_MODEL_07a68c425b164ce798071251b72825c2"
       ],
       "layout": "IPY_MODEL_c63f0c1680254ea69e93c8bb85f44b13"
      }
     },
     "75570ccfa137450e976231e0e4892636": {
      "model_module": "@jupyter-widgets/base",
      "model_module_version": "1.2.0",
      "model_name": "LayoutModel",
      "state": {}
     },
     "7591e203f6134928bccd29ae411553c0": {
      "model_module": "@jupyter-widgets/controls",
      "model_module_version": "1.5.0",
      "model_name": "LabelModel",
      "state": {
       "layout": "IPY_MODEL_fe613937016a4cfdbe7327d96496fe4f",
       "style": "IPY_MODEL_c6f129a314a449ac8403952f51add289"
      }
     },
     "75c7e76309b34f07a47331c0e2128f27": {
      "model_module": "@jupyter-widgets/base",
      "model_module_version": "1.2.0",
      "model_name": "LayoutModel",
      "state": {}
     },
     "76735e54c767428ea7472850261fd46f": {
      "model_module": "@jupyter-widgets/base",
      "model_module_version": "1.2.0",
      "model_name": "LayoutModel",
      "state": {
       "grid_area": "input",
       "width": "auto"
      }
     },
     "77d9e1e64b70469d9f9dbace1597499a": {
      "model_module": "@jupyter-widgets/controls",
      "model_module_version": "1.5.0",
      "model_name": "GridBoxModel",
      "state": {
       "_dom_classes": [
        "nbtools-input",
        "nbtools-textinput",
        "required"
       ],
       "children": [
        "IPY_MODEL_ca849a3212b446dfa81e0035cf847114",
        "IPY_MODEL_0fdbdb7e335e48aa9addd02b1b1b3b5a",
        "IPY_MODEL_49c94fc1daf64094a207979c4d9876a9"
       ],
       "layout": "IPY_MODEL_d5a0ebef984d49e7904554cf377e9dec"
      }
     },
     "78cffdb909bd4076b4f5e4a0a3f4dcf0": {
      "model_module": "@genepattern/nbtools",
      "model_module_version": "^0.2.0",
      "model_name": "UIBuilderModel",
      "state": {
       "_dom_classes": [],
       "_model_module_version": "^0.2.0",
       "_parameters": [
        {
         "choices": {
          "Galaxy Local": "http://localhost",
          "Galaxy Main": "https://usegalaxy.org"
         },
         "combo": true,
         "default": "https://usegalaxy.org",
         "description": "",
         "events": null,
         "hide": false,
         "id": null,
         "kinds": null,
         "label": "Galaxy Server",
         "name": "server",
         "optional": false,
         "sendto": false,
         "type": "choice",
         "value": ""
        },
        {
         "choices": {},
         "default": "",
         "description": "",
         "events": null,
         "hide": false,
         "id": null,
         "kinds": null,
         "label": "Email",
         "name": "email",
         "optional": false,
         "sendto": false,
         "type": "text",
         "value": ""
        },
        {
         "choices": {},
         "default": "",
         "description": "",
         "events": null,
         "hide": false,
         "id": null,
         "kinds": null,
         "label": "Password",
         "name": "password",
         "optional": false,
         "sendto": false,
         "type": "password",
         "value": ""
        },
        {
         "choices": {},
         "default": "",
         "description": "",
         "events": null,
         "hide": true,
         "id": null,
         "kinds": null,
         "label": "output variable",
         "name": "output_var",
         "optional": true,
         "type": "text",
         "value": ""
        }
       ],
       "_view_count": null,
       "_view_module_version": "^0.2.0",
       "buttons": {
        "Register an Account": "\n    const target = event.target;\n    const widget = target.closest('.nbtools') || target;\n    const server_input = widget.querySelector('input[type=text]');\n    if (server_input) window.open(server_input.value + '/login#register');\n    else console.warn('Cannot obtain Galaxy Server URL');"
       },
       "collapse": false,
       "color": "#2c3143",
       "description": "Login to the GenePattern server",
       "display_header": false,
       "form": "IPY_MODEL_68e2bbf72bb542c693f7e803b58acc8d",
       "layout": "IPY_MODEL_15e01d6523854ac6a55913edb2c06954",
       "name": "Login",
       "origin": "Notebook",
       "output": "IPY_MODEL_924f004a002f4411a2ece54299c02ddc",
       "output_var": "",
       "run_label": "Log into Galaxy"
      }
     },
     "78f77055a5c74293806e5dc0cd6e76ad": {
      "model_module": "@jupyter-widgets/controls",
      "model_module_version": "1.5.0",
      "model_name": "DescriptionStyleModel",
      "state": {
       "description_width": ""
      }
     },
     "7920fba6d13841048231ba5cb85e410f": {
      "model_module": "@jupyter-widgets/output",
      "model_module_version": "1.0.0",
      "model_name": "OutputModel",
      "state": {
       "layout": "IPY_MODEL_e6267c99bcf1438898329bc4f464e9e2"
      }
     },
     "79fc8ece055847eab34c8d556a463578": {
      "model_module": "@jupyter-widgets/controls",
      "model_module_version": "1.5.0",
      "model_name": "DescriptionStyleModel",
      "state": {
       "description_width": ""
      }
     },
     "7a4604e5636d43f484ac201d82319bfc": {
      "model_module": "@jupyter-widgets/controls",
      "model_module_version": "1.5.0",
      "model_name": "DescriptionStyleModel",
      "state": {
       "description_width": ""
      }
     },
     "7abc42bb1fd149e98e08f7839177c5af": {
      "model_module": "@jupyter-widgets/controls",
      "model_module_version": "1.5.0",
      "model_name": "DescriptionStyleModel",
      "state": {
       "description_width": ""
      }
     },
     "7c69facba374489d86ed5079b57216e5": {
      "model_module": "@jupyter-widgets/base",
      "model_module_version": "1.2.0",
      "model_name": "LayoutModel",
      "state": {
       "grid_area": "label",
       "width": "auto"
      }
     },
     "7d38f07dd72f454a979756b30012e39e": {
      "model_module": "@jupyter-widgets/controls",
      "model_module_version": "1.5.0",
      "model_name": "LabelModel",
      "state": {
       "layout": "IPY_MODEL_28da6a277c364060b6f1226ebee3c5e1",
       "style": "IPY_MODEL_847c9f2b04db4e94b533e554fb30e16d"
      }
     },
     "7d416cbcecb34dc19fb52217c502d8ab": {
      "model_module": "@jupyter-widgets/base",
      "model_module_version": "1.2.0",
      "model_name": "LayoutModel",
      "state": {}
     },
     "7d5dbc34512f4dcab60550cd08a0b192": {
      "model_module": "@jupyter-widgets/controls",
      "model_module_version": "1.5.0",
      "model_name": "LabelModel",
      "state": {
       "description": "output variable",
       "layout": "IPY_MODEL_dae10eea0528453598163a99e435b101",
       "style": "IPY_MODEL_31bec08f8b224105bc5234da2f9515ff",
       "value": "output variable"
      }
     },
     "7d71e1ab2d234eefae75b138c1546227": {
      "model_module": "@jupyter-widgets/controls",
      "model_module_version": "1.5.0",
      "model_name": "DescriptionStyleModel",
      "state": {
       "description_width": ""
      }
     },
     "7d7ed78b2281417a96d742c3621c48ed": {
      "model_module": "@jupyter-widgets/controls",
      "model_module_version": "1.5.0",
      "model_name": "TextModel",
      "state": {
       "_dom_classes": [
        "nbtools-menu-attached"
       ],
       "layout": "IPY_MODEL_057939fea4e04349b067eae3d6fa969a",
       "style": "IPY_MODEL_265e13845d754c698fbfbe8f3889c28f",
       "value": "tabor"
      }
     },
     "7dac033906d34738ae342e06f5e038ba": {
      "model_module": "@jupyter-widgets/controls",
      "model_module_version": "1.5.0",
      "model_name": "ComboboxModel",
      "state": {
       "_dom_classes": [
        "nbtools-menu-attached",
        "nbtools-nosendto"
       ],
       "choices": {
        "Galaxy Local": "http://localhost",
        "Galaxy Main": "https://usegalaxy.org"
       },
       "ensure_option": false,
       "kinds": [],
       "layout": "IPY_MODEL_294c5cbcbb74442db84c4ba61953e6ad",
       "style": "IPY_MODEL_82b904d88c94449bbb0ba7e21c748cee",
       "value": "https://usegalaxy.org"
      }
     },
     "7e1b118f380b42689153b7ca8348baba": {
      "model_module": "@jupyter-widgets/controls",
      "model_module_version": "1.5.0",
      "model_name": "GridBoxModel",
      "state": {
       "_dom_classes": [
        "nbtools-input",
        "nbtools-comboinput",
        "required"
       ],
       "children": [
        "IPY_MODEL_9237f3f0e360436abf83975159adf08a",
        "IPY_MODEL_aa5a5f9b032e4c508d28df7470206e56",
        "IPY_MODEL_8688b009cc77459db3da2b144307b18e"
       ],
       "layout": "IPY_MODEL_8ea2680f44e3425da8acdc62fc68a47f"
      }
     },
     "7e9207cf447f4f80acf58bf1bd5726a7": {
      "model_module": "@jupyter-widgets/controls",
      "model_module_version": "1.5.0",
      "model_name": "GridBoxModel",
      "state": {
       "_dom_classes": [
        "nbtools-input",
        "nbtools-textinput",
        "required"
       ],
       "children": [
        "IPY_MODEL_08396f6ef9024fb8bcb44a7baf1fb3b5",
        "IPY_MODEL_7d7ed78b2281417a96d742c3621c48ed",
        "IPY_MODEL_f1c2fbcc4f0c4445bedc366f77f08da5"
       ],
       "layout": "IPY_MODEL_83197c1c0bb0442fa9a2fc6bed9b231e"
      }
     },
     "7fa3b37ec9bb42fdbccdcef25d6253bf": {
      "model_module": "@jupyter-widgets/controls",
      "model_module_version": "1.5.0",
      "model_name": "ButtonModel",
      "state": {
       "_dom_classes": [
        "hidden"
       ],
       "description": "Run",
       "layout": "IPY_MODEL_48abd54c8ac04cb59a556df661db373c",
       "style": "IPY_MODEL_2a1c7cf55ef347b5b7a045d231454698"
      }
     },
     "7ff6125bb193447ca9793946bbab1d10": {
      "model_module": "@jupyter-widgets/controls",
      "model_module_version": "1.5.0",
      "model_name": "GridBoxModel",
      "state": {
       "_dom_classes": [
        "nbtools-input",
        "nbtools-textinput"
       ],
       "children": [
        "IPY_MODEL_6714a38cf6704f1d999525b76c0c2fea",
        "IPY_MODEL_a3865d40089646c199b3af1907e60ccc",
        "IPY_MODEL_aadc687202cf409a962792f5a2ed32ae"
       ],
       "layout": "IPY_MODEL_ea33fe4133e7490bb5895bed767d7728"
      }
     },
     "80ae6f1574df40119837e9ba965472f4": {
      "model_module": "@jupyter-widgets/base",
      "model_module_version": "1.2.0",
      "model_name": "LayoutModel",
      "state": {
       "grid_area": "label",
       "width": "auto"
      }
     },
     "81f84ea278fb43bd96e584935acc2cd9": {
      "model_module": "@jupyter-widgets/base",
      "model_module_version": "1.2.0",
      "model_name": "LayoutModel",
      "state": {
       "grid_template_areas": "\n                    \"label input\"\n                    \". description\"\n                ",
       "grid_template_columns": "25% 75%",
       "grid_template_rows": "auto auto",
       "width": "100%"
      }
     },
     "82a5147fcdb24f8689b7b96a192f3ac9": {
      "model_module": "@jupyter-widgets/controls",
      "model_module_version": "1.5.0",
      "model_name": "DescriptionStyleModel",
      "state": {
       "description_width": ""
      }
     },
     "82b904d88c94449bbb0ba7e21c748cee": {
      "model_module": "@jupyter-widgets/controls",
      "model_module_version": "1.5.0",
      "model_name": "DescriptionStyleModel",
      "state": {
       "description_width": ""
      }
     },
     "82dc4764fefa481992bd8d6e66d996c3": {
      "model_module": "@jupyter-widgets/controls",
      "model_module_version": "1.5.0",
      "model_name": "DescriptionStyleModel",
      "state": {
       "description_width": ""
      }
     },
     "83197c1c0bb0442fa9a2fc6bed9b231e": {
      "model_module": "@jupyter-widgets/base",
      "model_module_version": "1.2.0",
      "model_name": "LayoutModel",
      "state": {
       "grid_template_areas": "\n                    \"label input\"\n                    \". description\"\n                ",
       "grid_template_columns": "25% 75%",
       "grid_template_rows": "auto auto",
       "width": "100%"
      }
     },
     "837cf21d45bb4906ae5fb93236ac7af1": {
      "model_module": "@jupyter-widgets/base",
      "model_module_version": "1.2.0",
      "model_name": "LayoutModel",
      "state": {
       "grid_area": "description",
       "width": "auto"
      }
     },
     "84275ec7f2974512b04766c72fb4b9cf": {
      "model_module": "@jupyter-widgets/base",
      "model_module_version": "1.2.0",
      "model_name": "LayoutModel",
      "state": {
       "grid_template_areas": "\n                    \"label input\"\n                    \". description\"\n                ",
       "grid_template_columns": "25% 75%",
       "grid_template_rows": "auto auto",
       "width": "100%"
      }
     },
     "8462273d8d2b4055986d18f428d6da39": {
      "model_module": "@jupyter-widgets/controls",
      "model_module_version": "1.5.0",
      "model_name": "PasswordModel",
      "state": {
       "layout": "IPY_MODEL_a0a6ed1c9f824d51add58d60b79b9c85",
       "style": "IPY_MODEL_4c3c672e71924cb3abdbf8726be0b200"
      }
     },
     "847c9f2b04db4e94b533e554fb30e16d": {
      "model_module": "@jupyter-widgets/controls",
      "model_module_version": "1.5.0",
      "model_name": "DescriptionStyleModel",
      "state": {
       "description_width": ""
      }
     },
     "84846bb8a50d4660b1bb9e5bb949826a": {
      "model_module": "@jupyter-widgets/base",
      "model_module_version": "1.2.0",
      "model_name": "LayoutModel",
      "state": {}
     },
     "84ec48bc74494e8084353089df310044": {
      "model_module": "@jupyter-widgets/base",
      "model_module_version": "1.2.0",
      "model_name": "LayoutModel",
      "state": {
       "grid_template_areas": "\n                    \"label input\"\n                    \". description\"\n                ",
       "grid_template_columns": "25% 75%",
       "grid_template_rows": "auto auto",
       "width": "100%"
      }
     },
     "8673985a3e2643348cb7a7a054c527a2": {
      "model_module": "@jupyter-widgets/controls",
      "model_module_version": "1.5.0",
      "model_name": "GridBoxModel",
      "state": {
       "_dom_classes": [
        "nbtools-input",
        "nbtools-comboinput",
        "required"
       ],
       "children": [
        "IPY_MODEL_5ece595442944b3ca99842584f8cde78",
        "IPY_MODEL_ae386423c20247db90ec472e82839eb6",
        "IPY_MODEL_a7e5019cb4af4304a2cc37a73b9ed7bc"
       ],
       "layout": "IPY_MODEL_fb40283bd9144d2bb7037428fc475104"
      }
     },
     "8688b009cc77459db3da2b144307b18e": {
      "model_module": "@jupyter-widgets/controls",
      "model_module_version": "1.5.0",
      "model_name": "LabelModel",
      "state": {
       "layout": "IPY_MODEL_34e34ddc36474746a67890b661fcd5c6",
       "style": "IPY_MODEL_79fc8ece055847eab34c8d556a463578"
      }
     },
     "86c810e09883412eb1cb8f2697e61fa0": {
      "model_module": "@jupyter-widgets/controls",
      "model_module_version": "1.5.0",
      "model_name": "ButtonStyleModel",
      "state": {}
     },
     "87a5df3fdfc040f3a8ac5cc9767da45a": {
      "model_module": "@jupyter-widgets/controls",
      "model_module_version": "1.5.0",
      "model_name": "LabelModel",
      "state": {
       "layout": "IPY_MODEL_936e459a381842e4895039d5990ac1b8",
       "style": "IPY_MODEL_82dc4764fefa481992bd8d6e66d996c3"
      }
     },
     "886ea2b3bd824a82901c069aae41fe49": {
      "model_module": "@jupyter-widgets/controls",
      "model_module_version": "1.5.0",
      "model_name": "DescriptionStyleModel",
      "state": {
       "description_width": ""
      }
     },
     "88af9e2da6694cb3bc4ff1a23b6f926b": {
      "model_module": "@jupyter-widgets/controls",
      "model_module_version": "1.5.0",
      "model_name": "TextModel",
      "state": {
       "_dom_classes": [
        "nbtools-menu-attached"
       ],
       "layout": "IPY_MODEL_306e7a578acd41c6aac0afc23ebbfb6b",
       "style": "IPY_MODEL_1f2b75f33bf1468b81f60a8d6b886ce2"
      }
     },
     "891d51fffb6d4fb7933c04b2d1d40d75": {
      "model_module": "@jupyter-widgets/controls",
      "model_module_version": "1.5.0",
      "model_name": "DescriptionStyleModel",
      "state": {
       "description_width": ""
      }
     },
     "894ef9a96b854555b2aa434ba262bf01": {
      "model_module": "@jupyter-widgets/base",
      "model_module_version": "1.2.0",
      "model_name": "LayoutModel",
      "state": {
       "grid_area": "description",
       "width": "auto"
      }
     },
     "8a5ac2e1e09e45d4bce095f910c48588": {
      "model_module": "@jupyter-widgets/base",
      "model_module_version": "1.2.0",
      "model_name": "LayoutModel",
      "state": {
       "grid_area": "input",
       "width": "auto"
      }
     },
     "8ae21735f839437aa720789e1036e236": {
      "model_module": "@jupyter-widgets/controls",
      "model_module_version": "1.5.0",
      "model_name": "DescriptionStyleModel",
      "state": {
       "description_width": ""
      }
     },
     "8af569e40f5843818dec8d82f94a0493": {
      "model_module": "@jupyter-widgets/controls",
      "model_module_version": "1.5.0",
      "model_name": "DescriptionStyleModel",
      "state": {
       "description_width": ""
      }
     },
     "8b942f5a16a04874b49ddde963dad989": {
      "model_module": "@jupyter-widgets/base",
      "model_module_version": "1.2.0",
      "model_name": "LayoutModel",
      "state": {
       "display": "none",
       "grid_template_areas": "\n                    \"label input\"\n                    \". description\"\n                ",
       "grid_template_columns": "25% 75%",
       "grid_template_rows": "auto auto",
       "width": "100%"
      }
     },
     "8bd56f6327064ab6a949efb76a5aee29": {
      "model_module": "@jupyter-widgets/controls",
      "model_module_version": "1.5.0",
      "model_name": "DescriptionStyleModel",
      "state": {
       "description_width": ""
      }
     },
     "8bf3caea25db432f8fc40065badbd1d8": {
      "model_module": "@jupyter-widgets/output",
      "model_module_version": "1.0.0",
      "model_name": "OutputModel",
      "state": {
       "layout": "IPY_MODEL_a6383e3ec85647c0bf4b6e1d7c1f31df"
      }
     },
     "8cc8a5386eec4438a9451ecfc618515c": {
      "model_module": "@jupyter-widgets/controls",
      "model_module_version": "1.5.0",
      "model_name": "DescriptionStyleModel",
      "state": {
       "description_width": ""
      }
     },
     "8d359e6b4eea457f915ef908fa2d18af": {
      "model_module": "@jupyter-widgets/controls",
      "model_module_version": "1.5.0",
      "model_name": "ButtonStyleModel",
      "state": {}
     },
     "8d94b4bcbfdf4bd28a69f2877c7593bc": {
      "model_module": "@jupyter-widgets/output",
      "model_module_version": "1.0.0",
      "model_name": "OutputModel",
      "state": {
       "layout": "IPY_MODEL_fb44878a0ed44d1cacd73247fd1e8abd"
      }
     },
     "8ea2680f44e3425da8acdc62fc68a47f": {
      "model_module": "@jupyter-widgets/base",
      "model_module_version": "1.2.0",
      "model_name": "LayoutModel",
      "state": {
       "grid_template_areas": "\n                    \"label input\"\n                    \". description\"\n                ",
       "grid_template_columns": "25% 75%",
       "grid_template_rows": "auto auto",
       "width": "100%"
      }
     },
     "8ef2bc02fa184345a6ba224ae6a4e235": {
      "model_module": "@jupyter-widgets/base",
      "model_module_version": "1.2.0",
      "model_name": "LayoutModel",
      "state": {
       "grid_area": "input",
       "width": "auto"
      }
     },
     "8f14ddb40574480c9a63fe80f09155d1": {
      "model_module": "@jupyter-widgets/base",
      "model_module_version": "1.2.0",
      "model_name": "LayoutModel",
      "state": {}
     },
     "8fc37e94b571434a9c63fe5f8cc66952": {
      "model_module": "@jupyter-widgets/controls",
      "model_module_version": "1.5.0",
      "model_name": "VBoxModel",
      "state": {
       "_dom_classes": [
        "widget-interact"
       ],
       "children": [
        "IPY_MODEL_8673985a3e2643348cb7a7a054c527a2",
        "IPY_MODEL_7e9207cf447f4f80acf58bf1bd5726a7",
        "IPY_MODEL_b6509e20060c4fdb96fc49a521838008",
        "IPY_MODEL_d02a0bf935994b8f837dbda049b0930d",
        "IPY_MODEL_b686e617ab864784bf44482e3f49784b"
       ],
       "layout": "IPY_MODEL_36d507c424ec4885a47324b9ce961ce8"
      }
     },
     "8fc9236f673f4ab2955eba7d6d172ecf": {
      "model_module": "@jupyter-widgets/base",
      "model_module_version": "1.2.0",
      "model_name": "LayoutModel",
      "state": {}
     },
     "8fedc27eab7a4283918f64e2ce099598": {
      "model_module": "@genepattern/nbtools",
      "model_module_version": "^0.2.0",
      "model_name": "UIBuilderModel",
      "state": {
       "_dom_classes": [],
       "_model_module_version": "^0.2.0",
       "_parameters": [
        {
         "choices": {
          "Galaxy Local": "http://localhost",
          "Galaxy Main": "https://usegalaxy.org"
         },
         "combo": true,
         "default": "https://usegalaxy.org",
         "description": "",
         "events": null,
         "hide": false,
         "id": null,
         "kinds": null,
         "label": "Galaxy Server",
         "name": "server",
         "optional": false,
         "sendto": false,
         "type": "choice",
         "value": ""
        },
        {
         "choices": {},
         "default": "",
         "description": "",
         "events": null,
         "hide": false,
         "id": null,
         "kinds": null,
         "label": "Email",
         "name": "email",
         "optional": false,
         "sendto": false,
         "type": "text",
         "value": ""
        },
        {
         "choices": {},
         "default": "",
         "description": "",
         "events": null,
         "hide": false,
         "id": null,
         "kinds": null,
         "label": "Password",
         "name": "password",
         "optional": false,
         "sendto": false,
         "type": "password",
         "value": ""
        },
        {
         "choices": {},
         "default": "",
         "description": "",
         "events": null,
         "hide": true,
         "id": null,
         "kinds": null,
         "label": "output variable",
         "name": "output_var",
         "optional": true,
         "type": "text",
         "value": ""
        }
       ],
       "_view_count": null,
       "_view_module_version": "^0.2.0",
       "buttons": {
        "Register an Account": "\n    const target = event.target;\n    const widget = target.closest('.nbtools') || target;\n    const server_input = widget.querySelector('input[type=text]');\n    if (server_input) window.open(server_input.value + '/login#register');\n    else console.warn('Cannot obtain Galaxy Server URL');"
       },
       "collapse": false,
       "color": "#2c3143",
       "description": "Login to the GenePattern server",
       "display_header": false,
       "form": "IPY_MODEL_208f1cdafe42489f811394ac912e8493",
       "layout": "IPY_MODEL_e86615a22f064c5081e62bea237b1713",
       "logo": "https://usegalaxy.org/static/favicon.png",
       "name": "Login",
       "origin": "Notebook",
       "output": "IPY_MODEL_54ba334e28a2483d92cd11ec313aa83f",
       "output_var": "",
       "run_label": "Log into Galaxy"
      }
     },
     "8ff2aff155264c30aa95cf50fc8ad28f": {
      "model_module": "@jupyter-widgets/controls",
      "model_module_version": "1.5.0",
      "model_name": "PasswordModel",
      "state": {
       "layout": "IPY_MODEL_acbcaafaacaf49599503d2fcdfe2fecc",
       "style": "IPY_MODEL_3b3ff466dd2b47629520e4bbb215cead"
      }
     },
     "9042c0128647402d8694dff04ed4b533": {
      "model_module": "@jupyter-widgets/controls",
      "model_module_version": "1.5.0",
      "model_name": "DescriptionStyleModel",
      "state": {
       "description_width": ""
      }
     },
     "90559eb4d76d49e69255551de837e1ca": {
      "model_module": "@jupyter-widgets/controls",
      "model_module_version": "1.5.0",
      "model_name": "ButtonStyleModel",
      "state": {}
     },
     "90859fa434864c36a8a9ca17cc47107b": {
      "model_module": "@jupyter-widgets/controls",
      "model_module_version": "1.5.0",
      "model_name": "DescriptionStyleModel",
      "state": {
       "description_width": ""
      }
     },
     "90ca59ed92e741d7969e8982f47f0ef1": {
      "model_module": "@jupyter-widgets/controls",
      "model_module_version": "1.5.0",
      "model_name": "GridBoxModel",
      "state": {
       "_dom_classes": [
        "nbtools-input",
        "nbtools-comboinput",
        "required"
       ],
       "children": [
        "IPY_MODEL_fb550d21bc534c149727b481a6bbac51",
        "IPY_MODEL_074a4eb3734a4271bd8e5972d813d8c4",
        "IPY_MODEL_0b71cb943ba24daca14f952775ee05c5"
       ],
       "layout": "IPY_MODEL_a7d77b13abc8494e9db91405a194797a"
      }
     },
     "9182cf95fdde42749102faeb5fb8ac23": {
      "model_module": "@jupyter-widgets/base",
      "model_module_version": "1.2.0",
      "model_name": "LayoutModel",
      "state": {
       "grid_area": "description",
       "width": "auto"
      }
     },
     "9187e1a1a22242e689727aaf632c47b1": {
      "model_module": "@jupyter-widgets/controls",
      "model_module_version": "1.5.0",
      "model_name": "GridBoxModel",
      "state": {
       "_dom_classes": [
        "nbtools-input",
        "nbtools-textinput",
        "required"
       ],
       "children": [
        "IPY_MODEL_a9101712a94f4ba9b190c38f6e66375c",
        "IPY_MODEL_e0e10b5e6a974cf7a55b836b96df7c56",
        "IPY_MODEL_c9c46c03e9a34c90bd6f70bf59151838"
       ],
       "layout": "IPY_MODEL_cf0c304cd4f9469a8293bf0607354c35"
      }
     },
     "91cbc16e878e44cba386164074697100": {
      "model_module": "@jupyter-widgets/controls",
      "model_module_version": "1.5.0",
      "model_name": "VBoxModel",
      "state": {
       "_dom_classes": [
        "widget-interact"
       ],
       "children": [
        "IPY_MODEL_0086b218146b4a1b9ed604ac13c9eaf8",
        "IPY_MODEL_dd9fa3089a624c82979a806948ca3321"
       ],
       "layout": "IPY_MODEL_b1845d6ed7f040f18fbac9d6ae1f1e5a"
      }
     },
     "9237f3f0e360436abf83975159adf08a": {
      "model_module": "@jupyter-widgets/controls",
      "model_module_version": "1.5.0",
      "model_name": "LabelModel",
      "state": {
       "description": "GenePattern Server",
       "layout": "IPY_MODEL_6a610b4c652d4a2aae0458b31d5adafc",
       "style": "IPY_MODEL_07f1ae29226f4a1b8e8c9f93faa17ded",
       "value": "GenePattern Server*"
      }
     },
     "924f004a002f4411a2ece54299c02ddc": {
      "model_module": "@jupyter-widgets/output",
      "model_module_version": "1.0.0",
      "model_name": "OutputModel",
      "state": {
       "layout": "IPY_MODEL_dac22e28977d4b78b4278bfb9c605d64"
      }
     },
     "936e459a381842e4895039d5990ac1b8": {
      "model_module": "@jupyter-widgets/base",
      "model_module_version": "1.2.0",
      "model_name": "LayoutModel",
      "state": {
       "grid_area": "description",
       "width": "auto"
      }
     },
     "938a88230322499bbf3cddd085356442": {
      "model_module": "@jupyter-widgets/base",
      "model_module_version": "1.2.0",
      "model_name": "LayoutModel",
      "state": {}
     },
     "94b67dbd0a324fc0a3a82f0255839e25": {
      "model_module": "@jupyter-widgets/base",
      "model_module_version": "1.2.0",
      "model_name": "LayoutModel",
      "state": {
       "grid_area": "label",
       "width": "auto"
      }
     },
     "94ce0fb6520b44dc9fd1aabbbe4fed8b": {
      "model_module": "@jupyter-widgets/base",
      "model_module_version": "1.2.0",
      "model_name": "LayoutModel",
      "state": {
       "grid_area": "input",
       "width": "auto"
      }
     },
     "94d2484af8a54e3aaa12019110aba74a": {
      "model_module": "@jupyter-widgets/controls",
      "model_module_version": "1.5.0",
      "model_name": "PasswordModel",
      "state": {
       "layout": "IPY_MODEL_e50767011c354c91bb815855b71da9c9",
       "style": "IPY_MODEL_a307a37a3e0d4966885ea43aa7e4b18c"
      }
     },
     "95b3e01322624f4899a2696621210bed": {
      "model_module": "@jupyter-widgets/controls",
      "model_module_version": "1.5.0",
      "model_name": "ButtonModel",
      "state": {
       "_dom_classes": [
        "hidden"
       ],
       "description": "Run",
       "layout": "IPY_MODEL_3671558e2182470cbea5e85aea454665",
       "style": "IPY_MODEL_d66454cdc2d14996add0650051ab8b9a"
      }
     },
     "9606b878898f4056856fa2518a3e5acb": {
      "model_module": "@jupyter-widgets/base",
      "model_module_version": "1.2.0",
      "model_name": "LayoutModel",
      "state": {}
     },
     "964d2c0ac4fb4bc0918fc175628afe76": {
      "model_module": "@jupyter-widgets/base",
      "model_module_version": "1.2.0",
      "model_name": "LayoutModel",
      "state": {
       "grid_area": "input",
       "width": "auto"
      }
     },
     "97c691d70cda42529e3044ffde6caac4": {
      "model_module": "@jupyter-widgets/output",
      "model_module_version": "1.0.0",
      "model_name": "OutputModel",
      "state": {
       "layout": "IPY_MODEL_a12c5466d6ad44eca0565c4b885bc0d9"
      }
     },
     "98283ff48bd546dfa8b22b4952613d50": {
      "model_module": "@jupyter-widgets/controls",
      "model_module_version": "1.5.0",
      "model_name": "LabelModel",
      "state": {
       "layout": "IPY_MODEL_61fb0a941e5e45cd9c1df85805c4a306",
       "style": "IPY_MODEL_f0466d386452481db17971c39e461d73"
      }
     },
     "9865e6e60d9e4ee78d23f2087621e200": {
      "model_module": "@jupyter-widgets/controls",
      "model_module_version": "1.5.0",
      "model_name": "DescriptionStyleModel",
      "state": {
       "description_width": ""
      }
     },
     "9a9ca93e344b435197288cb097929072": {
      "model_module": "@jupyter-widgets/controls",
      "model_module_version": "1.5.0",
      "model_name": "DescriptionStyleModel",
      "state": {
       "description_width": ""
      }
     },
     "9aca56380e1d4137bd85b2f503918753": {
      "model_module": "@jupyter-widgets/controls",
      "model_module_version": "1.5.0",
      "model_name": "DescriptionStyleModel",
      "state": {
       "description_width": ""
      }
     },
     "9beef5046e7045019f8972029966fee5": {
      "model_module": "@jupyter-widgets/base",
      "model_module_version": "1.2.0",
      "model_name": "LayoutModel",
      "state": {
       "grid_area": "input",
       "width": "auto"
      }
     },
     "9cc6877cf601485cbd3e2ba15ca26252": {
      "model_module": "@jupyter-widgets/base",
      "model_module_version": "1.2.0",
      "model_name": "LayoutModel",
      "state": {
       "grid_area": "label",
       "width": "auto"
      }
     },
     "9d8c626646aa4c478399cb8e23f7a42a": {
      "model_module": "@jupyter-widgets/output",
      "model_module_version": "1.0.0",
      "model_name": "OutputModel",
      "state": {
       "layout": "IPY_MODEL_d1313cad870f45d2925c55a3f40e6bc5"
      }
     },
     "9e4239f952b647d180c5dc7f81bbb394": {
      "model_module": "@jupyter-widgets/controls",
      "model_module_version": "1.5.0",
      "model_name": "ButtonModel",
      "state": {
       "_dom_classes": [
        "hidden"
       ],
       "description": "Run",
       "layout": "IPY_MODEL_fb522f674bd346618d4f8019b60846ee",
       "style": "IPY_MODEL_57cbaa4f461e4b39b96b948372db7014"
      }
     },
     "9f811ffb52b04dd6b5f92e7a16b97547": {
      "model_module": "@jupyter-widgets/base",
      "model_module_version": "1.2.0",
      "model_name": "LayoutModel",
      "state": {
       "grid_area": "description",
       "width": "auto"
      }
     },
     "9f854550c6c1452abf4334263a69d6a6": {
      "model_module": "@jupyter-widgets/controls",
      "model_module_version": "1.5.0",
      "model_name": "GridBoxModel",
      "state": {
       "_dom_classes": [
        "nbtools-input",
        "nbtools-passwordinput",
        "required"
       ],
       "children": [
        "IPY_MODEL_11aef03ec0ef4fc7a411bd4077eb1ec1",
        "IPY_MODEL_e0f7410ed1aa4808be653358c4e0614a",
        "IPY_MODEL_155d9250d1fc4f72bf3fc536a929a757"
       ],
       "layout": "IPY_MODEL_232ca3bfa02847918417c5b9b9de84f5"
      }
     },
     "9f8ceb6c702c47d5b890202325576bdc": {
      "model_module": "@jupyter-widgets/base",
      "model_module_version": "1.2.0",
      "model_name": "LayoutModel",
      "state": {}
     },
     "9fdb4e0de3584f67a5725a95fd416f7d": {
      "model_module": "@jupyter-widgets/base",
      "model_module_version": "1.2.0",
      "model_name": "LayoutModel",
      "state": {
       "grid_area": "input",
       "width": "auto"
      }
     },
     "a09b6e38b0ab4327817458863b4738f5": {
      "model_module": "@jupyter-widgets/controls",
      "model_module_version": "1.5.0",
      "model_name": "DescriptionStyleModel",
      "state": {
       "description_width": ""
      }
     },
     "a0a6ed1c9f824d51add58d60b79b9c85": {
      "model_module": "@jupyter-widgets/base",
      "model_module_version": "1.2.0",
      "model_name": "LayoutModel",
      "state": {
       "grid_area": "input",
       "width": "auto"
      }
     },
     "a0f03e89702746dea0c88a344cf6410d": {
      "model_module": "@jupyter-widgets/controls",
      "model_module_version": "1.5.0",
      "model_name": "DescriptionStyleModel",
      "state": {
       "description_width": ""
      }
     },
     "a0fb0a7aaedb45048ca7e373c06dab17": {
      "model_module": "@jupyter-widgets/base",
      "model_module_version": "1.2.0",
      "model_name": "LayoutModel",
      "state": {
       "grid_area": "description",
       "width": "auto"
      }
     },
     "a1061f22a2804466aa1b835fe9a2b9aa": {
      "model_module": "@jupyter-widgets/controls",
      "model_module_version": "1.5.0",
      "model_name": "DescriptionStyleModel",
      "state": {
       "description_width": ""
      }
     },
     "a12c5466d6ad44eca0565c4b885bc0d9": {
      "model_module": "@jupyter-widgets/base",
      "model_module_version": "1.2.0",
      "model_name": "LayoutModel",
      "state": {}
     },
     "a160e98f96ed460189fdd4a26c773112": {
      "model_module": "@jupyter-widgets/base",
      "model_module_version": "1.2.0",
      "model_name": "LayoutModel",
      "state": {
       "grid_area": "description",
       "width": "auto"
      }
     },
     "a1cca3bd84e64d528db62a600f10c1ee": {
      "model_module": "@jupyter-widgets/controls",
      "model_module_version": "1.5.0",
      "model_name": "LabelModel",
      "state": {
       "description": "Password",
       "layout": "IPY_MODEL_0ec786b65fd945db8e385aab658c3f0f",
       "style": "IPY_MODEL_0067b93c8802473d84d52915e63ccb15",
       "value": "Password*"
      }
     },
     "a1eae48324ea448ca2d7f64a36bc7f64": {
      "model_module": "@jupyter-widgets/base",
      "model_module_version": "1.2.0",
      "model_name": "LayoutModel",
      "state": {
       "grid_area": "label",
       "width": "auto"
      }
     },
     "a2d87b42f9814d79a8413cf4eefe92a5": {
      "model_module": "@jupyter-widgets/controls",
      "model_module_version": "1.5.0",
      "model_name": "ButtonModel",
      "state": {
       "_dom_classes": [
        "hidden"
       ],
       "description": "Run",
       "layout": "IPY_MODEL_2f638d0aef1f4d3fab9038e2162596a0",
       "style": "IPY_MODEL_86c810e09883412eb1cb8f2697e61fa0"
      }
     },
     "a307a37a3e0d4966885ea43aa7e4b18c": {
      "model_module": "@jupyter-widgets/controls",
      "model_module_version": "1.5.0",
      "model_name": "DescriptionStyleModel",
      "state": {
       "description_width": ""
      }
     },
     "a3865d40089646c199b3af1907e60ccc": {
      "model_module": "@jupyter-widgets/controls",
      "model_module_version": "1.5.0",
      "model_name": "TextModel",
      "state": {
       "_dom_classes": [
        "nbtools-menu-attached"
       ],
       "layout": "IPY_MODEL_4b2d5c7d8f444668a313242a6516fbab",
       "style": "IPY_MODEL_681d48fee2bc4786b743849510a91ecd"
      }
     },
     "a38a1eda654b4be897040fa3f61c725e": {
      "model_module": "@jupyter-widgets/controls",
      "model_module_version": "1.5.0",
      "model_name": "LabelModel",
      "state": {
       "layout": "IPY_MODEL_c860d527ea324a86a51256b8aef9e000",
       "style": "IPY_MODEL_43e808bb14864f02a2ed9e9a7c103295"
      }
     },
     "a3d193fe6aa944ba84aeb09dc5cb13ef": {
      "model_module": "@jupyter-widgets/base",
      "model_module_version": "1.2.0",
      "model_name": "LayoutModel",
      "state": {
       "grid_area": "description",
       "width": "auto"
      }
     },
     "a4ee8c8722094a0fb673fb3eeced92ad": {
      "model_module": "@jupyter-widgets/base",
      "model_module_version": "1.2.0",
      "model_name": "LayoutModel",
      "state": {}
     },
     "a535462e08634f76b229e9c03893dd8d": {
      "model_module": "@jupyter-widgets/base",
      "model_module_version": "1.2.0",
      "model_name": "LayoutModel",
      "state": {
       "grid_area": "label",
       "width": "auto"
      }
     },
     "a5d573955f4846669bc75198d36081c5": {
      "model_module": "@jupyter-widgets/controls",
      "model_module_version": "1.5.0",
      "model_name": "LabelModel",
      "state": {
       "layout": "IPY_MODEL_03ce5d8ff95445e0a3f66df501706d25",
       "style": "IPY_MODEL_9a9ca93e344b435197288cb097929072"
      }
     },
     "a6383e3ec85647c0bf4b6e1d7c1f31df": {
      "model_module": "@jupyter-widgets/base",
      "model_module_version": "1.2.0",
      "model_name": "LayoutModel",
      "state": {}
     },
     "a68bdd54410447669a877626808e1d46": {
      "model_module": "@jupyter-widgets/base",
      "model_module_version": "1.2.0",
      "model_name": "LayoutModel",
      "state": {
       "grid_area": "input",
       "width": "auto"
      }
     },
     "a6cebc318bce4ce6a9e296792cf8c116": {
      "model_module": "@jupyter-widgets/controls",
      "model_module_version": "1.5.0",
      "model_name": "DescriptionStyleModel",
      "state": {
       "description_width": ""
      }
     },
     "a73e3c3630b04d3ba6b6282d2420717a": {
      "model_module": "@jupyter-widgets/controls",
      "model_module_version": "1.5.0",
      "model_name": "ButtonStyleModel",
      "state": {}
     },
     "a7d77b13abc8494e9db91405a194797a": {
      "model_module": "@jupyter-widgets/base",
      "model_module_version": "1.2.0",
      "model_name": "LayoutModel",
      "state": {
       "grid_template_areas": "\n                    \"label input\"\n                    \". description\"\n                ",
       "grid_template_columns": "25% 75%",
       "grid_template_rows": "auto auto",
       "width": "100%"
      }
     },
     "a7e4f24257974ee3889151ffe8721824": {
      "model_module": "@jupyter-widgets/controls",
      "model_module_version": "1.5.0",
      "model_name": "DescriptionStyleModel",
      "state": {
       "description_width": ""
      }
     },
     "a7e5019cb4af4304a2cc37a73b9ed7bc": {
      "model_module": "@jupyter-widgets/controls",
      "model_module_version": "1.5.0",
      "model_name": "LabelModel",
      "state": {
       "layout": "IPY_MODEL_2903796618d64ac580b443257b17e09c",
       "style": "IPY_MODEL_164d76b4768e43e0b32c69ebf0398f0f"
      }
     },
     "a88cae92a3c4413c8bfb522d4a7081c9": {
      "model_module": "@jupyter-widgets/controls",
      "model_module_version": "1.5.0",
      "model_name": "LabelModel",
      "state": {
       "layout": "IPY_MODEL_aa03bff00d854b659d64b4111e4e525d",
       "style": "IPY_MODEL_d061bb17b37c4848bad0eedf16468858"
      }
     },
     "a8f197667c08495588002a7b7cafac72": {
      "model_module": "@jupyter-widgets/controls",
      "model_module_version": "1.5.0",
      "model_name": "LabelModel",
      "state": {
       "description": "Password",
       "layout": "IPY_MODEL_0254c920e92e488393f0140f1f682260",
       "style": "IPY_MODEL_bb5a7af953f042ab810e9d45e3d94588",
       "value": "Password*"
      }
     },
     "a9101712a94f4ba9b190c38f6e66375c": {
      "model_module": "@jupyter-widgets/controls",
      "model_module_version": "1.5.0",
      "model_name": "LabelModel",
      "state": {
       "description": "Username",
       "layout": "IPY_MODEL_b334280ebf5146919cd236c6d2954165",
       "style": "IPY_MODEL_7d71e1ab2d234eefae75b138c1546227",
       "value": "Username*"
      }
     },
     "aa03bff00d854b659d64b4111e4e525d": {
      "model_module": "@jupyter-widgets/base",
      "model_module_version": "1.2.0",
      "model_name": "LayoutModel",
      "state": {
       "grid_area": "description",
       "width": "auto"
      }
     },
     "aa5a5f9b032e4c508d28df7470206e56": {
      "model_module": "@jupyter-widgets/controls",
      "model_module_version": "1.5.0",
      "model_name": "ComboboxModel",
      "state": {
       "_dom_classes": [
        "nbtools-menu-attached",
        "nbtools-nosendto"
       ],
       "choices": {
        "Broad Internal": "https://gpbroad.broadinstitute.org/gp",
        "GenePattern Cloud": "https://cloud.genepattern.org/gp",
        "Indiana University": "https://gp.indiana.edu/gp"
       },
       "ensure_option": false,
       "kinds": [],
       "layout": "IPY_MODEL_9beef5046e7045019f8972029966fee5",
       "style": "IPY_MODEL_a09b6e38b0ab4327817458863b4738f5",
       "value": "https://cloud.genepattern.org/gp"
      }
     },
     "aa827e54c6b44beba102be26d5be4f43": {
      "model_module": "@jupyter-widgets/controls",
      "model_module_version": "1.5.0",
      "model_name": "DescriptionStyleModel",
      "state": {
       "description_width": ""
      }
     },
     "aadc687202cf409a962792f5a2ed32ae": {
      "model_module": "@jupyter-widgets/controls",
      "model_module_version": "1.5.0",
      "model_name": "LabelModel",
      "state": {
       "layout": "IPY_MODEL_5d0f5f65c0a341d9bf3e130484935faa",
       "style": "IPY_MODEL_f47bd817c24640c68d11c8095eec3c8e"
      }
     },
     "ab69ecc431604f9b9472db705f9c5e77": {
      "model_module": "@jupyter-widgets/controls",
      "model_module_version": "1.5.0",
      "model_name": "ButtonModel",
      "state": {
       "_dom_classes": [
        "hidden"
       ],
       "description": "Run",
       "layout": "IPY_MODEL_e5251eeb2450498fb2a6ab263e0e4286",
       "style": "IPY_MODEL_b7e25b1930f54238abde154c77b55ef5"
      }
     },
     "abee2214022542f3acbb6f61d8d54d4a": {
      "model_module": "@jupyter-widgets/controls",
      "model_module_version": "1.5.0",
      "model_name": "LabelModel",
      "state": {
       "description": "GenePattern Server",
       "layout": "IPY_MODEL_b2682e2017ce4eda81b4333931d4d79f",
       "style": "IPY_MODEL_7453f3d620104a47a0d29bc86dc09cfc",
       "value": "GenePattern Server*"
      }
     },
     "ac52e6f3c75d4cc1a7cfc1583cff5df4": {
      "model_module": "@jupyter-widgets/controls",
      "model_module_version": "1.5.0",
      "model_name": "DescriptionStyleModel",
      "state": {
       "description_width": ""
      }
     },
     "acbcaafaacaf49599503d2fcdfe2fecc": {
      "model_module": "@jupyter-widgets/base",
      "model_module_version": "1.2.0",
      "model_name": "LayoutModel",
      "state": {
       "grid_area": "input",
       "width": "auto"
      }
     },
     "adc58d85bb9d486392ce502d194dbfce": {
      "model_module": "@jupyter-widgets/controls",
      "model_module_version": "1.5.0",
      "model_name": "ComboboxModel",
      "state": {
       "_dom_classes": [
        "nbtools-menu-attached",
        "nbtools-nosendto"
       ],
       "choices": {
        "Broad Internal": "https://gpbroad.broadinstitute.org/gp",
        "GenePattern Cloud": "https://cloud.genepattern.org/gp",
        "Indiana University": "https://gp.indiana.edu/gp"
       },
       "ensure_option": false,
       "kinds": [],
       "layout": "IPY_MODEL_3572adf213ec4dc49689ce1e539ef444",
       "style": "IPY_MODEL_d3fb66997ab04e5287d216e2b6ff9579",
       "value": "https://cloud.genepattern.org/gp"
      }
     },
     "adf7f18f24fc40da9f9e68923786c89a": {
      "model_module": "@jupyter-widgets/controls",
      "model_module_version": "1.5.0",
      "model_name": "GridBoxModel",
      "state": {
       "_dom_classes": [
        "nbtools-input",
        "nbtools-textinput"
       ],
       "children": [
        "IPY_MODEL_0c6da5362192482a91be516b5ec54fbb",
        "IPY_MODEL_6a60ee34517242d9b5a4dfa2ed43750d",
        "IPY_MODEL_a88cae92a3c4413c8bfb522d4a7081c9"
       ],
       "layout": "IPY_MODEL_58d1b1c92d7c4fcd9321a65c51efe784"
      }
     },
     "ae386423c20247db90ec472e82839eb6": {
      "model_module": "@jupyter-widgets/controls",
      "model_module_version": "1.5.0",
      "model_name": "ComboboxModel",
      "state": {
       "_dom_classes": [
        "nbtools-menu-attached",
        "nbtools-nosendto"
       ],
       "choices": {
        "Broad Internal": "https://gpbroad.broadinstitute.org/gp",
        "GenePattern Cloud": "https://cloud.genepattern.org/gp",
        "Indiana University": "https://gp.indiana.edu/gp"
       },
       "ensure_option": false,
       "kinds": [],
       "layout": "IPY_MODEL_8ef2bc02fa184345a6ba224ae6a4e235",
       "style": "IPY_MODEL_c733b2fd2a2742bfa342f6b353279820",
       "value": "https://cloud.genepattern.org/gp"
      }
     },
     "ae5c342e04d04b508317e816ca3e1467": {
      "model_module": "@jupyter-widgets/controls",
      "model_module_version": "1.5.0",
      "model_name": "GridBoxModel",
      "state": {
       "_dom_classes": [
        "nbtools-input",
        "nbtools-textinput"
       ],
       "children": [
        "IPY_MODEL_346d5811d31845a79ccb2c882e754873",
        "IPY_MODEL_2f024250ca9d4608b9e0c1e1e140fa6d",
        "IPY_MODEL_ef7379e840c646c2bedbb63cab661893"
       ],
       "layout": "IPY_MODEL_f53d209e5cc141a58a4d667b058b7cf9"
      }
     },
     "ae7d60d39fbf40379d5a92ffc67fc42f": {
      "model_module": "@jupyter-widgets/controls",
      "model_module_version": "1.5.0",
      "model_name": "DescriptionStyleModel",
      "state": {
       "description_width": ""
      }
     },
     "ae81fa498eee4109a6128dfadf8d4af9": {
      "model_module": "@jupyter-widgets/controls",
      "model_module_version": "1.5.0",
      "model_name": "GridBoxModel",
      "state": {
       "_dom_classes": [
        "nbtools-input",
        "nbtools-comboinput",
        "required"
       ],
       "children": [
        "IPY_MODEL_09b5c6f7bf074931a2ba532b76c28f7e",
        "IPY_MODEL_7dac033906d34738ae342e06f5e038ba",
        "IPY_MODEL_69310414f990470899ae96d2eee4dd5d"
       ],
       "layout": "IPY_MODEL_84275ec7f2974512b04766c72fb4b9cf"
      }
     },
     "ae86d851c52c4d5a9c9be9501eafd1a4": {
      "model_module": "@jupyter-widgets/controls",
      "model_module_version": "1.5.0",
      "model_name": "VBoxModel",
      "state": {
       "_dom_classes": [
        "widget-interact"
       ],
       "children": [
        "IPY_MODEL_2c9a76efa4d340afa527a92e229691bc",
        "IPY_MODEL_9d8c626646aa4c478399cb8e23f7a42a"
       ],
       "layout": "IPY_MODEL_75c7e76309b34f07a47331c0e2128f27"
      }
     },
     "ae9124c91b1a4477837b6ad8a6ea1839": {
      "model_module": "@jupyter-widgets/controls",
      "model_module_version": "1.5.0",
      "model_name": "DescriptionStyleModel",
      "state": {
       "description_width": ""
      }
     },
     "aebd1e7af29c449eb9530f0279e4c942": {
      "model_module": "@jupyter-widgets/base",
      "model_module_version": "1.2.0",
      "model_name": "LayoutModel",
      "state": {}
     },
     "aebfbc15942940498242b6b80ef5d1a1": {
      "model_module": "@jupyter-widgets/controls",
      "model_module_version": "1.5.0",
      "model_name": "VBoxModel",
      "state": {
       "_dom_classes": [
        "widget-interact"
       ],
       "children": [
        "IPY_MODEL_e00b0b802a454fd9b4ca1caca99dcdde",
        "IPY_MODEL_e930271ced5c47878b612e82c74d77a1",
        "IPY_MODEL_190ece92877a4514a49a2d6f8c9712ad",
        "IPY_MODEL_4c171ac187734478adade69443cb0e92",
        "IPY_MODEL_3e32fdc54a0a4ba09f4677980ccfa2ed"
       ],
       "layout": "IPY_MODEL_e0d19f1716f545f289ed67b7bf89ab12"
      }
     },
     "af109ad121184bfc8bf4da82dc6aede8": {
      "model_module": "@jupyter-widgets/base",
      "model_module_version": "1.2.0",
      "model_name": "LayoutModel",
      "state": {
       "grid_area": "input",
       "width": "auto"
      }
     },
     "af686488831b4e18bae4bcefb54e79bc": {
      "model_module": "@jupyter-widgets/controls",
      "model_module_version": "1.5.0",
      "model_name": "TextModel",
      "state": {
       "_dom_classes": [
        "nbtools-menu-attached"
       ],
       "layout": "IPY_MODEL_964d2c0ac4fb4bc0918fc175628afe76",
       "style": "IPY_MODEL_ac52e6f3c75d4cc1a7cfc1583cff5df4"
      }
     },
     "b05484fc9a5b435cb6b716b2ff865748": {
      "model_module": "@jupyter-widgets/controls",
      "model_module_version": "1.5.0",
      "model_name": "LabelModel",
      "state": {
       "description": "output variable",
       "layout": "IPY_MODEL_dd20887c1539417b8431d4ce1764b58c",
       "style": "IPY_MODEL_fe8e490bc3704e018ccff25f540c1868",
       "value": "output variable"
      }
     },
     "b1845d6ed7f040f18fbac9d6ae1f1e5a": {
      "model_module": "@jupyter-widgets/base",
      "model_module_version": "1.2.0",
      "model_name": "LayoutModel",
      "state": {}
     },
     "b22627cf6d874cc8830d0c9f221f8c10": {
      "model_module": "@jupyter-widgets/controls",
      "model_module_version": "1.5.0",
      "model_name": "LabelModel",
      "state": {
       "layout": "IPY_MODEL_9182cf95fdde42749102faeb5fb8ac23",
       "style": "IPY_MODEL_f0cc145ddac34b3eb43c709fe0368041"
      }
     },
     "b2682e2017ce4eda81b4333931d4d79f": {
      "model_module": "@jupyter-widgets/base",
      "model_module_version": "1.2.0",
      "model_name": "LayoutModel",
      "state": {
       "grid_area": "label",
       "width": "auto"
      }
     },
     "b334280ebf5146919cd236c6d2954165": {
      "model_module": "@jupyter-widgets/base",
      "model_module_version": "1.2.0",
      "model_name": "LayoutModel",
      "state": {
       "grid_area": "label",
       "width": "auto"
      }
     },
     "b38ad40be6284b29af72536b2aacc9ba": {
      "model_module": "@jupyter-widgets/controls",
      "model_module_version": "1.5.0",
      "model_name": "DescriptionStyleModel",
      "state": {
       "description_width": ""
      }
     },
     "b3bc9ec3a5c24050a96ebe950948e3dc": {
      "model_module": "@jupyter-widgets/controls",
      "model_module_version": "1.5.0",
      "model_name": "TextModel",
      "state": {
       "_dom_classes": [
        "nbtools-menu-attached"
       ],
       "layout": "IPY_MODEL_0b227439a7d546de87e45b833bf188e1",
       "style": "IPY_MODEL_78f77055a5c74293806e5dc0cd6e76ad"
      }
     },
     "b400997148a14d95ac9b61d60b81b02b": {
      "model_module": "@jupyter-widgets/base",
      "model_module_version": "1.2.0",
      "model_name": "LayoutModel",
      "state": {
       "grid_area": "description",
       "width": "auto"
      }
     },
     "b4238c34172743a6a7f42f6bfcf7f3cf": {
      "model_module": "@jupyter-widgets/base",
      "model_module_version": "1.2.0",
      "model_name": "LayoutModel",
      "state": {
       "grid_area": "description",
       "width": "auto"
      }
     },
     "b55d2eb3cf8a4018bd7f96b288740b74": {
      "model_module": "@jupyter-widgets/controls",
      "model_module_version": "1.5.0",
      "model_name": "DescriptionStyleModel",
      "state": {
       "description_width": ""
      }
     },
     "b57d7cb0857e4394ade5f9a160a59f68": {
      "model_module": "@jupyter-widgets/controls",
      "model_module_version": "1.5.0",
      "model_name": "TextModel",
      "state": {
       "_dom_classes": [
        "nbtools-menu-attached"
       ],
       "layout": "IPY_MODEL_010dc7487d8a43838bf05dc1f4417351",
       "style": "IPY_MODEL_6e7bcd643f17417fab2349a26cad490d"
      }
     },
     "b60034d5f0364dbf99f57912a6d8c84c": {
      "model_module": "@jupyter-widgets/base",
      "model_module_version": "1.2.0",
      "model_name": "LayoutModel",
      "state": {
       "grid_area": "label",
       "width": "auto"
      }
     },
     "b6509e20060c4fdb96fc49a521838008": {
      "model_module": "@jupyter-widgets/controls",
      "model_module_version": "1.5.0",
      "model_name": "GridBoxModel",
      "state": {
       "_dom_classes": [
        "nbtools-input",
        "nbtools-passwordinput",
        "required"
       ],
       "children": [
        "IPY_MODEL_a8f197667c08495588002a7b7cafac72",
        "IPY_MODEL_94d2484af8a54e3aaa12019110aba74a",
        "IPY_MODEL_b71c964224754c5592ebe8f0c468383b"
       ],
       "layout": "IPY_MODEL_1b3b39ee13e54e2ca47896ff28719188"
      }
     },
     "b681988f20ad4f669b4697bf513b7567": {
      "model_module": "@jupyter-widgets/controls",
      "model_module_version": "1.5.0",
      "model_name": "LabelModel",
      "state": {
       "description": "Username",
       "layout": "IPY_MODEL_257a9c6289524c398d02e1c5d6baea87",
       "style": "IPY_MODEL_6abcd160dce747c2826e290c991a2482",
       "value": "Username*"
      }
     },
     "b686e617ab864784bf44482e3f49784b": {
      "model_module": "@jupyter-widgets/controls",
      "model_module_version": "1.5.0",
      "model_name": "GridBoxModel",
      "state": {
       "_dom_classes": [
        "nbtools-input",
        "nbtools-textinput"
       ],
       "children": [
        "IPY_MODEL_5fe90d052ccd4109960fef936f93e3c0",
        "IPY_MODEL_df97c9051c2949e48458072a2365d46d",
        "IPY_MODEL_2dbf59c81cf34a63a5ab544a3903dc6a"
       ],
       "layout": "IPY_MODEL_41f7a7c4218b437b9f183544036baff8"
      }
     },
     "b6ca1a88c4c6447aaa8c2c66fb21e775": {
      "model_module": "@jupyter-widgets/controls",
      "model_module_version": "1.5.0",
      "model_name": "LabelModel",
      "state": {
       "layout": "IPY_MODEL_cdaaf78b9e344bdb85a1d69781cf496e",
       "style": "IPY_MODEL_90859fa434864c36a8a9ca17cc47107b"
      }
     },
     "b71c964224754c5592ebe8f0c468383b": {
      "model_module": "@jupyter-widgets/controls",
      "model_module_version": "1.5.0",
      "model_name": "LabelModel",
      "state": {
       "layout": "IPY_MODEL_3ac9680e34b9404996bf9e2c8d0a4d2b",
       "style": "IPY_MODEL_c8fa224cb098458eb22dab0c5b3f9ca6"
      }
     },
     "b765f17c3e7345ecb8741cfd17107786": {
      "model_module": "@jupyter-widgets/controls",
      "model_module_version": "1.5.0",
      "model_name": "ButtonModel",
      "state": {
       "_dom_classes": [
        "hidden"
       ],
       "description": "Run",
       "layout": "IPY_MODEL_d96fd66da8794a799f250601525234cf",
       "style": "IPY_MODEL_5b76fe0ae5f04201854292cbda624d55"
      }
     },
     "b7e25b1930f54238abde154c77b55ef5": {
      "model_module": "@jupyter-widgets/controls",
      "model_module_version": "1.5.0",
      "model_name": "ButtonStyleModel",
      "state": {}
     },
     "ba3f4746d21c48e98505ba4704163752": {
      "model_module": "@jupyter-widgets/controls",
      "model_module_version": "1.5.0",
      "model_name": "ButtonStyleModel",
      "state": {}
     },
     "bb4cabb84ac049178e75209d440e3481": {
      "model_module": "@jupyter-widgets/controls",
      "model_module_version": "1.5.0",
      "model_name": "LabelModel",
      "state": {
       "layout": "IPY_MODEL_6c5d79f7639f4d5eb30dfcd71785f80b",
       "style": "IPY_MODEL_28ac95ad5f284781a394afee5c7153ad"
      }
     },
     "bb5a7af953f042ab810e9d45e3d94588": {
      "model_module": "@jupyter-widgets/controls",
      "model_module_version": "1.5.0",
      "model_name": "DescriptionStyleModel",
      "state": {
       "description_width": ""
      }
     },
     "bb6d42215b1c495c860252422e9f3211": {
      "model_module": "@jupyter-widgets/base",
      "model_module_version": "1.2.0",
      "model_name": "LayoutModel",
      "state": {
       "grid_template_areas": "\n                    \"label input\"\n                    \". description\"\n                ",
       "grid_template_columns": "25% 75%",
       "grid_template_rows": "auto auto",
       "width": "100%"
      }
     },
     "bbc687ca4ff24b1ea39ccc804a4a003f": {
      "model_module": "@jupyter-widgets/controls",
      "model_module_version": "1.5.0",
      "model_name": "TextModel",
      "state": {
       "_dom_classes": [
        "nbtools-menu-attached"
       ],
       "layout": "IPY_MODEL_23fcd5a417e14d3f9c359d32b7e83a68",
       "style": "IPY_MODEL_261c19aaba8d499d9c0acb35f3ccc763"
      }
     },
     "bbe792e89f1440de9cad6ff61dc37f6d": {
      "model_module": "@jupyter-widgets/controls",
      "model_module_version": "1.5.0",
      "model_name": "GridBoxModel",
      "state": {
       "_dom_classes": [
        "nbtools-input",
        "nbtools-textinput"
       ],
       "children": [
        "IPY_MODEL_d4e062e13ce04d7eae7814ccb3435a2f",
        "IPY_MODEL_e401a735f2184fce99a6739a1bf26929",
        "IPY_MODEL_effa2c026c9144edbe084074c0aea68f"
       ],
       "layout": "IPY_MODEL_bc3c2008f2124040acb073c832561fe9"
      }
     },
     "bc3c2008f2124040acb073c832561fe9": {
      "model_module": "@jupyter-widgets/base",
      "model_module_version": "1.2.0",
      "model_name": "LayoutModel",
      "state": {
       "display": "none",
       "grid_template_areas": "\n                    \"label input\"\n                    \". description\"\n                ",
       "grid_template_columns": "25% 75%",
       "grid_template_rows": "auto auto",
       "width": "100%"
      }
     },
     "bc8d8ce0962a430bb1a586bdd8fd4f37": {
      "model_module": "@jupyter-widgets/output",
      "model_module_version": "1.0.0",
      "model_name": "OutputModel",
      "state": {
       "layout": "IPY_MODEL_3df9569665284621b2e6a2d43446c552"
      }
     },
     "bf53db38cbc14f86bf679b202fa1c0e1": {
      "model_module": "@jupyter-widgets/controls",
      "model_module_version": "1.5.0",
      "model_name": "DescriptionStyleModel",
      "state": {
       "description_width": ""
      }
     },
     "c01596d90ab14742a741a2f16ee346d2": {
      "model_module": "@jupyter-widgets/base",
      "model_module_version": "1.2.0",
      "model_name": "LayoutModel",
      "state": {
       "grid_area": "label",
       "width": "auto"
      }
     },
     "c03dc0052eba4e5bbf52827a3a8f2203": {
      "model_module": "@jupyter-widgets/base",
      "model_module_version": "1.2.0",
      "model_name": "LayoutModel",
      "state": {
       "grid_area": "input",
       "width": "auto"
      }
     },
     "c2f091bfefca40ba9fc937d6b3e95647": {
      "model_module": "@jupyter-widgets/controls",
      "model_module_version": "1.5.0",
      "model_name": "ButtonModel",
      "state": {
       "_dom_classes": [
        "hidden"
       ],
       "description": "Run",
       "layout": "IPY_MODEL_938a88230322499bbf3cddd085356442",
       "style": "IPY_MODEL_1c6aff079abd46599b3052f79fe2a3c5"
      }
     },
     "c6243b9afafa4c5d9216e4adba8b2742": {
      "model_module": "@jupyter-widgets/controls",
      "model_module_version": "1.5.0",
      "model_name": "DescriptionStyleModel",
      "state": {
       "description_width": ""
      }
     },
     "c63f0c1680254ea69e93c8bb85f44b13": {
      "model_module": "@jupyter-widgets/base",
      "model_module_version": "1.2.0",
      "model_name": "LayoutModel",
      "state": {
       "grid_template_areas": "\n                    \"label input\"\n                    \". description\"\n                ",
       "grid_template_columns": "25% 75%",
       "grid_template_rows": "auto auto",
       "width": "100%"
      }
     },
     "c690e16b8e4c47869615e87462a5a49d": {
      "model_module": "@jupyter-widgets/base",
      "model_module_version": "1.2.0",
      "model_name": "LayoutModel",
      "state": {}
     },
     "c6f129a314a449ac8403952f51add289": {
      "model_module": "@jupyter-widgets/controls",
      "model_module_version": "1.5.0",
      "model_name": "DescriptionStyleModel",
      "state": {
       "description_width": ""
      }
     },
     "c72040c741e64bb791590b77fffff510": {
      "model_module": "@jupyter-widgets/controls",
      "model_module_version": "1.5.0",
      "model_name": "GridBoxModel",
      "state": {
       "_dom_classes": [
        "nbtools-input",
        "nbtools-textinput"
       ],
       "children": [
        "IPY_MODEL_61147dbd320941188b19a54132485d26",
        "IPY_MODEL_af686488831b4e18bae4bcefb54e79bc",
        "IPY_MODEL_e3ce11c139bc431b967d5423e70d5d10"
       ],
       "layout": "IPY_MODEL_f078ae7a9f88405ca84c5d696e699312"
      }
     },
     "c733b2fd2a2742bfa342f6b353279820": {
      "model_module": "@jupyter-widgets/controls",
      "model_module_version": "1.5.0",
      "model_name": "DescriptionStyleModel",
      "state": {
       "description_width": ""
      }
     },
     "c8163b8504094c438250210babe6c35d": {
      "model_module": "@jupyter-widgets/controls",
      "model_module_version": "1.5.0",
      "model_name": "PasswordModel",
      "state": {
       "layout": "IPY_MODEL_8a5ac2e1e09e45d4bce095f910c48588",
       "style": "IPY_MODEL_ca8656e53b5d45eaa833e7742daef266"
      }
     },
     "c860d527ea324a86a51256b8aef9e000": {
      "model_module": "@jupyter-widgets/base",
      "model_module_version": "1.2.0",
      "model_name": "LayoutModel",
      "state": {
       "grid_area": "description",
       "width": "auto"
      }
     },
     "c880328e8aa44f14b3bf45d88a236ed0": {
      "model_module": "@jupyter-widgets/base",
      "model_module_version": "1.2.0",
      "model_name": "LayoutModel",
      "state": {
       "grid_area": "label",
       "width": "auto"
      }
     },
     "c8a5aa2fe1694351a3c323c5596651be": {
      "model_module": "@jupyter-widgets/base",
      "model_module_version": "1.2.0",
      "model_name": "LayoutModel",
      "state": {}
     },
     "c8fa224cb098458eb22dab0c5b3f9ca6": {
      "model_module": "@jupyter-widgets/controls",
      "model_module_version": "1.5.0",
      "model_name": "DescriptionStyleModel",
      "state": {
       "description_width": ""
      }
     },
     "c90637005b4745158a456fa04a15094b": {
      "model_module": "@jupyter-widgets/controls",
      "model_module_version": "1.5.0",
      "model_name": "DescriptionStyleModel",
      "state": {
       "description_width": ""
      }
     },
     "c9aec54ff22241fca03d8bf669899c89": {
      "model_module": "@jupyter-widgets/base",
      "model_module_version": "1.2.0",
      "model_name": "LayoutModel",
      "state": {
       "grid_area": "description",
       "width": "auto"
      }
     },
     "c9c46c03e9a34c90bd6f70bf59151838": {
      "model_module": "@jupyter-widgets/controls",
      "model_module_version": "1.5.0",
      "model_name": "LabelModel",
      "state": {
       "layout": "IPY_MODEL_0350492b891d4773a41dc95d73ddcdb3",
       "style": "IPY_MODEL_50eab0b2b12645c080d408c6271ed70f"
      }
     },
     "ca28aa2ea0b3439fa902e31875764f4b": {
      "model_module": "@jupyter-widgets/base",
      "model_module_version": "1.2.0",
      "model_name": "LayoutModel",
      "state": {}
     },
     "ca471b66aec34a5385cdb627ac1beaac": {
      "model_module": "@jupyter-widgets/controls",
      "model_module_version": "1.5.0",
      "model_name": "GridBoxModel",
      "state": {
       "_dom_classes": [
        "nbtools-input",
        "nbtools-textinput"
       ],
       "children": [
        "IPY_MODEL_b05484fc9a5b435cb6b716b2ff865748",
        "IPY_MODEL_bbc687ca4ff24b1ea39ccc804a4a003f",
        "IPY_MODEL_7591e203f6134928bccd29ae411553c0"
       ],
       "layout": "IPY_MODEL_272d89f50f784ad58923cd1b14efee39"
      }
     },
     "ca849a3212b446dfa81e0035cf847114": {
      "model_module": "@jupyter-widgets/controls",
      "model_module_version": "1.5.0",
      "model_name": "LabelModel",
      "state": {
       "description": "Email",
       "layout": "IPY_MODEL_7063a28c9ef94ceea24a3eadb658510b",
       "style": "IPY_MODEL_19e04c3abbfd4304ba2dfe45bf31b532",
       "value": "Email*"
      }
     },
     "ca8656e53b5d45eaa833e7742daef266": {
      "model_module": "@jupyter-widgets/controls",
      "model_module_version": "1.5.0",
      "model_name": "DescriptionStyleModel",
      "state": {
       "description_width": ""
      }
     },
     "cb15cfb191794eec8c5ba7d25fecef20": {
      "model_module": "@jupyter-widgets/controls",
      "model_module_version": "1.5.0",
      "model_name": "LabelModel",
      "state": {
       "layout": "IPY_MODEL_b400997148a14d95ac9b61d60b81b02b",
       "style": "IPY_MODEL_0d8bf94ef1f54dab97bff80fbdbc1653"
      }
     },
     "cb6c976abd6c4ef3a558f29d16211aa6": {
      "model_module": "@jupyter-widgets/base",
      "model_module_version": "1.2.0",
      "model_name": "LayoutModel",
      "state": {
       "display": "none",
       "grid_template_areas": "\n                    \"label input\"\n                    \". description\"\n                ",
       "grid_template_columns": "25% 75%",
       "grid_template_rows": "auto auto",
       "width": "100%"
      }
     },
     "cda9d3e96d0f4a21bed1455a2686434f": {
      "model_module": "@jupyter-widgets/base",
      "model_module_version": "1.2.0",
      "model_name": "LayoutModel",
      "state": {}
     },
     "cdaaf78b9e344bdb85a1d69781cf496e": {
      "model_module": "@jupyter-widgets/base",
      "model_module_version": "1.2.0",
      "model_name": "LayoutModel",
      "state": {
       "grid_area": "description",
       "width": "auto"
      }
     },
     "ce879e3eb9cf465bbc64ffcafd94680c": {
      "model_module": "@jupyter-widgets/controls",
      "model_module_version": "1.5.0",
      "model_name": "ButtonModel",
      "state": {
       "_dom_classes": [
        "hidden"
       ],
       "description": "Run",
       "layout": "IPY_MODEL_16bcf54013584527953288ccb44221cc",
       "style": "IPY_MODEL_a73e3c3630b04d3ba6b6282d2420717a"
      }
     },
     "cf0c304cd4f9469a8293bf0607354c35": {
      "model_module": "@jupyter-widgets/base",
      "model_module_version": "1.2.0",
      "model_name": "LayoutModel",
      "state": {
       "grid_template_areas": "\n                    \"label input\"\n                    \". description\"\n                ",
       "grid_template_columns": "25% 75%",
       "grid_template_rows": "auto auto",
       "width": "100%"
      }
     },
     "cf915931e8d94b5480fbc254d780f7ee": {
      "model_module": "@jupyter-widgets/controls",
      "model_module_version": "1.5.0",
      "model_name": "VBoxModel",
      "state": {
       "_dom_classes": [
        "widget-interact"
       ],
       "children": [
        "IPY_MODEL_e9520e4b793045a78fe152d41e22c092",
        "IPY_MODEL_9187e1a1a22242e689727aaf632c47b1",
        "IPY_MODEL_3bca3173a1184cc1b88bcee14f1c2a6c",
        "IPY_MODEL_ce879e3eb9cf465bbc64ffcafd94680c",
        "IPY_MODEL_adf7f18f24fc40da9f9e68923786c89a"
       ],
       "layout": "IPY_MODEL_c8a5aa2fe1694351a3c323c5596651be"
      }
     },
     "d02a0bf935994b8f837dbda049b0930d": {
      "model_module": "@jupyter-widgets/controls",
      "model_module_version": "1.5.0",
      "model_name": "ButtonModel",
      "state": {
       "_dom_classes": [
        "hidden"
       ],
       "description": "Run",
       "layout": "IPY_MODEL_8fc9236f673f4ab2955eba7d6d172ecf",
       "style": "IPY_MODEL_f339337cf5664405865fa5127cf3d58d"
      }
     },
     "d061bb17b37c4848bad0eedf16468858": {
      "model_module": "@jupyter-widgets/controls",
      "model_module_version": "1.5.0",
      "model_name": "DescriptionStyleModel",
      "state": {
       "description_width": ""
      }
     },
     "d1313cad870f45d2925c55a3f40e6bc5": {
      "model_module": "@jupyter-widgets/base",
      "model_module_version": "1.2.0",
      "model_name": "LayoutModel",
      "state": {}
     },
     "d3fb66997ab04e5287d216e2b6ff9579": {
      "model_module": "@jupyter-widgets/controls",
      "model_module_version": "1.5.0",
      "model_name": "DescriptionStyleModel",
      "state": {
       "description_width": ""
      }
     },
     "d45ad0d8ad2e43b6bb53b6870890f7b7": {
      "model_module": "@jupyter-widgets/base",
      "model_module_version": "1.2.0",
      "model_name": "LayoutModel",
      "state": {
       "grid_area": "description",
       "width": "auto"
      }
     },
     "d463c1b894e942f49aba4436ab4d6a47": {
      "model_module": "@jupyter-widgets/controls",
      "model_module_version": "1.5.0",
      "model_name": "DescriptionStyleModel",
      "state": {
       "description_width": ""
      }
     },
     "d4bbef77e3bf48aba060b049d5c9f9a3": {
      "model_module": "@jupyter-widgets/controls",
      "model_module_version": "1.5.0",
      "model_name": "VBoxModel",
      "state": {
       "_dom_classes": [
        "widget-interact"
       ],
       "children": [
        "IPY_MODEL_b765f17c3e7345ecb8741cfd17107786",
        "IPY_MODEL_4abe5a36afcf48c4a8c42024b74e6cc5"
       ],
       "layout": "IPY_MODEL_ffb9cff23bb74e84921ed32dcbe39c78"
      }
     },
     "d4cff235f21a4d19ab924c988d5a80a1": {
      "model_module": "@jupyter-widgets/controls",
      "model_module_version": "1.5.0",
      "model_name": "DescriptionStyleModel",
      "state": {
       "description_width": ""
      }
     },
     "d4e062e13ce04d7eae7814ccb3435a2f": {
      "model_module": "@jupyter-widgets/controls",
      "model_module_version": "1.5.0",
      "model_name": "LabelModel",
      "state": {
       "description": "output variable",
       "layout": "IPY_MODEL_27f3f939f26045f890997305f0802c95",
       "style": "IPY_MODEL_a0f03e89702746dea0c88a344cf6410d",
       "value": "output variable"
      }
     },
     "d5a0ebef984d49e7904554cf377e9dec": {
      "model_module": "@jupyter-widgets/base",
      "model_module_version": "1.2.0",
      "model_name": "LayoutModel",
      "state": {
       "grid_template_areas": "\n                    \"label input\"\n                    \". description\"\n                ",
       "grid_template_columns": "25% 75%",
       "grid_template_rows": "auto auto",
       "width": "100%"
      }
     },
     "d66454cdc2d14996add0650051ab8b9a": {
      "model_module": "@jupyter-widgets/controls",
      "model_module_version": "1.5.0",
      "model_name": "ButtonStyleModel",
      "state": {}
     },
     "d7840d66cc344f72a2ba2abc1bed8761": {
      "model_module": "@genepattern/nbtools",
      "model_module_version": "^0.2.0",
      "model_name": "UIBuilderModel",
      "state": {
       "_dom_classes": [],
       "_model_module_version": "^0.2.0",
       "_parameters": [
        {
         "choices": {
          "Broad Internal": "https://gpbroad.broadinstitute.org/gp",
          "GenePattern Cloud": "https://cloud.genepattern.org/gp",
          "Indiana University": "https://gp.indiana.edu/gp"
         },
         "combo": true,
         "default": "https://cloud.genepattern.org/gp",
         "description": "",
         "events": null,
         "hide": false,
         "id": null,
         "kinds": null,
         "label": "GenePattern Server",
         "name": "server",
         "optional": false,
         "sendto": false,
         "type": "choice",
         "value": ""
        },
        {
         "choices": {},
         "default": "",
         "description": "",
         "events": null,
         "hide": false,
         "id": null,
         "kinds": null,
         "label": "Username",
         "name": "username",
         "optional": false,
         "sendto": false,
         "type": "text",
         "value": ""
        },
        {
         "choices": {},
         "default": "",
         "description": "",
         "events": null,
         "hide": false,
         "id": null,
         "kinds": null,
         "label": "Password",
         "name": "password",
         "optional": false,
         "sendto": false,
         "type": "password",
         "value": ""
        },
        {
         "choices": {},
         "default": "",
         "description": "",
         "events": null,
         "hide": true,
         "id": null,
         "kinds": null,
         "label": "output variable",
         "name": "output_var",
         "optional": true,
         "type": "text",
         "value": ""
        }
       ],
       "_view_count": null,
       "_view_module_version": "^0.2.0",
       "buttons": {
        "Register an Account": "\n    const target = event.target;\n    const widget = target.closest('.nbtools') || target;\n    const server_input = widget.querySelector('input[type=text]');\n    if (server_input) window.open(server_input.value + '/pages/registerUser.jsf');\n    else console.warn('Cannot obtain GenePattern Server URL');"
       },
       "collapse": false,
       "color": "rgba(10, 45, 105, 0.80)",
       "description": "Login to the GenePattern server",
       "display_header": false,
       "form": "IPY_MODEL_cf915931e8d94b5480fbc254d780f7ee",
       "layout": "IPY_MODEL_f5147ce1f44e45e7b3f8aa339671c5fb",
       "logo": "https://www.fedex.com/images/legacy/logo.png",
       "name": "Login",
       "origin": "Notebook",
       "output": "IPY_MODEL_6c514bf907a0450fa09e8d2ec4804b6e",
       "output_var": "",
       "run_label": "Log into GenePattern"
      }
     },
     "d96fd66da8794a799f250601525234cf": {
      "model_module": "@jupyter-widgets/base",
      "model_module_version": "1.2.0",
      "model_name": "LayoutModel",
      "state": {}
     },
     "dac22e28977d4b78b4278bfb9c605d64": {
      "model_module": "@jupyter-widgets/base",
      "model_module_version": "1.2.0",
      "model_name": "LayoutModel",
      "state": {}
     },
     "dae10eea0528453598163a99e435b101": {
      "model_module": "@jupyter-widgets/base",
      "model_module_version": "1.2.0",
      "model_name": "LayoutModel",
      "state": {
       "grid_area": "label",
       "width": "auto"
      }
     },
     "db3d62c891c746bebb58acac117a4527": {
      "model_module": "@jupyter-widgets/base",
      "model_module_version": "1.2.0",
      "model_name": "LayoutModel",
      "state": {
       "grid_area": "label",
       "width": "auto"
      }
     },
     "dbe99275f70847a0805c83d609d963cd": {
      "model_module": "@jupyter-widgets/controls",
      "model_module_version": "1.5.0",
      "model_name": "LabelModel",
      "state": {
       "description": "output variable",
       "layout": "IPY_MODEL_ffe0fd05bf664c598c3971aeab9e7852",
       "style": "IPY_MODEL_8cc8a5386eec4438a9451ecfc618515c",
       "value": "output variable"
      }
     },
     "dd20887c1539417b8431d4ce1764b58c": {
      "model_module": "@jupyter-widgets/base",
      "model_module_version": "1.2.0",
      "model_name": "LayoutModel",
      "state": {
       "grid_area": "label",
       "width": "auto"
      }
     },
     "dd9fa3089a624c82979a806948ca3321": {
      "model_module": "@jupyter-widgets/output",
      "model_module_version": "1.0.0",
      "model_name": "OutputModel",
      "state": {
       "layout": "IPY_MODEL_250fcd895e9148329f011f1114ed2e0e"
      }
     },
     "ddfecbdb53664d3fa47a0e8ef9453334": {
      "model_module": "@jupyter-widgets/base",
      "model_module_version": "1.2.0",
      "model_name": "LayoutModel",
      "state": {
       "grid_area": "label",
       "width": "auto"
      }
     },
     "dec2d2d7996c4b62b5ea50dedc2e44e3": {
      "model_module": "@jupyter-widgets/controls",
      "model_module_version": "1.5.0",
      "model_name": "DescriptionStyleModel",
      "state": {
       "description_width": ""
      }
     },
     "dee4a213b67c44fda23b8f37e9da221c": {
      "model_module": "@jupyter-widgets/controls",
      "model_module_version": "1.5.0",
      "model_name": "GridBoxModel",
      "state": {
       "_dom_classes": [
        "nbtools-input",
        "nbtools-textinput",
        "required"
       ],
       "children": [
        "IPY_MODEL_37a21c21d2dc4c6095f3515451066bc3",
        "IPY_MODEL_88af9e2da6694cb3bc4ff1a23b6f926b",
        "IPY_MODEL_cb15cfb191794eec8c5ba7d25fecef20"
       ],
       "layout": "IPY_MODEL_5f7bc1728ff34149a56df890092d986e"
      }
     },
     "df97c9051c2949e48458072a2365d46d": {
      "model_module": "@jupyter-widgets/controls",
      "model_module_version": "1.5.0",
      "model_name": "TextModel",
      "state": {
       "_dom_classes": [
        "nbtools-menu-attached"
       ],
       "layout": "IPY_MODEL_a68bdd54410447669a877626808e1d46",
       "style": "IPY_MODEL_59d02e83db2b4135aaeafd48b3d90974"
      }
     },
     "dfd3021bda8a4040ad3055155b905ede": {
      "model_module": "@jupyter-widgets/base",
      "model_module_version": "1.2.0",
      "model_name": "LayoutModel",
      "state": {
       "grid_area": "label",
       "width": "auto"
      }
     },
     "e00b0b802a454fd9b4ca1caca99dcdde": {
      "model_module": "@jupyter-widgets/controls",
      "model_module_version": "1.5.0",
      "model_name": "GridBoxModel",
      "state": {
       "_dom_classes": [
        "nbtools-input",
        "nbtools-comboinput",
        "required"
       ],
       "children": [
        "IPY_MODEL_3f3ac47bd0b34c86a267afd2ae67d29b",
        "IPY_MODEL_adc58d85bb9d486392ce502d194dbfce",
        "IPY_MODEL_bb4cabb84ac049178e75209d440e3481"
       ],
       "layout": "IPY_MODEL_84ec48bc74494e8084353089df310044"
      }
     },
     "e0d19f1716f545f289ed67b7bf89ab12": {
      "model_module": "@jupyter-widgets/base",
      "model_module_version": "1.2.0",
      "model_name": "LayoutModel",
      "state": {}
     },
     "e0e10b5e6a974cf7a55b836b96df7c56": {
      "model_module": "@jupyter-widgets/controls",
      "model_module_version": "1.5.0",
      "model_name": "TextModel",
      "state": {
       "_dom_classes": [
        "nbtools-menu-attached"
       ],
       "layout": "IPY_MODEL_43efccc3fb294812af09431029b9e3de",
       "style": "IPY_MODEL_4063602456b241109d420fbc9b083da6"
      }
     },
     "e0f7410ed1aa4808be653358c4e0614a": {
      "model_module": "@jupyter-widgets/controls",
      "model_module_version": "1.5.0",
      "model_name": "PasswordModel",
      "state": {
       "layout": "IPY_MODEL_31428926352c4932a6df91ddeb59443f",
       "style": "IPY_MODEL_ae7d60d39fbf40379d5a92ffc67fc42f"
      }
     },
     "e19b7a814f9c437cbe88f69939947867": {
      "model_module": "@jupyter-widgets/base",
      "model_module_version": "1.2.0",
      "model_name": "LayoutModel",
      "state": {}
     },
     "e3ce11c139bc431b967d5423e70d5d10": {
      "model_module": "@jupyter-widgets/controls",
      "model_module_version": "1.5.0",
      "model_name": "LabelModel",
      "state": {
       "layout": "IPY_MODEL_d45ad0d8ad2e43b6bb53b6870890f7b7",
       "style": "IPY_MODEL_8af569e40f5843818dec8d82f94a0493"
      }
     },
     "e401a735f2184fce99a6739a1bf26929": {
      "model_module": "@jupyter-widgets/controls",
      "model_module_version": "1.5.0",
      "model_name": "TextModel",
      "state": {
       "_dom_classes": [
        "nbtools-menu-attached"
       ],
       "layout": "IPY_MODEL_eae29723e905430ba0925b216d1471ea",
       "style": "IPY_MODEL_c6243b9afafa4c5d9216e4adba8b2742"
      }
     },
     "e50767011c354c91bb815855b71da9c9": {
      "model_module": "@jupyter-widgets/base",
      "model_module_version": "1.2.0",
      "model_name": "LayoutModel",
      "state": {
       "grid_area": "input",
       "width": "auto"
      }
     },
     "e5251eeb2450498fb2a6ab263e0e4286": {
      "model_module": "@jupyter-widgets/base",
      "model_module_version": "1.2.0",
      "model_name": "LayoutModel",
      "state": {}
     },
     "e56d6a16d777449eae69cbced16c52e0": {
      "model_module": "@jupyter-widgets/base",
      "model_module_version": "1.2.0",
      "model_name": "LayoutModel",
      "state": {
       "grid_area": "description",
       "width": "auto"
      }
     },
     "e59de3be51f14b8db3fc38fb590192f8": {
      "model_module": "@jupyter-widgets/base",
      "model_module_version": "1.2.0",
      "model_name": "LayoutModel",
      "state": {
       "grid_area": "description",
       "width": "auto"
      }
     },
     "e6267c99bcf1438898329bc4f464e9e2": {
      "model_module": "@jupyter-widgets/base",
      "model_module_version": "1.2.0",
      "model_name": "LayoutModel",
      "state": {}
     },
     "e68dbac6732f4ab3b4f9f0287b5477a9": {
      "model_module": "@jupyter-widgets/base",
      "model_module_version": "1.2.0",
      "model_name": "LayoutModel",
      "state": {}
     },
     "e74b664236e6440f9dfbae2d4bbeb596": {
      "model_module": "@jupyter-widgets/base",
      "model_module_version": "1.2.0",
      "model_name": "LayoutModel",
      "state": {
       "display": "none",
       "grid_template_areas": "\n                    \"label input\"\n                    \". description\"\n                ",
       "grid_template_columns": "25% 75%",
       "grid_template_rows": "auto auto",
       "width": "100%"
      }
     },
     "e7abc90340d2431890f454d64e2ba736": {
      "model_module": "@jupyter-widgets/output",
      "model_module_version": "1.0.0",
      "model_name": "OutputModel",
      "state": {
       "layout": "IPY_MODEL_e68dbac6732f4ab3b4f9f0287b5477a9"
      }
     },
     "e86615a22f064c5081e62bea237b1713": {
      "model_module": "@jupyter-widgets/base",
      "model_module_version": "1.2.0",
      "model_name": "LayoutModel",
      "state": {}
     },
     "e930271ced5c47878b612e82c74d77a1": {
      "model_module": "@jupyter-widgets/controls",
      "model_module_version": "1.5.0",
      "model_name": "GridBoxModel",
      "state": {
       "_dom_classes": [
        "nbtools-input",
        "nbtools-textinput",
        "required"
       ],
       "children": [
        "IPY_MODEL_b681988f20ad4f669b4697bf513b7567",
        "IPY_MODEL_f4291c16e7a6400d9f408ac2703ed0fd",
        "IPY_MODEL_b22627cf6d874cc8830d0c9f221f8c10"
       ],
       "layout": "IPY_MODEL_091559c0bc334c2ebf1a8c61ad4aebc8"
      }
     },
     "e9520e4b793045a78fe152d41e22c092": {
      "model_module": "@jupyter-widgets/controls",
      "model_module_version": "1.5.0",
      "model_name": "GridBoxModel",
      "state": {
       "_dom_classes": [
        "nbtools-input",
        "nbtools-comboinput",
        "required"
       ],
       "children": [
        "IPY_MODEL_abee2214022542f3acbb6f61d8d54d4a",
        "IPY_MODEL_723309a508fe420597e58eac659ef1f4",
        "IPY_MODEL_a38a1eda654b4be897040fa3f61c725e"
       ],
       "layout": "IPY_MODEL_32dd79208877466f9ff2ea4b18bc923d"
      }
     },
     "e9d2b23765a8435ba9e3e8af7a1509c6": {
      "model_module": "@jupyter-widgets/base",
      "model_module_version": "1.2.0",
      "model_name": "LayoutModel",
      "state": {}
     },
     "ea33fe4133e7490bb5895bed767d7728": {
      "model_module": "@jupyter-widgets/base",
      "model_module_version": "1.2.0",
      "model_name": "LayoutModel",
      "state": {
       "display": "none",
       "grid_template_areas": "\n                    \"label input\"\n                    \". description\"\n                ",
       "grid_template_columns": "25% 75%",
       "grid_template_rows": "auto auto",
       "width": "100%"
      }
     },
     "eae29723e905430ba0925b216d1471ea": {
      "model_module": "@jupyter-widgets/base",
      "model_module_version": "1.2.0",
      "model_name": "LayoutModel",
      "state": {
       "grid_area": "input",
       "width": "auto"
      }
     },
     "eb1616e2385a450fb159603892a3e1ce": {
      "model_module": "@jupyter-widgets/controls",
      "model_module_version": "1.5.0",
      "model_name": "DescriptionStyleModel",
      "state": {
       "description_width": ""
      }
     },
     "eb69cefb21ed4f37a093b46dc0bb0751": {
      "model_module": "@jupyter-widgets/controls",
      "model_module_version": "1.5.0",
      "model_name": "DescriptionStyleModel",
      "state": {
       "description_width": ""
      }
     },
     "ec87199a6ee34837b551a5847d94b0d2": {
      "model_module": "@jupyter-widgets/base",
      "model_module_version": "1.2.0",
      "model_name": "LayoutModel",
      "state": {
       "grid_area": "input",
       "width": "auto"
      }
     },
     "edb76a47aba3438d8351f887ab274d75": {
      "model_module": "@jupyter-widgets/controls",
      "model_module_version": "1.5.0",
      "model_name": "GridBoxModel",
      "state": {
       "_dom_classes": [
        "nbtools-input",
        "nbtools-textinput",
        "required"
       ],
       "children": [
        "IPY_MODEL_50eeca33d3ae40d3bc30f9695ed5e8e5",
        "IPY_MODEL_f494fe3517e543dcbfb33cbdc5ce1ab7",
        "IPY_MODEL_98283ff48bd546dfa8b22b4952613d50"
       ],
       "layout": "IPY_MODEL_bb6d42215b1c495c860252422e9f3211"
      }
     },
     "eed3bebc7459482480436fe3e2bb9185": {
      "model_module": "@jupyter-widgets/output",
      "model_module_version": "1.0.0",
      "model_name": "OutputModel",
      "state": {
       "layout": "IPY_MODEL_75570ccfa137450e976231e0e4892636"
      }
     },
     "ef0dcf44c09c4ac68e4761b09a3f6505": {
      "model_module": "@jupyter-widgets/controls",
      "model_module_version": "1.5.0",
      "model_name": "DescriptionStyleModel",
      "state": {
       "description_width": ""
      }
     },
     "ef7379e840c646c2bedbb63cab661893": {
      "model_module": "@jupyter-widgets/controls",
      "model_module_version": "1.5.0",
      "model_name": "LabelModel",
      "state": {
       "layout": "IPY_MODEL_6793cee2048d4dd7a39b563136373b4d",
       "style": "IPY_MODEL_9042c0128647402d8694dff04ed4b533"
      }
     },
     "effa2c026c9144edbe084074c0aea68f": {
      "model_module": "@jupyter-widgets/controls",
      "model_module_version": "1.5.0",
      "model_name": "LabelModel",
      "state": {
       "layout": "IPY_MODEL_190f7dce29654f37a35ea19cac951fc5",
       "style": "IPY_MODEL_7a4604e5636d43f484ac201d82319bfc"
      }
     },
     "f0225985997a4b7caace965c45224491": {
      "model_module": "@jupyter-widgets/controls",
      "model_module_version": "1.5.0",
      "model_name": "VBoxModel",
      "state": {
       "_dom_classes": [
        "widget-interact"
       ],
       "children": [
        "IPY_MODEL_6d69ed56f59d47c7a84183d6851e893a",
        "IPY_MODEL_eed3bebc7459482480436fe3e2bb9185"
       ],
       "layout": "IPY_MODEL_6d2ab4e7bde749fab72f7d193aeee3ab"
      }
     },
     "f0466d386452481db17971c39e461d73": {
      "model_module": "@jupyter-widgets/controls",
      "model_module_version": "1.5.0",
      "model_name": "DescriptionStyleModel",
      "state": {
       "description_width": ""
      }
     },
     "f078ae7a9f88405ca84c5d696e699312": {
      "model_module": "@jupyter-widgets/base",
      "model_module_version": "1.2.0",
      "model_name": "LayoutModel",
      "state": {
       "display": "none",
       "grid_template_areas": "\n                    \"label input\"\n                    \". description\"\n                ",
       "grid_template_columns": "25% 75%",
       "grid_template_rows": "auto auto",
       "width": "100%"
      }
     },
     "f0cc145ddac34b3eb43c709fe0368041": {
      "model_module": "@jupyter-widgets/controls",
      "model_module_version": "1.5.0",
      "model_name": "DescriptionStyleModel",
      "state": {
       "description_width": ""
      }
     },
     "f1c2fbcc4f0c4445bedc366f77f08da5": {
      "model_module": "@jupyter-widgets/controls",
      "model_module_version": "1.5.0",
      "model_name": "LabelModel",
      "state": {
       "layout": "IPY_MODEL_a0fb0a7aaedb45048ca7e373c06dab17",
       "style": "IPY_MODEL_d4cff235f21a4d19ab924c988d5a80a1"
      }
     },
     "f339337cf5664405865fa5127cf3d58d": {
      "model_module": "@jupyter-widgets/controls",
      "model_module_version": "1.5.0",
      "model_name": "ButtonStyleModel",
      "state": {}
     },
     "f33b7d137cc34cb3b1ce7042e0e12181": {
      "model_module": "@jupyter-widgets/base",
      "model_module_version": "1.2.0",
      "model_name": "LayoutModel",
      "state": {
       "grid_area": "label",
       "width": "auto"
      }
     },
     "f4291c16e7a6400d9f408ac2703ed0fd": {
      "model_module": "@jupyter-widgets/controls",
      "model_module_version": "1.5.0",
      "model_name": "TextModel",
      "state": {
       "_dom_classes": [
        "nbtools-menu-attached"
       ],
       "layout": "IPY_MODEL_6ef3f10afcc040b9ac232ddbc96abed0",
       "style": "IPY_MODEL_fa297868564a406780be9cf2f6785d24"
      }
     },
     "f47bd817c24640c68d11c8095eec3c8e": {
      "model_module": "@jupyter-widgets/controls",
      "model_module_version": "1.5.0",
      "model_name": "DescriptionStyleModel",
      "state": {
       "description_width": ""
      }
     },
     "f494fe3517e543dcbfb33cbdc5ce1ab7": {
      "model_module": "@jupyter-widgets/controls",
      "model_module_version": "1.5.0",
      "model_name": "TextModel",
      "state": {
       "_dom_classes": [
        "nbtools-menu-attached"
       ],
       "layout": "IPY_MODEL_66852dfbf3404feca2f782287b135096",
       "style": "IPY_MODEL_886ea2b3bd824a82901c069aae41fe49"
      }
     },
     "f4e51adec3dc4c6391e2881f6d78a877": {
      "model_module": "@jupyter-widgets/output",
      "model_module_version": "1.0.0",
      "model_name": "OutputModel",
      "state": {
       "layout": "IPY_MODEL_38a3798ecd64441a95a2a664017d4be7"
      }
     },
     "f5147ce1f44e45e7b3f8aa339671c5fb": {
      "model_module": "@jupyter-widgets/base",
      "model_module_version": "1.2.0",
      "model_name": "LayoutModel",
      "state": {}
     },
     "f53d209e5cc141a58a4d667b058b7cf9": {
      "model_module": "@jupyter-widgets/base",
      "model_module_version": "1.2.0",
      "model_name": "LayoutModel",
      "state": {
       "display": "none",
       "grid_template_areas": "\n                    \"label input\"\n                    \". description\"\n                ",
       "grid_template_columns": "25% 75%",
       "grid_template_rows": "auto auto",
       "width": "100%"
      }
     },
     "f63290502fbc4384863129d60bf4c136": {
      "model_module": "@jupyter-widgets/base",
      "model_module_version": "1.2.0",
      "model_name": "LayoutModel",
      "state": {}
     },
     "f7f2b3bac2de44209856082578f7e55c": {
      "model_module": "@jupyter-widgets/controls",
      "model_module_version": "1.5.0",
      "model_name": "DescriptionStyleModel",
      "state": {
       "description_width": ""
      }
     },
     "f971545c5c9441d8b65f359cba82ac80": {
      "model_module": "@jupyter-widgets/base",
      "model_module_version": "1.2.0",
      "model_name": "LayoutModel",
      "state": {}
     },
     "f9ef5fbf0c8841a19a80f32ca09e62dc": {
      "model_module": "@jupyter-widgets/controls",
      "model_module_version": "1.5.0",
      "model_name": "GridBoxModel",
      "state": {
       "_dom_classes": [
        "nbtools-input",
        "nbtools-passwordinput",
        "required"
       ],
       "children": [
        "IPY_MODEL_1b771d70a43d4d95aa319e0b5087acb6",
        "IPY_MODEL_c8163b8504094c438250210babe6c35d",
        "IPY_MODEL_2611de801c0844ad86d525d5e9828f65"
       ],
       "layout": "IPY_MODEL_56e97c5ea1c0413fba1dc8027240dae8"
      }
     },
     "fa297868564a406780be9cf2f6785d24": {
      "model_module": "@jupyter-widgets/controls",
      "model_module_version": "1.5.0",
      "model_name": "DescriptionStyleModel",
      "state": {
       "description_width": ""
      }
     },
     "fa519c2bb1ac43b88c0789ec730ae2da": {
      "model_module": "@jupyter-widgets/controls",
      "model_module_version": "1.5.0",
      "model_name": "TextModel",
      "state": {
       "_dom_classes": [
        "nbtools-menu-attached"
       ],
       "layout": "IPY_MODEL_63c86947c98d42a68ba4cbd4d257a8be",
       "style": "IPY_MODEL_8ae21735f839437aa720789e1036e236"
      }
     },
     "fb40283bd9144d2bb7037428fc475104": {
      "model_module": "@jupyter-widgets/base",
      "model_module_version": "1.2.0",
      "model_name": "LayoutModel",
      "state": {
       "grid_template_areas": "\n                    \"label input\"\n                    \". description\"\n                ",
       "grid_template_columns": "25% 75%",
       "grid_template_rows": "auto auto",
       "width": "100%"
      }
     },
     "fb44878a0ed44d1cacd73247fd1e8abd": {
      "model_module": "@jupyter-widgets/base",
      "model_module_version": "1.2.0",
      "model_name": "LayoutModel",
      "state": {}
     },
     "fb522f674bd346618d4f8019b60846ee": {
      "model_module": "@jupyter-widgets/base",
      "model_module_version": "1.2.0",
      "model_name": "LayoutModel",
      "state": {}
     },
     "fb550d21bc534c149727b481a6bbac51": {
      "model_module": "@jupyter-widgets/controls",
      "model_module_version": "1.5.0",
      "model_name": "LabelModel",
      "state": {
       "description": "Galaxy Server",
       "layout": "IPY_MODEL_fdcd0635693b49ff919e411d17cc710c",
       "style": "IPY_MODEL_23dca0454fd049bd86b9e2bf12f47ddd",
       "value": "Galaxy Server*"
      }
     },
     "fbfb4d224ccb4785818c5ae48647048d": {
      "model_module": "@jupyter-widgets/controls",
      "model_module_version": "1.5.0",
      "model_name": "DescriptionStyleModel",
      "state": {
       "description_width": ""
      }
     },
     "fc4537ce32df43f3b12b757b37fbf140": {
      "model_module": "@jupyter-widgets/controls",
      "model_module_version": "1.5.0",
      "model_name": "TextModel",
      "state": {
       "_dom_classes": [
        "nbtools-menu-attached"
       ],
       "layout": "IPY_MODEL_4967e03163bb4c53b68b9030a3ad0f01",
       "style": "IPY_MODEL_63fd454ca1d846ac83e6fdef25244d66"
      }
     },
     "fdcd0635693b49ff919e411d17cc710c": {
      "model_module": "@jupyter-widgets/base",
      "model_module_version": "1.2.0",
      "model_name": "LayoutModel",
      "state": {
       "grid_area": "label",
       "width": "auto"
      }
     },
     "fe3f0a862c5242c1aaaa92bfa8525970": {
      "model_module": "@jupyter-widgets/base",
      "model_module_version": "1.2.0",
      "model_name": "LayoutModel",
      "state": {
       "grid_area": "description",
       "width": "auto"
      }
     },
     "fe613937016a4cfdbe7327d96496fe4f": {
      "model_module": "@jupyter-widgets/base",
      "model_module_version": "1.2.0",
      "model_name": "LayoutModel",
      "state": {
       "grid_area": "description",
       "width": "auto"
      }
     },
     "fe6ed7c49d6d4f91b3ebf5902286e869": {
      "model_module": "@jupyter-widgets/base",
      "model_module_version": "1.2.0",
      "model_name": "LayoutModel",
      "state": {}
     },
     "fe8e490bc3704e018ccff25f540c1868": {
      "model_module": "@jupyter-widgets/controls",
      "model_module_version": "1.5.0",
      "model_name": "DescriptionStyleModel",
      "state": {
       "description_width": ""
      }
     },
     "fed33f1dd52a41d9875de4e30db1e9c6": {
      "model_module": "@jupyter-widgets/base",
      "model_module_version": "1.2.0",
      "model_name": "LayoutModel",
      "state": {
       "display": "none",
       "grid_template_areas": "\n                    \"label input\"\n                    \". description\"\n                ",
       "grid_template_columns": "25% 75%",
       "grid_template_rows": "auto auto",
       "width": "100%"
      }
     },
     "feedf348273244e5864899bbf479a548": {
      "model_module": "@jupyter-widgets/controls",
      "model_module_version": "1.5.0",
      "model_name": "LabelModel",
      "state": {
       "description": "output variable",
       "layout": "IPY_MODEL_4484f2d81cec4fbfac449cf271a4b7bc",
       "style": "IPY_MODEL_0068cac19abf4714ac0ae7dccc75f8ce",
       "value": "output variable"
      }
     },
     "ff3bb9ed68264472abc83b77a88f70e6": {
      "model_module": "@jupyter-widgets/base",
      "model_module_version": "1.2.0",
      "model_name": "LayoutModel",
      "state": {
       "grid_area": "label",
       "width": "auto"
      }
     },
     "ffb9cff23bb74e84921ed32dcbe39c78": {
      "model_module": "@jupyter-widgets/base",
      "model_module_version": "1.2.0",
      "model_name": "LayoutModel",
      "state": {}
     },
     "ffe0fd05bf664c598c3971aeab9e7852": {
      "model_module": "@jupyter-widgets/base",
      "model_module_version": "1.2.0",
      "model_name": "LayoutModel",
      "state": {
       "grid_area": "label",
       "width": "auto"
      }
     }
    },
    "version_major": 2,
    "version_minor": 0
   }
  }
 },
 "nbformat": 4,
 "nbformat_minor": 4
}
