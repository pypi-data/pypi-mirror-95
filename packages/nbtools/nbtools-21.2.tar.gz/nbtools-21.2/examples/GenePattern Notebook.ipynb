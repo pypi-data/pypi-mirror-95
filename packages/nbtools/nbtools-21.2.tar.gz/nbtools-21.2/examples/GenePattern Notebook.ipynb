{
 "cells": [
  {
   "cell_type": "markdown",
   "metadata": {},
   "source": [
    "# Login"
   ]
  },
  {
   "cell_type": "code",
   "execution_count": 2,
   "metadata": {},
   "outputs": [
    {
     "data": {
      "application/vnd.jupyter.widget-view+json": {
       "model_id": "",
       "version_major": 2,
       "version_minor": 0
      },
      "text/plain": [
       "GPAuthWidget(buttons={'Register an Account': \"\\n    const target = event.target;\\n    const widget = target.cl…"
      ]
     },
     "metadata": {},
     "output_type": "display_data"
    },
    {
     "data": {
      "application/vnd.jupyter.widget-view+json": {
       "model_id": "31ea5546ac1c437890cb278035f10116",
       "version_major": 2,
       "version_minor": 0
      },
      "text/plain": [
       "Output()"
      ]
     },
     "metadata": {},
     "output_type": "display_data"
    }
   ],
   "source": [
    "import nbtools\n",
    "\n",
    "login = nbtools.tool(id='authentication', origin='+')\n",
    "login"
   ]
  },
  {
   "cell_type": "markdown",
   "metadata": {},
   "source": [
    "# Run Modules"
   ]
  },
  {
   "cell_type": "code",
   "execution_count": 3,
   "metadata": {},
   "outputs": [
    {
     "data": {
      "application/vnd.jupyter.widget-view+json": {
       "model_id": "",
       "version_major": 2,
       "version_minor": 0
      },
      "text/plain": [
       "UIOutput(appendix=VBox(), error='Cannot find tool: GenePattern Cloud | urn:lsid:broad.mit.edu:cancer.software.…"
      ]
     },
     "metadata": {},
     "output_type": "display_data"
    },
    {
     "data": {
      "application/vnd.jupyter.widget-view+json": {
       "model_id": "c994b59ab3424ddeb0cea4b90d930339",
       "version_major": 2,
       "version_minor": 0
      },
      "text/plain": [
       "Output(outputs=({'output_type': 'display_data', 'data': {}, 'metadata': {}},))"
      ]
     },
     "metadata": {},
     "output_type": "display_data"
    }
   ],
   "source": [
    "nbtools.tool(id='urn:lsid:broad.mit.edu:cancer.software.genepattern.module.analysis:00002:2', origin='GenePattern Cloud')"
   ]
  },
  {
   "cell_type": "code",
   "execution_count": 4,
   "metadata": {},
   "outputs": [
    {
     "data": {
      "application/vnd.jupyter.widget-view+json": {
       "model_id": "",
       "version_major": 2,
       "version_minor": 0
      },
      "text/plain": [
       "UIOutput(appendix=VBox(), error='Cannot find tool: GenePattern Cloud | urn:lsid:broad.mit.edu:cancer.software.…"
      ]
     },
     "metadata": {},
     "output_type": "display_data"
    },
    {
     "data": {
      "application/vnd.jupyter.widget-view+json": {
       "model_id": "b6c000137edf4dd78a33904445fbd1de",
       "version_major": 2,
       "version_minor": 0
      },
      "text/plain": [
       "Output(outputs=({'output_type': 'display_data', 'data': {}, 'metadata': {}},))"
      ]
     },
     "metadata": {},
     "output_type": "display_data"
    }
   ],
   "source": [
    "nbtools.tool(id='urn:lsid:broad.mit.edu:cancer.software.genepattern.module.visualizer:00010:13.9', origin='GenePattern Cloud')"
   ]
  },
  {
   "cell_type": "code",
   "execution_count": 5,
   "metadata": {},
   "outputs": [
    {
     "data": {
      "application/vnd.jupyter.widget-view+json": {
       "model_id": "e238fedceab34e6eabe85a4701aa8fb3",
       "version_major": 2,
       "version_minor": 0
      },
      "text/plain": [
       "UIBuilder(collapse=True, form=InteractiveForm(children=(TextFormInput(value='', children=(Label(value='bar*', …"
      ]
     },
     "metadata": {},
     "output_type": "display_data"
    },
    {
     "data": {
      "application/vnd.jupyter.widget-view+json": {
       "model_id": "b9dd894ca4d34f9899ca9a696b61b702",
       "version_major": 2,
       "version_minor": 0
      },
      "text/plain": [
       "Output()"
      ]
     },
     "metadata": {},
     "output_type": "display_data"
    }
   ],
   "source": [
    "import nbtools\n",
    "\n",
    "@nbtools.build_ui(logo='/static/lab/50451a840dc10fd5be789eafad011deb.png')\n",
    "def foo(bar):\n",
    "    pass"
   ]
  },
  {
   "cell_type": "code",
   "execution_count": null,
   "metadata": {},
   "outputs": [],
   "source": []
  }
 ],
 "metadata": {
  "kernelspec": {
   "display_name": "Python 3",
   "language": "python",
   "name": "python3"
  },
  "language_info": {
   "codemirror_mode": {
    "name": "ipython",
    "version": 3
   },
   "file_extension": ".py",
   "mimetype": "text/x-python",
   "name": "python",
   "nbconvert_exporter": "python",
   "pygments_lexer": "ipython3",
   "version": "3.7.6"
  },
  "widgets": {
   "application/vnd.jupyter.widget-state+json": {
    "state": {
     "00a46ee34ef24b60a16b33a5ea9ca05a": {
      "model_module": "@jupyter-widgets/base",
      "model_module_version": "1.2.0",
      "model_name": "LayoutModel",
      "state": {}
     },
     "00ae4ac879994b399aa13b3e898daf81": {
      "model_module": "@jupyter-widgets/controls",
      "model_module_version": "1.5.0",
      "model_name": "GridBoxModel",
      "state": {
       "_dom_classes": [
        "nbtools-input",
        "nbtools-textinput"
       ],
       "children": [
        "IPY_MODEL_faa381f947f74ee6abd2de6c6264fb69",
        "IPY_MODEL_a61fe562b72d47fd97762fa1b105e610",
        "IPY_MODEL_3837092f42ef4b35bbed5e2e3878ff5f"
       ],
       "layout": "IPY_MODEL_40da02b609de4ea4af5bee4a416e121b"
      }
     },
     "00dd9a2de85a44d0a24068aa0856ca10": {
      "model_module": "@jupyter-widgets/controls",
      "model_module_version": "1.5.0",
      "model_name": "LabelModel",
      "state": {
       "description": "output variable",
       "layout": "IPY_MODEL_a4395a0dbc1540f08340c506c20637ea",
       "style": "IPY_MODEL_306cf4cf6ccd46f2b693f502c3aa24cc",
       "value": "output variable"
      }
     },
     "0331044519814b6b9ed39b100696a24f": {
      "model_module": "@jupyter-widgets/controls",
      "model_module_version": "1.5.0",
      "model_name": "DescriptionStyleModel",
      "state": {
       "description_width": ""
      }
     },
     "03958960b61c4d93877bb7ed6f292529": {
      "model_module": "@jupyter-widgets/base",
      "model_module_version": "1.2.0",
      "model_name": "LayoutModel",
      "state": {
       "grid_area": "label",
       "width": "auto"
      }
     },
     "03d2c08f555541239babb3890a283205": {
      "model_module": "@jupyter-widgets/controls",
      "model_module_version": "1.5.0",
      "model_name": "ButtonStyleModel",
      "state": {}
     },
     "048c4ac92a234e49a2bc0e0dae57a6c3": {
      "model_module": "@jupyter-widgets/base",
      "model_module_version": "1.2.0",
      "model_name": "LayoutModel",
      "state": {}
     },
     "04d6a71290ac4148b4721b240392442c": {
      "model_module": "@jupyter-widgets/controls",
      "model_module_version": "1.5.0",
      "model_name": "DescriptionStyleModel",
      "state": {
       "description_width": ""
      }
     },
     "0549314a63284ccdb3bade6a13d815a7": {
      "model_module": "@jupyter-widgets/base",
      "model_module_version": "1.2.0",
      "model_name": "LayoutModel",
      "state": {
       "grid_area": "input",
       "width": "auto"
      }
     },
     "057aaa89b0b344fbaf4c8d9fa242f70c": {
      "model_module": "@jupyter-widgets/base",
      "model_module_version": "1.2.0",
      "model_name": "LayoutModel",
      "state": {
       "grid_area": "label",
       "width": "auto"
      }
     },
     "05c233a485ad49759bcdad521ef8985d": {
      "model_module": "@jupyter-widgets/controls",
      "model_module_version": "1.5.0",
      "model_name": "DescriptionStyleModel",
      "state": {
       "description_width": ""
      }
     },
     "0648dd8af26b4093995843e7caf71001": {
      "model_module": "@jupyter-widgets/base",
      "model_module_version": "1.2.0",
      "model_name": "LayoutModel",
      "state": {
       "grid_template_areas": "\n                    \"label input\"\n                    \". description\"\n                ",
       "grid_template_columns": "25% 75%",
       "grid_template_rows": "auto auto",
       "width": "100%"
      }
     },
     "08cd89906bf7449f8b8a1c403de1ff2d": {
      "model_module": "@jupyter-widgets/base",
      "model_module_version": "1.2.0",
      "model_name": "LayoutModel",
      "state": {}
     },
     "0ac10a630ab04c5bafd84e3b2ecc493b": {
      "model_module": "@jupyter-widgets/controls",
      "model_module_version": "1.5.0",
      "model_name": "LabelModel",
      "state": {
       "layout": "IPY_MODEL_aa066e1525ff47c98574c3bd04c05de6",
       "style": "IPY_MODEL_e43e528c28294fa0b5a32c3c00f15f73"
      }
     },
     "0b8d18f3571b4d42ba50d55999ec9bbc": {
      "model_module": "@jupyter-widgets/controls",
      "model_module_version": "1.5.0",
      "model_name": "LabelModel",
      "state": {
       "layout": "IPY_MODEL_d92e191a93304ddeacfe505863645204",
       "style": "IPY_MODEL_6f38798192f5482f92cdf0c498494acb"
      }
     },
     "0bf3c7c15198402c9225b6656534ed6f": {
      "model_module": "@jupyter-widgets/controls",
      "model_module_version": "1.5.0",
      "model_name": "DescriptionStyleModel",
      "state": {
       "description_width": ""
      }
     },
     "0c8ca06437a642eca8d3642793c0616a": {
      "model_module": "@jupyter-widgets/base",
      "model_module_version": "1.2.0",
      "model_name": "LayoutModel",
      "state": {
       "display": "none",
       "grid_template_areas": "\n                    \"label input\"\n                    \". description\"\n                ",
       "grid_template_columns": "25% 75%",
       "grid_template_rows": "auto auto",
       "width": "100%"
      }
     },
     "0d8d3e2c96ad467cbd7e68f7dfd1c689": {
      "model_module": "@jupyter-widgets/controls",
      "model_module_version": "1.5.0",
      "model_name": "VBoxModel",
      "state": {
       "_dom_classes": [
        "widget-interact"
       ],
       "children": [
        "IPY_MODEL_46491341bf424181ada2340eed8f771a",
        "IPY_MODEL_8b18225bbbc34cdcb10135b793391bf4",
        "IPY_MODEL_db4e613624f74996972efb9bda59d86b"
       ],
       "layout": "IPY_MODEL_6ed9dae57e2f44ad92180fa7a0373c80"
      }
     },
     "0dac947d42c748329ac9db8750087d89": {
      "model_module": "@jupyter-widgets/controls",
      "model_module_version": "1.5.0",
      "model_name": "ButtonModel",
      "state": {
       "_dom_classes": [
        "hidden"
       ],
       "description": "Run",
       "layout": "IPY_MODEL_76c18bdc300a4c86944f122ed0e493cc",
       "style": "IPY_MODEL_ca3596b4caca4c5ea90e1a81f871b86d"
      }
     },
     "0dd5192d6ddb4e87858f10182cc08a58": {
      "model_module": "@jupyter-widgets/controls",
      "model_module_version": "1.5.0",
      "model_name": "TextModel",
      "state": {
       "_dom_classes": [
        "nbtools-menu-attached"
       ],
       "layout": "IPY_MODEL_6ab9d3b06bce4143880a6405ede7e5a6",
       "style": "IPY_MODEL_05c233a485ad49759bcdad521ef8985d"
      }
     },
     "0de401255e884e9e847d2b84d9d4baa9": {
      "model_module": "@jupyter-widgets/controls",
      "model_module_version": "1.5.0",
      "model_name": "ButtonModel",
      "state": {
       "_dom_classes": [
        "hidden"
       ],
       "description": "Run",
       "layout": "IPY_MODEL_bd0be6cc9a7740f5a0742f3bdb72bd4a",
       "style": "IPY_MODEL_d43142b041574324b1b1df0e99de87f7"
      }
     },
     "0f0797215c75455a9ba566c4ed457d37": {
      "model_module": "@jupyter-widgets/controls",
      "model_module_version": "1.5.0",
      "model_name": "TextModel",
      "state": {
       "_dom_classes": [
        "nbtools-menu-attached"
       ],
       "layout": "IPY_MODEL_55ae281ae7ac4a27a201bfd3b06a27c9",
       "style": "IPY_MODEL_1fc3ab28ff554570a0e61c326eb22eed"
      }
     },
     "10b7394b617f48829e2a3289e53ab519": {
      "model_module": "@jupyter-widgets/base",
      "model_module_version": "1.2.0",
      "model_name": "LayoutModel",
      "state": {
       "grid_area": "label",
       "width": "auto"
      }
     },
     "1730b6900e0d4750aae46d52de54c056": {
      "model_module": "@jupyter-widgets/base",
      "model_module_version": "1.2.0",
      "model_name": "LayoutModel",
      "state": {
       "grid_area": "label",
       "width": "auto"
      }
     },
     "17b0815113a94ee8bc41bafcb4418331": {
      "model_module": "@jupyter-widgets/base",
      "model_module_version": "1.2.0",
      "model_name": "LayoutModel",
      "state": {
       "grid_area": "description",
       "width": "auto"
      }
     },
     "19d4af15b719443e817ecf8ca76c2a1f": {
      "model_module": "@jupyter-widgets/controls",
      "model_module_version": "1.5.0",
      "model_name": "LabelModel",
      "state": {
       "layout": "IPY_MODEL_e8bcbef25fc04ad1aa6ced6ef6365a10",
       "style": "IPY_MODEL_51bb071d463440408372e6db998dbec1"
      }
     },
     "1b3499721a994ae594c9ba6a22139688": {
      "model_module": "@jupyter-widgets/base",
      "model_module_version": "1.2.0",
      "model_name": "LayoutModel",
      "state": {
       "grid_area": "description",
       "width": "auto"
      }
     },
     "1c2e85add2fb4bb5831ecdc46db04407": {
      "model_module": "@jupyter-widgets/base",
      "model_module_version": "1.2.0",
      "model_name": "LayoutModel",
      "state": {
       "display": "none",
       "grid_template_areas": "\n                    \"label input\"\n                    \". description\"\n                ",
       "grid_template_columns": "25% 75%",
       "grid_template_rows": "auto auto",
       "width": "100%"
      }
     },
     "1f96f2f41e8b4e25835a8c4985e9650b": {
      "model_module": "@jupyter-widgets/controls",
      "model_module_version": "1.5.0",
      "model_name": "DescriptionStyleModel",
      "state": {
       "description_width": ""
      }
     },
     "1fc3ab28ff554570a0e61c326eb22eed": {
      "model_module": "@jupyter-widgets/controls",
      "model_module_version": "1.5.0",
      "model_name": "DescriptionStyleModel",
      "state": {
       "description_width": ""
      }
     },
     "1fcd8a47c3d24698936606f075aa9783": {
      "model_module": "@jupyter-widgets/controls",
      "model_module_version": "1.5.0",
      "model_name": "LabelModel",
      "state": {
       "description": "output variable",
       "layout": "IPY_MODEL_75e7df83acc4437fba5be751a24242c5",
       "style": "IPY_MODEL_9a6bcf47fd2a4d4a8b7b35d3d17d51f3",
       "value": "output variable"
      }
     },
     "203e6e3cba2246beb2e9ed61f8f50d63": {
      "model_module": "@jupyter-widgets/controls",
      "model_module_version": "1.5.0",
      "model_name": "TextModel",
      "state": {
       "_dom_classes": [
        "nbtools-menu-attached"
       ],
       "layout": "IPY_MODEL_b38899f8bca347369bab1f3f50280f9c",
       "style": "IPY_MODEL_2aa057f700394be8a015a9680c3c61bf"
      }
     },
     "2060279426fb43e58c8b481dc2e9719d": {
      "model_module": "@jupyter-widgets/controls",
      "model_module_version": "1.5.0",
      "model_name": "FileUploadModel",
      "state": {
       "description_tooltip": null,
       "layout": "IPY_MODEL_048c4ac92a234e49a2bc0e0dae57a6c3",
       "style": "IPY_MODEL_69dc9ece700c4a9b8aba3518735afc39"
      }
     },
     "2071be5a0d704291a2384a3e57b221b0": {
      "model_module": "@jupyter-widgets/controls",
      "model_module_version": "1.5.0",
      "model_name": "TextModel",
      "state": {
       "_dom_classes": [
        "nbtools-menu-attached"
       ],
       "layout": "IPY_MODEL_246f114cf3494dcebb97b329765197f4",
       "style": "IPY_MODEL_5cb89d7e1b864aeb9387879c3abf664f"
      }
     },
     "21770c0d309a4623ae6d494931394f8e": {
      "model_module": "@jupyter-widgets/controls",
      "model_module_version": "1.5.0",
      "model_name": "VBoxModel",
      "state": {
       "layout": "IPY_MODEL_68fb0cc711e44280a858676549312301"
      }
     },
     "218b8aafb65f4c53bf53726a6425d607": {
      "model_module": "@jupyter-widgets/base",
      "model_module_version": "1.2.0",
      "model_name": "LayoutModel",
      "state": {}
     },
     "246f114cf3494dcebb97b329765197f4": {
      "model_module": "@jupyter-widgets/base",
      "model_module_version": "1.2.0",
      "model_name": "LayoutModel",
      "state": {
       "grid_area": "input",
       "width": "auto"
      }
     },
     "26c45481e97e4ae4a1ec7d1273fdcc00": {
      "model_module": "@jupyter-widgets/base",
      "model_module_version": "1.2.0",
      "model_name": "LayoutModel",
      "state": {}
     },
     "26dc6b3539894c249001b50c2ea4e780": {
      "model_module": "@jupyter-widgets/controls",
      "model_module_version": "1.5.0",
      "model_name": "ButtonStyleModel",
      "state": {}
     },
     "2a8ce976b7ad45a78b5eb8d84d907612": {
      "model_module": "@jupyter-widgets/controls",
      "model_module_version": "1.5.0",
      "model_name": "LabelModel",
      "state": {
       "layout": "IPY_MODEL_d1f85dafb2d245dfac1bbb6b10843577",
       "style": "IPY_MODEL_72ad76acf43a4af4a525d7561c4124b2"
      }
     },
     "2aa057f700394be8a015a9680c3c61bf": {
      "model_module": "@jupyter-widgets/controls",
      "model_module_version": "1.5.0",
      "model_name": "DescriptionStyleModel",
      "state": {
       "description_width": ""
      }
     },
     "2b9d11cf866e4c0bb910a1f39c3d7885": {
      "model_module": "@genepattern/nbtools",
      "model_module_version": "^20.10.0-alpha.0",
      "model_name": "UIBuilderModel",
      "state": {
       "_dom_classes": [],
       "_model_module_version": "^20.10.0-alpha.0",
       "_parameters": [
        {
         "choices": {},
         "default": "",
         "description": "",
         "events": null,
         "hide": true,
         "id": null,
         "kinds": null,
         "label": "output variable",
         "name": "output_var",
         "optional": true,
         "type": "text",
         "value": ""
        }
       ],
       "_view_count": null,
       "_view_module_version": "^20.10.0-alpha.0",
       "collapsed": true,
       "color": "rgba(10, 45, 105, 0.80)",
       "display_footer": false,
       "display_header": false,
       "form": "IPY_MODEL_c7ec7ce623774b1c9354ab164ebf739c",
       "info": "<div class=\"systemMessageOk\"><br /><b>Join us on Dec 16, 2020, at 10am PST for our webinar: Scientific Narratives & Reproducible Research with the GenePattern Notebook Environment.</b><br /><br />The presentation will provide an introduction to the GenePattern Notebook environment and an illustration of its use in a single-cell RNA-seq analysis workflow.<br /><br /><b><a href=\"https://www.eventbrite.com/e/scientific-narratives-reproducible-research-with-genepattern-notebooks-tickets-131956364037\" target=\"_blank\">Register now on Eventbrite!</a></b><br /><br /></div><br /><div class=\"systemMessageAlert\"><br />GEOImporter has been temporarily removed from the main GenePattern server (cloud.genepattern.org) while it awaits an update for changes in GEO's programmatic access.<br><br />We do apologize for any inconvenience this causes and will work to have it back up as soon as possible.<br />Sincerely,<br />The GenePattern team<br /><br /></div><br /><div class=\"systemMessageOk\"><br />    Follow the GenePattern team on <a href=\"https://twitter.com/GenePattern\", target=\"_blank\">Twitter</a>, <a href=\"https://www.instagram.com/genepatternnotebook/\",target=\"_blank\">Instagram</a> or <a href=\"https://www.facebook.com/GenePattern\", target=\"_blank\">Facebook</a> to keep up with the latest news and events or <a href=\"https://groups.google.com/forum/?utm_medium=email&utm_source=footer#!forum/genepattern-help\", target=\"_blank\">join the conversation in our forum</a>!<br /><br /><a href=\"https://genepattern.org/genepattern-in-the-amazon-cloud\", target=\"_blank\">Terms of Service</a> - Updated August 2020<br /><br /></div>",
       "layout": "IPY_MODEL_cfe4e9e55c274fadb0c76ffed4cbb43f",
       "name": "https://cloud.genepattern.org/gp",
       "origin": "genepattern.authwidget",
       "output": "IPY_MODEL_ca1ba54185cd49ddb92243aa775919cf",
       "output_var": ""
      }
     },
     "2bc9a07ec6dc484b95770a1a085365ac": {
      "model_module": "@jupyter-widgets/controls",
      "model_module_version": "1.5.0",
      "model_name": "VBoxModel",
      "state": {
       "layout": "IPY_MODEL_53ef464f50cf406dac90f9523b9b1041"
      }
     },
     "2f6c2c060d764ec8b37cde5f8b4b4f9b": {
      "model_module": "@jupyter-widgets/base",
      "model_module_version": "1.2.0",
      "model_name": "LayoutModel",
      "state": {
       "grid_area": "label",
       "width": "auto"
      }
     },
     "306cf4cf6ccd46f2b693f502c3aa24cc": {
      "model_module": "@jupyter-widgets/controls",
      "model_module_version": "1.5.0",
      "model_name": "DescriptionStyleModel",
      "state": {
       "description_width": ""
      }
     },
     "3098074791ff4f4092b5916afa078354": {
      "model_module": "@jupyter-widgets/controls",
      "model_module_version": "1.5.0",
      "model_name": "LabelModel",
      "state": {
       "description": "input_filename",
       "layout": "IPY_MODEL_be5f3f82b0cb4f6db0b0ba2290c10b19",
       "style": "IPY_MODEL_4a839e9c160b47f6ba1aeb503045f149",
       "value": "input_filename*"
      }
     },
     "31ea5546ac1c437890cb278035f10116": {
      "model_module": "@jupyter-widgets/output",
      "model_module_version": "1.0.0",
      "model_name": "OutputModel",
      "state": {
       "layout": "IPY_MODEL_8ffe2c7cfcb5439e80ea522412d543e9",
       "outputs": [
        {
         "data": {
          "application/vnd.jupyter.widget-view+json": {
           "model_id": "2b9d11cf866e4c0bb910a1f39c3d7885",
           "version_major": 2,
           "version_minor": 0
          },
          "text/plain": "GPAuthWidget(collapse=True, collapsed=True, color='rgba(10, 45, 105, 0.80)', display_footer=False, display_hea…"
         },
         "metadata": {},
         "output_type": "display_data"
        },
        {
         "data": {
          "application/vnd.jupyter.widget-view+json": {
           "model_id": "ca1ba54185cd49ddb92243aa775919cf",
           "version_major": 2,
           "version_minor": 0
          },
          "text/plain": "Output()"
         },
         "metadata": {},
         "output_type": "display_data"
        }
       ]
      }
     },
     "326763400d8b4e75aefb71159ad5b2a0": {
      "model_module": "@jupyter-widgets/controls",
      "model_module_version": "1.5.0",
      "model_name": "DescriptionStyleModel",
      "state": {
       "description_width": ""
      }
     },
     "331567b90ee642ebaaa7d3deac3337fd": {
      "model_module": "@jupyter-widgets/controls",
      "model_module_version": "1.5.0",
      "model_name": "FileUploadModel",
      "state": {
       "accept": ".res, .gct, .odf, .Dataset",
       "description_tooltip": null,
       "layout": "IPY_MODEL_388803458d5e4a8680d68e18552e9c4d",
       "style": "IPY_MODEL_26dc6b3539894c249001b50c2ea4e780"
      }
     },
     "352abf6db1164280801cd7e233886c21": {
      "model_module": "@jupyter-widgets/controls",
      "model_module_version": "1.5.0",
      "model_name": "GridBoxModel",
      "state": {
       "_dom_classes": [
        "nbtools-input",
        "nbtools-textinput"
       ],
       "children": [
        "IPY_MODEL_1fcd8a47c3d24698936606f075aa9783",
        "IPY_MODEL_0f0797215c75455a9ba566c4ed457d37",
        "IPY_MODEL_feeddad4fe20430a9bf7730523c95102"
       ],
       "layout": "IPY_MODEL_b36e284e818448f08b6c02f4627fe86d"
      }
     },
     "3531de5f60f746eb9c7a35d70c7bba5d": {
      "model_module": "@jupyter-widgets/base",
      "model_module_version": "1.2.0",
      "model_name": "LayoutModel",
      "state": {
       "display": "none",
       "grid_template_areas": "\n                    \"label input\"\n                    \". description\"\n                ",
       "grid_template_columns": "25% 75%",
       "grid_template_rows": "auto auto",
       "width": "100%"
      }
     },
     "358477a9b2734837b957a7d8b9aa7c9a": {
      "model_module": "@jupyter-widgets/base",
      "model_module_version": "1.2.0",
      "model_name": "LayoutModel",
      "state": {
       "grid_area": "description",
       "width": "auto"
      }
     },
     "35cf3e3c1ba8482395c2c43340e211ef": {
      "model_module": "@jupyter-widgets/base",
      "model_module_version": "1.2.0",
      "model_name": "LayoutModel",
      "state": {}
     },
     "38269cf3e9654190a56049d5b156983b": {
      "model_module": "@jupyter-widgets/base",
      "model_module_version": "1.2.0",
      "model_name": "LayoutModel",
      "state": {}
     },
     "3837092f42ef4b35bbed5e2e3878ff5f": {
      "model_module": "@jupyter-widgets/controls",
      "model_module_version": "1.5.0",
      "model_name": "LabelModel",
      "state": {
       "layout": "IPY_MODEL_1b3499721a994ae594c9ba6a22139688",
       "style": "IPY_MODEL_75a2cd3fef8d41c588784f91a3fd1b0b"
      }
     },
     "388803458d5e4a8680d68e18552e9c4d": {
      "model_module": "@jupyter-widgets/base",
      "model_module_version": "1.2.0",
      "model_name": "LayoutModel",
      "state": {}
     },
     "3aca8235e2c14cb7ae83b6ecaec1e2d4": {
      "model_module": "@jupyter-widgets/controls",
      "model_module_version": "1.5.0",
      "model_name": "TextModel",
      "state": {
       "_dom_classes": [
        "nbtools-menu-attached"
       ],
       "layout": "IPY_MODEL_af17de16df8a4269b9b7b4ceefb5079c",
       "style": "IPY_MODEL_9715f156e7e548d6bc54695f10680da5"
      }
     },
     "3b56f1e1f37a4326ae7e0623ce209052": {
      "model_module": "@jupyter-widgets/controls",
      "model_module_version": "1.5.0",
      "model_name": "ButtonModel",
      "state": {
       "_dom_classes": [
        "hidden"
       ],
       "description": "Run",
       "layout": "IPY_MODEL_35cf3e3c1ba8482395c2c43340e211ef",
       "style": "IPY_MODEL_486a3829ecd246b69644a9b2df5c20ae"
      }
     },
     "3c3171db30f64e5f86dec257f6bab535": {
      "model_module": "@jupyter-widgets/controls",
      "model_module_version": "1.5.0",
      "model_name": "TextModel",
      "state": {
       "_dom_classes": [
        "nbtools-menu-attached",
        "nbtools-nosendto"
       ],
       "layout": "IPY_MODEL_fcf5e658d4834dc89247b03af2c6ba2b",
       "style": "IPY_MODEL_50c7171a62ff44cdbce6d844e46f689e",
       "value": "tabor"
      }
     },
     "3da1737f3f4a460784e55f053ec1a63d": {
      "model_module": "@jupyter-widgets/controls",
      "model_module_version": "1.5.0",
      "model_name": "DescriptionStyleModel",
      "state": {
       "description_width": ""
      }
     },
     "3ef3ee8c870246cca4915fafe0911987": {
      "model_module": "@jupyter-widgets/controls",
      "model_module_version": "1.5.0",
      "model_name": "ButtonStyleModel",
      "state": {}
     },
     "3f6dd1c2dce5476b9d2083bd6d5d3ba5": {
      "model_module": "@jupyter-widgets/base",
      "model_module_version": "1.2.0",
      "model_name": "LayoutModel",
      "state": {}
     },
     "4024a9df61524f16b5c63e669b1ce1ce": {
      "model_module": "@jupyter-widgets/controls",
      "model_module_version": "1.5.0",
      "model_name": "TextModel",
      "state": {
       "_dom_classes": [
        "nbtools-menu-attached"
       ],
       "layout": "IPY_MODEL_5d8dc96dcbf047d0a969b996590152ec",
       "style": "IPY_MODEL_e6eba5e4788843568abacd93cd656c2a"
      }
     },
     "40da02b609de4ea4af5bee4a416e121b": {
      "model_module": "@jupyter-widgets/base",
      "model_module_version": "1.2.0",
      "model_name": "LayoutModel",
      "state": {
       "display": "none",
       "grid_template_areas": "\n                    \"label input\"\n                    \". description\"\n                ",
       "grid_template_columns": "25% 75%",
       "grid_template_rows": "auto auto",
       "width": "100%"
      }
     },
     "40fc7dff6fa042a8b76f5138b5e2bab6": {
      "model_module": "@jupyter-widgets/controls",
      "model_module_version": "1.5.0",
      "model_name": "ButtonStyleModel",
      "state": {}
     },
     "410856ecf7bc4f43a58a1d4556d70123": {
      "model_module": "@jupyter-widgets/controls",
      "model_module_version": "1.5.0",
      "model_name": "TextModel",
      "state": {
       "_dom_classes": [
        "nbtools-menu-attached"
       ],
       "layout": "IPY_MODEL_f8e7f227c70e4d0a816d4c2068a4194b",
       "style": "IPY_MODEL_4ffa4e89df4c42458c64d1a70d9ead79"
      }
     },
     "41100140552546aeba3d958d293579fc": {
      "model_module": "@jupyter-widgets/controls",
      "model_module_version": "1.5.0",
      "model_name": "ButtonModel",
      "state": {
       "_dom_classes": [
        "hidden"
       ],
       "description": "Run",
       "layout": "IPY_MODEL_f8ff43ddf71240668c82cd0dbd9e8f2a",
       "style": "IPY_MODEL_03d2c08f555541239babb3890a283205"
      }
     },
     "4110ff4f55d14048813f24cdf835622a": {
      "model_module": "@jupyter-widgets/base",
      "model_module_version": "1.2.0",
      "model_name": "LayoutModel",
      "state": {
       "grid_area": "label",
       "width": "auto"
      }
     },
     "41bbc5fb553248d2af4467f604a049f6": {
      "model_module": "@jupyter-widgets/controls",
      "model_module_version": "1.5.0",
      "model_name": "GridBoxModel",
      "state": {
       "_dom_classes": [
        "nbtools-input",
        "nbtools-textinput",
        "required"
       ],
       "children": [
        "IPY_MODEL_7e520a6c007b4a5ea9536aa3f477e2e0",
        "IPY_MODEL_3c3171db30f64e5f86dec257f6bab535",
        "IPY_MODEL_ab143eea646e444784585e0f6232763a"
       ],
       "layout": "IPY_MODEL_dcfe035b3ec3477087a63d0b09e3b291"
      }
     },
     "42786366ab9140a0ba140bed220de0e3": {
      "model_module": "@jupyter-widgets/base",
      "model_module_version": "1.2.0",
      "model_name": "LayoutModel",
      "state": {}
     },
     "431234f57f454fd083a4f7b29333c1ad": {
      "model_module": "@jupyter-widgets/base",
      "model_module_version": "1.2.0",
      "model_name": "LayoutModel",
      "state": {
       "grid_area": "label",
       "width": "auto"
      }
     },
     "4314f27680fb4342a5d4ecf722b982e5": {
      "model_module": "@jupyter-widgets/base",
      "model_module_version": "1.2.0",
      "model_name": "LayoutModel",
      "state": {
       "grid_area": "description",
       "width": "auto"
      }
     },
     "432c9743de354abeb3ef2898e797e6f9": {
      "model_module": "@jupyter-widgets/base",
      "model_module_version": "1.2.0",
      "model_name": "LayoutModel",
      "state": {
       "grid_area": "input",
       "width": "auto"
      }
     },
     "433af7dc66e14f99b8205b33eafd3028": {
      "model_module": "@jupyter-widgets/controls",
      "model_module_version": "1.5.0",
      "model_name": "LabelModel",
      "state": {
       "layout": "IPY_MODEL_17b0815113a94ee8bc41bafcb4418331",
       "style": "IPY_MODEL_0331044519814b6b9ed39b100696a24f"
      }
     },
     "43987a6da15047c7b84bede2ed0fafb2": {
      "model_module": "@jupyter-widgets/base",
      "model_module_version": "1.2.0",
      "model_name": "LayoutModel",
      "state": {}
     },
     "44ee693408144204b096c78f2ce29128": {
      "model_module": "@jupyter-widgets/base",
      "model_module_version": "1.2.0",
      "model_name": "LayoutModel",
      "state": {}
     },
     "4587512245ca4980bcda3bf23df1a149": {
      "model_module": "@jupyter-widgets/controls",
      "model_module_version": "1.5.0",
      "model_name": "LabelModel",
      "state": {
       "description": "output variable",
       "layout": "IPY_MODEL_431234f57f454fd083a4f7b29333c1ad",
       "style": "IPY_MODEL_04d6a71290ac4148b4721b240392442c",
       "value": "output variable"
      }
     },
     "45a5cfde1fc7409e9f3b062fa0e6961f": {
      "model_module": "@jupyter-widgets/base",
      "model_module_version": "1.2.0",
      "model_name": "LayoutModel",
      "state": {}
     },
     "46491341bf424181ada2340eed8f771a": {
      "model_module": "@jupyter-widgets/controls",
      "model_module_version": "1.5.0",
      "model_name": "GridBoxModel",
      "state": {
       "_dom_classes": [
        "nbtools-input",
        "nbtools-fileinput",
        "required"
       ],
       "children": [
        "IPY_MODEL_d389b267aa4d4aeab669c9f0e0aefc2a",
        "IPY_MODEL_c1d50404e5db4c95975de5e4e6b3da39",
        "IPY_MODEL_5b9396a62a074fb3b61af23c57133bd0"
       ],
       "layout": "IPY_MODEL_867c4665bcb0479f9b2594dbfcaec8b1"
      }
     },
     "47c54933181e466aa2c5f21970f2b94b": {
      "model_module": "@jupyter-widgets/controls",
      "model_module_version": "1.5.0",
      "model_name": "LabelModel",
      "state": {
       "layout": "IPY_MODEL_9bc52f39d7bf43d3810e9f07d65e39e9",
       "style": "IPY_MODEL_af3c0f866ca94c449fde5a02a4356071"
      }
     },
     "4825fa8183a2448b9e50aee1540e4095": {
      "model_module": "@jupyter-widgets/controls",
      "model_module_version": "1.5.0",
      "model_name": "DescriptionStyleModel",
      "state": {
       "description_width": ""
      }
     },
     "486a3829ecd246b69644a9b2df5c20ae": {
      "model_module": "@jupyter-widgets/controls",
      "model_module_version": "1.5.0",
      "model_name": "ButtonStyleModel",
      "state": {}
     },
     "4896b1a0c22f43e7a9931147576efcec": {
      "model_module": "@jupyter-widgets/controls",
      "model_module_version": "1.5.0",
      "model_name": "LabelModel",
      "state": {
       "description": "Password",
       "layout": "IPY_MODEL_2f6c2c060d764ec8b37cde5f8b4b4f9b",
       "style": "IPY_MODEL_e7bf0a5793a1475b91eb38122e381a63",
       "value": "Password*"
      }
     },
     "4a839e9c160b47f6ba1aeb503045f149": {
      "model_module": "@jupyter-widgets/controls",
      "model_module_version": "1.5.0",
      "model_name": "DescriptionStyleModel",
      "state": {
       "description_width": ""
      }
     },
     "4bcc502458f444feb7a00d2922869d65": {
      "model_module": "@jupyter-widgets/base",
      "model_module_version": "1.2.0",
      "model_name": "LayoutModel",
      "state": {}
     },
     "4e34d1f574c440c5b9cf48894329ba6f": {
      "model_module": "@jupyter-widgets/controls",
      "model_module_version": "1.5.0",
      "model_name": "LabelModel",
      "state": {
       "description": "output variable",
       "layout": "IPY_MODEL_057aaa89b0b344fbaf4c8d9fa242f70c",
       "style": "IPY_MODEL_ae760dc09e634b2793c595c1a9d29f9d",
       "value": "output variable"
      }
     },
     "4f20954749144cc888d3ba32bd414409": {
      "model_module": "@jupyter-widgets/base",
      "model_module_version": "1.2.0",
      "model_name": "LayoutModel",
      "state": {
       "display": "none",
       "grid_template_areas": "\n                    \"label input\"\n                    \". description\"\n                ",
       "grid_template_columns": "25% 75%",
       "grid_template_rows": "auto auto",
       "width": "100%"
      }
     },
     "4ffa4e89df4c42458c64d1a70d9ead79": {
      "model_module": "@jupyter-widgets/controls",
      "model_module_version": "1.5.0",
      "model_name": "DescriptionStyleModel",
      "state": {
       "description_width": ""
      }
     },
     "5025274106104d088da656d0af25c809": {
      "model_module": "@jupyter-widgets/controls",
      "model_module_version": "1.5.0",
      "model_name": "VBoxModel",
      "state": {
       "_dom_classes": [
        "widget-interact"
       ],
       "children": [
        "IPY_MODEL_ab1b3b1c0e644b3c81b89f9aa8b8b627",
        "IPY_MODEL_41bbc5fb553248d2af4467f604a049f6",
        "IPY_MODEL_e5b2f54851444dd2b0b5816ba20f9434",
        "IPY_MODEL_3b56f1e1f37a4326ae7e0623ce209052",
        "IPY_MODEL_352abf6db1164280801cd7e233886c21"
       ],
       "layout": "IPY_MODEL_00a46ee34ef24b60a16b33a5ea9ca05a"
      }
     },
     "50c7171a62ff44cdbce6d844e46f689e": {
      "model_module": "@jupyter-widgets/controls",
      "model_module_version": "1.5.0",
      "model_name": "DescriptionStyleModel",
      "state": {
       "description_width": ""
      }
     },
     "51bb071d463440408372e6db998dbec1": {
      "model_module": "@jupyter-widgets/controls",
      "model_module_version": "1.5.0",
      "model_name": "DescriptionStyleModel",
      "state": {
       "description_width": ""
      }
     },
     "523b8a7f7b824e23bb8f8b7fd51b0a32": {
      "model_module": "@jupyter-widgets/controls",
      "model_module_version": "1.5.0",
      "model_name": "DescriptionStyleModel",
      "state": {
       "description_width": ""
      }
     },
     "5315cb3c2dc746a2ad045e0685759fa0": {
      "model_module": "@jupyter-widgets/controls",
      "model_module_version": "1.5.0",
      "model_name": "DescriptionStyleModel",
      "state": {
       "description_width": ""
      }
     },
     "5385aea790004d67ab81ac9449369fd1": {
      "model_module": "@jupyter-widgets/controls",
      "model_module_version": "1.5.0",
      "model_name": "VBoxModel",
      "state": {
       "children": [
        "IPY_MODEL_f9842e722bca46ea8fe65fb474c7e94b"
       ],
       "layout": "IPY_MODEL_5b7a761c26384a8d808bb30f2bb09a4b"
      }
     },
     "53ef464f50cf406dac90f9523b9b1041": {
      "model_module": "@jupyter-widgets/base",
      "model_module_version": "1.2.0",
      "model_name": "LayoutModel",
      "state": {}
     },
     "55ae281ae7ac4a27a201bfd3b06a27c9": {
      "model_module": "@jupyter-widgets/base",
      "model_module_version": "1.2.0",
      "model_name": "LayoutModel",
      "state": {
       "grid_area": "input",
       "width": "auto"
      }
     },
     "5891383acb3c44b7a527178fb9caaeb9": {
      "model_module": "@jupyter-widgets/base",
      "model_module_version": "1.2.0",
      "model_name": "LayoutModel",
      "state": {}
     },
     "58e799c473634bd785c94264de326423": {
      "model_module": "@jupyter-widgets/base",
      "model_module_version": "1.2.0",
      "model_name": "LayoutModel",
      "state": {
       "grid_area": "label",
       "width": "auto"
      }
     },
     "5a4a2d78f2e34dbaaf5284b40a3ef293": {
      "model_module": "@jupyter-widgets/base",
      "model_module_version": "1.2.0",
      "model_name": "LayoutModel",
      "state": {}
     },
     "5b7a761c26384a8d808bb30f2bb09a4b": {
      "model_module": "@jupyter-widgets/base",
      "model_module_version": "1.2.0",
      "model_name": "LayoutModel",
      "state": {}
     },
     "5b9396a62a074fb3b61af23c57133bd0": {
      "model_module": "@jupyter-widgets/controls",
      "model_module_version": "1.5.0",
      "model_name": "LabelModel",
      "state": {
       "description": "The dataset to display - .gct",
       "layout": "IPY_MODEL_9910a9da025346769ffb039aa4e4987e",
       "style": "IPY_MODEL_326763400d8b4e75aefb71159ad5b2a0",
       "value": "The dataset to display - .gct"
      }
     },
     "5cb89d7e1b864aeb9387879c3abf664f": {
      "model_module": "@jupyter-widgets/controls",
      "model_module_version": "1.5.0",
      "model_name": "DescriptionStyleModel",
      "state": {
       "description_width": ""
      }
     },
     "5d2b7431fa2d463caf680f8c30231347": {
      "model_module": "@jupyter-widgets/controls",
      "model_module_version": "1.5.0",
      "model_name": "TextModel",
      "state": {
       "_dom_classes": [
        "nbtools-menu-attached"
       ],
       "layout": "IPY_MODEL_cd9c67fcad524d37a69ff4135fb0d8fb",
       "style": "IPY_MODEL_61beae30297846548e62e70e39515177"
      }
     },
     "5d8dc96dcbf047d0a969b996590152ec": {
      "model_module": "@jupyter-widgets/base",
      "model_module_version": "1.2.0",
      "model_name": "LayoutModel",
      "state": {
       "grid_area": "input",
       "width": "auto"
      }
     },
     "5d9addbcfdf3499bad2f9f1c08049edb": {
      "model_module": "@jupyter-widgets/controls",
      "model_module_version": "1.5.0",
      "model_name": "DescriptionStyleModel",
      "state": {
       "description_width": ""
      }
     },
     "5f5ed6ab8fbd4357beea5cdea38892b3": {
      "model_module": "@jupyter-widgets/controls",
      "model_module_version": "1.5.0",
      "model_name": "LabelModel",
      "state": {
       "description": "output variable",
       "layout": "IPY_MODEL_03958960b61c4d93877bb7ed6f292529",
       "style": "IPY_MODEL_a6ba4da91d9d4f128afd56e9cfa0ccf2",
       "value": "output variable"
      }
     },
     "5f69cb494a3044e78f3d26973b60e7fb": {
      "model_module": "@jupyter-widgets/controls",
      "model_module_version": "1.5.0",
      "model_name": "VBoxModel",
      "state": {
       "_dom_classes": [
        "widget-interact"
       ],
       "children": [
        "IPY_MODEL_f2ba9f2915c94936a80c139215bc5628",
        "IPY_MODEL_94e36551ac1240389f6963a8008db1ad",
        "IPY_MODEL_b80a4200a0e84252b3938c5c7d5ab949",
        "IPY_MODEL_cac7c34a686746a895fa214ea99d389f"
       ],
       "layout": "IPY_MODEL_e45e75237b1142aba6d4005e0b662e58"
      }
     },
     "60961a2b8d3946d1af9b1c0558430bdc": {
      "model_module": "@jupyter-widgets/controls",
      "model_module_version": "1.5.0",
      "model_name": "LabelModel",
      "state": {
       "description": "bar",
       "layout": "IPY_MODEL_1730b6900e0d4750aae46d52de54c056",
       "style": "IPY_MODEL_b4b2113d03fb4716bb8d9fe4b649b943",
       "value": "bar*"
      }
     },
     "61beae30297846548e62e70e39515177": {
      "model_module": "@jupyter-widgets/controls",
      "model_module_version": "1.5.0",
      "model_name": "DescriptionStyleModel",
      "state": {
       "description_width": ""
      }
     },
     "61fe4d5e393042788f98f37a079306f3": {
      "model_module": "@jupyter-widgets/base",
      "model_module_version": "1.2.0",
      "model_name": "LayoutModel",
      "state": {}
     },
     "62fd88c3efda4ca5809b0ca3601a9433": {
      "model_module": "@jupyter-widgets/controls",
      "model_module_version": "1.5.0",
      "model_name": "ComboboxModel",
      "state": {
       "_dom_classes": [
        "nbtools-menu-attached",
        "nbtools-nosendto"
       ],
       "choices": {
        "Broad Internal": "https://gpbroad.broadinstitute.org/gp",
        "GenePattern Cloud": "https://cloud.genepattern.org/gp",
        "Indiana University": "https://gp.indiana.edu/gp"
       },
       "ensure_option": false,
       "kinds": [],
       "layout": "IPY_MODEL_432c9743de354abeb3ef2898e797e6f9",
       "style": "IPY_MODEL_b55713ce39614626ac4e836d77a15def",
       "value": "https://cloud.genepattern.org/gp"
      }
     },
     "6421bd16626c4fa28f2fba94f13d8a12": {
      "model_module": "@jupyter-widgets/controls",
      "model_module_version": "1.5.0",
      "model_name": "DescriptionStyleModel",
      "state": {
       "description_width": ""
      }
     },
     "648546cb49984234b027c3d02bfe3325": {
      "model_module": "@jupyter-widgets/controls",
      "model_module_version": "1.5.0",
      "model_name": "LabelModel",
      "state": {
       "layout": "IPY_MODEL_bb0cba5c7c974e37aa90cd78847d7743",
       "style": "IPY_MODEL_cd23e27f688f48819fa194885dbc71ca"
      }
     },
     "68fb0cc711e44280a858676549312301": {
      "model_module": "@jupyter-widgets/base",
      "model_module_version": "1.2.0",
      "model_name": "LayoutModel",
      "state": {}
     },
     "6903e8b8bdd64e0f831c0d9724558575": {
      "model_module": "@jupyter-widgets/base",
      "model_module_version": "1.2.0",
      "model_name": "LayoutModel",
      "state": {
       "grid_area": "label",
       "width": "auto"
      }
     },
     "69712ff78d9c44f18d128acfae1b2beb": {
      "model_module": "@jupyter-widgets/base",
      "model_module_version": "1.2.0",
      "model_name": "LayoutModel",
      "state": {}
     },
     "69dc9ece700c4a9b8aba3518735afc39": {
      "model_module": "@jupyter-widgets/controls",
      "model_module_version": "1.5.0",
      "model_name": "ButtonStyleModel",
      "state": {}
     },
     "6ab9d3b06bce4143880a6405ede7e5a6": {
      "model_module": "@jupyter-widgets/base",
      "model_module_version": "1.2.0",
      "model_name": "LayoutModel",
      "state": {
       "grid_area": "input",
       "width": "auto"
      }
     },
     "6c3ffd57b53d4e8c9aea1f8f23320565": {
      "model_module": "@jupyter-widgets/controls",
      "model_module_version": "1.5.0",
      "model_name": "DescriptionStyleModel",
      "state": {
       "description_width": ""
      }
     },
     "6ddae61474a849a284cff248a86d2d08": {
      "model_module": "@jupyter-widgets/controls",
      "model_module_version": "1.5.0",
      "model_name": "ButtonModel",
      "state": {
       "_dom_classes": [
        "hidden"
       ],
       "description": "Run",
       "layout": "IPY_MODEL_953718737ee34dca8d5287143702b214",
       "style": "IPY_MODEL_d907c0835d2e42c99d37362b047aff33"
      }
     },
     "6ddcf02f2be84d2e9cdc2bab103e6be5": {
      "model_module": "@jupyter-widgets/output",
      "model_module_version": "1.0.0",
      "model_name": "OutputModel",
      "state": {
       "layout": "IPY_MODEL_45a5cfde1fc7409e9f3b062fa0e6961f"
      }
     },
     "6df008d4a3364e68bd1a73baa31c9c4a": {
      "model_module": "@jupyter-widgets/controls",
      "model_module_version": "1.5.0",
      "model_name": "VBoxModel",
      "state": {
       "children": [
        "IPY_MODEL_ac3e7ceb16214f39934a247281cf4de8"
       ],
       "layout": "IPY_MODEL_43987a6da15047c7b84bede2ed0fafb2"
      }
     },
     "6ed9dae57e2f44ad92180fa7a0373c80": {
      "model_module": "@jupyter-widgets/base",
      "model_module_version": "1.2.0",
      "model_name": "LayoutModel",
      "state": {}
     },
     "6f38798192f5482f92cdf0c498494acb": {
      "model_module": "@jupyter-widgets/controls",
      "model_module_version": "1.5.0",
      "model_name": "DescriptionStyleModel",
      "state": {
       "description_width": ""
      }
     },
     "7060e9299ffd4295b812d5a9edc6cb1f": {
      "model_module": "@jupyter-widgets/controls",
      "model_module_version": "1.5.0",
      "model_name": "LabelModel",
      "state": {
       "description": "output variable",
       "layout": "IPY_MODEL_f8cce16c4f404685bc0910c60c0a4817",
       "style": "IPY_MODEL_ec84803b96e247ddb4d1167aff6ad219",
       "value": "output variable"
      }
     },
     "7297cadfba454a8b80c434ed76f7100d": {
      "model_module": "@jupyter-widgets/base",
      "model_module_version": "1.2.0",
      "model_name": "LayoutModel",
      "state": {}
     },
     "72ad76acf43a4af4a525d7561c4124b2": {
      "model_module": "@jupyter-widgets/controls",
      "model_module_version": "1.5.0",
      "model_name": "DescriptionStyleModel",
      "state": {
       "description_width": ""
      }
     },
     "7443b8d189fb4b519e3021c145411fc6": {
      "model_module": "@jupyter-widgets/output",
      "model_module_version": "1.0.0",
      "model_name": "OutputModel",
      "state": {
       "layout": "IPY_MODEL_9739cfe1ab6942178d254fa86a46149c"
      }
     },
     "75a2cd3fef8d41c588784f91a3fd1b0b": {
      "model_module": "@jupyter-widgets/controls",
      "model_module_version": "1.5.0",
      "model_name": "DescriptionStyleModel",
      "state": {
       "description_width": ""
      }
     },
     "75e7df83acc4437fba5be751a24242c5": {
      "model_module": "@jupyter-widgets/base",
      "model_module_version": "1.2.0",
      "model_name": "LayoutModel",
      "state": {
       "grid_area": "label",
       "width": "auto"
      }
     },
     "75e9029104f54d90a8b23ce7c42e061c": {
      "model_module": "@jupyter-widgets/controls",
      "model_module_version": "1.5.0",
      "model_name": "DescriptionStyleModel",
      "state": {
       "description_width": ""
      }
     },
     "76426a26e1894bd4bc9711af849db4bd": {
      "model_module": "@jupyter-widgets/output",
      "model_module_version": "1.0.0",
      "model_name": "OutputModel",
      "state": {
       "layout": "IPY_MODEL_d3b5d10076834631859ca369f30f8d44"
      }
     },
     "76bbab2fcadb47c496f3f97e8c89147a": {
      "model_module": "@jupyter-widgets/base",
      "model_module_version": "1.2.0",
      "model_name": "LayoutModel",
      "state": {
       "grid_area": "input",
       "width": "auto"
      }
     },
     "76c18bdc300a4c86944f122ed0e493cc": {
      "model_module": "@jupyter-widgets/base",
      "model_module_version": "1.2.0",
      "model_name": "LayoutModel",
      "state": {}
     },
     "7877d228ed3846058880dc7ed7930f19": {
      "model_module": "@jupyter-widgets/output",
      "model_module_version": "1.0.0",
      "model_name": "OutputModel",
      "state": {
       "layout": "IPY_MODEL_9ea45c8cdc864261a732eaa7e9b10393"
      }
     },
     "790b6a6b654941de9cb950754ec32d29": {
      "model_module": "@jupyter-widgets/controls",
      "model_module_version": "1.5.0",
      "model_name": "VBoxModel",
      "state": {
       "_dom_classes": [
        "widget-interact"
       ],
       "children": [
        "IPY_MODEL_b917a962bfe2447582c5cbd1fc52e11e",
        "IPY_MODEL_0de401255e884e9e847d2b84d9d4baa9",
        "IPY_MODEL_f3b06aeee9974453827a48f1e5c56456"
       ],
       "layout": "IPY_MODEL_c9c3ecbbb14f405fae36930e766cf62c"
      }
     },
     "7d20952ca4594610822b414a18f2e97e": {
      "model_module": "@jupyter-widgets/base",
      "model_module_version": "1.2.0",
      "model_name": "LayoutModel",
      "state": {}
     },
     "7da3865566c047e18c884dac6677e404": {
      "model_module": "@jupyter-widgets/base",
      "model_module_version": "1.2.0",
      "model_name": "LayoutModel",
      "state": {}
     },
     "7e1ec4a4366c46ca8f3ceec9d66731a5": {
      "model_module": "@jupyter-widgets/base",
      "model_module_version": "1.2.0",
      "model_name": "LayoutModel",
      "state": {
       "grid_area": "description",
       "width": "auto"
      }
     },
     "7e520a6c007b4a5ea9536aa3f477e2e0": {
      "model_module": "@jupyter-widgets/controls",
      "model_module_version": "1.5.0",
      "model_name": "LabelModel",
      "state": {
       "description": "Username",
       "layout": "IPY_MODEL_10b7394b617f48829e2a3289e53ab519",
       "style": "IPY_MODEL_b3d188f0cc44471991adb23c01b0bec9",
       "value": "Username*"
      }
     },
     "7f45147dc1a24dcea7bdf951548bc352": {
      "model_module": "@jupyter-widgets/base",
      "model_module_version": "1.2.0",
      "model_name": "LayoutModel",
      "state": {
       "display": "none",
       "grid_template_areas": "\n                    \"label input\"\n                    \". description\"\n                ",
       "grid_template_columns": "25% 75%",
       "grid_template_rows": "auto auto",
       "width": "100%"
      }
     },
     "7fa6d526038a42f899595af8b2b69518": {
      "model_module": "@jupyter-widgets/controls",
      "model_module_version": "1.5.0",
      "model_name": "DescriptionStyleModel",
      "state": {
       "description_width": ""
      }
     },
     "815a8813dbed418ca560482c6faf4012": {
      "model_module": "@jupyter-widgets/base",
      "model_module_version": "1.2.0",
      "model_name": "LayoutModel",
      "state": {
       "grid_template_areas": "\n                    \"label input\"\n                    \". description\"\n                ",
       "grid_template_columns": "25% 75%",
       "grid_template_rows": "auto auto",
       "width": "100%"
      }
     },
     "81a829c7ea6a45ffa72bf477b1c7716d": {
      "model_module": "@jupyter-widgets/base",
      "model_module_version": "1.2.0",
      "model_name": "LayoutModel",
      "state": {
       "grid_template_areas": "\n                    \"label input\"\n                    \". description\"\n                ",
       "grid_template_columns": "25% 75%",
       "grid_template_rows": "auto auto",
       "width": "100%"
      }
     },
     "838ddf8d0b5642aab2d81b5d1a41f85d": {
      "model_module": "@jupyter-widgets/output",
      "model_module_version": "1.0.0",
      "model_name": "OutputModel",
      "state": {
       "layout": "IPY_MODEL_923c69c0e3ae4437b2c98c4811f1b0ab"
      }
     },
     "853872f13a6f4d83a90583d8f1c49334": {
      "model_module": "@jupyter-widgets/controls",
      "model_module_version": "1.5.0",
      "model_name": "VBoxModel",
      "state": {
       "_dom_classes": [
        "widget-interact"
       ],
       "children": [
        "IPY_MODEL_6ddae61474a849a284cff248a86d2d08",
        "IPY_MODEL_aba6dddda89f4937957b9f00b2e3e8e2"
       ],
       "layout": "IPY_MODEL_7297cadfba454a8b80c434ed76f7100d"
      }
     },
     "867c4665bcb0479f9b2594dbfcaec8b1": {
      "model_module": "@jupyter-widgets/base",
      "model_module_version": "1.2.0",
      "model_name": "LayoutModel",
      "state": {
       "grid_template_areas": "\n                    \"label input\"\n                    \". description\"\n                ",
       "grid_template_columns": "25% 75%",
       "grid_template_rows": "auto auto",
       "width": "100%"
      }
     },
     "884a77dd84bd4939bc074124ad5b83fd": {
      "model_module": "@jupyter-widgets/base",
      "model_module_version": "1.2.0",
      "model_name": "LayoutModel",
      "state": {}
     },
     "89cc81926cc04a5297a200b84b252fc2": {
      "model_module": "@jupyter-widgets/output",
      "model_module_version": "1.0.0",
      "model_name": "OutputModel",
      "state": {
       "layout": "IPY_MODEL_8cf3709669594cc7a1079352187c87cc"
      }
     },
     "89da4e6ed0bd4ef294adc9432d4e417f": {
      "model_module": "@jupyter-widgets/controls",
      "model_module_version": "1.5.0",
      "model_name": "GridBoxModel",
      "state": {
       "_dom_classes": [
        "nbtools-input",
        "nbtools-textinput"
       ],
       "children": [
        "IPY_MODEL_e7dcce61e99c49afa93b05c010317acb",
        "IPY_MODEL_2071be5a0d704291a2384a3e57b221b0",
        "IPY_MODEL_433af7dc66e14f99b8205b33eafd3028"
       ],
       "layout": "IPY_MODEL_d7c1aed4ae7944a3a1cdd371d76400c9"
      }
     },
     "8ae68c95f08c422fa9211d18043421be": {
      "model_module": "@jupyter-widgets/controls",
      "model_module_version": "1.5.0",
      "model_name": "DescriptionStyleModel",
      "state": {
       "description_width": ""
      }
     },
     "8b18225bbbc34cdcb10135b793391bf4": {
      "model_module": "@jupyter-widgets/controls",
      "model_module_version": "1.5.0",
      "model_name": "ButtonModel",
      "state": {
       "_dom_classes": [
        "hidden"
       ],
       "description": "Run",
       "layout": "IPY_MODEL_a46de34809a943239d5a8ef003d16c1c",
       "style": "IPY_MODEL_f8040caf3dc844b8a76dd1a267d0950a"
      }
     },
     "8cf3709669594cc7a1079352187c87cc": {
      "model_module": "@jupyter-widgets/base",
      "model_module_version": "1.2.0",
      "model_name": "LayoutModel",
      "state": {}
     },
     "8ffe2c7cfcb5439e80ea522412d543e9": {
      "model_module": "@jupyter-widgets/base",
      "model_module_version": "1.2.0",
      "model_name": "LayoutModel",
      "state": {}
     },
     "90b947bea45941e2adde25423af69079": {
      "model_module": "@jupyter-widgets/controls",
      "model_module_version": "1.5.0",
      "model_name": "ButtonModel",
      "state": {
       "_dom_classes": [
        "hidden"
       ],
       "description": "Run",
       "layout": "IPY_MODEL_218b8aafb65f4c53bf53726a6425d607",
       "style": "IPY_MODEL_cce321c4f5004cafb1720d6f4c0421fe"
      }
     },
     "919e8266cd614ef693afe9371a577a26": {
      "model_module": "@jupyter-widgets/controls",
      "model_module_version": "1.5.0",
      "model_name": "LabelModel",
      "state": {
       "description": "The output file",
       "layout": "IPY_MODEL_358477a9b2734837b957a7d8b9aa7c9a",
       "style": "IPY_MODEL_b94d5b591903424e8cb47329627f616c",
       "value": "The output file"
      }
     },
     "923c69c0e3ae4437b2c98c4811f1b0ab": {
      "model_module": "@jupyter-widgets/base",
      "model_module_version": "1.2.0",
      "model_name": "LayoutModel",
      "state": {}
     },
     "92fdf023581e4cc6ab7b521342697aba": {
      "model_module": "@jupyter-widgets/base",
      "model_module_version": "1.2.0",
      "model_name": "LayoutModel",
      "state": {}
     },
     "94e36551ac1240389f6963a8008db1ad": {
      "model_module": "@jupyter-widgets/controls",
      "model_module_version": "1.5.0",
      "model_name": "GridBoxModel",
      "state": {
       "_dom_classes": [
        "nbtools-input",
        "nbtools-textinput",
        "required"
       ],
       "children": [
        "IPY_MODEL_f75c693bfc3a47e8a372361e8ca70d3b",
        "IPY_MODEL_c23a0aaf83134a5cb47d714f178dfb86",
        "IPY_MODEL_919e8266cd614ef693afe9371a577a26"
       ],
       "layout": "IPY_MODEL_0648dd8af26b4093995843e7caf71001"
      }
     },
     "953718737ee34dca8d5287143702b214": {
      "model_module": "@jupyter-widgets/base",
      "model_module_version": "1.2.0",
      "model_name": "LayoutModel",
      "state": {}
     },
     "96bc88affa564b45aa32e0a2eb343e0e": {
      "model_module": "@jupyter-widgets/base",
      "model_module_version": "1.2.0",
      "model_name": "LayoutModel",
      "state": {
       "grid_area": "input",
       "width": "auto"
      }
     },
     "9715f156e7e548d6bc54695f10680da5": {
      "model_module": "@jupyter-widgets/controls",
      "model_module_version": "1.5.0",
      "model_name": "DescriptionStyleModel",
      "state": {
       "description_width": ""
      }
     },
     "9739cfe1ab6942178d254fa86a46149c": {
      "model_module": "@jupyter-widgets/base",
      "model_module_version": "1.2.0",
      "model_name": "LayoutModel",
      "state": {}
     },
     "98fde23406be4ea2a9f8182eeaef9982": {
      "model_module": "@jupyter-widgets/controls",
      "model_module_version": "1.5.0",
      "model_name": "DescriptionStyleModel",
      "state": {
       "description_width": ""
      }
     },
     "9910a9da025346769ffb039aa4e4987e": {
      "model_module": "@jupyter-widgets/base",
      "model_module_version": "1.2.0",
      "model_name": "LayoutModel",
      "state": {
       "grid_area": "description",
       "width": "auto"
      }
     },
     "998dd4fc6b634398821fd5a0c4578cff": {
      "model_module": "@jupyter-widgets/base",
      "model_module_version": "1.2.0",
      "model_name": "LayoutModel",
      "state": {}
     },
     "99cfcae2ab43435788a94c3285414c23": {
      "model_module": "@jupyter-widgets/controls",
      "model_module_version": "1.5.0",
      "model_name": "LabelModel",
      "state": {
       "layout": "IPY_MODEL_d4858e1bd5fb467bbe67c99a32eefdea",
       "style": "IPY_MODEL_6421bd16626c4fa28f2fba94f13d8a12"
      }
     },
     "99fcaabc59e245448b184efb8a28b58b": {
      "model_module": "@jupyter-widgets/base",
      "model_module_version": "1.2.0",
      "model_name": "LayoutModel",
      "state": {
       "grid_area": "description",
       "width": "auto"
      }
     },
     "9a6bcf47fd2a4d4a8b7b35d3d17d51f3": {
      "model_module": "@jupyter-widgets/controls",
      "model_module_version": "1.5.0",
      "model_name": "DescriptionStyleModel",
      "state": {
       "description_width": ""
      }
     },
     "9b84fb89ff4d44d6bc957d28292da25f": {
      "model_module": "@genepattern/nbtools",
      "model_module_version": "^20.10.0-alpha.0",
      "model_name": "UIBuilderModel",
      "state": {
       "_dom_classes": [],
       "_model_module_version": "^20.10.0-alpha.0",
       "_parameters": [
        {
         "choices": {},
         "default": "",
         "description": "The input file (any non-binary file format)",
         "events": null,
         "hide": false,
         "id": null,
         "kinds": [],
         "label": "input_filename",
         "name": "input_filename",
         "optional": false,
         "type": "file",
         "value": ""
        },
        {
         "choices": {},
         "default": "<input.filename_basename>.cvt.<input.filename_extension>",
         "description": "The output file",
         "events": null,
         "hide": false,
         "id": null,
         "kinds": [],
         "label": "output_file",
         "name": "output_file",
         "optional": false,
         "type": "text",
         "value": ""
        },
        {
         "choices": {},
         "default": "",
         "description": "",
         "events": null,
         "hide": true,
         "id": null,
         "kinds": null,
         "label": "output variable",
         "name": "output_var",
         "optional": true,
         "type": "text",
         "value": ""
        }
       ],
       "_view_count": null,
       "_view_module_version": "^20.10.0-alpha.0",
       "color": "rgba(10, 45, 105, 0.80)",
       "description": "Converts line endings to the host operating system's format.",
       "form": "IPY_MODEL_5f69cb494a3044e78f3d26973b60e7fb",
       "layout": "IPY_MODEL_5891383acb3c44b7a527178fb9caaeb9",
       "name": "ConvertLineEndings",
       "origin": "genepattern.taskwidget",
       "output": "IPY_MODEL_eb98faae966240458c7baf8afd08a4c4",
       "output_var": ""
      }
     },
     "9bc52f39d7bf43d3810e9f07d65e39e9": {
      "model_module": "@jupyter-widgets/base",
      "model_module_version": "1.2.0",
      "model_name": "LayoutModel",
      "state": {
       "grid_area": "description",
       "width": "auto"
      }
     },
     "9cf75dce96fa4542916f5a3aa19690e6": {
      "model_module": "@jupyter-widgets/controls",
      "model_module_version": "1.5.0",
      "model_name": "DescriptionStyleModel",
      "state": {
       "description_width": ""
      }
     },
     "9e8de6a9f6f74cbfb14e93b3f8026f5a": {
      "model_module": "@jupyter-widgets/controls",
      "model_module_version": "1.5.0",
      "model_name": "DescriptionStyleModel",
      "state": {
       "description_width": ""
      }
     },
     "9ea45c8cdc864261a732eaa7e9b10393": {
      "model_module": "@jupyter-widgets/base",
      "model_module_version": "1.2.0",
      "model_name": "LayoutModel",
      "state": {}
     },
     "9eb0a4a0b5a04ebc9f25a1e685fa91b3": {
      "model_module": "@jupyter-widgets/base",
      "model_module_version": "1.2.0",
      "model_name": "LayoutModel",
      "state": {}
     },
     "a20901125fef4c2d84c2c7ec39cede5b": {
      "model_module": "@jupyter-widgets/controls",
      "model_module_version": "1.5.0",
      "model_name": "VBoxModel",
      "state": {
       "_dom_classes": [
        "widget-interact"
       ],
       "children": [
        "IPY_MODEL_90b947bea45941e2adde25423af69079",
        "IPY_MODEL_7443b8d189fb4b519e3021c145411fc6"
       ],
       "layout": "IPY_MODEL_61fe4d5e393042788f98f37a079306f3"
      }
     },
     "a2b23ab7502e406aad8a9a664788236b": {
      "model_module": "@jupyter-widgets/output",
      "model_module_version": "1.0.0",
      "model_name": "OutputModel",
      "state": {
       "layout": "IPY_MODEL_ee28a552711e44b886ac09982afeb005"
      }
     },
     "a31f7c743d114b67b5a8ff7d98c7f8db": {
      "model_module": "@jupyter-widgets/base",
      "model_module_version": "1.2.0",
      "model_name": "LayoutModel",
      "state": {}
     },
     "a3caf4ab57d04e8a863748c29bddea19": {
      "model_module": "@jupyter-widgets/base",
      "model_module_version": "1.2.0",
      "model_name": "LayoutModel",
      "state": {}
     },
     "a4395a0dbc1540f08340c506c20637ea": {
      "model_module": "@jupyter-widgets/base",
      "model_module_version": "1.2.0",
      "model_name": "LayoutModel",
      "state": {
       "grid_area": "label",
       "width": "auto"
      }
     },
     "a46de34809a943239d5a8ef003d16c1c": {
      "model_module": "@jupyter-widgets/base",
      "model_module_version": "1.2.0",
      "model_name": "LayoutModel",
      "state": {}
     },
     "a598142c68e4412a9a02aac41facb8e3": {
      "model_module": "@jupyter-widgets/base",
      "model_module_version": "1.2.0",
      "model_name": "LayoutModel",
      "state": {
       "grid_area": "label",
       "width": "auto"
      }
     },
     "a61fe562b72d47fd97762fa1b105e610": {
      "model_module": "@jupyter-widgets/controls",
      "model_module_version": "1.5.0",
      "model_name": "TextModel",
      "state": {
       "_dom_classes": [
        "nbtools-menu-attached"
       ],
       "layout": "IPY_MODEL_c22720d888704963811aa650e762e4ca",
       "style": "IPY_MODEL_d7c2d7baf7324bdfbfb50cf980c3888d"
      }
     },
     "a6ba4da91d9d4f128afd56e9cfa0ccf2": {
      "model_module": "@jupyter-widgets/controls",
      "model_module_version": "1.5.0",
      "model_name": "DescriptionStyleModel",
      "state": {
       "description_width": ""
      }
     },
     "aa066e1525ff47c98574c3bd04c05de6": {
      "model_module": "@jupyter-widgets/base",
      "model_module_version": "1.2.0",
      "model_name": "LayoutModel",
      "state": {
       "grid_area": "description",
       "width": "auto"
      }
     },
     "ab143eea646e444784585e0f6232763a": {
      "model_module": "@jupyter-widgets/controls",
      "model_module_version": "1.5.0",
      "model_name": "LabelModel",
      "state": {
       "layout": "IPY_MODEL_99fcaabc59e245448b184efb8a28b58b",
       "style": "IPY_MODEL_5d9addbcfdf3499bad2f9f1c08049edb"
      }
     },
     "ab1b3b1c0e644b3c81b89f9aa8b8b627": {
      "model_module": "@jupyter-widgets/controls",
      "model_module_version": "1.5.0",
      "model_name": "GridBoxModel",
      "state": {
       "_dom_classes": [
        "nbtools-input",
        "nbtools-comboinput",
        "required"
       ],
       "children": [
        "IPY_MODEL_cf64ff919cbe4406bd2b40697bcde0e7",
        "IPY_MODEL_62fd88c3efda4ca5809b0ca3601a9433",
        "IPY_MODEL_e3a19b5888ac4d81ac55c10402865fa3"
       ],
       "layout": "IPY_MODEL_e4f9fe852cbb411b936f7179556580cd"
      }
     },
     "aba6dddda89f4937957b9f00b2e3e8e2": {
      "model_module": "@jupyter-widgets/output",
      "model_module_version": "1.0.0",
      "model_name": "OutputModel",
      "state": {
       "layout": "IPY_MODEL_a31f7c743d114b67b5a8ff7d98c7f8db"
      }
     },
     "ac3e7ceb16214f39934a247281cf4de8": {
      "model_module": "@jupyter-widgets/controls",
      "model_module_version": "1.5.0",
      "model_name": "ComboboxModel",
      "state": {
       "_dom_classes": [
        "nbtools-menu-attached"
       ],
       "choices": {},
       "ensure_option": false,
       "kinds": [],
       "layout": "IPY_MODEL_4bcc502458f444feb7a00d2922869d65",
       "style": "IPY_MODEL_e9241d6123174b9ab140f444f813252c"
      }
     },
     "ae760dc09e634b2793c595c1a9d29f9d": {
      "model_module": "@jupyter-widgets/controls",
      "model_module_version": "1.5.0",
      "model_name": "DescriptionStyleModel",
      "state": {
       "description_width": ""
      }
     },
     "af17de16df8a4269b9b7b4ceefb5079c": {
      "model_module": "@jupyter-widgets/base",
      "model_module_version": "1.2.0",
      "model_name": "LayoutModel",
      "state": {
       "grid_area": "input",
       "width": "auto"
      }
     },
     "af3c0f866ca94c449fde5a02a4356071": {
      "model_module": "@jupyter-widgets/controls",
      "model_module_version": "1.5.0",
      "model_name": "DescriptionStyleModel",
      "state": {
       "description_width": ""
      }
     },
     "b18b7a7e63cb477da678d758e72eef2e": {
      "model_module": "@jupyter-widgets/controls",
      "model_module_version": "1.5.0",
      "model_name": "GridBoxModel",
      "state": {
       "_dom_classes": [
        "nbtools-input",
        "nbtools-textinput"
       ],
       "children": [
        "IPY_MODEL_cccba834d19b45c0a069c89297192ea8",
        "IPY_MODEL_f8eec14a4b994c64a48fbb905a601218",
        "IPY_MODEL_19d4af15b719443e817ecf8ca76c2a1f"
       ],
       "layout": "IPY_MODEL_3531de5f60f746eb9c7a35d70c7bba5d"
      }
     },
     "b1eb90bb4ab84f6ca9a90f0b9f0bdd1f": {
      "model_module": "@jupyter-widgets/base",
      "model_module_version": "1.2.0",
      "model_name": "LayoutModel",
      "state": {
       "display": "none",
       "grid_template_areas": "\n                    \"label input\"\n                    \". description\"\n                ",
       "grid_template_columns": "25% 75%",
       "grid_template_rows": "auto auto",
       "width": "100%"
      }
     },
     "b2509de756c04f5eb957b0b540539780": {
      "model_module": "@jupyter-widgets/controls",
      "model_module_version": "1.5.0",
      "model_name": "DescriptionStyleModel",
      "state": {
       "description_width": ""
      }
     },
     "b36e284e818448f08b6c02f4627fe86d": {
      "model_module": "@jupyter-widgets/base",
      "model_module_version": "1.2.0",
      "model_name": "LayoutModel",
      "state": {
       "display": "none",
       "grid_template_areas": "\n                    \"label input\"\n                    \". description\"\n                ",
       "grid_template_columns": "25% 75%",
       "grid_template_rows": "auto auto",
       "width": "100%"
      }
     },
     "b38899f8bca347369bab1f3f50280f9c": {
      "model_module": "@jupyter-widgets/base",
      "model_module_version": "1.2.0",
      "model_name": "LayoutModel",
      "state": {
       "grid_area": "input",
       "width": "auto"
      }
     },
     "b3c4675a08c742278a274a3b64dc3299": {
      "model_module": "@jupyter-widgets/controls",
      "model_module_version": "1.5.0",
      "model_name": "VBoxModel",
      "state": {
       "_dom_classes": [
        "widget-interact"
       ],
       "children": [
        "IPY_MODEL_ca2a42d0a5da4760a4dc032e6e2c05b0",
        "IPY_MODEL_d9007279cdc642a2a9932194f81d6cfe"
       ],
       "layout": "IPY_MODEL_38269cf3e9654190a56049d5b156983b"
      }
     },
     "b3d188f0cc44471991adb23c01b0bec9": {
      "model_module": "@jupyter-widgets/controls",
      "model_module_version": "1.5.0",
      "model_name": "DescriptionStyleModel",
      "state": {
       "description_width": ""
      }
     },
     "b446d7c91bbb4fa9a2eb1b260713152f": {
      "model_module": "@jupyter-widgets/base",
      "model_module_version": "1.2.0",
      "model_name": "LayoutModel",
      "state": {}
     },
     "b4b2113d03fb4716bb8d9fe4b649b943": {
      "model_module": "@jupyter-widgets/controls",
      "model_module_version": "1.5.0",
      "model_name": "DescriptionStyleModel",
      "state": {
       "description_width": ""
      }
     },
     "b55713ce39614626ac4e836d77a15def": {
      "model_module": "@jupyter-widgets/controls",
      "model_module_version": "1.5.0",
      "model_name": "DescriptionStyleModel",
      "state": {
       "description_width": ""
      }
     },
     "b56dc092c5574f2f8da3151604010b89": {
      "model_module": "@jupyter-widgets/base",
      "model_module_version": "1.2.0",
      "model_name": "LayoutModel",
      "state": {
       "grid_area": "description",
       "width": "auto"
      }
     },
     "b6c000137edf4dd78a33904445fbd1de": {
      "model_module": "@jupyter-widgets/output",
      "model_module_version": "1.0.0",
      "model_name": "OutputModel",
      "state": {
       "layout": "IPY_MODEL_9eb0a4a0b5a04ebc9f25a1e685fa91b3",
       "outputs": [
        {
         "data": {},
         "metadata": {},
         "output_type": "display_data"
        },
        {
         "data": {
          "application/vnd.jupyter.widget-view+json": {
           "model_id": "e3d74b4f07d343518c05da156275ca17",
           "version_major": 2,
           "version_minor": 0
          },
          "text/plain": "GPTaskWidget(collapse=True, color='rgba(10, 45, 105, 0.80)', description='A configurable heat map viewer that …"
         },
         "metadata": {},
         "output_type": "display_data"
        },
        {
         "data": {
          "application/vnd.jupyter.widget-view+json": {
           "model_id": "89cc81926cc04a5297a200b84b252fc2",
           "version_major": 2,
           "version_minor": 0
          },
          "text/plain": "Output()"
         },
         "metadata": {},
         "output_type": "display_data"
        }
       ]
      }
     },
     "b80a4200a0e84252b3938c5c7d5ab949": {
      "model_module": "@jupyter-widgets/controls",
      "model_module_version": "1.5.0",
      "model_name": "ButtonModel",
      "state": {
       "_dom_classes": [
        "hidden"
       ],
       "description": "Run",
       "layout": "IPY_MODEL_7d20952ca4594610822b414a18f2e97e",
       "style": "IPY_MODEL_ee481549056e4d4b88ad9561db548265"
      }
     },
     "b917a962bfe2447582c5cbd1fc52e11e": {
      "model_module": "@jupyter-widgets/controls",
      "model_module_version": "1.5.0",
      "model_name": "GridBoxModel",
      "state": {
       "_dom_classes": [
        "nbtools-input",
        "nbtools-textinput",
        "required"
       ],
       "children": [
        "IPY_MODEL_60961a2b8d3946d1af9b1c0558430bdc",
        "IPY_MODEL_ee7b627c4b094a3e994f7d5a99b34d9c",
        "IPY_MODEL_2a8ce976b7ad45a78b5eb8d84d907612"
       ],
       "layout": "IPY_MODEL_815a8813dbed418ca560482c6faf4012"
      }
     },
     "b94d5b591903424e8cb47329627f616c": {
      "model_module": "@jupyter-widgets/controls",
      "model_module_version": "1.5.0",
      "model_name": "DescriptionStyleModel",
      "state": {
       "description_width": ""
      }
     },
     "b9dd894ca4d34f9899ca9a696b61b702": {
      "model_module": "@jupyter-widgets/output",
      "model_module_version": "1.0.0",
      "model_name": "OutputModel",
      "state": {
       "layout": "IPY_MODEL_fe7002c1db6b4a34a16bb6fea28fb5cb"
      }
     },
     "bb0cba5c7c974e37aa90cd78847d7743": {
      "model_module": "@jupyter-widgets/base",
      "model_module_version": "1.2.0",
      "model_name": "LayoutModel",
      "state": {
       "grid_area": "description",
       "width": "auto"
      }
     },
     "bd0be6cc9a7740f5a0742f3bdb72bd4a": {
      "model_module": "@jupyter-widgets/base",
      "model_module_version": "1.2.0",
      "model_name": "LayoutModel",
      "state": {}
     },
     "be5f3f82b0cb4f6db0b0ba2290c10b19": {
      "model_module": "@jupyter-widgets/base",
      "model_module_version": "1.2.0",
      "model_name": "LayoutModel",
      "state": {
       "grid_area": "label",
       "width": "auto"
      }
     },
     "c1d50404e5db4c95975de5e4e6b3da39": {
      "model_module": "@jupyter-widgets/controls",
      "model_module_version": "1.5.0",
      "model_name": "HBoxModel",
      "state": {
       "children": [
        "IPY_MODEL_331567b90ee642ebaaa7d3deac3337fd",
        "IPY_MODEL_5385aea790004d67ab81ac9449369fd1"
       ],
       "layout": "IPY_MODEL_e13bd7b0e154452b9219436419abd803"
      }
     },
     "c22720d888704963811aa650e762e4ca": {
      "model_module": "@jupyter-widgets/base",
      "model_module_version": "1.2.0",
      "model_name": "LayoutModel",
      "state": {
       "grid_area": "input",
       "width": "auto"
      }
     },
     "c23a0aaf83134a5cb47d714f178dfb86": {
      "model_module": "@jupyter-widgets/controls",
      "model_module_version": "1.5.0",
      "model_name": "TextModel",
      "state": {
       "_dom_classes": [
        "nbtools-menu-attached"
       ],
       "layout": "IPY_MODEL_0549314a63284ccdb3bade6a13d815a7",
       "style": "IPY_MODEL_c264831f9b114eea9ff04642766d9c88",
       "value": "<input.filename_basename>.cvt.<input.filename_extension>"
      }
     },
     "c264831f9b114eea9ff04642766d9c88": {
      "model_module": "@jupyter-widgets/controls",
      "model_module_version": "1.5.0",
      "model_name": "DescriptionStyleModel",
      "state": {
       "description_width": ""
      }
     },
     "c30570be59ab4fa5a7720ffe032ba39d": {
      "model_module": "@jupyter-widgets/base",
      "model_module_version": "1.2.0",
      "model_name": "LayoutModel",
      "state": {
       "grid_area": "label",
       "width": "auto"
      }
     },
     "c3a61b9a426a4f88a3661c441eeda2ff": {
      "model_module": "@jupyter-widgets/base",
      "model_module_version": "1.2.0",
      "model_name": "LayoutModel",
      "state": {
       "grid_area": "input",
       "width": "auto"
      }
     },
     "c7ec7ce623774b1c9354ab164ebf739c": {
      "model_module": "@jupyter-widgets/controls",
      "model_module_version": "1.5.0",
      "model_name": "VBoxModel",
      "state": {
       "_dom_classes": [
        "widget-interact"
       ],
       "children": [
        "IPY_MODEL_41100140552546aeba3d958d293579fc",
        "IPY_MODEL_d65cf81f80e5414cb563cc2613a2fb5d"
       ],
       "layout": "IPY_MODEL_a3caf4ab57d04e8a863748c29bddea19"
      }
     },
     "c86dd8a7d8724aed9070acc26ab5c857": {
      "model_module": "@jupyter-widgets/base",
      "model_module_version": "1.2.0",
      "model_name": "LayoutModel",
      "state": {
       "grid_template_areas": "\n                    \"label input\"\n                    \". description\"\n                ",
       "grid_template_columns": "25% 75%",
       "grid_template_rows": "auto auto",
       "width": "100%"
      }
     },
     "c9108a34a0544ff0b59d4ddc6a1f6208": {
      "model_module": "@jupyter-widgets/base",
      "model_module_version": "1.2.0",
      "model_name": "LayoutModel",
      "state": {
       "grid_area": "label",
       "width": "auto"
      }
     },
     "c994b59ab3424ddeb0cea4b90d930339": {
      "model_module": "@jupyter-widgets/output",
      "model_module_version": "1.0.0",
      "model_name": "OutputModel",
      "state": {
       "layout": "IPY_MODEL_5a4a2d78f2e34dbaaf5284b40a3ef293",
       "outputs": [
        {
         "data": {},
         "metadata": {},
         "output_type": "display_data"
        },
        {
         "data": {
          "application/vnd.jupyter.widget-view+json": {
           "model_id": "9b84fb89ff4d44d6bc957d28292da25f",
           "version_major": 2,
           "version_minor": 0
          },
          "text/plain": "GPTaskWidget(collapse=True, color='rgba(10, 45, 105, 0.80)', description=\"Converts line endings to the host op…"
         },
         "metadata": {},
         "output_type": "display_data"
        },
        {
         "data": {
          "application/vnd.jupyter.widget-view+json": {
           "model_id": "eb98faae966240458c7baf8afd08a4c4",
           "version_major": 2,
           "version_minor": 0
          },
          "text/plain": "Output()"
         },
         "metadata": {},
         "output_type": "display_data"
        }
       ]
      }
     },
     "c9c3ecbbb14f405fae36930e766cf62c": {
      "model_module": "@jupyter-widgets/base",
      "model_module_version": "1.2.0",
      "model_name": "LayoutModel",
      "state": {}
     },
     "ca1ba54185cd49ddb92243aa775919cf": {
      "model_module": "@jupyter-widgets/output",
      "model_module_version": "1.0.0",
      "model_name": "OutputModel",
      "state": {
       "layout": "IPY_MODEL_998dd4fc6b634398821fd5a0c4578cff"
      }
     },
     "ca2a42d0a5da4760a4dc032e6e2c05b0": {
      "model_module": "@jupyter-widgets/controls",
      "model_module_version": "1.5.0",
      "model_name": "ButtonModel",
      "state": {
       "_dom_classes": [
        "hidden"
       ],
       "description": "Run",
       "layout": "IPY_MODEL_e609cb70ccbc4bfbab4b9419d478f932",
       "style": "IPY_MODEL_3ef3ee8c870246cca4915fafe0911987"
      }
     },
     "ca3596b4caca4c5ea90e1a81f871b86d": {
      "model_module": "@jupyter-widgets/controls",
      "model_module_version": "1.5.0",
      "model_name": "ButtonStyleModel",
      "state": {}
     },
     "cac7c34a686746a895fa214ea99d389f": {
      "model_module": "@jupyter-widgets/controls",
      "model_module_version": "1.5.0",
      "model_name": "GridBoxModel",
      "state": {
       "_dom_classes": [
        "nbtools-input",
        "nbtools-textinput"
       ],
       "children": [
        "IPY_MODEL_00dd9a2de85a44d0a24068aa0856ca10",
        "IPY_MODEL_410856ecf7bc4f43a58a1d4556d70123",
        "IPY_MODEL_dd79dc65a64740798386426397fa8f92"
       ],
       "layout": "IPY_MODEL_7f45147dc1a24dcea7bdf951548bc352"
      }
     },
     "cc49cae33a7f4f74930391b355222711": {
      "model_module": "@jupyter-widgets/controls",
      "model_module_version": "1.5.0",
      "model_name": "DescriptionStyleModel",
      "state": {
       "description_width": ""
      }
     },
     "cccba834d19b45c0a069c89297192ea8": {
      "model_module": "@jupyter-widgets/controls",
      "model_module_version": "1.5.0",
      "model_name": "LabelModel",
      "state": {
       "description": "output variable",
       "layout": "IPY_MODEL_6903e8b8bdd64e0f831c0d9724558575",
       "style": "IPY_MODEL_75e9029104f54d90a8b23ce7c42e061c",
       "value": "output variable"
      }
     },
     "cce321c4f5004cafb1720d6f4c0421fe": {
      "model_module": "@jupyter-widgets/controls",
      "model_module_version": "1.5.0",
      "model_name": "ButtonStyleModel",
      "state": {}
     },
     "cd23e27f688f48819fa194885dbc71ca": {
      "model_module": "@jupyter-widgets/controls",
      "model_module_version": "1.5.0",
      "model_name": "DescriptionStyleModel",
      "state": {
       "description_width": ""
      }
     },
     "cd9c67fcad524d37a69ff4135fb0d8fb": {
      "model_module": "@jupyter-widgets/base",
      "model_module_version": "1.2.0",
      "model_name": "LayoutModel",
      "state": {
       "grid_area": "input",
       "width": "auto"
      }
     },
     "cf64ff919cbe4406bd2b40697bcde0e7": {
      "model_module": "@jupyter-widgets/controls",
      "model_module_version": "1.5.0",
      "model_name": "LabelModel",
      "state": {
       "description": "GenePattern Server",
       "layout": "IPY_MODEL_4110ff4f55d14048813f24cdf835622a",
       "style": "IPY_MODEL_6c3ffd57b53d4e8c9aea1f8f23320565",
       "value": "GenePattern Server*"
      }
     },
     "cfe4e9e55c274fadb0c76ffed4cbb43f": {
      "model_module": "@jupyter-widgets/base",
      "model_module_version": "1.2.0",
      "model_name": "LayoutModel",
      "state": {}
     },
     "d099b164d9c846ac82c0f0237871a17a": {
      "model_module": "@jupyter-widgets/base",
      "model_module_version": "1.2.0",
      "model_name": "LayoutModel",
      "state": {}
     },
     "d1f85dafb2d245dfac1bbb6b10843577": {
      "model_module": "@jupyter-widgets/base",
      "model_module_version": "1.2.0",
      "model_name": "LayoutModel",
      "state": {
       "grid_area": "description",
       "width": "auto"
      }
     },
     "d389b267aa4d4aeab669c9f0e0aefc2a": {
      "model_module": "@jupyter-widgets/controls",
      "model_module_version": "1.5.0",
      "model_name": "LabelModel",
      "state": {
       "description": "dataset",
       "layout": "IPY_MODEL_a598142c68e4412a9a02aac41facb8e3",
       "style": "IPY_MODEL_9cf75dce96fa4542916f5a3aa19690e6",
       "value": "dataset*"
      }
     },
     "d3b5d10076834631859ca369f30f8d44": {
      "model_module": "@jupyter-widgets/base",
      "model_module_version": "1.2.0",
      "model_name": "LayoutModel",
      "state": {}
     },
     "d3e67199af074e4ebdbd8fc84e5606a9": {
      "model_module": "@jupyter-widgets/output",
      "model_module_version": "1.0.0",
      "model_name": "OutputModel",
      "state": {
       "layout": "IPY_MODEL_b446d7c91bbb4fa9a2eb1b260713152f"
      }
     },
     "d413ae8ee6ec4a37ab231a6d570b7d8f": {
      "model_module": "@jupyter-widgets/controls",
      "model_module_version": "1.5.0",
      "model_name": "VBoxModel",
      "state": {
       "_dom_classes": [
        "widget-interact"
       ],
       "children": [
        "IPY_MODEL_0dac947d42c748329ac9db8750087d89",
        "IPY_MODEL_da007e4accb34308b6ea988462c168c0"
       ],
       "layout": "IPY_MODEL_884a77dd84bd4939bc074124ad5b83fd"
      }
     },
     "d43142b041574324b1b1df0e99de87f7": {
      "model_module": "@jupyter-widgets/controls",
      "model_module_version": "1.5.0",
      "model_name": "ButtonStyleModel",
      "state": {}
     },
     "d4858e1bd5fb467bbe67c99a32eefdea": {
      "model_module": "@jupyter-widgets/base",
      "model_module_version": "1.2.0",
      "model_name": "LayoutModel",
      "state": {
       "grid_area": "description",
       "width": "auto"
      }
     },
     "d4aa0171a90147418115092b851c2231": {
      "model_module": "@jupyter-widgets/controls",
      "model_module_version": "1.5.0",
      "model_name": "ButtonModel",
      "state": {
       "_dom_classes": [
        "hidden"
       ],
       "description": "Run",
       "layout": "IPY_MODEL_fe8c7d1eb600455dbf10672ef9f4aade",
       "style": "IPY_MODEL_40fc7dff6fa042a8b76f5138b5e2bab6"
      }
     },
     "d65cf81f80e5414cb563cc2613a2fb5d": {
      "model_module": "@jupyter-widgets/controls",
      "model_module_version": "1.5.0",
      "model_name": "GridBoxModel",
      "state": {
       "_dom_classes": [
        "nbtools-input",
        "nbtools-textinput"
       ],
       "children": [
        "IPY_MODEL_7060e9299ffd4295b812d5a9edc6cb1f",
        "IPY_MODEL_4024a9df61524f16b5c63e669b1ce1ce",
        "IPY_MODEL_648546cb49984234b027c3d02bfe3325"
       ],
       "layout": "IPY_MODEL_4f20954749144cc888d3ba32bd414409"
      }
     },
     "d6a5772f0c0a48c3ab092710a294c551": {
      "model_module": "@jupyter-widgets/controls",
      "model_module_version": "1.5.0",
      "model_name": "GridBoxModel",
      "state": {
       "_dom_classes": [
        "nbtools-input",
        "nbtools-textinput"
       ],
       "children": [
        "IPY_MODEL_4587512245ca4980bcda3bf23df1a149",
        "IPY_MODEL_0dd5192d6ddb4e87858f10182cc08a58",
        "IPY_MODEL_47c54933181e466aa2c5f21970f2b94b"
       ],
       "layout": "IPY_MODEL_b1eb90bb4ab84f6ca9a90f0b9f0bdd1f"
      }
     },
     "d7c1aed4ae7944a3a1cdd371d76400c9": {
      "model_module": "@jupyter-widgets/base",
      "model_module_version": "1.2.0",
      "model_name": "LayoutModel",
      "state": {
       "display": "none",
       "grid_template_areas": "\n                    \"label input\"\n                    \". description\"\n                ",
       "grid_template_columns": "25% 75%",
       "grid_template_rows": "auto auto",
       "width": "100%"
      }
     },
     "d7c2d7baf7324bdfbfb50cf980c3888d": {
      "model_module": "@jupyter-widgets/controls",
      "model_module_version": "1.5.0",
      "model_name": "DescriptionStyleModel",
      "state": {
       "description_width": ""
      }
     },
     "d875ccd9c5894a4e9e4c7cd9df4187eb": {
      "model_module": "@jupyter-widgets/controls",
      "model_module_version": "1.5.0",
      "model_name": "LabelModel",
      "state": {
       "description": "The input file (any non-binary file format)",
       "layout": "IPY_MODEL_4314f27680fb4342a5d4ecf722b982e5",
       "style": "IPY_MODEL_b2509de756c04f5eb957b0b540539780",
       "value": "The input file (any non-binary file format)"
      }
     },
     "d9007279cdc642a2a9932194f81d6cfe": {
      "model_module": "@jupyter-widgets/output",
      "model_module_version": "1.0.0",
      "model_name": "OutputModel",
      "state": {
       "layout": "IPY_MODEL_3f6dd1c2dce5476b9d2083bd6d5d3ba5"
      }
     },
     "d907c0835d2e42c99d37362b047aff33": {
      "model_module": "@jupyter-widgets/controls",
      "model_module_version": "1.5.0",
      "model_name": "ButtonStyleModel",
      "state": {}
     },
     "d92e191a93304ddeacfe505863645204": {
      "model_module": "@jupyter-widgets/base",
      "model_module_version": "1.2.0",
      "model_name": "LayoutModel",
      "state": {
       "grid_area": "description",
       "width": "auto"
      }
     },
     "d9bb1637f37f428099eabd91ad5f6c0f": {
      "model_module": "@jupyter-widgets/controls",
      "model_module_version": "1.5.0",
      "model_name": "VBoxModel",
      "state": {
       "_dom_classes": [
        "widget-interact"
       ],
       "children": [
        "IPY_MODEL_d4aa0171a90147418115092b851c2231",
        "IPY_MODEL_7877d228ed3846058880dc7ed7930f19"
       ],
       "layout": "IPY_MODEL_d099b164d9c846ac82c0f0237871a17a"
      }
     },
     "da007e4accb34308b6ea988462c168c0": {
      "model_module": "@jupyter-widgets/output",
      "model_module_version": "1.0.0",
      "model_name": "OutputModel",
      "state": {
       "layout": "IPY_MODEL_7da3865566c047e18c884dac6677e404"
      }
     },
     "daa084f0f3df44f89e107024d9bb1acc": {
      "model_module": "@jupyter-widgets/controls",
      "model_module_version": "1.5.0",
      "model_name": "HBoxModel",
      "state": {
       "children": [
        "IPY_MODEL_2060279426fb43e58c8b481dc2e9719d",
        "IPY_MODEL_6df008d4a3364e68bd1a73baa31c9c4a"
       ],
       "layout": "IPY_MODEL_c3a61b9a426a4f88a3661c441eeda2ff"
      }
     },
     "db4e613624f74996972efb9bda59d86b": {
      "model_module": "@jupyter-widgets/controls",
      "model_module_version": "1.5.0",
      "model_name": "GridBoxModel",
      "state": {
       "_dom_classes": [
        "nbtools-input",
        "nbtools-textinput"
       ],
       "children": [
        "IPY_MODEL_4e34d1f574c440c5b9cf48894329ba6f",
        "IPY_MODEL_203e6e3cba2246beb2e9ed61f8f50d63",
        "IPY_MODEL_deb0060ae64e4c77b5ed972c0bec0bd0"
       ],
       "layout": "IPY_MODEL_eca01be8e2c9487283f7217e4c44e489"
      }
     },
     "db611bad18164ad99185d4c17f081cb2": {
      "model_module": "@jupyter-widgets/controls",
      "model_module_version": "1.5.0",
      "model_name": "DescriptionStyleModel",
      "state": {
       "description_width": ""
      }
     },
     "dcfe035b3ec3477087a63d0b09e3b291": {
      "model_module": "@jupyter-widgets/base",
      "model_module_version": "1.2.0",
      "model_name": "LayoutModel",
      "state": {
       "grid_template_areas": "\n                    \"label input\"\n                    \". description\"\n                ",
       "grid_template_columns": "25% 75%",
       "grid_template_rows": "auto auto",
       "width": "100%"
      }
     },
     "dd79dc65a64740798386426397fa8f92": {
      "model_module": "@jupyter-widgets/controls",
      "model_module_version": "1.5.0",
      "model_name": "LabelModel",
      "state": {
       "layout": "IPY_MODEL_f3a343ce73bc4b12ae3fbacc9f960222",
       "style": "IPY_MODEL_db611bad18164ad99185d4c17f081cb2"
      }
     },
     "de498b5a7fe84d008d6b07e35215dad0": {
      "model_module": "@jupyter-widgets/controls",
      "model_module_version": "1.5.0",
      "model_name": "LabelModel",
      "state": {
       "description": "output variable",
       "layout": "IPY_MODEL_c9108a34a0544ff0b59d4ddc6a1f6208",
       "style": "IPY_MODEL_98fde23406be4ea2a9f8182eeaef9982",
       "value": "output variable"
      }
     },
     "deb0060ae64e4c77b5ed972c0bec0bd0": {
      "model_module": "@jupyter-widgets/controls",
      "model_module_version": "1.5.0",
      "model_name": "LabelModel",
      "state": {
       "layout": "IPY_MODEL_ed14c8bb2012479da48fb25e6d0d0ff5",
       "style": "IPY_MODEL_cc49cae33a7f4f74930391b355222711"
      }
     },
     "e121eb64c03b452cbe4bc764e44e7084": {
      "model_module": "@jupyter-widgets/controls",
      "model_module_version": "1.5.0",
      "model_name": "GridBoxModel",
      "state": {
       "_dom_classes": [
        "nbtools-input",
        "nbtools-textinput"
       ],
       "children": [
        "IPY_MODEL_5f5ed6ab8fbd4357beea5cdea38892b3",
        "IPY_MODEL_3aca8235e2c14cb7ae83b6ecaec1e2d4",
        "IPY_MODEL_0ac10a630ab04c5bafd84e3b2ecc493b"
       ],
       "layout": "IPY_MODEL_0c8ca06437a642eca8d3642793c0616a"
      }
     },
     "e13bd7b0e154452b9219436419abd803": {
      "model_module": "@jupyter-widgets/base",
      "model_module_version": "1.2.0",
      "model_name": "LayoutModel",
      "state": {
       "grid_area": "input",
       "width": "auto"
      }
     },
     "e238fedceab34e6eabe85a4701aa8fb3": {
      "model_module": "@genepattern/nbtools",
      "model_module_version": "^20.10.0-alpha.0",
      "model_name": "UIBuilderModel",
      "state": {
       "_dom_classes": [],
       "_model_module_version": "^20.10.0-alpha.0",
       "_parameters": [
        {
         "choices": {},
         "default": "",
         "description": "",
         "events": null,
         "hide": false,
         "id": null,
         "kinds": null,
         "label": "bar",
         "name": "bar",
         "optional": false,
         "type": "text",
         "value": ""
        },
        {
         "choices": {},
         "default": "",
         "description": "",
         "events": null,
         "hide": true,
         "id": null,
         "kinds": null,
         "label": "output variable",
         "name": "output_var",
         "optional": true,
         "type": "text",
         "value": ""
        }
       ],
       "_view_count": null,
       "_view_module_version": "^20.10.0-alpha.0",
       "form": "IPY_MODEL_790b6a6b654941de9cb950754ec32d29",
       "layout": "IPY_MODEL_08cd89906bf7449f8b8a1c403de1ff2d",
       "name": "foo",
       "origin": "Notebook",
       "output": "IPY_MODEL_b9dd894ca4d34f9899ca9a696b61b702",
       "output_var": ""
      }
     },
     "e3a19b5888ac4d81ac55c10402865fa3": {
      "model_module": "@jupyter-widgets/controls",
      "model_module_version": "1.5.0",
      "model_name": "LabelModel",
      "state": {
       "layout": "IPY_MODEL_7e1ec4a4366c46ca8f3ceec9d66731a5",
       "style": "IPY_MODEL_1f96f2f41e8b4e25835a8c4985e9650b"
      }
     },
     "e3d74b4f07d343518c05da156275ca17": {
      "model_module": "@genepattern/nbtools",
      "model_module_version": "^20.10.0-alpha.0",
      "model_name": "UIBuilderModel",
      "state": {
       "_dom_classes": [],
       "_model_module_version": "^20.10.0-alpha.0",
       "_parameters": [
        {
         "choices": {},
         "default": "",
         "description": "The dataset to display - .gct",
         "events": null,
         "hide": false,
         "id": null,
         "kinds": [
          "res",
          "gct",
          "odf",
          "Dataset"
         ],
         "label": "dataset",
         "name": "dataset",
         "optional": false,
         "type": "file",
         "value": ""
        },
        {
         "choices": {},
         "default": "",
         "description": "",
         "events": null,
         "hide": true,
         "id": null,
         "kinds": null,
         "label": "output variable",
         "name": "output_var",
         "optional": true,
         "type": "text",
         "value": ""
        }
       ],
       "_view_count": null,
       "_view_module_version": "^20.10.0-alpha.0",
       "color": "rgba(10, 45, 105, 0.80)",
       "description": "A configurable heat map viewer that provides users with several options for manipulating and visualizing array-based data",
       "form": "IPY_MODEL_0d8d3e2c96ad467cbd7e68f7dfd1c689",
       "layout": "IPY_MODEL_42786366ab9140a0ba140bed220de0e3",
       "name": "HeatMapViewer",
       "origin": "genepattern.taskwidget",
       "output": "IPY_MODEL_89cc81926cc04a5297a200b84b252fc2",
       "output_var": ""
      }
     },
     "e43e528c28294fa0b5a32c3c00f15f73": {
      "model_module": "@jupyter-widgets/controls",
      "model_module_version": "1.5.0",
      "model_name": "DescriptionStyleModel",
      "state": {
       "description_width": ""
      }
     },
     "e45e75237b1142aba6d4005e0b662e58": {
      "model_module": "@jupyter-widgets/base",
      "model_module_version": "1.2.0",
      "model_name": "LayoutModel",
      "state": {}
     },
     "e4f9fe852cbb411b936f7179556580cd": {
      "model_module": "@jupyter-widgets/base",
      "model_module_version": "1.2.0",
      "model_name": "LayoutModel",
      "state": {
       "grid_template_areas": "\n                    \"label input\"\n                    \". description\"\n                ",
       "grid_template_columns": "25% 75%",
       "grid_template_rows": "auto auto",
       "width": "100%"
      }
     },
     "e5b2f54851444dd2b0b5816ba20f9434": {
      "model_module": "@jupyter-widgets/controls",
      "model_module_version": "1.5.0",
      "model_name": "GridBoxModel",
      "state": {
       "_dom_classes": [
        "nbtools-input",
        "nbtools-passwordinput",
        "required"
       ],
       "children": [
        "IPY_MODEL_4896b1a0c22f43e7a9931147576efcec",
        "IPY_MODEL_e7a60393dceb4473946bbbb980cfaaae",
        "IPY_MODEL_0b8d18f3571b4d42ba50d55999ec9bbc"
       ],
       "layout": "IPY_MODEL_c86dd8a7d8724aed9070acc26ab5c857"
      }
     },
     "e609cb70ccbc4bfbab4b9419d478f932": {
      "model_module": "@jupyter-widgets/base",
      "model_module_version": "1.2.0",
      "model_name": "LayoutModel",
      "state": {}
     },
     "e6eba5e4788843568abacd93cd656c2a": {
      "model_module": "@jupyter-widgets/controls",
      "model_module_version": "1.5.0",
      "model_name": "DescriptionStyleModel",
      "state": {
       "description_width": ""
      }
     },
     "e7a60393dceb4473946bbbb980cfaaae": {
      "model_module": "@jupyter-widgets/controls",
      "model_module_version": "1.5.0",
      "model_name": "PasswordModel",
      "state": {
       "layout": "IPY_MODEL_fa0a7bc06e2d477f901c6cc2f1209336",
       "style": "IPY_MODEL_5315cb3c2dc746a2ad045e0685759fa0"
      }
     },
     "e7bf0a5793a1475b91eb38122e381a63": {
      "model_module": "@jupyter-widgets/controls",
      "model_module_version": "1.5.0",
      "model_name": "DescriptionStyleModel",
      "state": {
       "description_width": ""
      }
     },
     "e7dcce61e99c49afa93b05c010317acb": {
      "model_module": "@jupyter-widgets/controls",
      "model_module_version": "1.5.0",
      "model_name": "LabelModel",
      "state": {
       "description": "output variable",
       "layout": "IPY_MODEL_58e799c473634bd785c94264de326423",
       "style": "IPY_MODEL_9e8de6a9f6f74cbfb14e93b3f8026f5a",
       "value": "output variable"
      }
     },
     "e8bcbef25fc04ad1aa6ced6ef6365a10": {
      "model_module": "@jupyter-widgets/base",
      "model_module_version": "1.2.0",
      "model_name": "LayoutModel",
      "state": {
       "grid_area": "description",
       "width": "auto"
      }
     },
     "e9241d6123174b9ab140f444f813252c": {
      "model_module": "@jupyter-widgets/controls",
      "model_module_version": "1.5.0",
      "model_name": "DescriptionStyleModel",
      "state": {
       "description_width": ""
      }
     },
     "e93bd89140364f8189bcb1ff60133a1f": {
      "model_module": "@jupyter-widgets/base",
      "model_module_version": "1.2.0",
      "model_name": "LayoutModel",
      "state": {}
     },
     "ea5c4833980c4cd4a6416c3f4c131c79": {
      "model_module": "@jupyter-widgets/base",
      "model_module_version": "1.2.0",
      "model_name": "LayoutModel",
      "state": {
       "grid_area": "label",
       "width": "auto"
      }
     },
     "eb98faae966240458c7baf8afd08a4c4": {
      "model_module": "@jupyter-widgets/output",
      "model_module_version": "1.0.0",
      "model_name": "OutputModel",
      "state": {
       "layout": "IPY_MODEL_26c45481e97e4ae4a1ec7d1273fdcc00"
      }
     },
     "ec84803b96e247ddb4d1167aff6ad219": {
      "model_module": "@jupyter-widgets/controls",
      "model_module_version": "1.5.0",
      "model_name": "DescriptionStyleModel",
      "state": {
       "description_width": ""
      }
     },
     "eca01be8e2c9487283f7217e4c44e489": {
      "model_module": "@jupyter-widgets/base",
      "model_module_version": "1.2.0",
      "model_name": "LayoutModel",
      "state": {
       "display": "none",
       "grid_template_areas": "\n                    \"label input\"\n                    \". description\"\n                ",
       "grid_template_columns": "25% 75%",
       "grid_template_rows": "auto auto",
       "width": "100%"
      }
     },
     "ed14c8bb2012479da48fb25e6d0d0ff5": {
      "model_module": "@jupyter-widgets/base",
      "model_module_version": "1.2.0",
      "model_name": "LayoutModel",
      "state": {
       "grid_area": "description",
       "width": "auto"
      }
     },
     "ee28a552711e44b886ac09982afeb005": {
      "model_module": "@jupyter-widgets/base",
      "model_module_version": "1.2.0",
      "model_name": "LayoutModel",
      "state": {}
     },
     "ee481549056e4d4b88ad9561db548265": {
      "model_module": "@jupyter-widgets/controls",
      "model_module_version": "1.5.0",
      "model_name": "ButtonStyleModel",
      "state": {}
     },
     "ee7b627c4b094a3e994f7d5a99b34d9c": {
      "model_module": "@jupyter-widgets/controls",
      "model_module_version": "1.5.0",
      "model_name": "TextModel",
      "state": {
       "_dom_classes": [
        "nbtools-menu-attached"
       ],
       "layout": "IPY_MODEL_76bbab2fcadb47c496f3f97e8c89147a",
       "style": "IPY_MODEL_0bf3c7c15198402c9225b6656534ed6f"
      }
     },
     "f2ba9f2915c94936a80c139215bc5628": {
      "model_module": "@jupyter-widgets/controls",
      "model_module_version": "1.5.0",
      "model_name": "GridBoxModel",
      "state": {
       "_dom_classes": [
        "nbtools-input",
        "nbtools-fileinput",
        "required"
       ],
       "children": [
        "IPY_MODEL_3098074791ff4f4092b5916afa078354",
        "IPY_MODEL_daa084f0f3df44f89e107024d9bb1acc",
        "IPY_MODEL_d875ccd9c5894a4e9e4c7cd9df4187eb"
       ],
       "layout": "IPY_MODEL_81a829c7ea6a45ffa72bf477b1c7716d"
      }
     },
     "f3a343ce73bc4b12ae3fbacc9f960222": {
      "model_module": "@jupyter-widgets/base",
      "model_module_version": "1.2.0",
      "model_name": "LayoutModel",
      "state": {
       "grid_area": "description",
       "width": "auto"
      }
     },
     "f3b06aeee9974453827a48f1e5c56456": {
      "model_module": "@jupyter-widgets/controls",
      "model_module_version": "1.5.0",
      "model_name": "GridBoxModel",
      "state": {
       "_dom_classes": [
        "nbtools-input",
        "nbtools-textinput"
       ],
       "children": [
        "IPY_MODEL_de498b5a7fe84d008d6b07e35215dad0",
        "IPY_MODEL_5d2b7431fa2d463caf680f8c30231347",
        "IPY_MODEL_99cfcae2ab43435788a94c3285414c23"
       ],
       "layout": "IPY_MODEL_1c2e85add2fb4bb5831ecdc46db04407"
      }
     },
     "f75c693bfc3a47e8a372361e8ca70d3b": {
      "model_module": "@jupyter-widgets/controls",
      "model_module_version": "1.5.0",
      "model_name": "LabelModel",
      "state": {
       "description": "output_file",
       "layout": "IPY_MODEL_ea5c4833980c4cd4a6416c3f4c131c79",
       "style": "IPY_MODEL_3da1737f3f4a460784e55f053ec1a63d",
       "value": "output_file*"
      }
     },
     "f8040caf3dc844b8a76dd1a267d0950a": {
      "model_module": "@jupyter-widgets/controls",
      "model_module_version": "1.5.0",
      "model_name": "ButtonStyleModel",
      "state": {}
     },
     "f8cce16c4f404685bc0910c60c0a4817": {
      "model_module": "@jupyter-widgets/base",
      "model_module_version": "1.2.0",
      "model_name": "LayoutModel",
      "state": {
       "grid_area": "label",
       "width": "auto"
      }
     },
     "f8e7f227c70e4d0a816d4c2068a4194b": {
      "model_module": "@jupyter-widgets/base",
      "model_module_version": "1.2.0",
      "model_name": "LayoutModel",
      "state": {
       "grid_area": "input",
       "width": "auto"
      }
     },
     "f8eec14a4b994c64a48fbb905a601218": {
      "model_module": "@jupyter-widgets/controls",
      "model_module_version": "1.5.0",
      "model_name": "TextModel",
      "state": {
       "_dom_classes": [
        "nbtools-menu-attached"
       ],
       "layout": "IPY_MODEL_96bc88affa564b45aa32e0a2eb343e0e",
       "style": "IPY_MODEL_7fa6d526038a42f899595af8b2b69518"
      }
     },
     "f8ff43ddf71240668c82cd0dbd9e8f2a": {
      "model_module": "@jupyter-widgets/base",
      "model_module_version": "1.2.0",
      "model_name": "LayoutModel",
      "state": {}
     },
     "f9842e722bca46ea8fe65fb474c7e94b": {
      "model_module": "@jupyter-widgets/controls",
      "model_module_version": "1.5.0",
      "model_name": "ComboboxModel",
      "state": {
       "_dom_classes": [
        "nbtools-menu-attached"
       ],
       "choices": {},
       "ensure_option": false,
       "kinds": [
        "res",
        "gct",
        "odf",
        "Dataset"
       ],
       "layout": "IPY_MODEL_e93bd89140364f8189bcb1ff60133a1f",
       "style": "IPY_MODEL_523b8a7f7b824e23bb8f8b7fd51b0a32"
      }
     },
     "fa0a7bc06e2d477f901c6cc2f1209336": {
      "model_module": "@jupyter-widgets/base",
      "model_module_version": "1.2.0",
      "model_name": "LayoutModel",
      "state": {
       "grid_area": "input",
       "width": "auto"
      }
     },
     "faa381f947f74ee6abd2de6c6264fb69": {
      "model_module": "@jupyter-widgets/controls",
      "model_module_version": "1.5.0",
      "model_name": "LabelModel",
      "state": {
       "description": "output variable",
       "layout": "IPY_MODEL_c30570be59ab4fa5a7720ffe032ba39d",
       "style": "IPY_MODEL_4825fa8183a2448b9e50aee1540e4095",
       "value": "output variable"
      }
     },
     "fcf5e658d4834dc89247b03af2c6ba2b": {
      "model_module": "@jupyter-widgets/base",
      "model_module_version": "1.2.0",
      "model_name": "LayoutModel",
      "state": {
       "grid_area": "input",
       "width": "auto"
      }
     },
     "fe7002c1db6b4a34a16bb6fea28fb5cb": {
      "model_module": "@jupyter-widgets/base",
      "model_module_version": "1.2.0",
      "model_name": "LayoutModel",
      "state": {}
     },
     "fe8c7d1eb600455dbf10672ef9f4aade": {
      "model_module": "@jupyter-widgets/base",
      "model_module_version": "1.2.0",
      "model_name": "LayoutModel",
      "state": {}
     },
     "feeddad4fe20430a9bf7730523c95102": {
      "model_module": "@jupyter-widgets/controls",
      "model_module_version": "1.5.0",
      "model_name": "LabelModel",
      "state": {
       "layout": "IPY_MODEL_b56dc092c5574f2f8da3151604010b89",
       "style": "IPY_MODEL_8ae68c95f08c422fa9211d18043421be"
      }
     }
    },
    "version_major": 2,
    "version_minor": 0
   }
  }
 },
 "nbformat": 4,
 "nbformat_minor": 4
}
