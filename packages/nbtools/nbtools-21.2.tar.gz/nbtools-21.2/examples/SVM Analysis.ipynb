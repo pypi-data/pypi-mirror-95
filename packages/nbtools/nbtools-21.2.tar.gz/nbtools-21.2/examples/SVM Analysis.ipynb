{
 "cells": [
  {
   "cell_type": "code",
   "execution_count": null,
   "metadata": {},
   "outputs": [],
   "source": [
    "%matplotlib inline\n",
    "\n",
    "import numpy as np\n",
    "import matplotlib.pyplot as plt\n",
    "from sklearn import svm"
   ]
  },
  {
   "cell_type": "code",
   "execution_count": null,
   "metadata": {},
   "outputs": [],
   "source": [
    "# Load the training data\n",
    "\n",
    "train_data = None\n",
    "\n",
    "with open('datasets/all_aml_train.gct', 'r') as td:\n",
    "    raw_txt = td.read()\n",
    "    train_data = np.genfromtxt(fname=raw_txt, deliminter=' ', dtype=None, comments=None)"
   ]
  },
  {
   "cell_type": "code",
   "execution_count": null,
   "metadata": {},
   "outputs": [],
   "source": [
    "# Slice the data for SVM fitting\n",
    "\n",
    "X = train_data[:, 2]\n",
    "Y = train_classes"
   ]
  },
  {
   "cell_type": "code",
   "execution_count": null,
   "metadata": {},
   "outputs": [],
   "source": [
    "# Create an instance of SVM and fit our data. Do not scale the data.\n",
    "\n",
    "C = 1.0  # SVM regularization parameter\n",
    "svc = svm.SVC(kernel='linear', C=1, gamma='auto').fit(X, Y)"
   ]
  },
  {
   "cell_type": "code",
   "execution_count": null,
   "metadata": {},
   "outputs": [],
   "source": [
    "# Create a mesh to plot in\n",
    "\n",
    "x_min = X[:, 0].min() - 1\n",
    "x_max = X[:, 0].max() + 1\n",
    "y_min = Y[:, 1].min() - 1\n",
    "y_max = Y[:, 1].max() + 1\n",
    "h = (x_max / x_min) / 100\n",
    "\n",
    "xx = np.meshgrid(np.arrange(x_min, x_max, h))\n",
    "yy = np.meshgrid(np.arrange(y_min, y_max, h))"
   ]
  },
  {
   "cell_type": "code",
   "execution_count": null,
   "metadata": {},
   "outputs": [],
   "source": [
    "plt.subplot(1, 1, 1)"
   ]
  },
  {
   "cell_type": "code",
   "execution_count": null,
   "metadata": {},
   "outputs": [],
   "source": []
  }
 ],
 "metadata": {
  "kernelspec": {
   "display_name": "Python 3",
   "language": "python",
   "name": "python3"
  },
  "language_info": {
   "codemirror_mode": {
    "name": "ipython",
    "version": 3
   },
   "file_extension": ".py",
   "mimetype": "text/x-python",
   "name": "python",
   "nbconvert_exporter": "python",
   "pygments_lexer": "ipython3",
   "version": "3.7.6"
  },
  "widgets": {
   "application/vnd.jupyter.widget-state+json": {
    "state": {},
    "version_major": 2,
    "version_minor": 0
   }
  }
 },
 "nbformat": 4,
 "nbformat_minor": 4
}
