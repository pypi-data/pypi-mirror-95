{
 "cells": [
  {
   "cell_type": "markdown",
   "metadata": {},
   "source": [
    "## Boyle's law\n",
    "\n",
    "We present a copy of Boyle's original dataset from http://archive.ics.uci.edu which in turn has it from: \n",
    "William Francis Magie, *A Source Book in Physics*, Harvard University Press, 1965, p. 87.\n",
    "\n",
    "The reference model is $y = K / x$. However the people at ics.uci.edu comment:\n",
    "\n",
    "> Comments: The reference relation leaves clearly patterned residuals.\n",
    "> It is possible to get a better fit of the form\n",
    "> $y=k_{1}/x^{2}+k_{2}/x+k_{3}$ or one the form\n",
    "> $y+k_{1}=k_{2}/(x+k_{3})$.  The former is closer to what scientists\n",
    "> now use; the latter is a simple inverse relationship,\n",
    "> assuming that Boyle had the origin of his measurement scales slightly\n",
    "> off.  Note that Boyle's original article (as reproduced by Magie)\n",
    "> includes two data sets, of which this is the second.  The first fits\n",
    "> the reference relation very nicely.\n",
    "\n",
    "We will fit the data to all of these models and see which one is best. \n",
    "\n",
    "Demonstration: \n",
    "    1. Power Model, PadeModel and CompoundModel\n",
    "    2. Parameter fit \n",
    "    3. Evidence calculation\n",
    "    \n",
    "\n",
    "Author: Do Kester\n"
   ]
  },
  {
   "cell_type": "markdown",
   "metadata": {},
   "source": [
    "import classes"
   ]
  },
  {
   "cell_type": "code",
   "execution_count": 1,
   "metadata": {},
   "outputs": [],
   "source": [
    "import numpy as numpy\n",
    "import math\n",
    "\n",
    "from BayesicFitting import PolynomialModel\n",
    "from BayesicFitting import PowerModel\n",
    "from BayesicFitting import PadeModel\n",
    "\n",
    "from BayesicFitting import LevenbergMarquardtFitter\n",
    "from BayesicFitting import formatter as fmt\n",
    "from BayesicFitting import plotFit\n",
    "import matplotlib.pyplot as plt"
   ]
  },
  {
   "cell_type": "markdown",
   "metadata": {},
   "source": [
    "present the data"
   ]
  },
  {
   "cell_type": "code",
   "execution_count": 2,
   "metadata": {},
   "outputs": [],
   "source": [
    "# x is pressure; y is volume\n",
    "\n",
    "x = [1.0, 1.5, 2.0, 3.0, 4.0, 5.0, 6.0, 7.0, 8.0, \n",
    "     9.0, 10.0, 12.0, 14.0, 16.0, 18.0, 20.0, 24.0, 28.0, 32.0]\n",
    "y = [29.750, 19.125, 14.375, 9.500, 7.125, 5.625, 4.875, 4.250, 3.750, \n",
    "     3.375, 3.000, 2.625, 2.250, 2.000, 1.875, 1.750, 1.500, 1.375, 1.250]\n"
   ]
  },
  {
   "cell_type": "markdown",
   "metadata": {},
   "source": [
    "Define the model"
   ]
  },
  {
   "cell_type": "code",
   "execution_count": 3,
   "metadata": {},
   "outputs": [
    {
     "name": "stdout",
     "output_type": "stream",
     "text": [
      "Power: f( x:p ) = p_0 * x^-1.0\n"
     ]
    }
   ],
   "source": [
    "model1 = PowerModel( -1 )\n",
    "print( model1 )\n"
   ]
  },
  {
   "cell_type": "markdown",
   "metadata": {},
   "source": [
    "define the fitter: Fitter"
   ]
  },
  {
   "cell_type": "code",
   "execution_count": 4,
   "metadata": {},
   "outputs": [
    {
     "data": {
      "image/png": "[encoded data removed]",
      "text/plain": [
       "<Figure size 432x288 with 2 Axes>"
      ]
     },
     "metadata": {
      "needs_background": "light"
     },
     "output_type": "display_data"
    }
   ],
   "source": [
    "fitter = LevenbergMarquardtFitter( x, model1 )\n",
    " \n",
    "# find the parameters\n",
    "param = fitter.fit( y, plot=True )\n",
    "\n",
    "  "
   ]
  },
  {
   "cell_type": "code",
   "execution_count": 5,
   "metadata": {
    "scrolled": true
   },
   "outputs": [
    {
     "name": "stdout",
     "output_type": "stream",
     "text": [
      "Parameters :    29.293\n",
      "StDevs     :     0.179\n",
      "Chisq      :     1.169\n",
      "Scale      :     0.255\n",
      "Evidence with fixed scale  :    -8.891\n",
      "Evidence with fitted scale :    -2.345\n",
      "Covar matrix :\n",
      "    0.032\n"
     ]
    }
   ],
   "source": [
    "print( \"Parameters :\", fmt( param, max=None ) )\n",
    "print( \"StDevs     :\", fmt( fitter.stdevs, max=None ) )\n",
    "print( \"Chisq      :\", fmt( fitter.chisq ) )\n",
    "print( \"Scale      :\", fmt( fitter.scale ) )\n",
    "evi = fitter.getEvidence( limits=[20,40] )\n",
    "print( \"Evidence with fixed scale  :\", fmt( evi ) )\n",
    "evi1 = fitter.getEvidence( limits=[20,40], noiseLimits=[00.1,1] )\n",
    "print( \"Evidence with fitted scale :\", fmt( evi1  ) )\n",
    "print( \"Covar matrix :\" )\n",
    "print( fmt( fitter.covariance))\n",
    "\n"
   ]
  },
  {
   "cell_type": "markdown",
   "metadata": {},
   "source": [
    "The Evidence with fitted scale is clearly better than that with a fixed scale, because the actual noise is much smaller than the presumed fixed scale (at 1.0). \n",
    "From now on we will compare evidences with optimized noise scales."
   ]
  },
  {
   "cell_type": "markdown",
   "metadata": {},
   "source": [
    "Indeed the residuals show systematic effect effects, as the comments already suggested.\n",
    "\n",
    "We try another model that has a zero shift in the volume (y). We add a constant to the model."
   ]
  },
  {
   "cell_type": "code",
   "execution_count": 6,
   "metadata": {},
   "outputs": [
    {
     "name": "stdout",
     "output_type": "stream",
     "text": [
      "Power: f( x:p ) = p_0 * x^-1.0 +\n",
      "Polynomial: f( x:p ) = p_1\n"
     ]
    }
   ],
   "source": [
    "model2 = PowerModel( -1 )\n",
    "model2 += PolynomialModel( 0 )\n",
    "print( model2 )"
   ]
  },
  {
   "cell_type": "code",
   "execution_count": 7,
   "metadata": {},
   "outputs": [
    {
     "data": {
      "image/png": "[encoded data removed]",
      "text/plain": [
       "<Figure size 432x288 with 2 Axes>"
      ]
     },
     "metadata": {
      "needs_background": "light"
     },
     "output_type": "display_data"
    }
   ],
   "source": [
    "fitter = LevenbergMarquardtFitter( x, model2 )\n",
    "pars = fitter.fit( y, plot=True )"
   ]
  },
  {
   "cell_type": "code",
   "execution_count": 8,
   "metadata": {},
   "outputs": [
    {
     "name": "stdout",
     "output_type": "stream",
     "text": [
      "Parameters : [   29.039    0.127]\n",
      "StDevs     : [    0.224    0.073]\n",
      "Chisq      :     0.991\n",
      "Scale      :     0.241\n",
      "Evidence   :    -4.059\n",
      "Covar matrix :\n",
      "[[    0.050   -0.011]\n",
      " [   -0.011    0.005]]\n"
     ]
    }
   ],
   "source": [
    "print( \"Parameters :\", fmt( pars, max=None ) )\n",
    "print( \"StDevs     :\", fmt( fitter.stdevs, max=None ) )\n",
    "print( \"Chisq      :\", fmt( fitter.chisq ) )\n",
    "print( \"Scale      :\", fmt( fitter.scale ) )\n",
    "evi2 = fitter.getEvidence( limits=[[20,-1],[40,1]], noiseLimits=[0.01,1] )\n",
    "print( \"Evidence   :\", fmt( evi2 ) )\n",
    "print( \"Covar matrix :\" )\n",
    "print( fmt( fitter.covariance))\n",
    "\n"
   ]
  },
  {
   "cell_type": "markdown",
   "metadata": {
    "collapsed": true
   },
   "source": [
    "The evidence did not improve and we still see the systematic effects in the residuals.\n",
    "\n",
    "Let us try the model that was suggested with an offset in $x$ and in $y$:\n",
    "\n",
    "$y+k_{1}=k_{2}/(x+k_{3})$\n",
    "\n"
   ]
  },
  {
   "cell_type": "code",
   "execution_count": 9,
   "metadata": {},
   "outputs": [
    {
     "name": "stdout",
     "output_type": "stream",
     "text": [
      "Polynomial: f( x:p ) = p_0 +\n",
      "Pade: f( x:p ) = ( p_1 ) / ( p_2 + (1.0) * x )\n"
     ]
    }
   ],
   "source": [
    "model3 = PolynomialModel( 0 )\n",
    "model3 += PadeModel( 0, 1, fixed={2:1} )\n",
    "print( model3 )\n",
    "model3.parameters = [0.0, 29.0, 0.0]"
   ]
  },
  {
   "cell_type": "code",
   "execution_count": 10,
   "metadata": {},
   "outputs": [
    {
     "data": {
      "image/png": "[encoded data removed]",
      "text/plain": [
       "<Figure size 432x288 with 2 Axes>"
      ]
     },
     "metadata": {
      "needs_background": "light"
     },
     "output_type": "display_data"
    }
   ],
   "source": [
    "fitter = LevenbergMarquardtFitter( x, model3 )\n",
    "pars = fitter.fit( y, plot=True )"
   ]
  },
  {
   "cell_type": "code",
   "execution_count": 11,
   "metadata": {},
   "outputs": [
    {
     "name": "stdout",
     "output_type": "stream",
     "text": [
      "Parameters : [    0.400   26.249   -0.105]\n",
      "StDevs     : [    0.024    0.173    0.006]\n",
      "Chisq      :     0.058\n",
      "Scale      :     0.060\n",
      "Evidence   :     4.254\n",
      "Covar matrix :\n",
      "[[    0.001   -0.003   -0.000]\n",
      " [   -0.003    0.030    0.001]\n",
      " [   -0.000    0.001    0.000]]\n"
     ]
    }
   ],
   "source": [
    "print( \"Parameters :\", fmt( pars, max=None ) )\n",
    "print( \"StDevs     :\", fmt( fitter.stdevs, max=None ) )\n",
    "print( \"Chisq      :\", fmt( fitter.chisq ) )\n",
    "print( \"Scale      :\", fmt( fitter.scale ) )\n",
    "evi3 = fitter.getEvidence( limits=[[-1,20,-1],[1,40,1]], noiseLimits=[0.01,1] )\n",
    "print( \"Evidence   :\", fmt( evi3 ) )\n",
    "print( \"Covar matrix :\" )\n",
    "print( fmt( fitter.covariance))\n"
   ]
  },
  {
   "cell_type": "markdown",
   "metadata": {},
   "source": [
    "Now we have a fit with uncorrelated residuals and the evidence is also better. The log(Evidence) went up by 6.6 (= 4.25 + 2.34), which means that the odds \n",
    "\n",
    "$\\frac{pr( model3 )}{pr( model1 )} = 4e6$\n",
    "\n",
    "We can try yet another model with only the shift in the pressure\n",
    "$y = k_1 / ( k_2 + x )$\n",
    "but we will not, as the results are very similar as those for model2. \n",
    "\n",
    "We want to try the last suggestion:\n",
    "\n",
    "$y=k_{1}/x^{2}+k_{2}/x+k_{3}$"
   ]
  },
  {
   "cell_type": "code",
   "execution_count": 12,
   "metadata": {},
   "outputs": [
    {
     "name": "stdout",
     "output_type": "stream",
     "text": [
      "Power: f( x:p ) = p_0 * x^0.0 +\n",
      "Power: f( x:p ) = p_1 * x^-1.0 +\n",
      "Power: f( x:p ) = p_2 * x^-2.0\n"
     ]
    }
   ],
   "source": [
    "model4 = PowerModel( 0.0 )\n",
    "model4 += PowerModel( -1.0 )\n",
    "model4 += PowerModel( -2.0 )\n",
    "print( model4 )\n",
    "model4.parameters = [0.0, 29.0, 0.0]"
   ]
  },
  {
   "cell_type": "code",
   "execution_count": 13,
   "metadata": {},
   "outputs": [
    {
     "data": {
      "image/png": "[encoded data removed]",
      "text/plain": [
       "<Figure size 432x288 with 2 Axes>"
      ]
     },
     "metadata": {
      "needs_background": "light"
     },
     "output_type": "display_data"
    }
   ],
   "source": [
    "fitter = LevenbergMarquardtFitter( x, model4 )\n",
    "pars = fitter.fit( y, plot=True )"
   ]
  },
  {
   "cell_type": "code",
   "execution_count": 14,
   "metadata": {},
   "outputs": [
    {
     "name": "stdout",
     "output_type": "stream",
     "text": [
      "Parameters : [    0.411   26.076    3.241]\n",
      "StDevs     : [    0.026    0.195    0.204]\n",
      "Chisq      :     0.059\n",
      "Scale      :     0.061\n",
      "Evidence   :     5.465\n",
      "Covar matrix :\n",
      "[[    0.001   -0.004    0.004]\n",
      " [   -0.004    0.038   -0.038]\n",
      " [    0.004   -0.038    0.042]]\n"
     ]
    }
   ],
   "source": [
    "print( \"Parameters :\", fmt( pars, max=None ) )\n",
    "print( \"StDevs     :\", fmt( fitter.stdevs, max=None ) )\n",
    "print( \"Chisq      :\", fmt( fitter.chisq ) )\n",
    "print( \"Scale      :\", fmt( fitter.scale ) )\n",
    "evi4 = fitter.getEvidence( limits=[[-1,20,0],[1,40,4]], noiseLimits=[0.01,1] )\n",
    "print( \"Evidence   :\", fmt( evi4 ) )\n",
    "print( \"Covar matrix :\" )\n",
    "print( fmt( fitter.covariance))\n"
   ]
  },
  {
   "cell_type": "markdown",
   "metadata": {},
   "source": [
    "It is even better by 158 dB (= 10 * 10^(5.5 - 4.3))"
   ]
  },
  {
   "cell_type": "code",
   "execution_count": null,
   "metadata": {},
   "outputs": [],
   "source": []
  }
 ],
 "metadata": {
  "anaconda-cloud": {},
  "kernelspec": {
   "display_name": "Python 3",
   "language": "python",
   "name": "python3"
  },
  "language_info": {
   "codemirror_mode": {
    "name": "ipython",
    "version": 3
   },
   "file_extension": ".py",
   "mimetype": "text/x-python",
   "name": "python",
   "nbconvert_exporter": "python",
   "pygments_lexer": "ipython3",
   "version": "3.7.5"
  }
 },
 "nbformat": 4,
 "nbformat_minor": 1
}
