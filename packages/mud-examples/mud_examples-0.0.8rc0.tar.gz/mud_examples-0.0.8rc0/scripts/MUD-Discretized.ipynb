{
 "cells": [
  {
   "cell_type": "markdown",
   "metadata": {},
   "source": [
    "<center><h1> PDE: Extension to Higher Dimensions"
   ]
  },
  {
   "cell_type": "code",
   "execution_count": null,
   "metadata": {
    "ExecuteTime": {
     "end_time": "2020-06-15T13:50:21.381727Z",
     "start_time": "2020-06-15T13:50:19.992980Z"
    }
   },
   "outputs": [],
   "source": [
    "import numpy as np\n",
    "import matplotlib.pyplot as plt\n",
    "from scipy.stats import distributions as dist\n",
    "import dolfin as fin"
   ]
  },
  {
   "cell_type": "code",
   "execution_count": null,
   "metadata": {
    "ExecuteTime": {
     "end_time": "2020-06-15T13:50:22.090091Z",
     "start_time": "2020-06-15T13:50:22.084166Z"
    }
   },
   "outputs": [],
   "source": [
    "from mud.plot import make_2d_unit_mesh\n",
    "from mud.util import std_from_equipment"
   ]
  },
  {
   "cell_type": "code",
   "execution_count": null,
   "metadata": {},
   "outputs": [],
   "source": [
    "presentation = False"
   ]
  },
  {
   "cell_type": "code",
   "execution_count": null,
   "metadata": {
    "ExecuteTime": {
     "end_time": "2020-06-15T13:50:22.443237Z",
     "start_time": "2020-06-15T13:50:22.377896Z"
    }
   },
   "outputs": [],
   "source": [
    "from mud.funs import mud_problem\n",
    "from mud_examples.plotting import plot_experiment_measurements\n",
    "from mud_examples.helpers import fit_log_linear_regression\n",
    "import matplotlib\n",
    "if not presentation:\n",
    "    matplotlib.rcParams['mathtext.fontset'] = 'stix'\n",
    "    matplotlib.rcParams['font.family'] = 'STIXGeneral'\n",
    "    fdir = 'pde_2D'\n",
    "else:\n",
    "#     fdir = '../presentation/figures/pde-highd'\n",
    "    fdir = 'pde_2D'\n",
    "matplotlib.rcParams['font.size'] = 24\n",
    "matplotlib.backend = 'Agg'"
   ]
  },
  {
   "cell_type": "code",
   "execution_count": null,
   "metadata": {
    "ExecuteTime": {
     "end_time": "2020-06-15T13:50:22.521607Z",
     "start_time": "2020-06-15T13:50:22.518150Z"
    }
   },
   "outputs": [],
   "source": [
    "from poisson import poissonModel, poisson_sensor_model, eval_boundary_piecewise as pcwExpr\n",
    "from poisson import eval_boundary, gamma_boundary_condition\n",
    "import pickle"
   ]
  },
  {
   "cell_type": "code",
   "execution_count": null,
   "metadata": {
    "ExecuteTime": {
     "end_time": "2020-06-15T13:50:22.744590Z",
     "start_time": "2020-06-15T13:50:22.740728Z"
    }
   },
   "outputs": [],
   "source": [
    "from mud_examples.models import generate_spatial_measurements as generate_sensors_pde\n",
    "# from mud_examples.datasets import load_poisson"
   ]
  },
  {
   "cell_type": "code",
   "execution_count": null,
   "metadata": {},
   "outputs": [],
   "source": [
    "from mud_examples.helpers import experiment_measurements_index, extract_statistics_index"
   ]
  },
  {
   "cell_type": "markdown",
   "metadata": {},
   "source": [
    "### Debugging: Implementation of Data-Driven Map"
   ]
  },
  {
   "cell_type": "code",
   "execution_count": null,
   "metadata": {
    "ExecuteTime": {
     "end_time": "2020-06-15T13:50:24.379421Z",
     "start_time": "2020-06-15T13:50:24.374290Z"
    }
   },
   "outputs": [],
   "source": [
    "from scipy.stats import gaussian_kde as gkde"
   ]
  },
  {
   "cell_type": "code",
   "execution_count": null,
   "metadata": {
    "ExecuteTime": {
     "end_time": "2020-06-15T13:50:25.149472Z",
     "start_time": "2020-06-15T13:50:25.135293Z"
    }
   },
   "outputs": [],
   "source": [
    "from mud.funs import wme"
   ]
  },
  {
   "cell_type": "markdown",
   "metadata": {},
   "source": [
    "# Settings"
   ]
  },
  {
   "cell_type": "code",
   "execution_count": null,
   "metadata": {
    "ExecuteTime": {
     "end_time": "2020-06-15T13:50:27.435591Z",
     "start_time": "2020-06-15T13:50:27.426532Z"
    }
   },
   "outputs": [],
   "source": [
    "prefix      = f'pde_2D/pde'\n",
    "num_measure = 1000 # number of measurement (sensor) locations\n",
    "fsize       = 36\n",
    "num_trials  = 20   # realizations of synthetic data for numerical runs\n",
    "tolerance   = 0.1 # precision of measurement equipment\n",
    "sigma       = std_from_equipment(tolerance=tolerance, probability=0.99)\n",
    "np.random.seed(21)\n",
    "lam_true    = 3.0\n",
    "input_dim   = 2\n",
    "num_samples = 100\n",
    "ftype       = 'png'"
   ]
  },
  {
   "cell_type": "code",
   "execution_count": null,
   "metadata": {
    "ExecuteTime": {
     "end_time": "2020-06-15T13:50:27.435591Z",
     "start_time": "2020-06-15T13:50:27.426532Z"
    }
   },
   "outputs": [],
   "source": [
    "load = False\n"
   ]
  },
  {
   "cell_type": "code",
   "execution_count": null,
   "metadata": {},
   "outputs": [],
   "source": []
  },
  {
   "cell_type": "code",
   "execution_count": null,
   "metadata": {},
   "outputs": [],
   "source": [
    "import poisson as p\n",
    "import importlib\n",
    "\n",
    "importlib.reload(p)"
   ]
  },
  {
   "cell_type": "code",
   "execution_count": null,
   "metadata": {},
   "outputs": [],
   "source": [
    "fname = p.make_reproducible_without_fenics(prefix, lam_true)"
   ]
  },
  {
   "cell_type": "code",
   "execution_count": null,
   "metadata": {},
   "outputs": [],
   "source": [
    "fname = 'pde_2D/pde_ref.pkl'"
   ]
  },
  {
   "cell_type": "markdown",
   "metadata": {},
   "source": [
    "# From here, shouldn't need fenics."
   ]
  },
  {
   "cell_type": "code",
   "execution_count": null,
   "metadata": {},
   "outputs": [],
   "source": [
    "p.plot_without_fenics(fname, 100, mode='hor', num_qoi=2)"
   ]
  },
  {
   "cell_type": "code",
   "execution_count": null,
   "metadata": {},
   "outputs": [],
   "source": [
    "# ref = pickle.load(open(fname, 'rb'))"
   ]
  },
  {
   "cell_type": "code",
   "execution_count": null,
   "metadata": {},
   "outputs": [],
   "source": [
    "# ref.keys()"
   ]
  },
  {
   "cell_type": "code",
   "execution_count": null,
   "metadata": {},
   "outputs": [],
   "source": [
    "def load_poisson_from_disk(fname):\n",
    "    ref = pickle.load(open(fname, 'rb'))\n",
    "    lam = ref['lam']\n",
    "    input_dim = lam.shape[1]\n",
    "    domain = np.array([[-4,0]]*input_dim)\n",
    "    qoi = ref['qoi']\n",
    "    qoi_true = ref['data']\n",
    "    lam_ref = ref['truth']\n",
    "    u = ref['plot_u']\n",
    "    g = ref['plot_g']\n",
    "    sensors = ref['sensors']\n",
    "    return domain, lam, qoi, qoi_true, lam_ref, u, g, sensors"
   ]
  },
  {
   "cell_type": "code",
   "execution_count": null,
   "metadata": {},
   "outputs": [],
   "source": [
    "domain, lam, qoi, qoi_ref, lam_ref, u, g, sensors = load_poisson_from_disk(fname)"
   ]
  },
  {
   "cell_type": "code",
   "execution_count": null,
   "metadata": {},
   "outputs": [],
   "source": []
  },
  {
   "cell_type": "code",
   "execution_count": null,
   "metadata": {},
   "outputs": [],
   "source": [
    "qoi.shape"
   ]
  },
  {
   "cell_type": "code",
   "execution_count": null,
   "metadata": {},
   "outputs": [],
   "source": [
    "P = p.pdeProblem(lam, qoi, lam_ref, qoi_ref, sensors, domain)"
   ]
  },
  {
   "cell_type": "code",
   "execution_count": null,
   "metadata": {},
   "outputs": [],
   "source": [
    "qoi_1d = P.qoi_1d()"
   ]
  },
  {
   "cell_type": "code",
   "execution_count": null,
   "metadata": {},
   "outputs": [],
   "source": [
    "p.split_qoi_by_indices"
   ]
  },
  {
   "cell_type": "code",
   "execution_count": null,
   "metadata": {},
   "outputs": [],
   "source": [
    "qoi_2d_hor = P.qoi_2d_hor()"
   ]
  },
  {
   "cell_type": "code",
   "execution_count": null,
   "metadata": {},
   "outputs": [],
   "source": [
    "qoi_2d_hor?"
   ]
  },
  {
   "cell_type": "code",
   "execution_count": null,
   "metadata": {},
   "outputs": [],
   "source": [
    "qoi_2d_hor(20, 0.05)"
   ]
  },
  {
   "cell_type": "code",
   "execution_count": null,
   "metadata": {},
   "outputs": [],
   "source": [
    "p.split_qoi_by_indices(qoi_ref, qoi, noise, 0.01)"
   ]
  },
  {
   "cell_type": "code",
   "execution_count": null,
   "metadata": {},
   "outputs": [],
   "source": [
    "qoi_1d??"
   ]
  },
  {
   "cell_type": "code",
   "execution_count": null,
   "metadata": {},
   "outputs": [],
   "source": [
    "qoi_1d(20,0.05)"
   ]
  },
  {
   "cell_type": "code",
   "execution_count": null,
   "metadata": {},
   "outputs": [],
   "source": [
    "def wrap(num_obs, sd):\n",
    "    return mud_problem(lam, qoi, qoi_true, domain, sd=sd, num_obs=num_obs)"
   ]
  },
  {
   "cell_type": "code",
   "execution_count": null,
   "metadata": {},
   "outputs": [],
   "source": [
    "m = wrap(100, 0.05)"
   ]
  },
  {
   "cell_type": "code",
   "execution_count": null,
   "metadata": {},
   "outputs": [],
   "source": [
    "m.estimate()"
   ]
  },
  {
   "cell_type": "code",
   "execution_count": null,
   "metadata": {},
   "outputs": [],
   "source": [
    "m._up.shape"
   ]
  },
  {
   "cell_type": "code",
   "execution_count": null,
   "metadata": {},
   "outputs": [],
   "source": [
    "plt.tricontourf(lam[:,0], lam[:,1], m._up)"
   ]
  },
  {
   "cell_type": "code",
   "execution_count": null,
   "metadata": {},
   "outputs": [],
   "source": [
    "q.shape"
   ]
  },
  {
   "cell_type": "code",
   "execution_count": null,
   "metadata": {},
   "outputs": [],
   "source": [
    "from scipy.stats import gaussian_kde as gkde\n",
    "from scipy.stats import distributions as dist\n",
    "\n",
    "def ratio_dci_sing(qoi):\n",
    "#     if qoi.ndim == 2:\n",
    "#         qoi = qoi.ravel()\n",
    "    kde = gkde(qoi.T)\n",
    "    ratio_eval = dist.norm.pdf(qoi)/kde.pdf(qoi.T).ravel()\n",
    "    return ratio_eval\n"
   ]
  },
  {
   "cell_type": "code",
   "execution_count": null,
   "metadata": {},
   "outputs": [],
   "source": [
    "import mud.base as mb\n",
    "importlib.reload(mb)"
   ]
  },
  {
   "cell_type": "code",
   "execution_count": null,
   "metadata": {},
   "outputs": [],
   "source": [
    "import mud.funs as mf\n",
    "importlib.reload(mf)"
   ]
  },
  {
   "cell_type": "code",
   "execution_count": null,
   "metadata": {},
   "outputs": [],
   "source": [
    "inds = p.band_qoi(sensors, num_qoi=2, axis=1)"
   ]
  },
  {
   "cell_type": "code",
   "execution_count": null,
   "metadata": {},
   "outputs": [],
   "source": [
    "def wrap(sd, num_obs):\n",
    "    return mf.mud_problem(lam, qoi, qoi_ref, domain, sd, num_obs, split=inds)"
   ]
  },
  {
   "cell_type": "code",
   "execution_count": null,
   "metadata": {},
   "outputs": [],
   "source": [
    "D.estimate()"
   ]
  },
  {
   "cell_type": "code",
   "execution_count": null,
   "metadata": {},
   "outputs": [],
   "source": []
  },
  {
   "cell_type": "code",
   "execution_count": null,
   "metadata": {},
   "outputs": [],
   "source": [
    "num_obs = 100\n",
    "data = qoi_true[0:num_obs] + np.random.randn(num_obs) * sd\n",
    "q = wme(qoi[:, 0:num_obs], data, sd)\n",
    "r = ratio_dci_sing(q)\n",
    "print(r.shape)\n",
    "plt.tricontourf(lam[:,0], lam[:,1], r)\n",
    "plt.show()\n",
    "\n",
    "d = mb.DensityProblem(lam, q, domain)\n",
    "d.estimate()\n",
    "plt.tricontourf(lam[:,0], lam[:,1], d._ob / d._pr)\n",
    "plt.show()\n",
    "\n",
    "# up = d._up\n",
    "up = np.multiply(d._in, np.divide(d._ob, d._pr))\n",
    "plt.tricontourf(lam[:,0], lam[:,1], up)\n",
    "plt.show()\n",
    "\n",
    "up = d._in\n",
    "plt.tricontourf(lam[:,0], lam[:,1], up)\n",
    "plt.show()"
   ]
  },
  {
   "cell_type": "code",
   "execution_count": null,
   "metadata": {},
   "outputs": [],
   "source": [
    "d.domain"
   ]
  },
  {
   "cell_type": "code",
   "execution_count": null,
   "metadata": {},
   "outputs": [],
   "source": [
    "lam[np.argmax(r),:]"
   ]
  },
  {
   "cell_type": "code",
   "execution_count": null,
   "metadata": {},
   "outputs": [],
   "source": [
    "m.estimate()"
   ]
  },
  {
   "cell_type": "code",
   "execution_count": null,
   "metadata": {},
   "outputs": [],
   "source": [
    "qoi_1d(20, 0.05)"
   ]
  },
  {
   "cell_type": "code",
   "execution_count": null,
   "metadata": {},
   "outputs": [],
   "source": [
    "sd = std_from_equipment(0.1)"
   ]
  },
  {
   "cell_type": "code",
   "execution_count": null,
   "metadata": {},
   "outputs": [],
   "source": [
    "d = mud_wrapper(100, sd)"
   ]
  },
  {
   "cell_type": "code",
   "execution_count": null,
   "metadata": {},
   "outputs": [],
   "source": [
    "d.mud_point()"
   ]
  },
  {
   "cell_type": "code",
   "execution_count": null,
   "metadata": {},
   "outputs": [],
   "source": []
  },
  {
   "cell_type": "code",
   "execution_count": null,
   "metadata": {},
   "outputs": [],
   "source": [
    "measurements = [20, 40, 60, 80, 100]"
   ]
  },
  {
   "cell_type": "code",
   "execution_count": null,
   "metadata": {},
   "outputs": [],
   "source": [
    "a = P.qoi_1d()\n",
    "a"
   ]
  },
  {
   "cell_type": "code",
   "execution_count": null,
   "metadata": {},
   "outputs": [],
   "source": [
    "a(100, 0.05)"
   ]
  },
  {
   "cell_type": "code",
   "execution_count": null,
   "metadata": {},
   "outputs": [],
   "source": [
    "d = p.make_mud_wrapper(domain, lam, qoi, qoi_true)(100,0.05)"
   ]
  },
  {
   "cell_type": "code",
   "execution_count": null,
   "metadata": {},
   "outputs": [],
   "source": [
    "d.mud_point()"
   ]
  },
  {
   "cell_type": "code",
   "execution_count": null,
   "metadata": {},
   "outputs": [],
   "source": []
  },
  {
   "cell_type": "code",
   "execution_count": null,
   "metadata": {},
   "outputs": [],
   "source": [
    "from mud_examples.helpers import experiment_measurements\n",
    "\n",
    "measurements = [20, 40, 60, 80, 100]\n",
    "\n",
    "\n",
    "# SCALAR\n",
    "experiments_sing, solutions_sing = experiment_measurements(num_measurements=measurements,\n",
    "                                     sd=sigma,\n",
    "                                     num_trials=num_trials,\n",
    "                                     seed=21,\n",
    "                                     fun=wrap)\n",
    "# # VECTOR\n",
    "# def mud_wrapper(num_obs, sd):\n",
    "#     qois = split_qoi_by_indices(qoi_indices, qoi_ref, qoi,\n",
    "#                                 noise=np.random.randn(num_obs)*sd, sigma=sd, max_index=num_obs)\n",
    "#     r_mult = ratio_dci_mult(qois)\n",
    "#     return r_mult\n",
    "\n",
    "# experiments_mult, solutions_mult = experiment_measurements_index(num_measurements=measurements,\n",
    "#                                      sd=sigma,\n",
    "#                                      num_trials=num_trials,\n",
    "#                                      seed=21,\n",
    "#                                      fun=mud_wrapper)\n",
    "\n",
    "# del mud_wrapper"
   ]
  },
  {
   "cell_type": "markdown",
   "metadata": {},
   "source": [
    "# Initial"
   ]
  },
  {
   "cell_type": "code",
   "execution_count": null,
   "metadata": {},
   "outputs": [],
   "source": [
    "closest_fit_index_in = np.argmin(np.linalg.norm(lam - np.array(lam_ref), axis=1))\n",
    "closest_fit_index_out = np.argmin(np.linalg.norm(qoi - np.array(qoi_ref), axis=1))"
   ]
  },
  {
   "cell_type": "code",
   "execution_count": null,
   "metadata": {},
   "outputs": [],
   "source": []
  },
  {
   "cell_type": "code",
   "execution_count": null,
   "metadata": {},
   "outputs": [],
   "source": [
    "ps.plot_samples(lam, qoi, qoi_ref, save=False)"
   ]
  },
  {
   "cell_type": "code",
   "execution_count": null,
   "metadata": {},
   "outputs": [],
   "source": [
    "# _lam_sing = np.array(solutions_sing[num_plot_sensors])"
   ]
  },
  {
   "cell_type": "code",
   "execution_count": null,
   "metadata": {},
   "outputs": [],
   "source": [
    "plot_samples(lam, qoi, qoi_ref, sols = solutions_sing, num=100, save=False)"
   ]
  },
  {
   "cell_type": "code",
   "execution_count": null,
   "metadata": {},
   "outputs": [],
   "source": [
    "for num_plot_sensors in [20, 100]:\n",
    "    plt.figure(figsize=(10,10))\n",
    "\n",
    "#     plt.subplot(111)\n",
    "    plt.title('MUD Estimates for $Q_{1D}$,' + f' N={num_plot_sensors}', fontsize=1.25*fsize)\n",
    "    plt.xlabel(\"$x_2$\", fontsize=fsize)\n",
    "    plt.ylabel(\"$g(x, \\lambda)$\", fontsize=fsize)\n",
    "\n",
    "    for _lam in solutions_sing[num_plot_sensors]: # trials\n",
    "        plt.plot([0]+intervals+[1], [0]+list(_lam)+[0], lw=1, c='purple', alpha=0.2)\n",
    "\n",
    "\n",
    "    plt.ylim(-4, 0)\n",
    "    plt.xlim(0, 1)\n",
    "    plt.legend(loc='lower left')\n",
    "#     plt.subplot(122)\n",
    "#     plt.title('Q-Q Plot', fontsize=1.25*fsize)\n",
    "#     for i in solutions_sing[num_plot_sensors]: # trials\n",
    "#         q = qoi[i,:]\n",
    "#         plt.scatter(q[:num_plot_sensors], qoi_ref[:num_plot_sensors] + noise[:num_plot_sensors],\n",
    "#                     c='b', s=100, alpha=1.0/num_trials)\n",
    "#         plt.plot(_a,_a, c='k', lw=3)\n",
    "#         plt.ylabel('Collected Data', fontsize=fsize)\n",
    "#         plt.xlabel('Predicted Data', fontsize=fsize)\n",
    "#         plt.ylim(-0.5, 0.15)\n",
    "#         plt.xlim(-0.5, 0.15)\n",
    "#         plt.title(f'Solution {_r}, Index {_s}')\n",
    "    _fname = f\"{prefix}_mud_{input_dim}-1_N{num_plot_sensors}.{ftype}\"\n",
    "    plt.savefig(_fname, bbox_inches='tight')\n",
    "    plt.show()"
   ]
  },
  {
   "cell_type": "code",
   "execution_count": null,
   "metadata": {},
   "outputs": [],
   "source": []
  },
  {
   "cell_type": "code",
   "execution_count": null,
   "metadata": {},
   "outputs": [],
   "source": []
  },
  {
   "cell_type": "code",
   "execution_count": null,
   "metadata": {},
   "outputs": [],
   "source": []
  },
  {
   "cell_type": "code",
   "execution_count": null,
   "metadata": {},
   "outputs": [],
   "source": []
  },
  {
   "cell_type": "code",
   "execution_count": null,
   "metadata": {},
   "outputs": [],
   "source": [
    "# assert 1 == 0"
   ]
  },
  {
   "cell_type": "code",
   "execution_count": null,
   "metadata": {
    "ExecuteTime": {
     "end_time": "2020-06-15T13:50:28.172231Z",
     "start_time": "2020-06-15T13:50:28.153832Z"
    }
   },
   "outputs": [],
   "source": [
    "# could not get this working\n",
    "u = gamma_boundary_condition(lam_true)\n",
    "mesh = fin.UnitIntervalMesh(100)\n",
    "intervals, lam_ref = eval_boundary(u, 2)"
   ]
  },
  {
   "cell_type": "markdown",
   "metadata": {},
   "source": [
    "# Define Sensors"
   ]
  },
  {
   "cell_type": "code",
   "execution_count": null,
   "metadata": {
    "ExecuteTime": {
     "end_time": "2020-06-15T13:46:36.467911Z",
     "start_time": "2020-06-15T13:46:36.340365Z"
    }
   },
   "outputs": [],
   "source": [
    "# %%time\n",
    "if load:\n",
    "    fname = f'./{prefix}_summary_{input_dim}.pkl'\n",
    "    results = pickle.load(open(fname, 'rb'))\n",
    "    solutions_sing, solutions_mult = results['sols']\n",
    "    measurements = results['meas']\n",
    "    noise, tolerance = results['noise']\n",
    "    sigma = results['stdv']\n",
    "    lam, qoi = results['sets']\n",
    "    lam_ref, qoi_ref = results['true']\n",
    "    sensors = results['sens']\n",
    "    model_list = None\n",
    "    \n",
    "    pde = pdeProblem(lam, qoi, lam_ref, qoi_ref, sensors)\n",
    "else:\n",
    "    model_list = pickle.load(open(f'res{input_dim}u.pkl', 'rb'))\n",
    "    sensors = generate_sensors_pde(num_measure)\n",
    "    lam, qoi = load_poisson(sensors, model_list[0:num_samples], nx=36, ny=36)\n",
    "    qoi_ref = poisson_sensor_model(sensors, gamma=lam_true, nx=36, ny=36)\n",
    "    measurements = [20, 40, 60, 80, 100]\n",
    "    # tolerances = [1E-1, 1E-2, 1E-3]\n",
    "    print(f\"Will run simulations for {measurements}\")"
   ]
  },
  {
   "cell_type": "code",
   "execution_count": null,
   "metadata": {
    "ExecuteTime": {
     "end_time": "2020-06-15T13:50:57.835643Z",
     "start_time": "2020-06-15T13:50:57.830101Z"
    }
   },
   "outputs": [],
   "source": [
    "noise = sigma*np.random.randn(num_measure)"
   ]
  },
  {
   "cell_type": "markdown",
   "metadata": {},
   "source": [
    "### Visualize"
   ]
  },
  {
   "cell_type": "code",
   "execution_count": null,
   "metadata": {},
   "outputs": [],
   "source": [
    "p = poissonModel(gamma=lam_true, nx=36, ny=36)\n",
    "V = p.function_space()"
   ]
  },
  {
   "cell_type": "code",
   "execution_count": null,
   "metadata": {},
   "outputs": [],
   "source": [
    "svals = [p(xi,yi) for xi,yi in sensors]"
   ]
  },
  {
   "cell_type": "code",
   "execution_count": null,
   "metadata": {},
   "outputs": [],
   "source": [
    "z = qoi_ref\n",
    "x, y = sensors[:,0], sensors[:,1]\n",
    "plt.tricontourf(x, y, z, levels=20, vmin=-0.5, vmax=0)\n",
    "plt.scatter(x, y, c='r', s=0.5)\n",
    "plt.show()"
   ]
  },
  {
   "cell_type": "code",
   "execution_count": null,
   "metadata": {},
   "outputs": [],
   "source": []
  },
  {
   "cell_type": "code",
   "execution_count": null,
   "metadata": {},
   "outputs": [],
   "source": []
  },
  {
   "cell_type": "markdown",
   "metadata": {},
   "source": [
    " ---"
   ]
  },
  {
   "cell_type": "markdown",
   "metadata": {},
   "source": [
    "---"
   ]
  },
  {
   "cell_type": "markdown",
   "metadata": {},
   "source": [
    "## Response Surface\n",
    "\n",
    "$\\tau$ was specified in the cells above using `tolerance`, take a look at your possible data and determine if it is reasonable before proceeding."
   ]
  },
  {
   "cell_type": "code",
   "execution_count": null,
   "metadata": {},
   "outputs": [],
   "source": [
    "# pn = poissonModel()  # defaults to gamma = 3\n",
    "pn = poissonModel(gamma=lam_true)  # pass a scalar to get reference solution\n",
    "v = np.array(pn.vector())\n",
    "# v = p.compute_vertex_values()\n",
    "# pn.vector()[:] = v + sigma*np.random.randn(len(v))"
   ]
  },
  {
   "cell_type": "code",
   "execution_count": null,
   "metadata": {},
   "outputs": [],
   "source": [
    "m.cells()"
   ]
  },
  {
   "cell_type": "code",
   "execution_count": null,
   "metadata": {},
   "outputs": [],
   "source": [
    "fin.plot(pn, vmin=-0.5, vmax=0)\n",
    "plt.title(f\"Response Surface\\n$\\\\sigma$ = {sigma:1.3E} ($\\\\tau$ = {tolerance:1.1E})\")\n",
    "plt.scatter(sensors[0:100,0], sensors[0:100,1], s=100, c='k')\n",
    "plt.show()"
   ]
  },
  {
   "cell_type": "code",
   "execution_count": null,
   "metadata": {
    "ExecuteTime": {
     "end_time": "2020-06-15T13:51:35.852434Z",
     "start_time": "2020-06-15T13:51:28.331Z"
    }
   },
   "outputs": [],
   "source": [
    "w = fin.Expression(pcwExpr(u, input_dim, d=0), degree=2)\n",
    "u_plot = fin.Expression(pcwExpr(u, 1000, d=0), degree=2)\n",
    "domain = np.array([[-4,0]*input_dim]).reshape(-1,2)"
   ]
  },
  {
   "cell_type": "markdown",
   "metadata": {},
   "source": [
    "## Best Case Scenario: Minimizing 2-Norms with Knowledge of Truth\n",
    "minimizing norm of difference between \"truth\" and our samples, both input and output."
   ]
  },
  {
   "cell_type": "code",
   "execution_count": null,
   "metadata": {
    "ExecuteTime": {
     "end_time": "2020-06-15T13:47:14.387340Z",
     "start_time": "2020-06-15T13:47:14.288160Z"
    }
   },
   "outputs": [],
   "source": [
    "# %%time\n",
    "closest_fit_index_in = np.argmin(np.linalg.norm(lam - np.array(lam_ref), axis=1))\n",
    "closest_fit_index_out = np.argmin(np.linalg.norm(qoi - np.array(qoi_ref), axis=1))"
   ]
  },
  {
   "cell_type": "code",
   "execution_count": null,
   "metadata": {
    "ExecuteTime": {
     "end_time": "2020-06-15T13:47:42.587238Z",
     "start_time": "2020-06-15T13:47:40.869645Z"
    }
   },
   "outputs": [],
   "source": [
    "plt.figure(figsize=(20,10))\n",
    "plt.subplot(121)\n",
    "fin.plot(w, mesh=mesh, lw=5, c='k')\n",
    "gt = list(lam[closest_fit_index_in, :])\n",
    "plt.plot([0]+intervals+[1], [0]+gt+[0], lw=5, c='purple', alpha=1, label=f'Closest in Input: {closest_fit_index_in}')\n",
    "\n",
    "projected_line = list(lam[closest_fit_index_out, :])\n",
    "plt.plot([0]+intervals+[1], [0]+projected_line+[0], lw=5, c='green', alpha=1, label=f'Closest in Output: {closest_fit_index_out}')\n",
    "\n",
    "plt.legend(fontsize=fsize*0.75)\n",
    "plt.title(f'Parameter Space', fontsize=fsize*1.25)\n",
    "plt.ylim(-4, 0)\n",
    "plt.xlim(0, 1)\n",
    "plt.ylabel('$u(x, \\lambda)$', fontsize=fsize)\n",
    "plt.xlabel('$x_1$', fontsize=fsize)\n",
    "\n",
    "plt.subplot(122)\n",
    "_plot_num = max(measurements)\n",
    "q = qoi[closest_fit_index_in,:]\n",
    "plt.scatter(q[:_plot_num], qoi_ref[:_plot_num] + noise[:_plot_num], c='purple', s=100, alpha=0.4, label=f'Closest in Input: {closest_fit_index_in}')\n",
    "q = qoi[closest_fit_index_out,:]\n",
    "plt.scatter(q[:_plot_num], qoi_ref[:_plot_num] + noise[:_plot_num], c='green', s=100, alpha=0.4, label=f'Closest in Output: {closest_fit_index_out}')\n",
    "\n",
    "_a = np.linspace(min(qoi_ref),max(qoi_ref), 2)\n",
    "plt.plot(_a,_a, c='k', lw=3)\n",
    "plt.xlim(-0.5, 0.2)\n",
    "plt.ylim(-0.5, 0.2)\n",
    "# plt.legend(fontsize=fsize)\n",
    "plt.xlabel('Predicted Data', fontsize=fsize)\n",
    "plt.ylabel('Collected Data', fontsize=fsize)\n",
    "plt.title(\"Q-Q Plot\", fontsize=fsize*1.25)\n",
    "\n",
    "_fname = f\"{prefix}_proj_{input_dim}D.{ftype}\"\n",
    "# plt.savefig(_fname, bbox_inches='tight')\n",
    "plt.show()"
   ]
  },
  {
   "cell_type": "markdown",
   "metadata": {},
   "source": [
    "---"
   ]
  },
  {
   "cell_type": "code",
   "execution_count": null,
   "metadata": {},
   "outputs": [],
   "source": [
    "num_qoi = input_dim\n",
    "# plot_qoi = [20, 100, 500, 1000][::-1]\n",
    "plot_qoi = measurements[::-2]\n",
    "\n",
    "colors = ['xkcd:red', 'xkcd:black', 'xkcd:orange', 'xkcd:blue', 'xkcd:green']"
   ]
  },
  {
   "cell_type": "code",
   "execution_count": null,
   "metadata": {},
   "outputs": [],
   "source": [
    "_intervals = np.array(intervals[1:]) + ( np.array(intervals[:-1]) - np.array(intervals[1:]) ) / 2"
   ]
  },
  {
   "cell_type": "code",
   "execution_count": null,
   "metadata": {},
   "outputs": [],
   "source": [
    "qoi_indices     = band_qoi(sensors, num_qoi, axis=1)\n",
    "qoi_indices_bad = band_qoi(sensors, num_qoi, axis=0)"
   ]
  },
  {
   "cell_type": "code",
   "execution_count": null,
   "metadata": {},
   "outputs": [],
   "source": [
    "fdir = '/'.join(prefix.split('/')[:-1])\n",
    "from mud_examples.helpers import check_dir\n",
    "check_dir(fdir)"
   ]
  },
  {
   "cell_type": "code",
   "execution_count": null,
   "metadata": {},
   "outputs": [],
   "source": [
    "# horizontal plot\n",
    "plt.figure(figsize=(10,10))\n",
    "fin.plot(pn, vmin=-0.5, vmax=0)\n",
    "plt.title(f\"Simulated Measurement Surface\\n$\\\\sigma$ = {sigma:1.3E} ($\\\\tau$ = {tolerance:1.1E})\")\n",
    "for i in range(0, num_qoi):\n",
    "    if i < num_qoi - 1: plt.axhline(_intervals[i], lw=3, c='k')\n",
    "    _q = qoi_indices[i][qoi_indices[i] < 100 ]\n",
    "    plt.scatter(sensors[_q,0], sensors[_q,1], s=100, color=colors[i%2])\n",
    "plt.scatter([0]*input_dim, intervals, s=200, marker='^', c='w')\n",
    "plt.xlim(0,1)\n",
    "plt.ylim(0,1)\n",
    "plt.xticks([])\n",
    "plt.yticks([])\n",
    "plt.xlabel(\"$x_1$\", fontsize=fsize)\n",
    "plt.ylabel(\"$x_2$\", fontsize=fsize)\n",
    "\n",
    "_fname = f\"{prefix}_sensors_{input_dim}D.{ftype}\"\n",
    "plt.savefig(_fname, bbox_inches='tight')\n",
    "plt.show()\n",
    "\n",
    "# vertical plot\n",
    "plt.figure(figsize=(10,10))\n",
    "fin.plot(pn, vmin=-0.5, vmax=0)\n",
    "plt.title(f\"Simulated Measurement Surface\\n$\\\\sigma$ = {sigma:1.3E} ($\\\\tau$ = {tolerance:1.1E})\")\n",
    "for i in range(0, num_qoi):\n",
    "    if i < num_qoi - 1: plt.axvline(_intervals[i], lw=3, c='k')\n",
    "    _q = qoi_indices_bad[i][qoi_indices_bad[i] < 100 ]\n",
    "    plt.scatter(sensors[_q,0], sensors[_q,1], s=100, color=colors[i%2])\n",
    "plt.scatter([0]*input_dim,intervals, s=200, marker='^', c='w')\n",
    "plt.xlim(0,1)\n",
    "plt.ylim(0,1)\n",
    "plt.xticks([])\n",
    "plt.yticks([])\n",
    "plt.xlabel(\"$x_1$\", fontsize=fsize)\n",
    "plt.ylabel(\"$x_2$\", fontsize=fsize)\n",
    "\n",
    "_fname = f\"{prefix}_sensors-alt_{input_dim}D.{ftype}\"\n",
    "# plt.savefig(_fname, bbox_inches='tight')\n",
    "plt.show()"
   ]
  },
  {
   "cell_type": "markdown",
   "metadata": {},
   "source": [
    "# Geometry Study"
   ]
  },
  {
   "cell_type": "code",
   "execution_count": null,
   "metadata": {},
   "outputs": [],
   "source": [
    "if input_dim == 2:\n",
    "    plt.figure(figsize=(20,10))\n",
    "    plt.subplot(121)\n",
    "    colors = ['xkcd:red', 'xkcd:black', 'xkcd:orange', 'xkcd:blue', 'xkcd:green'][::-1]\n",
    "#     plot_qoi = [20, 100, 500, 1000][::-1]\n",
    "    for idx, _first in enumerate(plot_qoi):\n",
    "        qois = split_qoi_by_indices(qoi_indices, qoi_ref, qoi, noise, sigma, max_index=_first)\n",
    "        plt.scatter(qois[0], qois[1], label=f'First {_first}', s=20, c=colors[idx], alpha=1)\n",
    "    plt.legend()\n",
    "    plt.title(\"Horizontal Band QoI\", fontsize=1.25*fsize)\n",
    "    plt.xlabel(\"$q_1$\", fontsize=fsize)\n",
    "    plt.ylabel(\"$q_2$\", fontsize=fsize)\n",
    "    \n",
    "    plt.subplot(122)\n",
    "    for idx, _first in enumerate(plot_qoi):\n",
    "        qois = split_qoi_by_indices(qoi_indices_bad, qoi_ref, qoi, noise, sigma, max_index=_first)\n",
    "        plt.scatter(qois[0], qois[1], label=f'First {_first}', s=20, c=colors[idx], alpha=1)\n",
    "    plt.legend()\n",
    "    plt.title(\"Vertical Band QoI\", fontsize=1.25*fsize)\n",
    "    plt.xlabel(\"$q^*_1$\", fontsize=fsize)\n",
    "    plt.ylabel(\"$q^*_2$\", fontsize=fsize)\n",
    "\n",
    "else:\n",
    "    plt.figure(figsize=(20,20))\n",
    "#     lim = 7.5/tolerance\n",
    "    lim = 3/tolerance\n",
    "    fig, axs = plt.subplots(input_dim, input_dim, figsize=(20,20))\n",
    "    for _i in range(input_dim):\n",
    "        for _j in range(_i, input_dim):\n",
    "            if _i == _j:\n",
    "                ax = axs[_i][_i]\n",
    "\n",
    "                ax.annotate(f\"$q{_i+1}$\", (-lim/10,0), fontsize=fsize)\n",
    "    #             ax.set_ylabel(f\"$q{_i+1}$\")\n",
    "    #             ax.set_xlabel(f\"$q{_i+1}$\")\n",
    "                ax.set_xlim(-lim, lim)\n",
    "                ax.set_ylim(-lim, lim)\n",
    "    #             ax.set_xticks([])\n",
    "    #             ax.set_yticks([])\n",
    "            else:\n",
    "                for idx, _first in enumerate(plot_qoi):\n",
    "                    ax = axs[_i][_j]\n",
    "                    qois = split_qoi_by_indices(qoi_indices, qoi_ref, qoi, noise, sigma, max_index=_first)\n",
    "                    ax.scatter(qois[_i], qois[_j], label=f'First {_first}', s=20, c=colors[idx], alpha=1)\n",
    "                    ax.set_xlim(-lim, lim)\n",
    "                    ax.set_ylim(-lim, lim)\n",
    "                    ax.set_xticks([])\n",
    "                    ax.set_yticks([])\n",
    "\n",
    "                    ax = axs[_j][_i]\n",
    "                    qois = split_qoi_by_indices(qoi_indices_bad, qoi_ref, qoi, noise, sigma, max_index=_first)\n",
    "                    ax.scatter(qois[_i], qois[_j], label=f'First {_first}', s=20, c=colors[idx], alpha=1)\n",
    "                    ax.set_xlim(-lim, lim)\n",
    "                    ax.set_ylim(-lim, lim)\n",
    "                    ax.set_xticks([])\n",
    "                    ax.set_yticks([])\n",
    "\n",
    "_fname = f\"{prefix}_geom_{input_dim}D.{ftype}\"\n",
    "# plt.savefig(_fname, bbox_inches='tight')\n",
    "plt.show()    "
   ]
  },
  {
   "cell_type": "markdown",
   "metadata": {},
   "source": [
    "# POC: Solve Inverse Problem"
   ]
  },
  {
   "cell_type": "markdown",
   "metadata": {},
   "source": [
    "### Single QoI"
   ]
  },
  {
   "cell_type": "code",
   "execution_count": null,
   "metadata": {},
   "outputs": [],
   "source": [
    "# noise = np.random.randn(num_measure)*sigma\n",
    "num_samps_ex_sol = 100"
   ]
  },
  {
   "cell_type": "code",
   "execution_count": null,
   "metadata": {},
   "outputs": [],
   "source": [
    "%%time\n",
    "X = qoi[:,0:num_samps_ex_sol]\n",
    "data = qoi_ref[0:num_samps_ex_sol] + noise[0:num_samps_ex_sol]\n",
    "newqoi = wme(X, data, sigma)\n",
    "r_sing = ratio_dci_sing(newqoi)"
   ]
  },
  {
   "cell_type": "code",
   "execution_count": null,
   "metadata": {},
   "outputs": [],
   "source": [
    "mud_idx = np.argmax(r_sing)\n",
    "mud_fun = lam[mud_idx,:]\n",
    "print(mud_idx)"
   ]
  },
  {
   "cell_type": "markdown",
   "metadata": {},
   "source": [
    "### Multiple QoI"
   ]
  },
  {
   "cell_type": "code",
   "execution_count": null,
   "metadata": {},
   "outputs": [],
   "source": [
    "num_qoi = 2"
   ]
  },
  {
   "cell_type": "code",
   "execution_count": null,
   "metadata": {},
   "outputs": [],
   "source": [
    "qoi_indices = p.band_qoi(sensors, num_qoi, axis=1)"
   ]
  },
  {
   "cell_type": "code",
   "execution_count": null,
   "metadata": {},
   "outputs": [],
   "source": [
    "%%time\n",
    "qois = split_qoi_by_indices(qoi_indices, qoi_ref, qoi, noise, sigma, max_index=num_samps_ex_sol)\n",
    "r_mult = ratio_dci_mult(qois)"
   ]
  },
  {
   "cell_type": "code",
   "execution_count": null,
   "metadata": {},
   "outputs": [],
   "source": [
    "mud_idx_mult = np.argmax(r_mult)\n",
    "mud_fun_mult = lam[mud_idx_mult,:]"
   ]
  },
  {
   "cell_type": "code",
   "execution_count": null,
   "metadata": {},
   "outputs": [],
   "source": [
    "mud_idx_mult"
   ]
  },
  {
   "cell_type": "markdown",
   "metadata": {},
   "source": [
    "## Compare Vector-Valued and Scalar Example Solutions"
   ]
  },
  {
   "cell_type": "code",
   "execution_count": null,
   "metadata": {},
   "outputs": [],
   "source": [
    "plt.figure(figsize=(30,10))\n",
    "colors = ['xkcd:red', 'xkcd:black', 'xkcd:orange', 'xkcd:blue', 'xkcd:green']\n",
    "plt.subplot(131)\n",
    "fin.plot(poissonModel(mud_fun, nx=36,ny=36), vmin=-0.5, vmax=0)\n",
    "plt.title('MUD (Scalar-Valued)', fontsize=1.25*fsize)\n",
    "\n",
    "plt.subplot(132)\n",
    "fin.plot(pn, vmin=-0.5, vmax=0)\n",
    "plt.title('(Noisy) Response Surface', fontsize=1.25*fsize)\n",
    "for i in range(0, num_qoi):\n",
    "    if i < num_qoi - 1: plt.axhline(_intervals[i], lw=3, c='k')\n",
    "    _q = qoi_indices[i][qoi_indices[i] < 100 ]\n",
    "    plt.scatter(sensors[_q,0], sensors[_q,1], s=100, color=colors[i%2])\n",
    "plt.scatter([0]*input_dim, intervals, s=400, marker='^', c='w')\n",
    "plt.xlim(0,1)\n",
    "plt.ylim(0,1)\n",
    "plt.xticks([])\n",
    "plt.yticks([])\n",
    "plt.xlabel(\"$x_1$\", fontsize=fsize)\n",
    "plt.ylabel(\"$x_2$\", fontsize=fsize)\n",
    "\n",
    "plt.subplot(133)\n",
    "fin.plot(poissonModel(mud_fun_mult, nx=36,ny=36), vmin=-0.5, vmax=0)\n",
    "plt.title('MUD (Vector-Valued)', fontsize=1.25*fsize)\n",
    "\n",
    "_fname = f\"{prefix}_surf_exmud_{input_dim}D_m{num_samps_ex_sol}.{ftype}\"\n",
    "# plt.savefig(_fname, bbox_inches='tight')\n",
    "plt.show()\n"
   ]
  },
  {
   "cell_type": "code",
   "execution_count": null,
   "metadata": {},
   "outputs": [],
   "source": [
    "plt.figure(figsize=(10,10))\n",
    "\n",
    "plt.subplot(111)\n",
    "fin.plot(u_plot, mesh=mesh, lw=5, c='k')\n",
    "fin.plot(w, mesh=mesh, lw=5, c='k', ls='--', alpha=0.5, label='Interpolant')\n",
    "\n",
    "# fin.plot(w, mesh=mesh, lw=10, c='r', ls='-', alpha=0.5)\n",
    "plt.scatter(intervals, lam_ref, marker='^', s=200, c='purple', zorder=10)\n",
    "plt.title(f'Ex. MUD Solution, m={num_samps_ex_sol}', fontsize=1.25*fsize)\n",
    "\n",
    "plt.plot(np.linspace(0,1,input_dim+2),\n",
    "            [0] + list(mud_fun) + [0],\n",
    "            alpha=0.5, c='r', lw=10, label=f'Scalar MUD, Sample {mud_idx}')\n",
    "\n",
    "plt.plot(np.linspace(0,1,input_dim+2),\n",
    "            [0] + list(mud_fun_mult) + [0],\n",
    "            alpha=0.5, c='b', lw=10, label=f'Vector MUD, Sample {mud_idx_mult}')\n",
    "\n",
    "plt.axvline(2/7, alpha=0.4, ls=':')\n",
    "plt.axhline(-lam_true, alpha=0.4, ls=':')\n",
    "plt.ylim(-4,0)\n",
    "plt.xlim(0,1)\n",
    "plt.ylabel('$u(x, \\lambda)$', fontsize=fsize)\n",
    "plt.xlabel('$x_1$', fontsize=fsize)\n",
    "plt.legend(fontsize=fsize*0.6, loc='lower right')\n",
    "\n",
    "# plt.subplot(122)\n",
    "# _data = qoi_ref[:num_samps_ex_sol] + noise[:num_samps_ex_sol]\n",
    "# plt.scatter(qoi[mud_idx,:num_samps_ex_sol], _data, c='r', s=100, alpha=0.4, label=f'Scalar MUD, Sample {mud_idx}')\n",
    "# plt.scatter(qoi[mud_idx_mult,:num_samps_ex_sol], _data, c='b', s=100, alpha=0.4, label=f'Vector MUD, Sample {mud_idx_mult}')\n",
    "\n",
    "# _a = np.linspace(min(qoi_ref) ,max(qoi_ref), 2)\n",
    "# plt.plot(_a,_a, c='k', lw=3)\n",
    "# plt.xlim(-0.5, 0.2)\n",
    "# plt.ylim(-0.5, 0.2)\n",
    "# plt.xlabel('Predicted Data', fontsize=fsize)\n",
    "# plt.ylabel('Collected Data', fontsize=fsize)\n",
    "# plt.title(\"Q-Q Plot\", fontsize=fsize*1.25)\n",
    "# plt.legend()\n",
    "\n",
    "\n",
    "_fname = f\"{prefix}_comp_exmud_{input_dim}D_m{num_samps_ex_sol}.{ftype}\"\n",
    "# plt.savefig(_fname, bbox_inches='tight')\n",
    "plt.show()"
   ]
  },
  {
   "cell_type": "code",
   "execution_count": null,
   "metadata": {},
   "outputs": [],
   "source": [
    "print(lam_ref)"
   ]
  },
  {
   "cell_type": "code",
   "execution_count": null,
   "metadata": {},
   "outputs": [],
   "source": [
    "labels = ['Scalar QoI', 'Vector QoI']\n",
    "plot_top = 1000\n",
    "thresh = lam.shape[0]**-1\n",
    "# thresh = 1E-16\n",
    "colors = ['xkcd:red', 'xkcd:black', 'xkcd:orange', 'xkcd:blue', 'xkcd:green']\n",
    "\n",
    "if input_dim == 2:\n",
    "    for _i in range(input_dim):\n",
    "        for _j in range(_i+1, input_dim):\n",
    "            for idx, ratio_eval in enumerate([r_sing, r_mult]):\n",
    "                _m = np.where(ratio_eval/max(ratio_eval) > thresh)[0]\n",
    "#                 plt.scatter(lam[_m[101:5000], _i], lam[_m[101:5000], _j], c='orange', marker='^', alpha=0.2)\n",
    "#                 plt.scatter(lam[_m[plot_top+1:1000], _i], lam[_m[plot_top+1:1000], _j], c='orange', marker='^', alpha=0.2)\n",
    "                plt.scatter(lam[_m[:plot_top], _i], lam[_m[:plot_top], _j], c=colors[idx], label= labels[idx] + ' (Total %d)'%len(_m), s=50)\n",
    "            plt.xlabel(f\"$\\lambda_{_i+1}$\", fontsize=fsize)\n",
    "            plt.ylabel(f\"$\\lambda_{_j+1}$\", fontsize=fsize)\n",
    "            plt.ylim(-4,0)\n",
    "            plt.xlim(-4,0)\n",
    "            plt.scatter(lam_ref[_i], lam_ref[_j], c='k', s=500, alpha=0.5, label='Interpolant', zorder=-10)\n",
    "            plt.scatter(lam[closest_fit_index_out, _i], lam[closest_fit_index_out, _j], c='g', s=500, alpha=0.8, label='Projection', zorder=15)\n",
    "            plt.legend()\n",
    "            plt.title(f\"Samples (m = {num_samps_ex_sol}) with\\nRelative Ratio > {thresh:1.1E}\", fontsize=fsize)\n",
    "\n",
    "else:\n",
    "\n",
    "    fig, axs = plt.subplots(input_dim, input_dim, figsize=(20,20))\n",
    "    for _i in range(input_dim):\n",
    "        for _j in range(_i, input_dim):\n",
    "            if _i != _j:\n",
    "                for idx, ratio_eval in enumerate([r_sing, r_mult]):\n",
    "                    ax = axs[_j][_i] if not idx else axs[_i][_j]\n",
    "                    _m = np.where(ratio_eval/max(ratio_eval) > thresh)[0]\n",
    "                    ax.scatter(lam[_m[:plot_top], _i], lam[_m[:plot_top], _j], c=colors[2+idx], label= str(len(_m)) + ' ' + labels[idx], s=10)\n",
    "\n",
    "\n",
    "    #                 ax.set_xlabel(f\"$\\lambda_{_i+1}$\")\n",
    "    #                 ax.set_ylabel(f\"$\\lambda_{_j+1}$\")\n",
    "                    ax.set_ylim(-4,0)\n",
    "                    ax.set_xlim(-4,0)\n",
    "                    ax.set_xticks([])\n",
    "                    ax.set_yticks([])\n",
    "                    ax.scatter(lam_ref[_i], lam_ref[_j], c='k', s=250, alpha=1, label='Interpolant', zorder=-10)\n",
    "                    ax.scatter(lam[closest_fit_index_out, _i], lam[closest_fit_index_out, _j], c='g', s=400, alpha=0.5, label='Projection', zorder=-10)\n",
    "    #                 ax.legend()\n",
    "            else:\n",
    "                ax = axs[_i][_i]\n",
    "                ax.annotate(f\"$\\lambda_{_i+1}$\", (-0.6,0.5), fontsize=fsize)\n",
    "#                 ax.set_xlabel(f\"$\\lambda_{_i+1}$\", fontsize=fsize)\n",
    "#                 ax.set_ylabel(f\"$\\lambda_{_i+1}$\", fontsize=fsize)\n",
    "\n",
    "                ax.set_xticks([])\n",
    "                ax.set_yticks([])\n",
    "                ax.set_xlim(-1,0)\n",
    "\n",
    "\n",
    "_fname = f\"{prefix}_update_scatter_{input_dim}D_t{thresh:1.1E}\".replace('.', '-') + f\".{ftype}\"\n",
    "plt.savefig(_fname, bbox_inches='tight')\n",
    "plt.show()"
   ]
  },
  {
   "cell_type": "markdown",
   "metadata": {},
   "source": [
    "## Set Up Experiments"
   ]
  },
  {
   "cell_type": "code",
   "execution_count": null,
   "metadata": {},
   "outputs": [],
   "source": [
    "%%time\n",
    "if input_dim == 11:\n",
    "    measurements = [60, 80, 100]\n",
    "\n",
    "if not load:\n",
    "    # SCALAR\n",
    "    def mud_wrapper(num_obs, sd):\n",
    "        newqoi = wme(X=qoi[:,0:num_obs], data=qoi_ref[0:num_obs] + np.random.randn(num_obs)*sd, sd=sd)\n",
    "        r_sing = ratio_dci_sing(newqoi)\n",
    "        return r_sing\n",
    "\n",
    "    experiments_sing, solutions_sing = experiment_measurements_index(num_measurements=measurements,\n",
    "                                         sd=sigma,\n",
    "                                         num_trials=num_trials,\n",
    "                                         seed=21,\n",
    "                                         fun=mud_wrapper)\n",
    "    # VECTOR\n",
    "    def mud_wrapper(num_obs, sd):\n",
    "        qois = split_qoi_by_indices(qoi_indices, qoi_ref, qoi,\n",
    "                                    noise=np.random.randn(num_obs)*sd, sigma=sd, max_index=num_obs)\n",
    "        r_mult = ratio_dci_mult(qois)\n",
    "        return r_mult\n",
    "    \n",
    "    experiments_mult, solutions_mult = experiment_measurements_index(num_measurements=measurements,\n",
    "                                         sd=sigma,\n",
    "                                         num_trials=num_trials,\n",
    "                                         seed=21,\n",
    "                                         fun=mud_wrapper)\n",
    "    \n",
    "    del mud_wrapper"
   ]
  },
  {
   "cell_type": "markdown",
   "metadata": {},
   "source": [
    "---"
   ]
  },
  {
   "cell_type": "markdown",
   "metadata": {},
   "source": [
    "# The Story in Prediction Space"
   ]
  },
  {
   "cell_type": "code",
   "execution_count": null,
   "metadata": {},
   "outputs": [],
   "source": [
    "if num_qoi == 1:\n",
    "    solutions = solutions_sing\n",
    "else:\n",
    "    solutions = solutions_mult"
   ]
  },
  {
   "cell_type": "code",
   "execution_count": null,
   "metadata": {},
   "outputs": [],
   "source": [
    "# if we have files available to load, do so\n",
    "if model_list is not None:\n",
    "    np.random.seed(21)\n",
    "    num_draws = 3\n",
    "    for idx in range(num_draws):\n",
    "        i = np.random.randint(0,len(model_list))\n",
    "        mudU = fin.Function(V, model_list[i][i]['u'])\n",
    "        plt.subplot(int(f'{num_draws}{3}{1+3*idx}'))\n",
    "        fin.plot(mudU, vmin=-0.5, vmax=0)\n",
    "        plt.xticks([])\n",
    "        plt.yticks([])\n",
    "        plt.title(f\"Rand#{idx}: {i}\")\n",
    "    # plt.show()\n",
    "\n",
    "    num_plot_sensors = max(measurements)\n",
    "    for idx in range(num_draws):\n",
    "    #     _r = np.random.randint(0, num_trials)\n",
    "        _r = idx\n",
    "        i = solutions[num_plot_sensors][_r]\n",
    "        mudU = fin.Function(V, model_list[i][i]['u'])\n",
    "        plt.subplot(int(f'{num_draws}{3}{2+3*idx}'))\n",
    "        fin.plot(mudU, vmin=-0.5, vmax=0)\n",
    "        plt.xticks([])\n",
    "        plt.yticks([])\n",
    "        plt.title(f\"MUD#{idx}: {i}\")\n",
    "\n",
    "        q = qoi[i,:]\n",
    "        plt.subplot(int(f'{num_draws}{3}{3+3*idx}'))\n",
    "        plt.scatter(qoi_ref + noise, q, c='b', s=50, alpha=0.05)\n",
    "        plt.plot(_a,_a, c='k', lw=3)\n",
    "    #     plt.xlabel('True QoI (Noiseless)')\n",
    "    #     plt.ylabel('Predicted Signal')\n",
    "        plt.xticks([])\n",
    "        plt.yticks([])\n",
    "        plt.xlim(-0.5, 0.2)\n",
    "        plt.ylim(-0.5, 0.2)\n",
    "        plt.title(f\"MUD#{idx}: {i}\")\n",
    "\n",
    "    plt.show()\n",
    "\n",
    "    # p = poisson(3.0)\n",
    "    # fin.plot(p, mesh=mesh, vmin=-0.5, vmax=0)\n",
    "    # plt.title(\"True (Noiseless) Repsonse Surface\")\n",
    "    # plt.show()"
   ]
  },
  {
   "cell_type": "markdown",
   "metadata": {},
   "source": [
    "# The Story in Parameter Space"
   ]
  },
  {
   "cell_type": "code",
   "execution_count": null,
   "metadata": {},
   "outputs": [],
   "source": [
    "gt = list(lam[closest_fit_index_out, :])\n",
    "plt.figure(figsize=(10,10))\n",
    "\n",
    "# fin.plot(u_plot, mesh=mesh, lw=5, c='k', label=\"$g$\")\n",
    "plt.plot([0]+intervals+[1], [0]+gt+[0], lw=5, c='green', alpha=0.6, ls='--', label='$\\hat{g}$', zorder=5)\n",
    "\n",
    "# plt.scatter(intervals, lam_ref, marker='^', s=200, c='purple', zorder=10)\n",
    "# plt.plot([0]+intervals+[1], [0]+projected_line+[0], lw=5, c='green', alpha=1, label=\"$Proj_{g}$\")\n",
    "\n",
    "\n",
    "for i in range(100):\n",
    "    _lam= lam[i,:]\n",
    "    plt.plot([0]+intervals+[1], [0]+list(_lam)+[0], lw=1, c='purple', alpha=0.2)\n",
    "plt.title('Samples from Initial Density', fontsize=1.25*fsize)\n",
    "plt.xlabel(\"$x_2$\", fontsize=fsize)\n",
    "plt.ylabel(\"$g(x, \\lambda)$\", fontsize=fsize)\n",
    "\n",
    "\n",
    "\n",
    "\n",
    "# plt.axvline(2/7, alpha=0.4, ls=':')\n",
    "# plt.axhline(-lam_true, alpha=0.4, ls=':')\n",
    "plt.ylim(-4,0)\n",
    "plt.xlim(0,1)\n",
    "plt.legend()\n",
    "\n",
    "_fname = f\"{prefix}_in_{input_dim}D.{ftype}\"\n",
    "plt.savefig(_fname, bbox_inches='tight')\n",
    "plt.show()"
   ]
  },
  {
   "cell_type": "code",
   "execution_count": null,
   "metadata": {},
   "outputs": [],
   "source": [
    "for num_plot_sensors in [20, 100]:\n",
    "    plt.figure(figsize=(10,10))\n",
    "    \n",
    "    plt.subplot(111)\n",
    "    plt.title('MUD Estimates for $Q_{1D}$,' + f' N={num_plot_sensors}', fontsize=1.25*fsize)\n",
    "    plt.xlabel(\"$x_2$\", fontsize=fsize)\n",
    "    plt.ylabel(\"$g(x, \\lambda)$\", fontsize=fsize)\n",
    "    for i in solutions_sing[num_plot_sensors]: # trials\n",
    "        _lam = lam[i,:]\n",
    "        plt.plot([0]+intervals+[1], [0]+list(_lam)+[0], lw=1, c='purple', alpha=0.2)\n",
    "#     fin.plot(u_plot, mesh=mesh, lw=5, c='k', label=\"$g$\")\n",
    "    plt.plot([0]+intervals+[1], [0]+gt+[0], lw=5, c='green', alpha=0.6, ls='--', label='$\\hat{g}$')\n",
    "\n",
    "    plt.ylim(-4, 0)\n",
    "    plt.xlim(0, 1)\n",
    "    plt.legend(loc='lower left')\n",
    "#     plt.subplot(122)\n",
    "#     plt.title('Q-Q Plot', fontsize=1.25*fsize)\n",
    "#     for i in solutions_sing[num_plot_sensors]: # trials\n",
    "#         q = qoi[i,:]\n",
    "#         plt.scatter(q[:num_plot_sensors], qoi_ref[:num_plot_sensors] + noise[:num_plot_sensors],\n",
    "#                     c='b', s=100, alpha=1.0/num_trials)\n",
    "#         plt.plot(_a,_a, c='k', lw=3)\n",
    "#         plt.ylabel('Collected Data', fontsize=fsize)\n",
    "#         plt.xlabel('Predicted Data', fontsize=fsize)\n",
    "#         plt.ylim(-0.5, 0.15)\n",
    "#         plt.xlim(-0.5, 0.15)\n",
    "#         plt.title(f'Solution {_r}, Index {_s}')\n",
    "    _fname = f\"{prefix}_mud_{input_dim}-1_N{num_plot_sensors}.{ftype}\"\n",
    "    plt.savefig(_fname, bbox_inches='tight')\n",
    "    plt.show()"
   ]
  },
  {
   "cell_type": "code",
   "execution_count": null,
   "metadata": {},
   "outputs": [],
   "source": [
    "for num_plot_sensors in [20, 100]:\n",
    "    plt.figure(figsize=(10,10))\n",
    "    \n",
    "    plt.subplot(111)\n",
    "    plt.title('MUD Estimates for $Q_{2D}$,' + f' N={num_plot_sensors}', fontsize=1.25*fsize)\n",
    "    plt.xlabel(\"$x_1$\", fontsize=fsize)\n",
    "    plt.ylabel(\"$g(x, \\lambda)$\", fontsize=fsize)\n",
    "#     plt.plot([0]+intervals+[1], [0]+ [w(i) for i in intervals] +[0], lw=5, c='k',label=\"Interpolant\")\n",
    "    for i in solutions_mult[num_plot_sensors]: # trials\n",
    "        _lam = lam[i,:]\n",
    "        plt.plot([0]+intervals+[1], [0]+list(_lam)+[0], lw=1, c='purple', alpha=0.2)\n",
    "#     fin.plot(u_plot, mesh=mesh, lw=5, c='k', label=\"$g$\")\n",
    "    gt = list(lam[closest_fit_index_out, :])\n",
    "    plt.plot([0]+intervals+[1], [0]+gt+[0], lw=5, c='green', alpha=0.6, ls='--', label='$\\hat{g}$')\n",
    "    plt.ylim(-4, 0)\n",
    "    plt.xlim(0, 1)\n",
    "    plt.legend(loc='lower left')\n",
    "#     plt.subplot(122)\n",
    "#     plt.title('Q-Q Plot', fontsize=1.25*fsize)\n",
    "#     for i in solutions_mult[num_plot_sensors]: # trials\n",
    "#         q = qoi[i,:]\n",
    "#         plt.scatter(q[:num_plot_sensors], qoi_ref[:num_plot_sensors] + noise[:num_plot_sensors],\n",
    "#                     c='b', s=100, alpha=1.0/num_trials)\n",
    "#         plt.plot(_a,_a, c='k', lw=3)\n",
    "#         plt.ylabel('Collected Data', fontsize=fsize)\n",
    "#         plt.xlabel('Predicted Data', fontsize=fsize)\n",
    "#         plt.ylim(-0.5, 0.15)\n",
    "#         plt.xlim(-0.5, 0.15)\n",
    "#     plt.title(f'Solution {_r}, Index {_s}')\n",
    "    _fname = f\"{prefix}_mud_{input_dim}-{num_qoi}_N{num_plot_sensors}.{ftype}\"\n",
    "    plt.savefig(_fname, bbox_inches='tight')\n",
    "    plt.show()"
   ]
  },
  {
   "cell_type": "code",
   "execution_count": null,
   "metadata": {},
   "outputs": [],
   "source": [
    "if not load:\n",
    "    print(\"Saving\")\n",
    "    fname = f'{prefix}_summary_{input_dim}.pkl'\n",
    "    pickle.dump({'sets': (lam, qoi), 'sols': (solutions_sing, solutions_mult), 'meas': measurements, 'noise': (noise, tolerance), 'stdv': sigma, 'true': (lam_ref, qoi_ref), 'sens': sensors }, open(fname, 'wb'))"
   ]
  },
  {
   "cell_type": "markdown",
   "metadata": {},
   "source": [
    "## Bad QoI - split in vertical\n",
    "## (TODO generalize plotting code)"
   ]
  },
  {
   "cell_type": "code",
   "execution_count": null,
   "metadata": {},
   "outputs": [],
   "source": [
    "# VECTOR\n",
    "def mud_wrapper(num_obs, sd):\n",
    "    qois = split_qoi_by_indices(qoi_indices_bad, qoi_ref, qoi,\n",
    "                                noise=np.random.randn(num_obs)*sd, sigma=sd, max_index=num_obs)\n",
    "    r_mult = ratio_dci_mult(qois)\n",
    "    return r_mult\n",
    "\n",
    "experiments_mult_bad, solutions_mult_bad = experiment_measurements_index(num_measurements=measurements,\n",
    "                                     sd=sigma,\n",
    "                                     num_trials=num_trials,\n",
    "                                     seed=21,\n",
    "                                     fun=mud_wrapper)"
   ]
  },
  {
   "cell_type": "code",
   "execution_count": null,
   "metadata": {},
   "outputs": [],
   "source": [
    "for num_plot_sensors in [20, 100]:\n",
    "    plt.figure(figsize=(10,10))\n",
    "    \n",
    "    plt.subplot(111)\n",
    "    plt.title('MUD Estimates for $Q_{2D}^\\prime$,' + f' S={num_plot_sensors}', fontsize=1.25*fsize)\n",
    "    plt.xlabel(\"$x_1$\", fontsize=fsize)\n",
    "    plt.ylabel(\"$g(x, \\lambda)$\", fontsize=fsize)\n",
    "    plt.plot([0]+intervals+[1], [0]+ [w(i) for i in intervals] +[0], lw=5, c='k',label=\"Interpolant\")\n",
    "    for i in solutions_mult_bad[num_plot_sensors]: # trials\n",
    "        gt = lam[i,:]\n",
    "        plt.plot([0]+intervals+[1], [0]+list(gt)+[0], lw=1, c='purple', alpha=0.2)\n",
    "    gt = list(lam[closest_fit_index_out, :])\n",
    "    plt.plot([0]+intervals+[1], [0]+gt+[0], lw=5, c='green', alpha=0.6, ls='--', label=f'Closest in Output: {closest_fit_index_out}')\n",
    "    plt.ylim(-4, 0)\n",
    "    plt.xlim(0, 1)\n",
    "    plt.legend(loc='lower left')\n",
    "#     plt.subplot(122)\n",
    "#     plt.title('Q-Q Plot', fontsize=1.25*fsize)\n",
    "#     for i in solutions_mult[num_plot_sensors]: # trials\n",
    "#         q = qoi[i,:]\n",
    "#         plt.scatter(q[:num_plot_sensors], qoi_ref[:num_plot_sensors] + noise[:num_plot_sensors],\n",
    "#                     c='b', s=100, alpha=1.0/num_trials)\n",
    "#         plt.plot(_a,_a, c='k', lw=3)\n",
    "#         plt.ylabel('Collected Data', fontsize=fsize)\n",
    "#         plt.xlabel('Predicted Data', fontsize=fsize)\n",
    "#         plt.ylim(-0.5, 0.15)\n",
    "#         plt.xlim(-0.5, 0.15)\n",
    "#     plt.title(f'Solution {_r}, Index {_s}')\n",
    "    _fname = f\"{prefix}_mud-alt_{input_dim}-{num_qoi}_N{num_plot_sensors}.{ftype}\"\n",
    "#     plt.savefig(_fname, bbox_inches='tight')\n",
    "    plt.show()"
   ]
  },
  {
   "cell_type": "markdown",
   "metadata": {},
   "source": [
    "---"
   ]
  }
 ],
 "metadata": {
  "kernelspec": {
   "display_name": "Python 3",
   "language": "python",
   "name": "python3"
  },
  "language_info": {
   "codemirror_mode": {
    "name": "ipython",
    "version": 3
   },
   "file_extension": ".py",
   "mimetype": "text/x-python",
   "name": "python",
   "nbconvert_exporter": "python",
   "pygments_lexer": "ipython3",
   "version": "3.8.6"
  },
  "latex_envs": {
   "LaTeX_envs_menu_present": true,
   "autoclose": false,
   "autocomplete": true,
   "bibliofile": "biblio.bib",
   "cite_by": "apalike",
   "current_citInitial": 1,
   "eqLabelWithNumbers": true,
   "eqNumInitial": 1,
   "hotkeys": {
    "equation": "Ctrl-E",
    "itemize": "Ctrl-I"
   },
   "labels_anchors": false,
   "latex_user_defs": false,
   "report_style_numbering": false,
   "user_envs_cfg": false
  },
  "toc": {
   "base_numbering": 1,
   "nav_menu": {},
   "number_sections": true,
   "sideBar": true,
   "skip_h1_title": false,
   "title_cell": "Table of Contents",
   "title_sidebar": "Contents",
   "toc_cell": false,
   "toc_position": {},
   "toc_section_display": true,
   "toc_window_display": false
  },
  "varInspector": {
   "cols": {
    "lenName": 16,
    "lenType": 16,
    "lenVar": 40
   },
   "kernels_config": {
    "python": {
     "delete_cmd_postfix": "",
     "delete_cmd_prefix": "del ",
     "library": "var_list.py",
     "varRefreshCmd": "print(var_dic_list())"
    },
    "r": {
     "delete_cmd_postfix": ") ",
     "delete_cmd_prefix": "rm(",
     "library": "var_list.r",
     "varRefreshCmd": "cat(var_dic_list()) "
    }
   },
   "types_to_exclude": [
    "module",
    "function",
    "builtin_function_or_method",
    "instance",
    "_Feature"
   ],
   "window_display": false
  }
 },
 "nbformat": 4,
 "nbformat_minor": 4
}
